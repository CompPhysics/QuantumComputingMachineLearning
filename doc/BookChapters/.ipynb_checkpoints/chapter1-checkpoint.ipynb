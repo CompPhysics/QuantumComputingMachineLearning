{
 "cells": [
  {
   "cell_type": "markdown",
   "id": "bfdf5555",
   "metadata": {},
   "source": [
    "<!-- HTML file automatically generated from DocOnce source (https://github.com/doconce/doconce/)\n",
    "doconce format html chapter1.do.txt  -->"
   ]
  },
  {
   "cell_type": "markdown",
   "id": "4d75c620",
   "metadata": {},
   "source": [
    "# Basic Notions of Quantum Mechanics\n",
    "\n",
    "**Basics in Linear Algebra, The Hilbert Space, Operators on Hilbert Spaces, States and qubits.**\n",
    "\n",
    "1. Mathematical notation, Hilbert spaces and operators\n",
    "\n",
    "2. Description of Quantum Systems and one-qubit systems \n",
    "\n",
    "3. States in Hilbert Space, pure and mixed states\n",
    "\n",
    "4. Operators and gates\n",
    "\n",
    "[Video of lecture](https://youtu.be/ktZSFYIoNVM)"
   ]
  },
  {
   "cell_type": "markdown",
   "id": "5fa7c52a",
   "metadata": {},
   "source": [
    "## Defining basis states and quantum mechanical operators\n",
    "\n",
    "We start by defining a state vector $\\boldsymbol{x}$ (meant to represent\n",
    "various quantum mechanical degrees of freedom) with $n$ components as"
   ]
  },
  {
   "cell_type": "markdown",
   "id": "8790f5c6",
   "metadata": {},
   "source": [
    "$$\n",
    "\\boldsymbol{x} = \\begin{bmatrix} x_0\\\\ x_1 \\\\ x_2 \\\\ \\dots \\\\ \\dots \\\\ x_{n-1} \\end{bmatrix}.\n",
    "$$"
   ]
  },
  {
   "cell_type": "markdown",
   "id": "cac16348",
   "metadata": {},
   "source": [
    "Throughout these notes we will use the so-called Dirac **bra-ket**\n",
    "formalism and we will replace the above standard boldfaced notation\n",
    "for a vector with"
   ]
  },
  {
   "cell_type": "markdown",
   "id": "05cbbdcd",
   "metadata": {},
   "source": [
    "$$\n",
    "\\boldsymbol{x} = \\vert x \\rangle = \\begin{bmatrix} x_0\\\\ x_1 \\\\ x_2 \\\\ \\dots \\\\ \\dots \\\\ x_{n-1} \\end{bmatrix},\n",
    "$$"
   ]
  },
  {
   "cell_type": "markdown",
   "id": "b72a9408",
   "metadata": {},
   "source": [
    "and"
   ]
  },
  {
   "cell_type": "markdown",
   "id": "f8103e27",
   "metadata": {},
   "source": [
    "$$\n",
    "\\boldsymbol{x}^{\\dagger} = \\langle x \\vert = \\begin{bmatrix} x_0^* & x_1^* & x_2^* & \\dots & \\dots & x_{n-1}^* \\end{bmatrix},\n",
    "$$"
   ]
  },
  {
   "cell_type": "markdown",
   "id": "7d24f2bb",
   "metadata": {},
   "source": [
    "With a given vector $\\vert x \\rangle$, we define the inner product as"
   ]
  },
  {
   "cell_type": "markdown",
   "id": "58cddaad",
   "metadata": {},
   "source": [
    "$$\n",
    "\\langle x \\vert x\\rangle = \\sum_{i=0}^{n-1} x_i^*x_i=x_0^2+x_1^2+\\dots + x_{n-1}^2.\n",
    "$$"
   ]
  },
  {
   "cell_type": "markdown",
   "id": "56aee4d9",
   "metadata": {},
   "source": [
    "For two arbitrary vectors $\\vert x\\rangle$ and $\\vert y\\rangle$ with the same lentgh, we have the\n",
    "general expression"
   ]
  },
  {
   "cell_type": "markdown",
   "id": "faf96a89",
   "metadata": {},
   "source": [
    "$$\n",
    "\\langle y \\vert x\\rangle = \\sum_{i=0}^{n-1} y_i^*x_i=y_0^*x_0+y_1^*x_1+\\dots + y_{n-1}^*x_{n-1}.\n",
    "$$"
   ]
  },
  {
   "cell_type": "markdown",
   "id": "fa8985b8",
   "metadata": {},
   "source": [
    "Note well that the inner product $\\langle x \\vert x\\rangle$ is always a real number while for a two different vectors $\\langle y \\vert x\\rangle$ is in general not equal to\n",
    "$\\langle x \\vert y\\rangle$, as can be seen from the following example\n",
    "\n",
    "We note in bypassing that $\\vert x\\rangle^{\\dagger}=\\langle x \\vert$,\n",
    "$\\langle x\\vert^{\\dagger}=\\vert x\\rangle$ and $(\\vert\n",
    "x\\rangle^{\\dagger})^{\\dagger}=\\vert x \\rangle$."
   ]
  },
  {
   "cell_type": "markdown",
   "id": "b3f8dea0",
   "metadata": {},
   "source": [
    "### Examples\n",
    "\n",
    "Let us assume that $\\vert x \\rangle$ is given by"
   ]
  },
  {
   "cell_type": "markdown",
   "id": "987d6cf0",
   "metadata": {},
   "source": [
    "$$\n",
    "\\vert x \\rangle = \\begin{bmatrix} 1-\\imath \\\\ 2+\\imath \\end{bmatrix}.\n",
    "$$"
   ]
  },
  {
   "cell_type": "markdown",
   "id": "79cdd3ea",
   "metadata": {},
   "source": [
    "The inner product gives us"
   ]
  },
  {
   "cell_type": "markdown",
   "id": "d91922df",
   "metadata": {},
   "source": [
    "$$\n",
    "\\langle x\\vert x \\rangle = (1+\\imath)(1-\\imath)+(2-\\imath)(2+\\imath)=7,\n",
    "$$"
   ]
  },
  {
   "cell_type": "markdown",
   "id": "da4869b1",
   "metadata": {},
   "source": [
    "a real number.\n",
    "We can use the norm/inner product to normalize the vector $\\vert x \\rangle$ and obtain"
   ]
  },
  {
   "cell_type": "markdown",
   "id": "47507426",
   "metadata": {},
   "source": [
    "$$\n",
    "\\vert x \\rangle = \\frac{1}{\\sqrt{7}}\\begin{bmatrix} 1-\\imath \\\\ 2+\\imath \\end{bmatrix}.\n",
    "$$"
   ]
  },
  {
   "cell_type": "markdown",
   "id": "eebd544a",
   "metadata": {},
   "source": [
    "As another example, consider the two vectors"
   ]
  },
  {
   "cell_type": "markdown",
   "id": "d62c486e",
   "metadata": {},
   "source": [
    "$$\n",
    "\\vert x \\rangle = \\begin{bmatrix} -1 \\\\ 2\\imath \\\\ 1\\end{bmatrix},\n",
    "$$"
   ]
  },
  {
   "cell_type": "markdown",
   "id": "76bebdb5",
   "metadata": {},
   "source": [
    "and"
   ]
  },
  {
   "cell_type": "markdown",
   "id": "4861f5d3",
   "metadata": {},
   "source": [
    "$$\n",
    "\\vert y \\rangle = \\begin{bmatrix} 1 \\\\ 0\\imath \\\\ \\imath\\end{bmatrix}.\n",
    "$$"
   ]
  },
  {
   "cell_type": "markdown",
   "id": "e9304e43",
   "metadata": {},
   "source": [
    "We see that the inner products $\\langle x\\vert y \\rangle = -1+\\imath$, which is not the same as\n",
    "$\\langle y\\vert x \\rangle = -1-\\imath$. This leads to the important rule"
   ]
  },
  {
   "cell_type": "markdown",
   "id": "51ec375e",
   "metadata": {},
   "source": [
    "$$\n",
    "\\langle x\\vert y\\rangle^* = \\langle y \\vert x\\rangle.\n",
    "$$"
   ]
  },
  {
   "cell_type": "markdown",
   "id": "75114f80",
   "metadata": {},
   "source": [
    "## Outer products\n",
    "\n",
    "In addition to inner products between vectors/states, the outer\n",
    "product plays a central role in all of quantum mechanics. It is\n",
    "defined as"
   ]
  },
  {
   "cell_type": "markdown",
   "id": "2ed72b4d",
   "metadata": {},
   "source": [
    "$$\n",
    "\\vert x\\rangle \\langle y \\vert = \\begin{bmatrix}\n",
    "               x_0y_0^* & x_0y_1^* & x_0y_2^* & \\dots & \\dots & x_0y_{n-2}^* & x_0y_{n-1}^* \\\\\n",
    "\t       x_1y_0^* & x_1y_1^* & x_1y_2^* & \\dots & \\dots & x_1y_{n-2}^* & x_1y_{n-1}^* \\\\\n",
    "\t       x_2y_0^* & x_2y_1^* & x_2y_2^* & \\dots & \\dots & x_2y_{n-2}^* & x_2y_{n-1}^* \\\\\t       \n",
    "               \\dots &   \\dots   & \\dots  & \\dots & \\dots & \\dots & \\dots \\\\\n",
    "               \\dots &   \\dots   & \\dots  & \\dots & \\dots & \\dots & \\dots \\\\\t       \n",
    "\t       x_{n-2}y_0^* & x_{n-2}y_1^* & x_{n-2}y_2^* & \\dots & \\dots & x_{n-2}y_{n-2}^* & x_{n-2}y_{n-1}^* \\\\\n",
    "\t       x_{n-1}y_0^* & x_{n-1}y_1^* & x_{n-1}y_2^* & \\dots & \\dots & x_{n-1}y_{n-2}^* & x_{n-1}y_{n-1}^* \\end{bmatrix}\n",
    "$$"
   ]
  },
  {
   "cell_type": "markdown",
   "id": "89f46f82",
   "metadata": {},
   "source": [
    "## Different operators and gates\n",
    "\n",
    "In quantum computing, the so-called Pauli matrices, and other simple\n",
    "$2\\times 2$ matrices, play an important role, ranging from the setup\n",
    "of quantum gates to a rewrite of creation and annihilation operators\n",
    "and other quantum mechanical operators. Let us start with the familiar\n",
    "Pauli matrices and remind ourselves of some of their basic properties.\n",
    "\n",
    "The Pauli matrices are defined as"
   ]
  },
  {
   "cell_type": "markdown",
   "id": "874ec648",
   "metadata": {},
   "source": [
    "$$\n",
    "\\sigma_x = \\begin{bmatrix} 0 & 1 \\\\ 1 & 0 \\end{bmatrix},\n",
    "$$"
   ]
  },
  {
   "cell_type": "markdown",
   "id": "469cd9ad",
   "metadata": {},
   "source": [
    "$$\n",
    "\\sigma_y = \\begin{bmatrix} 0 & -\\imath \\\\ \\imath & 0 \\end{bmatrix},\n",
    "$$"
   ]
  },
  {
   "cell_type": "markdown",
   "id": "18d8a761",
   "metadata": {},
   "source": [
    "and"
   ]
  },
  {
   "cell_type": "markdown",
   "id": "c16ae1e3",
   "metadata": {},
   "source": [
    "$$\n",
    "\\sigma_z = \\begin{bmatrix} 1 & 0 \\\\ 0 & -1 \\end{bmatrix}.\n",
    "$$"
   ]
  },
  {
   "cell_type": "markdown",
   "id": "f2612c06",
   "metadata": {},
   "source": [
    "It is easy to show that the matrices obey the properties (being involutory)"
   ]
  },
  {
   "cell_type": "markdown",
   "id": "70313bad",
   "metadata": {},
   "source": [
    "$$\n",
    "\\sigma_x\\sigma_x = \\sigma_y\\sigma_y=\\sigma_z\\sigma_z = I=\\begin{bmatrix} 1 & 0 \\\\ 0 & 1\\end{bmatrix},\n",
    "$$"
   ]
  },
  {
   "cell_type": "markdown",
   "id": "52b4e223",
   "metadata": {},
   "source": [
    "that is their products with themselves result in the identity matrix\n",
    "$\\boldsymbol{I}$.  Furthermore, the Pauli matrices are unitary matrices\n",
    "meaning that their inverses are equal to their hermitian conjugated\n",
    "matrices. The determinants of the Pauli matrices are all equal to $-1$,\n",
    "as can be easily verified.\n",
    "\n",
    "The Pauli matrices obey also the following commutation rules"
   ]
  },
  {
   "cell_type": "markdown",
   "id": "a05573a0",
   "metadata": {},
   "source": [
    "$$\n",
    "\\left[\\sigma_x,\\sigma_y\\right] = 2\\imath \\sigma_z.\n",
    "$$"
   ]
  },
  {
   "cell_type": "markdown",
   "id": "f18a9d9f",
   "metadata": {},
   "source": [
    "Before we proceed with other matrices and how they can be used to\n",
    "operate on various quantum mechanical states, let us try to define\n",
    "various basis sets and their pertinent notations. We will often refer\n",
    "to these basis states as our computational basis."
   ]
  },
  {
   "cell_type": "markdown",
   "id": "560d6a60",
   "metadata": {},
   "source": [
    "## Definition of Computational basis states\n",
    "\n",
    "<!-- to do: make figures with examples of basis states, hydrogen like systems, harmonic oscillator -->\n",
    "Assume we have a two-level system where the two states are represented\n",
    "by the state vectors $\\vert \\phi_0\\rangle$ and $\\vert \\phi_1\\rangle$,\n",
    "respectively. These states could represent selected or effective\n",
    "degrees of freedom for either a single particle (fermion or boson) or\n",
    "they could represent effective many-body degrees of freedon. In actual\n",
    "realizations of quantum computing we search often for candidate\n",
    "systems where we can use some low-lying states as computational basis\n",
    "states. But we are not limited to quantum computing. When doing\n",
    "many-body physics, due to the exploding degrees of freedom, we\n",
    "normally search after effective ways by which we can reduce the\n",
    "involved dimensionalities to a number of degrees of freedom we can\n",
    "handle by a given many-body method."
   ]
  },
  {
   "cell_type": "markdown",
   "id": "0b709e27",
   "metadata": {},
   "source": [
    "### Examples: Hydrogen like states and the harmonic oscillator in one, two and three dimensions\n",
    "\n",
    "We will now relabel the above two states as two orthogonal and normalized basis (ONB) states"
   ]
  },
  {
   "cell_type": "markdown",
   "id": "b08c0edc",
   "metadata": {},
   "source": [
    "$$\n",
    "\\vert \\phi_0 \\rangle = \\vert 0 \\rangle = \\begin{bmatrix} 1 \\\\ 0 \\end{bmatrix},\n",
    "$$"
   ]
  },
  {
   "cell_type": "markdown",
   "id": "d8178cfd",
   "metadata": {},
   "source": [
    "and"
   ]
  },
  {
   "cell_type": "markdown",
   "id": "37ae9d2f",
   "metadata": {},
   "source": [
    "$$\n",
    "\\vert \\phi_1 \\rangle = \\vert 1 \\rangle = \\begin{bmatrix} 0 \\\\ 1 \\end{bmatrix}.\n",
    "$$"
   ]
  },
  {
   "cell_type": "markdown",
   "id": "e18e9082",
   "metadata": {},
   "source": [
    "It is straight forward to see that $\\langle 1 \\vert 0\\rangle=0$. With these two states we can define the define the identity operator $\\boldsymbol{I}$ as the sum of the outer products of these two states, namely"
   ]
  },
  {
   "cell_type": "markdown",
   "id": "af9b4943",
   "metadata": {},
   "source": [
    "$$\n",
    "\\boldsymbol{I} = \\sum_{i=0}^{i=1}\\vert i\\rangle \\langle i\\vert = \\begin{bmatrix} 1 & 0 \\\\ 0 & 0 \\end{bmatrix} +\\begin{bmatrix} 0 & 0 \\\\ 0 & 1 \\end{bmatrix}=\\begin{bmatrix} 1 & 0 \\\\ 0 & 1 \\end{bmatrix}.\n",
    "$$"
   ]
  },
  {
   "cell_type": "markdown",
   "id": "4b989d00",
   "metadata": {},
   "source": [
    "We can further define the projection operators"
   ]
  },
  {
   "cell_type": "markdown",
   "id": "2b80ac5e",
   "metadata": {},
   "source": [
    "$$\n",
    "\\boldsymbol{P} = \\vert 0\\rangle \\langle 0\\vert = \\begin{bmatrix} 1 & 0 \\\\ 0 & 0 \\end{bmatrix},\n",
    "$$"
   ]
  },
  {
   "cell_type": "markdown",
   "id": "4d4f7a4f",
   "metadata": {},
   "source": [
    "and"
   ]
  },
  {
   "cell_type": "markdown",
   "id": "56d87479",
   "metadata": {},
   "source": [
    "$$\n",
    "\\boldsymbol{Q} = \\vert 1\\rangle \\langle 1\\vert = \\begin{bmatrix} 0 & 0 \\\\ 0 & 1 \\end{bmatrix}.\n",
    "$$"
   ]
  },
  {
   "cell_type": "markdown",
   "id": "05bc4c45",
   "metadata": {},
   "source": [
    "We note that $P^2=P$, $Q^2=Q$ (the operators are idempotent) and that\n",
    "their determinants are zero, meaning in turn that we cannot use these\n",
    "operators for unitary/orthogonal transformations. However, they play\n",
    "important roles in defining effective Hilbert spaces for many-body\n",
    "studies. Finally, before proceeding we note also that the two matrices\n",
    "commute and we have $\\boldsymbol{P}\\boldsymbol{Q}=0$ and $\\left[ \\boldsymbol{P},\\boldsymbol{Q}\\right]=0$."
   ]
  },
  {
   "cell_type": "markdown",
   "id": "6b068665",
   "metadata": {},
   "source": [
    "### Superposition and more\n",
    "\n",
    "Using the properties of ONBs we can expand a new state in terms of the\n",
    "above states. These states could also form  a basis which is an\n",
    "eigenbasis of a selected Hamiltonian (more of this below).\n",
    "\n",
    "We define now a new state which is a linear expansion in terms of\n",
    "these computational basis states"
   ]
  },
  {
   "cell_type": "markdown",
   "id": "7b06d288",
   "metadata": {},
   "source": [
    "$$\n",
    "\\vert \\psi \\rangle = \\alpha \\vert 0 \\rangle + \\beta\\vert 1 \\rangle,\n",
    "$$"
   ]
  },
  {
   "cell_type": "markdown",
   "id": "374df2a4",
   "metadata": {},
   "source": [
    "where the coefficients $\\alpha = \\langle 0 \\vert \\psi \\rangle$ and\n",
    "$\\beta =\\langle 1 \\vert \\psi\\rangle$ reresent the overlaps between the\n",
    "computational basis states and the state $\\vert \\psi\\rangle$. In quantum speech, we say the state is in a superposition of the states $\\vert 0\\rangle$ and $\\vert 1\\rangle$.\n",
    "\n",
    "Computing the inner product of $\\vert \\psi \\rangle$ we obtain"
   ]
  },
  {
   "cell_type": "markdown",
   "id": "7ab8a9cd",
   "metadata": {},
   "source": [
    "$$\n",
    "\\langle \\psi \\vert \\psi \\rangle = \\vert \\alpha \\vert ^2\\langle 0\\vert 0\\rangle + \\vert \\beta \\vert ^2\\langle 1\\vert 1\\rangle = \\vert \\alpha \\vert ^2 + \\vert \\beta \\vert ^2 = 1,\n",
    "$$"
   ]
  },
  {
   "cell_type": "markdown",
   "id": "36b81330",
   "metadata": {},
   "source": [
    "since the new basis, which is defined in terms of a a unitary/orthogonal\n",
    "transformation, preserves the orthogonality and norm of the original\n",
    "computational basis $\\vert 0\\rangle$ and $\\vert 1\\rangle$. To see\n",
    "this, consider the unitary transformation (show derivation of\n",
    "preserving orthogonality).\n",
    "\n",
    "If we now act with the projection operators $\\boldsymbol{P}$ and $\\boldsymbol{Q}$ on\n",
    "the state $\\vert \\psi\\rangle$ we get"
   ]
  },
  {
   "cell_type": "markdown",
   "id": "02348121",
   "metadata": {},
   "source": [
    "$$\n",
    "\\boldsymbol{P}\\vert \\psi \\rangle = \\vert 0 \\rangle\\langle 0\\vert (\\alpha \\vert 0 \\rangle + \\beta\\vert 1 \\rangle)=\\alpha \\vert 0\\rangle,\n",
    "$$"
   ]
  },
  {
   "cell_type": "markdown",
   "id": "c83a6644",
   "metadata": {},
   "source": [
    "that is we **project** out the $\\vert 0\\rangle$ component of the state\n",
    "$\\vert \\psi\\rangle$ with the coefficient $\\alpha$ while $\\boldsymbol{Q}$\n",
    "projects out the $\\vert 1\\rangle$ component with coefficient $\\beta$\n",
    "as seen from"
   ]
  },
  {
   "cell_type": "markdown",
   "id": "e09a6c9a",
   "metadata": {},
   "source": [
    "$$\n",
    "\\boldsymbol{Q}\\vert \\psi \\rangle = \\vert 1 \\rangle\\langle 1\\vert (\\alpha \\vert 0 \\rangle + \\beta\\vert 1 \\rangle)=\\beta \\vert 1\\rangle.\n",
    "$$"
   ]
  },
  {
   "cell_type": "markdown",
   "id": "556ad1d3",
   "metadata": {},
   "source": [
    "The above results can easily be derived by multiplying the pertinent\n",
    "matrices with the vectors $\\vert 0\\rangle$ and $\\vert 1\\rangle$,\n",
    "respectively.\n",
    "\n",
    "Using the above linear expansion we can now define the density matrix of the state $\\vert \\psi\\rangle$ as the outer product"
   ]
  },
  {
   "cell_type": "markdown",
   "id": "410dc4ff",
   "metadata": {},
   "source": [
    "$$\n",
    "\\boldsymbol{\\rho}=\\vert \\psi \\rangle\\langle \\psi \\vert = \\alpha\\alpha^* \\vert 0 \\rangle\\langle 0\\vert+\\alpha\\beta^* \\vert 0 \\rangle\\langle 1\\vert+\\beta\\alpha^* \\vert 1 \\rangle\\langle 0\\vert+\\beta\\beta^* \\vert 1 \\rangle\\langle 1\\vert=\\begin{bmatrix} \\alpha\\alpha^* & \\alpha\\beta^*\\\\ \\beta\\alpha^* & \\beta\\beta^*\\end{bmatrix}.\n",
    "$$"
   ]
  },
  {
   "cell_type": "markdown",
   "id": "171e4d37",
   "metadata": {},
   "source": [
    "Finally, we note that the trace of the density matrix is simply given by unity"
   ]
  },
  {
   "cell_type": "markdown",
   "id": "89bf8007",
   "metadata": {},
   "source": [
    "$$\n",
    "\\mathrm{tr}\\boldsymbol{\\rho}=\\alpha\\alpha^* +\\beta\\beta^*=1.\n",
    "$$"
   ]
  },
  {
   "cell_type": "markdown",
   "id": "7b9069f1",
   "metadata": {},
   "source": [
    "### Other important matrices\n",
    "\n",
    "We end with presenting other operators (as matrices) which play an important role in quantum computing, the so-called Hadamard matrix (or gate as we will use later)"
   ]
  },
  {
   "cell_type": "markdown",
   "id": "7c825fbc",
   "metadata": {},
   "source": [
    "$$\n",
    "\\boldsymbol{H}=\\frac{1}{\\sqrt{2}}\\begin{bmatrix} 1 & 1 \\\\ 1 & -1\\end{bmatrix}.\n",
    "$$"
   ]
  },
  {
   "cell_type": "markdown",
   "id": "0dfe2e23",
   "metadata": {},
   "source": [
    "The action of the operator $\\boldsymbol{H}$ on a computational basis state like $\\vert 0\\rangle$ gives"
   ]
  },
  {
   "cell_type": "markdown",
   "id": "b43ef74b",
   "metadata": {},
   "source": [
    "$$\n",
    "\\boldsymbol{H}\\vert 0 \\rangle = \\frac{1}{\\sqrt{2}}\\begin{bmatrix} 1 & 1 \\\\ 1 & -1\\end{bmatrix}\\begin{bmatrix} 1 \\\\ 0\\end{bmatrix}=\\frac{1}{\\sqrt{2}}(\\vert 0\\rangle + \\vert 1\\rangle),\n",
    "$$"
   ]
  },
  {
   "cell_type": "markdown",
   "id": "038d477d",
   "metadata": {},
   "source": [
    "and"
   ]
  },
  {
   "cell_type": "markdown",
   "id": "47a59d67",
   "metadata": {},
   "source": [
    "$$\n",
    "\\boldsymbol{H}\\vert 1 \\rangle = \\frac{1}{\\sqrt{2}}\\begin{bmatrix} 1 & 1 \\\\ 1 & -1\\end{bmatrix}\\begin{bmatrix} 0 \\\\ 1\\end{bmatrix}=\\frac{1}{\\sqrt{2}}(\\vert 0\\rangle - \\vert 1\\rangle),\n",
    "$$"
   ]
  },
  {
   "cell_type": "markdown",
   "id": "277ec412",
   "metadata": {},
   "source": [
    "that is we create a superposition of the states $\\vert 0\\rangle$ and $\\vert 1\\rangle$.\n",
    "\n",
    "Another famous operation is the phase matrix given by"
   ]
  },
  {
   "cell_type": "markdown",
   "id": "a4d62d9a",
   "metadata": {},
   "source": [
    "$$\n",
    "\\boldsymbol{S} = \\begin{bmatrix} 1 & 0 \\\\ 0 & \\imath\\end{bmatrix}.\n",
    "$$"
   ]
  },
  {
   "cell_type": "markdown",
   "id": "752706e3",
   "metadata": {},
   "source": [
    "### Eigenvalues and spectral decomposition"
   ]
  },
  {
   "cell_type": "markdown",
   "id": "7962cc50",
   "metadata": {},
   "source": [
    "## Tensor products\n",
    "\n",
    "Consider now two vectors with length $n=2$, with elements"
   ]
  },
  {
   "cell_type": "markdown",
   "id": "70ec13cb",
   "metadata": {},
   "source": [
    "$$\n",
    "\\vert x \\rangle = \\begin{bmatrix} x_0 \\\\ x_1 \\end{bmatrix},\n",
    "$$"
   ]
  },
  {
   "cell_type": "markdown",
   "id": "d565fbe8",
   "metadata": {},
   "source": [
    "and"
   ]
  },
  {
   "cell_type": "markdown",
   "id": "2061ab7c",
   "metadata": {},
   "source": [
    "$$\n",
    "\\vert y \\rangle = \\begin{bmatrix} y_0 \\\\ y_1 \\end{bmatrix}.\n",
    "$$"
   ]
  },
  {
   "cell_type": "markdown",
   "id": "418427a7",
   "metadata": {},
   "source": [
    "The tensor product of these two vectors is defined as"
   ]
  },
  {
   "cell_type": "markdown",
   "id": "3e8a320b",
   "metadata": {},
   "source": [
    "$$\n",
    "\\vert x \\rangle \\otimes \\vert y \\rangle = \\vert xy \\rangle  = \\begin{bmatrix} x_0y_0 \\\\ x_0y_1 \\\\ x_1y_0 \\\\ x_1y_1 \\end{bmatrix},\n",
    "$$"
   ]
  },
  {
   "cell_type": "markdown",
   "id": "f632c9e7",
   "metadata": {},
   "source": [
    "which is now a vector of length $4$.\n",
    "\n",
    "If we now go back to our original one-qubit basis states, we can form teh following tensor products"
   ]
  },
  {
   "cell_type": "markdown",
   "id": "434e696e",
   "metadata": {},
   "source": [
    "$$\n",
    "\\vert 0 \\rangle \\otimes \\vert 0 \\rangle = \\begin{bmatrix} 1 \\\\ 0\\end{bmatrix} \\otimes \\begin{bmatrix} 1 \\\\ 0\\end{bmatrix} =\\begin{bmatrix} 1 \\\\ 0 \\\\ 0 \\\\ 0 \\end{bmatrix}=\\vert 00 \\rangle,\n",
    "$$"
   ]
  },
  {
   "cell_type": "markdown",
   "id": "52f1c8d5",
   "metadata": {},
   "source": [
    "$$\n",
    "\\vert 0 \\rangle \\otimes \\vert 1 \\rangle = \\begin{bmatrix} 1 \\\\ 0\\end{bmatrix} \\otimes \\begin{bmatrix} 0 \\\\ 1\\end{bmatrix} =\\begin{bmatrix} 0 \\\\ 1 \\\\ 0 \\\\ 0 \\end{bmatrix}=\\vert 01 \\rangle,\n",
    "$$"
   ]
  },
  {
   "cell_type": "markdown",
   "id": "1742cd4d",
   "metadata": {},
   "source": [
    "$$\n",
    "\\vert 1 \\rangle \\otimes \\vert 0 \\rangle = \\begin{bmatrix} 0 \\\\ 1\\end{bmatrix} \\otimes \\begin{bmatrix} 1 \\\\ 0\\end{bmatrix} =\\begin{bmatrix} 0 \\\\ 0 \\\\ 1 \\\\ 0 \\end{bmatrix}=\\vert 10 \\rangle,\n",
    "$$"
   ]
  },
  {
   "cell_type": "markdown",
   "id": "f021f3e8",
   "metadata": {},
   "source": [
    "and finally"
   ]
  },
  {
   "cell_type": "markdown",
   "id": "e771a6e3",
   "metadata": {},
   "source": [
    "$$\n",
    "\\vert 1 \\rangle \\otimes \\vert 1 \\rangle = \\begin{bmatrix} 0 \\\\ 1\\end{bmatrix} \\otimes \\begin{bmatrix} 0 \\\\ 1\\end{bmatrix} =\\begin{bmatrix} 0 \\\\ 0 \\\\ 0 \\\\ 1 \\end{bmatrix}=\\vert 11 \\rangle.\n",
    "$$"
   ]
  },
  {
   "cell_type": "markdown",
   "id": "749f8d93",
   "metadata": {},
   "source": [
    "We have now four different states and we could try to make a new list\n",
    "by relabeling the states as follows $\\vert 00 \\rangle =\\vert 0\n",
    "\\rangle$, $\\vert 01 \\rangle =\\vert 1 \\rangle$, $\\vert 10 \\rangle\n",
    "=\\vert 2 \\rangle$, $\\vert 11 \\rangle =\\vert 3 \\rangle$.\n",
    "\n",
    "In similar ways we can define the tensor product of three qubits (or single-particle states) as"
   ]
  },
  {
   "cell_type": "markdown",
   "id": "f4f7826d",
   "metadata": {},
   "source": [
    "$$\n",
    "\\vert 0 \\rangle \\otimes \\vert 0 \\rangle \\otimes \\vert 0 \\rangle = \\begin{bmatrix} 1 \\\\ 0\\end{bmatrix} \\otimes \\begin{bmatrix} 1 \\\\ 0\\end{bmatrix} \\otimes \\begin{bmatrix} 1 \\\\ 0\\end{bmatrix}=\\begin{bmatrix} 1 \\\\ 0 \\\\ 0 \\\\ 0 \\\\ 0 \\\\0 \\\\ 0 \\\\ 0\\end{bmatrix}=\\vert 000 \\rangle,\n",
    "$$"
   ]
  },
  {
   "cell_type": "markdown",
   "id": "093406ad",
   "metadata": {},
   "source": [
    "which is a new vector of length eight. We note that with a single-particle basis given the states $\\vert 0\\rangle$ and $\\vert 1\\rangle$ we can, with $N$ particles construct $2^N$ different states.\n",
    "This is something we can generalize to\n",
    " * discuss ways of labeling states\n",
    "\n",
    " * how to write a code which does it\n",
    "\n",
    "The tensor product of two $2\\times 2$ matrices $\\boldsymbol{A}$ and $\\boldsymbol{B}$ is given by"
   ]
  },
  {
   "cell_type": "markdown",
   "id": "d565f208",
   "metadata": {},
   "source": [
    "$$\n",
    "\\boldsymbol{A} \\times \\boldsymbol{B} = \\begin{bmatrix} a_{00} & a_{01} \\\\ a_{10} & a_{11} \\end{bmatrix} \\otimes \\begin{bmatrix} b_{00} & b_{01} \\\\ b_{10} & b_{11} \\end{bmatrix} =\n",
    "\\begin{bmatrix} a_{00} b_{00} &  a_{00}b_{01} & a_{01} b_{00} & a_{01}b_{01} \\\\\n",
    "                a_{00} b_{10} &  a_{00}b_{11} & a_{01} b_{10} & a_{01}b_{11} \\\\\n",
    "                a_{10} b_{00} &  a_{10}b_{01} & a_{11} b_{00} & a_{11}b_{01} \\\\\n",
    "                a_{10} b_{10} &  a_{10}b_{11} & a_{11} b_{10} & a_{11}b_{11} \\end{bmatrix}\n",
    "$$"
   ]
  },
  {
   "cell_type": "markdown",
   "id": "81426179",
   "metadata": {},
   "source": [
    "## Computational basis states\n",
    "\n",
    "We will now relabel the above two states as two orthogonal and normalized basis (ONB) states"
   ]
  },
  {
   "cell_type": "markdown",
   "id": "62a782c6",
   "metadata": {},
   "source": [
    "$$\n",
    "\\vert \\phi_0 \\rangle = \\vert 0 \\rangle = \\begin{bmatrix} 1 \\\\ 0 \\end{bmatrix},\n",
    "$$"
   ]
  },
  {
   "cell_type": "markdown",
   "id": "8ac7eda0",
   "metadata": {},
   "source": [
    "and"
   ]
  },
  {
   "cell_type": "markdown",
   "id": "aff878fb",
   "metadata": {},
   "source": [
    "$$\n",
    "\\vert \\phi_1 \\rangle = \\vert 1 \\rangle = \\begin{bmatrix} 0 \\\\ 1 \\end{bmatrix}.\n",
    "$$"
   ]
  },
  {
   "cell_type": "markdown",
   "id": "4c39f4b4",
   "metadata": {},
   "source": [
    "It is straight forward to see that $\\langle 1 \\vert 0\\rangle=0$. With\n",
    "these two states we can define the define the identity operator\n",
    "$\\boldsymbol{I}$ as the sum of the outer products of these two states, namely"
   ]
  },
  {
   "cell_type": "markdown",
   "id": "04efd70a",
   "metadata": {},
   "source": [
    "$$\n",
    "\\boldsymbol{I} = \\sum_{i=0}^{i=1}\\vert i\\rangle \\langle i\\vert = \\begin{bmatrix} 1 & 0 \\\\ 0 & 0 \\end{bmatrix} +\\begin{bmatrix} 0 & 0 \\\\ 0 & 1 \\end{bmatrix}=\\begin{bmatrix} 1 & 0 \\\\ 0 & 1 \\end{bmatrix}.\n",
    "$$"
   ]
  },
  {
   "cell_type": "markdown",
   "id": "edf95a92",
   "metadata": {},
   "source": [
    "We can further define the projection operators"
   ]
  },
  {
   "cell_type": "markdown",
   "id": "304df561",
   "metadata": {},
   "source": [
    "$$\n",
    "\\boldsymbol{P} = \\vert 0\\rangle \\langle 0\\vert = \\begin{bmatrix} 1 & 0 \\\\ 0 & 0 \\end{bmatrix},\n",
    "$$"
   ]
  },
  {
   "cell_type": "markdown",
   "id": "2acb5df1",
   "metadata": {},
   "source": [
    "and"
   ]
  },
  {
   "cell_type": "markdown",
   "id": "2ff3660b",
   "metadata": {},
   "source": [
    "$$\n",
    "\\boldsymbol{Q} = \\vert 1\\rangle \\langle 1\\vert = \\begin{bmatrix} 0 & 0 \\\\ 0 & 1 \\end{bmatrix}.\n",
    "$$"
   ]
  },
  {
   "cell_type": "markdown",
   "id": "6e3af7bb",
   "metadata": {},
   "source": [
    "We note that $P^2=P$, $Q^2=Q$ (the operators are idempotent) and that\n",
    "their determinants are zero, meaning in turn that we cannot use these\n",
    "operators for unitary/orthogonal transformations. However, they play\n",
    "important roles in defining effective Hilbert spaces for many-body\n",
    "studies. Finally, before proceeding we note also that the two matrices\n",
    "commute and we have $\\boldsymbol{P}\\boldsymbol{Q}=0$ and $\\left[ \\boldsymbol{P},\\boldsymbol{Q}\\right]=0$."
   ]
  },
  {
   "cell_type": "markdown",
   "id": "53635312",
   "metadata": {},
   "source": [
    "### Superposition and more\n",
    "\n",
    "Using the properties of ONBs we can expand a new state in terms of the\n",
    "above states. These states could also form  a basis which is an\n",
    "eigenbasis of a selected Hamiltonian (more of this below).\n",
    "\n",
    "We define now a new state which is a linear expansion in terms of\n",
    "these computational basis states"
   ]
  },
  {
   "cell_type": "markdown",
   "id": "64fde90b",
   "metadata": {},
   "source": [
    "$$\n",
    "\\vert \\psi \\rangle = \\alpha \\vert 0 \\rangle + \\beta\\vert 1 \\rangle,\n",
    "$$"
   ]
  },
  {
   "cell_type": "markdown",
   "id": "a705941f",
   "metadata": {},
   "source": [
    "where the coefficients $\\alpha = \\langle 0 \\vert \\psi \\rangle$ and\n",
    "$\\beta =\\langle 1 \\vert \\psi\\rangle$ reresent the overlaps between the\n",
    "computational basis states and the state $\\vert \\psi\\rangle$. In\n",
    "quantum speech, we say the state is in a superposition of the states\n",
    "$\\vert 0\\rangle$ and $\\vert 1\\rangle$.\n",
    "\n",
    "Computing the inner product of $\\vert \\psi \\rangle$ we obtain"
   ]
  },
  {
   "cell_type": "markdown",
   "id": "a67e41c2",
   "metadata": {},
   "source": [
    "$$\n",
    "\\langle \\psi \\vert \\psi \\rangle = \\vert \\alpha \\vert ^2\\langle 0\\vert 0\\rangle + \\vert \\beta \\vert ^2\\langle 1\\vert 1\\rangle = \\vert \\alpha \\vert ^2 + \\vert \\beta \\vert ^2 = 1,\n",
    "$$"
   ]
  },
  {
   "cell_type": "markdown",
   "id": "839cd85e",
   "metadata": {},
   "source": [
    "since the new basis, which is defined in terms of a a\n",
    "unitary/orthogonal transformation, preserves the orthogonality and\n",
    "norm of the original computational basis $\\vert 0\\rangle$ and $\\vert\n",
    "1\\rangle$. We demonstrate this below in our discussion on consider the\n",
    "unitary transformations.\n",
    "\n",
    "If we now act with the projection operators $\\boldsymbol{P}$ and $\\boldsymbol{Q}$ on\n",
    "the state $\\vert \\psi\\rangle$ we get"
   ]
  },
  {
   "cell_type": "markdown",
   "id": "32bd43c6",
   "metadata": {},
   "source": [
    "$$\n",
    "\\boldsymbol{P}\\vert \\psi \\rangle = \\vert 0 \\rangle\\langle 0\\vert (\\alpha \\vert 0 \\rangle + \\beta\\vert 1 \\rangle)=\\alpha \\vert 0\\rangle,\n",
    "$$"
   ]
  },
  {
   "cell_type": "markdown",
   "id": "8400a42f",
   "metadata": {},
   "source": [
    "that is we **project** out the $\\vert 0\\rangle$ component of the state\n",
    "$\\vert \\psi\\rangle$ with the coefficient $\\alpha$ while $\\boldsymbol{Q}$\n",
    "projects out the $\\vert 1\\rangle$ component with coefficient $\\beta$\n",
    "as seen from"
   ]
  },
  {
   "cell_type": "markdown",
   "id": "5b1bc128",
   "metadata": {},
   "source": [
    "$$\n",
    "\\boldsymbol{Q}\\vert \\psi \\rangle = \\vert 1 \\rangle\\langle 1\\vert (\\alpha \\vert 0 \\rangle + \\beta\\vert 1 \\rangle)=\\beta \\vert 1\\rangle.\n",
    "$$"
   ]
  },
  {
   "cell_type": "markdown",
   "id": "558181d6",
   "metadata": {},
   "source": [
    "The above results can easily be derived by multiplying the pertinent\n",
    "matrices with the vectors $\\vert 0\\rangle$ and $\\vert 1\\rangle$,\n",
    "respectively.\n",
    "\n",
    "Using the above linear expansion we can now define the density matrix of the state $\\vert \\psi\\rangle$ as the outer product"
   ]
  },
  {
   "cell_type": "markdown",
   "id": "bb738647",
   "metadata": {},
   "source": [
    "$$\n",
    "\\boldsymbol{\\rho}=\\vert \\psi \\rangle\\langle \\psi \\vert = \\alpha\\alpha^* \\vert 0 \\rangle\\langle 0\\vert+\\alpha\\beta^* \\vert 0 \\rangle\\langle 1\\vert+\\beta\\alpha^* \\vert 1 \\rangle\\langle 0\\vert+\\beta\\beta^* \\vert 1 \\rangle\\langle 1\\vert=\\begin{bmatrix} \\alpha\\alpha^* & \\alpha\\beta^*\\\\ \\beta\\alpha^* & \\beta\\beta^*\\end{bmatrix}.\n",
    "$$"
   ]
  },
  {
   "cell_type": "markdown",
   "id": "2b4e615e",
   "metadata": {},
   "source": [
    "Finally, we note that the trace of the density matrix is simply given by unity if the states are properly normalized"
   ]
  },
  {
   "cell_type": "markdown",
   "id": "0c64f03b",
   "metadata": {},
   "source": [
    "$$\n",
    "\\mathrm{tr}\\boldsymbol{\\rho}=\\alpha\\alpha^* +\\beta\\beta^*=1.\n",
    "$$"
   ]
  },
  {
   "cell_type": "markdown",
   "id": "cfa6f445",
   "metadata": {},
   "source": [
    "## Tensor products and Composite systems\n",
    "\n",
    "The state space of a composite physical system is the tensor product of the state spaces of the component systems.\n",
    "There are two parts to this:\n",
    "1. Determining the basis for the composite system\n",
    "\n",
    "2. Determining the components of the state vector\n",
    "\n",
    "Last week we introduced the $\\vert 0\\rangle$ and $\\vert 1\\rangle$ states as our basis states for a single qubit system.\n",
    "We will now extend this to a two-qubit system.\n",
    "\n",
    "Consider now two vectors with length $n=2$, with elements"
   ]
  },
  {
   "cell_type": "markdown",
   "id": "352111f1",
   "metadata": {},
   "source": [
    "$$\n",
    "\\boldsymbol{x}=\\vert x \\rangle = \\begin{bmatrix} x_0 \\\\ x_1 \\end{bmatrix},\n",
    "$$"
   ]
  },
  {
   "cell_type": "markdown",
   "id": "9950f998",
   "metadata": {},
   "source": [
    "and"
   ]
  },
  {
   "cell_type": "markdown",
   "id": "cc88cdd2",
   "metadata": {},
   "source": [
    "$$\n",
    "\\boldsymbol{y}=\\vert y \\rangle = \\begin{bmatrix} y_0 \\\\ y_1 \\end{bmatrix}.\n",
    "$$"
   ]
  },
  {
   "cell_type": "markdown",
   "id": "1de95e8e",
   "metadata": {},
   "source": [
    "The tensor product of these two vectors is defined as"
   ]
  },
  {
   "cell_type": "markdown",
   "id": "2a1ce281",
   "metadata": {},
   "source": [
    "$$\n",
    "\\vert x \\rangle \\otimes \\vert y \\rangle = \\vert xy \\rangle  = \\begin{bmatrix} x_0y_0 \\\\ x_0y_1 \\\\ x_1y_0 \\\\ x_1y_1 \\end{bmatrix},\n",
    "$$"
   ]
  },
  {
   "cell_type": "markdown",
   "id": "e65b93ed",
   "metadata": {},
   "source": [
    "which is now a vector of length $4$.\n",
    "\n",
    "If we now go back to our original one-qubit basis states, we can form the following tensor products"
   ]
  },
  {
   "cell_type": "markdown",
   "id": "ce3f4f79",
   "metadata": {},
   "source": [
    "$$\n",
    "\\vert 0 \\rangle \\otimes \\vert 0 \\rangle = \\begin{bmatrix} 1 \\\\ 0\\end{bmatrix} \\otimes \\begin{bmatrix} 1 \\\\ 0\\end{bmatrix} =\\begin{bmatrix} 1 \\\\ 0 \\\\ 0 \\\\ 0 \\end{bmatrix}=\\vert 00 \\rangle,\n",
    "$$"
   ]
  },
  {
   "cell_type": "markdown",
   "id": "256b04ab",
   "metadata": {},
   "source": [
    "$$\n",
    "\\vert 0 \\rangle \\otimes \\vert 1 \\rangle = \\begin{bmatrix} 1 \\\\ 0\\end{bmatrix} \\otimes \\begin{bmatrix} 0 \\\\ 1\\end{bmatrix} =\\begin{bmatrix} 0 \\\\ 1 \\\\ 0 \\\\ 0 \\end{bmatrix}=\\vert 01 \\rangle,\n",
    "$$"
   ]
  },
  {
   "cell_type": "markdown",
   "id": "f56670c6",
   "metadata": {},
   "source": [
    "$$\n",
    "\\vert 1 \\rangle \\otimes \\vert 0 \\rangle = \\begin{bmatrix} 0 \\\\ 1\\end{bmatrix} \\otimes \\begin{bmatrix} 1 \\\\ 0\\end{bmatrix} =\\begin{bmatrix} 0 \\\\ 0 \\\\ 1 \\\\ 0 \\end{bmatrix}=\\vert 10 \\rangle,\n",
    "$$"
   ]
  },
  {
   "cell_type": "markdown",
   "id": "6235ff3f",
   "metadata": {},
   "source": [
    "and finally"
   ]
  },
  {
   "cell_type": "markdown",
   "id": "f30943fb",
   "metadata": {},
   "source": [
    "$$\n",
    "\\vert 1 \\rangle \\otimes \\vert 1 \\rangle = \\begin{bmatrix} 0 \\\\ 1\\end{bmatrix} \\otimes \\begin{bmatrix} 0 \\\\ 1\\end{bmatrix} =\\begin{bmatrix} 0 \\\\ 0 \\\\ 0 \\\\ 1 \\end{bmatrix}=\\vert 11 \\rangle.\n",
    "$$"
   ]
  },
  {
   "cell_type": "markdown",
   "id": "cd428502",
   "metadata": {},
   "source": [
    "We have now four different states and we could try to make a new list\n",
    "by relabeling the states as follows $\\vert 00 \\rangle =\\vert 0\n",
    "\\rangle$, $\\vert 01 \\rangle =\\vert 1 \\rangle$, $\\vert 10 \\rangle\n",
    "=\\vert 2 \\rangle$, $\\vert 11 \\rangle =\\vert 3 \\rangle$.\n",
    "\n",
    "In similar ways we can define the tensor product of three qubits (or single-particle states) as"
   ]
  },
  {
   "cell_type": "markdown",
   "id": "4d5a2029",
   "metadata": {},
   "source": [
    "$$\n",
    "\\vert 0 \\rangle \\otimes \\vert 0 \\rangle \\otimes \\vert 0 \\rangle = \\begin{bmatrix} 1 \\\\ 0\\end{bmatrix} \\otimes \\begin{bmatrix} 1 \\\\ 0\\end{bmatrix} \\otimes \\begin{bmatrix} 1 \\\\ 0\\end{bmatrix}=\\begin{bmatrix} 1 \\\\ 0 \\\\ 0 \\\\ 0 \\\\ 0 \\\\0 \\\\ 0 \\\\ 0\\end{bmatrix}=\\vert 000 \\rangle,\n",
    "$$"
   ]
  },
  {
   "cell_type": "markdown",
   "id": "9ac42b8c",
   "metadata": {},
   "source": [
    "which is a new vector of length eight. We note that with a single-particle basis given by the states $\\vert 0\\rangle$ and $\\vert 1\\rangle$ we can, with $N$ particles construct $2^N$ different states.\n",
    "\n",
    "In our discussions below, we will demonstrate how to generalize the\n",
    "description of the basis states by writting efficient codes to\n",
    "represent them.\n",
    "\n",
    "The tensor product of two matrices are similar to those of two vectors. Here we show the\n",
    "the tensor product of two $2\\times 2$ matrices $\\boldsymbol{A}$ and $\\boldsymbol{B}$"
   ]
  },
  {
   "cell_type": "markdown",
   "id": "4bcca3a0",
   "metadata": {},
   "source": [
    "$$\n",
    "\\boldsymbol{A} \\times \\boldsymbol{B} = \\begin{bmatrix} a_{00} & a_{01} \\\\ a_{10} & a_{11} \\end{bmatrix} \\otimes \\begin{bmatrix} b_{00} & b_{01} \\\\ b_{10} & b_{11} \\end{bmatrix} =\n",
    "\\begin{bmatrix} a_{00} b_{00} &  a_{00}b_{01} & a_{01} b_{00} & a_{01}b_{01} \\\\\n",
    "                a_{00} b_{10} &  a_{00}b_{11} & a_{01} b_{10} & a_{01}b_{11} \\\\\n",
    "                a_{10} b_{00} &  a_{10}b_{01} & a_{11} b_{00} & a_{11}b_{01} \\\\\n",
    "                a_{10} b_{10} &  a_{10}b_{11} & a_{11} b_{10} & a_{11}b_{11} \\end{bmatrix}\n",
    "$$"
   ]
  },
  {
   "cell_type": "markdown",
   "id": "a6d78a50",
   "metadata": {},
   "source": [
    "## Measurements\n",
    "\n",
    "The probability of a measurement on a quantum system giving a certain\n",
    "result is determined by the weight of the relevant basis state in the\n",
    "state vector. After the measurement, the system is in a state that\n",
    "corresponds to the result of the measurement. The operators and\n",
    "gates discussed below are examples of operations we can perform on\n",
    "specific states.\n",
    "\n",
    "We  consider the state"
   ]
  },
  {
   "cell_type": "markdown",
   "id": "f4babd8d",
   "metadata": {},
   "source": [
    "$$\n",
    "\\vert \\psi\\rangle = \\alpha \\vert 0 \\rangle +\\beta \\vert 1 \\rangle\n",
    "$$"
   ]
  },
  {
   "cell_type": "markdown",
   "id": "b14ad399",
   "metadata": {},
   "source": [
    "1. A measurement can yield only one of the above states, either $\\vert 0\\rangle$ or $\\vert 1\\rangle$.\n",
    "\n",
    "2. The probability of a measurement resulting in $\\vert 0\\rangle$ is $\\alpha^*\\alpha = \\vert \\alpha \\vert^2$.\n",
    "\n",
    "3. The probability of a measurement resulting in $\\vert 1\\rangle$ is $\\beta^*\\beta = \\vert \\beta \\vert^2$.\n",
    "\n",
    "4. And we note that the sum of the outcomes gives $\\alpha^*\\alpha+\\beta^*\\beta=1$ since the two states are normalized.\n",
    "\n",
    "After the measurement, the state of the system is the state associated with the result of the measurement.\n",
    "\n",
    "We have already encountered the projection operators $P$ and $Q$. Let\n",
    "us now look at other types of operations we can make on qubit states."
   ]
  },
  {
   "cell_type": "markdown",
   "id": "d3ec990e",
   "metadata": {},
   "source": [
    "## Different operators and gates\n",
    "\n",
    "In quantum computing, the so-called Pauli matrices, and other simple\n",
    "$2\\times 2$ matrices, play an important role, ranging from the setup\n",
    "of quantum gates to a rewrite of creation and annihilation operators\n",
    "and other quantum mechanical operators. Let us start with the familiar\n",
    "Pauli matrices and remind ourselves of some of their basic properties.\n",
    "\n",
    "The Pauli matrices are defined as"
   ]
  },
  {
   "cell_type": "markdown",
   "id": "1f43e654",
   "metadata": {},
   "source": [
    "$$\n",
    "\\sigma_x = \\begin{bmatrix} 0 & 1 \\\\ 1 & 0 \\end{bmatrix},\n",
    "$$"
   ]
  },
  {
   "cell_type": "markdown",
   "id": "ab29037b",
   "metadata": {},
   "source": [
    "$$\n",
    "\\sigma_y = \\begin{bmatrix} 0 & -\\imath \\\\ \\imath & 0 \\end{bmatrix},\n",
    "$$"
   ]
  },
  {
   "cell_type": "markdown",
   "id": "24a0acbb",
   "metadata": {},
   "source": [
    "and"
   ]
  },
  {
   "cell_type": "markdown",
   "id": "cc55008c",
   "metadata": {},
   "source": [
    "$$\n",
    "\\sigma_z = \\begin{bmatrix} 1 & 0 \\\\ 0 & -1 \\end{bmatrix}.\n",
    "$$"
   ]
  },
  {
   "cell_type": "markdown",
   "id": "1369f5ea",
   "metadata": {},
   "source": [
    "It is easy to show that the matrices obey the properties (being involutory)"
   ]
  },
  {
   "cell_type": "markdown",
   "id": "6e00e363",
   "metadata": {},
   "source": [
    "$$\n",
    "\\sigma_x\\sigma_x = \\sigma_y\\sigma_y=\\sigma_z\\sigma_z = I=\\begin{bmatrix} 1 & 0 \\\\ 0 & 1\\end{bmatrix},\n",
    "$$"
   ]
  },
  {
   "cell_type": "markdown",
   "id": "72bd6b8e",
   "metadata": {},
   "source": [
    "that is their products with themselves result in the identity matrix\n",
    "$\\boldsymbol{I}$.  Furthermore, the Pauli matrices are unitary matrices\n",
    "meaning that their inverses are equal to their hermitian conjugated\n",
    "matrices. The determinants of the Pauli matrices are all equal to $-1$,\n",
    "as can be easily verified.\n",
    "\n",
    "The Pauli matrices obey also the following commutation rules"
   ]
  },
  {
   "cell_type": "markdown",
   "id": "8a75818e",
   "metadata": {},
   "source": [
    "$$\n",
    "\\left[\\sigma_x,\\sigma_y\\right] = 2\\imath \\sigma_z.\n",
    "$$"
   ]
  },
  {
   "cell_type": "markdown",
   "id": "58621595",
   "metadata": {},
   "source": [
    "Before we proceed with other matrices and how they can be used to\n",
    "operate on various quantum mechanical states, let us try apply these matrices to our one-qubit states.\n",
    "\n",
    "Assume we operate with $\\sigma_x$ on our basis state $\\vert 0 \\rangle$. This gives"
   ]
  },
  {
   "cell_type": "markdown",
   "id": "b33c8374",
   "metadata": {},
   "source": [
    "$$\n",
    "\\begin{bmatrix} 0 & 1 \\\\ 1 & 0 \\end{bmatrix}\\begin{bmatrix} 1 \\\\ 0 \\end{bmatrix}=\\begin{bmatrix} 0  \\\\ 1  \\end{bmatrix},\n",
    "$$"
   ]
  },
  {
   "cell_type": "markdown",
   "id": "507fa2bf",
   "metadata": {},
   "source": [
    "that is we switch from $\\vert 0\\rangle$ to $\\vert 1\\rangle$ (often called a spin flip operation) and similary we have"
   ]
  },
  {
   "cell_type": "markdown",
   "id": "b625f48f",
   "metadata": {},
   "source": [
    "$$\n",
    "\\begin{bmatrix} 0 & 1 \\\\ 1 & 0 \\end{bmatrix}\\begin{bmatrix} 0 \\\\ 1 \\end{bmatrix}=\\begin{bmatrix} 1  \\\\ 0  \\end{bmatrix}.\n",
    "$$"
   ]
  },
  {
   "cell_type": "markdown",
   "id": "44e0bda9",
   "metadata": {},
   "source": [
    "This matrix plays an important role in quantum computing since we can\n",
    "link this with the classical **NOT** operation.  If we send in bit 0,\n",
    "the **NOT** gate outputs bit 1 and vice versa. We can use the $\\sigma_x$\n",
    "matrix to implement the quantum mechanical equivalent of a classical\n",
    "**NOT** gate. If we input what we could represent as bit 0 in terms of\n",
    "the basis state $\\vert 0\\rangle$, operating on this state results in\n",
    "the state $\\vert 1\\rangle$, which we in turn can interpret as the\n",
    "classical bit 1.\n",
    "\n",
    "If we have a linear superposition of these states we obtain"
   ]
  },
  {
   "cell_type": "markdown",
   "id": "9c6b47a0",
   "metadata": {},
   "source": [
    "$$\n",
    "\\begin{bmatrix}0 & 1 \\\\ 1 & 0 \\end{bmatrix}\\begin{bmatrix}\\alpha \\\\ \\beta \\end{bmatrix}=\\begin{bmatrix}\\beta \\\\ \\alpha \\end{bmatrix}.\n",
    "$$"
   ]
  },
  {
   "cell_type": "markdown",
   "id": "124efb8e",
   "metadata": {},
   "source": [
    "The $\\sigma_y$ matrix introduces an imaginary sign, which we will later encounter in terms of so-called phase-shift operations.\n",
    "\n",
    "The $\\sigma_z$ matrix has the following effect"
   ]
  },
  {
   "cell_type": "markdown",
   "id": "f75be812",
   "metadata": {},
   "source": [
    "$$\n",
    "\\begin{bmatrix} 1 & 0 \\\\ 0 & -1 \\end{bmatrix}\\begin{bmatrix} 1 \\\\ 0 \\end{bmatrix}=\\begin{bmatrix} 1  \\\\ 0  \\end{bmatrix},\n",
    "$$"
   ]
  },
  {
   "cell_type": "markdown",
   "id": "4ddd009d",
   "metadata": {},
   "source": [
    "and"
   ]
  },
  {
   "cell_type": "markdown",
   "id": "408da10f",
   "metadata": {},
   "source": [
    "$$\n",
    "\\begin{bmatrix} 1 & 0 \\\\ 0 & -1 \\end{bmatrix}\\begin{bmatrix} 0 \\\\ 1 \\end{bmatrix}=\\begin{bmatrix} 0  \\\\ -1  \\end{bmatrix},\n",
    "$$"
   ]
  },
  {
   "cell_type": "markdown",
   "id": "14005df8",
   "metadata": {},
   "source": [
    "which we will also link with a specific phase-shift."
   ]
  },
  {
   "cell_type": "markdown",
   "id": "fe9f8a38",
   "metadata": {},
   "source": [
    "### Other important matrices\n",
    "\n",
    "We end with presenting other operators (as matrices) which play an important role in quantum computing, the so-called Hadamard matrix (or gate as we will use later)"
   ]
  },
  {
   "cell_type": "markdown",
   "id": "3e58eaa0",
   "metadata": {},
   "source": [
    "$$\n",
    "\\boldsymbol{H}=\\frac{1}{\\sqrt{2}}\\begin{bmatrix} 1 & 1 \\\\ 1 & -1\\end{bmatrix}.\n",
    "$$"
   ]
  },
  {
   "cell_type": "markdown",
   "id": "fcc2c2dd",
   "metadata": {},
   "source": [
    "The action of the operator $\\boldsymbol{H}$ on a computational basis state like $\\vert 0\\rangle$ gives"
   ]
  },
  {
   "cell_type": "markdown",
   "id": "a49a318f",
   "metadata": {},
   "source": [
    "$$\n",
    "\\boldsymbol{H}\\vert 0 \\rangle = \\frac{1}{\\sqrt{2}}\\begin{bmatrix} 1 & 1 \\\\ 1 & -1\\end{bmatrix}\\begin{bmatrix} 1 \\\\ 0\\end{bmatrix}=\\frac{1}{\\sqrt{2}}(\\vert 0\\rangle + \\vert 1\\rangle),\n",
    "$$"
   ]
  },
  {
   "cell_type": "markdown",
   "id": "ce89c680",
   "metadata": {},
   "source": [
    "and"
   ]
  },
  {
   "cell_type": "markdown",
   "id": "c40c033a",
   "metadata": {},
   "source": [
    "$$\n",
    "\\boldsymbol{H}\\vert 1 \\rangle = \\frac{1}{\\sqrt{2}}\\begin{bmatrix} 1 & 1 \\\\ 1 & -1\\end{bmatrix}\\begin{bmatrix} 0 \\\\ 1\\end{bmatrix}=\\frac{1}{\\sqrt{2}}(\\vert 0\\rangle - \\vert 1\\rangle),\n",
    "$$"
   ]
  },
  {
   "cell_type": "markdown",
   "id": "42b650d5",
   "metadata": {},
   "source": [
    "that is we create a superposition of the states $\\vert 0\\rangle$ and $\\vert 1\\rangle$.\n",
    "\n",
    "Another famous operation is the phase matrix given by"
   ]
  },
  {
   "cell_type": "markdown",
   "id": "64a4e85c",
   "metadata": {},
   "source": [
    "$$\n",
    "\\boldsymbol{S} = \\begin{bmatrix} 1 & 0 \\\\ 0 & \\imath\\end{bmatrix}.\n",
    "$$"
   ]
  },
  {
   "cell_type": "markdown",
   "id": "6224ff81",
   "metadata": {},
   "source": [
    "## Unitarity\n",
    "\n",
    "The matrices we introduced here are so-called unitary matrices. This\n",
    "is an important element in quantum mechanics since the evolution of a\n",
    "closed quantum system is described by operations involving unitary\n",
    "operations only.\n",
    "\n",
    "We have defined a new state $\\vert \\psi_p\\rangle$ as a linear expansion in terms of an orthogonal and normalized basis (our computational basis) $\\phi_{\\lambda}$"
   ]
  },
  {
   "cell_type": "markdown",
   "id": "de0575b5",
   "metadata": {},
   "source": [
    "<!-- Equation labels as ordinary links -->\n",
    "<div id=\"_auto1\"></div>\n",
    "\n",
    "$$\n",
    "\\begin{equation}\n",
    "\\vert \\psi_i\\rangle = \\sum_{j} u_{ij}\\vert \\phi_{j}\\rangle.\n",
    "\\label{_auto1} \\tag{1}\n",
    "\\end{equation}\n",
    "$$"
   ]
  },
  {
   "cell_type": "markdown",
   "id": "4e7a5b9f",
   "metadata": {},
   "source": [
    "It is normal to choose a basis defined as the eigenfunctions of parts\n",
    "of the full Hamiltonian. The typical situation consists of the\n",
    "solutions of the one-body part of the Hamiltonian, that is we have"
   ]
  },
  {
   "cell_type": "markdown",
   "id": "79ec4739",
   "metadata": {},
   "source": [
    "$$\n",
    "\\hat{h}_0\\vert \\phi_{i}\\rangle=\\epsilon_{i}\\vert \\phi_{i}\\rangle.\n",
    "$$"
   ]
  },
  {
   "cell_type": "markdown",
   "id": "0cc03326",
   "metadata": {},
   "source": [
    "This is normally referred to as a single-particle basis $\\vert\\phi_{i}(\\mathbf{r})\\rangle$,\n",
    "defined by the quantum numbers $i$ and $\\mathbf{r}$.\n",
    "\n",
    "A unitary transformation is important since it keeps the orthogonality.\n",
    "To see this consider first a basis of vectors $\\mathbf{v}_i$,"
   ]
  },
  {
   "cell_type": "markdown",
   "id": "16042257",
   "metadata": {},
   "source": [
    "$$\n",
    "\\mathbf{v}_i = \\begin{bmatrix} v_{i1} \\\\ \\dots \\\\ \\dots \\\\v_{in} \\end{bmatrix}\n",
    "$$"
   ]
  },
  {
   "cell_type": "markdown",
   "id": "38cf729b",
   "metadata": {},
   "source": [
    "We assume that the basis is orthogonal, that is"
   ]
  },
  {
   "cell_type": "markdown",
   "id": "29da83d9",
   "metadata": {},
   "source": [
    "$$\n",
    "\\mathbf{v}_j^T\\mathbf{v}_i = \\delta_{ij}.\n",
    "$$"
   ]
  },
  {
   "cell_type": "markdown",
   "id": "01115ec8",
   "metadata": {},
   "source": [
    "An orthogonal or unitary transformation"
   ]
  },
  {
   "cell_type": "markdown",
   "id": "e82a3b26",
   "metadata": {},
   "source": [
    "$$\n",
    "\\mathbf{w}_i=\\mathbf{U}\\mathbf{v}_i,\n",
    "$$"
   ]
  },
  {
   "cell_type": "markdown",
   "id": "f0b5f020",
   "metadata": {},
   "source": [
    "preserves the dot product and orthogonality since"
   ]
  },
  {
   "cell_type": "markdown",
   "id": "581283ff",
   "metadata": {},
   "source": [
    "$$\n",
    "\\mathbf{w}_j^T\\mathbf{w}_i=(\\mathbf{U}\\mathbf{v}_j)^T\\mathbf{U}\\mathbf{v}_i=\\mathbf{v}_j^T\\mathbf{U}^T\\mathbf{U}\\mathbf{v}_i= \\mathbf{v}_j^T\\mathbf{v}_i = \\delta_{ij}.\n",
    "$$"
   ]
  },
  {
   "cell_type": "markdown",
   "id": "f570e3e9",
   "metadata": {},
   "source": [
    "This means that if the coefficients $u_{p\\lambda}$ belong to a unitary\n",
    "or orthogonal transformation (using the Dirac bra-ket notation)"
   ]
  },
  {
   "cell_type": "markdown",
   "id": "3bb380ec",
   "metadata": {},
   "source": [
    "$$\n",
    "\\vert \\psi_i\\rangle = \\sum_{j} u_{ij}\\vert \\phi_{j}\\rangle.\n",
    "$$"
   ]
  },
  {
   "cell_type": "markdown",
   "id": "03a3c6d7",
   "metadata": {},
   "source": [
    "orthogonality is preserved.\n",
    "\n",
    "This propertry is extremely useful when we build up a basis of\n",
    "many-body determinant based states.\n",
    "\n",
    "_Note also that although a basis $\\left\\{\\vert \\phi_i \\rangle\\right\\}$ contains an infinity of states, for practical calculations we have always to make some truncations._"
   ]
  },
  {
   "cell_type": "markdown",
   "id": "f065cf74",
   "metadata": {},
   "source": [
    "### Example\n",
    "\n",
    "Assume we have two one-qubit states represented by"
   ]
  },
  {
   "cell_type": "markdown",
   "id": "6be11fa4",
   "metadata": {},
   "source": [
    "$$\n",
    "\\vert \\psi \\rangle = \\alpha \\vert 0 \\rangle + \\beta \\vert 1\\rangle=\\begin{bmatrix}\\alpha \\\\ \\beta \\end{bmatrix},\n",
    "$$"
   ]
  },
  {
   "cell_type": "markdown",
   "id": "7765a275",
   "metadata": {},
   "source": [
    "and"
   ]
  },
  {
   "cell_type": "markdown",
   "id": "3311b19e",
   "metadata": {},
   "source": [
    "$$\n",
    "\\vert \\phi \\rangle = \\gamma \\vert 0 \\rangle + \\delta \\vert 1\\rangle=\\begin{bmatrix}\\gamma \\\\ \\delta \\end{bmatrix}.\n",
    "$$"
   ]
  },
  {
   "cell_type": "markdown",
   "id": "a741077e",
   "metadata": {},
   "source": [
    "We assume that the state $\\vert \\phi \\rangle$ is obtained through a\n",
    "unitary transformation of $\\vert \\psi \\rangle$ through a matrix\n",
    "$\\boldsymbol{U}$ with its hermitian conjugate $\\boldsymbol{U}^{\\dagger}$ with matrix\n",
    "elements $u_{ij}^{\\dagger}=u_{ji}^*$ and\n",
    "$\\boldsymbol{I}=\\boldsymbol{U}\\boldsymbol{U}^{\\dagger}=\\boldsymbol{U}^{\\dagger}\\boldsymbol{U}$.\n",
    "\n",
    "Note that this means that the hermitian conjugate of a unitary matrix\n",
    "is equal to its inverse. This has important consequences for what is\n",
    "called reversibility. We say quantum mechanics is a theory which is\n",
    "reversible with a probabilistic determinism. Classical mechanics on\n",
    "the other is reversible in a deterministic way, that is, knowing all\n",
    "initial conditions we can in principle determine the future motion of\n",
    "an object which obey the laws of motion of classical mechanics.\n",
    "\n",
    "We have then"
   ]
  },
  {
   "cell_type": "markdown",
   "id": "82e09e3c",
   "metadata": {},
   "source": [
    "$$\n",
    "\\begin{bmatrix}\\gamma \\\\ \\delta \\end{bmatrix}=\\begin{bmatrix}u_{00} & u_{01} \\\\ u_{10} & u_{11} \\end{bmatrix}\\begin{bmatrix}\\alpha \\\\ \\beta \\end{bmatrix}.\n",
    "$$"
   ]
  },
  {
   "cell_type": "markdown",
   "id": "35c64587",
   "metadata": {},
   "source": [
    "Since our original basis $\\vert \\psi\\rangle$ is orthogonal and normalized with $\\vert\\alpha\\vert^2+\\vert\\beta\\vert^2=1$, the new basis is also orthogonal and normalized, as we can see below here.\n",
    "\n",
    "Since the inverse of a hermitian matrix is equal to its hermitian\n",
    "conjugate/adjoint), unitary transformations are always reversible.\n",
    "\n",
    "Why are only unitary transformations allowed? The key lies in the way the inner product tranforms.\n",
    "\n",
    "To see this we rewrite the new basis from the previous example in its two components as"
   ]
  },
  {
   "cell_type": "markdown",
   "id": "6fb91f30",
   "metadata": {},
   "source": [
    "$$\n",
    "\\vert \\phi\\rangle_i=\\sum_{j}u_{ij}\\vert \\psi\\rangle_j,\n",
    "$$"
   ]
  },
  {
   "cell_type": "markdown",
   "id": "af1bd8c9",
   "metadata": {},
   "source": [
    "or in terms of a matrix-vector notatio we have"
   ]
  },
  {
   "cell_type": "markdown",
   "id": "17eb93ee",
   "metadata": {},
   "source": [
    "$$\n",
    "\\vert \\phi\\rangle=\\boldsymbol{U}\\vert \\psi\\rangle,\n",
    "$$"
   ]
  },
  {
   "cell_type": "markdown",
   "id": "25ad8ad5",
   "metadata": {},
   "source": [
    "We have already assumed that $\\langle \\psi \\vert \\psi \\rangle = \\vert\\alpha\\vert^2+\\vert\\beta\\vert^2=1$.\n",
    "\n",
    "We have that"
   ]
  },
  {
   "cell_type": "markdown",
   "id": "a63b9398",
   "metadata": {},
   "source": [
    "$$\n",
    "\\langle \\phi\\vert_i=\\sum_{j}u_{ij}^*\\langle \\psi\\vert_j,\n",
    "$$"
   ]
  },
  {
   "cell_type": "markdown",
   "id": "85ac95bc",
   "metadata": {},
   "source": [
    "or in terms of a matrix-vector notation we have"
   ]
  },
  {
   "cell_type": "markdown",
   "id": "b6896ebe",
   "metadata": {},
   "source": [
    "$$\n",
    "\\langle \\phi\\vert=\\langle \\psi\\vert\\boldsymbol{U}^{\\dagger}.\n",
    "$$"
   ]
  },
  {
   "cell_type": "markdown",
   "id": "232fc9bb",
   "metadata": {},
   "source": [
    "Note that the two vectors are row vectors now.\n",
    "\n",
    "If we stay with this notation we have"
   ]
  },
  {
   "cell_type": "markdown",
   "id": "2287a9be",
   "metadata": {},
   "source": [
    "$$\n",
    "\\langle \\phi\\vert\\phi\\rangle = \\langle \\psi \\boldsymbol{U}^{\\dagger}\\boldsymbol{U}\\vert \\psi\\rangle = \\langle \\psi\\vert \\psi\\rangle=1!\n",
    "$$"
   ]
  },
  {
   "cell_type": "markdown",
   "id": "1937b157",
   "metadata": {},
   "source": [
    "Unitary transformations are rotations in state space which preserve the\n",
    "length (the square root of the inner product) of the state vector."
   ]
  },
  {
   "cell_type": "markdown",
   "id": "0b8b05c9",
   "metadata": {},
   "source": [
    "## Representation of states and Hamiltonians\n",
    "\n",
    "Before we proceed we need several other definitions.  Throughout these\n",
    "lectures we will assume that the interacting part of the Hamiltonian\n",
    "can be approximated by a two-body interaction.  This means that our\n",
    "Hamiltonian can be written as the sum of a onebody part, which\n",
    "includes kinetic energy and an eventual external field, and a twobody\n",
    "interaction"
   ]
  },
  {
   "cell_type": "markdown",
   "id": "ac1615e9",
   "metadata": {},
   "source": [
    "<!-- Equation labels as ordinary links -->\n",
    "<div id=\"_auto2\"></div>\n",
    "\n",
    "$$\n",
    "\\begin{equation}\n",
    "    \\hat{H} = \\hat{H}_0 + \\hat{H}_I \n",
    "    = \\sum_{i=1}^N \\hat{h}_0(x_i) + \\sum_{i < j}^N \\hat{v}(r_{ij}),\n",
    "\\label{_auto2} \\tag{2}\n",
    "\\end{equation}\n",
    "$$"
   ]
  },
  {
   "cell_type": "markdown",
   "id": "bc10ac4d",
   "metadata": {},
   "source": [
    "with"
   ]
  },
  {
   "cell_type": "markdown",
   "id": "f14b0374",
   "metadata": {},
   "source": [
    "<!-- Equation labels as ordinary links -->\n",
    "<div id=\"hinuclei\"></div>\n",
    "\n",
    "$$\n",
    "\\begin{equation}\n",
    "  H_0=\\sum_{i=1}^N \\hat{h}_0(x_i).\n",
    "\\label{hinuclei} \\tag{3}\n",
    "\\end{equation}\n",
    "$$"
   ]
  },
  {
   "cell_type": "markdown",
   "id": "bbd5f0e9",
   "metadata": {},
   "source": [
    "The onebody part $u_{\\mathrm{ext}}(x_i)$ is normally approximated by a\n",
    "harmonic oscillator potential or the Coulomb interaction an electron\n",
    "feels from the nucleus. However, other potentials are fully possible,\n",
    "such as one derived from the self-consistent solution of the\n",
    "Hartree-Fock equations.\n",
    "\n",
    "Our Hamiltonian is invariant under the permutation (interchange) of\n",
    "two particles.  Since we deal with fermions however, the total wave\n",
    "function is antisymmetric.  Let $\\hat{P}$ be an operator which\n",
    "interchanges two particles.  Due to the symmetries we have ascribed to\n",
    "our Hamiltonian, this operator commutes with the total Hamiltonian,"
   ]
  },
  {
   "cell_type": "markdown",
   "id": "b1497a57",
   "metadata": {},
   "source": [
    "$$\n",
    "[\\hat{H},\\hat{P}] = 0,\n",
    "$$"
   ]
  },
  {
   "cell_type": "markdown",
   "id": "4dafe672",
   "metadata": {},
   "source": [
    "meaning that $\\Psi_{\\lambda}(x_1, x_2, \\dots , x_N)$ is an eigenfunction of \n",
    "$\\hat{P}$ as well, that is"
   ]
  },
  {
   "cell_type": "markdown",
   "id": "d17e3dcd",
   "metadata": {},
   "source": [
    "$$\n",
    "\\hat{P}_{ij}\\Psi_{\\lambda}(x_1, x_2, \\dots,x_i,\\dots,x_j,\\dots,x_N)=\n",
    "\\beta\\Psi_{\\lambda}(x_1, x_2, \\dots,x_i,\\dots,x_j,\\dots,x_N),\n",
    "$$"
   ]
  },
  {
   "cell_type": "markdown",
   "id": "d9818b31",
   "metadata": {},
   "source": [
    "where $\\beta$ is the eigenvalue of $\\hat{P}$. We have introduced the suffix $ij$ in order to indicate that we permute particles $i$ and $j$. The variable $N$ refers to the number of particles.\n",
    "The Pauli principle tells us that the total wave function for a system of fermions\n",
    "has to be antisymmetric, resulting in the eigenvalue $\\beta = -1$.   The variable $N$ represents the number of particles.\n",
    "\n",
    "If we deal with fermions, we assume that  we can approximate the exact eigenfunction with a Slater determinant"
   ]
  },
  {
   "cell_type": "markdown",
   "id": "442bf9c6",
   "metadata": {},
   "source": [
    "<!-- Equation labels as ordinary links -->\n",
    "<div id=\"eq:HartreeFockDet\"></div>\n",
    "\n",
    "$$\n",
    "\\begin{equation}\n",
    "   \\Phi(x_1, x_2,\\dots ,x_N,\\alpha,\\beta,\\dots, \\sigma)=\\frac{1}{\\sqrt{N!}}\n",
    "\\left| \\begin{array}{ccccc} \\psi_{\\alpha}(x_1)& \\psi_{\\alpha}(x_2)& \\dots & \\dots & \\psi_{\\alpha}(x_N)\\\\\n",
    "                            \\psi_{\\beta}(x_1)&\\psi_{\\beta}(x_2)& \\dots & \\dots & \\psi_{\\beta}(x_N)\\\\  \n",
    "                            \\dots & \\dots & \\dots & \\dots & \\dots \\\\\n",
    "                            \\dots & \\dots & \\dots & \\dots & \\dots \\\\\n",
    "                     \\psi_{\\sigma}(x_1)&\\psi_{\\sigma}(x_2)& \\dots & \\dots & \\psi_{\\sigma}(x_N)\\end{array} \\right|, \\label{eq:HartreeFockDet} \\tag{4}\n",
    "\\end{equation}\n",
    "$$"
   ]
  },
  {
   "cell_type": "markdown",
   "id": "13dae370",
   "metadata": {},
   "source": [
    "where  $x_i$  stand for the coordinates and spin values of a particle $i$ and $\\alpha,\\beta,\\dots, \\gamma$ \n",
    "are quantum numbers needed to describe remaining quantum numbers.  \n",
    "This ansatz for the computational basis is often based on single-particle functions which are eigenfunctions of a part of the total Hamiltonian. Most frequently, these single-particle basis functions are eigenpairs of the non-interacting part of the Hamiltonian (normally defined by kinetic and external potential operators).\n",
    "\n",
    "For Fermions (identical and indistinguishable particles) we will \n",
    "form an ansatz for a given state in terms of so-called Slater determinants determined\n",
    "by a chosen basis of single-particle functions. \n",
    "\n",
    "For a given $n\\times n$ matrix $\\mathbf{A}$ we can write its determinant"
   ]
  },
  {
   "cell_type": "markdown",
   "id": "b0fa5fdb",
   "metadata": {},
   "source": [
    "$$\n",
    "det(\\mathbf{A})=|\\mathbf{A}|=\n",
    "\\left| \\begin{array}{ccccc} a_{11}& a_{12}& \\dots & \\dots & a_{1n}\\\\\n",
    "                            a_{21}&a_{22}& \\dots & \\dots & a_{2n}\\\\  \n",
    "                            \\dots & \\dots & \\dots & \\dots & \\dots \\\\\n",
    "                            \\dots & \\dots & \\dots & \\dots & \\dots \\\\\n",
    "                            a_{n1}& a_{n2}& \\dots & \\dots & a_{nn}\\end{array} \\right|,\n",
    "$$"
   ]
  },
  {
   "cell_type": "markdown",
   "id": "539ea16e",
   "metadata": {},
   "source": [
    "in a more compact form as"
   ]
  },
  {
   "cell_type": "markdown",
   "id": "dce2dede",
   "metadata": {},
   "source": [
    "$$\n",
    "|\\mathbf{A}|= \\sum_{i=1}^{n!}(-1)^{p_i}\\hat{P}_i a_{11}a_{22}\\dots a_{nn},\n",
    "$$"
   ]
  },
  {
   "cell_type": "markdown",
   "id": "788c4ad6",
   "metadata": {},
   "source": [
    "where $\\hat{P}_i$ is a permutation operator which permutes the column indices $1,2,3,\\dots,n$\n",
    "and the sum runs over all $n!$ permutations.  The quantity $p_i$ represents the number of transpositions of column indices that are needed in order to bring a given permutation back to its initial ordering, in our case given by $a_{11}a_{22}\\dots a_{nn}$ here.\n",
    "\n",
    "A simple $2\\times 2$ determinant illustrates this. We have"
   ]
  },
  {
   "cell_type": "markdown",
   "id": "d6b55e4f",
   "metadata": {},
   "source": [
    "$$\n",
    "det(\\mathbf{A})=\n",
    "\\left| \\begin{array}{cc} a_{11}& a_{12}\\\\\n",
    "                            a_{21}&a_{22}\\end{array} \\right|= (-1)^0a_{11}a_{22}+(-1)^1a_{12}a_{21},\n",
    "$$"
   ]
  },
  {
   "cell_type": "markdown",
   "id": "ae6b0775",
   "metadata": {},
   "source": [
    "where in the last term we have interchanged the column indices $1$ and\n",
    "$2$. The natural ordering we have chosen is $a_{11}a_{22}$.\n",
    "\n",
    "We define our new single-particle basis (this is a normal approach for\n",
    "Hartree-Fock theory) by performing a unitary transformation on our\n",
    "previous basis (labelled with greek indices) as"
   ]
  },
  {
   "cell_type": "markdown",
   "id": "4099ab41",
   "metadata": {},
   "source": [
    "$$\n",
    "\\vert \\psi\\rangle_i  = \\sum_{j} u_{ij}\\vert \\phi\\rangle_j.\n",
    "$$"
   ]
  },
  {
   "cell_type": "markdown",
   "id": "5aba5a8b",
   "metadata": {},
   "source": [
    "If the basis has infinitely many solutions, we need to truncate the\n",
    "above sum.  We assume that the basis $\\vert\\phi\\rangle_j$ is\n",
    "orthogonal.\n",
    "\n",
    "If we stay with determinants, a feature which will become useful is to\n",
    "expand a new determinant in terms of a previous one that is defined by\n",
    "a given set of single-particle state functions.  As discussed above,\n",
    "we can define a new basis that is a linear combination of another\n",
    "basis (assumed to be orthogonal and normalized).  This means that if\n",
    "the coefficients $u_{ij}$ belong to a unitary or orthogonal\n",
    "orthogonality is preserved, as discussed above.\n",
    "\n",
    "This propertry is extremely useful when we build up a basis of many-body Stater determinant based states. \n",
    "\n",
    "Let us now for simplicity drop our references to quantum mechanical basis states.\n",
    "Consider the following determinant"
   ]
  },
  {
   "cell_type": "markdown",
   "id": "bb36cbf0",
   "metadata": {},
   "source": [
    "$$\n",
    "\\left| \\begin{array}{cc} \\alpha_1b_{11}+\\alpha_2sb_{12}& a_{12}\\\\\n",
    "                         \\alpha_1b_{21}+\\alpha_2b_{22}&a_{22}\\end{array} \\right|=\\alpha_1\\left|\\begin{array}{cc} b_{11}& a_{12}\\\\\n",
    "                         b_{21}&a_{22}\\end{array} \\right|+\\alpha_2\\left| \\begin{array}{cc} b_{12}& a_{12}\\\\b_{22}&a_{22}\\end{array} \\right|\n",
    "$$"
   ]
  },
  {
   "cell_type": "markdown",
   "id": "3f2da1d6",
   "metadata": {},
   "source": [
    "We can generalize this to  an $n\\times n$ matrix and have"
   ]
  },
  {
   "cell_type": "markdown",
   "id": "9d2f4cce",
   "metadata": {},
   "source": [
    "$$\n",
    "\\left| \\begin{array}{cccccc} a_{11}& a_{12} & \\dots & \\sum_{k=1}^n c_k b_{1k} &\\dots & a_{1n}\\\\\n",
    "a_{21}& a_{22} & \\dots & \\sum_{k=1}^n c_k b_{2k} &\\dots & a_{2n}\\\\\n",
    "\\dots & \\dots & \\dots & \\dots & \\dots & \\dots \\\\\n",
    "\\dots & \\dots & \\dots & \\dots & \\dots & \\dots \\\\\n",
    "a_{n1}& a_{n2} & \\dots & \\sum_{k=1}^n c_k b_{nk} &\\dots & a_{nn}\\end{array} \\right|=\n",
    "\\sum_{k=1}^n c_k\\left| \\begin{array}{cccccc} a_{11}& a_{12} & \\dots &  b_{1k} &\\dots & a_{1n}\\\\\n",
    "a_{21}& a_{22} & \\dots &  b_{2k} &\\dots & a_{2n}\\\\\n",
    "\\dots & \\dots & \\dots & \\dots & \\dots & \\dots\\\\\n",
    "\\dots & \\dots & \\dots & \\dots & \\dots & \\dots\\\\\n",
    "a_{n1}& a_{n2} & \\dots &  b_{nk} &\\dots & a_{nn}\\end{array} \\right| .\n",
    "$$"
   ]
  },
  {
   "cell_type": "markdown",
   "id": "1dd8bd2a",
   "metadata": {},
   "source": [
    "This is a property we will use in our discussions of different many-body methods in later chapters. \n",
    "\n",
    "We can generalize the previous results, now \n",
    "with all elements $a_{ij}$  being given as functions of \n",
    "linear combinations  of various coefficients $c_{ij}$ and $b_{ij}$,"
   ]
  },
  {
   "cell_type": "markdown",
   "id": "6562d587",
   "metadata": {},
   "source": [
    "$$\n",
    "\\left| \\begin{array}{cccccc} \\sum_{k=1}^n b_{1k}c_{k1}& \\sum_{k=1}^n b_{1k}c_{k2} & \\dots & \\sum_{k=1}^n b_{1k}c_{kj}  &\\dots & \\sum_{k=1}^n b_{1k}c_{kn}\\\\\n",
    "\\sum_{k=1}^n b_{2k}c_{k1}& \\sum_{k=1}^n b_{2k}c_{k2} & \\dots & \\sum_{k=1}^n b_{2k}c_{kj} &\\dots & \\sum_{k=1}^n b_{2k}c_{kn}\\\\\n",
    "\\dots & \\dots & \\dots & \\dots & \\dots & \\dots \\\\\n",
    "\\dots & \\dots & \\dots & \\dots & \\dots &\\dots \\\\\n",
    "\\sum_{k=1}^n b_{nk}c_{k1}& \\sum_{k=1}^n b_{nk}c_{k2} & \\dots & \\sum_{k=1}^n b_{nk}c_{kj} &\\dots & \\sum_{k=1}^n b_{nk}c_{kn}\\end{array} \\right|=det(\\mathbf{C})det(\\mathbf{B}),\n",
    "$$"
   ]
  },
  {
   "cell_type": "markdown",
   "id": "f3117e63",
   "metadata": {},
   "source": [
    "where $det(\\mathbf{C})$ and $det(\\mathbf{B})$ are the determinants of $n\\times n$ matrices\n",
    "with elements $c_{ij}$ and $b_{ij}$ respectively.  \n",
    "This is a property we will use in our Hartree-Fock discussions. Convince yourself about the correctness of the above expression by setting $n=2$. \n",
    "\n",
    "With our definition of the new basis in terms of an orthogonal basis we have (dropping the bra-ket notation)"
   ]
  },
  {
   "cell_type": "markdown",
   "id": "49266d09",
   "metadata": {},
   "source": [
    "$$\n",
    "\\psi_p(x)  = \\sum_{\\lambda} u_{p\\lambda}\\phi_{\\lambda}(x).\n",
    "$$"
   ]
  },
  {
   "cell_type": "markdown",
   "id": "4a8230ab",
   "metadata": {},
   "source": [
    "If the coefficients $u_{p\\lambda}$ belong to an orthogonal or unitary matrix, the new basis\n",
    "is also orthogonal. \n",
    "Our Slater determinant in the new basis $\\psi_p(x)$ is written as"
   ]
  },
  {
   "cell_type": "markdown",
   "id": "342d940f",
   "metadata": {},
   "source": [
    "$$\n",
    "\\frac{1}{\\sqrt{N!}}\n",
    "\\left| \\begin{array}{ccccc} \\psi_{p}(x_1)& \\psi_{p}(x_2)& \\dots & \\dots & \\psi_{p}(x_N)\\\\\n",
    "                            \\psi_{q}(x_1)&\\psi_{q}(x_2)& \\dots & \\dots & \\psi_{q}(x_N)\\\\  \n",
    "                            \\dots & \\dots & \\dots & \\dots & \\dots \\\\\n",
    "                            \\dots & \\dots & \\dots & \\dots & \\dots \\\\\n",
    "                     \\psi_{t}(x_1)&\\psi_{t}(x_2)& \\dots & \\dots & \\psi_{t}(x_N)\\end{array} \\right|=\\frac{1}{\\sqrt{N!}}\n",
    "\\left| \\begin{array}{ccccc} \\sum_{\\lambda} u_{p\\lambda}\\phi_{\\lambda}(x_1)& \\sum_{\\lambda} u_{p\\lambda}\\phi_{\\lambda}(x_2)& \\dots & \\dots & \\sum_{\\lambda} u_{p\\lambda}\\phi_{\\lambda}(x_N)\\\\\n",
    "                            \\sum_{\\lambda} u_{q\\lambda}\\phi_{\\lambda}(x_1)&\\sum_{\\lambda} u_{q\\lambda}\\phi_{\\lambda}(x_2)& \\dots & \\dots & \\sum_{\\lambda} u_{q\\lambda}\\phi_{\\lambda}(x_N)\\\\  \n",
    "                            \\dots & \\dots & \\dots & \\dots & \\dots \\\\\n",
    "                            \\dots & \\dots & \\dots & \\dots & \\dots \\\\\n",
    "                     \\sum_{\\lambda} u_{t\\lambda}\\phi_{\\lambda}(x_1)&\\sum_{\\lambda} u_{t\\lambda}\\phi_{\\lambda}(x_2)& \\dots & \\dots & \\sum_{\\lambda} u_{t\\lambda}\\phi_{\\lambda}(x_N)\\end{array} \\right|,\n",
    "$$"
   ]
  },
  {
   "cell_type": "markdown",
   "id": "554ac1f1",
   "metadata": {},
   "source": [
    "which is nothing but $det(\\mathbf{C})det(\\Phi)$, with $det(\\Phi)$ being the determinant given by the basis functions $\\phi_{\\lambda}(x)$."
   ]
  },
  {
   "cell_type": "markdown",
   "id": "53482333",
   "metadata": {},
   "source": [
    "## Simple  Hamiltonian models\n",
    "\n",
    "In order to study get started with coding, we will study two simple Hamiltonian systems, one which we can use for a single qubit systems and one which has as basis functions a two-qubit system. These two simple Hamiltonians exhibit also something which is called level crossing, a feature which we will use in later studies of entanglement.\n",
    "\n",
    "We study first a simple two-level system. Thereafter we\n",
    "extend our model to a four-level system which can be\n",
    "interpreted as composed of two separate (not necesseraly identical)\n",
    "subsystems.\n",
    "\n",
    "We let our hamiltonian depend linearly on a strength parameter $z$"
   ]
  },
  {
   "cell_type": "markdown",
   "id": "58ebb211",
   "metadata": {},
   "source": [
    "$$\n",
    "H=H_0+\\lambda H_\\mathrm{I},\n",
    "$$"
   ]
  },
  {
   "cell_type": "markdown",
   "id": "8371b622",
   "metadata": {},
   "source": [
    "with $\\lambda \\in [0,1]$, where the limits $\\lambda=0$ and $\\lambda=1$\n",
    "represent the non-interacting (or unperturbed) and fully interacting\n",
    "system, respectively.  The model is an eigenvalue problem with only\n",
    "two available states, which we label $\\vert 0\\rangle$ and $\\vert\n",
    "1\\rangle$, respectively. Below we will let state $\\vert 0 \\rangle$\n",
    "represent the lowest state (often referred to as model-space state)\n",
    "with its pertinent eigenvalue and eigenvector whereas state $\\vert 1\\rangle$ represents the eigenvalue of\n",
    "the excluded space.  The non-interacting solutions to our problem are"
   ]
  },
  {
   "cell_type": "markdown",
   "id": "79161b93",
   "metadata": {},
   "source": [
    "<!-- Equation labels as ordinary links -->\n",
    "<div id=\"_auto3\"></div>\n",
    "\n",
    "$$\n",
    "\\begin{equation}\n",
    "       H_0\\vert 0 \\rangle =\\epsilon_0\\vert 0 \\rangle,\n",
    "\\label{_auto3} \\tag{5}\n",
    "\\end{equation}\n",
    "$$"
   ]
  },
  {
   "cell_type": "markdown",
   "id": "679cc363",
   "metadata": {},
   "source": [
    "and"
   ]
  },
  {
   "cell_type": "markdown",
   "id": "d3c00ab4",
   "metadata": {},
   "source": [
    "<!-- Equation labels as ordinary links -->\n",
    "<div id=\"_auto4\"></div>\n",
    "\n",
    "$$\n",
    "\\begin{equation}\n",
    "       H_0\\vert 1\\rangle =\\epsilon_1\\vert 1\\rangle,\n",
    "\\label{_auto4} \\tag{6}\n",
    "\\end{equation}\n",
    "$$"
   ]
  },
  {
   "cell_type": "markdown",
   "id": "138d262c",
   "metadata": {},
   "source": [
    "with $\\epsilon_0 < \\epsilon_1$. We label the off-diagonal matrix\n",
    "elements $X$, while $X_0=\\langle 0 \\vert H_I\\vert 0 \\rangle$ and\n",
    "$X_1=\\langle 1 \\vert H_1\\vert 1 \\rangle$.  The exact eigenvalue\n",
    "problem"
   ]
  },
  {
   "cell_type": "markdown",
   "id": "f04ace01",
   "metadata": {},
   "source": [
    "<!-- Equation labels as ordinary links -->\n",
    "<div id=\"eq:twolevelH\"></div>\n",
    "\n",
    "$$\n",
    "\\label{eq:twolevelH} \\tag{7}\n",
    "\\begin{equation}\n",
    "\\left(\\begin{array}{cc}\\epsilon_0+\\lambda X_0 &\\lambda X \\\\\n",
    "\\lambda X &\\epsilon_1+\\lambda X_1 \\end{array}\\right)\n",
    "\\end{equation}\n",
    "$$"
   ]
  },
  {
   "cell_type": "markdown",
   "id": "17f68a7a",
   "metadata": {},
   "source": [
    "yields"
   ]
  },
  {
   "cell_type": "markdown",
   "id": "0d4c42d2",
   "metadata": {},
   "source": [
    "<!-- Equation labels as ordinary links -->\n",
    "<div id=\"eq:exact\"></div>\n",
    "\n",
    "$$\n",
    "\\begin{eqnarray}\n",
    "\\label{eq:exact} \\tag{8}\n",
    "     E(\\lambda)=&\\frac{1}{2}\\left\\{\\epsilon_0 +\\epsilon_1 +\\lambda X_0\n",
    "     +\\lambda X_1 \\pm \\left(\n",
    "     \\epsilon_1 -\\epsilon_0 +\\lambda X_1-\\lambda X_0\\right) \\right. \\\\ \\nonumber\n",
    "     & \\left. \\times\\sqrt{1+\\frac{4\\lambda^2X^2}{\\left(\n",
    "     \\epsilon_1 -\\epsilon_0 +\\lambda X_1-\\lambda X_0\\right)^2}}\n",
    "     \\right\\}.\n",
    "\\end{eqnarray}\n",
    "$$"
   ]
  },
  {
   "cell_type": "markdown",
   "id": "67150948",
   "metadata": {},
   "source": [
    "In the results below we set the parameters $\\epsilon_0=0$,\n",
    "$\\epsilon_1=4$, $X_0=-X_1=3$ and $X=0.2$.  This eigenvalue problem can\n",
    "easily be rewritten in terms of the standard Pauli matrices.  The\n",
    "non-interacting solutions represent our computational basis.\n",
    "Pertinent to our choice of parameters, is that at $\\lambda\\geq 2/3$,\n",
    "the lowest eigenstate is dominated by $\\vert 1\\rangle$ while the upper\n",
    "is $\\vert 0 \\rangle$. At $\\lambda=1$ the $\\vert 0 \\rangle$ mixing of\n",
    "the lowest eigenvalue is $1\\%$ while for $\\lambda\\leq 2/3$ we have a\n",
    "$\\vert 0 \\rangle$ component of more than $90\\%$.  The character of the\n",
    "eigenvectors has therefore been interchanged when passing $z=2/3$. The\n",
    "value of the parameter $X$ represents the strength of the coupling\n",
    "between the model space and the excluded space.  The following code\n",
    "computes and plots the eigenvalues."
   ]
  },
  {
   "cell_type": "code",
   "execution_count": 1,
   "id": "09b45852",
   "metadata": {},
   "outputs": [],
   "source": [
    "%matplotlib inline\n",
    "\n",
    "%matplotlib inline\n",
    "\n",
    "from  matplotlib import pyplot as plt\n",
    "import numpy as np\n",
    "dim = 2\n",
    "#Setting up a tridiagonal matrix and finding eigenvectors and eigenvalues\n",
    "Hamiltonian = np.zeros((dim,dim))\n",
    "#number of lambda values\n",
    "n = 100\n",
    "lmbd = np.linspace(0.,1.0,n)\n",
    "e0 = 0.0\n",
    "e1 = 4.0\n",
    "X = 0.20\n",
    "Xp = 3.0\n",
    "Eigenvalue = np.zeros((dim,n))\n",
    "for i in range(n): \n",
    "    Hamiltonian[0,0] = lmbd[i]*Xp+e0\n",
    "    Hamiltonian[0,1] = lmbd[i]*X\n",
    "    Hamiltonian[1,0] = Hamiltonian[0,1]\n",
    "    Hamiltonian[1,1] = e1+lmbd[i]*(-Xp)\n",
    "    # diagonalize and obtain eigenvalues, not necessarily sorted\n",
    "    EigValues, EigVectors = np.linalg.eig(Hamiltonian)\n",
    "    # sort eigenvectors and eigenvalues\n",
    "    permute = EigValues.argsort()\n",
    "    EigValues = EigValues[permute]\n",
    "    EigVectors = EigVectors[:,permute]\n",
    "    Eigenvalue[0,i] = EigValues[0]\n",
    "    Eigenvalue[1,i] = EigValues[1]\n",
    "plt.plot(lmbd, Eigenvalue[0,:] ,'b-',lmbd, Eigenvalue[1,:],'g-',)\n",
    "plt.xlabel('$\\lambda$')\n",
    "plt.ylabel('Eigenvalues')\n",
    "plt.show()"
   ]
  },
  {
   "cell_type": "markdown",
   "id": "0d623bca",
   "metadata": {},
   "source": [
    "This model exhibits a simple level crossing where the\n",
    "composition of the final interacting states change character as we\n",
    "gradually switch on the interaction.\n",
    "\n",
    "We extend the simple two-level system to a four level\n",
    "system. This system can be thought of as composed of two subsystems\n",
    "$A$ and $B$. Each subsystem has computational basis states"
   ]
  },
  {
   "cell_type": "markdown",
   "id": "0dcdbcc8",
   "metadata": {},
   "source": [
    "$$\n",
    "\\vert 0\\rangle_{\\mathrm{A,B}}=\\begin{bmatrix} 1 & 0\\end{bmatrix}^T \\hspace{1cm} \\vert 1\\rangle_{\\mathrm{A,B}}=\\begin{bmatrix} 0 & 1\\end{bmatrix}^T.\n",
    "$$"
   ]
  },
  {
   "cell_type": "markdown",
   "id": "eca701f7",
   "metadata": {},
   "source": [
    "The subsystems could represent single particles or composite many-particle systems of a given symmetry.\n",
    "This leads to the many-body computational basis states"
   ]
  },
  {
   "cell_type": "markdown",
   "id": "cb324282",
   "metadata": {},
   "source": [
    "$$\n",
    "\\vert 00\\rangle = \\vert 0\\rangle_{\\mathrm{A}}\\otimes \\vert 0\\rangle_{\\mathrm{B}}=\\begin{bmatrix} 1 & 0 & 0 &0\\end{bmatrix}^T,\n",
    "$$"
   ]
  },
  {
   "cell_type": "markdown",
   "id": "afee0b97",
   "metadata": {},
   "source": [
    "and"
   ]
  },
  {
   "cell_type": "markdown",
   "id": "6df46006",
   "metadata": {},
   "source": [
    "$$\n",
    "\\vert 10\\rangle = \\vert 1\\rangle_{\\mathrm{A}}\\otimes \\vert 0\\rangle_{\\mathrm{B}}=\\begin{bmatrix} 0 & 1 & 0 &0\\end{bmatrix}^T,\n",
    "$$"
   ]
  },
  {
   "cell_type": "markdown",
   "id": "962fb5b6",
   "metadata": {},
   "source": [
    "and"
   ]
  },
  {
   "cell_type": "markdown",
   "id": "f7582fe8",
   "metadata": {},
   "source": [
    "$$\n",
    "\\vert 01\\rangle = \\vert 0\\rangle_{\\mathrm{A}}\\otimes \\vert 1\\rangle_{\\mathrm{B}}=\\begin{bmatrix} 0 & 0 & 1 &0\\end{bmatrix}^T,\n",
    "$$"
   ]
  },
  {
   "cell_type": "markdown",
   "id": "72ee63c2",
   "metadata": {},
   "source": [
    "and finally"
   ]
  },
  {
   "cell_type": "markdown",
   "id": "7b7fa51a",
   "metadata": {},
   "source": [
    "$$\n",
    "\\vert 11\\rangle = \\vert 1\\rangle_{\\mathrm{A}}\\otimes \\vert 1\\rangle_{\\mathrm{B}}=\\begin{bmatrix} 0 & 0 & 0 &1\\end{bmatrix}^T.\n",
    "$$"
   ]
  },
  {
   "cell_type": "markdown",
   "id": "950128dd",
   "metadata": {},
   "source": [
    "These computational basis states define also the eigenstates of the non-interacting  Hamiltonian"
   ]
  },
  {
   "cell_type": "markdown",
   "id": "80e33693",
   "metadata": {},
   "source": [
    "$$\n",
    "H_0\\vert 00 \\rangle = \\epsilon_{00}\\vert 00 \\rangle,\n",
    "$$"
   ]
  },
  {
   "cell_type": "markdown",
   "id": "b57a4394",
   "metadata": {},
   "source": [
    "$$\n",
    "H_0\\vert 10 \\rangle = \\epsilon_{10}\\vert 10 \\rangle,\n",
    "$$"
   ]
  },
  {
   "cell_type": "markdown",
   "id": "57f7fec0",
   "metadata": {},
   "source": [
    "$$\n",
    "H_0\\vert 01 \\rangle = \\epsilon_{01}\\vert 01 \\rangle,\n",
    "$$"
   ]
  },
  {
   "cell_type": "markdown",
   "id": "655cc7f8",
   "metadata": {},
   "source": [
    "and"
   ]
  },
  {
   "cell_type": "markdown",
   "id": "46fec787",
   "metadata": {},
   "source": [
    "$$\n",
    "H_0\\vert 11 \\rangle = \\epsilon_{11}\\vert 11 \\rangle.\n",
    "$$"
   ]
  },
  {
   "cell_type": "markdown",
   "id": "592ba34d",
   "metadata": {},
   "source": [
    "The interacting part of the Hamiltonian $H_{\\mathrm{I}}$ is given by the tensor product of two $\\sigma_x$ and $\\sigma_z$  matrices, respectively, that is"
   ]
  },
  {
   "cell_type": "markdown",
   "id": "8fe37308",
   "metadata": {},
   "source": [
    "$$\n",
    "H_{\\mathrm{I}}=H_x\\sigma_x\\otimes\\sigma_x+H_z\\sigma_z\\otimes\\sigma_z,\n",
    "$$"
   ]
  },
  {
   "cell_type": "markdown",
   "id": "fe8c9085",
   "metadata": {},
   "source": [
    "where $H_x$ and $H_z$ are interaction strength parameters. Our final Hamiltonian matrix is given by"
   ]
  },
  {
   "cell_type": "markdown",
   "id": "aed9e541",
   "metadata": {},
   "source": [
    "$$\n",
    "\\boldsymbol{H}=\\begin{bmatrix} \\epsilon_{00}+H_z & 0 & 0 & H_x \\\\\n",
    "                       0  & \\epsilon_{10}-H_z & H_x & 0 \\\\\n",
    "\t\t       0 & H_x & \\epsilon_{01}-H_z & 0 \\\\\n",
    "\t\t       H_x & 0 & 0 & \\epsilon_{11} +H_z \\end{bmatrix}.\n",
    "$$"
   ]
  },
  {
   "cell_type": "markdown",
   "id": "3c9c7f97",
   "metadata": {},
   "source": [
    "The four eigenstates of the above Hamiltonian matrix can in turn be used to\n",
    "define density matrices. As an example, the density matrix of the\n",
    "first eigenstate (lowest energy $E_0$) $\\Psi_0$ is"
   ]
  },
  {
   "cell_type": "markdown",
   "id": "2c43a68b",
   "metadata": {},
   "source": [
    "$$\n",
    "\\rho_0=\\left(\\alpha_{00}\\vert 00 \\rangle\\langle 00\\vert+\\alpha_{10}\\vert 10 \\rangle\\langle 10\\vert+\\alpha_{01}\\vert 01 \\rangle\\langle 01\\vert+\\alpha_{11}\\vert 11 \\rangle\\langle 11\\vert\\right),\n",
    "$$"
   ]
  },
  {
   "cell_type": "markdown",
   "id": "0a212e9d",
   "metadata": {},
   "source": [
    "where the coefficients $\\alpha_{ij}$ are the eigenvector coefficients\n",
    "resulting from the solution of the above eigenvalue problem."
   ]
  },
  {
   "cell_type": "code",
   "execution_count": 2,
   "id": "95f9099d",
   "metadata": {},
   "outputs": [],
   "source": [
    "%matplotlib inline\n",
    "from  matplotlib import pyplot as plt\n",
    "import numpy as np\n",
    "from scipy.linalg import logm, expm\n",
    "def log2M(a): # base 2 matrix logarithm\n",
    "    return logm(a)/np.log(2.0)\n",
    "\n",
    "dim = 4\n",
    "Hamiltonian = np.zeros((dim,dim))\n",
    "#number of lambda values\n",
    "n = 40\n",
    "lmbd = np.linspace(0.0,1.0,n)\n",
    "Hx = 2.0\n",
    "Hz = 3.0\n",
    "# Non-diagonal part as sigma_x tensor product with sigma_x\n",
    "sx = np.matrix([[0,1],[1,0]])\n",
    "sx2 = Hx*np.kron(sx, sx)\n",
    "# Diagonal part as sigma_z tensor product with sigma_z\n",
    "sz = np.matrix([[1,0],[0,-1]])\n",
    "sz2 = Hz*np.kron(sz, sz)\n",
    "noninteracting = [0.0, 2.5, 6.5, 7.0]\n",
    "D = np.diag(noninteracting)\n",
    "Eigenvalue = np.zeros((dim,n))\n",
    "\n",
    "for i in range(n): \n",
    "    Hamiltonian = lmbd[i]*(sx2+sz2)+D\n",
    "    # diagonalize and obtain eigenvalues, not necessarily sorted\n",
    "    EigValues, EigVectors = np.linalg.eig(Hamiltonian)\n",
    "    # sort eigenvectors and eigenvalues\n",
    "    permute = EigValues.argsort()\n",
    "    EigValues = EigValues[permute]\n",
    "    EigVectors = EigVectors[:,permute]\n",
    "    # Compute density matrix for selected system state, here ground state\n",
    "    DensityMatrix = np.zeros((dim,dim))\n",
    "    DensityMatrix = np.outer(EigVectors[:,0],EigVectors[:,0])\n",
    "    # Plotting eigenvalues \n",
    "    Eigenvalue[0,i] = EigValues[0]\n",
    "    Eigenvalue[1,i] = EigValues[1]\n",
    "    Eigenvalue[2,i] = EigValues[2]\n",
    "    Eigenvalue[3,i] = EigValues[3]\n",
    "plt.plot(lmbd, Eigenvalue[0,:] ,'b-',lmbd, Eigenvalue[1,:],'g-',)\n",
    "plt.plot(lmbd, Eigenvalue[2,:] ,'r-',lmbd, Eigenvalue[3,:],'y-',)\n",
    "plt.xlabel('$\\lambda$')\n",
    "plt.ylabel('Eigenvalues')\n",
    "plt.show()"
   ]
  },
  {
   "cell_type": "markdown",
   "id": "5a25f5e6",
   "metadata": {},
   "source": [
    "### First exercise\n",
    "\n",
    "The exercises we present each week are meant to build the basis for\n",
    "the two projects we will work on during the semester.  The first\n",
    "project deals with implementing the so-called **Phase Estimation** and\n",
    "**Variational Quantum Eigensolver** algorithms for finding the eigenvalues and eigenvectors of selected Hamiltonians.\n",
    "Feel free to use the above codes in order to get started.\n",
    "\n",
    "1. Write a function which sets up a one-qubit basis and apply the various Pauli matrices to these basis states.\n",
    "\n",
    "2. Apply the Hadamard and Phase gates to the same one-qubit basis states and study their actions on these states.\n",
    "\n",
    "3. Rewrite the Hamiltonian of Eq. ([7](#eq:twolevelH)) in terms of the Pauli $x$ and $z$ matrices and find the two eigenvalues as function of the interaction strength $\\lambda$.\n",
    "\n",
    "4. Study the behavior of these eigenstates as functions of the interaction strength $\\lambda$.\n",
    "\n",
    "5. Using the one-qubit basis write a code which sets up a two-qubit basis and encodes this basis.\n",
    "\n",
    "6. Use the Hamiltonian for the two-qubit example to find the eigenpairs as functions of the interaction strength $\\lambda$ and study the final eigenvectors as functions of the admixture of the original basis states."
   ]
  },
  {
   "cell_type": "markdown",
   "id": "4736ade7",
   "metadata": {},
   "source": [
    "# Spectral Decomposition, Measurements and Density matrices"
   ]
  },
  {
   "cell_type": "markdown",
   "id": "e688fbb6",
   "metadata": {},
   "source": [
    "## Introduction\n",
    "\n",
    "In order to study entanglement and why it is so important for quantum\n",
    "computing, we need to introduce some basic measures and useful\n",
    "quantities.  These quantities are the spectral decomposition of\n",
    "hermitian operators, how these are then used to define measurements\n",
    "and how we can define so-called density operators (matrices). These\n",
    "are all quantities which will become very useful when we discuss\n",
    "entanglement and in particular how to quantify it. In order to define\n",
    "these quantities we need first to remind ourselves about some basic linear\n",
    "algebra properties of hermitian operators and matrices."
   ]
  },
  {
   "cell_type": "markdown",
   "id": "034901e9",
   "metadata": {},
   "source": [
    "## Basic properties of hermitian operators\n",
    "\n",
    "The operators we typically encounter in quantum mechanical studies\n",
    "1. Hermitian (self-adjoint) meaning that for example the elements of a Hermitian matrix $\\boldsymbol{U}$ obey $u_{ij}=u_{ji}^*$.\n",
    "\n",
    "2. Unitary $\\boldsymbol{U}\\boldsymbol{U}^{\\dagger}=\\boldsymbol{U}^{\\dagger}\\boldsymbol{U}=\\boldsymbol{I}$, where $\\boldsymbol{I}$ is the unit matrix\n",
    "\n",
    "3. The oparator $\\boldsymbol{U}$ and its self-adjoint commute (often labeled as normal operators), that is  $[\\boldsymbol{U},\\boldsymbol{U}^{\\dagger}]=0$. An operator is **normal** if and only if it is diagonalizable. A Hermitian operator is normal.\n",
    "\n",
    "Unitary operators in a Hilbert space preserve the norm and orthogonality. If $\\boldsymbol{U}$ is a unitary operator acting on a state $\\vert \\psi_j\\rangle$, the action of"
   ]
  },
  {
   "cell_type": "markdown",
   "id": "f5ae1bfa",
   "metadata": {},
   "source": [
    "$$\n",
    "\\vert \\phi_i\\rangle=\\boldsymbol{U}\\vert \\psi_j\\rangle,\n",
    "$$"
   ]
  },
  {
   "cell_type": "markdown",
   "id": "0acac2ce",
   "metadata": {},
   "source": [
    "preserves both the norm and orthogonality, that is $\\langle \\phi_i \\vert \\phi_j\\rangle=\\langle \\psi_i \\vert \\psi_j\\rangle=\\delta_{ij}$, as discussed earlier.\n",
    "\n",
    "As example, consider the Pauli matrix $\\sigma_x$. We have already seen that this matrix is a unitary matrix. Consider then an orthogonal and normalized basis $\\vert 0\\rangle^{\\dagger} =\\begin{bmatrix} 1 &  0\\end{bmatrix}$ and $\\vert 1\\rangle^{\\dagger} =\\begin{bmatrix} 0 &  1\\end{bmatrix}$ and a state which is a linear superposition of these two basis states"
   ]
  },
  {
   "cell_type": "markdown",
   "id": "f9b29309",
   "metadata": {},
   "source": [
    "$$\n",
    "\\vert \\psi_a\\rangle=\\alpha_0\\vert 0\\rangle +\\alpha_1\\vert 1\\rangle.\n",
    "$$"
   ]
  },
  {
   "cell_type": "markdown",
   "id": "018c2cfb",
   "metadata": {},
   "source": [
    "A new state $\\vert \\psi_b\\rangle$ is given by"
   ]
  },
  {
   "cell_type": "markdown",
   "id": "21f40d8c",
   "metadata": {},
   "source": [
    "$$\n",
    "\\vert \\psi_b\\rangle=\\sigma_x\\vert \\psi_a\\rangle=\\alpha_0\\vert 1\\rangle +\\alpha_1\\vert 0\\rangle.\n",
    "$$"
   ]
  },
  {
   "cell_type": "markdown",
   "id": "eeaec6e3",
   "metadata": {},
   "source": [
    "### Spectral Decomposition\n",
    "\n",
    "An important techanicality which we will use in the discussion of\n",
    "density matrices, entanglement, quantum entropies and other properties\n",
    "is the so-called spectral decomposition of an operator.\n",
    "\n",
    "Let $\\vert \\psi\\rangle$ be a vector in a Hilbert space of dimension $n$ and a hermitian operator $\\boldsymbol{A}$ defined in this\n",
    "space. Assume $\\vert \\psi\\rangle$ is an eigenvector of $\\boldsymbol{A}$ with eigenvalue $\\lambda$, that is"
   ]
  },
  {
   "cell_type": "markdown",
   "id": "c7a4be23",
   "metadata": {},
   "source": [
    "$$\n",
    "\\boldsymbol{A}\\vert \\psi\\rangle = \\lambda\\vert \\psi\\rangle = \\lambda \\boldsymbol{I}\\vert \\psi \\rangle,\n",
    "$$"
   ]
  },
  {
   "cell_type": "markdown",
   "id": "24327b0f",
   "metadata": {},
   "source": [
    "where we used $\\boldsymbol{I}\\vert \\psi \\rangle = 1 \\vert \\psi \\rangle$.\n",
    "Subtracting the right hand side from the left hand side gives"
   ]
  },
  {
   "cell_type": "markdown",
   "id": "44e84a2e",
   "metadata": {},
   "source": [
    "$$\n",
    "\\left[\\boldsymbol{A}-\\lambda \\boldsymbol{I}\\right]\\vert \\psi \\rangle=0,\n",
    "$$"
   ]
  },
  {
   "cell_type": "markdown",
   "id": "2392f8fa",
   "metadata": {},
   "source": [
    "which has a nontrivial solution only if the determinant\n",
    "$\\mathrm{det}(\\boldsymbol{A}-\\lambda\\boldsymbol{I})=0$.\n",
    "\n",
    "We define now an orthonormal basis $\\vert i \\rangle =\\{\\vert 0\n",
    "\\rangle, \\vert 1\\rangle, \\dots, \\vert n-1\\rangle$ in the same Hilbert\n",
    "space. We will assume that this basis is an eigenbasis of $\\boldsymbol{A}$ with eigenvalues $\\lambda_i$\n",
    "\n",
    "We expand a new vector using this eigenbasis of $\\boldsymbol{A}$"
   ]
  },
  {
   "cell_type": "markdown",
   "id": "889a5b56",
   "metadata": {},
   "source": [
    "$$\n",
    "\\vert \\psi \\rangle = \\sum_{i=0}^{n-1}\\alpha_i\\vert i\\rangle,\n",
    "$$"
   ]
  },
  {
   "cell_type": "markdown",
   "id": "bf694217",
   "metadata": {},
   "source": [
    "with the normalization condition $\\sum_{i=0}^{n-1}\\vert \\alpha_i\\vert^2$.\n",
    "Acting with $\\boldsymbol{A}$ on this new state results in"
   ]
  },
  {
   "cell_type": "markdown",
   "id": "8f3c84c1",
   "metadata": {},
   "source": [
    "$$\n",
    "\\boldsymbol{A}\\vert \\psi \\rangle = \\sum_{i=0}^{n-1}\\alpha_i\\boldsymbol{A}\\vert i\\rangle=\\sum_{i=0}^{n-1}\\alpha_i\\lambda_i\\vert i\\rangle.\n",
    "$$"
   ]
  },
  {
   "cell_type": "markdown",
   "id": "eeabda35",
   "metadata": {},
   "source": [
    "If we then use that the outer product of any state with itself defines a projection operator we have the projection operators"
   ]
  },
  {
   "cell_type": "markdown",
   "id": "f1eafa9d",
   "metadata": {},
   "source": [
    "$$\n",
    "\\boldsymbol{P}_{\\psi} = \\vert \\psi\\rangle\\langle \\psi\\vert,\n",
    "$$"
   ]
  },
  {
   "cell_type": "markdown",
   "id": "dd9dc8cb",
   "metadata": {},
   "source": [
    "and"
   ]
  },
  {
   "cell_type": "markdown",
   "id": "0da37d0b",
   "metadata": {},
   "source": [
    "$$\n",
    "\\boldsymbol{P}_{j} = \\vert j\\rangle\\langle j\\vert,\n",
    "$$"
   ]
  },
  {
   "cell_type": "markdown",
   "id": "bbebd170",
   "metadata": {},
   "source": [
    "we have that"
   ]
  },
  {
   "cell_type": "markdown",
   "id": "da61290f",
   "metadata": {},
   "source": [
    "$$\n",
    "\\boldsymbol{P}_{j}\\vert \\psi\\rangle=\\vert j\\rangle\\langle j\\vert\\sum_{i=0}^{n-1}\\alpha_i\\vert i\\rangle=\\sum_{i=0}^{n-1}\\alpha_i\\vert j\\rangle\\langle j\\vert i\\rangle,\n",
    "$$"
   ]
  },
  {
   "cell_type": "markdown",
   "id": "6d3b764e",
   "metadata": {},
   "source": [
    "which results in"
   ]
  },
  {
   "cell_type": "markdown",
   "id": "76c38d0a",
   "metadata": {},
   "source": [
    "$$\n",
    "\\boldsymbol{P}_{j}\\vert \\psi\\rangle=\\alpha_j\\vert j\\rangle,\n",
    "$$"
   ]
  },
  {
   "cell_type": "markdown",
   "id": "e53d4e1e",
   "metadata": {},
   "source": [
    "since $\\langle j\\vert i\\rangle$.\n",
    "With the last equation we can rewrite"
   ]
  },
  {
   "cell_type": "markdown",
   "id": "666b4f23",
   "metadata": {},
   "source": [
    "$$\n",
    "\\boldsymbol{A}\\vert \\psi \\rangle = \\sum_{i=0}^{n-1}\\alpha_i\\lambda_i\\vert i\\rangle=\\sum_{i=0}^{n-1}\\lambda_i\\boldsymbol{P}_i\\vert \\psi\\rangle,\n",
    "$$"
   ]
  },
  {
   "cell_type": "markdown",
   "id": "ee977641",
   "metadata": {},
   "source": [
    "from which we conclude that"
   ]
  },
  {
   "cell_type": "markdown",
   "id": "955eb2eb",
   "metadata": {},
   "source": [
    "$$\n",
    "\\boldsymbol{A}=\\sum_{i=0}^{n-1}\\lambda_i\\boldsymbol{P}_i.\n",
    "$$"
   ]
  },
  {
   "cell_type": "markdown",
   "id": "f889abd3",
   "metadata": {},
   "source": [
    "This is the spectral decomposition of a hermitian and normal operator. It is true for any state and it is independent of the basis. The spectral decomposition can in turn be used to exhaustively specify a measurement, as we will see in the next section.\n",
    "\n",
    "As an example, consider two states $\\vert \\psi_a\\rangle$ and $\\vert\n",
    "\\psi_b\\rangle$ that are eigenstates of $\\boldsymbol{A}$ with eigenvalues\n",
    "$\\lambda_a$ and $\\lambda_b$, respectively. In the diagonalization\n",
    "process we have obtained the coefficients $\\alpha_0$, $\\alpha_1$,\n",
    "$\\beta_0$ and $\\beta_1$ using an expansion in terms of the orthogonal\n",
    "basis $\\vert 0\\rangle$ and $\\vert 1\\rangle$. That is we have"
   ]
  },
  {
   "cell_type": "markdown",
   "id": "0548448a",
   "metadata": {},
   "source": [
    "$$\n",
    "\\vert \\psi_a\\rangle = \\alpha_0\\vert 0\\rangle+\\alpha_1\\vert 1\\rangle,\n",
    "$$"
   ]
  },
  {
   "cell_type": "markdown",
   "id": "a92a2e42",
   "metadata": {},
   "source": [
    "and"
   ]
  },
  {
   "cell_type": "markdown",
   "id": "5b8d634b",
   "metadata": {},
   "source": [
    "$$\n",
    "\\vert \\psi_b\\rangle = \\beta_0\\vert 0\\rangle+\\beta_1\\vert 1\\rangle,\n",
    "$$"
   ]
  },
  {
   "cell_type": "markdown",
   "id": "8fe0d1f6",
   "metadata": {},
   "source": [
    "with corresponding projection operators"
   ]
  },
  {
   "cell_type": "markdown",
   "id": "5fa5e362",
   "metadata": {},
   "source": [
    "$$\n",
    "\\boldsymbol{P}_a=\\vert \\psi_a\\rangle \\langle \\psi_a\\vert = \\begin{bmatrix} \\vert \\alpha_0\\vert^2 &\\alpha_0\\alpha_1^* \\\\\n",
    "                                                                   \\alpha_1\\alpha_0^* & \\vert \\alpha_1\\vert^* \\end{bmatrix},\n",
    "$$"
   ]
  },
  {
   "cell_type": "markdown",
   "id": "baf6ffa0",
   "metadata": {},
   "source": [
    "and"
   ]
  },
  {
   "cell_type": "markdown",
   "id": "5df0f74a",
   "metadata": {},
   "source": [
    "$$\n",
    "\\boldsymbol{P}_b=\\vert \\psi_b\\rangle \\langle \\psi_b\\vert = \\begin{bmatrix} \\vert \\beta_0\\vert^2 &\\beta_0\\beta_1^* \\\\\n",
    "                                                                   \\beta_1\\beta_0^* & \\vert \\beta_1\\vert^* \\end{bmatrix},\n",
    "$$"
   ]
  },
  {
   "cell_type": "markdown",
   "id": "e1f59821",
   "metadata": {},
   "source": [
    "resulting in the following spectral decomposition of $\\boldsymbol{A}$"
   ]
  },
  {
   "cell_type": "markdown",
   "id": "37efbf70",
   "metadata": {},
   "source": [
    "$$\n",
    "\\boldsymbol{A}=\\lambda_a \\vert \\psi_a\\rangle \\langle \\psi_a\\vert+\\lambda_b \\vert \\psi_b\\rangle \\langle \\psi_b\\vert,\n",
    "$$"
   ]
  },
  {
   "cell_type": "markdown",
   "id": "f57caf4d",
   "metadata": {},
   "source": [
    "which written out in all its details reads"
   ]
  },
  {
   "cell_type": "markdown",
   "id": "b217b6fb",
   "metadata": {},
   "source": [
    "$$\n",
    "\\boldsymbol{A}=\\lambda_a\\begin{bmatrix} \\vert \\alpha_0\\vert^2 &\\alpha_0\\alpha_1^* \\\\\n",
    "                                                                   \\alpha_1\\alpha_0^* & \\vert \\alpha_1\\vert^* \\end{bmatrix} +\\lambda_b\\begin{bmatrix} \\vert \\beta_0\\vert^2 &\\beta_0\\beta_1^* \\\\\n",
    "                                                                   \\beta_1\\beta_0^* & \\vert \\beta_1\\vert^* \\end{bmatrix}.\n",
    "$$"
   ]
  },
  {
   "cell_type": "markdown",
   "id": "07577e17",
   "metadata": {},
   "source": [
    "## Measurements\n",
    "\n",
    "Armed with the spectral decomposition, we are now ready to discuss how\n",
    "to compute measurements of observables.  When we make a measurement,\n",
    "quantum mechanics postulates that mutually exclusive measurement\n",
    "outcomes correspond to orthogonal projection operators.\n",
    "\n",
    "We assume now we can contruct a series of such orthogonal operators based on $\\vert i \\rangle \\in \\{\\vert 0\\rangle, \\vert 1\\rangle,\\dots, \\vert n-1\\rangle$ computational basis states. These projection operators $\\boldsymbol{P}_0,\\boldsymbol{P}_1,\\dots,\\boldsymbol{P}_{n-1}$ are all idempotent and sum to one"
   ]
  },
  {
   "cell_type": "markdown",
   "id": "42bafb1c",
   "metadata": {},
   "source": [
    "$$\n",
    "\\sum_{i=0}^{n-1}\\boldsymbol{P}_i=\\boldsymbol{I}.\n",
    "$$"
   ]
  },
  {
   "cell_type": "markdown",
   "id": "09d35412",
   "metadata": {},
   "source": [
    "As an example, consider the basis of two qubits $\\vert 0\\rangle$ and $\\vert 1\\rangle$ with the correspong sum"
   ]
  },
  {
   "cell_type": "markdown",
   "id": "370aab7e",
   "metadata": {},
   "source": [
    "$$\n",
    "\\sum_{i=0}^{1}\\boldsymbol{P}_i=\\begin{bmatrix} 1 & 0 \\\\ 0 & 1\\end{bmatrix}.\n",
    "$$"
   ]
  },
  {
   "cell_type": "markdown",
   "id": "5a52ad3a",
   "metadata": {},
   "source": [
    "Based on the spectral decomposition discussed above, we can define the probability of eigenvalue $\\lambda_i$ as"
   ]
  },
  {
   "cell_type": "markdown",
   "id": "b2ea9058",
   "metadata": {},
   "source": [
    "$$\n",
    "\\mathrm{Prob}(\\lambda_i) = \\vert \\boldsymbol{P}_i\\vert \\psi\\rangle\\vert^2,\n",
    "$$"
   ]
  },
  {
   "cell_type": "markdown",
   "id": "6a39aea7",
   "metadata": {},
   "source": [
    "where $\\vert \\psi_a\\rangle$ is a quantum state representing the system prior to a specific measurement.\n",
    "We can rewrite this as"
   ]
  },
  {
   "cell_type": "markdown",
   "id": "99e56adc",
   "metadata": {},
   "source": [
    "$$\n",
    "\\mathrm{Prob}(\\lambda_i) = \\langle \\psi\\vert \\boldsymbol{P}_i^{\\dagger}\\boldsymbol{P}_i\\vert \\psi\\rangle =\\langle \\psi\\vert \\boldsymbol{P}_i\\vert \\psi\\rangle.\n",
    "$$"
   ]
  },
  {
   "cell_type": "markdown",
   "id": "9eec0907",
   "metadata": {},
   "source": [
    "The total probability for all measurements is the sum overt all probabilities"
   ]
  },
  {
   "cell_type": "markdown",
   "id": "450c3ac9",
   "metadata": {},
   "source": [
    "$$\n",
    "\\sum_{i=0}^{n-1}\\mathrm{Prob}(\\lambda_i)=1.\n",
    "$$"
   ]
  },
  {
   "cell_type": "markdown",
   "id": "6961a634",
   "metadata": {},
   "source": [
    "We can in turn define the post-measurement normalized pure quantum state as, for the specific outcome $\\lambda_i$, as"
   ]
  },
  {
   "cell_type": "markdown",
   "id": "e819236c",
   "metadata": {},
   "source": [
    "$$\n",
    "\\vert \\psi'\\rangle = \\frac{\\boldsymbol{P}_i\\vert \\psi\\rangle}{\\sqrt{\\langle \\psi \\vert \\boldsymbol{P}_i\\vert \\psi\\rangle}}.\n",
    "$$"
   ]
  },
  {
   "cell_type": "markdown",
   "id": "a048435e",
   "metadata": {},
   "source": [
    "As an example, consider the binary system states $\\vert 0\\rangle$ and $\\vert 1\\rangle$ with corresponding projection operators"
   ]
  },
  {
   "cell_type": "markdown",
   "id": "5087158a",
   "metadata": {},
   "source": [
    "$$\n",
    "\\boldsymbol{P}_0 =\\vert 0 \\rangle \\langle 0\\vert,\n",
    "$$"
   ]
  },
  {
   "cell_type": "markdown",
   "id": "c181ce85",
   "metadata": {},
   "source": [
    "and"
   ]
  },
  {
   "cell_type": "markdown",
   "id": "233110e9",
   "metadata": {},
   "source": [
    "$$\n",
    "\\boldsymbol{P}_1 =\\vert 1 \\rangle \\langle 1\\vert,\n",
    "$$"
   ]
  },
  {
   "cell_type": "markdown",
   "id": "1d8bb8bc",
   "metadata": {},
   "source": [
    "with the properties"
   ]
  },
  {
   "cell_type": "markdown",
   "id": "05476b40",
   "metadata": {},
   "source": [
    "$$\n",
    "\\sum_{i=0}^1\\boldsymbol{P}_i^{\\dagger}\\boldsymbol{P}_1=\\boldsymbol{I},\n",
    "$$"
   ]
  },
  {
   "cell_type": "markdown",
   "id": "41332c44",
   "metadata": {},
   "source": [
    "$$\n",
    "\\boldsymbol{P}_0^{\\dagger}\\boldsymbol{P}_0=\\boldsymbol{P}_0^2=\\boldsymbol{P}_0,\n",
    "$$"
   ]
  },
  {
   "cell_type": "markdown",
   "id": "6d65edd6",
   "metadata": {},
   "source": [
    "and"
   ]
  },
  {
   "cell_type": "markdown",
   "id": "b0a53a42",
   "metadata": {},
   "source": [
    "$$\n",
    "\\boldsymbol{P}_1^{\\dagger}\\boldsymbol{P}_1=\\boldsymbol{P}_1^2=\\boldsymbol{P}_1.\n",
    "$$"
   ]
  },
  {
   "cell_type": "markdown",
   "id": "789b098b",
   "metadata": {},
   "source": [
    "Assume thereafter that we have a state $\\vert \\psi\\rangle$ which is a superposition of the above two qubit states"
   ]
  },
  {
   "cell_type": "markdown",
   "id": "149a891c",
   "metadata": {},
   "source": [
    "$$\n",
    "\\vert \\psi \\rangle = \\alpha\\vert 0 \\rangle + \\beta \\vert 1\\rangle.\n",
    "$$"
   ]
  },
  {
   "cell_type": "markdown",
   "id": "890a9fed",
   "metadata": {},
   "source": [
    "The probability of finding either $\\vert 0\\rangle$ or $\\vert 1\\rangle$ is then"
   ]
  },
  {
   "cell_type": "markdown",
   "id": "27229a0f",
   "metadata": {},
   "source": [
    "$$\n",
    "\\boldsymbol{P}_{\\psi(0)}=\\langle \\psi\\vert \\boldsymbol{P}_0^{\\dagger}\\boldsymbol{P}_0\\vert \\psi\\rangle=\\vert \\alpha\\vert^2,\n",
    "$$"
   ]
  },
  {
   "cell_type": "markdown",
   "id": "7a0d4d7a",
   "metadata": {},
   "source": [
    "and similarly we have"
   ]
  },
  {
   "cell_type": "markdown",
   "id": "bc72a9b6",
   "metadata": {},
   "source": [
    "$$\n",
    "\\boldsymbol{P}_{\\psi(1)}=\\langle \\psi\\vert \\boldsymbol{P}_1^{\\dagger}\\boldsymbol{P}_1\\vert \\psi\\rangle=\\vert \\beta\\vert^2.\n",
    "$$"
   ]
  },
  {
   "cell_type": "markdown",
   "id": "86a6ba6c",
   "metadata": {},
   "source": [
    "If we set"
   ]
  },
  {
   "cell_type": "markdown",
   "id": "b868377a",
   "metadata": {},
   "source": [
    "$$\n",
    "\\vert \\psi \\rangle = \\frac{1}{\\sqrt{2}}\\left(\\vert 0 \\rangle + \\vert 1\\rangle\\right),\n",
    "$$"
   ]
  },
  {
   "cell_type": "markdown",
   "id": "37803d96",
   "metadata": {},
   "source": [
    "we have $\\vert \\alpha\\vert^2=\\vert \\beta\\vert^2=1/2$. In general for this system we have"
   ]
  },
  {
   "cell_type": "markdown",
   "id": "20a845c6",
   "metadata": {},
   "source": [
    "$$\n",
    "\\vert \\psi'_0\\rangle = \\frac{\\boldsymbol{P}_0\\vert \\psi\\rangle}{\\sqrt{\\langle \\psi \\vert \\boldsymbol{P}_0\\vert \\psi\\rangle}}=\\frac{\\alpha}{\\vert \\alpha\\vert}\\vert 0 \\rangle,\n",
    "$$"
   ]
  },
  {
   "cell_type": "markdown",
   "id": "efea8588",
   "metadata": {},
   "source": [
    "and"
   ]
  },
  {
   "cell_type": "markdown",
   "id": "063864cc",
   "metadata": {},
   "source": [
    "$$\n",
    "\\vert \\psi'_1\\rangle = \\frac{\\boldsymbol{P}_1\\vert \\psi\\rangle}{\\sqrt{\\langle \\psi \\vert \\boldsymbol{P}_1\\vert \\psi\\rangle}}=\\frac{\\beta}{\\vert \\beta\\vert}\\vert 1 \\rangle.\n",
    "$$"
   ]
  },
  {
   "cell_type": "markdown",
   "id": "5a762b42",
   "metadata": {},
   "source": [
    "In general we have that"
   ]
  },
  {
   "cell_type": "markdown",
   "id": "d5203226",
   "metadata": {},
   "source": [
    "$$\n",
    "\\boldsymbol{P}_{\\psi(x)}=\\langle \\psi\\vert \\boldsymbol{P}_x^{\\dagger}\\boldsymbol{P}_x\\vert \\psi\\rangle,,\n",
    "$$"
   ]
  },
  {
   "cell_type": "markdown",
   "id": "1c23a2b6",
   "metadata": {},
   "source": [
    "which we can rewrite as"
   ]
  },
  {
   "cell_type": "markdown",
   "id": "8db12a97",
   "metadata": {},
   "source": [
    "$$\n",
    "\\mathrm{Prob}(\\psi(x))=\\mathrm{Tr}\\left[\\boldsymbol{P}_x^{\\dagger}\\boldsymbol{P}_x\\vert \\psi\\rangle\\langle \\psi\\vert\\right].\n",
    "$$"
   ]
  },
  {
   "cell_type": "markdown",
   "id": "4bc21eae",
   "metadata": {},
   "source": [
    "The last equation can be understood better through the following example with a state $\\vert \\psi\\rangle$"
   ]
  },
  {
   "cell_type": "markdown",
   "id": "7a065d11",
   "metadata": {},
   "source": [
    "$$\n",
    "\\vert \\psi \\rangle = \\alpha \\vert 0\\rangle+\\beta \\vert 1\\rangle,\n",
    "$$"
   ]
  },
  {
   "cell_type": "markdown",
   "id": "6fba66c0",
   "metadata": {},
   "source": [
    "which results in a projection operator"
   ]
  },
  {
   "cell_type": "markdown",
   "id": "dbc1b465",
   "metadata": {},
   "source": [
    "$$\n",
    "\\vert \\psi \\rangle\\langle \\psi\\vert = \\begin{bmatrix} \\vert \\alpha \\vert^2 & \\alpha\\beta^* \\\\ \\alpha^*\\beta & \\vert\\beta\\vert^2\\end{bmatrix}.\n",
    "$$"
   ]
  },
  {
   "cell_type": "markdown",
   "id": "fa24882c",
   "metadata": {},
   "source": [
    "We have that"
   ]
  },
  {
   "cell_type": "markdown",
   "id": "3e09ab55",
   "metadata": {},
   "source": [
    "$$\n",
    "\\boldsymbol{P}_0^{\\dagger}\\boldsymbol{P}_0=\\boldsymbol{P}_0=\\begin{bmatrix} 1 & 0 \\\\ 0 & 0\\end{bmatrix},\n",
    "$$"
   ]
  },
  {
   "cell_type": "markdown",
   "id": "fc1b193f",
   "metadata": {},
   "source": [
    "and computing the matrix product $\\boldsymbol{P}_0\\vert\\psi\\rangle\\langle \\psi\\vert$ gives"
   ]
  },
  {
   "cell_type": "markdown",
   "id": "cc63d67e",
   "metadata": {},
   "source": [
    "$$\n",
    "\\boldsymbol{P}_0\\vert\\psi\\rangle\\langle \\psi\\vert=\\begin{bmatrix} 1 & 0 \\\\ 0 & 0\\end{bmatrix}\\begin{bmatrix} \\vert \\alpha \\vert^2 & \\alpha\\beta^* \\\\ \\alpha^*\\beta & \\vert\\beta\\vert^2\\end{bmatrix}=\\begin{bmatrix} \\vert \\alpha \\vert^2 & \\alpha\\beta^* \\\\ 0 & 0\\end{bmatrix},\n",
    "$$"
   ]
  },
  {
   "cell_type": "markdown",
   "id": "8d612916",
   "metadata": {},
   "source": [
    "and taking the trace of this matrix, that is computing"
   ]
  },
  {
   "cell_type": "markdown",
   "id": "b06c0c24",
   "metadata": {},
   "source": [
    "$$\n",
    "\\mathrm{Prob}(\\psi(0))=\\mathrm{Tr}\\left[\\boldsymbol{P}_0^{\\dagger}\\boldsymbol{P}_0\\vert \\psi\\rangle\\langle \\psi\\vert\\right]=\\vert \\alpha\\vert^2,\n",
    "$$"
   ]
  },
  {
   "cell_type": "markdown",
   "id": "55b78ac2",
   "metadata": {},
   "source": [
    "we obtain the same results as the one we had earlier by computing\n",
    "the probabliblity for $0$ given by the expression"
   ]
  },
  {
   "cell_type": "markdown",
   "id": "b2c6231c",
   "metadata": {},
   "source": [
    "$$\n",
    "\\boldsymbol{P}_{\\psi(0)}=\\langle \\psi\\vert \\boldsymbol{P}_0^{\\dagger}\\boldsymbol{P}_0\\vert \\psi\\rangle=\\vert \\alpha\\vert^2.\n",
    "$$"
   ]
  },
  {
   "cell_type": "markdown",
   "id": "ff5bbdc2",
   "metadata": {},
   "source": [
    "It is straight forward to show that"
   ]
  },
  {
   "cell_type": "markdown",
   "id": "6beafe31",
   "metadata": {},
   "source": [
    "$$\n",
    "\\mathrm{Prob}(\\psi(1))=\\mathrm{Tr}\\left[\\boldsymbol{P}_1^{\\dagger}\\boldsymbol{P}_1\\vert \\psi\\rangle\\langle \\psi\\vert\\right]=\\vert \\beta\\vert^2,\n",
    "$$"
   ]
  },
  {
   "cell_type": "markdown",
   "id": "e0d05c9d",
   "metadata": {},
   "source": [
    "which we also could have obtained by computing"
   ]
  },
  {
   "cell_type": "markdown",
   "id": "cf513a3a",
   "metadata": {},
   "source": [
    "$$\n",
    "\\boldsymbol{P}_{\\psi(1)}=\\langle \\psi\\vert \\boldsymbol{P}_1^{\\dagger}\\boldsymbol{P}_1\\vert \\psi\\rangle=\\vert \\beta\\vert^2.\n",
    "$$"
   ]
  },
  {
   "cell_type": "markdown",
   "id": "70fbf6ed",
   "metadata": {},
   "source": [
    "We can now extend these expressions to the complete ensemble of measurements. Using the spectral decomposition we have that the probability of an outcome $p(x)$ is"
   ]
  },
  {
   "cell_type": "markdown",
   "id": "1212726f",
   "metadata": {},
   "source": [
    "$$\n",
    "p(x)=\\sum_{i=0}^{n-1}p_i\\boldsymbol{P}_{\\psi_i(x)},\n",
    "$$"
   ]
  },
  {
   "cell_type": "markdown",
   "id": "99e2ca6a",
   "metadata": {},
   "source": [
    "where $p_i$ are the probabilities of a specific outcome.  Add later a digression on marginal probabilities.\n",
    "\n",
    "With these prerequisites we are now ready to introduce the density  matrices, or density operators."
   ]
  },
  {
   "cell_type": "markdown",
   "id": "35068d87",
   "metadata": {},
   "source": [
    "## Density matrices/operators\n",
    "\n",
    "The last equation can be rewritten as"
   ]
  },
  {
   "cell_type": "markdown",
   "id": "db759d91",
   "metadata": {},
   "source": [
    "$$\n",
    "p(x)=\\sum_{i=0}^{n-1}p_i\\boldsymbol{P}_{\\psi_i(x)}=\\sum_{i=0}^{n-1}p_i\\mathrm{Tr}\\left[\\boldsymbol{P}_x^{\\dagger}\\boldsymbol{P}_x\\vert \\psi_i\\rangle\\langle \\psi_i\\vert\\right],\n",
    "$$"
   ]
  },
  {
   "cell_type": "markdown",
   "id": "33917899",
   "metadata": {},
   "source": [
    "and we define the **density matrix/operator** as"
   ]
  },
  {
   "cell_type": "markdown",
   "id": "78f03da0",
   "metadata": {},
   "source": [
    "$$\n",
    "\\rho=\\sum_{i=0}^{n-1}p_i\\vert \\psi_i\\rangle\\langle \\psi_i\\vert,\n",
    "$$"
   ]
  },
  {
   "cell_type": "markdown",
   "id": "d4a2d009",
   "metadata": {},
   "source": [
    "we can rewrite the first equation above as"
   ]
  },
  {
   "cell_type": "markdown",
   "id": "a330c4e7",
   "metadata": {},
   "source": [
    "$$\n",
    "p(x)=\\mathrm{Tr}\\left[\\boldsymbol{P}_x^{\\dagger}\\boldsymbol{P}_x\\rho\\right].\n",
    "$$"
   ]
  },
  {
   "cell_type": "markdown",
   "id": "94b8b88c",
   "metadata": {},
   "source": [
    "If we can define the state of a system in terms of the density matrix, the probability of a specific outcome is then given by"
   ]
  },
  {
   "cell_type": "markdown",
   "id": "7a18a747",
   "metadata": {},
   "source": [
    "$$\n",
    "p(x)_{\\rho}=\\mathrm{Tr}\\left[\\boldsymbol{P}_x^{\\dagger}\\boldsymbol{P}_x\\rho\\right].\n",
    "$$"
   ]
  },
  {
   "cell_type": "markdown",
   "id": "1b1f11b5",
   "metadata": {},
   "source": [
    "A density matrix in a Hilbert space with $n$ states has the following properties (which we state without proof)\n",
    "1. There exists a probability $p_i\\geq 0$ with $\\sum_ip_i=1$,\n",
    "\n",
    "2. There exists an orthonormal basis $\\psi_i$ such that we can define $\\rho=\\sum_ip_i\\vert\\psi_i\\rangle\\langle \\psi_i\\vert$,\n",
    "\n",
    "3. We have $0 \\leq \\rho^2\\leq 1$ and\n",
    "\n",
    "4. The norm $\\vert\\vert \\rho \\vert\\vert_2\\leq 1$.\n",
    "\n",
    "With the density matrix we can also define the state the system collapses to after a measurement, namely"
   ]
  },
  {
   "cell_type": "markdown",
   "id": "0eeb5876",
   "metadata": {},
   "source": [
    "$$\n",
    "\\rho'_x=\\frac{\\boldsymbol{P}_x\\rho\\boldsymbol{P}_x^{\\dagger}}{\\mathrm{Tr}[\\boldsymbol{P}_x^{\\dagger}\\boldsymbol{P}_x\\rho]}.\n",
    "$$"
   ]
  }
 ],
 "metadata": {
  "kernelspec": {
   "display_name": "Python 3 (ipykernel)",
   "language": "python",
   "name": "python3"
  },
  "language_info": {
   "codemirror_mode": {
    "name": "ipython",
    "version": 3
   },
   "file_extension": ".py",
   "mimetype": "text/x-python",
   "name": "python",
   "nbconvert_exporter": "python",
   "pygments_lexer": "ipython3",
   "version": "3.9.10"
  }
 },
 "nbformat": 4,
 "nbformat_minor": 5
}
