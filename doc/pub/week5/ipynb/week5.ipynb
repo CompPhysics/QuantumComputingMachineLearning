{
 "cells": [
  {
   "cell_type": "markdown",
   "id": "6df88a6e",
   "metadata": {
    "editable": true
   },
   "source": [
    "<!-- HTML file automatically generated from DocOnce source (https://github.com/doconce/doconce/)\n",
    "doconce format html week5.do.txt --no_mako -->\n",
    "<!-- dom:TITLE: February 20-24,2023: Quantum Computing, Quantum Machine Learning and Quantum Information Theories -->"
   ]
  },
  {
   "cell_type": "markdown",
   "id": "ae9f1515",
   "metadata": {
    "editable": true
   },
   "source": [
    "# February 20-24,2023: Quantum Computing, Quantum Machine Learning and Quantum Information Theories\n",
    "**Morten Hjorth-Jensen**, Department of Physics, University of Oslo and Department of Physics and Astronomy and National Superconducting Cyclotron Laboratory, Michigan State University\n",
    "\n",
    "Date: **Feb 27, 2023**\n",
    "\n",
    "Copyright 1999-2023, Morten Hjorth-Jensen. Released under CC Attribution-NonCommercial 4.0 license"
   ]
  },
  {
   "cell_type": "markdown",
   "id": "d457062d",
   "metadata": {
    "editable": true
   },
   "source": [
    "## Entanglement and Entropy\n",
    "\n",
    "1. Review of Schmidt decomposition and entanglement from last week, see jupyter-notebook at <https://github.com/CompPhysics/QuantumComputingMachineLearning/blob/gh-pages/doc/pub/week4/ipynb/week4.ipynb>\n",
    "\n",
    "2. More on entanglement\n",
    "\n",
    "3. Entropy and traces of density matrices\n",
    "\n",
    "**Reading recommendation**: Scherer, Mathematics of Quantum Computations, section 2.3 and chapter 4\n",
    "\n",
    "* [Video of lecture](https://youtu.be/gnlGUjKGDts)\n",
    "\n",
    "* [See also whiteboard notes](https://github.com/CompPhysics/QuantumComputingMachineLearning/tree/gh-pages/doc/HandWrittenNotes/2023/NotesFebruary20.pdf)"
   ]
  },
  {
   "cell_type": "markdown",
   "id": "b44aa2e6",
   "metadata": {
    "editable": true
   },
   "source": [
    "## Density matrices and traces\n",
    "\n",
    "In order to study entanglement and why it is so important for quantum\n",
    "computing, we need to introduce some basic measures and useful\n",
    "quantities.  For these endeavors, we  will use our two-qubit system from\n",
    "the second lecture in order to introduce, through examples, density\n",
    "matrices and entropy. These two quantities, together with\n",
    "technicalities like the Schmidt decomposition define important quantities in analyzing quantum computing examples."
   ]
  },
  {
   "cell_type": "markdown",
   "id": "15fce4e9",
   "metadata": {
    "editable": true
   },
   "source": [
    "### Reminder on density matrices\n",
    "\n",
    "We have the spectral decomposition of a given operator $\\boldsymbol{A}$ given by"
   ]
  },
  {
   "cell_type": "markdown",
   "id": "38001b5c",
   "metadata": {
    "editable": true
   },
   "source": [
    "$$\n",
    "\\boldsymbol{A}=\\sum_i\\lambda_i\\vert i \\rangle\\langle i\\vert,\n",
    "$$"
   ]
  },
  {
   "cell_type": "markdown",
   "id": "8748b497",
   "metadata": {
    "editable": true
   },
   "source": [
    "with the ONB $\\vert i\\rangle$ being eigenvectors of $\\boldsymbol{A}$ and $\\lambda_i$ being the eigenvectors. Similarly, a operator which is a function of $\\boldsymbol{A}$ is given by"
   ]
  },
  {
   "cell_type": "markdown",
   "id": "8ed426f3",
   "metadata": {
    "editable": true
   },
   "source": [
    "$$\n",
    "f(\\boldsymbol{A})=\\sum_if(\\boldsymbol{A})\\vert i \\rangle\\langle i\\vert.\n",
    "$$"
   ]
  },
  {
   "cell_type": "markdown",
   "id": "c6cc736c",
   "metadata": {
    "editable": true
   },
   "source": [
    "The trace of a product of matrices is cyclic, that is"
   ]
  },
  {
   "cell_type": "markdown",
   "id": "fd825ee0",
   "metadata": {
    "editable": true
   },
   "source": [
    "$$\n",
    "\\mathrm{tr}[\\boldsymbol{ABC}])=\\mathrm{tr}[\\boldsymbol{BCA}])=\\mathrm{tr}[\\boldsymbol{CBA}]),\n",
    "$$"
   ]
  },
  {
   "cell_type": "markdown",
   "id": "3c40fad5",
   "metadata": {
    "editable": true
   },
   "source": [
    "and we have also"
   ]
  },
  {
   "cell_type": "markdown",
   "id": "acdd486e",
   "metadata": {
    "editable": true
   },
   "source": [
    "$$\n",
    "\\mathrm{tr}[\\boldsymbol{A}\\vert \\psi\\rangle\\langle\\psi\\vert])=\\langle\\psi\\vert\\boldsymbol{A}\\vert\\psi\\rangle.\n",
    "$$"
   ]
  },
  {
   "cell_type": "markdown",
   "id": "df9692be",
   "metadata": {
    "editable": true
   },
   "source": [
    "Using the spectral decomposition we defined also the density matrix as"
   ]
  },
  {
   "cell_type": "markdown",
   "id": "7a2a5032",
   "metadata": {
    "editable": true
   },
   "source": [
    "$$\n",
    "\\rho = \\sum_i p_i\\vert i \\rangle\\langle i\\vert,\n",
    "$$"
   ]
  },
  {
   "cell_type": "markdown",
   "id": "51b572aa",
   "metadata": {
    "editable": true
   },
   "source": [
    "where the probability $p_i$ are the eigenvalues of the density linked with the ONB $\\vert i \\rangle$.\n",
    "\n",
    "The trace of the density matrix $\\mathrm{tr}\\rho=1$ and is invariant under unitary transformations\n",
    "$\\vert \\psi_i'\\rangle = \\boldsymbol{U}\\vert \\psi_i\\rangle$. The unitary transformation of the density matrix gives, with\n",
    "$\\boldsymbol{U}^{\\dagger}\\boldsymbol{U}=\\boldsymbol{U}^{T}\\boldsymbol{U}=\\boldsymbol{I}$,"
   ]
  },
  {
   "cell_type": "markdown",
   "id": "85c7eb22",
   "metadata": {
    "editable": true
   },
   "source": [
    "$$\n",
    "\\boldsymbol{U}\\rho\\boldsymbol{U}^{\\dagger}}=\\sum_ipi_i\\boldsymbol{U}\\vert \\psi_i\\rangle\\langle\\psi_i\\vert\\boldsymbol{U}^{\\dagger},\n",
    "$$"
   ]
  },
  {
   "cell_type": "markdown",
   "id": "854b8908",
   "metadata": {
    "editable": true
   },
   "source": [
    "and with the unitary transformation it is easy to show that thet trace of the transformaed density matrix is equal to one,"
   ]
  },
  {
   "cell_type": "markdown",
   "id": "a1a9c0b8",
   "metadata": {
    "editable": true
   },
   "source": [
    "$$\n",
    "\\mathrm{tr}\\left[ \\boldsymbol{U}\\rho\\boldsymbol{U}^{\\dagger}\\right]=\\mathrm{tr}\\left[ \\boldsymbol{U}\\boldsymbol{U}^{\\dagger}\\rho\\right]=1.\n",
    "$$"
   ]
  },
  {
   "cell_type": "markdown",
   "id": "7201b5bb",
   "metadata": {
    "editable": true
   },
   "source": [
    "### Two-qubit system and definition of density matrices\n",
    "\n",
    "This system can be thought of as composed of two subsystems\n",
    "$A$ and $B$. Each subsystem has computational basis states"
   ]
  },
  {
   "cell_type": "markdown",
   "id": "bcf7e36c",
   "metadata": {
    "editable": true
   },
   "source": [
    "$$\n",
    "\\vert 0\\rangle_{\\mathrm{A,B}}=\\begin{bmatrix} 1 & 0\\end{bmatrix}^T \\hspace{1cm} \\vert 1\\rangle_{\\mathrm{A,B}}=\\begin{bmatrix} 0 & 1\\end{bmatrix}^T.\n",
    "$$"
   ]
  },
  {
   "cell_type": "markdown",
   "id": "24bac2a2",
   "metadata": {
    "editable": true
   },
   "source": [
    "The subsystems could represent single particles or composite many-particle systems of a given symmetry.\n",
    "This leads to the many-body computational basis states"
   ]
  },
  {
   "cell_type": "markdown",
   "id": "81afb3bd",
   "metadata": {
    "editable": true
   },
   "source": [
    "$$\n",
    "\\vert 00\\rangle = \\vert 0\\rangle_{\\mathrm{A}}\\otimes \\vert 0\\rangle_{\\mathrm{B}}=\\begin{bmatrix} 1 & 0 & 0 &0\\end{bmatrix}^T,\n",
    "$$"
   ]
  },
  {
   "cell_type": "markdown",
   "id": "1a2b259a",
   "metadata": {
    "editable": true
   },
   "source": [
    "and"
   ]
  },
  {
   "cell_type": "markdown",
   "id": "b4c00026",
   "metadata": {
    "editable": true
   },
   "source": [
    "$$\n",
    "\\vert 01\\rangle = \\vert 0\\rangle_{\\mathrm{A}}\\otimes \\vert 1\\rangle_{\\mathrm{B}}=\\begin{bmatrix} 0 & 1 & 0 &0\\end{bmatrix}^T,\n",
    "$$"
   ]
  },
  {
   "cell_type": "markdown",
   "id": "099daff2",
   "metadata": {
    "editable": true
   },
   "source": [
    "and"
   ]
  },
  {
   "cell_type": "markdown",
   "id": "4c75549f",
   "metadata": {
    "editable": true
   },
   "source": [
    "$$\n",
    "\\vert 10\\rangle = \\vert 1\\rangle_{\\mathrm{A}}\\otimes \\vert 0\\rangle_{\\mathrm{B}}=\\begin{bmatrix} 0 & 0 & 1 &0\\end{bmatrix}^T,\n",
    "$$"
   ]
  },
  {
   "cell_type": "markdown",
   "id": "a0ba67bf",
   "metadata": {
    "editable": true
   },
   "source": [
    "and finally"
   ]
  },
  {
   "cell_type": "markdown",
   "id": "97614bfe",
   "metadata": {
    "editable": true
   },
   "source": [
    "$$\n",
    "\\vert 11\\rangle = \\vert 1\\rangle_{\\mathrm{A}}\\otimes \\vert 1\\rangle_{\\mathrm{B}}=\\begin{bmatrix} 0 & 0 & 0 &1\\end{bmatrix}^T.\n",
    "$$"
   ]
  },
  {
   "cell_type": "markdown",
   "id": "0a1048de",
   "metadata": {
    "editable": true
   },
   "source": [
    "These computational basis states define also the eigenstates of the non-interacting  Hamiltonian"
   ]
  },
  {
   "cell_type": "markdown",
   "id": "a0807bcd",
   "metadata": {
    "editable": true
   },
   "source": [
    "$$\n",
    "H_0\\vert 00 \\rangle = \\epsilon_{00}\\vert 00 \\rangle,\n",
    "$$"
   ]
  },
  {
   "cell_type": "markdown",
   "id": "73598ca3",
   "metadata": {
    "editable": true
   },
   "source": [
    "$$\n",
    "H_0\\vert 10 \\rangle = \\epsilon_{10}\\vert 10 \\rangle,\n",
    "$$"
   ]
  },
  {
   "cell_type": "markdown",
   "id": "10b15f3a",
   "metadata": {
    "editable": true
   },
   "source": [
    "$$\n",
    "H_0\\vert 01 \\rangle = \\epsilon_{01}\\vert 01 \\rangle,\n",
    "$$"
   ]
  },
  {
   "cell_type": "markdown",
   "id": "8b9267c8",
   "metadata": {
    "editable": true
   },
   "source": [
    "and"
   ]
  },
  {
   "cell_type": "markdown",
   "id": "4c2e7697",
   "metadata": {
    "editable": true
   },
   "source": [
    "$$\n",
    "H_0\\vert 11 \\rangle = \\epsilon_{11}\\vert 11 \\rangle.\n",
    "$$"
   ]
  },
  {
   "cell_type": "markdown",
   "id": "bae44613",
   "metadata": {
    "editable": true
   },
   "source": [
    "The interacting part of the Hamiltonian $H_{\\mathrm{I}}$ is given by the tensor product of two $\\sigma_x$ and $\\sigma_z$  matrices, respectively, that is"
   ]
  },
  {
   "cell_type": "markdown",
   "id": "778881de",
   "metadata": {
    "editable": true
   },
   "source": [
    "$$\n",
    "H_{\\mathrm{I}}=H_x\\sigma_x\\otimes\\sigma_x+H_z\\sigma_z\\otimes\\sigma_z,\n",
    "$$"
   ]
  },
  {
   "cell_type": "markdown",
   "id": "d9a2b9ec",
   "metadata": {
    "editable": true
   },
   "source": [
    "where $H_x$ and $H_z$ are interaction strength parameters. Our final Hamiltonian matrix is given by"
   ]
  },
  {
   "cell_type": "markdown",
   "id": "fd7a06c2",
   "metadata": {
    "editable": true
   },
   "source": [
    "$$\n",
    "\\boldsymbol{H}=\\begin{bmatrix} \\epsilon_{00}+H_z & 0 & 0 & H_x \\\\\n",
    "                       0  & \\epsilon_{10}-H_z & H_x & 0 \\\\\n",
    "\t\t       0 & H_x & \\epsilon_{01}-H_z & 0 \\\\\n",
    "\t\t       H_x & 0 & 0 & \\epsilon_{11} +H_z \\end{bmatrix}.\n",
    "$$"
   ]
  },
  {
   "cell_type": "markdown",
   "id": "517f528a",
   "metadata": {
    "editable": true
   },
   "source": [
    "The four eigenstates of the above Hamiltonian matrix can in turn be used to\n",
    "define density matrices. As an example, the density matrix of the\n",
    "first eigenstate (lowest energy $E_0$) $\\Psi_0$ is"
   ]
  },
  {
   "cell_type": "markdown",
   "id": "dcc80c39",
   "metadata": {
    "editable": true
   },
   "source": [
    "$$\n",
    "\\rho_0=\\left(\\alpha_{00}\\vert 00 \\rangle\\langle 00\\vert+\\alpha_{10}\\vert 10 \\rangle\\langle 10\\vert+\\alpha_{01}\\vert 01 \\rangle\\langle 01\\vert+\\alpha_{11}\\vert 11 \\rangle\\langle 11\\vert\\right),\n",
    "$$"
   ]
  },
  {
   "cell_type": "markdown",
   "id": "14e7a6d6",
   "metadata": {
    "editable": true
   },
   "source": [
    "where the coefficients $\\alpha_{ij}$ are the eigenvector coefficients\n",
    "resulting from the solution of the above eigenvalue problem.\n",
    "\n",
    "We can\n",
    "then in turn define the density matrix for the subsets $A$ or $B$ as"
   ]
  },
  {
   "cell_type": "markdown",
   "id": "0d21b7ea",
   "metadata": {
    "editable": true
   },
   "source": [
    "$$\n",
    "\\rho_A=\\mathrm{Tr}_B(\\rho_{0})=\\langle 0 \\vert \\rho_{0} \\vert 0\\rangle_{B}+\\langle 1 \\vert \\rho_{0} \\vert 1\\rangle_{B},\n",
    "$$"
   ]
  },
  {
   "cell_type": "markdown",
   "id": "929ca24a",
   "metadata": {
    "editable": true
   },
   "source": [
    "or"
   ]
  },
  {
   "cell_type": "markdown",
   "id": "396e4532",
   "metadata": {
    "editable": true
   },
   "source": [
    "$$\n",
    "\\rho_B=\\mathrm{Tr}_A(\\rho_0)=\\langle 0 \\vert \\rho_{0} \\vert 0\\rangle_{A}+\\langle 1 \\vert \\rho_{0} \\vert 1\\rangle_{A}.\n",
    "$$"
   ]
  },
  {
   "cell_type": "markdown",
   "id": "a9c95383",
   "metadata": {
    "editable": true
   },
   "source": [
    "The density matrices for these subsets can be used to compute the\n",
    "so-called von Neumann entropy, which is one of the possible measures\n",
    "of entanglement. A pure state has entropy equal zero while entangled\n",
    "state have an entropy larger than zero. The von-Neumann entropy is\n",
    "defined as"
   ]
  },
  {
   "cell_type": "markdown",
   "id": "5134acc7",
   "metadata": {
    "editable": true
   },
   "source": [
    "$$\n",
    "S(A,B)=-\\mathrm{Tr}\\left(\\rho_{A,B}\\log_2 (\\rho_{A,B})\\right).\n",
    "$$"
   ]
  },
  {
   "cell_type": "markdown",
   "id": "007d30e7",
   "metadata": {
    "editable": true
   },
   "source": [
    "The example here shows the above von Neumann entropy based on the\n",
    "density matrix for the lowest many-body state. We see clearly a jump\n",
    "in the entropy around the point where we have a level crossing. At\n",
    "interaction strenght $\\lambda=0$ we have many-body states purely\n",
    "defined by their computational basis states. As we switch on the\n",
    "interaction strength, we obtain an increased degree of mixing and the\n",
    "entropy increases till we reach the level crossing point where we see\n",
    "an additional and sudden increase in entropy. Similar behaviors are\n",
    "observed for the other states. The most important result from this\n",
    "example is that entanglement is driven by the Hamiltonian itself and\n",
    "the strength of the interaction matrix elements and the\n",
    "non-interacting energies."
   ]
  },
  {
   "cell_type": "code",
   "execution_count": 1,
   "id": "4ac2edfb",
   "metadata": {
    "collapsed": false,
    "editable": true
   },
   "outputs": [],
   "source": [
    "%matplotlib inline\n",
    "\n",
    "%matplotlib inline\n",
    "from  matplotlib import pyplot as plt\n",
    "import numpy as np\n",
    "from scipy.linalg import logm, expm\n",
    "def log2M(a): # base 2 matrix logarithm\n",
    "    return logm(a)/np.log(2.0)\n",
    "\n",
    "dim = 4\n",
    "Hamiltonian = np.zeros((dim,dim))\n",
    "#number of lambda values\n",
    "n = 40\n",
    "lmbd = np.linspace(0.0,1.0,n)\n",
    "Hx = 2.0\n",
    "Hz = 3.0\n",
    "# Non-diagonal part as sigma_x tensor product with sigma_x\n",
    "sx = np.matrix([[0,1],[1,0]])\n",
    "sx2 = Hx*np.kron(sx, sx)\n",
    "# Diagonal part as sigma_z tensor product with sigma_z\n",
    "sz = np.matrix([[1,0],[0,-1]])\n",
    "sz2 = Hz*np.kron(sz, sz)\n",
    "noninteracting = [0.0, 2.5, 6.5, 7.0]\n",
    "D = np.diag(noninteracting)\n",
    "Eigenvalue = np.zeros((dim,n))\n",
    "Entropy = np.zeros(n)\n",
    "\n",
    "for i in range(n): \n",
    "    Hamiltonian = lmbd[i]*(sx2+sz2)+D\n",
    "    # diagonalize and obtain eigenvalues, not necessarily sorted\n",
    "    EigValues, EigVectors = np.linalg.eig(Hamiltonian)\n",
    "    # sort eigenvectors and eigenvalues\n",
    "    permute = EigValues.argsort()\n",
    "    EigValues = EigValues[permute]\n",
    "    EigVectors = EigVectors[:,permute]\n",
    "    # Compute density matrix for selected system state, here ground state\n",
    "    DensityMatrix = np.zeros((dim,dim))\n",
    "    DensityMatrix = np.outer(EigVectors[:,0],EigVectors[:,0])\n",
    "    # Project down on substates and find density matrix for subsystem\n",
    "    d = np.matrix([[1,0],[0,1]])\n",
    "    v1 = [1.0,0.0]\n",
    "    proj1 = np.kron(v1,d)\n",
    "    x1 = proj1 @ DensityMatrix @ proj1.T\n",
    "    v2 = [0.0,1.0]\n",
    "    proj2 = np.kron(v2,d)\n",
    "    x2 = proj2 @ DensityMatrix @ proj2.T\n",
    "    # Total density matrix for subsystem\n",
    "    total = x1+x2\n",
    "    # von Neumann Entropy for subsystem \n",
    "    Entropy[i] = -np.matrix.trace(total @ log2M(total))\n",
    "    # Plotting eigenvalues and entropy as functions of interaction strengths\n",
    "    Eigenvalue[0,i] = EigValues[0]\n",
    "    Eigenvalue[1,i] = EigValues[1]\n",
    "    Eigenvalue[2,i] = EigValues[2]\n",
    "    Eigenvalue[3,i] = EigValues[3]\n",
    "plt.plot(lmbd, Eigenvalue[0,:] ,'b-',lmbd, Eigenvalue[1,:],'g-',)\n",
    "plt.plot(lmbd, Eigenvalue[2,:] ,'r-',lmbd, Eigenvalue[3,:],'y-',)\n",
    "plt.xlabel('$\\lambda$')\n",
    "plt.ylabel('Eigenvalues')\n",
    "plt.show()\n",
    "plt.plot(lmbd, Entropy)\n",
    "plt.xlabel('$\\lambda$')\n",
    "plt.ylabel('Entropy')          \n",
    "plt.show"
   ]
  },
  {
   "cell_type": "markdown",
   "id": "c54ae292",
   "metadata": {
    "editable": true
   },
   "source": [
    "## Entropies and density matrices\n",
    "\n",
    "[See whiteboard notes](https://github.com/CompPhysics/QuantumComputingMachineLearning/tree/gh-pages/doc/HandWrittenNotes/2023/NotesFebruary20.pdf)"
   ]
  },
  {
   "cell_type": "markdown",
   "id": "8456de20",
   "metadata": {
    "editable": true
   },
   "source": [
    "### Shannon information entropy\n",
    "\n",
    "We start our discussions with the classical information entropy, or\n",
    "just Shannon entropy, before we move over to a quantum mechanical way\n",
    "to define the entropy based on the density matrices discussed earlier.\n",
    "\n",
    "We define a set of random variables $X=\\{x_0,x_1,\\dots,x_{n-1}\\}$ with probability for an outcome $x\\in X$ given by $p_X(x)$, the\n",
    "information entropy is defined as"
   ]
  },
  {
   "cell_type": "markdown",
   "id": "768042b9",
   "metadata": {
    "editable": true
   },
   "source": [
    "$$\n",
    "S=-\\sum_{x\\in X}p_X(x)\\log_2{p_X(x)}.\n",
    "$$"
   ]
  },
  {
   "cell_type": "markdown",
   "id": "8c837665",
   "metadata": {
    "editable": true
   },
   "source": [
    "### Von Neumann entropy"
   ]
  },
  {
   "cell_type": "markdown",
   "id": "041a99e2",
   "metadata": {
    "editable": true
   },
   "source": [
    "$$\n",
    "S=-\\mathrm{Tr}[\\rho\\log_2{\\rho}].\n",
    "$$"
   ]
  },
  {
   "cell_type": "markdown",
   "id": "525ff36e",
   "metadata": {
    "editable": true
   },
   "source": [
    "**Lecture next week.**\n",
    "\n",
    "1. Quantum circuits and operations\n",
    "\n",
    "2. Simple quantum algorithms\n",
    "\n",
    "3. Quantum Fourier Transforms"
   ]
  }
 ],
 "metadata": {},
 "nbformat": 4,
 "nbformat_minor": 5
}
