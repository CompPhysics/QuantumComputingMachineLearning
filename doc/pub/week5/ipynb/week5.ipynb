{
 "cells": [
  {
   "cell_type": "markdown",
   "id": "00728b81",
   "metadata": {
    "editable": true
   },
   "source": [
    "<!-- HTML file automatically generated from DocOnce source (https://github.com/doconce/doconce/)\n",
    "doconce format html week5.do.txt --no_mako -->\n",
    "<!-- dom:TITLE: February 20-24,2023: Quantum Computing, Quantum Machine Learning and Quantum Information Theories -->"
   ]
  },
  {
   "cell_type": "markdown",
   "id": "c06ddfe5",
   "metadata": {
    "editable": true
   },
   "source": [
    "# February 20-24,2023: Quantum Computing, Quantum Machine Learning and Quantum Information Theories\n",
    "**Morten Hjorth-Jensen**, Department of Physics, University of Oslo and Department of Physics and Astronomy and National Superconducting Cyclotron Laboratory, Michigan State University\n",
    "\n",
    "Date: **Jan 19, 2023**\n",
    "\n",
    "Copyright 1999-2023, Morten Hjorth-Jensen. Released under CC Attribution-NonCommercial 4.0 license"
   ]
  },
  {
   "cell_type": "markdown",
   "id": "09e52d47",
   "metadata": {
    "editable": true
   },
   "source": [
    "## Quantum Gates and Circuits for Elementary Calculations and Measurements\n",
    "\n",
    "1. Reading the Output Register\n",
    "\n",
    "2. Circuits for Elementary Arithmetic Operations\n",
    "\n",
    "3. Quantum Circuit for Exponentiation\n",
    "\n",
    "4. Quantum Fourier Transforms\n",
    "\n",
    "**Reading recommendation**: Scherrer, Mathematics of Quantum Computations, chapter 5 and 6"
   ]
  }
 ],
 "metadata": {},
 "nbformat": 4,
 "nbformat_minor": 5
}
