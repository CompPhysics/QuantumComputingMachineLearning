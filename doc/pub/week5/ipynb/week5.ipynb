{
 "cells": [
  {
   "cell_type": "markdown",
   "id": "c61a82a6",
   "metadata": {
    "editable": true
   },
   "source": [
    "<!-- HTML file automatically generated from DocOnce source (https://github.com/doconce/doconce/)\n",
    "doconce format html week5.do.txt --no_mako -->\n",
    "<!-- dom:TITLE: February 12-16,2024: Quantum Computing, Quantum Machine Learning and Quantum Information Theories -->"
   ]
  },
  {
   "cell_type": "markdown",
   "id": "4966dc7b",
   "metadata": {
    "editable": true
   },
   "source": [
    "# February 12-16,2024: Quantum Computing, Quantum Machine Learning and Quantum Information Theories\n",
    "**Morten Hjorth-Jensen**, Department of Physics, University of Oslo and Department of Physics and Astronomy and National Superconducting Cyclotron Laboratory, Michigan State University\n",
    "\n",
    "Date: **February 14**"
   ]
  },
  {
   "cell_type": "markdown",
   "id": "18584664",
   "metadata": {
    "editable": true
   },
   "source": [
    "## Plans for the week of February 12-16\n",
    "1. Quantum circuits and operations (one-, two- and three-qubit gates\n",
    "\n",
    "2. Hands-on exercises, see end of these slides\n",
    "\n",
    "3. Discussion of the first iteration of project 1\n",
    "\n",
    "4. [Video of lecture](https://youtu.be/9XrDKgTQL6I)\n",
    "\n",
    "5. [Whiteboard notes](https://github.com/CompPhysics/QuantumComputingMachineLearning/blob/gh-pages/doc/HandWrittenNotes/2024/NotesFebruary14.pdf)"
   ]
  },
  {
   "cell_type": "markdown",
   "id": "d1f8727b",
   "metadata": {
    "editable": true
   },
   "source": [
    "## Running on the IBM machines\n",
    "\n",
    "For the projects and exercises, using for example Qiskit, we can run (as of now) on IBM's 127 qubit machine (Osaka).\n",
    "The Bell-state simulations below here perform this. To get started with the IBM machines, you need an account. Here's the recipe you need to follow:\n",
    "1. Go to <quantum.ibm.com> and create an account and follow the instructions.\n",
    "\n",
    "2. After you have set up your account, go to the account icon and find the token. You need this to identify your self when running jobs. See the code example below.\n",
    "\n",
    "3. Clicking on the **jobs** link you can see which machines are availbale and where your job is, whether it is a queue or whether it is pending.\n",
    "\n",
    "The example at the end of this week's slides shows you how can run on IBM-Osaka, the 127 qubit machine which is presently available.\n",
    "Make sure you copy in your own token,  as that is your unique identifier."
   ]
  },
  {
   "cell_type": "markdown",
   "id": "f7ef8b1b",
   "metadata": {
    "editable": true
   },
   "source": [
    "## Explicit instructions"
   ]
  },
  {
   "cell_type": "code",
   "execution_count": 1,
   "id": "30e21fe3",
   "metadata": {
    "collapsed": false,
    "editable": true
   },
   "outputs": [],
   "source": [
    "# Install qiskit and various packages\n",
    "pip install -q qiskit\n",
    "pip install -q qiskit-aer\n",
    "pip install -q qiskit-ibmq-provider"
   ]
  },
  {
   "cell_type": "markdown",
   "id": "9e08577d",
   "metadata": {
    "editable": true
   },
   "source": [
    "## Setting up your IBM run"
   ]
  },
  {
   "cell_type": "code",
   "execution_count": 2,
   "id": "d01720d1",
   "metadata": {
    "collapsed": false,
    "editable": true
   },
   "outputs": [],
   "source": [
    "# Provide your IBM Quantum Experience API token here\n",
    "# Paste in this from your IBM account\n",
    "api_token = 'your_api_token'\n",
    "# Load your IBM Quantum account\n",
    "IBMQ.save_account(api_token, overwrite=True)  # This stores your credentials locally\n",
    "IBMQ.load_account()\n",
    "# Get the least busy backend\n",
    "provider = IBMQ.get_provider(hub='ibm-q', group ='open', project='main')\n",
    "# Run on the 127-qubit machine IBM-Osaka\n",
    "backend = provider.get_backend('ibm_osaka')\n",
    "# Create a quantum circuit with two qubits\n",
    "bell_circuit = QuantumCircuit(2, 2)"
   ]
  },
  {
   "cell_type": "markdown",
   "id": "ab8802b4",
   "metadata": {
    "editable": true
   },
   "source": [
    "## Quantum gates, circuits and simple algorithms\n",
    "\n",
    "Quantum gates are physical actions that are applied to the physical\n",
    "system representing the qubits. Mathematically, they are\n",
    "complex-valued, unitary matrices which act on the complex-values\n",
    "normalized vectors that represent qubits. As the quantum analog of\n",
    "classical logic gates (such as AND and OR), there is a corresponding\n",
    "quantum gate for every classical gate; however, there are quantum\n",
    "gates that have no classical counter-part. They act on a set of qubits\n",
    "and, changing their state. That is, if $U$ is a quantum gate and\n",
    "$\\vert q \\rangle $ is a qubit, then acting the gate $U$ on the qubit $\\vert q \\rangle $\n",
    "transforms the qubit as follows:"
   ]
  },
  {
   "cell_type": "markdown",
   "id": "b4eadbb2",
   "metadata": {
    "editable": true
   },
   "source": [
    "<!-- Equation labels as ordinary links -->\n",
    "<div id=\"_auto1\"></div>\n",
    "\n",
    "$$\n",
    "\\begin{equation}\n",
    "\\vert q \\rangle \\overset{U}{\\to}U\\vert q \\rangle \n",
    ". \\label{_auto1} \\tag{1}\n",
    "\\end{equation}\n",
    "$$"
   ]
  },
  {
   "cell_type": "markdown",
   "id": "e37de93e",
   "metadata": {
    "editable": true
   },
   "source": [
    "## Quantum circuits\n",
    "\n",
    "Quantum circuits are diagrammatic representations of quantum\n",
    "algorithms. The horizontal dimension corresponds to time; moving left\n",
    "to right corresponds to forward motion in time. They consist of a set\n",
    "of qubits $\\vert q_n\\rangle$ which are stacked vertically on the left-hand\n",
    "side of the diagram. Lines, called quantum wires, extend horizontally\n",
    "to the right from each qubit, representing its state moving forward in\n",
    "time. Additionally, they contain a set of quantum gates that are\n",
    "applied to the quantum wires. Gates are applied chronologically, left\n",
    "to right."
   ]
  },
  {
   "cell_type": "markdown",
   "id": "0bcacc19",
   "metadata": {
    "editable": true
   },
   "source": [
    "## Single-Qubit Gates\n",
    "\n",
    "A single-qubit gate is a physical action that is applied to one\n",
    "qubit. It can be represented by a matrix $U$ from the group SU(2). Any\n",
    "single-qubit gate can be parameterized by three angles: $\\theta$,\n",
    "$\\phi$, and $\\lambda$ as follows"
   ]
  },
  {
   "cell_type": "markdown",
   "id": "be9c467e",
   "metadata": {
    "editable": true
   },
   "source": [
    "$$\n",
    "U(\\theta,\\phi,\\lambda)=\\begin{bmatrix}\n",
    "\\cos\\frac{\\theta}{2} & -e^{i\\lambda}\\sin\\frac{\\theta}{2}\n",
    "\\\\\n",
    "e^{i\\phi}\\sin\\frac{\\theta}{2} & e^{i(\\phi+\\lambda)}\\cos\\frac{\\theta}{2}\n",
    "\\end{bmatrix}.\n",
    "$$"
   ]
  },
  {
   "cell_type": "markdown",
   "id": "8a28dc5a",
   "metadata": {
    "editable": true
   },
   "source": [
    "## Widely used gates\n",
    "\n",
    "There are several widely used quantum gates. Perhaps the most famous are \n",
    "the Pauli gates correspond to the Pauli matrices"
   ]
  },
  {
   "cell_type": "markdown",
   "id": "7160991c",
   "metadata": {
    "editable": true
   },
   "source": [
    "$$\n",
    "I=\\begin{bmatrix} 1 & 0 \\\\ 0 & 1 \\end{bmatrix},\n",
    "$$"
   ]
  },
  {
   "cell_type": "markdown",
   "id": "a89d74cd",
   "metadata": {
    "editable": true
   },
   "source": [
    "$$\n",
    "X =\\begin{bmatrix} 0 & 1 \\\\ 1 & 0\\end{bmatrix},\n",
    "$$"
   ]
  },
  {
   "cell_type": "markdown",
   "id": "64112dac",
   "metadata": {
    "editable": true
   },
   "source": [
    "$$\n",
    "Y=\\begin{bmatrix}0 & -i \\\\i & 0\\end{bmatrix},\n",
    "$$"
   ]
  },
  {
   "cell_type": "markdown",
   "id": "a529808a",
   "metadata": {
    "editable": true
   },
   "source": [
    "$$\n",
    "Z=\\begin{bmatrix} 1 & 0 \\\\ 0 & -1\\end{bmatrix}.\n",
    "$$"
   ]
  },
  {
   "cell_type": "markdown",
   "id": "57bbc488",
   "metadata": {
    "editable": true
   },
   "source": [
    "## Algebra basis\n",
    "\n",
    "These gates form a basis for\n",
    "the algebra $\\mathfrak{su}(2)$. Exponentiating them will thus give us\n",
    "a basis for SU(2), the group within which all single-qubit gates\n",
    "live."
   ]
  },
  {
   "cell_type": "markdown",
   "id": "0444d6f8",
   "metadata": {
    "editable": true
   },
   "source": [
    "## Exponentiated Pauli gates\n",
    "\n",
    "These exponentiated Pauli gates are called rotation gates\n",
    "$R_{\\sigma}(\\theta)$ because they rotate the quantum state around the\n",
    "axis $\\sigma=X,Y,Z$ of the Bloch sphere by an angle $\\theta$. They are\n",
    "defined as"
   ]
  },
  {
   "cell_type": "markdown",
   "id": "58b62258",
   "metadata": {
    "editable": true
   },
   "source": [
    "$$\n",
    "R_X(\\theta)=e^{-i\\frac{\\theta}{2}X}=\n",
    "\\begin{bmatrix}\n",
    "\\cos\\frac{\\theta}{2} & -i\\sin\\frac{\\theta}{2} \\\\\n",
    "-i\\sin\\frac{\\theta}{2} & \\cos\\frac{\\theta}{2} \n",
    "\\end{bmatrix},\n",
    "$$"
   ]
  },
  {
   "cell_type": "markdown",
   "id": "cfb2ea5c",
   "metadata": {
    "editable": true
   },
   "source": [
    "$$\n",
    "R_Y(\\theta)=e^{-i\\frac{\\theta}{2}Y}=\n",
    "\\begin{bmatrix}\n",
    "\\cos\\frac{\\theta}{2} & -\\sin\\frac{\\theta}{2} \\\\\n",
    "\\sin\\frac{\\theta}{2} & \\cos\\frac{\\theta}{2} \n",
    "\\end{bmatrix},\n",
    "$$"
   ]
  },
  {
   "cell_type": "markdown",
   "id": "13e35d68",
   "metadata": {
    "editable": true
   },
   "source": [
    "$$\n",
    "R_Z(\\theta)=e^{-i\\frac{\\theta}{2}Z}=\\begin{bmatrix}\n",
    "e^{-i\\theta/2} & 0 \\\\\n",
    "0 & e^{i\\theta/2}\\end{bmatrix}.\n",
    "$$"
   ]
  },
  {
   "cell_type": "markdown",
   "id": "f81f6592",
   "metadata": {
    "editable": true
   },
   "source": [
    "## Basis for $\\mathrm{SU}(2)$\n",
    "\n",
    "Because they form a basis for $\\mathrm{SU}(2)$, any single-qubit gate\n",
    "can be decomposed into three rotation gates. Indeed"
   ]
  },
  {
   "cell_type": "markdown",
   "id": "81a66df5",
   "metadata": {
    "editable": true
   },
   "source": [
    "$$\n",
    "R_z(\\phi)R_y(\\theta)R_z(\\lambda)=\n",
    "\\begin{bmatrix}\n",
    "e^{-i\\phi/2} & 0 \\\\\n",
    "0 & e^{i\\phi/2}\n",
    "\\end{bmatrix}\n",
    "\\begin{bmatrix}\n",
    "\\cos\\frac{\\theta}{2} & -\\sin\\frac{\\theta}{2} \\\\\n",
    "\\sin\\frac{\\theta}{2} & \\cos\\frac{\\theta}{2} \n",
    "\\end{bmatrix}\n",
    "\\begin{bmatrix}\n",
    "e^{-i\\lambda/2} & 0 \\\\\n",
    "0 & e^{i\\lambda/2}\n",
    "\\end{bmatrix}\n",
    "$$"
   ]
  },
  {
   "cell_type": "markdown",
   "id": "7f2d2faa",
   "metadata": {
    "editable": true
   },
   "source": [
    "which we can rewite as"
   ]
  },
  {
   "cell_type": "markdown",
   "id": "f3e12392",
   "metadata": {
    "editable": true
   },
   "source": [
    "$$\n",
    "e^{-i(\\phi+\\lambda)/2}\n",
    "\\begin{bmatrix}\n",
    "\\cos\\frac{\\theta}{2} & -e^{i\\lambda}\\sin\\frac{\\theta}{2}\\\\\n",
    "e^{i\\phi}\\sin\\frac{\\theta}{2} & e^{i(\\phi+\\lambda)}\\cos\\frac{\\theta}{2}\n",
    "\\end{bmatrix},\n",
    "$$"
   ]
  },
  {
   "cell_type": "markdown",
   "id": "d5109971",
   "metadata": {
    "editable": true
   },
   "source": [
    "which is, up to a global phase, equal to the expression for an arbitrary single-qubit gate."
   ]
  },
  {
   "cell_type": "markdown",
   "id": "fb839a7d",
   "metadata": {
    "editable": true
   },
   "source": [
    "## Two-Qubit Gates\n",
    "\n",
    "A two-qubit gate is a physical action that is applied to two\n",
    "qubits. It can be represented by a matrix $U$ from the group\n",
    "SU(4). One important type of two-qubit gates are controlled gates,\n",
    "which work as follows: Suppose $U$ is a single-qubit gate. A\n",
    "controlled-$U$ gate ($CU$) acts on two qubits: a control qubit\n",
    "$\\vert x \\rangle $ and a target qubit $\\vert y \\rangle $. The controlled-$U$ gate\n",
    "applies the identity $I$ or the single-qubit gate $U$ to the target\n",
    "qubit if the control gate is in the zero state $\\vert 0\\rangle$ or the one\n",
    "state $\\vert 1\\rangle$, respectively."
   ]
  },
  {
   "cell_type": "markdown",
   "id": "9cf8c829",
   "metadata": {
    "editable": true
   },
   "source": [
    "## Control qubit\n",
    "The control qubit is not acted\n",
    "upon. This can be represented as follows if"
   ]
  },
  {
   "cell_type": "markdown",
   "id": "3e80de3b",
   "metadata": {
    "editable": true
   },
   "source": [
    "$$\n",
    "CU\\vert xy\\rangle=\n",
    "\\vert xy\\rangle \\hspace{0.1cm} \\mathrm{if} \\hspace{0.1cm}  \\vert x \\rangle =\\vert 0\\rangle.\n",
    "$$"
   ]
  },
  {
   "cell_type": "markdown",
   "id": "cfb077a0",
   "metadata": {
    "editable": true
   },
   "source": [
    "## In matrix form\n",
    "\n",
    "It is easier to see in a matrix form.\n",
    "It can be written in matrix form by writing it as a superposition of\n",
    "the two possible cases, each written as a simple tensor product"
   ]
  },
  {
   "cell_type": "markdown",
   "id": "95e66eb0",
   "metadata": {
    "editable": true
   },
   "source": [
    "$$\n",
    "CU = \\vert 0\\rangle\\langle 0\\vert\\otimes I + \\vert 1\\rangle\\langle 1 \\vert \\otimes U=\\begin{bmatrix}\n",
    "1 & 0 & 0 & 0 \\\\\n",
    "0 & 1 & 0 & 0 \\\\\n",
    "0 & 0 & u_{00} & u_{01} \\\\\n",
    "0 & 0 & u_{10} & u_{11}\n",
    "\\end{bmatrix}.\n",
    "$$"
   ]
  },
  {
   "cell_type": "markdown",
   "id": "cb5acaba",
   "metadata": {
    "editable": true
   },
   "source": [
    "## CNOT gate\n",
    "\n",
    "One of the most fundamental controlled gates is the CNOT gate. It is\n",
    "defined as the controlled-$X$ gate $CX$. It can be written in matrix form as follows:"
   ]
  },
  {
   "cell_type": "markdown",
   "id": "2dcd63ae",
   "metadata": {
    "editable": true
   },
   "source": [
    "$$\n",
    "\\mathrm{CNOT}=\\mathrm{CX}=\\begin{bmatrix}\n",
    "1 & 0 & 0 & 0 \\\\\n",
    "0 & 1 & 0 & 0 \\\\\n",
    "0 & 0 & 0 & 1 \\\\\n",
    "0 & 0 & 1 & 0\n",
    "\\end{bmatrix}.\n",
    "$$"
   ]
  },
  {
   "cell_type": "markdown",
   "id": "1b229048",
   "metadata": {
    "editable": true
   },
   "source": [
    "## $\\mathrm{CX}$ gate\n",
    "\n",
    "It changes, when operating on a two-qubit state where the first qubit is the control qubit and the second qubit is the target qubit, the states (check this)"
   ]
  },
  {
   "cell_type": "markdown",
   "id": "de58bd23",
   "metadata": {
    "editable": true
   },
   "source": [
    "$$\n",
    "\\mathrm{CX}\\vert 00\\rangle=\\vert 00\\rangle,\n",
    "$$"
   ]
  },
  {
   "cell_type": "markdown",
   "id": "b59f67e1",
   "metadata": {
    "editable": true
   },
   "source": [
    "$$\n",
    "\\mathrm{CX}\\vert 10\\rangle= \\vert 11\\rangle,\n",
    "$$"
   ]
  },
  {
   "cell_type": "markdown",
   "id": "d18fcb57",
   "metadata": {
    "editable": true
   },
   "source": [
    "$$\n",
    "\\mathrm{CX}\\vert 01\\rangle= \\vert 01\\rangle,\n",
    "$$"
   ]
  },
  {
   "cell_type": "markdown",
   "id": "7c221c5a",
   "metadata": {
    "editable": true
   },
   "source": [
    "$$\n",
    "\\mathrm{CX}\\vert 11\\rangle= \\vert 10\\rangle,\n",
    "$$"
   ]
  },
  {
   "cell_type": "markdown",
   "id": "24d1250e",
   "metadata": {
    "editable": true
   },
   "source": [
    "which you can easily see by simply multiplying the above matrix with any of the above states."
   ]
  },
  {
   "cell_type": "markdown",
   "id": "70eafec1",
   "metadata": {
    "editable": true
   },
   "source": [
    "## Swap gate\n",
    "\n",
    "A widely used two-qubit gate that goes beyond the simple controlled function is the SWAP gate. It swaps the states of the two qubits it acts upon"
   ]
  },
  {
   "cell_type": "markdown",
   "id": "1b60d282",
   "metadata": {
    "editable": true
   },
   "source": [
    "$$\n",
    "\\mathrm{SWAP}\\vert xy\\rangle=\\vert yx\\rangle.\n",
    "$$"
   ]
  },
  {
   "cell_type": "markdown",
   "id": "d5f4d69c",
   "metadata": {
    "editable": true
   },
   "source": [
    "and has the following matrix form"
   ]
  },
  {
   "cell_type": "markdown",
   "id": "f7706c3a",
   "metadata": {
    "editable": true
   },
   "source": [
    "$$\n",
    "\\mathrm{SWAP}\n",
    "=\\begin{bmatrix}\n",
    "1 & 0 & 0 & 0 \\\\\n",
    "0 & 0 & 1 & 0 \\\\\n",
    "0 & 1 & 0 & 0 \\\\\n",
    "0 & 0 & 0 & 1\n",
    "\\end{bmatrix}.\n",
    "$$"
   ]
  },
  {
   "cell_type": "markdown",
   "id": "4f72eeb8",
   "metadata": {
    "editable": true
   },
   "source": [
    "## Introduction to [Qiskit](https://qiskit.org/)\n",
    "\n",
    "This part is best seen using the jupyter-notebook.\n",
    "\n",
    "For the installation"
   ]
  },
  {
   "cell_type": "code",
   "execution_count": 3,
   "id": "4aa4c5ac",
   "metadata": {
    "collapsed": false,
    "editable": true
   },
   "outputs": [],
   "source": [
    "pip install qiskit\n",
    "pip install qiskit-ibm-runtime"
   ]
  },
  {
   "cell_type": "markdown",
   "id": "77487d20",
   "metadata": {
    "editable": true
   },
   "source": [
    "Documentation can be found at <https://docs.quantum.ibm.com/api/qiskit >"
   ]
  },
  {
   "cell_type": "markdown",
   "id": "9624b922",
   "metadata": {
    "editable": true
   },
   "source": [
    "## Simple code"
   ]
  },
  {
   "cell_type": "code",
   "execution_count": 4,
   "id": "07580b49",
   "metadata": {
    "collapsed": false,
    "editable": true
   },
   "outputs": [],
   "source": [
    "#!/usr/bin/env python\n",
    "# coding: utf-8\n",
    "import numpy as np\n",
    "import qiskit as qk\n",
    "from scipy.optimize import minimize\n",
    "\n",
    "\n",
    "# # Initialize registers and circuit\n",
    "\n",
    "n_qubits = 1 #Number of qubits\n",
    "n_cbits = 1 #Number of classical bits (the number of qubits you want to measure at the end of the circuit)\n",
    "qreg = qk.QuantumRegister(n_qubits) #Create a quantum register\n",
    "creg = qk.ClassicalRegister(n_cbits) #Create a classical register\n",
    "circuit = qk.QuantumCircuit(qreg,creg) #Create your quantum circuit\n",
    "\n",
    "\n",
    "circuit.draw() #Draw circuit. It is empty"
   ]
  },
  {
   "cell_type": "markdown",
   "id": "298edf18",
   "metadata": {
    "editable": true
   },
   "source": [
    "Thereafter we perform operations on qubit"
   ]
  },
  {
   "cell_type": "code",
   "execution_count": 5,
   "id": "87904b7a",
   "metadata": {
    "collapsed": false,
    "editable": true
   },
   "outputs": [],
   "source": [
    "circuit.x(qreg[0]) #Applies a Pauli X gate to the first qubit in the quantum register\n",
    "circuit.draw()"
   ]
  },
  {
   "cell_type": "markdown",
   "id": "e5961ef9",
   "metadata": {
    "editable": true
   },
   "source": [
    "and select  a qubit to measure and encode the results to a classical bit"
   ]
  },
  {
   "cell_type": "code",
   "execution_count": 6,
   "id": "de4183d7",
   "metadata": {
    "collapsed": false,
    "editable": true
   },
   "outputs": [],
   "source": [
    "#Measure the first qubit in the quantum register\n",
    "#and encode the results to the first qubit in the classical register\n",
    "circuit.measure(qreg[0],creg[0])\n",
    "circuit.draw()"
   ]
  },
  {
   "cell_type": "markdown",
   "id": "87306b66",
   "metadata": {
    "editable": true
   },
   "source": [
    "Thereafter we execute the circuit"
   ]
  },
  {
   "cell_type": "code",
   "execution_count": 7,
   "id": "cb4a65d6",
   "metadata": {
    "collapsed": false,
    "editable": true
   },
   "outputs": [],
   "source": [
    "backend = qk.Aer.get_backend('qasm_simulator') \n",
    "#This is the device you want to use. It is an ideal simulation of a quantum device\n",
    "\n",
    "\n",
    "job = backend.run(circuit,shots=1000) #Run the circuit 1000 times\n",
    "result = job.result()\n",
    "counts = result.get_counts()\n",
    "print(counts)\n",
    "circuit.clear()\n",
    "circuit.draw()\n",
    "\n",
    "\n",
    "circuit.h(qreg[0]) #Apply a Hadamard gate to the first qubit of the quantum register\n",
    "circuit.measure(qreg,creg)\n",
    "print(circuit.draw())\n",
    "\n",
    "\n",
    "job = backend.run(circuit,shots=1000)\n",
    "result = job.result()\n",
    "counts = result.get_counts()\n",
    "print(counts)\n",
    "circuit.clear()"
   ]
  },
  {
   "cell_type": "markdown",
   "id": "2179c544",
   "metadata": {
    "editable": true
   },
   "source": [
    "Now we create a two-qubit circuit and set up a Bell state"
   ]
  },
  {
   "cell_type": "code",
   "execution_count": 8,
   "id": "dbe2cfd8",
   "metadata": {
    "collapsed": false,
    "editable": true
   },
   "outputs": [],
   "source": [
    "n_qubits = 2\n",
    "n_cbits = 2\n",
    "qreg = qk.QuantumRegister(n_qubits)\n",
    "creg = qk.ClassicalRegister(n_cbits)\n",
    "circuit = qk.QuantumCircuit(qreg,creg)\n",
    "circuit.draw()\n",
    "\n",
    "\n",
    "\n",
    "circuit.h(qreg[0])\n",
    "circuit.cx(qreg[0],qreg[1]) \n",
    "#This is a controlled operation. Apply a Pauli X gate to the second qubit (qreg[1]) if the first qubit (qreg[0])\n",
    "#is in the |1> state. Else do nothing\n",
    "\n",
    "circuit.draw()\n",
    "\n",
    "circuit.measure(qreg,creg)\n",
    "circuit.draw()"
   ]
  },
  {
   "cell_type": "code",
   "execution_count": 9,
   "id": "bf860d82",
   "metadata": {
    "collapsed": false,
    "editable": true
   },
   "outputs": [],
   "source": [
    "job = backend.run(circuit,shots=1000)\n",
    "result = job.result()\n",
    "counts = result.get_counts()\n",
    "print(counts)\n",
    "circuit.clear()"
   ]
  },
  {
   "cell_type": "markdown",
   "id": "c912017d",
   "metadata": {
    "editable": true
   },
   "source": [
    "We apply a rotation to a qubit"
   ]
  },
  {
   "cell_type": "code",
   "execution_count": 10,
   "id": "766d0ead",
   "metadata": {
    "collapsed": false,
    "editable": true
   },
   "outputs": [],
   "source": [
    "theta = np.pi/3\n",
    "circuit.rx(theta, qreg[0]) #R_x(theta) rotation on the first qubit (qreg[0])\n",
    "circuit.measure(qreg,creg)\n",
    "print(circuit.draw())\n",
    "job = backend.run(circuit,shots=1000)\n",
    "result = job.result()\n",
    "counts = result.get_counts()\n",
    "circuit.clear()\n",
    "print(counts)"
   ]
  },
  {
   "cell_type": "markdown",
   "id": "daffafb3",
   "metadata": {
    "editable": true
   },
   "source": [
    "## Exercises on Bell states, developed by Keran"
   ]
  },
  {
   "cell_type": "code",
   "execution_count": 11,
   "id": "3a012dc7",
   "metadata": {
    "collapsed": false,
    "editable": true
   },
   "outputs": [],
   "source": [
    "%matplotlib inline\n",
    "\n",
    "import qiskit as qk\n",
    "from qiskit import QuantumRegister, ClassicalRegister, QuantumCircuit\n",
    "from qiskit.visualization import plot_histogram\n",
    "from qiskit_aer import AerSimulator\n",
    "import matplotlib.pyplot as plt"
   ]
  },
  {
   "cell_type": "markdown",
   "id": "c7b333af",
   "metadata": {
    "editable": true
   },
   "source": [
    "Setting up a circuit"
   ]
  },
  {
   "cell_type": "code",
   "execution_count": 12,
   "id": "fb1883fd",
   "metadata": {
    "collapsed": false,
    "editable": true
   },
   "outputs": [],
   "source": [
    "qreg_q = QuantumRegister(2) # 2 qubits\n",
    "creg_c = ClassicalRegister(2) # 2 classical bits\n",
    "\n",
    "qc = QuantumCircuit(qreg_q, creg_c) # alternatively, circuit = QuantumCircuit(2, 2)\n",
    "\n",
    "qc.h(qreg_q[0]) # apply the hadamard gate to the first qubit (to the right)\n",
    "\n",
    "# apply the CNOT gate with the first qubit being the control qubit and the second qubit being the target qubit\n",
    "qc.cx(qreg_q[0], qreg_q[1]) \n",
    "\n",
    "\n",
    "# measure the qubits, specify which qubit you want to measure\n",
    "qc.measure(qreg_q[0], creg_c[0])\n",
    "qc.measure(qreg_q[1], creg_c[1])"
   ]
  },
  {
   "cell_type": "markdown",
   "id": "7bb15f56",
   "metadata": {
    "editable": true
   },
   "source": [
    "Next we will use an ideal(noiseless) simulator (AerSimulator) to run\n",
    "our circuit. We will use the qasm$\\_$simulator backend. This simulator\n",
    "returns a result object which contains the counts, or number of times\n",
    "each qubit was measured in the zero state and the one state. We can\n",
    "then use the plot$\\_$histogram function to see the result of our circuit."
   ]
  },
  {
   "cell_type": "code",
   "execution_count": 13,
   "id": "9f17b1c9",
   "metadata": {
    "collapsed": false,
    "editable": true
   },
   "outputs": [],
   "source": [
    "# Initialize a simulator\n",
    "simulator = AerSimulator()\n",
    "\n",
    "job = qk.execute(qc, simulator, shots=1000) # shots are the number of times the circuit is executed\n",
    "results = job.result().get_counts(qc) # Done! check out the results!\n",
    "print(results)"
   ]
  },
  {
   "cell_type": "markdown",
   "id": "3d246604",
   "metadata": {
    "editable": true
   },
   "source": [
    "Is this what you expected? Visualise it!"
   ]
  },
  {
   "cell_type": "code",
   "execution_count": 14,
   "id": "7d5966e6",
   "metadata": {
    "collapsed": false,
    "editable": true
   },
   "outputs": [],
   "source": [
    "plot_histogram(results)"
   ]
  },
  {
   "cell_type": "markdown",
   "id": "05296a57",
   "metadata": {
    "editable": true
   },
   "source": [
    "Now it's your turn to make create the other three bell states, which are\n",
    "\n",
    "$$ \\vert \\Phi_+\\rangle = \\frac{|00\\rangle + |11\\rangle}{\\sqrt{2}} $$\n",
    "$$ \\vert \\Phi_-\\rangle = \\frac{|00\\rangle - |11\\rangle}{\\sqrt{2}} $$\n",
    "$$ \\vert \\Psi_+\\rangle = \\frac{|01\\rangle + |10\\rangle}{\\sqrt{2}} $$\n",
    "$$ \\vert \\Psi_-\\rangle = \\frac{|01\\rangle - |10\\rangle}{\\sqrt{2}} $$"
   ]
  },
  {
   "cell_type": "code",
   "execution_count": 15,
   "id": "65ba3aa2",
   "metadata": {
    "collapsed": false,
    "editable": true
   },
   "outputs": [],
   "source": [
    "# SOLUTIONS\n",
    "\n",
    "phi_plus = QuantumCircuit(2,2)\n",
    "phi_plus.h(0)\n",
    "phi_plus.cx(0,1)\n",
    "phi_plus.measure([0,1],[0,1])\n",
    "\n",
    "\n",
    "phi_minus = QuantumCircuit(2,2)\n",
    "phi_minus.h(0)\n",
    "phi_minus.cx(0,1)\n",
    "phi_minus.z(0) # you can flip 1 in this case too, but not both obviously\n",
    "phi_minus.measure([0,1],[0,1])\n",
    "\n",
    "\n",
    "psi_plus = QuantumCircuit(2,2)\n",
    "psi_plus.h(0)\n",
    "psi_plus.cx(0,1)\n",
    "psi_plus.x(0) \n",
    "psi_plus.measure([0,1],[0,1])\n",
    "\n",
    "\n",
    "psi_minus = QuantumCircuit(2,2)\n",
    "psi_minus.h(0)\n",
    "psi_minus.cx(0,1)\n",
    "psi_minus.x(0)\n",
    "psi_minus.z(0)\n",
    "psi_minus.measure([0,1],[0,1])\n",
    "\n",
    "\n",
    "bell_states = [phi_plus, phi_minus, psi_plus, psi_minus]"
   ]
  },
  {
   "cell_type": "markdown",
   "id": "9d817c8a",
   "metadata": {
    "editable": true
   },
   "source": [
    "Have a look at them side by side"
   ]
  },
  {
   "cell_type": "code",
   "execution_count": 16,
   "id": "4a7e7520",
   "metadata": {
    "collapsed": false,
    "editable": true
   },
   "outputs": [],
   "source": [
    "all_results = []\n",
    "\n",
    "fig, axes = plt.subplots(2, 2, figsize=(10, 10))\n",
    "for i,state in enumerate(bell_states):\n",
    "    print(results)\n",
    "    job = qk.execute(state, simulator, shots=1000)\n",
    "    all_results.append(job.result().get_counts(state))\n",
    "    plot_histogram(all_results[-1], ax=axes[int(i/2),i%2])"
   ]
  },
  {
   "cell_type": "markdown",
   "id": "788933c9",
   "metadata": {
    "editable": true
   },
   "source": [
    "How can you distinguish $|\\Phi_+\\rangle$ and $|\\Phi_-\\rangle$? (and\n",
    "similarly $|\\Psi_+\\rangle$ and $|\\Psi_-\\rangle$)\n",
    "\n",
    "You can play around with the gates at <https://quantum.ibm.com/composer>.\n",
    "We'll look at the example with $|\\Phi_+\\rangle$ and $|\\Phi_-\\rangle$."
   ]
  },
  {
   "cell_type": "code",
   "execution_count": 17,
   "id": "6342bb8a",
   "metadata": {
    "collapsed": false,
    "editable": true
   },
   "outputs": [],
   "source": [
    "# Solution: change basis\n",
    "\n",
    "phi_plus = QuantumCircuit(2,2)\n",
    "phi_plus.h(0)\n",
    "phi_plus.cx(0,1)\n",
    "phi_plus.h(0)\n",
    "phi_plus.h(1)\n",
    "phi_plus.measure([0,1],[0,1])\n",
    "\n",
    "\n",
    "phi_minus = QuantumCircuit(2,2)\n",
    "phi_minus.h(0)\n",
    "phi_minus.cx(0,1)\n",
    "phi_minus.z(0) # you can flip 1 in this case too, but not both obviously\n",
    "phi_minus.h(0)\n",
    "phi_minus.h(1)\n",
    "phi_minus.measure([0,1],[0,1])\n",
    "\n",
    "for state in [phi_plus, phi_minus]:\n",
    "    job = qk.execute(state, simulator, shots=1000)\n",
    "    print(job.result().get_counts(state))\n",
    "    plot_histogram(job.result().get_counts(state))"
   ]
  },
  {
   "cell_type": "markdown",
   "id": "445315a3",
   "metadata": {
    "editable": true
   },
   "source": [
    "## Testing the Bell states"
   ]
  },
  {
   "cell_type": "code",
   "execution_count": 18,
   "id": "2a90690a",
   "metadata": {
    "collapsed": false,
    "editable": true
   },
   "outputs": [],
   "source": [
    "from qiskit import QuantumCircuit, transpile, assemble, IBMQ\n",
    "from qiskit.visualization import circuit_drawer\n",
    "import qiskit_aer\n",
    "import matplotlib.pyplot as plt\n",
    "\n",
    "# Create a quantum circuit with two qubits\n",
    "bell_circuit = QuantumCircuit(2, 2)\n",
    "\n",
    "# Apply Hadamard gate to the first qubit\n",
    "bell_circuit.h(0)\n",
    "\n",
    "# Apply a CNOT gate with the first qubit as the control and the second qubit as the target\n",
    "bell_circuit.cx(0, 1)\n",
    "\n",
    "# Add measurements to the circuit\n",
    "bell_circuit.measure([0, 1], [0, 1])\n",
    "\n",
    "# Visualize the circuit\n",
    "print(\"Quantum Circuit:\")\n",
    "print(bell_circuit)"
   ]
  },
  {
   "cell_type": "markdown",
   "id": "09971443",
   "metadata": {
    "editable": true
   },
   "source": [
    "## Running the calculations"
   ]
  },
  {
   "cell_type": "code",
   "execution_count": 19,
   "id": "eb997738",
   "metadata": {
    "collapsed": false,
    "editable": true
   },
   "outputs": [],
   "source": [
    "# Number of shots\n",
    "num_shots = 10000\n",
    "\n",
    "# Simulate the circuit using the Aer simulator\n",
    "simulator = qiskit_aer.Aer.get_backend('qasm_simulator')\n",
    "\n",
    "# Transpile the circuit for the simulator\n",
    "transpiled_circuit = transpile(bell_circuit, simulator)\n",
    "\n",
    "# Execute the transpiled circuit on the simulator with the specified number of shots\n",
    "result = simulator.run(transpiled_circuit, shots=num_shots).result()\n",
    "\n",
    "# Get measurement counts\n",
    "counts = result.get_counts(bell_circuit)\n",
    "\n",
    "# Get and print the measurement results\n",
    "counts = result.get_counts(bell_circuit)\n",
    "print(\"\\nMeasurement Results:\")\n",
    "print(counts)"
   ]
  },
  {
   "cell_type": "markdown",
   "id": "63b64a69",
   "metadata": {
    "editable": true
   },
   "source": [
    "## Then plotting the histogram over counts"
   ]
  },
  {
   "cell_type": "code",
   "execution_count": 20,
   "id": "5e72823e",
   "metadata": {
    "collapsed": false,
    "editable": true
   },
   "outputs": [],
   "source": [
    "# Plot the histogram using Matplotlib\n",
    "plt.bar(counts.keys(), counts.values())\n",
    "plt.title('Bell State Measurement Results')\n",
    "plt.ylabel('Counts')\n",
    "plt.show()"
   ]
  },
  {
   "cell_type": "markdown",
   "id": "2dfe29d4",
   "metadata": {
    "editable": true
   },
   "source": [
    "## Getting serious, Quantum Simulator with Hardware noise model"
   ]
  },
  {
   "cell_type": "code",
   "execution_count": 21,
   "id": "6f7307d9",
   "metadata": {
    "collapsed": false,
    "editable": true
   },
   "outputs": [],
   "source": [
    "from qiskit import QuantumCircuit, transpile, assemble, Aer, IBMQ\n",
    "from qiskit.visualization import plot_histogram\n",
    "from qiskit.providers.aer.noise import NoiseModel\n",
    "\n",
    "# you will not be able to run unless you provide your token here\n",
    "api_token = 'your_api_token'\n",
    "# Load your IBM Quantum account\n",
    "IBMQ.save_account(api_token, overwrite=True)  # This stores your credentials locally\n",
    "IBMQ.load_account()\n",
    "# Get the least busy backend\n",
    "provider = IBMQ.get_provider(hub='ibm-q', group ='open', project='main')\n",
    "#backend = provider.get_backend('your_preferred_backend')\n",
    "backend = provider.get_backend('ibm_osaka')\n",
    "\n",
    "# Get the noise model for the selected backend\n",
    "noise_model = NoiseModel.from_backend(backend)\n",
    "\n",
    "# Create a quantum circuit with two qubits\n",
    "bell_circuit = QuantumCircuit(2, 2)\n",
    "\n",
    "# Apply Hadamard gate to the first qubit\n",
    "bell_circuit.h(0)\n",
    "\n",
    "# Apply a CNOT gate with the first qubit as the control and the second qubit as the target\n",
    "bell_circuit.cx(0, 1)\n",
    "\n",
    "# Add measurements to the circuit\n",
    "bell_circuit.measure([0, 1], [0, 1])\n",
    "\n",
    "# Visualize the circuit\n",
    "print(\"Quantum Circuit:\")\n",
    "print(bell_circuit)"
   ]
  },
  {
   "cell_type": "markdown",
   "id": "7aaf936b",
   "metadata": {
    "editable": true
   },
   "source": [
    "## Then run and visualize it"
   ]
  },
  {
   "cell_type": "code",
   "execution_count": 22,
   "id": "71819af7",
   "metadata": {
    "collapsed": false,
    "editable": true
   },
   "outputs": [],
   "source": [
    "# Number of shots\n",
    "num_shots = 10000\n",
    "\n",
    "# Simulate the circuit using the Aer simulator with the noise model\n",
    "simulator = Aer.get_backend('qasm_simulator')\n",
    "noisy_transpiled_circuit = transpile(bell_circuit, simulator, optimization_level=0)\n",
    "noisy_circuit = assemble(noisy_transpiled_circuit, shots=num_shots, noise_model=noise_model)\n",
    "\n",
    "# Execute the noisy circuit on the simulator\n",
    "result = simulator.run(noisy_circuit).result()\n",
    "\n",
    "# Get and print the measurement results\n",
    "counts = result.get_counts(bell_circuit)\n",
    "print(\"\\nMeasurement Results:\")\n",
    "print(counts)\n",
    "# Plot the histogram using Matplotlib\n",
    "plot_histogram(counts, title='Bell State Measurement Results')"
   ]
  },
  {
   "cell_type": "markdown",
   "id": "1682c9ab",
   "metadata": {
    "editable": true
   },
   "source": [
    "## And without the noise model"
   ]
  },
  {
   "cell_type": "code",
   "execution_count": 23,
   "id": "87865d5b",
   "metadata": {
    "collapsed": false,
    "editable": true
   },
   "outputs": [],
   "source": [
    "# Provide your IBM Quantum Experience API token here\n",
    "api_token = 'your_api_token'\n",
    "# Load your IBM Quantum account\n",
    "IBMQ.save_account(api_token, overwrite=True)  # This stores your credentials locally\n",
    "IBMQ.load_account()\n",
    "\n",
    "# Get the least busy backend\n",
    "#provider = IBMQ.get_provider(hub='your_hub', group='your_group', project='your_project')\n",
    "provider = IBMQ.get_provider(hub='ibm-q', group ='open', project='main')\n",
    "#backend = provider.get_backend('your_preferred_backend')\n",
    "backend = provider.get_backend('ibm_osaka')\n",
    "\n",
    "# Create a quantum circuit with two qubits\n",
    "bell_circuit = QuantumCircuit(2, 2)\n",
    "\n",
    "# Apply Hadamard gate to the first qubit\n",
    "bell_circuit.h(0)\n",
    "\n",
    "# Apply a CNOT gate with the first qubit as the control and the second qubit as the target\n",
    "bell_circuit.cx(0, 1)\n",
    "\n",
    "# Add measurements to the circuit\n",
    "bell_circuit.measure([0, 1], [0, 1])\n",
    "\n",
    "# Transpile the circuit for the chosen backend\n",
    "transpiled_circuit = transpile(bell_circuit, backend)\n",
    "\n",
    "# Execute the transpiled circuit on the IBM Quantum computer\n",
    "qobj = assemble(transpiled_circuit, shots=1024)  # You can adjust the number of shots\n",
    "result = backend.run(qobj).result()\n",
    "\n",
    "# Get measurement counts\n",
    "counts = result.get_counts(bell_circuit)\n",
    "print(\"\\nMeasurement Results:\")\n",
    "print(counts)\n",
    "\n",
    "# Plot the histogram using Matplotlib\n",
    "plt.bar(counts.keys(), counts.values())\n",
    "plt.title('Bell State Measurement Results')\n",
    "plt.ylabel('Counts')\n",
    "plt.show()"
   ]
  }
 ],
 "metadata": {},
 "nbformat": 4,
 "nbformat_minor": 5
}
