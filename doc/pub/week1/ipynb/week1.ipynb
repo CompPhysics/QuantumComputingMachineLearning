{
 "cells": [
  {
   "cell_type": "markdown",
   "id": "9e141bc5",
   "metadata": {},
   "source": [
    "<!-- HTML file automatically generated from DocOnce source (https://github.com/doconce/doconce/)\n",
    "doconce format html week1.do.txt --no_mako -->\n",
    "<!-- dom:TITLE: First week: Quantum Computing, Quantum Machine Learning and Quantum Information Theories -->"
   ]
  },
  {
   "cell_type": "markdown",
   "id": "144ae13f",
   "metadata": {},
   "source": [
    "# First week: Quantum Computing, Quantum Machine Learning and Quantum Information Theories\n",
    "**Morten Hjorth-Jensen**, Department of Physics and Center for Computing in Science Education, University of Oslo, Norway and Department of Physics and Astronomy and Facility for Rare Isotope Beams, Michigan State University, East Lansing, Michigan, USA\n",
    "\n",
    "Date: **Jan 8, 2023**\n",
    "\n",
    "Copyright 1999-2023, Morten Hjorth-Jensen. Released under CC Attribution-NonCommercial 4.0 license"
   ]
  },
  {
   "cell_type": "markdown",
   "id": "d88a4d51",
   "metadata": {},
   "source": [
    "## Overview of week first week, Getting started and Mathematics Reminder\n",
    "\n",
    "**Basics in Linear Algebra, The Hilbert Space, Operators on Hilbert Spaces, Composite Systems.**\n",
    "\n",
    "1. Description of Quantum Systems \n",
    "\n",
    "2. States in Hilbert Space \n",
    "\n",
    "3. Quantum Channels\n",
    "\n",
    "4. Measurements"
   ]
  },
  {
   "cell_type": "markdown",
   "id": "cebc4f2a",
   "metadata": {},
   "source": [
    "## Linear Algebra and quantum mechanical states\n",
    "\n",
    "There are several central software packages for linear algebra and\n",
    "eigenvalue problems. Several of the more popular ones have been\n",
    "wrapped into ofter software packages like those from the widely used\n",
    "text **Numerical Recipes**. The original source codes in many of the\n",
    "available packages are often taken from the widely used software\n",
    "package LAPACK, which follows two other popular packages developed in\n",
    "the 1970s, namely EISPACK and LINPACK.  We describe them shortly here.\n",
    "\n",
    "  * LINPACK: package for linear equations and least square problems.\n",
    "\n",
    "  * LAPACK:package for solving symmetric, unsymmetric and generalized eigenvalue problems. From LAPACK's website <http://www.netlib.org> it is possible to download for free all source codes from this library. Both C/C++ and Fortran versions are available.\n",
    "\n",
    "  * BLAS (I, II and III): (Basic Linear Algebra Subprograms) are routines that provide standard building blocks for performing basic vector and matrix operations. Blas I is vector operations, II vector-matrix operations and III matrix-matrix operations. Highly parallelized and efficient codes, all available for download from <http://www.netlib.org>.\n",
    "\n",
    "When dealing with matrices and vectors a central issue is memory\n",
    "handling and allocation. If our code is written in Python the way we\n",
    "declare these objects and the way they are handled, interpreted and\n",
    "used by say a linear algebra library, requires codes that interface\n",
    "our Python program with such libraries. For Python programmers,\n",
    "**Numpy** is by now the standard Python package for numerical arrays in\n",
    "Python as well as the source of functions which act on these\n",
    "arrays. These functions span from eigenvalue solvers to functions that\n",
    "compute the mean value, variance or the covariance matrix. If you are\n",
    "not familiar with how arrays are handled in say Python or compiled\n",
    "languages like C++ and Fortran, the sections in this chapter may be\n",
    "useful. For C++ programmer, **Armadillo** is widely used library for\n",
    "linear algebra and eigenvalue problems. In addition it offers a\n",
    "convenient way to handle and organize arrays. We discuss this library\n",
    "as well.   Before we proceed we believe  it may be convenient to repeat some basic features of \n",
    " matrices and vectors."
   ]
  },
  {
   "cell_type": "markdown",
   "id": "5dd5dc5b",
   "metadata": {},
   "source": [
    "$$\n",
    "\\mathbf{A} =\n",
    "      \\begin{bmatrix} a_{11} & a_{12} & a_{13} & a_{14} \\\\\n",
    "                                 a_{21} & a_{22} & a_{23} & a_{24} \\\\\n",
    "                                   a_{31} & a_{32} & a_{33} & a_{34} \\\\\n",
    "                                  a_{41} & a_{42} & a_{43} & a_{44}\n",
    "             \\end{bmatrix}\\qquad\n",
    "\\mathbf{I} =\n",
    "      \\begin{bmatrix} 1 & 0 & 0 & 0 \\\\\n",
    "                                 0 & 1 & 0 & 0 \\\\\n",
    "                                 0 & 0 & 1 & 0 \\\\\n",
    "                                 0 & 0 & 0 & 1\n",
    "             \\end{bmatrix}\n",
    "$$"
   ]
  },
  {
   "cell_type": "markdown",
   "id": "bd266d70",
   "metadata": {},
   "source": [
    "The inverse of a matrix is defined by"
   ]
  },
  {
   "cell_type": "markdown",
   "id": "1f06dcc3",
   "metadata": {},
   "source": [
    "$$\n",
    "\\mathbf{A}^{-1} \\cdot \\mathbf{A} = I\n",
    "$$"
   ]
  },
  {
   "cell_type": "markdown",
   "id": "1c8bd1ce",
   "metadata": {},
   "source": [
    "$A = A^{T}$          symmetric        $a_{ij} = a_{ji}$           \n",
    " $A = \\left (A^{T} \\right )^{-1}$  real orthogonal  $\\sum_k a_{ik} a_{jk} = \\sum_k a_{ki} a_{kj} = \\delta_{ij}$ \n",
    " $A = A^{ * }$           real matrix      $a_{ij} = a_{ij}^{ * }$      \n",
    " $A = A^{\\dagger}$       hermitian      $a_{ij} = a_{ji}^{ * }$       \n",
    " $A = \\left (A^{\\dagger} \\right )^{-1}$  unitary | $\\sum_k a_{ik} a_{jk}^{ * } = \\sum_k a_{ki}^{ * } a_{kj} = \\delta_{ij}$ \n",
    "\n",
    "  * Diagonal if $a_{ij}=0$ for $i\\ne j$\n",
    "\n",
    "  * Upper triangular if $a_{ij}=0$ for $i > j$\n",
    "\n",
    "  * Lower triangular if $a_{ij}=0$ for $i < j$\n",
    "\n",
    "  * Upper Hessenberg if $a_{ij}=0$ for $i > j+1$\n",
    "\n",
    "  * Lower Hessenberg if $a_{ij}=0$ for $i < j+1$\n",
    "\n",
    "  * Tridiagonal if $a_{ij}=0$ for $|i -j| > 1$\n",
    "\n",
    "  * Lower banded with bandwidth $p$: $a_{ij}=0$ for $i > j+p$\n",
    "\n",
    "  * Upper banded with bandwidth $p$: $a_{ij}=0$ for $i < j+p$\n",
    "\n",
    "  * Banded, block upper triangular, block lower triangular....\n",
    "\n",
    "Some Equivalent Statements. For an $N\\times N$ matrix  $\\mathbf{A}$ the following properties are all equivalent\n",
    "\n",
    "  * If the inverse of $\\mathbf{A}$ exists, $\\mathbf{A}$ is nonsingular.\n",
    "\n",
    "  * The equation $\\mathbf{Ax}=0$ implies $\\mathbf{x}=0$.\n",
    "\n",
    "  * The rows of $\\mathbf{A}$ form a basis of $R^N$.\n",
    "\n",
    "  * The columns of $\\mathbf{A}$ form a basis of $R^N$.\n",
    "\n",
    "  * $\\mathbf{A}$ is a product of elementary matrices.\n",
    "\n",
    "  * $0$ is not eigenvalue of $\\mathbf{A}$."
   ]
  },
  {
   "cell_type": "markdown",
   "id": "88dabc37",
   "metadata": {},
   "source": [
    "## Numpy and arrays\n",
    "[Numpy](http://www.numpy.org/) provides an easy way to handle arrays in Python. The standard way to import this library is as"
   ]
  },
  {
   "cell_type": "code",
   "execution_count": 1,
   "id": "890add4d",
   "metadata": {},
   "outputs": [],
   "source": [
    "import numpy as np\n",
    "n = 10\n",
    "x = np.random.normal(size=n)\n",
    "print(x)"
   ]
  },
  {
   "cell_type": "markdown",
   "id": "4cde7dba",
   "metadata": {},
   "source": [
    "Here we have defined a vector $x$ with $n=10$ elements with its values given by the Normal distribution $N(0,1)$.\n",
    "Another alternative is to declare a vector as follows"
   ]
  },
  {
   "cell_type": "code",
   "execution_count": 2,
   "id": "199f7c83",
   "metadata": {},
   "outputs": [],
   "source": [
    "import numpy as np\n",
    "x = np.array([1, 2, 3])\n",
    "print(x)"
   ]
  },
  {
   "cell_type": "markdown",
   "id": "8b24f2fa",
   "metadata": {},
   "source": [
    "Here we have defined a vector with three elements, with $x_0=1$, $x_1=2$ and $x_2=3$. Note that both Python and C++\n",
    "start numbering array elements from $0$ and on. This means that a vector with $n$ elements has a sequence of entities $x_0, x_1, x_2, \\dots, x_{n-1}$. We could also let (recommended) Numpy to compute the logarithms of a specific array as"
   ]
  },
  {
   "cell_type": "code",
   "execution_count": 3,
   "id": "c5ef2ab6",
   "metadata": {},
   "outputs": [],
   "source": [
    "import numpy as np\n",
    "x = np.log(np.array([4, 7, 8]))\n",
    "print(x)"
   ]
  },
  {
   "cell_type": "markdown",
   "id": "9d5afd54",
   "metadata": {},
   "source": [
    "Here we have used Numpy's unary function $np.log$. This function is\n",
    "highly tuned to compute array elements since the code is vectorized\n",
    "and does not require looping. We normaly recommend that you use the\n",
    "Numpy intrinsic functions instead of the corresponding **log** function\n",
    "from Python's **math** module. The looping is done explicitely by the\n",
    "**np.log** function. The alternative, and slower way to compute the\n",
    "logarithms of a vector would be to write"
   ]
  },
  {
   "cell_type": "code",
   "execution_count": 4,
   "id": "2f9c056f",
   "metadata": {},
   "outputs": [],
   "source": [
    "import numpy as np\n",
    "from math import log\n",
    "x = np.array([4, 7, 8])\n",
    "for i in range(0, len(x)):\n",
    "    x[i] = log(x[i])\n",
    "print(x)"
   ]
  },
  {
   "cell_type": "markdown",
   "id": "8e9d34b7",
   "metadata": {},
   "source": [
    "We note that our code is much longer already and we need to import the **log** function from the **math** module. \n",
    "The attentive reader will also notice that the output is $[1, 1, 2]$. Python interprets automacally our numbers as integers (like the **automatic** keyword in C++). To change this we could define our array elements to be double precision numbers as"
   ]
  },
  {
   "cell_type": "code",
   "execution_count": 5,
   "id": "af74b235",
   "metadata": {},
   "outputs": [],
   "source": [
    "import numpy as np\n",
    "x = np.log(np.array([4, 7, 8], dtype = np.float64))\n",
    "print(x)"
   ]
  },
  {
   "cell_type": "markdown",
   "id": "4ce4e285",
   "metadata": {},
   "source": [
    "or simply write them as double precision numbers (Python uses 64 bits as default for floating point type variables), that is"
   ]
  },
  {
   "cell_type": "code",
   "execution_count": 6,
   "id": "cb8e5b9f",
   "metadata": {},
   "outputs": [],
   "source": [
    "import numpy as np\n",
    "x = np.log(np.array([4.0, 7.0, 8.0])\n",
    "print(x)"
   ]
  },
  {
   "cell_type": "markdown",
   "id": "665bc32c",
   "metadata": {},
   "source": [
    "To check the number of bytes (remember that one byte contains eight bits for double precision variables), you can use simple use the **itemsize** functionality (the array $x$ is actually an object which inherits the functionalities defined in Numpy) as"
   ]
  },
  {
   "cell_type": "code",
   "execution_count": 7,
   "id": "e32e606c",
   "metadata": {},
   "outputs": [],
   "source": [
    "import numpy as np\n",
    "x = np.log(np.array([4.0, 7.0, 8.0])\n",
    "print(x.itemsize)"
   ]
  },
  {
   "cell_type": "markdown",
   "id": "b81bc473",
   "metadata": {},
   "source": [
    "Having defined vectors, we are now ready to try out matrices. We can define a $3 \\times 3 $ real matrix $\\hat{A}$\n",
    "as (recall that we user lowercase letters for vectors and uppercase letters for matrices)"
   ]
  },
  {
   "cell_type": "code",
   "execution_count": 8,
   "id": "8b2f5c4f",
   "metadata": {},
   "outputs": [],
   "source": [
    "import numpy as np\n",
    "A = np.log(np.array([ [4.0, 7.0, 8.0], [3.0, 10.0, 11.0], [4.0, 5.0, 7.0] ]))\n",
    "print(A)"
   ]
  },
  {
   "cell_type": "markdown",
   "id": "84698ced",
   "metadata": {},
   "source": [
    "If we use the **shape** function we would get $(3, 3)$ as output, that is verifying that our matrix is a $3\\times 3$ matrix. We can slice the matrix and print for example the first column (Python organized matrix elements in a row-major order, see below) as"
   ]
  },
  {
   "cell_type": "code",
   "execution_count": 9,
   "id": "bb1bfc0f",
   "metadata": {},
   "outputs": [],
   "source": [
    "import numpy as np\n",
    "A = np.log(np.array([ [4.0, 7.0, 8.0], [3.0, 10.0, 11.0], [4.0, 5.0, 7.0] ]))\n",
    "# print the first column, row-major order and elements start with 0\n",
    "print(A[:,0])"
   ]
  },
  {
   "cell_type": "markdown",
   "id": "a3123227",
   "metadata": {},
   "source": [
    "We can continue this was by printing out other columns or rows. The example here prints out the second column"
   ]
  },
  {
   "cell_type": "code",
   "execution_count": 10,
   "id": "f8f738d1",
   "metadata": {},
   "outputs": [],
   "source": [
    "import numpy as np\n",
    "A = np.log(np.array([ [4.0, 7.0, 8.0], [3.0, 10.0, 11.0], [4.0, 5.0, 7.0] ]))\n",
    "# print the first column, row-major order and elements start with 0\n",
    "print(A[1,:])"
   ]
  },
  {
   "cell_type": "markdown",
   "id": "0eeaf6cb",
   "metadata": {},
   "source": [
    "Numpy contains many other functionalities that allow us to slice, subdivide etc etc arrays. We strongly recommend that you look up the [Numpy website for more details](http://www.numpy.org/). Useful functions when defining a matrix are the **np.zeros** function which declares a matrix of a given dimension and sets all elements to zero"
   ]
  },
  {
   "cell_type": "code",
   "execution_count": 11,
   "id": "445073c4",
   "metadata": {},
   "outputs": [],
   "source": [
    "import numpy as np\n",
    "n = 10\n",
    "# define a matrix of dimension 10 x 10 and set all elements to zero\n",
    "A = np.zeros( (n, n) )\n",
    "print(A)"
   ]
  },
  {
   "cell_type": "markdown",
   "id": "0783ff3c",
   "metadata": {},
   "source": [
    "or initializing all elements to"
   ]
  },
  {
   "cell_type": "code",
   "execution_count": 12,
   "id": "f10e4b01",
   "metadata": {},
   "outputs": [],
   "source": [
    "import numpy as np\n",
    "n = 10\n",
    "# define a matrix of dimension 10 x 10 and set all elements to one\n",
    "A = np.ones( (n, n) )\n",
    "print(A)"
   ]
  },
  {
   "cell_type": "markdown",
   "id": "a4b65e0d",
   "metadata": {},
   "source": [
    "or as unitarily distributed random numbers (see the material on random number generators in the statistics part)"
   ]
  },
  {
   "cell_type": "code",
   "execution_count": 13,
   "id": "a68bd600",
   "metadata": {},
   "outputs": [],
   "source": [
    "import numpy as np\n",
    "n = 10\n",
    "# define a matrix of dimension 10 x 10 and set all elements to random numbers with x \\in [0, 1]\n",
    "A = np.random.rand(n, n)\n",
    "print(A)"
   ]
  },
  {
   "cell_type": "markdown",
   "id": "bc0ede47",
   "metadata": {},
   "source": [
    "## Defining basis states and quantum mechanical operators\n",
    "\n",
    "We start by defining a state vector $\\boldsymbol{x}$ (meant to represent\n",
    "various quantum mechanical degrees of freedom) with $n$ components as"
   ]
  },
  {
   "cell_type": "markdown",
   "id": "10292e4d",
   "metadata": {},
   "source": [
    "$$\n",
    "\\boldsymbol{x} = \\begin{bmatrix} x_0\\\\ x_1 \\\\ x_2 \\\\ \\dots \\\\ \\dots \\\\ x_{n-1} \\end{bmatrix}.\n",
    "$$"
   ]
  },
  {
   "cell_type": "markdown",
   "id": "d9d3c7b9",
   "metadata": {},
   "source": [
    "Throughout these notes we will use the so-called Dirac **\\bra-ket**\n",
    "formalism and we will replace the above standard boldfaced notation\n",
    "for a vector with"
   ]
  },
  {
   "cell_type": "markdown",
   "id": "259e14c6",
   "metadata": {},
   "source": [
    "$$\n",
    "\\boldsymbol{x} = \\vert x \\rangle = \\begin{bmatrix} x_0\\\\ x_1 \\\\ x_2 \\\\ \\dots \\\\ \\dots \\\\ x_{n-1} \\end{bmatrix},\n",
    "$$"
   ]
  },
  {
   "cell_type": "markdown",
   "id": "df5d0bfc",
   "metadata": {},
   "source": [
    "and"
   ]
  },
  {
   "cell_type": "markdown",
   "id": "02f1ab64",
   "metadata": {},
   "source": [
    "$$\n",
    "\\boldsymbol{x}^{\\dagger} = \\langle x \\vert = \\begin{bmatrix} x_0^* & x_1^* & x_2^* & \\dots & \\dots & x_{n-1}^* \\end{bmatrix},\n",
    "$$"
   ]
  },
  {
   "cell_type": "markdown",
   "id": "ea3df36f",
   "metadata": {},
   "source": [
    "With a given vector $\\vert x \\rangle$, we define the inner product as"
   ]
  },
  {
   "cell_type": "markdown",
   "id": "c193fea0",
   "metadata": {},
   "source": [
    "$$\n",
    "\\langle x \\vert x\\rangle = \\sum_{i=0}^{n-1} x_i^*x_i=x_0^2+x_1^2+\\dots + x_{n-1}^2.\n",
    "$$"
   ]
  },
  {
   "cell_type": "markdown",
   "id": "9eab85bd",
   "metadata": {},
   "source": [
    "For two arbitrary vectors $\\vert x\\rangle$ and $\\vert y\\rangle$ with the same lentgh, we have the\n",
    "general expression"
   ]
  },
  {
   "cell_type": "markdown",
   "id": "52771b6f",
   "metadata": {},
   "source": [
    "$$\n",
    "\\langle y \\vert x\\rangle = \\sum_{i=0}^{n-1} y_i^*x_i=y_0^*x_0+y_1^*x_1+\\dots + y_{n-1}^*x_{n-1}.\n",
    "$$"
   ]
  },
  {
   "cell_type": "markdown",
   "id": "8267fe44",
   "metadata": {},
   "source": [
    "Note well that the inner product $\\langle x \\vert x\\rangle$ is always a real number while for a two different vectors $\\langle y \\vert x\\rangle$ is in general not equal to\n",
    "$\\langle x \\vert y\\rangle$, as can be seen from the following example\n",
    "\n",
    "We note in bypassing that $\\vert x\\rangle^{\\dagger}=\\langle x \\vert$,\n",
    "$\\langle x\\vert^{\\dagger}=\\vert x\\rangle$ and $(\\vert\n",
    "x\\rangle^{\\dagger})^{\\dagger}=\\vert x \\rangle$."
   ]
  },
  {
   "cell_type": "markdown",
   "id": "012cc79d",
   "metadata": {},
   "source": [
    "### Examples\n",
    "\n",
    "Let us assume that $\\vert x \\rangle$ is given by"
   ]
  },
  {
   "cell_type": "markdown",
   "id": "190048d7",
   "metadata": {},
   "source": [
    "$$\n",
    "\\vert x \\rangle = \\begin{bmatrix} 1-\\imath \\\\ 2+\\imath \\end{bmatrix}.\n",
    "$$"
   ]
  },
  {
   "cell_type": "markdown",
   "id": "e97ee5b1",
   "metadata": {},
   "source": [
    "The inner product gives us"
   ]
  },
  {
   "cell_type": "markdown",
   "id": "f695cf03",
   "metadata": {},
   "source": [
    "$$\n",
    "\\langle x\\vert x \\rangle = (1+\\imath)(1-\\imath)+(2-\\imath)(2+\\imath)=7,\n",
    "$$"
   ]
  },
  {
   "cell_type": "markdown",
   "id": "874fc527",
   "metadata": {},
   "source": [
    "a real number.\n",
    "We can use the norm/inner product to normalize the vector $\\vert x \\rangle$ and obtain"
   ]
  },
  {
   "cell_type": "markdown",
   "id": "c210cec2",
   "metadata": {},
   "source": [
    "$$\n",
    "\\vert x \\rangle = \\frac{1}{\\sqrt{7}}\\begin{bmatrix} 1-\\imath \\\\ 2+\\imath \\end{bmatrix}.\n",
    "$$"
   ]
  },
  {
   "cell_type": "markdown",
   "id": "4174805e",
   "metadata": {},
   "source": [
    "As another example, consider the two vectors"
   ]
  },
  {
   "cell_type": "markdown",
   "id": "182c5940",
   "metadata": {},
   "source": [
    "$$\n",
    "\\vert x \\rangle = \\begin{bmatrix} -1 \\\\ 2\\imath \\\\ 1\\end{bmatrix},\n",
    "$$"
   ]
  },
  {
   "cell_type": "markdown",
   "id": "ee357a79",
   "metadata": {},
   "source": [
    "and"
   ]
  },
  {
   "cell_type": "markdown",
   "id": "55140741",
   "metadata": {},
   "source": [
    "$$\n",
    "\\vert y \\rangle = \\begin{bmatrix} 1 \\\\ 0\\imath \\\\ \\imath\\end{bmatrix}.\n",
    "$$"
   ]
  },
  {
   "cell_type": "markdown",
   "id": "ab0af9ac",
   "metadata": {},
   "source": [
    "We see that the inner products $\\langle x\\vert y \\rangle = -1+\\imath$, which is not the same as\n",
    "$\\langle y\\vert x \\rangle = -1-\\imath$. This leads to the important rule"
   ]
  },
  {
   "cell_type": "markdown",
   "id": "822f4ca7",
   "metadata": {},
   "source": [
    "$$\n",
    "\\langle x\\vert y\\rangle^* = \\langle y \\vert x\\rangle.\n",
    "$$"
   ]
  },
  {
   "cell_type": "markdown",
   "id": "2d79dbad",
   "metadata": {},
   "source": [
    "## Outer products\n",
    "\n",
    "In addition to inner products between vectors/states, the outer\n",
    "product plays a central role in all of quantum mechanics. It is\n",
    "defined as"
   ]
  },
  {
   "cell_type": "markdown",
   "id": "2d2fa1b6",
   "metadata": {},
   "source": [
    "$$\n",
    "\\vert x\\rangle \\langle y \\vert = \\begin{bmatrix}\n",
    "               x_0y_0^* & x_0y_1^* & x_0y_2^* & \\dots & \\dots & x_0y_{n-2}^* & x_0y_{n-1}^* \\\\\n",
    "\t       x_1y_0^* & x_1y_1^* & x_1y_2^* & \\dots & \\dots & x_1y_{n-2}^* & x_1y_{n-1}^* \\\\\n",
    "\t       x_2y_0^* & x_2y_1^* & x_2y_2^* & \\dots & \\dots & x_2y_{n-2}^* & x_2y_{n-1}^* \\\\\t       \n",
    "               \\dots &   \\dots   & \\dots  & \\dots & \\dots & \\dots & \\dots \\\\\n",
    "               \\dots &   \\dots   & \\dots  & \\dots & \\dots & \\dots & \\dots \\\\\t       \n",
    "\t       x_{n-2}y_0^* & x_{n-2}y_1^* & x_{n-2}y_2^* & \\dots & \\dots & x_{n-2}y_{n-2}^* & x_{n-2}y_{n-1}^* \\\\\n",
    "\t       x_{n-1}y_0^* & x_{n-1}y_1^* & x_{n-1}y_2^* & \\dots & \\dots & x_{n-1}y_{n-2}^* & x_{n-1}y_{n-1}^* \\end{bmatrix}\n",
    "$$"
   ]
  },
  {
   "cell_type": "markdown",
   "id": "91f39e29",
   "metadata": {},
   "source": [
    "## Different operators and gates\n",
    "\n",
    "In quantum computing, the so-called Pauli matrices, and other simple\n",
    "$2\\times 2$ matrices, play an important role, ranging from the setup\n",
    "of quantum gates to a rewrite of creation and annihilation operators\n",
    "and other quantum mechanical operators. Let us start with the familiar\n",
    "Pauli matrices and remind ourselves of some of their basic properties.\n",
    "\n",
    "The Pauli matrices are defined as"
   ]
  },
  {
   "cell_type": "markdown",
   "id": "40549945",
   "metadata": {},
   "source": [
    "$$\n",
    "\\sigma_x = \\begin{bmatrix} 0 & 1 \\\\ 1 & 0 \\end{bmatrix},\n",
    "$$"
   ]
  },
  {
   "cell_type": "markdown",
   "id": "1e956d5a",
   "metadata": {},
   "source": [
    "$$\n",
    "\\sigma_y = \\begin{bmatrix} 0 & -\\imath \\\\ \\imath & 0 \\end{bmatrix},\n",
    "$$"
   ]
  },
  {
   "cell_type": "markdown",
   "id": "44c72d73",
   "metadata": {},
   "source": [
    "and"
   ]
  },
  {
   "cell_type": "markdown",
   "id": "a16a92c3",
   "metadata": {},
   "source": [
    "$$\n",
    "\\sigma_z = \\begin{bmatrix} 1 & 0 \\\\ 0 & -1 \\end{bmatrix}.\n",
    "$$"
   ]
  },
  {
   "cell_type": "markdown",
   "id": "28d76baa",
   "metadata": {},
   "source": [
    "It is easy to show that the matrices obey the properties (being involutory)"
   ]
  },
  {
   "cell_type": "markdown",
   "id": "c8bc6af1",
   "metadata": {},
   "source": [
    "$$\n",
    "\\sigma_x\\sigma_x = \\sigma_y\\sigma_y=\\sigma_z\\sigma_z = I=\\begin{bmatrix} 1 & 0 \\\\ 0 & 1\\end{bmatrix},\n",
    "$$"
   ]
  },
  {
   "cell_type": "markdown",
   "id": "8b62aa9a",
   "metadata": {},
   "source": [
    "that is their products with themselves result in the identity matrix\n",
    "$\\boldsymbol{I}$.  Furthermore, the Pauli matrices are unitary matrices\n",
    "meaning that their inverses are equal to their hermitian conjugated\n",
    "matrices. The determinants of the Pauli matrices are all equal to $-1$,\n",
    "as can be easily verified.\n",
    "\n",
    "The Pauli matrices obey also the following commutation rules"
   ]
  },
  {
   "cell_type": "markdown",
   "id": "84531e2e",
   "metadata": {},
   "source": [
    "$$\n",
    "\\left[\\sigma_x,\\sigma_y\\right] = 2\\imath \\sigma_z.\n",
    "$$"
   ]
  },
  {
   "cell_type": "markdown",
   "id": "9c0d5075",
   "metadata": {},
   "source": [
    "Before we proceed with other matrices and how they can be used to\n",
    "operate on various quantum mechanical states, let us try to define\n",
    "various basis sets and their pertinent notations. We will often refer\n",
    "to these basis states as our computational basis."
   ]
  },
  {
   "cell_type": "markdown",
   "id": "67c61c5a",
   "metadata": {},
   "source": [
    "## Definition of Computational basis states\n",
    "\n",
    "<!-- to do: make figures with examples of basis states, hydrogen like systems, harmonic oscillator -->\n",
    "Assume we have a two-level system where the two states are represented\n",
    "by the state vectors $\\vert \\phi_0\\rangle$ and $\\vert \\phi_1\\rangle$,\n",
    "respectively. These states could represent selected or effective\n",
    "degrees of freedom for either a single particle (fermion or boson) or\n",
    "they could represent effective many-body degrees of freedon. In actual\n",
    "realizations of quantum computing we search often for candidate\n",
    "systems where we can use some low-lying states as computational basis\n",
    "states. But we are not limited to quantum computing. When doing\n",
    "many-body physics, due to the exploding degrees of freedom, we\n",
    "normally search after effective ways by which we can reduce the\n",
    "involved dimensionalities to a number of degrees of freedom we can\n",
    "handle by a given many-body method."
   ]
  },
  {
   "cell_type": "markdown",
   "id": "f712e9a0",
   "metadata": {},
   "source": [
    "### Examples: Hydrogen like states and the harmonic oscillator in one, teo and three dimensions\n",
    "\n",
    "We will now relabel the above two states as two orthogonal and normalized basis (ONB) states"
   ]
  },
  {
   "cell_type": "markdown",
   "id": "866eb2dd",
   "metadata": {},
   "source": [
    "$$\n",
    "\\vert \\phi_0 \\rangle = \\vert 0 \\rangle = \\begin{bmatrix} 1 \\\\ 0 \\end{bmatrix},\n",
    "$$"
   ]
  },
  {
   "cell_type": "markdown",
   "id": "526365ec",
   "metadata": {},
   "source": [
    "and"
   ]
  },
  {
   "cell_type": "markdown",
   "id": "4512c91c",
   "metadata": {},
   "source": [
    "$$\n",
    "\\vert \\phi_1 \\rangle = \\vert 1 \\rangle = \\begin{bmatrix} 0 \\\\ 1 \\end{bmatrix}.\n",
    "$$"
   ]
  },
  {
   "cell_type": "markdown",
   "id": "49aef5a3",
   "metadata": {},
   "source": [
    "It is straight forward to see that $\\langle 1 \\vert 0\\rangle=0$. With these two states we can define the define the identity operator $\\boldsymbol{I}$ as the sum of the outer products of these two states, namely"
   ]
  },
  {
   "cell_type": "markdown",
   "id": "12cfc4fa",
   "metadata": {},
   "source": [
    "$$\n",
    "\\boldsymbol{I} = \\sum_{i=0}^{i=1}\\vert i\\rangle \\langle i\\vert = \\begin{bmatrix} 1 & 0 \\\\ 0 & 0 \\end{bmatrix} +\\begin{bmatrix} 0 & 0 \\\\ 0 & 1 \\end{bmatrix}=\\begin{bmatrix} 1 & 0 \\\\ 0 & 1 \\end{bmatrix}.\n",
    "$$"
   ]
  },
  {
   "cell_type": "markdown",
   "id": "7ce729e8",
   "metadata": {},
   "source": [
    "We can further define the projection operators"
   ]
  },
  {
   "cell_type": "markdown",
   "id": "3c14b87b",
   "metadata": {},
   "source": [
    "$$\n",
    "\\boldsymbol{P} = \\vert 0\\rangle \\langle 0\\vert = \\begin{bmatrix} 1 & 0 \\\\ 0 & 0 \\end{bmatrix},\n",
    "$$"
   ]
  },
  {
   "cell_type": "markdown",
   "id": "b9ad0221",
   "metadata": {},
   "source": [
    "and"
   ]
  },
  {
   "cell_type": "markdown",
   "id": "dcf585c8",
   "metadata": {},
   "source": [
    "$$\n",
    "\\boldsymbol{Q} = \\vert 1\\rangle \\langle 1\\vert = \\begin{bmatrix} 0 & 0 \\\\ 0 & 1 \\end{bmatrix}.\n",
    "$$"
   ]
  },
  {
   "cell_type": "markdown",
   "id": "65bd4ced",
   "metadata": {},
   "source": [
    "We note that $P^2=P$, $Q^2=Q$ (the operators are idempotent) and that\n",
    "their determinants are zero, meaning in turn that we cannot use these\n",
    "operators for unitary/orthogonal transformations. However, they play\n",
    "important roles in defining effective Hilbert spaces for many-body\n",
    "studies. Finally, before proceeding we note also that the two matrices\n",
    "commute and we have $\\boldsymbol{P}\\boldsymbol{Q}=0$ and $\\left[ \\boldsymbol{P},\\boldsymbol{Q}\\right]=0$."
   ]
  },
  {
   "cell_type": "markdown",
   "id": "485382d8",
   "metadata": {},
   "source": [
    "### Superposition and more\n",
    "\n",
    "Using the properties of ONBs we can expand a new state in terms of the\n",
    "above states. These states could also form  a basis which is an\n",
    "eigenbasis of a selected Hamiltonian (more of this below).\n",
    "\n",
    "We define now a new state which is a linear expansion in terms of\n",
    "these computational basis states"
   ]
  },
  {
   "cell_type": "markdown",
   "id": "1c6a4b3f",
   "metadata": {},
   "source": [
    "$$\n",
    "\\vert \\psi \\rangle = \\alpha \\vert 0 \\rangle + \\beta\\vert 1 \\rangle,\n",
    "$$"
   ]
  },
  {
   "cell_type": "markdown",
   "id": "a9ac1216",
   "metadata": {},
   "source": [
    "where the coefficients $\\alpha = \\langle 0 \\vert \\psi \\rangle$ and\n",
    "$\\beta =\\langle 1 \\vert \\psi\\rangle$ reresent the overlaps between the\n",
    "computational basis states and the state $\\vert \\psi\\rangle$. In quantum speech, we say the state is in a superposition of the states $\\vert 0\\rangle$ and $\\vert 1\\rangle$.\n",
    "\n",
    "Computing the inner product of $\\vert \\psi \\rangle$ we obtain"
   ]
  },
  {
   "cell_type": "markdown",
   "id": "f0814b28",
   "metadata": {},
   "source": [
    "$$\n",
    "\\langle \\psi \\vert \\psi \\rangle = \\vert \\alpha \\vert ^2\\langle 0\\vert 0\\rangle + \\vert \\beta \\vert ^2\\langle 1\\vert 1\\rangle = \\vert \\alpha \\vert ^2 + \\vert \\beta \\vert ^2 = 1,\n",
    "$$"
   ]
  },
  {
   "cell_type": "markdown",
   "id": "082fa4d8",
   "metadata": {},
   "source": [
    "since the new basis, which is defined in terms of a a unitary/orthogonal\n",
    "transformation, preserves the orthogonality and norm of the original\n",
    "computational basis $\\vert 0\\rangle$ and $\\vert 1\\rangle$. To see\n",
    "this, consider the unitary transformation (show derivation of\n",
    "preserving orthogonality).\n",
    "\n",
    "If we now act with the projection operators $\\boldsymbol{P}$ and $\\boldsymbol{Q}$ on\n",
    "the state $\\vert \\psi\\rangle$ we get"
   ]
  },
  {
   "cell_type": "markdown",
   "id": "6b931967",
   "metadata": {},
   "source": [
    "$$\n",
    "\\boldsymbol{P}\\vert \\psi \\rangle = \\vert 0 \\rangle\\langle 0\\vert (\\alpha \\vert 0 \\rangle + \\beta\\vert 1 \\rangle)=\\alpha \\vert 0\\rangle,\n",
    "$$"
   ]
  },
  {
   "cell_type": "markdown",
   "id": "d84b2a00",
   "metadata": {},
   "source": [
    "that is we **project** out the $\\vert 0\\rangle$ component of the state\n",
    "$\\vert \\psi\\rangle$ with the coefficient $\\alpha$ while $\\boldsymbol{Q}$\n",
    "projects out the $\\vert 1\\rangle$ component with coefficient $\\beta$\n",
    "as seen from"
   ]
  },
  {
   "cell_type": "markdown",
   "id": "0d714e42",
   "metadata": {},
   "source": [
    "$$\n",
    "\\boldsymbol{Q}\\vert \\psi \\rangle = \\vert 1 \\rangle\\langle 1\\vert (\\alpha \\vert 0 \\rangle + \\beta\\vert 1 \\rangle)=\\beta \\vert 1\\rangle.\n",
    "$$"
   ]
  },
  {
   "cell_type": "markdown",
   "id": "72081d54",
   "metadata": {},
   "source": [
    "The above results can easily be derived by multiplying the pertinent\n",
    "matrices with the vectors $\\vert 0\\rangle$ and $\\vert 1\\rangle$,\n",
    "respectively.\n",
    "\n",
    "Using the above linear expansion we can now define the density matrix of the state $\\vert \\psi\\rangle$ as the outer product"
   ]
  },
  {
   "cell_type": "markdown",
   "id": "0e1758a6",
   "metadata": {},
   "source": [
    "$$\n",
    "\\boldsymbol{\\rho}=\\vert \\psi \\rangle\\langle \\psi \\vert = \\alpha\\alpha^* \\vert 0 \\rangle\\langle 0\\vert+\\alpha\\beta^* \\vert 0 \\rangle\\langle 1\\vert+\\beta\\alpha^* \\vert 1 \\rangle\\langle 0\\vert+\\beta\\beta^* \\vert 1 \\rangle\\langle 1\\vert=\\begin{bmatrix} \\alpha\\alpha^* & \\alpha\\beta^*\\\\ \\beta\\alpha^* & \\beta\\beta^*\\end{bmatrix}.\n",
    "$$"
   ]
  },
  {
   "cell_type": "markdown",
   "id": "988ab22d",
   "metadata": {},
   "source": [
    "Finally, we note that the trace of the density matrix is simply given by unity"
   ]
  },
  {
   "cell_type": "markdown",
   "id": "2fdf103f",
   "metadata": {},
   "source": [
    "$$\n",
    "\\mathrm{tr}\\boldsymbol{\\rho}=\\alpha\\alpha^* +\\beta\\beta^*=1.\n",
    "$$"
   ]
  },
  {
   "cell_type": "markdown",
   "id": "afbe65c9",
   "metadata": {},
   "source": [
    "### Other important matrices\n",
    "\n",
    "We end with presenting other operators (as matrices) which play an important role in quantum computing, the so-called Hadamard matrix (or gate as we will use later)"
   ]
  },
  {
   "cell_type": "markdown",
   "id": "1b68fb8b",
   "metadata": {},
   "source": [
    "$$\n",
    "\\boldsymbol{H}=\\frac{1}{\\sqrt{2}}\\begin{bmatrix} 1 & 1 \\\\ 1 & -1\\end{bmatrix}.\n",
    "$$"
   ]
  },
  {
   "cell_type": "markdown",
   "id": "9222c061",
   "metadata": {},
   "source": [
    "The action of the operator $\\boldsymbol{H}$ on a computational basis state like $\\vert 0\\rangle$ gives"
   ]
  },
  {
   "cell_type": "markdown",
   "id": "83c38e9a",
   "metadata": {},
   "source": [
    "$$\n",
    "\\boldsymbol{H}\\vert 0 \\rangle = \\frac{1}{\\sqrt{2}}\\begin{bmatrix} 1 & 1 \\\\ 1 & -1\\end{bmatrix}\\begin{bmatrix} 1 \\\\ 0\\end{bmatrix}=\\frac{1}{\\sqrt{2}}(\\vert 0\\rangle + \\vert 1\\rangle),\n",
    "$$"
   ]
  },
  {
   "cell_type": "markdown",
   "id": "5435a650",
   "metadata": {},
   "source": [
    "and"
   ]
  },
  {
   "cell_type": "markdown",
   "id": "f3854a2a",
   "metadata": {},
   "source": [
    "$$\n",
    "\\boldsymbol{H}\\vert 1 \\rangle = \\frac{1}{\\sqrt{2}}\\begin{bmatrix} 1 & 1 \\\\ 1 & -1\\end{bmatrix}\\begin{bmatrix} 0 \\\\ 1\\end{bmatrix}=\\frac{1}{\\sqrt{2}}(\\vert 0\\rangle - \\vert 1\\rangle),\n",
    "$$"
   ]
  },
  {
   "cell_type": "markdown",
   "id": "577c0c0c",
   "metadata": {},
   "source": [
    "that is we create a superposition of the states $\\vert 0\\rangle$ and $\\vert 1\\rangle$.\n",
    "\n",
    "Another famous operation is the phase matrix given by"
   ]
  },
  {
   "cell_type": "markdown",
   "id": "274d3c30",
   "metadata": {},
   "source": [
    "$$\n",
    "\\boldsymbol{S} = \\begin{bmatrix} 1 & 0 \\\\ 0 & \\imath\\end{bmatrix}.\n",
    "$$"
   ]
  },
  {
   "cell_type": "markdown",
   "id": "b2c8a969",
   "metadata": {},
   "source": [
    "* Eigenvalues and spectral decomposition\n",
    "\n",
    "* Fourier expansions"
   ]
  },
  {
   "cell_type": "markdown",
   "id": "4851f46d",
   "metadata": {},
   "source": [
    "## Tensor products\n",
    "\n",
    "Consider now two vectors with length $n=2$, with elements"
   ]
  },
  {
   "cell_type": "markdown",
   "id": "c42d28b6",
   "metadata": {},
   "source": [
    "$$\n",
    "\\vert x \\rangle = \\begin{bmatrix} x_0 \\\\ x_1 \\end{bmatrix},\n",
    "$$"
   ]
  },
  {
   "cell_type": "markdown",
   "id": "7c749148",
   "metadata": {},
   "source": [
    "and"
   ]
  },
  {
   "cell_type": "markdown",
   "id": "a4caffb5",
   "metadata": {},
   "source": [
    "$$\n",
    "\\vert x \\rangle = \\begin{bmatrix} y_0 \\\\ y_1 \\end{bmatrix}.\n",
    "$$"
   ]
  },
  {
   "cell_type": "markdown",
   "id": "dc2b34a0",
   "metadata": {},
   "source": [
    "The tensor product of these two vectors is defined as"
   ]
  },
  {
   "cell_type": "markdown",
   "id": "a0451452",
   "metadata": {},
   "source": [
    "$$\n",
    "\\vert x \\rangle \\otimes \\vert y \\rangle = \\vert xy \\rangle  = \\begin{bmatrix} x_0y_0 \\\\ x_0y_1 \\\\ x_1y_0 \\\\ x_1y_1 \\end{bmatrix},\n",
    "$$"
   ]
  },
  {
   "cell_type": "markdown",
   "id": "a477c4cc",
   "metadata": {},
   "source": [
    "which is now a vector of length $4$.\n",
    "\n",
    "If we now go back to our original one-qubit basis states, we can form teh following tensor products"
   ]
  },
  {
   "cell_type": "markdown",
   "id": "045209d0",
   "metadata": {},
   "source": [
    "$$\n",
    "\\vert 0 \\rangle \\otimes \\vert 0 \\rangle = \\begin{bmatrix} 1 \\\\ 0\\end{bmatrix} \\otimes \\begin{bmatrix} 1 \\\\ 0\\end{bmatrix} =\\begin{bmatrix} 1 \\\\ 0 \\\\ 0 \\\\ 0 \\end{bmatrix}=\\vert 00 \\rangle,\n",
    "$$"
   ]
  },
  {
   "cell_type": "markdown",
   "id": "65d108d3",
   "metadata": {},
   "source": [
    "$$\n",
    "\\vert 0 \\rangle \\otimes \\vert 1 \\rangle = \\begin{bmatrix} 1 \\\\ 0\\end{bmatrix} \\otimes \\begin{bmatrix} 0 \\\\ 1\\end{bmatrix} =\\begin{bmatrix} 0 \\\\ 1 \\\\ 0 \\\\ 0 \\end{bmatrix}=\\vert 01 \\rangle,\n",
    "$$"
   ]
  },
  {
   "cell_type": "markdown",
   "id": "665ea0d2",
   "metadata": {},
   "source": [
    "$$\n",
    "\\vert 1 \\rangle \\otimes \\vert 0 \\rangle = \\begin{bmatrix} 0 \\\\ 1\\end{bmatrix} \\otimes \\begin{bmatrix} 1 \\\\ 0\\end{bmatrix} =\\begin{bmatrix} 0 \\\\ 0 \\\\ 1 \\\\ 0 \\end{bmatrix}=\\vert 10 \\rangle,\n",
    "$$"
   ]
  },
  {
   "cell_type": "markdown",
   "id": "7cdc6301",
   "metadata": {},
   "source": [
    "and finally"
   ]
  },
  {
   "cell_type": "markdown",
   "id": "ca7f5e8f",
   "metadata": {},
   "source": [
    "$$\n",
    "\\vert 1 \\rangle \\otimes \\vert 1 \\rangle = \\begin{bmatrix} 0 \\\\ 1\\end{bmatrix} \\otimes \\begin{bmatrix} 0 \\\\ 1\\end{bmatrix} =\\begin{bmatrix} 0 \\\\ 0 \\\\ 0 \\\\ 1 \\end{bmatrix}=\\vert 11 \\rangle.\n",
    "$$"
   ]
  },
  {
   "cell_type": "markdown",
   "id": "a5e94752",
   "metadata": {},
   "source": [
    "We have now four different states and we could try to make a new list\n",
    "by relabeling the states as follows $\\vert 00 \\rangle =\\vert 0\n",
    "\\rangle$, $\\vert 01 \\rangle =\\vert 1 \\rangle$, $\\vert 10 \\rangle\n",
    "=\\vert 2 \\rangle$, $\\vert 11 \\rangle =\\vert 3 \\rangle$.\n",
    "\n",
    "In similar ways we can define the tensor product of three qubits (or single-particle states) as"
   ]
  },
  {
   "cell_type": "markdown",
   "id": "230a1eaf",
   "metadata": {},
   "source": [
    "$$\n",
    "\\vert 0 \\rangle \\otimes \\vert 0 \\rangle \\otimes \\vert 0 \\rangle = \\begin{bmatrix} 1 \\\\ 0\\end{bmatrix} \\otimes \\begin{bmatrix} 1 \\\\ 0\\end{bmatrix} \\otimes \\begin{bmatrix} 1 \\\\ 0\\end{bmatrix}=\\begin{bmatrix} 1 \\\\ 0 \\\\ 0 \\\\ 0 \\\\ 0 \\\\0 \\\\ 0 \\\\ 0\\end{bmatrix}=\\vert 000 \\rangle,\n",
    "$$"
   ]
  },
  {
   "cell_type": "markdown",
   "id": "a04b977c",
   "metadata": {},
   "source": [
    "which is a new vector of length eight. We note that with a single-particle basis given the states $\\vert 0\\ragle$ ad $\\vert 1\\rangle$ we can, with $N$ particles construct $2^N$ different states.\n",
    "This is something we can generalize to\n",
    " * discuss ways of labeling states\n",
    "\n",
    " * how to write a code which does it\n",
    "\n",
    "The tensor product of two $2\\times 2$ matrices $\\boldsymbol{A}$ and $\\boldsymbol{B}$ is given by"
   ]
  },
  {
   "cell_type": "markdown",
   "id": "d7ba7b4e",
   "metadata": {},
   "source": [
    "$$\n",
    "\\boldsymbol{A} \\times \\boldsymbol{B} = \\begin{bmatrix} a_{00} & a_{01} \\\\ a_{10} & a_{11} \\end{bmatrix} \\otimes \\begin{bmatrix} b_{00} & b_{01} \\\\ b_{10} & b_{11} \\end{bmatrix} =\n",
    "\\begin{bmatrix} a_{00} b_{00} &  a_{00}b_{01} & a_{01} b_{00} & a_{01}b_{01} \\\\\n",
    "                a_{00} b_{10} &  a_{00}b_{11} & a_{01} b_{10} & a_{01}b_{11} \\\\\n",
    "                a_{10} b_{00} &  a_{10}b_{01} & a_{11} b_{00} & a_{11}b_{01} \\\\\n",
    "                a_{10} b_{10} &  a_{10}b_{11} & a_{11} b_{10} & a_{11}b_{11} \\end{bmatrix}\n",
    "$$"
   ]
  },
  {
   "cell_type": "markdown",
   "id": "a1143e2f",
   "metadata": {},
   "source": [
    "### Representation of states\n",
    "\n",
    "Before we proceed we need several definitions.  Throughout these\n",
    "lectures we will assume that the interacting part of the Hamiltonian\n",
    "can be approximated by a two-body interaction.  This means that our\n",
    "Hamiltonian can be written as the sum of a onebody part, which\n",
    "includes kinetic energy and an eventual external field, and a twobody\n",
    "interaction"
   ]
  },
  {
   "cell_type": "markdown",
   "id": "7af752d1",
   "metadata": {},
   "source": [
    "<!-- Equation labels as ordinary links -->\n",
    "<div id=\"Hnuclei\"></div>\n",
    "\n",
    "$$\n",
    "\\begin{equation}\n",
    "    \\hat{H} = \\hat{H}_0 + \\hat{H}_I \n",
    "    = \\sum_{i=1}^A \\hat{h}_0(x_i) + \\sum_{i < j}^A \\hat{v}(r_{ij}),\n",
    "\\label{Hnuclei} \\tag{1}\n",
    "\\end{equation}\n",
    "$$"
   ]
  },
  {
   "cell_type": "markdown",
   "id": "8f307715",
   "metadata": {},
   "source": [
    "with"
   ]
  },
  {
   "cell_type": "markdown",
   "id": "59775d34",
   "metadata": {},
   "source": [
    "<!-- Equation labels as ordinary links -->\n",
    "<div id=\"hinuclei\"></div>\n",
    "\n",
    "$$\n",
    "\\begin{equation}\n",
    "  H_0=\\sum_{i=1}^A \\hat{h}_0(x_i).\n",
    "\\label{hinuclei} \\tag{2}\n",
    "\\end{equation}\n",
    "$$"
   ]
  },
  {
   "cell_type": "markdown",
   "id": "3162037c",
   "metadata": {},
   "source": [
    "The onebody part $u_{\\mathrm{ext}}(x_i)$ is normally approximated by a\n",
    "harmonic oscillator potential or the Coulomb interaction an electron\n",
    "feels from the nucleus. However, other potentials are fully possible,\n",
    "such as one derived from the self-consistent solution of the\n",
    "Hartree-Fock equations to be discussed here.\n",
    "\n",
    "Our Hamiltonian is invariant under the permutation (interchange) of\n",
    "two particles.  Since we deal with fermions however, the total wave\n",
    "function is antisymmetric.  Let $\\hat{P}$ be an operator which\n",
    "interchanges two particles.  Due to the symmetries we have ascribed to\n",
    "our Hamiltonian, this operator commutes with the total Hamiltonian,"
   ]
  },
  {
   "cell_type": "markdown",
   "id": "0f0b94db",
   "metadata": {},
   "source": [
    "$$\n",
    "[\\hat{H},\\hat{P}] = 0,\n",
    "$$"
   ]
  },
  {
   "cell_type": "markdown",
   "id": "d7358caa",
   "metadata": {},
   "source": [
    "meaning that $\\Psi_{\\lambda}(x_1, x_2, \\dots , x_A)$ is an eigenfunction of \n",
    "$\\hat{P}$ as well, that is"
   ]
  },
  {
   "cell_type": "markdown",
   "id": "f3351266",
   "metadata": {},
   "source": [
    "$$\n",
    "\\hat{P}_{ij}\\Psi_{\\lambda}(x_1, x_2, \\dots,x_i,\\dots,x_j,\\dots,x_A)=\n",
    "\\beta\\Psi_{\\lambda}(x_1, x_2, \\dots,x_i,\\dots,x_j,\\dots,x_A),\n",
    "$$"
   ]
  },
  {
   "cell_type": "markdown",
   "id": "5f3788ef",
   "metadata": {},
   "source": [
    "where $\\beta$ is the eigenvalue of $\\hat{P}$. We have introduced the suffix $ij$ in order to indicate that we permute particles $i$ and $j$.\n",
    "The Pauli principle tells us that the total wave function for a system of fermions\n",
    "has to be antisymmetric, resulting in the eigenvalue $\\beta = -1$.   \n",
    "\n",
    "In our case we assume that  we can approximate the exact eigenfunction with a Slater determinant"
   ]
  },
  {
   "cell_type": "markdown",
   "id": "1a370181",
   "metadata": {},
   "source": [
    "<!-- Equation labels as ordinary links -->\n",
    "<div id=\"eq:HartreeFockDet\"></div>\n",
    "\n",
    "$$\n",
    "\\begin{equation}\n",
    "   \\Phi(x_1, x_2,\\dots ,x_A,\\alpha,\\beta,\\dots, \\sigma)=\\frac{1}{\\sqrt{A!}}\n",
    "\\left| \\begin{array}{ccccc} \\psi_{\\alpha}(x_1)& \\psi_{\\alpha}(x_2)& \\dots & \\dots & \\psi_{\\alpha}(x_A)\\\\\n",
    "                            \\psi_{\\beta}(x_1)&\\psi_{\\beta}(x_2)& \\dots & \\dots & \\psi_{\\beta}(x_A)\\\\  \n",
    "                            \\dots & \\dots & \\dots & \\dots & \\dots \\\\\n",
    "                            \\dots & \\dots & \\dots & \\dots & \\dots \\\\\n",
    "                     \\psi_{\\sigma}(x_1)&\\psi_{\\sigma}(x_2)& \\dots & \\dots & \\psi_{\\sigma}(x_A)\\end{array} \\right|, \\label{eq:HartreeFockDet} \\tag{3}\n",
    "\\end{equation}\n",
    "$$"
   ]
  },
  {
   "cell_type": "markdown",
   "id": "3f5cea09",
   "metadata": {},
   "source": [
    "where  $x_i$  stand for the coordinates and spin values of a particle $i$ and $\\alpha,\\beta,\\dots, \\gamma$ \n",
    "are quantum numbers needed to describe remaining quantum numbers.  \n",
    "\n",
    "Since we will deal with Fermions (identical and indistinguishable particles) we will \n",
    "form an ansatz for a given state in terms of so-called Slater determinants determined\n",
    "by a chosen basis of single-particle functions. \n",
    "\n",
    "For a given $n\\times n$ matrix $\\mathbf{A}$ we can write its determinant"
   ]
  },
  {
   "cell_type": "markdown",
   "id": "6e90dbf7",
   "metadata": {},
   "source": [
    "$$\n",
    "det(\\mathbf{A})=|\\mathbf{A}|=\n",
    "\\left| \\begin{array}{ccccc} a_{11}& a_{12}& \\dots & \\dots & a_{1n}\\\\\n",
    "                            a_{21}&a_{22}& \\dots & \\dots & a_{2n}\\\\  \n",
    "                            \\dots & \\dots & \\dots & \\dots & \\dots \\\\\n",
    "                            \\dots & \\dots & \\dots & \\dots & \\dots \\\\\n",
    "                            a_{n1}& a_{n2}& \\dots & \\dots & a_{nn}\\end{array} \\right|,\n",
    "$$"
   ]
  },
  {
   "cell_type": "markdown",
   "id": "df25e3d4",
   "metadata": {},
   "source": [
    "in a more compact form as"
   ]
  },
  {
   "cell_type": "markdown",
   "id": "e92c381e",
   "metadata": {},
   "source": [
    "$$\n",
    "|\\mathbf{A}|= \\sum_{i=1}^{n!}(-1)^{p_i}\\hat{P}_i a_{11}a_{22}\\dots a_{nn},\n",
    "$$"
   ]
  },
  {
   "cell_type": "markdown",
   "id": "29bbaff3",
   "metadata": {},
   "source": [
    "where $\\hat{P}_i$ is a permutation operator which permutes the column indices $1,2,3,\\dots,n$\n",
    "and the sum runs over all $n!$ permutations.  The quantity $p_i$ represents the number of transpositions of column indices that are needed in order to bring a given permutation back to its initial ordering, in our case given by $a_{11}a_{22}\\dots a_{nn}$ here.\n",
    "\n",
    "A simple $2\\times 2$ determinant illustrates this. We have"
   ]
  },
  {
   "cell_type": "markdown",
   "id": "bdc0c2f8",
   "metadata": {},
   "source": [
    "$$\n",
    "det(\\mathbf{A})=\n",
    "\\left| \\begin{array}{cc} a_{11}& a_{12}\\\\\n",
    "                            a_{21}&a_{22}\\end{array} \\right|= (-1)^0a_{11}a_{22}+(-1)^1a_{12}a_{21},\n",
    "$$"
   ]
  },
  {
   "cell_type": "markdown",
   "id": "5682eea6",
   "metadata": {},
   "source": [
    "where in the last term we have interchanged the column indices $1$ and $2$. The natural ordering we have chosen is $a_{11}a_{22}$. \n",
    "\n",
    "The single-particle function $\\psi_{\\alpha}(x_i)$  are eigenfunctions of the onebody\n",
    "Hamiltonian $h_i$, that is"
   ]
  },
  {
   "cell_type": "markdown",
   "id": "0d70187c",
   "metadata": {},
   "source": [
    "$$\n",
    "\\hat{h}_0(x_i)=\\hat{t}(x_i) + \\hat{u}_{\\mathrm{ext}}(x_i),\n",
    "$$"
   ]
  },
  {
   "cell_type": "markdown",
   "id": "0ec40bde",
   "metadata": {},
   "source": [
    "with eigenvalues"
   ]
  },
  {
   "cell_type": "markdown",
   "id": "a227ffca",
   "metadata": {},
   "source": [
    "$$\n",
    "\\hat{h}_0(x_i) \\psi_{\\alpha}(x_i)=\\left(\\hat{t}(x_i) + \\hat{u}_{\\mathrm{ext}}(x_i)\\right)\\psi_{\\alpha}(x_i)=\\varepsilon_{\\alpha}\\psi_{\\alpha}(x_i).\n",
    "$$"
   ]
  },
  {
   "cell_type": "markdown",
   "id": "a872c4db",
   "metadata": {},
   "source": [
    "The energies $\\varepsilon_{\\alpha}$ are the so-called non-interacting single-particle energies, or unperturbed energies. \n",
    "The total energy is in this case the sum over all  single-particle energies, if no two-body or more complicated\n",
    "many-body interactions are present.\n",
    "\n",
    "Let us denote the ground state energy by $E_0$. According to the\n",
    "variational principle we have"
   ]
  },
  {
   "cell_type": "markdown",
   "id": "a4ef9157",
   "metadata": {},
   "source": [
    "$$\n",
    "E_0 \\le E[\\Phi] = \\int \\Phi^*\\hat{H}\\Phi d\\mathbf{\\tau}\n",
    "$$"
   ]
  },
  {
   "cell_type": "markdown",
   "id": "2b8f60e7",
   "metadata": {},
   "source": [
    "where $\\Phi$ is a trial function which we assume to be normalized"
   ]
  },
  {
   "cell_type": "markdown",
   "id": "7bf0405f",
   "metadata": {},
   "source": [
    "$$\n",
    "\\int \\Phi^*\\Phi d\\mathbf{\\tau} = 1,\n",
    "$$"
   ]
  },
  {
   "cell_type": "markdown",
   "id": "b1f3f1b6",
   "metadata": {},
   "source": [
    "where we have used the shorthand $d\\mathbf{\\tau}=dx_1dr_2\\dots dr_A$.\n",
    "\n",
    "In the Hartree-Fock method the trial function is the Slater\n",
    "determinant of Eq. ([3](#eq:HartreeFockDet)) which can be rewritten as"
   ]
  },
  {
   "cell_type": "markdown",
   "id": "f231e7c3",
   "metadata": {},
   "source": [
    "$$\n",
    "\\Phi(x_1,x_2,\\dots,x_A,\\alpha,\\beta,\\dots,\\nu) = \\frac{1}{\\sqrt{A!}}\\sum_{P} (-)^P\\hat{P}\\psi_{\\alpha}(x_1)\n",
    "    \\psi_{\\beta}(x_2)\\dots\\psi_{\\nu}(x_A)=\\sqrt{A!}\\hat{A}\\Phi_H,\n",
    "$$"
   ]
  },
  {
   "cell_type": "markdown",
   "id": "204d0451",
   "metadata": {},
   "source": [
    "where we have introduced the antisymmetrization operator $\\hat{A}$ defined by the \n",
    "summation over all possible permutations of two particles.\n",
    "\n",
    "It is defined as"
   ]
  },
  {
   "cell_type": "markdown",
   "id": "fd08bb46",
   "metadata": {},
   "source": [
    "<!-- Equation labels as ordinary links -->\n",
    "<div id=\"antiSymmetryOperator\"></div>\n",
    "\n",
    "$$\n",
    "\\begin{equation}\n",
    "  \\hat{A} = \\frac{1}{A!}\\sum_{p} (-)^p\\hat{P},\n",
    "\\label{antiSymmetryOperator} \\tag{4}\n",
    "\\end{equation}\n",
    "$$"
   ]
  },
  {
   "cell_type": "markdown",
   "id": "cb755d36",
   "metadata": {},
   "source": [
    "with $p$ standing for the number of permutations. We have introduced for later use the so-called\n",
    "Hartree-function, defined by the simple product of all possible single-particle functions"
   ]
  },
  {
   "cell_type": "markdown",
   "id": "340fe897",
   "metadata": {},
   "source": [
    "$$\n",
    "\\Phi_H(x_1,x_2,\\dots,x_A,\\alpha,\\beta,\\dots,\\nu) =\n",
    "  \\psi_{\\alpha}(x_1)\n",
    "    \\psi_{\\beta}(x_2)\\dots\\psi_{\\nu}(x_A).\n",
    "$$"
   ]
  },
  {
   "cell_type": "markdown",
   "id": "6d1a833f",
   "metadata": {},
   "source": [
    "Both $\\hat{H}_0$ and $\\hat{H}_I$ are invariant under all possible permutations of any two particles\n",
    "and hence commute with $\\hat{A}$"
   ]
  },
  {
   "cell_type": "markdown",
   "id": "1e6c7806",
   "metadata": {},
   "source": [
    "<!-- Equation labels as ordinary links -->\n",
    "<div id=\"commutionAntiSym\"></div>\n",
    "\n",
    "$$\n",
    "\\begin{equation}\n",
    "  [H_0,\\hat{A}] = [H_I,\\hat{A}] = 0. \\label{commutionAntiSym} \\tag{5}\n",
    "\\end{equation}\n",
    "$$"
   ]
  },
  {
   "cell_type": "markdown",
   "id": "287d9ef1",
   "metadata": {},
   "source": [
    "Furthermore, $\\hat{A}$ satisfies"
   ]
  },
  {
   "cell_type": "markdown",
   "id": "2e4c22fb",
   "metadata": {},
   "source": [
    "<!-- Equation labels as ordinary links -->\n",
    "<div id=\"AntiSymSquared\"></div>\n",
    "\n",
    "$$\n",
    "\\begin{equation}\n",
    "  \\hat{A}^2 = \\hat{A},  \\label{AntiSymSquared} \\tag{6}\n",
    "\\end{equation}\n",
    "$$"
   ]
  },
  {
   "cell_type": "markdown",
   "id": "782a111f",
   "metadata": {},
   "source": [
    "since every permutation of the Slater\n",
    "determinant reproduces it. \n",
    "\n",
    "The expectation value of $\\hat{H}_0$"
   ]
  },
  {
   "cell_type": "markdown",
   "id": "26a5e3ce",
   "metadata": {},
   "source": [
    "$$\n",
    "\\int \\Phi^*\\hat{H}_0\\Phi d\\mathbf{\\tau} \n",
    "  = A! \\int \\Phi_H^*\\hat{A}\\hat{H}_0\\hat{A}\\Phi_H d\\mathbf{\\tau}\n",
    "$$"
   ]
  },
  {
   "cell_type": "markdown",
   "id": "abe2aadb",
   "metadata": {},
   "source": [
    "is readily reduced to"
   ]
  },
  {
   "cell_type": "markdown",
   "id": "aba013c8",
   "metadata": {},
   "source": [
    "$$\n",
    "\\int \\Phi^*\\hat{H}_0\\Phi d\\mathbf{\\tau} \n",
    "  = A! \\int \\Phi_H^*\\hat{H}_0\\hat{A}\\Phi_H d\\mathbf{\\tau},\n",
    "$$"
   ]
  },
  {
   "cell_type": "markdown",
   "id": "c9779da2",
   "metadata": {},
   "source": [
    "where we have used Eqs. ([5](#commutionAntiSym)) and\n",
    "([6](#AntiSymSquared)). The next step is to replace the antisymmetrization\n",
    "operator by its definition and to\n",
    "replace $\\hat{H}_0$ with the sum of one-body operators"
   ]
  },
  {
   "cell_type": "markdown",
   "id": "39325ae7",
   "metadata": {},
   "source": [
    "$$\n",
    "\\int \\Phi^*\\hat{H}_0\\Phi  d\\mathbf{\\tau}\n",
    "  = \\sum_{i=1}^A \\sum_{p} (-)^p\\int \n",
    "  \\Phi_H^*\\hat{h}_0\\hat{P}\\Phi_H d\\mathbf{\\tau}.\n",
    "$$"
   ]
  },
  {
   "cell_type": "markdown",
   "id": "d4bf0b49",
   "metadata": {},
   "source": [
    "The integral vanishes if two or more particles are permuted in only one\n",
    "of the Hartree-functions $\\Phi_H$ because the individual single-particle wave functions are\n",
    "orthogonal. We obtain then"
   ]
  },
  {
   "cell_type": "markdown",
   "id": "b917d35a",
   "metadata": {},
   "source": [
    "$$\n",
    "\\int \\Phi^*\\hat{H}_0\\Phi  d\\mathbf{\\tau}= \\sum_{i=1}^A \\int \\Phi_H^*\\hat{h}_0\\Phi_H  d\\mathbf{\\tau}.\n",
    "$$"
   ]
  },
  {
   "cell_type": "markdown",
   "id": "7e16a8c8",
   "metadata": {},
   "source": [
    "Orthogonality of the single-particle functions allows us to further simplify the integral, and we\n",
    "arrive at the following expression for the expectation values of the\n",
    "sum of one-body Hamiltonians"
   ]
  },
  {
   "cell_type": "markdown",
   "id": "dea66c59",
   "metadata": {},
   "source": [
    "<!-- Equation labels as ordinary links -->\n",
    "<div id=\"H1Expectation\"></div>\n",
    "\n",
    "$$\n",
    "\\begin{equation}\n",
    "  \\int \\Phi^*\\hat{H}_0\\Phi  d\\mathbf{\\tau}\n",
    "  = \\sum_{\\mu=1}^A \\int \\psi_{\\mu}^*(x)\\hat{h}_0\\psi_{\\mu}(x)dx\n",
    "  d\\mathbf{r}.\n",
    "\\label{H1Expectation} \\tag{7}\n",
    "\\end{equation}\n",
    "$$"
   ]
  },
  {
   "cell_type": "markdown",
   "id": "769770cb",
   "metadata": {},
   "source": [
    "We introduce the following shorthand for the above integral"
   ]
  },
  {
   "cell_type": "markdown",
   "id": "6382815c",
   "metadata": {},
   "source": [
    "$$\n",
    "\\langle \\mu | \\hat{h}_0 | \\mu \\rangle = \\int \\psi_{\\mu}^*(x)\\hat{h}_0\\psi_{\\mu}(x)dx,\n",
    "$$"
   ]
  },
  {
   "cell_type": "markdown",
   "id": "350dbc78",
   "metadata": {},
   "source": [
    "and rewrite Eq. ([7](#H1Expectation)) as"
   ]
  },
  {
   "cell_type": "markdown",
   "id": "2005171c",
   "metadata": {},
   "source": [
    "<!-- Equation labels as ordinary links -->\n",
    "<div id=\"H1Expectation1\"></div>\n",
    "\n",
    "$$\n",
    "\\begin{equation}\n",
    "  \\int \\Phi^*\\hat{H}_0\\Phi  d\\tau\n",
    "  = \\sum_{\\mu=1}^A \\langle \\mu | \\hat{h}_0 | \\mu \\rangle.\n",
    "\\label{H1Expectation1} \\tag{8}\n",
    "\\end{equation}\n",
    "$$"
   ]
  },
  {
   "cell_type": "markdown",
   "id": "0479b271",
   "metadata": {},
   "source": [
    "The expectation value of the two-body part of the Hamiltonian is obtained in a\n",
    "similar manner. We have"
   ]
  },
  {
   "cell_type": "markdown",
   "id": "10969d5b",
   "metadata": {},
   "source": [
    "$$\n",
    "\\int \\Phi^*\\hat{H}_I\\Phi d\\mathbf{\\tau} \n",
    "  = A! \\int \\Phi_H^*\\hat{A}\\hat{H}_I\\hat{A}\\Phi_H d\\mathbf{\\tau},\n",
    "$$"
   ]
  },
  {
   "cell_type": "markdown",
   "id": "b1071d45",
   "metadata": {},
   "source": [
    "which reduces to"
   ]
  },
  {
   "cell_type": "markdown",
   "id": "1a69c48b",
   "metadata": {},
   "source": [
    "$$\n",
    "\\int \\Phi^*\\hat{H}_I\\Phi d\\mathbf{\\tau} \n",
    "  = \\sum_{i\\le j=1}^A \\sum_{p} (-)^p\\int \n",
    "  \\Phi_H^*\\hat{v}(r_{ij})\\hat{P}\\Phi_H d\\mathbf{\\tau},\n",
    "$$"
   ]
  },
  {
   "cell_type": "markdown",
   "id": "eee59fc1",
   "metadata": {},
   "source": [
    "by following the same arguments as for the one-body\n",
    "Hamiltonian. \n",
    "\n",
    "Because of the dependence on the inter-particle distance $r_{ij}$,  permutations of\n",
    "any two particles no longer vanish, and we get"
   ]
  },
  {
   "cell_type": "markdown",
   "id": "ec227c1a",
   "metadata": {},
   "source": [
    "$$\n",
    "\\int \\Phi^*\\hat{H}_I\\Phi d\\mathbf{\\tau} \n",
    "  = \\sum_{i < j=1}^A \\int  \n",
    "  \\Phi_H^*\\hat{v}(r_{ij})(1-P_{ij})\\Phi_H d\\mathbf{\\tau}.\n",
    "$$"
   ]
  },
  {
   "cell_type": "markdown",
   "id": "2c8903ef",
   "metadata": {},
   "source": [
    "where $P_{ij}$ is the permutation operator that interchanges\n",
    "particle $i$ and particle $j$. Again we use the assumption that the single-particle wave functions\n",
    "are orthogonal. \n",
    "\n",
    "We obtain"
   ]
  },
  {
   "cell_type": "markdown",
   "id": "16c116f7",
   "metadata": {},
   "source": [
    "<!-- Equation labels as ordinary links -->\n",
    "<div id=\"_auto1\"></div>\n",
    "\n",
    "$$\n",
    "\\begin{equation}\n",
    "  \\int \\Phi^*\\hat{H}_I\\Phi d\\mathbf{\\tau} \n",
    "  = \\frac{1}{2}\\sum_{\\mu=1}^A\\sum_{\\nu=1}^A\n",
    "    \\left[ \\int \\psi_{\\mu}^*(x_i)\\psi_{\\nu}^*(x_j)\\hat{v}(r_{ij})\\psi_{\\mu}(x_i)\\psi_{\\nu}(x_j)\n",
    "    dx_idx_j \\right.\n",
    "\\label{_auto1} \\tag{9}\n",
    "\\end{equation}\n",
    "$$"
   ]
  },
  {
   "cell_type": "markdown",
   "id": "ff8a4c37",
   "metadata": {},
   "source": [
    "<!-- Equation labels as ordinary links -->\n",
    "<div id=\"H2Expectation\"></div>\n",
    "\n",
    "$$\n",
    "\\begin{equation} \n",
    "  \\left.\n",
    "  - \\int \\psi_{\\mu}^*(x_i)\\psi_{\\nu}^*(x_j)\n",
    "  \\hat{v}(r_{ij})\\psi_{\\nu}(x_i)\\psi_{\\mu}(x_j)\n",
    "  dx_idx_j\n",
    "  \\right]. \\label{H2Expectation} \\tag{10}\n",
    "\\end{equation}\n",
    "$$"
   ]
  },
  {
   "cell_type": "markdown",
   "id": "2e11689f",
   "metadata": {},
   "source": [
    "The first term is the so-called direct term. It is frequently also called the  Hartree term, \n",
    "while the second is due to the Pauli principle and is called\n",
    "the exchange term or just the Fock term.\n",
    "The factor  $1/2$ is introduced because we now run over\n",
    "all pairs twice. \n",
    "\n",
    "The last equation allows us to  introduce some further definitions.  \n",
    "The single-particle wave functions $\\psi_{\\mu}(x)$, defined by the quantum numbers $\\mu$ and $x$\n",
    "are defined as the overlap"
   ]
  },
  {
   "cell_type": "markdown",
   "id": "c22cc6a4",
   "metadata": {},
   "source": [
    "$$\n",
    "\\psi_{\\alpha}(x)  = \\langle x | \\alpha \\rangle .\n",
    "$$"
   ]
  },
  {
   "cell_type": "markdown",
   "id": "d80c16d5",
   "metadata": {},
   "source": [
    "We introduce the following shorthands for the above two integrals"
   ]
  },
  {
   "cell_type": "markdown",
   "id": "eb1f4066",
   "metadata": {},
   "source": [
    "$$\n",
    "\\langle \\mu\\nu|\\hat{v}|\\mu\\nu\\rangle =  \\int \\psi_{\\mu}^*(x_i)\\psi_{\\nu}^*(x_j)\\hat{v}(r_{ij})\\psi_{\\mu}(x_i)\\psi_{\\nu}(x_j)\n",
    "    dx_idx_j,\n",
    "$$"
   ]
  },
  {
   "cell_type": "markdown",
   "id": "495d3e5c",
   "metadata": {},
   "source": [
    "and"
   ]
  },
  {
   "cell_type": "markdown",
   "id": "9e491ea3",
   "metadata": {},
   "source": [
    "$$\n",
    "\\langle \\mu\\nu|\\hat{v}|\\nu\\mu\\rangle = \\int \\psi_{\\mu}^*(x_i)\\psi_{\\nu}^*(x_j)\n",
    "  \\hat{v}(r_{ij})\\psi_{\\nu}(x_i)\\psi_{\\mu}(x_j)\n",
    "  dx_idx_j.\n",
    "$$"
   ]
  },
  {
   "cell_type": "markdown",
   "id": "ede5d237",
   "metadata": {},
   "source": [
    "## Preparing for later studies: varying the coefficients of a wave function expansion and orthogonal transformations\n",
    "\n",
    "It is common to  expand the single-particle functions in a known basis  and vary the coefficients, \n",
    "that is, the new single-particle wave function is written as a linear expansion\n",
    "in terms of a fixed chosen orthogonal basis (for example the well-known harmonic oscillator functions or the hydrogen-like functions etc).\n",
    "We define our new single-particle basis (this is a normal approach for Hartree-Fock theory) by performing a unitary transformation \n",
    "on our previous basis (labelled with greek indices) as"
   ]
  },
  {
   "cell_type": "markdown",
   "id": "c2be5a0a",
   "metadata": {},
   "source": [
    "<!-- Equation labels as ordinary links -->\n",
    "<div id=\"eq:newbasis\"></div>\n",
    "\n",
    "$$\n",
    "\\begin{equation}\n",
    "\\psi_p^{new}  = \\sum_{\\lambda} C_{p\\lambda}\\phi_{\\lambda}. \\label{eq:newbasis} \\tag{11}\n",
    "\\end{equation}\n",
    "$$"
   ]
  },
  {
   "cell_type": "markdown",
   "id": "b8fa7390",
   "metadata": {},
   "source": [
    "In this case we vary the coefficients $C_{p\\lambda}$. If the basis has infinitely many solutions, we need\n",
    "to truncate the above sum.  We assume that the basis $\\phi_{\\lambda}$ is orthogonal.\n",
    "\n",
    "It is normal to choose a single-particle basis defined as the eigenfunctions\n",
    "of parts of the full Hamiltonian. The typical situation consists of the solutions of the one-body part of the Hamiltonian, that is we have"
   ]
  },
  {
   "cell_type": "markdown",
   "id": "975b4d7c",
   "metadata": {},
   "source": [
    "$$\n",
    "\\hat{h}_0\\phi_{\\lambda}=\\epsilon_{\\lambda}\\phi_{\\lambda}.\n",
    "$$"
   ]
  },
  {
   "cell_type": "markdown",
   "id": "2e87efdd",
   "metadata": {},
   "source": [
    "The single-particle wave functions $\\phi_{\\lambda}(\\mathbf{r})$, defined by the quantum numbers $\\lambda$ and $\\mathbf{r}$\n",
    "are defined as the overlap"
   ]
  },
  {
   "cell_type": "markdown",
   "id": "7312f3ea",
   "metadata": {},
   "source": [
    "$$\n",
    "\\phi_{\\lambda}(\\mathbf{r})  = \\langle \\mathbf{r} | \\lambda \\rangle .\n",
    "$$"
   ]
  },
  {
   "cell_type": "markdown",
   "id": "a361c1b1",
   "metadata": {},
   "source": [
    "In deriving the Hartree-Fock equations, we  will expand the single-particle functions in a known basis  and vary the coefficients, \n",
    "that is, the new single-particle wave function is written as a linear expansion\n",
    "in terms of a fixed chosen orthogonal basis (for example the well-known harmonic oscillator functions or the hydrogen-like functions etc).\n",
    "\n",
    "We stated that a unitary transformation keeps the orthogonality. To see this consider first a basis of vectors $\\mathbf{v}_i$,"
   ]
  },
  {
   "cell_type": "markdown",
   "id": "c81ea41c",
   "metadata": {},
   "source": [
    "$$\n",
    "\\mathbf{v}_i = \\begin{bmatrix} v_{i1} \\\\ \\dots \\\\ \\dots \\\\v_{in} \\end{bmatrix}\n",
    "$$"
   ]
  },
  {
   "cell_type": "markdown",
   "id": "d8ad6a58",
   "metadata": {},
   "source": [
    "We assume that the basis is orthogonal, that is"
   ]
  },
  {
   "cell_type": "markdown",
   "id": "0daf43eb",
   "metadata": {},
   "source": [
    "$$\n",
    "\\mathbf{v}_j^T\\mathbf{v}_i = \\delta_{ij}.\n",
    "$$"
   ]
  },
  {
   "cell_type": "markdown",
   "id": "dd737501",
   "metadata": {},
   "source": [
    "An orthogonal or unitary transformation"
   ]
  },
  {
   "cell_type": "markdown",
   "id": "8a886c24",
   "metadata": {},
   "source": [
    "$$\n",
    "\\mathbf{w}_i=\\mathbf{U}\\mathbf{v}_i,\n",
    "$$"
   ]
  },
  {
   "cell_type": "markdown",
   "id": "984f281f",
   "metadata": {},
   "source": [
    "preserves the dot product and orthogonality since"
   ]
  },
  {
   "cell_type": "markdown",
   "id": "32d69647",
   "metadata": {},
   "source": [
    "$$\n",
    "\\mathbf{w}_j^T\\mathbf{w}_i=(\\mathbf{U}\\mathbf{v}_j)^T\\mathbf{U}\\mathbf{v}_i=\\mathbf{v}_j^T\\mathbf{U}^T\\mathbf{U}\\mathbf{v}_i= \\mathbf{v}_j^T\\mathbf{v}_i = \\delta_{ij}.\n",
    "$$"
   ]
  },
  {
   "cell_type": "markdown",
   "id": "1d491a93",
   "metadata": {},
   "source": [
    "This means that if the coefficients $C_{p\\lambda}$ belong to a unitary or orthogonal trasformation (using the Dirac bra-ket notation)"
   ]
  },
  {
   "cell_type": "markdown",
   "id": "7e4ce310",
   "metadata": {},
   "source": [
    "$$\n",
    "\\vert p\\rangle  = \\sum_{\\lambda} C_{p\\lambda}\\vert\\lambda\\rangle,\n",
    "$$"
   ]
  },
  {
   "cell_type": "markdown",
   "id": "465d1706",
   "metadata": {},
   "source": [
    "orthogonality is preserved, that is $\\langle \\alpha \\vert \\beta\\rangle = \\delta_{\\alpha\\beta}$\n",
    "and $\\langle p \\vert q\\rangle = \\delta_{pq}$. \n",
    "\n",
    "This propertry is extremely useful when we build up a basis of many-body Stater determinant based states. \n",
    "\n",
    "**Note also that although a basis $\\vert \\alpha\\rangle$ contains an infinity of states, for practical calculations we have always to make some truncations.** \n",
    "\n",
    "Before we develop for example the Hartree-Fock equations, there is another very useful property of determinants that we will use both in connection with Hartree-Fock calculations and later shell-model calculations.  \n",
    "\n",
    "Consider the following determinant"
   ]
  },
  {
   "cell_type": "markdown",
   "id": "ec7daaa2",
   "metadata": {},
   "source": [
    "$$\n",
    "\\left| \\begin{array}{cc} \\alpha_1b_{11}+\\alpha_2sb_{12}& a_{12}\\\\\n",
    "                         \\alpha_1b_{21}+\\alpha_2b_{22}&a_{22}\\end{array} \\right|=\\alpha_1\\left|\\begin{array}{cc} b_{11}& a_{12}\\\\\n",
    "                         b_{21}&a_{22}\\end{array} \\right|+\\alpha_2\\left| \\begin{array}{cc} b_{12}& a_{12}\\\\b_{22}&a_{22}\\end{array} \\right|\n",
    "$$"
   ]
  },
  {
   "cell_type": "markdown",
   "id": "52c7c4c1",
   "metadata": {},
   "source": [
    "We can generalize this to  an $n\\times n$ matrix and have"
   ]
  },
  {
   "cell_type": "markdown",
   "id": "ce3c813b",
   "metadata": {},
   "source": [
    "$$\n",
    "\\left| \\begin{array}{cccccc} a_{11}& a_{12} & \\dots & \\sum_{k=1}^n c_k b_{1k} &\\dots & a_{1n}\\\\\n",
    "a_{21}& a_{22} & \\dots & \\sum_{k=1}^n c_k b_{2k} &\\dots & a_{2n}\\\\\n",
    "\\dots & \\dots & \\dots & \\dots & \\dots & \\dots \\\\\n",
    "\\dots & \\dots & \\dots & \\dots & \\dots & \\dots \\\\\n",
    "a_{n1}& a_{n2} & \\dots & \\sum_{k=1}^n c_k b_{nk} &\\dots & a_{nn}\\end{array} \\right|=\n",
    "\\sum_{k=1}^n c_k\\left| \\begin{array}{cccccc} a_{11}& a_{12} & \\dots &  b_{1k} &\\dots & a_{1n}\\\\\n",
    "a_{21}& a_{22} & \\dots &  b_{2k} &\\dots & a_{2n}\\\\\n",
    "\\dots & \\dots & \\dots & \\dots & \\dots & \\dots\\\\\n",
    "\\dots & \\dots & \\dots & \\dots & \\dots & \\dots\\\\\n",
    "a_{n1}& a_{n2} & \\dots &  b_{nk} &\\dots & a_{nn}\\end{array} \\right| .\n",
    "$$"
   ]
  },
  {
   "cell_type": "markdown",
   "id": "9db57a58",
   "metadata": {},
   "source": [
    "This is a property we will use in our Hartree-Fock discussions. \n",
    "\n",
    "We can generalize the previous results, now \n",
    "with all elements $a_{ij}$  being given as functions of \n",
    "linear combinations  of various coefficients $c$ and elements $b_{ij}$,"
   ]
  },
  {
   "cell_type": "markdown",
   "id": "ea9ccf84",
   "metadata": {},
   "source": [
    "$$\n",
    "\\left| \\begin{array}{cccccc} \\sum_{k=1}^n b_{1k}c_{k1}& \\sum_{k=1}^n b_{1k}c_{k2} & \\dots & \\sum_{k=1}^n b_{1k}c_{kj}  &\\dots & \\sum_{k=1}^n b_{1k}c_{kn}\\\\\n",
    "\\sum_{k=1}^n b_{2k}c_{k1}& \\sum_{k=1}^n b_{2k}c_{k2} & \\dots & \\sum_{k=1}^n b_{2k}c_{kj} &\\dots & \\sum_{k=1}^n b_{2k}c_{kn}\\\\\n",
    "\\dots & \\dots & \\dots & \\dots & \\dots & \\dots \\\\\n",
    "\\dots & \\dots & \\dots & \\dots & \\dots &\\dots \\\\\n",
    "\\sum_{k=1}^n b_{nk}c_{k1}& \\sum_{k=1}^n b_{nk}c_{k2} & \\dots & \\sum_{k=1}^n b_{nk}c_{kj} &\\dots & \\sum_{k=1}^n b_{nk}c_{kn}\\end{array} \\right|=det(\\mathbf{C})det(\\mathbf{B}),\n",
    "$$"
   ]
  },
  {
   "cell_type": "markdown",
   "id": "bc297005",
   "metadata": {},
   "source": [
    "where $det(\\mathbf{C})$ and $det(\\mathbf{B})$ are the determinants of $n\\times n$ matrices\n",
    "with elements $c_{ij}$ and $b_{ij}$ respectively.  \n",
    "This is a property we will use in our Hartree-Fock discussions. Convince yourself about the correctness of the above expression by setting $n=2$. \n",
    "\n",
    "With our definition of the new basis in terms of an orthogonal basis we have"
   ]
  },
  {
   "cell_type": "markdown",
   "id": "80de24e8",
   "metadata": {},
   "source": [
    "$$\n",
    "\\psi_p(x)  = \\sum_{\\lambda} C_{p\\lambda}\\phi_{\\lambda}(x).\n",
    "$$"
   ]
  },
  {
   "cell_type": "markdown",
   "id": "13775bb1",
   "metadata": {},
   "source": [
    "If the coefficients $C_{p\\lambda}$ belong to an orthogonal or unitary matrix, the new basis\n",
    "is also orthogonal. \n",
    "Our Slater determinant in the new basis $\\psi_p(x)$ is written as"
   ]
  },
  {
   "cell_type": "markdown",
   "id": "4f2d18fe",
   "metadata": {},
   "source": [
    "$$\n",
    "\\frac{1}{\\sqrt{A!}}\n",
    "\\left| \\begin{array}{ccccc} \\psi_{p}(x_1)& \\psi_{p}(x_2)& \\dots & \\dots & \\psi_{p}(x_A)\\\\\n",
    "                            \\psi_{q}(x_1)&\\psi_{q}(x_2)& \\dots & \\dots & \\psi_{q}(x_A)\\\\  \n",
    "                            \\dots & \\dots & \\dots & \\dots & \\dots \\\\\n",
    "                            \\dots & \\dots & \\dots & \\dots & \\dots \\\\\n",
    "                     \\psi_{t}(x_1)&\\psi_{t}(x_2)& \\dots & \\dots & \\psi_{t}(x_A)\\end{array} \\right|=\\frac{1}{\\sqrt{A!}}\n",
    "\\left| \\begin{array}{ccccc} \\sum_{\\lambda} C_{p\\lambda}\\phi_{\\lambda}(x_1)& \\sum_{\\lambda} C_{p\\lambda}\\phi_{\\lambda}(x_2)& \\dots & \\dots & \\sum_{\\lambda} C_{p\\lambda}\\phi_{\\lambda}(x_A)\\\\\n",
    "                            \\sum_{\\lambda} C_{q\\lambda}\\phi_{\\lambda}(x_1)&\\sum_{\\lambda} C_{q\\lambda}\\phi_{\\lambda}(x_2)& \\dots & \\dots & \\sum_{\\lambda} C_{q\\lambda}\\phi_{\\lambda}(x_A)\\\\  \n",
    "                            \\dots & \\dots & \\dots & \\dots & \\dots \\\\\n",
    "                            \\dots & \\dots & \\dots & \\dots & \\dots \\\\\n",
    "                     \\sum_{\\lambda} C_{t\\lambda}\\phi_{\\lambda}(x_1)&\\sum_{\\lambda} C_{t\\lambda}\\phi_{\\lambda}(x_2)& \\dots & \\dots & \\sum_{\\lambda} C_{t\\lambda}\\phi_{\\lambda}(x_A)\\end{array} \\right|,\n",
    "$$"
   ]
  },
  {
   "cell_type": "markdown",
   "id": "5fb94cdb",
   "metadata": {},
   "source": [
    "which is nothing but $det(\\mathbf{C})det(\\Phi)$, with $det(\\Phi)$ being the determinant given by the basis functions $\\phi_{\\lambda}(x)$. \n",
    "\n",
    "In our discussions hereafter we will use our definitions of single-particle states above and below the Fermi ($F$) level given by the labels\n",
    "$ijkl\\dots \\le F$ for so-called single-hole states and $abcd\\dots > F$ for so-called particle states.\n",
    "For general single-particle states we employ the labels $pqrs\\dots$. \n",
    "\n",
    "The energy functional is"
   ]
  },
  {
   "cell_type": "markdown",
   "id": "5e7e8c86",
   "metadata": {},
   "source": [
    "$$\n",
    "E[\\Phi] \n",
    "  = \\sum_{\\mu=1}^A \\langle \\mu | h | \\mu \\rangle +\n",
    "  \\frac{1}{2}\\sum_{{\\mu}=1}^A\\sum_{{\\nu}=1}^A \\langle \\mu\\nu|\\hat{v}|\\mu\\nu\\rangle_{AS},\n",
    "$$"
   ]
  },
  {
   "cell_type": "markdown",
   "id": "2d93bf75",
   "metadata": {},
   "source": [
    "we found the expression for the energy functional in terms of the basis function $\\phi_{\\lambda}(\\mathbf{r})$. We then  varied the above energy functional with respect to the basis functions $|\\mu \\rangle$. \n",
    "Now we are interested in defining a new basis defined in terms of\n",
    "a chosen basis as defined in Eq. ([11](#eq:newbasis)). We can then rewrite the energy functional as"
   ]
  },
  {
   "cell_type": "markdown",
   "id": "b03c10f0",
   "metadata": {},
   "source": [
    "<!-- Equation labels as ordinary links -->\n",
    "<div id=\"FunctionalEPhi2\"></div>\n",
    "\n",
    "$$\n",
    "\\begin{equation}\n",
    "  E[\\Phi^{New}] \n",
    "  = \\sum_{i=1}^A \\langle i | h | i \\rangle +\n",
    "  \\frac{1}{2}\\sum_{ij=1}^A\\langle ij|\\hat{v}|ij\\rangle_{AS}, \\label{FunctionalEPhi2} \\tag{12}\n",
    "\\end{equation}\n",
    "$$"
   ]
  },
  {
   "cell_type": "markdown",
   "id": "330891ee",
   "metadata": {},
   "source": [
    "where $\\Phi^{New}$ is the new Slater determinant defined by the new basis of Eq. ([11](#eq:newbasis)). \n",
    "\n",
    "Using Eq. ([11](#eq:newbasis)) we can rewrite Eq. ([12](#FunctionalEPhi2)) as"
   ]
  },
  {
   "cell_type": "markdown",
   "id": "ac28cc07",
   "metadata": {},
   "source": [
    "<!-- Equation labels as ordinary links -->\n",
    "<div id=\"FunctionalEPhi3\"></div>\n",
    "\n",
    "$$\n",
    "\\begin{equation}\n",
    "  E[\\Psi] \n",
    "  = \\sum_{i=1}^A \\sum_{\\alpha\\beta} C^*_{i\\alpha}C_{i\\beta}\\langle \\alpha | h | \\beta \\rangle +\n",
    "  \\frac{1}{2}\\sum_{ij=1}^A\\sum_{{\\alpha\\beta\\gamma\\delta}} C^*_{i\\alpha}C^*_{j\\beta}C_{i\\gamma}C_{j\\delta}\\langle \\alpha\\beta|\\hat{v}|\\gamma\\delta\\rangle_{AS}. \\label{FunctionalEPhi3} \\tag{13}\n",
    "\\end{equation}\n",
    "$$"
   ]
  },
  {
   "cell_type": "markdown",
   "id": "5c01f373",
   "metadata": {},
   "source": [
    "## Level crossing and entanglement in simple  models\n",
    "\n",
    "In order to study the importance of level avoided crossings and\n",
    "entanglement, we study first a simple two-level system. Thereafter we\n",
    "extend our level-crossing model to a four-level system which can be\n",
    "interpreted as composed of two separate (not necesseraly identical)\n",
    "subsystems.\n",
    "\n",
    "We let our hamiltonian depend linearly on a strength parameter $z$"
   ]
  },
  {
   "cell_type": "markdown",
   "id": "eb6ddc69",
   "metadata": {},
   "source": [
    "$$\n",
    "H=H_0+\\lambda H_\\mathrm{I},\n",
    "$$"
   ]
  },
  {
   "cell_type": "markdown",
   "id": "3d54a8a2",
   "metadata": {},
   "source": [
    "with $\\lambda \\in [0,1]$, where the limits $\\lambda=0$ and $\\lambda=1$\n",
    "represent the non-interacting (or unperturbed) and fully interacting\n",
    "system, respectively.  The model is an eigenvalue problem with only\n",
    "two available states, which we label $\\vert 0\\rangle$ and $\\vert\n",
    "1\\rangle$, respectively. Below we will let state $\\vert 0 \\rangle$\n",
    "represent the lowest state (often referred to as model-space state)\n",
    "eigenvalue whereas state $\\vert 1\\rangle$ represents the eigenvalue of\n",
    "the excluded space.  The non-interacting solutions to our problem are"
   ]
  },
  {
   "cell_type": "markdown",
   "id": "1a837fee",
   "metadata": {},
   "source": [
    "<!-- Equation labels as ordinary links -->\n",
    "<div id=\"_auto2\"></div>\n",
    "\n",
    "$$\n",
    "\\begin{equation}\n",
    "       H_0\\vert 0 \\rangle =\\epsilon_0\\vert 0 \\rangle,\n",
    "\\label{_auto2} \\tag{14}\n",
    "\\end{equation}\n",
    "$$"
   ]
  },
  {
   "cell_type": "markdown",
   "id": "2e0e74ca",
   "metadata": {},
   "source": [
    "and"
   ]
  },
  {
   "cell_type": "markdown",
   "id": "f5e9a045",
   "metadata": {},
   "source": [
    "<!-- Equation labels as ordinary links -->\n",
    "<div id=\"_auto3\"></div>\n",
    "\n",
    "$$\n",
    "\\begin{equation}\n",
    "       H_0\\vert 1\\rangle =\\epsilon_1\\vert 1\\rangle,\n",
    "\\label{_auto3} \\tag{15}\n",
    "\\end{equation}\n",
    "$$"
   ]
  },
  {
   "cell_type": "markdown",
   "id": "f09d7c53",
   "metadata": {},
   "source": [
    "with $\\epsilon_0 < \\epsilon_1$. We label the off-diagonal matrix\n",
    "elements $X$, while $X_0=\\langle 0 \\vert H_I\\vert 0 \\rangle$ and\n",
    "$X_1=\\langle 1 \\vert H_1\\vert 1 \\rangle$.  The exact eigenvalue\n",
    "problem"
   ]
  },
  {
   "cell_type": "markdown",
   "id": "9b2201b7",
   "metadata": {},
   "source": [
    "<!-- Equation labels as ordinary links -->\n",
    "<div id=\"_auto4\"></div>\n",
    "\n",
    "$$\n",
    "\\begin{equation}\n",
    "\\left(\\begin{array}{cc}\\epsilon_0+\\lambda X_0 &\\lambda X \\\\\n",
    "zX &\\epsilon_1+\\lambda X_1 \\end{array}\\right)\n",
    "\\label{_auto4} \\tag{16}\n",
    "\\end{equation}\n",
    "$$"
   ]
  },
  {
   "cell_type": "markdown",
   "id": "13601030",
   "metadata": {},
   "source": [
    "yields"
   ]
  },
  {
   "cell_type": "markdown",
   "id": "74359c01",
   "metadata": {},
   "source": [
    "<!-- Equation labels as ordinary links -->\n",
    "<div id=\"eq:exact\"></div>\n",
    "\n",
    "$$\n",
    "\\begin{eqnarray}\n",
    "\\label{eq:exact} \\tag{17}\n",
    "     E(\\lambda)=&\\frac{1}{2}\\left\\{\\epsilon_0 +\\epsilon_1 +\\lambda X_0\n",
    "     +\\lambda X_1 \\pm \\left(\n",
    "     \\epsilon_1 -\\epsilon_0 +\\lambda X_1-\\lambda X_0\\right) \\right. \\\\ \\nonumber\n",
    "     & \\left. \\times\\sqrt{1+\\frac{4\\lambda^2X^2}{\\left(\n",
    "     \\epsilon_1 -\\epsilon_0 +\\lambda X_1-\\lambda X_0\\right)^2}}\n",
    "     \\right\\}.\n",
    "\\end{eqnarray}\n",
    "$$"
   ]
  },
  {
   "cell_type": "markdown",
   "id": "36086b43",
   "metadata": {},
   "source": [
    "In the results below we set the parameters $\\epsilon_0=0$,\n",
    "$\\epsilon_1=4$, $X_0=-X_1=3$ and $X=0.2$.  This eigenvalue problem can\n",
    "easily be rewritten in terms of the standard Pauli matrices.  The\n",
    "non-interacting solutions represent our computational basis.\n",
    "Pertinent to our choice of parameters, is that at $\\lambda\\geq 2/3$,\n",
    "the lowest eigenstate is dominated by $\\vert 1\\rangle$ while the upper\n",
    "is $\\vert 0 \\rangle$. At $\\lambda=1$ the $\\vert 0 \\rangle$ mixing of\n",
    "the lowest eigenvalue is $1\\%$ while for $\\lambda\\leq 2/3$ we have a\n",
    "$\\vert 0 \\rangle$ component of more than $90\\%$.  The character of the\n",
    "eigenvectors has therefore been interchanged when passing $z=2/3$. The\n",
    "value of the parameter $X$ represents the strength of the coupling\n",
    "between the model space and the excluded space.  The following code\n",
    "computes and plots the eigenvalues."
   ]
  },
  {
   "cell_type": "code",
   "execution_count": 1,
   "id": "38131587",
   "metadata": {},
   "outputs": [
    {
     "data": {
      "image/png": "[encoded data removed]",
      "text/plain": [
       "<Figure size 640x480 with 1 Axes>"
      ]
     },
     "metadata": {},
     "output_type": "display_data"
    }
   ],
   "source": [
    "%matplotlib inline\n",
    "\n",
    "%matplotlib inline\n",
    "\n",
    "from  matplotlib import pyplot as plt\n",
    "import numpy as np\n",
    "dim = 2\n",
    "#Setting up a tridiagonal matrix and finding eigenvectors and eigenvalues\n",
    "Hamiltonian = np.zeros((dim,dim))\n",
    "#number of lambda values\n",
    "n = 100\n",
    "lmbd = np.linspace(0.,1.0,n)\n",
    "e0 = 0.0\n",
    "e1 = 4.0\n",
    "X = 0.20\n",
    "Xp = 3.0\n",
    "Eigenvalue = np.zeros((dim,n))\n",
    "for i in range(n): \n",
    "    Hamiltonian[0,0] = lmbd[i]*Xp+e0\n",
    "    Hamiltonian[0,1] = lmbd[i]*X\n",
    "    Hamiltonian[1,0] = Hamiltonian[0,1]\n",
    "    Hamiltonian[1,1] = e1+lmbd[i]*(-Xp)\n",
    "    # diagonalize and obtain eigenvalues, not necessarily sorted\n",
    "    EigValues, EigVectors = np.linalg.eig(Hamiltonian)\n",
    "    # sort eigenvectors and eigenvalues\n",
    "    permute = EigValues.argsort()\n",
    "    EigValues = EigValues[permute]\n",
    "    EigVectors = EigVectors[:,permute]\n",
    "    Eigenvalue[0,i] = EigValues[0]\n",
    "    Eigenvalue[1,i] = EigValues[1]\n",
    "plt.plot(lmbd, Eigenvalue[0,:] ,'b-',lmbd, Eigenvalue[1,:],'g-',)\n",
    "plt.xlabel('$\\lambda$')\n",
    "plt.ylabel('Eigenvalues')\n",
    "plt.show()"
   ]
  },
  {
   "cell_type": "markdown",
   "id": "350451b6",
   "metadata": {},
   "source": [
    "This simple model exhibits a simple level crossing where the\n",
    "composition of the final interacting states change character as we\n",
    "gradually switch on the interaction.  In order to study how\n",
    "entanglement relates to level crossing and the main results of our\n",
    "investigations, we extend the simple two-level system to a four level\n",
    "system. This system can be thought of as composed of two subsystems\n",
    "$A$ and $B$. Each subsystem has computational basis states"
   ]
  },
  {
   "cell_type": "markdown",
   "id": "b53a6ba0",
   "metadata": {},
   "source": [
    "$$\n",
    "\\vert 0\\rangle_{\\mathrm{A,B}}=\\begin{bmatrix} 1 & 0\\end{bmatrix}^T \\hspace{1cm} \\vert 1\\rangle_{\\mathrm{A,B}}=\\begin{bmatrix} 0 & 1\\end{bmatrix}^T.\n",
    "$$"
   ]
  },
  {
   "cell_type": "markdown",
   "id": "8cff4158",
   "metadata": {},
   "source": [
    "The subsystems could represent single particles or composite many-particle systems of a given symmetry.\n",
    "This leads to the many-body computational basis states"
   ]
  },
  {
   "cell_type": "markdown",
   "id": "0fbbc984",
   "metadata": {},
   "source": [
    "$$\n",
    "\\vert 00\\rangle = \\vert 0\\rangle_{\\mathrm{A}}\\otimes \\vert 0\\rangle_{\\mathrm{B}}=\\begin{bmatrix} 1 & 0 & 0 &0\\end{bmatrix}^T,\n",
    "$$"
   ]
  },
  {
   "cell_type": "markdown",
   "id": "bf68f7e9",
   "metadata": {},
   "source": [
    "and"
   ]
  },
  {
   "cell_type": "markdown",
   "id": "34119fcf",
   "metadata": {},
   "source": [
    "$$\n",
    "\\vert 10\\rangle = \\vert 1\\rangle_{\\mathrm{A}}\\otimes \\vert 0\\rangle_{\\mathrm{B}}=\\begin{bmatrix} 0 & 1 & 0 &0\\end{bmatrix}^T,\n",
    "$$"
   ]
  },
  {
   "cell_type": "markdown",
   "id": "1d348f75",
   "metadata": {},
   "source": [
    "and"
   ]
  },
  {
   "cell_type": "markdown",
   "id": "751f58bc",
   "metadata": {},
   "source": [
    "$$\n",
    "\\vert 01\\rangle = \\vert 0\\rangle_{\\mathrm{A}}\\otimes \\vert 1\\rangle_{\\mathrm{B}}=\\begin{bmatrix} 0 & 0 & 1 &0\\end{bmatrix}^T,\n",
    "$$"
   ]
  },
  {
   "cell_type": "markdown",
   "id": "746c6e06",
   "metadata": {},
   "source": [
    "and finally"
   ]
  },
  {
   "cell_type": "markdown",
   "id": "505f41c3",
   "metadata": {},
   "source": [
    "$$\n",
    "\\vert 11\\rangle = \\vert 1\\rangle_{\\mathrm{A}}\\otimes \\vert 1\\rangle_{\\mathrm{B}}=\\begin{bmatrix} 0 & 0 & 0 &1\\end{bmatrix}^T.\n",
    "$$"
   ]
  },
  {
   "cell_type": "markdown",
   "id": "1b9bbba8",
   "metadata": {},
   "source": [
    "These computational basis states define also the eigenstates of the non-interacting  Hamiltonian"
   ]
  },
  {
   "cell_type": "markdown",
   "id": "09a7981d",
   "metadata": {},
   "source": [
    "$$\n",
    "H_0\\vert 00 \\rangle = \\epsilon_{00}\\vert 00 \\rangle,\n",
    "$$"
   ]
  },
  {
   "cell_type": "markdown",
   "id": "5f89f93d",
   "metadata": {},
   "source": [
    "$$\n",
    "H_0\\vert 10 \\rangle = \\epsilon_{10}\\vert 10 \\rangle,\n",
    "$$"
   ]
  },
  {
   "cell_type": "markdown",
   "id": "044a8640",
   "metadata": {},
   "source": [
    "$$\n",
    "H_0\\vert 01 \\rangle = \\epsilon_{01}\\vert 01 \\rangle,\n",
    "$$"
   ]
  },
  {
   "cell_type": "markdown",
   "id": "c017dfe8",
   "metadata": {},
   "source": [
    "and"
   ]
  },
  {
   "cell_type": "markdown",
   "id": "340c85a7",
   "metadata": {},
   "source": [
    "$$\n",
    "H_0\\vert 11 \\rangle = \\epsilon_{11}\\vert 11 \\rangle.\n",
    "$$"
   ]
  },
  {
   "cell_type": "markdown",
   "id": "61dd609b",
   "metadata": {},
   "source": [
    "The interacting part of the Hamiltonian $H_{\\mathrm{I}}$ is given by the tensor product of two $\\sigma_x$ and $\\sigma_z$  matrices, respectively, that is"
   ]
  },
  {
   "cell_type": "markdown",
   "id": "12c8623f",
   "metadata": {},
   "source": [
    "$$\n",
    "H_{\\mathrm{I}}=H_x\\sigma_x\\otimes\\sigma_x+H_z\\sigma_z\\otimes\\sigma_z,\n",
    "$$"
   ]
  },
  {
   "cell_type": "markdown",
   "id": "420e91c3",
   "metadata": {},
   "source": [
    "where $H_x$ and $H_z$ are interaction strength parameters. Our final Hamiltonian matrix is given by"
   ]
  },
  {
   "cell_type": "markdown",
   "id": "cdbcb98d",
   "metadata": {},
   "source": [
    "$$\n",
    "\\boldsymbol{H}=\\begin{bmatrix} \\epsilon_{00}+H_z & 0 & 0 & H_x \\\\\n",
    "                       0  & \\epsilon_{10}-H_z & H_x & 0 \\\\\n",
    "\t\t       0 & H_x & \\epsilon_{01}+H_z & 0 \\\\\n",
    "\t\t       H_x & 0 & 0 & \\epsilon_{11} -H_z \\end{bmatrix}.\n",
    "$$"
   ]
  },
  {
   "cell_type": "markdown",
   "id": "2b7f4b02",
   "metadata": {},
   "source": [
    "The four eigenstates of the above Hamiltonian matrix can in turn be used to\n",
    "define density matrices. As an example, the density matrix of the\n",
    "first eigenstate (lowest energy $E_0$) $\\Psi_0$ is"
   ]
  },
  {
   "cell_type": "markdown",
   "id": "e9e1124a",
   "metadata": {},
   "source": [
    "$$\n",
    "\\rho_0=\\left(\\alpha_{00}\\vert 00 \\rangle\\langle 00\\vert+\\alpha_{10}\\vert 10 \\rangle\\langle 10\\vert+\\alpha_{01}\\vert 01 \\rangle\\langle 01\\vert+\\alpha_{11}\\vert 11 \\rangle\\langle 11\\vert\\right),\n",
    "$$"
   ]
  },
  {
   "cell_type": "markdown",
   "id": "ce95947a",
   "metadata": {},
   "source": [
    "where the coefficients $\\alpha_{ij}$ are the eigenvector coefficients\n",
    "resulting from the solution of the above eigenvalue problem.  We can\n",
    "then in turn define the density matrix for the subsets $A$ or $B$ as"
   ]
  },
  {
   "cell_type": "markdown",
   "id": "ecf2b2c7",
   "metadata": {},
   "source": [
    "$$\n",
    "\\rho_A=\\mathrm{Tr}_B(\\rho_{0})=\\langle 0 \\vert \\rho_{0} \\vert 0\\rangle_{B}+\\langle 1 \\vert \\rho_{0} \\vert 1\\rangle_{B},\n",
    "$$"
   ]
  },
  {
   "cell_type": "markdown",
   "id": "2656bd54",
   "metadata": {},
   "source": [
    "or"
   ]
  },
  {
   "cell_type": "markdown",
   "id": "57085422",
   "metadata": {},
   "source": [
    "$$\n",
    "\\rho_B=\\mathrm{Tr}_A(\\rho_{\\Psi_0})=\\langle 0 \\vert \\rho_{0} \\vert 0\\rangle_{A}+\\langle 1 \\vert \\rho_{0} \\vert 1\\rangle_{A}.\n",
    "$$"
   ]
  },
  {
   "cell_type": "markdown",
   "id": "dbf5c597",
   "metadata": {},
   "source": [
    "The density matrices for these subsets can be used to compute the\n",
    "so-called von Neumann entropy, which is one of the possible measures\n",
    "of entanglement. A pure state has entropy equal zero while entangled\n",
    "state have an entropy larger than zero. The von-Neumann entropy is\n",
    "defined as"
   ]
  },
  {
   "cell_type": "markdown",
   "id": "d2f589ef",
   "metadata": {},
   "source": [
    "$$\n",
    "S(A,B)=-\\mathrm{Tr}\\left(\\rho_{A,B}\\log_2 (\\rho_{A,B})\\right).\n",
    "$$"
   ]
  },
  {
   "cell_type": "markdown",
   "id": "4a2c4685",
   "metadata": {},
   "source": [
    "The example here shows the above von Neumann entropy based on the\n",
    "density matrix for the lowest many-body state. We see clearly a jump\n",
    "in the entropy around the point where we have a level crossing. At\n",
    "interaction strenght $\\lambda=0$ we have many-body states purely\n",
    "defined by their computational basis states. As we switch on the\n",
    "interaction strength, we obtain an increased degree of mixing and the\n",
    "entropy increases till we reach the level crossing point where we see\n",
    "an additional and sudden increase in entropy. Similar behaviors are\n",
    "observed for the other states. The most important result from this\n",
    "example is that entanglement is driven by the Hamiltonian itself and\n",
    "the strength of the interaction matrix elements and the\n",
    "non-interacting energies."
   ]
  },
  {
   "cell_type": "code",
   "execution_count": 2,
   "id": "44eb8e7f",
   "metadata": {},
   "outputs": [
    {
     "name": "stderr",
     "output_type": "stream",
     "text": [
      "/Users/mhjensen/miniforge3/envs/myenv/lib/python3.9/site-packages/scipy/linalg/_matfuncs_inv_ssq.py:827: LogmExactlySingularWarning: The logm input matrix is exactly singular.\n",
      "  warnings.warn(exact_singularity_msg, LogmExactlySingularWarning)\n"
     ]
    },
    {
     "data": {
      "image/png": "[encoded data removed]",
      "text/plain": [
       "<Figure size 640x480 with 1 Axes>"
      ]
     },
     "metadata": {},
     "output_type": "display_data"
    },
    {
     "data": {
      "text/plain": [
       "<function matplotlib.pyplot.show(close=None, block=None)>"
      ]
     },
     "execution_count": 2,
     "metadata": {},
     "output_type": "execute_result"
    },
    {
     "data": {
      "image/png": "[encoded data removed]",
      "text/plain": [
       "<Figure size 640x480 with 1 Axes>"
      ]
     },
     "metadata": {},
     "output_type": "display_data"
    }
   ],
   "source": [
    "%matplotlib inline\n",
    "from  matplotlib import pyplot as plt\n",
    "import numpy as np\n",
    "from scipy.linalg import logm, expm\n",
    "def log2M(a): # base 2 matrix logarithm\n",
    "    return logm(a)/np.log(2.0)\n",
    "\n",
    "dim = 4\n",
    "Hamiltonian = np.zeros((dim,dim))\n",
    "#number of lambda values\n",
    "n = 40\n",
    "lmbd = np.linspace(0.0,1.0,n)\n",
    "Hx = 2.0\n",
    "Hz = 3.0\n",
    "# Non-diagonal part as sigma_x tensor product with sigma_x\n",
    "sx = np.matrix([[0,1],[1,0]])\n",
    "sx2 = Hx*np.kron(sx, sx)\n",
    "# Diagonal part as sigma_z tensor product with sigma_z\n",
    "sz = np.matrix([[1,0],[0,-1]])\n",
    "sz2 = Hz*np.kron(sz, sz)\n",
    "noninteracting = [0.0, 2.5, 6.5, 7.0]\n",
    "D = np.diag(noninteracting)\n",
    "Eigenvalue = np.zeros((dim,n))\n",
    "Entropy = np.zeros(n)\n",
    "\n",
    "for i in range(n): \n",
    "    Hamiltonian = lmbd[i]*(sx2+sz2)+D\n",
    "    # diagonalize and obtain eigenvalues, not necessarily sorted\n",
    "    EigValues, EigVectors = np.linalg.eig(Hamiltonian)\n",
    "    # sort eigenvectors and eigenvalues\n",
    "    permute = EigValues.argsort()\n",
    "    EigValues = EigValues[permute]\n",
    "    EigVectors = EigVectors[:,permute]\n",
    "    # Compute density matrix for selected system state, here ground state\n",
    "    DensityMatrix = np.zeros((dim,dim))\n",
    "    DensityMatrix = np.outer(EigVectors[:,0],EigVectors[:,0])\n",
    "    # Project down on substates and find density matrix for subsystem\n",
    "    d = np.matrix([[1,0],[0,1]])\n",
    "    v1 = [1.0,0.0]\n",
    "    proj1 = np.kron(v1,d)\n",
    "    x1 = proj1 @ DensityMatrix @ proj1.T\n",
    "    v2 = [0.0,1.0]\n",
    "    proj2 = np.kron(v2,d)\n",
    "    x2 = proj2 @ DensityMatrix @ proj2.T\n",
    "    # Total density matrix for subsystem\n",
    "    total = x1+x2\n",
    "    # von Neumann Entropy for subsystem \n",
    "    Entropy[i] = -np.matrix.trace(total @ log2M(total))\n",
    "    # Plotting eigenvalues and entropy as functions of interaction strengths\n",
    "    Eigenvalue[0,i] = EigValues[0]\n",
    "    Eigenvalue[1,i] = EigValues[1]\n",
    "    Eigenvalue[2,i] = EigValues[2]\n",
    "    Eigenvalue[3,i] = EigValues[3]\n",
    "plt.plot(lmbd, Eigenvalue[0,:] ,'b-',lmbd, Eigenvalue[1,:],'g-',)\n",
    "plt.plot(lmbd, Eigenvalue[2,:] ,'r-',lmbd, Eigenvalue[3,:],'y-',)\n",
    "plt.xlabel('$\\lambda$')\n",
    "plt.ylabel('Eigenvalues')\n",
    "plt.show()\n",
    "plt.plot(lmbd, Entropy)\n",
    "plt.xlabel('$\\lambda$')\n",
    "plt.ylabel('Entropy')          \n",
    "plt.show"
   ]
  },
  {
   "cell_type": "markdown",
   "id": "344b8e3d",
   "metadata": {},
   "source": [
    "With these introductory examples, we are now in the position where we\n",
    "can start to interpret and model realistic interacting many-electron\n",
    "systems in terms of the strength of the Coulomb interaction and the\n",
    "shapes of the potential well. Our specific system is composed of two\n",
    "potential wells with one fermion (electrons in our case) trapped in\n",
    "each well.  Each potential well can sustain a certain number of bound\n",
    "single-particle states and defines our subsystems $A$ and $B$. The\n",
    "non-interacting part of the Hamiltonian is given by the mere addition\n",
    "of the single-particle energies from each repsective well (make figure\n",
    "with labels A and B and single-particle energies).\n",
    "\n",
    "The eigenstates of the non-interacting Hamiltonian $H_0$ are given by\n",
    "various computational basis states with the difference from the above\n",
    "simple models that now we have more than two states in each\n",
    "subsystem. The depths of the potential wells and their respective\n",
    "distances can be tuned in an experimental set up. The theoretical\n",
    "calculations presented here can thus serve as a tool which aids in\n",
    "finding the optimal parameters in order to study entanglement in a\n",
    "many-body environment.\n",
    "\n",
    "What follows is a description of the theoretical models used to\n",
    "simulate the two-electron system. More text to come."
   ]
  }
 ],
 "metadata": {
  "kernelspec": {
   "display_name": "Python 3 (ipykernel)",
   "language": "python",
   "name": "python3"
  },
  "language_info": {
   "codemirror_mode": {
    "name": "ipython",
    "version": 3
   },
   "file_extension": ".py",
   "mimetype": "text/x-python",
   "name": "python",
   "nbconvert_exporter": "python",
   "pygments_lexer": "ipython3",
   "version": "3.9.10"
  }
 },
 "nbformat": 4,
 "nbformat_minor": 5
}
