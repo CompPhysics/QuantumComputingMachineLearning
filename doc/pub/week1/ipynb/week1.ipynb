{
 "cells": [
  {
   "cell_type": "markdown",
   "id": "d52d739b",
   "metadata": {
    "editable": true
   },
   "source": [
    "<!-- HTML file automatically generated from DocOnce source (https://github.com/doconce/doconce/)\n",
    "doconce format html week1.do.txt --no_mako -->\n",
    "<!-- dom:TITLE: January 15-19: Quantum Computing, Quantum Machine Learning and Quantum Information Theories -->"
   ]
  },
  {
   "cell_type": "markdown",
   "id": "567a3963",
   "metadata": {
    "editable": true
   },
   "source": [
    "# January 15-19: Quantum Computing, Quantum Machine Learning and Quantum Information Theories\n",
    "**Morten Hjorth-Jensen**, Department of Physics and Center for Computing in Science Education, University of Oslo, Norway and Department of Physics and Astronomy and Facility for Rare Isotope Beams, Michigan State University, East Lansing, Michigan, USA\n",
    "\n",
    "Date: **Jan 17, 2024**\n",
    "\n",
    "Copyright 1999-2024, Morten Hjorth-Jensen. Released under CC Attribution-NonCommercial 4.0 license"
   ]
  },
  {
   "cell_type": "markdown",
   "id": "9d3d19d8",
   "metadata": {
    "editable": true
   },
   "source": [
    "## Overview of first week, Basic Notions of Quantum Mechanics\n",
    "\n",
    "**Linear Algebra reminders, Hilbert Spaces, operators on Hilbert spaces, states, qubits and other definitions.**\n",
    "\n",
    "1. Mathematical notation, Hilbert spaces and operators\n",
    "\n",
    "2. Description of quantum systems and one-qubit systems \n",
    "\n",
    "3. States in Hilbert space, pure and mixed states\n",
    "\n",
    "4. Operators and simple gates\n",
    "\n",
    "**Reading recommendation**: [Scherer, Mathematics of Quantum Computations, chapter 2](https://link.springer.com/book/10.1007/978-3-030-12358-1)"
   ]
  },
  {
   "cell_type": "markdown",
   "id": "ea6fc47f",
   "metadata": {
    "editable": true
   },
   "source": [
    "## Practicalities\n",
    "\n",
    "1. Although the course is defined as a self-study course, we will  have weekly lectures with small weekly exercise assignments\n",
    "\n",
    "2. We plan to work on two projects which will define the content of the course, the format can be agreed upon by the participants but the following topics can be included\n",
    "\n",
    " * Quantum computing and simulation of quantum mechanical model systenms\n",
    "\n",
    " * Continuation of the first topic to more realistic systems or applications of quantum machine learning algorithms\n",
    "\n",
    "3. Two project which count $50\\%$ each for the final grade\n",
    "\n",
    "4. Deadline first project March 22\n",
    "\n",
    "5. Deadline second project June 1\n",
    "\n",
    "6. All info at the GitHub address <https://github.com/CompPhysics/QuantumComputingMachineLearning>"
   ]
  },
  {
   "cell_type": "markdown",
   "id": "cfdf313a",
   "metadata": {
    "editable": true
   },
   "source": [
    "## Notations and definitions\n",
    "\n",
    "Vectors, matrices and higher-order tensors are always boldfaced, with vectors\n",
    "given by lower case letter letters and matrices and higher-order tensors given by upper case letters.\n",
    "\n",
    "Unless otherwise stated, the elements $v_i$ of a vector $\\boldsymbol{v}$ are assumed to be real. That is a vector of length $n$ is defined as\n",
    "$\\boldsymbol{x}\\in \\mathbb{R}^{n}$ and if we have a complex vector we have $\\boldsymbol{x}\\in \\mathbb{C}^{n}$.\n",
    "\n",
    "For a matrix of dimension $n\\times n$ we have \n",
    "$\\boldsymbol{A}\\in \\mathbb{R}^{n\\times n}$ and the first matrix element starts with row element (row-wise ordering) zero and column element zero."
   ]
  },
  {
   "cell_type": "markdown",
   "id": "0714d9e8",
   "metadata": {
    "editable": true
   },
   "source": [
    "## Some  mathematical notations\n",
    "1. For all/any  $\\forall$\n",
    "\n",
    "2. Implies $\\implies$\n",
    "\n",
    "3. Equivalent $\\equiv$\n",
    "\n",
    "4. Real variable $\\mathbb{R}$\n",
    "\n",
    "5. Integer variable $\\mathbb{I}$\n",
    "\n",
    "6. Complex  variable $\\mathbb{C}$"
   ]
  },
  {
   "cell_type": "markdown",
   "id": "a1bc8856",
   "metadata": {
    "editable": true
   },
   "source": [
    "## Vectors\n",
    "\n",
    "We start by defining a vector $\\boldsymbol{x}$  with $n$ components, with $x_0$ as our first element, as"
   ]
  },
  {
   "cell_type": "markdown",
   "id": "2a3f7d6f",
   "metadata": {
    "editable": true
   },
   "source": [
    "$$\n",
    "\\boldsymbol{x} = \\begin{bmatrix} x_0\\\\ x_1 \\\\ x_2 \\\\ \\dots \\\\ \\dots \\\\ x_{n-1} \\end{bmatrix}.\n",
    "$$"
   ]
  },
  {
   "cell_type": "markdown",
   "id": "afa29a73",
   "metadata": {
    "editable": true
   },
   "source": [
    "and its transpose"
   ]
  },
  {
   "cell_type": "markdown",
   "id": "3b191fd2",
   "metadata": {
    "editable": true
   },
   "source": [
    "$$\n",
    "\\boldsymbol{x}^{T} = \\begin{bmatrix} x_0 & x_1 & x_2 & \\dots & \\dots & x_{n-1} \\end{bmatrix},\n",
    "$$"
   ]
  },
  {
   "cell_type": "markdown",
   "id": "211fabe7",
   "metadata": {
    "editable": true
   },
   "source": [
    "In case we have a complex vector we define the hermitian conjugate"
   ]
  },
  {
   "cell_type": "markdown",
   "id": "a761975f",
   "metadata": {
    "editable": true
   },
   "source": [
    "$$\n",
    "\\boldsymbol{x}^{\\dagger} = \\begin{bmatrix} x_0^* & x_1^* & x_2^* & \\dots & \\dots & x_{n-1}^* \\end{bmatrix},\n",
    "$$"
   ]
  },
  {
   "cell_type": "markdown",
   "id": "31e3477a",
   "metadata": {
    "editable": true
   },
   "source": [
    "With a given vector $\\boldsymbol{x}$, we define the inner product as"
   ]
  },
  {
   "cell_type": "markdown",
   "id": "515d3b58",
   "metadata": {
    "editable": true
   },
   "source": [
    "$$\n",
    "\\boldsymbol{x}^T \\boldsymbol{x} = \\sum_{i=0}^{n-1} x_ix_i=x_0^2+x_1^2+\\dots + x_{n-1}^2.\n",
    "$$"
   ]
  },
  {
   "cell_type": "markdown",
   "id": "21d0079e",
   "metadata": {
    "editable": true
   },
   "source": [
    "## Hermitian conjugate\n",
    "\n",
    "The hermitian conjugate of a matrix is obtained by taking the complex\n",
    "conjugate of each element and then taking the transpose of the\n",
    "resulting matrix. Often we will just say the transpose or just the\n",
    "conjugate, it should be clear from the context that we will mainly\n",
    "deal with hermitian quantities and our matrices will in most cases be square matrices.\n",
    "\n",
    "Unitarity, as we will see below, plays also a central role in this course."
   ]
  },
  {
   "cell_type": "markdown",
   "id": "944bd96d",
   "metadata": {
    "editable": true
   },
   "source": [
    "## Outer products\n",
    "\n",
    "In addition to inner products between vectors/states, the outer\n",
    "product plays a central role in many applications. It is\n",
    "defined as"
   ]
  },
  {
   "cell_type": "markdown",
   "id": "98d34551",
   "metadata": {
    "editable": true
   },
   "source": [
    "$$\n",
    "\\boldsymbol{x}\\boldsymbol{y}^T = \\begin{bmatrix}\n",
    "               x_0y_0 & x_0y_1 & x_0y_2 & \\dots & \\dots & x_0y_{n-2} & x_0y_{n-1} \\\\\n",
    "\t       x_1y_0 & x_1y_1 & x_1y_2 & \\dots & \\dots & x_1y_{n-2} & x_1y_{n-1} \\\\\n",
    "\t       x_2y_0 & x_2y_1 & x_2y_2 & \\dots & \\dots & x_2y_{n-2} & x_2y_{n-1} \\\\\t       \n",
    "               \\dots &   \\dots   & \\dots  & \\dots & \\dots & \\dots & \\dots \\\\\n",
    "               \\dots &   \\dots   & \\dots  & \\dots & \\dots & \\dots & \\dots \\\\\t       \n",
    "\t       x_{n-2}y_0 & x_{n-2}y_1 & x_{n-2}y_2 & \\dots & \\dots & x_{n-2}y_{n-2} & x_{n-2}y_{n-1} \\\\\n",
    "\t       x_{n-1}y_0 & x_{n-1}y_1 & x_{n-1}y_2 & \\dots & \\dots & x_{n-1}y_{n-2} & x_{n-1}y_{n-1} \\end{bmatrix}\n",
    "$$"
   ]
  },
  {
   "cell_type": "markdown",
   "id": "74d43c7d",
   "metadata": {
    "editable": true
   },
   "source": [
    "The latter defines also our basic matrix layout."
   ]
  },
  {
   "cell_type": "markdown",
   "id": "1f8835da",
   "metadata": {
    "editable": true
   },
   "source": [
    "## Basic Matrix Features\n",
    "\n",
    "A general $n\\times n$ matrix is given by"
   ]
  },
  {
   "cell_type": "markdown",
   "id": "8fb31c67",
   "metadata": {
    "editable": true
   },
   "source": [
    "$$\n",
    "\\boldsymbol{A} =\n",
    "\\begin{bmatrix}\n",
    "               a_{00} & a_{01} & a_{02} & \\dots & \\dots & a_{0n-2} & a_{0n-1} \\\\\n",
    "               a_{10} & a_{11} & a_{12} & \\dots & \\dots & a_{1n-2} & a_{1n-1} \\\\\n",
    "               \\dots &   \\dots   & \\dots  & \\dots & \\dots & \\dots & \\dots \\\\\n",
    "               \\dots &   \\dots   & \\dots  & \\dots & \\dots & \\dots & \\dots \\\\\t       \n",
    "               a_{n-20} & a_{n-21} & a_{n-22} & \\dots & \\dots & a_{n-2n-2} & a_{n-2n-1} \\\\\n",
    "               a_{n-10} & a_{n-11} & a_{n-12} & \\dots & \\dots & a_{n-1n-2} & a_{n-1n-1} \\end{bmatrix},\n",
    "$$"
   ]
  },
  {
   "cell_type": "markdown",
   "id": "2e9309ab",
   "metadata": {
    "editable": true
   },
   "source": [
    "or in terms of its column vectors $\\boldsymbol{a}_i$ as"
   ]
  },
  {
   "cell_type": "markdown",
   "id": "41d91535",
   "metadata": {
    "editable": true
   },
   "source": [
    "$$\n",
    "\\boldsymbol{A} =\n",
    "\\begin{bmatrix}\\boldsymbol{a}_{0} & \\boldsymbol{a}_{1} & \\boldsymbol{a}_{2} & \\dots & \\dots & \\boldsymbol{a}_{n-2} & \\boldsymbol{a}_{n-1}\\end{bmatrix}.\n",
    "$$"
   ]
  },
  {
   "cell_type": "markdown",
   "id": "cf528e0f",
   "metadata": {
    "editable": true
   },
   "source": [
    "We can think of a matrix as a diagram of in general $n$ rowns and $m$ columns. In the example here we have a square matrix."
   ]
  },
  {
   "cell_type": "markdown",
   "id": "ba226b8b",
   "metadata": {
    "editable": true
   },
   "source": [
    "## The inverse of a matrix\n",
    "The inverse of a square matrix (if it exists) is defined by"
   ]
  },
  {
   "cell_type": "markdown",
   "id": "1401ef7f",
   "metadata": {
    "editable": true
   },
   "source": [
    "$$\n",
    "\\boldsymbol{A}^{-1} \\cdot \\boldsymbol{A} = I,\n",
    "$$"
   ]
  },
  {
   "cell_type": "markdown",
   "id": "e7eaa676",
   "metadata": {
    "editable": true
   },
   "source": [
    "where $\\boldsymbol{I}$ is the unit matrix."
   ]
  },
  {
   "cell_type": "markdown",
   "id": "e8f91bab",
   "metadata": {
    "editable": true
   },
   "source": [
    "## Selected Matrix Features\n",
    "\n",
    "<table class=\"dotable\" border=\"1\">\n",
    "<thead>\n",
    "<tr><th align=\"center\">                           Relations                            </th> <th align=\"center\">      Name     </th> <th align=\"center\">                            matrix elements                            </th> </tr>\n",
    "</thead>\n",
    "<tbody>\n",
    "<tr><td align=\"center\">   $\\boldsymbol{A} = \\boldsymbol{A}^{T}$                               </td> <td align=\"center\">   symmetric          </td> <td align=\"center\">   $a_{ij} = a_{ji}$                                                          </td> </tr>\n",
    "<tr><td align=\"center\">   $\\boldsymbol{A} = \\left (\\boldsymbol{A}^{T} \\right )^{-1}$          </td> <td align=\"center\">   real orthogonal    </td> <td align=\"center\">   $\\sum_k a_{ik} a_{jk} = \\sum_k a_{ki} a_{kj} = \\delta_{ij}$                </td> </tr>\n",
    "<tr><td align=\"center\">   $\\boldsymbol{A} = \\boldsymbol{A}^{ * }$                             </td> <td align=\"center\">   real matrix        </td> <td align=\"center\">   $a_{ij} = a_{ij}^{ * }$                                                    </td> </tr>\n",
    "<tr><td align=\"center\">   $\\boldsymbol{A} = \\boldsymbol{A}^{\\dagger}$                         </td> <td align=\"center\">   hermitian          </td> <td align=\"center\">   $a_{ij} = a_{ji}^{ * }$                                                    </td> </tr>\n",
    "<tr><td align=\"center\">   $\\boldsymbol{A} = \\left (\\boldsymbol{A}^{\\dagger} \\right )^{-1}$    </td> <td align=\"center\">   unitary            </td> <td align=\"center\">   $\\sum_k a_{ik} a_{jk}^{ * } = \\sum_k a_{ki}^{ * } a_{kj} = \\delta_{ij}$    </td> </tr>\n",
    "</tbody>\n",
    "</table>"
   ]
  },
  {
   "cell_type": "markdown",
   "id": "2e148c70",
   "metadata": {
    "editable": true
   },
   "source": [
    "## Some famous Matrices\n",
    "\n",
    "  * Diagonal if $a_{ij}=0$ for $i\\ne j$\n",
    "\n",
    "  * Upper triangular if $a_{ij}=0$ for $i > j$\n",
    "\n",
    "  * Lower triangular if $a_{ij}=0$ for $i < j$\n",
    "\n",
    "  * Upper Hessenberg if $a_{ij}=0$ for $i > j+1$\n",
    "\n",
    "  * Lower Hessenberg if $a_{ij}=0$ for $i < j+1$\n",
    "\n",
    "  * Tridiagonal if $a_{ij}=0$ for $|i -j| > 1$\n",
    "\n",
    "  * Lower banded with bandwidth $p$: $a_{ij}=0$ for $i > j+p$\n",
    "\n",
    "  * Upper banded with bandwidth $p$: $a_{ij}=0$ for $i < j+p$\n",
    "\n",
    "  * Banded, block upper triangular, block lower triangular...."
   ]
  },
  {
   "cell_type": "markdown",
   "id": "328fc221",
   "metadata": {
    "editable": true
   },
   "source": [
    "## Matrix Features\n",
    "\n",
    "**Some equivalent statements for square matrices.**\n",
    "\n",
    "For an $n\\times n$ matrix  $\\boldsymbol{A}$ the following properties are all equivalent\n",
    "\n",
    "  * If the inverse of $\\boldsymbol{A}$ exists, $\\boldsymbol{A}$ is nonsingular.\n",
    "\n",
    "  * The equation $\\boldsymbol{Ax}=0$ implies $\\boldsymbol{x}=0$.\n",
    "\n",
    "  * The rows of $\\boldsymbol{A}$ form a basis of $\\mathbb{C}^{n}$.\n",
    "\n",
    "  * The columns of $\\boldsymbol{A}$ form a basis of $\\mathbb{C}^{n}$.\n",
    "\n",
    "  * $\\boldsymbol{A}$ is a product of elementary matrices. Can you name one example?\n",
    "\n",
    "  * $0$ is not an eigenvalue of $\\boldsymbol{A}$."
   ]
  },
  {
   "cell_type": "markdown",
   "id": "4a371aa4",
   "metadata": {
    "editable": true
   },
   "source": [
    "## Important Mathematical Operations\n",
    "\n",
    "The basic matrix operations that we will deal with are addition and subtraction"
   ]
  },
  {
   "cell_type": "markdown",
   "id": "9e9f66a1",
   "metadata": {
    "editable": true
   },
   "source": [
    "$$\n",
    "\\boldsymbol{A}= \\boldsymbol{B}\\pm\\boldsymbol{C}  \\Longrightarrow a_{ij} = b_{ij}\\pm c_{ij},\n",
    "$$"
   ]
  },
  {
   "cell_type": "markdown",
   "id": "393d6d35",
   "metadata": {
    "editable": true
   },
   "source": [
    "and scalar-matrix multiplication"
   ]
  },
  {
   "cell_type": "markdown",
   "id": "4c4bf061",
   "metadata": {
    "editable": true
   },
   "source": [
    "$$\n",
    "\\boldsymbol{A}= \\gamma\\boldsymbol{B}  \\Longrightarrow a_{ij} = \\gamma b_{ij}.\n",
    "$$"
   ]
  },
  {
   "cell_type": "markdown",
   "id": "319399ae",
   "metadata": {
    "editable": true
   },
   "source": [
    "## Vector-matrix and Matrix-matrix multiplication\n",
    "\n",
    "We have also vector-matrix multiplications"
   ]
  },
  {
   "cell_type": "markdown",
   "id": "55017a45",
   "metadata": {
    "editable": true
   },
   "source": [
    "$$\n",
    "\\boldsymbol{y}=\\boldsymbol{Ax}   \\Longrightarrow y_{i} = \\sum_{j=0}^{n-1} a_{ij}x_j,\n",
    "$$"
   ]
  },
  {
   "cell_type": "markdown",
   "id": "d6a754d2",
   "metadata": {
    "editable": true
   },
   "source": [
    "and matrix-matrix multiplications"
   ]
  },
  {
   "cell_type": "markdown",
   "id": "4b3e7e38",
   "metadata": {
    "editable": true
   },
   "source": [
    "$$\n",
    "\\boldsymbol{A}=\\boldsymbol{BC}   \\Longrightarrow a_{ij} = \\sum_{k=0}^{n-1} b_{ik}c_{kj},\n",
    "$$"
   ]
  },
  {
   "cell_type": "markdown",
   "id": "2cfa8afd",
   "metadata": {
    "editable": true
   },
   "source": [
    "and transpositions of a matrix"
   ]
  },
  {
   "cell_type": "markdown",
   "id": "09063a25",
   "metadata": {
    "editable": true
   },
   "source": [
    "$$\n",
    "\\boldsymbol{A}=\\boldsymbol{B}^T   \\Longrightarrow a_{ij} = b_{ji}.\n",
    "$$"
   ]
  },
  {
   "cell_type": "markdown",
   "id": "413a7f0d",
   "metadata": {
    "editable": true
   },
   "source": [
    "## Important Mathematical Operations\n",
    "\n",
    "Similarly, important vector operations that we will deal with are addition and subtraction"
   ]
  },
  {
   "cell_type": "markdown",
   "id": "f83e3eff",
   "metadata": {
    "editable": true
   },
   "source": [
    "$$\n",
    "\\boldsymbol{x}= \\boldsymbol{y}\\pm\\boldsymbol{z}  \\Longrightarrow x_{i} = y_{i}\\pm z_{i},\n",
    "$$"
   ]
  },
  {
   "cell_type": "markdown",
   "id": "41406b43",
   "metadata": {
    "editable": true
   },
   "source": [
    "scalar-vector multiplication"
   ]
  },
  {
   "cell_type": "markdown",
   "id": "ddde7737",
   "metadata": {
    "editable": true
   },
   "source": [
    "$$\n",
    "\\boldsymbol{x}= \\gamma\\boldsymbol{y}  \\Longrightarrow x_{i} = \\gamma y_{i},\n",
    "$$"
   ]
  },
  {
   "cell_type": "markdown",
   "id": "7dc25814",
   "metadata": {
    "editable": true
   },
   "source": [
    "## Other important mathematical operations\n",
    "and vector-vector multiplication (called Hadamard multiplication)"
   ]
  },
  {
   "cell_type": "markdown",
   "id": "191d2f15",
   "metadata": {
    "editable": true
   },
   "source": [
    "$$\n",
    "\\boldsymbol{x}=\\boldsymbol{yz}   \\Longrightarrow x_{i} = y_{i}z_i.\n",
    "$$"
   ]
  },
  {
   "cell_type": "markdown",
   "id": "f4fde671",
   "metadata": {
    "editable": true
   },
   "source": [
    "Finally, as already metnioned, the inner or so-called dot product  resulting in a constant"
   ]
  },
  {
   "cell_type": "markdown",
   "id": "3a23c136",
   "metadata": {
    "editable": true
   },
   "source": [
    "$$\n",
    "x=\\boldsymbol{y}^T\\boldsymbol{z}   \\Longrightarrow x = \\sum_{j=0}^{n-1} y_{j}z_{j},\n",
    "$$"
   ]
  },
  {
   "cell_type": "markdown",
   "id": "61801bcc",
   "metadata": {
    "editable": true
   },
   "source": [
    "and the outer product, which yields a matrix,"
   ]
  },
  {
   "cell_type": "markdown",
   "id": "4f6ec8f1",
   "metadata": {
    "editable": true
   },
   "source": [
    "$$\n",
    "\\boldsymbol{A}=  \\boldsymbol{y}\\boldsymbol{z}^T \\Longrightarrow  a_{ij} = y_{i}z_{j},\n",
    "$$"
   ]
  },
  {
   "cell_type": "markdown",
   "id": "38bd81b4",
   "metadata": {
    "editable": true
   },
   "source": [
    "## Defining basis states and quantum mechanical operators\n",
    "\n",
    "We extend now to quantum mechanics our definitions of vectors, matrices and more.\n",
    "\n",
    "We start by defining a state vector $\\boldsymbol{x}$ (meant to represent\n",
    "various quantum mechanical degrees of freedom) with $n$ components as"
   ]
  },
  {
   "cell_type": "markdown",
   "id": "c24f93d8",
   "metadata": {
    "editable": true
   },
   "source": [
    "$$\n",
    "\\boldsymbol{x} = \\begin{bmatrix} x_0\\\\ x_1 \\\\ x_2 \\\\ \\dots \\\\ \\dots \\\\ x_{n-1} \\end{bmatrix}.\n",
    "$$"
   ]
  },
  {
   "cell_type": "markdown",
   "id": "f060e06d",
   "metadata": {
    "editable": true
   },
   "source": [
    "## Dirac notation\n",
    "\n",
    "Throughout these notes we will use the so-called Dirac **bra-ket**\n",
    "formalism and we will replace the above standard boldfaced notation\n",
    "for a vector with"
   ]
  },
  {
   "cell_type": "markdown",
   "id": "7605393f",
   "metadata": {
    "editable": true
   },
   "source": [
    "$$\n",
    "\\boldsymbol{x} = \\vert x \\rangle = \\begin{bmatrix} x_0\\\\ x_1 \\\\ x_2 \\\\ \\dots \\\\ \\dots \\\\ x_{n-1} \\end{bmatrix},\n",
    "$$"
   ]
  },
  {
   "cell_type": "markdown",
   "id": "a4ac0bae",
   "metadata": {
    "editable": true
   },
   "source": [
    "and"
   ]
  },
  {
   "cell_type": "markdown",
   "id": "6f2cee1f",
   "metadata": {
    "editable": true
   },
   "source": [
    "$$\n",
    "\\boldsymbol{x}^{\\dagger} = \\langle x \\vert = \\begin{bmatrix} x_0^* & x_1^* & x_2^* & \\dots & \\dots & x_{n-1}^* \\end{bmatrix},\n",
    "$$"
   ]
  },
  {
   "cell_type": "markdown",
   "id": "7de24ec0",
   "metadata": {
    "editable": true
   },
   "source": [
    "## Inner product in Dirac notation\n",
    "\n",
    "With a given vector $\\vert x \\rangle$, we define the inner product as"
   ]
  },
  {
   "cell_type": "markdown",
   "id": "92ec2add",
   "metadata": {
    "editable": true
   },
   "source": [
    "$$\n",
    "\\langle x \\vert x\\rangle = \\sum_{i=0}^{n-1} x_i^*x_i=x_0^2+x_1^2+\\dots + x_{n-1}^2.\n",
    "$$"
   ]
  },
  {
   "cell_type": "markdown",
   "id": "65d39ebf",
   "metadata": {
    "editable": true
   },
   "source": [
    "For two arbitrary vectors $\\vert x\\rangle$ and $\\vert y\\rangle$ with the same lentgh, we have the\n",
    "general expression"
   ]
  },
  {
   "cell_type": "markdown",
   "id": "dc4c7948",
   "metadata": {
    "editable": true
   },
   "source": [
    "$$\n",
    "\\langle y \\vert x\\rangle = \\sum_{i=0}^{n-1} y_i^*x_i=y_0^*x_0+y_1^*x_1+\\dots + y_{n-1}^*x_{n-1}.\n",
    "$$"
   ]
  },
  {
   "cell_type": "markdown",
   "id": "97689323",
   "metadata": {
    "editable": true
   },
   "source": [
    "## The inner product is a real number\n",
    "\n",
    "Note well that the inner product $\\langle x \\vert x\\rangle$ is always a real number while for a two different vectors $\\langle y \\vert x\\rangle$ is in general not equal to\n",
    "$\\langle x \\vert y\\rangle$, as can be seen from the example in the next slide.\n",
    "\n",
    "We note in bypassing that $\\vert x\\rangle^{\\dagger}=\\langle x \\vert$,\n",
    "$\\langle x\\vert^{\\dagger}=\\vert x\\rangle$ and $(\\vert\n",
    "x\\rangle^{\\dagger})^{\\dagger}=\\vert x \\rangle$."
   ]
  },
  {
   "cell_type": "markdown",
   "id": "f88bdaaf",
   "metadata": {
    "editable": true
   },
   "source": [
    "## Examples\n",
    "\n",
    "Let us assume that $\\vert x \\rangle$ is given by"
   ]
  },
  {
   "cell_type": "markdown",
   "id": "94bf5e8b",
   "metadata": {
    "editable": true
   },
   "source": [
    "$$\n",
    "\\vert x \\rangle = \\begin{bmatrix} 1-\\imath \\\\ 2+\\imath \\end{bmatrix}.\n",
    "$$"
   ]
  },
  {
   "cell_type": "markdown",
   "id": "9ac32032",
   "metadata": {
    "editable": true
   },
   "source": [
    "The inner product gives us"
   ]
  },
  {
   "cell_type": "markdown",
   "id": "8b04491e",
   "metadata": {
    "editable": true
   },
   "source": [
    "$$\n",
    "\\langle x\\vert x \\rangle = (1+\\imath)(1-\\imath)+(2-\\imath)(2+\\imath)=7,\n",
    "$$"
   ]
  },
  {
   "cell_type": "markdown",
   "id": "b5e6ed00",
   "metadata": {
    "editable": true
   },
   "source": [
    "a real number."
   ]
  },
  {
   "cell_type": "markdown",
   "id": "23391cc9",
   "metadata": {
    "editable": true
   },
   "source": [
    "## Norm\n",
    "We can use the norm/inner product to normalize the vector $\\vert x \\rangle$ and obtain"
   ]
  },
  {
   "cell_type": "markdown",
   "id": "56908e14",
   "metadata": {
    "editable": true
   },
   "source": [
    "$$\n",
    "\\vert x \\rangle = \\frac{1}{\\sqrt{7}}\\begin{bmatrix} 1-\\imath \\\\ 2+\\imath \\end{bmatrix}.\n",
    "$$"
   ]
  },
  {
   "cell_type": "markdown",
   "id": "8af74cf6",
   "metadata": {
    "editable": true
   },
   "source": [
    "As another example, consider the two vectors"
   ]
  },
  {
   "cell_type": "markdown",
   "id": "def25198",
   "metadata": {
    "editable": true
   },
   "source": [
    "$$\n",
    "\\vert x \\rangle = \\begin{bmatrix} -1 \\\\ 2\\imath \\\\ 1\\end{bmatrix},\n",
    "$$"
   ]
  },
  {
   "cell_type": "markdown",
   "id": "a605f1ac",
   "metadata": {
    "editable": true
   },
   "source": [
    "and"
   ]
  },
  {
   "cell_type": "markdown",
   "id": "da4d595b",
   "metadata": {
    "editable": true
   },
   "source": [
    "$$\n",
    "\\vert y \\rangle = \\begin{bmatrix} 1 \\\\ 0\\imath \\\\ \\imath\\end{bmatrix}.\n",
    "$$"
   ]
  },
  {
   "cell_type": "markdown",
   "id": "019793d9",
   "metadata": {
    "editable": true
   },
   "source": [
    "We see that the inner products $\\langle x\\vert y \\rangle = -1+\\imath$, which is not the same as\n",
    "$\\langle y\\vert x \\rangle = -1-\\imath$. This leads to the important rule"
   ]
  },
  {
   "cell_type": "markdown",
   "id": "9837eb7c",
   "metadata": {
    "editable": true
   },
   "source": [
    "$$\n",
    "\\langle x\\vert y\\rangle^* = \\langle y \\vert x\\rangle.\n",
    "$$"
   ]
  },
  {
   "cell_type": "markdown",
   "id": "a990b35b",
   "metadata": {
    "editable": true
   },
   "source": [
    "## Outer products\n",
    "\n",
    "In addition to inner products between vectors/states, the outer\n",
    "product plays a central role in all of quantum mechanics. It is\n",
    "defined as"
   ]
  },
  {
   "cell_type": "markdown",
   "id": "818a8bba",
   "metadata": {
    "editable": true
   },
   "source": [
    "$$\n",
    "\\vert x\\rangle \\langle y \\vert = \\begin{bmatrix}\n",
    "               x_0y_0^* & x_0y_1^* & x_0y_2^* & \\dots & \\dots & x_0y_{n-2}^* & x_0y_{n-1}^* \\\\\n",
    "\t       x_1y_0^* & x_1y_1^* & x_1y_2^* & \\dots & \\dots & x_1y_{n-2}^* & x_1y_{n-1}^* \\\\\n",
    "\t       x_2y_0^* & x_2y_1^* & x_2y_2^* & \\dots & \\dots & x_2y_{n-2}^* & x_2y_{n-1}^* \\\\\t       \n",
    "               \\dots &   \\dots   & \\dots  & \\dots & \\dots & \\dots & \\dots \\\\\n",
    "               \\dots &   \\dots   & \\dots  & \\dots & \\dots & \\dots & \\dots \\\\\t       \n",
    "\t       x_{n-2}y_0^* & x_{n-2}y_1^* & x_{n-2}y_2^* & \\dots & \\dots & x_{n-2}y_{n-2}^* & x_{n-2}y_{n-1}^* \\\\\n",
    "\t       x_{n-1}y_0^* & x_{n-1}y_1^* & x_{n-1}y_2^* & \\dots & \\dots & x_{n-1}y_{n-2}^* & x_{n-1}y_{n-1}^* \\end{bmatrix}\n",
    "$$"
   ]
  },
  {
   "cell_type": "markdown",
   "id": "9859148c",
   "metadata": {
    "editable": true
   },
   "source": [
    "## Different operators and gates\n",
    "\n",
    "In quantum computing, the so-called Pauli matrices, and other simple\n",
    "$2\\times 2$ matrices, play an important role, ranging from the setup\n",
    "of quantum gates to a rewrite of creation and annihilation operators\n",
    "and other quantum mechanical operators. Let us start with the familiar\n",
    "Pauli matrices and remind ourselves of some of their basic properties.\n",
    "\n",
    "The Pauli matrices are defined as"
   ]
  },
  {
   "cell_type": "markdown",
   "id": "17560e92",
   "metadata": {
    "editable": true
   },
   "source": [
    "$$\n",
    "\\sigma_x = \\begin{bmatrix} 0 & 1 \\\\ 1 & 0 \\end{bmatrix},\n",
    "$$"
   ]
  },
  {
   "cell_type": "markdown",
   "id": "cb65a9f7",
   "metadata": {
    "editable": true
   },
   "source": [
    "$$\n",
    "\\sigma_y = \\begin{bmatrix} 0 & -\\imath \\\\ \\imath & 0 \\end{bmatrix},\n",
    "$$"
   ]
  },
  {
   "cell_type": "markdown",
   "id": "3abcc40a",
   "metadata": {
    "editable": true
   },
   "source": [
    "and"
   ]
  },
  {
   "cell_type": "markdown",
   "id": "b8cd63ed",
   "metadata": {
    "editable": true
   },
   "source": [
    "$$\n",
    "\\sigma_z = \\begin{bmatrix} 1 & 0 \\\\ 0 & -1 \\end{bmatrix}.\n",
    "$$"
   ]
  },
  {
   "cell_type": "markdown",
   "id": "8beb0139",
   "metadata": {
    "editable": true
   },
   "source": [
    "## Properties of Pauli matrices\n",
    "\n",
    "It is easy to show that the matrices obey the properties (being involutory)"
   ]
  },
  {
   "cell_type": "markdown",
   "id": "7adc30ce",
   "metadata": {
    "editable": true
   },
   "source": [
    "$$\n",
    "\\sigma_x\\sigma_x = \\sigma_y\\sigma_y=\\sigma_z\\sigma_z = I=\\begin{bmatrix} 1 & 0 \\\\ 0 & 1\\end{bmatrix},\n",
    "$$"
   ]
  },
  {
   "cell_type": "markdown",
   "id": "ccf78719",
   "metadata": {
    "editable": true
   },
   "source": [
    "that is their products with themselves result in the identity matrix\n",
    "$\\boldsymbol{I}$.  Furthermore, the Pauli matrices are unitary matrices\n",
    "meaning that their inverses are equal to their hermitian conjugated\n",
    "matrices. The determinants of the Pauli matrices are all equal to $-1$,\n",
    "as can be easily verified."
   ]
  },
  {
   "cell_type": "markdown",
   "id": "58c41979",
   "metadata": {
    "editable": true
   },
   "source": [
    "## Commutation relations\n",
    "\n",
    "The Pauli matrices obey also the following commutation rules"
   ]
  },
  {
   "cell_type": "markdown",
   "id": "f861f8d4",
   "metadata": {
    "editable": true
   },
   "source": [
    "$$\n",
    "\\left[\\sigma_x,\\sigma_y\\right] = 2\\imath \\sigma_z.\n",
    "$$"
   ]
  },
  {
   "cell_type": "markdown",
   "id": "b9c51716",
   "metadata": {
    "editable": true
   },
   "source": [
    "Before we proceed with other matrices and how they can be used to\n",
    "operate on various quantum mechanical states, let us try to define\n",
    "various basis sets and their pertinent notations. We will often refer\n",
    "to these basis states as our computational basis."
   ]
  },
  {
   "cell_type": "markdown",
   "id": "1327f9d1",
   "metadata": {
    "editable": true
   },
   "source": [
    "## Definition of Computational basis states\n",
    "\n",
    "<!-- to do: make figures with examples of basis states, hydrogen like systems, harmonic oscillator -->\n",
    "Assume we have a two-level system where the two states are represented\n",
    "by the state vectors $\\vert \\phi_0\\rangle$ and $\\vert \\phi_1\\rangle$,\n",
    "respectively. These states could represent selected or effective\n",
    "degrees of freedom for either a single particle (fermion or boson) or\n",
    "they could represent effective many-body degrees of freedon. In actual\n",
    "realizations of quantum computing we search often for candidate\n",
    "systems where we can use some low-lying states as computational basis\n",
    "states. But we are not limited to quantum computing. When doing\n",
    "many-body physics, due to the exploding degrees of freedom, we\n",
    "normally search after effective ways by which we can reduce the\n",
    "involved dimensionalities to a number of degrees of freedom we can\n",
    "handle by a given many-body method.\n",
    "\n",
    "**See handwritten notes January 17, link to be added after lectures**"
   ]
  },
  {
   "cell_type": "markdown",
   "id": "eadff1d5",
   "metadata": {
    "editable": true
   },
   "source": [
    "## Projection operators\n",
    "\n",
    "We will now relabel the above two states as two orthogonal and normalized basis (ONB) states"
   ]
  },
  {
   "cell_type": "markdown",
   "id": "257acdf0",
   "metadata": {
    "editable": true
   },
   "source": [
    "$$\n",
    "\\vert \\phi_0 \\rangle = \\vert 0 \\rangle = \\begin{bmatrix} 1 \\\\ 0 \\end{bmatrix},\n",
    "$$"
   ]
  },
  {
   "cell_type": "markdown",
   "id": "10f8dcd5",
   "metadata": {
    "editable": true
   },
   "source": [
    "and"
   ]
  },
  {
   "cell_type": "markdown",
   "id": "3ae7e3d1",
   "metadata": {
    "editable": true
   },
   "source": [
    "$$\n",
    "\\vert \\phi_1 \\rangle = \\vert 1 \\rangle = \\begin{bmatrix} 0 \\\\ 1 \\end{bmatrix}.\n",
    "$$"
   ]
  },
  {
   "cell_type": "markdown",
   "id": "40624f92",
   "metadata": {
    "editable": true
   },
   "source": [
    "## Identity and projection operators\n",
    "\n",
    "It is straight forward to see that $\\langle 1 \\vert 0\\rangle=0$. With these two states we can define the define the identity operator $\\boldsymbol{I}$ as the sum of the outer products of these two states, namely"
   ]
  },
  {
   "cell_type": "markdown",
   "id": "2e38ab20",
   "metadata": {
    "editable": true
   },
   "source": [
    "$$\n",
    "\\boldsymbol{I} = \\sum_{i=0}^{i=1}\\vert i\\rangle \\langle i\\vert = \\begin{bmatrix} 1 & 0 \\\\ 0 & 0 \\end{bmatrix} +\\begin{bmatrix} 0 & 0 \\\\ 0 & 1 \\end{bmatrix}=\\begin{bmatrix} 1 & 0 \\\\ 0 & 1 \\end{bmatrix}.\n",
    "$$"
   ]
  },
  {
   "cell_type": "markdown",
   "id": "e2b5574d",
   "metadata": {
    "editable": true
   },
   "source": [
    "We can further define the projection operators"
   ]
  },
  {
   "cell_type": "markdown",
   "id": "0c07a0f4",
   "metadata": {
    "editable": true
   },
   "source": [
    "$$\n",
    "\\boldsymbol{P} = \\vert 0\\rangle \\langle 0\\vert = \\begin{bmatrix} 1 & 0 \\\\ 0 & 0 \\end{bmatrix},\n",
    "$$"
   ]
  },
  {
   "cell_type": "markdown",
   "id": "94b17112",
   "metadata": {
    "editable": true
   },
   "source": [
    "and"
   ]
  },
  {
   "cell_type": "markdown",
   "id": "afbf195f",
   "metadata": {
    "editable": true
   },
   "source": [
    "$$\n",
    "\\boldsymbol{Q} = \\vert 1\\rangle \\langle 1\\vert = \\begin{bmatrix} 0 & 0 \\\\ 0 & 1 \\end{bmatrix}.\n",
    "$$"
   ]
  },
  {
   "cell_type": "markdown",
   "id": "f10d9916",
   "metadata": {
    "editable": true
   },
   "source": [
    "## Idempotent operators\n",
    "\n",
    "We note that $P^2=P$, $Q^2=Q$ (the operators are idempotent) and that\n",
    "their determinants are zero, meaning in turn that we cannot use these\n",
    "operators for unitary/orthogonal transformations. However, they play\n",
    "important roles in defining effective Hilbert spaces for many-body\n",
    "studies. Finally, before proceeding we note also that the two matrices\n",
    "commute and we have $\\boldsymbol{P}\\boldsymbol{Q}=0$ and $\\left[ \\boldsymbol{P},\\boldsymbol{Q}\\right]=0$."
   ]
  },
  {
   "cell_type": "markdown",
   "id": "a7e192da",
   "metadata": {
    "editable": true
   },
   "source": [
    "## Superposition and more\n",
    "\n",
    "Using the properties of ONBs we can expand a new state in terms of the\n",
    "above states. These states could also form  a basis which is an\n",
    "eigenbasis of a selected Hamiltonian (more of this below).\n",
    "\n",
    "We define now a new state which is a linear expansion in terms of\n",
    "these computational basis states"
   ]
  },
  {
   "cell_type": "markdown",
   "id": "eaedc461",
   "metadata": {
    "editable": true
   },
   "source": [
    "$$\n",
    "\\vert \\psi \\rangle = \\alpha \\vert 0 \\rangle + \\beta\\vert 1 \\rangle,\n",
    "$$"
   ]
  },
  {
   "cell_type": "markdown",
   "id": "c9724e7e",
   "metadata": {
    "editable": true
   },
   "source": [
    "where the coefficients $\\alpha = \\langle 0 \\vert \\psi \\rangle$ and\n",
    "$\\beta =\\langle 1 \\vert \\psi\\rangle$ reresent the overlaps between the\n",
    "computational basis states and the state $\\vert \\psi\\rangle$. In quantum speech, we say the state is in a superposition of the states $\\vert 0\\rangle$ and $\\vert 1\\rangle$."
   ]
  },
  {
   "cell_type": "markdown",
   "id": "9b205e8c",
   "metadata": {
    "editable": true
   },
   "source": [
    "## Inner products\n",
    "Computing the inner product of $\\vert \\psi \\rangle$ we obtain"
   ]
  },
  {
   "cell_type": "markdown",
   "id": "251eab65",
   "metadata": {
    "editable": true
   },
   "source": [
    "$$\n",
    "\\langle \\psi \\vert \\psi \\rangle = \\vert \\alpha \\vert ^2\\langle 0\\vert 0\\rangle + \\vert \\beta \\vert ^2\\langle 1\\vert 1\\rangle = \\vert \\alpha \\vert ^2 + \\vert \\beta \\vert ^2 = 1,\n",
    "$$"
   ]
  },
  {
   "cell_type": "markdown",
   "id": "45c12573",
   "metadata": {
    "editable": true
   },
   "source": [
    "since the new basis, which is defined in terms of a a unitary/orthogonal\n",
    "transformation, preserves the orthogonality and norm of the original\n",
    "computational basis $\\vert 0\\rangle$ and $\\vert 1\\rangle$. To see\n",
    "this, consider the unitary transformation (show derivation of\n",
    "preserving orthogonality)."
   ]
  },
  {
   "cell_type": "markdown",
   "id": "5727cd03",
   "metadata": {
    "editable": true
   },
   "source": [
    "## Acting with projection operators\n",
    "\n",
    "If we now act with the projection operators $\\boldsymbol{P}$ and $\\boldsymbol{Q}$ on\n",
    "the state $\\vert \\psi\\rangle$ we get"
   ]
  },
  {
   "cell_type": "markdown",
   "id": "a40f11e7",
   "metadata": {
    "editable": true
   },
   "source": [
    "$$\n",
    "\\boldsymbol{P}\\vert \\psi \\rangle = \\vert 0 \\rangle\\langle 0\\vert (\\alpha \\vert 0 \\rangle + \\beta\\vert 1 \\rangle)=\\alpha \\vert 0\\rangle,\n",
    "$$"
   ]
  },
  {
   "cell_type": "markdown",
   "id": "49504d9b",
   "metadata": {
    "editable": true
   },
   "source": [
    "that is we **project** out the $\\vert 0\\rangle$ component of the state\n",
    "$\\vert \\psi\\rangle$ with the coefficient $\\alpha$ while $\\boldsymbol{Q}$\n",
    "projects out the $\\vert 1\\rangle$ component with coefficient $\\beta$\n",
    "as seen from"
   ]
  },
  {
   "cell_type": "markdown",
   "id": "7e245cc7",
   "metadata": {
    "editable": true
   },
   "source": [
    "$$\n",
    "\\boldsymbol{Q}\\vert \\psi \\rangle = \\vert 1 \\rangle\\langle 1\\vert (\\alpha \\vert 0 \\rangle + \\beta\\vert 1 \\rangle)=\\beta \\vert 1\\rangle.\n",
    "$$"
   ]
  },
  {
   "cell_type": "markdown",
   "id": "76ec3744",
   "metadata": {
    "editable": true
   },
   "source": [
    "The above results can easily be derived by multiplying the pertinent\n",
    "matrices with the vectors $\\vert 0\\rangle$ and $\\vert 1\\rangle$,\n",
    "respectively."
   ]
  },
  {
   "cell_type": "markdown",
   "id": "c8d3d70a",
   "metadata": {
    "editable": true
   },
   "source": [
    "## Density matrix\n",
    "\n",
    "Using the above linear expansion we can now define the density matrix of the state $\\vert \\psi\\rangle$ as the outer product"
   ]
  },
  {
   "cell_type": "markdown",
   "id": "bb51362d",
   "metadata": {
    "editable": true
   },
   "source": [
    "$$\n",
    "\\boldsymbol{\\rho}=\\vert \\psi \\rangle\\langle \\psi \\vert = \\alpha\\alpha^* \\vert 0 \\rangle\\langle 0\\vert+\\alpha\\beta^* \\vert 0 \\rangle\\langle 1\\vert+\\beta\\alpha^* \\vert 1 \\rangle\\langle 0\\vert+\\beta\\beta^* \\vert 1 \\rangle\\langle 1\\vert,\n",
    "$$"
   ]
  },
  {
   "cell_type": "markdown",
   "id": "5f7a916f",
   "metadata": {
    "editable": true
   },
   "source": [
    "which leads to"
   ]
  },
  {
   "cell_type": "markdown",
   "id": "b969a2af",
   "metadata": {
    "editable": true
   },
   "source": [
    "$$\n",
    "\\boldsymbol{\\rho}=\\begin{bmatrix} \\alpha\\alpha^* & \\alpha\\beta^*\\\\ \\beta\\alpha^* & \\beta\\beta^*\\end{bmatrix}.\n",
    "$$"
   ]
  },
  {
   "cell_type": "markdown",
   "id": "90860514",
   "metadata": {
    "editable": true
   },
   "source": [
    "Finally, we note that the trace of the density matrix is simply given by unity"
   ]
  },
  {
   "cell_type": "markdown",
   "id": "ecf47568",
   "metadata": {
    "editable": true
   },
   "source": [
    "$$\n",
    "\\mathrm{tr}\\boldsymbol{\\rho}=\\alpha\\alpha^* +\\beta\\beta^*=1.\n",
    "$$"
   ]
  },
  {
   "cell_type": "markdown",
   "id": "7f7b2034",
   "metadata": {
    "editable": true
   },
   "source": [
    "## Other important matrices\n",
    "\n",
    "We present other operators (as matrices) which play an important role in quantum computing, the so-called Hadamard matrix (or gate as we will use later)"
   ]
  },
  {
   "cell_type": "markdown",
   "id": "c31a5525",
   "metadata": {
    "editable": true
   },
   "source": [
    "$$\n",
    "\\boldsymbol{H}=\\frac{1}{\\sqrt{2}}\\begin{bmatrix} 1 & 1 \\\\ 1 & -1\\end{bmatrix}.\n",
    "$$"
   ]
  },
  {
   "cell_type": "markdown",
   "id": "12d19fc4",
   "metadata": {
    "editable": true
   },
   "source": [
    "The action of the operator $\\boldsymbol{H}$ on a computational basis state like $\\vert 0\\rangle$ gives"
   ]
  },
  {
   "cell_type": "markdown",
   "id": "a8cbabf7",
   "metadata": {
    "editable": true
   },
   "source": [
    "$$\n",
    "\\boldsymbol{H}\\vert 0 \\rangle = \\frac{1}{\\sqrt{2}}\\begin{bmatrix} 1 & 1 \\\\ 1 & -1\\end{bmatrix}\\begin{bmatrix} 1 \\\\ 0\\end{bmatrix}=\\frac{1}{\\sqrt{2}}(\\vert 0\\rangle + \\vert 1\\rangle),\n",
    "$$"
   ]
  },
  {
   "cell_type": "markdown",
   "id": "75877f75",
   "metadata": {
    "editable": true
   },
   "source": [
    "and"
   ]
  },
  {
   "cell_type": "markdown",
   "id": "1c6164b2",
   "metadata": {
    "editable": true
   },
   "source": [
    "$$\n",
    "\\boldsymbol{H}\\vert 1 \\rangle = \\frac{1}{\\sqrt{2}}\\begin{bmatrix} 1 & 1 \\\\ 1 & -1\\end{bmatrix}\\begin{bmatrix} 0 \\\\ 1\\end{bmatrix}=\\frac{1}{\\sqrt{2}}(\\vert 0\\rangle - \\vert 1\\rangle),\n",
    "$$"
   ]
  },
  {
   "cell_type": "markdown",
   "id": "679d3ab7",
   "metadata": {
    "editable": true
   },
   "source": [
    "that is we create a superposition of the states $\\vert 0\\rangle$ and $\\vert 1\\rangle$."
   ]
  },
  {
   "cell_type": "markdown",
   "id": "e39ba5e2",
   "metadata": {
    "editable": true
   },
   "source": [
    "## Phase matrix\n",
    "Another famous operation is the phase matrix given by"
   ]
  },
  {
   "cell_type": "markdown",
   "id": "60960f37",
   "metadata": {
    "editable": true
   },
   "source": [
    "$$\n",
    "\\boldsymbol{S} = \\begin{bmatrix} 1 & 0 \\\\ 0 & \\imath\\end{bmatrix}.\n",
    "$$"
   ]
  },
  {
   "cell_type": "markdown",
   "id": "fbc5458b",
   "metadata": {
    "editable": true
   },
   "source": [
    "## Tensor products\n",
    "\n",
    "Consider now two vectors with length $n=2$, with elements"
   ]
  },
  {
   "cell_type": "markdown",
   "id": "7b147412",
   "metadata": {
    "editable": true
   },
   "source": [
    "$$\n",
    "\\vert x \\rangle = \\begin{bmatrix} x_0 \\\\ x_1 \\end{bmatrix},\n",
    "$$"
   ]
  },
  {
   "cell_type": "markdown",
   "id": "873747ac",
   "metadata": {
    "editable": true
   },
   "source": [
    "and"
   ]
  },
  {
   "cell_type": "markdown",
   "id": "985fd97e",
   "metadata": {
    "editable": true
   },
   "source": [
    "$$\n",
    "\\vert y \\rangle = \\begin{bmatrix} y_0 \\\\ y_1 \\end{bmatrix}.\n",
    "$$"
   ]
  },
  {
   "cell_type": "markdown",
   "id": "80bec265",
   "metadata": {
    "editable": true
   },
   "source": [
    "The tensor product of these two vectors is defined as"
   ]
  },
  {
   "cell_type": "markdown",
   "id": "fcd8f12a",
   "metadata": {
    "editable": true
   },
   "source": [
    "$$\n",
    "\\vert x \\rangle \\otimes \\vert y \\rangle = \\vert xy \\rangle  = \\begin{bmatrix} x_0y_0 \\\\ x_0y_1 \\\\ x_1y_0 \\\\ x_1y_1 \\end{bmatrix},\n",
    "$$"
   ]
  },
  {
   "cell_type": "markdown",
   "id": "b34667e5",
   "metadata": {
    "editable": true
   },
   "source": [
    "which is now a vector of length $4$."
   ]
  },
  {
   "cell_type": "markdown",
   "id": "28aa75aa",
   "metadata": {
    "editable": true
   },
   "source": [
    "## Examples of tensor products\n",
    "If we now go back to our original one-qubit basis states, we can form teh following tensor products"
   ]
  },
  {
   "cell_type": "markdown",
   "id": "f46eab1a",
   "metadata": {
    "editable": true
   },
   "source": [
    "$$\n",
    "\\vert 0 \\rangle \\otimes \\vert 0 \\rangle = \\begin{bmatrix} 1 \\\\ 0\\end{bmatrix} \\otimes \\begin{bmatrix} 1 \\\\ 0\\end{bmatrix} =\\begin{bmatrix} 1 \\\\ 0 \\\\ 0 \\\\ 0 \\end{bmatrix}=\\vert 00 \\rangle,\n",
    "$$"
   ]
  },
  {
   "cell_type": "markdown",
   "id": "1072f161",
   "metadata": {
    "editable": true
   },
   "source": [
    "$$\n",
    "\\vert 0 \\rangle \\otimes \\vert 1 \\rangle = \\begin{bmatrix} 1 \\\\ 0\\end{bmatrix} \\otimes \\begin{bmatrix} 0 \\\\ 1\\end{bmatrix} =\\begin{bmatrix} 0 \\\\ 1 \\\\ 0 \\\\ 0 \\end{bmatrix}=\\vert 01 \\rangle.\n",
    "$$"
   ]
  },
  {
   "cell_type": "markdown",
   "id": "3b230cb8",
   "metadata": {
    "editable": true
   },
   "source": [
    "## More states"
   ]
  },
  {
   "cell_type": "markdown",
   "id": "b4c00768",
   "metadata": {
    "editable": true
   },
   "source": [
    "$$\n",
    "\\vert 1 \\rangle \\otimes \\vert 0 \\rangle = \\begin{bmatrix} 0 \\\\ 1\\end{bmatrix} \\otimes \\begin{bmatrix} 1 \\\\ 0\\end{bmatrix} =\\begin{bmatrix} 0 \\\\ 0 \\\\ 1 \\\\ 0 \\end{bmatrix}=\\vert 10 \\rangle,\n",
    "$$"
   ]
  },
  {
   "cell_type": "markdown",
   "id": "50d55884",
   "metadata": {
    "editable": true
   },
   "source": [
    "and finally"
   ]
  },
  {
   "cell_type": "markdown",
   "id": "8d71dbc7",
   "metadata": {
    "editable": true
   },
   "source": [
    "$$\n",
    "\\vert 1 \\rangle \\otimes \\vert 1 \\rangle = \\begin{bmatrix} 0 \\\\ 1\\end{bmatrix} \\otimes \\begin{bmatrix} 0 \\\\ 1\\end{bmatrix} =\\begin{bmatrix} 0 \\\\ 0 \\\\ 0 \\\\ 1 \\end{bmatrix}=\\vert 11 \\rangle.\n",
    "$$"
   ]
  },
  {
   "cell_type": "markdown",
   "id": "b1d4e308",
   "metadata": {
    "editable": true
   },
   "source": [
    "## Three qubits\n",
    "We have now four different states and we could try to make a new list\n",
    "by relabeling the states as follows $\\vert 00 \\rangle =\\vert 0\n",
    "\\rangle$, $\\vert 01 \\rangle =\\vert 1 \\rangle$, $\\vert 10 \\rangle\n",
    "=\\vert 2 \\rangle$, $\\vert 11 \\rangle =\\vert 3 \\rangle$.\n",
    "\n",
    "In similar ways we can define the tensor product of three qubits (or single-particle states) as"
   ]
  },
  {
   "cell_type": "markdown",
   "id": "649e0142",
   "metadata": {
    "editable": true
   },
   "source": [
    "$$\n",
    "\\vert 0 \\rangle \\otimes \\vert 0 \\rangle \\otimes \\vert 0 \\rangle = \\begin{bmatrix} 1 \\\\ 0\\end{bmatrix} \\otimes \\begin{bmatrix} 1 \\\\ 0\\end{bmatrix} \\otimes \\begin{bmatrix} 1 \\\\ 0\\end{bmatrix}=\\begin{bmatrix} 1 \\\\ 0 \\\\ 0 \\\\ 0 \\\\ 0 \\\\0 \\\\ 0 \\\\ 0\\end{bmatrix}=\\vert 000 \\rangle,\n",
    "$$"
   ]
  },
  {
   "cell_type": "markdown",
   "id": "515d4d8d",
   "metadata": {
    "editable": true
   },
   "source": [
    "which is a new vector of length eight."
   ]
  },
  {
   "cell_type": "markdown",
   "id": "4478d0c8",
   "metadata": {
    "editable": true
   },
   "source": [
    "## Generalizing\n",
    "\n",
    "We note that with a single-particle basis given the states $\\vert\n",
    "0\\rangle$ and $\\vert 1\\rangle$ we can, with $N$ particles construct\n",
    "$2^N$ different states.  This is something we can generalize to\n",
    "* discuss ways of labeling states\n",
    "\n",
    "* how to write a code which does it"
   ]
  },
  {
   "cell_type": "markdown",
   "id": "15be7127",
   "metadata": {
    "editable": true
   },
   "source": [
    "## Tensor products of matrices\n",
    "The tensor product of two $2\\times 2$ matrices $\\boldsymbol{A}$ and $\\boldsymbol{B}$ is given by"
   ]
  },
  {
   "cell_type": "markdown",
   "id": "6e7ca340",
   "metadata": {
    "editable": true
   },
   "source": [
    "$$\n",
    "\\boldsymbol{A} \\times \\boldsymbol{B} = \\begin{bmatrix} a_{00} & a_{01} \\\\ a_{10} & a_{11} \\end{bmatrix} \\otimes \\begin{bmatrix} b_{00} & b_{01} \\\\ b_{10} & b_{11} \\end{bmatrix} =\n",
    "\\begin{bmatrix} a_{00} b_{00} &  a_{00}b_{01} & a_{01} b_{00} & a_{01}b_{01} \\\\\n",
    "                a_{00} b_{10} &  a_{00}b_{11} & a_{01} b_{10} & a_{01}b_{11} \\\\\n",
    "                a_{10} b_{00} &  a_{10}b_{01} & a_{11} b_{00} & a_{11}b_{01} \\\\\n",
    "                a_{10} b_{10} &  a_{10}b_{11} & a_{11} b_{10} & a_{11}b_{11} \\end{bmatrix}\n",
    "$$"
   ]
  },
  {
   "cell_type": "markdown",
   "id": "05c9fdd9",
   "metadata": {
    "editable": true
   },
   "source": [
    "## Measurements\n",
    "\n",
    "The probability of a measurement on a quantum system giving a certain\n",
    "result is determined by the weight of the relevant basis state in the\n",
    "state vector. After the measurement, the system is in a state that\n",
    "corresponds to the result of the measurement. The operators and\n",
    "gates discussed below are examples of operations we can perform on\n",
    "specific states.\n",
    "\n",
    "We  consider the state"
   ]
  },
  {
   "cell_type": "markdown",
   "id": "0236a50d",
   "metadata": {
    "editable": true
   },
   "source": [
    "$$\n",
    "\\vert \\psi\\rangle = \\alpha \\vert 0 \\rangle +\\beta \\vert 1 \\rangle\n",
    "$$"
   ]
  },
  {
   "cell_type": "markdown",
   "id": "7e85effe",
   "metadata": {
    "editable": true
   },
   "source": [
    "## Definitions of measurements\n",
    "\n",
    "1. A measurement can yield only one of the above states, either $\\vert 0\\rangle$ or $\\vert 1\\rangle$.\n",
    "\n",
    "2. The probability of a measurement resulting in $\\vert 0\\rangle$ is $\\alpha^*\\alpha = \\vert \\alpha \\vert^2$.\n",
    "\n",
    "3. The probability of a measurement resulting in $\\vert 1\\rangle$ is $\\beta^*\\beta = \\vert \\beta \\vert^2$.\n",
    "\n",
    "4. And we note that the sum of the outcomes gives $\\alpha^*\\alpha+\\beta^*\\beta=1$ since the two states are normalized.\n",
    "\n",
    "After the measurement, the state of the system is the state associated with the result of the measurement.\n",
    "\n",
    "We have already encountered the projection operators $P$ and $Q$. Let\n",
    "us now look at other types of operations we can make on qubit states."
   ]
  },
  {
   "cell_type": "markdown",
   "id": "005de887",
   "metadata": {
    "editable": true
   },
   "source": [
    "## Different operators and gates\n",
    "\n",
    "In quantum computing, the so-called Pauli matrices, and other simple\n",
    "$2\\times 2$ matrices, play an important role, ranging from the setup\n",
    "of quantum gates to a rewrite of creation and annihilation operators\n",
    "and other quantum mechanical operators. Let us start with the familiar\n",
    "Pauli matrices and remind ourselves of some of their basic properties.\n",
    "\n",
    "Assume we operate with $\\sigma_x$ on our basis state $\\vert 0 \\rangle$. This gives"
   ]
  },
  {
   "cell_type": "markdown",
   "id": "a86065be",
   "metadata": {
    "editable": true
   },
   "source": [
    "$$\n",
    "\\begin{bmatrix} 0 & 1 \\\\ 1 & 0 \\end{bmatrix}\\begin{bmatrix} 1 \\\\ 0 \\end{bmatrix}=\\begin{bmatrix} 0  \\\\ 1  \\end{bmatrix},\n",
    "$$"
   ]
  },
  {
   "cell_type": "markdown",
   "id": "861baf0d",
   "metadata": {
    "editable": true
   },
   "source": [
    "that is we switch from $\\vert 0\\rangle$ to $\\vert 1\\rangle$ (often called a spin flip operation) and similary we have"
   ]
  },
  {
   "cell_type": "markdown",
   "id": "ac686396",
   "metadata": {
    "editable": true
   },
   "source": [
    "$$\n",
    "\\begin{bmatrix} 0 & 1 \\\\ 1 & 0 \\end{bmatrix}\\begin{bmatrix} 0 \\\\ 1 \\end{bmatrix}=\\begin{bmatrix} 1  \\\\ 0  \\end{bmatrix}.\n",
    "$$"
   ]
  },
  {
   "cell_type": "markdown",
   "id": "84b3c552",
   "metadata": {
    "editable": true
   },
   "source": [
    "## More on Pauli matrices\n",
    "\n",
    "This matrix plays an important role in quantum computing since we can\n",
    "link this with the classical **NOT** operation.  If we send in bit 0,\n",
    "the **NOT** gate outputs bit 1 and vice versa. We can use the $\\sigma_x$\n",
    "matrix to implement the quantum mechanical equivalent of a classical\n",
    "**NOT** gate. If we input what we could represent as bit 0 in terms of\n",
    "the basis state $\\vert 0\\rangle$, operating on this state results in\n",
    "the state $\\vert 1\\rangle$, which we in turn can interpret as the\n",
    "classical bit 1."
   ]
  },
  {
   "cell_type": "markdown",
   "id": "58339a24",
   "metadata": {
    "editable": true
   },
   "source": [
    "## Linear superposition\n",
    "If we have a linear superposition of these states we obtain"
   ]
  },
  {
   "cell_type": "markdown",
   "id": "c82217c0",
   "metadata": {
    "editable": true
   },
   "source": [
    "$$\n",
    "\\begin{bmatrix}0 & 1 \\\\ 1 & 0 \\end{bmatrix}\\begin{bmatrix}\\alpha \\\\ \\beta \\end{bmatrix}=\\begin{bmatrix}\\beta \\\\ \\alpha \\end{bmatrix}.\n",
    "$$"
   ]
  },
  {
   "cell_type": "markdown",
   "id": "17e17d9d",
   "metadata": {
    "editable": true
   },
   "source": [
    "The $\\sigma_y$ matrix introduces an imaginary sign, which we will later encounter in terms of so-called phase-shift operations."
   ]
  },
  {
   "cell_type": "markdown",
   "id": "7e8878c3",
   "metadata": {
    "editable": true
   },
   "source": [
    "## The $\\sigma_z$ matrix\n",
    "The $\\sigma_z$ matrix has the following effect"
   ]
  },
  {
   "cell_type": "markdown",
   "id": "8826a87f",
   "metadata": {
    "editable": true
   },
   "source": [
    "$$\n",
    "\\begin{bmatrix} 1 & 0 \\\\ 0 & -1 \\end{bmatrix}\\begin{bmatrix} 1 \\\\ 0 \\end{bmatrix}=\\begin{bmatrix} 1  \\\\ 0  \\end{bmatrix},\n",
    "$$"
   ]
  },
  {
   "cell_type": "markdown",
   "id": "f6dfa1b5",
   "metadata": {
    "editable": true
   },
   "source": [
    "and"
   ]
  },
  {
   "cell_type": "markdown",
   "id": "21376d8c",
   "metadata": {
    "editable": true
   },
   "source": [
    "$$\n",
    "\\begin{bmatrix} 1 & 0 \\\\ 0 & -1 \\end{bmatrix}\\begin{bmatrix} 0 \\\\ 1 \\end{bmatrix}=\\begin{bmatrix} 0  \\\\ -1  \\end{bmatrix},\n",
    "$$"
   ]
  },
  {
   "cell_type": "markdown",
   "id": "89bf317a",
   "metadata": {
    "editable": true
   },
   "source": [
    "which we will also link with a specific phase-shift."
   ]
  },
  {
   "cell_type": "markdown",
   "id": "d91a0428",
   "metadata": {
    "editable": true
   },
   "source": [
    "## Unitarity\n",
    "\n",
    "The matrices we introduced here are so-called unitary matrices. This\n",
    "is an important element in quantum mechanics since the evolution of a\n",
    "closed quantum system is described by operations involving unitary\n",
    "operations only.\n",
    "\n",
    "We have defined a new state $\\vert \\psi_p\\rangle$ as a linear expansion in terms of an orthogonal and normalized basis (our computational basis) $\\phi_{\\lambda}$"
   ]
  },
  {
   "cell_type": "markdown",
   "id": "37cbb382",
   "metadata": {
    "editable": true
   },
   "source": [
    "<!-- Equation labels as ordinary links -->\n",
    "<div id=\"_auto1\"></div>\n",
    "\n",
    "$$\n",
    "\\begin{equation}\n",
    "\\vert \\psi_i\\rangle = \\sum_{j} u_{ij}\\vert \\phi_{j}\\rangle.\n",
    "\\label{_auto1} \\tag{1}\n",
    "\\end{equation}\n",
    "$$"
   ]
  },
  {
   "cell_type": "markdown",
   "id": "62863de0",
   "metadata": {
    "editable": true
   },
   "source": [
    "## Hamiltonians and basis functions\n",
    "\n",
    "It is normal to choose a basis defined as the eigenfunctions of parts\n",
    "of the full Hamiltonian. The typical situation consists of the\n",
    "solutions of the one-body part of the Hamiltonian, that is we have"
   ]
  },
  {
   "cell_type": "markdown",
   "id": "f53903e2",
   "metadata": {
    "editable": true
   },
   "source": [
    "$$\n",
    "\\hat{h}_0\\vert \\phi_{i}\\rangle=\\epsilon_{i}\\vert \\phi_{i}\\rangle.\n",
    "$$"
   ]
  },
  {
   "cell_type": "markdown",
   "id": "80fccbc2",
   "metadata": {
    "editable": true
   },
   "source": [
    "This is normally referred to as a single-particle basis $\\vert\\phi_{i}(\\mathbf{r})\\rangle$,\n",
    "defined by the quantum numbers $i$ and $\\mathbf{r}$."
   ]
  },
  {
   "cell_type": "markdown",
   "id": "565a6efb",
   "metadata": {
    "editable": true
   },
   "source": [
    "## Unitary transformations\n",
    "A unitary transformation is important since it keeps the orthogonality.\n",
    "To see this consider first a basis of vectors $\\mathbf{v}_i$,"
   ]
  },
  {
   "cell_type": "markdown",
   "id": "6d7862f6",
   "metadata": {
    "editable": true
   },
   "source": [
    "$$\n",
    "\\mathbf{v}_i = \\begin{bmatrix} v_{i1} \\\\ \\dots \\\\ \\dots \\\\v_{in} \\end{bmatrix}\n",
    "$$"
   ]
  },
  {
   "cell_type": "markdown",
   "id": "de14380d",
   "metadata": {
    "editable": true
   },
   "source": [
    "We assume that the basis is orthogonal, that is"
   ]
  },
  {
   "cell_type": "markdown",
   "id": "7c3ad3d5",
   "metadata": {
    "editable": true
   },
   "source": [
    "$$\n",
    "\\mathbf{v}_j^T\\mathbf{v}_i = \\delta_{ij}.\n",
    "$$"
   ]
  },
  {
   "cell_type": "markdown",
   "id": "b9e3d846",
   "metadata": {
    "editable": true
   },
   "source": [
    "An orthogonal or unitary transformation"
   ]
  },
  {
   "cell_type": "markdown",
   "id": "e69337da",
   "metadata": {
    "editable": true
   },
   "source": [
    "$$\n",
    "\\mathbf{w}_i=\\mathbf{U}\\mathbf{v}_i,\n",
    "$$"
   ]
  },
  {
   "cell_type": "markdown",
   "id": "90dbe30e",
   "metadata": {
    "editable": true
   },
   "source": [
    "preserves the dot product and orthogonality since"
   ]
  },
  {
   "cell_type": "markdown",
   "id": "70e07858",
   "metadata": {
    "editable": true
   },
   "source": [
    "$$\n",
    "\\mathbf{w}_j^T\\mathbf{w}_i=(\\mathbf{U}\\mathbf{v}_j)^T\\mathbf{U}\\mathbf{v}_i=\\mathbf{v}_j^T\\mathbf{U}^T\\mathbf{U}\\mathbf{v}_i= \\mathbf{v}_j^T\\mathbf{v}_i = \\delta_{ij}.\n",
    "$$"
   ]
  },
  {
   "cell_type": "markdown",
   "id": "a91cca0f",
   "metadata": {
    "editable": true
   },
   "source": [
    "## Orthogonality preserved\n",
    "\n",
    "This means that if the coefficients $u_{p\\lambda}$ belong to a unitary\n",
    "or orthogonal transformation (using the Dirac bra-ket notation)"
   ]
  },
  {
   "cell_type": "markdown",
   "id": "55dd6a0e",
   "metadata": {
    "editable": true
   },
   "source": [
    "$$\n",
    "\\vert \\psi_i\\rangle = \\sum_{j} u_{ij}\\vert \\phi_{j}\\rangle.\n",
    "$$"
   ]
  },
  {
   "cell_type": "markdown",
   "id": "a490b01e",
   "metadata": {
    "editable": true
   },
   "source": [
    "orthogonality is preserved.\n",
    "\n",
    "This propertry is extremely useful when we build up a basis of\n",
    "many-body determinant based states.\n",
    "\n",
    "Note also that although a basis $\\left\\{\\vert \\phi_i \\rangle\\right\\}$ contains an infinity of states, for practical calculations we have always to make some truncations."
   ]
  },
  {
   "cell_type": "markdown",
   "id": "72492337",
   "metadata": {
    "editable": true
   },
   "source": [
    "## Example\n",
    "\n",
    "Assume we have two one-qubit states represented by"
   ]
  },
  {
   "cell_type": "markdown",
   "id": "e39823ac",
   "metadata": {
    "editable": true
   },
   "source": [
    "$$\n",
    "\\vert \\psi \\rangle = \\alpha \\vert 0 \\rangle + \\beta \\vert 1\\rangle=\\begin{bmatrix}\\alpha \\\\ \\beta \\end{bmatrix},\n",
    "$$"
   ]
  },
  {
   "cell_type": "markdown",
   "id": "bd706f0c",
   "metadata": {
    "editable": true
   },
   "source": [
    "and"
   ]
  },
  {
   "cell_type": "markdown",
   "id": "02c500a6",
   "metadata": {
    "editable": true
   },
   "source": [
    "$$\n",
    "\\vert \\phi \\rangle = \\gamma \\vert 0 \\rangle + \\delta \\vert 1\\rangle=\\begin{bmatrix}\\gamma \\\\ \\delta \\end{bmatrix}.\n",
    "$$"
   ]
  },
  {
   "cell_type": "markdown",
   "id": "51fe70fd",
   "metadata": {
    "editable": true
   },
   "source": [
    "We assume that the state $\\vert \\phi \\rangle$ is obtained through a\n",
    "unitary transformation of $\\vert \\psi \\rangle$ through a matrix\n",
    "$\\boldsymbol{U}$ with its hermitian conjugate $\\boldsymbol{U}^{\\dagger}$ with matrix\n",
    "elements $u_{ij}^{\\dagger}=u_{ji}^*$ and\n",
    "$\\boldsymbol{I}=\\boldsymbol{U}\\boldsymbol{U}^{\\dagger}=\\boldsymbol{U}^{\\dagger}\\boldsymbol{U}$."
   ]
  },
  {
   "cell_type": "markdown",
   "id": "014a8f40",
   "metadata": {
    "editable": true
   },
   "source": [
    "## Inverse of unitary matrices\n",
    "\n",
    "Note that this means that the hermitian conjugate of a unitary matrix\n",
    "is equal to its inverse. This has important consequences for what is\n",
    "called reversibility. We say quantum mechanics is a theory which is\n",
    "reversible with a probabilistic determinism. Classical mechanics on\n",
    "the other is reversible in a deterministic way, that is, knowing all\n",
    "initial conditions we can in principle determine the future motion of\n",
    "an object which obey the laws of motion of classical mechanics.\n",
    "\n",
    "We have then"
   ]
  },
  {
   "cell_type": "markdown",
   "id": "8ffd9ddc",
   "metadata": {
    "editable": true
   },
   "source": [
    "$$\n",
    "\\begin{bmatrix}\\gamma \\\\ \\delta \\end{bmatrix}=\\begin{bmatrix}u_{00} & u_{01} \\\\ u_{10} & u_{11} \\end{bmatrix}\\begin{bmatrix}\\alpha \\\\ \\beta \\end{bmatrix}.\n",
    "$$"
   ]
  },
  {
   "cell_type": "markdown",
   "id": "6c34ab6d",
   "metadata": {
    "editable": true
   },
   "source": [
    "## New basis is also orthogonal\n",
    "\n",
    "Since our original basis $\\vert \\psi\\rangle$ is orthogonal and normalized with $\\vert\\alpha\\vert^2+\\vert\\beta\\vert^2=1$, the new basis is also orthogonal and normalized, as we can see below here.\n",
    "\n",
    "Since the inverse of a hermitian matrix is equal to its hermitian\n",
    "conjugate/adjoint), unitary transformations are always reversible.\n",
    "\n",
    "Why are only unitary transformations allowed? The key lies in the way the inner product tranforms.\n",
    "\n",
    "To see this we rewrite the new basis from the previous example in its two components as"
   ]
  },
  {
   "cell_type": "markdown",
   "id": "3a5936a5",
   "metadata": {
    "editable": true
   },
   "source": [
    "$$\n",
    "\\vert \\phi\\rangle_i=\\sum_{j}u_{ij}\\vert \\psi\\rangle_j,\n",
    "$$"
   ]
  },
  {
   "cell_type": "markdown",
   "id": "872597f4",
   "metadata": {
    "editable": true
   },
   "source": [
    "or in terms of a matrix-vector notatio we have"
   ]
  },
  {
   "cell_type": "markdown",
   "id": "2ec2b479",
   "metadata": {
    "editable": true
   },
   "source": [
    "$$\n",
    "\\vert \\phi\\rangle=\\boldsymbol{U}\\vert \\psi\\rangle,\n",
    "$$"
   ]
  },
  {
   "cell_type": "markdown",
   "id": "ada51e92",
   "metadata": {
    "editable": true
   },
   "source": [
    "## More on orthogonality\n",
    "\n",
    "We have already assumed that $\\langle \\psi \\vert \\psi \\rangle = \\vert\\alpha\\vert^2+\\vert\\beta\\vert^2=1$.\n",
    "\n",
    "We have that"
   ]
  },
  {
   "cell_type": "markdown",
   "id": "033346cf",
   "metadata": {
    "editable": true
   },
   "source": [
    "$$\n",
    "\\langle \\phi\\vert_i=\\sum_{j}u_{ij}^*\\langle \\psi\\vert_j,\n",
    "$$"
   ]
  },
  {
   "cell_type": "markdown",
   "id": "f51928d1",
   "metadata": {
    "editable": true
   },
   "source": [
    "or in terms of a matrix-vector notation we have"
   ]
  },
  {
   "cell_type": "markdown",
   "id": "06efb268",
   "metadata": {
    "editable": true
   },
   "source": [
    "$$\n",
    "\\langle \\phi\\vert=\\langle \\psi\\vert\\boldsymbol{U}^{\\dagger}.\n",
    "$$"
   ]
  },
  {
   "cell_type": "markdown",
   "id": "8450d790",
   "metadata": {
    "editable": true
   },
   "source": [
    "Note that the two vectors are row vectors now.\n",
    "\n",
    "If we stay with this notation we have"
   ]
  },
  {
   "cell_type": "markdown",
   "id": "2f9e04f8",
   "metadata": {
    "editable": true
   },
   "source": [
    "$$\n",
    "\\langle \\phi\\vert\\phi\\rangle = \\langle \\psi \\boldsymbol{U}^{\\dagger}\\boldsymbol{U}\\vert \\psi\\rangle = \\langle \\psi\\vert \\psi\\rangle=1!\n",
    "$$"
   ]
  },
  {
   "cell_type": "markdown",
   "id": "58f4493e",
   "metadata": {
    "editable": true
   },
   "source": [
    "Unitary transformations are rotations in state space which preserve the\n",
    "length (the square root of the inner product) of the state vector."
   ]
  }
 ],
 "metadata": {},
 "nbformat": 4,
 "nbformat_minor": 5
}
