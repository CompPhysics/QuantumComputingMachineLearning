{
 "cells": [
  {
   "cell_type": "markdown",
   "id": "3efbd729",
   "metadata": {
    "editable": true
   },
   "source": [
    "<!-- HTML file automatically generated from DocOnce source (https://github.com/doconce/doconce/)\n",
    "doconce format html week13.do.txt --no_mako -->\n",
    "<!-- dom:TITLE: May 8-12, 2023: Quantum Computing, Quantum Machine Learning and Quantum Information Theories -->"
   ]
  },
  {
   "cell_type": "markdown",
   "id": "23713362",
   "metadata": {
    "editable": true
   },
   "source": [
    "# May 8-12, 2023: Quantum Computing, Quantum Machine Learning and Quantum Information Theories\n",
    "**Morten Hjorth-Jensen**, Department of Physics, University of Oslo and Department of Physics and Astronomy and Facility for Rare Isotope Beams, Michigan State University\n",
    "\n",
    "Date: **May 8-12**"
   ]
  },
  {
   "cell_type": "markdown",
   "id": "ca07102f",
   "metadata": {
    "editable": true
   },
   "source": [
    "## Quantum Fourier transforms and quantum phase estimation\n",
    "\n",
    "1. Quantum Fourier transforms\n",
    "\n",
    "2. Quantum phase estimation\n",
    "\n",
    "3. Summary of course and discussion of project and final oral exam"
   ]
  }
 ],
 "metadata": {},
 "nbformat": 4,
 "nbformat_minor": 5
}
