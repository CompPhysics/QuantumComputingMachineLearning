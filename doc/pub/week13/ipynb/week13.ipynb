{
 "cells": [
  {
   "cell_type": "markdown",
   "id": "88c5a657",
   "metadata": {
    "editable": true
   },
   "source": [
    "<!-- HTML file automatically generated from DocOnce source (https://github.com/doconce/doconce/)\n",
    "doconce format html week13.do.txt --no_mako -->\n",
    "<!-- dom:TITLE: May 8-12, 2023: Quantum Computing, Quantum Machine Learning and Quantum Information Theories -->"
   ]
  },
  {
   "cell_type": "markdown",
   "id": "e2f0ec37",
   "metadata": {
    "editable": true
   },
   "source": [
    "# May 8-12, 2023: Quantum Computing, Quantum Machine Learning and Quantum Information Theories\n",
    "**Morten Hjorth-Jensen**, Department of Physics, University of Oslo and Department of Physics and Astronomy and Facility for Rare Isotope Beams, Michigan State University\n",
    "\n",
    "Date: **May 8-12**"
   ]
  },
  {
   "cell_type": "markdown",
   "id": "24772158",
   "metadata": {
    "editable": true
   },
   "source": [
    "## Quantum Fourier transforms and quantum phase estimation\n",
    "\n",
    "1. Quantum Fourier transforms (QFT) \n",
    "\n",
    "2. Quantum phase estimation (QPE) and computation of eigenvalues\n",
    "\n",
    "3. Discussion of project\n",
    "\n",
    "<!-- dom:FIGURE: [NotesFigs/NotesMay4-0.png] -->\n",
    "<!-- begin figure -->\n",
    "\n",
    "<img src=\"NotesFigs/NotesMay4-0.png\" ><p style=\"font-size: 0.9em\"><i>Figure 1: </i></p>\n",
    "<!-- end figure -->\n",
    "\n",
    "<!-- dom:FIGURE: [NotesFigs/NotesMay4-1.png] -->\n",
    "<!-- begin figure -->\n",
    "\n",
    "<img src=\"NotesFigs/NotesMay4-1.png\" ><p style=\"font-size: 0.9em\"><i>Figure 1: </i></p>\n",
    "<!-- end figure -->\n",
    "\n",
    "<!-- dom:FIGURE: [NotesFigs/NotesMay4-2.png] -->\n",
    "<!-- begin figure -->\n",
    "\n",
    "<img src=\"NotesFigs/NotesMay4-2.png\" ><p style=\"font-size: 0.9em\"><i>Figure 1: </i></p>\n",
    "<!-- end figure -->\n",
    "\n",
    "<!-- dom:FIGURE: [NotesFigs/NotesMay4-3.png] -->\n",
    "<!-- begin figure -->\n",
    "\n",
    "<img src=\"NotesFigs/NotesMay4-3.png\" ><p style=\"font-size: 0.9em\"><i>Figure 1: </i></p>\n",
    "<!-- end figure -->\n",
    "\n",
    "<!-- dom:FIGURE: [NotesFigs/NotesMay4-4.png] -->\n",
    "<!-- begin figure -->\n",
    "\n",
    "<img src=\"NotesFigs/NotesMay4-4.png\" ><p style=\"font-size: 0.9em\"><i>Figure 1: </i></p>\n",
    "<!-- end figure -->\n",
    "\n",
    "<!-- dom:FIGURE: [NotesFigs/NotesMay4-5.png] -->\n",
    "<!-- begin figure -->\n",
    "\n",
    "<img src=\"NotesFigs/NotesMay4-5.png\" ><p style=\"font-size: 0.9em\"><i>Figure 1: </i></p>\n",
    "<!-- end figure -->\n",
    "\n",
    "<!-- dom:FIGURE: [NotesFigs/NotesMay4-6.png] -->\n",
    "<!-- begin figure -->\n",
    "\n",
    "<img src=\"NotesFigs/NotesMay4-6.png\" ><p style=\"font-size: 0.9em\"><i>Figure 1: </i></p>\n",
    "<!-- end figure -->\n",
    "\n",
    "<!-- dom:FIGURE: [NotesFigs/NotesMay4-7.png] -->\n",
    "<!-- begin figure -->\n",
    "\n",
    "<img src=\"NotesFigs/NotesMay4-7.png\" ><p style=\"font-size: 0.9em\"><i>Figure 1: </i></p>\n",
    "<!-- end figure -->\n",
    "\n",
    "<!-- dom:FIGURE: [NotesFigs/NotesMay4-8.png] -->\n",
    "<!-- begin figure -->\n",
    "\n",
    "<img src=\"NotesFigs/NotesMay4-8.png\" ><p style=\"font-size: 0.9em\"><i>Figure 1: </i></p>\n",
    "<!-- end figure -->\n",
    "\n",
    "<!-- dom:FIGURE: [NotesFigs/NotesMay4-9.png] -->\n",
    "<!-- begin figure -->\n",
    "\n",
    "<img src=\"NotesFigs/NotesMay4-9.png\" ><p style=\"font-size: 0.9em\"><i>Figure 1: </i></p>\n",
    "<!-- end figure -->\n",
    "\n",
    "<!-- dom:FIGURE: [NotesFigs/NotesMay4-10.png] -->\n",
    "<!-- begin figure -->\n",
    "\n",
    "<img src=\"NotesFigs/NotesMay4-10.png\" ><p style=\"font-size: 0.9em\"><i>Figure 1: </i></p>\n",
    "<!-- end figure -->\n",
    "\n",
    "<!-- dom:FIGURE: [NotesFigs/NotesMay4-11.png] -->\n",
    "<!-- begin figure -->\n",
    "\n",
    "<img src=\"NotesFigs/NotesMay4-11.png\" ><p style=\"font-size: 0.9em\"><i>Figure 1: </i></p>\n",
    "<!-- end figure -->\n",
    "\n",
    "<!-- dom:FIGURE: [NotesFigs/NotesMay4-12.png] -->\n",
    "<!-- begin figure -->\n",
    "\n",
    "<img src=\"NotesFigs/NotesMay4-12.png\" ><p style=\"font-size: 0.9em\"><i>Figure 1: </i></p>\n",
    "<!-- end figure -->"
   ]
  },
  {
   "cell_type": "markdown",
   "id": "78c269bd",
   "metadata": {
    "editable": true
   },
   "source": [
    "## Plans for the week of May 15-19\n",
    "\n",
    "1. Quantum Phase Estimation algorithm\n",
    "\n",
    "2. Summary of course and discussions of the project and final oral exam"
   ]
  }
 ],
 "metadata": {},
 "nbformat": 4,
 "nbformat_minor": 5
}
