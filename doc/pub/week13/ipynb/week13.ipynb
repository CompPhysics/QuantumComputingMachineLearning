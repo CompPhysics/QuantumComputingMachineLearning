{
 "cells": [
  {
   "cell_type": "markdown",
   "id": "d094ca48",
   "metadata": {
    "editable": true
   },
   "source": [
    "<!-- HTML file automatically generated from DocOnce source (https://github.com/doconce/doconce/)\n",
    "doconce format html week13.do.txt --no_mako -->\n",
    "<!-- dom:TITLE: May 8-12, 2023: Quantum Computing, Quantum Machine Learning and Quantum Information Theories -->"
   ]
  },
  {
   "cell_type": "markdown",
   "id": "ed786ba5",
   "metadata": {
    "editable": true
   },
   "source": [
    "# May 8-12, 2023: Quantum Computing, Quantum Machine Learning and Quantum Information Theories\n",
    "**Morten Hjorth-Jensen**, Department of Physics, University of Oslo and Department of Physics and Astronomy and Facility for Rare Isotope Beams, Michigan State University\n",
    "\n",
    "Date: **May 8-12**"
   ]
  },
  {
   "cell_type": "markdown",
   "id": "6fc17d61",
   "metadata": {
    "editable": true
   },
   "source": [
    "## Quantum Fourier transforms and quantum phase estimation\n",
    "\n",
    "1. Quantum Fourier transforms (QFT) \n",
    "\n",
    "2. Quantum phase estimation (QPE) and computation of eigenvalues\n",
    "\n",
    "3. Discussion of project"
   ]
  },
  {
   "cell_type": "markdown",
   "id": "fe76089c",
   "metadata": {
    "editable": true
   },
   "source": [
    "## Reminder on QFT and Fourier transforms from last week\n",
    "See whiteboard notes"
   ]
  },
  {
   "cell_type": "markdown",
   "id": "c246ce4b",
   "metadata": {
    "editable": true
   },
   "source": [
    "## Bit representation\n",
    "\n",
    "See whiteboard notes"
   ]
  },
  {
   "cell_type": "markdown",
   "id": "ca4f1c3a",
   "metadata": {
    "editable": true
   },
   "source": [
    "## QFT circuits\n",
    "\n",
    "See whiteboard notes"
   ]
  },
  {
   "cell_type": "markdown",
   "id": "6aa5b723",
   "metadata": {
    "editable": true
   },
   "source": [
    "## Plans for the week of May 15-19\n",
    "\n",
    "1. Quantum Phase Estimation algorithm\n",
    "\n",
    "2. Summary of course and discussions of the project and final oral exam"
   ]
  }
 ],
 "metadata": {},
 "nbformat": 4,
 "nbformat_minor": 5
}
