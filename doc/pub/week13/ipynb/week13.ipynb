{
 "cells": [
  {
   "cell_type": "markdown",
   "id": "392c7be3",
   "metadata": {
    "editable": true
   },
   "source": [
    "<!-- HTML file automatically generated from DocOnce source (https://github.com/doconce/doconce/)\n",
    "doconce format html week13.do.txt --no_mako -->\n",
    "<!-- dom:TITLE: May 1-5, 2023: Quantum Computing, Quantum Machine Learning and Quantum Information Theories -->"
   ]
  },
  {
   "cell_type": "markdown",
   "id": "7c2e5ecc",
   "metadata": {
    "editable": true
   },
   "source": [
    "# May 1-5, 2023: Quantum Computing, Quantum Machine Learning and Quantum Information Theories\n",
    "**Morten Hjorth-Jensen**, Department of Physics, University of Oslo and Department of Physics and Astronomy and Facility for Rare Isotope Beams, Michigan State University\n",
    "\n",
    "Date: **Apr 2, 2023**\n",
    "\n",
    "Copyright 1999-2023, Morten Hjorth-Jensen. Released under CC Attribution-NonCommercial 4.0 license"
   ]
  },
  {
   "cell_type": "markdown",
   "id": "968d8e74",
   "metadata": {
    "editable": true
   },
   "source": [
    "## Suzuki-Trotter approximation and quantum computing\n",
    "\n",
    "1. Suzuki-Trotter approximation"
   ]
  }
 ],
 "metadata": {},
 "nbformat": 4,
 "nbformat_minor": 5
}
