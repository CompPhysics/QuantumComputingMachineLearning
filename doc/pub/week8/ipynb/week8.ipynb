{
 "cells": [
  {
   "cell_type": "markdown",
   "id": "27e480f7",
   "metadata": {},
   "source": [
    "<!-- HTML file automatically generated from DocOnce source (https://github.com/doconce/doconce/)\n",
    "doconce format html week8.do.txt --no_mako -->\n",
    "<!-- dom:TITLE: March 13-17,2023: Quantum Computing, Quantum Machine Learning and Quantum Information Theories -->"
   ]
  },
  {
   "cell_type": "markdown",
   "id": "d85210a8",
   "metadata": {},
   "source": [
    "# March 13-17,2023: Quantum Computing, Quantum Machine Learning and Quantum Information Theories\n",
    "**Morten Hjorth-Jensen**, Department of Physics, University of Oslo and Department of Physics and Astronomy and National Superconducting Cyclotron Laboratory, Michigan State University\n",
    "\n",
    "Date: **Mar 23, 2023**\n",
    "\n",
    "Copyright 1999-2023, Morten Hjorth-Jensen. Released under CC Attribution-NonCommercial 4.0 license"
   ]
  },
  {
   "cell_type": "markdown",
   "id": "148483e0",
   "metadata": {},
   "source": [
    "## Solving quantum mechanical problems\n",
    "\n",
    "1. Simple Hamiltonian, the Lipkin model\n",
    "\n",
    "2. Introducing the Variational Quantum Eigensolver (VQE)\n",
    "\n",
    "* [Video of lecture](https://youtu.be/ffIwxiUJGT4)"
   ]
  },
  {
   "cell_type": "markdown",
   "id": "eedfc2b9",
   "metadata": {},
   "source": [
    "## Simple Hamiltonian, the Lipkin model\n",
    "\n",
    "We will study a schematic model (the Lipkin model, see Nuclear\n",
    "Physics **62** (1965) 188), for the interaction among  $2$ and more \n",
    "fermions that can occupy two different energy levels.\n",
    "\n",
    "For four fermions, the case we consider first here, each levels has\n",
    "degeneration $d=4$, leading to different total spin values.  The two\n",
    "levels have quantum numbers $\\sigma=\\pm 1$, with the upper level\n",
    "having $2\\sigma=+1$ and energy $\\varepsilon_{1}= \\varepsilon/2$. The\n",
    "lower level has $2\\sigma=-1$ and energy\n",
    "$\\varepsilon_{2}=-\\varepsilon/2$. That is, the lowest single-particle\n",
    "level has negative spin projection (or spin down), while the upper\n",
    "level has spin up.  In addition, the substates of each level are\n",
    "characterized by the quantum numbers $p=1,2,3,4$.\n",
    "\n",
    "We define the single-particle states (for the four fermion case which we will work on here)"
   ]
  },
  {
   "cell_type": "markdown",
   "id": "c757bf03",
   "metadata": {},
   "source": [
    "$$\n",
    "\\vert u_{\\sigma =-1,p}\\rangle=a_{-p}^{\\dagger}\\vert 0\\rangle\n",
    "\\hspace{1cm}\n",
    "\\vert u_{\\sigma =1,p}\\rangle=a_{+p}^{\\dagger}\\vert 0\\rangle.\n",
    "$$"
   ]
  },
  {
   "cell_type": "markdown",
   "id": "f8d2b4e4",
   "metadata": {},
   "source": [
    "The single-particle states span an orthonormal basis.\n",
    "The Hamiltonian of the system is given by"
   ]
  },
  {
   "cell_type": "markdown",
   "id": "94d2eea6",
   "metadata": {},
   "source": [
    "$$\n",
    "\\begin{array}{ll}\n",
    "\\hat{H}=&\\hat{H}_{0}+\\hat{H}_{1}+\\hat{H}_{2}\\\\\n",
    "&\\\\\n",
    "\\hat{H}_{0}=&\\frac{1}{2}\\varepsilon\\sum_{\\sigma ,p}\\sigma\n",
    "a_{\\sigma,p}^{\\dagger}a_{\\sigma ,p}\\\\\n",
    "&\\\\\n",
    "\\hat{H}_{1}=&\\frac{1}{2}V\\sum_{\\sigma ,p,p'}\n",
    "a_{\\sigma,p}^{\\dagger}a_{\\sigma ,p'}^{\\dagger}\n",
    "a_{-\\sigma ,p'}a_{-\\sigma ,p}\\\\\n",
    "&\\\\\n",
    "\\hat{H}_{2}=&\\frac{1}{2}W\\sum_{\\sigma ,p,p'}\n",
    "a_{\\sigma,p}^{\\dagger}a_{-\\sigma ,p'}^{\\dagger}\n",
    "a_{\\sigma ,p'}a_{-\\sigma ,p}\\\\\n",
    "&\\\\\n",
    "\\end{array}\n",
    "$$"
   ]
  },
  {
   "cell_type": "markdown",
   "id": "9c2a7011",
   "metadata": {},
   "source": [
    "where $V$ and $W$ are constants. The operator \n",
    "$H_{1}$ can move pairs of fermions\n",
    "while $H_{2}$ is a spin-exchange term. The latter\n",
    "moves a pair of fermions from a state $(p\\sigma ,p' -\\sigma)$ to a state\n",
    "$(p-\\sigma ,p'\\sigma)$.\n",
    "\n",
    "We are going to rewrite the above Hamiltonian in terms of so-called  quasispin operators"
   ]
  },
  {
   "cell_type": "markdown",
   "id": "4d09aa64",
   "metadata": {},
   "source": [
    "$$\n",
    "\\begin{array}{ll}\n",
    "\\hat{J}_{+}=&\\sum_{p}\n",
    "a_{p+}^{\\dagger}a_{p-}\\\\\n",
    "&\\\\\n",
    "\\hat{J}_{-}=&\\sum_{p}\n",
    "a_{p-}^{\\dagger}a_{p+}\\\\\n",
    "&\\\\\n",
    "\\hat{J}_{z}=&\\frac{1}{2}\\sum_{p\\sigma}\\sigma\n",
    "a_{p\\sigma}^{\\dagger}a_{p\\sigma}\\\\\n",
    "&\\\\\n",
    "\\hat{J}^{2}=&J_{+}J_{-}+J_{z}^{2}-J_{z}\\\\\n",
    "&\\\\\n",
    "\\end{array}\n",
    "$$"
   ]
  },
  {
   "cell_type": "markdown",
   "id": "48368847",
   "metadata": {},
   "source": [
    "We show here that these operators obey the commutation relations for angular momentum.\n",
    "\n",
    "We can in turn express $\\hat{H}$ in terms of the above quasispin operators and the number operator"
   ]
  },
  {
   "cell_type": "markdown",
   "id": "29997b35",
   "metadata": {},
   "source": [
    "$$\n",
    "\\hat{N}=\\sum_{p\\sigma}\n",
    "a_{p\\sigma}^{\\dagger}a_{p\\sigma}.\n",
    "$$"
   ]
  },
  {
   "cell_type": "markdown",
   "id": "3d7b1eaf",
   "metadata": {},
   "source": [
    "We have the following quasispin operators"
   ]
  },
  {
   "cell_type": "markdown",
   "id": "5c59ace5",
   "metadata": {},
   "source": [
    "<!-- Equation labels as ordinary links -->\n",
    "<div id=\"eq:Jpm\"></div>\n",
    "\n",
    "$$\n",
    "\\begin{equation}\n",
    "J_{\\pm} = \\sum_p a_{p\\pm}^\\dagger a_{p\\mp},\n",
    "\\label{eq:Jpm} \\tag{1} \n",
    "\\end{equation}\n",
    "$$"
   ]
  },
  {
   "cell_type": "markdown",
   "id": "12d3a48d",
   "metadata": {},
   "source": [
    "<!-- Equation labels as ordinary links -->\n",
    "<div id=\"eq:Jz\"></div>\n",
    "\n",
    "$$\n",
    "\\begin{equation} \n",
    "J_{z} = \\frac{1}{2}\\sum_{p,\\sigma} \\sigma a_{p\\sigma}^\\dagger a_{p\\sigma},\n",
    "\\label{eq:Jz} \\tag{2} \n",
    "\\end{equation}\n",
    "$$"
   ]
  },
  {
   "cell_type": "markdown",
   "id": "61d46e28",
   "metadata": {},
   "source": [
    "<!-- Equation labels as ordinary links -->\n",
    "<div id=\"eq:J2\"></div>\n",
    "\n",
    "$$\n",
    "\\begin{equation} \n",
    "J^{2} = J_+ J_- + J_z^2 - J_z,\n",
    "\\label{eq:J2} \\tag{3}\n",
    "\\end{equation}\n",
    "$$"
   ]
  },
  {
   "cell_type": "markdown",
   "id": "2eb2a8a5",
   "metadata": {},
   "source": [
    "and we want to compute the commutators"
   ]
  },
  {
   "cell_type": "markdown",
   "id": "084f5349",
   "metadata": {},
   "source": [
    "$$\n",
    "[J_z,J_\\pm], \\quad [J_+,J_-], \\quad [J^2,J_\\pm] \\quad \\text{og} \\quad \n",
    "[J^2,J_z].\n",
    "$$"
   ]
  },
  {
   "cell_type": "markdown",
   "id": "fa082c98",
   "metadata": {},
   "source": [
    "Let us start with the first one and inserting for  $J_z$ and $J_\\pm$ given by the equations ([2](#eq:Jz)) and ([1](#eq:Jpm)), respectively, we obtain"
   ]
  },
  {
   "cell_type": "markdown",
   "id": "cde54089",
   "metadata": {},
   "source": [
    "$$\n",
    "\\begin{align*}\n",
    "[J_z,J_\\pm] &= J_z J_\\pm - J_\\pm J_z \\\\\n",
    "%\n",
    "&= \\left( \\frac{1}{2}\\sum_{p,\\sigma} \\sigma a_{p\\sigma}^\\dagger a_{p\\sigma} \\right)\n",
    "\\left( \\sum_{p'} a_{p'\\pm}^\\dagger a_{p'\\mp} \\right) -\n",
    "\\left( \\sum_{p'} a_{p'\\pm}^\\dagger a_{p'\\mp} \\right)\n",
    "\\left( \\frac{1}{2}\\sum_{p,\\sigma} \\sigma a_{p\\sigma}^\\dagger a_{p\\sigma} \\right) \\\\\n",
    "&= \\frac{1}{2} \\sum_{p,p',\\sigma} \\sigma \\left( a_{p\\sigma}^\\dagger a_{p\\sigma} a_{p'\\pm}^\\dagger a_{p'\\mp} - a_{p'\\pm}^\\dagger a_{p'\\mp} a_{p\\sigma}^\\dagger a_{p\\sigma} \\right).\n",
    "\\end{align*}\n",
    "$$"
   ]
  },
  {
   "cell_type": "markdown",
   "id": "f3091079",
   "metadata": {},
   "source": [
    "Using the commutation relations for the creation and annihilation operators"
   ]
  },
  {
   "cell_type": "markdown",
   "id": "df0aa687",
   "metadata": {},
   "source": [
    "<!-- Equation labels as ordinary links -->\n",
    "<div id=\"eq:al,ak\"></div>\n",
    "\n",
    "$$\n",
    "\\begin{equation}\n",
    "\\{ a_l,a_k \\} = 0, \\label{eq:al,ak} \\tag{4} \n",
    "\\end{equation}\n",
    "$$"
   ]
  },
  {
   "cell_type": "markdown",
   "id": "42616d67",
   "metadata": {},
   "source": [
    "<!-- Equation labels as ordinary links -->\n",
    "<div id=\"eq:ald,akd\"></div>\n",
    "\n",
    "$$\n",
    "\\begin{equation} \n",
    "\\{ a_l^\\dagger , a_k^\\dagger \\} = 0, \\label{eq:ald,akd} \\tag{5} \n",
    "\\end{equation}\n",
    "$$"
   ]
  },
  {
   "cell_type": "markdown",
   "id": "f4d30292",
   "metadata": {},
   "source": [
    "<!-- Equation labels as ordinary links -->\n",
    "<div id=\"eq:ald,ak\"></div>\n",
    "\n",
    "$$\n",
    "\\begin{equation} \n",
    "\\{ a_l^\\dagger , a_k \\} = \\delta_{lk}, \\label{eq:ald,ak} \\tag{6}\n",
    "\\end{equation}\n",
    "$$"
   ]
  },
  {
   "cell_type": "markdown",
   "id": "87c3a413",
   "metadata": {},
   "source": [
    "in order to move the operators in the right product to be in the same order as those in the lefthand product"
   ]
  },
  {
   "cell_type": "markdown",
   "id": "ddb4fd92",
   "metadata": {},
   "source": [
    "$$\n",
    "\\begin{align*}\n",
    "[J_z,J_\\pm] &= \\frac{1}{2} \\sum_{p,p',\\sigma} \\sigma \\left(\n",
    "a_{p\\sigma}^\\dagger a_{p\\sigma} a_{p'\\pm}^\\dagger a_{p'\\mp} -\n",
    "a_{p'\\pm}^\\dagger \\left( \\delta_{p' p} \\delta_{\\mp \\sigma} - a_{p\\sigma}^\\dagger a_{p'\\mp} \\right) a_{p\\sigma} \\right) \\\\\n",
    "&= \\frac{1}{2} \\sum_{p,p',\\sigma} \\sigma \\left(\n",
    "a_{p\\sigma}^\\dagger a_{p\\sigma} a_{p'\\pm}^\\dagger a_{p'\\mp} -\n",
    "a_{p'\\pm}^\\dagger \\delta_{p' p} \\delta_{\\mp \\sigma} a_{p\\sigma} +\n",
    "a_{p'\\pm}^\\dagger a_{p\\sigma}^\\dagger a_{p'\\mp} a_{p\\sigma} \\right), \\\\\n",
    "\\end{align*}\n",
    "$$"
   ]
  },
  {
   "cell_type": "markdown",
   "id": "1ff52645",
   "metadata": {},
   "source": [
    "which results in"
   ]
  },
  {
   "cell_type": "markdown",
   "id": "8468ba24",
   "metadata": {},
   "source": [
    "$$\n",
    "\\begin{align*}\n",
    "[J_z,J_\\pm]\n",
    "&= \\frac{1}{2} \\sum_{p,p',\\sigma} \\sigma \\left(\n",
    "a_{p\\sigma}^\\dagger a_{p\\sigma} a_{p'\\pm}^\\dagger a_{p'\\mp} -\n",
    "a_{p'\\pm}^\\dagger \\delta_{pp'} \\delta_{\\mp \\sigma} a_{p\\sigma} +\n",
    "a_{p\\sigma}^\\dagger a_{p'\\pm}^\\dagger a_{p\\sigma} a_{p'\\mp} \\right) \\\\\n",
    "&= \\frac{1}{2} \\sum_{p,p',\\sigma} \\sigma \\left(\n",
    "a_{p\\sigma}^\\dagger a_{p\\sigma} a_{p'\\pm}^\\dagger a_{p'\\mp} -\n",
    "a_{p'\\pm}^\\dagger \\delta_{pp'} \\delta_{\\mp \\sigma} a_{p\\sigma} +\n",
    "a_{p\\sigma}^\\dagger \\left( \\delta_{pp'} \\delta_{\\pm \\sigma} - a_{p\\sigma} a_{p'\\pm}^\\dagger \\right) a_{p'\\mp} \\right) \\\\\n",
    "&= \\frac{1}{2} \\sum_{p,p',\\sigma} \\sigma \\left(\n",
    "a_{p\\sigma}^\\dagger \\delta_{pp'} \\delta_{\\pm \\sigma} a_{p'\\mp} -\n",
    "a_{p'\\pm}^\\dagger \\delta_{pp'} \\delta_{\\mp \\sigma} a_{p\\sigma} \\right). \\\\\n",
    "\\end{align*}\n",
    "$$"
   ]
  },
  {
   "cell_type": "markdown",
   "id": "8b4b7101",
   "metadata": {},
   "source": [
    "The last equality leads to"
   ]
  },
  {
   "cell_type": "markdown",
   "id": "04059c11",
   "metadata": {},
   "source": [
    "$$\n",
    "\\begin{align*}\n",
    "[J_z,J_\\pm] &= \\frac{1}{2} \\sum_p \\left(\n",
    "(\\pm 1) a_{p\\pm}^\\dagger a_{p\\mp} - (\\mp 1)\n",
    "a_{p\\pm}^\\dagger a_{p\\mp} \\right) =\n",
    "\\pm \\frac{1}{2} \\sum_p \\left(\n",
    "a_{p\\pm}^\\dagger a_{p\\mp} + (\\pm 1)\n",
    "a_{p\\pm}^\\dagger a_{p\\mp} \\right) \\\\\n",
    "&= \\pm \\sum_p a_{p\\pm}^\\dagger a_{p\\mp} = \\pm J_\\pm,\n",
    "\\end{align*}\n",
    "$$"
   ]
  },
  {
   "cell_type": "markdown",
   "id": "82923de4",
   "metadata": {},
   "source": [
    "where the last results follows from comparing with Eq. ([1](#eq:Jpm)).\n",
    "\n",
    "We can then continue with the next commutation relation, using Eq. ([1](#eq:Jpm)),"
   ]
  },
  {
   "cell_type": "markdown",
   "id": "7569be28",
   "metadata": {},
   "source": [
    "$$\n",
    "\\begin{align*}\n",
    "[J_+,J_-] &= J_+ J_- - J_- J_+ \\\\\n",
    "&= \\left( \\sum_p a_{p'+}^\\dagger a_{p-} \\right)\n",
    "\\left( \\sum_{p'} a_{p'-}^\\dagger a_{p'+} \\right) -\n",
    "\\left( \\sum_{p'} a_{p'-}^\\dagger a_{p'+} \\right)\n",
    "\\left( \\sum_p a_{p+}^\\dagger a_{p-} \\right) \\\\\n",
    "&= \\sum_{p,p'} \\left(\n",
    "a_{p'+}^\\dagger a_{p-} a_{p'-}^\\dagger a_{p'+} -\n",
    "a_{p'-}^\\dagger a_{p'+} a_{p+}^\\dagger a_{p-} \\right) \\\\\n",
    "&= \\sum_{p,p'} \\left(\n",
    "a_{p'+}^\\dagger a_{p-} a_{p'-}^\\dagger a_{p'+} -\n",
    "a_{p'-}^\\dagger \\left( \\delta_{++} \\delta_{pp'} -\n",
    "a_{p+}^\\dagger a_{p'+} \\right) a_{p-} \\right) \\\\\n",
    "&= \\sum_{p,p'} \\left(\n",
    "a_{p'+}^\\dagger a_{p-} a_{p'-}^\\dagger a_{p'+} -\n",
    "a_{p'-}^\\dagger \\delta_{pp'} a_{p-} +\n",
    "a_{p'-}^\\dagger a_{p+}^\\dagger a_{p'+} a_{p-} \\right) \\\\\n",
    "&= \\sum_{p,p'} \\left(\n",
    "a_{p'+}^\\dagger a_{p-} a_{p'-}^\\dagger a_{p'+} -\n",
    "a_{p'-}^\\dagger \\delta_{pp'} a_{p-} +\n",
    "a_{p+}^\\dagger a_{p'-}^\\dagger a_{p-} a_{p'+} \\right) \\\\\n",
    "&= \\sum_{p,p'} \\left(\n",
    "a_{p'+}^\\dagger a_{p-} a_{p'-}^\\dagger a_{p'+} -\n",
    "a_{p'-}^\\dagger \\delta_{pp'} a_{p-} +\n",
    "a_{p+}^\\dagger \\left( \\delta_{--} \\delta_{pp'} -\n",
    "a_{p-} a_{p'-}^\\dagger \\right) a_{p'+} \\right) \\\\\n",
    "&= \\sum_{p,p'} \\left(\n",
    "a_{p+}^\\dagger \\delta_{pp'} a_{p'+} -\n",
    "a_{p'-}^\\dagger \\delta_{pp'} a_{p-} \\right), \\\\\n",
    "\\end{align*}\n",
    "$$"
   ]
  },
  {
   "cell_type": "markdown",
   "id": "4eee2617",
   "metadata": {},
   "source": [
    "which results in"
   ]
  },
  {
   "cell_type": "markdown",
   "id": "d109e147",
   "metadata": {},
   "source": [
    "$$\n",
    "[J_+,J_-] = \\sum_p \\left(\n",
    "a_{p+}^\\dagger a_{p+} -\n",
    "a_{p-}^\\dagger a_{p-} \\right) = 2J_z,\n",
    "$$"
   ]
  },
  {
   "cell_type": "markdown",
   "id": "d2fe2273",
   "metadata": {},
   "source": [
    "It is straightforward to show that"
   ]
  },
  {
   "cell_type": "markdown",
   "id": "72f51002",
   "metadata": {},
   "source": [
    "$$\n",
    "[J^2, J_\\pm] = [J_+ J_- + J_z^2 - J_z, J_\\pm] =\n",
    "[J_+ J_-, J_\\pm] + [J_z^2, J_\\pm] - [J_z, J_\\pm].\n",
    "$$"
   ]
  },
  {
   "cell_type": "markdown",
   "id": "1c157e74",
   "metadata": {},
   "source": [
    "Using the relations"
   ]
  },
  {
   "cell_type": "markdown",
   "id": "5dea798f",
   "metadata": {},
   "source": [
    "<!-- Equation labels as ordinary links -->\n",
    "<div id=\"eq:ab,c\"></div>\n",
    "\n",
    "$$\n",
    "\\begin{equation}\n",
    "[AB,C] = A[B,C] + [A,C]B, \\label{eq:ab,c} \\tag{7} \n",
    "\\end{equation}\n",
    "$$"
   ]
  },
  {
   "cell_type": "markdown",
   "id": "a19259b1",
   "metadata": {},
   "source": [
    "<!-- Equation labels as ordinary links -->\n",
    "<div id=\"eq:a,bc\"></div>\n",
    "\n",
    "$$\n",
    "\\begin{equation} \n",
    "[A,BC] = [A,B]C + B[A,C], \\label{eq:a,bc} \\tag{8}\n",
    "\\end{equation}\n",
    "$$"
   ]
  },
  {
   "cell_type": "markdown",
   "id": "3733bef2",
   "metadata": {},
   "source": [
    "we obtain"
   ]
  },
  {
   "cell_type": "markdown",
   "id": "a203c548",
   "metadata": {},
   "source": [
    "$$\n",
    "[J^2, J_\\pm] =\n",
    "J_+ [J_-,J_\\pm] + [J_+,J_\\pm] J_- + J_z [J_z,J_\\pm] + [J_z,J_\\pm] J_z - [J_z,J_\\pm].\n",
    "$$"
   ]
  },
  {
   "cell_type": "markdown",
   "id": "0379a357",
   "metadata": {},
   "source": [
    "Finally, from the above it follows that"
   ]
  },
  {
   "cell_type": "markdown",
   "id": "45862dee",
   "metadata": {},
   "source": [
    "$$\n",
    "\\begin{align*}\n",
    "[J^2, J_+] &= -2J_+ J_z + J_z [J_z,J_+] + [J_z,J_+] J_z - [J_z,J_+] \\\\\n",
    "&= -2J_+ J_z + J_z J_+ + J_+ J_z - J_+ \\\\\n",
    "&= -2J_+ J_z + J_+ + J_+ J_z + J_+ J_z - J_+ = 0,\n",
    "\\end{align*}\n",
    "$$"
   ]
  },
  {
   "cell_type": "markdown",
   "id": "4a5d4d72",
   "metadata": {},
   "source": [
    "and"
   ]
  },
  {
   "cell_type": "markdown",
   "id": "2dc92200",
   "metadata": {},
   "source": [
    "$$\n",
    "\\begin{align*}\n",
    "[J^2, J_-] &= 2J_z J_- + J_z [J_z,J_-] + [J_z,J_-] J_z - [J_z,J_-] \\\\\n",
    "&= 2J_z J_- - J_z J_- - J_- J_z + J_- \\\\\n",
    "&= J_z J_- - (J_z J_- + J_-) + J_- = 0.\n",
    "\\end{align*}\n",
    "$$"
   ]
  },
  {
   "cell_type": "markdown",
   "id": "71acb860",
   "metadata": {},
   "source": [
    "Our last commutator is given by"
   ]
  },
  {
   "cell_type": "markdown",
   "id": "0de250a7",
   "metadata": {},
   "source": [
    "$$\n",
    "\\begin{align*}\n",
    "[J^2,J_z] &= [J_+ J_- + J_z^2 - J_z, J_z] \\\\\n",
    "&= [J_+ J_-, J_z] + [J_z^2, J_z] - [J_z, J_z] \\\\\n",
    "&= J_+ [J_-, J_z] + [J_+,J_z] J_- \\\\\n",
    "&= J_+ J_- - J_+ J_- = 0\n",
    "\\end{align*}\n",
    "$$"
   ]
  },
  {
   "cell_type": "markdown",
   "id": "1080d3b4",
   "metadata": {},
   "source": [
    "Summing up we have"
   ]
  },
  {
   "cell_type": "markdown",
   "id": "f189aef0",
   "metadata": {},
   "source": [
    "<!-- Equation labels as ordinary links -->\n",
    "<div id=\"eq:kJzJpm\"></div>\n",
    "\n",
    "$$\n",
    "\\begin{equation}\n",
    "[J_z, J_\\pm] = \\pm J_\\pm, \\label{eq:kJzJpm} \\tag{9} \n",
    "\\end{equation}\n",
    "$$"
   ]
  },
  {
   "cell_type": "markdown",
   "id": "015bfb56",
   "metadata": {},
   "source": [
    "<!-- Equation labels as ordinary links -->\n",
    "<div id=\"eq:kJpJm\"></div>\n",
    "\n",
    "$$\n",
    "\\begin{equation} \n",
    "[J_+, J_-] = 2J_z, \\label{eq:kJpJm} \\tag{10} \n",
    "\\end{equation}\n",
    "$$"
   ]
  },
  {
   "cell_type": "markdown",
   "id": "0d88b73c",
   "metadata": {},
   "source": [
    "<!-- Equation labels as ordinary links -->\n",
    "<div id=\"eq:kJ2Jpm\"></div>\n",
    "\n",
    "$$\n",
    "\\begin{equation} \n",
    "[J^2, J_\\pm] = 0, \\label{eq:kJ2Jpm} \\tag{11} \n",
    "\\end{equation}\n",
    "$$"
   ]
  },
  {
   "cell_type": "markdown",
   "id": "1ee964b8",
   "metadata": {},
   "source": [
    "<!-- Equation labels as ordinary links -->\n",
    "<div id=\"eq:kJ2Jz\"></div>\n",
    "\n",
    "$$\n",
    "\\begin{equation} \n",
    "[J^2,J_z] = 0, \\label{eq:kJ2Jz} \\tag{12}\n",
    "\\end{equation}\n",
    "$$"
   ]
  },
  {
   "cell_type": "markdown",
   "id": "3061c628",
   "metadata": {},
   "source": [
    "which are the standard commutation relations for angular (or orbital) momentum $L_\\pm$, $L_z$ og $L^2$."
   ]
  },
  {
   "cell_type": "markdown",
   "id": "9d738260",
   "metadata": {},
   "source": [
    "## Rewriting the Hamiltonian\n",
    "\n",
    "We wrote the above Hamiltonian as"
   ]
  },
  {
   "cell_type": "markdown",
   "id": "105349d4",
   "metadata": {},
   "source": [
    "$$\n",
    "H = H_0 + H_1 +H_2,\n",
    "$$"
   ]
  },
  {
   "cell_type": "markdown",
   "id": "65315b70",
   "metadata": {},
   "source": [
    "with"
   ]
  },
  {
   "cell_type": "markdown",
   "id": "c2c918c2",
   "metadata": {},
   "source": [
    "$$\n",
    "H_0 = \\frac{1}{2} \\varepsilon \\sum_{p\\sigma}\\sigma a_{p\\sigma}^{\\dagger}a_{p\\sigma},\n",
    "$$"
   ]
  },
  {
   "cell_type": "markdown",
   "id": "484e08ec",
   "metadata": {},
   "source": [
    "and"
   ]
  },
  {
   "cell_type": "markdown",
   "id": "948213c4",
   "metadata": {},
   "source": [
    "$$\n",
    "H_1 = \\frac{1}{2} V \\sum_{p,p',\\sigma} a_{p\\sigma}^\\dagger a_{p'\\sigma}^\\dagger a_{p'-\\sigma} a_{p-\\sigma},\n",
    "$$"
   ]
  },
  {
   "cell_type": "markdown",
   "id": "f0830cb0",
   "metadata": {},
   "source": [
    "and"
   ]
  },
  {
   "cell_type": "markdown",
   "id": "e26602cb",
   "metadata": {},
   "source": [
    "$$\n",
    "H_{2} = \\frac{1}{2} W \\sum_{p,p',\\sigma}a_{p\\sigma}^\\dagger a_{p'-\\sigma}^\\dagger a_{p'\\sigma}a_{p-\\sigma}.\n",
    "$$"
   ]
  },
  {
   "cell_type": "markdown",
   "id": "c3816074",
   "metadata": {},
   "source": [
    "We will now rewrite the Hamiltonian in terms of the above quasi-spin operators and the number operator"
   ]
  },
  {
   "cell_type": "markdown",
   "id": "2a1eea89",
   "metadata": {},
   "source": [
    "<!-- Equation labels as ordinary links -->\n",
    "<div id=\"eq:N\"></div>\n",
    "\n",
    "$$\n",
    "\\begin{equation}\n",
    "N = \\sum_{p,\\sigma} a_{p\\sigma}^\\dagger a_{p\\sigma}.\n",
    "\\label{eq:N} \\tag{13}\n",
    "\\end{equation}\n",
    "$$"
   ]
  },
  {
   "cell_type": "markdown",
   "id": "b007e588",
   "metadata": {},
   "source": [
    "Going through each term of the Hamiltonian and using the expressions for the quasi-spin operators we obtain"
   ]
  },
  {
   "cell_type": "markdown",
   "id": "a7685a64",
   "metadata": {},
   "source": [
    "<!-- Equation labels as ordinary links -->\n",
    "<div id=\"eq:H0ny\"></div>\n",
    "\n",
    "$$\n",
    "\\begin{equation}\n",
    "H_0 = \\varepsilon J_z.\n",
    "\\label{eq:H0ny} \\tag{14}\n",
    "\\end{equation}\n",
    "$$"
   ]
  },
  {
   "cell_type": "markdown",
   "id": "4cd1de9f",
   "metadata": {},
   "source": [
    "Moving over to $H_1$ and using the anti-commutation relations ([4](#eq:al,ak)) through ([6](#eq:ald,ak)) we obtain"
   ]
  },
  {
   "cell_type": "markdown",
   "id": "7c75bffd",
   "metadata": {},
   "source": [
    "$$\n",
    "\\begin{align*}\n",
    "H_1 &= \\frac{1}{2} V \\sum_{p,p',\\sigma}\n",
    "a_{p\\sigma}^\\dagger a_{p'\\sigma}^\\dagger a_{p'-\\sigma} a_{p-\\sigma} \\\\\n",
    "&= \\frac{1}{2} V \\sum_{p,p',\\sigma}\n",
    "-a_{p\\sigma}^\\dagger a_{p'\\sigma}^\\dagger a_{p-\\sigma} a_{p'-\\sigma} \\\\\n",
    "&= \\frac{1}{2} V \\sum_{p,p',\\sigma}\n",
    "-a_{p\\sigma}^\\dagger \\left( \\delta_{pp'} \\delta_{\\sigma -\\sigma} - a_{p-\\sigma} a_{p'\\sigma}^\\dagger \\right) a_{p'-\\sigma} \\\\\n",
    "&= \\frac{1}{2} V \\sum_{p,p',\\sigma}\n",
    "a_{p\\sigma}^\\dagger a_{p-\\sigma} a_{p'\\sigma}^\\dagger a_{p'-\\sigma} \\\\\n",
    "\\end{align*}\n",
    "$$"
   ]
  },
  {
   "cell_type": "markdown",
   "id": "454801c5",
   "metadata": {},
   "source": [
    "Rewriting the sum  over $\\sigma$ we arrive at"
   ]
  },
  {
   "cell_type": "markdown",
   "id": "d86a35a8",
   "metadata": {},
   "source": [
    "$$\n",
    "\\begin{align*}\n",
    "H_1 &= \\frac{1}{2} V\\sum_{p,p'}\n",
    "a_{p+}^\\dagger a_{p-} a_{p'+}^\\dagger a_{p'-} +\n",
    "a_{p-}^\\dagger a_{p+} a_{p'-}^\\dagger a_{p'+} \\\\\n",
    "&= \\frac{1}{2} V \\left[ \\sum_p \\left( a_{p+}^\\dagger a_{p-} \\right)\n",
    "\\sum_{p'} \\left( a_{p'+}^\\dagger a_{p'-} \\right) +\n",
    "\\sum_p \\left( a_{p-}^\\dagger a_{p+} \\right)\n",
    "\\sum_{p'} \\left( a_{p'-}^\\dagger a_{p'+} \\right) \\right] \\\\\n",
    "&= \\frac{1}{2} V \\left[ J_+ J_+ + J_- J_- \\right] = \\frac{1}{2} V \\left[ J_+^2 + J_-^2 \\right] ,\n",
    "\\end{align*}\n",
    "$$"
   ]
  },
  {
   "cell_type": "markdown",
   "id": "1a11152b",
   "metadata": {},
   "source": [
    "which leads to"
   ]
  },
  {
   "cell_type": "markdown",
   "id": "cc31b78d",
   "metadata": {},
   "source": [
    "<!-- Equation labels as ordinary links -->\n",
    "<div id=\"eq:H1ny\"></div>\n",
    "\n",
    "$$\n",
    "\\begin{equation}\n",
    "H_1 = \\frac{1}{2} V \\left( J_+^2 + J_-^2 \\right).\n",
    "\\label{eq:H1ny} \\tag{15}\n",
    "\\end{equation}\n",
    "$$"
   ]
  },
  {
   "cell_type": "markdown",
   "id": "21dbf855",
   "metadata": {},
   "source": [
    "Finally, we rewrite the last term"
   ]
  },
  {
   "cell_type": "markdown",
   "id": "a401217e",
   "metadata": {},
   "source": [
    "$$\n",
    "\\begin{align*}\n",
    "H_2 &= \\frac{1}{2} W \\sum_{p,p',\\sigma}\n",
    "a_{p\\sigma}^\\dagger a_{p'-\\sigma}^\\dagger a_{p'\\sigma} a_{p-\\sigma} \\\\\n",
    "&= \\frac{1}{2} W \\sum_{p,p',\\sigma}\n",
    "-a_{p\\sigma}^\\dagger a_{p'-\\sigma}^\\dagger a_{p-\\sigma} a_{p'\\sigma} \\\\\n",
    "&= \\frac{1}{2} W \\sum_{p,p',\\sigma}\n",
    "-a_{p\\sigma}^\\dagger \\left( \\delta_{pp'} \\delta_{-\\sigma -\\sigma} -\n",
    "a_{p-\\sigma} a_{p'-\\sigma}^\\dagger \\right) a_{p'\\sigma} \\\\\n",
    "&= \\frac{1}{2} W \\sum_{p,p',\\sigma}\n",
    "-a_{p\\sigma}^\\dagger \\delta_{pp'} a_{p'\\sigma} +\n",
    "a_{p\\sigma}^\\dagger a_{p-\\sigma} a_{p'-\\sigma}^\\dagger a_{p'\\sigma} \\\\\n",
    "&= \\frac{1}{2} W \\left( -\\sum_{p,\\sigma}\n",
    "a_{p\\sigma}^\\dagger a_{p\\sigma} +\n",
    "\\sum_{p,p',\\sigma} a_{p\\sigma}^\\dagger a_{p-\\sigma} a_{p'-\\sigma}^\\dagger a_{p'\\sigma} \\right) \\\\\n",
    "\\end{align*}\n",
    "$$"
   ]
  },
  {
   "cell_type": "markdown",
   "id": "63eec1b4",
   "metadata": {},
   "source": [
    "Using the expression for the number operator we obtain"
   ]
  },
  {
   "cell_type": "markdown",
   "id": "fc59de03",
   "metadata": {},
   "source": [
    "$$\n",
    "\\begin{align*}\n",
    "\\sum_{p,p',\\sigma} a_{p\\sigma}^\\dagger a_{p-\\sigma} a_{p'-\\sigma}^\\dagger a_{p'\\sigma}\n",
    "&= \\sum_{p,p'} a_{p+}^\\dagger a_{p-} a_{p'-}^\\dagger a_{p'+} +\n",
    "a_{p-}^\\dagger a_{p+} a_{p'+}^\\dagger a_{p'-} \\\\\n",
    "&= \\sum_p \\left( a_{p+}^\\dagger a_{p-} \\right)\n",
    "\\sum_{p'} \\left( a_{p'-}^\\dagger a_{p'+} \\right) +\n",
    "\\sum_p \\left( a_{p-}^\\dagger a_{p+} \\right)\n",
    "\\sum_{p'} \\left( a_{p'+}^\\dagger a_{p'-} \\right) \\\\\n",
    "&= J_+ J_- + J_- J_+,\n",
    "\\end{align*}\n",
    "$$"
   ]
  },
  {
   "cell_type": "markdown",
   "id": "178c3875",
   "metadata": {},
   "source": [
    "resulting in"
   ]
  },
  {
   "cell_type": "markdown",
   "id": "cdbfd891",
   "metadata": {},
   "source": [
    "<!-- Equation labels as ordinary links -->\n",
    "<div id=\"eq:H2ny\"></div>\n",
    "\n",
    "$$\n",
    "\\begin{equation}\n",
    "H_2 = \\frac{1}{2} W \\left( -N + J_+ J_- + J_- J_+ \\right).\n",
    "\\label{eq:H2ny} \\tag{16}\n",
    "\\end{equation}\n",
    "$$"
   ]
  },
  {
   "cell_type": "markdown",
   "id": "9e465528",
   "metadata": {},
   "source": [
    "We have thus expressed the Hamiltonian in term of the quasi-spin operators."
   ]
  },
  {
   "cell_type": "markdown",
   "id": "17715b5a",
   "metadata": {},
   "source": [
    "## Commutation relations for the Hamiltonian\n",
    "\n",
    "The above expressions can in turn be used to show that the Hamiltonian\n",
    "commutes with the various quasi-spin operators. This leads to quantum\n",
    "numbers which are conserved.  Let us first show that $[H,J^2]=0$,\n",
    "which means that $J$ is a so-called *good* quantum number and that the\n",
    "total spin is a conserved quantum number.\n",
    "\n",
    "We have"
   ]
  },
  {
   "cell_type": "markdown",
   "id": "bddc30ad",
   "metadata": {},
   "source": [
    "$$\n",
    "\\begin{align*}\n",
    "[H,J^2] &= [H_0 + H_1 + H_2,J^2] \\\\\n",
    "&= [H_0,J^2] + [H_1,J^2] + [H_2,J^2] \\\\\n",
    "&= \\varepsilon [J_z,J^2] + \\frac{1}{2} V [J_+^2 + J_-^2,J^2] +\n",
    "\\frac{1}{2} W [-N + J_+ J_- + J_- J_+,J^2]. \\\\\n",
    "\\end{align*}\n",
    "$$"
   ]
  },
  {
   "cell_type": "markdown",
   "id": "a5831f40",
   "metadata": {},
   "source": [
    "We have previously shown that"
   ]
  },
  {
   "cell_type": "markdown",
   "id": "0a587683",
   "metadata": {},
   "source": [
    "$$\n",
    "[H,J^2] = \\frac{1}{2} V \\left( [J_+^2,J^2] + [J_-^2,J^2] \\right) +\n",
    "\\frac{1}{2} W \\left( -[N,J^2] + [J_+ J_-,J^2] + [J_- J_+, J^2] \\right)\n",
    "$$"
   ]
  },
  {
   "cell_type": "markdown",
   "id": "dc6e9b70",
   "metadata": {},
   "source": [
    "Using that $[J_\\pm,J^2] = 0$, it follows that $[J_\\pm^2,J^2] = 0$. We can then see that $[J_+ J_-,J^2] = 0$ and $[J_- J_+, J^2] = 0$ which leads to"
   ]
  },
  {
   "cell_type": "markdown",
   "id": "22b4ef04",
   "metadata": {},
   "source": [
    "$$\n",
    "\\begin{align*}\n",
    "[H,J^2] &= -\\frac{1}{2} W [N,J^2] \\\\\n",
    "&= \\frac{1}{2} W \\left( -[N,J_+ J_-] - [N,J_z^2] + [N,J_z] \\right) \\\\\n",
    "&= \\frac{1}{2} W \\left( -[N,J_+]J_- - J_+[N,J_-] - [N,J_z]J_z - J_z[N,J_z] + [N,J_z] \\right).\n",
    "\\end{align*}\n",
    "$$"
   ]
  },
  {
   "cell_type": "markdown",
   "id": "cc62c54f",
   "metadata": {},
   "source": [
    "Combining with the number operator we have"
   ]
  },
  {
   "cell_type": "markdown",
   "id": "b1b63e3f",
   "metadata": {},
   "source": [
    "$$\n",
    "\\begin{align*}\n",
    "[N,J_\\pm] &= N J_\\pm - J_\\pm N \\\\\n",
    "&= \\left( \\sum_{p,\\sigma} a_{p\\sigma}^\\dagger a_{p\\sigma} \\right)\n",
    "\\left( \\sum_{p'} a_{p'\\pm}^\\dagger a_{p'\\mp} \\right) -\n",
    "\\left( \\sum_{p'} a_{p'\\pm}^\\dagger a_{p'\\mp} \\right)\n",
    "\\left( \\sum_{p,\\sigma} a_{p\\sigma}^\\dagger a_{p\\sigma} \\right) \\\\\n",
    "&= \\sum_{p,p',\\sigma}\n",
    "a_{p\\sigma}^\\dagger a_{p\\sigma} a_{p'\\pm}^\\dagger a_{p'\\mp} -\n",
    "a_{p'\\pm}^\\dagger a_{p'\\mp} a_{p\\sigma}^\\dagger a_{p\\sigma} \\\\\n",
    "&= \\sum_{p,p',\\sigma}\n",
    "a_{p\\sigma}^\\dagger a_{p\\sigma} a_{p'\\pm}^\\dagger a_{p'\\mp} -\n",
    "a_{p'\\pm}^\\dagger \\left( \\delta_{\\mp \\sigma} \\delta_{pp'} - a_{p\\sigma}^\\dagger a_{p'\\mp} \\right) a_{p\\sigma} \\\\\n",
    "&= \\sum_{p,p',\\sigma}\n",
    "a_{p\\sigma}^\\dagger a_{p\\sigma} a_{p'\\pm}^\\dagger a_{p'\\mp} -\n",
    "a_{p'\\pm}^\\dagger \\delta_{\\mp \\sigma} \\delta_{pp'} a_{p\\sigma} +\n",
    "a_{p'\\pm}^\\dagger a_{p\\sigma}^\\dagger a_{p'\\mp} a_{p\\sigma} \\\\\n",
    "&= \\sum_{p,p',\\sigma}\n",
    "a_{p\\sigma}^\\dagger a_{p\\sigma} a_{p'\\pm}^\\dagger a_{p'\\mp} +\n",
    "a_{p\\sigma}^\\dagger a_{p'\\pm}^\\dagger a_{p\\sigma} a_{p'\\mp} -\n",
    "\\sum_{p} a_{p\\pm}^\\dagger  a_{p\\mp} \\\\\n",
    "&= \\sum_{p,p',\\sigma}\n",
    "a_{p\\sigma}^\\dagger a_{p\\sigma} a_{p'\\pm}^\\dagger a_{p'\\mp} +\n",
    "a_{p\\sigma}^\\dagger \\left( \\delta_{pp'} \\delta_{\\pm \\sigma} -\n",
    "a_{p\\sigma} a_{p'\\pm}^\\dagger \\right) a_{p'\\mp} -\n",
    "\\sum_{p} a_{p\\pm}^\\dagger  a_{p\\mp} \\\\\n",
    "&= \\sum_p a_{p\\pm}^\\dagger a_{p\\mp} -\n",
    "\\sum_{p} a_{p\\pm}^\\dagger  a_{p\\mp} = 0. \\\\\n",
    "\\end{align*}\n",
    "$$"
   ]
  },
  {
   "cell_type": "markdown",
   "id": "a090ef34",
   "metadata": {},
   "source": [
    "We obtain then"
   ]
  },
  {
   "cell_type": "markdown",
   "id": "a7f303cf",
   "metadata": {},
   "source": [
    "$$\n",
    "\\begin{align*}\n",
    "[N,J_z] &= N J_z - J_z N \\\\\n",
    "&= \\left( \\sum_{p,\\sigma} a_{p\\sigma}^\\dagger a_{p\\sigma} \\right)\n",
    "\\left( \\frac{1}{2}\\sum_{p',\\sigma} \\sigma a_{p'\\sigma}^\\dagger a_{p'\\sigma} \\right) -\n",
    "\\left( \\frac{1}{2}\\sum_{p',\\sigma} \\sigma a_{p'\\sigma}^\\dagger a_{p'\\sigma} \\right)\n",
    "\\left( \\sum_{p,\\sigma} a_{p\\sigma}^\\dagger a_{p\\sigma} \\right) \\\\\n",
    "&= \\sum_{p,p',\\sigma} \n",
    "\\sigma a_{p\\sigma}^\\dagger a_{p\\sigma} a_{p'\\sigma}^\\dagger a_{p'\\sigma} -\n",
    "\\sigma a_{p'\\sigma}^\\dagger a_{p'\\sigma} a_{p\\sigma}^\\dagger a_{p\\sigma} = 0,\n",
    "\\end{align*}\n",
    "$$"
   ]
  },
  {
   "cell_type": "markdown",
   "id": "5c5bc30c",
   "metadata": {},
   "source": [
    "which leads to"
   ]
  },
  {
   "cell_type": "markdown",
   "id": "1ef0733e",
   "metadata": {},
   "source": [
    "<!-- Equation labels as ordinary links -->\n",
    "<div id=\"eq:kHJ2\"></div>\n",
    "\n",
    "$$\n",
    "\\begin{equation}\n",
    "[H,J^2] = 0,\n",
    "\\label{eq:kHJ2} \\tag{17}\n",
    "\\end{equation}\n",
    "$$"
   ]
  },
  {
   "cell_type": "markdown",
   "id": "a32c60fa",
   "metadata": {},
   "source": [
    "and $J$ is a good quantum number."
   ]
  },
  {
   "cell_type": "markdown",
   "id": "90fdcf24",
   "metadata": {},
   "source": [
    "### Constructing the Hamiltonian matrix for $J=2$\n",
    "\n",
    "We start with the state (unique) where all spins point down"
   ]
  },
  {
   "cell_type": "markdown",
   "id": "4320edb7",
   "metadata": {},
   "source": [
    "<!-- Equation labels as ordinary links -->\n",
    "<div id=\"eq:2,-2\"></div>\n",
    "\n",
    "$$\n",
    "\\begin{equation}\n",
    "\\vert 2,-2\\rangle = a_{1-}^{\\dagger} a_{2-}^{\\dagger}\n",
    "a_{3-}^{\\dagger} a_{4-}^{\\dagger} \\vert 0\\rangle\n",
    "\\label{eq:2,-2} \\tag{18}\n",
    "\\end{equation}\n",
    "$$"
   ]
  },
  {
   "cell_type": "markdown",
   "id": "f4dd4bc4",
   "metadata": {},
   "source": [
    "which is a state with  $J_z = -2$ and $J = 2$. (we label the states as $\\vert J,J_z\\rangle$). For $J = 2$ we have the spin projections $J_z = -2,-1,0,1,2$.\n",
    "We can use the lowering and raising operators for spin in order to define the other states"
   ]
  },
  {
   "cell_type": "markdown",
   "id": "1806cea2",
   "metadata": {},
   "source": [
    "<!-- Equation labels as ordinary links -->\n",
    "<div id=\"eq:J+ket\"></div>\n",
    "\n",
    "$$\n",
    "\\begin{equation}\n",
    "J_+ \\vert J,J_z\\rangle = \\sqrt{J(J+1) - J_z(J_z + 1)} \\vert J,J_z + 1\\rangle,\n",
    "\\label{eq:J+ket} \\tag{19} \n",
    "\\end{equation}\n",
    "$$"
   ]
  },
  {
   "cell_type": "markdown",
   "id": "448da815",
   "metadata": {},
   "source": [
    "<!-- Equation labels as ordinary links -->\n",
    "<div id=\"eq:J-ket\"></div>\n",
    "\n",
    "$$\n",
    "\\begin{equation} \n",
    "J_- \\vert J,J_z\\rangle = \\sqrt{J(J+1) - J_z(J_z - 1)} \\vert J,J_z - 1\\rangle.\n",
    "\\label{eq:J-ket} \\tag{20}\n",
    "\\end{equation}\n",
    "$$"
   ]
  },
  {
   "cell_type": "markdown",
   "id": "b4bae63c",
   "metadata": {},
   "source": [
    "We can then construct all other states with $J=2$ using the raising operator\n",
    "$J_+$ on $\\vert 2,-2\\rangle$"
   ]
  },
  {
   "cell_type": "markdown",
   "id": "a30fb764",
   "metadata": {},
   "source": [
    "$$\n",
    "J_+ \\vert 2,-2\\rangle = \\sqrt{2(2+1) - (-2)(-2+1)} \\vert 2,-2+1\\rangle =\\sqrt{6 - 2} \\vert 2,-1\\rangle = 2\\vert 2,-1\\rangle,\n",
    "$$"
   ]
  },
  {
   "cell_type": "markdown",
   "id": "4ed06a27",
   "metadata": {},
   "source": [
    "which gives"
   ]
  },
  {
   "cell_type": "markdown",
   "id": "1358053e",
   "metadata": {},
   "source": [
    "<!-- Equation labels as ordinary links -->\n",
    "<div id=\"_auto1\"></div>\n",
    "\n",
    "$$\n",
    "\\begin{equation}\n",
    "\\vert 2,-1\\rangle = \\frac{1}{2} J_+ \\vert 2,-2\\rangle \\notag \n",
    "\\label{_auto1} \\tag{21}\n",
    "\\end{equation}\n",
    "$$"
   ]
  },
  {
   "cell_type": "markdown",
   "id": "b2492ec3",
   "metadata": {},
   "source": [
    "<!-- Equation labels as ordinary links -->\n",
    "<div id=\"_auto2\"></div>\n",
    "\n",
    "$$\n",
    "\\begin{equation} \n",
    "= \\frac{1}{2} \\sum_p a_{p+}^\\dagger a_{p-} a_{1-}^{\\dagger} a_{2-}^{\\dagger}\n",
    "a_{3-}^{\\dagger} a_{4-}^{\\dagger} \\vert 0\\rangle \\notag \n",
    "\\label{_auto2} \\tag{22}\n",
    "\\end{equation}\n",
    "$$"
   ]
  },
  {
   "cell_type": "markdown",
   "id": "692bfa1a",
   "metadata": {},
   "source": [
    "<!-- Equation labels as ordinary links -->\n",
    "<div id=\"eq:2,-1\"></div>\n",
    "\n",
    "$$\n",
    "\\begin{equation} \n",
    "= \\frac{1}{2} \\left(\n",
    "a_{1+}^{\\dagger} a_{2-}^{\\dagger} a_{3-}^{\\dagger} a_{4-}^{\\dagger} +\n",
    "a_{1-}^{\\dagger} a_{2+}^{\\dagger} a_{3-}^{\\dagger} a_{4-}^{\\dagger} +\n",
    "a_{1-}^{\\dagger} a_{2-}^{\\dagger} a_{3+}^{\\dagger} a_{4-}^{\\dagger} +\n",
    "a_{1-}^{\\dagger} a_{2-}^{\\dagger} a_{3-}^{\\dagger} a_{4+}^{\\dagger}\n",
    "\\right) \\vert 0\\rangle. \\label{eq:2,-1} \\tag{23}\n",
    "\\end{equation}\n",
    "$$"
   ]
  },
  {
   "cell_type": "markdown",
   "id": "57cb7fad",
   "metadata": {},
   "source": [
    "We can construct all the other states in the same way. That is"
   ]
  },
  {
   "cell_type": "markdown",
   "id": "c5368afd",
   "metadata": {},
   "source": [
    "$$\n",
    "J_+ \\vert 2,-1\\rangle = \\sqrt{2(2+1) - (-1)(-1+1)} \\vert 2,-1+1\\rangle = \\sqrt{6} \\vert 2,0\\rangle,\n",
    "$$"
   ]
  },
  {
   "cell_type": "markdown",
   "id": "7d793398",
   "metadata": {},
   "source": [
    "which results in"
   ]
  },
  {
   "cell_type": "markdown",
   "id": "1cc45239",
   "metadata": {},
   "source": [
    "<!-- Equation labels as ordinary links -->\n",
    "<div id=\"eq:2,0\"></div>\n",
    "\n",
    "$$\n",
    "\\begin{equation}\n",
    "\\begin{aligned}\n",
    "\\vert 2,0\\rangle &= \\frac{1}{\\sqrt{6}} \\left(\n",
    "a_{1+}^{\\dagger} a_{2+}^{\\dagger} a_{3-}^{\\dagger} a_{4-}^{\\dagger} +\n",
    "a_{1+}^{\\dagger} a_{2-}^{\\dagger} a_{3+}^{\\dagger} a_{4-}^{\\dagger} +\n",
    "a_{1+}^{\\dagger} a_{2-}^{\\dagger} a_{3-}^{\\dagger} a_{4+}^{\\dagger} +\n",
    "a_{1-}^{\\dagger} a_{2+}^{\\dagger} a_{3+}^{\\dagger} a_{4-}^{\\dagger} + \\right. \\\\\n",
    "&\\quad\\,\\, \\left.\n",
    "a_{1-}^{\\dagger} a_{2+}^{\\dagger} a_{3-}^{\\dagger} a_{4+}^{\\dagger} +\n",
    "a_{1-}^{\\dagger} a_{2-}^{\\dagger} a_{3+}^{\\dagger} a_{4+}^{\\dagger} \\right) \\vert 0\\rangle\n",
    "\\end{aligned}\n",
    "\\label{eq:2,0} \\tag{24}\n",
    "\\end{equation}\n",
    "$$"
   ]
  },
  {
   "cell_type": "markdown",
   "id": "96d1b194",
   "metadata": {},
   "source": [
    "The two remaining states are"
   ]
  },
  {
   "cell_type": "markdown",
   "id": "cbc91630",
   "metadata": {},
   "source": [
    "<!-- Equation labels as ordinary links -->\n",
    "<div id=\"eq:2,1\"></div>\n",
    "\n",
    "$$\n",
    "\\begin{equation}\n",
    "\\vert2,1\\rangle  = \\frac{1}{2} \\left(\n",
    "a_{1+}^{\\dagger} a_{2+}^{\\dagger} a_{3+}^{\\dagger} a_{4-}^{\\dagger} +\n",
    "a_{1+}^{\\dagger} a_{2+}^{\\dagger} a_{3-}^{\\dagger} a_{4+}^{\\dagger} +\n",
    "a_{1+}^{\\dagger} a_{2-}^{\\dagger} a_{3+}^{\\dagger} a_{4+}^{\\dagger} +\n",
    "a_{1-}^{\\dagger} a_{2+}^{\\dagger} a_{3+}^{\\dagger} a_{4+}^{\\dagger}\n",
    " \\right).\n",
    "\\label{eq:2,1} \\tag{25}\n",
    "\\end{equation}\n",
    "$$"
   ]
  },
  {
   "cell_type": "markdown",
   "id": "d0ce10c5",
   "metadata": {},
   "source": [
    "and"
   ]
  },
  {
   "cell_type": "markdown",
   "id": "4ada01fd",
   "metadata": {},
   "source": [
    "<!-- Equation labels as ordinary links -->\n",
    "<div id=\"eq:2,2\"></div>\n",
    "\n",
    "$$\n",
    "\\begin{equation}\n",
    "\\vert 2,2\\rangle  = a_{1+}^{\\dagger} a_{2+}^{\\dagger} a_{3+}^{\\dagger} a_{4+}^{\\dagger} \\vert 0\\rangle.\n",
    "\\label{eq:2,2} \\tag{26}\n",
    "\\end{equation}\n",
    "$$"
   ]
  },
  {
   "cell_type": "markdown",
   "id": "aa536f83",
   "metadata": {},
   "source": [
    "These five states can in turn be used as computational basis states in\n",
    "order to define the Hamiltonian matrix to be diagonalized.\n",
    "The matrix elements are given by $\\langle J,J_z \\vert H \\vert J^',J_z^' \\rangle$.\n",
    "The\n",
    "Hamiltonian is hermitian and we obtain after all this labor of ours"
   ]
  },
  {
   "cell_type": "markdown",
   "id": "59cda958",
   "metadata": {},
   "source": [
    "<!-- Equation labels as ordinary links -->\n",
    "<div id=\"eq:HJ=2\"></div>\n",
    "\n",
    "$$\n",
    "\\begin{equation}\n",
    "H_{J = 2} =\n",
    "\\begin{bmatrix}\n",
    "-2\\varepsilon & 0 & \\sqrt{6}V & 0 & 0 \\\\\n",
    "0 & -\\varepsilon + 3W & 0 & 3V & 0 \\\\\n",
    "\\sqrt{6}V & 0 & 4W & 0 & \\sqrt{6}V \\\\\n",
    "0 & 3V & 0 & \\varepsilon + 3W & 0 \\\\\n",
    "0 & 0 & \\sqrt{6}V & 0 & 2\\varepsilon\n",
    "\\end{bmatrix}\n",
    "\\label{eq:HJ=2} \\tag{27}\n",
    "\\end{equation}\n",
    "$$"
   ]
  },
  {
   "cell_type": "markdown",
   "id": "ba3a2489",
   "metadata": {},
   "source": [
    "We can now select a set of parameters and diagonalize the above matrix. We select $\\epsilon = 2$, $V = -1/3$, $W = -1/4$ and our matrix becoes"
   ]
  },
  {
   "cell_type": "markdown",
   "id": "ce1761cd",
   "metadata": {},
   "source": [
    "$$\n",
    "H_{J=2}^{(1)} =\n",
    "\\begin{bmatrix}\n",
    "-4 & 0 & -\\sqrt{6}/3 & 0 & 0 \\\\\n",
    "0 & -2 - 3/4 & 0 & -1 & 0 \\\\\n",
    "-\\sqrt{6}/3 & 0 & -1 & 0 & -\\sqrt{6}/3 \\\\\n",
    "0 & -1 & 0 & 2 + -3/4 & 0 \\\\\n",
    "0 & 0 & -\\sqrt{6}/3 & 0 & 4\n",
    "\\end{bmatrix},\n",
    "$$"
   ]
  },
  {
   "cell_type": "markdown",
   "id": "2498fe6a",
   "metadata": {},
   "source": [
    "which gives the eigenvalue"
   ]
  },
  {
   "cell_type": "markdown",
   "id": "abf6eacc",
   "metadata": {},
   "source": [
    "$$\n",
    "D = \\begin{bmatrix}\n",
    "-4.21288 &  0 &  0 &  0 &  0 \\\\\n",
    "0 & -2.98607  & 0  & 0  & 0 \\\\\n",
    "0 &  0 & -0.91914  & 0  & 0 \\\\\n",
    "0 &  0 & 0   & 1.48607  & 0 \\\\\n",
    "0 &  0  & 0  & 0  & 4.13201\n",
    "\\end{bmatrix}.\n",
    "$$"
   ]
  },
  {
   "cell_type": "markdown",
   "id": "67b6ff46",
   "metadata": {},
   "source": [
    "The lowest state has an admixture of basis states given by"
   ]
  },
  {
   "cell_type": "markdown",
   "id": "322f6ea9",
   "metadata": {},
   "source": [
    "$$\n",
    "\\vert \\psi_0\\rangle = 0.96735\\vert2,-2\\rangle + 0.25221\\vert 2,0\\rangle + 0.02507\\vert 2,2\\rangle,\n",
    "$$"
   ]
  },
  {
   "cell_type": "markdown",
   "id": "f366c37a",
   "metadata": {},
   "source": [
    "with energy $E_0 = -4.21288$.\n",
    "\n",
    "We can now change the parameters to\n",
    "$\\varepsilon = 2$, $V = -4/3$, $W = -1$. Our matrix reads then"
   ]
  },
  {
   "cell_type": "markdown",
   "id": "76403efc",
   "metadata": {},
   "source": [
    "$$\n",
    "H_{J=2}^{(2)} =\n",
    "\\begin{bmatrix}\n",
    "-4 & 0 & -4\\sqrt{6}/3 & 0 & 0 \\\\\n",
    "0 & -5 & 0 & -4 & 0 \\\\\n",
    "-4\\sqrt{6}/3 & 0 & -4 & 0 & -4\\sqrt{6}/3 \\\\\n",
    "0 & -4 & 0 & -1 & 0 \\\\\n",
    "0 & 0 & -4\\sqrt{6}/3 & 0 & 4\n",
    "\\end{bmatrix},\n",
    "$$"
   ]
  },
  {
   "cell_type": "markdown",
   "id": "b0fc61ff",
   "metadata": {},
   "source": [
    "with the following eigenvalues"
   ]
  },
  {
   "cell_type": "markdown",
   "id": "23dc6ff9",
   "metadata": {},
   "source": [
    "$$\n",
    "D = \\begin{bmatrix}\n",
    "-7.75122 &  0 &  0 &  0  & 0 \\\\\n",
    "0 & -7.47214  & 0  & 0  & 0 \\\\\n",
    "0 &  0  & -1.55581 &  0  & 0 \\\\\n",
    "0 &  0  & 0  & 1.47214  & 0 \\\\\n",
    "0 &  0  & 0  & 0  & 5.30704\n",
    "\\end{bmatrix}.\n",
    "$$"
   ]
  },
  {
   "cell_type": "markdown",
   "id": "ad210429",
   "metadata": {},
   "source": [
    "The new ground state (lowest state) has the following admixture of computational basis states"
   ]
  },
  {
   "cell_type": "markdown",
   "id": "fa68b388",
   "metadata": {},
   "source": [
    "$$\n",
    "\\vert \\psi_0\\rangle = 0.64268\\vert 2,-2\\rangle + 0.73816\\vert 2,0\\rangle + 0.20515 \\vert 2,2\\rangle,\n",
    "$$"
   ]
  },
  {
   "cell_type": "markdown",
   "id": "b11bf711",
   "metadata": {},
   "source": [
    "with energy $E_0 = -7.75122$.\n",
    "\n",
    "For the first set of parameters, the likelihood for observing the\n",
    "system in the computational basis state $\\vert 2,-2 \\rangle$ is rather\n",
    "large. This is expected since the interaction matrix elements are\n",
    "smaller than the single-particle energies.  For the second case, with\n",
    "larger matrix elements, we see a much stronger mixing of the other\n",
    "states, again as expected due to the ratio of the interaction matrix\n",
    "elements and the single-particle energies.\n",
    "\n",
    "**To do: add simple code**"
   ]
  },
  {
   "cell_type": "markdown",
   "id": "eb43db04",
   "metadata": {},
   "source": [
    "## Mean field solution, Hartree-Fock theory  and comparison with exact diagonalization\n",
    "\n",
    "We define now a new basis set (single-particle basis set) given by $\\vert \\phi_{\\alpha,p}\\rangle$\n",
    "given by a unitary transformation of the original single-particle basis states $\\vert u_{\\sigma,p}\\rangle$"
   ]
  },
  {
   "cell_type": "markdown",
   "id": "73f1ba01",
   "metadata": {},
   "source": [
    "<!-- Equation labels as ordinary links -->\n",
    "<div id=\"_auto3\"></div>\n",
    "\n",
    "$$\n",
    "\\begin{equation}\n",
    "\\vert \\phi_{\\alpha,p}\\rangle = \\sum_{\\sigma = \\pm 1} C_{\\alpha \\sigma} \\vert u_{\\sigma,p}\\rangle.\n",
    "\\label{_auto3} \\tag{28}\n",
    "\\end{equation}\n",
    "$$"
   ]
  },
  {
   "cell_type": "markdown",
   "id": "f2448888",
   "metadata": {},
   "source": [
    "The new states can thus be written as a linear combination of the\n",
    "previous basis states (with fixed $p$). This means that for the new\n",
    "basis states,the qyantum numbers $p$ stay the same since they are just\n",
    "linear combinations of the previous basis states with the same value\n",
    "of $p$.\n",
    "Since the previous basis is defined to be orthogonal, it is\n",
    "straightforward to demonstrate that the new basis has to preserve the\n",
    "orthogonality since we performing a unitary transformation. We will not show that here.\n",
    "\n",
    "A new Slater determinant can be constructed and is given by"
   ]
  },
  {
   "cell_type": "markdown",
   "id": "8acbcd9d",
   "metadata": {},
   "source": [
    "<!-- Equation labels as ordinary links -->\n",
    "<div id=\"_auto4\"></div>\n",
    "\n",
    "$$\n",
    "\\begin{equation}\n",
    "\\vert\\Psi\\rangle = \\prod_{p=1}^4 b_{\\alpha,p}^\\dagger \\vert 0\\rangle.\n",
    "\\label{_auto4} \\tag{29}\n",
    "\\end{equation}\n",
    "$$"
   ]
  },
  {
   "cell_type": "markdown",
   "id": "5b5c61c8",
   "metadata": {},
   "source": [
    "We can express the new creation (and annihilation operators) $b_{\\alpha,p}^\\dagger$ using $a_{p,\\sigma}^\\dagger$"
   ]
  },
  {
   "cell_type": "markdown",
   "id": "7fcfaf0b",
   "metadata": {},
   "source": [
    "$$\n",
    "\\vert\\phi_{\\alpha,p}\\rangle = b_{\\alpha,p}^\\dagger \\vert 0\\rangle =\n",
    "\\sum_{\\sigma = \\pm 1} C_{\\alpha \\sigma} \\vert u_{\\sigma,p}\\rangle =\n",
    "\\sum_{\\sigma = \\pm 1} C_{\\alpha \\sigma} a_{p\\sigma}^\\dagger \\vert 0\\rangle =\n",
    "\\left( C_{\\alpha +} a_{p+}^\\dagger + C_{\\alpha -} a_{p-}^\\dagger \\right) \\vert 0\\rangle.\n",
    "$$"
   ]
  },
  {
   "cell_type": "markdown",
   "id": "7df81b89",
   "metadata": {},
   "source": [
    "With these expressions we can calculate the expecation value of the energy\n",
    "$E = \\langle \\Psi\\vert H \\vert \\Psi\\rangle$, resulting in"
   ]
  },
  {
   "cell_type": "markdown",
   "id": "839fa37e",
   "metadata": {},
   "source": [
    "$$\n",
    "E = \\langle \\Psi\\vert H \\vert \\Psi\\rangle = \\langle \\Psi\\vert ( H_0 + H_1 +H_2) \\vert\\Psi\\rangle,\n",
    "$$"
   ]
  },
  {
   "cell_type": "markdown",
   "id": "729e738f",
   "metadata": {},
   "source": [
    "which reads"
   ]
  },
  {
   "cell_type": "markdown",
   "id": "28adf9cf",
   "metadata": {},
   "source": [
    "$$\n",
    "E =  2\\varepsilon |C_{\\alpha +}|^2 - 2 \\varepsilon |C_{\\alpha -}|^2 + \\\\\n",
    "\\frac{1}{2} V \\left( 12(C_{\\alpha +}^*)^2 (C_{\\alpha -})^2 + 12(C_{\\alpha +})^2 (C_{\\alpha -}^*)^2 \\right) +\n",
    "12W|C_{\\alpha +}|^2 |C_{\\alpha -}|^2 .\n",
    "$$"
   ]
  },
  {
   "cell_type": "markdown",
   "id": "98624129",
   "metadata": {},
   "source": [
    "If we assume that the coefficients $C_{\\alpha \\pm}$ are real,  meaning that  $C_{\\alpha \\pm}^* = C_{\\alpha \\pm}$, we obtain"
   ]
  },
  {
   "cell_type": "markdown",
   "id": "811649db",
   "metadata": {},
   "source": [
    "$$\n",
    "E = = 2\\varepsilon C_{\\alpha +}^2 - 2 \\varepsilon C_{\\alpha -}^2 +\n",
    "12 (V+W) C_{\\alpha +}^2 C_{\\alpha -}^2 .\n",
    "$$"
   ]
  },
  {
   "cell_type": "markdown",
   "id": "7c6d2de6",
   "metadata": {},
   "source": [
    "We can now minimize the above equation with respect to the coefficients $C$ and assuming they are real, we obtain (using that\n",
    "$C_{\\alpha +}$ and $C_{\\alpha -}$ are real and that the states  $\\vert \\phi_{\\alpha,p}\\rangle$ are normalized,\n",
    "that $C_{\\alpha +}^2 + C_{\\alpha -}^2 = 1$. Inserted in the expression for the energy we obtain then"
   ]
  },
  {
   "cell_type": "markdown",
   "id": "b04cd688",
   "metadata": {},
   "source": [
    "$$\n",
    "E = 2\\varepsilon (1 - C_{\\alpha -}^2) - 2 \\varepsilon C_{\\alpha -}^2 +\n",
    "12 (V+W) (1 - C_{\\alpha -}^2) C_{\\alpha -}^2 .\n",
    "$$"
   ]
  },
  {
   "cell_type": "markdown",
   "id": "3ee718f8",
   "metadata": {},
   "source": [
    "We simplify the above expression by defnining $x = C_{\\alpha -}^2$ og minimize the energy with respect to $x$"
   ]
  },
  {
   "cell_type": "markdown",
   "id": "2e384d1e",
   "metadata": {},
   "source": [
    "$$\n",
    "\\begin{align*}\n",
    "\\frac{\\partial E}{\\partial x} &= \\frac{\\partial}{\\partial x} \\left[ 2\\varepsilon (1 - x) - 2 \\varepsilon x +\n",
    "12 (V+W) (1 - x) x \\right] \\\\\n",
    "&= -2\\varepsilon -2\\varepsilon + 12(V+W)(-x + 1-x) \\\\\n",
    "&= -4 \\varepsilon + 12(V+W)(1-2x).\n",
    "\\end{align*}\n",
    "$$"
   ]
  },
  {
   "cell_type": "markdown",
   "id": "f9c948df",
   "metadata": {},
   "source": [
    "We obtain the minima by setting"
   ]
  },
  {
   "cell_type": "markdown",
   "id": "ecacf47d",
   "metadata": {},
   "source": [
    "$$\n",
    "\\frac{\\partial E}{\\partial x} = 0 \\quad \\Rightarrow \\quad -4 \\varepsilon + 12(V+W)(1-2x) = 0,\n",
    "$$"
   ]
  },
  {
   "cell_type": "markdown",
   "id": "b84228d3",
   "metadata": {},
   "source": [
    "which results in"
   ]
  },
  {
   "cell_type": "markdown",
   "id": "b2ad0144",
   "metadata": {},
   "source": [
    "$$\n",
    "-\\varepsilon + 3(V+W) = 6(V+W)x \\quad \\Rightarrow \\quad x = \\frac{1}{2} - \\frac{\\varepsilon}{6(V+W)}.\n",
    "$$"
   ]
  },
  {
   "cell_type": "markdown",
   "id": "74446003",
   "metadata": {},
   "source": [
    "This gives the following values for $C_{\\alpha +}$ and $C_{\\alpha -}$:"
   ]
  },
  {
   "cell_type": "markdown",
   "id": "5e2cb0d2",
   "metadata": {},
   "source": [
    "<!-- Equation labels as ordinary links -->\n",
    "<div id=\"_auto5\"></div>\n",
    "\n",
    "$$\n",
    "\\begin{equation}\n",
    "C_{\\alpha -}^2 = \\frac{1}{2} - \\frac{\\varepsilon}{6(V+W)}, \\quad C_{\\alpha +}^2 = 1 - C_{\\alpha -}^2 = \\frac{1}{2} + \\frac{\\varepsilon}{6(V+W)}.\n",
    "\\label{_auto5} \\tag{30}\n",
    "\\end{equation}\n",
    "$$"
   ]
  },
  {
   "cell_type": "markdown",
   "id": "f03a1372",
   "metadata": {},
   "source": [
    "If we have found the energy minimum, this leads to the following stability criteria"
   ]
  },
  {
   "cell_type": "markdown",
   "id": "d19c045f",
   "metadata": {},
   "source": [
    "<!-- Equation labels as ordinary links -->\n",
    "<div id=\"_auto6\"></div>\n",
    "\n",
    "$$\n",
    "\\begin{equation}\n",
    "(V+W) \\leq \\frac{\\varepsilon}{3} \\leq - (V+W),\n",
    "\\label{_auto6} \\tag{31}\n",
    "\\end{equation}\n",
    "$$"
   ]
  },
  {
   "cell_type": "markdown",
   "id": "dbab6603",
   "metadata": {},
   "source": [
    "where we have assumed that  $V + W < 0$. If we have $V + W > 0$, we simply get reversed inequality signs."
   ]
  },
  {
   "cell_type": "markdown",
   "id": "2edd6d4e",
   "metadata": {},
   "source": [
    "## Variational Quantum Eigensolver\n",
    "\n",
    "One initial algorithm to estimate the eigenenergies of a quantum\n",
    "Hamiltonian was [quantum phase estimation](https://qiskit.org/textbook/ch-algorithms/quantum-phase-estimation.html). In it, one\n",
    "encodes the eigenenergies, one binary bit at a time (up to $n$ bits),\n",
    "into the complex phases of the quantum states of the Hilbert space for\n",
    "$n$ qubits. It does this by applying powers of controlled unitary\n",
    "evolution operators to a quantum state that can be expanded in terms\n",
    "of the Hamiltonian's eigenvectors of interest. The eigenenergies are\n",
    "encoded into the complex phases in such a way that taking the inverse\n",
    "quantum Fourier transformation (see material on Quantum Fourier Transforms) of the states into which the\n",
    "eigen-energies are encoded results in a measurement probability\n",
    "distribution that has peaks around the bit strings that represent a\n",
    "binary fraction which corresponds to the eigen-energies of the quantum\n",
    "state acted upon by the controlled unitary operators. While quantum\n",
    "phase estimation (QPE) is provably efficient, non-hybrid, and\n",
    "non-variational, the number of qubits and length of circuits required\n",
    "is too great for our NISQ era quantum computers. Thus, QPE is only\n",
    "efficiently applicable to large, fault-tolerant quantum computers that\n",
    "likely won't exist in the near, but the far future.\n",
    "\n",
    "Therefore, a different algorithm for finding the eigen-energies of a\n",
    "quantum Hamiltonian was put forth in 2014 called the variational\n",
    "quantum eigensolver, commonly referred to as [VQE](https://arxiv.org/abs/2111.05176). The\n",
    "algorithm is hybrid, meaning that it requires the use of both a\n",
    "quantum computer and a classical computer. It is also variational,\n",
    "meaning that it relies, ultimately, on solving an optimization problem\n",
    "by varying parameters and thus is not as deterministic as QPE. The\n",
    "variational quantum eigensolver is based on the variational principle:\n",
    "The expectation value of a Hamiltonian $H$ in a state\n",
    "$|\\psi(\\theta)\\rangle$ parameterized by a set of angles $\\theta$, is\n",
    "always greater than or equal to the minimum eigen-energy $E_0$. To see\n",
    "this, let $|n\\rangle$ be the eigenstates of $H$, that is"
   ]
  },
  {
   "cell_type": "markdown",
   "id": "cff4ad87",
   "metadata": {},
   "source": [
    "<!-- Equation labels as ordinary links -->\n",
    "<div id=\"_auto7\"></div>\n",
    "\n",
    "$$\n",
    "\\begin{equation}\n",
    "H|n\\rangle=E_n|n\\rangle.\n",
    "\\label{_auto7} \\tag{32}\n",
    "\\end{equation}\n",
    "$$"
   ]
  },
  {
   "cell_type": "markdown",
   "id": "d0395b00",
   "metadata": {},
   "source": [
    "We can then expand our state $|\\psi(\\theta)\\rangle$ in terms of said eigenstates"
   ]
  },
  {
   "cell_type": "markdown",
   "id": "c3063d6b",
   "metadata": {},
   "source": [
    "$$\n",
    "|\\psi(\\theta)\\rangle=\\sum_nc_n|n\\rangle,\n",
    "$$"
   ]
  },
  {
   "cell_type": "markdown",
   "id": "c759d0bb",
   "metadata": {},
   "source": [
    "and plug this into the expectation value to yield"
   ]
  },
  {
   "cell_type": "markdown",
   "id": "b055fe80",
   "metadata": {},
   "source": [
    "$$\n",
    "\\langle\\psi(\\theta)|H|\\psi(\\theta)\\rangle=\\sum_{nm}c^*_mc_n\\langle m|H|n \\rangle\n",
    "=\\sum_{nm}c^*_mc_nE_n\\langle m|n \\rangle=\\sum_{nm}\\delta_{nm}c^*_mc_nE_n=\\sum_{n}|c_n|^2E_n \\geq E_0\\sum_{n}|c_n|^2=E_0,\n",
    "$$"
   ]
  },
  {
   "cell_type": "markdown",
   "id": "3d070d28",
   "metadata": {},
   "source": [
    "which implies that we can minimize over the set of angles $\\theta$ and arrive at the ground state energy $E_0$"
   ]
  },
  {
   "cell_type": "markdown",
   "id": "38ad37f5",
   "metadata": {},
   "source": [
    "$$\n",
    "\\min_\\theta \\ \\langle\\psi(\\theta)|H|\\psi(\\theta)\\rangle=E_0.\n",
    "$$"
   ]
  },
  {
   "cell_type": "markdown",
   "id": "0ab9d180",
   "metadata": {},
   "source": [
    "Using this fact, the VQE algorithm can be broken down into the following steps\n",
    "1. Prepare the variational state $|\\psi(\\theta)\\rangle$ on a quantum computer.\n",
    "\n",
    "2. Measure this circuit in various bases and send these measurements to a classical computer\n",
    "\n",
    "3. The classical computer post-processes the measurement data to compute the expectation value $\\langle\\psi(\\theta)|H|\\psi(\\theta)\\rangle$\n",
    "\n",
    "4. The classical computer varies the parameters $\\theta$ according to a classical minimization algorithm and sends them back to the quantum computer which runs step 1 again.\n",
    "\n",
    "This loop continues until the classical optimization algorithm\n",
    "terminates which results in a set of angles $\\theta_{\\text{min}}$ that\n",
    "characterize the ground state $|\\phi(\\theta_{\\text{min}})\\rangle$ and\n",
    "an estimate for the ground state energy\n",
    "$\\langle\\psi(\\theta_{\\text{min}})|H|\\psi(\\theta_{\\text{min}})\\rangle$."
   ]
  },
  {
   "cell_type": "markdown",
   "id": "d826e656",
   "metadata": {},
   "source": [
    "## Expectation values\n",
    "\n",
    "To execute the second step of VQE, we need to understand how\n",
    "expectation values of operators can be estimated via quantum computers\n",
    "by post-processing measurements of quantum circuits in different\n",
    "basis. To rotate bases, one uses the basis rotator $R_\\sigma$ which is\n",
    "defined for each Pauli gate $\\sigma$ to be"
   ]
  },
  {
   "cell_type": "markdown",
   "id": "b177df96",
   "metadata": {},
   "source": [
    "<!-- Equation labels as ordinary links -->\n",
    "<div id=\"eq:auto8\"></div>\n",
    "\n",
    "$$\n",
    "\\begin{equation}\n",
    "R_{\\sigma} = H,  \\text{if} \\ \\sigma = X,\n",
    "\\end{equation} \\label{eq:auto8} \\tag{33}\n",
    "$$"
   ]
  },
  {
   "cell_type": "markdown",
   "id": "7269f622",
   "metadata": {},
   "source": [
    "and"
   ]
  },
  {
   "cell_type": "markdown",
   "id": "b6cc2ef6",
   "metadata": {},
   "source": [
    "<!-- Equation labels as ordinary links -->\n",
    "<div id=\"_auto8\"></div>\n",
    "\n",
    "$$\n",
    "\\begin{equation}\n",
    "HS^{\\dagger},  \\text{if} \\ \\sigma = Y,\n",
    "\\label{_auto8} \\tag{34}\n",
    "\\end{equation}\n",
    "$$"
   ]
  },
  {
   "cell_type": "markdown",
   "id": "b8ad75b1",
   "metadata": {},
   "source": [
    "and"
   ]
  },
  {
   "cell_type": "markdown",
   "id": "d3393df2",
   "metadata": {},
   "source": [
    "<!-- Equation labels as ordinary links -->\n",
    "<div id=\"_auto9\"></div>\n",
    "\n",
    "$$\n",
    "\\begin{equation}\n",
    "I,  \\text{if} \\ \\sigma = Z.\n",
    "\\label{_auto9} \\tag{35}\n",
    "\\end{equation}\n",
    "$$"
   ]
  },
  {
   "cell_type": "markdown",
   "id": "855586ef",
   "metadata": {},
   "source": [
    "We can show that these rotations allow us to measure the eigenvalues of the Pauli operators. The eigenvectors of the Pauli $X$ gate are"
   ]
  },
  {
   "cell_type": "markdown",
   "id": "7dffc02e",
   "metadata": {},
   "source": [
    "$$\n",
    "\\vert\\pm\\rangle = \\frac{\\vert 0\\rangle \\pm \\vert 1\\rangle}{\\sqrt{2}},\n",
    "$$"
   ]
  },
  {
   "cell_type": "markdown",
   "id": "dbf5aa22",
   "metadata": {},
   "source": [
    "with eigenvalues $\\pm 1$.\n",
    "Acting on the eigenstates with the rotation in eq. ([33](#eq:auto8)) gives"
   ]
  },
  {
   "cell_type": "markdown",
   "id": "77b6ade4",
   "metadata": {},
   "source": [
    "$$\n",
    "H\\vert +\\rangle = +1\\vert 0\\rangle,\n",
    "$$"
   ]
  },
  {
   "cell_type": "markdown",
   "id": "850cfa54",
   "metadata": {},
   "source": [
    "and"
   ]
  },
  {
   "cell_type": "markdown",
   "id": "fb362b8a",
   "metadata": {},
   "source": [
    "$$\n",
    "H\\vert -\\rangle = -1\\vert 1\\rangle.\n",
    "$$"
   ]
  },
  {
   "cell_type": "markdown",
   "id": "1a3ca0d3",
   "metadata": {},
   "source": [
    "Any single-qubit state can be written as a linear combination of these eigenvectors,"
   ]
  },
  {
   "cell_type": "markdown",
   "id": "de247272",
   "metadata": {},
   "source": [
    "$$\n",
    "\\vert \\psi\\rangle = \\alpha \\vert +\\rangle + \\beta \\vert -\\rangle.\n",
    "$$"
   ]
  },
  {
   "cell_type": "markdown",
   "id": "2b09d461",
   "metadata": {},
   "source": [
    "We then have the following expectation value for the Pauli $X$ operator"
   ]
  },
  {
   "cell_type": "markdown",
   "id": "35137a97",
   "metadata": {},
   "source": [
    "$$\n",
    "\\expval{X} = \\bra{\\psi} X \\vert \\psi\\rangle = |\\alpha|^2 - |\\beta|^2.\n",
    "$$"
   ]
  },
  {
   "cell_type": "markdown",
   "id": "f87b5aa1",
   "metadata": {},
   "source": [
    "However, we can only measure the qubits in the computational basis. Applying the rotation in eq. ([33](#eq:auto8)) to our state gives"
   ]
  },
  {
   "cell_type": "markdown",
   "id": "01e34618",
   "metadata": {},
   "source": [
    "$$\n",
    "H \\vert \\psi\\rangle = \\alpha \\vert 0\\rangle - \\beta \\vert 1\\rangle.\n",
    "$$"
   ]
  },
  {
   "cell_type": "markdown",
   "id": "9d85aa94",
   "metadata": {},
   "source": [
    "This tells us that we are able to estimate $|\\alpha|^2$ and\n",
    "$|\\beta|^2$ (and hence the expectation value of the Pauli $X$\n",
    "operator) by using the rotation in eq. ([33](#eq:auto8)) and measure the\n",
    "resulting state in the computational basis. We can show this for the\n",
    "Pauli $Z$ and Pauli $Y$ similarly.\n",
    "\n",
    "Note the following identity of the basis rotator"
   ]
  },
  {
   "cell_type": "markdown",
   "id": "968f92ed",
   "metadata": {},
   "source": [
    "$$\n",
    "R^\\dagger_\\sigma Z R_\\sigma = \\sigma,\n",
    "$$"
   ]
  },
  {
   "cell_type": "markdown",
   "id": "74fdcebe",
   "metadata": {},
   "source": [
    "which follows from the fact that $HZH=X$ and $SXS^\\dagger=Y$. With this, we see that the expectation value of an arbitrary\n",
    "Pauli-gate $\\sigma$ in the state $\\vert\\psi\\rangle$ can be expressed as a linear combination of probabilities"
   ]
  },
  {
   "cell_type": "markdown",
   "id": "e1decbc2",
   "metadata": {},
   "source": [
    "$$\n",
    "E_{\\psi}(\\sigma)\n",
    "= \\langle \\psi\\vert\\sigma\\vert\\psi\\rangle \\nonumber\n",
    "$$"
   ]
  },
  {
   "cell_type": "markdown",
   "id": "aefe4054",
   "metadata": {},
   "source": [
    "$$\n",
    "=\\langle\\psi\\vert R_{\\sigma}^{\\dagger}ZR_{\\sigma}\\vert\\psi\\rangle =\\langle \\phi\\vert Z\\vert \\phi\\rangle \\nonumber\n",
    "$$"
   ]
  },
  {
   "cell_type": "markdown",
   "id": "d6964e57",
   "metadata": {},
   "source": [
    "$$\n",
    "=\\langle\\phi\\vert\\left(\\sum_{x\\in\\{0,1\\}}(-1)^x\\vert x\\rangle\\langle x\\vert\\right)\\vert\\phi\\rangle \\nonumber\n",
    "$$"
   ]
  },
  {
   "cell_type": "markdown",
   "id": "8aceda1f",
   "metadata": {},
   "source": [
    "$$\n",
    "=\\sum_{x\\in\\{0,1\\}}(-1)^x\\vert\\langle x\\vert \\phi\\rangle\\vert^2\\nonumber\n",
    "$$"
   ]
  },
  {
   "cell_type": "markdown",
   "id": "7ada1ecf",
   "metadata": {},
   "source": [
    "<!-- Equation labels as ordinary links -->\n",
    "<div id=\"_auto10\"></div>\n",
    "\n",
    "$$\n",
    "\\begin{equation} \n",
    "=\\sum_{x\\in\\{0,1\\}}(-1)^xP(\\vert \\phi\\rangle\\to\\vert x\\rangle),\n",
    "\\label{_auto10} \\tag{36}\n",
    "\\end{equation}\n",
    "$$"
   ]
  },
  {
   "cell_type": "markdown",
   "id": "1d41c847",
   "metadata": {},
   "source": [
    "where $\\vert \\phi\\rangle=\\vert R_\\sigma\\phi\\rangle$ and\n",
    "$P(\\vert \\phi\\rangle\\to\\vert x\\rangle$ is the probability that the state\n",
    "$\\vert \\phi\\rangle$ collapses to the state $\\vert x\\rangle$ when measured. This can\n",
    "be extended to any arbitrary Pauli string: consider the string of\n",
    "Pauli operators $P=\\bigotimes_{p\\in Q}\\sigma_p$ which acts\n",
    "non-trivially on the set of qubits $Q$ which is a subset of the total\n",
    "set of $n$ qubits in the system. Then"
   ]
  },
  {
   "cell_type": "markdown",
   "id": "74db99f0",
   "metadata": {},
   "source": [
    "$$\n",
    "E_{\\psi}\\left(P\\right)\n",
    "=\\langle \\psi\\vert\\left(\\bigotimes_{p\\in Q}\\sigma_p\\right)\\vert \\psi\\rangle \\nonumber\n",
    "$$"
   ]
  },
  {
   "cell_type": "markdown",
   "id": "4fb7b37f",
   "metadata": {},
   "source": [
    "$$\n",
    "=\\langle \\psi\\vert\\left(\\bigotimes_{p\\in Q}\\sigma_p\\right)\n",
    "\\left(\\bigotimes_{q\\notin Q}I_q\\right)\\vert \\psi\\rangle \\nonumber\n",
    "$$"
   ]
  },
  {
   "cell_type": "markdown",
   "id": "5230ea01",
   "metadata": {},
   "source": [
    "$$\n",
    "=\\langle \\psi\\vert\\left(\\bigotimes_{p \\in Q}R_{\\sigma_p}^{\\dagger}Z_pR_{\\sigma_p}\\right)\n",
    "\\left(\\bigotimes_{q\\notin Q}I_q\\right)\\vert \\psi\\rangle \\nonumber\n",
    "$$"
   ]
  },
  {
   "cell_type": "markdown",
   "id": "ddf2c31a",
   "metadata": {},
   "source": [
    "$$\n",
    "=\n",
    "\\langle \\psi\\vert\\left(\\bigotimes_{p \\in Q}R_{\\sigma_p}^{\\dagger}\\right)\n",
    "\\left(\\bigotimes_{p \\in Q}Z_p\\right)\n",
    "\\left(\\bigotimes_{q\\notin Q}I_q\\right)\n",
    "\\left(\\bigotimes_{p \\in Q}R_{\\sigma_p}\\right)\\vert \\psi\\rangle \\nonumber\n",
    "$$"
   ]
  },
  {
   "cell_type": "markdown",
   "id": "0e61e06c",
   "metadata": {},
   "source": [
    "$$\n",
    "=\n",
    "\\langle \\phi\\vert\n",
    "\\left(\\bigotimes_{p \\in Q}Z_p\\right)\n",
    "\\left(\\bigotimes_{q\\notin Q}I_q\\right)\n",
    "\\vert \\phi\\rangle \\nonumber\n",
    "$$"
   ]
  },
  {
   "cell_type": "markdown",
   "id": "97ebae6c",
   "metadata": {},
   "source": [
    "$$\n",
    "=\n",
    "\\langle \\phi\\vert\n",
    "\\left(\\bigotimes_{p\\in Q}\\sum_{x_p\\in\\{0_p,1_p\\}}(-1)^{x_p}\\vert x_p\\rangle\\langle x_p\\vert\\right)\n",
    "\\left(\\bigotimes_{q\\notin Q}\\sum_{y_q\\in\\{0_q,1_q\\}}\\vert y_q\\rangle\\langle y_q\\vert\\right)\n",
    "\\vert \\phi\\rangle \n",
    "\\nonumber\n",
    "$$"
   ]
  },
  {
   "cell_type": "markdown",
   "id": "633f76e3",
   "metadata": {},
   "source": [
    "$$\n",
    "=\n",
    "\\langle \\phi\\vert\n",
    "\\left(\\sum_{x\\in\\{0,1\\}^n}(-1)^{\\sum_{p\\in Q}x_p}\\vert x\\rangle\\langle x\\vert\\right)\n",
    "\\vert \\phi\\rangle \n",
    "\\nonumber\n",
    "$$"
   ]
  },
  {
   "cell_type": "markdown",
   "id": "7db9d54f",
   "metadata": {},
   "source": [
    "$$\n",
    "=\n",
    "\\sum_{x\\in\\{0,1\\}^n}(-1)^{\\sum_{p\\in Q}x_p}\\vert\\langle x\\vert\\vert \\phi\\rangle\\vert^2\n",
    "\\nonumber\n",
    "$$"
   ]
  },
  {
   "cell_type": "markdown",
   "id": "13b0ee26",
   "metadata": {},
   "source": [
    "<!-- Equation labels as ordinary links -->\n",
    "<div id=\"_auto11\"></div>\n",
    "\n",
    "$$\n",
    "\\begin{equation} \n",
    "=\n",
    "\\sum_{x\\in\\{0,1\\}^n}(-1)^{\\sum_{p\\in Q}x_p}P(\\vert \\phi\\rangle\\to\\vert x\\rangle),\n",
    "\\label{_auto11} \\tag{37}\n",
    "\\end{equation}\n",
    "$$"
   ]
  },
  {
   "cell_type": "markdown",
   "id": "3e6ddd1d",
   "metadata": {},
   "source": [
    "where $\\vert \\phi\\rangle=\\vert \\bigotimes_{p\\in\n",
    "Q}R_{\\sigma_p}\\psi\\rangle$. Finally, because the expectation value is\n",
    "linear"
   ]
  },
  {
   "cell_type": "markdown",
   "id": "fa053f24",
   "metadata": {},
   "source": [
    "<!-- Equation labels as ordinary links -->\n",
    "<div id=\"_auto12\"></div>\n",
    "\n",
    "$$\n",
    "\\begin{equation}\n",
    "E_\\psi\\left(\\sum_{m}\\lambda_mP_m\\right) = \\sum_m\\lambda_mE_\\psi(P_m),\n",
    "\\label{_auto12} \\tag{38}\n",
    "\\end{equation}\n",
    "$$"
   ]
  },
  {
   "cell_type": "markdown",
   "id": "4ee8e0a8",
   "metadata": {},
   "source": [
    "one can estimate any observable that can be written as a linear combination of Pauli-string terms."
   ]
  },
  {
   "cell_type": "markdown",
   "id": "1af1b55b",
   "metadata": {},
   "source": [
    "## Measurement\n",
    "\n",
    "To estimate the probability $P(\\vert \\phi\\rangle\\to \\vert x\\rangle)$ from the\n",
    "previous section, one prepares the state $\\vert \\phi\\rangle$ on a quantum\n",
    "computer and measures it, and then repeats this process (prepare and\n",
    "measure) several times. The probability $P(\\vert \\phi\\rangle\\to \\vert x\\rangle)$ is\n",
    "estimated to be the number of times that one measures the bit-string\n",
    "$x$ divided by the total number of measurements that one makes; that"
   ]
  },
  {
   "cell_type": "markdown",
   "id": "ad401f46",
   "metadata": {},
   "source": [
    "<!-- Equation labels as ordinary links -->\n",
    "<div id=\"_auto13\"></div>\n",
    "\n",
    "$$\n",
    "\\begin{equation}\n",
    "P(\\vert \\phi\\rangle\\to \\vert x\\rangle\\rangle \\approx \\sum_{m=1}^M\\frac{x_m}{M},\n",
    "\\label{_auto13} \\tag{39}\n",
    "\\end{equation}\n",
    "$$"
   ]
  },
  {
   "cell_type": "markdown",
   "id": "88e315bc",
   "metadata": {},
   "source": [
    "where $x_m=1$\n",
    "if the result of measurement is $x$ and  $0$ if the result of measurement is not $x$.\n",
    "\n",
    "By the law of large numbers the approximation approaches equality as\n",
    "$M$ goes to infinity"
   ]
  },
  {
   "cell_type": "markdown",
   "id": "90d2602c",
   "metadata": {},
   "source": [
    "<!-- Equation labels as ordinary links -->\n",
    "<div id=\"_auto14\"></div>\n",
    "\n",
    "$$\n",
    "\\begin{equation}\n",
    "P(\\vert \\phi\\rangle\\to \\vert x\\rangle) = \\lim_{M\\to\\infty}\\sum_{m=1}^M\\frac{x_m}{M}.\n",
    "\\label{_auto14} \\tag{40}\n",
    "\\end{equation}\n",
    "$$"
   ]
  },
  {
   "cell_type": "markdown",
   "id": "c2d594d9",
   "metadata": {},
   "source": [
    "As we obviously do not have infinite time nor infinite quantum\n",
    "computers (which could be run in parallel), we must truncate our\n",
    "number of measurement $M$ to a finite, but sufficiently large\n",
    "number. More precisely, for precision $\\epsilon$, each expectation\n",
    "estimation subroutine within VQE requires $\\mathcal{O}(1/\\epsilon^2)$\n",
    "samples from circuits with depth $\\mathcal{O}(1)$.\n",
    "\n",
    "**Lecture next week we continue  the discussion of the VQE and the Lipkin model.**\n",
    "\n",
    "1. Discussion of the project\n",
    "\n",
    "2. VQE examples and discussion of results"
   ]
  }
 ],
 "metadata": {
  "kernelspec": {
   "display_name": "Python 3 (ipykernel)",
   "language": "python",
   "name": "python3"
  },
  "language_info": {
   "codemirror_mode": {
    "name": "ipython",
    "version": 3
   },
   "file_extension": ".py",
   "mimetype": "text/x-python",
   "name": "python",
   "nbconvert_exporter": "python",
   "pygments_lexer": "ipython3",
   "version": "3.9.10"
  }
 },
 "nbformat": 4,
 "nbformat_minor": 5
}
