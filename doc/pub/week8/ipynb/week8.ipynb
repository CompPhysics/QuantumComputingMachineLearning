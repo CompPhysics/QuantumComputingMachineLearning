{
 "cells": [
  {
   "cell_type": "markdown",
   "id": "5ae36821",
   "metadata": {
    "editable": true
   },
   "source": [
    "<!-- HTML file automatically generated from DocOnce source (https://github.com/doconce/doconce/)\n",
    "doconce format html week8.do.txt --no_mako -->\n",
    "<!-- dom:TITLE: March 13-17,2023: Quantum Computing, Quantum Machine Learning and Quantum Information Theories -->"
   ]
  },
  {
   "cell_type": "markdown",
   "id": "8c5c026c",
   "metadata": {
    "editable": true
   },
   "source": [
    "# March 13-17,2023: Quantum Computing, Quantum Machine Learning and Quantum Information Theories\n",
    "**Morten Hjorth-Jensen**, Department of Physics, University of Oslo and Department of Physics and Astronomy and National Superconducting Cyclotron Laboratory, Michigan State University\n",
    "\n",
    "Date: **Mar 13, 2023**\n",
    "\n",
    "Copyright 1999-2023, Morten Hjorth-Jensen. Released under CC Attribution-NonCommercial 4.0 license"
   ]
  },
  {
   "cell_type": "markdown",
   "id": "b84fb58b",
   "metadata": {
    "editable": true
   },
   "source": [
    "## Solving quantum mechanical problems\n",
    "\n",
    "1. Simple Hamiltonian, the Lipkin model\n",
    "\n",
    "2. Introducing the Variational Quantum Eigensolver (VQE)\n",
    "\n",
    "3. Analyzing the solution of eigenvalue problems using the Lipkin model"
   ]
  },
  {
   "cell_type": "markdown",
   "id": "f53468c3",
   "metadata": {
    "editable": true
   },
   "source": [
    "## Simple Hamiltonian, the Lipkin model\n",
    "\n",
    "We will study a schematic model (the Lipkin model, see Nuclear\n",
    "Physics **62** (1965) 188), for the interaction among  $2$ and more \n",
    "fermions that can occupy two different energy levels. For four fermions, the case we consider first here, each levels has degeneration $d=4$. The two levels have quantum numbers $\\sigma=\\pm 1$,\n",
    "with the upper level having  $\\sigma=+1$ and energy\n",
    "$\\varepsilon_{1}=\n",
    "\\varepsilon/2$. The lower level  has $\\sigma=-1$ and energy\n",
    "$\\varepsilon_{2}=-\\varepsilon/2$. \n",
    "In addition, the substates  of each level are characterized  \n",
    "by the quantum numbers $p=1,2,3,4$.\n",
    "\n",
    "We define the single-particle states (for the four fermion case which we will work on here)"
   ]
  },
  {
   "cell_type": "markdown",
   "id": "78ff1b5d",
   "metadata": {
    "editable": true
   },
   "source": [
    "$$\n",
    "\\vert u_{\\sigma =-1,p}\\rangle=a_{-p}^{\\dagger}\\vert 0\\rangle\n",
    "\\hspace{1cm}\n",
    "\\vert u_{\\sigma =1,p}\\rangle=a_{+p}^{\\dagger}\\vert 0\\rangle.\n",
    "$$"
   ]
  },
  {
   "cell_type": "markdown",
   "id": "89db4bcf",
   "metadata": {
    "editable": true
   },
   "source": [
    "The single-particle states span an orthonormal basis.\n",
    "The Hamiltonian of the system is given by"
   ]
  },
  {
   "cell_type": "markdown",
   "id": "028e5939",
   "metadata": {
    "editable": true
   },
   "source": [
    "$$\n",
    "\\begin{array}{ll}\n",
    "\\hat{H}=&\\hat{H}_{0}+\\hat{H}_{1}+\\hat{H}_{2}\\\\\n",
    "&\\\\\n",
    "\\hat{H}_{0}=&\\frac{1}{2}\\varepsilon\\sum_{\\sigma ,p}\\sigma\n",
    "a_{\\sigma,p}^{\\dagger}a_{\\sigma ,p}\\\\\n",
    "&\\\\\n",
    "\\hat{H}_{1}=&\\frac{1}{2}V\\sum_{\\sigma ,p,p'}\n",
    "a_{\\sigma,p}^{\\dagger}a_{\\sigma ,p'}^{\\dagger}\n",
    "a_{-\\sigma ,p'}a_{-\\sigma ,p}\\\\\n",
    "&\\\\\n",
    "\\hat{H}_{2}=&\\frac{1}{2}W\\sum_{\\sigma ,p,p'}\n",
    "a_{\\sigma,p}^{\\dagger}a_{-\\sigma ,p'}^{\\dagger}\n",
    "a_{\\sigma ,p'}a_{-\\sigma ,p}\\\\\n",
    "&\\\\\n",
    "\\end{array}\n",
    "$$"
   ]
  },
  {
   "cell_type": "markdown",
   "id": "e91b1934",
   "metadata": {
    "editable": true
   },
   "source": [
    "where $V$ and $W$ are constants. The operator \n",
    "$H_{1}$ can move pairs of fermions\n",
    "while $H_{2}$ is a spin-exchange term. The latter\n",
    "moves a pair of fermions from a state $(p\\sigma ,p' -\\sigma)$ to a state\n",
    "$(p-\\sigma ,p'\\sigma)$.\n",
    "\n",
    "We are going to rewrite the above Hamiltonian in terms of so-called  quasispin operators"
   ]
  },
  {
   "cell_type": "markdown",
   "id": "4f6c4389",
   "metadata": {
    "editable": true
   },
   "source": [
    "$$\n",
    "\\begin{array}{ll}\n",
    "\\hat{J}_{+}=&\\sum_{p}\n",
    "a_{p+}^{\\dagger}a_{p-}\\\\\n",
    "&\\\\\n",
    "\\hat{J}_{-}=&\\sum_{p}\n",
    "a_{p-}^{\\dagger}a_{p+}\\\\\n",
    "&\\\\\n",
    "\\hat{J}_{z}=&\\frac{1}{2}\\sum_{p\\sigma}\\sigma\n",
    "a_{p\\sigma}^{\\dagger}a_{p\\sigma}\\\\\n",
    "&\\\\\n",
    "\\hat{J}^{2}=&J_{+}J_{-}+J_{z}^{2}-J_{z}\\\\\n",
    "&\\\\\n",
    "\\end{array}\n",
    "$$"
   ]
  },
  {
   "cell_type": "markdown",
   "id": "4a879285",
   "metadata": {
    "editable": true
   },
   "source": [
    "We show here that these operators obey the commutation relations for angular momentum.\n",
    "\n",
    "We can in turn express $\\hat{H}$ in terms of the above quasispin operators and the number operator"
   ]
  },
  {
   "cell_type": "markdown",
   "id": "7bc8574e",
   "metadata": {
    "editable": true
   },
   "source": [
    "$$\n",
    "\\hat{N}=\\sum_{p\\sigma}\n",
    "a_{p\\sigma}^{\\dagger}a_{p\\sigma}.\n",
    "$$"
   ]
  },
  {
   "cell_type": "markdown",
   "id": "666a4648",
   "metadata": {
    "editable": true
   },
   "source": [
    "We have the following quasispin operators"
   ]
  },
  {
   "cell_type": "markdown",
   "id": "c2b2dd09",
   "metadata": {
    "editable": true
   },
   "source": [
    "<!-- Equation labels as ordinary links -->\n",
    "<div id=\"eq:Jpm\"></div>\n",
    "\n",
    "$$\n",
    "\\begin{equation}\n",
    "J_{\\pm} = \\sum_p a_{p\\pm}^\\dagger a_{p\\mp},\n",
    "\\label{eq:Jpm} \\tag{1} \n",
    "\\end{equation}\n",
    "$$"
   ]
  },
  {
   "cell_type": "markdown",
   "id": "41813dcd",
   "metadata": {
    "editable": true
   },
   "source": [
    "<!-- Equation labels as ordinary links -->\n",
    "<div id=\"eq:Jz\"></div>\n",
    "\n",
    "$$\n",
    "\\begin{equation} \n",
    "J_{z} = \\frac{1}{2}\\sum_{p,\\sigma} \\sigma a_{p\\sigma}^\\dagger a_{p\\sigma},\n",
    "\\label{eq:Jz} \\tag{2} \n",
    "\\end{equation}\n",
    "$$"
   ]
  },
  {
   "cell_type": "markdown",
   "id": "0dc3a612",
   "metadata": {
    "editable": true
   },
   "source": [
    "<!-- Equation labels as ordinary links -->\n",
    "<div id=\"eq:J2\"></div>\n",
    "\n",
    "$$\n",
    "\\begin{equation} \n",
    "J^{2} = J_+ J_- + J_z^2 - J_z,\n",
    "\\label{eq:J2} \\tag{3}\n",
    "\\end{equation}\n",
    "$$"
   ]
  },
  {
   "cell_type": "markdown",
   "id": "6421c145",
   "metadata": {
    "editable": true
   },
   "source": [
    "and we want to compute the commutators"
   ]
  },
  {
   "cell_type": "markdown",
   "id": "478ea495",
   "metadata": {
    "editable": true
   },
   "source": [
    "$$\n",
    "[J_z,J_\\pm], \\quad [J_+,J_-], \\quad [J^2,J_\\pm] \\quad \\text{og} \\quad \n",
    "[J^2,J_z].\n",
    "$$"
   ]
  },
  {
   "cell_type": "markdown",
   "id": "7c7a382d",
   "metadata": {
    "editable": true
   },
   "source": [
    "Let us start with the first one and inserting for  $J_z$ and $J_\\pm$ given by the equations ([2](#eq:Jz)) and ([1](#eq:Jpm)), respectively, we obtain"
   ]
  },
  {
   "cell_type": "markdown",
   "id": "b1e2d877",
   "metadata": {
    "editable": true
   },
   "source": [
    "$$\n",
    "\\begin{align*}\n",
    "[J_z,J_\\pm] &= J_z J_\\pm - J_\\pm J_z \\\\\n",
    "%\n",
    "&= \\left( \\frac{1}{2}\\sum_{p,\\sigma} \\sigma a_{p\\sigma}^\\dagger a_{p\\sigma} \\right)\n",
    "\\left( \\sum_{p'} a_{p'\\pm}^\\dagger a_{p'\\mp} \\right) -\n",
    "\\left( \\sum_{p'} a_{p'\\pm}^\\dagger a_{p'\\mp} \\right)\n",
    "\\left( \\frac{1}{2}\\sum_{p,\\sigma} \\sigma a_{p\\sigma}^\\dagger a_{p\\sigma} \\right) \\\\\n",
    "&= \\frac{1}{2} \\sum_{p,p',\\sigma} \\sigma \\left( a_{p\\sigma}^\\dagger a_{p\\sigma} a_{p'\\pm}^\\dagger a_{p'\\mp} - a_{p'\\pm}^\\dagger a_{p'\\mp} a_{p\\sigma}^\\dagger a_{p\\sigma} \\right).\n",
    "\\end{align*}\n",
    "$$"
   ]
  },
  {
   "cell_type": "markdown",
   "id": "783a006e",
   "metadata": {
    "editable": true
   },
   "source": [
    "Using the commutation relations for the creation and annihilation operators"
   ]
  },
  {
   "cell_type": "markdown",
   "id": "e352f7e0",
   "metadata": {
    "editable": true
   },
   "source": [
    "<!-- Equation labels as ordinary links -->\n",
    "<div id=\"eq:al,ak\"></div>\n",
    "\n",
    "$$\n",
    "\\begin{equation}\n",
    "\\{ a_l,a_k \\} = 0, \\label{eq:al,ak} \\tag{4} \n",
    "\\end{equation}\n",
    "$$"
   ]
  },
  {
   "cell_type": "markdown",
   "id": "f95a5292",
   "metadata": {
    "editable": true
   },
   "source": [
    "<!-- Equation labels as ordinary links -->\n",
    "<div id=\"eq:ald,akd\"></div>\n",
    "\n",
    "$$\n",
    "\\begin{equation} \n",
    "\\{ a_l^\\dagger , a_k^\\dagger \\} = 0, \\label{eq:ald,akd} \\tag{5} \n",
    "\\end{equation}\n",
    "$$"
   ]
  },
  {
   "cell_type": "markdown",
   "id": "93788cd4",
   "metadata": {
    "editable": true
   },
   "source": [
    "<!-- Equation labels as ordinary links -->\n",
    "<div id=\"eq:ald,ak\"></div>\n",
    "\n",
    "$$\n",
    "\\begin{equation} \n",
    "\\{ a_l^\\dagger , a_k \\} = \\delta_{lk}, \\label{eq:ald,ak} \\tag{6}\n",
    "\\end{equation}\n",
    "$$"
   ]
  },
  {
   "cell_type": "markdown",
   "id": "28e69b4e",
   "metadata": {
    "editable": true
   },
   "source": [
    "in order to move the operators in the right product to be in the same order as those in the lefthand product"
   ]
  },
  {
   "cell_type": "markdown",
   "id": "aed56071",
   "metadata": {
    "editable": true
   },
   "source": [
    "$$\n",
    "\\begin{align*}\n",
    "[J_z,J_\\pm] &= \\frac{1}{2} \\sum_{p,p',\\sigma} \\sigma \\left(\n",
    "a_{p\\sigma}^\\dagger a_{p\\sigma} a_{p'\\pm}^\\dagger a_{p'\\mp} -\n",
    "a_{p'\\pm}^\\dagger \\left( \\delta_{p' p} \\delta_{\\mp \\sigma} - a_{p\\sigma}^\\dagger a_{p'\\mp} \\right) a_{p\\sigma} \\right) \\\\\n",
    "&= \\frac{1}{2} \\sum_{p,p',\\sigma} \\sigma \\left(\n",
    "a_{p\\sigma}^\\dagger a_{p\\sigma} a_{p'\\pm}^\\dagger a_{p'\\mp} -\n",
    "a_{p'\\pm}^\\dagger \\delta_{p' p} \\delta_{\\mp \\sigma} a_{p\\sigma} +\n",
    "a_{p'\\pm}^\\dagger a_{p\\sigma}^\\dagger a_{p'\\mp} a_{p\\sigma} \\right), \\\\\n",
    "\\end{align*}\n",
    "$$"
   ]
  },
  {
   "cell_type": "markdown",
   "id": "f19c3296",
   "metadata": {
    "editable": true
   },
   "source": [
    "which results in"
   ]
  },
  {
   "cell_type": "markdown",
   "id": "1098578b",
   "metadata": {
    "editable": true
   },
   "source": [
    "$$\n",
    "\\begin{align*}\n",
    "[J_z,J_\\pm]\n",
    "&= \\frac{1}{2} \\sum_{p,p',\\sigma} \\sigma \\left(\n",
    "a_{p\\sigma}^\\dagger a_{p\\sigma} a_{p'\\pm}^\\dagger a_{p'\\mp} -\n",
    "a_{p'\\pm}^\\dagger \\delta_{pp'} \\delta_{\\mp \\sigma} a_{p\\sigma} +\n",
    "a_{p\\sigma}^\\dagger a_{p'\\pm}^\\dagger a_{p\\sigma} a_{p'\\mp} \\right) \\\\\n",
    "&= \\frac{1}{2} \\sum_{p,p',\\sigma} \\sigma \\left(\n",
    "a_{p\\sigma}^\\dagger a_{p\\sigma} a_{p'\\pm}^\\dagger a_{p'\\mp} -\n",
    "a_{p'\\pm}^\\dagger \\delta_{pp'} \\delta_{\\mp \\sigma} a_{p\\sigma} +\n",
    "a_{p\\sigma}^\\dagger \\left( \\delta_{pp'} \\delta_{\\pm \\sigma} - a_{p\\sigma} a_{p'\\pm}^\\dagger \\right) a_{p'\\mp} \\right) \\\\\n",
    "&= \\frac{1}{2} \\sum_{p,p',\\sigma} \\sigma \\left(\n",
    "a_{p\\sigma}^\\dagger \\delta_{pp'} \\delta_{\\pm \\sigma} a_{p'\\mp} -\n",
    "a_{p'\\pm}^\\dagger \\delta_{pp'} \\delta_{\\mp \\sigma} a_{p\\sigma} \\right). \\\\\n",
    "\\end{align*}\n",
    "$$"
   ]
  },
  {
   "cell_type": "markdown",
   "id": "e35e8b58",
   "metadata": {
    "editable": true
   },
   "source": [
    "The last equality leads to"
   ]
  },
  {
   "cell_type": "markdown",
   "id": "714ab6bc",
   "metadata": {
    "editable": true
   },
   "source": [
    "$$\n",
    "\\begin{align*}\n",
    "[J_z,J_\\pm] &= \\frac{1}{2} \\sum_p \\left(\n",
    "(\\pm 1) a_{p\\pm}^\\dagger a_{p\\mp} - (\\mp 1)\n",
    "a_{p\\pm}^\\dagger a_{p\\mp} \\right) =\n",
    "\\pm \\frac{1}{2} \\sum_p \\left(\n",
    "a_{p\\pm}^\\dagger a_{p\\mp} + (\\pm 1)\n",
    "a_{p\\pm}^\\dagger a_{p\\mp} \\right) \\\\\n",
    "&= \\pm \\sum_p a_{p\\pm}^\\dagger a_{p\\mp} = \\pm J_\\pm,\n",
    "\\end{align*}\n",
    "$$"
   ]
  },
  {
   "cell_type": "markdown",
   "id": "293eae8a",
   "metadata": {
    "editable": true
   },
   "source": [
    "where the last results follows from comparing with Eq. ([1](#eq:Jpm)).\n",
    "\n",
    "We can then continue with the next commutation relation, using Eq. ([1](#eq:Jpm)),"
   ]
  },
  {
   "cell_type": "markdown",
   "id": "6c35632f",
   "metadata": {
    "editable": true
   },
   "source": [
    "$$\n",
    "\\begin{align*}\n",
    "[J_+,J_-] &= J_+ J_- - J_- J_+ \\\\\n",
    "&= \\left( \\sum_p a_{p'+}^\\dagger a_{p-} \\right)\n",
    "\\left( \\sum_{p'} a_{p'-}^\\dagger a_{p'+} \\right) -\n",
    "\\left( \\sum_{p'} a_{p'-}^\\dagger a_{p'+} \\right)\n",
    "\\left( \\sum_p a_{p+}^\\dagger a_{p-} \\right) \\\\\n",
    "&= \\sum_{p,p'} \\left(\n",
    "a_{p'+}^\\dagger a_{p-} a_{p'-}^\\dagger a_{p'+} -\n",
    "a_{p'-}^\\dagger a_{p'+} a_{p+}^\\dagger a_{p-} \\right) \\\\\n",
    "&= \\sum_{p,p'} \\left(\n",
    "a_{p'+}^\\dagger a_{p-} a_{p'-}^\\dagger a_{p'+} -\n",
    "a_{p'-}^\\dagger \\left( \\delta_{++} \\delta_{pp'} -\n",
    "a_{p+}^\\dagger a_{p'+} \\right) a_{p-} \\right) \\\\\n",
    "&= \\sum_{p,p'} \\left(\n",
    "a_{p'+}^\\dagger a_{p-} a_{p'-}^\\dagger a_{p'+} -\n",
    "a_{p'-}^\\dagger \\delta_{pp'} a_{p-} +\n",
    "a_{p'-}^\\dagger a_{p+}^\\dagger a_{p'+} a_{p-} \\right) \\\\\n",
    "&= \\sum_{p,p'} \\left(\n",
    "a_{p'+}^\\dagger a_{p-} a_{p'-}^\\dagger a_{p'+} -\n",
    "a_{p'-}^\\dagger \\delta_{pp'} a_{p-} +\n",
    "a_{p+}^\\dagger a_{p'-}^\\dagger a_{p-} a_{p'+} \\right) \\\\\n",
    "&= \\sum_{p,p'} \\left(\n",
    "a_{p'+}^\\dagger a_{p-} a_{p'-}^\\dagger a_{p'+} -\n",
    "a_{p'-}^\\dagger \\delta_{pp'} a_{p-} +\n",
    "a_{p+}^\\dagger \\left( \\delta_{--} \\delta_{pp'} -\n",
    "a_{p-} a_{p'-}^\\dagger \\right) a_{p'+} \\right) \\\\\n",
    "&= \\sum_{p,p'} \\left(\n",
    "a_{p+}^\\dagger \\delta_{pp'} a_{p'+} -\n",
    "a_{p'-}^\\dagger \\delta_{pp'} a_{p-} \\right), \\\\\n",
    "\\end{align*}\n",
    "$$"
   ]
  },
  {
   "cell_type": "markdown",
   "id": "c216c5d8",
   "metadata": {
    "editable": true
   },
   "source": [
    "which results in"
   ]
  },
  {
   "cell_type": "markdown",
   "id": "43465f2c",
   "metadata": {
    "editable": true
   },
   "source": [
    "$$\n",
    "[J_+,J_-] = \\sum_p \\left(\n",
    "a_{p+}^\\dagger a_{p+} -\n",
    "a_{p-}^\\dagger a_{p-} \\right) = 2J_z,\n",
    "$$"
   ]
  },
  {
   "cell_type": "markdown",
   "id": "29a2d199",
   "metadata": {
    "editable": true
   },
   "source": [
    "It is straightforward to show that"
   ]
  },
  {
   "cell_type": "markdown",
   "id": "94d6faf8",
   "metadata": {
    "editable": true
   },
   "source": [
    "$$\n",
    "[J^2, J_\\pm] = [J_+ J_- + J_z^2 - J_z, J_\\pm] =\n",
    "[J_+ J_-, J_\\pm] + [J_z^2, J_\\pm] - [J_z, J_\\pm].\n",
    "$$"
   ]
  },
  {
   "cell_type": "markdown",
   "id": "d5c20a60",
   "metadata": {
    "editable": true
   },
   "source": [
    "Using the relations"
   ]
  },
  {
   "cell_type": "markdown",
   "id": "e8351e8f",
   "metadata": {
    "editable": true
   },
   "source": [
    "<!-- Equation labels as ordinary links -->\n",
    "<div id=\"eq:ab,c\"></div>\n",
    "\n",
    "$$\n",
    "\\begin{equation}\n",
    "[AB,C] = A[B,C] + [A,C]B, \\label{eq:ab,c} \\tag{7} \n",
    "\\end{equation}\n",
    "$$"
   ]
  },
  {
   "cell_type": "markdown",
   "id": "d58ee792",
   "metadata": {
    "editable": true
   },
   "source": [
    "<!-- Equation labels as ordinary links -->\n",
    "<div id=\"eq:a,bc\"></div>\n",
    "\n",
    "$$\n",
    "\\begin{equation} \n",
    "[A,BC] = [A,B]C + B[A,C], \\label{eq:a,bc} \\tag{8}\n",
    "\\end{equation}\n",
    "$$"
   ]
  },
  {
   "cell_type": "markdown",
   "id": "d971de9f",
   "metadata": {
    "editable": true
   },
   "source": [
    "we obtain"
   ]
  },
  {
   "cell_type": "markdown",
   "id": "08adcd45",
   "metadata": {
    "editable": true
   },
   "source": [
    "$$\n",
    "[J^2, J_\\pm] =\n",
    "J_+ [J_-,J_\\pm] + [J_+,J_\\pm] J_- + J_z [J_z,J_\\pm] + [J_z,J_\\pm] J_z - [J_z,J_\\pm].\n",
    "$$"
   ]
  },
  {
   "cell_type": "markdown",
   "id": "afdd5de7",
   "metadata": {
    "editable": true
   },
   "source": [
    "Finally, from the above it follows that"
   ]
  },
  {
   "cell_type": "markdown",
   "id": "4c28b191",
   "metadata": {
    "editable": true
   },
   "source": [
    "$$\n",
    "\\begin{align*}\n",
    "[J^2, J_+] &= -2J_+ J_z + J_z [J_z,J_+] + [J_z,J_+] J_z - [J_z,J_+] \\\\\n",
    "&= -2J_+ J_z + J_z J_+ + J_+ J_z - J_+ \\\\\n",
    "&= -2J_+ J_z + J_+ + J_+ J_z + J_+ J_z - J_+ = 0,\n",
    "\\end{align*}\n",
    "$$"
   ]
  },
  {
   "cell_type": "markdown",
   "id": "9e1dbfea",
   "metadata": {
    "editable": true
   },
   "source": [
    "and"
   ]
  },
  {
   "cell_type": "markdown",
   "id": "c18a7831",
   "metadata": {
    "editable": true
   },
   "source": [
    "$$\n",
    "\\begin{align*}\n",
    "[J^2, J_-] &= 2J_z J_- + J_z [J_z,J_-] + [J_z,J_-] J_z - [J_z,J_-] \\\\\n",
    "&= 2J_z J_- - J_z J_- - J_- J_z + J_- \\\\\n",
    "&= J_z J_- - (J_z J_- + J_-) + J_- = 0.\n",
    "\\end{align*}\n",
    "$$"
   ]
  },
  {
   "cell_type": "markdown",
   "id": "469dd304",
   "metadata": {
    "editable": true
   },
   "source": [
    "Our last commutator is given by"
   ]
  },
  {
   "cell_type": "markdown",
   "id": "c7beec70",
   "metadata": {
    "editable": true
   },
   "source": [
    "$$\n",
    "\\begin{align*}\n",
    "[J^2,J_z] &= [J_+ J_- + J_z^2 - J_z, J_z] \\\\\n",
    "&= [J_+ J_-, J_z] + [J_z^2, J_z] - [J_z, J_z] \\\\\n",
    "&= J_+ [J_-, J_z] + [J_+,J_z] J_- \\\\\n",
    "&= J_+ J_- - J_+ J_- = 0\n",
    "\\end{align*}\n",
    "$$"
   ]
  },
  {
   "cell_type": "markdown",
   "id": "b6c5c4cf",
   "metadata": {
    "editable": true
   },
   "source": [
    "Summing up we have"
   ]
  },
  {
   "cell_type": "markdown",
   "id": "a40fbd74",
   "metadata": {
    "editable": true
   },
   "source": [
    "<!-- Equation labels as ordinary links -->\n",
    "<div id=\"eq:kJzJpm\"></div>\n",
    "\n",
    "$$\n",
    "\\begin{equation}\n",
    "[J_z, J_\\pm] = \\pm J_\\pm, \\label{eq:kJzJpm} \\tag{9} \n",
    "\\end{equation}\n",
    "$$"
   ]
  },
  {
   "cell_type": "markdown",
   "id": "b0d4b7fc",
   "metadata": {
    "editable": true
   },
   "source": [
    "<!-- Equation labels as ordinary links -->\n",
    "<div id=\"eq:kJpJm\"></div>\n",
    "\n",
    "$$\n",
    "\\begin{equation} \n",
    "[J_+, J_-] = 2J_z, \\label{eq:kJpJm} \\tag{10} \n",
    "\\end{equation}\n",
    "$$"
   ]
  },
  {
   "cell_type": "markdown",
   "id": "d4fdae3d",
   "metadata": {
    "editable": true
   },
   "source": [
    "<!-- Equation labels as ordinary links -->\n",
    "<div id=\"eq:kJ2Jpm\"></div>\n",
    "\n",
    "$$\n",
    "\\begin{equation} \n",
    "[J^2, J_\\pm] = 0, \\label{eq:kJ2Jpm} \\tag{11} \n",
    "\\end{equation}\n",
    "$$"
   ]
  },
  {
   "cell_type": "markdown",
   "id": "730247cd",
   "metadata": {
    "editable": true
   },
   "source": [
    "<!-- Equation labels as ordinary links -->\n",
    "<div id=\"eq:kJ2Jz\"></div>\n",
    "\n",
    "$$\n",
    "\\begin{equation} \n",
    "[J^2,J_z] = 0, \\label{eq:kJ2Jz} \\tag{12}\n",
    "\\end{equation}\n",
    "$$"
   ]
  },
  {
   "cell_type": "markdown",
   "id": "2847b448",
   "metadata": {
    "editable": true
   },
   "source": [
    "which are the standard commutation relations for angular (or orbital) momentum $L_\\pm$, $L_z$ og $L^2$."
   ]
  },
  {
   "cell_type": "markdown",
   "id": "0218c70c",
   "metadata": {
    "editable": true
   },
   "source": [
    "## Rewriting the Hamiltonian\n",
    "\n",
    "We wrote the above Hamiltonian as"
   ]
  },
  {
   "cell_type": "markdown",
   "id": "7c7658bc",
   "metadata": {
    "editable": true
   },
   "source": [
    "$$\n",
    "H = H_0 + H_1 +H_2,\n",
    "$$"
   ]
  },
  {
   "cell_type": "markdown",
   "id": "8f87135d",
   "metadata": {
    "editable": true
   },
   "source": [
    "with"
   ]
  },
  {
   "cell_type": "markdown",
   "id": "6bca5697",
   "metadata": {
    "editable": true
   },
   "source": [
    "$$\n",
    "H_0 = \\frac{1}{2} \\varepsilon \\sum_{p\\sigma}\\sigma a_{p\\sigma}^{\\dagger}a_{p\\sigma},\n",
    "$$"
   ]
  },
  {
   "cell_type": "markdown",
   "id": "77302046",
   "metadata": {
    "editable": true
   },
   "source": [
    "and"
   ]
  },
  {
   "cell_type": "markdown",
   "id": "9e8950a1",
   "metadata": {
    "editable": true
   },
   "source": [
    "$$\n",
    "H_1 = \\frac{1}{2} V \\sum_{p,p',\\sigma} a_{p\\sigma}^\\dagger a_{p'\\sigma}^\\dagger a_{p'-\\sigma} a_{p-\\sigma},\n",
    "$$"
   ]
  },
  {
   "cell_type": "markdown",
   "id": "53c13af8",
   "metadata": {
    "editable": true
   },
   "source": [
    "and"
   ]
  },
  {
   "cell_type": "markdown",
   "id": "bcc26795",
   "metadata": {
    "editable": true
   },
   "source": [
    "$$\n",
    "H_{2} = \\frac{1}{2} W \\sum_{p,p',\\sigma}a_{p\\sigma}^\\dagger a_{p'-\\sigma}^\\dagger a_{p'\\sigma}a_{p-\\sigma}.\n",
    "$$"
   ]
  },
  {
   "cell_type": "markdown",
   "id": "e3a84c44",
   "metadata": {
    "editable": true
   },
   "source": [
    "We will now rewrite the Hamiltonian in terms of the above quasi-spin operators and the number operator"
   ]
  },
  {
   "cell_type": "markdown",
   "id": "7db0544e",
   "metadata": {
    "editable": true
   },
   "source": [
    "<!-- Equation labels as ordinary links -->\n",
    "<div id=\"eq:N\"></div>\n",
    "\n",
    "$$\n",
    "\\begin{equation}\n",
    "N = \\sum_{p,\\sigma} a_{p\\sigma}^\\dagger a_{p\\sigma}.\n",
    "\\label{eq:N} \\tag{13}\n",
    "\\end{equation}\n",
    "$$"
   ]
  },
  {
   "cell_type": "markdown",
   "id": "8404ee8a",
   "metadata": {
    "editable": true
   },
   "source": [
    "Going through each term of the Hamiltonian and using the expressions for the quasi-spin operators we obtain"
   ]
  },
  {
   "cell_type": "markdown",
   "id": "30bc724b",
   "metadata": {
    "editable": true
   },
   "source": [
    "<!-- Equation labels as ordinary links -->\n",
    "<div id=\"eq:H0ny\"></div>\n",
    "\n",
    "$$\n",
    "\\begin{equation}\n",
    "H_0 = \\varepsilon J_z.\n",
    "\\label{eq:H0ny} \\tag{14}\n",
    "\\end{equation}\n",
    "$$"
   ]
  },
  {
   "cell_type": "markdown",
   "id": "cdac9b1a",
   "metadata": {
    "editable": true
   },
   "source": [
    "Moving over to $H_1$ and using the anti-commutation relations ([4](#eq:al,ak)) through ([6](#eq:ald,ak)) we obtain"
   ]
  },
  {
   "cell_type": "markdown",
   "id": "370ea3c9",
   "metadata": {
    "editable": true
   },
   "source": [
    "$$\n",
    "\\begin{align*}\n",
    "H_1 &= \\frac{1}{2} V \\sum_{p,p',\\sigma}\n",
    "a_{p\\sigma}^\\dagger a_{p'\\sigma}^\\dagger a_{p'-\\sigma} a_{p-\\sigma} \\\\\n",
    "&= \\frac{1}{2} V \\sum_{p,p',\\sigma}\n",
    "-a_{p\\sigma}^\\dagger a_{p'\\sigma}^\\dagger a_{p-\\sigma} a_{p'-\\sigma} \\\\\n",
    "&= \\frac{1}{2} V \\sum_{p,p',\\sigma}\n",
    "-a_{p\\sigma}^\\dagger \\left( \\delta_{pp'} \\delta_{\\sigma -\\sigma} - a_{p-\\sigma} a_{p'\\sigma}^\\dagger \\right) a_{p'-\\sigma} \\\\\n",
    "&= \\frac{1}{2} V \\sum_{p,p',\\sigma}\n",
    "a_{p\\sigma}^\\dagger a_{p-\\sigma} a_{p'\\sigma}^\\dagger a_{p'-\\sigma} \\\\\n",
    "\\end{align*}\n",
    "$$"
   ]
  },
  {
   "cell_type": "markdown",
   "id": "3ddf3fcb",
   "metadata": {
    "editable": true
   },
   "source": [
    "Rewriting the sum  over $\\sigma$ we arrive at"
   ]
  },
  {
   "cell_type": "markdown",
   "id": "cd87a91b",
   "metadata": {
    "editable": true
   },
   "source": [
    "$$\n",
    "\\begin{align*}\n",
    "H_1 &= \\frac{1}{2} V\\sum_{p,p'}\n",
    "a_{p+}^\\dagger a_{p-} a_{p'+}^\\dagger a_{p'-} +\n",
    "a_{p-}^\\dagger a_{p+} a_{p'-}^\\dagger a_{p'+} \\\\\n",
    "&= \\frac{1}{2} V \\left[ \\sum_p \\left( a_{p+}^\\dagger a_{p-} \\right)\n",
    "\\sum_{p'} \\left( a_{p'+}^\\dagger a_{p'-} \\right) +\n",
    "\\sum_p \\left( a_{p-}^\\dagger a_{p+} \\right)\n",
    "\\sum_{p'} \\left( a_{p'-}^\\dagger a_{p'+} \\right) \\right] \\\\\n",
    "&= \\frac{1}{2} V \\left[ J_+ J_+ + J_- J_- \\right] = \\frac{1}{2} V \\left[ J_+^2 + J_-^2 \\right] ,\n",
    "\\end{align*}\n",
    "$$"
   ]
  },
  {
   "cell_type": "markdown",
   "id": "fd68457b",
   "metadata": {
    "editable": true
   },
   "source": [
    "which leads to"
   ]
  },
  {
   "cell_type": "markdown",
   "id": "e2af04ff",
   "metadata": {
    "editable": true
   },
   "source": [
    "<!-- Equation labels as ordinary links -->\n",
    "<div id=\"eq:H1ny\"></div>\n",
    "\n",
    "$$\n",
    "\\begin{equation}\n",
    "H_1 = \\frac{1}{2} V \\left( J_+^2 + J_-^2 \\right).\n",
    "\\label{eq:H1ny} \\tag{15}\n",
    "\\end{equation}\n",
    "$$"
   ]
  },
  {
   "cell_type": "markdown",
   "id": "28e3a015",
   "metadata": {
    "editable": true
   },
   "source": [
    "Finally, we rewrite the last term"
   ]
  },
  {
   "cell_type": "markdown",
   "id": "99daca9f",
   "metadata": {
    "editable": true
   },
   "source": [
    "$$\n",
    "\\begin{align*}\n",
    "H_2 &= \\frac{1}{2} W \\sum_{p,p',\\sigma}\n",
    "a_{p\\sigma}^\\dagger a_{p'-\\sigma}^\\dagger a_{p'\\sigma} a_{p-\\sigma} \\\\\n",
    "&= \\frac{1}{2} W \\sum_{p,p',\\sigma}\n",
    "-a_{p\\sigma}^\\dagger a_{p'-\\sigma}^\\dagger a_{p-\\sigma} a_{p'\\sigma} \\\\\n",
    "&= \\frac{1}{2} W \\sum_{p,p',\\sigma}\n",
    "-a_{p\\sigma}^\\dagger \\left( \\delta_{pp'} \\delta_{-\\sigma -\\sigma} -\n",
    "a_{p-\\sigma} a_{p'-\\sigma}^\\dagger \\right) a_{p'\\sigma} \\\\\n",
    "&= \\frac{1}{2} W \\sum_{p,p',\\sigma}\n",
    "-a_{p\\sigma}^\\dagger \\delta_{pp'} a_{p'\\sigma} +\n",
    "a_{p\\sigma}^\\dagger a_{p-\\sigma} a_{p'-\\sigma}^\\dagger a_{p'\\sigma} \\\\\n",
    "&= \\frac{1}{2} W \\left( -\\sum_{p,\\sigma}\n",
    "a_{p\\sigma}^\\dagger a_{p\\sigma} +\n",
    "\\sum_{p,p',\\sigma} a_{p\\sigma}^\\dagger a_{p-\\sigma} a_{p'-\\sigma}^\\dagger a_{p'\\sigma} \\right) \\\\\n",
    "\\end{align*}\n",
    "$$"
   ]
  },
  {
   "cell_type": "markdown",
   "id": "fbfc631c",
   "metadata": {
    "editable": true
   },
   "source": [
    "Using the expression for the number operator we obtain"
   ]
  },
  {
   "cell_type": "markdown",
   "id": "8e417523",
   "metadata": {
    "editable": true
   },
   "source": [
    "$$\n",
    "\\begin{align*}\n",
    "\\sum_{p,p',\\sigma} a_{p\\sigma}^\\dagger a_{p-\\sigma} a_{p'-\\sigma}^\\dagger a_{p'\\sigma}\n",
    "&= \\sum_{p,p'} a_{p+}^\\dagger a_{p-} a_{p'-}^\\dagger a_{p'+} +\n",
    "a_{p-}^\\dagger a_{p+} a_{p'+}^\\dagger a_{p'-} \\\\\n",
    "&= \\sum_p \\left( a_{p+}^\\dagger a_{p-} \\right)\n",
    "\\sum_{p'} \\left( a_{p'-}^\\dagger a_{p'+} \\right) +\n",
    "\\sum_p \\left( a_{p-}^\\dagger a_{p+} \\right)\n",
    "\\sum_{p'} \\left( a_{p'+}^\\dagger a_{p'-} \\right) \\\\\n",
    "&= J_+ J_- + J_- J_+,\n",
    "\\end{align*}\n",
    "$$"
   ]
  },
  {
   "cell_type": "markdown",
   "id": "c9226f4e",
   "metadata": {
    "editable": true
   },
   "source": [
    "resulting in"
   ]
  },
  {
   "cell_type": "markdown",
   "id": "c61085c1",
   "metadata": {
    "editable": true
   },
   "source": [
    "<!-- Equation labels as ordinary links -->\n",
    "<div id=\"eq:H2ny\"></div>\n",
    "\n",
    "$$\n",
    "\\begin{equation}\n",
    "H_2 = \\frac{1}{2} W \\left( -N + J_+ J_- + J_- J_+ \\right).\n",
    "\\label{eq:H2ny} \\tag{16}\n",
    "\\end{equation}\n",
    "$$"
   ]
  },
  {
   "cell_type": "markdown",
   "id": "d08cd394",
   "metadata": {
    "editable": true
   },
   "source": [
    "We have thus expressed the Hamiltonian in term of the quasi-spin operators."
   ]
  },
  {
   "cell_type": "markdown",
   "id": "a4b92e66",
   "metadata": {
    "editable": true
   },
   "source": [
    "## Commutation relations for the Hamiltonian\n",
    "The above expressions can in turn be used to show that the Hamiltonian commutes with the various quasi-spin operators. This leads to quantum numbers which are conserved.\n",
    "Let us first show that $[H,J^2]=0$, which means that $J$ is a so-called *good* quantum number.\n",
    "We have"
   ]
  },
  {
   "cell_type": "markdown",
   "id": "e3747bf1",
   "metadata": {
    "editable": true
   },
   "source": [
    "$$\n",
    "\\begin{align*}\n",
    "[H,J^2] &= [H_0 + H_1 + H_2,J^2] \\\\\n",
    "&= [H_0,J^2] + [H_1,J^2] + [H_2,J^2] \\\\\n",
    "&= \\varepsilon [J_z,J^2] + \\frac{1}{2} V [J_+^2 + J_-^2,J^2] +\n",
    "\\frac{1}{2} W [-N + J_+ J_- + J_- J_+,J^2]. \\\\\n",
    "\\end{align*}\n",
    "$$"
   ]
  },
  {
   "cell_type": "markdown",
   "id": "ef0a0fc9",
   "metadata": {
    "editable": true
   },
   "source": [
    "We have previously shown that"
   ]
  },
  {
   "cell_type": "markdown",
   "id": "50dc2177",
   "metadata": {
    "editable": true
   },
   "source": [
    "$$\n",
    "[H,J^2] = \\frac{1}{2} V \\left( [J_+^2,J^2] + [J_-^2,J^2] \\right) +\n",
    "\\frac{1}{2} W \\left( -[N,J^2] + [J_+ J_-,J^2] + [J_- J_+, J^2] \\right)\n",
    "$$"
   ]
  },
  {
   "cell_type": "markdown",
   "id": "f3cc5c65",
   "metadata": {
    "editable": true
   },
   "source": [
    "Using that $[J_\\pm,J^2] = 0$, it follows that $[J_\\pm^2,J^2] = 0$. We can then see that $[J_+ J_-,J^2] = 0$ and $[J_- J_+, J^2] = 0$ which leads to"
   ]
  },
  {
   "cell_type": "markdown",
   "id": "b638e322",
   "metadata": {
    "editable": true
   },
   "source": [
    "$$\n",
    "\\begin{align*}\n",
    "[H,J^2] &= -\\frac{1}{2} W [N,J^2] \\\\\n",
    "&= \\frac{1}{2} W \\left( -[N,J_+ J_-] - [N,J_z^2] + [N,J_z] \\right) \\\\\n",
    "&= \\frac{1}{2} W \\left( -[N,J_+]J_- - J_+[N,J_-] - [N,J_z]J_z - J_z[N,J_z] + [N,J_z] \\right).\n",
    "\\end{align*}\n",
    "$$"
   ]
  },
  {
   "cell_type": "markdown",
   "id": "8f732f03",
   "metadata": {
    "editable": true
   },
   "source": [
    "Combining with the number operator we have"
   ]
  },
  {
   "cell_type": "markdown",
   "id": "e022f441",
   "metadata": {
    "editable": true
   },
   "source": [
    "$$\n",
    "\\begin{align*}\n",
    "[N,J_\\pm] &= N J_\\pm - J_\\pm N \\\\\n",
    "&= \\left( \\sum_{p,\\sigma} a_{p\\sigma}^\\dagger a_{p\\sigma} \\right)\n",
    "\\left( \\sum_{p'} a_{p'\\pm}^\\dagger a_{p'\\mp} \\right) -\n",
    "\\left( \\sum_{p'} a_{p'\\pm}^\\dagger a_{p'\\mp} \\right)\n",
    "\\left( \\sum_{p,\\sigma} a_{p\\sigma}^\\dagger a_{p\\sigma} \\right) \\\\\n",
    "&= \\sum_{p,p',\\sigma}\n",
    "a_{p\\sigma}^\\dagger a_{p\\sigma} a_{p'\\pm}^\\dagger a_{p'\\mp} -\n",
    "a_{p'\\pm}^\\dagger a_{p'\\mp} a_{p\\sigma}^\\dagger a_{p\\sigma} \\\\\n",
    "&= \\sum_{p,p',\\sigma}\n",
    "a_{p\\sigma}^\\dagger a_{p\\sigma} a_{p'\\pm}^\\dagger a_{p'\\mp} -\n",
    "a_{p'\\pm}^\\dagger \\left( \\delta_{\\mp \\sigma} \\delta_{pp'} - a_{p\\sigma}^\\dagger a_{p'\\mp} \\right) a_{p\\sigma} \\\\\n",
    "&= \\sum_{p,p',\\sigma}\n",
    "a_{p\\sigma}^\\dagger a_{p\\sigma} a_{p'\\pm}^\\dagger a_{p'\\mp} -\n",
    "a_{p'\\pm}^\\dagger \\delta_{\\mp \\sigma} \\delta_{pp'} a_{p\\sigma} +\n",
    "a_{p'\\pm}^\\dagger a_{p\\sigma}^\\dagger a_{p'\\mp} a_{p\\sigma} \\\\\n",
    "&= \\sum_{p,p',\\sigma}\n",
    "a_{p\\sigma}^\\dagger a_{p\\sigma} a_{p'\\pm}^\\dagger a_{p'\\mp} +\n",
    "a_{p\\sigma}^\\dagger a_{p'\\pm}^\\dagger a_{p\\sigma} a_{p'\\mp} -\n",
    "\\sum_{p} a_{p\\pm}^\\dagger  a_{p\\mp} \\\\\n",
    "&= \\sum_{p,p',\\sigma}\n",
    "a_{p\\sigma}^\\dagger a_{p\\sigma} a_{p'\\pm}^\\dagger a_{p'\\mp} +\n",
    "a_{p\\sigma}^\\dagger \\left( \\delta_{pp'} \\delta_{\\pm \\sigma} -\n",
    "a_{p\\sigma} a_{p'\\pm}^\\dagger \\right) a_{p'\\mp} -\n",
    "\\sum_{p} a_{p\\pm}^\\dagger  a_{p\\mp} \\\\\n",
    "&= \\sum_p a_{p\\pm}^\\dagger a_{p\\mp} -\n",
    "\\sum_{p} a_{p\\pm}^\\dagger  a_{p\\mp} = 0. \\\\\n",
    "\\end{align*}\n",
    "$$"
   ]
  },
  {
   "cell_type": "markdown",
   "id": "6a2ec17a",
   "metadata": {
    "editable": true
   },
   "source": [
    "We obtain then"
   ]
  },
  {
   "cell_type": "markdown",
   "id": "6cbb88f2",
   "metadata": {
    "editable": true
   },
   "source": [
    "$$\n",
    "\\begin{align*}\n",
    "[N,J_z] &= N J_z - J_z N \\\\\n",
    "&= \\left( \\sum_{p,\\sigma} a_{p\\sigma}^\\dagger a_{p\\sigma} \\right)\n",
    "\\left( \\frac{1}{2}\\sum_{p',\\sigma} \\sigma a_{p'\\sigma}^\\dagger a_{p'\\sigma} \\right) -\n",
    "\\left( \\frac{1}{2}\\sum_{p',\\sigma} \\sigma a_{p'\\sigma}^\\dagger a_{p'\\sigma} \\right)\n",
    "\\left( \\sum_{p,\\sigma} a_{p\\sigma}^\\dagger a_{p\\sigma} \\right) \\\\\n",
    "&= \\sum_{p,p',\\sigma} \n",
    "\\sigma a_{p\\sigma}^\\dagger a_{p\\sigma} a_{p'\\sigma}^\\dagger a_{p'\\sigma} -\n",
    "\\sigma a_{p'\\sigma}^\\dagger a_{p'\\sigma} a_{p\\sigma}^\\dagger a_{p\\sigma} = 0,\n",
    "\\end{align*}\n",
    "$$"
   ]
  },
  {
   "cell_type": "markdown",
   "id": "87800716",
   "metadata": {
    "editable": true
   },
   "source": [
    "which leads to"
   ]
  },
  {
   "cell_type": "markdown",
   "id": "606cc7a2",
   "metadata": {
    "editable": true
   },
   "source": [
    "<!-- Equation labels as ordinary links -->\n",
    "<div id=\"eq:kHJ2\"></div>\n",
    "\n",
    "$$\n",
    "\\begin{equation}\n",
    "[H,J^2] = 0,\n",
    "\\label{eq:kHJ2} \\tag{17}\n",
    "\\end{equation}\n",
    "$$"
   ]
  },
  {
   "cell_type": "markdown",
   "id": "48038e50",
   "metadata": {
    "editable": true
   },
   "source": [
    "and $J$ is a good quantum number."
   ]
  },
  {
   "cell_type": "markdown",
   "id": "41a962a2",
   "metadata": {
    "editable": true
   },
   "source": [
    "### Constructing the Hamiltonian matrix for $J=2$\n",
    "\n",
    "We start with the state (unique) where all spins point down"
   ]
  },
  {
   "cell_type": "markdown",
   "id": "714d168b",
   "metadata": {
    "editable": true
   },
   "source": [
    "<!-- Equation labels as ordinary links -->\n",
    "<div id=\"eq:2,-2\"></div>\n",
    "\n",
    "$$\n",
    "\\begin{equation}\n",
    "\\vert 2,-2\\rangle = a_{1-}^{\\dagger} a_{2-}^{\\dagger}\n",
    "a_{3-}^{\\dagger} a_{4-}^{\\dagger} \\vert 0\\rangle\n",
    "\\label{eq:2,-2} \\tag{18}\n",
    "\\end{equation}\n",
    "$$"
   ]
  },
  {
   "cell_type": "markdown",
   "id": "494d0ce0",
   "metadata": {
    "editable": true
   },
   "source": [
    "which is a state with  $J_z = -2$ and $J = 2$. (we label the states as $\\vert J,J_z\\rangle$). For $J = 2$ we have the spin projections $J_z = -2,-1,0,1,2$.\n",
    "We can use the lowering and raising operators for spin in order to define the other states"
   ]
  },
  {
   "cell_type": "markdown",
   "id": "7f60b9a1",
   "metadata": {
    "editable": true
   },
   "source": [
    "<!-- Equation labels as ordinary links -->\n",
    "<div id=\"eq:J+ket\"></div>\n",
    "\n",
    "$$\n",
    "\\begin{equation}\n",
    "J_+ \\vert J,J_z\\rangle = \\sqrt{J(J+1) - J_z(J_z + 1)} \\vert J,J_z + 1\\rangle,\n",
    "\\label{eq:J+ket} \\tag{19} \n",
    "\\end{equation}\n",
    "$$"
   ]
  },
  {
   "cell_type": "markdown",
   "id": "32bc824f",
   "metadata": {
    "editable": true
   },
   "source": [
    "<!-- Equation labels as ordinary links -->\n",
    "<div id=\"eq:J-ket\"></div>\n",
    "\n",
    "$$\n",
    "\\begin{equation} \n",
    "J_- \\vert J,J_z\\rangle = \\sqrt{J(J+1) - J_z(J_z - 1)} \\vert J,J_z - 1\\rangle.\n",
    "\\label{eq:J-ket} \\tag{20}\n",
    "\\end{equation}\n",
    "$$"
   ]
  },
  {
   "cell_type": "markdown",
   "id": "19bad531",
   "metadata": {
    "editable": true
   },
   "source": [
    "We can then construct all other states with $J=2$ using the raising operator\n",
    "$J_+$ on $\\vert 2,-2\\rangle$"
   ]
  },
  {
   "cell_type": "markdown",
   "id": "44e66187",
   "metadata": {
    "editable": true
   },
   "source": [
    "$$\n",
    "J_+ \\vert 2,-2\\rangle = \\sqrt{2(2+1) - (-2)(-2+1)} \\vert 2,-2+1\\rangle =\\sqrt{6 - 2} \\vert 2,-1\\rangle = 2\\vert 2,-1\\rangle,\n",
    "$$"
   ]
  },
  {
   "cell_type": "markdown",
   "id": "d531dc01",
   "metadata": {
    "editable": true
   },
   "source": [
    "which gives"
   ]
  },
  {
   "cell_type": "markdown",
   "id": "ed47e3f4",
   "metadata": {
    "editable": true
   },
   "source": [
    "<!-- Equation labels as ordinary links -->\n",
    "<div id=\"_auto1\"></div>\n",
    "\n",
    "$$\n",
    "\\begin{equation}\n",
    "\\vert 2,-1\\rangle = \\frac{1}{2} J_+ \\vert 2,-2\\rangle \\notag \n",
    "\\label{_auto1} \\tag{21}\n",
    "\\end{equation}\n",
    "$$"
   ]
  },
  {
   "cell_type": "markdown",
   "id": "9cc86dac",
   "metadata": {
    "editable": true
   },
   "source": [
    "<!-- Equation labels as ordinary links -->\n",
    "<div id=\"_auto2\"></div>\n",
    "\n",
    "$$\n",
    "\\begin{equation} \n",
    "= \\frac{1}{2} \\sum_p a_{p+}^\\dagger a_{p-} a_{1-}^{\\dagger} a_{2-}^{\\dagger}\n",
    "a_{3-}^{\\dagger} a_{4-}^{\\dagger} \\vert 0\\rangle \\notag \n",
    "\\label{_auto2} \\tag{22}\n",
    "\\end{equation}\n",
    "$$"
   ]
  },
  {
   "cell_type": "markdown",
   "id": "ff3bc223",
   "metadata": {
    "editable": true
   },
   "source": [
    "<!-- Equation labels as ordinary links -->\n",
    "<div id=\"eq:2,-1\"></div>\n",
    "\n",
    "$$\n",
    "\\begin{equation} \n",
    "= \\frac{1}{2} \\left(\n",
    "a_{1+}^{\\dagger} a_{2-}^{\\dagger} a_{3-}^{\\dagger} a_{4-}^{\\dagger} +\n",
    "a_{1-}^{\\dagger} a_{2+}^{\\dagger} a_{3-}^{\\dagger} a_{4-}^{\\dagger} +\n",
    "a_{1-}^{\\dagger} a_{2-}^{\\dagger} a_{3+}^{\\dagger} a_{4-}^{\\dagger} +\n",
    "a_{1-}^{\\dagger} a_{2-}^{\\dagger} a_{3-}^{\\dagger} a_{4+}^{\\dagger}\n",
    "\\right) \\vert 0\\rangle. \\label{eq:2,-1} \\tag{23}\n",
    "\\end{equation}\n",
    "$$"
   ]
  },
  {
   "cell_type": "markdown",
   "id": "b850c3c6",
   "metadata": {
    "editable": true
   },
   "source": [
    "We can construct all the other states in the same way. That is"
   ]
  },
  {
   "cell_type": "markdown",
   "id": "404c0fc7",
   "metadata": {
    "editable": true
   },
   "source": [
    "$$\n",
    "J_+ \\vert 2,-1\\rangle = \\sqrt{2(2+1) - (-1)(-1+1)} \\vert 2,-1+1\\rangle = \\sqrt{6} \\vert 2,0\\rangle,\n",
    "$$"
   ]
  },
  {
   "cell_type": "markdown",
   "id": "a2b2fc17",
   "metadata": {
    "editable": true
   },
   "source": [
    "which results in"
   ]
  },
  {
   "cell_type": "markdown",
   "id": "63e34915",
   "metadata": {
    "editable": true
   },
   "source": [
    "<!-- Equation labels as ordinary links -->\n",
    "<div id=\"eq:2,0\"></div>\n",
    "\n",
    "$$\n",
    "\\begin{equation}\n",
    "\\begin{aligned}\n",
    "\\vert 2,0\\rangle &= \\frac{1}{\\sqrt{6}} \\left(\n",
    "a_{1+}^{\\dagger} a_{2+}^{\\dagger} a_{3-}^{\\dagger} a_{4-}^{\\dagger} +\n",
    "a_{1+}^{\\dagger} a_{2-}^{\\dagger} a_{3+}^{\\dagger} a_{4-}^{\\dagger} +\n",
    "a_{1+}^{\\dagger} a_{2-}^{\\dagger} a_{3-}^{\\dagger} a_{4+}^{\\dagger} +\n",
    "a_{1-}^{\\dagger} a_{2+}^{\\dagger} a_{3+}^{\\dagger} a_{4-}^{\\dagger} + \\right. \\\\\n",
    "&\\quad\\,\\, \\left.\n",
    "a_{1-}^{\\dagger} a_{2+}^{\\dagger} a_{3-}^{\\dagger} a_{4+}^{\\dagger} +\n",
    "a_{1-}^{\\dagger} a_{2-}^{\\dagger} a_{3+}^{\\dagger} a_{4+}^{\\dagger} \\right) \\vert 0\\rangle\n",
    "\\end{aligned}\n",
    "\\label{eq:2,0} \\tag{24}\n",
    "\\end{equation}\n",
    "$$"
   ]
  },
  {
   "cell_type": "markdown",
   "id": "c2c67871",
   "metadata": {
    "editable": true
   },
   "source": [
    "The two remaining states are"
   ]
  },
  {
   "cell_type": "markdown",
   "id": "c2764378",
   "metadata": {
    "editable": true
   },
   "source": [
    "<!-- Equation labels as ordinary links -->\n",
    "<div id=\"eq:2,1\"></div>\n",
    "\n",
    "$$\n",
    "\\begin{equation}\n",
    "\\vert2,1\\rangle  = \\frac{1}{2} \\left(\n",
    "a_{1+}^{\\dagger} a_{2+}^{\\dagger} a_{3+}^{\\dagger} a_{4-}^{\\dagger} +\n",
    "a_{1+}^{\\dagger} a_{2+}^{\\dagger} a_{3-}^{\\dagger} a_{4+}^{\\dagger} +\n",
    "a_{1+}^{\\dagger} a_{2-}^{\\dagger} a_{3+}^{\\dagger} a_{4+}^{\\dagger} +\n",
    "a_{1-}^{\\dagger} a_{2+}^{\\dagger} a_{3+}^{\\dagger} a_{4+}^{\\dagger}\n",
    " \\right).\n",
    "\\label{eq:2,1} \\tag{25}\n",
    "\\end{equation}\n",
    "$$"
   ]
  },
  {
   "cell_type": "markdown",
   "id": "95a90f8e",
   "metadata": {
    "editable": true
   },
   "source": [
    "and"
   ]
  },
  {
   "cell_type": "markdown",
   "id": "457cfc69",
   "metadata": {
    "editable": true
   },
   "source": [
    "<!-- Equation labels as ordinary links -->\n",
    "<div id=\"eq:2,2\"></div>\n",
    "\n",
    "$$\n",
    "\\begin{equation}\n",
    "\\vert 2,2\\rangle  = a_{1+}^{\\dagger} a_{2+}^{\\dagger} a_{3+}^{\\dagger} a_{4+}^{\\dagger} \\vert 0\\rangle.\n",
    "\\label{eq:2,2} \\tag{26}\n",
    "\\end{equation}\n",
    "$$"
   ]
  },
  {
   "cell_type": "markdown",
   "id": "d54361fe",
   "metadata": {
    "editable": true
   },
   "source": [
    "These five states can in turn be used as computational basis states in order to define the Hamiltonian matrix to be diagonalized. The Hamiltonian is hermitian and we obtain after all this labor of ours"
   ]
  },
  {
   "cell_type": "markdown",
   "id": "dea0afef",
   "metadata": {
    "editable": true
   },
   "source": [
    "<!-- Equation labels as ordinary links -->\n",
    "<div id=\"eq:HJ=2\"></div>\n",
    "\n",
    "$$\n",
    "\\begin{equation}\n",
    "H_{J = 2} =\n",
    "\\begin{pmatrix}\n",
    "-2\\varepsilon & 0 & \\sqrt{6}V & 0 & 0 \\\\\n",
    "0 & -\\varepsilon + 3W & 0 & 3V & 0 \\\\\n",
    "\\sqrt{6}V & 0 & 4W & 0 & \\sqrt{6}V \\\\\n",
    "0 & 3V & 0 & \\varepsilon + 3W & 0 \\\\\n",
    "0 & 0 & \\sqrt{6}V & 0 & 2\\varepsilon\n",
    "\\end{pmatrix}\n",
    "\\label{eq:HJ=2} \\tag{27}\n",
    "\\end{equation}\n",
    "$$"
   ]
  },
  {
   "cell_type": "markdown",
   "id": "d23c2b98",
   "metadata": {
    "editable": true
   },
   "source": [
    "Inserting values for the constants $\\epsilon$, $V$ and $W$ we can in turn diagonalize the above matrix and obtain the relevant eigenvalues."
   ]
  },
  {
   "cell_type": "markdown",
   "id": "3ffa79c2",
   "metadata": {
    "editable": true
   },
   "source": [
    "## Variational Quantum Eigensolver\n",
    "\n",
    "See whiteboard notes."
   ]
  },
  {
   "cell_type": "markdown",
   "id": "b032aacf",
   "metadata": {
    "editable": true
   },
   "source": [
    "## Quantum computing and solving  the eigenvalue problem for the Lipkin model"
   ]
  },
  {
   "cell_type": "code",
   "execution_count": 1,
   "id": "d7d2246a",
   "metadata": {
    "collapsed": false,
    "editable": true
   },
   "outputs": [],
   "source": [
    "%matplotlib inline\n",
    "\n",
    "import numpy as np\n",
    "import qiskit\n",
    "from qiskit.visualization import circuit_drawer\n",
    "from qiskit.quantum_info import Statevector\n",
    "from matplotlib.pyplot import figure\n",
    "from qiskit import QuantumRegister, QuantumCircuit, ClassicalRegister, Aer, assemble\n",
    "from qiskit.providers.aer.noise import NoiseModel\n",
    "import pylatexenc\n",
    "from qiskit.algorithms import VQE\n",
    "from qiskit.utils import QuantumInstance\n",
    "from qiskit.opflow import X, Z, I, Y\n",
    "from qiskit.circuit import Parameter\n",
    "from qiskit.algorithms.optimizers import ADAM\n",
    "from qiskit.opflow import AerPauliExpectation\n",
    "from qiskit import IBMQ\n",
    "import cmath\n",
    "import pandas as pd\n",
    "from scipy.sparse import diags\n",
    "import numpy.linalg as LA\n",
    "import matplotlib.pyplot as plt\n",
    "from IPython.display import Image\n",
    "import warnings\n",
    "warnings.filterwarnings('ignore')\n",
    "pi=np.pi"
   ]
  },
  {
   "cell_type": "markdown",
   "id": "a0471d25",
   "metadata": {
    "editable": true
   },
   "source": [
    "We turn now to a simpler Lipkin model without the $W$-term and a total spin of $J=1$ as maximum value of the spin, with a Hamiltonian"
   ]
  },
  {
   "cell_type": "markdown",
   "id": "1df744ef",
   "metadata": {
    "editable": true
   },
   "source": [
    "<!-- Equation labels as ordinary links -->\n",
    "<div id=\"_auto3\"></div>\n",
    "\n",
    "$$\n",
    "\\begin{equation}\n",
    "     \\hat{H}_{LM} = \\epsilon\\hat{J}_z -\\frac{1}{2}V(\\hat{J}_+\\hat{J}_++\\hat{J}_-\\hat{J}_-).\n",
    "\\label{_auto3} \\tag{28}\n",
    "\\end{equation}\n",
    "$$"
   ]
  },
  {
   "cell_type": "markdown",
   "id": "5b6a93cd",
   "metadata": {
    "editable": true
   },
   "source": [
    "The quasi-spin operators act like lowering and raising angular momentum operators, as discussed earlier.\n",
    "With these properties we can calculate the LM Hamiltonian matrix"
   ]
  },
  {
   "cell_type": "markdown",
   "id": "ee802acf",
   "metadata": {
    "editable": true
   },
   "source": [
    "<!-- Equation labels as ordinary links -->\n",
    "<div id=\"_auto4\"></div>\n",
    "\n",
    "$$\n",
    "\\begin{equation}\n",
    "\\langle JJ_z|H_{LM}|JJ_z'\\rangle,\n",
    "\\label{_auto4} \\tag{29}\n",
    "\\end{equation}\n",
    "$$"
   ]
  },
  {
   "cell_type": "markdown",
   "id": "ea4c3d2d",
   "metadata": {
    "editable": true
   },
   "source": [
    "where the non-zero elements are given by"
   ]
  },
  {
   "cell_type": "markdown",
   "id": "966066a0",
   "metadata": {
    "editable": true
   },
   "source": [
    "<!-- Equation labels as ordinary links -->\n",
    "<div id=\"_auto5\"></div>\n",
    "\n",
    "$$\n",
    "\\begin{equation}\n",
    "\\begin{split}\n",
    "    \\langle JJ_z|H_{LM}|JJ_z'\\rangle & = \\epsilon J_z\\\\\n",
    "     \\langle JJ_z|H_{LM}|JJ_z'\\pm 2\\rangle & = \\langle JJ_z\\pm 2|H_{LM}|JJ_z'\\rangle \\\\\n",
    "     &= -\\frac{1}{2}VC,\n",
    "\\end{split}\n",
    "\\label{_auto5} \\tag{30}\n",
    "\\end{equation}\n",
    "$$"
   ]
  },
  {
   "cell_type": "markdown",
   "id": "d039cac1",
   "metadata": {
    "editable": true
   },
   "source": [
    "where $C$ is the Clebsch-Gordan coefficients one gets when $J_{\\pm}^2$ operates on the state $|JJ_z\\rangle$.\n",
    "Using the above definitions  we can calculate the exact solution to the Lipkin model.\n",
    "\n",
    "The Hamiltonian is given by"
   ]
  },
  {
   "cell_type": "markdown",
   "id": "b4b6bd50",
   "metadata": {
    "editable": true
   },
   "source": [
    "<!-- Equation labels as ordinary links -->\n",
    "<div id=\"_auto6\"></div>\n",
    "\n",
    "$$\n",
    "\\begin{equation}\n",
    "\\begin{pmatrix}-\\epsilon & 0 & -V\\\\\n",
    " 0&0&0\\\\\n",
    " -V&0&\\epsilon\n",
    "\\end{pmatrix}\n",
    "\\label{_auto6} \\tag{31}\n",
    "\\end{equation}\n",
    "$$"
   ]
  },
  {
   "cell_type": "code",
   "execution_count": 2,
   "id": "4b8ccf6e",
   "metadata": {
    "collapsed": false,
    "editable": true
   },
   "outputs": [],
   "source": [
    "#function that sorts eigenvalues with its eigenvectors in accending order\n",
    "def eigen(A):\n",
    "    eigenValues, eigenVectors = LA.eig(A)\n",
    "    idx = np.argsort(eigenValues)\n",
    "    eigenValues = eigenValues[idx]\n",
    "    eigenVectors = eigenVectors[:,idx]\n",
    "    return (eigenValues, eigenVectors) \n",
    "\n",
    "#one body expectation value\n",
    "def one_body(E,N):\n",
    "  k = N/2\n",
    "  m = np.arange(-k,k+1,1) # Since the collective space is Omega+1\n",
    "  return E*np.diag(m) #return a matrix where its diagonal elemens are epsilon*K_0\n",
    "\n",
    "#two body expectation value\n",
    "def two_body(V,N):\n",
    "  k = N/2\n",
    "  m = np.arange(-k,k+1,1)\n",
    "  left =np.zeros(len(m)-2,dtype=complex)\n",
    "  right = np.zeros(len(m)-2,dtype=complex)\n",
    "  diag = np.zeros(len(m),dtype=complex)\n",
    "  for i in range(len(left)):\n",
    "    CG = cmath.sqrt(k*(k+1)-(m[i]+2)*(m[i]+1))*cmath.sqrt(k*(k+1)-m[i]*(m[i]+1)) #calculate Clebsch-Gordan Coefficients \n",
    "    left[i] = CG\n",
    "    right[i] = CG\n",
    "  k = [left,diag,right]\n",
    "  offset = [-2,0,2]\n",
    "  return -0.5*V*diags(k,offset).toarray() #return a matrix where its off digonal elements are (1/2)V(K^2_+ + K^2_-)\n",
    "\n",
    "#full expectation value\n",
    "def quasi_spin(E,V,N):\n",
    "  ob = one_body(E,N)\n",
    "  tb = two_body(V,N)\n",
    "  H = ob+tb \n",
    "  e,v = eigen(H) # find the eigenvalues of the Hamiltonian\n",
    "  return e,H\n",
    "\n",
    "#converts chi to V\n",
    "def Vp(E,omega,chi):\n",
    "  return (chi*E)/(omega-1)"
   ]
  },
  {
   "cell_type": "code",
   "execution_count": 3,
   "id": "de9b1c17",
   "metadata": {
    "collapsed": false,
    "editable": true
   },
   "outputs": [],
   "source": [
    "#parameters\n",
    "E = 1\n",
    "chi = np.arange(0,2.1,0.1)\n",
    "omega = 2\n",
    "\n",
    "EV0 = []\n",
    "EV1 = []\n",
    "EV2 = []\n",
    "Ham = []\n",
    "for i in chi:\n",
    "  v = Vp(E,omega,i)\n",
    "  EigenV,H = quasi_spin(E,v,omega) #return eigenvalues and Hamiltonian\n",
    "  Ham.append(H)\n",
    "  EV0.append(EigenV[0])\n",
    "  EV1.append(EigenV[1])\n",
    "  EV2.append(EigenV[2])"
   ]
  },
  {
   "cell_type": "code",
   "execution_count": 4,
   "id": "2495a92e",
   "metadata": {
    "collapsed": false,
    "editable": true
   },
   "outputs": [],
   "source": [
    "matrix = pd.DataFrame(Ham[5].real)\n",
    "print('Hamiltonian matrix')\n",
    "matrix.head()"
   ]
  },
  {
   "cell_type": "code",
   "execution_count": 5,
   "id": "124c8b2b",
   "metadata": {
    "collapsed": false,
    "editable": true
   },
   "outputs": [],
   "source": [
    "plt.plot(chi,EV0)\n",
    "plt.plot(chi,EV1)\n",
    "plt.plot(chi,EV2)\n",
    "plt.xlabel('$\\chi$')\n",
    "plt.ylabel('Energy')\n",
    "plt.title('$\\Omega=2$ exact Lipkin Model')"
   ]
  },
  {
   "cell_type": "markdown",
   "id": "7fb0bb08",
   "metadata": {
    "editable": true
   },
   "source": [
    "### Hartree Fock\n",
    "\n",
    "A variational method in quantum mechanics, starts with the Schrodinger equation where one minimizes the energy for a given trail wave function $|\\psi\\rangle$."
   ]
  },
  {
   "cell_type": "markdown",
   "id": "68c1d898",
   "metadata": {
    "editable": true
   },
   "source": [
    "<!-- Equation labels as ordinary links -->\n",
    "<div id=\"_auto7\"></div>\n",
    "\n",
    "$$\n",
    "\\begin{equation}\n",
    "\\delta\\frac{\\langle\\psi |\\hat{H}|\\psi\\rangle}{\\langle\\psi|\\psi\\rangle}=0\n",
    "\\label{_auto7} \\tag{32}\n",
    "\\end{equation}\n",
    "$$"
   ]
  },
  {
   "cell_type": "markdown",
   "id": "c1ecebad",
   "metadata": {
    "editable": true
   },
   "source": [
    "The Hartree Fock (HF) method is a variational method that assumes that\n",
    "the exact N-body wavefunction of the system can be approimated by a\n",
    "single Slater determinant, where energy of the system is minimized and\n",
    "the trial wave function is the particle number conserving coherent\n",
    "product state. The SU(2) coherent states map a two-dimensional sphere\n",
    "known as the bloch sphere onto the complex plane,"
   ]
  },
  {
   "cell_type": "markdown",
   "id": "e488bf1b",
   "metadata": {
    "editable": true
   },
   "source": [
    "<!-- Equation labels as ordinary links -->\n",
    "<div id=\"_auto8\"></div>\n",
    "\n",
    "$$\n",
    "\\begin{equation}\n",
    "\\tau = tan\\frac{\\theta}{2}e^{-i\\phi}\n",
    "\\label{_auto8} \\tag{33}\n",
    "\\end{equation}\n",
    "$$"
   ]
  },
  {
   "cell_type": "markdown",
   "id": "d7a74a30",
   "metadata": {
    "editable": true
   },
   "source": [
    "where the normalized coherent SU(2) state can be written in the language of LM:"
   ]
  },
  {
   "cell_type": "markdown",
   "id": "2cd52eaf",
   "metadata": {
    "editable": true
   },
   "source": [
    "<!-- Equation labels as ordinary links -->\n",
    "<div id=\"_auto9\"></div>\n",
    "\n",
    "$$\n",
    "\\begin{equation}\n",
    "|\\tau\\rangle = \\frac{1}{(1+|\\tau|^2)^{\\Omega/2}}e^{\\tau\\hat{K}_+}|\\frac{\\Omega}{2},-\\frac{\\Omega}{2}\\rangle,\n",
    "\\label{_auto9} \\tag{34}\n",
    "\\end{equation}\n",
    "$$"
   ]
  },
  {
   "cell_type": "markdown",
   "id": "6d434fac",
   "metadata": {
    "editable": true
   },
   "source": [
    "The $E_{g.s}$ of the LM given HF coherent states is:"
   ]
  },
  {
   "cell_type": "markdown",
   "id": "ed5cfd8d",
   "metadata": {
    "editable": true
   },
   "source": [
    "<!-- Equation labels as ordinary links -->\n",
    "<div id=\"_auto10\"></div>\n",
    "\n",
    "$$\n",
    "\\begin{equation}\n",
    "E(\\tau) = \\langle \\tau|\\hat{H}_{LM}|\\tau\\rangle.\n",
    "\\label{_auto10} \\tag{35}\n",
    "\\end{equation}\n",
    "$$"
   ]
  },
  {
   "cell_type": "markdown",
   "id": "254ef9bd",
   "metadata": {
    "editable": true
   },
   "source": [
    "To calculate equation the last euation, we use generating functions for:"
   ]
  },
  {
   "cell_type": "markdown",
   "id": "c76d0615",
   "metadata": {
    "editable": true
   },
   "source": [
    "<!-- Equation labels as ordinary links -->\n",
    "<div id=\"_auto11\"></div>\n",
    "\n",
    "$$\n",
    "\\begin{equation}\n",
    "\\begin{split}\n",
    "\\langle \\tau|\\hat{J}_{z}|\\tau\\rangle &= \\frac{1}{2}\\Omega\\frac{|\\tau|^2-1}{\\tau|^2+1}\\\\\n",
    "\\langle \\tau|\\hat{J}_{\\pm}^2|\\tau\\rangle &= \\Omega\\frac{\\tau^*}{|\\tau|^2+1}\n",
    "\\end{split}\n",
    "\\label{_auto11} \\tag{36}\n",
    "\\end{equation}\n",
    "$$"
   ]
  },
  {
   "cell_type": "markdown",
   "id": "80a85dd0",
   "metadata": {
    "editable": true
   },
   "source": [
    "Then using the definition of $\\tau$ in equation (10) we can write down the energy:"
   ]
  },
  {
   "cell_type": "markdown",
   "id": "f21529ce",
   "metadata": {
    "editable": true
   },
   "source": [
    "<!-- Equation labels as ordinary links -->\n",
    "<div id=\"_auto12\"></div>\n",
    "\n",
    "$$\n",
    "\\begin{equation}\n",
    "E(\\tau) = -\\frac{\\epsilon}{2}\\Omega(cos\\theta+\\frac{\\chi}{2}sin^2\\theta cos2\\phi),\n",
    "\\label{_auto12} \\tag{37}\n",
    "\\end{equation}\n",
    "$$"
   ]
  },
  {
   "cell_type": "markdown",
   "id": "75de5bab",
   "metadata": {
    "editable": true
   },
   "source": [
    "where $\\chi=\\frac{V}{\\epsilon}(\\Omega-1)$. Minimizing $E(\\tau)$ with respect to $\\theta,\\phi$, we obtain the ground state Hartree Fock energy"
   ]
  },
  {
   "cell_type": "markdown",
   "id": "cae1030a",
   "metadata": {
    "editable": true
   },
   "source": [
    "<!-- Equation labels as ordinary links -->\n",
    "<div id=\"_auto13\"></div>\n",
    "\n",
    "$$\n",
    "\\begin{equation}\n",
    "\\begin{split}\n",
    "E_{HF}  = -\\frac{\\Omega}{2}\\epsilon &\\hspace{1cm} \\chi<1\\\\\n",
    "E_{HF}  = -\\frac{\\Omega}{4}\\epsilon(\\chi+\\frac{1}{\\chi}) &\\hspace{1cm} \\chi\\ge 1\n",
    "\\end{split}\n",
    "\\label{_auto13} \\tag{38}\n",
    "\\end{equation}\n",
    "$$"
   ]
  },
  {
   "cell_type": "code",
   "execution_count": 6,
   "id": "d7ec6ab9",
   "metadata": {
    "collapsed": false,
    "editable": true
   },
   "outputs": [],
   "source": [
    "def E_HF(x,E,omega):\n",
    "  if x < 1:\n",
    "    EHF = -(omega/2)*E\n",
    "  elif x >= 1:\n",
    "    EHF = -(omega/4)*E*(x+(1/x))\n",
    "  return EHF"
   ]
  },
  {
   "cell_type": "code",
   "execution_count": 7,
   "id": "7296f5d2",
   "metadata": {
    "collapsed": false,
    "editable": true
   },
   "outputs": [],
   "source": [
    "epsilon = 1\n",
    "Omega = 2\n",
    "\n",
    "HF = []\n",
    "exact = []\n",
    "for x in chi:\n",
    "    HF.append(E_HF(x,epsilon,omega).real)\n",
    "    v = Vp(epsilon,omega,x)\n",
    "    e,h = quasi_spin(epsilon,v,omega)\n",
    "    exact.append(e[0].real)"
   ]
  },
  {
   "cell_type": "code",
   "execution_count": 8,
   "id": "384bc87c",
   "metadata": {
    "collapsed": false,
    "editable": true
   },
   "outputs": [],
   "source": [
    "plt.plot(chi,HF,label='HF')\n",
    "plt.plot(chi,exact,label='exact')\n",
    "plt.xlabel('$\\chi$')\n",
    "plt.ylabel('Energy')\n",
    "plt.axvline(1, color = 'k', linestyle='--')\n",
    "plt.title('$\\Omega=2$ exact Lipkin Model')\n",
    "plt.legend(bbox_to_anchor=(1.05, 1))"
   ]
  },
  {
   "cell_type": "markdown",
   "id": "212c0e97",
   "metadata": {
    "editable": true
   },
   "source": [
    "### Quantum Circuit\n",
    "\n",
    "To solve the LM on a quantum computer we have to solve Schrodinger's equation."
   ]
  },
  {
   "cell_type": "markdown",
   "id": "4e15f3f2",
   "metadata": {
    "editable": true
   },
   "source": [
    "<!-- Equation labels as ordinary links -->\n",
    "<div id=\"_auto14\"></div>\n",
    "\n",
    "$$\n",
    "\\begin{equation}\n",
    "H|\\psi(\\tilde{\\theta})\\rangle = E|\\psi(\\tilde{\\theta})\\rangle\\\\\n",
    "\\label{_auto14} \\tag{39}\n",
    "\\end{equation}\n",
    "$$"
   ]
  },
  {
   "cell_type": "markdown",
   "id": "157cfc1c",
   "metadata": {
    "editable": true
   },
   "source": [
    "We map the creation and annihilation operators to Pauli spin matrices/operators Z, X, Y (show this). The Hamiltonian then takes the form of"
   ]
  },
  {
   "cell_type": "markdown",
   "id": "be04c176",
   "metadata": {
    "editable": true
   },
   "source": [
    "<!-- Equation labels as ordinary links -->\n",
    "<div id=\"_auto15\"></div>\n",
    "\n",
    "$$\n",
    "\\begin{equation}\n",
    "H = \\frac{\\epsilon}{2}(Z_1+Z_1) - \\frac{V}{2}(X_1X_2 - Y_1Y_2),\n",
    "\\label{_auto15} \\tag{40}\n",
    "\\end{equation}\n",
    "$$"
   ]
  },
  {
   "cell_type": "markdown",
   "id": "6c35130c",
   "metadata": {
    "editable": true
   },
   "source": [
    "where the Pauli operators are the measurement basis which the quantum\n",
    "circuit is measured in. However, before measuring, we first have to\n",
    "prepare the initial state $|\\psi(\\tilde{\\theta})\\rangle$ for\n",
    "$\\Omega=2$ of the LM circuit"
   ]
  },
  {
   "cell_type": "markdown",
   "id": "3934e51f",
   "metadata": {
    "editable": true
   },
   "source": [
    "$$\n",
    "\\begin{equation}\n",
    "\\vert\\psi(\\tilde{\\theta})\\rangle = \\cos{(\\tilde{\\theta})}\\vert 00\\rangle+\\sin{(\\tilde{\\theta})}\\vert 11\\rangle,\n",
    "end{equation}\n",
    "$$"
   ]
  },
  {
   "cell_type": "markdown",
   "id": "5ab26a98",
   "metadata": {
    "editable": true
   },
   "source": [
    "where $|00\\rangle =|\\uparrow\\uparrow\\rangle$, $|11\\rangle=|\\downarrow\\downarrow\\rangle$, and $\\tilde{\\theta}=\\theta-\\frac{\\pi}{2}$. \n",
    "\n",
    "This type of problem resides in the pantheon of variational methods\n",
    "where we minimize $\\tilde{\\theta}$. This problem was coded using IBM's\n",
    "python library Qiskit. Since this is a variational problem, the use of\n",
    "Qiskit's Variational Quantum Eigensolver (VQE) was used to find the\n",
    "optimal $\\tilde{\\theta}$ that minimizes\n",
    "$\\langle\\psi(\\tilde{\\theta})|H|\\psi(\\tilde{\\theta})\\rangle$."
   ]
  },
  {
   "cell_type": "code",
   "execution_count": 9,
   "id": "98f26df2",
   "metadata": {
    "collapsed": false,
    "editable": true
   },
   "outputs": [],
   "source": [
    "def LM_circuit():\n",
    "    theta = Parameter('theta')\n",
    "    QC = QuantumCircuit(2)\n",
    "    QC.ry(2*(theta-np.pi/2),0)\n",
    "    QC.cnot(0,1)\n",
    "    return QC"
   ]
  },
  {
   "cell_type": "code",
   "execution_count": 10,
   "id": "c6c80d93",
   "metadata": {
    "collapsed": false,
    "editable": true
   },
   "outputs": [],
   "source": [
    "QC = LM_circuit()\n",
    "QC.draw(output='mpl')"
   ]
  },
  {
   "cell_type": "markdown",
   "id": "40659ebf",
   "metadata": {
    "editable": true
   },
   "source": [
    "### VQE method\n",
    "\n",
    "For this method, we will be using Qiskit's VQE function, where we specifiy \n",
    "* Quantum circuit\n",
    "\n",
    "a. Optimizer\n",
    "\n",
    "b. Quantum instance (i.e. which backend). Here we will be using the \"qasm_simulator\" \n",
    "\n",
    "c. Initial point (i.e. $\\theta$ search space)\n",
    "\n",
    "d. Hamiltonian/measurement basis\n",
    "\n",
    "To define the Hamiltonian, we will use the Qiskit Pauli operator functions\n",
    "I,Z,X,Y.  In this method, for a given $\\chi$, we will do a search over\n",
    "$\\theta$ from $-\\frac{\\pi}{2}$ to $\\frac{\\pi}{2}$ and picking out the\n",
    "minimum energy value"
   ]
  },
  {
   "cell_type": "code",
   "execution_count": 11,
   "id": "ba10d1c5",
   "metadata": {
    "collapsed": false,
    "editable": true
   },
   "outputs": [],
   "source": [
    "#sim1 min example\n",
    "sim = Aer.get_backend('qasm_simulator')\n",
    "adam =qiskit.algorithms.optimizers.ADAM(maxiter=10000) #optimizer for VQE\n",
    "epsilon = 1\n",
    "omega = 2\n",
    "chi2 = [0.5,1]\n",
    "\n",
    "t = np.arange(-pi/2,pi/2,0.05) #0.1 step size finishs pretty fast\n",
    "energy = []\n",
    "for x in chi2:\n",
    "    ev = []\n",
    "    v = Vp(epsilon,omega,x)\n",
    "    for i in range(len(t)):\n",
    "        H = 0.5 * epsilon * ( Z ^ I ) + 0.5 * epsilon * ( I ^ Z ) -0.5 * v * ( X ^ X ) +0.5 * v * ( Y ^ Y )\n",
    "        vqe = VQE(ansatz=LM_circuit(),optimizer=adam,initial_point=[t[i]],quantum_instance=sim,expectation=AerPauliExpectation())\n",
    "        result = vqe.compute_minimum_eigenvalue(H)\n",
    "        ev.append(result.eigenvalue)\n",
    "    energy.append(ev)\n",
    "\n",
    "\n",
    "plt.plot(t,energy[0],label='$\\chi=0.5$')\n",
    "plt.plot(t,energy[1],label='$\\chi=1$')\n",
    "plt.xlabel('$\\\\theta$')\n",
    "plt.ylabel('Ground State Energy')\n",
    "plt.title('$E_{g.s}$ vs. $\\\\theta$')\n",
    "plt.legend()"
   ]
  },
  {
   "cell_type": "code",
   "execution_count": 12,
   "id": "f7ed26f3",
   "metadata": {
    "collapsed": false,
    "editable": true
   },
   "outputs": [],
   "source": [
    "epsilon = 1\n",
    "omega = 2\n",
    "chi3 = np.arange(0,2.1,0.1)\n",
    "t = np.arange(-pi/2,pi/2,0.1)\n",
    "adam =qiskit.algorithms.optimizers.ADAM(maxiter=10000)\n",
    "LM_sim = []\n",
    "for x in chi3:\n",
    "    v = Vp(epsilon,omega,x)\n",
    "    ev = []\n",
    "    for i in range(len(t)):\n",
    "        H = 0.5 * epsilon * ( Z ^ I ) +0.5 * epsilon * ( I ^ Z ) -0.5 * v * ( X ^ X ) +0.5 * v * ( Y ^ Y )\n",
    "        vqe = VQE(ansatz=LM_circuit(),optimizer=adam,initial_point=[t[i]],quantum_instance=sim,expectation=AerPauliExpectation())\n",
    "        result = vqe.compute_minimum_eigenvalue(H)\n",
    "\n",
    "        ev.append(result.eigenvalue)\n",
    "    LM_sim.append(min(ev))\n",
    "\n",
    "plt.plot(chi,np.array(exact),label='$E_{exact}$',color='b')\n",
    "plt.plot(chi,np.array(HF),label='$E_{HF}$',color='g')\n",
    "plt.scatter(chi3,LM_sim,label='QC sim',color='cyan')\n",
    "plt.axvline(1, color = 'k', linestyle='--')\n",
    "plt.ylabel('$E_{g.s}$')\n",
    "plt.xlabel('$\\chi$')\n",
    "plt.title(f'$\\Omega=2$')\n",
    "plt.legend()"
   ]
  },
  {
   "cell_type": "markdown",
   "id": "666c9ea9",
   "metadata": {
    "editable": true
   },
   "source": [
    "### VQE method using Qiskit\n",
    "\n",
    "For this method, we will be using Qiskit's VQE function, where we specifiy \n",
    "1. Quantum circuit\n",
    "\n",
    "2. Optimizer\n",
    "\n",
    "3. Quantum instance (i.e. which backend). Here we will be using the \"statevector_simulator\" \n",
    "\n",
    "4. Hamiltonian/measurement basis"
   ]
  },
  {
   "cell_type": "code",
   "execution_count": 13,
   "id": "dbc6cfd6",
   "metadata": {
    "collapsed": false,
    "editable": true
   },
   "outputs": [],
   "source": [
    "epsilon = 1\n",
    "omega = 2\n",
    "chi5 = np.arange(0,2.1,0.1)\n",
    "adam =qiskit.algorithms.optimizers.ADAM(maxiter=10000)\n",
    "LM_sim = []\n",
    "for x in chi5:\n",
    "    v = Vp(epsilon,omega,x)\n",
    "    H = 0.5 * epsilon * ( Z ^ I ) +0.5 * epsilon * ( I ^ Z )-0.5 * v * ( X ^ X ) + 0.5 * v * ( Y ^ Y )\n",
    "    \n",
    "    vqe = VQE(ansatz=LM_circuit(),optimizer=adam,quantum_instance=vec,expectation=AerPauliExpectation())\n",
    "    result = vqe.compute_minimum_eigenvalue(H)\n",
    "    LM_sim.append(result.eigenvalue)\n",
    "\n",
    "\n",
    "plt.plot(chi,np.array(exact),label='$E_{exact}$',color='b')\n",
    "plt.plot(chi,np.array(HF),label='$E_{HF}$',color='g')\n",
    "plt.scatter(chi5,LM_sim,label='QC state vec',color='cyan')\n",
    "plt.axvline(1, color = 'k', linestyle='--')\n",
    "plt.ylabel('$E_{g.s}$')\n",
    "plt.xlabel('$\\chi$')\n",
    "plt.title('$\\Omega=2$')\n",
    "plt.legend()"
   ]
  },
  {
   "cell_type": "markdown",
   "id": "2a47028b",
   "metadata": {
    "editable": true
   },
   "source": [
    "Typically, running with Qiskit's own VQE is faster.\n",
    "\n",
    "**Lecture next week we discuss the quantum Fourier transform and the phase estimatiaon algorithm.**\n",
    "\n",
    "1. Quantum Fourier transform\n",
    "\n",
    "2. Phase estimation algorithm\n",
    "\n",
    "3. Second quantization\n",
    "\n",
    "4. Jordan-Wigner transformation\n",
    "\n",
    "5. Suzuki-Trotter approximation"
   ]
  }
 ],
 "metadata": {},
 "nbformat": 4,
 "nbformat_minor": 5
}
