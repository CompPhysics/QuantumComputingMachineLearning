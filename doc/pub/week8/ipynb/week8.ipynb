{
 "cells": [
  {
   "cell_type": "markdown",
   "id": "dd902b45",
   "metadata": {
    "editable": true
   },
   "source": [
    "<!-- HTML file automatically generated from DocOnce source (https://github.com/doconce/doconce/)\n",
    "doconce format html week8.do.txt --no_mako -->\n",
    "<!-- dom:TITLE: March 13-17,2023: Quantum Computing, Quantum Machine Learning and Quantum Information Theories -->"
   ]
  },
  {
   "cell_type": "markdown",
   "id": "59af9c07",
   "metadata": {
    "editable": true
   },
   "source": [
    "# March 13-17,2023: Quantum Computing, Quantum Machine Learning and Quantum Information Theories\n",
    "**Morten Hjorth-Jensen**, Department of Physics, University of Oslo and Department of Physics and Astronomy and National Superconducting Cyclotron Laboratory, Michigan State University\n",
    "\n",
    "Date: **Mar 21, 2023**\n",
    "\n",
    "Copyright 1999-2023, Morten Hjorth-Jensen. Released under CC Attribution-NonCommercial 4.0 license"
   ]
  },
  {
   "cell_type": "markdown",
   "id": "1ef542c2",
   "metadata": {
    "editable": true
   },
   "source": [
    "## Solving quantum mechanical problems\n",
    "\n",
    "1. Simple Hamiltonian, the Lipkin model\n",
    "\n",
    "2. Introducing the Variational Quantum Eigensolver (VQE)\n",
    "\n",
    "* [Video of lecture](https://youtu.be/ffIwxiUJGT4)"
   ]
  },
  {
   "cell_type": "markdown",
   "id": "235747d1",
   "metadata": {
    "editable": true
   },
   "source": [
    "## Simple Hamiltonian, the Lipkin model\n",
    "\n",
    "We will study a schematic model (the Lipkin model, see Nuclear\n",
    "Physics **62** (1965) 188), for the interaction among  $2$ and more \n",
    "fermions that can occupy two different energy levels. For four fermions, the case we consider first here, each levels has degeneration $d=4$. The two levels have quantum numbers $\\sigma=\\pm 1$,\n",
    "with the upper level having  $\\sigma=+1$ and energy\n",
    "$\\varepsilon_{1}=\n",
    "\\varepsilon/2$. The lower level  has $\\sigma=-1$ and energy\n",
    "$\\varepsilon_{2}=-\\varepsilon/2$. \n",
    "In addition, the substates  of each level are characterized  \n",
    "by the quantum numbers $p=1,2,3,4$.\n",
    "\n",
    "We define the single-particle states (for the four fermion case which we will work on here)"
   ]
  },
  {
   "cell_type": "markdown",
   "id": "c6a91230",
   "metadata": {
    "editable": true
   },
   "source": [
    "$$\n",
    "\\vert u_{\\sigma =-1,p}\\rangle=a_{-p}^{\\dagger}\\vert 0\\rangle\n",
    "\\hspace{1cm}\n",
    "\\vert u_{\\sigma =1,p}\\rangle=a_{+p}^{\\dagger}\\vert 0\\rangle.\n",
    "$$"
   ]
  },
  {
   "cell_type": "markdown",
   "id": "aab09776",
   "metadata": {
    "editable": true
   },
   "source": [
    "The single-particle states span an orthonormal basis.\n",
    "The Hamiltonian of the system is given by"
   ]
  },
  {
   "cell_type": "markdown",
   "id": "cf6976e7",
   "metadata": {
    "editable": true
   },
   "source": [
    "$$\n",
    "\\begin{array}{ll}\n",
    "\\hat{H}=&\\hat{H}_{0}+\\hat{H}_{1}+\\hat{H}_{2}\\\\\n",
    "&\\\\\n",
    "\\hat{H}_{0}=&\\frac{1}{2}\\varepsilon\\sum_{\\sigma ,p}\\sigma\n",
    "a_{\\sigma,p}^{\\dagger}a_{\\sigma ,p}\\\\\n",
    "&\\\\\n",
    "\\hat{H}_{1}=&\\frac{1}{2}V\\sum_{\\sigma ,p,p'}\n",
    "a_{\\sigma,p}^{\\dagger}a_{\\sigma ,p'}^{\\dagger}\n",
    "a_{-\\sigma ,p'}a_{-\\sigma ,p}\\\\\n",
    "&\\\\\n",
    "\\hat{H}_{2}=&\\frac{1}{2}W\\sum_{\\sigma ,p,p'}\n",
    "a_{\\sigma,p}^{\\dagger}a_{-\\sigma ,p'}^{\\dagger}\n",
    "a_{\\sigma ,p'}a_{-\\sigma ,p}\\\\\n",
    "&\\\\\n",
    "\\end{array}\n",
    "$$"
   ]
  },
  {
   "cell_type": "markdown",
   "id": "169b195b",
   "metadata": {
    "editable": true
   },
   "source": [
    "where $V$ and $W$ are constants. The operator \n",
    "$H_{1}$ can move pairs of fermions\n",
    "while $H_{2}$ is a spin-exchange term. The latter\n",
    "moves a pair of fermions from a state $(p\\sigma ,p' -\\sigma)$ to a state\n",
    "$(p-\\sigma ,p'\\sigma)$.\n",
    "\n",
    "We are going to rewrite the above Hamiltonian in terms of so-called  quasispin operators"
   ]
  },
  {
   "cell_type": "markdown",
   "id": "c4760541",
   "metadata": {
    "editable": true
   },
   "source": [
    "$$\n",
    "\\begin{array}{ll}\n",
    "\\hat{J}_{+}=&\\sum_{p}\n",
    "a_{p+}^{\\dagger}a_{p-}\\\\\n",
    "&\\\\\n",
    "\\hat{J}_{-}=&\\sum_{p}\n",
    "a_{p-}^{\\dagger}a_{p+}\\\\\n",
    "&\\\\\n",
    "\\hat{J}_{z}=&\\frac{1}{2}\\sum_{p\\sigma}\\sigma\n",
    "a_{p\\sigma}^{\\dagger}a_{p\\sigma}\\\\\n",
    "&\\\\\n",
    "\\hat{J}^{2}=&J_{+}J_{-}+J_{z}^{2}-J_{z}\\\\\n",
    "&\\\\\n",
    "\\end{array}\n",
    "$$"
   ]
  },
  {
   "cell_type": "markdown",
   "id": "50c9815f",
   "metadata": {
    "editable": true
   },
   "source": [
    "We show here that these operators obey the commutation relations for angular momentum.\n",
    "\n",
    "We can in turn express $\\hat{H}$ in terms of the above quasispin operators and the number operator"
   ]
  },
  {
   "cell_type": "markdown",
   "id": "7b07bab6",
   "metadata": {
    "editable": true
   },
   "source": [
    "$$\n",
    "\\hat{N}=\\sum_{p\\sigma}\n",
    "a_{p\\sigma}^{\\dagger}a_{p\\sigma}.\n",
    "$$"
   ]
  },
  {
   "cell_type": "markdown",
   "id": "1359ee7a",
   "metadata": {
    "editable": true
   },
   "source": [
    "We have the following quasispin operators"
   ]
  },
  {
   "cell_type": "markdown",
   "id": "3f7d25bb",
   "metadata": {
    "editable": true
   },
   "source": [
    "<!-- Equation labels as ordinary links -->\n",
    "<div id=\"eq:Jpm\"></div>\n",
    "\n",
    "$$\n",
    "\\begin{equation}\n",
    "J_{\\pm} = \\sum_p a_{p\\pm}^\\dagger a_{p\\mp},\n",
    "\\label{eq:Jpm} \\tag{1} \n",
    "\\end{equation}\n",
    "$$"
   ]
  },
  {
   "cell_type": "markdown",
   "id": "aa3a20f1",
   "metadata": {
    "editable": true
   },
   "source": [
    "<!-- Equation labels as ordinary links -->\n",
    "<div id=\"eq:Jz\"></div>\n",
    "\n",
    "$$\n",
    "\\begin{equation} \n",
    "J_{z} = \\frac{1}{2}\\sum_{p,\\sigma} \\sigma a_{p\\sigma}^\\dagger a_{p\\sigma},\n",
    "\\label{eq:Jz} \\tag{2} \n",
    "\\end{equation}\n",
    "$$"
   ]
  },
  {
   "cell_type": "markdown",
   "id": "505fa244",
   "metadata": {
    "editable": true
   },
   "source": [
    "<!-- Equation labels as ordinary links -->\n",
    "<div id=\"eq:J2\"></div>\n",
    "\n",
    "$$\n",
    "\\begin{equation} \n",
    "J^{2} = J_+ J_- + J_z^2 - J_z,\n",
    "\\label{eq:J2} \\tag{3}\n",
    "\\end{equation}\n",
    "$$"
   ]
  },
  {
   "cell_type": "markdown",
   "id": "954df2e9",
   "metadata": {
    "editable": true
   },
   "source": [
    "and we want to compute the commutators"
   ]
  },
  {
   "cell_type": "markdown",
   "id": "75891bb4",
   "metadata": {
    "editable": true
   },
   "source": [
    "$$\n",
    "[J_z,J_\\pm], \\quad [J_+,J_-], \\quad [J^2,J_\\pm] \\quad \\text{og} \\quad \n",
    "[J^2,J_z].\n",
    "$$"
   ]
  },
  {
   "cell_type": "markdown",
   "id": "cb12e8f0",
   "metadata": {
    "editable": true
   },
   "source": [
    "Let us start with the first one and inserting for  $J_z$ and $J_\\pm$ given by the equations ([2](#eq:Jz)) and ([1](#eq:Jpm)), respectively, we obtain"
   ]
  },
  {
   "cell_type": "markdown",
   "id": "1e2fd06d",
   "metadata": {
    "editable": true
   },
   "source": [
    "$$\n",
    "\\begin{align*}\n",
    "[J_z,J_\\pm] &= J_z J_\\pm - J_\\pm J_z \\\\\n",
    "%\n",
    "&= \\left( \\frac{1}{2}\\sum_{p,\\sigma} \\sigma a_{p\\sigma}^\\dagger a_{p\\sigma} \\right)\n",
    "\\left( \\sum_{p'} a_{p'\\pm}^\\dagger a_{p'\\mp} \\right) -\n",
    "\\left( \\sum_{p'} a_{p'\\pm}^\\dagger a_{p'\\mp} \\right)\n",
    "\\left( \\frac{1}{2}\\sum_{p,\\sigma} \\sigma a_{p\\sigma}^\\dagger a_{p\\sigma} \\right) \\\\\n",
    "&= \\frac{1}{2} \\sum_{p,p',\\sigma} \\sigma \\left( a_{p\\sigma}^\\dagger a_{p\\sigma} a_{p'\\pm}^\\dagger a_{p'\\mp} - a_{p'\\pm}^\\dagger a_{p'\\mp} a_{p\\sigma}^\\dagger a_{p\\sigma} \\right).\n",
    "\\end{align*}\n",
    "$$"
   ]
  },
  {
   "cell_type": "markdown",
   "id": "c906d5a3",
   "metadata": {
    "editable": true
   },
   "source": [
    "Using the commutation relations for the creation and annihilation operators"
   ]
  },
  {
   "cell_type": "markdown",
   "id": "2697c198",
   "metadata": {
    "editable": true
   },
   "source": [
    "<!-- Equation labels as ordinary links -->\n",
    "<div id=\"eq:al,ak\"></div>\n",
    "\n",
    "$$\n",
    "\\begin{equation}\n",
    "\\{ a_l,a_k \\} = 0, \\label{eq:al,ak} \\tag{4} \n",
    "\\end{equation}\n",
    "$$"
   ]
  },
  {
   "cell_type": "markdown",
   "id": "9fbf1d17",
   "metadata": {
    "editable": true
   },
   "source": [
    "<!-- Equation labels as ordinary links -->\n",
    "<div id=\"eq:ald,akd\"></div>\n",
    "\n",
    "$$\n",
    "\\begin{equation} \n",
    "\\{ a_l^\\dagger , a_k^\\dagger \\} = 0, \\label{eq:ald,akd} \\tag{5} \n",
    "\\end{equation}\n",
    "$$"
   ]
  },
  {
   "cell_type": "markdown",
   "id": "7e08e136",
   "metadata": {
    "editable": true
   },
   "source": [
    "<!-- Equation labels as ordinary links -->\n",
    "<div id=\"eq:ald,ak\"></div>\n",
    "\n",
    "$$\n",
    "\\begin{equation} \n",
    "\\{ a_l^\\dagger , a_k \\} = \\delta_{lk}, \\label{eq:ald,ak} \\tag{6}\n",
    "\\end{equation}\n",
    "$$"
   ]
  },
  {
   "cell_type": "markdown",
   "id": "2b1f4814",
   "metadata": {
    "editable": true
   },
   "source": [
    "in order to move the operators in the right product to be in the same order as those in the lefthand product"
   ]
  },
  {
   "cell_type": "markdown",
   "id": "9c4ea9f3",
   "metadata": {
    "editable": true
   },
   "source": [
    "$$\n",
    "\\begin{align*}\n",
    "[J_z,J_\\pm] &= \\frac{1}{2} \\sum_{p,p',\\sigma} \\sigma \\left(\n",
    "a_{p\\sigma}^\\dagger a_{p\\sigma} a_{p'\\pm}^\\dagger a_{p'\\mp} -\n",
    "a_{p'\\pm}^\\dagger \\left( \\delta_{p' p} \\delta_{\\mp \\sigma} - a_{p\\sigma}^\\dagger a_{p'\\mp} \\right) a_{p\\sigma} \\right) \\\\\n",
    "&= \\frac{1}{2} \\sum_{p,p',\\sigma} \\sigma \\left(\n",
    "a_{p\\sigma}^\\dagger a_{p\\sigma} a_{p'\\pm}^\\dagger a_{p'\\mp} -\n",
    "a_{p'\\pm}^\\dagger \\delta_{p' p} \\delta_{\\mp \\sigma} a_{p\\sigma} +\n",
    "a_{p'\\pm}^\\dagger a_{p\\sigma}^\\dagger a_{p'\\mp} a_{p\\sigma} \\right), \\\\\n",
    "\\end{align*}\n",
    "$$"
   ]
  },
  {
   "cell_type": "markdown",
   "id": "6a2cbd43",
   "metadata": {
    "editable": true
   },
   "source": [
    "which results in"
   ]
  },
  {
   "cell_type": "markdown",
   "id": "797c4de7",
   "metadata": {
    "editable": true
   },
   "source": [
    "$$\n",
    "\\begin{align*}\n",
    "[J_z,J_\\pm]\n",
    "&= \\frac{1}{2} \\sum_{p,p',\\sigma} \\sigma \\left(\n",
    "a_{p\\sigma}^\\dagger a_{p\\sigma} a_{p'\\pm}^\\dagger a_{p'\\mp} -\n",
    "a_{p'\\pm}^\\dagger \\delta_{pp'} \\delta_{\\mp \\sigma} a_{p\\sigma} +\n",
    "a_{p\\sigma}^\\dagger a_{p'\\pm}^\\dagger a_{p\\sigma} a_{p'\\mp} \\right) \\\\\n",
    "&= \\frac{1}{2} \\sum_{p,p',\\sigma} \\sigma \\left(\n",
    "a_{p\\sigma}^\\dagger a_{p\\sigma} a_{p'\\pm}^\\dagger a_{p'\\mp} -\n",
    "a_{p'\\pm}^\\dagger \\delta_{pp'} \\delta_{\\mp \\sigma} a_{p\\sigma} +\n",
    "a_{p\\sigma}^\\dagger \\left( \\delta_{pp'} \\delta_{\\pm \\sigma} - a_{p\\sigma} a_{p'\\pm}^\\dagger \\right) a_{p'\\mp} \\right) \\\\\n",
    "&= \\frac{1}{2} \\sum_{p,p',\\sigma} \\sigma \\left(\n",
    "a_{p\\sigma}^\\dagger \\delta_{pp'} \\delta_{\\pm \\sigma} a_{p'\\mp} -\n",
    "a_{p'\\pm}^\\dagger \\delta_{pp'} \\delta_{\\mp \\sigma} a_{p\\sigma} \\right). \\\\\n",
    "\\end{align*}\n",
    "$$"
   ]
  },
  {
   "cell_type": "markdown",
   "id": "d5645e37",
   "metadata": {
    "editable": true
   },
   "source": [
    "The last equality leads to"
   ]
  },
  {
   "cell_type": "markdown",
   "id": "26e172c2",
   "metadata": {
    "editable": true
   },
   "source": [
    "$$\n",
    "\\begin{align*}\n",
    "[J_z,J_\\pm] &= \\frac{1}{2} \\sum_p \\left(\n",
    "(\\pm 1) a_{p\\pm}^\\dagger a_{p\\mp} - (\\mp 1)\n",
    "a_{p\\pm}^\\dagger a_{p\\mp} \\right) =\n",
    "\\pm \\frac{1}{2} \\sum_p \\left(\n",
    "a_{p\\pm}^\\dagger a_{p\\mp} + (\\pm 1)\n",
    "a_{p\\pm}^\\dagger a_{p\\mp} \\right) \\\\\n",
    "&= \\pm \\sum_p a_{p\\pm}^\\dagger a_{p\\mp} = \\pm J_\\pm,\n",
    "\\end{align*}\n",
    "$$"
   ]
  },
  {
   "cell_type": "markdown",
   "id": "c221e400",
   "metadata": {
    "editable": true
   },
   "source": [
    "where the last results follows from comparing with Eq. ([1](#eq:Jpm)).\n",
    "\n",
    "We can then continue with the next commutation relation, using Eq. ([1](#eq:Jpm)),"
   ]
  },
  {
   "cell_type": "markdown",
   "id": "d8e09c15",
   "metadata": {
    "editable": true
   },
   "source": [
    "$$\n",
    "\\begin{align*}\n",
    "[J_+,J_-] &= J_+ J_- - J_- J_+ \\\\\n",
    "&= \\left( \\sum_p a_{p'+}^\\dagger a_{p-} \\right)\n",
    "\\left( \\sum_{p'} a_{p'-}^\\dagger a_{p'+} \\right) -\n",
    "\\left( \\sum_{p'} a_{p'-}^\\dagger a_{p'+} \\right)\n",
    "\\left( \\sum_p a_{p+}^\\dagger a_{p-} \\right) \\\\\n",
    "&= \\sum_{p,p'} \\left(\n",
    "a_{p'+}^\\dagger a_{p-} a_{p'-}^\\dagger a_{p'+} -\n",
    "a_{p'-}^\\dagger a_{p'+} a_{p+}^\\dagger a_{p-} \\right) \\\\\n",
    "&= \\sum_{p,p'} \\left(\n",
    "a_{p'+}^\\dagger a_{p-} a_{p'-}^\\dagger a_{p'+} -\n",
    "a_{p'-}^\\dagger \\left( \\delta_{++} \\delta_{pp'} -\n",
    "a_{p+}^\\dagger a_{p'+} \\right) a_{p-} \\right) \\\\\n",
    "&= \\sum_{p,p'} \\left(\n",
    "a_{p'+}^\\dagger a_{p-} a_{p'-}^\\dagger a_{p'+} -\n",
    "a_{p'-}^\\dagger \\delta_{pp'} a_{p-} +\n",
    "a_{p'-}^\\dagger a_{p+}^\\dagger a_{p'+} a_{p-} \\right) \\\\\n",
    "&= \\sum_{p,p'} \\left(\n",
    "a_{p'+}^\\dagger a_{p-} a_{p'-}^\\dagger a_{p'+} -\n",
    "a_{p'-}^\\dagger \\delta_{pp'} a_{p-} +\n",
    "a_{p+}^\\dagger a_{p'-}^\\dagger a_{p-} a_{p'+} \\right) \\\\\n",
    "&= \\sum_{p,p'} \\left(\n",
    "a_{p'+}^\\dagger a_{p-} a_{p'-}^\\dagger a_{p'+} -\n",
    "a_{p'-}^\\dagger \\delta_{pp'} a_{p-} +\n",
    "a_{p+}^\\dagger \\left( \\delta_{--} \\delta_{pp'} -\n",
    "a_{p-} a_{p'-}^\\dagger \\right) a_{p'+} \\right) \\\\\n",
    "&= \\sum_{p,p'} \\left(\n",
    "a_{p+}^\\dagger \\delta_{pp'} a_{p'+} -\n",
    "a_{p'-}^\\dagger \\delta_{pp'} a_{p-} \\right), \\\\\n",
    "\\end{align*}\n",
    "$$"
   ]
  },
  {
   "cell_type": "markdown",
   "id": "0e74501b",
   "metadata": {
    "editable": true
   },
   "source": [
    "which results in"
   ]
  },
  {
   "cell_type": "markdown",
   "id": "d9c6715b",
   "metadata": {
    "editable": true
   },
   "source": [
    "$$\n",
    "[J_+,J_-] = \\sum_p \\left(\n",
    "a_{p+}^\\dagger a_{p+} -\n",
    "a_{p-}^\\dagger a_{p-} \\right) = 2J_z,\n",
    "$$"
   ]
  },
  {
   "cell_type": "markdown",
   "id": "69c719b0",
   "metadata": {
    "editable": true
   },
   "source": [
    "It is straightforward to show that"
   ]
  },
  {
   "cell_type": "markdown",
   "id": "92da3832",
   "metadata": {
    "editable": true
   },
   "source": [
    "$$\n",
    "[J^2, J_\\pm] = [J_+ J_- + J_z^2 - J_z, J_\\pm] =\n",
    "[J_+ J_-, J_\\pm] + [J_z^2, J_\\pm] - [J_z, J_\\pm].\n",
    "$$"
   ]
  },
  {
   "cell_type": "markdown",
   "id": "81125ca7",
   "metadata": {
    "editable": true
   },
   "source": [
    "Using the relations"
   ]
  },
  {
   "cell_type": "markdown",
   "id": "fc5aeb36",
   "metadata": {
    "editable": true
   },
   "source": [
    "<!-- Equation labels as ordinary links -->\n",
    "<div id=\"eq:ab,c\"></div>\n",
    "\n",
    "$$\n",
    "\\begin{equation}\n",
    "[AB,C] = A[B,C] + [A,C]B, \\label{eq:ab,c} \\tag{7} \n",
    "\\end{equation}\n",
    "$$"
   ]
  },
  {
   "cell_type": "markdown",
   "id": "eb958629",
   "metadata": {
    "editable": true
   },
   "source": [
    "<!-- Equation labels as ordinary links -->\n",
    "<div id=\"eq:a,bc\"></div>\n",
    "\n",
    "$$\n",
    "\\begin{equation} \n",
    "[A,BC] = [A,B]C + B[A,C], \\label{eq:a,bc} \\tag{8}\n",
    "\\end{equation}\n",
    "$$"
   ]
  },
  {
   "cell_type": "markdown",
   "id": "81dab8f5",
   "metadata": {
    "editable": true
   },
   "source": [
    "we obtain"
   ]
  },
  {
   "cell_type": "markdown",
   "id": "5fb432e5",
   "metadata": {
    "editable": true
   },
   "source": [
    "$$\n",
    "[J^2, J_\\pm] =\n",
    "J_+ [J_-,J_\\pm] + [J_+,J_\\pm] J_- + J_z [J_z,J_\\pm] + [J_z,J_\\pm] J_z - [J_z,J_\\pm].\n",
    "$$"
   ]
  },
  {
   "cell_type": "markdown",
   "id": "d0ac5e26",
   "metadata": {
    "editable": true
   },
   "source": [
    "Finally, from the above it follows that"
   ]
  },
  {
   "cell_type": "markdown",
   "id": "b0921470",
   "metadata": {
    "editable": true
   },
   "source": [
    "$$\n",
    "\\begin{align*}\n",
    "[J^2, J_+] &= -2J_+ J_z + J_z [J_z,J_+] + [J_z,J_+] J_z - [J_z,J_+] \\\\\n",
    "&= -2J_+ J_z + J_z J_+ + J_+ J_z - J_+ \\\\\n",
    "&= -2J_+ J_z + J_+ + J_+ J_z + J_+ J_z - J_+ = 0,\n",
    "\\end{align*}\n",
    "$$"
   ]
  },
  {
   "cell_type": "markdown",
   "id": "7c60c601",
   "metadata": {
    "editable": true
   },
   "source": [
    "and"
   ]
  },
  {
   "cell_type": "markdown",
   "id": "21b6546c",
   "metadata": {
    "editable": true
   },
   "source": [
    "$$\n",
    "\\begin{align*}\n",
    "[J^2, J_-] &= 2J_z J_- + J_z [J_z,J_-] + [J_z,J_-] J_z - [J_z,J_-] \\\\\n",
    "&= 2J_z J_- - J_z J_- - J_- J_z + J_- \\\\\n",
    "&= J_z J_- - (J_z J_- + J_-) + J_- = 0.\n",
    "\\end{align*}\n",
    "$$"
   ]
  },
  {
   "cell_type": "markdown",
   "id": "91301900",
   "metadata": {
    "editable": true
   },
   "source": [
    "Our last commutator is given by"
   ]
  },
  {
   "cell_type": "markdown",
   "id": "6ccf17f7",
   "metadata": {
    "editable": true
   },
   "source": [
    "$$\n",
    "\\begin{align*}\n",
    "[J^2,J_z] &= [J_+ J_- + J_z^2 - J_z, J_z] \\\\\n",
    "&= [J_+ J_-, J_z] + [J_z^2, J_z] - [J_z, J_z] \\\\\n",
    "&= J_+ [J_-, J_z] + [J_+,J_z] J_- \\\\\n",
    "&= J_+ J_- - J_+ J_- = 0\n",
    "\\end{align*}\n",
    "$$"
   ]
  },
  {
   "cell_type": "markdown",
   "id": "2f440599",
   "metadata": {
    "editable": true
   },
   "source": [
    "Summing up we have"
   ]
  },
  {
   "cell_type": "markdown",
   "id": "65f29e04",
   "metadata": {
    "editable": true
   },
   "source": [
    "<!-- Equation labels as ordinary links -->\n",
    "<div id=\"eq:kJzJpm\"></div>\n",
    "\n",
    "$$\n",
    "\\begin{equation}\n",
    "[J_z, J_\\pm] = \\pm J_\\pm, \\label{eq:kJzJpm} \\tag{9} \n",
    "\\end{equation}\n",
    "$$"
   ]
  },
  {
   "cell_type": "markdown",
   "id": "77bca4f9",
   "metadata": {
    "editable": true
   },
   "source": [
    "<!-- Equation labels as ordinary links -->\n",
    "<div id=\"eq:kJpJm\"></div>\n",
    "\n",
    "$$\n",
    "\\begin{equation} \n",
    "[J_+, J_-] = 2J_z, \\label{eq:kJpJm} \\tag{10} \n",
    "\\end{equation}\n",
    "$$"
   ]
  },
  {
   "cell_type": "markdown",
   "id": "72bbb2a3",
   "metadata": {
    "editable": true
   },
   "source": [
    "<!-- Equation labels as ordinary links -->\n",
    "<div id=\"eq:kJ2Jpm\"></div>\n",
    "\n",
    "$$\n",
    "\\begin{equation} \n",
    "[J^2, J_\\pm] = 0, \\label{eq:kJ2Jpm} \\tag{11} \n",
    "\\end{equation}\n",
    "$$"
   ]
  },
  {
   "cell_type": "markdown",
   "id": "5eec54dc",
   "metadata": {
    "editable": true
   },
   "source": [
    "<!-- Equation labels as ordinary links -->\n",
    "<div id=\"eq:kJ2Jz\"></div>\n",
    "\n",
    "$$\n",
    "\\begin{equation} \n",
    "[J^2,J_z] = 0, \\label{eq:kJ2Jz} \\tag{12}\n",
    "\\end{equation}\n",
    "$$"
   ]
  },
  {
   "cell_type": "markdown",
   "id": "11b05403",
   "metadata": {
    "editable": true
   },
   "source": [
    "which are the standard commutation relations for angular (or orbital) momentum $L_\\pm$, $L_z$ og $L^2$."
   ]
  },
  {
   "cell_type": "markdown",
   "id": "4c17a647",
   "metadata": {
    "editable": true
   },
   "source": [
    "## Rewriting the Hamiltonian\n",
    "\n",
    "We wrote the above Hamiltonian as"
   ]
  },
  {
   "cell_type": "markdown",
   "id": "9f51ed8c",
   "metadata": {
    "editable": true
   },
   "source": [
    "$$\n",
    "H = H_0 + H_1 +H_2,\n",
    "$$"
   ]
  },
  {
   "cell_type": "markdown",
   "id": "c5700da8",
   "metadata": {
    "editable": true
   },
   "source": [
    "with"
   ]
  },
  {
   "cell_type": "markdown",
   "id": "5e5e9240",
   "metadata": {
    "editable": true
   },
   "source": [
    "$$\n",
    "H_0 = \\frac{1}{2} \\varepsilon \\sum_{p\\sigma}\\sigma a_{p\\sigma}^{\\dagger}a_{p\\sigma},\n",
    "$$"
   ]
  },
  {
   "cell_type": "markdown",
   "id": "d09281b4",
   "metadata": {
    "editable": true
   },
   "source": [
    "and"
   ]
  },
  {
   "cell_type": "markdown",
   "id": "6407016b",
   "metadata": {
    "editable": true
   },
   "source": [
    "$$\n",
    "H_1 = \\frac{1}{2} V \\sum_{p,p',\\sigma} a_{p\\sigma}^\\dagger a_{p'\\sigma}^\\dagger a_{p'-\\sigma} a_{p-\\sigma},\n",
    "$$"
   ]
  },
  {
   "cell_type": "markdown",
   "id": "50b37aed",
   "metadata": {
    "editable": true
   },
   "source": [
    "and"
   ]
  },
  {
   "cell_type": "markdown",
   "id": "19314f51",
   "metadata": {
    "editable": true
   },
   "source": [
    "$$\n",
    "H_{2} = \\frac{1}{2} W \\sum_{p,p',\\sigma}a_{p\\sigma}^\\dagger a_{p'-\\sigma}^\\dagger a_{p'\\sigma}a_{p-\\sigma}.\n",
    "$$"
   ]
  },
  {
   "cell_type": "markdown",
   "id": "de40c7f3",
   "metadata": {
    "editable": true
   },
   "source": [
    "We will now rewrite the Hamiltonian in terms of the above quasi-spin operators and the number operator"
   ]
  },
  {
   "cell_type": "markdown",
   "id": "edee4a1f",
   "metadata": {
    "editable": true
   },
   "source": [
    "<!-- Equation labels as ordinary links -->\n",
    "<div id=\"eq:N\"></div>\n",
    "\n",
    "$$\n",
    "\\begin{equation}\n",
    "N = \\sum_{p,\\sigma} a_{p\\sigma}^\\dagger a_{p\\sigma}.\n",
    "\\label{eq:N} \\tag{13}\n",
    "\\end{equation}\n",
    "$$"
   ]
  },
  {
   "cell_type": "markdown",
   "id": "fbcfaa95",
   "metadata": {
    "editable": true
   },
   "source": [
    "Going through each term of the Hamiltonian and using the expressions for the quasi-spin operators we obtain"
   ]
  },
  {
   "cell_type": "markdown",
   "id": "0008baf6",
   "metadata": {
    "editable": true
   },
   "source": [
    "<!-- Equation labels as ordinary links -->\n",
    "<div id=\"eq:H0ny\"></div>\n",
    "\n",
    "$$\n",
    "\\begin{equation}\n",
    "H_0 = \\varepsilon J_z.\n",
    "\\label{eq:H0ny} \\tag{14}\n",
    "\\end{equation}\n",
    "$$"
   ]
  },
  {
   "cell_type": "markdown",
   "id": "c6994935",
   "metadata": {
    "editable": true
   },
   "source": [
    "Moving over to $H_1$ and using the anti-commutation relations ([4](#eq:al,ak)) through ([6](#eq:ald,ak)) we obtain"
   ]
  },
  {
   "cell_type": "markdown",
   "id": "266f08d2",
   "metadata": {
    "editable": true
   },
   "source": [
    "$$\n",
    "\\begin{align*}\n",
    "H_1 &= \\frac{1}{2} V \\sum_{p,p',\\sigma}\n",
    "a_{p\\sigma}^\\dagger a_{p'\\sigma}^\\dagger a_{p'-\\sigma} a_{p-\\sigma} \\\\\n",
    "&= \\frac{1}{2} V \\sum_{p,p',\\sigma}\n",
    "-a_{p\\sigma}^\\dagger a_{p'\\sigma}^\\dagger a_{p-\\sigma} a_{p'-\\sigma} \\\\\n",
    "&= \\frac{1}{2} V \\sum_{p,p',\\sigma}\n",
    "-a_{p\\sigma}^\\dagger \\left( \\delta_{pp'} \\delta_{\\sigma -\\sigma} - a_{p-\\sigma} a_{p'\\sigma}^\\dagger \\right) a_{p'-\\sigma} \\\\\n",
    "&= \\frac{1}{2} V \\sum_{p,p',\\sigma}\n",
    "a_{p\\sigma}^\\dagger a_{p-\\sigma} a_{p'\\sigma}^\\dagger a_{p'-\\sigma} \\\\\n",
    "\\end{align*}\n",
    "$$"
   ]
  },
  {
   "cell_type": "markdown",
   "id": "c5c9500e",
   "metadata": {
    "editable": true
   },
   "source": [
    "Rewriting the sum  over $\\sigma$ we arrive at"
   ]
  },
  {
   "cell_type": "markdown",
   "id": "5cca82dd",
   "metadata": {
    "editable": true
   },
   "source": [
    "$$\n",
    "\\begin{align*}\n",
    "H_1 &= \\frac{1}{2} V\\sum_{p,p'}\n",
    "a_{p+}^\\dagger a_{p-} a_{p'+}^\\dagger a_{p'-} +\n",
    "a_{p-}^\\dagger a_{p+} a_{p'-}^\\dagger a_{p'+} \\\\\n",
    "&= \\frac{1}{2} V \\left[ \\sum_p \\left( a_{p+}^\\dagger a_{p-} \\right)\n",
    "\\sum_{p'} \\left( a_{p'+}^\\dagger a_{p'-} \\right) +\n",
    "\\sum_p \\left( a_{p-}^\\dagger a_{p+} \\right)\n",
    "\\sum_{p'} \\left( a_{p'-}^\\dagger a_{p'+} \\right) \\right] \\\\\n",
    "&= \\frac{1}{2} V \\left[ J_+ J_+ + J_- J_- \\right] = \\frac{1}{2} V \\left[ J_+^2 + J_-^2 \\right] ,\n",
    "\\end{align*}\n",
    "$$"
   ]
  },
  {
   "cell_type": "markdown",
   "id": "23f6e8a6",
   "metadata": {
    "editable": true
   },
   "source": [
    "which leads to"
   ]
  },
  {
   "cell_type": "markdown",
   "id": "23bc4c8e",
   "metadata": {
    "editable": true
   },
   "source": [
    "<!-- Equation labels as ordinary links -->\n",
    "<div id=\"eq:H1ny\"></div>\n",
    "\n",
    "$$\n",
    "\\begin{equation}\n",
    "H_1 = \\frac{1}{2} V \\left( J_+^2 + J_-^2 \\right).\n",
    "\\label{eq:H1ny} \\tag{15}\n",
    "\\end{equation}\n",
    "$$"
   ]
  },
  {
   "cell_type": "markdown",
   "id": "8a61fbff",
   "metadata": {
    "editable": true
   },
   "source": [
    "Finally, we rewrite the last term"
   ]
  },
  {
   "cell_type": "markdown",
   "id": "280ead16",
   "metadata": {
    "editable": true
   },
   "source": [
    "$$\n",
    "\\begin{align*}\n",
    "H_2 &= \\frac{1}{2} W \\sum_{p,p',\\sigma}\n",
    "a_{p\\sigma}^\\dagger a_{p'-\\sigma}^\\dagger a_{p'\\sigma} a_{p-\\sigma} \\\\\n",
    "&= \\frac{1}{2} W \\sum_{p,p',\\sigma}\n",
    "-a_{p\\sigma}^\\dagger a_{p'-\\sigma}^\\dagger a_{p-\\sigma} a_{p'\\sigma} \\\\\n",
    "&= \\frac{1}{2} W \\sum_{p,p',\\sigma}\n",
    "-a_{p\\sigma}^\\dagger \\left( \\delta_{pp'} \\delta_{-\\sigma -\\sigma} -\n",
    "a_{p-\\sigma} a_{p'-\\sigma}^\\dagger \\right) a_{p'\\sigma} \\\\\n",
    "&= \\frac{1}{2} W \\sum_{p,p',\\sigma}\n",
    "-a_{p\\sigma}^\\dagger \\delta_{pp'} a_{p'\\sigma} +\n",
    "a_{p\\sigma}^\\dagger a_{p-\\sigma} a_{p'-\\sigma}^\\dagger a_{p'\\sigma} \\\\\n",
    "&= \\frac{1}{2} W \\left( -\\sum_{p,\\sigma}\n",
    "a_{p\\sigma}^\\dagger a_{p\\sigma} +\n",
    "\\sum_{p,p',\\sigma} a_{p\\sigma}^\\dagger a_{p-\\sigma} a_{p'-\\sigma}^\\dagger a_{p'\\sigma} \\right) \\\\\n",
    "\\end{align*}\n",
    "$$"
   ]
  },
  {
   "cell_type": "markdown",
   "id": "28915ddb",
   "metadata": {
    "editable": true
   },
   "source": [
    "Using the expression for the number operator we obtain"
   ]
  },
  {
   "cell_type": "markdown",
   "id": "f137b381",
   "metadata": {
    "editable": true
   },
   "source": [
    "$$\n",
    "\\begin{align*}\n",
    "\\sum_{p,p',\\sigma} a_{p\\sigma}^\\dagger a_{p-\\sigma} a_{p'-\\sigma}^\\dagger a_{p'\\sigma}\n",
    "&= \\sum_{p,p'} a_{p+}^\\dagger a_{p-} a_{p'-}^\\dagger a_{p'+} +\n",
    "a_{p-}^\\dagger a_{p+} a_{p'+}^\\dagger a_{p'-} \\\\\n",
    "&= \\sum_p \\left( a_{p+}^\\dagger a_{p-} \\right)\n",
    "\\sum_{p'} \\left( a_{p'-}^\\dagger a_{p'+} \\right) +\n",
    "\\sum_p \\left( a_{p-}^\\dagger a_{p+} \\right)\n",
    "\\sum_{p'} \\left( a_{p'+}^\\dagger a_{p'-} \\right) \\\\\n",
    "&= J_+ J_- + J_- J_+,\n",
    "\\end{align*}\n",
    "$$"
   ]
  },
  {
   "cell_type": "markdown",
   "id": "b505bfd4",
   "metadata": {
    "editable": true
   },
   "source": [
    "resulting in"
   ]
  },
  {
   "cell_type": "markdown",
   "id": "f40060be",
   "metadata": {
    "editable": true
   },
   "source": [
    "<!-- Equation labels as ordinary links -->\n",
    "<div id=\"eq:H2ny\"></div>\n",
    "\n",
    "$$\n",
    "\\begin{equation}\n",
    "H_2 = \\frac{1}{2} W \\left( -N + J_+ J_- + J_- J_+ \\right).\n",
    "\\label{eq:H2ny} \\tag{16}\n",
    "\\end{equation}\n",
    "$$"
   ]
  },
  {
   "cell_type": "markdown",
   "id": "8c5aa709",
   "metadata": {
    "editable": true
   },
   "source": [
    "We have thus expressed the Hamiltonian in term of the quasi-spin operators."
   ]
  },
  {
   "cell_type": "markdown",
   "id": "ffdd9503",
   "metadata": {
    "editable": true
   },
   "source": [
    "## Commutation relations for the Hamiltonian\n",
    "The above expressions can in turn be used to show that the Hamiltonian commutes with the various quasi-spin operators. This leads to quantum numbers which are conserved.\n",
    "Let us first show that $[H,J^2]=0$, which means that $J$ is a so-called *good* quantum number.\n",
    "We have"
   ]
  },
  {
   "cell_type": "markdown",
   "id": "778434f6",
   "metadata": {
    "editable": true
   },
   "source": [
    "$$\n",
    "\\begin{align*}\n",
    "[H,J^2] &= [H_0 + H_1 + H_2,J^2] \\\\\n",
    "&= [H_0,J^2] + [H_1,J^2] + [H_2,J^2] \\\\\n",
    "&= \\varepsilon [J_z,J^2] + \\frac{1}{2} V [J_+^2 + J_-^2,J^2] +\n",
    "\\frac{1}{2} W [-N + J_+ J_- + J_- J_+,J^2]. \\\\\n",
    "\\end{align*}\n",
    "$$"
   ]
  },
  {
   "cell_type": "markdown",
   "id": "6529a214",
   "metadata": {
    "editable": true
   },
   "source": [
    "We have previously shown that"
   ]
  },
  {
   "cell_type": "markdown",
   "id": "4bf39a33",
   "metadata": {
    "editable": true
   },
   "source": [
    "$$\n",
    "[H,J^2] = \\frac{1}{2} V \\left( [J_+^2,J^2] + [J_-^2,J^2] \\right) +\n",
    "\\frac{1}{2} W \\left( -[N,J^2] + [J_+ J_-,J^2] + [J_- J_+, J^2] \\right)\n",
    "$$"
   ]
  },
  {
   "cell_type": "markdown",
   "id": "43ac29cc",
   "metadata": {
    "editable": true
   },
   "source": [
    "Using that $[J_\\pm,J^2] = 0$, it follows that $[J_\\pm^2,J^2] = 0$. We can then see that $[J_+ J_-,J^2] = 0$ and $[J_- J_+, J^2] = 0$ which leads to"
   ]
  },
  {
   "cell_type": "markdown",
   "id": "415750a6",
   "metadata": {
    "editable": true
   },
   "source": [
    "$$\n",
    "\\begin{align*}\n",
    "[H,J^2] &= -\\frac{1}{2} W [N,J^2] \\\\\n",
    "&= \\frac{1}{2} W \\left( -[N,J_+ J_-] - [N,J_z^2] + [N,J_z] \\right) \\\\\n",
    "&= \\frac{1}{2} W \\left( -[N,J_+]J_- - J_+[N,J_-] - [N,J_z]J_z - J_z[N,J_z] + [N,J_z] \\right).\n",
    "\\end{align*}\n",
    "$$"
   ]
  },
  {
   "cell_type": "markdown",
   "id": "5289a2b7",
   "metadata": {
    "editable": true
   },
   "source": [
    "Combining with the number operator we have"
   ]
  },
  {
   "cell_type": "markdown",
   "id": "f5ddb3e7",
   "metadata": {
    "editable": true
   },
   "source": [
    "$$\n",
    "\\begin{align*}\n",
    "[N,J_\\pm] &= N J_\\pm - J_\\pm N \\\\\n",
    "&= \\left( \\sum_{p,\\sigma} a_{p\\sigma}^\\dagger a_{p\\sigma} \\right)\n",
    "\\left( \\sum_{p'} a_{p'\\pm}^\\dagger a_{p'\\mp} \\right) -\n",
    "\\left( \\sum_{p'} a_{p'\\pm}^\\dagger a_{p'\\mp} \\right)\n",
    "\\left( \\sum_{p,\\sigma} a_{p\\sigma}^\\dagger a_{p\\sigma} \\right) \\\\\n",
    "&= \\sum_{p,p',\\sigma}\n",
    "a_{p\\sigma}^\\dagger a_{p\\sigma} a_{p'\\pm}^\\dagger a_{p'\\mp} -\n",
    "a_{p'\\pm}^\\dagger a_{p'\\mp} a_{p\\sigma}^\\dagger a_{p\\sigma} \\\\\n",
    "&= \\sum_{p,p',\\sigma}\n",
    "a_{p\\sigma}^\\dagger a_{p\\sigma} a_{p'\\pm}^\\dagger a_{p'\\mp} -\n",
    "a_{p'\\pm}^\\dagger \\left( \\delta_{\\mp \\sigma} \\delta_{pp'} - a_{p\\sigma}^\\dagger a_{p'\\mp} \\right) a_{p\\sigma} \\\\\n",
    "&= \\sum_{p,p',\\sigma}\n",
    "a_{p\\sigma}^\\dagger a_{p\\sigma} a_{p'\\pm}^\\dagger a_{p'\\mp} -\n",
    "a_{p'\\pm}^\\dagger \\delta_{\\mp \\sigma} \\delta_{pp'} a_{p\\sigma} +\n",
    "a_{p'\\pm}^\\dagger a_{p\\sigma}^\\dagger a_{p'\\mp} a_{p\\sigma} \\\\\n",
    "&= \\sum_{p,p',\\sigma}\n",
    "a_{p\\sigma}^\\dagger a_{p\\sigma} a_{p'\\pm}^\\dagger a_{p'\\mp} +\n",
    "a_{p\\sigma}^\\dagger a_{p'\\pm}^\\dagger a_{p\\sigma} a_{p'\\mp} -\n",
    "\\sum_{p} a_{p\\pm}^\\dagger  a_{p\\mp} \\\\\n",
    "&= \\sum_{p,p',\\sigma}\n",
    "a_{p\\sigma}^\\dagger a_{p\\sigma} a_{p'\\pm}^\\dagger a_{p'\\mp} +\n",
    "a_{p\\sigma}^\\dagger \\left( \\delta_{pp'} \\delta_{\\pm \\sigma} -\n",
    "a_{p\\sigma} a_{p'\\pm}^\\dagger \\right) a_{p'\\mp} -\n",
    "\\sum_{p} a_{p\\pm}^\\dagger  a_{p\\mp} \\\\\n",
    "&= \\sum_p a_{p\\pm}^\\dagger a_{p\\mp} -\n",
    "\\sum_{p} a_{p\\pm}^\\dagger  a_{p\\mp} = 0. \\\\\n",
    "\\end{align*}\n",
    "$$"
   ]
  },
  {
   "cell_type": "markdown",
   "id": "0a5f3fdc",
   "metadata": {
    "editable": true
   },
   "source": [
    "We obtain then"
   ]
  },
  {
   "cell_type": "markdown",
   "id": "ccc1b001",
   "metadata": {
    "editable": true
   },
   "source": [
    "$$\n",
    "\\begin{align*}\n",
    "[N,J_z] &= N J_z - J_z N \\\\\n",
    "&= \\left( \\sum_{p,\\sigma} a_{p\\sigma}^\\dagger a_{p\\sigma} \\right)\n",
    "\\left( \\frac{1}{2}\\sum_{p',\\sigma} \\sigma a_{p'\\sigma}^\\dagger a_{p'\\sigma} \\right) -\n",
    "\\left( \\frac{1}{2}\\sum_{p',\\sigma} \\sigma a_{p'\\sigma}^\\dagger a_{p'\\sigma} \\right)\n",
    "\\left( \\sum_{p,\\sigma} a_{p\\sigma}^\\dagger a_{p\\sigma} \\right) \\\\\n",
    "&= \\sum_{p,p',\\sigma} \n",
    "\\sigma a_{p\\sigma}^\\dagger a_{p\\sigma} a_{p'\\sigma}^\\dagger a_{p'\\sigma} -\n",
    "\\sigma a_{p'\\sigma}^\\dagger a_{p'\\sigma} a_{p\\sigma}^\\dagger a_{p\\sigma} = 0,\n",
    "\\end{align*}\n",
    "$$"
   ]
  },
  {
   "cell_type": "markdown",
   "id": "05bf3887",
   "metadata": {
    "editable": true
   },
   "source": [
    "which leads to"
   ]
  },
  {
   "cell_type": "markdown",
   "id": "ba8b8c70",
   "metadata": {
    "editable": true
   },
   "source": [
    "<!-- Equation labels as ordinary links -->\n",
    "<div id=\"eq:kHJ2\"></div>\n",
    "\n",
    "$$\n",
    "\\begin{equation}\n",
    "[H,J^2] = 0,\n",
    "\\label{eq:kHJ2} \\tag{17}\n",
    "\\end{equation}\n",
    "$$"
   ]
  },
  {
   "cell_type": "markdown",
   "id": "d2a20562",
   "metadata": {
    "editable": true
   },
   "source": [
    "and $J$ is a good quantum number."
   ]
  },
  {
   "cell_type": "markdown",
   "id": "ba1e75cb",
   "metadata": {
    "editable": true
   },
   "source": [
    "### Constructing the Hamiltonian matrix for $J=2$\n",
    "\n",
    "We start with the state (unique) where all spins point down"
   ]
  },
  {
   "cell_type": "markdown",
   "id": "333c3393",
   "metadata": {
    "editable": true
   },
   "source": [
    "<!-- Equation labels as ordinary links -->\n",
    "<div id=\"eq:2,-2\"></div>\n",
    "\n",
    "$$\n",
    "\\begin{equation}\n",
    "\\vert 2,-2\\rangle = a_{1-}^{\\dagger} a_{2-}^{\\dagger}\n",
    "a_{3-}^{\\dagger} a_{4-}^{\\dagger} \\vert 0\\rangle\n",
    "\\label{eq:2,-2} \\tag{18}\n",
    "\\end{equation}\n",
    "$$"
   ]
  },
  {
   "cell_type": "markdown",
   "id": "1513b79a",
   "metadata": {
    "editable": true
   },
   "source": [
    "which is a state with  $J_z = -2$ and $J = 2$. (we label the states as $\\vert J,J_z\\rangle$). For $J = 2$ we have the spin projections $J_z = -2,-1,0,1,2$.\n",
    "We can use the lowering and raising operators for spin in order to define the other states"
   ]
  },
  {
   "cell_type": "markdown",
   "id": "b4713a22",
   "metadata": {
    "editable": true
   },
   "source": [
    "<!-- Equation labels as ordinary links -->\n",
    "<div id=\"eq:J+ket\"></div>\n",
    "\n",
    "$$\n",
    "\\begin{equation}\n",
    "J_+ \\vert J,J_z\\rangle = \\sqrt{J(J+1) - J_z(J_z + 1)} \\vert J,J_z + 1\\rangle,\n",
    "\\label{eq:J+ket} \\tag{19} \n",
    "\\end{equation}\n",
    "$$"
   ]
  },
  {
   "cell_type": "markdown",
   "id": "83d1e2e6",
   "metadata": {
    "editable": true
   },
   "source": [
    "<!-- Equation labels as ordinary links -->\n",
    "<div id=\"eq:J-ket\"></div>\n",
    "\n",
    "$$\n",
    "\\begin{equation} \n",
    "J_- \\vert J,J_z\\rangle = \\sqrt{J(J+1) - J_z(J_z - 1)} \\vert J,J_z - 1\\rangle.\n",
    "\\label{eq:J-ket} \\tag{20}\n",
    "\\end{equation}\n",
    "$$"
   ]
  },
  {
   "cell_type": "markdown",
   "id": "17289103",
   "metadata": {
    "editable": true
   },
   "source": [
    "We can then construct all other states with $J=2$ using the raising operator\n",
    "$J_+$ on $\\vert 2,-2\\rangle$"
   ]
  },
  {
   "cell_type": "markdown",
   "id": "11d53dcd",
   "metadata": {
    "editable": true
   },
   "source": [
    "$$\n",
    "J_+ \\vert 2,-2\\rangle = \\sqrt{2(2+1) - (-2)(-2+1)} \\vert 2,-2+1\\rangle =\\sqrt{6 - 2} \\vert 2,-1\\rangle = 2\\vert 2,-1\\rangle,\n",
    "$$"
   ]
  },
  {
   "cell_type": "markdown",
   "id": "ca071a2a",
   "metadata": {
    "editable": true
   },
   "source": [
    "which gives"
   ]
  },
  {
   "cell_type": "markdown",
   "id": "a88c47c2",
   "metadata": {
    "editable": true
   },
   "source": [
    "<!-- Equation labels as ordinary links -->\n",
    "<div id=\"_auto1\"></div>\n",
    "\n",
    "$$\n",
    "\\begin{equation}\n",
    "\\vert 2,-1\\rangle = \\frac{1}{2} J_+ \\vert 2,-2\\rangle \\notag \n",
    "\\label{_auto1} \\tag{21}\n",
    "\\end{equation}\n",
    "$$"
   ]
  },
  {
   "cell_type": "markdown",
   "id": "9816b7e2",
   "metadata": {
    "editable": true
   },
   "source": [
    "<!-- Equation labels as ordinary links -->\n",
    "<div id=\"_auto2\"></div>\n",
    "\n",
    "$$\n",
    "\\begin{equation} \n",
    "= \\frac{1}{2} \\sum_p a_{p+}^\\dagger a_{p-} a_{1-}^{\\dagger} a_{2-}^{\\dagger}\n",
    "a_{3-}^{\\dagger} a_{4-}^{\\dagger} \\vert 0\\rangle \\notag \n",
    "\\label{_auto2} \\tag{22}\n",
    "\\end{equation}\n",
    "$$"
   ]
  },
  {
   "cell_type": "markdown",
   "id": "11b40c5d",
   "metadata": {
    "editable": true
   },
   "source": [
    "<!-- Equation labels as ordinary links -->\n",
    "<div id=\"eq:2,-1\"></div>\n",
    "\n",
    "$$\n",
    "\\begin{equation} \n",
    "= \\frac{1}{2} \\left(\n",
    "a_{1+}^{\\dagger} a_{2-}^{\\dagger} a_{3-}^{\\dagger} a_{4-}^{\\dagger} +\n",
    "a_{1-}^{\\dagger} a_{2+}^{\\dagger} a_{3-}^{\\dagger} a_{4-}^{\\dagger} +\n",
    "a_{1-}^{\\dagger} a_{2-}^{\\dagger} a_{3+}^{\\dagger} a_{4-}^{\\dagger} +\n",
    "a_{1-}^{\\dagger} a_{2-}^{\\dagger} a_{3-}^{\\dagger} a_{4+}^{\\dagger}\n",
    "\\right) \\vert 0\\rangle. \\label{eq:2,-1} \\tag{23}\n",
    "\\end{equation}\n",
    "$$"
   ]
  },
  {
   "cell_type": "markdown",
   "id": "60f1078e",
   "metadata": {
    "editable": true
   },
   "source": [
    "We can construct all the other states in the same way. That is"
   ]
  },
  {
   "cell_type": "markdown",
   "id": "b2306ab7",
   "metadata": {
    "editable": true
   },
   "source": [
    "$$\n",
    "J_+ \\vert 2,-1\\rangle = \\sqrt{2(2+1) - (-1)(-1+1)} \\vert 2,-1+1\\rangle = \\sqrt{6} \\vert 2,0\\rangle,\n",
    "$$"
   ]
  },
  {
   "cell_type": "markdown",
   "id": "68953f9b",
   "metadata": {
    "editable": true
   },
   "source": [
    "which results in"
   ]
  },
  {
   "cell_type": "markdown",
   "id": "3e956041",
   "metadata": {
    "editable": true
   },
   "source": [
    "<!-- Equation labels as ordinary links -->\n",
    "<div id=\"eq:2,0\"></div>\n",
    "\n",
    "$$\n",
    "\\begin{equation}\n",
    "\\begin{aligned}\n",
    "\\vert 2,0\\rangle &= \\frac{1}{\\sqrt{6}} \\left(\n",
    "a_{1+}^{\\dagger} a_{2+}^{\\dagger} a_{3-}^{\\dagger} a_{4-}^{\\dagger} +\n",
    "a_{1+}^{\\dagger} a_{2-}^{\\dagger} a_{3+}^{\\dagger} a_{4-}^{\\dagger} +\n",
    "a_{1+}^{\\dagger} a_{2-}^{\\dagger} a_{3-}^{\\dagger} a_{4+}^{\\dagger} +\n",
    "a_{1-}^{\\dagger} a_{2+}^{\\dagger} a_{3+}^{\\dagger} a_{4-}^{\\dagger} + \\right. \\\\\n",
    "&\\quad\\,\\, \\left.\n",
    "a_{1-}^{\\dagger} a_{2+}^{\\dagger} a_{3-}^{\\dagger} a_{4+}^{\\dagger} +\n",
    "a_{1-}^{\\dagger} a_{2-}^{\\dagger} a_{3+}^{\\dagger} a_{4+}^{\\dagger} \\right) \\vert 0\\rangle\n",
    "\\end{aligned}\n",
    "\\label{eq:2,0} \\tag{24}\n",
    "\\end{equation}\n",
    "$$"
   ]
  },
  {
   "cell_type": "markdown",
   "id": "4172d148",
   "metadata": {
    "editable": true
   },
   "source": [
    "The two remaining states are"
   ]
  },
  {
   "cell_type": "markdown",
   "id": "e13b9559",
   "metadata": {
    "editable": true
   },
   "source": [
    "<!-- Equation labels as ordinary links -->\n",
    "<div id=\"eq:2,1\"></div>\n",
    "\n",
    "$$\n",
    "\\begin{equation}\n",
    "\\vert2,1\\rangle  = \\frac{1}{2} \\left(\n",
    "a_{1+}^{\\dagger} a_{2+}^{\\dagger} a_{3+}^{\\dagger} a_{4-}^{\\dagger} +\n",
    "a_{1+}^{\\dagger} a_{2+}^{\\dagger} a_{3-}^{\\dagger} a_{4+}^{\\dagger} +\n",
    "a_{1+}^{\\dagger} a_{2-}^{\\dagger} a_{3+}^{\\dagger} a_{4+}^{\\dagger} +\n",
    "a_{1-}^{\\dagger} a_{2+}^{\\dagger} a_{3+}^{\\dagger} a_{4+}^{\\dagger}\n",
    " \\right).\n",
    "\\label{eq:2,1} \\tag{25}\n",
    "\\end{equation}\n",
    "$$"
   ]
  },
  {
   "cell_type": "markdown",
   "id": "ed6365ef",
   "metadata": {
    "editable": true
   },
   "source": [
    "and"
   ]
  },
  {
   "cell_type": "markdown",
   "id": "4ef5256c",
   "metadata": {
    "editable": true
   },
   "source": [
    "<!-- Equation labels as ordinary links -->\n",
    "<div id=\"eq:2,2\"></div>\n",
    "\n",
    "$$\n",
    "\\begin{equation}\n",
    "\\vert 2,2\\rangle  = a_{1+}^{\\dagger} a_{2+}^{\\dagger} a_{3+}^{\\dagger} a_{4+}^{\\dagger} \\vert 0\\rangle.\n",
    "\\label{eq:2,2} \\tag{26}\n",
    "\\end{equation}\n",
    "$$"
   ]
  },
  {
   "cell_type": "markdown",
   "id": "34311de8",
   "metadata": {
    "editable": true
   },
   "source": [
    "These five states can in turn be used as computational basis states in order to define the Hamiltonian matrix to be diagonalized. The Hamiltonian is hermitian and we obtain after all this labor of ours"
   ]
  },
  {
   "cell_type": "markdown",
   "id": "acc19b41",
   "metadata": {
    "editable": true
   },
   "source": [
    "<!-- Equation labels as ordinary links -->\n",
    "<div id=\"eq:HJ=2\"></div>\n",
    "\n",
    "$$\n",
    "\\begin{equation}\n",
    "H_{J = 2} =\n",
    "\\begin{pmatrix}\n",
    "-2\\varepsilon & 0 & \\sqrt{6}V & 0 & 0 \\\\\n",
    "0 & -\\varepsilon + 3W & 0 & 3V & 0 \\\\\n",
    "\\sqrt{6}V & 0 & 4W & 0 & \\sqrt{6}V \\\\\n",
    "0 & 3V & 0 & \\varepsilon + 3W & 0 \\\\\n",
    "0 & 0 & \\sqrt{6}V & 0 & 2\\varepsilon\n",
    "\\end{pmatrix}\n",
    "\\label{eq:HJ=2} \\tag{27}\n",
    "\\end{equation}\n",
    "$$"
   ]
  },
  {
   "cell_type": "markdown",
   "id": "aa0af180",
   "metadata": {
    "editable": true
   },
   "source": [
    "We can now select a set of parameters and diagonalize the above matrix. We select $\\epsilon = 2$, $V = -1/3$, $W = -1/4$ and our matrix becoes"
   ]
  },
  {
   "cell_type": "markdown",
   "id": "7bcd4f21",
   "metadata": {
    "editable": true
   },
   "source": [
    "$$\n",
    "H_{J=2}^{(1)} =\n",
    "\\begin{pmatrix}\n",
    "-4 & 0 & -\\sqrt{6}/3 & 0 & 0 \\\\\n",
    "0 & -2 - 3/4 & 0 & -1 & 0 \\\\\n",
    "-\\sqrt{6}/3 & 0 & -1 & 0 & -\\sqrt{6}/3 \\\\\n",
    "0 & -1 & 0 & 2 + -3/4 & 0 \\\\\n",
    "0 & 0 & -\\sqrt{6}/3 & 0 & 4\n",
    "\\end{pmatrix},\n",
    "$$"
   ]
  },
  {
   "cell_type": "markdown",
   "id": "1ff49211",
   "metadata": {
    "editable": true
   },
   "source": [
    "which gives the eigenvalue"
   ]
  },
  {
   "cell_type": "markdown",
   "id": "4bea0382",
   "metadata": {
    "editable": true
   },
   "source": [
    "$$\n",
    "D = \\begin{pmatrix}\n",
    "-4.21288 &  0 &  0 &  0 &  0 \\\\\n",
    "0 & -2.98607  & 0  & 0  & 0 \\\\\n",
    "0 &  0 & -0.91914  & 0  & 0 \\\\\n",
    "0 &  0 & 0   & 1.48607  & 0 \\\\\n",
    "0 &  0  & 0  & 0  & 4.13201\n",
    "\\end{pmatrix}.\n",
    "$$"
   ]
  },
  {
   "cell_type": "markdown",
   "id": "7acb8c8d",
   "metadata": {
    "editable": true
   },
   "source": [
    "The lowest state has an admixture of basis states given by"
   ]
  },
  {
   "cell_type": "markdown",
   "id": "783b5809",
   "metadata": {
    "editable": true
   },
   "source": [
    "$$\n",
    "\\vert \\psi_0\\rangle = 0.96735\\vert2,-2\\rangle + 0.25221\\vert 2,0\\rangle + 0.02507\\vert 2,2\\rangle,\n",
    "$$"
   ]
  },
  {
   "cell_type": "markdown",
   "id": "80318a1c",
   "metadata": {
    "editable": true
   },
   "source": [
    "with energy $E_0 = -4.21288$.\n",
    "\n",
    "We can now change the parameters to\n",
    "$\\varepsilon = 2$, $V = -4/3$, $W = -1$. Our matrix reads then"
   ]
  },
  {
   "cell_type": "markdown",
   "id": "4ac720e6",
   "metadata": {
    "editable": true
   },
   "source": [
    "$$\n",
    "H_{J=2}^{(2)} =\n",
    "\\begin{pmatrix}\n",
    "-4 & 0 & -4\\sqrt{6}/3 & 0 & 0 \\\\\n",
    "0 & -5 & 0 & -4 & 0 \\\\\n",
    "-4\\sqrt{6}/3 & 0 & -4 & 0 & -4\\sqrt{6}/3 \\\\\n",
    "0 & -4 & 0 & -1 & 0 \\\\\n",
    "0 & 0 & -4\\sqrt{6}/3 & 0 & 4\n",
    "\\end{pmatrix},\n",
    "$$"
   ]
  },
  {
   "cell_type": "markdown",
   "id": "b8cd7965",
   "metadata": {
    "editable": true
   },
   "source": [
    "with the following eigenvalues"
   ]
  },
  {
   "cell_type": "markdown",
   "id": "03e945fb",
   "metadata": {
    "editable": true
   },
   "source": [
    "$$\n",
    "D = \\begin{pmatrix}\n",
    "-7.75122 &  0 &  0 &  0  & 0 \\\\\n",
    "0 & -7.47214  & 0  & 0  & 0 \\\\\n",
    "0 &  0  & -1.55581 &  0  & 0 \\\\\n",
    "0 &  0  & 0  & 1.47214  & 0 \\\\\n",
    "0 &  0  & 0  & 0  & 5.30704\n",
    "\\end{pmatrix}.\n",
    "$$"
   ]
  },
  {
   "cell_type": "markdown",
   "id": "62029a80",
   "metadata": {
    "editable": true
   },
   "source": [
    "The new ground state (lowest state) has the following admixture of computational basis states"
   ]
  },
  {
   "cell_type": "markdown",
   "id": "922ef49d",
   "metadata": {
    "editable": true
   },
   "source": [
    "$$\n",
    "\\vert \\psi_0\\rangle = 0.64268\\vert 2,-2\\rangle + 0.73816\\vert 2,0\\rangle + 0.20515 \\vert 2,2\\rangle,\n",
    "$$"
   ]
  },
  {
   "cell_type": "markdown",
   "id": "5d3b7cae",
   "metadata": {
    "editable": true
   },
   "source": [
    "with energy $E_0 = -7.75122$.\n",
    "\n",
    "For the first set of parameters, the likelihood for observing the\n",
    "system in the computational basis state $\\vert 2,-2 \\rangle$ is rather\n",
    "large. This is expected since the interaction matrix elements are\n",
    "smaller than the single-particle energies.  For the second case, with\n",
    "larger matrix elements, we see a much stronger mixing of the other\n",
    "states, again as expected due to the ratio of the interaction matrix\n",
    "elements and the single-particle energies.\n",
    "\n",
    "**To do: add simple code**"
   ]
  },
  {
   "cell_type": "markdown",
   "id": "7716ad27",
   "metadata": {
    "editable": true
   },
   "source": [
    "## Mean field solution, Hartree-Fock theory  and comparison with exact diagonalization\n",
    "\n",
    "We define now a new basis set (single-particle basis set) given by $\\vert \\phi_{\\alpha,p}\\rangle$\n",
    "given by a unitary transformation of the original single-particle basis states $\\vert u_{\\sigma,p}\\rangle$"
   ]
  },
  {
   "cell_type": "markdown",
   "id": "769b438f",
   "metadata": {
    "editable": true
   },
   "source": [
    "<!-- Equation labels as ordinary links -->\n",
    "<div id=\"_auto3\"></div>\n",
    "\n",
    "$$\n",
    "\\begin{equation}\n",
    "\\ket{\\phi_{\\alpha,p}} = \\sum_{\\sigma = \\pm 1} C_{\\alpha \\sigma} \\ket{u_{\\sigma,p}}.\n",
    "\\label{_auto3} \\tag{28}\n",
    "\\end{equation}\n",
    "$$"
   ]
  },
  {
   "cell_type": "markdown",
   "id": "b7c7a42a",
   "metadata": {
    "editable": true
   },
   "source": [
    "The new states can thus be written as a linear combination of the\n",
    "previous basis states (with fixed $p$). This means that for the new\n",
    "basis states,the qyantum numbers $p$ stay the same since they are just\n",
    "linear combinations of the previous basis states with the same value\n",
    "of $p$.\n",
    "Since the previous basis is defined to be orthogonal, it is\n",
    "straightforward to demonstrate that the new basis has to preserve the\n",
    "orthogonality since we performing a unitary transformation. We will not show that here.\n",
    "\n",
    "A new Slater determinant can be constructed and is given by"
   ]
  },
  {
   "cell_type": "markdown",
   "id": "d21c3ece",
   "metadata": {
    "editable": true
   },
   "source": [
    "<!-- Equation labels as ordinary links -->\n",
    "<div id=\"_auto4\"></div>\n",
    "\n",
    "$$\n",
    "\\begin{equation}\n",
    "\\vert\\Psi\\rangle = \\prod_{p=1}^4 b_{\\alpha,p}^\\dagger \\vert 0\\rangle.\n",
    "\\label{_auto4} \\tag{29}\n",
    "\\end{equation}\n",
    "$$"
   ]
  },
  {
   "cell_type": "markdown",
   "id": "7a3189d5",
   "metadata": {
    "editable": true
   },
   "source": [
    "We can express the new creation (and annihilation operators) $b_{\\alpha,p}^\\dagger$ using $a_{p,\\sigma}^\\dagger$"
   ]
  },
  {
   "cell_type": "markdown",
   "id": "d353d3ff",
   "metadata": {
    "editable": true
   },
   "source": [
    "$$\n",
    "\\vert\\phi_{\\alpha,p}\\rangle = b_{\\alpha,p}^\\dagger \\vert 0\\rangle =\n",
    "\\sum_{\\sigma = \\pm 1} C_{\\alpha \\sigma} \\ket{u_{\\sigma,p}} =\n",
    "\\sum_{\\sigma = \\pm 1} C_{\\alpha \\sigma} a_{p\\sigma}^\\dagger \\vert 0\\rangle =\n",
    "\\left( C_{\\alpha +} a_{p+}^\\dagger + C_{\\alpha -} a_{p-}^\\dagger \\right) \\vert 0\\rangle.\n",
    "$$"
   ]
  },
  {
   "cell_type": "markdown",
   "id": "c7f30f60",
   "metadata": {
    "editable": true
   },
   "source": [
    "With these expressions we can calculate the expecation value of the energy\n",
    "$E = \\langle \\Psi\\vert H \\vert \\Psi\\rangle$, resulting in"
   ]
  },
  {
   "cell_type": "markdown",
   "id": "a853cb01",
   "metadata": {
    "editable": true
   },
   "source": [
    "$$\n",
    "E = \\bra{\\Psi} H \\ket{\\Psi} = \\larngle Psi\\vert ( H_0 + H_1 +H_2) \\vert\\Psir\\rangle,\n",
    "$$"
   ]
  },
  {
   "cell_type": "markdown",
   "id": "b39fa8df",
   "metadata": {
    "editable": true
   },
   "source": [
    "which reads"
   ]
  },
  {
   "cell_type": "markdown",
   "id": "dc35c712",
   "metadata": {
    "editable": true
   },
   "source": [
    "$$\n",
    "E = = 2\\varepsilon |C_{\\alpha +}|^2 - 2 \\varepsilon |C_{\\alpha -}|^2 + \\\\\n",
    "\\frac{1}{2} V \\left( 12(C_{\\alpha +}^*)^2 (C_{\\alpha -})^2 + 12(C_{\\alpha +})^2 (C_{\\alpha -}^*)^2 \\right) +\n",
    "12W|C_{\\alpha +}|^2 |C_{\\alpha -}|^2 .\n",
    "$$"
   ]
  },
  {
   "cell_type": "markdown",
   "id": "8a3defdc",
   "metadata": {
    "editable": true
   },
   "source": [
    "If we assume that the coefficients $C_{\\alpha \\pm}$ are real,  meaning that  $C_{\\alpha \\pm}^* = C_{\\alpha \\pm}$, we obtain"
   ]
  },
  {
   "cell_type": "markdown",
   "id": "f0893122",
   "metadata": {
    "editable": true
   },
   "source": [
    "$$\n",
    "E = = 2\\varepsilon C_{\\alpha +}^2 - 2 \\varepsilon C_{\\alpha -}^2 +\n",
    "12 (V+W) C_{\\alpha +}^2 C_{\\alpha -}^2 .\n",
    "$$"
   ]
  },
  {
   "cell_type": "markdown",
   "id": "ba05adb6",
   "metadata": {
    "editable": true
   },
   "source": [
    "We can now minimize the above equation with respect to the coefficients $C$ and assuming they are real, we obtain (using that\n",
    "$C_{\\alpha +}$ and $C_{\\alpha -}$ are real and that the states  $\\vert \\phi_{\\alpha,p}\\rangle$ are normalized,\n",
    "that $C_{\\alpha +}^2 + C_{\\alpha -}^2 = 1$. Inserted in the expression for the energy we obtain then"
   ]
  },
  {
   "cell_type": "markdown",
   "id": "c6cd578d",
   "metadata": {
    "editable": true
   },
   "source": [
    "$$\n",
    "E = 2\\varepsilon (1 - C_{\\alpha -}^2) - 2 \\varepsilon C_{\\alpha -}^2 +\n",
    "12 (V+W) (1 - C_{\\alpha -}^2) C_{\\alpha -}^2 .\n",
    "$$"
   ]
  },
  {
   "cell_type": "markdown",
   "id": "3678d2dc",
   "metadata": {
    "editable": true
   },
   "source": [
    "We simplify the above expression by defnining $x = C_{\\alpha -}^2$ og minimize the energy with respect to $x$"
   ]
  },
  {
   "cell_type": "markdown",
   "id": "aab2f924",
   "metadata": {
    "editable": true
   },
   "source": [
    "$$\n",
    "\\begin{align*}\n",
    "\\frac{\\partial E}{\\partial x} &= \\frac{\\partial}{\\partial x} \\left[ 2\\varepsilon (1 - x) - 2 \\varepsilon x +\n",
    "12 (V+W) (1 - x) x \\right] \\\\\n",
    "&= -2\\varepsilon -2\\varepsilon + 12(V+W)(-x + 1-x) \\\\\n",
    "&= -4 \\varepsilon + 12(V+W)(1-2x).\n",
    "\\end{align*}\n",
    "$$"
   ]
  },
  {
   "cell_type": "markdown",
   "id": "4c796ebf",
   "metadata": {
    "editable": true
   },
   "source": [
    "We obtain the minima by setting"
   ]
  },
  {
   "cell_type": "markdown",
   "id": "8e8862fd",
   "metadata": {
    "editable": true
   },
   "source": [
    "$$\n",
    "\\frac{\\partial E}{\\partial x} = 0 \\quad \\Rightarrow \\quad -4 \\varepsilon + 12(V+W)(1-2x) = 0,\n",
    "$$"
   ]
  },
  {
   "cell_type": "markdown",
   "id": "05ac03d4",
   "metadata": {
    "editable": true
   },
   "source": [
    "which results in"
   ]
  },
  {
   "cell_type": "markdown",
   "id": "9a39c0b5",
   "metadata": {
    "editable": true
   },
   "source": [
    "$$\n",
    "-\\varepsilon + 3(V+W) = 6(V+W)x \\quad \\Rightarrow \\quad x = \\frac{1}{2} - \\frac{\\varepsilon}{6(V+W)}.\n",
    "$$"
   ]
  },
  {
   "cell_type": "markdown",
   "id": "092a1527",
   "metadata": {
    "editable": true
   },
   "source": [
    "This gives the following values for $C_{\\alpha +}$ and $C_{\\alpha -}$:"
   ]
  },
  {
   "cell_type": "markdown",
   "id": "16ba15db",
   "metadata": {
    "editable": true
   },
   "source": [
    "<!-- Equation labels as ordinary links -->\n",
    "<div id=\"_auto5\"></div>\n",
    "\n",
    "$$\n",
    "\\begin{equation}\n",
    "C_{\\alpha -}^2 = \\frac{1}{2} - \\frac{\\varepsilon}{6(V+W)}, \\quad C_{\\alpha +}^2 = 1 - C_{\\alpha -}^2 = \\frac{1}{2} + \\frac{\\varepsilon}{6(V+W)}.\n",
    "\\label{_auto5} \\tag{30}\n",
    "\\end{equation}\n",
    "$$"
   ]
  },
  {
   "cell_type": "markdown",
   "id": "0e4f61f3",
   "metadata": {
    "editable": true
   },
   "source": [
    "If we have found the energy minimum, this leads to the following stability criteria"
   ]
  },
  {
   "cell_type": "markdown",
   "id": "3b28660f",
   "metadata": {
    "editable": true
   },
   "source": [
    "<!-- Equation labels as ordinary links -->\n",
    "<div id=\"_auto6\"></div>\n",
    "\n",
    "$$\n",
    "\\begin{equation}\n",
    "(V+W) \\leq \\frac{\\varepsilon}{3} \\leq - (V+W),\n",
    "\\label{_auto6} \\tag{31}\n",
    "\\end{equation}\n",
    "$$"
   ]
  },
  {
   "cell_type": "markdown",
   "id": "0ef34f2e",
   "metadata": {
    "editable": true
   },
   "source": [
    "where we have assumed that  $V + W < 0$. If we have $V + W > 0$, we simply get a reversed inequality sign."
   ]
  },
  {
   "cell_type": "markdown",
   "id": "f7167c92",
   "metadata": {
    "editable": true
   },
   "source": [
    "## Variational Quantum Eigensolver\n",
    "\n",
    "One initial algorithm to estimate the eigenenergies of a quantum\n",
    "Hamiltonian was [quantum phase estimation](https://qiskit.org/textbook/ch-algorithms/quantum-phase-estimation.html). In it, one\n",
    "encodes the eigenenergies, one binary bit at a time (up to $n$ bits),\n",
    "into the complex phases of the quantum states of the Hilbert space for\n",
    "$n$ qubits. It does this by applying powers of controlled unitary\n",
    "evolution operators to a quantum state that can be expanded in terms\n",
    "of the Hamiltonian's eigenvectors of interest. The eigenenergies are\n",
    "encoded into the complex phases in such a way that taking the inverse\n",
    "quantum Fourier transformation (see material on Quantum Fourier Transforms) of the states into which the\n",
    "eigen-energies are encoded results in a measurement probability\n",
    "distribution that has peaks around the bit strings that represent a\n",
    "binary fraction which corresponds to the eigen-energies of the quantum\n",
    "state acted upon by the controlled unitary operators. While quantum\n",
    "phase estimation (QPE) is provably efficient, non-hybrid, and\n",
    "non-variational, the number of qubits and length of circuits required\n",
    "is too great for our NISQ era quantum computers. Thus, QPE is only\n",
    "efficiently applicable to large, fault-tolerant quantum computers that\n",
    "likely won't exist in the near, but the far future.\n",
    "\n",
    "Therefore, a different algorithm for finding the eigen-energies of a\n",
    "quantum Hamiltonian was put forth in 2014 called the variational\n",
    "quantum eigensolver, commonly referred to as [VQE](https://arxiv.org/abs/2111.05176). The\n",
    "algorithm is hybrid, meaning that it requires the use of both a\n",
    "quantum computer and a classical computer. It is also variational,\n",
    "meaning that it relies, ultimately, on solving an optimization problem\n",
    "by varying parameters and thus is not as deterministic as QPE. The\n",
    "variational quantum eigensolver is based on the variational principle:\n",
    "The expectation value of a Hamiltonian $H$ in a state\n",
    "$|\\psi(\\theta)\\rangle$ parameterized by a set of angles $\\theta$, is\n",
    "always greater than or equal to the minimum eigen-energy $E_0$. To see\n",
    "this, let $|n\\rangle$ be the eigenstates of $H$, that is"
   ]
  },
  {
   "cell_type": "markdown",
   "id": "788cd669",
   "metadata": {
    "editable": true
   },
   "source": [
    "<!-- Equation labels as ordinary links -->\n",
    "<div id=\"_auto7\"></div>\n",
    "\n",
    "$$\n",
    "\\begin{equation}\n",
    "H|n\\rangle=E_n|n\\rangle.\n",
    "\\label{_auto7} \\tag{32}\n",
    "\\end{equation}\n",
    "$$"
   ]
  },
  {
   "cell_type": "markdown",
   "id": "28b764a7",
   "metadata": {
    "editable": true
   },
   "source": [
    "We can then expand our state $|\\psi(\\theta)\\rangle$ in terms of said eigenstates"
   ]
  },
  {
   "cell_type": "markdown",
   "id": "6aa4b9d3",
   "metadata": {
    "editable": true
   },
   "source": [
    "$$\n",
    "|\\psi(\\theta)\\rangle=\\sum_nc_n|n\\rangle,\n",
    "$$"
   ]
  },
  {
   "cell_type": "markdown",
   "id": "348d2a59",
   "metadata": {
    "editable": true
   },
   "source": [
    "and plug this into the expectation value to yield"
   ]
  },
  {
   "cell_type": "markdown",
   "id": "1d63c8ab",
   "metadata": {
    "editable": true
   },
   "source": [
    "$$\n",
    "\\langle\\psi(\\theta)|H|\\psi(\\theta)\\rangle=\\sum_{nm}c^*_mc_n\\langle m|H|n \\rangle\n",
    "=\\sum_{nm}c^*_mc_nE_n\\langle m|n \\rangle=\\sum_{nm}\\delta_{nm}c^*_mc_nE_n=\\sum_{n}|c_n|^2E_n \\geq E_0\\sum_{n}|c_n|^2=E_0,\n",
    "$$"
   ]
  },
  {
   "cell_type": "markdown",
   "id": "87e7d7b8",
   "metadata": {
    "editable": true
   },
   "source": [
    "which implies that we can minimize over the set of angles $\\theta$ and arrive at the ground state energy $E_0$"
   ]
  },
  {
   "cell_type": "markdown",
   "id": "a00cc5ce",
   "metadata": {
    "editable": true
   },
   "source": [
    "$$\n",
    "\\min_\\theta \\ \\langle\\psi(\\theta)|H|\\psi(\\theta)\\rangle=E_0.\n",
    "$$"
   ]
  },
  {
   "cell_type": "markdown",
   "id": "be91ed10",
   "metadata": {
    "editable": true
   },
   "source": [
    "Using this fact, the VQE algorithm can be broken down into the following steps\n",
    "1. Prepare the variational state $|\\psi(\\theta)\\rangle$ on a quantum computer.\n",
    "\n",
    "2. Measure this circuit in various bases and send these measurements to a classical computer\n",
    "\n",
    "3. The classical computer post-processes the measurement data to compute the expectation value $\\langle\\psi(\\theta)|H|\\psi(\\theta)\\rangle$\n",
    "\n",
    "4. The classical computer varies the parameters $\\theta$ according to a classical minimization algorithm and sends them back to the quantum computer which runs step 1 again.\n",
    "\n",
    "This loop continues until the classical optimization algorithm\n",
    "terminates which results in a set of angles $\\theta_{\\text{min}}$ that\n",
    "characterize the ground state $|\\phi(\\theta_{\\text{min}})\\rangle$ and\n",
    "an estimate for the ground state energy\n",
    "$\\langle\\psi(\\theta_{\\text{min}})|H|\\psi(\\theta_{\\text{min}})\\rangle$."
   ]
  },
  {
   "cell_type": "markdown",
   "id": "ef4ea631",
   "metadata": {
    "editable": true
   },
   "source": [
    "## Expectation values\n",
    "\n",
    "To execute the second step of VQE, we need to understand how\n",
    "expectation values of operators can be estimated via quantum computers\n",
    "by post-processing measurements of quantum circuits in different\n",
    "basis. To rotate bases, one uses the basis rotator $R_\\sigma$ which is\n",
    "defined for each Pauli gate $\\sigma$ to be"
   ]
  },
  {
   "cell_type": "markdown",
   "id": "f1e6e54d",
   "metadata": {
    "editable": true
   },
   "source": [
    "<!-- Equation labels as ordinary links -->\n",
    "<div id=\"_auto8\"></div>\n",
    "\n",
    "$$\n",
    "\\begin{equation}\n",
    "R_{\\sigma} = H,  \\text{if} \\ \\sigma = X \n",
    "\\label{_auto8} \\tag{33}\n",
    "\\end{equation}\n",
    "$$"
   ]
  },
  {
   "cell_type": "markdown",
   "id": "d5480b4b",
   "metadata": {
    "editable": true
   },
   "source": [
    "<!-- Equation labels as ordinary links -->\n",
    "<div id=\"_auto9\"></div>\n",
    "\n",
    "$$\n",
    "\\begin{equation} \n",
    "HS^{\\dagger},  \\text{if} \\ \\sigma = Y \n",
    "\\label{_auto9} \\tag{34}\n",
    "\\end{equation}\n",
    "$$"
   ]
  },
  {
   "cell_type": "markdown",
   "id": "ea687ec1",
   "metadata": {
    "editable": true
   },
   "source": [
    "<!-- Equation labels as ordinary links -->\n",
    "<div id=\"_auto10\"></div>\n",
    "\n",
    "$$\n",
    "\\begin{equation} \n",
    "I,  \\text{if} \\ \\sigma = Z \n",
    "\\label{_auto10} \\tag{35}\n",
    "\\end{equation}\n",
    "$$"
   ]
  },
  {
   "cell_type": "markdown",
   "id": "6ccba82c",
   "metadata": {
    "editable": true
   },
   "source": [
    "<!-- Equation labels as ordinary links -->\n",
    "<div id=\"_auto11\"></div>\n",
    "\n",
    "$$\n",
    "\\begin{equation} \n",
    "\\label{_auto11} \\tag{36}\n",
    "\\end{equation}\n",
    "$$"
   ]
  },
  {
   "cell_type": "markdown",
   "id": "28c76be0",
   "metadata": {
    "editable": true
   },
   "source": [
    "Note the following identity of the basis rotator"
   ]
  },
  {
   "cell_type": "markdown",
   "id": "66e090ec",
   "metadata": {
    "editable": true
   },
   "source": [
    "$$\n",
    "R^\\dagger_\\sigma Z R_\\sigma = \\sigma,\n",
    "$$"
   ]
  },
  {
   "cell_type": "markdown",
   "id": "d0e40e07",
   "metadata": {
    "editable": true
   },
   "source": [
    "which follows from the fact that $HZH=X$ and $SXS^\\dagger=Y$. With this, we see that the expectation value of an arbitrary\n",
    "Pauli-gate $\\sigma$ in the state $\\vert\\psi\\rangle$ can be expressed as a linear combination of probabilities"
   ]
  },
  {
   "cell_type": "markdown",
   "id": "eb546930",
   "metadata": {
    "editable": true
   },
   "source": [
    "$$\n",
    "E_{\\psi}(\\sigma)\n",
    "= \\langle \\psi\\vert\\sigma\\vert\\psi\\rangle \\nonumber\n",
    "$$"
   ]
  },
  {
   "cell_type": "markdown",
   "id": "e739a934",
   "metadata": {
    "editable": true
   },
   "source": [
    "$$\n",
    "=\\langle\\psi\\vert R_{\\sigma}^{\\dagger}ZR_{\\sigma}\\vert\\psi\\rangle =\\langle \\phi\\vert Z\\vert \\phi\\rangle \\nonumber\n",
    "$$"
   ]
  },
  {
   "cell_type": "markdown",
   "id": "b01d2aaf",
   "metadata": {
    "editable": true
   },
   "source": [
    "$$\n",
    "=\\langle\\phi\\vert\\left(\\sum_{x\\in\\{0,1\\}}(-1)^x\\vert x\\rangle\\langle x\\vert\\right)\\vert\\phi\\rangle \\nonumber\n",
    "$$"
   ]
  },
  {
   "cell_type": "markdown",
   "id": "3234ac21",
   "metadata": {
    "editable": true
   },
   "source": [
    "$$\n",
    "=\\sum_{x\\in\\{0,1\\}}(-1)^x\\vert\\langle x\\vert \\phi\\rangle\\vert^2\\nonumber\n",
    "$$"
   ]
  },
  {
   "cell_type": "markdown",
   "id": "cc1e6b35",
   "metadata": {
    "editable": true
   },
   "source": [
    "<!-- Equation labels as ordinary links -->\n",
    "<div id=\"_auto12\"></div>\n",
    "\n",
    "$$\n",
    "\\begin{equation} \n",
    "=\\sum_{x\\in\\{0,1\\}}(-1)^xP(\\vert \\phi\\rangle\\to\\vert x\\rangle),\n",
    "\\label{_auto12} \\tag{37}\n",
    "\\end{equation}\n",
    "$$"
   ]
  },
  {
   "cell_type": "markdown",
   "id": "738c19bf",
   "metadata": {
    "editable": true
   },
   "source": [
    "where $\\vert \\phi\\rangle=\\vert R_\\sigma\\phi\\rangle$ and\n",
    "$P(\\vert \\phi\\rangle\\to\\vert x\\rangle$ is the probability that the state\n",
    "$\\vert \\phi\\rangle$ collapses to the state $\\vert x\\rangle$ when measured. This can\n",
    "be extended to any arbitrary Pauli string: consider the string of\n",
    "Pauli operators $P=\\bigotimes_{p\\in Q}\\sigma_p$ which acts\n",
    "non-trivially on the set of qubits $Q$ which is a subset of the total\n",
    "set of $n$ qubits in the system. Then"
   ]
  },
  {
   "cell_type": "markdown",
   "id": "c434ddd7",
   "metadata": {
    "editable": true
   },
   "source": [
    "$$\n",
    "E_{\\psi}\\left(P\\right)\n",
    "=\\langle \\psi\\vert\\left(\\bigotimes_{p\\in Q}\\sigma_p\\right)\\vert \\psi\\rangle \\nonumber\n",
    "$$"
   ]
  },
  {
   "cell_type": "markdown",
   "id": "6e55c4da",
   "metadata": {
    "editable": true
   },
   "source": [
    "$$\n",
    "=\\langle \\psi\\vert\\left(\\bigotimes_{p\\in Q}\\sigma_p\\right)\n",
    "\\left(\\bigotimes_{q\\notin Q}I_q\\right)\\vert \\psi\\rangle \\nonumber\n",
    "$$"
   ]
  },
  {
   "cell_type": "markdown",
   "id": "853ec9fa",
   "metadata": {
    "editable": true
   },
   "source": [
    "$$\n",
    "=\\langle \\psi\\vert\\left(\\bigotimes_{p \\in Q}R_{\\sigma_p}^{\\dagger}Z_pR_{\\sigma_p}\\right)\n",
    "\\left(\\bigotimes_{q\\notin Q}I_q\\right)\\vert \\psi\\rangle \\nonumber\n",
    "$$"
   ]
  },
  {
   "cell_type": "markdown",
   "id": "d9db3875",
   "metadata": {
    "editable": true
   },
   "source": [
    "$$\n",
    "=\n",
    "\\langle \\psi\\vert\\left(\\bigotimes_{p \\in Q}R_{\\sigma_p}^{\\dagger}\\right)\n",
    "\\left(\\bigotimes_{p \\in Q}Z_p\\right)\n",
    "\\left(\\bigotimes_{q\\notin Q}I_q\\right)\n",
    "\\left(\\bigotimes_{p \\in Q}R_{\\sigma_p}\\right)\\vert \\psi\\rangle \\nonumber\n",
    "$$"
   ]
  },
  {
   "cell_type": "markdown",
   "id": "97bee9ce",
   "metadata": {
    "editable": true
   },
   "source": [
    "$$\n",
    "=\n",
    "\\langle \\phi\\vert\n",
    "\\left(\\bigotimes_{p \\in Q}Z_p\\right)\n",
    "\\left(\\bigotimes_{q\\notin Q}I_q\\right)\n",
    "\\vert \\phi\\rangle \\nonumber\n",
    "$$"
   ]
  },
  {
   "cell_type": "markdown",
   "id": "a301ac03",
   "metadata": {
    "editable": true
   },
   "source": [
    "$$\n",
    "=\n",
    "\\langle \\phi\\vert\n",
    "\\left(\\bigotimes_{p\\in Q}\\sum_{x_p\\in\\{0_p,1_p\\}}(-1)^{x_p}\\vert x_p\\rangle\\langle x_p\\vert\\right)\n",
    "\\left(\\bigotimes_{q\\notin Q}\\sum_{y_q\\in\\{0_q,1_q\\}}\\vert y_q\\rangle\\langle y_q\\vert\\right)\n",
    "\\vert \\phi\\rangle \n",
    "\\nonumber\n",
    "$$"
   ]
  },
  {
   "cell_type": "markdown",
   "id": "8020029a",
   "metadata": {
    "editable": true
   },
   "source": [
    "$$\n",
    "=\n",
    "\\langle \\phi\\vert\n",
    "\\left(\\sum_{x\\in\\{0,1\\}^n}(-1)^{\\sum_{p\\in Q}x_p}\\vert x\\rangle\\langle x\\vert\\right)\n",
    "\\vert \\phi\\rangle \n",
    "\\nonumber\n",
    "$$"
   ]
  },
  {
   "cell_type": "markdown",
   "id": "af26109d",
   "metadata": {
    "editable": true
   },
   "source": [
    "$$\n",
    "=\n",
    "\\sum_{x\\in\\{0,1\\}^n}(-1)^{\\sum_{p\\in Q}x_p}\\vert\\langle x\\vert\\vert \\phi\\rangle\\vert^2\n",
    "\\nonumber\n",
    "$$"
   ]
  },
  {
   "cell_type": "markdown",
   "id": "c2df66c1",
   "metadata": {
    "editable": true
   },
   "source": [
    "<!-- Equation labels as ordinary links -->\n",
    "<div id=\"_auto13\"></div>\n",
    "\n",
    "$$\n",
    "\\begin{equation} \n",
    "=\n",
    "\\sum_{x\\in\\{0,1\\}^n}(-1)^{\\sum_{p\\in Q}x_p}P(\\vert \\phi\\rangle\\to\\vert x\\rangle),\n",
    "\\label{_auto13} \\tag{38}\n",
    "\\end{equation}\n",
    "$$"
   ]
  },
  {
   "cell_type": "markdown",
   "id": "84173064",
   "metadata": {
    "editable": true
   },
   "source": [
    "where $\\vert \\phi\\rangle=\\vert \\bigotimes_{p\\in\n",
    "Q}R_{\\sigma_p}\\psi\\rangle$. Finally, because the expectation value is\n",
    "linear"
   ]
  },
  {
   "cell_type": "markdown",
   "id": "7d52a157",
   "metadata": {
    "editable": true
   },
   "source": [
    "<!-- Equation labels as ordinary links -->\n",
    "<div id=\"_auto14\"></div>\n",
    "\n",
    "$$\n",
    "\\begin{equation}\n",
    "E_\\psi\\left(\\sum_{m}\\lambda_mP_m\\right) = \\sum_m\\lambda_mE_\\psi(P_m),\n",
    "\\label{_auto14} \\tag{39}\n",
    "\\end{equation}\n",
    "$$"
   ]
  },
  {
   "cell_type": "markdown",
   "id": "3c1e432d",
   "metadata": {
    "editable": true
   },
   "source": [
    "one can estimate any observable that can be written as a linear combination of Pauli-string terms."
   ]
  },
  {
   "cell_type": "markdown",
   "id": "7d3c2562",
   "metadata": {
    "editable": true
   },
   "source": [
    "## Measurement\n",
    "\n",
    "To estimate the probability $P(\\vert \\phi\\rangle\\to \\vert x\\rangle)$ from the\n",
    "previous section, one prepares the state $\\vert \\phi\\rangle$ on a quantum\n",
    "computer and measures it, and then repeats this process (prepare and\n",
    "measure) several times. The probability $P(\\vert \\phi\\rangle\\to \\vert x\\rangle)$ is\n",
    "estimated to be the number of times that one measures the bit-string\n",
    "$x$ divided by the total number of measurements that one makes; that"
   ]
  },
  {
   "cell_type": "markdown",
   "id": "b0d3ac29",
   "metadata": {
    "editable": true
   },
   "source": [
    "<!-- Equation labels as ordinary links -->\n",
    "<div id=\"_auto15\"></div>\n",
    "\n",
    "$$\n",
    "\\begin{equation}\n",
    "P(\\vert \\phi\\rangle\\to \\vert x\\rangle\\rangle \\approx \\sum_{m=1}^M\\frac{x_m}{M},\n",
    "\\label{_auto15} \\tag{40}\n",
    "\\end{equation}\n",
    "$$"
   ]
  },
  {
   "cell_type": "markdown",
   "id": "ced1d5b1",
   "metadata": {
    "editable": true
   },
   "source": [
    "where"
   ]
  },
  {
   "cell_type": "markdown",
   "id": "fbd1b039",
   "metadata": {
    "editable": true
   },
   "source": [
    "<!-- Equation labels as ordinary links -->\n",
    "<div id=\"_auto16\"></div>\n",
    "\n",
    "$$\n",
    "\\begin{equation}\n",
    "x_m\n",
    "=1  \\text{if the result of measurement is $x$} \n",
    "\\label{_auto16} \\tag{41}\n",
    "\\end{equation}\n",
    "$$"
   ]
  },
  {
   "cell_type": "markdown",
   "id": "c0b3081a",
   "metadata": {
    "editable": true
   },
   "source": [
    "<!-- Equation labels as ordinary links -->\n",
    "<div id=\"_auto17\"></div>\n",
    "\n",
    "$$\n",
    "\\begin{equation} \n",
    "0  \\text{if the result of measurement is not $x$}.\n",
    "\\label{_auto17} \\tag{42}\n",
    "\\end{equation}\n",
    "$$"
   ]
  },
  {
   "cell_type": "markdown",
   "id": "9b07a688",
   "metadata": {
    "editable": true
   },
   "source": [
    "By the law of large numbers the approximation approaches equality as\n",
    "$M$ goes to infinity"
   ]
  },
  {
   "cell_type": "markdown",
   "id": "3c255298",
   "metadata": {
    "editable": true
   },
   "source": [
    "<!-- Equation labels as ordinary links -->\n",
    "<div id=\"_auto18\"></div>\n",
    "\n",
    "$$\n",
    "\\begin{equation}\n",
    "P(\\vert \\phi\\rangle\\to \\vert x\\rangle) = \\lim_{M\\to\\infty}\\sum_{m=1}^M\\frac{x_m}{M}.\n",
    "\\label{_auto18} \\tag{43}\n",
    "\\end{equation}\n",
    "$$"
   ]
  },
  {
   "cell_type": "markdown",
   "id": "3c8d4870",
   "metadata": {
    "editable": true
   },
   "source": [
    "As we obviously do not have infinite time nor infinite quantum\n",
    "computers (which could be run in parallel), we must truncate our\n",
    "number of measurement $M$ to a finite, but sufficiently large\n",
    "number. More precisely, for precision $\\epsilon$, each expectation\n",
    "estimation subroutine within VQE requires $\\mathcal{O}(1/\\epsilon^2)$\n",
    "samples from circuits with depth $\\mathcal{O}(1)$.\n",
    "\n",
    "**Lecture next week we continue  the discussion of the VQE and the Lipkin model.**\n",
    "\n",
    "1. Discussion of the project\n",
    "\n",
    "2. VQE examples and discussion of results"
   ]
  }
 ],
 "metadata": {},
 "nbformat": 4,
 "nbformat_minor": 5
}
