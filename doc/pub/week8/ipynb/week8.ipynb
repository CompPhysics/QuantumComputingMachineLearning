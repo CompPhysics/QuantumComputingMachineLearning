{
 "cells": [
  {
   "cell_type": "markdown",
   "id": "bf7f51c9",
   "metadata": {
    "editable": true
   },
   "source": [
    "<!-- HTML file automatically generated from DocOnce source (https://github.com/doconce/doconce/)\n",
    "doconce format html week8.do.txt --no_mako -->\n",
    "<!-- dom:TITLE: March 13-17,2023: Quantum Computing, Quantum Machine Learning and Quantum Information Theories -->"
   ]
  },
  {
   "cell_type": "markdown",
   "id": "3322a3e8",
   "metadata": {
    "editable": true
   },
   "source": [
    "# March 13-17,2023: Quantum Computing, Quantum Machine Learning and Quantum Information Theories\n",
    "**Morten Hjorth-Jensen**, Department of Physics, University of Oslo and Department of Physics and Astronomy and National Superconducting Cyclotron Laboratory, Michigan State University\n",
    "\n",
    "Date: **Mar 20, 2023**\n",
    "\n",
    "Copyright 1999-2023, Morten Hjorth-Jensen. Released under CC Attribution-NonCommercial 4.0 license"
   ]
  },
  {
   "cell_type": "markdown",
   "id": "7490f688",
   "metadata": {
    "editable": true
   },
   "source": [
    "## Solving quantum mechanical problems\n",
    "\n",
    "1. Simple Hamiltonian, the Lipkin model\n",
    "\n",
    "2. Introducing the Variational Quantum Eigensolver (VQE)\n",
    "\n",
    "* [Video of lecture](https://youtu.be/ffIwxiUJGT4)"
   ]
  },
  {
   "cell_type": "markdown",
   "id": "0bedf43b",
   "metadata": {
    "editable": true
   },
   "source": [
    "## Simple Hamiltonian, the Lipkin model\n",
    "\n",
    "We will study a schematic model (the Lipkin model, see Nuclear\n",
    "Physics **62** (1965) 188), for the interaction among  $2$ and more \n",
    "fermions that can occupy two different energy levels. For four fermions, the case we consider first here, each levels has degeneration $d=4$. The two levels have quantum numbers $\\sigma=\\pm 1$,\n",
    "with the upper level having  $\\sigma=+1$ and energy\n",
    "$\\varepsilon_{1}=\n",
    "\\varepsilon/2$. The lower level  has $\\sigma=-1$ and energy\n",
    "$\\varepsilon_{2}=-\\varepsilon/2$. \n",
    "In addition, the substates  of each level are characterized  \n",
    "by the quantum numbers $p=1,2,3,4$.\n",
    "\n",
    "We define the single-particle states (for the four fermion case which we will work on here)"
   ]
  },
  {
   "cell_type": "markdown",
   "id": "6359dacf",
   "metadata": {
    "editable": true
   },
   "source": [
    "$$\n",
    "\\vert u_{\\sigma =-1,p}\\rangle=a_{-p}^{\\dagger}\\vert 0\\rangle\n",
    "\\hspace{1cm}\n",
    "\\vert u_{\\sigma =1,p}\\rangle=a_{+p}^{\\dagger}\\vert 0\\rangle.\n",
    "$$"
   ]
  },
  {
   "cell_type": "markdown",
   "id": "2f79fa8d",
   "metadata": {
    "editable": true
   },
   "source": [
    "The single-particle states span an orthonormal basis.\n",
    "The Hamiltonian of the system is given by"
   ]
  },
  {
   "cell_type": "markdown",
   "id": "a77b5c85",
   "metadata": {
    "editable": true
   },
   "source": [
    "$$\n",
    "\\begin{array}{ll}\n",
    "\\hat{H}=&\\hat{H}_{0}+\\hat{H}_{1}+\\hat{H}_{2}\\\\\n",
    "&\\\\\n",
    "\\hat{H}_{0}=&\\frac{1}{2}\\varepsilon\\sum_{\\sigma ,p}\\sigma\n",
    "a_{\\sigma,p}^{\\dagger}a_{\\sigma ,p}\\\\\n",
    "&\\\\\n",
    "\\hat{H}_{1}=&\\frac{1}{2}V\\sum_{\\sigma ,p,p'}\n",
    "a_{\\sigma,p}^{\\dagger}a_{\\sigma ,p'}^{\\dagger}\n",
    "a_{-\\sigma ,p'}a_{-\\sigma ,p}\\\\\n",
    "&\\\\\n",
    "\\hat{H}_{2}=&\\frac{1}{2}W\\sum_{\\sigma ,p,p'}\n",
    "a_{\\sigma,p}^{\\dagger}a_{-\\sigma ,p'}^{\\dagger}\n",
    "a_{\\sigma ,p'}a_{-\\sigma ,p}\\\\\n",
    "&\\\\\n",
    "\\end{array}\n",
    "$$"
   ]
  },
  {
   "cell_type": "markdown",
   "id": "73742271",
   "metadata": {
    "editable": true
   },
   "source": [
    "where $V$ and $W$ are constants. The operator \n",
    "$H_{1}$ can move pairs of fermions\n",
    "while $H_{2}$ is a spin-exchange term. The latter\n",
    "moves a pair of fermions from a state $(p\\sigma ,p' -\\sigma)$ to a state\n",
    "$(p-\\sigma ,p'\\sigma)$.\n",
    "\n",
    "We are going to rewrite the above Hamiltonian in terms of so-called  quasispin operators"
   ]
  },
  {
   "cell_type": "markdown",
   "id": "576be2b2",
   "metadata": {
    "editable": true
   },
   "source": [
    "$$\n",
    "\\begin{array}{ll}\n",
    "\\hat{J}_{+}=&\\sum_{p}\n",
    "a_{p+}^{\\dagger}a_{p-}\\\\\n",
    "&\\\\\n",
    "\\hat{J}_{-}=&\\sum_{p}\n",
    "a_{p-}^{\\dagger}a_{p+}\\\\\n",
    "&\\\\\n",
    "\\hat{J}_{z}=&\\frac{1}{2}\\sum_{p\\sigma}\\sigma\n",
    "a_{p\\sigma}^{\\dagger}a_{p\\sigma}\\\\\n",
    "&\\\\\n",
    "\\hat{J}^{2}=&J_{+}J_{-}+J_{z}^{2}-J_{z}\\\\\n",
    "&\\\\\n",
    "\\end{array}\n",
    "$$"
   ]
  },
  {
   "cell_type": "markdown",
   "id": "13f21ab4",
   "metadata": {
    "editable": true
   },
   "source": [
    "We show here that these operators obey the commutation relations for angular momentum.\n",
    "\n",
    "We can in turn express $\\hat{H}$ in terms of the above quasispin operators and the number operator"
   ]
  },
  {
   "cell_type": "markdown",
   "id": "5b17bc14",
   "metadata": {
    "editable": true
   },
   "source": [
    "$$\n",
    "\\hat{N}=\\sum_{p\\sigma}\n",
    "a_{p\\sigma}^{\\dagger}a_{p\\sigma}.\n",
    "$$"
   ]
  },
  {
   "cell_type": "markdown",
   "id": "ed3f861c",
   "metadata": {
    "editable": true
   },
   "source": [
    "We have the following quasispin operators"
   ]
  },
  {
   "cell_type": "markdown",
   "id": "6e262e80",
   "metadata": {
    "editable": true
   },
   "source": [
    "<!-- Equation labels as ordinary links -->\n",
    "<div id=\"eq:Jpm\"></div>\n",
    "\n",
    "$$\n",
    "\\begin{equation}\n",
    "J_{\\pm} = \\sum_p a_{p\\pm}^\\dagger a_{p\\mp},\n",
    "\\label{eq:Jpm} \\tag{1} \n",
    "\\end{equation}\n",
    "$$"
   ]
  },
  {
   "cell_type": "markdown",
   "id": "3302b28d",
   "metadata": {
    "editable": true
   },
   "source": [
    "<!-- Equation labels as ordinary links -->\n",
    "<div id=\"eq:Jz\"></div>\n",
    "\n",
    "$$\n",
    "\\begin{equation} \n",
    "J_{z} = \\frac{1}{2}\\sum_{p,\\sigma} \\sigma a_{p\\sigma}^\\dagger a_{p\\sigma},\n",
    "\\label{eq:Jz} \\tag{2} \n",
    "\\end{equation}\n",
    "$$"
   ]
  },
  {
   "cell_type": "markdown",
   "id": "b4443731",
   "metadata": {
    "editable": true
   },
   "source": [
    "<!-- Equation labels as ordinary links -->\n",
    "<div id=\"eq:J2\"></div>\n",
    "\n",
    "$$\n",
    "\\begin{equation} \n",
    "J^{2} = J_+ J_- + J_z^2 - J_z,\n",
    "\\label{eq:J2} \\tag{3}\n",
    "\\end{equation}\n",
    "$$"
   ]
  },
  {
   "cell_type": "markdown",
   "id": "0d777773",
   "metadata": {
    "editable": true
   },
   "source": [
    "and we want to compute the commutators"
   ]
  },
  {
   "cell_type": "markdown",
   "id": "d4a38870",
   "metadata": {
    "editable": true
   },
   "source": [
    "$$\n",
    "[J_z,J_\\pm], \\quad [J_+,J_-], \\quad [J^2,J_\\pm] \\quad \\text{og} \\quad \n",
    "[J^2,J_z].\n",
    "$$"
   ]
  },
  {
   "cell_type": "markdown",
   "id": "7216d4e9",
   "metadata": {
    "editable": true
   },
   "source": [
    "Let us start with the first one and inserting for  $J_z$ and $J_\\pm$ given by the equations ([2](#eq:Jz)) and ([1](#eq:Jpm)), respectively, we obtain"
   ]
  },
  {
   "cell_type": "markdown",
   "id": "a14c798e",
   "metadata": {
    "editable": true
   },
   "source": [
    "$$\n",
    "\\begin{align*}\n",
    "[J_z,J_\\pm] &= J_z J_\\pm - J_\\pm J_z \\\\\n",
    "%\n",
    "&= \\left( \\frac{1}{2}\\sum_{p,\\sigma} \\sigma a_{p\\sigma}^\\dagger a_{p\\sigma} \\right)\n",
    "\\left( \\sum_{p'} a_{p'\\pm}^\\dagger a_{p'\\mp} \\right) -\n",
    "\\left( \\sum_{p'} a_{p'\\pm}^\\dagger a_{p'\\mp} \\right)\n",
    "\\left( \\frac{1}{2}\\sum_{p,\\sigma} \\sigma a_{p\\sigma}^\\dagger a_{p\\sigma} \\right) \\\\\n",
    "&= \\frac{1}{2} \\sum_{p,p',\\sigma} \\sigma \\left( a_{p\\sigma}^\\dagger a_{p\\sigma} a_{p'\\pm}^\\dagger a_{p'\\mp} - a_{p'\\pm}^\\dagger a_{p'\\mp} a_{p\\sigma}^\\dagger a_{p\\sigma} \\right).\n",
    "\\end{align*}\n",
    "$$"
   ]
  },
  {
   "cell_type": "markdown",
   "id": "bd5233a4",
   "metadata": {
    "editable": true
   },
   "source": [
    "Using the commutation relations for the creation and annihilation operators"
   ]
  },
  {
   "cell_type": "markdown",
   "id": "659dbab0",
   "metadata": {
    "editable": true
   },
   "source": [
    "<!-- Equation labels as ordinary links -->\n",
    "<div id=\"eq:al,ak\"></div>\n",
    "\n",
    "$$\n",
    "\\begin{equation}\n",
    "\\{ a_l,a_k \\} = 0, \\label{eq:al,ak} \\tag{4} \n",
    "\\end{equation}\n",
    "$$"
   ]
  },
  {
   "cell_type": "markdown",
   "id": "ccbe6a03",
   "metadata": {
    "editable": true
   },
   "source": [
    "<!-- Equation labels as ordinary links -->\n",
    "<div id=\"eq:ald,akd\"></div>\n",
    "\n",
    "$$\n",
    "\\begin{equation} \n",
    "\\{ a_l^\\dagger , a_k^\\dagger \\} = 0, \\label{eq:ald,akd} \\tag{5} \n",
    "\\end{equation}\n",
    "$$"
   ]
  },
  {
   "cell_type": "markdown",
   "id": "09f5eccf",
   "metadata": {
    "editable": true
   },
   "source": [
    "<!-- Equation labels as ordinary links -->\n",
    "<div id=\"eq:ald,ak\"></div>\n",
    "\n",
    "$$\n",
    "\\begin{equation} \n",
    "\\{ a_l^\\dagger , a_k \\} = \\delta_{lk}, \\label{eq:ald,ak} \\tag{6}\n",
    "\\end{equation}\n",
    "$$"
   ]
  },
  {
   "cell_type": "markdown",
   "id": "a3279b49",
   "metadata": {
    "editable": true
   },
   "source": [
    "in order to move the operators in the right product to be in the same order as those in the lefthand product"
   ]
  },
  {
   "cell_type": "markdown",
   "id": "198afec0",
   "metadata": {
    "editable": true
   },
   "source": [
    "$$\n",
    "\\begin{align*}\n",
    "[J_z,J_\\pm] &= \\frac{1}{2} \\sum_{p,p',\\sigma} \\sigma \\left(\n",
    "a_{p\\sigma}^\\dagger a_{p\\sigma} a_{p'\\pm}^\\dagger a_{p'\\mp} -\n",
    "a_{p'\\pm}^\\dagger \\left( \\delta_{p' p} \\delta_{\\mp \\sigma} - a_{p\\sigma}^\\dagger a_{p'\\mp} \\right) a_{p\\sigma} \\right) \\\\\n",
    "&= \\frac{1}{2} \\sum_{p,p',\\sigma} \\sigma \\left(\n",
    "a_{p\\sigma}^\\dagger a_{p\\sigma} a_{p'\\pm}^\\dagger a_{p'\\mp} -\n",
    "a_{p'\\pm}^\\dagger \\delta_{p' p} \\delta_{\\mp \\sigma} a_{p\\sigma} +\n",
    "a_{p'\\pm}^\\dagger a_{p\\sigma}^\\dagger a_{p'\\mp} a_{p\\sigma} \\right), \\\\\n",
    "\\end{align*}\n",
    "$$"
   ]
  },
  {
   "cell_type": "markdown",
   "id": "776771a4",
   "metadata": {
    "editable": true
   },
   "source": [
    "which results in"
   ]
  },
  {
   "cell_type": "markdown",
   "id": "fbddbe6d",
   "metadata": {
    "editable": true
   },
   "source": [
    "$$\n",
    "\\begin{align*}\n",
    "[J_z,J_\\pm]\n",
    "&= \\frac{1}{2} \\sum_{p,p',\\sigma} \\sigma \\left(\n",
    "a_{p\\sigma}^\\dagger a_{p\\sigma} a_{p'\\pm}^\\dagger a_{p'\\mp} -\n",
    "a_{p'\\pm}^\\dagger \\delta_{pp'} \\delta_{\\mp \\sigma} a_{p\\sigma} +\n",
    "a_{p\\sigma}^\\dagger a_{p'\\pm}^\\dagger a_{p\\sigma} a_{p'\\mp} \\right) \\\\\n",
    "&= \\frac{1}{2} \\sum_{p,p',\\sigma} \\sigma \\left(\n",
    "a_{p\\sigma}^\\dagger a_{p\\sigma} a_{p'\\pm}^\\dagger a_{p'\\mp} -\n",
    "a_{p'\\pm}^\\dagger \\delta_{pp'} \\delta_{\\mp \\sigma} a_{p\\sigma} +\n",
    "a_{p\\sigma}^\\dagger \\left( \\delta_{pp'} \\delta_{\\pm \\sigma} - a_{p\\sigma} a_{p'\\pm}^\\dagger \\right) a_{p'\\mp} \\right) \\\\\n",
    "&= \\frac{1}{2} \\sum_{p,p',\\sigma} \\sigma \\left(\n",
    "a_{p\\sigma}^\\dagger \\delta_{pp'} \\delta_{\\pm \\sigma} a_{p'\\mp} -\n",
    "a_{p'\\pm}^\\dagger \\delta_{pp'} \\delta_{\\mp \\sigma} a_{p\\sigma} \\right). \\\\\n",
    "\\end{align*}\n",
    "$$"
   ]
  },
  {
   "cell_type": "markdown",
   "id": "0e03376f",
   "metadata": {
    "editable": true
   },
   "source": [
    "The last equality leads to"
   ]
  },
  {
   "cell_type": "markdown",
   "id": "83158103",
   "metadata": {
    "editable": true
   },
   "source": [
    "$$\n",
    "\\begin{align*}\n",
    "[J_z,J_\\pm] &= \\frac{1}{2} \\sum_p \\left(\n",
    "(\\pm 1) a_{p\\pm}^\\dagger a_{p\\mp} - (\\mp 1)\n",
    "a_{p\\pm}^\\dagger a_{p\\mp} \\right) =\n",
    "\\pm \\frac{1}{2} \\sum_p \\left(\n",
    "a_{p\\pm}^\\dagger a_{p\\mp} + (\\pm 1)\n",
    "a_{p\\pm}^\\dagger a_{p\\mp} \\right) \\\\\n",
    "&= \\pm \\sum_p a_{p\\pm}^\\dagger a_{p\\mp} = \\pm J_\\pm,\n",
    "\\end{align*}\n",
    "$$"
   ]
  },
  {
   "cell_type": "markdown",
   "id": "e52f2f8b",
   "metadata": {
    "editable": true
   },
   "source": [
    "where the last results follows from comparing with Eq. ([1](#eq:Jpm)).\n",
    "\n",
    "We can then continue with the next commutation relation, using Eq. ([1](#eq:Jpm)),"
   ]
  },
  {
   "cell_type": "markdown",
   "id": "77bd6e15",
   "metadata": {
    "editable": true
   },
   "source": [
    "$$\n",
    "\\begin{align*}\n",
    "[J_+,J_-] &= J_+ J_- - J_- J_+ \\\\\n",
    "&= \\left( \\sum_p a_{p'+}^\\dagger a_{p-} \\right)\n",
    "\\left( \\sum_{p'} a_{p'-}^\\dagger a_{p'+} \\right) -\n",
    "\\left( \\sum_{p'} a_{p'-}^\\dagger a_{p'+} \\right)\n",
    "\\left( \\sum_p a_{p+}^\\dagger a_{p-} \\right) \\\\\n",
    "&= \\sum_{p,p'} \\left(\n",
    "a_{p'+}^\\dagger a_{p-} a_{p'-}^\\dagger a_{p'+} -\n",
    "a_{p'-}^\\dagger a_{p'+} a_{p+}^\\dagger a_{p-} \\right) \\\\\n",
    "&= \\sum_{p,p'} \\left(\n",
    "a_{p'+}^\\dagger a_{p-} a_{p'-}^\\dagger a_{p'+} -\n",
    "a_{p'-}^\\dagger \\left( \\delta_{++} \\delta_{pp'} -\n",
    "a_{p+}^\\dagger a_{p'+} \\right) a_{p-} \\right) \\\\\n",
    "&= \\sum_{p,p'} \\left(\n",
    "a_{p'+}^\\dagger a_{p-} a_{p'-}^\\dagger a_{p'+} -\n",
    "a_{p'-}^\\dagger \\delta_{pp'} a_{p-} +\n",
    "a_{p'-}^\\dagger a_{p+}^\\dagger a_{p'+} a_{p-} \\right) \\\\\n",
    "&= \\sum_{p,p'} \\left(\n",
    "a_{p'+}^\\dagger a_{p-} a_{p'-}^\\dagger a_{p'+} -\n",
    "a_{p'-}^\\dagger \\delta_{pp'} a_{p-} +\n",
    "a_{p+}^\\dagger a_{p'-}^\\dagger a_{p-} a_{p'+} \\right) \\\\\n",
    "&= \\sum_{p,p'} \\left(\n",
    "a_{p'+}^\\dagger a_{p-} a_{p'-}^\\dagger a_{p'+} -\n",
    "a_{p'-}^\\dagger \\delta_{pp'} a_{p-} +\n",
    "a_{p+}^\\dagger \\left( \\delta_{--} \\delta_{pp'} -\n",
    "a_{p-} a_{p'-}^\\dagger \\right) a_{p'+} \\right) \\\\\n",
    "&= \\sum_{p,p'} \\left(\n",
    "a_{p+}^\\dagger \\delta_{pp'} a_{p'+} -\n",
    "a_{p'-}^\\dagger \\delta_{pp'} a_{p-} \\right), \\\\\n",
    "\\end{align*}\n",
    "$$"
   ]
  },
  {
   "cell_type": "markdown",
   "id": "79bc83ef",
   "metadata": {
    "editable": true
   },
   "source": [
    "which results in"
   ]
  },
  {
   "cell_type": "markdown",
   "id": "5b562bdc",
   "metadata": {
    "editable": true
   },
   "source": [
    "$$\n",
    "[J_+,J_-] = \\sum_p \\left(\n",
    "a_{p+}^\\dagger a_{p+} -\n",
    "a_{p-}^\\dagger a_{p-} \\right) = 2J_z,\n",
    "$$"
   ]
  },
  {
   "cell_type": "markdown",
   "id": "a81494a4",
   "metadata": {
    "editable": true
   },
   "source": [
    "It is straightforward to show that"
   ]
  },
  {
   "cell_type": "markdown",
   "id": "0548eda4",
   "metadata": {
    "editable": true
   },
   "source": [
    "$$\n",
    "[J^2, J_\\pm] = [J_+ J_- + J_z^2 - J_z, J_\\pm] =\n",
    "[J_+ J_-, J_\\pm] + [J_z^2, J_\\pm] - [J_z, J_\\pm].\n",
    "$$"
   ]
  },
  {
   "cell_type": "markdown",
   "id": "52551c9f",
   "metadata": {
    "editable": true
   },
   "source": [
    "Using the relations"
   ]
  },
  {
   "cell_type": "markdown",
   "id": "c375ffbf",
   "metadata": {
    "editable": true
   },
   "source": [
    "<!-- Equation labels as ordinary links -->\n",
    "<div id=\"eq:ab,c\"></div>\n",
    "\n",
    "$$\n",
    "\\begin{equation}\n",
    "[AB,C] = A[B,C] + [A,C]B, \\label{eq:ab,c} \\tag{7} \n",
    "\\end{equation}\n",
    "$$"
   ]
  },
  {
   "cell_type": "markdown",
   "id": "6c495bb8",
   "metadata": {
    "editable": true
   },
   "source": [
    "<!-- Equation labels as ordinary links -->\n",
    "<div id=\"eq:a,bc\"></div>\n",
    "\n",
    "$$\n",
    "\\begin{equation} \n",
    "[A,BC] = [A,B]C + B[A,C], \\label{eq:a,bc} \\tag{8}\n",
    "\\end{equation}\n",
    "$$"
   ]
  },
  {
   "cell_type": "markdown",
   "id": "13bcde85",
   "metadata": {
    "editable": true
   },
   "source": [
    "we obtain"
   ]
  },
  {
   "cell_type": "markdown",
   "id": "c5ed1b95",
   "metadata": {
    "editable": true
   },
   "source": [
    "$$\n",
    "[J^2, J_\\pm] =\n",
    "J_+ [J_-,J_\\pm] + [J_+,J_\\pm] J_- + J_z [J_z,J_\\pm] + [J_z,J_\\pm] J_z - [J_z,J_\\pm].\n",
    "$$"
   ]
  },
  {
   "cell_type": "markdown",
   "id": "c2b03c2d",
   "metadata": {
    "editable": true
   },
   "source": [
    "Finally, from the above it follows that"
   ]
  },
  {
   "cell_type": "markdown",
   "id": "4825e9fa",
   "metadata": {
    "editable": true
   },
   "source": [
    "$$\n",
    "\\begin{align*}\n",
    "[J^2, J_+] &= -2J_+ J_z + J_z [J_z,J_+] + [J_z,J_+] J_z - [J_z,J_+] \\\\\n",
    "&= -2J_+ J_z + J_z J_+ + J_+ J_z - J_+ \\\\\n",
    "&= -2J_+ J_z + J_+ + J_+ J_z + J_+ J_z - J_+ = 0,\n",
    "\\end{align*}\n",
    "$$"
   ]
  },
  {
   "cell_type": "markdown",
   "id": "f66139dd",
   "metadata": {
    "editable": true
   },
   "source": [
    "and"
   ]
  },
  {
   "cell_type": "markdown",
   "id": "5a8f0fbb",
   "metadata": {
    "editable": true
   },
   "source": [
    "$$\n",
    "\\begin{align*}\n",
    "[J^2, J_-] &= 2J_z J_- + J_z [J_z,J_-] + [J_z,J_-] J_z - [J_z,J_-] \\\\\n",
    "&= 2J_z J_- - J_z J_- - J_- J_z + J_- \\\\\n",
    "&= J_z J_- - (J_z J_- + J_-) + J_- = 0.\n",
    "\\end{align*}\n",
    "$$"
   ]
  },
  {
   "cell_type": "markdown",
   "id": "9db1c063",
   "metadata": {
    "editable": true
   },
   "source": [
    "Our last commutator is given by"
   ]
  },
  {
   "cell_type": "markdown",
   "id": "7cc93218",
   "metadata": {
    "editable": true
   },
   "source": [
    "$$\n",
    "\\begin{align*}\n",
    "[J^2,J_z] &= [J_+ J_- + J_z^2 - J_z, J_z] \\\\\n",
    "&= [J_+ J_-, J_z] + [J_z^2, J_z] - [J_z, J_z] \\\\\n",
    "&= J_+ [J_-, J_z] + [J_+,J_z] J_- \\\\\n",
    "&= J_+ J_- - J_+ J_- = 0\n",
    "\\end{align*}\n",
    "$$"
   ]
  },
  {
   "cell_type": "markdown",
   "id": "12d0895b",
   "metadata": {
    "editable": true
   },
   "source": [
    "Summing up we have"
   ]
  },
  {
   "cell_type": "markdown",
   "id": "e5809462",
   "metadata": {
    "editable": true
   },
   "source": [
    "<!-- Equation labels as ordinary links -->\n",
    "<div id=\"eq:kJzJpm\"></div>\n",
    "\n",
    "$$\n",
    "\\begin{equation}\n",
    "[J_z, J_\\pm] = \\pm J_\\pm, \\label{eq:kJzJpm} \\tag{9} \n",
    "\\end{equation}\n",
    "$$"
   ]
  },
  {
   "cell_type": "markdown",
   "id": "a4898c1a",
   "metadata": {
    "editable": true
   },
   "source": [
    "<!-- Equation labels as ordinary links -->\n",
    "<div id=\"eq:kJpJm\"></div>\n",
    "\n",
    "$$\n",
    "\\begin{equation} \n",
    "[J_+, J_-] = 2J_z, \\label{eq:kJpJm} \\tag{10} \n",
    "\\end{equation}\n",
    "$$"
   ]
  },
  {
   "cell_type": "markdown",
   "id": "14154eff",
   "metadata": {
    "editable": true
   },
   "source": [
    "<!-- Equation labels as ordinary links -->\n",
    "<div id=\"eq:kJ2Jpm\"></div>\n",
    "\n",
    "$$\n",
    "\\begin{equation} \n",
    "[J^2, J_\\pm] = 0, \\label{eq:kJ2Jpm} \\tag{11} \n",
    "\\end{equation}\n",
    "$$"
   ]
  },
  {
   "cell_type": "markdown",
   "id": "5b96e4d2",
   "metadata": {
    "editable": true
   },
   "source": [
    "<!-- Equation labels as ordinary links -->\n",
    "<div id=\"eq:kJ2Jz\"></div>\n",
    "\n",
    "$$\n",
    "\\begin{equation} \n",
    "[J^2,J_z] = 0, \\label{eq:kJ2Jz} \\tag{12}\n",
    "\\end{equation}\n",
    "$$"
   ]
  },
  {
   "cell_type": "markdown",
   "id": "d9a1bda5",
   "metadata": {
    "editable": true
   },
   "source": [
    "which are the standard commutation relations for angular (or orbital) momentum $L_\\pm$, $L_z$ og $L^2$."
   ]
  },
  {
   "cell_type": "markdown",
   "id": "0bc576ab",
   "metadata": {
    "editable": true
   },
   "source": [
    "## Rewriting the Hamiltonian\n",
    "\n",
    "We wrote the above Hamiltonian as"
   ]
  },
  {
   "cell_type": "markdown",
   "id": "19b5338a",
   "metadata": {
    "editable": true
   },
   "source": [
    "$$\n",
    "H = H_0 + H_1 +H_2,\n",
    "$$"
   ]
  },
  {
   "cell_type": "markdown",
   "id": "e7436185",
   "metadata": {
    "editable": true
   },
   "source": [
    "with"
   ]
  },
  {
   "cell_type": "markdown",
   "id": "5b32b96a",
   "metadata": {
    "editable": true
   },
   "source": [
    "$$\n",
    "H_0 = \\frac{1}{2} \\varepsilon \\sum_{p\\sigma}\\sigma a_{p\\sigma}^{\\dagger}a_{p\\sigma},\n",
    "$$"
   ]
  },
  {
   "cell_type": "markdown",
   "id": "27cbaaca",
   "metadata": {
    "editable": true
   },
   "source": [
    "and"
   ]
  },
  {
   "cell_type": "markdown",
   "id": "fb037f2c",
   "metadata": {
    "editable": true
   },
   "source": [
    "$$\n",
    "H_1 = \\frac{1}{2} V \\sum_{p,p',\\sigma} a_{p\\sigma}^\\dagger a_{p'\\sigma}^\\dagger a_{p'-\\sigma} a_{p-\\sigma},\n",
    "$$"
   ]
  },
  {
   "cell_type": "markdown",
   "id": "5a644b71",
   "metadata": {
    "editable": true
   },
   "source": [
    "and"
   ]
  },
  {
   "cell_type": "markdown",
   "id": "9404ace4",
   "metadata": {
    "editable": true
   },
   "source": [
    "$$\n",
    "H_{2} = \\frac{1}{2} W \\sum_{p,p',\\sigma}a_{p\\sigma}^\\dagger a_{p'-\\sigma}^\\dagger a_{p'\\sigma}a_{p-\\sigma}.\n",
    "$$"
   ]
  },
  {
   "cell_type": "markdown",
   "id": "65b43477",
   "metadata": {
    "editable": true
   },
   "source": [
    "We will now rewrite the Hamiltonian in terms of the above quasi-spin operators and the number operator"
   ]
  },
  {
   "cell_type": "markdown",
   "id": "ff3f4f85",
   "metadata": {
    "editable": true
   },
   "source": [
    "<!-- Equation labels as ordinary links -->\n",
    "<div id=\"eq:N\"></div>\n",
    "\n",
    "$$\n",
    "\\begin{equation}\n",
    "N = \\sum_{p,\\sigma} a_{p\\sigma}^\\dagger a_{p\\sigma}.\n",
    "\\label{eq:N} \\tag{13}\n",
    "\\end{equation}\n",
    "$$"
   ]
  },
  {
   "cell_type": "markdown",
   "id": "bd0581ee",
   "metadata": {
    "editable": true
   },
   "source": [
    "Going through each term of the Hamiltonian and using the expressions for the quasi-spin operators we obtain"
   ]
  },
  {
   "cell_type": "markdown",
   "id": "9a62b49d",
   "metadata": {
    "editable": true
   },
   "source": [
    "<!-- Equation labels as ordinary links -->\n",
    "<div id=\"eq:H0ny\"></div>\n",
    "\n",
    "$$\n",
    "\\begin{equation}\n",
    "H_0 = \\varepsilon J_z.\n",
    "\\label{eq:H0ny} \\tag{14}\n",
    "\\end{equation}\n",
    "$$"
   ]
  },
  {
   "cell_type": "markdown",
   "id": "75a984e9",
   "metadata": {
    "editable": true
   },
   "source": [
    "Moving over to $H_1$ and using the anti-commutation relations ([4](#eq:al,ak)) through ([6](#eq:ald,ak)) we obtain"
   ]
  },
  {
   "cell_type": "markdown",
   "id": "69bb7b8e",
   "metadata": {
    "editable": true
   },
   "source": [
    "$$\n",
    "\\begin{align*}\n",
    "H_1 &= \\frac{1}{2} V \\sum_{p,p',\\sigma}\n",
    "a_{p\\sigma}^\\dagger a_{p'\\sigma}^\\dagger a_{p'-\\sigma} a_{p-\\sigma} \\\\\n",
    "&= \\frac{1}{2} V \\sum_{p,p',\\sigma}\n",
    "-a_{p\\sigma}^\\dagger a_{p'\\sigma}^\\dagger a_{p-\\sigma} a_{p'-\\sigma} \\\\\n",
    "&= \\frac{1}{2} V \\sum_{p,p',\\sigma}\n",
    "-a_{p\\sigma}^\\dagger \\left( \\delta_{pp'} \\delta_{\\sigma -\\sigma} - a_{p-\\sigma} a_{p'\\sigma}^\\dagger \\right) a_{p'-\\sigma} \\\\\n",
    "&= \\frac{1}{2} V \\sum_{p,p',\\sigma}\n",
    "a_{p\\sigma}^\\dagger a_{p-\\sigma} a_{p'\\sigma}^\\dagger a_{p'-\\sigma} \\\\\n",
    "\\end{align*}\n",
    "$$"
   ]
  },
  {
   "cell_type": "markdown",
   "id": "463e203e",
   "metadata": {
    "editable": true
   },
   "source": [
    "Rewriting the sum  over $\\sigma$ we arrive at"
   ]
  },
  {
   "cell_type": "markdown",
   "id": "e460f1cb",
   "metadata": {
    "editable": true
   },
   "source": [
    "$$\n",
    "\\begin{align*}\n",
    "H_1 &= \\frac{1}{2} V\\sum_{p,p'}\n",
    "a_{p+}^\\dagger a_{p-} a_{p'+}^\\dagger a_{p'-} +\n",
    "a_{p-}^\\dagger a_{p+} a_{p'-}^\\dagger a_{p'+} \\\\\n",
    "&= \\frac{1}{2} V \\left[ \\sum_p \\left( a_{p+}^\\dagger a_{p-} \\right)\n",
    "\\sum_{p'} \\left( a_{p'+}^\\dagger a_{p'-} \\right) +\n",
    "\\sum_p \\left( a_{p-}^\\dagger a_{p+} \\right)\n",
    "\\sum_{p'} \\left( a_{p'-}^\\dagger a_{p'+} \\right) \\right] \\\\\n",
    "&= \\frac{1}{2} V \\left[ J_+ J_+ + J_- J_- \\right] = \\frac{1}{2} V \\left[ J_+^2 + J_-^2 \\right] ,\n",
    "\\end{align*}\n",
    "$$"
   ]
  },
  {
   "cell_type": "markdown",
   "id": "868867cb",
   "metadata": {
    "editable": true
   },
   "source": [
    "which leads to"
   ]
  },
  {
   "cell_type": "markdown",
   "id": "10c4fc38",
   "metadata": {
    "editable": true
   },
   "source": [
    "<!-- Equation labels as ordinary links -->\n",
    "<div id=\"eq:H1ny\"></div>\n",
    "\n",
    "$$\n",
    "\\begin{equation}\n",
    "H_1 = \\frac{1}{2} V \\left( J_+^2 + J_-^2 \\right).\n",
    "\\label{eq:H1ny} \\tag{15}\n",
    "\\end{equation}\n",
    "$$"
   ]
  },
  {
   "cell_type": "markdown",
   "id": "4f360335",
   "metadata": {
    "editable": true
   },
   "source": [
    "Finally, we rewrite the last term"
   ]
  },
  {
   "cell_type": "markdown",
   "id": "9df11314",
   "metadata": {
    "editable": true
   },
   "source": [
    "$$\n",
    "\\begin{align*}\n",
    "H_2 &= \\frac{1}{2} W \\sum_{p,p',\\sigma}\n",
    "a_{p\\sigma}^\\dagger a_{p'-\\sigma}^\\dagger a_{p'\\sigma} a_{p-\\sigma} \\\\\n",
    "&= \\frac{1}{2} W \\sum_{p,p',\\sigma}\n",
    "-a_{p\\sigma}^\\dagger a_{p'-\\sigma}^\\dagger a_{p-\\sigma} a_{p'\\sigma} \\\\\n",
    "&= \\frac{1}{2} W \\sum_{p,p',\\sigma}\n",
    "-a_{p\\sigma}^\\dagger \\left( \\delta_{pp'} \\delta_{-\\sigma -\\sigma} -\n",
    "a_{p-\\sigma} a_{p'-\\sigma}^\\dagger \\right) a_{p'\\sigma} \\\\\n",
    "&= \\frac{1}{2} W \\sum_{p,p',\\sigma}\n",
    "-a_{p\\sigma}^\\dagger \\delta_{pp'} a_{p'\\sigma} +\n",
    "a_{p\\sigma}^\\dagger a_{p-\\sigma} a_{p'-\\sigma}^\\dagger a_{p'\\sigma} \\\\\n",
    "&= \\frac{1}{2} W \\left( -\\sum_{p,\\sigma}\n",
    "a_{p\\sigma}^\\dagger a_{p\\sigma} +\n",
    "\\sum_{p,p',\\sigma} a_{p\\sigma}^\\dagger a_{p-\\sigma} a_{p'-\\sigma}^\\dagger a_{p'\\sigma} \\right) \\\\\n",
    "\\end{align*}\n",
    "$$"
   ]
  },
  {
   "cell_type": "markdown",
   "id": "eea11777",
   "metadata": {
    "editable": true
   },
   "source": [
    "Using the expression for the number operator we obtain"
   ]
  },
  {
   "cell_type": "markdown",
   "id": "8637c7bd",
   "metadata": {
    "editable": true
   },
   "source": [
    "$$\n",
    "\\begin{align*}\n",
    "\\sum_{p,p',\\sigma} a_{p\\sigma}^\\dagger a_{p-\\sigma} a_{p'-\\sigma}^\\dagger a_{p'\\sigma}\n",
    "&= \\sum_{p,p'} a_{p+}^\\dagger a_{p-} a_{p'-}^\\dagger a_{p'+} +\n",
    "a_{p-}^\\dagger a_{p+} a_{p'+}^\\dagger a_{p'-} \\\\\n",
    "&= \\sum_p \\left( a_{p+}^\\dagger a_{p-} \\right)\n",
    "\\sum_{p'} \\left( a_{p'-}^\\dagger a_{p'+} \\right) +\n",
    "\\sum_p \\left( a_{p-}^\\dagger a_{p+} \\right)\n",
    "\\sum_{p'} \\left( a_{p'+}^\\dagger a_{p'-} \\right) \\\\\n",
    "&= J_+ J_- + J_- J_+,\n",
    "\\end{align*}\n",
    "$$"
   ]
  },
  {
   "cell_type": "markdown",
   "id": "0dfe4806",
   "metadata": {
    "editable": true
   },
   "source": [
    "resulting in"
   ]
  },
  {
   "cell_type": "markdown",
   "id": "eeae89d9",
   "metadata": {
    "editable": true
   },
   "source": [
    "<!-- Equation labels as ordinary links -->\n",
    "<div id=\"eq:H2ny\"></div>\n",
    "\n",
    "$$\n",
    "\\begin{equation}\n",
    "H_2 = \\frac{1}{2} W \\left( -N + J_+ J_- + J_- J_+ \\right).\n",
    "\\label{eq:H2ny} \\tag{16}\n",
    "\\end{equation}\n",
    "$$"
   ]
  },
  {
   "cell_type": "markdown",
   "id": "20edfa62",
   "metadata": {
    "editable": true
   },
   "source": [
    "We have thus expressed the Hamiltonian in term of the quasi-spin operators."
   ]
  },
  {
   "cell_type": "markdown",
   "id": "2a3e3b8a",
   "metadata": {
    "editable": true
   },
   "source": [
    "## Commutation relations for the Hamiltonian\n",
    "The above expressions can in turn be used to show that the Hamiltonian commutes with the various quasi-spin operators. This leads to quantum numbers which are conserved.\n",
    "Let us first show that $[H,J^2]=0$, which means that $J$ is a so-called *good* quantum number.\n",
    "We have"
   ]
  },
  {
   "cell_type": "markdown",
   "id": "1052c22f",
   "metadata": {
    "editable": true
   },
   "source": [
    "$$\n",
    "\\begin{align*}\n",
    "[H,J^2] &= [H_0 + H_1 + H_2,J^2] \\\\\n",
    "&= [H_0,J^2] + [H_1,J^2] + [H_2,J^2] \\\\\n",
    "&= \\varepsilon [J_z,J^2] + \\frac{1}{2} V [J_+^2 + J_-^2,J^2] +\n",
    "\\frac{1}{2} W [-N + J_+ J_- + J_- J_+,J^2]. \\\\\n",
    "\\end{align*}\n",
    "$$"
   ]
  },
  {
   "cell_type": "markdown",
   "id": "70f3da7e",
   "metadata": {
    "editable": true
   },
   "source": [
    "We have previously shown that"
   ]
  },
  {
   "cell_type": "markdown",
   "id": "45d69c50",
   "metadata": {
    "editable": true
   },
   "source": [
    "$$\n",
    "[H,J^2] = \\frac{1}{2} V \\left( [J_+^2,J^2] + [J_-^2,J^2] \\right) +\n",
    "\\frac{1}{2} W \\left( -[N,J^2] + [J_+ J_-,J^2] + [J_- J_+, J^2] \\right)\n",
    "$$"
   ]
  },
  {
   "cell_type": "markdown",
   "id": "d89599c6",
   "metadata": {
    "editable": true
   },
   "source": [
    "Using that $[J_\\pm,J^2] = 0$, it follows that $[J_\\pm^2,J^2] = 0$. We can then see that $[J_+ J_-,J^2] = 0$ and $[J_- J_+, J^2] = 0$ which leads to"
   ]
  },
  {
   "cell_type": "markdown",
   "id": "387d0b50",
   "metadata": {
    "editable": true
   },
   "source": [
    "$$\n",
    "\\begin{align*}\n",
    "[H,J^2] &= -\\frac{1}{2} W [N,J^2] \\\\\n",
    "&= \\frac{1}{2} W \\left( -[N,J_+ J_-] - [N,J_z^2] + [N,J_z] \\right) \\\\\n",
    "&= \\frac{1}{2} W \\left( -[N,J_+]J_- - J_+[N,J_-] - [N,J_z]J_z - J_z[N,J_z] + [N,J_z] \\right).\n",
    "\\end{align*}\n",
    "$$"
   ]
  },
  {
   "cell_type": "markdown",
   "id": "999b357a",
   "metadata": {
    "editable": true
   },
   "source": [
    "Combining with the number operator we have"
   ]
  },
  {
   "cell_type": "markdown",
   "id": "e2566f22",
   "metadata": {
    "editable": true
   },
   "source": [
    "$$\n",
    "\\begin{align*}\n",
    "[N,J_\\pm] &= N J_\\pm - J_\\pm N \\\\\n",
    "&= \\left( \\sum_{p,\\sigma} a_{p\\sigma}^\\dagger a_{p\\sigma} \\right)\n",
    "\\left( \\sum_{p'} a_{p'\\pm}^\\dagger a_{p'\\mp} \\right) -\n",
    "\\left( \\sum_{p'} a_{p'\\pm}^\\dagger a_{p'\\mp} \\right)\n",
    "\\left( \\sum_{p,\\sigma} a_{p\\sigma}^\\dagger a_{p\\sigma} \\right) \\\\\n",
    "&= \\sum_{p,p',\\sigma}\n",
    "a_{p\\sigma}^\\dagger a_{p\\sigma} a_{p'\\pm}^\\dagger a_{p'\\mp} -\n",
    "a_{p'\\pm}^\\dagger a_{p'\\mp} a_{p\\sigma}^\\dagger a_{p\\sigma} \\\\\n",
    "&= \\sum_{p,p',\\sigma}\n",
    "a_{p\\sigma}^\\dagger a_{p\\sigma} a_{p'\\pm}^\\dagger a_{p'\\mp} -\n",
    "a_{p'\\pm}^\\dagger \\left( \\delta_{\\mp \\sigma} \\delta_{pp'} - a_{p\\sigma}^\\dagger a_{p'\\mp} \\right) a_{p\\sigma} \\\\\n",
    "&= \\sum_{p,p',\\sigma}\n",
    "a_{p\\sigma}^\\dagger a_{p\\sigma} a_{p'\\pm}^\\dagger a_{p'\\mp} -\n",
    "a_{p'\\pm}^\\dagger \\delta_{\\mp \\sigma} \\delta_{pp'} a_{p\\sigma} +\n",
    "a_{p'\\pm}^\\dagger a_{p\\sigma}^\\dagger a_{p'\\mp} a_{p\\sigma} \\\\\n",
    "&= \\sum_{p,p',\\sigma}\n",
    "a_{p\\sigma}^\\dagger a_{p\\sigma} a_{p'\\pm}^\\dagger a_{p'\\mp} +\n",
    "a_{p\\sigma}^\\dagger a_{p'\\pm}^\\dagger a_{p\\sigma} a_{p'\\mp} -\n",
    "\\sum_{p} a_{p\\pm}^\\dagger  a_{p\\mp} \\\\\n",
    "&= \\sum_{p,p',\\sigma}\n",
    "a_{p\\sigma}^\\dagger a_{p\\sigma} a_{p'\\pm}^\\dagger a_{p'\\mp} +\n",
    "a_{p\\sigma}^\\dagger \\left( \\delta_{pp'} \\delta_{\\pm \\sigma} -\n",
    "a_{p\\sigma} a_{p'\\pm}^\\dagger \\right) a_{p'\\mp} -\n",
    "\\sum_{p} a_{p\\pm}^\\dagger  a_{p\\mp} \\\\\n",
    "&= \\sum_p a_{p\\pm}^\\dagger a_{p\\mp} -\n",
    "\\sum_{p} a_{p\\pm}^\\dagger  a_{p\\mp} = 0. \\\\\n",
    "\\end{align*}\n",
    "$$"
   ]
  },
  {
   "cell_type": "markdown",
   "id": "0d64504d",
   "metadata": {
    "editable": true
   },
   "source": [
    "We obtain then"
   ]
  },
  {
   "cell_type": "markdown",
   "id": "ced1b2ee",
   "metadata": {
    "editable": true
   },
   "source": [
    "$$\n",
    "\\begin{align*}\n",
    "[N,J_z] &= N J_z - J_z N \\\\\n",
    "&= \\left( \\sum_{p,\\sigma} a_{p\\sigma}^\\dagger a_{p\\sigma} \\right)\n",
    "\\left( \\frac{1}{2}\\sum_{p',\\sigma} \\sigma a_{p'\\sigma}^\\dagger a_{p'\\sigma} \\right) -\n",
    "\\left( \\frac{1}{2}\\sum_{p',\\sigma} \\sigma a_{p'\\sigma}^\\dagger a_{p'\\sigma} \\right)\n",
    "\\left( \\sum_{p,\\sigma} a_{p\\sigma}^\\dagger a_{p\\sigma} \\right) \\\\\n",
    "&= \\sum_{p,p',\\sigma} \n",
    "\\sigma a_{p\\sigma}^\\dagger a_{p\\sigma} a_{p'\\sigma}^\\dagger a_{p'\\sigma} -\n",
    "\\sigma a_{p'\\sigma}^\\dagger a_{p'\\sigma} a_{p\\sigma}^\\dagger a_{p\\sigma} = 0,\n",
    "\\end{align*}\n",
    "$$"
   ]
  },
  {
   "cell_type": "markdown",
   "id": "1927a97b",
   "metadata": {
    "editable": true
   },
   "source": [
    "which leads to"
   ]
  },
  {
   "cell_type": "markdown",
   "id": "9ead627c",
   "metadata": {
    "editable": true
   },
   "source": [
    "<!-- Equation labels as ordinary links -->\n",
    "<div id=\"eq:kHJ2\"></div>\n",
    "\n",
    "$$\n",
    "\\begin{equation}\n",
    "[H,J^2] = 0,\n",
    "\\label{eq:kHJ2} \\tag{17}\n",
    "\\end{equation}\n",
    "$$"
   ]
  },
  {
   "cell_type": "markdown",
   "id": "909a92fb",
   "metadata": {
    "editable": true
   },
   "source": [
    "and $J$ is a good quantum number."
   ]
  },
  {
   "cell_type": "markdown",
   "id": "779874ab",
   "metadata": {
    "editable": true
   },
   "source": [
    "### Constructing the Hamiltonian matrix for $J=2$\n",
    "\n",
    "We start with the state (unique) where all spins point down"
   ]
  },
  {
   "cell_type": "markdown",
   "id": "e8d91757",
   "metadata": {
    "editable": true
   },
   "source": [
    "<!-- Equation labels as ordinary links -->\n",
    "<div id=\"eq:2,-2\"></div>\n",
    "\n",
    "$$\n",
    "\\begin{equation}\n",
    "\\vert 2,-2\\rangle = a_{1-}^{\\dagger} a_{2-}^{\\dagger}\n",
    "a_{3-}^{\\dagger} a_{4-}^{\\dagger} \\vert 0\\rangle\n",
    "\\label{eq:2,-2} \\tag{18}\n",
    "\\end{equation}\n",
    "$$"
   ]
  },
  {
   "cell_type": "markdown",
   "id": "2cc2001c",
   "metadata": {
    "editable": true
   },
   "source": [
    "which is a state with  $J_z = -2$ and $J = 2$. (we label the states as $\\vert J,J_z\\rangle$). For $J = 2$ we have the spin projections $J_z = -2,-1,0,1,2$.\n",
    "We can use the lowering and raising operators for spin in order to define the other states"
   ]
  },
  {
   "cell_type": "markdown",
   "id": "96b12538",
   "metadata": {
    "editable": true
   },
   "source": [
    "<!-- Equation labels as ordinary links -->\n",
    "<div id=\"eq:J+ket\"></div>\n",
    "\n",
    "$$\n",
    "\\begin{equation}\n",
    "J_+ \\vert J,J_z\\rangle = \\sqrt{J(J+1) - J_z(J_z + 1)} \\vert J,J_z + 1\\rangle,\n",
    "\\label{eq:J+ket} \\tag{19} \n",
    "\\end{equation}\n",
    "$$"
   ]
  },
  {
   "cell_type": "markdown",
   "id": "8a9c6260",
   "metadata": {
    "editable": true
   },
   "source": [
    "<!-- Equation labels as ordinary links -->\n",
    "<div id=\"eq:J-ket\"></div>\n",
    "\n",
    "$$\n",
    "\\begin{equation} \n",
    "J_- \\vert J,J_z\\rangle = \\sqrt{J(J+1) - J_z(J_z - 1)} \\vert J,J_z - 1\\rangle.\n",
    "\\label{eq:J-ket} \\tag{20}\n",
    "\\end{equation}\n",
    "$$"
   ]
  },
  {
   "cell_type": "markdown",
   "id": "d242cf47",
   "metadata": {
    "editable": true
   },
   "source": [
    "We can then construct all other states with $J=2$ using the raising operator\n",
    "$J_+$ on $\\vert 2,-2\\rangle$"
   ]
  },
  {
   "cell_type": "markdown",
   "id": "3ea593eb",
   "metadata": {
    "editable": true
   },
   "source": [
    "$$\n",
    "J_+ \\vert 2,-2\\rangle = \\sqrt{2(2+1) - (-2)(-2+1)} \\vert 2,-2+1\\rangle =\\sqrt{6 - 2} \\vert 2,-1\\rangle = 2\\vert 2,-1\\rangle,\n",
    "$$"
   ]
  },
  {
   "cell_type": "markdown",
   "id": "544ea729",
   "metadata": {
    "editable": true
   },
   "source": [
    "which gives"
   ]
  },
  {
   "cell_type": "markdown",
   "id": "b60b93c3",
   "metadata": {
    "editable": true
   },
   "source": [
    "<!-- Equation labels as ordinary links -->\n",
    "<div id=\"_auto1\"></div>\n",
    "\n",
    "$$\n",
    "\\begin{equation}\n",
    "\\vert 2,-1\\rangle = \\frac{1}{2} J_+ \\vert 2,-2\\rangle \\notag \n",
    "\\label{_auto1} \\tag{21}\n",
    "\\end{equation}\n",
    "$$"
   ]
  },
  {
   "cell_type": "markdown",
   "id": "974bbf89",
   "metadata": {
    "editable": true
   },
   "source": [
    "<!-- Equation labels as ordinary links -->\n",
    "<div id=\"_auto2\"></div>\n",
    "\n",
    "$$\n",
    "\\begin{equation} \n",
    "= \\frac{1}{2} \\sum_p a_{p+}^\\dagger a_{p-} a_{1-}^{\\dagger} a_{2-}^{\\dagger}\n",
    "a_{3-}^{\\dagger} a_{4-}^{\\dagger} \\vert 0\\rangle \\notag \n",
    "\\label{_auto2} \\tag{22}\n",
    "\\end{equation}\n",
    "$$"
   ]
  },
  {
   "cell_type": "markdown",
   "id": "10cc9e54",
   "metadata": {
    "editable": true
   },
   "source": [
    "<!-- Equation labels as ordinary links -->\n",
    "<div id=\"eq:2,-1\"></div>\n",
    "\n",
    "$$\n",
    "\\begin{equation} \n",
    "= \\frac{1}{2} \\left(\n",
    "a_{1+}^{\\dagger} a_{2-}^{\\dagger} a_{3-}^{\\dagger} a_{4-}^{\\dagger} +\n",
    "a_{1-}^{\\dagger} a_{2+}^{\\dagger} a_{3-}^{\\dagger} a_{4-}^{\\dagger} +\n",
    "a_{1-}^{\\dagger} a_{2-}^{\\dagger} a_{3+}^{\\dagger} a_{4-}^{\\dagger} +\n",
    "a_{1-}^{\\dagger} a_{2-}^{\\dagger} a_{3-}^{\\dagger} a_{4+}^{\\dagger}\n",
    "\\right) \\vert 0\\rangle. \\label{eq:2,-1} \\tag{23}\n",
    "\\end{equation}\n",
    "$$"
   ]
  },
  {
   "cell_type": "markdown",
   "id": "413bc336",
   "metadata": {
    "editable": true
   },
   "source": [
    "We can construct all the other states in the same way. That is"
   ]
  },
  {
   "cell_type": "markdown",
   "id": "636fcd9c",
   "metadata": {
    "editable": true
   },
   "source": [
    "$$\n",
    "J_+ \\vert 2,-1\\rangle = \\sqrt{2(2+1) - (-1)(-1+1)} \\vert 2,-1+1\\rangle = \\sqrt{6} \\vert 2,0\\rangle,\n",
    "$$"
   ]
  },
  {
   "cell_type": "markdown",
   "id": "e05cd8eb",
   "metadata": {
    "editable": true
   },
   "source": [
    "which results in"
   ]
  },
  {
   "cell_type": "markdown",
   "id": "8789c7b3",
   "metadata": {
    "editable": true
   },
   "source": [
    "<!-- Equation labels as ordinary links -->\n",
    "<div id=\"eq:2,0\"></div>\n",
    "\n",
    "$$\n",
    "\\begin{equation}\n",
    "\\begin{aligned}\n",
    "\\vert 2,0\\rangle &= \\frac{1}{\\sqrt{6}} \\left(\n",
    "a_{1+}^{\\dagger} a_{2+}^{\\dagger} a_{3-}^{\\dagger} a_{4-}^{\\dagger} +\n",
    "a_{1+}^{\\dagger} a_{2-}^{\\dagger} a_{3+}^{\\dagger} a_{4-}^{\\dagger} +\n",
    "a_{1+}^{\\dagger} a_{2-}^{\\dagger} a_{3-}^{\\dagger} a_{4+}^{\\dagger} +\n",
    "a_{1-}^{\\dagger} a_{2+}^{\\dagger} a_{3+}^{\\dagger} a_{4-}^{\\dagger} + \\right. \\\\\n",
    "&\\quad\\,\\, \\left.\n",
    "a_{1-}^{\\dagger} a_{2+}^{\\dagger} a_{3-}^{\\dagger} a_{4+}^{\\dagger} +\n",
    "a_{1-}^{\\dagger} a_{2-}^{\\dagger} a_{3+}^{\\dagger} a_{4+}^{\\dagger} \\right) \\vert 0\\rangle\n",
    "\\end{aligned}\n",
    "\\label{eq:2,0} \\tag{24}\n",
    "\\end{equation}\n",
    "$$"
   ]
  },
  {
   "cell_type": "markdown",
   "id": "d6a126a2",
   "metadata": {
    "editable": true
   },
   "source": [
    "The two remaining states are"
   ]
  },
  {
   "cell_type": "markdown",
   "id": "d7b9da25",
   "metadata": {
    "editable": true
   },
   "source": [
    "<!-- Equation labels as ordinary links -->\n",
    "<div id=\"eq:2,1\"></div>\n",
    "\n",
    "$$\n",
    "\\begin{equation}\n",
    "\\vert2,1\\rangle  = \\frac{1}{2} \\left(\n",
    "a_{1+}^{\\dagger} a_{2+}^{\\dagger} a_{3+}^{\\dagger} a_{4-}^{\\dagger} +\n",
    "a_{1+}^{\\dagger} a_{2+}^{\\dagger} a_{3-}^{\\dagger} a_{4+}^{\\dagger} +\n",
    "a_{1+}^{\\dagger} a_{2-}^{\\dagger} a_{3+}^{\\dagger} a_{4+}^{\\dagger} +\n",
    "a_{1-}^{\\dagger} a_{2+}^{\\dagger} a_{3+}^{\\dagger} a_{4+}^{\\dagger}\n",
    " \\right).\n",
    "\\label{eq:2,1} \\tag{25}\n",
    "\\end{equation}\n",
    "$$"
   ]
  },
  {
   "cell_type": "markdown",
   "id": "c7712f15",
   "metadata": {
    "editable": true
   },
   "source": [
    "and"
   ]
  },
  {
   "cell_type": "markdown",
   "id": "56662fb9",
   "metadata": {
    "editable": true
   },
   "source": [
    "<!-- Equation labels as ordinary links -->\n",
    "<div id=\"eq:2,2\"></div>\n",
    "\n",
    "$$\n",
    "\\begin{equation}\n",
    "\\vert 2,2\\rangle  = a_{1+}^{\\dagger} a_{2+}^{\\dagger} a_{3+}^{\\dagger} a_{4+}^{\\dagger} \\vert 0\\rangle.\n",
    "\\label{eq:2,2} \\tag{26}\n",
    "\\end{equation}\n",
    "$$"
   ]
  },
  {
   "cell_type": "markdown",
   "id": "13d3e855",
   "metadata": {
    "editable": true
   },
   "source": [
    "These five states can in turn be used as computational basis states in order to define the Hamiltonian matrix to be diagonalized. The Hamiltonian is hermitian and we obtain after all this labor of ours"
   ]
  },
  {
   "cell_type": "markdown",
   "id": "e20c32e7",
   "metadata": {
    "editable": true
   },
   "source": [
    "<!-- Equation labels as ordinary links -->\n",
    "<div id=\"eq:HJ=2\"></div>\n",
    "\n",
    "$$\n",
    "\\begin{equation}\n",
    "H_{J = 2} =\n",
    "\\begin{pmatrix}\n",
    "-2\\varepsilon & 0 & \\sqrt{6}V & 0 & 0 \\\\\n",
    "0 & -\\varepsilon + 3W & 0 & 3V & 0 \\\\\n",
    "\\sqrt{6}V & 0 & 4W & 0 & \\sqrt{6}V \\\\\n",
    "0 & 3V & 0 & \\varepsilon + 3W & 0 \\\\\n",
    "0 & 0 & \\sqrt{6}V & 0 & 2\\varepsilon\n",
    "\\end{pmatrix}\n",
    "\\label{eq:HJ=2} \\tag{27}\n",
    "\\end{equation}\n",
    "$$"
   ]
  },
  {
   "cell_type": "markdown",
   "id": "2cbf1b86",
   "metadata": {
    "editable": true
   },
   "source": [
    "Inserting values for the constants $\\epsilon$, $V$ and $W$ we can in turn diagonalize the above matrix and obtain the relevant eigenvalues."
   ]
  },
  {
   "cell_type": "markdown",
   "id": "a755fefa",
   "metadata": {
    "editable": true
   },
   "source": [
    "## Mean field solution, Hartree-Fock theory  and comparison with exact diagonalization\n",
    "\n",
    "This will be added later."
   ]
  },
  {
   "cell_type": "markdown",
   "id": "a5d78e00",
   "metadata": {
    "editable": true
   },
   "source": [
    "## Variational Quantum Eigensolver\n",
    "\n",
    "One initial algorithm to estimate the eigenenergies of a quantum\n",
    "Hamiltonian was [quantum phase estimation](https://qiskit.org/textbook/ch-algorithms/quantum-phase-estimation.html). In it, one\n",
    "encodes the eigenenergies, one binary bit at a time (up to $n$ bits),\n",
    "into the complex phases of the quantum states of the Hilbert space for\n",
    "$n$ qubits. It does this by applying powers of controlled unitary\n",
    "evolution operators to a quantum state that can be expanded in terms\n",
    "of the Hamiltonian's eigenvectors of interest. The eigenenergies are\n",
    "encoded into the complex phases in such a way that taking the inverse\n",
    "quantum Fourier transformation (see material on Quantum Fourier Transforms) of the states into which the\n",
    "eigen-energies are encoded results in a measurement probability\n",
    "distribution that has peaks around the bit strings that represent a\n",
    "binary fraction which corresponds to the eigen-energies of the quantum\n",
    "state acted upon by the controlled unitary operators. While quantum\n",
    "phase estimation (QPE) is provably efficient, non-hybrid, and\n",
    "non-variational, the number of qubits and length of circuits required\n",
    "is too great for our NISQ era quantum computers. Thus, QPE is only\n",
    "efficiently applicable to large, fault-tolerant quantum computers that\n",
    "likely won't exist in the near, but the far future.\n",
    "\n",
    "Therefore, a different algorithm for finding the eigen-energies of a\n",
    "quantum Hamiltonian was put forth in 2014 called the variational\n",
    "quantum eigensolver, commonly referred to as [VQE](https://arxiv.org/abs/2111.05176). The\n",
    "algorithm is hybrid, meaning that it requires the use of both a\n",
    "quantum computer and a classical computer. It is also variational,\n",
    "meaning that it relies, ultimately, on solving an optimization problem\n",
    "by varying parameters and thus is not as deterministic as QPE. The\n",
    "variational quantum eigensolver is based on the variational principle:\n",
    "The expectation value of a Hamiltonian $H$ in a state\n",
    "$|\\psi(\\theta)\\rangle$ parameterized by a set of angles $\\theta$, is\n",
    "always greater than or equal to the minimum eigen-energy $E_0$. To see\n",
    "this, let $|n\\rangle$ be the eigenstates of $H$, that is"
   ]
  },
  {
   "cell_type": "markdown",
   "id": "bf1f7c16",
   "metadata": {
    "editable": true
   },
   "source": [
    "<!-- Equation labels as ordinary links -->\n",
    "<div id=\"_auto3\"></div>\n",
    "\n",
    "$$\n",
    "\\begin{equation}\n",
    "H|n\\rangle=E_n|n\\rangle.\n",
    "\\label{_auto3} \\tag{28}\n",
    "\\end{equation}\n",
    "$$"
   ]
  },
  {
   "cell_type": "markdown",
   "id": "8e2f1ae8",
   "metadata": {
    "editable": true
   },
   "source": [
    "We can then expand our state $|\\psi(\\theta)\\rangle$ in terms of said eigenstates"
   ]
  },
  {
   "cell_type": "markdown",
   "id": "a6677c84",
   "metadata": {
    "editable": true
   },
   "source": [
    "<!-- Equation labels as ordinary links -->\n",
    "<div id=\"_auto4\"></div>\n",
    "\n",
    "$$\n",
    "\\begin{equation}\n",
    "|\\psi(\\theta)\\rangle=\\sum_nc_n|n\\rangle,\n",
    "\\label{_auto4} \\tag{29}\n",
    "\\end{equation}\n",
    "$$"
   ]
  },
  {
   "cell_type": "markdown",
   "id": "7baa6073",
   "metadata": {
    "editable": true
   },
   "source": [
    "and plug this into the expectation value to yield"
   ]
  },
  {
   "cell_type": "markdown",
   "id": "1cb520cc",
   "metadata": {
    "editable": true
   },
   "source": [
    "$$\n",
    "\\langle\\psi(\\theta)|H|\\psi(\\theta)\\rangle\n",
    "=\n",
    "\\sum_{nm}c^*_mc_n\\langle m|H|n \\rangle\n",
    "\\nonumber\n",
    "$$"
   ]
  },
  {
   "cell_type": "markdown",
   "id": "2a44a5bd",
   "metadata": {
    "editable": true
   },
   "source": [
    "$$\n",
    "=\n",
    "\\sum_{nm}c^*_mc_nE_n\\langle m|n \\rangle\n",
    "\\nonumber\n",
    "$$"
   ]
  },
  {
   "cell_type": "markdown",
   "id": "d275cf6f",
   "metadata": {
    "editable": true
   },
   "source": [
    "$$\n",
    "=\n",
    "\\sum_{nm}\\delta_{nm}c^*_mc_nE_n\n",
    "\\nonumber\n",
    "$$"
   ]
  },
  {
   "cell_type": "markdown",
   "id": "6ff82836",
   "metadata": {
    "editable": true
   },
   "source": [
    "<!-- Equation labels as ordinary links -->\n",
    "<div id=\"_auto5\"></div>\n",
    "\n",
    "$$\n",
    "\\begin{equation} \n",
    "=\n",
    "\\sum_{n}|c_n|^2E_n \\geq E_0\\sum_{n}|c_n|^2=E_0,\n",
    "\\label{_auto5} \\tag{30}\n",
    "\\end{equation}\n",
    "$$"
   ]
  },
  {
   "cell_type": "markdown",
   "id": "3a45e21d",
   "metadata": {
    "editable": true
   },
   "source": [
    "which implies that we can minimize over the set of angles $\\theta$ and arrive at the ground state energy $E_0$"
   ]
  },
  {
   "cell_type": "markdown",
   "id": "d2844f7e",
   "metadata": {
    "editable": true
   },
   "source": [
    "<!-- Equation labels as ordinary links -->\n",
    "<div id=\"_auto6\"></div>\n",
    "\n",
    "$$\n",
    "\\begin{equation}\n",
    "\\min_\\theta \\ \\langle\\psi(\\theta)|H|\\psi(\\theta)\\rangle=E_0.\n",
    "\\label{_auto6} \\tag{31}\n",
    "\\end{equation}\n",
    "$$"
   ]
  },
  {
   "cell_type": "markdown",
   "id": "96e37648",
   "metadata": {
    "editable": true
   },
   "source": [
    "Using this fact, the VQE algorithm can be broken down into the following steps\n",
    "1. Prepare the variational state $|\\psi(\\theta)\\rangle$ on a quantum computer.\n",
    "\n",
    "2. Measure this circuit in various bases and send these measurements to a classical computer\n",
    "\n",
    "3. The classical computer post-processes the measurement data to compute the expectation value $\\langle\\psi(\\theta)|H|\\psi(\\theta)\\rangle$\n",
    "\n",
    "4. The classical computer varies the parameters $\\theta$ according to a classical minimization algorithm and sends them back to the quantum computer which runs step 1 again.\n",
    "\n",
    "This loop continues until the classical optimization algorithm\n",
    "terminates which results in a set of angles $\\theta_{\\text{min}}$ that\n",
    "characterize the ground state $|\\phi(\\theta_{\\text{min}})\\rangle$ and\n",
    "an estimate for the ground state energy\n",
    "$\\langle\\psi(\\theta_{\\text{min}})|H|\\psi(\\theta_{\\text{min}})\\rangle$."
   ]
  },
  {
   "cell_type": "markdown",
   "id": "aea3d9e5",
   "metadata": {
    "editable": true
   },
   "source": [
    "### Expectation values\n",
    "\n",
    "To execute the second step of VQE, we need to understand how\n",
    "expectation values of operators can be estimated via quantum computers\n",
    "by post-processing measurements of quantum circuits in different\n",
    "basis. To rotate bases, one uses the basis rotator $R_\\sigma$ which is\n",
    "defined for each Pauli gate $\\sigma$ to be"
   ]
  },
  {
   "cell_type": "markdown",
   "id": "5d3f091d",
   "metadata": {
    "editable": true
   },
   "source": [
    "<!-- Equation labels as ordinary links -->\n",
    "<div id=\"_auto7\"></div>\n",
    "\n",
    "$$\n",
    "\\begin{equation}\n",
    "R_{\\sigma} = H,  \\text{if} \\ \\sigma = X \n",
    "\\label{_auto7} \\tag{32}\n",
    "\\end{equation}\n",
    "$$"
   ]
  },
  {
   "cell_type": "markdown",
   "id": "f913a909",
   "metadata": {
    "editable": true
   },
   "source": [
    "<!-- Equation labels as ordinary links -->\n",
    "<div id=\"_auto8\"></div>\n",
    "\n",
    "$$\n",
    "\\begin{equation} \n",
    "HS^{\\dagger},  \\text{if} \\ \\sigma = Y \n",
    "\\label{_auto8} \\tag{33}\n",
    "\\end{equation}\n",
    "$$"
   ]
  },
  {
   "cell_type": "markdown",
   "id": "8a7d6141",
   "metadata": {
    "editable": true
   },
   "source": [
    "<!-- Equation labels as ordinary links -->\n",
    "<div id=\"_auto9\"></div>\n",
    "\n",
    "$$\n",
    "\\begin{equation} \n",
    "I,  \\text{if} \\ \\sigma = Z \n",
    "\\label{_auto9} \\tag{34}\n",
    "\\end{equation}\n",
    "$$"
   ]
  },
  {
   "cell_type": "markdown",
   "id": "60d63615",
   "metadata": {
    "editable": true
   },
   "source": [
    "<!-- Equation labels as ordinary links -->\n",
    "<div id=\"_auto10\"></div>\n",
    "\n",
    "$$\n",
    "\\begin{equation} \n",
    "\\label{_auto10} \\tag{35}\n",
    "\\end{equation}\n",
    "$$"
   ]
  },
  {
   "cell_type": "markdown",
   "id": "77ee1124",
   "metadata": {
    "editable": true
   },
   "source": [
    "Note the following identity of the basis rotator"
   ]
  },
  {
   "cell_type": "markdown",
   "id": "2a9dcd5f",
   "metadata": {
    "editable": true
   },
   "source": [
    "<!-- Equation labels as ordinary links -->\n",
    "<div id=\"_auto11\"></div>\n",
    "\n",
    "$$\n",
    "\\begin{equation}\n",
    "R^\\dagger_\\sigma Z R_\\sigma = \\sigma\n",
    ", \\label{_auto11} \\tag{36}\n",
    "\\end{equation}\n",
    "$$"
   ]
  },
  {
   "cell_type": "markdown",
   "id": "a353a83e",
   "metadata": {
    "editable": true
   },
   "source": [
    "which follows from the fact that $HZH=X$ and $SXS^\\dagger=Y$. With this, we see that the expectation value of an arbitrary\n",
    "Pauli-gate $\\sigma$ in the state $\\vert\\psi\\rangle$ can be expressed as a linear combination of probabilities"
   ]
  },
  {
   "cell_type": "markdown",
   "id": "747fbd92",
   "metadata": {
    "editable": true
   },
   "source": [
    "$$\n",
    "E_{\\psi}(\\sigma)\n",
    "= \\mel{\\psi}{\\sigma}{\\psi} \\nonumber\n",
    "$$"
   ]
  },
  {
   "cell_type": "markdown",
   "id": "7f84427e",
   "metadata": {
    "editable": true
   },
   "source": [
    "$$\n",
    "=\\mel{\\psi}{R_{\\sigma}^{\\dagger}ZR_{\\sigma}}{\\psi} \\nonumber\n",
    "$$"
   ]
  },
  {
   "cell_type": "markdown",
   "id": "db94488a",
   "metadata": {
    "editable": true
   },
   "source": [
    "$$\n",
    "=\\mel{\\phi}{Z}{\\phi} \\nonumber\n",
    "$$"
   ]
  },
  {
   "cell_type": "markdown",
   "id": "79e2e9b9",
   "metadata": {
    "editable": true
   },
   "source": [
    "$$\n",
    "=\\mel{\\phi}{\\left(\\sum_{x\\in\\{0,1\\}}(-1)^x\\vert x\\rangle\\bra{x}\\right)}{\\phi} \\nonumber\n",
    "$$"
   ]
  },
  {
   "cell_type": "markdown",
   "id": "b88dd900",
   "metadata": {
    "editable": true
   },
   "source": [
    "$$\n",
    "=\\sum_{x\\in\\{0,1\\}}(-1)^x\\abs{\\bra{x}\\vert \\phi\\rangle}^2\\nonumber\n",
    "$$"
   ]
  },
  {
   "cell_type": "markdown",
   "id": "8434b51d",
   "metadata": {
    "editable": true
   },
   "source": [
    "<!-- Equation labels as ordinary links -->\n",
    "<div id=\"_auto12\"></div>\n",
    "\n",
    "$$\n",
    "\\begin{equation} \n",
    "=\\sum_{x\\in\\{0,1\\}}(-1)^xP(\\vert \\phi\\rangle\\to\\vert x\\rangle),\n",
    "\\label{_auto12} \\tag{37}\n",
    "\\end{equation}\n",
    "$$"
   ]
  },
  {
   "cell_type": "markdown",
   "id": "f2b59be5",
   "metadata": {
    "editable": true
   },
   "source": [
    "where $\\vert \\phi\\rangle=\\vert R_\\sigma\\phi\\rangle$ and\n",
    "$P(\\vert \\phi\\rangle\\to\\vert x\\rangle$ is the probability that the state\n",
    "$\\vert \\phi\\rangle$ collapses to the state $\\vert x\\rangle$ when measured. This can\n",
    "be extended to any arbitrary Pauli string: consider the string of\n",
    "Pauli operators $P=\\bigotimes_{p\\in Q}\\sigma_p$ which acts\n",
    "non-trivially on the set of qubits $Q$ which is a subset of the total\n",
    "set of $n$ qubits in the system. Then"
   ]
  },
  {
   "cell_type": "markdown",
   "id": "b41e89e9",
   "metadata": {
    "editable": true
   },
   "source": [
    "$$\n",
    "E_{\\psi}\\left(P\\right)\n",
    "=\\bra{\\psi}\\left(\\bigotimes_{p\\in Q}\\sigma_p\\right)\\vert \\psi\\rangle \\nonumber\n",
    "$$"
   ]
  },
  {
   "cell_type": "markdown",
   "id": "eccc2c11",
   "metadata": {
    "editable": true
   },
   "source": [
    "$$\n",
    "=\\bra{\\psi}\\left(\\bigotimes_{p\\in Q}\\sigma_p\\right)\n",
    "\\left(\\bigotimes_{q\\notin Q}I_q\\right)\\vert \\psi\\rangle \\nonumber\n",
    "$$"
   ]
  },
  {
   "cell_type": "markdown",
   "id": "38fa3671",
   "metadata": {
    "editable": true
   },
   "source": [
    "$$\n",
    "=\\bra{\\psi}\\left(\\bigotimes_{p \\in Q}R_{\\sigma_p}^{\\dagger}Z_pR_{\\sigma_p}\\right)\n",
    "\\left(\\bigotimes_{q\\notin Q}I_q\\right)\\vert \\psi\\rangle \\nonumber\n",
    "$$"
   ]
  },
  {
   "cell_type": "markdown",
   "id": "222f6678",
   "metadata": {
    "editable": true
   },
   "source": [
    "$$\n",
    "=\n",
    "\\bra{\\psi}\\left(\\bigotimes_{p \\in Q}R_{\\sigma_p}^{\\dagger}\\right)\n",
    "\\left(\\bigotimes_{p \\in Q}Z_p\\right)\n",
    "\\left(\\bigotimes_{q\\notin Q}I_q\\right)\n",
    "\\left(\\bigotimes_{p \\in Q}R_{\\sigma_p}\\right)\\vert \\psi\\rangle \\nonumber\n",
    "$$"
   ]
  },
  {
   "cell_type": "markdown",
   "id": "25028ddd",
   "metadata": {
    "editable": true
   },
   "source": [
    "$$\n",
    "=\n",
    "\\bra{\\phi}\n",
    "\\left(\\bigotimes_{p \\in Q}Z_p\\right)\n",
    "\\left(\\bigotimes_{q\\notin Q}I_q\\right)\n",
    "\\vert \\phi\\rangle \\nonumber\n",
    "$$"
   ]
  },
  {
   "cell_type": "markdown",
   "id": "19e4f9ef",
   "metadata": {
    "editable": true
   },
   "source": [
    "$$\n",
    "=\n",
    "\\bra{\\phi}\n",
    "\\left(\\bigotimes_{p\\in Q}\\sum_{x_p\\in\\{0_p,1_p\\}}(-1)^{x_p}\\vert x_p\\rangle\\bra{x_p}\\right)\n",
    "\\left(\\bigotimes_{q\\notin Q}\\sum_{y_q\\in\\{0_q,1_q\\}}\\vert y_q\\rangle\\bra{y_q}\\right)\n",
    "\\vert \\phi\\rangle \n",
    "\\nonumber\n",
    "$$"
   ]
  },
  {
   "cell_type": "markdown",
   "id": "182637df",
   "metadata": {
    "editable": true
   },
   "source": [
    "$$\n",
    "=\n",
    "\\bra{\\phi}\n",
    "\\left(\\sum_{x\\in\\{0,1\\}^n}(-1)^{\\sum_{p\\in Q}x_p}\\vert x\\rangle\\bra{x}\\right)\n",
    "\\vert \\phi\\rangle \n",
    "\\nonumber\n",
    "$$"
   ]
  },
  {
   "cell_type": "markdown",
   "id": "c263d08a",
   "metadata": {
    "editable": true
   },
   "source": [
    "$$\n",
    "=\n",
    "\\sum_{x\\in\\{0,1\\}^n}(-1)^{\\sum_{p\\in Q}x_p}\\abs{\\bra{x}\\vert \\phi\\rangle}^2\n",
    "\\nonumber\n",
    "$$"
   ]
  },
  {
   "cell_type": "markdown",
   "id": "0fe1eb20",
   "metadata": {
    "editable": true
   },
   "source": [
    "<!-- Equation labels as ordinary links -->\n",
    "<div id=\"_auto13\"></div> <div id=\"_auto13\"></div>\n",
    "\n",
    "$$\n",
    "\\begin{equation} \n",
    "=\n",
    "\\sum_{x\\in\\{0,1\\}^n}(-1)^{\\sum_{p\\in Q}x_p}P(\\vert \\phi\\rangle\\to\\vert x\\rangle)\n",
    ", \\label{_auto13} \\tag{39} \\tag{38}\n",
    "\\end{equation}\n",
    "where $\\vert \\phi\\rangle=\\vert \\bigotimes_{p\\in Q}R_{\\sigma_p}\\psi}$. Finally, because the expectation value is linear\n",
    "\\begin{equation}\n",
    "E_\\psi\\left(\\sum_{m}\\lambda_mP_m\\right) = \\sum_m\\lambda_mE_\\psi(P_m),\n",
    "\\label{_auto13} \\tag{39} \\tag{38}\n",
    "\\end{equation}\n",
    "$$"
   ]
  },
  {
   "cell_type": "markdown",
   "id": "a5a2661d",
   "metadata": {
    "editable": true
   },
   "source": [
    "one can estimate any observable that can be written as a linear combination of Pauli-string terms."
   ]
  },
  {
   "cell_type": "markdown",
   "id": "788e351c",
   "metadata": {
    "editable": true
   },
   "source": [
    "### Measurement\n",
    "\n",
    "To estimate the probability $P(\\vert \\phi}\\to \\vert x})$ from the\n",
    "previous section, one prepares the state $\\vert \\phi}$ on a quantum\n",
    "computer and measures it, and then repeats this process (prepare and\n",
    "measure) several times. The probability $P(\\vert \\phi}\\to \\vert x})$ is\n",
    "estimated to be the number of times that one measures the bit-string\n",
    "$x$ divided by the total number of measurements that one makes; that"
   ]
  },
  {
   "cell_type": "markdown",
   "id": "c46f55ff",
   "metadata": {
    "editable": true
   },
   "source": [
    "<!-- Equation labels as ordinary links -->\n",
    "<div id=\"_auto14\"></div>\n",
    "\n",
    "$$\n",
    "\\begin{equation}\n",
    "P(\\vert \\phi}\\to \\vert x}) \\approx \\sum_{m=1}^M\\frac{x_m}{M},\n",
    "\\label{_auto14} \\tag{40}\n",
    "\\end{equation}\n",
    "$$"
   ]
  },
  {
   "cell_type": "markdown",
   "id": "fe5d23f3",
   "metadata": {
    "editable": true
   },
   "source": [
    "where"
   ]
  },
  {
   "cell_type": "markdown",
   "id": "479ea547",
   "metadata": {
    "editable": true
   },
   "source": [
    "<!-- Equation labels as ordinary links -->\n",
    "<div id=\"_auto15\"></div>\n",
    "\n",
    "$$\n",
    "\\begin{equation}\n",
    "x_m\n",
    "=\n",
    "\\begin{cases}\n",
    "1  \\text{if the result of measurement is $x$} \n",
    "\\label{_auto15} \\tag{41}\n",
    "\\end{equation}\n",
    "$$"
   ]
  },
  {
   "cell_type": "markdown",
   "id": "56d0daa9",
   "metadata": {
    "editable": true
   },
   "source": [
    "<!-- Equation labels as ordinary links -->\n",
    "<div id=\"_auto16\"></div>\n",
    "\n",
    "$$\n",
    "\\begin{equation} \n",
    "0  \\text{if the result of measurement is not $x$}.\n",
    "\\end{cases}\n",
    "\\label{_auto16} \\tag{42}\n",
    "\\end{equation}\n",
    "$$"
   ]
  },
  {
   "cell_type": "markdown",
   "id": "82d3253a",
   "metadata": {
    "editable": true
   },
   "source": [
    "By the law of large numbers the approximation approaches equality as\n",
    "$M$ goes to infinity"
   ]
  },
  {
   "cell_type": "markdown",
   "id": "63d92349",
   "metadata": {
    "editable": true
   },
   "source": [
    "<!-- Equation labels as ordinary links -->\n",
    "<div id=\"_auto17\"></div>\n",
    "\n",
    "$$\n",
    "\\begin{equation}\n",
    "P(\\vert \\phi}\\to \\vert x}) = \\lim_{M\\to\\infty}\\sum_{m=1}^M\\frac{x_m}{M}.\n",
    "\\label{_auto17} \\tag{43}\n",
    "\\end{equation}\n",
    "$$"
   ]
  },
  {
   "cell_type": "markdown",
   "id": "b00047ac",
   "metadata": {
    "editable": true
   },
   "source": [
    "As we obviously do not have infinite time nor infinite quantum\n",
    "computers (which could be run in parallel), we must truncate our\n",
    "number of measurement $M$ to a finite, but sufficiently large\n",
    "number. More precisely, for precision $\\epsilon$, each expectation\n",
    "estimation subroutine within VQE requires $\\mathcal{O}(1/\\epsilon^2)$\n",
    "samples from circuits with depth $\\mathcal{O}(1)$.\n",
    "\n",
    "**Lecture next week we continue  the discussion of the VQE and the Lipkin model.**\n",
    "\n",
    "1. Discussion of the project\n",
    "\n",
    "2. VQE examples and discussion of results"
   ]
  }
 ],
 "metadata": {},
 "nbformat": 4,
 "nbformat_minor": 5
}
