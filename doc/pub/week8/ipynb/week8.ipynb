{
 "cells": [
  {
   "cell_type": "markdown",
   "id": "8dd83dfa",
   "metadata": {
    "editable": true
   },
   "source": [
    "<!-- HTML file automatically generated from DocOnce source (https://github.com/doconce/doconce/)\n",
    "doconce format html week8.do.txt --no_mako -->\n",
    "<!-- dom:TITLE: March 13-17,2023: Quantum Computing, Quantum Machine Learning and Quantum Information Theories -->"
   ]
  },
  {
   "cell_type": "markdown",
   "id": "c8cbb10a",
   "metadata": {
    "editable": true
   },
   "source": [
    "# March 13-17,2023: Quantum Computing, Quantum Machine Learning and Quantum Information Theories\n",
    "**Morten Hjorth-Jensen**, Department of Physics, University of Oslo and Department of Physics and Astronomy and National Superconducting Cyclotron Laboratory, Michigan State University\n",
    "\n",
    "Date: **Mar 12, 2023**\n",
    "\n",
    "Copyright 1999-2023, Morten Hjorth-Jensen. Released under CC Attribution-NonCommercial 4.0 license"
   ]
  },
  {
   "cell_type": "markdown",
   "id": "7f453e25",
   "metadata": {
    "editable": true
   },
   "source": [
    "## Solving quantum mechanical problems\n",
    "\n",
    "1. Analyzing the solution of eigenvalue problems using the Lipkin model"
   ]
  },
  {
   "cell_type": "markdown",
   "id": "846cde78",
   "metadata": {
    "editable": true
   },
   "source": [
    "## Lipkin model"
   ]
  },
  {
   "cell_type": "code",
   "execution_count": 1,
   "id": "506253b9",
   "metadata": {
    "collapsed": false,
    "editable": true
   },
   "outputs": [],
   "source": [
    "%matplotlib inline\n",
    "\n",
    "import numpy as np\n",
    "import qiskit\n",
    "from qiskit.visualization import circuit_drawer\n",
    "from qiskit.quantum_info import Statevector\n",
    "from matplotlib.pyplot import figure\n",
    "from qiskit import QuantumRegister, QuantumCircuit, ClassicalRegister, Aer, assemble\n",
    "from qiskit.providers.aer.noise import NoiseModel\n",
    "import pylatexenc\n",
    "from qiskit.algorithms import VQE\n",
    "from qiskit.utils import QuantumInstance\n",
    "from qiskit.opflow import X, Z, I, Y\n",
    "from qiskit.circuit import Parameter\n",
    "from qiskit.algorithms.optimizers import ADAM\n",
    "from qiskit.opflow import AerPauliExpectation\n",
    "from qiskit import IBMQ\n",
    "import cmath\n",
    "import pandas as pd\n",
    "from scipy.sparse import diags\n",
    "import numpy.linalg as LA\n",
    "import matplotlib.pyplot as plt\n",
    "from IPython.display import Image\n",
    "import warnings\n",
    "warnings.filterwarnings('ignore')\n",
    "pi=np.pi"
   ]
  },
  {
   "cell_type": "markdown",
   "id": "5d53b4a2",
   "metadata": {
    "editable": true
   },
   "source": [
    "### Lipkin Model\n",
    "\n",
    "The Lipkin Model (LM) was introduced by H. Lipkin, N. Meshkov, and A. Glick in 1965. The model considers two levels above and bellow the fermi level to which they are assigned an index of $\\sigma_{\\pm}$ each with degeneracy $\\Omega$ over which fermions are distributed. Using the language of second quantunization representation, the LM"
   ]
  },
  {
   "cell_type": "markdown",
   "id": "33fe7f78",
   "metadata": {
    "editable": true
   },
   "source": [
    "<!-- Equation labels as ordinary links -->\n",
    "<div id=\"_auto1\"></div>\n",
    "\n",
    "$$\n",
    "\\begin{equation}\n",
    "     \\hat{H}_{LM} = \\frac{1}{2}\\epsilon\\sum_{m\\sigma}a^{\\dagger}_{m\\sigma}a_{m\\sigma} -\\frac{1}{2}V\\sum_{mm'\\sigma}a^{\\dagger}_{m\\sigma}a^{\\dagger}_{m'\\sigma}a_{m'-\\sigma}a_{m-\\sigma},\n",
    "\\label{_auto1} \\tag{1}\n",
    "\\end{equation}\n",
    "$$"
   ]
  },
  {
   "cell_type": "markdown",
   "id": "23e68caf",
   "metadata": {
    "editable": true
   },
   "source": [
    "where $\\epsilon$ is the energy of the level, $V$ is the interaction\n",
    "strength, and $m=1,\\cdots,\\Omega$. The first term is a one-body\n",
    "interaction which counts the number of nucleons in the level. Where\n",
    "the second term is a two-body interaction that destroys and created\n",
    "nucleons up and down a level. One can introduce the quasi-spin\n",
    "operators defined as"
   ]
  },
  {
   "cell_type": "markdown",
   "id": "a2972d16",
   "metadata": {
    "editable": true
   },
   "source": [
    "<!-- Equation labels as ordinary links -->\n",
    "<div id=\"_auto2\"></div>\n",
    "\n",
    "$$\n",
    "\\begin{equation}\n",
    "     \\begin{split}\n",
    "         \\hat{K}_0 &= \\frac{1}{2}\\sum_{m=1}^{\\Omega}(a^{\\dagger}_{m+}a_{m+}-a^{\\dagger}_{m-}a_{m-})\\\\ \n",
    "         \\hat{K}_+ & = \\sum_{m=1}^{\\Omega}a^{\\dagger}_{m+}a_{m-}\\\\\n",
    "         \\hat{K}_- & = (\\hat{K}_+)^\\dagger.\n",
    "     \\end{split}\n",
    "\\label{_auto2} \\tag{2}\n",
    "\\end{equation}\n",
    "$$"
   ]
  },
  {
   "cell_type": "markdown",
   "id": "de907125",
   "metadata": {
    "editable": true
   },
   "source": [
    "These operators have the following SU(2) angular momentum commutation relation"
   ]
  },
  {
   "cell_type": "markdown",
   "id": "38b03a2a",
   "metadata": {
    "editable": true
   },
   "source": [
    "<!-- Equation labels as ordinary links -->\n",
    "<div id=\"_auto3\"></div>\n",
    "\n",
    "$$\n",
    "\\begin{equation}\n",
    "     [\\hat{K}_+,\\hat{K}_-] =2\\hat{K}_0, \\hspace{1cm} [\\hat{K}_0,\\hat{K}_{\\pm}]=\\pm\\hat{K}_{\\pm}.\n",
    "\\label{_auto3} \\tag{3}\n",
    "\\end{equation}\n",
    "$$"
   ]
  },
  {
   "cell_type": "markdown",
   "id": "f764b21c",
   "metadata": {
    "editable": true
   },
   "source": [
    "The LM Hammiltonian can be written using the quasi-spin operators as such"
   ]
  },
  {
   "cell_type": "markdown",
   "id": "b68673fd",
   "metadata": {
    "editable": true
   },
   "source": [
    "<!-- Equation labels as ordinary links -->\n",
    "<div id=\"_auto4\"></div>\n",
    "\n",
    "$$\n",
    "\\begin{equation}\n",
    "     \\hat{H}_{LM} = \\epsilon\\hat{K}_0 -\\frac{1}{2}V(\\hat{K}_+\\hat{K}_++\\hat{K}_-\\hat{K}_-).\n",
    "\\label{_auto4} \\tag{4}\n",
    "\\end{equation}\n",
    "$$"
   ]
  },
  {
   "cell_type": "markdown",
   "id": "b5a98aec",
   "metadata": {
    "editable": true
   },
   "source": [
    "The quasi-spin operators act like lowering and raising angular momentum operators, as such they have these given properties"
   ]
  },
  {
   "cell_type": "markdown",
   "id": "e9204360",
   "metadata": {
    "editable": true
   },
   "source": [
    "<!-- Equation labels as ordinary links -->\n",
    "<div id=\"_auto5\"></div>\n",
    "\n",
    "$$\n",
    "\\begin{equation}\n",
    "\\hat{K}_0|KK_0\\rangle = K_0|KK_0\\rangle\n",
    "\\label{_auto5} \\tag{5}\n",
    "\\end{equation}\n",
    "$$"
   ]
  },
  {
   "cell_type": "markdown",
   "id": "0dc95852",
   "metadata": {
    "editable": true
   },
   "source": [
    "<!-- Equation labels as ordinary links -->\n",
    "<div id=\"_auto6\"></div>\n",
    "\n",
    "$$\n",
    "\\begin{equation}\n",
    "    \\hat{K}_{\\pm}|KK_0\\rangle =\\sqrt{K(K+1)-K_0(K_0\\pm 1)}|KK_0+1\\rangle,\n",
    "\\label{_auto6} \\tag{6}\n",
    "\\end{equation}\n",
    "$$"
   ]
  },
  {
   "cell_type": "markdown",
   "id": "46234d1d",
   "metadata": {
    "editable": true
   },
   "source": [
    "With these properties we can calculate the LM Hamiltonian matrix"
   ]
  },
  {
   "cell_type": "markdown",
   "id": "43fbaef7",
   "metadata": {
    "editable": true
   },
   "source": [
    "<!-- Equation labels as ordinary links -->\n",
    "<div id=\"_auto7\"></div>\n",
    "\n",
    "$$\n",
    "\\begin{equation}\n",
    "\\langle KK_0|H_{LM}|KK_0'\\rangle,\n",
    "\\label{_auto7} \\tag{7}\n",
    "\\end{equation}\n",
    "$$"
   ]
  },
  {
   "cell_type": "markdown",
   "id": "7ac42a09",
   "metadata": {
    "editable": true
   },
   "source": [
    "where the non-zero elements are given by"
   ]
  },
  {
   "cell_type": "markdown",
   "id": "dd2aa43c",
   "metadata": {
    "editable": true
   },
   "source": [
    "<!-- Equation labels as ordinary links -->\n",
    "<div id=\"_auto8\"></div>\n",
    "\n",
    "$$\n",
    "\\begin{equation}\n",
    "\\begin{split}\n",
    "    \\langle KK_0|H_{LM}|KK_0'\\rangle & = \\epsilon K_0\\\\\n",
    "     \\langle KK_0|H_{LM}|KK_0'\\pm 2\\rangle & = \\langle KK_0\\pm 2|H_{LM}|KK_0'\\rangle \\\\\n",
    "     &= -\\frac{1}{2}VC,\n",
    "\\end{split}\n",
    "\\label{_auto8} \\tag{8}\n",
    "\\end{equation}\n",
    "$$"
   ]
  },
  {
   "cell_type": "markdown",
   "id": "d4ab83c2",
   "metadata": {
    "editable": true
   },
   "source": [
    "where C is the Clebsch-Gordan Coefficients one gets when $K_{\\pm}^2$ operates on the state $|KK_0\\rangle$.\n",
    "Using equation (8) one can calculate the exact solution to the Lipkin Model for any $\\Omega$.\n",
    "\n",
    "The collective space of the Hamiltonian is $\\Omega+1=3$, and is given by"
   ]
  },
  {
   "cell_type": "markdown",
   "id": "17ce4324",
   "metadata": {
    "editable": true
   },
   "source": [
    "<!-- Equation labels as ordinary links -->\n",
    "<div id=\"_auto9\"></div>\n",
    "\n",
    "$$\n",
    "\\begin{equation}\n",
    "\\begin{pmatrix}-\\epsilon & 0 & -V\\\\\n",
    " 0&0&0\\\\\n",
    " -V&0&\\epsilon\n",
    "\\end{pmatrix}\n",
    "\\label{_auto9} \\tag{9}\n",
    "\\end{equation}\n",
    "$$"
   ]
  },
  {
   "cell_type": "code",
   "execution_count": 2,
   "id": "76745f6a",
   "metadata": {
    "collapsed": false,
    "editable": true
   },
   "outputs": [],
   "source": [
    "#function that sorts eigenvalues with its eigenvectors in accending order\n",
    "def eigen(A):\n",
    "    eigenValues, eigenVectors = LA.eig(A)\n",
    "    idx = np.argsort(eigenValues)\n",
    "    eigenValues = eigenValues[idx]\n",
    "    eigenVectors = eigenVectors[:,idx]\n",
    "    return (eigenValues, eigenVectors) \n",
    "\n",
    "#one body expectation value\n",
    "def one_body(E,N):\n",
    "  k = N/2\n",
    "  m = np.arange(-k,k+1,1) # Since the collective space is Omega+1\n",
    "  return E*np.diag(m) #return a matrix where its diagonal elemens are epsilon*K_0\n",
    "\n",
    "#two body expectation value\n",
    "def two_body(V,N):\n",
    "  k = N/2\n",
    "  m = np.arange(-k,k+1,1)\n",
    "  left =np.zeros(len(m)-2,dtype=complex)\n",
    "  right = np.zeros(len(m)-2,dtype=complex)\n",
    "  diag = np.zeros(len(m),dtype=complex)\n",
    "  for i in range(len(left)):\n",
    "    CG = cmath.sqrt(k*(k+1)-(m[i]+2)*(m[i]+1))*cmath.sqrt(k*(k+1)-m[i]*(m[i]+1)) #calculate Clebsch-Gordan Coefficients \n",
    "    left[i] = CG\n",
    "    right[i] = CG\n",
    "  k = [left,diag,right]\n",
    "  offset = [-2,0,2]\n",
    "  return -0.5*V*diags(k,offset).toarray() #return a matrix where its off digonal elements are (1/2)V(K^2_+ + K^2_-)\n",
    "\n",
    "#full expectation value\n",
    "def quasi_spin(E,V,N):\n",
    "  ob = one_body(E,N)\n",
    "  tb = two_body(V,N)\n",
    "  H = ob+tb \n",
    "  e,v = eigen(H) # find the eigenvalues of the Hamiltonian\n",
    "  return e,H\n",
    "\n",
    "#converts chi to V\n",
    "def Vp(E,omega,chi):\n",
    "  return (chi*E)/(omega-1)"
   ]
  },
  {
   "cell_type": "code",
   "execution_count": 3,
   "id": "3feaf51b",
   "metadata": {
    "collapsed": false,
    "editable": true
   },
   "outputs": [],
   "source": [
    "#parameters\n",
    "E = 1\n",
    "chi = np.arange(0,2.1,0.1)\n",
    "omega = 2\n",
    "\n",
    "EV0 = []\n",
    "EV1 = []\n",
    "EV2 = []\n",
    "Ham = []\n",
    "for i in chi:\n",
    "  v = Vp(E,omega,i)\n",
    "  EigenV,H = quasi_spin(E,v,omega) #return eigenvalues and Hamiltonian\n",
    "  Ham.append(H)\n",
    "  EV0.append(EigenV[0])\n",
    "  EV1.append(EigenV[1])\n",
    "  EV2.append(EigenV[2])"
   ]
  },
  {
   "cell_type": "code",
   "execution_count": 4,
   "id": "70679680",
   "metadata": {
    "collapsed": false,
    "editable": true
   },
   "outputs": [],
   "source": [
    "matrix = pd.DataFrame(Ham[5].real)\n",
    "print('Hamiltonian matrix')\n",
    "matrix.head()"
   ]
  },
  {
   "cell_type": "code",
   "execution_count": 5,
   "id": "3b53c3fb",
   "metadata": {
    "collapsed": false,
    "editable": true
   },
   "outputs": [],
   "source": [
    "plt.plot(chi,EV0)\n",
    "plt.plot(chi,EV1)\n",
    "plt.plot(chi,EV2)\n",
    "plt.xlabel('$\\chi$')\n",
    "plt.ylabel('Energy')\n",
    "plt.title('$\\Omega=2$ exact Lipkin Model')"
   ]
  },
  {
   "cell_type": "markdown",
   "id": "97046181",
   "metadata": {
    "editable": true
   },
   "source": [
    "### Hartree Fock\n",
    "\n",
    "A variational method in quantum mechanics, starts with the Schrodinger equation where one minimizes the energy for a given trail wave function $|\\psi\\rangle$."
   ]
  },
  {
   "cell_type": "markdown",
   "id": "acb4cb27",
   "metadata": {
    "editable": true
   },
   "source": [
    "<!-- Equation labels as ordinary links -->\n",
    "<div id=\"_auto10\"></div>\n",
    "\n",
    "$$\n",
    "\\begin{equation}\n",
    "\\delta\\frac{\\langle\\psi |\\hat{H}|\\psi\\rangle}{\\langle\\psi|\\psi\\rangle}=0\n",
    "\\label{_auto10} \\tag{10}\n",
    "\\end{equation}\n",
    "$$"
   ]
  },
  {
   "cell_type": "markdown",
   "id": "6ed8ba94",
   "metadata": {
    "editable": true
   },
   "source": [
    "The Hartree Fock (HF) method is a variational method that assumes that\n",
    "the exact N-body wavefunction of the system can be approimated by a\n",
    "single Slater determinant, where energy of the system is minimized and\n",
    "the trial wave function is the particle number conserving coherent\n",
    "product state. The SU(2) coherent states map a two-dimensional sphere\n",
    "known as the bloch sphere onto the complex plane,"
   ]
  },
  {
   "cell_type": "markdown",
   "id": "8b262cb7",
   "metadata": {
    "editable": true
   },
   "source": [
    "<!-- Equation labels as ordinary links -->\n",
    "<div id=\"_auto11\"></div>\n",
    "\n",
    "$$\n",
    "\\begin{equation}\n",
    "\\tau = tan\\frac{\\theta}{2}e^{-i\\phi}\n",
    "\\label{_auto11} \\tag{11}\n",
    "\\end{equation}\n",
    "$$"
   ]
  },
  {
   "cell_type": "markdown",
   "id": "f80928a7",
   "metadata": {
    "editable": true
   },
   "source": [
    "where the normalized coherent SU(2) state can be written in the language of LM:"
   ]
  },
  {
   "cell_type": "markdown",
   "id": "e27ab052",
   "metadata": {
    "editable": true
   },
   "source": [
    "<!-- Equation labels as ordinary links -->\n",
    "<div id=\"_auto12\"></div>\n",
    "\n",
    "$$\n",
    "\\begin{equation}\n",
    "|\\tau\\rangle = \\frac{1}{(1+|\\tau|^2)^{\\Omega/2}}e^{\\tau\\hat{K}_+}|\\frac{\\Omega}{2},-\\frac{\\Omega}{2}\\rangle,\n",
    "\\label{_auto12} \\tag{12}\n",
    "\\end{equation}\n",
    "$$"
   ]
  },
  {
   "cell_type": "markdown",
   "id": "4c0cb680",
   "metadata": {
    "editable": true
   },
   "source": [
    "The $E_{g.s}$ of the LM given HF coherent states is:"
   ]
  },
  {
   "cell_type": "markdown",
   "id": "10cbd8e1",
   "metadata": {
    "editable": true
   },
   "source": [
    "<!-- Equation labels as ordinary links -->\n",
    "<div id=\"_auto13\"></div>\n",
    "\n",
    "$$\n",
    "\\begin{equation}\n",
    "E(\\tau) = \\langle \\tau|\\hat{H}_{LM}|\\tau\\rangle.\n",
    "\\label{_auto13} \\tag{13}\n",
    "\\end{equation}\n",
    "$$"
   ]
  },
  {
   "cell_type": "markdown",
   "id": "83c31c40",
   "metadata": {
    "editable": true
   },
   "source": [
    "To calculate equation the last euation, we use generating functions for:"
   ]
  },
  {
   "cell_type": "markdown",
   "id": "3aecf544",
   "metadata": {
    "editable": true
   },
   "source": [
    "<!-- Equation labels as ordinary links -->\n",
    "<div id=\"_auto14\"></div>\n",
    "\n",
    "$$\n",
    "\\begin{equation}\n",
    "\\begin{split}\n",
    "\\langle \\tau|\\hat{K}_{0}|\\tau\\rangle &= \\frac{1}{2}\\Omega\\frac{|\\tau|^2-1}{\\tau|^2+1}\\\\\n",
    "\\langle \\tau|\\hat{K}_{\\pm}^2|\\tau\\rangle &= \\Omega\\frac{\\tau^*}{|\\tau|^2+1}\n",
    "\\end{split}\n",
    "\\label{_auto14} \\tag{14}\n",
    "\\end{equation}\n",
    "$$"
   ]
  },
  {
   "cell_type": "markdown",
   "id": "fe1e9e95",
   "metadata": {
    "editable": true
   },
   "source": [
    "Then using the definition of $\\tau$ in equation (10) we can write down the energy:"
   ]
  },
  {
   "cell_type": "markdown",
   "id": "ba310db1",
   "metadata": {
    "editable": true
   },
   "source": [
    "<!-- Equation labels as ordinary links -->\n",
    "<div id=\"_auto15\"></div>\n",
    "\n",
    "$$\n",
    "\\begin{equation}\n",
    "E(\\tau) = -\\frac{\\epsilon}{2}\\Omega(cos\\theta+\\frac{\\chi}{2}sin^2\\theta cos2\\phi),\n",
    "\\label{_auto15} \\tag{15}\n",
    "\\end{equation}\n",
    "$$"
   ]
  },
  {
   "cell_type": "markdown",
   "id": "25f3eb62",
   "metadata": {
    "editable": true
   },
   "source": [
    "where $\\chi=\\frac{V}{\\epsilon}(\\Omega-1)$. Minimizing $E(\\tau)$ with respect to $\\theta,\\phi$, we obtain the ground state Hartree Fock energy"
   ]
  },
  {
   "cell_type": "markdown",
   "id": "2c479dc0",
   "metadata": {
    "editable": true
   },
   "source": [
    "<!-- Equation labels as ordinary links -->\n",
    "<div id=\"_auto16\"></div>\n",
    "\n",
    "$$\n",
    "\\begin{equation}\n",
    "\\begin{split}\n",
    "E_{HF}  = -\\frac{\\Omega}{2}\\epsilon &\\hspace{1cm} \\chi<1\\\\\n",
    "E_{HF}  = -\\frac{\\Omega}{4}\\epsilon(\\chi+\\frac{1}{\\chi}) &\\hspace{1cm} \\chi\\ge 1\n",
    "\\end{split}\n",
    "\\label{_auto16} \\tag{16}\n",
    "\\end{equation}\n",
    "$$"
   ]
  },
  {
   "cell_type": "code",
   "execution_count": 6,
   "id": "722ecfdf",
   "metadata": {
    "collapsed": false,
    "editable": true
   },
   "outputs": [],
   "source": [
    "def E_HF(x,E,omega):\n",
    "  if x < 1:\n",
    "    EHF = -(omega/2)*E\n",
    "  elif x >= 1:\n",
    "    EHF = -(omega/4)*E*(x+(1/x))\n",
    "  return EHF"
   ]
  },
  {
   "cell_type": "code",
   "execution_count": 7,
   "id": "133acf26",
   "metadata": {
    "collapsed": false,
    "editable": true
   },
   "outputs": [],
   "source": [
    "epsilon = 1\n",
    "Omega = 2\n",
    "\n",
    "HF = []\n",
    "exact = []\n",
    "for x in chi:\n",
    "    HF.append(E_HF(x,epsilon,omega).real)\n",
    "    v = Vp(epsilon,omega,x)\n",
    "    e,h = quasi_spin(epsilon,v,omega)\n",
    "    exact.append(e[0].real)"
   ]
  },
  {
   "cell_type": "code",
   "execution_count": 8,
   "id": "84d04a1b",
   "metadata": {
    "collapsed": false,
    "editable": true
   },
   "outputs": [],
   "source": [
    "plt.plot(chi,HF,label='HF')\n",
    "plt.plot(chi,exact,label='exact')\n",
    "plt.xlabel('$\\chi$')\n",
    "plt.ylabel('Energy')\n",
    "plt.axvline(1, color = 'k', linestyle='--')\n",
    "plt.title('$\\Omega=2$ exact Lipkin Model')\n",
    "plt.legend(bbox_to_anchor=(1.05, 1))"
   ]
  },
  {
   "cell_type": "markdown",
   "id": "914d06dc",
   "metadata": {
    "editable": true
   },
   "source": [
    "### Quantum Circuit\n",
    "\n",
    "To solve the LM on a quantum computer we have to solve Schrodinger's equation."
   ]
  },
  {
   "cell_type": "markdown",
   "id": "4b12b140",
   "metadata": {
    "editable": true
   },
   "source": [
    "<!-- Equation labels as ordinary links -->\n",
    "<div id=\"_auto17\"></div>\n",
    "\n",
    "$$\n",
    "\\begin{equation}\n",
    "H|\\psi(\\tilde{\\theta})\\rangle = E|\\psi(\\tilde{\\theta})\\rangle\\\\\n",
    "\\label{_auto17} \\tag{17}\n",
    "\\end{equation}\n",
    "$$"
   ]
  },
  {
   "cell_type": "markdown",
   "id": "bdb44811",
   "metadata": {
    "editable": true
   },
   "source": [
    "We map the creation and annihilation operators to Pauli operators Z, X, Y using the Jordan-Wigner transformation. The Hamiltonian then takes the form of"
   ]
  },
  {
   "cell_type": "markdown",
   "id": "d133a2d7",
   "metadata": {
    "editable": true
   },
   "source": [
    "<!-- Equation labels as ordinary links -->\n",
    "<div id=\"_auto18\"></div>\n",
    "\n",
    "$$\n",
    "\\begin{equation}\n",
    "H = \\frac{\\epsilon}{2}(Z_1+Z_1) - \\frac{V}{2}(X_1X_2 - Y_1Y_2),\n",
    "\\label{_auto18} \\tag{18}\n",
    "\\end{equation}\n",
    "$$"
   ]
  },
  {
   "cell_type": "markdown",
   "id": "871dfcbf",
   "metadata": {
    "editable": true
   },
   "source": [
    "where the Pauli operators are the measurement basis which the quantum\n",
    "circuit is measured in. However, before measuring, we first have to\n",
    "prepare the initial state $|\\psi(\\tilde{\\theta})\\rangle$ for\n",
    "$\\Omega=2$ of the LM circuit"
   ]
  },
  {
   "cell_type": "markdown",
   "id": "a7ca4599",
   "metadata": {
    "editable": true
   },
   "source": [
    "$$\n",
    "\\begin{equation}\n",
    "|\\psi(\\tilde{\\theta})\\rangle = cos(\\tilde{\\theta})|00\\rangle+sin(\\tilde{\\theta})|11\\rangle,\n",
    "end{equation}\n",
    "$$"
   ]
  },
  {
   "cell_type": "markdown",
   "id": "16c37ade",
   "metadata": {
    "editable": true
   },
   "source": [
    "where $|00\\rangle =|\\uparrow\\uparrow\\rangle$, $|11\\rangle=|\\downarrow\\downarrow\\rangle$, and $\\tilde{\\theta}=\\theta-\\frac{\\pi}{2}$. \n",
    "\n",
    "This type of problem resides in the pantheon of variational methods\n",
    "where we minimize $\\tilde{\\theta}$. This problem was coded using IBM's\n",
    "python library Qiskit. Since this is a variational problem, the use of\n",
    "Qiskit's Variational Quantum Eigensolver (VQE) was used to find the\n",
    "optimal $\\tilde{\\theta}$ that minimizes\n",
    "$\\langle\\psi(\\tilde{\\theta})|H|\\psi(\\tilde{\\theta})\\rangle$."
   ]
  },
  {
   "cell_type": "code",
   "execution_count": 9,
   "id": "b69b47f5",
   "metadata": {
    "collapsed": false,
    "editable": true
   },
   "outputs": [],
   "source": [
    "def LM_circuit():\n",
    "    theta = Parameter('theta')\n",
    "    QC = QuantumCircuit(2)\n",
    "    QC.ry(2*(theta-np.pi/2),0)\n",
    "    QC.cnot(0,1)\n",
    "    return QC"
   ]
  },
  {
   "cell_type": "code",
   "execution_count": 10,
   "id": "f39566eb",
   "metadata": {
    "collapsed": false,
    "editable": true
   },
   "outputs": [],
   "source": [
    "QC = LM_circuit()\n",
    "QC.draw(output='mpl')"
   ]
  },
  {
   "cell_type": "markdown",
   "id": "0c6f01ee",
   "metadata": {
    "editable": true
   },
   "source": [
    "### VQE method 1\n",
    "\n",
    "For this method, we will be using Qiskit's VQE function, where we specifiy \n",
    "* Quantum circuit\n",
    "\n",
    "a. Optimizer\n",
    "\n",
    "b. Quantum instance (i.e. which backend). Here we will be using the \"qasm_simulator\" \n",
    "\n",
    "c. Initial point (i.e. $\\theta$ search space)\n",
    "\n",
    "d. Hamiltonian/measurement basis\n",
    "\n",
    "To define the Hamiltonian, we will use qiskit Pauli operator functions\n",
    "I,Z,X,Y.  In this method, for a given $\\chi$, we will do a search over\n",
    "$\\theta$ from $-\\frac{\\pi}{2}$ to $\\frac{\\pi}{2}$ and picking out the\n",
    "minimum energy value"
   ]
  },
  {
   "cell_type": "code",
   "execution_count": 11,
   "id": "beded8e6",
   "metadata": {
    "collapsed": false,
    "editable": true
   },
   "outputs": [],
   "source": [
    "#sim1 min example\n",
    "sim = Aer.get_backend('qasm_simulator')\n",
    "adam =qiskit.algorithms.optimizers.ADAM(maxiter=10000) #optimizer for VQE\n",
    "epsilon = 1\n",
    "omega = 2\n",
    "chi2 = [0.5,1]\n",
    "\n",
    "t = np.arange(-pi/2,pi/2,0.05) #0.1 step size finishs pretty fast\n",
    "energy = []\n",
    "for x in chi2:\n",
    "    ev = []\n",
    "    v = Vp(epsilon,omega,x)\n",
    "    for i in range(len(t)):\n",
    "        H = 0.5 * epsilon * ( Z ^ I ) +             0.5 * epsilon * ( I ^ Z ) -             0.5 * v * ( X ^ X ) +             0.5 * v * ( Y ^ Y )\n",
    "\n",
    "        vqe = VQE(ansatz=LM_circuit(),optimizer=adam,initial_point=[t[i]],quantum_instance=sim,expectation=AerPauliExpectation())\n",
    "        result = vqe.compute_minimum_eigenvalue(H)\n",
    "        ev.append(result.eigenvalue)\n",
    "    energy.append(ev)\n",
    "\n",
    "\n",
    "plt.plot(t,energy[0],label='$\\chi=0.5$')\n",
    "plt.plot(t,energy[1],label='$\\chi=1$')\n",
    "\n",
    "plt.xlabel('$\\\\theta$')\n",
    "plt.ylabel('Ground State Energy')\n",
    "plt.title('$E_{g.s}$ vs. $\\\\theta$')\n",
    "plt.legend()"
   ]
  },
  {
   "cell_type": "code",
   "execution_count": 12,
   "id": "50965710",
   "metadata": {
    "collapsed": false,
    "editable": true
   },
   "outputs": [],
   "source": [
    "epsilon = 1\n",
    "omega = 2\n",
    "chi3 = np.arange(0,2.1,0.1)\n",
    "t = np.arange(-pi/2,pi/2,0.1)\n",
    "adam =qiskit.algorithms.optimizers.ADAM(maxiter=10000)\n",
    "LM_sim = []\n",
    "for x in chi3:\n",
    "    v = Vp(epsilon,omega,x)\n",
    "    ev = []\n",
    "    for i in range(len(t)):\n",
    "        H = 0.5 * epsilon * ( Z ^ I ) +            0.5 * epsilon * ( I ^ Z ) -            0.5 * v * ( X ^ X ) +            0.5 * v * ( Y ^ Y )\n",
    "    \n",
    "        vqe = VQE(ansatz=LM_circuit(),optimizer=adam,initial_point=[t[i]],quantum_instance=sim,expectation=AerPauliExpectation())\n",
    "        result = vqe.compute_minimum_eigenvalue(H)\n",
    "\n",
    "        ev.append(result.eigenvalue)\n",
    "    LM_sim.append(min(ev))\n",
    "\n",
    "plt.plot(chi,np.array(exact),label='$E_{exact}$',color='b')\n",
    "plt.plot(chi,np.array(HF),label='$E_{HF}$',color='g')\n",
    "plt.scatter(chi3,LM_sim,label='QC sim',color='cyan')\n",
    "plt.axvline(1, color = 'k', linestyle='--')\n",
    "plt.ylabel('$E_{g.s}$')\n",
    "plt.xlabel('$\\chi$')\n",
    "plt.title(f'$\\Omega=2$')\n",
    "plt.legend()"
   ]
  },
  {
   "cell_type": "markdown",
   "id": "0a218ba0",
   "metadata": {
    "editable": true
   },
   "source": [
    "Here we will be running the same code, but with a noise model of IBM Quantum Computer Manila.\n",
    "Note this code takes a lot longer to run, so maybe reduce range of $\\chi$ and $t$ i.e. $\\theta$."
   ]
  },
  {
   "cell_type": "code",
   "execution_count": 13,
   "id": "8e4961f7",
   "metadata": {
    "collapsed": false,
    "editable": true
   },
   "outputs": [],
   "source": [
    "IBMQ.load_account()\n",
    "provider = IBMQ.get_provider()\n",
    "IBMQC=provider.get_backend('ibmq_manila')\n",
    "noise_model = NoiseModel.from_backend(IBMQC)\n",
    "qi = QuantumInstance(backend=sim, noise_model=noise_model)\n",
    "\n",
    "epsilon = 1\n",
    "omega = 2\n",
    "chi4 = np.arange(0,2.1,0.1)\n",
    "t = np.arange(-pi/2,pi/2,0.1)\n",
    "adam =qiskit.algorithms.optimizers.ADAM(maxiter=10000)\n",
    "LM_sim_noise = []\n",
    "for x in chi3:\n",
    "    v = Vp(epsilon,omega,x)\n",
    "    ev = []\n",
    "    for i in range(len(t)):\n",
    "        H = 0.5 * epsilon * ( Z ^ I ) +            0.5 * epsilon * ( I ^ Z ) -            0.5 * v * ( X ^ X ) +            0.5 * v * ( Y ^ Y )\n",
    "    \n",
    "        vqe = VQE(ansatz=LM_circuit(),optimizer=adam,initial_point=[t[i]],quantum_instance=qi,expectation=AerPauliExpectation())\n",
    "        result = vqe.compute_minimum_eigenvalue(H)\n",
    "\n",
    "        ev.append(result.eigenvalue)\n",
    "    LM_sim_noise.append(min(ev))\n",
    "\n",
    "\n",
    "plt.plot(chi,np.array(exact),label='$E_{exact}$',color='b')\n",
    "plt.plot(chi,np.array(HF),label='$E_{HF}$',color='g')\n",
    "plt.scatter(chi3,LM_sim,label='QC sim',color='cyan')\n",
    "plt.scatter(chi4,LM_sim_noise,label='QC sim with noise',color='r')\n",
    "plt.axvline(1, color = 'k', linestyle='--')\n",
    "plt.ylabel('$E_{g.s}$')\n",
    "plt.xlabel('$\\chi$')\n",
    "plt.title(f'$\\Omega=2$')\n",
    "plt.legend()"
   ]
  },
  {
   "cell_type": "markdown",
   "id": "457653d0",
   "metadata": {
    "editable": true
   },
   "source": [
    "### VQE method 2\n",
    "\n",
    "For this method, we will be using Qiskit's VQE function, where we specifiy \n",
    "1. Quantum circuit\n",
    "\n",
    "2. Optimizer\n",
    "\n",
    "3. Quantum instance (i.e. which backend). Here we will be using the \"statevector_simulator\" \n",
    "\n",
    "4. Hamiltonian/measurement basis"
   ]
  },
  {
   "cell_type": "code",
   "execution_count": 14,
   "id": "ed370d2a",
   "metadata": {
    "collapsed": false,
    "editable": true
   },
   "outputs": [],
   "source": [
    "epsilon = 1\n",
    "omega = 2\n",
    "chi5 = np.arange(0,2.1,0.1)\n",
    "adam =qiskit.algorithms.optimizers.ADAM(maxiter=10000)\n",
    "LM_sim = []\n",
    "for x in chi5:\n",
    "    v = Vp(epsilon,omega,x)\n",
    "    \n",
    "    H = 0.5 * epsilon * ( Z ^ I ) +        0.5 * epsilon * ( I ^ Z ) -        0.5 * v * ( X ^ X ) +        0.5 * v * ( Y ^ Y )\n",
    "    \n",
    "    vqe = VQE(ansatz=LM_circuit(),optimizer=adam,quantum_instance=vec,expectation=AerPauliExpectation())\n",
    "    result = vqe.compute_minimum_eigenvalue(H)\n",
    "    LM_sim.append(result.eigenvalue)\n",
    "\n",
    "\n",
    "plt.plot(chi,np.array(exact),label='$E_{exact}$',color='b')\n",
    "plt.plot(chi,np.array(HF),label='$E_{HF}$',color='g')\n",
    "plt.scatter(chi5,LM_sim,label='QC state vec',color='cyan')\n",
    "plt.axvline(1, color = 'k', linestyle='--')\n",
    "plt.ylabel('$E_{g.s}$')\n",
    "plt.xlabel('$\\chi$')\n",
    "plt.title('$\\Omega=2$')\n",
    "plt.legend()"
   ]
  },
  {
   "cell_type": "markdown",
   "id": "e5cc6e99",
   "metadata": {
    "editable": true
   },
   "source": [
    "One thing to note is that method 2 only works for simulation. Where\n",
    "method 1 can work using IBM quantum computers. However, method 2 does\n",
    "run faster then method 1."
   ]
  }
 ],
 "metadata": {},
 "nbformat": 4,
 "nbformat_minor": 5
}
