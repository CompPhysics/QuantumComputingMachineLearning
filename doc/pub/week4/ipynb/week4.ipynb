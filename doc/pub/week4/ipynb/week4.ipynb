{
 "cells": [
  {
   "cell_type": "markdown",
   "id": "cfd9cc09",
   "metadata": {
    "editable": true
   },
   "source": [
    "<!-- HTML file automatically generated from DocOnce source (https://github.com/doconce/doconce/)\n",
    "doconce format html week4.do.txt --no_mako -->\n",
    "<!-- dom:TITLE: February 13-17, 2023: Quantum Computing, Quantum Machine Learning and Quantum Information Theories -->"
   ]
  },
  {
   "cell_type": "markdown",
   "id": "047676b0",
   "metadata": {
    "editable": true
   },
   "source": [
    "# February 13-17, 2023: Quantum Computing, Quantum Machine Learning and Quantum Information Theories\n",
    "**Morten Hjorth-Jensen**, Department of Physics, University of Oslo and Department of Physics and Astronomy and Facility for Rare Isotope Beams, Michigan State University, USA\n",
    "\n",
    "Date: **February 13-17, 2023**"
   ]
  },
  {
   "cell_type": "markdown",
   "id": "666cd3d9",
   "metadata": {
    "editable": true
   },
   "source": [
    "## Entanglement and density matrices\n",
    "\n",
    "1. Last week we discussed the spectral decomposition of an operator, Density matrices and Measurements. \n",
    "\n",
    "2. This week we start by reviewing  density matrices and measurements from previous lecture, see <https://github.com/CompPhysics/QuantumComputingMachineLearning/blob/gh-pages/doc/pub/week3/ipynb/week3.ipynb>\n",
    "\n",
    "3. Thereafter our plans are to discuss the Schmidt decomposition and entanglement\n",
    "\n",
    "* **Reading recommendation**: Scherer, Mathematics of Quantum Computations, chapter 4\n",
    "\n",
    "* [See also whiteboard notes](https://github.com/CompPhysics/QuantumComputingMachineLearning/tree/gh-pages/doc/HandWrittenNotes/2023/NotesFebruary13.pdf)\n",
    "\n",
    "* [Video of lecture](https://youtu.be/QVPQmeSAX8M)\n",
    "\n",
    "In order to study entanglement and why it is so important for quantum\n",
    "computing, we need to introduce some basic measures and useful\n",
    "quantities.  For these endeavors, we  will use our two-qubit system from\n",
    "the second lecture in order to introduce, through examples, density\n",
    "matrices and entropy. These two quantities, together with\n",
    "technicalities like the Schmidt decomposition define important quantities in analyzing quantum computing examples.\n",
    "\n",
    "The Schmidt decomposition is again a\n",
    "linear decompostions which allows us to express a vector in terms of\n",
    "tensor product of two inner product spaces. In quantum information\n",
    "theory and quantum computing it is widely used as away to define and\n",
    "describe entanglement."
   ]
  },
  {
   "cell_type": "markdown",
   "id": "dc9da272",
   "metadata": {
    "editable": true
   },
   "source": [
    "## First entanglement encounter"
   ]
  },
  {
   "cell_type": "markdown",
   "id": "3befa396",
   "metadata": {
    "editable": true
   },
   "source": [
    "### Two-qubit system\n",
    "\n",
    "This system can be thought of as composed of two subsystems\n",
    "$A$ and $B$. Each subsystem has computational basis states"
   ]
  },
  {
   "cell_type": "markdown",
   "id": "c7b9a69f",
   "metadata": {
    "editable": true
   },
   "source": [
    "$$\n",
    "\\vert 0\\rangle_{\\mathrm{A,B}}=\\begin{bmatrix} 1 & 0\\end{bmatrix}^T \\hspace{1cm} \\vert 1\\rangle_{\\mathrm{A,B}}=\\begin{bmatrix} 0 & 1\\end{bmatrix}^T.\n",
    "$$"
   ]
  },
  {
   "cell_type": "markdown",
   "id": "7c29864c",
   "metadata": {
    "editable": true
   },
   "source": [
    "The subsystems could represent single particles or composite many-particle systems of a given symmetry.\n",
    "This leads to the many-body computational basis states"
   ]
  },
  {
   "cell_type": "markdown",
   "id": "ad66dd12",
   "metadata": {
    "editable": true
   },
   "source": [
    "$$\n",
    "\\vert 00\\rangle = \\vert 0\\rangle_{\\mathrm{A}}\\otimes \\vert 0\\rangle_{\\mathrm{B}}=\\begin{bmatrix} 1 & 0 & 0 &0\\end{bmatrix}^T,\n",
    "$$"
   ]
  },
  {
   "cell_type": "markdown",
   "id": "ebc377f0",
   "metadata": {
    "editable": true
   },
   "source": [
    "and"
   ]
  },
  {
   "cell_type": "markdown",
   "id": "44162fb4",
   "metadata": {
    "editable": true
   },
   "source": [
    "$$\n",
    "\\vert 01\\rangle = \\vert 0\\rangle_{\\mathrm{A}}\\otimes \\vert 1\\rangle_{\\mathrm{B}}=\\begin{bmatrix} 0 & 1 & 0 &0\\end{bmatrix}^T,\n",
    "$$"
   ]
  },
  {
   "cell_type": "markdown",
   "id": "dc68edfe",
   "metadata": {
    "editable": true
   },
   "source": [
    "and"
   ]
  },
  {
   "cell_type": "markdown",
   "id": "ee5ff142",
   "metadata": {
    "editable": true
   },
   "source": [
    "$$\n",
    "\\vert 10\\rangle = \\vert 1\\rangle_{\\mathrm{A}}\\otimes \\vert 0\\rangle_{\\mathrm{B}}=\\begin{bmatrix} 0 & 0 & 1 &0\\end{bmatrix}^T,\n",
    "$$"
   ]
  },
  {
   "cell_type": "markdown",
   "id": "7a483e03",
   "metadata": {
    "editable": true
   },
   "source": [
    "and finally"
   ]
  },
  {
   "cell_type": "markdown",
   "id": "62a333c7",
   "metadata": {
    "editable": true
   },
   "source": [
    "$$\n",
    "\\vert 11\\rangle = \\vert 1\\rangle_{\\mathrm{A}}\\otimes \\vert 1\\rangle_{\\mathrm{B}}=\\begin{bmatrix} 0 & 0 & 0 &1\\end{bmatrix}^T.\n",
    "$$"
   ]
  },
  {
   "cell_type": "markdown",
   "id": "b543ed20",
   "metadata": {
    "editable": true
   },
   "source": [
    "### Bell states\n",
    "\n",
    "The above computational basis states, which define an ONB, can in turn\n",
    "be used to define another ONB. As an example, consider the so-called\n",
    "Bell states"
   ]
  },
  {
   "cell_type": "markdown",
   "id": "cfe8c41f",
   "metadata": {
    "editable": true
   },
   "source": [
    "$$\n",
    "\\vert \\Phi^+\\rangle = \\frac{1}{\\sqrt{2}}\\left[\\vert 00\\rangle +\\vert 11\\rangle\\right]=\\frac{1}{\\sqrt{2}}\\begin{bmatrix} 1 \\\\ 0 \\\\ 0 \\\\ 1\\end{bmatrix},\n",
    "$$"
   ]
  },
  {
   "cell_type": "markdown",
   "id": "77a53437",
   "metadata": {
    "editable": true
   },
   "source": [
    "$$\n",
    "\\vert \\Phi^-\\rangle = \\frac{1}{\\sqrt{2}}\\left[\\vert 00\\rangle -\\vert 11\\rangle\\right]=\\frac{1}{\\sqrt{2}}\\begin{bmatrix} 1 \\\\ 0 \\\\ 0 \\\\ -1\\end{bmatrix},\n",
    "$$"
   ]
  },
  {
   "cell_type": "markdown",
   "id": "266ea24b",
   "metadata": {
    "editable": true
   },
   "source": [
    "$$\n",
    "\\vert \\Psi^+\\rangle = \\frac{1}{\\sqrt{2}}\\left[\\vert 10\\rangle +\\vert 01\\rangle\\right]=\\frac{1}{\\sqrt{2}}\\begin{bmatrix} 0 \\\\ 1 \\\\ 1 \\\\ 0\\end{bmatrix},\n",
    "$$"
   ]
  },
  {
   "cell_type": "markdown",
   "id": "74eb3ceb",
   "metadata": {
    "editable": true
   },
   "source": [
    "and"
   ]
  },
  {
   "cell_type": "markdown",
   "id": "be6be5a4",
   "metadata": {
    "editable": true
   },
   "source": [
    "$$\n",
    "\\vert \\Psi^-\\rangle = \\frac{1}{\\sqrt{2}}\\left[\\vert 10\\rangle -\\vert 01\\rangle\\right]=\\frac{1}{\\sqrt{2}}\\begin{bmatrix} 0 \\\\ 1 \\\\ -1 \\\\ 0\\end{bmatrix}.\n",
    "$$"
   ]
  },
  {
   "cell_type": "markdown",
   "id": "c49080a2",
   "metadata": {
    "editable": true
   },
   "source": [
    "It is easy to convince oneself that these states also form an orthonormal basis. \n",
    "\n",
    "Measuring one of the qubits of one of the above Bell states,\n",
    "automatically determines, as we will see below, the state of the\n",
    "second quabit. To convince ourselves about this, let us assume we perform a measurement on the qubit in system $A$ by introducing the projections with outcomes $0$ or $1$ as"
   ]
  },
  {
   "cell_type": "markdown",
   "id": "7a133e4d",
   "metadata": {
    "editable": true
   },
   "source": [
    "$$\n",
    "\\boldsymbol{P}_0=\\vert 0\\rangle\\langle 0\\vert_A\\otimes \\boldsymbol{I}_B=\\begin{bmatrix} 1 & 0\\\\ 0 & 0\\end{bmatrix}\\otimes\\begin{bmatrix} 1& 0 \\\\ 0 & 1\\end{bmatrix}=\\begin{bmatrix} 1 & 0 & 0 & 0 \\\\ 0 & 1 & 0 & 0 \\\\ 0 & 0 & 0 & 0 \\\\ 0 & 0 & 0 & 0\\end{bmatrix},\n",
    "$$"
   ]
  },
  {
   "cell_type": "markdown",
   "id": "34ce3245",
   "metadata": {
    "editable": true
   },
   "source": [
    "for the projection of the $\\vert 0 \\rangle$ state in system $A$ and similarly"
   ]
  },
  {
   "cell_type": "markdown",
   "id": "8ebb8cc0",
   "metadata": {
    "editable": true
   },
   "source": [
    "$$\n",
    "\\boldsymbol{P}_1=\\vert 1\\rangle\\langle 1\\vert_A\\otimes \\boldsymbol{I}_B=\\begin{bmatrix} 0 & 0\\\\ 0 & 1\\end{bmatrix}\\otimes\\begin{bmatrix} 1& 0 \\\\ 0 & 1\\end{bmatrix}=\\begin{bmatrix} 0 & 0 & 0 & 0 \\\\ 0 & 0 & 0 & 0 \\\\ 0 & 0 & 1 & 0 \\\\ 0 & 0 & 0 & 1\\end{bmatrix},\n",
    "$$"
   ]
  },
  {
   "cell_type": "markdown",
   "id": "80905f5a",
   "metadata": {
    "editable": true
   },
   "source": [
    "for the projection of the $\\vert 1 \\rangle$ state in system $A$.\n",
    "\n",
    "We can then calculate the probability for the various outcomes by\n",
    "computing for example the probability for measuring qubit $0$"
   ]
  },
  {
   "cell_type": "markdown",
   "id": "f03506d6",
   "metadata": {
    "editable": true
   },
   "source": [
    "$$\n",
    "\\langle \\Phi^+\\vert \\boldsymbol{P}_0\\vert \\Phi^+\\rangle = \\frac{1}{2} \\left[\\langle 00\\vert +\\langle 11\\vert\\right]\\begin{bmatrix} 1 & 0 & 0 & 0 \\\\ 0 & 1 & 0 & 0 \\\\ 0 & 0 & 0 & 0 \\\\ 0 & 0 & 0 & 0\\end{bmatrix}\\left[\\vert 00\\rangle +\\vert 11\\rangle\\right]=\\frac{1}{2}.\n",
    "$$"
   ]
  },
  {
   "cell_type": "markdown",
   "id": "238bbe20",
   "metadata": {
    "editable": true
   },
   "source": [
    "Similarly, we obtain"
   ]
  },
  {
   "cell_type": "markdown",
   "id": "edb29590",
   "metadata": {
    "editable": true
   },
   "source": [
    "$$\n",
    "\\langle \\Phi^+\\vert \\boldsymbol{P}_1\\vert \\Phi^+\\rangle = \\frac{1}{2}\\left[\\langle 00\\vert +\\langle 11\\vert\\right]\\begin{bmatrix} 0 & 0 & 0 & 0 \\\\ 0 & 0 & 0 & 0 \\\\ 0 & 0 & 1 & 0 \\\\ 0 & 0 & 0 & 1\\end{bmatrix}\\left[\\vert 00\\rangle +\\vert 11\\rangle\\right]=\\frac{1}{2}.\n",
    "$$"
   ]
  },
  {
   "cell_type": "markdown",
   "id": "558e078b",
   "metadata": {
    "editable": true
   },
   "source": [
    "After the above measurements the system is in the states"
   ]
  },
  {
   "cell_type": "markdown",
   "id": "fea100c2",
   "metadata": {
    "editable": true
   },
   "source": [
    "$$\n",
    "\\vert \\Phi'_0 \\rangle = \\sqrt{2}\\left[\\vert 0\\rangle\\langle 0\\vert_A\\otimes \\boldsymbol{I}_B\\right]\\vert\\Phi^+\\rangle=\\vert 00\\rangle,\n",
    "$$"
   ]
  },
  {
   "cell_type": "markdown",
   "id": "be703eb5",
   "metadata": {
    "editable": true
   },
   "source": [
    "and"
   ]
  },
  {
   "cell_type": "markdown",
   "id": "6697e10c",
   "metadata": {
    "editable": true
   },
   "source": [
    "$$\n",
    "\\vert \\Phi'_1 \\rangle = \\sqrt{2}\\left[\\vert 1\\rangle\\langle 1\\vert_A\\otimes \\boldsymbol{I}_B\\right]\\vert\\Phi^+\\rangle=\\vert 11\\rangle.\n",
    "$$"
   ]
  },
  {
   "cell_type": "markdown",
   "id": "9308f2ba",
   "metadata": {
    "editable": true
   },
   "source": [
    "We see from the last two equations that the state of the second qubit\n",
    "is determined even though the measurement has only taken place locally\n",
    "on system $A$.\n",
    "\n",
    "If we on the other hand consider a state like"
   ]
  },
  {
   "cell_type": "markdown",
   "id": "ed4d3266",
   "metadata": {
    "editable": true
   },
   "source": [
    "$$\n",
    "\\vert 00 \\rangle = \\vert 0\\rangle_A\\otimes \\vert 0\\rangle_B,\n",
    "$$"
   ]
  },
  {
   "cell_type": "markdown",
   "id": "015cf10c",
   "metadata": {
    "editable": true
   },
   "source": [
    "this is a pure product state of the single-qubit, or single-particle\n",
    "states, of two qubits (particles) in system $A$ and system $B$,\n",
    "respectively. We call such a state for a **pure state**.  Quantum states\n",
    "that cannot be written as a mixture of other states are called pure\n",
    "quantum states, while all other states are called mixed quantum states.\n",
    "\n",
    "A state like one of the Bell states (where we introduce the subscript $AB$ to indicate that the state is composed of single states from two subsystem)"
   ]
  },
  {
   "cell_type": "markdown",
   "id": "b3f9d28e",
   "metadata": {
    "editable": true
   },
   "source": [
    "$$\n",
    "\\vert \\Phi^+\\rangle = \\frac{1}{\\sqrt{2}}\\left[\\vert 00\\rangle_{AB} +\\vert 11\\rangle_{AB}\\right],\n",
    "$$"
   ]
  },
  {
   "cell_type": "markdown",
   "id": "8873d033",
   "metadata": {
    "editable": true
   },
   "source": [
    "is on the other hand a mixed state and we cannot determine whether system $A$ is in a state $0$ or $1$. The above state is a superpostion of the states $\\vert 00\\rangle_{AB}$ and $\\vert 11\\rangle_{AB}$ and it is not possible to determine individual states of systems $A$ and $B$, respectively.\n",
    "\n",
    "We say that the state is entangled. This yields the following\n",
    "definition of entangled states: a pure bipartite state $\\vert\n",
    "\\psi\\rangle_{AB}$ is entangled if it cannot be written as a product\n",
    "state $\\vert\\psi\\rangle_{A}\\otimes\\vert\\phi\\rangle_B$ for any choice\n",
    "of the states $\\vert\\psi\\rangle_{A}$ and $\\vert\\phi\\rangle_B$. Otherwise we say the state is separable.\n",
    "\n",
    "As an example, considere an ansatz for the ground state of the helium\n",
    "atom with two electrons in the lowest $1s$ state (hydrogen-like\n",
    "orbits) and with spin $s=1/2$ and spin projections $m_s=-1/2$ and\n",
    "$m_s=1/2$.  The two single-particle states are given by the tensor\n",
    "products of their spatial $1s$ single-particle states\n",
    "$\\vert\\phi_{1s}\\rangle$ and and their spin up or spin down spinors\n",
    "$\\vert\\xi_{sm_s}\\rangle$. The ansatz for the ground state is given by a Slater\n",
    "determinant with total orbital momentum $L=l_1+l_2=0$ and totalt spin\n",
    "$S=s_1+s_2=0$, normally labeled as a spin-singlet state. This ansatz\n",
    "for the ground state is then written as, using the compact notations"
   ]
  },
  {
   "cell_type": "markdown",
   "id": "d3876393",
   "metadata": {
    "editable": true
   },
   "source": [
    "$$\n",
    "\\vert \\psi_{i}\\rangle = \\vert\\phi_{1s}\\rangle_i\\otimes \\vert \\xi\\rangle_{s_im_{s_i}}=\\vert 1s,s,m_s\\rangle_i,\n",
    "$$"
   ]
  },
  {
   "cell_type": "markdown",
   "id": "9debfc45",
   "metadata": {
    "editable": true
   },
   "source": [
    "with $i$ being electron $1$ or $2$, and the tensor product of the two single-electron states as\n",
    "$\\vert 1s,s,m_s\\rangle_1\\vert 1s,s,m_s\\rangle_2=\\vert 1s,s,m_s\\rangle_1\\otimes \\vert 1s,s,m_s\\rangle_2$, we arrive at"
   ]
  },
  {
   "cell_type": "markdown",
   "id": "642ff051",
   "metadata": {
    "editable": true
   },
   "source": [
    "$$\n",
    "\\Psi(\\boldsymbol{r}_1,\\boldsymbol{r}_2;s_1,s_2)=\\frac{1}{\\sqrt{2}}\\left[\\vert 1s,1/2,1/2\\rangle_1\\vert 1s,1/2,-1/2\\rangle_2-\\vert 1s,1/2,-1/2\\rangle_1\\vert 1s,1/2,1/2\\rangle_2\\right].\n",
    "$$"
   ]
  },
  {
   "cell_type": "markdown",
   "id": "37da9df6",
   "metadata": {
    "editable": true
   },
   "source": [
    "This is also an example of a state which cannot be written out as a pure state. We call this for an entangled state as well.\n",
    "\n",
    "A so-called maximally entangled state for a bipartite system has equal  probability amplitudes"
   ]
  },
  {
   "cell_type": "markdown",
   "id": "01230a22",
   "metadata": {
    "editable": true
   },
   "source": [
    "$$\n",
    "\\vert \\Psi \\rangle = \\frac{1}{\\sqrt{d}}\\sum_{i=0}^{d-1}\\vert ii\\rangle.\n",
    "$$"
   ]
  },
  {
   "cell_type": "markdown",
   "id": "3e1504cf",
   "metadata": {
    "editable": true
   },
   "source": [
    "We call a bipartite state composed of systems $A$ and $B$ (these\n",
    "systems can be single-particle systems, or single-qubit systems\n",
    "representing low-lying states of complicated many-body systems) for\n",
    "separable if its density matrix $\\rho_{AB}$ can be written out as the\n",
    "tensor product of the individual density matrices $\\rho_A$ and\n",
    "$\\rho_B$, that is we have for a given probability distribution $p_i$"
   ]
  },
  {
   "cell_type": "markdown",
   "id": "b450631b",
   "metadata": {
    "editable": true
   },
   "source": [
    "$$\n",
    "\\rho_{AB}=\\sum_ip_i\\rho_A(i)\\otimes \\rho_B(i).\n",
    "$$"
   ]
  },
  {
   "cell_type": "markdown",
   "id": "b086d37e",
   "metadata": {
    "editable": true
   },
   "source": [
    "If we cannot write the density matrix in this form, we say the system\n",
    "$AB$ is entangled. In order to see this, we can use the so-called\n",
    "Schmidt decomposition, which is essentially an application of the\n",
    "singular-value decomposition.\n",
    "\n",
    "The Schmidt decomposition allows us to define a pure state in a\n",
    "bipartite Hilbert space composed of systems $A$ and $B$ as"
   ]
  },
  {
   "cell_type": "markdown",
   "id": "58158f49",
   "metadata": {
    "editable": true
   },
   "source": [
    "$$\n",
    "\\vert\\psi\\rangle=\\sum_{i=0}^{d-1}\\sigma_i\\vert i\\rangle_A\\vert i\\rangle_B,\n",
    "$$"
   ]
  },
  {
   "cell_type": "markdown",
   "id": "e0d356d7",
   "metadata": {
    "editable": true
   },
   "source": [
    "where the ampltitudes $\\sigma_i$ are real and positive and their\n",
    "squared values sum up to one, $\\sum_i\\sigma_i^2=1$. The states $\\vert\n",
    "i\\rangle_A$ and $\\vert i\\rangle_B$ form orthornormal bases for systems\n",
    "$A$ and $B$ respectively, the amplitudes $\\lambda_i$ are the so-called\n",
    "Schmidt coefficients and the Schmidt rank $d$ is equal to the number\n",
    "of Schmidt coefficients and is smaller or equal to the minimum\n",
    "dimensionality of system $A$ and system $B$, that is $d\\leq\n",
    "\\mathrm{min}(\\mathrm{dim}(A), \\mathrm{dim}(B))$.\n",
    "\n",
    "The proof for the above decomposition is based on the singular-value decomposition. To see this, assume that we have two orthonormal bases sets for systems $A$ and $B$, respectively. That is we have two ONBs $\\vert i\\rangle_A$ and $\\vert j\\rangle_B$. We can always construct a product state (a pure state) as"
   ]
  },
  {
   "cell_type": "markdown",
   "id": "4584e032",
   "metadata": {
    "editable": true
   },
   "source": [
    "$$\n",
    "\\vert\\psi \\rangle = \\sum_{ij} c_{ij}\\vert i\\rangle_A\\vert j\\rangle_B,\n",
    "$$"
   ]
  },
  {
   "cell_type": "markdown",
   "id": "2f71071e",
   "metadata": {
    "editable": true
   },
   "source": [
    "where the coefficients $c_{ij}$ are the overlap coefficients which belong to a matrix $\\boldsymbol{C}$. If we now assume that the dimensionalities of the two subsystems $A$ and $B$ are the same $d$, we can always rewrite the matrix $\\boldsymbol{C}$ in terms of a singular-value decomposition with unitary/orthogonal matrices $\\boldsymbol{U}$ and $\\boldsymbol{V}$ of dimension $d\\times d$ and a matrix $\\boldsymbol{\\Sigma}$ which contains the (diagonal) singular values $\\sigma_0\\leq \\sigma_1 \\leq \\dots 0$ as"
   ]
  },
  {
   "cell_type": "markdown",
   "id": "f75a17ef",
   "metadata": {
    "editable": true
   },
   "source": [
    "$$\n",
    "\\boldsymbol{C}=\\boldsymbol{U}\\boldsymbol{\\Sigma}\\boldsymbol{V}^{\\dagger}.\n",
    "$$"
   ]
  },
  {
   "cell_type": "markdown",
   "id": "2a4924e7",
   "metadata": {
    "editable": true
   },
   "source": [
    "This means we can rewrite the coefficients $c_{ij}$ in terms of the singular-value decomposition"
   ]
  },
  {
   "cell_type": "markdown",
   "id": "2b7a58ae",
   "metadata": {
    "editable": true
   },
   "source": [
    "$$\n",
    "c_{ij}=\\sum_k u_{ik}\\sigma_kv_{kj},\n",
    "$$"
   ]
  },
  {
   "cell_type": "markdown",
   "id": "765c1ddf",
   "metadata": {
    "editable": true
   },
   "source": [
    "and inserting this in the definition of the pure state $\\vert \\psi\\rangle$ we have"
   ]
  },
  {
   "cell_type": "markdown",
   "id": "ae8248f6",
   "metadata": {
    "editable": true
   },
   "source": [
    "$$\n",
    "\\vert\\psi \\rangle = \\sum_{ij} \\left(\\sum_k u_{ik}\\sigma_kv_{kj} \\right)\\vert i\\rangle_A\\vert j\\rangle_B,\n",
    "$$"
   ]
  },
  {
   "cell_type": "markdown",
   "id": "396730ab",
   "metadata": {
    "editable": true
   },
   "source": [
    "which we rewrite as"
   ]
  },
  {
   "cell_type": "markdown",
   "id": "c4b6d8f3",
   "metadata": {
    "editable": true
   },
   "source": [
    "$$\n",
    "\\vert\\psi \\rangle = \\sum_{k}\\sigma_k \\left(\\sum_i u_{ik}\\vert i\\rangle_A\\right)\\otimes\\left(\\sum_jv_{kj}\\vert j\\rangle_B\\right),\n",
    "$$"
   ]
  },
  {
   "cell_type": "markdown",
   "id": "207b0844",
   "metadata": {
    "editable": true
   },
   "source": [
    "which we identify simply as, since the matrices $\\boldsymbol{U}$ and $\\boldsymbol{V}$ represent unitary transformations,"
   ]
  },
  {
   "cell_type": "markdown",
   "id": "f94f0891",
   "metadata": {
    "editable": true
   },
   "source": [
    "$$\n",
    "\\vert\\psi \\rangle = \\sum_{k}\\sigma_k \\vert k\\rangle_A\\vert k\\rangle_B.\n",
    "$$"
   ]
  },
  {
   "cell_type": "markdown",
   "id": "991496ec",
   "metadata": {
    "editable": true
   },
   "source": [
    "It is straight forward to prove this relation in case systems $A$ and $B$ have different dimensionalities.\n",
    "Once we know the Schmidt decomposition of a state, we can immmediately say whether it is entangled or not. If a state $\\psi$ has is entangled, then its Schmidt decomposition has more than one term. Stated differently, the state is entangled if the so-called Schmidt rank is is greater than one.\n",
    "There is another important property of the Schmidt decomposition which is related to the properties of the density matrices and their trace operations and the entropies. In order to introduce these concepts let us look at the two-qubit Hamiltonian described here."
   ]
  },
  {
   "cell_type": "markdown",
   "id": "746d14a1",
   "metadata": {
    "editable": true
   },
   "source": [
    "## Density matrix and simple Hamiltonian\n",
    "\n",
    "These computational basis\n",
    "states define also the eigenstates of the non-interacting Hamiltonian"
   ]
  },
  {
   "cell_type": "markdown",
   "id": "b9f34591",
   "metadata": {
    "editable": true
   },
   "source": [
    "$$\n",
    "H_0\\vert 00 \\rangle = \\epsilon_{00}\\vert 00 \\rangle,\n",
    "$$"
   ]
  },
  {
   "cell_type": "markdown",
   "id": "81b3dbb3",
   "metadata": {
    "editable": true
   },
   "source": [
    "$$\n",
    "H_0\\vert 10 \\rangle = \\epsilon_{10}\\vert 10 \\rangle,\n",
    "$$"
   ]
  },
  {
   "cell_type": "markdown",
   "id": "b3985296",
   "metadata": {
    "editable": true
   },
   "source": [
    "$$\n",
    "H_0\\vert 01 \\rangle = \\epsilon_{01}\\vert 01 \\rangle,\n",
    "$$"
   ]
  },
  {
   "cell_type": "markdown",
   "id": "d0bac55e",
   "metadata": {
    "editable": true
   },
   "source": [
    "and"
   ]
  },
  {
   "cell_type": "markdown",
   "id": "04dd0dcc",
   "metadata": {
    "editable": true
   },
   "source": [
    "$$\n",
    "H_0\\vert 11 \\rangle = \\epsilon_{11}\\vert 11 \\rangle.\n",
    "$$"
   ]
  },
  {
   "cell_type": "markdown",
   "id": "512c72ee",
   "metadata": {
    "editable": true
   },
   "source": [
    "The interacting part of the Hamiltonian $H_{\\mathrm{I}}$ is given by the tensor product of two $\\sigma_x$ and $\\sigma_z$  matrices, respectively, that is"
   ]
  },
  {
   "cell_type": "markdown",
   "id": "dda5cf11",
   "metadata": {
    "editable": true
   },
   "source": [
    "$$\n",
    "H_{\\mathrm{I}}=H_x\\sigma_x\\otimes\\sigma_x+H_z\\sigma_z\\otimes\\sigma_z,\n",
    "$$"
   ]
  },
  {
   "cell_type": "markdown",
   "id": "bfb9feee",
   "metadata": {
    "editable": true
   },
   "source": [
    "where $H_x$ and $H_z$ are interaction strength parameters. Our final Hamiltonian matrix is given by"
   ]
  },
  {
   "cell_type": "markdown",
   "id": "6c39048c",
   "metadata": {
    "editable": true
   },
   "source": [
    "$$\n",
    "\\boldsymbol{H}=\\begin{bmatrix} \\epsilon_{00}+H_z & 0 & 0 & H_x \\\\\n",
    "                       0  & \\epsilon_{10}-H_z & H_x & 0 \\\\\n",
    "\t\t       0 & H_x & \\epsilon_{01}-H_z & 0 \\\\\n",
    "\t\t       H_x & 0 & 0 & \\epsilon_{11} +H_z \\end{bmatrix}.\n",
    "$$"
   ]
  },
  {
   "cell_type": "markdown",
   "id": "716b05e0",
   "metadata": {
    "editable": true
   },
   "source": [
    "The four eigenstates of the above Hamiltonian matrix can in turn be used to\n",
    "define density matrices. As an example, the density matrix of the\n",
    "first eigenstate (lowest energy $E_0$) $\\Psi_0$ is"
   ]
  },
  {
   "cell_type": "markdown",
   "id": "75d617ee",
   "metadata": {
    "editable": true
   },
   "source": [
    "$$\n",
    "\\rho_0=\\left(\\alpha_{00}\\vert 00 \\rangle\\langle 00\\vert+\\alpha_{10}\\vert 10 \\rangle\\langle 10\\vert+\\alpha_{01}\\vert 01 \\rangle\\langle 01\\vert+\\alpha_{11}\\vert 11 \\rangle\\langle 11\\vert\\right),\n",
    "$$"
   ]
  },
  {
   "cell_type": "markdown",
   "id": "f355d5ea",
   "metadata": {
    "editable": true
   },
   "source": [
    "where the coefficients $\\alpha_{ij}$ are the eigenvector coefficients\n",
    "resulting from the solution of the above eigenvalue problem.\n",
    "\n",
    "We can\n",
    "then in turn define the density matrix for the subsets $A$ or $B$ as"
   ]
  },
  {
   "cell_type": "markdown",
   "id": "6daff5e4",
   "metadata": {
    "editable": true
   },
   "source": [
    "$$\n",
    "\\rho_A=\\mathrm{Tr}_B(\\rho_{0})=\\langle 0 \\vert \\rho_{0} \\vert 0\\rangle_{B}+\\langle 1 \\vert \\rho_{0} \\vert 1\\rangle_{B},\n",
    "$$"
   ]
  },
  {
   "cell_type": "markdown",
   "id": "5d09e151",
   "metadata": {
    "editable": true
   },
   "source": [
    "or"
   ]
  },
  {
   "cell_type": "markdown",
   "id": "c382f21a",
   "metadata": {
    "editable": true
   },
   "source": [
    "$$\n",
    "\\rho_B=\\mathrm{Tr}_A(\\rho_0)=\\langle 0 \\vert \\rho_{0} \\vert 0\\rangle_{A}+\\langle 1 \\vert \\rho_{0} \\vert 1\\rangle_{A}.\n",
    "$$"
   ]
  },
  {
   "cell_type": "markdown",
   "id": "6b8808bc",
   "metadata": {
    "editable": true
   },
   "source": [
    "The density matrices for these subsets can be used to compute the\n",
    "so-called von Neumann entropy, which is one of the possible measures\n",
    "of entanglement. A pure state has entropy equal zero while entangled\n",
    "state have an entropy larger than zero. The von-Neumann entropy is\n",
    "defined as"
   ]
  },
  {
   "cell_type": "markdown",
   "id": "5342e5e5",
   "metadata": {
    "editable": true
   },
   "source": [
    "$$\n",
    "S(A,B)=-\\mathrm{Tr}\\left(\\rho_{A,B}\\log_2 (\\rho_{A,B})\\right).\n",
    "$$"
   ]
  },
  {
   "cell_type": "markdown",
   "id": "f78b9d3f",
   "metadata": {
    "editable": true
   },
   "source": [
    "The example here shows the above von Neumann entropy based on the\n",
    "density matrix for the lowest many-body state. We see clearly a jump\n",
    "in the entropy around the point where we have a level crossing. At\n",
    "interaction strenght $\\lambda=0$ we have many-body states purely\n",
    "defined by their computational basis states. As we switch on the\n",
    "interaction strength, we obtain an increased degree of mixing and the\n",
    "entropy increases till we reach the level crossing point where we see\n",
    "an additional and sudden increase in entropy. Similar behaviors are\n",
    "observed for the other states. The most important result from this\n",
    "example is that entanglement is driven by the Hamiltonian itself and\n",
    "the strength of the interaction matrix elements and the\n",
    "non-interacting energies."
   ]
  },
  {
   "cell_type": "code",
   "execution_count": 1,
   "id": "53540a40",
   "metadata": {
    "collapsed": false,
    "editable": true
   },
   "outputs": [],
   "source": [
    "%matplotlib inline\n",
    "\n",
    "%matplotlib inline\n",
    "from  matplotlib import pyplot as plt\n",
    "import numpy as np\n",
    "from scipy.linalg import logm, expm\n",
    "def log2M(a): # base 2 matrix logarithm\n",
    "    return logm(a)/np.log(2.0)\n",
    "\n",
    "dim = 4\n",
    "Hamiltonian = np.zeros((dim,dim))\n",
    "#number of lambda values\n",
    "n = 40\n",
    "lmbd = np.linspace(0.0,1.0,n)\n",
    "Hx = 2.0\n",
    "Hz = 3.0\n",
    "# Non-diagonal part as sigma_x tensor product with sigma_x\n",
    "sx = np.matrix([[0,1],[1,0]])\n",
    "sx2 = Hx*np.kron(sx, sx)\n",
    "# Diagonal part as sigma_z tensor product with sigma_z\n",
    "sz = np.matrix([[1,0],[0,-1]])\n",
    "sz2 = Hz*np.kron(sz, sz)\n",
    "noninteracting = [0.0, 2.5, 6.5, 7.0]\n",
    "D = np.diag(noninteracting)\n",
    "Eigenvalue = np.zeros((dim,n))\n",
    "Entropy = np.zeros(n)\n",
    "\n",
    "for i in range(n): \n",
    "    Hamiltonian = lmbd[i]*(sx2+sz2)+D\n",
    "    # diagonalize and obtain eigenvalues, not necessarily sorted\n",
    "    EigValues, EigVectors = np.linalg.eig(Hamiltonian)\n",
    "    # sort eigenvectors and eigenvalues\n",
    "    permute = EigValues.argsort()\n",
    "    EigValues = EigValues[permute]\n",
    "    EigVectors = EigVectors[:,permute]\n",
    "    # Compute density matrix for selected system state, here ground state\n",
    "    DensityMatrix = np.zeros((dim,dim))\n",
    "    DensityMatrix = np.outer(EigVectors[:,0],EigVectors[:,0])\n",
    "    # Project down on substates and find density matrix for subsystem\n",
    "    d = np.matrix([[1,0],[0,1]])\n",
    "    v1 = [1.0,0.0]\n",
    "    proj1 = np.kron(v1,d)\n",
    "    x1 = proj1 @ DensityMatrix @ proj1.T\n",
    "    v2 = [0.0,1.0]\n",
    "    proj2 = np.kron(v2,d)\n",
    "    x2 = proj2 @ DensityMatrix @ proj2.T\n",
    "    # Total density matrix for subsystem\n",
    "    total = x1+x2\n",
    "    # von Neumann Entropy for subsystem \n",
    "    Entropy[i] = -np.matrix.trace(total @ log2M(total))\n",
    "    # Plotting eigenvalues and entropy as functions of interaction strengths\n",
    "    Eigenvalue[0,i] = EigValues[0]\n",
    "    Eigenvalue[1,i] = EigValues[1]\n",
    "    Eigenvalue[2,i] = EigValues[2]\n",
    "    Eigenvalue[3,i] = EigValues[3]\n",
    "plt.plot(lmbd, Eigenvalue[0,:] ,'b-',lmbd, Eigenvalue[1,:],'g-',)\n",
    "plt.plot(lmbd, Eigenvalue[2,:] ,'r-',lmbd, Eigenvalue[3,:],'y-',)\n",
    "plt.xlabel('$\\lambda$')\n",
    "plt.ylabel('Eigenvalues')\n",
    "plt.show()\n",
    "plt.plot(lmbd, Entropy)\n",
    "plt.xlabel('$\\lambda$')\n",
    "plt.ylabel('Entropy')          \n",
    "plt.show"
   ]
  },
  {
   "cell_type": "markdown",
   "id": "9586b183",
   "metadata": {
    "editable": true
   },
   "source": [
    "**Lecture next week.**\n",
    "\n",
    "1. More on Density natrices and traces\n",
    "\n",
    "2. Entanglement and entropies"
   ]
  }
 ],
 "metadata": {},
 "nbformat": 4,
 "nbformat_minor": 5
}
