{
 "cells": [
  {
   "cell_type": "markdown",
   "id": "41e77ab3",
   "metadata": {
    "editable": true
   },
   "source": [
    "<!-- HTML file automatically generated from DocOnce source (https://github.com/doconce/doconce/)\n",
    "doconce format html week4.do.txt --no_mako -->\n",
    "<!-- dom:TITLE: February 5-9, 2025: Quantum Computing, Quantum Machine Learning and Quantum Information Theories -->"
   ]
  },
  {
   "cell_type": "markdown",
   "id": "81e37e9d",
   "metadata": {
    "editable": true
   },
   "source": [
    "# February 5-9, 2025: Quantum Computing, Quantum Machine Learning and Quantum Information Theories\n",
    "**Morten Hjorth-Jensen**, Department of Physics, University of Oslo and Department of Physics and Astronomy and Facility for Rare Isotope Beams, Michigan State University, USA\n",
    "\n",
    "Date: **February 7**"
   ]
  },
  {
   "cell_type": "markdown",
   "id": "bc7732b0",
   "metadata": {
    "editable": true
   },
   "source": [
    "## Plans for the week of February 5-9\n",
    "\n",
    "1. Reminder from last week\n",
    "\n",
    "2. Entanglement and Schmidt decomposition\n",
    "\n",
    "3. Entropy as a measurement of entanglement\n",
    "\n",
    "4. Simple Hamiltonian systems and how to use the density matrix to estimate degrees of entanglement\n",
    "\n",
    "5. Introduction to gates and calculations"
   ]
  },
  {
   "cell_type": "markdown",
   "id": "65e45c51",
   "metadata": {
    "editable": true
   },
   "source": [
    "## Density matrices and traces\n",
    "\n",
    "In order to study entanglement and why it is so important for quantum\n",
    "computing, we need to introduce some basic measures and useful\n",
    "quantities.  For these endeavors, we  will use our two-qubit system from\n",
    "the second lecture in order to introduce, through examples, density\n",
    "matrices and entropy. These two quantities, together with\n",
    "technicalities like the Schmidt decomposition define important quantities in analyzing quantum computing examples."
   ]
  },
  {
   "cell_type": "markdown",
   "id": "701bf01d",
   "metadata": {
    "editable": true
   },
   "source": [
    "## Reminder on density matrices\n",
    "\n",
    "We have the spectral decomposition of a given operator $\\boldsymbol{A}$ given by"
   ]
  },
  {
   "cell_type": "markdown",
   "id": "4b952250",
   "metadata": {
    "editable": true
   },
   "source": [
    "$$\n",
    "\\boldsymbol{A}=\\sum_i\\lambda_i\\vert i \\rangle\\langle i\\vert,\n",
    "$$"
   ]
  },
  {
   "cell_type": "markdown",
   "id": "7102fd54",
   "metadata": {
    "editable": true
   },
   "source": [
    "with the ONB $\\vert i\\rangle$ being eigenvectors of $\\boldsymbol{A}$ and $\\lambda_i$ being the eigenvectors. Similarly, a operator which is a function of $\\boldsymbol{A}$ is given by"
   ]
  },
  {
   "cell_type": "markdown",
   "id": "0a7f7b74",
   "metadata": {
    "editable": true
   },
   "source": [
    "$$\n",
    "f(\\boldsymbol{A})=\\sum_if(\\boldsymbol{A})\\vert i \\rangle\\langle i\\vert.\n",
    "$$"
   ]
  },
  {
   "cell_type": "markdown",
   "id": "4273849f",
   "metadata": {
    "editable": true
   },
   "source": [
    "The trace of a product of matrices is cyclic, that is"
   ]
  },
  {
   "cell_type": "markdown",
   "id": "3747f897",
   "metadata": {
    "editable": true
   },
   "source": [
    "$$\n",
    "\\mathrm{tr}[\\boldsymbol{ABC}])=\\mathrm{tr}[\\boldsymbol{BCA}])=\\mathrm{tr}[\\boldsymbol{CBA}]),\n",
    "$$"
   ]
  },
  {
   "cell_type": "markdown",
   "id": "21bfa709",
   "metadata": {
    "editable": true
   },
   "source": [
    "and we have also"
   ]
  },
  {
   "cell_type": "markdown",
   "id": "d08d8549",
   "metadata": {
    "editable": true
   },
   "source": [
    "$$\n",
    "\\mathrm{tr}[\\boldsymbol{A}\\vert \\psi\\rangle\\langle\\psi\\vert])=\\langle\\psi\\vert\\boldsymbol{A}\\vert\\psi\\rangle.\n",
    "$$"
   ]
  },
  {
   "cell_type": "markdown",
   "id": "aee84dc2",
   "metadata": {
    "editable": true
   },
   "source": [
    "Using the spectral decomposition we defined also the density matrix as"
   ]
  },
  {
   "cell_type": "markdown",
   "id": "73617017",
   "metadata": {
    "editable": true
   },
   "source": [
    "$$\n",
    "\\rho = \\sum_i p_i\\vert i \\rangle\\langle i\\vert,\n",
    "$$"
   ]
  },
  {
   "cell_type": "markdown",
   "id": "b1faae31",
   "metadata": {
    "editable": true
   },
   "source": [
    "where the probability $p_i$ are the eigenvalues of the density linked with the ONB $\\vert i \\rangle$.\n",
    "\n",
    "The trace of the density matrix $\\mathrm{tr}\\rho=1$ and is invariant under unitary transformations\n",
    "$\\vert \\psi_i'\\rangle = \\boldsymbol{U}\\vert \\psi_i\\rangle$. The unitary transformation of the density matrix gives, with\n",
    "$\\boldsymbol{U}^{\\dagger}\\boldsymbol{U}=\\boldsymbol{U}^{T}\\boldsymbol{U}=\\boldsymbol{I}$,"
   ]
  },
  {
   "cell_type": "markdown",
   "id": "57dd2cff",
   "metadata": {
    "editable": true
   },
   "source": [
    "$$\n",
    "\\boldsymbol{U}\\rho\\boldsymbol{U}^{\\dagger}}=\\sum_ipi_i\\boldsymbol{U}\\vert \\psi_i\\rangle\\langle\\psi_i\\vert\\boldsymbol{U}^{\\dagger},\n",
    "$$"
   ]
  },
  {
   "cell_type": "markdown",
   "id": "50a37b82",
   "metadata": {
    "editable": true
   },
   "source": [
    "and with the unitary transformation it is easy to show that thet trace of the transformaed density matrix is equal to one,"
   ]
  },
  {
   "cell_type": "markdown",
   "id": "22c42690",
   "metadata": {
    "editable": true
   },
   "source": [
    "$$\n",
    "\\mathrm{tr}\\left[ \\boldsymbol{U}\\rho\\boldsymbol{U}^{\\dagger}\\right]=\\mathrm{tr}\\left[ \\boldsymbol{U}\\boldsymbol{U}^{\\dagger}\\rho\\right]=1.\n",
    "$$"
   ]
  },
  {
   "cell_type": "markdown",
   "id": "fb4a69a4",
   "metadata": {
    "editable": true
   },
   "source": [
    "## Two-qubit system and definition of density matrices\n",
    "\n",
    "This system can be thought of as composed of two subsystems\n",
    "$A$ and $B$. Each subsystem has computational basis states"
   ]
  },
  {
   "cell_type": "markdown",
   "id": "9f0e1f0f",
   "metadata": {
    "editable": true
   },
   "source": [
    "$$\n",
    "\\vert 0\\rangle_{\\mathrm{A,B}}=\\begin{bmatrix} 1 & 0\\end{bmatrix}^T \\hspace{1cm} \\vert 1\\rangle_{\\mathrm{A,B}}=\\begin{bmatrix} 0 & 1\\end{bmatrix}^T.\n",
    "$$"
   ]
  },
  {
   "cell_type": "markdown",
   "id": "0d3fac61",
   "metadata": {
    "editable": true
   },
   "source": [
    "The subsystems could represent single particles or composite many-particle systems of a given symmetry.\n",
    "This leads to the many-body computational basis states"
   ]
  },
  {
   "cell_type": "markdown",
   "id": "7f8e9e9a",
   "metadata": {
    "editable": true
   },
   "source": [
    "$$\n",
    "\\vert 00\\rangle = \\vert 0\\rangle_{\\mathrm{A}}\\otimes \\vert 0\\rangle_{\\mathrm{B}}=\\begin{bmatrix} 1 & 0 & 0 &0\\end{bmatrix}^T,\n",
    "$$"
   ]
  },
  {
   "cell_type": "markdown",
   "id": "654648e1",
   "metadata": {
    "editable": true
   },
   "source": [
    "and"
   ]
  },
  {
   "cell_type": "markdown",
   "id": "8e1a3c50",
   "metadata": {
    "editable": true
   },
   "source": [
    "$$\n",
    "\\vert 01\\rangle = \\vert 0\\rangle_{\\mathrm{A}}\\otimes \\vert 1\\rangle_{\\mathrm{B}}=\\begin{bmatrix} 0 & 1 & 0 &0\\end{bmatrix}^T,\n",
    "$$"
   ]
  },
  {
   "cell_type": "markdown",
   "id": "d6d66611",
   "metadata": {
    "editable": true
   },
   "source": [
    "and"
   ]
  },
  {
   "cell_type": "markdown",
   "id": "645b0449",
   "metadata": {
    "editable": true
   },
   "source": [
    "$$\n",
    "\\vert 10\\rangle = \\vert 1\\rangle_{\\mathrm{A}}\\otimes \\vert 0\\rangle_{\\mathrm{B}}=\\begin{bmatrix} 0 & 0 & 1 &0\\end{bmatrix}^T,\n",
    "$$"
   ]
  },
  {
   "cell_type": "markdown",
   "id": "f455fb48",
   "metadata": {
    "editable": true
   },
   "source": [
    "and finally"
   ]
  },
  {
   "cell_type": "markdown",
   "id": "55d86d09",
   "metadata": {
    "editable": true
   },
   "source": [
    "$$\n",
    "\\vert 11\\rangle = \\vert 1\\rangle_{\\mathrm{A}}\\otimes \\vert 1\\rangle_{\\mathrm{B}}=\\begin{bmatrix} 0 & 0 & 0 &1\\end{bmatrix}^T.\n",
    "$$"
   ]
  },
  {
   "cell_type": "markdown",
   "id": "216cedc0",
   "metadata": {
    "editable": true
   },
   "source": [
    "These computational basis states define also the eigenstates of the non-interacting  Hamiltonian"
   ]
  },
  {
   "cell_type": "markdown",
   "id": "98094664",
   "metadata": {
    "editable": true
   },
   "source": [
    "$$\n",
    "H_0\\vert 00 \\rangle = \\epsilon_{00}\\vert 00 \\rangle,\n",
    "$$"
   ]
  },
  {
   "cell_type": "markdown",
   "id": "1e9b443d",
   "metadata": {
    "editable": true
   },
   "source": [
    "$$\n",
    "H_0\\vert 10 \\rangle = \\epsilon_{10}\\vert 10 \\rangle,\n",
    "$$"
   ]
  },
  {
   "cell_type": "markdown",
   "id": "bed40984",
   "metadata": {
    "editable": true
   },
   "source": [
    "$$\n",
    "H_0\\vert 01 \\rangle = \\epsilon_{01}\\vert 01 \\rangle,\n",
    "$$"
   ]
  },
  {
   "cell_type": "markdown",
   "id": "016ec3de",
   "metadata": {
    "editable": true
   },
   "source": [
    "and"
   ]
  },
  {
   "cell_type": "markdown",
   "id": "8100412c",
   "metadata": {
    "editable": true
   },
   "source": [
    "$$\n",
    "H_0\\vert 11 \\rangle = \\epsilon_{11}\\vert 11 \\rangle.\n",
    "$$"
   ]
  },
  {
   "cell_type": "markdown",
   "id": "e2886ed9",
   "metadata": {
    "editable": true
   },
   "source": [
    "The interacting part of the Hamiltonian $H_{\\mathrm{I}}$ is given by the tensor product of two $\\sigma_x$ and $\\sigma_z$  matrices, respectively, that is"
   ]
  },
  {
   "cell_type": "markdown",
   "id": "82a0aadb",
   "metadata": {
    "editable": true
   },
   "source": [
    "$$\n",
    "H_{\\mathrm{I}}=H_x\\sigma_x\\otimes\\sigma_x+H_z\\sigma_z\\otimes\\sigma_z,\n",
    "$$"
   ]
  },
  {
   "cell_type": "markdown",
   "id": "6f5a9374",
   "metadata": {
    "editable": true
   },
   "source": [
    "where $H_x$ and $H_z$ are interaction strength parameters. Our final Hamiltonian matrix is given by"
   ]
  },
  {
   "cell_type": "markdown",
   "id": "09e35848",
   "metadata": {
    "editable": true
   },
   "source": [
    "$$\n",
    "\\boldsymbol{H}=\\begin{bmatrix} \\epsilon_{00}+H_z & 0 & 0 & H_x \\\\\n",
    "                       0  & \\epsilon_{10}-H_z & H_x & 0 \\\\\n",
    "\t\t       0 & H_x & \\epsilon_{01}-H_z & 0 \\\\\n",
    "\t\t       H_x & 0 & 0 & \\epsilon_{11} +H_z \\end{bmatrix}.\n",
    "$$"
   ]
  },
  {
   "cell_type": "markdown",
   "id": "8c931bb0",
   "metadata": {
    "editable": true
   },
   "source": [
    "The four eigenstates of the above Hamiltonian matrix can in turn be used to\n",
    "define density matrices. As an example, the density matrix of the\n",
    "first eigenstate (lowest energy $E_0$) $\\Psi_0$ is"
   ]
  },
  {
   "cell_type": "markdown",
   "id": "4248979b",
   "metadata": {
    "editable": true
   },
   "source": [
    "$$\n",
    "\\rho_0=\\left(\\alpha_{00}\\vert 00 \\rangle\\langle 00\\vert+\\alpha_{10}\\vert 10 \\rangle\\langle 10\\vert+\\alpha_{01}\\vert 01 \\rangle\\langle 01\\vert+\\alpha_{11}\\vert 11 \\rangle\\langle 11\\vert\\right),\n",
    "$$"
   ]
  },
  {
   "cell_type": "markdown",
   "id": "8cd981f4",
   "metadata": {
    "editable": true
   },
   "source": [
    "where the coefficients $\\alpha_{ij}$ are the eigenvector coefficients\n",
    "resulting from the solution of the above eigenvalue problem.\n",
    "\n",
    "We can\n",
    "then in turn define the density matrix for the subsets $A$ or $B$ as"
   ]
  },
  {
   "cell_type": "markdown",
   "id": "1fe4c8c6",
   "metadata": {
    "editable": true
   },
   "source": [
    "$$\n",
    "\\rho_A=\\mathrm{Tr}_B(\\rho_{0})=\\langle 0 \\vert \\rho_{0} \\vert 0\\rangle_{B}+\\langle 1 \\vert \\rho_{0} \\vert 1\\rangle_{B},\n",
    "$$"
   ]
  },
  {
   "cell_type": "markdown",
   "id": "7f9424a3",
   "metadata": {
    "editable": true
   },
   "source": [
    "or"
   ]
  },
  {
   "cell_type": "markdown",
   "id": "46c903b7",
   "metadata": {
    "editable": true
   },
   "source": [
    "$$\n",
    "\\rho_B=\\mathrm{Tr}_A(\\rho_0)=\\langle 0 \\vert \\rho_{0} \\vert 0\\rangle_{A}+\\langle 1 \\vert \\rho_{0} \\vert 1\\rangle_{A}.\n",
    "$$"
   ]
  },
  {
   "cell_type": "markdown",
   "id": "2684c7c5",
   "metadata": {
    "editable": true
   },
   "source": [
    "The density matrices for these subsets can be used to compute the\n",
    "so-called von Neumann entropy, which is one of the possible measures\n",
    "of entanglement. A pure state has entropy equal zero while entangled\n",
    "state have an entropy larger than zero. The von-Neumann entropy is\n",
    "defined as"
   ]
  },
  {
   "cell_type": "markdown",
   "id": "54d09c52",
   "metadata": {
    "editable": true
   },
   "source": [
    "$$\n",
    "S(A,B)=-\\mathrm{Tr}\\left(\\rho_{A,B}\\log_2 (\\rho_{A,B})\\right).\n",
    "$$"
   ]
  },
  {
   "cell_type": "markdown",
   "id": "5dc7b334",
   "metadata": {
    "editable": true
   },
   "source": [
    "The example here shows the above von Neumann entropy based on the\n",
    "density matrix for the lowest many-body state. We see clearly a jump\n",
    "in the entropy around the point where we have a level crossing. At\n",
    "interaction strenght $\\lambda=0$ we have many-body states purely\n",
    "defined by their computational basis states. As we switch on the\n",
    "interaction strength, we obtain an increased degree of mixing and the\n",
    "entropy increases till we reach the level crossing point where we see\n",
    "an additional and sudden increase in entropy. Similar behaviors are\n",
    "observed for the other states. The most important result from this\n",
    "example is that entanglement is driven by the Hamiltonian itself and\n",
    "the strength of the interaction matrix elements and the\n",
    "non-interacting energies."
   ]
  },
  {
   "cell_type": "code",
   "execution_count": 1,
   "id": "b6155c94",
   "metadata": {
    "collapsed": false,
    "editable": true
   },
   "outputs": [],
   "source": [
    "%matplotlib inline\n",
    "\n",
    "%matplotlib inline\n",
    "from  matplotlib import pyplot as plt\n",
    "import numpy as np\n",
    "from scipy.linalg import logm, expm\n",
    "def log2M(a): # base 2 matrix logarithm\n",
    "    return logm(a)/np.log(2.0)\n",
    "\n",
    "dim = 4\n",
    "Hamiltonian = np.zeros((dim,dim))\n",
    "#number of lambda values\n",
    "n = 40\n",
    "lmbd = np.linspace(0.0,1.0,n)\n",
    "Hx = 2.0\n",
    "Hz = 3.0\n",
    "# Non-diagonal part as sigma_x tensor product with sigma_x\n",
    "sx = np.matrix([[0,1],[1,0]])\n",
    "sx2 = Hx*np.kron(sx, sx)\n",
    "# Diagonal part as sigma_z tensor product with sigma_z\n",
    "sz = np.matrix([[1,0],[0,-1]])\n",
    "sz2 = Hz*np.kron(sz, sz)\n",
    "noninteracting = [0.0, 2.5, 6.5, 7.0]\n",
    "D = np.diag(noninteracting)\n",
    "Eigenvalue = np.zeros((dim,n))\n",
    "Entropy = np.zeros(n)\n",
    "\n",
    "for i in range(n): \n",
    "    Hamiltonian = lmbd[i]*(sx2+sz2)+D\n",
    "    # diagonalize and obtain eigenvalues, not necessarily sorted\n",
    "    EigValues, EigVectors = np.linalg.eig(Hamiltonian)\n",
    "    # sort eigenvectors and eigenvalues\n",
    "    permute = EigValues.argsort()\n",
    "    EigValues = EigValues[permute]\n",
    "    EigVectors = EigVectors[:,permute]\n",
    "    # Compute density matrix for selected system state, here ground state\n",
    "    DensityMatrix = np.zeros((dim,dim))\n",
    "    DensityMatrix = np.outer(EigVectors[:,0],EigVectors[:,0])\n",
    "    # Project down on substates and find density matrix for subsystem\n",
    "    d = np.matrix([[1,0],[0,1]])\n",
    "    v1 = [1.0,0.0]\n",
    "    proj1 = np.kron(v1,d)\n",
    "    x1 = proj1 @ DensityMatrix @ proj1.T\n",
    "    v2 = [0.0,1.0]\n",
    "    proj2 = np.kron(v2,d)\n",
    "    x2 = proj2 @ DensityMatrix @ proj2.T\n",
    "    # Total density matrix for subsystem\n",
    "    total = x1+x2\n",
    "    # von Neumann Entropy for subsystem \n",
    "    Entropy[i] = -np.matrix.trace(total @ log2M(total))\n",
    "    # Plotting eigenvalues and entropy as functions of interaction strengths\n",
    "    Eigenvalue[0,i] = EigValues[0]\n",
    "    Eigenvalue[1,i] = EigValues[1]\n",
    "    Eigenvalue[2,i] = EigValues[2]\n",
    "    Eigenvalue[3,i] = EigValues[3]\n",
    "plt.plot(lmbd, Eigenvalue[0,:] ,'b-',lmbd, Eigenvalue[1,:],'g-',)\n",
    "plt.plot(lmbd, Eigenvalue[2,:] ,'r-',lmbd, Eigenvalue[3,:],'y-',)\n",
    "plt.xlabel('$\\lambda$')\n",
    "plt.ylabel('Eigenvalues')\n",
    "plt.show()\n",
    "plt.plot(lmbd, Entropy)\n",
    "plt.xlabel('$\\lambda$')\n",
    "plt.ylabel('Entropy')          \n",
    "plt.show"
   ]
  },
  {
   "cell_type": "markdown",
   "id": "2f794783",
   "metadata": {
    "editable": true
   },
   "source": [
    "## Shannon information entropy\n",
    "\n",
    "We start our discussions with the classical information entropy, or\n",
    "just Shannon entropy, before we move over to a quantum mechanical way\n",
    "to define the entropy based on the density matrices discussed earlier.\n",
    "\n",
    "We define a set of random variables $X=\\{x_0,x_1,\\dots,x_{n-1}\\}$ with probability for an outcome $x\\in X$ given by $p_X(x)$, the\n",
    "information entropy is defined as"
   ]
  },
  {
   "cell_type": "markdown",
   "id": "190a9029",
   "metadata": {
    "editable": true
   },
   "source": [
    "$$\n",
    "S=-\\sum_{x\\in X}p_X(x)\\log_2{p_X(x)}.\n",
    "$$"
   ]
  },
  {
   "cell_type": "markdown",
   "id": "cd7d411f",
   "metadata": {
    "editable": true
   },
   "source": [
    "## Von Neumann entropy"
   ]
  },
  {
   "cell_type": "markdown",
   "id": "2c7b78d7",
   "metadata": {
    "editable": true
   },
   "source": [
    "$$\n",
    "S=-\\mathrm{Tr}[\\rho\\log_2{\\rho}].\n",
    "$$"
   ]
  },
  {
   "cell_type": "markdown",
   "id": "564c00f7",
   "metadata": {
    "editable": true
   },
   "source": [
    "## Quantum gates, circuits and simple algorithms\n",
    "\n",
    "Quantum gates are physical actions that are applied to the physical\n",
    "system representing the qubits. Mathematically, they are\n",
    "complex-valued, unitary matrices which act on the complex-values\n",
    "normalized vectors that represent qubits. As the quantum analog of\n",
    "classical logic gates (such as AND and OR), there is a corresponding\n",
    "quantum gate for every classical gate; however, there are quantum\n",
    "gates that have no classical counter-part. They act on a set of qubits\n",
    "and, changing their state. That is, if $U$ is a quantum gate and\n",
    "$\\vert q \\rangle $ is a qubit, then acting the gate $U$ on the qubit $\\vert q \\rangle $\n",
    "transforms the qubit as follows:"
   ]
  },
  {
   "cell_type": "markdown",
   "id": "0bb45c4e",
   "metadata": {
    "editable": true
   },
   "source": [
    "<!-- Equation labels as ordinary links -->\n",
    "<div id=\"_auto1\"></div>\n",
    "\n",
    "$$\n",
    "\\begin{equation}\n",
    "\\vert q \\rangle \\overset{U}{\\to}U\\vert q \\rangle \n",
    ". \\label{_auto1} \\tag{1}\n",
    "\\end{equation}\n",
    "$$"
   ]
  },
  {
   "cell_type": "markdown",
   "id": "4163ec35",
   "metadata": {
    "editable": true
   },
   "source": [
    "This action would be represented as the following quantum circuit"
   ]
  },
  {
   "cell_type": "markdown",
   "id": "26015d92",
   "metadata": {
    "editable": true
   },
   "source": [
    "<!-- Equation labels as ordinary links -->\n",
    "<div id=\"simple_qc\"></div>\n",
    "\n",
    "$$\n",
    "\\begin{equation}\n",
    "\\label{simple_qc} \\tag{2}\n",
    "\\Qcircuit\n",
    "{\n",
    "\\lstick{\\vert q \\rangle }  \\gate{U}  \\rstick{U\\vert q \\rangle } \\qw \n",
    "}\n",
    "\\end{equation}\n",
    "$$"
   ]
  },
  {
   "cell_type": "markdown",
   "id": "6cc8e958",
   "metadata": {
    "editable": true
   },
   "source": [
    "Quantum circuits are diagrammatic representations of quantum\n",
    "algorithms. The horizontal dimension corresponds to time; moving left\n",
    "to right corresponds to forward motion in time. They consist of a set\n",
    "of qubits $\\vert q_n\\rangle$ which are stacked vertically on the left-hand\n",
    "side of the diagram. Lines, called quantum wires, extend horizontally\n",
    "to the right from each qubit, representing its state moving forward in\n",
    "time. Additionally, they contain a set of quantum gates that are\n",
    "applied to the quantum wires. Gates are applied chronologically, left\n",
    "to right. With this, we can see that the quantum circuit above\n",
    "([2](#simple_qc)) implies that the quantum gate $U$ is being applied\n",
    "to the qubit in state $\\vert q \\rangle$.\n",
    "\n",
    "To explain what quantum circuits represent mathematically, consider the following circuit"
   ]
  },
  {
   "cell_type": "markdown",
   "id": "278320f0",
   "metadata": {
    "editable": true
   },
   "source": [
    "<!-- Equation labels as ordinary links -->\n",
    "<div id=\"simple_qce\"></div>\n",
    "\n",
    "$$\n",
    "\\begin{equation}\n",
    "\\label{simple_qce} \\tag{3}\n",
    "\\Qcircuit @C=1em @R=1em\n",
    "{\n",
    "\\lstick{\\vert q_0 \\rangle }  \\gate{A}  \\gate{B}  \\qw \n",
    "\\end{equation}\n",
    "$$"
   ]
  },
  {
   "cell_type": "markdown",
   "id": "ba83c2d2",
   "metadata": {
    "editable": true
   },
   "source": [
    "<!-- Equation labels as ordinary links -->\n",
    "<div id=\"_auto2\"></div>\n",
    "\n",
    "$$\n",
    "\\begin{equation} \n",
    "\\lstick{\\vert q_1 \\rangle }  \\gate{C}  \\gate{D}  \\qw \n",
    "}\n",
    "\\label{_auto2} \\tag{4}\n",
    "\\end{equation}\n",
    "$$"
   ]
  },
  {
   "cell_type": "markdown",
   "id": "38bebbce",
   "metadata": {
    "editable": true
   },
   "source": [
    "This circuit implies the following mathematical statement"
   ]
  },
  {
   "cell_type": "markdown",
   "id": "0c24d5b9",
   "metadata": {
    "editable": true
   },
   "source": [
    "<!-- Equation labels as ordinary links -->\n",
    "<div id=\"_auto3\"></div>\n",
    "\n",
    "$$\n",
    "\\begin{equation}\n",
    "\\vert q_0q_1\\rangle\n",
    "\\to\n",
    "(B\\otimes D)(A\\otimes C)\\vert q_0q_1\\rangle\n",
    "\\label{_auto3} \\tag{5}\n",
    "\\end{equation}\n",
    "$$"
   ]
  },
  {
   "cell_type": "markdown",
   "id": "32b267ad",
   "metadata": {
    "editable": true
   },
   "source": [
    "<!-- Equation labels as ordinary links -->\n",
    "<div id=\"_auto4\"></div>\n",
    "\n",
    "$$\n",
    "\\begin{equation} \n",
    "\\to\n",
    "(BA)\\otimes(DC)\\vert q_0q_1\\rangle\n",
    "\\label{_auto4} \\tag{6}\n",
    "\\end{equation}\n",
    "$$"
   ]
  },
  {
   "cell_type": "markdown",
   "id": "34c91397",
   "metadata": {
    "editable": true
   },
   "source": [
    "<!-- Equation labels as ordinary links -->\n",
    "<div id=\"_auto5\"></div>\n",
    "\n",
    "$$\n",
    "\\begin{equation} \n",
    "\\to \n",
    "BA\\vert q_0 \\rangle DC\\vert q_1 \\rangle \n",
    ". \\label{_auto5} \\tag{7}\n",
    "\\end{equation}\n",
    "$$"
   ]
  },
  {
   "cell_type": "markdown",
   "id": "befe249b",
   "metadata": {
    "editable": true
   },
   "source": [
    "Note that the mathematical form is in reverse order from circuit form\n",
    "($AB\\leftrightarrow BA$). This is because the operator closest to the\n",
    "state (furthest to the right) acts first. Additionally, we are able to\n",
    "write the actions of the top two gates and the bottom two as acting\n",
    "separately on each qubit as every gate here is a single-qubit gate\n",
    "(acting on only one qubit). The same would not be true for certain\n",
    "two-qubit gates which would entangle the states of the two qubits, not\n",
    "allowing their state to be written in a separable form. Finally, we\n",
    "define the depth of a quantum circuit as the number of columns of\n",
    "gates. The circuit above thus has a depth of 2 because it contains two\n",
    "columns of gates, namely $A\\otimes C$ and $B\\otimes D$."
   ]
  },
  {
   "cell_type": "markdown",
   "id": "f7bf566e",
   "metadata": {
    "editable": true
   },
   "source": [
    "## Single-Qubit Gates\n",
    "\n",
    "A single-qubit gate is a physical action that is applied to one\n",
    "qubit. It can be represented by a matrix $U$ from the group SU(2). Any\n",
    "single-qubit gate can be parameterized by three angles: $\\theta$,\n",
    "$\\phi$, and $\\lambda$ as follows"
   ]
  },
  {
   "cell_type": "markdown",
   "id": "7a91a9d0",
   "metadata": {
    "editable": true
   },
   "source": [
    "<!-- Equation labels as ordinary links -->\n",
    "<div id=\"U\"></div>\n",
    "\n",
    "$$\n",
    "\\begin{equation}\n",
    "\\label{U} \\tag{8}\n",
    "U(\\theta,\\phi,\\lambda)\n",
    "=\n",
    "\\begin{pmatrix}\n",
    "\\cos\\frac{\\theta}{2} & -e^{i\\lambda}\\sin\\frac{\\theta}{2}\n",
    "\\\\\n",
    "e^{i\\phi}\\sin\\frac{\\theta}{2} & e^{i(\\phi+\\lambda)}\\cos\\frac{\\theta}{2}\n",
    "\\end{pmatrix}\n",
    ".\\end{equation}\n",
    "$$"
   ]
  },
  {
   "cell_type": "markdown",
   "id": "3a8960f3",
   "metadata": {
    "editable": true
   },
   "source": [
    "## Widely used gates\n",
    "\n",
    "There are several widely used quantum gates, include the following:\n",
    "The Pauli gates correspond to the Pauli matrices"
   ]
  },
  {
   "cell_type": "markdown",
   "id": "2b6d6823",
   "metadata": {
    "editable": true
   },
   "source": [
    "<!-- Equation labels as ordinary links -->\n",
    "<div id=\"_auto6\"></div>\n",
    "\n",
    "$$\n",
    "\\begin{equation}\n",
    "I\n",
    "=\n",
    "\\begin{pmatrix}\n",
    "1 & 0 \\\\\n",
    "0 & 1\n",
    "\\end{pmatrix}\n",
    "\\label{_auto6} \\tag{9}\n",
    "\\end{equation}\n",
    "$$"
   ]
  },
  {
   "cell_type": "markdown",
   "id": "e7697bef",
   "metadata": {
    "editable": true
   },
   "source": [
    "<!-- Equation labels as ordinary links -->\n",
    "<div id=\"_auto7\"></div>\n",
    "\n",
    "$$\n",
    "\\begin{equation} \n",
    "X\n",
    "=\n",
    "\\begin{pmatrix}\n",
    "0 & 1 \\\\\n",
    "1 & 0\n",
    "\\end{pmatrix}\n",
    "\\label{_auto7} \\tag{10}\n",
    "\\end{equation}\n",
    "$$"
   ]
  },
  {
   "cell_type": "markdown",
   "id": "a67ac406",
   "metadata": {
    "editable": true
   },
   "source": [
    "<!-- Equation labels as ordinary links -->\n",
    "<div id=\"_auto8\"></div>\n",
    "\n",
    "$$\n",
    "\\begin{equation} \n",
    "Y\n",
    "=\n",
    "\\begin{pmatrix}\n",
    "0 & -i \\\\\n",
    "i & 0\n",
    "\\end{pmatrix}\n",
    "\\label{_auto8} \\tag{11}\n",
    "\\end{equation}\n",
    "$$"
   ]
  },
  {
   "cell_type": "markdown",
   "id": "fb02794b",
   "metadata": {
    "editable": true
   },
   "source": [
    "<!-- Equation labels as ordinary links -->\n",
    "<div id=\"_auto9\"></div>\n",
    "\n",
    "$$\n",
    "\\begin{equation} \n",
    "Z\n",
    "=\n",
    "\\begin{pmatrix}\n",
    "1 & 0 \\\\\n",
    "0 & -1\n",
    "\\end{pmatrix}\n",
    ", \\label{_auto9} \\tag{12}\n",
    "\\end{equation}\n",
    "$$"
   ]
  },
  {
   "cell_type": "markdown",
   "id": "c3c79a97",
   "metadata": {
    "editable": true
   },
   "source": [
    "which satisfy the relation"
   ]
  },
  {
   "cell_type": "markdown",
   "id": "22c41f8d",
   "metadata": {
    "editable": true
   },
   "source": [
    "<!-- Equation labels as ordinary links -->\n",
    "<div id=\"_auto10\"></div>\n",
    "\n",
    "$$\n",
    "\\begin{equation}\n",
    "\\comm{\\sigma}{\\tau}=i\\epsilon_{\\sigma\\tau\\upsilon}\\upsilon\n",
    ", \\label{_auto10} \\tag{13}\n",
    "\\end{equation}\n",
    "$$"
   ]
  },
  {
   "cell_type": "markdown",
   "id": "1bc8460b",
   "metadata": {
    "editable": true
   },
   "source": [
    "for $\\sigma,\\tau,\\upsilon\\in\\{X,Y,Z\\}$. These gates form a basis for\n",
    "the algebra $\\mathfrak{su}(2)$. Exponentiating them will thus give us\n",
    "a basis for SU(2), the group within which all single-qubit gates\n",
    "live. These exponentiated Pauli gates are called rotation gates\n",
    "$R_{\\sigma}(\\theta)$ because they rotate the quantum state around the\n",
    "axis $\\sigma=X,Y,Z$ of the Bloch sphere by an angle $\\theta$. They are\n",
    "defined as"
   ]
  },
  {
   "cell_type": "markdown",
   "id": "c185bf11",
   "metadata": {
    "editable": true
   },
   "source": [
    "<!-- Equation labels as ordinary links -->\n",
    "<div id=\"_auto11\"></div>\n",
    "\n",
    "$$\n",
    "\\begin{equation}\n",
    "R_X(\\theta)\n",
    "=\n",
    "e^{-i\\frac{\\theta}{2}X}\n",
    "=\n",
    "\\begin{pmatrix}\n",
    "\\cos\\frac{\\theta}{2} & -i\\sin\\frac{\\theta}{2} \\\\\n",
    "-i\\sin\\frac{\\theta}{2} & \\cos\\frac{\\theta}{2} \n",
    "\\end{pmatrix},\n",
    "\\label{_auto11} \\tag{14}\n",
    "\\end{equation}\n",
    "$$"
   ]
  },
  {
   "cell_type": "markdown",
   "id": "1fd0fdfd",
   "metadata": {
    "editable": true
   },
   "source": [
    "<!-- Equation labels as ordinary links -->\n",
    "<div id=\"_auto12\"></div>\n",
    "\n",
    "$$\n",
    "\\begin{equation} \n",
    "R_Y(\\theta)\n",
    "=\n",
    "e^{-i\\frac{\\theta}{2}Y}\n",
    "=\n",
    "\\begin{pmatrix}\n",
    "\\cos\\frac{\\theta}{2} & -\\sin\\frac{\\theta}{2} \\\\\n",
    "\\sin\\frac{\\theta}{2} & \\cos\\frac{\\theta}{2} \n",
    "\\end{pmatrix},\n",
    "\\label{_auto12} \\tag{15}\n",
    "\\end{equation}\n",
    "$$"
   ]
  },
  {
   "cell_type": "markdown",
   "id": "6014d9e6",
   "metadata": {
    "editable": true
   },
   "source": [
    "<!-- Equation labels as ordinary links -->\n",
    "<div id=\"_auto13\"></div>\n",
    "\n",
    "$$\n",
    "\\begin{equation} \n",
    "R_Z(\\theta)\n",
    "=\n",
    "e^{-i\\frac{\\theta}{2}Z}\n",
    "=\n",
    "\\begin{pmatrix}\n",
    "e^{-i\\theta/2} & 0 \\\\\n",
    "0 & e^{i\\theta/2}\n",
    "\\end{pmatrix}\n",
    ". \\label{_auto13} \\tag{16}\n",
    "\\end{equation}\n",
    "$$"
   ]
  },
  {
   "cell_type": "markdown",
   "id": "23e84cdd",
   "metadata": {
    "editable": true
   },
   "source": [
    "Because they form a basis for $\\text{SU}(2)$, any single-qubit gate can be decomposed into three rotation gates. Indeed"
   ]
  },
  {
   "cell_type": "markdown",
   "id": "df4c14bf",
   "metadata": {
    "editable": true
   },
   "source": [
    "<!-- Equation labels as ordinary links -->\n",
    "<div id=\"_auto14\"></div>\n",
    "\n",
    "$$\n",
    "\\begin{equation}\n",
    "R_z(\\phi)R_y(\\theta)R_z(\\lambda)\n",
    "=\n",
    "\\begin{pmatrix}\n",
    "e^{-i\\phi/2} & 0 \\\\\n",
    "0 & e^{i\\phi/2}\n",
    "\\end{pmatrix}\n",
    "\\begin{pmatrix}\n",
    "\\cos\\frac{\\theta}{2} & -\\sin\\frac{\\theta}{2} \\\\\n",
    "\\sin\\frac{\\theta}{2} & \\cos\\frac{\\theta}{2} \n",
    "\\end{pmatrix}\n",
    "\\begin{pmatrix}\n",
    "e^{-i\\lambda/2} & 0 \\\\\n",
    "0 & e^{i\\lambda/2}\n",
    "\\end{pmatrix}\n",
    "\\label{_auto14} \\tag{17}\n",
    "\\end{equation}\n",
    "$$"
   ]
  },
  {
   "cell_type": "markdown",
   "id": "c3c502bc",
   "metadata": {
    "editable": true
   },
   "source": [
    "<!-- Equation labels as ordinary links -->\n",
    "<div id=\"_auto15\"></div>\n",
    "\n",
    "$$\n",
    "\\begin{equation} \n",
    "=\n",
    "e^{-i(\\phi+\\lambda)/2}\n",
    "\\begin{pmatrix}\n",
    "\\cos\\frac{\\theta}{2} & -e^{i\\lambda}\\sin\\frac{\\theta}{2}\n",
    "\\\\\n",
    "e^{i\\phi}\\sin\\frac{\\theta}{2} & e^{i(\\phi+\\lambda)}\\cos\\frac{\\theta}{2}\n",
    "\\end{pmatrix}\n",
    ", \\label{_auto15} \\tag{18}\n",
    "\\end{equation}\n",
    "$$"
   ]
  },
  {
   "cell_type": "markdown",
   "id": "0780a315",
   "metadata": {
    "editable": true
   },
   "source": [
    "which is, up to a global phase, equal to the expression for an arbitrary single-qubit gate ([8](#U))."
   ]
  },
  {
   "cell_type": "markdown",
   "id": "99184409",
   "metadata": {
    "editable": true
   },
   "source": [
    "## Two-Qubit Gates\n",
    "\n",
    "A two-qubit gate is a physical action that is applied to two\n",
    "qubits. It can be represented by a matrix $U$ from the group\n",
    "SU(4). One important type of two-qubit gates are controlled gates,\n",
    "which work as follows: Suppose $U$ is a single-qubit gate. A\n",
    "controlled-$U$ gate ($CU$) acts on two qubits: a control qubit\n",
    "$\\vert x \\rangle $ and a target qubit $\\vert y \\rangle $. The controlled-$U$ gate\n",
    "applies the identity $I$ or the single-qubit gate $U$ to the target\n",
    "qubit if the control gate is in the zero state $\\ket{0}$ or the one\n",
    "state $\\ket{1}$, respectively. The control qubit is not acted\n",
    "upon. This can be represented as follows:"
   ]
  },
  {
   "cell_type": "markdown",
   "id": "a729ec69",
   "metadata": {
    "editable": true
   },
   "source": [
    "<!-- Equation labels as ordinary links -->\n",
    "<div id=\"_auto16\"></div>\n",
    "\n",
    "$$\n",
    "\\begin{equation}\n",
    "CU\\ket{xy}=\n",
    "\\begin{cases}\n",
    "\\ket{xy}  \\text{if} \\ \\vert x \\rangle =\\ket{0}\n",
    "\\label{_auto16} \\tag{19}\n",
    "\\end{equation}\n",
    "$$"
   ]
  },
  {
   "cell_type": "markdown",
   "id": "fa4caca8",
   "metadata": {
    "editable": true
   },
   "source": [
    "<!-- Equation labels as ordinary links -->\n",
    "<div id=\"_auto17\"></div>\n",
    "\n",
    "$$\n",
    "\\begin{equation} \n",
    "\\vert x \\rangle U\\vert y \\rangle   \\text{if} \\ \\vert x \\rangle =\\ket{1}\n",
    "\\end{cases}\n",
    ". \\label{_auto17} \\tag{20}\n",
    "\\end{equation}\n",
    "$$"
   ]
  },
  {
   "cell_type": "markdown",
   "id": "c0c0d295",
   "metadata": {
    "editable": true
   },
   "source": [
    "The action of a controlled-$U$ gate $CU$ can be represented in a quantum circuit as follows"
   ]
  },
  {
   "cell_type": "markdown",
   "id": "6112ba69",
   "metadata": {
    "editable": true
   },
   "source": [
    "<!-- Equation labels as ordinary links -->\n",
    "<div id=\"_auto18\"></div>\n",
    "\n",
    "$$\n",
    "\\begin{equation}\n",
    "\\Qcircuit @C=1em @R=3em \n",
    "{\n",
    "\\lstick{\\vert x \\rangle }  \\ctrl{1}  \\rstick{\\vert x \\rangle } \\qw\n",
    "\\label{_auto18} \\tag{21}\n",
    "\\end{equation}\n",
    "$$"
   ]
  },
  {
   "cell_type": "markdown",
   "id": "fe8c5c0d",
   "metadata": {
    "editable": true
   },
   "source": [
    "<!-- Equation labels as ordinary links -->\n",
    "<div id=\"_auto19\"></div>\n",
    "\n",
    "$$\n",
    "\\begin{equation} \n",
    "\\lstick{\\vert y \\rangle }  \\gate{U}  \\rstick{\\begin{cases}\\vert y \\rangle ,  \\vert x \\rangle =\\ket{0} \n",
    "\\label{_auto19} \\tag{22}\n",
    "\\end{equation}\n",
    "$$"
   ]
  },
  {
   "cell_type": "markdown",
   "id": "8fd08f47",
   "metadata": {
    "editable": true
   },
   "source": [
    "<!-- Equation labels as ordinary links -->\n",
    "<div id=\"_auto20\"></div>\n",
    "\n",
    "$$\n",
    "\\begin{equation}  U\\vert y \\rangle ,  \\ket{a}=\\vert x \\rangle \\end{cases}} \\qw\n",
    "}\n",
    "\\label{_auto20} \\tag{23}\n",
    "\\end{equation}\n",
    "$$"
   ]
  },
  {
   "cell_type": "markdown",
   "id": "c2ecb268",
   "metadata": {
    "editable": true
   },
   "source": [
    "$$\n",
    "\\nonumber\n",
    "$$"
   ]
  },
  {
   "cell_type": "markdown",
   "id": "2a7e39be",
   "metadata": {
    "editable": true
   },
   "source": [
    "It can be written in matrix form by writing it as a superposition of\n",
    "the two possible cases, each written as a simple tensor product"
   ]
  },
  {
   "cell_type": "markdown",
   "id": "d04274dc",
   "metadata": {
    "editable": true
   },
   "source": [
    "<!-- Equation labels as ordinary links -->\n",
    "<div id=\"_auto21\"></div>\n",
    "\n",
    "$$\n",
    "\\begin{equation}\n",
    "CU \n",
    "= \\ket{0}\\bra{0}\\otimes I + \\ket{1}\\bra{1}\\otimes U\n",
    "\\label{_auto21} \\tag{24}\n",
    "\\end{equation}\n",
    "$$"
   ]
  },
  {
   "cell_type": "markdown",
   "id": "be8bf3c7",
   "metadata": {
    "editable": true
   },
   "source": [
    "<!-- Equation labels as ordinary links -->\n",
    "<div id=\"_auto22\"></div>\n",
    "\n",
    "$$\n",
    "\\begin{equation} \n",
    "&=\\begin{pmatrix}\n",
    "1 & 0 & 0 & 0 \\\\\n",
    "0 & 1 & 0 & 0 \\\\\n",
    "0 & 0 & u_{00} & u_{01} \\\\\n",
    "0 & 0 & u_{10} & u_{11}\n",
    "\\end{pmatrix}\n",
    ". \\label{_auto22} \\tag{25}\n",
    "\\end{equation}\n",
    "$$"
   ]
  },
  {
   "cell_type": "markdown",
   "id": "165356e8",
   "metadata": {
    "editable": true
   },
   "source": [
    "One of the most fundamental controlled gates is the CNOT gate. It is\n",
    "defined as the controlled-$X$ gate $CX$ and thus flips the state of\n",
    "the target qubit if the control qubit is in the zero state\n",
    "$\\ket{0}$. It can be written in matrix form as follows:"
   ]
  },
  {
   "cell_type": "markdown",
   "id": "f39c3f3d",
   "metadata": {
    "editable": true
   },
   "source": [
    "<!-- Equation labels as ordinary links -->\n",
    "<div id=\"_auto23\"></div>\n",
    "\n",
    "$$\n",
    "\\begin{equation}\n",
    "\\text{CNOT}\n",
    "=\\begin{pmatrix}\n",
    "1 & 0 & 0 & 0 \\\\\n",
    "0 & 1 & 0 & 0 \\\\\n",
    "0 & 0 & 0 & 1 \\\\\n",
    "0 & 0 & 1 & 0\n",
    "\\end{pmatrix}\n",
    ". \\label{_auto23} \\tag{26}\n",
    "\\end{equation}\n",
    "$$"
   ]
  },
  {
   "cell_type": "markdown",
   "id": "c3bc8520",
   "metadata": {
    "editable": true
   },
   "source": [
    "A widely used two-qubit gate that goes beyond the simple controlled function is the SWAP gate. It swaps the states of the two qubits it acts upon"
   ]
  },
  {
   "cell_type": "markdown",
   "id": "df278947",
   "metadata": {
    "editable": true
   },
   "source": [
    "<!-- Equation labels as ordinary links -->\n",
    "<div id=\"swap_def\"></div>\n",
    "\n",
    "$$\n",
    "\\begin{equation}\n",
    "\\text{SWAP}\\ket{xy}=\\ket{yx}\n",
    ",\\end{equation}\n",
    "as depicted in the quantum circuit below\n",
    "\\begin{equation}\n",
    "\\label{swap_def} \\tag{27}\n",
    "\\Qcircuit\n",
    "{\n",
    "\\lstick{\\vert x \\rangle }  \\qswap       \\rstick{\\vert y \\rangle } \\qw\n",
    "\\end{equation}\n",
    "$$"
   ]
  },
  {
   "cell_type": "markdown",
   "id": "5fbe65fb",
   "metadata": {
    "editable": true
   },
   "source": [
    "<!-- Equation labels as ordinary links -->\n",
    "<div id=\"_auto24\"></div>\n",
    "\n",
    "$$\n",
    "\\begin{equation} \n",
    "\\lstick{\\vert y \\rangle }  \\qswap \\qwx  \\rstick{\\vert x \\rangle } \\qw\n",
    "}\n",
    ", \\label{_auto24} \\tag{28}\n",
    "\\end{equation}\n",
    "$$"
   ]
  },
  {
   "cell_type": "markdown",
   "id": "0ab4728d",
   "metadata": {
    "editable": true
   },
   "source": [
    "and has the following matrix form"
   ]
  },
  {
   "cell_type": "markdown",
   "id": "e195868c",
   "metadata": {
    "editable": true
   },
   "source": [
    "<!-- Equation labels as ordinary links -->\n",
    "<div id=\"_auto25\"></div>\n",
    "\n",
    "$$\n",
    "\\begin{equation}\n",
    "\\text{SWAP}\n",
    "=\\begin{pmatrix}\n",
    "1 & 0 & 0 & 0 \\\\\n",
    "0 & 0 & 1 & 0 \\\\\n",
    "0 & 1 & 0 & 0 \\\\\n",
    "0 & 0 & 0 & 1\n",
    "\\end{pmatrix}\n",
    ". \\label{_auto25} \\tag{29}\n",
    "\\end{equation}\n",
    "$$"
   ]
  },
  {
   "cell_type": "markdown",
   "id": "d656001c",
   "metadata": {
    "editable": true
   },
   "source": [
    "It can be decomposed into a series of three CNOTs, each of which has its directionality flipped from the previous"
   ]
  },
  {
   "cell_type": "markdown",
   "id": "919b2fae",
   "metadata": {
    "editable": true
   },
   "source": [
    "<!-- Equation labels as ordinary links -->\n",
    "<div id=\"_auto26\"></div>\n",
    "\n",
    "$$\n",
    "\\begin{equation}\n",
    "\\Qcircuit\n",
    "{\n",
    "\\lstick{\\vert x \\rangle }  \\ctrl{1}  \\targ      \\ctrl{1}  \\rstick{\\vert y \\rangle } \\qw\n",
    "\\label{_auto26} \\tag{30}\n",
    "\\end{equation}\n",
    "$$"
   ]
  },
  {
   "cell_type": "markdown",
   "id": "a7dbca15",
   "metadata": {
    "editable": true
   },
   "source": [
    "<!-- Equation labels as ordinary links -->\n",
    "<div id=\"_auto27\"></div>\n",
    "\n",
    "$$\n",
    "\\begin{equation} \n",
    "\\lstick{\\vert y \\rangle }  \\targ     \\ctrl{-1}  \\targ     \\rstick{\\vert x \\rangle } \\qw\n",
    "}\n",
    "\\label{_auto27} \\tag{31}\n",
    "\\end{equation}\n",
    "$$"
   ]
  },
  {
   "cell_type": "markdown",
   "id": "dbcde568",
   "metadata": {
    "editable": true
   },
   "source": [
    "As for arbitrary two-qubit gates $U\\in\\text{SU(4)}$, they can be\n",
    "optimally decomposed (up to a global phase) into the following\n",
    "sequence \\[[ref:kak]](#ref:kak) involving three parameters, fifteen elementary\n",
    "one-qubit gates and three CNOT gates"
   ]
  },
  {
   "cell_type": "markdown",
   "id": "f72b7bd0",
   "metadata": {
    "editable": true
   },
   "source": [
    "<!-- Equation labels as ordinary links -->\n",
    "<div id=\"_auto28\"></div>\n",
    "\n",
    "$$\n",
    "\\begin{equation}\n",
    "\\Qcircuit\n",
    "{\n",
    "\\qw  \\gate{U_1}  \\ctrl{1}  \\gate{R_y(\\theta_1)}  \\targ       \\gate{R_y(\\theta_2)}  \\ctrl{1}  \\gate{U_3}  \\qw\n",
    "\\label{_auto28} \\tag{32}\n",
    "\\end{equation}\n",
    "$$"
   ]
  },
  {
   "cell_type": "markdown",
   "id": "8bc2e71b",
   "metadata": {
    "editable": true
   },
   "source": [
    "<!-- Equation labels as ordinary links -->\n",
    "<div id=\"_auto29\"></div>\n",
    "\n",
    "$$\n",
    "\\begin{equation} \n",
    "\\qw  \\gate{U_2}  \\targ     \\gate{R_z(\\theta_3)}  \\ctrl{-1}  \\qw                   \\targ      \\gate{U_4}  \\qw\n",
    "}\n",
    "\\label{_auto29} \\tag{33}\n",
    "\\end{equation}\n",
    "$$"
   ]
  },
  {
   "cell_type": "markdown",
   "id": "ff825d59",
   "metadata": {
    "editable": true
   },
   "source": [
    "where $U_1,U_2,U_3,U_4$ are single-qubit gates, each of which can be\n",
    "decomposed into three elementary one-qubit gates (rotation\n",
    "gates). Additionally, $\\theta_1,\\theta_2,\\theta_3$ are parameters to\n",
    "be determined by the arbitrary two-qubit gate to be\n",
    "decomposed. Two-qubit gates that are restricted to $U\\in\\text{SO(4)}$\n",
    "can be decomposed into a shorter depth circuit consisting of just\n",
    "twelve elementary single-qubit gates and two CNOT gates"
   ]
  },
  {
   "cell_type": "markdown",
   "id": "cdaf4ac3",
   "metadata": {
    "editable": true
   },
   "source": [
    "<!-- Equation labels as ordinary links -->\n",
    "<div id=\"_auto30\"></div>\n",
    "\n",
    "$$\n",
    "\\begin{equation}\n",
    "\\Qcircuit\n",
    "{\n",
    "\\qw  \\gate{R_z(\\pi/2)}  \\gate{R_y(\\pi/2)}  \\ctrl{1}  \\gate{U_1}  \\ctrl{1}  \\gate{R^*_y(\\pi/2)}  \\gate{R^*_z(\\pi/2)}  \\qw\n",
    "\\label{_auto30} \\tag{34}\n",
    "\\end{equation}\n",
    "$$"
   ]
  },
  {
   "cell_type": "markdown",
   "id": "fcabbeec",
   "metadata": {
    "editable": true
   },
   "source": [
    "<!-- Equation labels as ordinary links -->\n",
    "<div id=\"_auto31\"></div>\n",
    "\n",
    "$$\n",
    "\\begin{equation} \n",
    "\\qw  \\gate{R_z(\\pi/2)}  \\qw                \\targ     \\gate{U_2}  \\targ     \\qw                  \\gate{R^*_z(\\pi/2)}  \\qw\n",
    "}\n",
    "\\label{_auto31} \\tag{35}\n",
    "\\end{equation}\n",
    "$$"
   ]
  },
  {
   "cell_type": "markdown",
   "id": "8259a76f",
   "metadata": {
    "editable": true
   },
   "source": [
    "**Lecture next week we discuss simple algorithms and quantum circuits.**\n",
    "\n",
    "1. Introduction to [Qiskit](https://qiskit.org/)\n",
    "\n",
    "2. Defining one-, two-\tand three-qubit\tgates\n",
    "\n",
    "3. Setting up quantum circuits\tand simple algorithms"
   ]
  }
 ],
 "metadata": {},
 "nbformat": 4,
 "nbformat_minor": 5
}
