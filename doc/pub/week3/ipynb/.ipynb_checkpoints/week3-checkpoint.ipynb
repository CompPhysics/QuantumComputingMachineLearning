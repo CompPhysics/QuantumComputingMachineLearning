{
 "cells": [
  {
   "cell_type": "markdown",
   "id": "4cb38f84",
   "metadata": {},
   "source": [
    "<!-- HTML file automatically generated from DocOnce source (https://github.com/doconce/doconce/)\n",
    "doconce format html week3.do.txt --no_mako -->\n",
    "<!-- dom:TITLE: February 6-10,2023: Quantum Computing, Quantum Machine Learning and Quantum Information Theories -->"
   ]
  },
  {
   "cell_type": "markdown",
   "id": "8ecfcab1",
   "metadata": {},
   "source": [
    "# February 6-10,2023: Quantum Computing, Quantum Machine Learning and Quantum Information Theories\n",
    "**Morten Hjorth-Jensen**, Department of Physics, University of Oslo, Norway and Department of Physics and Astronomy and Facility for Rare Isotope Beams, Michigan State University, USA\n",
    "\n",
    "Date: **February 6-10, 2023**"
   ]
  },
  {
   "cell_type": "markdown",
   "id": "30925333",
   "metadata": {},
   "source": [
    "## Spectral Decomposition, Measurements and Density matrices\n",
    "\n",
    "1. Density matrices and Measurements\n",
    "\n",
    "2. [Video of lecture](https://youtu.be/jVh_0KfSSNk)\n",
    "\n",
    "* [Teaching material in different formats](https://github.com/CompPhysics/QuantumComputingMachineLearning/tree/gh-pages/doc/pub/week3)\n",
    "\n",
    "* **Reading recommendation**: Scherrer, Mathematics of Quantum Computations, chapters 2 and 3"
   ]
  },
  {
   "cell_type": "markdown",
   "id": "e59b0c46",
   "metadata": {},
   "source": [
    "## Introduction\n",
    "\n",
    "In order to study entanglement and why it is so important for quantum\n",
    "computing, we need to introduce some basic measures and useful\n",
    "quantities.  These quantities are the spectral decomposition of\n",
    "hermitian operators, how these are then used to define measurements\n",
    "and how we can define so-called density operators (matrices). These\n",
    "are all quantities which will become very useful when we discuss\n",
    "entanglement and in particular how to quantify it. In order to define\n",
    "these quantities we need first to remind ourselves about some basic linear\n",
    "algebra properties of hermitian operators and matrices."
   ]
  },
  {
   "cell_type": "markdown",
   "id": "825bd4b0",
   "metadata": {},
   "source": [
    "## Basic properties of hermitian operators\n",
    "\n",
    "The operators we typically encounter in quantum mechanical studies\n",
    "1. Hermitian (self-adjoint) meaning that for example the elements of a Hermitian matrix $\\boldsymbol{U}$ obey $u_{ij}=u_{ji}^*$.\n",
    "\n",
    "2. Unitary $\\boldsymbol{U}\\boldsymbol{U}^{\\dagger}=\\boldsymbol{U}^{\\dagger}\\boldsymbol{U}=\\boldsymbol{I}$, where $\\boldsymbol{I}$ is the unit matrix\n",
    "\n",
    "3. The oparator $\\boldsymbol{U}$ and its self-adjoint commute (often labeled as normal operators), that is  $[\\boldsymbol{U},\\boldsymbol{U}^{\\dagger}]=0$. An operator is **normal** if and only if it is diagonalizable. A Hermitian operator is normal.\n",
    "\n",
    "Unitary operators in a Hilbert space preserve the norm and orthogonality. If $\\boldsymbol{U}$ is a unitary operator acting on a state $\\vert \\psi_j\\rangle$, the action of"
   ]
  },
  {
   "cell_type": "markdown",
   "id": "a3ffd729",
   "metadata": {},
   "source": [
    "$$\n",
    "\\vert \\phi_i\\rangle=\\boldsymbol{U}\\vert \\psi_j\\rangle,\n",
    "$$"
   ]
  },
  {
   "cell_type": "markdown",
   "id": "1f5e351a",
   "metadata": {},
   "source": [
    "preserves both the norm and orthogonality, that is $\\langle \\phi_i \\vert \\phi_j\\rangle=\\langle \\psi_i \\vert \\psi_j\\rangle=\\delta_{ij}$, as discussed earlier.\n",
    "\n",
    "As example, consider the Pauli matrix $\\sigma_x$. We have already seen that this matrix is a unitary matrix. Consider then an orthogonal and normalized basis $\\vert 0\\rangle^{\\dagger} =\\begin{bmatrix} 1 &  0\\end{bmatrix}$ and $\\vert 1\\rangle^{\\dagger} =\\begin{bmatrix} 0 &  1\\end{bmatrix}$ and a state which is a linear superposition of these two basis states"
   ]
  },
  {
   "cell_type": "markdown",
   "id": "4e9a8d15",
   "metadata": {},
   "source": [
    "$$\n",
    "\\vert \\psi_a\\rangle=\\alpha_0\\vert 0\\rangle +\\alpha_1\\vert 1\\rangle.\n",
    "$$"
   ]
  },
  {
   "cell_type": "markdown",
   "id": "49ec3af3",
   "metadata": {},
   "source": [
    "A new state $\\vert \\psi_b\\rangle$ is given by"
   ]
  },
  {
   "cell_type": "markdown",
   "id": "552639b0",
   "metadata": {},
   "source": [
    "$$\n",
    "\\vert \\psi_b\\rangle=\\sigma_x\\vert \\psi_a\\rangle=\\alpha_0\\vert 1\\rangle +\\alpha_1\\vert 0\\rangle.\n",
    "$$"
   ]
  },
  {
   "cell_type": "markdown",
   "id": "8c160dcd",
   "metadata": {},
   "source": [
    "### Spectral Decomposition\n",
    "\n",
    "An important techanicality which we will use in the discussion of\n",
    "density matrices, entanglement, quantum entropies and other properties\n",
    "is the so-called spectral decomposition of an operator.\n",
    "\n",
    "Let $\\vert \\psi\\rangle$ be a vector in a Hilbert space of dimension $n$ and a hermitian operator $\\boldsymbol{A}$ defined in this\n",
    "space. Assume $\\vert \\psi\\rangle$ is an eigenvector of $\\boldsymbol{A}$ with eigenvalue $\\lambda$, that is"
   ]
  },
  {
   "cell_type": "markdown",
   "id": "136da9bf",
   "metadata": {},
   "source": [
    "$$\n",
    "\\boldsymbol{A}\\vert psi\\rangle = \\lambda\\vert \\psi\\rangle = \\lambda \\boldsymbol{I}\\vert \\psi \\rangle,\n",
    "$$"
   ]
  },
  {
   "cell_type": "markdown",
   "id": "db549e97",
   "metadata": {},
   "source": [
    "where we used $\\boldsymbol{I}\\vert \\psi \\rangle = 1 \\vert \\psi \\rangle$.\n",
    "Subtracting the right hand side from the left hand side gives"
   ]
  },
  {
   "cell_type": "markdown",
   "id": "e324105e",
   "metadata": {},
   "source": [
    "$$\n",
    "\\left[\\boldsymbol{A}-\\lambda \\boldsymbol{I}\\right]\\vert \\psi \\rangle=0,\n",
    "$$"
   ]
  },
  {
   "cell_type": "markdown",
   "id": "99c145d3",
   "metadata": {},
   "source": [
    "which has a nontrivial solution only if the determinant\n",
    "$\\mathrm{det}(\\boldsymbol{A}-\\lambda\\boldsymbol{I})=0$.\n",
    "\n",
    "We define now an orthonormal basis $\\vert i \\rangle =\\{\\vert 0\n",
    "\\rangle, \\vert 1\\rangle, \\dots, \\vert n-1\\rangle$ in the same Hilbert\n",
    "space. We will assume that this basis is an eigenbasis of $\\boldsymbol{A}$ with eigenvalues $\\lambda_i$\n",
    "\n",
    "We expand a new vector using this eigenbasis of $\\boldsymbol{A}$"
   ]
  },
  {
   "cell_type": "markdown",
   "id": "5b19ac3d",
   "metadata": {},
   "source": [
    "$$\n",
    "\\vert \\psi_a \\rangle = \\sum_{i=0}^{n-1}\\alpha_i\\vert i\\rangle,\n",
    "$$"
   ]
  },
  {
   "cell_type": "markdown",
   "id": "1fffda78",
   "metadata": {},
   "source": [
    "with the normalization condition $\\sum_{i=0}^{n-1}\\vert \\alpha_i\\vert^2$.\n",
    "Acting with $\\boldsymbol{A}$ on this new state results in"
   ]
  },
  {
   "cell_type": "markdown",
   "id": "3192ebd9",
   "metadata": {},
   "source": [
    "$$\n",
    "\\boldsymbol{A}\\vert \\psi_a \\rangle = \\sum_{i=0}^{n-1}\\alpha_i\\boldsymbol{A}\\vert i\\rangle=\\sum_{i=0}^{n-1}\\alpha_i\\lambda_i\\vert i\\rangle.\n",
    "$$"
   ]
  },
  {
   "cell_type": "markdown",
   "id": "90992973",
   "metadata": {},
   "source": [
    "If we then use that the outer product of any state with itself defines a projection operator we have the projection operators"
   ]
  },
  {
   "cell_type": "markdown",
   "id": "d904c574",
   "metadata": {},
   "source": [
    "$$\n",
    "\\boldsymbol{P}_{\\psi_a} = \\vert \\psi_a\\rangle\\langle \\psi_a\\vert,\n",
    "$$"
   ]
  },
  {
   "cell_type": "markdown",
   "id": "b4840283",
   "metadata": {},
   "source": [
    "and"
   ]
  },
  {
   "cell_type": "markdown",
   "id": "3ee01f48",
   "metadata": {},
   "source": [
    "$$\n",
    "\\boldsymbol{P}_{j} = \\vert j\\rangle\\langle j\\vert,\n",
    "$$"
   ]
  },
  {
   "cell_type": "markdown",
   "id": "0af12ec4",
   "metadata": {},
   "source": [
    "we have that"
   ]
  },
  {
   "cell_type": "markdown",
   "id": "697d4cee",
   "metadata": {},
   "source": [
    "$$\n",
    "\\boldsymbol{P}_{j}\\vert \\psi_a\\rangle=\\vert j\\rangle\\langle j\\vert\\sum_{i=0}^{n-1}\\alpha_i\\vert i\\rangle=\\sum_{i=0}^{n-1}\\alpha_i\\vert j\\rangle\\langle j\\vert i\\rangle,\n",
    "$$"
   ]
  },
  {
   "cell_type": "markdown",
   "id": "a9fa04aa",
   "metadata": {},
   "source": [
    "which results in"
   ]
  },
  {
   "cell_type": "markdown",
   "id": "1ac3c339",
   "metadata": {},
   "source": [
    "$$\n",
    "\\boldsymbol{P}_{j}\\vert \\psi_a\\rangle=\\alpha_j\\vert j\\rangle,\n",
    "$$"
   ]
  },
  {
   "cell_type": "markdown",
   "id": "114dbd0a",
   "metadata": {},
   "source": [
    "since $\\langle j\\vert i\\rangle$.\n",
    "With the last equation we can rewrite"
   ]
  },
  {
   "cell_type": "markdown",
   "id": "9580880e",
   "metadata": {},
   "source": [
    "$$\n",
    "\\boldsymbol{A}\\vert \\psi_a \\rangle = \\sum_{i=0}^{n-1}\\alpha_i\\lambda_i\\vert i\\rangle=\\sum_{i=0}^{n-1}\\lambda_i\\boldsymbol{P}_i\\vert \\psi_a\\rangle,\n",
    "$$"
   ]
  },
  {
   "cell_type": "markdown",
   "id": "3597bdfc",
   "metadata": {},
   "source": [
    "from which we conclude that"
   ]
  },
  {
   "cell_type": "markdown",
   "id": "e0315823",
   "metadata": {},
   "source": [
    "$$\n",
    "\\boldsymbol{A}=\\sum_{i=0}^{n-1}\\lambda_i\\boldsymbol{P}_i.\n",
    "$$"
   ]
  },
  {
   "cell_type": "markdown",
   "id": "fb2a724a",
   "metadata": {},
   "source": [
    "This is the spectral decomposition of a hermitian and normal operator. It is true for any state and it is independent of the basis. The spectral decomposition can in turn be used to exhaustively specify a measurement, as we will see in the next section.\n",
    "\n",
    "As an example, consider two states $\\vert \\psi_a\\rangle$ and $\\vert\n",
    "\\psi_b\\rangle$ that are eigenstates of $\\boldsymbol{A}$ with eigenvalues\n",
    "$\\lambda_a$ and $\\lambda_b$, respectively. In the diagonalization\n",
    "process we have obtained the coefficients $\\alpha_0$, $\\alpha_1$,\n",
    "$\\beta_0$ and $\\beta_1$ using an expansion in terms of the orthogonal\n",
    "basis $\\vert 0\\rangle$ and $\\vert 1\\rangle$. That is we have"
   ]
  },
  {
   "cell_type": "markdown",
   "id": "6b578750",
   "metadata": {},
   "source": [
    "$$\n",
    "\\vert \\psi_a\\rangle = \\alpha_0\\vert 0\\rangle+\\alpha_1\\vert 1\\rangle,\n",
    "$$"
   ]
  },
  {
   "cell_type": "markdown",
   "id": "f87c9431",
   "metadata": {},
   "source": [
    "and"
   ]
  },
  {
   "cell_type": "markdown",
   "id": "7cf0d123",
   "metadata": {},
   "source": [
    "$$\n",
    "\\vert \\psi_b\\rangle = \\beta_0\\vert 0\\rangle+\\beta_1\\vert 1\\rangle,\n",
    "$$"
   ]
  },
  {
   "cell_type": "markdown",
   "id": "dd7cf137",
   "metadata": {},
   "source": [
    "with corresponding projection operators"
   ]
  },
  {
   "cell_type": "markdown",
   "id": "50f65a50",
   "metadata": {},
   "source": [
    "$$\n",
    "\\boldsymbol{P}_a=\\vert \\psi_a\\rangle \\langle \\psi_a\\vert = \\begin{bmatrix} \\vert \\alpha_0\\vert^2 &\\alpha_0\\alpha_1^* \\\\\n",
    "                                                                   \\alpha_1\\alpha_0^* & \\vert \\alpha_1\\vert^* \\end{bmatrix},\n",
    "$$"
   ]
  },
  {
   "cell_type": "markdown",
   "id": "1a622cc4",
   "metadata": {},
   "source": [
    "and"
   ]
  },
  {
   "cell_type": "markdown",
   "id": "a41696bd",
   "metadata": {},
   "source": [
    "$$\n",
    "\\boldsymbol{P}_b=\\vert \\psi_b\\rangle \\langle \\psi_b\\vert = \\begin{bmatrix} \\vert \\beta_0\\vert^2 &\\beta_0\\beta_1^* \\\\\n",
    "                                                                   \\beta_1\\beta_0^* & \\vert \\beta_1\\vert^* \\end{bmatrix},\n",
    "$$"
   ]
  },
  {
   "cell_type": "markdown",
   "id": "77e973a5",
   "metadata": {},
   "source": [
    "resulting in the following spectral decomposition of $\\boldsymbol{A}$"
   ]
  },
  {
   "cell_type": "markdown",
   "id": "87bbce9e",
   "metadata": {},
   "source": [
    "$$\n",
    "\\boldsymbol{A}=\\lambda_a \\vert \\psi_a\\rangle \\langle \\psi_a\\vert+\\lambda_b \\vert \\psi_b\\rangle \\langle \\psi_b\\vert,\n",
    "$$"
   ]
  },
  {
   "cell_type": "markdown",
   "id": "fb698ab7",
   "metadata": {},
   "source": [
    "which written out in all its details reads"
   ]
  },
  {
   "cell_type": "markdown",
   "id": "0a7e0756",
   "metadata": {},
   "source": [
    "$$\n",
    "\\boldsymbol{A}=\\lambda_a\\begin{bmatrix} \\vert \\alpha_0\\vert^2 &\\alpha_0\\alpha_1^* \\\\\n",
    "                                                                   \\alpha_1\\alpha_0^* & \\vert \\alpha_1\\vert^* \\end{bmatrix} +\\lambda_b\\begin{bmatrix} \\vert \\beta_0\\vert^2 &\\beta_0\\beta_1^* \\\\\n",
    "                                                                   \\beta_1\\beta_0^* & \\vert \\beta_1\\vert^* \\end{bmatrix}.\n",
    "$$"
   ]
  },
  {
   "cell_type": "markdown",
   "id": "bfe419e1",
   "metadata": {},
   "source": [
    "## Measurements\n",
    "\n",
    "Armed with the spectral decomposition, we are now ready to discuss how\n",
    "to compute measurements of observables.  When we make a measurement,\n",
    "quantum mechanics postulates that mutually exclusive measurement\n",
    "outcomes correspond to orthogonal projection operators.\n",
    "\n",
    "We assume now we can contruct a series of such orthogonal operators based on $\\vert i \\rangle \\in \\{\\vert 0\\rangle, \\vert 1\\rangle,\\dots, \\vert n-1\\rangle$ computational basis states. These projection operators $\\boldsymbol{P}_0,\\boldsymbol{P}_1,\\dots,\\boldsymbol{P}_{n-1}$ are all idempotent and sum to one"
   ]
  },
  {
   "cell_type": "markdown",
   "id": "6dcfa933",
   "metadata": {},
   "source": [
    "$$\n",
    "\\sum_{i=0}^{n-1}\\boldsymbol{P}_i=\\boldsymbol{I}.\n",
    "$$"
   ]
  },
  {
   "cell_type": "markdown",
   "id": "2d9bd5d0",
   "metadata": {},
   "source": [
    "As an example, consider the basis of two qubits $\\vert 0\\rangle$ and $\\vert 1\\rangle$ with the correspong sum"
   ]
  },
  {
   "cell_type": "markdown",
   "id": "bb428c26",
   "metadata": {},
   "source": [
    "$$\n",
    "\\sum_{i=0}^{1}\\boldsymbol{P}_i=\\begin{bmatrix} 1 & 0 \\\\ 0 & 1\\end{bmatrix}.\n",
    "$$"
   ]
  },
  {
   "cell_type": "markdown",
   "id": "69b80554",
   "metadata": {},
   "source": [
    "Based on the spectral decomposition discussed above, we can define the probability of eigenvalue $\\lambda_i$ as"
   ]
  },
  {
   "cell_type": "markdown",
   "id": "e549b12b",
   "metadata": {},
   "source": [
    "$$\n",
    "\\mathrm{Prob}(\\lambda_i) = \\vert \\boldsymbol{P}_i\\vert \\psi_a\\rangle\\vert^2,\n",
    "$$"
   ]
  },
  {
   "cell_type": "markdown",
   "id": "3d807ed5",
   "metadata": {},
   "source": [
    "where $\\vert \\psi_a\\rangle$ is a quantum state representing the system prior to a specific measurement.\n",
    "We can rewrite this as"
   ]
  },
  {
   "cell_type": "markdown",
   "id": "dab83220",
   "metadata": {},
   "source": [
    "$$\n",
    "\\mathrm{Prob}(\\lambda_i) = \\langle \\psi_a\\vert \\boldsymbol{P}_i^{\\dagger}\\boldsymbol{P}_i\\vert \\psi_a\\rangle =\\langle \\psi_a\\vert \\boldsymbol{P}_i\\vert \\psi_a\\rangle.\n",
    "$$"
   ]
  },
  {
   "cell_type": "markdown",
   "id": "ef15dd6c",
   "metadata": {},
   "source": [
    "The total probability for all measurements is the sum overt all probabilities"
   ]
  },
  {
   "cell_type": "markdown",
   "id": "f2071a8d",
   "metadata": {},
   "source": [
    "$$\n",
    "\\sum_{i=0}^{n-1}\\mathrm{Prob}(\\lambda_i)=1.\n",
    "$$"
   ]
  },
  {
   "cell_type": "markdown",
   "id": "3fa026bf",
   "metadata": {},
   "source": [
    "We can in turn define the post-measurement normalized pure quantum state as, for the specific outcome $\\lambda_i$, as"
   ]
  },
  {
   "cell_type": "markdown",
   "id": "5a3830a5",
   "metadata": {},
   "source": [
    "$$\n",
    "\\vert \\psi_a^{'}\\rangle = \\frac{\\boldsymbol{P}_i\\vert \\psi_a\\rangle}{\\sqrt{\\langle \\psi_a \\vert \\boldsymbol{P}_i\\vert \\psi_a\\rangle}}.\n",
    "$$"
   ]
  },
  {
   "cell_type": "markdown",
   "id": "6f4f07f2",
   "metadata": {},
   "source": [
    "As an example, consider the binary system states $\\vert 0\\rangle$ and $\\vert 1\\rangle$ with corresponding projection operators"
   ]
  },
  {
   "cell_type": "markdown",
   "id": "31861926",
   "metadata": {},
   "source": [
    "$$\n",
    "\\boldsymbol{P}_0 =\\vert 0 \\rangle \\langle 0\\vert,\n",
    "$$"
   ]
  },
  {
   "cell_type": "markdown",
   "id": "7c79d972",
   "metadata": {},
   "source": [
    "and"
   ]
  },
  {
   "cell_type": "markdown",
   "id": "371b208b",
   "metadata": {},
   "source": [
    "$$\n",
    "\\boldsymbol{P}_1 =\\vert 1 \\rangle \\langle 1\\vert,\n",
    "$$"
   ]
  },
  {
   "cell_type": "markdown",
   "id": "b673b052",
   "metadata": {},
   "source": [
    "with the properties"
   ]
  },
  {
   "cell_type": "markdown",
   "id": "45b383f9",
   "metadata": {},
   "source": [
    "$$\n",
    "\\sum_{i=0}^1\\boldsymbol{P}_i^{\\dagger}\\boldsymbol{P}_1=\\boldsymbol{I},\n",
    "$$"
   ]
  },
  {
   "cell_type": "markdown",
   "id": "a9333875",
   "metadata": {},
   "source": [
    "$$\n",
    "\\boldsymbol{P}_0^{\\dagger}\\boldsymbol{P}_0=\\boldsymbol{P}_0^2=\\boldsymbol{P}_0,\n",
    "$$"
   ]
  },
  {
   "cell_type": "markdown",
   "id": "0616ac92",
   "metadata": {},
   "source": [
    "and"
   ]
  },
  {
   "cell_type": "markdown",
   "id": "849723f2",
   "metadata": {},
   "source": [
    "$$\n",
    "\\boldsymbol{P}_1^{\\dagger}\\boldsymbol{P}_1=\\boldsymbol{P}_1^2=\\boldsymbol{P}_1.\n",
    "$$"
   ]
  },
  {
   "cell_type": "markdown",
   "id": "b309fba5",
   "metadata": {},
   "source": [
    "Assume thereafter that we have a state $\\vert \\psi_a\\rangle$ which is a superposition of the above two qubit states"
   ]
  },
  {
   "cell_type": "markdown",
   "id": "fd4ef2c9",
   "metadata": {},
   "source": [
    "$$\n",
    "\\vert \\psi_ \\rangle = \\alpha\\vert 0 \\rangle + \\beta \\vert 1\\rangle.\n",
    "$$"
   ]
  },
  {
   "cell_type": "markdown",
   "id": "b8bfce87",
   "metadata": {},
   "source": [
    "The probability of finding either $\\vert 0\\rangle$ or $\\vert 1\\rangle$ is then"
   ]
  },
  {
   "cell_type": "markdown",
   "id": "85c6ba90",
   "metadata": {},
   "source": [
    "$$\n",
    "\\boldsymbol{P}_{psi(0)}=\\langle \\psi\\vert \\boldsymbol{P}_0^{\\dagger}\\boldsymbol{P}_0\\vert \\psi\\rangle=\\vert \\alpha\\vert^2,\n",
    "$$"
   ]
  },
  {
   "cell_type": "markdown",
   "id": "31b5529c",
   "metadata": {},
   "source": [
    "and similarly we have"
   ]
  },
  {
   "cell_type": "markdown",
   "id": "c0336530",
   "metadata": {},
   "source": [
    "$$\n",
    "\\boldsymbol{P}_{psi(1)}=\\langle \\psi\\vert \\boldsymbol{P}_1^{\\dagger}\\boldsymbol{P}_1\\vert \\psi\\rangle=\\vert \\beta\\vert^2.\n",
    "$$"
   ]
  },
  {
   "cell_type": "markdown",
   "id": "da796101",
   "metadata": {},
   "source": [
    "If we set"
   ]
  },
  {
   "cell_type": "markdown",
   "id": "a5ffe337",
   "metadata": {},
   "source": [
    "$$\n",
    "\\vert \\psi_ \\rangle = \\frac{1}{\\sqrt{2}}\\left(\\vert 0 \\rangle + \\beta \\vert 1\\rangle\\right),\n",
    "$$"
   ]
  },
  {
   "cell_type": "markdown",
   "id": "a041d365",
   "metadata": {},
   "source": [
    "we have $\\vert \\alpha\\vert^2=\\vert \\beta\\vert^2=1/2$. In general for this system we have"
   ]
  },
  {
   "cell_type": "markdown",
   "id": "e556a4a2",
   "metadata": {},
   "source": [
    "$$\n",
    "\\vert \\psi_0^{'}\\rangle = \\frac{\\boldsymbol{P}_0\\vert \\psi_a\\rangle}{\\sqrt{\\langle \\psi_a \\vert \\boldsymbol{P}_0\\vert \\psi_a\\rangle}}=\\frac{\\alpha}{\\vert \\alpha}\\vert 0 \\rangle,\n",
    "$$"
   ]
  },
  {
   "cell_type": "markdown",
   "id": "cb04fe9f",
   "metadata": {},
   "source": [
    "and"
   ]
  },
  {
   "cell_type": "markdown",
   "id": "776d5b78",
   "metadata": {},
   "source": [
    "$$\n",
    "\\vert \\psi_1^{'}\\rangle = \\frac{\\boldsymbol{P}_1\\vert \\psi_a\\rangle}{\\sqrt{\\langle \\psi_a \\vert \\boldsymbol{P}_1\\vert \\psi_a\\rangle}}=\\frac{\\beta}{\\vert \\beta}\\vert 0 \\rangle.\n",
    "$$"
   ]
  },
  {
   "cell_type": "markdown",
   "id": "62aff6bb",
   "metadata": {},
   "source": [
    "In general we have that"
   ]
  },
  {
   "cell_type": "markdown",
   "id": "fda69fcd",
   "metadata": {},
   "source": [
    "$$\n",
    "\\boldsymbol{P}_{\\psi(x)}=\\langle \\psi\\vert \\boldsymbol{P}_x^{\\dagger}\\boldsymbol{P}_x\\vert \\psi\\rangle,,\n",
    "$$"
   ]
  },
  {
   "cell_type": "markdown",
   "id": "13058b7a",
   "metadata": {},
   "source": [
    "which we can rewrite as"
   ]
  },
  {
   "cell_type": "markdown",
   "id": "18595e66",
   "metadata": {},
   "source": [
    "$$\n",
    "\\mathrm{Prob}(\\psi(x))=\\mathrm{Tr}\\left[\\boldsymbol{P}_x^{\\dagger}\\boldsymbol{P}_x\\vert \\psi\\rangle\\langle \\psi\\vert\\right].\n",
    "$$"
   ]
  },
  {
   "cell_type": "markdown",
   "id": "9b1c5bd2",
   "metadata": {},
   "source": [
    "The last equation can be understood better through the following example with a state $\\vert \\psi\\rangle$"
   ]
  },
  {
   "cell_type": "markdown",
   "id": "bd96477b",
   "metadata": {},
   "source": [
    "$$\n",
    "\\vert \\psi \\rangle = \\alpha \\vert 0\\rangle+\\beta \\vert 1\\rangle,\n",
    "$$"
   ]
  },
  {
   "cell_type": "markdown",
   "id": "7268ea79",
   "metadata": {},
   "source": [
    "which results in a projection operator"
   ]
  },
  {
   "cell_type": "markdown",
   "id": "e707df70",
   "metadata": {},
   "source": [
    "$$\n",
    "\\vert \\psi \\rangle\\langle \\psi\\vert = \\begin{bmatrix} \\vert \\alpha \\vert^2 & \\alpha\\beta^* \\\\ \\alpha^*\\beta & \\vert\\beta\\vert^2\\end{bmatrix}.\n",
    "$$"
   ]
  },
  {
   "cell_type": "markdown",
   "id": "fa6028a8",
   "metadata": {},
   "source": [
    "We have that"
   ]
  },
  {
   "cell_type": "markdown",
   "id": "b5669348",
   "metadata": {},
   "source": [
    "$$\n",
    "\\boldsymbol{P}_0^{\\dagger}\\boldsymbol{P}_0=\\boldsymbol{P}_0=\\begin{bmatrix} 1 & 0 \\\\ 0 & 0\\end{bmatrix},\n",
    "$$"
   ]
  },
  {
   "cell_type": "markdown",
   "id": "9403dacf",
   "metadata": {},
   "source": [
    "and computing the matrix product $\\boldsymbol{P}_0\\vert\\psi\\rangle\\langle \\psi\\vert$ gives"
   ]
  },
  {
   "cell_type": "markdown",
   "id": "0c715ff9",
   "metadata": {},
   "source": [
    "$$\n",
    "\\boldsymbol{P}_0\\vert\\psi\\rangle\\langle \\psi\\vert=\\begin{bmatrix} 1 & 0 \\\\ 0 & 0\\end{bmatrix}\\begin{bmatrix} \\vert \\alpha \\vert^2 & \\alpha\\beta^* \\\\ \\alpha^*\\beta & \\vert\\beta\\vert^2\\end{bmatrix}=\\begin{bmatrix} \\vert \\alpha \\vert^2 & \\alpha\\beta^* \\\\ 0 & 0\\end{bmatrix},\n",
    "$$"
   ]
  },
  {
   "cell_type": "markdown",
   "id": "160b17ee",
   "metadata": {},
   "source": [
    "and taking the trace of this matrix, that is computing"
   ]
  },
  {
   "cell_type": "markdown",
   "id": "4246e7f8",
   "metadata": {},
   "source": [
    "$$\n",
    "\\mathrm{Prob}(\\psi(0))=\\mathrm{Tr}\\left[\\boldsymbol{P}_0^{\\dagger}\\boldsymbol{P}_0\\vert \\psi\\rangle\\langle \\psi\\vert\\right]=\\vert \\alpha\\vert^2,\n",
    "$$"
   ]
  },
  {
   "cell_type": "markdown",
   "id": "e430eef8",
   "metadata": {},
   "source": [
    "we obtain the same results as the one we had earlier by computing\n",
    "the probabliblity for $0$ given by the expression"
   ]
  },
  {
   "cell_type": "markdown",
   "id": "36c399dd",
   "metadata": {},
   "source": [
    "$$\n",
    "\\boldsymbol{P}_{\\psi(0)}=\\langle \\psi\\vert \\boldsymbol{P}_0^{\\dagger}\\boldsymbol{P}_0\\vert \\psi\\rangle=\\vert \\alpha\\vert^2.\n",
    "$$"
   ]
  },
  {
   "cell_type": "markdown",
   "id": "80486d3c",
   "metadata": {},
   "source": [
    "It is straight forward to show that"
   ]
  },
  {
   "cell_type": "markdown",
   "id": "d532e8ba",
   "metadata": {},
   "source": [
    "$$\n",
    "\\mathrm{Prob}(\\psi(1))=\\mathrm{Tr}\\left[\\boldsymbol{P}_1^{\\dagger}\\boldsymbol{P}_1\\vert \\psi\\rangle\\langle \\psi\\vert\\right]=\\vert \\beta\\vert^2,\n",
    "$$"
   ]
  },
  {
   "cell_type": "markdown",
   "id": "797c2534",
   "metadata": {},
   "source": [
    "which we also could have obtained by computing"
   ]
  },
  {
   "cell_type": "markdown",
   "id": "bece2367",
   "metadata": {},
   "source": [
    "$$\n",
    "\\boldsymbol{P}_{\\psi(1)}=\\langle \\psi\\vert \\boldsymbol{P}_1^{\\dagger}\\boldsymbol{P}_1\\vert \\psi\\rangle=\\vert \\beta\\vert^2.\n",
    "$$"
   ]
  },
  {
   "cell_type": "markdown",
   "id": "0c9bbf92",
   "metadata": {},
   "source": [
    "We can now extend these expressions to the complete ensemble of measurements. Using the spectral decomposition we have that the probability of an outcome $p(x)$ is"
   ]
  },
  {
   "cell_type": "markdown",
   "id": "abb21515",
   "metadata": {},
   "source": [
    "$$\n",
    "p(x)=\\sum_{i=0}^{n-1}p_i\\boldsymbol{P}_{\\psi_i(x)},\n",
    "$$"
   ]
  },
  {
   "cell_type": "markdown",
   "id": "c81389af",
   "metadata": {},
   "source": [
    "where $p_i$ are the probabilities of a specific outcome.  Add later a digression on marginal probabilities.\n",
    "\n",
    "With these prerequisites we are now ready to introduce the density  matrices, or density operators."
   ]
  },
  {
   "cell_type": "markdown",
   "id": "f63baa71",
   "metadata": {},
   "source": [
    "## Density matrices/operators\n",
    "\n",
    "The last equation can be rewritten as"
   ]
  },
  {
   "cell_type": "markdown",
   "id": "18bd20cf",
   "metadata": {},
   "source": [
    "$$\n",
    "p(x)=\\sum_{i=0}^{n-1}p_i\\boldsymbol{P}_{\\psi_i(x)}=\\sum_{i=0}^{n-1}p_i\\mathrm{Tr}\\left[\\boldsymbol{P}_x^{\\dagger}\\boldsymbol{P}_x\\vert \\psi_i\\rangle\\langle \\psi_i\\vert\\right],\n",
    "$$"
   ]
  },
  {
   "cell_type": "markdown",
   "id": "bd7bc4c6",
   "metadata": {},
   "source": [
    "and we define the **density matrix/operator** as"
   ]
  },
  {
   "cell_type": "markdown",
   "id": "630a2c94",
   "metadata": {},
   "source": [
    "$$\n",
    "\\rho=\\sum_{i=0}^{n-1}p_i\\vert \\psi_i\\rangle\\langle \\psi_i\\vert,\n",
    "$$"
   ]
  },
  {
   "cell_type": "markdown",
   "id": "b7b6bfbe",
   "metadata": {},
   "source": [
    "we can rewrite the first equation above as"
   ]
  },
  {
   "cell_type": "markdown",
   "id": "008b5506",
   "metadata": {},
   "source": [
    "$$\n",
    "p(x)=\\mathrm{Tr}\\left[\\boldsymbol{P}_x^{\\dagger}\\boldsymbol{P}_x\\rho\\right].\n",
    "$$"
   ]
  },
  {
   "cell_type": "markdown",
   "id": "2d561951",
   "metadata": {},
   "source": [
    "If we can define the state of a system in terms of the density matrix, the probability of a specific outcome is then given by"
   ]
  },
  {
   "cell_type": "markdown",
   "id": "7a4a10dc",
   "metadata": {},
   "source": [
    "$$\n",
    "p(x)_{\\rho}=\\mathrm{Tr}\\left[\\boldsymbol{P}_x^{\\dagger}\\boldsymbol{P}_x\\rho\\right].\n",
    "$$"
   ]
  },
  {
   "cell_type": "markdown",
   "id": "32aa9169",
   "metadata": {},
   "source": [
    "A density matrix in a Hilbert space with $n$ states has the following properties (which we state without proof)\n",
    "1. There exists a probability $p_i\\geq 0$ with $\\sum_ip_i=1$,\n",
    "\n",
    "2. There exists an orthonormal basis $\\psi_i$ such that we can define $\\rho=\\sum_ip_i\\vert\\psi_i\\rangle\\langle \\psi_i\\vert,\n",
    "\n",
    "3. We have $0 \\leq \\rho^2\\leq 1$ and\n",
    "\n",
    "4. The norm $\\vert\\vert \\rho \\vert\\vert_2\\leq 1$.\n",
    "\n",
    "With the density matrix we can also define the state the system collapses to after a measurement, namely"
   ]
  },
  {
   "cell_type": "markdown",
   "id": "c2356f4a",
   "metadata": {},
   "source": [
    "$$\n",
    "\\rho_x^{'}=\\frac{\\boldsymbol{P}_x\\rho\\boldsymbol{P}_x^{\\dagger}}{\\mathrm{Tr}[\\boldsymbol{P}_x^{\\dagger}\\boldsymbol{P}_x\\rho]}.\n",
    "$$"
   ]
  },
  {
   "cell_type": "markdown",
   "id": "97ad0cb2",
   "metadata": {},
   "source": [
    "## The next lecture\n",
    "\n",
    "**In our next lecture, we will discuss.**\n",
    "\n",
    "1. Review of  density matrices and measurements\n",
    "\n",
    "2. Schmidt decomposition and entanglement\n",
    "\n",
    "3. Discussion of entropies, classical information entropy (Shannon entropy) and von Neumann entropy\n",
    "\n",
    "Chapter 4 of Scherrer's text contains useful discussions of several of these topics."
   ]
  }
 ],
 "metadata": {
  "kernelspec": {
   "display_name": "Python 3 (ipykernel)",
   "language": "python",
   "name": "python3"
  },
  "language_info": {
   "codemirror_mode": {
    "name": "ipython",
    "version": 3
   },
   "file_extension": ".py",
   "mimetype": "text/x-python",
   "name": "python",
   "nbconvert_exporter": "python",
   "pygments_lexer": "ipython3",
   "version": "3.9.10"
  }
 },
 "nbformat": 4,
 "nbformat_minor": 5
}
