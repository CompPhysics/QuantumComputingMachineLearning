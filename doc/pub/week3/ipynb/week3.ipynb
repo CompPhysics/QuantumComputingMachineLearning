{
 "cells": [
  {
   "cell_type": "markdown",
   "id": "afa9f98b",
   "metadata": {
    "editable": true
   },
   "source": [
    "<!-- HTML file automatically generated from DocOnce source (https://github.com/doconce/doconce/)\n",
    "doconce format html week3.do.txt --no_mako -->\n",
    "<!-- dom:TITLE: February 6-10,2023: Quantum Computing, Quantum Machine Learning and Quantum Information Theories -->"
   ]
  },
  {
   "cell_type": "markdown",
   "id": "f2386241",
   "metadata": {
    "editable": true
   },
   "source": [
    "# February 6-10,2023: Quantum Computing, Quantum Machine Learning and Quantum Information Theories\n",
    "**Morten Hjorth-Jensen**, Department of Physics, University of Oslo, Norway and Department of Physics and Astronomy and Facility for Rare Isotope Beams, Michigan State University, USA\n",
    "\n",
    "Date: **Feb 6, 2023**\n",
    "\n",
    "Copyright 1999-2023, Morten Hjorth-Jensen. Released under CC Attribution-NonCommercial 4.0 license"
   ]
  },
  {
   "cell_type": "markdown",
   "id": "71fa5dfa",
   "metadata": {
    "editable": true
   },
   "source": [
    "## Spectral Decomposition, Measurements and Density matrices\n",
    "\n",
    "1. Density matrices and Measurements\n",
    "\n",
    "2. [Video of lecture](https://youtu.be/jVh_0KfSSNk)\n",
    "\n",
    "* [Teaching material in different formats](https://github.com/CompPhysics/QuantumComputingMachineLearning/tree/gh-pages/doc/pub/week3)\n",
    "\n",
    "* **Reading recommendation**: Scherrer, Mathematics of Quantum Computations, chapters 2 and 3"
   ]
  },
  {
   "cell_type": "markdown",
   "id": "0d127143",
   "metadata": {
    "editable": true
   },
   "source": [
    "## Introduction\n",
    "\n",
    "In order to study entanglement and why it is so important for quantum\n",
    "computing, we need to introduce some basic measures and useful\n",
    "quantities.  These quantities are the spectral decomposition of\n",
    "hermitian operators, how these are then used to define measurements\n",
    "and how we can define so-called density operators (matrices). These\n",
    "are all quantities which will become very useful when we discuss\n",
    "entanglement and in particular how to quantify it. In order to define\n",
    "these quantities we need to remind ourselves about some basic linear\n",
    "algebra properties of hermitian operators and matrices."
   ]
  },
  {
   "cell_type": "markdown",
   "id": "7245b68a",
   "metadata": {
    "editable": true
   },
   "source": [
    "## Basic properties of hermitian operators"
   ]
  },
  {
   "cell_type": "markdown",
   "id": "040fcd46",
   "metadata": {
    "editable": true
   },
   "source": [
    "### Spectral Decomposition"
   ]
  },
  {
   "cell_type": "markdown",
   "id": "96e16848",
   "metadata": {
    "editable": true
   },
   "source": [
    "## Measurements"
   ]
  },
  {
   "cell_type": "markdown",
   "id": "98564d7f",
   "metadata": {
    "editable": true
   },
   "source": [
    "## Density matrices/operators"
   ]
  }
 ],
 "metadata": {},
 "nbformat": 4,
 "nbformat_minor": 5
}
