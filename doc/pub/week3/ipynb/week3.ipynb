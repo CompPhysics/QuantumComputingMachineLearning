{
 "cells": [
  {
   "cell_type": "markdown",
   "id": "0ce36380",
   "metadata": {
    "editable": true
   },
   "source": [
    "<!-- HTML file automatically generated from DocOnce source (https://github.com/doconce/doconce/)\n",
    "doconce format html week3.do.txt --no_mako -->\n",
    "<!-- dom:TITLE: February 6-10,2023: Quantum Computing, Quantum Machine Learning and Quantum Information Theories -->"
   ]
  },
  {
   "cell_type": "markdown",
   "id": "86f555bb",
   "metadata": {
    "editable": true
   },
   "source": [
    "# February 6-10,2023: Quantum Computing, Quantum Machine Learning and Quantum Information Theories\n",
    "**Morten Hjorth-Jensen**, Department of Physics, University of Oslo, Norway and Department of Physics and Astronomy and Facility for Rare Isotope Beams, Michigan State University, USA\n",
    "\n",
    "Date: **Feb 6, 2023**\n",
    "\n",
    "Copyright 1999-2023, Morten Hjorth-Jensen. Released under CC Attribution-NonCommercial 4.0 license"
   ]
  },
  {
   "cell_type": "markdown",
   "id": "4516ea27",
   "metadata": {
    "editable": true
   },
   "source": [
    "## Spectral Decomposition, Measurements and Density matrices\n",
    "\n",
    "1. Density matrices and Measurements\n",
    "\n",
    "2. [Video of lecture](https://youtu.be/jVh_0KfSSNk)\n",
    "\n",
    "* [Teaching material in different formats](https://github.com/CompPhysics/QuantumComputingMachineLearning/tree/gh-pages/doc/pub/week3)\n",
    "\n",
    "* **Reading recommendation**: Scherrer, Mathematics of Quantum Computations, chapters 2 and 3"
   ]
  },
  {
   "cell_type": "markdown",
   "id": "0a33d104",
   "metadata": {
    "editable": true
   },
   "source": [
    "## Introduction\n",
    "\n",
    "In order to study entanglement and why it is so important for quantum\n",
    "computing, we need to introduce some basic measures and useful\n",
    "quantities.  For these endeavors, we  will use our two-qubit system from\n",
    "the previous lecture in order to introduce, through examples, density\n",
    "matrices and entropy."
   ]
  },
  {
   "cell_type": "markdown",
   "id": "43bf8069",
   "metadata": {
    "editable": true
   },
   "source": [
    "## Basic properties of hermitian operators"
   ]
  },
  {
   "cell_type": "markdown",
   "id": "84225f10",
   "metadata": {
    "editable": true
   },
   "source": [
    "### Spectral Decomposition"
   ]
  },
  {
   "cell_type": "markdown",
   "id": "02fddefc",
   "metadata": {
    "editable": true
   },
   "source": [
    "## Measurements"
   ]
  },
  {
   "cell_type": "markdown",
   "id": "f67f7c95",
   "metadata": {
    "editable": true
   },
   "source": [
    "## Density matrices/operators"
   ]
  }
 ],
 "metadata": {},
 "nbformat": 4,
 "nbformat_minor": 5
}
