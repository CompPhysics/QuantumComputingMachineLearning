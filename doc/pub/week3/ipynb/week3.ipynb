{
 "cells": [
  {
   "cell_type": "markdown",
   "id": "4392b864",
   "metadata": {
    "editable": true
   },
   "source": [
    "<!-- HTML file automatically generated from DocOnce source (https://github.com/doconce/doconce/)\n",
    "doconce format html week3.do.txt --no_mako -->\n",
    "<!-- dom:TITLE: February 6-10,2023: Quantum Computing, Quantum Machine Learning and Quantum Information Theories -->"
   ]
  },
  {
   "cell_type": "markdown",
   "id": "346144e4",
   "metadata": {
    "editable": true
   },
   "source": [
    "# February 6-10,2023: Quantum Computing, Quantum Machine Learning and Quantum Information Theories\n",
    "**Morten Hjorth-Jensen**, Department of Physics, University of Oslo, Norway and Department of Physics and Astronomy and Facility for Rare Isotope Beams, Michigan State University, USA\n",
    "\n",
    "Date: **Feb 10, 2023**\n",
    "\n",
    "Copyright 1999-2023, Morten Hjorth-Jensen. Released under CC Attribution-NonCommercial 4.0 license"
   ]
  },
  {
   "cell_type": "markdown",
   "id": "fe5c1254",
   "metadata": {
    "editable": true
   },
   "source": [
    "## Spectral Decomposition, Measurements and Density matrices\n",
    "\n",
    "1. Density matrices and Measurements\n",
    "\n",
    "2. [Video of lecture](https://youtu.be/jVh_0KfSSNk)\n",
    "\n",
    "* [Teaching material in different formats](https://github.com/CompPhysics/QuantumComputingMachineLearning/tree/gh-pages/doc/pub/week3)\n",
    "\n",
    "* **Reading recommendation**: Scherrer, Mathematics of Quantum Computations, chapters 2 and 3"
   ]
  },
  {
   "cell_type": "markdown",
   "id": "4b5334e0",
   "metadata": {
    "editable": true
   },
   "source": [
    "## Introduction\n",
    "\n",
    "In order to study entanglement and why it is so important for quantum\n",
    "computing, we need to introduce some basic measures and useful\n",
    "quantities.  These quantities are the spectral decomposition of\n",
    "hermitian operators, how these are then used to define measurements\n",
    "and how we can define so-called density operators (matrices). These\n",
    "are all quantities which will become very useful when we discuss\n",
    "entanglement and in particular how to quantify it. In order to define\n",
    "these quantities we need first to remind ourselves about some basic linear\n",
    "algebra properties of hermitian operators and matrices."
   ]
  },
  {
   "cell_type": "markdown",
   "id": "240eaa2f",
   "metadata": {
    "editable": true
   },
   "source": [
    "## Basic properties of hermitian operators\n",
    "\n",
    "The operators we typically encounter in quantum mechanical studies\n",
    "1. Hermitian (self-adjoint) meaning that for example the elements of a Hermitian matrix $\\boldsymbol{U}$ obey $u_{ij}=u_{ji}^*$.\n",
    "\n",
    "2. Unitary $\\boldsymbol{U}\\boldsymbol{U}^{\\dagger}=\\boldsymbol{U}^{\\dagger}\\boldsymbol{U}=\\boldsymbol{I}$, where $\\boldsymbol{I}$ is the unit matrix\n",
    "\n",
    "3. The oparator $\\boldsymbol{U}$ and its self-adjoint commute (often labeled as normal operators), that is  ${\\boldsymbol{U},\\boldsymbol{U}^{\\dagger}]=0$\n",
    "\n",
    "Unitary operators in a Hilbert space preserve the norm and orthogonality. If $\\boldsymbol{U}$ is a unitary operator acting on a state $\\vert \\psi_j\\rangle$, the action of"
   ]
  },
  {
   "cell_type": "markdown",
   "id": "fca6970b",
   "metadata": {
    "editable": true
   },
   "source": [
    "$$\n",
    "\\vert \\phi_i\\rangle=\\boldsymbol{U}\\vert \\psi_j\\rangle,\n",
    "$$"
   ]
  },
  {
   "cell_type": "markdown",
   "id": "73f7e958",
   "metadata": {
    "editable": true
   },
   "source": [
    "preserves both the norm and orthogonality, that is $\\langle \\phi_i \\vert \\phi_j\\rangle=\\langle \\psi_i \\vert \\psi_j\\rangle=\\delta_{ij}$, as discussed earlier.\n",
    "\n",
    "As example, consider the Pauli matrix $\\sigma_x$. We have already seen that this matrix is a unitary matrix. Consider then an orthogonal and normalized basis $\\vert 0\\rangle^{\\dagger} =\\begin{bmatrix} 1 &  0\\end{bmatrix}$ and $\\vert 1\\rangle^{\\dagger} =\\begin{bmatrix} 0 &  1\\end{bmatrix}$ and a state which is a linear superposition of these two basis states"
   ]
  },
  {
   "cell_type": "markdown",
   "id": "f55764d6",
   "metadata": {
    "editable": true
   },
   "source": [
    "$$\n",
    "\\vert \\psi_a\\rangle=\\alpha_0\\vert 0\\rangle +\\alpha_1\\vert 1\\rangle.\n",
    "$$"
   ]
  },
  {
   "cell_type": "markdown",
   "id": "ad664599",
   "metadata": {
    "editable": true
   },
   "source": [
    "A new state $\\vert \\psi_b\\rangle$ is given by"
   ]
  },
  {
   "cell_type": "markdown",
   "id": "61347ba2",
   "metadata": {
    "editable": true
   },
   "source": [
    "$$\n",
    "\\vert \\psi_b\\rangle=\\sigma_x\\vert \\psi_a\\rangle=\\alpha_0\\vert 1\\rangle +\\alpha_1\\vert 0\\rangle.\n",
    "$$"
   ]
  },
  {
   "cell_type": "markdown",
   "id": "27d1ae8b",
   "metadata": {
    "editable": true
   },
   "source": [
    "### Spectral Decomposition\n",
    "\n",
    "An important techanicality which we will use in the discussion of\n",
    "density matrices, entanglement, quantum entropies and other properties\n",
    "is the so-called spectral decomposition of an operator.\n",
    "\n",
    "Let $\\vert \\psi\\rangle be a vector in a Hilbert space of dimension $n$ and a hermitian operator $\\boldsymbol{A}$ defined in this\n",
    "space. Assume $\\vert \\psi\\rangle$ is an eigenvector of $\\boldsymbol{A}$ with eigenvalue $\\lambda$, that is"
   ]
  },
  {
   "cell_type": "markdown",
   "id": "8b4619a7",
   "metadata": {
    "editable": true
   },
   "source": [
    "$$\n",
    "\\boldsymbol{A}\\vert psi\\rangle = \\lambda\\vert \\psi\\rangle = \\lambda \\boldsymbol{I}\\vert \\psi \\rangle,\n",
    "$$"
   ]
  },
  {
   "cell_type": "markdown",
   "id": "e5b37f0a",
   "metadata": {
    "editable": true
   },
   "source": [
    "where we used $\\boldsymbol{I}\\vert \\psi \\rangle = 1 \\vert \\psi \\rangle$.\n",
    "Subtracting the right hand side from the left hand side gives"
   ]
  },
  {
   "cell_type": "markdown",
   "id": "3ff7cb49",
   "metadata": {
    "editable": true
   },
   "source": [
    "$$\n",
    "\\left[\\boldsymbol{A}-\\lambda \\boldsymbol{I}\\right]\\vert \\psi \\rangle=0,\n",
    "$$"
   ]
  },
  {
   "cell_type": "markdown",
   "id": "9f38ed01",
   "metadata": {
    "editable": true
   },
   "source": [
    "which has a nontrivial solution only if the determinant\n",
    "$\\mathrm{det}(\\boldsymbol{A}-\\lambda\\boldsymbol{I})=0$.\n",
    "\n",
    "We define now an orthonormal basis $\\vert i \\rangle =\\{\\vert 0\n",
    "\\rangle, \\vert 1\\rangle, \\dots, \\vert n-1\\rangle$ in the same Hilbert\n",
    "space. We will assume that this basis is an eigenbasis of $\\boldsymbol{A}$ with eigenvalues $\\lambda_i$\n",
    "\n",
    "We expand a new vector using this eigenbasis of $\\boldsymbol{A}$"
   ]
  },
  {
   "cell_type": "markdown",
   "id": "add4fb25",
   "metadata": {
    "editable": true
   },
   "source": [
    "$$\n",
    "\\vert \\psi_a \\rangle = \\sum_{i=0}^{n-1}\\alpha_i\\vert i\\rangle,\n",
    "$$"
   ]
  },
  {
   "cell_type": "markdown",
   "id": "1564d888",
   "metadata": {
    "editable": true
   },
   "source": [
    "with the normalization condition $\\sum_{i=0}^{n-1}\\vert \\alpha_i\\vert^2.\n",
    "Acting with $\\boldsymbol{A}$ on this new state results in"
   ]
  },
  {
   "cell_type": "markdown",
   "id": "ccea6426",
   "metadata": {
    "editable": true
   },
   "source": [
    "$$\n",
    "\\boldsymbol{A}\\vert \\psi_a \\rangle = \\sum_{i=0}^{n-1}\\alpha_i\\boldsymbol{A}\\vert i\\rangle=\\sum_{i=0}^{n-1}\\alpha_i\\lambda_i\\vert i\\rangle.\n",
    "$$"
   ]
  },
  {
   "cell_type": "markdown",
   "id": "a6acb87b",
   "metadata": {
    "editable": true
   },
   "source": [
    "If we then use that the outer product of any state with itself defines a projection operator we have the projection operators"
   ]
  },
  {
   "cell_type": "markdown",
   "id": "8b62ba06",
   "metadata": {
    "editable": true
   },
   "source": [
    "$$\n",
    "\\boldsymbol{P}_{\\psi_a} = \\vert \\psi_a\\rangle\\langle \\psi_a\\vert,\n",
    "$$"
   ]
  },
  {
   "cell_type": "markdown",
   "id": "93a3a522",
   "metadata": {
    "editable": true
   },
   "source": [
    "and"
   ]
  },
  {
   "cell_type": "markdown",
   "id": "b17d1043",
   "metadata": {
    "editable": true
   },
   "source": [
    "$$\n",
    "\\boldsymbol{P}_{j} = \\vert j\\rangle\\langle j\\vert,\n",
    "$$"
   ]
  },
  {
   "cell_type": "markdown",
   "id": "54a6cfa7",
   "metadata": {
    "editable": true
   },
   "source": [
    "we have that"
   ]
  },
  {
   "cell_type": "markdown",
   "id": "d17c4ebf",
   "metadata": {
    "editable": true
   },
   "source": [
    "$$\n",
    "\\boldsymbol{P}_{j}\\vert \\psi_a\\rangle=\\vert j\\rangle\\langle j\\vert\\sum_{i=0}^{n-1}\\alpha_i\\vert i\\rangle=\\sum_{i=0}^{n-1}\\alpha_i\\vert j\\rangle\\langle j\\vert i\\rangle,\n",
    "$$"
   ]
  },
  {
   "cell_type": "markdown",
   "id": "9601c51d",
   "metadata": {
    "editable": true
   },
   "source": [
    "which results in"
   ]
  },
  {
   "cell_type": "markdown",
   "id": "c608ed21",
   "metadata": {
    "editable": true
   },
   "source": [
    "$$\n",
    "\\boldsymbol{P}_{j}\\vert \\psi_a\\rangle=\\alpha_j\\vert j\\rangle,\n",
    "$$"
   ]
  },
  {
   "cell_type": "markdown",
   "id": "3922bf14",
   "metadata": {
    "editable": true
   },
   "source": [
    "since $\\langle j\\vert i\\rangle$.\n",
    "With the last equation we can rewrite"
   ]
  },
  {
   "cell_type": "markdown",
   "id": "a4f431fc",
   "metadata": {
    "editable": true
   },
   "source": [
    "$$\n",
    "\\boldsymbol{A}\\vert \\psi_a \\rangle = \\sum_{i=0}^{n-1}\\alpha_i\\lambda_i\\vert i\\rangle=\\sum_{i=0}^{n-1}\\lambda_i\\boldsymbol{P}_i\\vert \\psi_a\\rangle,\n",
    "$$"
   ]
  },
  {
   "cell_type": "markdown",
   "id": "def9ad5c",
   "metadata": {
    "editable": true
   },
   "source": [
    "from which we conclude that"
   ]
  },
  {
   "cell_type": "markdown",
   "id": "b3e7848b",
   "metadata": {
    "editable": true
   },
   "source": [
    "$$\n",
    "\\boldsymbol{A}=\\sum_{i=0}^{n-1}\\lambda_i\\boldsymbol{P}_i.\n",
    "$$"
   ]
  },
  {
   "cell_type": "markdown",
   "id": "8e130b72",
   "metadata": {
    "editable": true
   },
   "source": [
    "This is the spectral decomposition of a hermitian and normal operator. It is true for any state and it is independent of the basis. The spectral decomposition can in turn be used to exhaustively specify a measurement, as we will see in the next section.\n",
    "\n",
    "As an example, consider two states $\\vert \\psi_a\\rangle$ and $\\vert\n",
    "\\psi_b\\rangle$ that are eigenstates of $\\boldsymbol{A}$ with eigenvalues\n",
    "$\\lambda_a$ and $\\lambda_b$, respectively. In the diagonalization\n",
    "process we have obtained the coefficients $\\alpha_0$, $\\alpha_1$,\n",
    "$\\beta_0$ and $\\beta_1$ using an expansion in terms of the orthogonal\n",
    "basis $\\vert 0\\rangle$ and $\\vert 1\\rangle$. That is we have"
   ]
  },
  {
   "cell_type": "markdown",
   "id": "8803df50",
   "metadata": {
    "editable": true
   },
   "source": [
    "$$\n",
    "\\vert \\psi_a\\rangle = \\alpha_0\\vert 0\\rangle+\\alpha_1\\vert 1\\rangle,\n",
    "$$"
   ]
  },
  {
   "cell_type": "markdown",
   "id": "0a47f665",
   "metadata": {
    "editable": true
   },
   "source": [
    "and"
   ]
  },
  {
   "cell_type": "markdown",
   "id": "cf113ca5",
   "metadata": {
    "editable": true
   },
   "source": [
    "$$\n",
    "\\vert \\psi_b\\rangle = \\beta_0\\vert 0\\rangle+\\beta_1\\vert 1\\rangle,\n",
    "$$"
   ]
  },
  {
   "cell_type": "markdown",
   "id": "43b2cb5c",
   "metadata": {
    "editable": true
   },
   "source": [
    "with corresponding projection operators"
   ]
  },
  {
   "cell_type": "markdown",
   "id": "1436418a",
   "metadata": {
    "editable": true
   },
   "source": [
    "$$\n",
    "\\boldsymbol{P}_a=\\vert \\psi_a\\rangle \\langle \\psi_a\\vert = \\begin{bmatrix} \\vert \\alpha_0\\vert^2 &\\alpha_0\\alpha_1^* \\\\\n",
    "                                                                   \\alpha_1\\alpha_0^* & \\vert \\alpha_1\\vert^* \\end{bmatrix},\n",
    "$$"
   ]
  },
  {
   "cell_type": "markdown",
   "id": "719f5d33",
   "metadata": {
    "editable": true
   },
   "source": [
    "and"
   ]
  },
  {
   "cell_type": "markdown",
   "id": "33812c2b",
   "metadata": {
    "editable": true
   },
   "source": [
    "$$\n",
    "\\boldsymbol{P}_b=\\vert \\psi_b\\rangle \\langle \\psi_b\\vert = \\begin{bmatrix} \\vert \\beta_0\\vert^2 &\\beta_0\\beta_1^* \\\\\n",
    "                                                                   \\beta_1\\beta_0^* & \\vert \\beta_1\\vert^* \\end{bmatrix},\n",
    "$$"
   ]
  },
  {
   "cell_type": "markdown",
   "id": "815662b3",
   "metadata": {
    "editable": true
   },
   "source": [
    "resulting in the following spectral decomposition of $\\boldsymbol{A}$"
   ]
  },
  {
   "cell_type": "markdown",
   "id": "31737bd8",
   "metadata": {
    "editable": true
   },
   "source": [
    "$$\n",
    "\\boldsymbol{A}=\\lambda_a \\vert \\psi_a\\rangle \\langle \\psi_a\\vert+\\lambda_b \\vert \\psi_b\\rangle \\langle \\psi_b\\vert,\n",
    "$$"
   ]
  },
  {
   "cell_type": "markdown",
   "id": "bbf4c7cd",
   "metadata": {
    "editable": true
   },
   "source": [
    "which written out in all its details reads"
   ]
  },
  {
   "cell_type": "markdown",
   "id": "2fe88ae5",
   "metadata": {
    "editable": true
   },
   "source": [
    "$$\n",
    "\\boldsymbol{A}=\\lambda_a\\begin{bmatrix} \\vert \\alpha_0\\vert^2 &\\alpha_0\\alpha_1^* \\\\\n",
    "                                                                   \\alpha_1\\alpha_0^* & \\vert \\alpha_1\\vert^* \\end{bmatrix} +\\lambda_b\\begin{bmatrix} \\vert \\beta_0\\vert^2 &\\beta_0\\beta_1^* \\\\\n",
    "                                                                   \\beta_1\\beta_0^* & \\vert \\beta_1\\vert^* \\end{bmatrix}.\n",
    "$$"
   ]
  },
  {
   "cell_type": "markdown",
   "id": "a11314b2",
   "metadata": {
    "editable": true
   },
   "source": [
    "## Measurements\n",
    "Armed with the spectral decomposition, we are now ready to discuss how to compute measurements of observables."
   ]
  },
  {
   "cell_type": "markdown",
   "id": "828bb08f",
   "metadata": {
    "editable": true
   },
   "source": [
    "$$\n",
    "\n",
    "$$"
   ]
  },
  {
   "cell_type": "markdown",
   "id": "5b14060f",
   "metadata": {
    "editable": true
   },
   "source": [
    "$$\n",
    "\n",
    "$$"
   ]
  },
  {
   "cell_type": "markdown",
   "id": "7445241b",
   "metadata": {
    "editable": true
   },
   "source": [
    "$$\n",
    "\n",
    "$$"
   ]
  },
  {
   "cell_type": "markdown",
   "id": "01fb4179",
   "metadata": {
    "editable": true
   },
   "source": [
    "$$\n",
    "\n",
    "$$"
   ]
  },
  {
   "cell_type": "markdown",
   "id": "a8473d7b",
   "metadata": {
    "editable": true
   },
   "source": [
    "$$\n",
    "\n",
    "$$"
   ]
  },
  {
   "cell_type": "markdown",
   "id": "052e52ed",
   "metadata": {
    "editable": true
   },
   "source": [
    "$$\n",
    "\n",
    "$$"
   ]
  },
  {
   "cell_type": "markdown",
   "id": "c2ef9f44",
   "metadata": {
    "editable": true
   },
   "source": [
    "$$\n",
    "\n",
    "$$"
   ]
  },
  {
   "cell_type": "markdown",
   "id": "801cf8f2",
   "metadata": {
    "editable": true
   },
   "source": [
    "$$\n",
    "\n",
    "$$"
   ]
  },
  {
   "cell_type": "markdown",
   "id": "bc9cdc88",
   "metadata": {
    "editable": true
   },
   "source": [
    "$$\n",
    "\n",
    "$$"
   ]
  },
  {
   "cell_type": "markdown",
   "id": "18e4bdf3",
   "metadata": {
    "editable": true
   },
   "source": [
    "$$\n",
    "\n",
    "$$"
   ]
  },
  {
   "cell_type": "markdown",
   "id": "62638d93",
   "metadata": {
    "editable": true
   },
   "source": [
    "$$\n",
    "\n",
    "$$"
   ]
  },
  {
   "cell_type": "markdown",
   "id": "7131a7e0",
   "metadata": {
    "editable": true
   },
   "source": [
    "## Density matrices/operators"
   ]
  },
  {
   "cell_type": "markdown",
   "id": "fe76d187",
   "metadata": {
    "editable": true
   },
   "source": [
    "$$\n",
    "\n",
    "$$"
   ]
  },
  {
   "cell_type": "markdown",
   "id": "79790184",
   "metadata": {
    "editable": true
   },
   "source": [
    "$$\n",
    "\n",
    "$$"
   ]
  },
  {
   "cell_type": "markdown",
   "id": "2915719f",
   "metadata": {
    "editable": true
   },
   "source": [
    "$$\n",
    "\n",
    "$$"
   ]
  },
  {
   "cell_type": "markdown",
   "id": "701bf24e",
   "metadata": {
    "editable": true
   },
   "source": [
    "$$\n",
    "\n",
    "$$"
   ]
  },
  {
   "cell_type": "markdown",
   "id": "4dfb6bf8",
   "metadata": {
    "editable": true
   },
   "source": [
    "$$\n",
    "\n",
    "$$"
   ]
  },
  {
   "cell_type": "markdown",
   "id": "4db7d8b9",
   "metadata": {
    "editable": true
   },
   "source": [
    "$$\n",
    "\n",
    "$$"
   ]
  },
  {
   "cell_type": "markdown",
   "id": "b862039d",
   "metadata": {
    "editable": true
   },
   "source": [
    "$$\n",
    "\n",
    "$$"
   ]
  },
  {
   "cell_type": "markdown",
   "id": "22a120d3",
   "metadata": {
    "editable": true
   },
   "source": [
    "$$\n",
    "\n",
    "$$"
   ]
  },
  {
   "cell_type": "markdown",
   "id": "fa93755c",
   "metadata": {
    "editable": true
   },
   "source": [
    "$$\n",
    "\n",
    "$$"
   ]
  },
  {
   "cell_type": "markdown",
   "id": "93308551",
   "metadata": {
    "editable": true
   },
   "source": [
    "$$\n",
    "\n",
    "$$"
   ]
  },
  {
   "cell_type": "markdown",
   "id": "e1fab64c",
   "metadata": {
    "editable": true
   },
   "source": [
    "$$\n",
    "\n",
    "$$"
   ]
  }
 ],
 "metadata": {},
 "nbformat": 4,
 "nbformat_minor": 5
}
