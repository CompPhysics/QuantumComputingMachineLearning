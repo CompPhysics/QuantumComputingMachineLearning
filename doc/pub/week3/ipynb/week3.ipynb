{
 "cells": [
  {
   "cell_type": "markdown",
   "id": "4450bb12",
   "metadata": {
    "editable": true
   },
   "source": [
    "<!-- HTML file automatically generated from DocOnce source (https://github.com/doconce/doconce/)\n",
    "doconce format html week3.do.txt --no_mako -->\n",
    "<!-- dom:TITLE: February 6-10,2023: Quantum Computing, Quantum Machine Learning and Quantum Information Theories -->"
   ]
  },
  {
   "cell_type": "markdown",
   "id": "637f86f1",
   "metadata": {
    "editable": true
   },
   "source": [
    "# February 6-10,2023: Quantum Computing, Quantum Machine Learning and Quantum Information Theories\n",
    "**Morten Hjorth-Jensen**, Department of Physics, University of Oslo, Norway and Department of Physics and Astronomy and Facility for Rare Isotope Beams, Michigan State University, USA\n",
    "\n",
    "Date: **Jan 22, 2023**\n",
    "\n",
    "Copyright 1999-2023, Morten Hjorth-Jensen. Released under CC Attribution-NonCommercial 4.0 license"
   ]
  },
  {
   "cell_type": "markdown",
   "id": "c8f6bb40",
   "metadata": {
    "editable": true
   },
   "source": [
    "## Overview, Density matrices, Entropy and Schmidt Decompositions\n",
    "\n",
    "1. Density matrices and Entropy\n",
    "\n",
    "2. Schmidt decomposition and entanglement"
   ]
  }
 ],
 "metadata": {},
 "nbformat": 4,
 "nbformat_minor": 5
}
