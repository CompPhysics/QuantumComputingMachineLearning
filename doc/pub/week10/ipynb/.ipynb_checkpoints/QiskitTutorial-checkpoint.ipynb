{
 "cells": [
  {
   "cell_type": "code",
   "execution_count": 1,
   "id": "bfa098fa",
   "metadata": {},
   "outputs": [],
   "source": [
    "import numpy as np\n",
    "import qiskit as qk\n",
    "from scipy.optimize import minimize"
   ]
  },
  {
   "cell_type": "markdown",
   "id": "cc8e9565",
   "metadata": {},
   "source": [
    "# Initialize registers and circuit"
   ]
  },
  {
   "cell_type": "code",
   "execution_count": 2,
   "id": "ef153d31",
   "metadata": {},
   "outputs": [],
   "source": [
    "n_qubits = 1 #Number of qubits\n",
    "n_cbits = 1 #Number of classical bits (the number of qubits you want to measure at the end of the circuit)\n",
    "qreg = qk.QuantumRegister(n_qubits) #Create a quantum register\n",
    "creg = qk.ClassicalRegister(n_cbits) #Create a classical register\n",
    "circuit = qk.QuantumCircuit(qreg,creg) #Create your quantum circuit"
   ]
  },
  {
   "cell_type": "code",
   "execution_count": 3,
   "id": "7bc06e10",
   "metadata": {},
   "outputs": [
    {
     "data": {
      "text/html": [
       "<pre style=\"word-wrap: normal;white-space: pre;background: #fff0;line-height: 1.1;font-family: &quot;Courier New&quot;,Courier,monospace\">      \n",
       "  q0: \n",
       "      \n",
       "c0: 1/\n",
       "      </pre>"
      ],
      "text/plain": [
       "      \n",
       "  q0: \n",
       "      \n",
       "c0: 1/\n",
       "      "
      ]
     },
     "execution_count": 3,
     "metadata": {},
     "output_type": "execute_result"
    }
   ],
   "source": [
    "circuit.draw() #Draw circuit. It is empty"
   ]
  },
  {
   "cell_type": "markdown",
   "id": "457f650a",
   "metadata": {},
   "source": [
    "# Perform operations on qubit"
   ]
  },
  {
   "cell_type": "code",
   "execution_count": 4,
   "id": "e4c84888",
   "metadata": {},
   "outputs": [
    {
     "data": {
      "text/html": [
       "<pre style=\"word-wrap: normal;white-space: pre;background: #fff0;line-height: 1.1;font-family: &quot;Courier New&quot;,Courier,monospace\">      ┌───┐\n",
       "  q0: ┤ X ├\n",
       "      └───┘\n",
       "c0: 1/═════\n",
       "           </pre>"
      ],
      "text/plain": [
       "      ┌───┐\n",
       "  q0: ┤ X ├\n",
       "      └───┘\n",
       "c0: 1/═════\n",
       "           "
      ]
     },
     "execution_count": 4,
     "metadata": {},
     "output_type": "execute_result"
    }
   ],
   "source": [
    "circuit.x(qreg[0]) #Applies a Pauli X gate to the first qubit in the quantum register\n",
    "circuit.draw()"
   ]
  },
  {
   "cell_type": "markdown",
   "id": "c365dedc",
   "metadata": {},
   "source": [
    "# Chose a qubit to measure and encode the results to a classical bit"
   ]
  },
  {
   "cell_type": "code",
   "execution_count": 5,
   "id": "f97e2841",
   "metadata": {},
   "outputs": [
    {
     "data": {
      "text/html": [
       "<pre style=\"word-wrap: normal;white-space: pre;background: #fff0;line-height: 1.1;font-family: &quot;Courier New&quot;,Courier,monospace\">      ┌───┐┌─┐\n",
       "  q0: ┤ X ├┤M├\n",
       "      └───┘└╥┘\n",
       "c0: 1/══════╩═\n",
       "            0 </pre>"
      ],
      "text/plain": [
       "      ┌───┐┌─┐\n",
       "  q0: ┤ X ├┤M├\n",
       "      └───┘└╥┘\n",
       "c0: 1/══════╩═\n",
       "            0 "
      ]
     },
     "execution_count": 5,
     "metadata": {},
     "output_type": "execute_result"
    }
   ],
   "source": [
    "#Measure the first qubit in the quantum register\n",
    "#and encode the results to the first qubit in the classical register\n",
    "circuit.measure(qreg[0],creg[0])\n",
    "circuit.draw()"
   ]
  },
  {
   "cell_type": "markdown",
   "id": "349520e4",
   "metadata": {},
   "source": [
    "# Execute circuit"
   ]
  },
  {
   "cell_type": "code",
   "execution_count": 6,
   "id": "573be2bb",
   "metadata": {},
   "outputs": [
    {
     "name": "stdout",
     "output_type": "stream",
     "text": [
      "{'1': 1000}\n"
     ]
    },
    {
     "data": {
      "text/html": [
       "<pre style=\"word-wrap: normal;white-space: pre;background: #fff0;line-height: 1.1;font-family: &quot;Courier New&quot;,Courier,monospace\">      \n",
       "  q0: \n",
       "      \n",
       "c0: 1/\n",
       "      </pre>"
      ],
      "text/plain": [
       "      \n",
       "  q0: \n",
       "      \n",
       "c0: 1/\n",
       "      "
      ]
     },
     "execution_count": 6,
     "metadata": {},
     "output_type": "execute_result"
    }
   ],
   "source": [
    "backend = qk.Aer.get_backend('qasm_simulator') \n",
    "#This is the device you want to use. It is an ideal simulation of a quantum device\n",
    "\n",
    "\n",
    "job = backend.run(circuit,shots=1000) #Run the circuit 1000 times\n",
    "result = job.result()\n",
    "counts = result.get_counts()\n",
    "print(counts)\n",
    "circuit.clear()\n",
    "circuit.draw()"
   ]
  },
  {
   "cell_type": "code",
   "execution_count": 7,
   "id": "52eefaaf",
   "metadata": {},
   "outputs": [
    {
     "name": "stdout",
     "output_type": "stream",
     "text": [
      "      ┌───┐┌─┐\n",
      "  q0: ┤ H ├┤M├\n",
      "      └───┘└╥┘\n",
      "c0: 1/══════╩═\n",
      "            0 \n"
     ]
    }
   ],
   "source": [
    "circuit.h(qreg[0]) #Apply a Hadamard gate to the first qubit of the quantum register\n",
    "circuit.measure(qreg,creg)\n",
    "print(circuit.draw())"
   ]
  },
  {
   "cell_type": "code",
   "execution_count": 8,
   "id": "7a947fc1",
   "metadata": {},
   "outputs": [
    {
     "name": "stdout",
     "output_type": "stream",
     "text": [
      "{'1': 505, '0': 495}\n"
     ]
    }
   ],
   "source": [
    "job = backend.run(circuit,shots=1000)\n",
    "result = job.result()\n",
    "counts = result.get_counts()\n",
    "print(counts)\n",
    "circuit.clear()"
   ]
  },
  {
   "cell_type": "markdown",
   "id": "7f2ef947",
   "metadata": {},
   "source": [
    "# Create a two-qubit circuit and set up a Bell state"
   ]
  },
  {
   "cell_type": "code",
   "execution_count": 9,
   "id": "c8a92c72",
   "metadata": {},
   "outputs": [
    {
     "data": {
      "text/html": [
       "<pre style=\"word-wrap: normal;white-space: pre;background: #fff0;line-height: 1.1;font-family: &quot;Courier New&quot;,Courier,monospace\">      \n",
       "q1_0: \n",
       "      \n",
       "q1_1: \n",
       "      \n",
       "c1: 2/\n",
       "      </pre>"
      ],
      "text/plain": [
       "      \n",
       "q1_0: \n",
       "      \n",
       "q1_1: \n",
       "      \n",
       "c1: 2/\n",
       "      "
      ]
     },
     "execution_count": 9,
     "metadata": {},
     "output_type": "execute_result"
    }
   ],
   "source": [
    "n_qubits = 2\n",
    "n_cbits = 2\n",
    "qreg = qk.QuantumRegister(n_qubits)\n",
    "creg = qk.ClassicalRegister(n_cbits)\n",
    "circuit = qk.QuantumCircuit(qreg,creg)\n",
    "circuit.draw()"
   ]
  },
  {
   "cell_type": "code",
   "execution_count": 10,
   "id": "0b0e6109",
   "metadata": {},
   "outputs": [
    {
     "data": {
      "text/html": [
       "<pre style=\"word-wrap: normal;white-space: pre;background: #fff0;line-height: 1.1;font-family: &quot;Courier New&quot;,Courier,monospace\">      ┌───┐     \n",
       "q1_0: ┤ H ├──■──\n",
       "      └───┘┌─┴─┐\n",
       "q1_1: ─────┤ X ├\n",
       "           └───┘\n",
       "c1: 2/══════════\n",
       "                </pre>"
      ],
      "text/plain": [
       "      ┌───┐     \n",
       "q1_0: ┤ H ├──■──\n",
       "      └───┘┌─┴─┐\n",
       "q1_1: ─────┤ X ├\n",
       "           └───┘\n",
       "c1: 2/══════════\n",
       "                "
      ]
     },
     "execution_count": 10,
     "metadata": {},
     "output_type": "execute_result"
    }
   ],
   "source": [
    "circuit.h(qreg[0])\n",
    "circuit.cx(qreg[0],qreg[1]) \n",
    "#This is a controlled operation. Apply a Pauli X gate to the second qubit (qreg[1]) if the first qubit (qreg[0])\n",
    "#is in the |1> state. Else do nothing\n",
    "\n",
    "circuit.draw()"
   ]
  },
  {
   "cell_type": "code",
   "execution_count": 11,
   "id": "205e995e",
   "metadata": {},
   "outputs": [
    {
     "data": {
      "text/html": [
       "<pre style=\"word-wrap: normal;white-space: pre;background: #fff0;line-height: 1.1;font-family: &quot;Courier New&quot;,Courier,monospace\">      ┌───┐     ┌─┐   \n",
       "q1_0: ┤ H ├──■──┤M├───\n",
       "      └───┘┌─┴─┐└╥┘┌─┐\n",
       "q1_1: ─────┤ X ├─╫─┤M├\n",
       "           └───┘ ║ └╥┘\n",
       "c1: 2/═══════════╩══╩═\n",
       "                 0  1 </pre>"
      ],
      "text/plain": [
       "      ┌───┐     ┌─┐   \n",
       "q1_0: ┤ H ├──■──┤M├───\n",
       "      └───┘┌─┴─┐└╥┘┌─┐\n",
       "q1_1: ─────┤ X ├─╫─┤M├\n",
       "           └───┘ ║ └╥┘\n",
       "c1: 2/═══════════╩══╩═\n",
       "                 0  1 "
      ]
     },
     "execution_count": 11,
     "metadata": {},
     "output_type": "execute_result"
    }
   ],
   "source": [
    "circuit.measure(qreg,creg)\n",
    "circuit.draw()"
   ]
  },
  {
   "cell_type": "code",
   "execution_count": 12,
   "id": "20fc8637",
   "metadata": {},
   "outputs": [
    {
     "name": "stdout",
     "output_type": "stream",
     "text": [
      "{'00': 499, '11': 501}\n"
     ]
    }
   ],
   "source": [
    "job = backend.run(circuit,shots=1000)\n",
    "result = job.result()\n",
    "counts = result.get_counts()\n",
    "print(counts)\n",
    "circuit.clear()"
   ]
  },
  {
   "cell_type": "markdown",
   "id": "536bb1c0",
   "metadata": {},
   "source": [
    "# Apply rotation to qubit"
   ]
  },
  {
   "cell_type": "code",
   "execution_count": 13,
   "id": "98d6dfd6",
   "metadata": {},
   "outputs": [
    {
     "name": "stdout",
     "output_type": "stream",
     "text": [
      "      ┌─────────┐┌─┐\n",
      "q1_0: ┤ Rx(π/3) ├┤M├\n",
      "      └───┬─┬───┘└╥┘\n",
      "q1_1: ────┤M├─────╫─\n",
      "          └╥┘     ║ \n",
      "c1: 2/═════╩══════╩═\n",
      "           1      0 \n",
      "{'01': 237, '00': 763}\n"
     ]
    }
   ],
   "source": [
    "theta = np.pi/3\n",
    "circuit.rx(theta, qreg[0]) #R_x(theta) rotation on the first qubit (qreg[0])\n",
    "circuit.measure(qreg,creg)\n",
    "print(circuit.draw())\n",
    "job = backend.run(circuit,shots=1000)\n",
    "result = job.result()\n",
    "counts = result.get_counts()\n",
    "circuit.clear()\n",
    "print(counts)"
   ]
  },
  {
   "cell_type": "markdown",
   "id": "fda0b492",
   "metadata": {},
   "source": [
    "# Find the lowest eigenvalue of $$ H = c_1 Z_0 + c_2 Z_1 + c_3 X_0 Y_1 $$ \n",
    "# We will use $$<\\psi|H|\\psi> = c_1<\\psi|Z_0|\\psi> + c_2<\\psi|Z_1|\\psi> + c_3<\\psi|X_0Y_1|\\psi> $$"
   ]
  },
  {
   "cell_type": "code",
   "execution_count": 14,
   "id": "33217150",
   "metadata": {},
   "outputs": [
    {
     "name": "stdout",
     "output_type": "stream",
     "text": [
      "-2.23606797749979\n"
     ]
    }
   ],
   "source": [
    "I = np.eye(2)\n",
    "X = np.array([[0,1],[1,0]])\n",
    "Y = np.array([[0,-1j],[1j,0]])\n",
    "Z = np.array([[1,0],[0,-1]])\n",
    "H = np.kron(Z,I) + np.kron(I,Z) + np.kron(X,Y)\n",
    "eigvals,eigvecs = np.linalg.eigh(H)\n",
    "print(eigvals[0])"
   ]
  },
  {
   "cell_type": "code",
   "execution_count": 15,
   "id": "8c137a9e",
   "metadata": {},
   "outputs": [
    {
     "data": {
      "text/plain": [
       "[[1, [0], ['z']], [1, [1], ['z']], [1, [0, 1], ['x', 'x']]]"
      ]
     },
     "execution_count": 15,
     "metadata": {},
     "output_type": "execute_result"
    }
   ],
   "source": [
    "c_1 = 1\n",
    "c_2 = 1\n",
    "c_3 = 1\n",
    "\n",
    "h_1 = [c_1,[0],['z']]\n",
    "h_2 = [c_2,[1],['z']]\n",
    "h_3 = [c_3,[0,1],['x','x']]\n",
    "H = [h_1,h_2,h_3]\n",
    "H"
   ]
  },
  {
   "cell_type": "code",
   "execution_count": 16,
   "id": "fa5984c0",
   "metadata": {},
   "outputs": [
    {
     "data": {
      "text/plain": [
       "[1, [0], ['z']]"
      ]
     },
     "execution_count": 16,
     "metadata": {},
     "output_type": "execute_result"
    }
   ],
   "source": [
    "H[0]"
   ]
  },
  {
   "cell_type": "markdown",
   "id": "e6cf5eb5",
   "metadata": {},
   "source": [
    "# Create ansatz"
   ]
  },
  {
   "cell_type": "code",
   "execution_count": 17,
   "id": "d16e4447",
   "metadata": {},
   "outputs": [
    {
     "name": "stdout",
     "output_type": "stream",
     "text": [
      "Before ansatz\n",
      "      ┌───┐\n",
      "q2_0: ┤ H ├\n",
      "      ├───┤\n",
      "q2_1: ┤ H ├\n",
      "      └───┘\n",
      "After ansatz\n"
     ]
    },
    {
     "data": {
      "text/html": [
       "<pre style=\"word-wrap: normal;white-space: pre;background: #fff0;line-height: 1.1;font-family: &quot;Courier New&quot;,Courier,monospace\">      ┌───┐┌──────────────┐     \n",
       "q2_0: ┤ H ├┤ Ry(-0.13747) ├──■──\n",
       "      ├───┤├─────────────┬┘┌─┴─┐\n",
       "q2_1: ┤ H ├┤ Ry(-1.3067) ├─┤ X ├\n",
       "      └───┘└─────────────┘ └───┘</pre>"
      ],
      "text/plain": [
       "      ┌───┐┌──────────────┐     \n",
       "q2_0: ┤ H ├┤ Ry(-0.13747) ├──■──\n",
       "      ├───┤├─────────────┬┘┌─┴─┐\n",
       "q2_1: ┤ H ├┤ Ry(-1.3067) ├─┤ X ├\n",
       "      └───┘└─────────────┘ └───┘"
      ]
     },
     "execution_count": 17,
     "metadata": {},
     "output_type": "execute_result"
    }
   ],
   "source": [
    "def ansatz(theta,n_qubits):\n",
    "    qreg = qk.QuantumRegister(n_qubits)\n",
    "    circuit = qk.QuantumCircuit(qreg)\n",
    "    for i in range(n_qubits):\n",
    "        circuit.ry(theta[i],qreg[i])\n",
    "    for i in range(n_qubits-1):\n",
    "        circuit.cx(qreg[i],qreg[i+1])\n",
    "    return(circuit)\n",
    "qreg = qk.QuantumRegister(n_qubits)\n",
    "circuit = qk.QuantumCircuit(qreg)\n",
    "circuit.h(qreg[:2])\n",
    "print('Before ansatz')\n",
    "print(circuit.draw())\n",
    "theta = np.random.randn(2)\n",
    "n_qubits = 2\n",
    "circuit = circuit.compose(ansatz(theta,n_qubits))\n",
    "print('After ansatz')\n",
    "circuit.draw()"
   ]
  },
  {
   "cell_type": "markdown",
   "id": "a1d6985d",
   "metadata": {},
   "source": [
    "# Change measurement basis"
   ]
  },
  {
   "cell_type": "code",
   "execution_count": 18,
   "id": "0dcfbe61",
   "metadata": {},
   "outputs": [
    {
     "name": "stdout",
     "output_type": "stream",
     "text": [
      "Ansatz circuit\n",
      "After basis transformation:\n",
      "      ┌─────────────┐      ┌───┐\n",
      "q4_0: ┤ Ry(0.55472) ├───■──┤ H ├\n",
      "      ├─────────────┴┐┌─┴─┐├───┤\n",
      "q4_1: ┤ Ry(-0.98512) ├┤ X ├┤ H ├\n",
      "      └──────────────┘└───┘└───┘\n"
     ]
    }
   ],
   "source": [
    "def basis_change(h_i,n_qubits):\n",
    "    qreg = qk.QuantumRegister(n_qubits)\n",
    "    circuit = qk.QuantumCircuit(qreg)\n",
    "    \n",
    "    for qubit,operator in zip(h_i[1],h_i[2]):\n",
    "        if operator == 'x':\n",
    "            circuit.h(qreg[qubit])\n",
    "        if operator == 'y':\n",
    "            circuit.sdg(qreg[qubit])\n",
    "            circuit.h(qreg[qubit])\n",
    "    return(circuit)\n",
    "n_qubits = 2\n",
    "qreg = qk.QuantumRegister(n_qubits)\n",
    "circuit = qk.QuantumCircuit(qreg)\n",
    "theta = np.random.randn(n_qubits)\n",
    "circuit = circuit.compose(ansatz(theta,n_qubits))\n",
    "print('Ansatz circuit')\n",
    "circuit.draw()\n",
    "circuit = circuit.compose(basis_change(H[2],n_qubits))\n",
    "print('After basis transformation:')\n",
    "print(circuit.draw())\n",
    "\n",
    "        "
   ]
  },
  {
   "cell_type": "markdown",
   "id": "e8880e24",
   "metadata": {},
   "source": [
    "# Get energy for given rotational parameters, theta"
   ]
  },
  {
   "cell_type": "code",
   "execution_count": 19,
   "id": "db6edb79",
   "metadata": {},
   "outputs": [
    {
     "data": {
      "text/plain": [
       "-0.053599999999999925"
      ]
     },
     "execution_count": 19,
     "metadata": {},
     "output_type": "execute_result"
    }
   ],
   "source": [
    "def get_energy(theta):\n",
    "    n_qubits = 2\n",
    "    qreg = qk.QuantumRegister(n_qubits)\n",
    "    circuit = qk.QuantumCircuit(qreg)\n",
    "    circuit = circuit.compose(ansatz(theta,n_qubits))\n",
    "    circuit_list = []\n",
    "    for idx,h_i in enumerate(H):\n",
    "        basis_change_circuit = basis_change(h_i,n_qubits)\n",
    "        new_circuit = circuit.compose(basis_change_circuit)\n",
    "        creg = qk.ClassicalRegister(len(h_i[1]))\n",
    "        new_circuit.add_register(creg)\n",
    "        new_circuit.measure(qreg[h_i[1]],creg)\n",
    "        circuit_list.append(new_circuit)\n",
    "    shots = 10000\n",
    "    job = backend.run(circuit_list,shots=shots)\n",
    "    E = np.zeros(len(circuit_list))\n",
    "    for i in range(len(circuit_list)):\n",
    "        result = job.result()\n",
    "        counts = result.get_counts(i)\n",
    "        for key,value in counts.items():\n",
    "            e = 1\n",
    "            for bit in key:\n",
    "                if bit == '0':\n",
    "                    e *= 1\n",
    "                if bit == '1':\n",
    "                    e *= -1\n",
    "            E[i] += e*value\n",
    "        E[i] *= H[i][0]\n",
    "    E /= shots\n",
    "    return(np.sum(E))\n",
    "\n",
    "theta = np.random.randn(2)\n",
    "get_energy(theta)\n",
    "    "
   ]
  },
  {
   "cell_type": "markdown",
   "id": "53f16008",
   "metadata": {},
   "source": [
    "# Minimize energy with Scipy"
   ]
  },
  {
   "cell_type": "code",
   "execution_count": 20,
   "id": "febaf78c",
   "metadata": {},
   "outputs": [
    {
     "data": {
      "text/plain": [
       "-2.2274"
      ]
     },
     "execution_count": 20,
     "metadata": {},
     "output_type": "execute_result"
    }
   ],
   "source": [
    "theta = np.random.randn(2)\n",
    "res = minimize(get_energy, theta, method='Powell',tol=1e-12)\n",
    "get_energy(res.x)"
   ]
  },
  {
   "cell_type": "markdown",
   "id": "37c3126c",
   "metadata": {},
   "source": [
    "## We might need a more flexible ansatz"
   ]
  },
  {
   "cell_type": "code",
   "execution_count": 21,
   "id": "f59ac84c",
   "metadata": {},
   "outputs": [
    {
     "data": {
      "text/plain": [
       "-1.9762"
      ]
     },
     "execution_count": 21,
     "metadata": {},
     "output_type": "execute_result"
    }
   ],
   "source": [
    "def ansatz(theta,n_qubits):\n",
    "    qreg = qk.QuantumRegister(n_qubits)\n",
    "    circuit = qk.QuantumCircuit(qreg)\n",
    "    idx = 0\n",
    "    for i in range(n_qubits):\n",
    "        circuit.ry(theta[idx],qreg[i])\n",
    "        idx += 1\n",
    "    for i in range(n_qubits-1):\n",
    "        circuit.cx(qreg[i],qreg[i+1])\n",
    "    for i in range(n_qubits):\n",
    "        circuit.rx(theta[idx],qreg[i])\n",
    "        idx += 1\n",
    "    for i in range(n_qubits-1):\n",
    "        circuit.cx(qreg[i],qreg[i+1])\n",
    "    return(circuit)\n",
    "theta = np.random.randn(4)\n",
    "res = minimize(get_energy, theta, method='Powell',tol=1e-16)\n",
    "get_energy(res.x)"
   ]
  },
  {
   "cell_type": "markdown",
   "id": "5f4d1087",
   "metadata": {},
   "source": [
    "# Minimize energy with gradient descent\n",
    "# $$ \\frac{\\partial E (\\theta_1,\\dots,\\theta_i,\\dots,\\theta_p)}{\\partial \\theta_i} = \\frac{E(\\theta_1,\\dots,\\theta_i + \\pi/2,\\dots, \\theta_p) - E(\\theta_1,\\dots, \\theta_i - \\pi/2,\\dots, \\theta_p}{2} $$"
   ]
  },
  {
   "cell_type": "code",
   "execution_count": 22,
   "id": "f1272e76",
   "metadata": {},
   "outputs": [
    {
     "name": "stdout",
     "output_type": "stream",
     "text": [
      "0 -0.5394\n",
      "1 -0.639\n",
      "2 -0.7687999999999999\n",
      "3 -0.829\n",
      "4 -0.8655999999999999\n",
      "5 -0.9266\n",
      "6 -0.9698\n",
      "7 -0.951\n",
      "8 -0.986\n",
      "9 -1.0074\n",
      "10 -0.9918\n",
      "11 -1.0042\n",
      "12 -1.0178\n",
      "13 -1.034\n",
      "14 -1.0326\n",
      "15 -1.0724\n",
      "16 -1.0688\n",
      "17 -1.106\n",
      "18 -1.1176\n",
      "19 -1.1588\n",
      "20 -1.1874\n",
      "21 -1.2142\n",
      "22 -1.226\n",
      "23 -1.3056\n",
      "24 -1.332\n",
      "25 -1.426\n",
      "26 -1.4571999999999998\n",
      "27 -1.5018\n",
      "28 -1.5566\n",
      "29 -1.6101999999999999\n",
      "30 -1.6638\n",
      "31 -1.6964\n",
      "32 -1.7304\n",
      "33 -1.7398000000000002\n",
      "34 -1.7808\n",
      "35 -1.7848000000000002\n",
      "36 -1.8087999999999997\n",
      "37 -1.8596\n",
      "38 -1.8636\n",
      "39 -1.8466\n",
      "40 -1.8756000000000002\n",
      "41 -1.863\n",
      "42 -1.8801999999999999\n",
      "43 -1.8802\n",
      "44 -1.9076\n",
      "45 -1.8996\n",
      "46 -1.8926\n",
      "47 -1.9424000000000001\n",
      "48 -1.9262000000000001\n",
      "49 -1.9284\n",
      "50 -1.9616000000000002\n",
      "51 -1.9552\n",
      "52 -1.9306\n",
      "53 -1.978\n",
      "54 -1.9538\n",
      "55 -1.946\n",
      "56 -1.9554\n",
      "57 -1.9548\n",
      "58 -1.9612\n",
      "59 -1.9631999999999998\n",
      "60 -1.9802\n",
      "61 -1.9546000000000001\n",
      "62 -1.9693999999999998\n",
      "63 -1.981\n",
      "64 -1.9658\n",
      "65 -1.9724\n",
      "66 -1.9812\n",
      "67 -1.9957999999999998\n",
      "68 -1.9862000000000002\n",
      "69 -1.9606\n",
      "70 -1.9901999999999997\n",
      "71 -1.982\n",
      "72 -1.9662000000000002\n",
      "73 -1.993\n",
      "74 -1.9726\n",
      "75 -2.0166\n",
      "76 -1.9835999999999998\n",
      "77 -2.0046\n",
      "78 -1.9804000000000002\n",
      "79 -1.9976\n",
      "80 -1.9982\n",
      "81 -1.9722\n",
      "82 -2.0028\n",
      "83 -1.9986\n",
      "84 -2.005\n",
      "85 -1.9822\n",
      "86 -1.9936\n",
      "87 -2.0044\n",
      "88 -2.0018000000000002\n",
      "89 -2.0054000000000003\n",
      "90 -1.9968\n",
      "91 -1.9968000000000001\n",
      "92 -1.986\n",
      "93 -1.9946\n",
      "94 -1.9873999999999998\n",
      "95 -1.9978\n",
      "96 -1.9896\n",
      "97 -2.0103999999999997\n",
      "98 -1.984\n",
      "99 -1.9974\n",
      "100 -1.987\n",
      "101 -1.9933999999999998\n",
      "102 -2.0206\n",
      "103 -1.9848\n",
      "104 -1.9980000000000002\n",
      "105 -1.9672\n",
      "106 -1.9973999999999998\n",
      "107 -1.9794\n",
      "108 -1.9926000000000001\n",
      "109 -2.0116\n",
      "110 -1.9958\n",
      "111 -1.9966\n",
      "112 -2.008\n",
      "113 -1.9864\n",
      "114 -1.999\n",
      "115 -2.0105999999999997\n",
      "116 -2.006\n",
      "117 -1.991\n",
      "118 -1.9928\n",
      "119 -2.0114\n",
      "120 -2.0074\n",
      "121 -2.0164\n",
      "122 -1.9832\n",
      "123 -2.028\n",
      "124 -2.0116\n",
      "125 -1.9889999999999999\n",
      "126 -1.9835999999999998\n",
      "127 -2.0\n",
      "128 -1.9956\n",
      "129 -1.9816\n",
      "130 -2.0028\n",
      "131 -2.017\n",
      "132 -2.0186\n",
      "133 -2.0038\n",
      "134 -1.9894\n",
      "135 -2.0046\n",
      "136 -1.9951999999999999\n",
      "137 -1.979\n",
      "138 -2.0022\n",
      "139 -1.9794\n",
      "140 -1.995\n",
      "141 -1.9994\n",
      "142 -1.9935999999999998\n",
      "143 -1.9926000000000001\n",
      "144 -1.9993999999999998\n",
      "145 -2.0088\n",
      "146 -2.0026\n",
      "147 -1.9952\n",
      "148 -2.005\n",
      "149 -2.0023999999999997\n",
      "150 -2.0084\n",
      "151 -2.0048\n",
      "152 -1.9891999999999999\n",
      "153 -2.0004\n",
      "154 -2.0126000000000004\n",
      "155 -2.005\n",
      "156 -1.9769999999999999\n",
      "157 -2.0058\n",
      "158 -1.9884\n",
      "159 -1.9929999999999999\n",
      "160 -2.0088\n",
      "161 -1.9838\n",
      "162 -2.0116\n",
      "163 -2.0124\n",
      "164 -2.0021999999999998\n",
      "165 -2.0101999999999998\n",
      "166 -2.0054\n",
      "167 -2.0021999999999998\n",
      "168 -1.978\n",
      "169 -1.989\n",
      "170 -1.9788000000000001\n",
      "171 -2.0168\n",
      "172 -2.0106\n",
      "173 -2.0142\n",
      "174 -1.9926\n",
      "175 -2.0036\n",
      "176 -1.9966\n",
      "177 -2.0141999999999998\n",
      "178 -2.0078\n",
      "179 -2.003\n",
      "180 -2.0132\n",
      "181 -2.0024\n",
      "182 -1.9897999999999998\n",
      "183 -2.0028\n",
      "184 -2.0066\n",
      "185 -2.0112\n",
      "186 -1.986\n",
      "187 -2.005\n",
      "188 -1.9904000000000002\n",
      "189 -2.0056\n",
      "190 -2.0166\n",
      "191 -1.9911999999999999\n",
      "192 -2.0076\n",
      "193 -1.9862\n",
      "194 -2.0028\n",
      "195 -2.0016\n",
      "196 -1.9906\n",
      "197 -2.0006\n",
      "198 -2.0046\n",
      "199 -2.0028\n"
     ]
    }
   ],
   "source": [
    "epochs = 200\n",
    "theta = np.random.randn(4)\n",
    "for epoch in range(epochs):\n",
    "    print(epoch,get_energy(theta))\n",
    "    grad = np.zeros_like(theta)\n",
    "    for idx in range(theta.shape[0]):\n",
    "        theta_temp = theta.copy()\n",
    "        theta_temp[idx] += np.pi/2\n",
    "        E_plus = get_energy(theta_temp)\n",
    "        theta_temp[idx] -= np.pi\n",
    "        E_minus = get_energy(theta_temp)\n",
    "        grad[idx] = (E_plus - E_minus)/2\n",
    "    theta -= 0.1*grad"
   ]
  },
  {
   "cell_type": "code",
   "execution_count": null,
   "id": "43c626f1",
   "metadata": {},
   "outputs": [],
   "source": []
  },
  {
   "cell_type": "code",
   "execution_count": null,
   "id": "0368f59d",
   "metadata": {},
   "outputs": [],
   "source": []
  }
 ],
 "metadata": {
  "kernelspec": {
   "display_name": "Python 3 (ipykernel)",
   "language": "python",
   "name": "python3"
  },
  "language_info": {
   "codemirror_mode": {
    "name": "ipython",
    "version": 3
   },
   "file_extension": ".py",
   "mimetype": "text/x-python",
   "name": "python",
   "nbconvert_exporter": "python",
   "pygments_lexer": "ipython3",
   "version": "3.9.10"
  }
 },
 "nbformat": 4,
 "nbformat_minor": 5
}
