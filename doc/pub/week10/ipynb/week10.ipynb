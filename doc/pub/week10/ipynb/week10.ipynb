{
 "cells": [
  {
   "cell_type": "markdown",
   "id": "64d5fb63",
   "metadata": {
    "editable": true
   },
   "source": [
    "<!-- HTML file automatically generated from DocOnce source (https://github.com/doconce/doconce/)\n",
    "doconce format html week10.do.txt --no_mako -->\n",
    "<!-- dom:TITLE: March 18-22, 2024: Quantum Computing, Quantum Machine Learning and Quantum Information Theories -->"
   ]
  },
  {
   "cell_type": "markdown",
   "id": "be6ecd5a",
   "metadata": {
    "editable": true
   },
   "source": [
    "# March 18-22, 2024: Quantum Computing, Quantum Machine Learning and Quantum Information Theories\n",
    "**Morten Hjorth-Jensen**, Department of Physics, University of Oslo and Department of Physics and Astronomy and Facility for Rare Isotope Beams, Michigan State University\n",
    "\n",
    "Date: **Week of March 18-22**"
   ]
  },
  {
   "cell_type": "markdown",
   "id": "a8be1e20",
   "metadata": {
    "editable": true
   },
   "source": [
    "## Plans for the week of March 18-22, 2024\n",
    "\n",
    "1. Discussion of project 1 and possible paths for project 2\n",
    "\n",
    "2. Start discussion of Quantum Fourier transforms, basic mathematical expressions\n",
    "\n",
    "3. Reading recommendation Hundt, Quantum Computing for Programmers, sections 6.1-6.4 on QFT.\n",
    "\n",
    "4. [Video of lecture](https://youtu.be/kR-4qqtFyxQ)\n",
    "\n",
    "5. [Whiteboard notes](https://github.com/CompPhysics/QuantumComputingMachineLearning/blob/gh-pages/doc/HandWrittenNotes/2024/NotesMarch20.pdf)"
   ]
  },
  {
   "cell_type": "markdown",
   "id": "22e4297b",
   "metadata": {
    "editable": true
   },
   "source": [
    "## Possible paths for project 2\n",
    "\n",
    "* Implement QFTs  and study the phase estimation algorithm and eventually Shor's algorithm for factorization of numbers.\n",
    "\n",
    "* Study other algorithms\n",
    "\n",
    "a. Deutsch-Jozsa algorithm: Determine if a function is constant or balance using the fewest number of queries.\n",
    "\n",
    "b. SImon's algorithm: Determine if a function (Oracle) is one-to-one or two-to-one\n",
    "\n",
    "c. Grover's algorithm: Search unstructured list of data fast\n",
    "\n",
    "d. Shor's algorithm : Factorize integers efficiently\n",
    "\n",
    "* Study the solution of quantum mechanical eigenvalue problems with systems from atomic/molecular physics and quantum chemistry\n",
    "\n",
    "* Quantum machine learning projects\n",
    "\n",
    "* Other paths\n",
    "\n",
    "For project 2, in order to be time efficient, you can use software like Qiskit, Pennylane, qBraid and/or other"
   ]
  },
  {
   "cell_type": "markdown",
   "id": "aa6d4399",
   "metadata": {
    "editable": true
   },
   "source": [
    "## Overarching motivation\n",
    "\n",
    "After Simon's algorithm (to be discussed after the Easter break), the next big breakthrough in quantum\n",
    "algorithms occurred when Peter Shor discovered his algorithm for\n",
    "efficiently factoring numbers. This algorithm makes use of the quantum\n",
    "Fourier transform which is the topic of this sets of lectures.\n",
    "\n",
    "We will start with discrete Fourier transforms (DFT).  There are many\n",
    "motivations for the DFT. For those of you familiar with signal\n",
    "processing, harmonic oscillations, and many other areas of\n",
    "applications, Fourier transforms are almost standard kitchen\n",
    "items. For those of you who have studied quantum theory, you have\n",
    "probably met Fourier transforms when studying Heisenberg's uncertainty\n",
    "relation between momentum and position."
   ]
  },
  {
   "cell_type": "markdown",
   "id": "10a0121a",
   "metadata": {
    "editable": true
   },
   "source": [
    "## A familiar case\n",
    "\n",
    "For problems with so-called harmonic oscillations, given by for example the following differential equation"
   ]
  },
  {
   "cell_type": "markdown",
   "id": "f3aea33b",
   "metadata": {
    "editable": true
   },
   "source": [
    "$$\n",
    "m\\frac{d^2x}{dt^2}+\\eta\\frac{dx}{dt}+x(t)=f(t),\n",
    "$$"
   ]
  },
  {
   "cell_type": "markdown",
   "id": "66e83fcb",
   "metadata": {
    "editable": true
   },
   "source": [
    "where $f(t)$ is an applied external force acting on the system (often\n",
    "called a driving force), one can use the theory of Fourier\n",
    "transformations to find the solutions of this type of equations."
   ]
  },
  {
   "cell_type": "markdown",
   "id": "4acb63bb",
   "metadata": {
    "editable": true
   },
   "source": [
    "## Several driving forces\n",
    "\n",
    "If one has several driving forces, $f(t)=\\sum_n f_n(t)$, one can find\n",
    "the particular solution $x_{pn}(t)$ to the above differential equation for each $f_n$. The particular\n",
    "solution for the entire driving force is then given by a series like"
   ]
  },
  {
   "cell_type": "markdown",
   "id": "1a965ff3",
   "metadata": {
    "editable": true
   },
   "source": [
    "$$\n",
    "x_p(t)=\\sum_nx_{pn}(t).\n",
    "$$"
   ]
  },
  {
   "cell_type": "markdown",
   "id": "dc985abe",
   "metadata": {
    "editable": true
   },
   "source": [
    "This is known as the principle of superposition. It only applies when\n",
    "the homogenous equation is linear. \n",
    "Superposition is especially useful when $f(t)$ can be written\n",
    "as a sum of sinusoidal terms, because the solutions for each\n",
    "sinusoidal (sine or cosine)  term is analytic."
   ]
  },
  {
   "cell_type": "markdown",
   "id": "7e6e452b",
   "metadata": {
    "editable": true
   },
   "source": [
    "## Periodicity\n",
    "\n",
    "Driving forces are often periodic, even when they are not\n",
    "sinusoidal. Periodicity implies that for some time $t$ our function repeats itself periodically after a period $T$, that is"
   ]
  },
  {
   "cell_type": "markdown",
   "id": "e1b53821",
   "metadata": {
    "editable": true
   },
   "source": [
    "$$\n",
    "f(t+\\tau)=f(t).\n",
    "$$"
   ]
  },
  {
   "cell_type": "markdown",
   "id": "70ed072c",
   "metadata": {
    "editable": true
   },
   "source": [
    "One example of a non-sinusoidal periodic force is a square wave. Many\n",
    "components in electric circuits are non-linear, for example diodes. This \n",
    "makes many wave forms non-sinusoidal even when the circuits are being\n",
    "driven by purely sinusoidal sources."
   ]
  },
  {
   "cell_type": "markdown",
   "id": "ebcd6cba",
   "metadata": {
    "editable": true
   },
   "source": [
    "## Simple Code Example\n",
    "\n",
    "The code here shows a typical example of such a square wave generated\n",
    "using the functionality included in the **scipy** Python package. We\n",
    "have used a period of $\\tau=0.2$."
   ]
  },
  {
   "cell_type": "code",
   "execution_count": 1,
   "id": "89489cc4",
   "metadata": {
    "collapsed": false,
    "editable": true
   },
   "outputs": [],
   "source": [
    "%matplotlib inline\n",
    "\n",
    "import numpy as np\n",
    "import math\n",
    "from scipy import signal\n",
    "import matplotlib.pyplot as plt\n",
    "\n",
    "# number of points                                                                                       \n",
    "n = 500\n",
    "# start and final times                                                                                  \n",
    "t0 = 0.0\n",
    "tn = 1.0\n",
    "# Period                                                                                                 \n",
    "t = np.linspace(t0, tn, n, endpoint=False)\n",
    "SqrSignal = np.zeros(n)\n",
    "SqrSignal = 1.0+signal.square(2*np.pi*5*t)\n",
    "plt.plot(t, SqrSignal)\n",
    "plt.ylim(-0.5, 2.5)\n",
    "plt.show()"
   ]
  },
  {
   "cell_type": "markdown",
   "id": "8825dfbe",
   "metadata": {
    "editable": true
   },
   "source": [
    "## Continuous Fourier transforms and the principle of Superposition\n",
    "\n",
    "It was Fourier's idea to expand a continuous and periodic function $f(t)$ in terms of sums sinus and cosinus ordered functions (we will use exponentials however)\n",
    "as"
   ]
  },
  {
   "cell_type": "markdown",
   "id": "b21b2c02",
   "metadata": {
    "editable": true
   },
   "source": [
    "$$\n",
    "f(t) = \\sum_{i=1}^{n}a_n\\sin{(2\\pi nt+\\phi_n)},\n",
    "$$"
   ]
  },
  {
   "cell_type": "markdown",
   "id": "fb051312",
   "metadata": {
    "editable": true
   },
   "source": [
    "with $\\phi_n$ being a constant phase. The function $f$ is assumed to be bounded in order to be able to define properly the error in truncating the sum\n",
    "over $n$, that is"
   ]
  },
  {
   "cell_type": "markdown",
   "id": "77aaeeb4",
   "metadata": {
    "editable": true
   },
   "source": [
    "$$\n",
    "\\int_a^b dt \\vert f(t)\\vert^2 \\le M < \\infty.\n",
    "$$"
   ]
  },
  {
   "cell_type": "markdown",
   "id": "8be1a3c8",
   "metadata": {
    "editable": true
   },
   "source": [
    "Below we discuss how to find the coefficients $a_n$."
   ]
  },
  {
   "cell_type": "markdown",
   "id": "6df59c71",
   "metadata": {
    "editable": true
   },
   "source": [
    "## Rewriting in terms of sines and cosines\n",
    "\n",
    "It is common to rewrite the above sum in terms of sines and cosines and to add a complex constant $a_0$. This gives us"
   ]
  },
  {
   "cell_type": "markdown",
   "id": "a17e90b5",
   "metadata": {
    "editable": true
   },
   "source": [
    "$$\n",
    "f(t) = \\frac{a_0}{2}+ \\sum_{i=1}^{n}\\left(a_n\\cos{(2\\pi nt)}+b_n\\sin{(2\\pi nt)}\\right).\n",
    "$$"
   ]
  },
  {
   "cell_type": "markdown",
   "id": "5a7be1ab",
   "metadata": {
    "editable": true
   },
   "source": [
    "Using the standard trigonometric relations"
   ]
  },
  {
   "cell_type": "markdown",
   "id": "f559e8ac",
   "metadata": {
    "editable": true
   },
   "source": [
    "$$\n",
    "\\begin{align*}\n",
    "\\cos{t} = frac{\\exp{\\imath t}+\\exp{-\\imath t}}{2} & \\sin{t} = frac{\\exp{\\imath t}-\\exp{-\\imath t}}{2\\imath}.\n",
    "\\end{align*}\n",
    "$$"
   ]
  },
  {
   "cell_type": "markdown",
   "id": "3979bd99",
   "metadata": {
    "editable": true
   },
   "source": [
    "## Exponential expression\n",
    "\n",
    "We can rewrite the Fourier expansion as"
   ]
  },
  {
   "cell_type": "markdown",
   "id": "e0df0336",
   "metadata": {
    "editable": true
   },
   "source": [
    "$$\n",
    "f(t) =\\sum_{i=-n}^{n}c_{n}\\exp{(2\\pi\\imath nt)},\n",
    "$$"
   ]
  },
  {
   "cell_type": "markdown",
   "id": "98c219a0",
   "metadata": {
    "editable": true
   },
   "source": [
    "with $c_0=a_0/2$. The coefficients $c_n$ are complex and satisfy $c_{-n}=c_n^*$.\n",
    "The constant $c_{0}=c_0^*$ is a real number.\n",
    "\n",
    "The above sum can also be rewritten in terms of the real part of the exponetials as"
   ]
  },
  {
   "cell_type": "markdown",
   "id": "0fd028f2",
   "metadata": {
    "editable": true
   },
   "source": [
    "$$\n",
    "f(t) =2\\mathrm{Re}\\left(\\sum_{i=0}^{n}c_{n}\\exp{(2\\pi\\imath nt} \\right),\n",
    "$$"
   ]
  },
  {
   "cell_type": "markdown",
   "id": "81e2b626",
   "metadata": {
    "editable": true
   },
   "source": [
    "where we used that $c_{-n}=c_n^*$. We leave it as an exercise to the reader to show the latter expression.\n",
    "\n",
    "How do we determine the coefficients $c_n$?"
   ]
  },
  {
   "cell_type": "markdown",
   "id": "b2e49764",
   "metadata": {
    "editable": true
   },
   "source": [
    "## Determining $c_n$\n",
    "\n",
    "Let us assume that we have a periodic function $f(t)$"
   ]
  },
  {
   "cell_type": "markdown",
   "id": "dd0828f1",
   "metadata": {
    "editable": true
   },
   "source": [
    "$$\n",
    "f(t) =\\sum_{i=-n}^{n}c_{n}\\exp{(2\\pi\\imath nt)},\n",
    "$$"
   ]
  },
  {
   "cell_type": "markdown",
   "id": "fc1992ae",
   "metadata": {
    "editable": true
   },
   "source": [
    "and we select the coefficient $c_k$, and multiply the l.h.s and r.h.s. with $\\exp{(-2\\pi\\imath kt)}$, and isolate the $c_k$ terms"
   ]
  },
  {
   "cell_type": "markdown",
   "id": "2c1ca104",
   "metadata": {
    "editable": true
   },
   "source": [
    "$$\n",
    "c_k=f(t)\\exp{(-2\\pi\\imath kt)}-\\sum_{i=-n, n\\ne k}^{n}c_{n}\\exp{(2\\pi\\imath (n-k)t)}.\n",
    "$$"
   ]
  },
  {
   "cell_type": "markdown",
   "id": "47db1b90",
   "metadata": {
    "editable": true
   },
   "source": [
    "## Integrating both sides\n",
    "\n",
    "Then we integrate both sides (note we have assumed a period of one) from $0$ to $1$. This gives"
   ]
  },
  {
   "cell_type": "markdown",
   "id": "a67ee049",
   "metadata": {
    "editable": true
   },
   "source": [
    "$$\n",
    "c_k=\\int_0^1 dtf(t)\\exp{(-2\\pi\\imath kt)},\n",
    "$$"
   ]
  },
  {
   "cell_type": "markdown",
   "id": "fd437b07",
   "metadata": {
    "editable": true
   },
   "source": [
    "since the terms with the sum is zero.  We leave again this derivation as an exercise to the dedicated reader.\n",
    "If the function $f$ is real ($t$ nd $dt$ are real), then $c_n^*=c_{-n}$.\n",
    "The coefficients $c_n$ are normally called the Fourier coefficients and it is common to relabel them in terms of the function $f$ as"
   ]
  },
  {
   "cell_type": "markdown",
   "id": "13caac9f",
   "metadata": {
    "editable": true
   },
   "source": [
    "$$\n",
    "\\hat{f}(n)=\\int_0^1 dt f(t)\\exp{(-2\\pi\\imath nt)}.\n",
    "$$"
   ]
  },
  {
   "cell_type": "markdown",
   "id": "74fde047",
   "metadata": {
    "editable": true
   },
   "source": [
    "## Independence of interval length\n",
    "\n",
    "In the discussions and equations above, we have assumed that the\n",
    "integration interval has a length of one, that is a period of length one. It is easy to change this\n",
    "length and as we show below, if we integrate from say $a$ to $a+1$, this is the same as integrating over an interval of length $1$.\n",
    "\n",
    "To show this, we need also to recall that our function $f(t)$ is assumed to be periodic, that is we need to satisfy"
   ]
  },
  {
   "cell_type": "markdown",
   "id": "31688c30",
   "metadata": {
    "editable": true
   },
   "source": [
    "$$\n",
    "f(a+1)=f(a).\n",
    "$$"
   ]
  },
  {
   "cell_type": "markdown",
   "id": "4e290049",
   "metadata": {
    "editable": true
   },
   "source": [
    "Later we will generalize this to a period of arbitrary length.\n",
    "\n",
    "Assume that $a$ is any number and taking the derivative of the integral with respect to $a$, we have"
   ]
  },
  {
   "cell_type": "markdown",
   "id": "6d17a963",
   "metadata": {
    "editable": true
   },
   "source": [
    "$$\n",
    "\\frac{d}{da}\\left[\\int_a^{a+1} dt f(t)\\exp{(-2\\pi\\imath nt)}\\right].\n",
    "$$"
   ]
  },
  {
   "cell_type": "markdown",
   "id": "e3007e55",
   "metadata": {
    "editable": true
   },
   "source": [
    "## Writing out the various terms\n",
    "\n",
    "From the last equation we have then"
   ]
  },
  {
   "cell_type": "markdown",
   "id": "f8c4ca4c",
   "metadata": {
    "editable": true
   },
   "source": [
    "$$\n",
    "\\exp{(-2\\pi\\imath na)}\\exp{(-2\\pi\\imath n)}f(a+1)-\\exp{(-2\\pi\\imath na)}f(a)=0,\n",
    "$$"
   ]
  },
  {
   "cell_type": "markdown",
   "id": "a9e7a5da",
   "metadata": {
    "editable": true
   },
   "source": [
    "where we used the periodicity  $f(a+1)=f(a)$ and that $\\exp{(-2\\pi\\imath n)}=1$ since $n$ is an integer.\n",
    "This shows that the expression for $\\hat{f}$ is independent of $a$. A common instance is"
   ]
  },
  {
   "cell_type": "markdown",
   "id": "76b392b0",
   "metadata": {
    "editable": true
   },
   "source": [
    "$$\n",
    "\\hat{f}(n)=\\int_{-\\frac{1}{2}}^{\\frac{1}{2}} dt f(t)\\exp{(-2\\pi\\imath nt)}.\n",
    "$$"
   ]
  },
  {
   "cell_type": "markdown",
   "id": "4eb88248",
   "metadata": {
    "editable": true
   },
   "source": [
    "## Changing period\n",
    "\n",
    "What if the period is not equal to one? Assume we are working with a\n",
    "function $f(t)$ whose period is $T$. We can then define a function\n",
    "$g(t)$ with period one as"
   ]
  },
  {
   "cell_type": "markdown",
   "id": "a4b5eb42",
   "metadata": {
    "editable": true
   },
   "source": [
    "$$\n",
    "g(t) = f(Tt),\n",
    "$$"
   ]
  },
  {
   "cell_type": "markdown",
   "id": "aff8d7c9",
   "metadata": {
    "editable": true
   },
   "source": [
    "that is"
   ]
  },
  {
   "cell_type": "markdown",
   "id": "7b8a85cb",
   "metadata": {
    "editable": true
   },
   "source": [
    "$$\n",
    "g(t) =\\sum_{i=-n}^{n}c_{n}\\exp{(2\\pi\\imath nt)},\n",
    "$$"
   ]
  },
  {
   "cell_type": "markdown",
   "id": "b2845768",
   "metadata": {
    "editable": true
   },
   "source": [
    "and introducing the variable $s=Tt$ we have $g(t)=f(s)$ we have"
   ]
  },
  {
   "cell_type": "markdown",
   "id": "3253b1b6",
   "metadata": {
    "editable": true
   },
   "source": [
    "$$\n",
    "f(s) = g(t)=\\sum_{i=-n}^{n}c_{n}\\exp{(2\\pi\\imath nt)}=\\sum_{i=-n}^{n}c_{n}\\exp{(2\\pi\\imath ns/T)}.\n",
    "$$"
   ]
  },
  {
   "cell_type": "markdown",
   "id": "8b239965",
   "metadata": {
    "editable": true
   },
   "source": [
    "## Harmonics\n",
    "\n",
    "The so-called harmonics are now defined as $\\exp{(2\\pi\\imath ns/T)}$.\n",
    "We have"
   ]
  },
  {
   "cell_type": "markdown",
   "id": "7dc2e763",
   "metadata": {
    "editable": true
   },
   "source": [
    "$$\n",
    "\\hat{g}(n)=\\int_0^1 dt g(t)\\exp{(-2\\pi\\imath nt)},\n",
    "$$"
   ]
  },
  {
   "cell_type": "markdown",
   "id": "4f515e86",
   "metadata": {
    "editable": true
   },
   "source": [
    "and using $s=Tt$ we have"
   ]
  },
  {
   "cell_type": "markdown",
   "id": "e1f8931a",
   "metadata": {
    "editable": true
   },
   "source": [
    "$$\n",
    "\\hat{g}(n)=\\int_0^1 dt g(t)\\exp{(-2\\pi\\imath nt)}=\\frac{1}{T}\\int_0^T ds f(s)\\exp{(-2\\pi\\imath ns/T)}.\n",
    "$$"
   ]
  },
  {
   "cell_type": "markdown",
   "id": "90390393",
   "metadata": {
    "editable": true
   },
   "source": [
    "For a period $T$ we have thus the general expression for the Fourier transform"
   ]
  },
  {
   "cell_type": "markdown",
   "id": "b21759e8",
   "metadata": {
    "editable": true
   },
   "source": [
    "$$\n",
    "\\hat{f}(n)=c_n=\\frac{1}{T}\\int_0^T dt f(t)\\exp{(-2\\pi\\imath nt/T)}.\n",
    "$$"
   ]
  },
  {
   "cell_type": "markdown",
   "id": "664f4533",
   "metadata": {
    "editable": true
   },
   "source": [
    "## Typical interval\n",
    "\n",
    "An often used choice of interval is"
   ]
  },
  {
   "cell_type": "markdown",
   "id": "a98b7ae6",
   "metadata": {
    "editable": true
   },
   "source": [
    "$$\n",
    "\\hat{f}(n)=c_n=\\frac{1}{T}\\int_{-T/2}^{T/2} dt f(t)\\exp{(-2\\pi\\imath nt/T)},\n",
    "$$"
   ]
  },
  {
   "cell_type": "markdown",
   "id": "5381369d",
   "metadata": {
    "editable": true
   },
   "source": [
    "and a common choice for the harmonics is $(1/\\sqrt{T})\\exp{(2\\pi\\imath nt/T)}$.\n",
    "\n",
    "As a small addendum, if the signal (function) $f(t)$ is real and even one has $f(-t)=f(t)$. If $f$ is an even function, then $\\hat{f}$ is also an even function which leads to $\\hat{f}(-n)=\\hat{f}(n)$."
   ]
  },
  {
   "cell_type": "markdown",
   "id": "9ab65ac9",
   "metadata": {
    "editable": true
   },
   "source": [
    "## Sinusoidal example\n",
    "For the sinusoidal example the\n",
    "period is $T=2\\pi/\\omega$. However, higher harmonics can also\n",
    "satisfy the periodicity requirement. In general, any force that\n",
    "satisfies the periodicity requirement can be expressed as a sum over\n",
    "harmonics,"
   ]
  },
  {
   "cell_type": "markdown",
   "id": "0280ec67",
   "metadata": {
    "editable": true
   },
   "source": [
    "$$\n",
    "f(t)=\\frac{a_0}{2}+\\sum_{n>0} a_n\\cos(2n\\pi t/T)+b_n\\sin(2n\\pi t/T).\n",
    "$$"
   ]
  },
  {
   "cell_type": "markdown",
   "id": "525b2f37",
   "metadata": {
    "editable": true
   },
   "source": [
    "## Square well example\n",
    "\n",
    "In the code discussed earlier, we used a square well as a our\n",
    "example. If we assume our period has length $1$, we can define the\n",
    "square well function $f(t)$ as"
   ]
  },
  {
   "cell_type": "markdown",
   "id": "8aaea5ce",
   "metadata": {
    "editable": true
   },
   "source": [
    "$$\n",
    "f(t)=\\left\\{\\begin{array}{cc} 1 & 0 \\le t \\le \\frac{1}{2} \\\\\n",
    "                              -1 & \\frac{1}{2} < t \\le 1\\end{array}\\right.\n",
    "$$"
   ]
  },
  {
   "cell_type": "markdown",
   "id": "11b3d945",
   "metadata": {
    "editable": true
   },
   "source": [
    "The zeroth coefficient $a_0$ is zero since it is the average of the function $f(t)$ over the intergration domain $t\\in [0,1]$."
   ]
  },
  {
   "cell_type": "markdown",
   "id": "332f59ed",
   "metadata": {
    "editable": true
   },
   "source": [
    "## Teh coefficients\n",
    "We find that the other coefficients are"
   ]
  },
  {
   "cell_type": "markdown",
   "id": "9ddee16d",
   "metadata": {
    "editable": true
   },
   "source": [
    "$$\n",
    "\\hat{f}(n)=c_n=\\int_0^1 dt f(t)\\exp{(-2\\pi\\imath nt)}=\\frac{1}{\\imath\\pi n}\\left(1-\\exp{-\\imath\\pi n}\\right).\n",
    "$$"
   ]
  },
  {
   "cell_type": "markdown",
   "id": "791afc1c",
   "metadata": {
    "editable": true
   },
   "source": [
    "We note that"
   ]
  },
  {
   "cell_type": "markdown",
   "id": "ed83d73d",
   "metadata": {
    "editable": true
   },
   "source": [
    "## Code for the  Fourier Transforms\n",
    "\n",
    "The code here uses the Fourier series applied to a \n",
    "square wave signal. The code here\n",
    "visualizes the various approximations given by Fourier series compared\n",
    "with a square wave with period $T=0.2$ (dimensionless time), width $0.1$ and max value of the force $F=2$. We\n",
    "see that when we increase the number of components in the Fourier\n",
    "series, the Fourier series approximation gets closer and closer to the\n",
    "square wave signal."
   ]
  },
  {
   "cell_type": "code",
   "execution_count": 2,
   "id": "c2cf9657",
   "metadata": {
    "collapsed": false,
    "editable": true
   },
   "outputs": [],
   "source": [
    "import numpy as np\n",
    "import math\n",
    "from scipy import signal\n",
    "import matplotlib.pyplot as plt\n",
    "\n",
    "# number of points                                                                                       \n",
    "n = 500\n",
    "# start and final times                                                                                  \n",
    "t0 = 0.0\n",
    "tn = 1.0\n",
    "# Period                                                                                                 \n",
    "T =0.2\n",
    "# Max value of square signal                                                                             \n",
    "Fmax= 2.0\n",
    "# Width of signal   \n",
    "Width = 0.1\n",
    "t = np.linspace(t0, tn, n, endpoint=False)\n",
    "SqrSignal = np.zeros(n)\n",
    "FourierSeriesSignal = np.zeros(n)\n",
    "SqrSignal = 1.0+signal.square(2*np.pi*5*t+np.pi*Width/T)\n",
    "a0 = Fmax*Width/T\n",
    "FourierSeriesSignal = a0\n",
    "Factor = 2.0*Fmax/np.pi\n",
    "for i in range(1,500):\n",
    "    FourierSeriesSignal += Factor/(i)*np.sin(np.pi*i*Width/T)*np.cos(i*t*2*np.pi/T)\n",
    "plt.plot(t, SqrSignal)\n",
    "plt.plot(t, FourierSeriesSignal)\n",
    "plt.ylim(-0.5, 2.5)\n",
    "plt.show()"
   ]
  },
  {
   "cell_type": "markdown",
   "id": "7c204695",
   "metadata": {
    "editable": true
   },
   "source": [
    "### Fourier transforms and convolution\n",
    "\n",
    "We can use Fourier transforms in our studies of convolution as\n",
    "well. To see this, assume we have two functions $f$ and $g$ and their\n",
    "corresponding Fourier transforms $\\hat{f}$ and $\\hat{g}$. We remind\n",
    "the reader that the Fourier transform reads (say for the function $f$)"
   ]
  },
  {
   "cell_type": "markdown",
   "id": "f28bf251",
   "metadata": {
    "editable": true
   },
   "source": [
    "$$\n",
    "\\hat{f}(y)=\\boldsymbol{F}[f(y)]=\\frac{1}{2\\pi}\\int_{-\\infty}^{\\infty} d\\omega \\exp{-i\\omega y} f(\\omega),\n",
    "$$"
   ]
  },
  {
   "cell_type": "markdown",
   "id": "8a776e3e",
   "metadata": {
    "editable": true
   },
   "source": [
    "and similarly we have"
   ]
  },
  {
   "cell_type": "markdown",
   "id": "d8c55f20",
   "metadata": {
    "editable": true
   },
   "source": [
    "$$\n",
    "\\hat{g}(y)=\\boldsymbol{F}[g(y)]=\\frac{1}{2\\pi}\\int_{-\\infty}^{\\infty} d\\omega \\exp{-i\\omega y} g(\\omega).\n",
    "$$"
   ]
  },
  {
   "cell_type": "markdown",
   "id": "2699bd4c",
   "metadata": {
    "editable": true
   },
   "source": [
    "## Inverse Fourier transform\n",
    "\n",
    "The inverse Fourier transform is given by"
   ]
  },
  {
   "cell_type": "markdown",
   "id": "c544cabb",
   "metadata": {
    "editable": true
   },
   "source": [
    "$$\n",
    "\\boldsymbol{F}^{-1}[g(y)]=\\frac{1}{2\\pi}\\int_{-\\infty}^{\\infty} d\\omega \\exp{i\\omega y} g(\\omega).\n",
    "$$"
   ]
  },
  {
   "cell_type": "markdown",
   "id": "6003f522",
   "metadata": {
    "editable": true
   },
   "source": [
    "The inverse Fourier transform of the product of the two functions $\\hat{f}\\hat{g}$ can be written as"
   ]
  },
  {
   "cell_type": "markdown",
   "id": "923f4563",
   "metadata": {
    "editable": true
   },
   "source": [
    "$$\n",
    "\\boldsymbol{F}^{-1}[(\\hat{f}\\hat{g})(x)]=\\frac{1}{2\\pi}\\int_{-\\infty}^{\\infty} d\\omega \\exp{i\\omega x} \\hat{f}(\\omega)\\hat{g}(\\omega).\n",
    "$$"
   ]
  },
  {
   "cell_type": "markdown",
   "id": "3fb67330",
   "metadata": {
    "editable": true
   },
   "source": [
    "## Rewriting\n",
    "We can rewrite the latter as"
   ]
  },
  {
   "cell_type": "markdown",
   "id": "96e7aeb1",
   "metadata": {
    "editable": true
   },
   "source": [
    "$$\n",
    "\\boldsymbol{F}^{-1}[(\\hat{f}\\hat{g})(x)]=\\int_{-\\infty}^{\\infty} d\\omega \\exp{i\\omega x} \\hat{f}(\\omega)\\left[\\frac{1}{2\\pi}\\int_{-\\infty}^{\\infty}g(y)dy \\exp{-i\\omega y}\\right]=\\frac{1}{2\\pi}\\int_{-\\infty}^{\\infty}dy g(y)\\int_{-\\infty}^{\\infty} d\\omega \\hat{f}(\\omega) \\exp{i\\omega(x- y)},\n",
    "$$"
   ]
  },
  {
   "cell_type": "markdown",
   "id": "8f204806",
   "metadata": {
    "editable": true
   },
   "source": [
    "which is simply"
   ]
  },
  {
   "cell_type": "markdown",
   "id": "cb2048ee",
   "metadata": {
    "editable": true
   },
   "source": [
    "$$\n",
    "\\boldsymbol{F}^{-1}[(\\hat{f}\\hat{g})(x)]=\\int_{-\\infty}^{\\infty}dy g(y)f(x-y)=(f*g)(x),\n",
    "$$"
   ]
  },
  {
   "cell_type": "markdown",
   "id": "ff856afa",
   "metadata": {
    "editable": true
   },
   "source": [
    "the convolution of the functions $f$ and $g$."
   ]
  },
  {
   "cell_type": "markdown",
   "id": "efabc359",
   "metadata": {
    "editable": true
   },
   "source": [
    "## Transforming to discrete variables\n",
    "\n",
    "In the fourier transform $A_n$ is transformed from a dicrete variable\n",
    "to a continous one as $L \\rightarrow \\inf$. We then replace $A_n$ with\n",
    "$f(k)dk$ and let $n/L \\rightarrow k$, and the sum is changed to an\n",
    "integral. This gives"
   ]
  },
  {
   "cell_type": "markdown",
   "id": "c993fea1",
   "metadata": {
    "editable": true
   },
   "source": [
    "$$\n",
    "f(x) = \\int_{-\\infty}^{\\infty}dkF(k) \\exp{i(2\\pi kx)}\n",
    "$$"
   ]
  },
  {
   "cell_type": "markdown",
   "id": "1dd4ad1a",
   "metadata": {
    "editable": true
   },
   "source": [
    "and"
   ]
  },
  {
   "cell_type": "markdown",
   "id": "fba38f8e",
   "metadata": {
    "editable": true
   },
   "source": [
    "$$\n",
    "F(k) = \\int_{-\\infty}^{\\infty}dxf(x) \\exp{-i(2\\pi kx)}\n",
    "$$"
   ]
  },
  {
   "cell_type": "markdown",
   "id": "e17f7d73",
   "metadata": {
    "editable": true
   },
   "source": [
    "One way to interpret the Fourier transform is then as a transformation from one basis to another."
   ]
  },
  {
   "cell_type": "markdown",
   "id": "8f76126b",
   "metadata": {
    "editable": true
   },
   "source": [
    "## Discrete Fourier transform\n",
    "\n",
    "Next we make another generalization by having a discrete function,\n",
    "that is $f(x) \\rightarrow f(x_k)$ with $x_k = k\\Delta x$ for $k=0,\\dots, N-1$. This leads to the sums"
   ]
  },
  {
   "cell_type": "markdown",
   "id": "bd28bf99",
   "metadata": {
    "editable": true
   },
   "source": [
    "$$\n",
    "f_x = \\frac{1}{N} \\sum_{k=0}^{N-1}F_k \\exp{i(2\\pi kx)/N},\n",
    "$$"
   ]
  },
  {
   "cell_type": "markdown",
   "id": "15ecc40f",
   "metadata": {
    "editable": true
   },
   "source": [
    "and"
   ]
  },
  {
   "cell_type": "markdown",
   "id": "f9e4f29c",
   "metadata": {
    "editable": true
   },
   "source": [
    "$$\n",
    "F_k = \\sum_{x=0}^{N-1}f_x \\exp{-i(2\\pi kx)/N}.\n",
    "$$"
   ]
  },
  {
   "cell_type": "markdown",
   "id": "7ec4ecdc",
   "metadata": {
    "editable": true
   },
   "source": [
    "Although we have used functions here, this could also be a set of\n",
    "numbers."
   ]
  },
  {
   "cell_type": "markdown",
   "id": "37c7e06b",
   "metadata": {
    "editable": true
   },
   "source": [
    "## Simple example\n",
    "\n",
    "As an example we can have a set of complex numbers\n",
    "$\\{x_0,\\dots,x_{N-1}\\}$ with fixed length $N$, we can Fourier\n",
    "transform this as"
   ]
  },
  {
   "cell_type": "markdown",
   "id": "98822335",
   "metadata": {
    "editable": true
   },
   "source": [
    "$$\n",
    "y_k = \\frac{1}{\\sqrt{N}} \\sum_{j=0}^{N-1} x_j \\exp{i(2\\pi jk)/N},\n",
    "$$"
   ]
  },
  {
   "cell_type": "markdown",
   "id": "85f4323a",
   "metadata": {
    "editable": true
   },
   "source": [
    "leading to a new set of complex numbers $\\{ y_0,\\dots,y_{N-1}\\}$."
   ]
  },
  {
   "cell_type": "markdown",
   "id": "1c100a47",
   "metadata": {
    "editable": true
   },
   "source": [
    "## Discrete Fourier Transformations\n",
    "\n",
    "Consider two sets of complex numbers $x_k$ and $y_k$ with\n",
    "$k=0,1,\\dots,n-1$ entries. The discrete Fourier transform is defined\n",
    "as"
   ]
  },
  {
   "cell_type": "markdown",
   "id": "ea256e3c",
   "metadata": {
    "editable": true
   },
   "source": [
    "$$\n",
    "y_k = \\frac{1}{\\sqrt{n-1}} \\sum_{j=0}^{n-1} \\exp{(\\frac{2\\pi\\imath jk}{n})} x_j.\n",
    "$$"
   ]
  },
  {
   "cell_type": "markdown",
   "id": "2ba29646",
   "metadata": {
    "editable": true
   },
   "source": [
    "As an example, assume $x_0=1$ and $x_1=1$. We can then use the above expression to find $y_0$ and $y_1$.\n",
    "\n",
    "With the above formula we get then"
   ]
  },
  {
   "cell_type": "markdown",
   "id": "cf45b112",
   "metadata": {
    "editable": true
   },
   "source": [
    "$$\n",
    "y_0 = \\frac{1}{\\sqrt{2}} \\left( \\exp{(\\frac{2\\pi\\imath 0\\times 1}{2})} \\times 1+\\exp{(\\frac{2\\pi\\imath 0\\times 1}{2})}\\times 2\\right)=\\frac{1}{\\sqrt{2}}(1+2)=\\frac{3}{\\sqrt{2}},\n",
    "$$"
   ]
  },
  {
   "cell_type": "markdown",
   "id": "98bb7bfe",
   "metadata": {
    "editable": true
   },
   "source": [
    "and"
   ]
  },
  {
   "cell_type": "markdown",
   "id": "ed5a2d8a",
   "metadata": {
    "editable": true
   },
   "source": [
    "$$\n",
    "y_1 = \\frac{1}{\\sqrt{2}} \\left( \\exp{(\\frac{2\\pi\\imath 0\\times 1}{2})} \\times 1+\\exp{(\\frac{2\\pi\\imath 1\\times 1}{2})}\\times 2\\right)=\\frac{1}{\\sqrt{2}}(1+2\\exp{(\\pi\\imath)})=-\\frac{1}{\\sqrt{2}},\n",
    "$$"
   ]
  },
  {
   "cell_type": "markdown",
   "id": "a8202207",
   "metadata": {
    "editable": true
   },
   "source": [
    "## More details on Discrete Fourier transforms\n",
    "\n",
    "Suppose that we have a vector $f$ of $N$ complex numbers, $f_{k}, k\n",
    "\\in\\{0,1, \\ldots, N-1\\}$. Then the discrete Fourier transform (DFT) is\n",
    "a map from these $N$ complex numbers to $N$ complex numbers, the\n",
    "Fourier transformed coefficients $\\tilde{f}_{j}$, given by"
   ]
  },
  {
   "cell_type": "markdown",
   "id": "778359ad",
   "metadata": {
    "editable": true
   },
   "source": [
    "$$\n",
    "\\tilde{f}_{j}=\\frac{1}{\\sqrt{N}} \\sum_{k=0}^{N-1} \\omega^{-j k} f_{k}\n",
    "$$"
   ]
  },
  {
   "cell_type": "markdown",
   "id": "a63bf9a1",
   "metadata": {
    "editable": true
   },
   "source": [
    "where $\\omega=\\exp \\left(\\frac{2 \\pi i}{N}\\right)$."
   ]
  },
  {
   "cell_type": "markdown",
   "id": "7596572e",
   "metadata": {
    "editable": true
   },
   "source": [
    "## Invert DFT\n",
    "The inverse DFT is given by"
   ]
  },
  {
   "cell_type": "markdown",
   "id": "d1002600",
   "metadata": {
    "editable": true
   },
   "source": [
    "$$\n",
    "f_{j}=\\frac{1}{\\sqrt{N}} \\sum_{k=0}^{N-1} \\omega^{j k} \\tilde{f}_{k}\n",
    "$$"
   ]
  },
  {
   "cell_type": "markdown",
   "id": "eb285a6f",
   "metadata": {
    "editable": true
   },
   "source": [
    "To see this consider how the basis vectors transform. If $f_{k}^{l}=\\delta_{k, l}$, then"
   ]
  },
  {
   "cell_type": "markdown",
   "id": "d52466cd",
   "metadata": {
    "editable": true
   },
   "source": [
    "$$\n",
    "\\tilde{f}_{j}^{l}=\\frac{1}{\\sqrt{N}} \\sum_{k=0}^{N-1} \\omega^{-j k} \\delta_{k, l}=\\frac{1}{\\sqrt{N}} \\omega^{-j l}\n",
    "$$"
   ]
  },
  {
   "cell_type": "markdown",
   "id": "b3816d50",
   "metadata": {
    "editable": true
   },
   "source": [
    "## Orthonormality\n",
    "These DFT vectors are orthonormal:"
   ]
  },
  {
   "cell_type": "markdown",
   "id": "dce05517",
   "metadata": {
    "editable": true
   },
   "source": [
    "$$\n",
    "\\sum_{j=0}^{N-1} \\tilde{f}^{l}{ }_{j}^{*} \\tilde{f}_{j}^{m}=\\frac{1}{N} \\sum_{j=0}^{N-1} \\omega^{j l} \\omega^{-j m}=\\frac{1}{N} \\sum_{j=0}^{N-1} \\omega^{j(l-m)}\n",
    "$$"
   ]
  },
  {
   "cell_type": "markdown",
   "id": "d0a6f7c3",
   "metadata": {
    "editable": true
   },
   "source": [
    "This last sum can be evaluated as a geometric series, but beware of the $(l-m)=0$ term, and yields"
   ]
  },
  {
   "cell_type": "markdown",
   "id": "079907f8",
   "metadata": {
    "editable": true
   },
   "source": [
    "$$\n",
    "\\sum_{j=0}^{N-1} \\tilde{f}^{l}{ }_{j}^{*} \\tilde{f}_{j}^{m}=\\delta_{l, m}\n",
    "$$"
   ]
  },
  {
   "cell_type": "markdown",
   "id": "3b206989",
   "metadata": {
    "editable": true
   },
   "source": [
    "From this we can check that the inverse DFT does indeed perform the inverse transform:"
   ]
  },
  {
   "cell_type": "markdown",
   "id": "18a0e82e",
   "metadata": {
    "editable": true
   },
   "source": [
    "$$\n",
    "f_{j}=\\frac{1}{\\sqrt{N}} \\sum_{k=0}^{N-1} \\omega^{j k} \\tilde{f}_{k}=\\frac{1}{\\sqrt{N}} \\sum_{k=0}^{N-1} \\omega^{j k} \\frac{1}{\\sqrt{N}} \\sum_{l=0}^{N-1} \\omega^{-l k} f_{l}=\\frac{1}{N} \\sum_{k, l=0}^{N-1} \\omega^{(j-l) k} f_{l}=\\sum_{l=0}^{N-1} \\delta_{j, l} f_{l}=f_{j}\n",
    "$$"
   ]
  },
  {
   "cell_type": "markdown",
   "id": "d1561bd1",
   "metadata": {
    "editable": true
   },
   "source": [
    "## Convolution again\n",
    "\n",
    "An important property of the DFT is the above mentioned convolution\n",
    "theorem. The circular convolution of two vectors $f$ and $g$ is given\n",
    "by"
   ]
  },
  {
   "cell_type": "markdown",
   "id": "1ee640dd",
   "metadata": {
    "editable": true
   },
   "source": [
    "$$\n",
    "(f * g)_{i}=\\sum_{j=0}^{N-1} f_{j} g_{i-j}\n",
    "$$"
   ]
  },
  {
   "cell_type": "markdown",
   "id": "dc878361",
   "metadata": {
    "editable": true
   },
   "source": [
    "where we define $g_{-m}=g_{N-m}$. The convolution theorem states that the DFT turns convolution into pointwise vector multiplication. In other words if the components of the DFT of $(f * g)$ are $\\tilde{c}_{k}$, then $\\tilde{c}_{k}=\\tilde{f}_{k} \\tilde{g}_{k}$. What use is the convolution theorem? Well this leads us nicely to our next topic, the fast Fourier transform."
   ]
  },
  {
   "cell_type": "markdown",
   "id": "3c50d89b",
   "metadata": {
    "editable": true
   },
   "source": [
    "## Fast Fourier transform (FFT)\n",
    "\n",
    "Naively how many math operations do we have to do to perform a\n",
    "discrete Fourier transform? Well for each component of the new vector\n",
    "we will need to perform $N$ multiplications and then we will need to\n",
    "add these components. Since we need to do this for each of the $N$\n",
    "different component. Thus we see that $N^{2}$ complex multiplications\n",
    "and $N(N-1)$ complex additions are needed to compute the DFT. The goal\n",
    "of the fast Fourier transform is to perform the DFT using less basic\n",
    "math operations. There are may ways to do this. We will describe one\n",
    "particular method for $N=2^{n}$ and will put off discussion of the\n",
    "case where $N \\neq 2^{n}$ until later. So assume $N=2^{n}$ from here\n",
    "until I say otherwise."
   ]
  },
  {
   "cell_type": "markdown",
   "id": "30e3449d",
   "metadata": {
    "editable": true
   },
   "source": [
    "## FFT algorithm\n",
    "\n",
    "The Fast Fourier Transform (FFT) is based on\n",
    "observing the fact that there are symmetries of the coefficients\n",
    "in the DFT,"
   ]
  },
  {
   "cell_type": "markdown",
   "id": "88946cdc",
   "metadata": {
    "editable": true
   },
   "source": [
    "$$\n",
    "\\begin{align*}\n",
    "\\omega^{k+N / 2} & =-\\omega^{k} \\\\\n",
    "\\omega^{k+N} & =\\omega^{k} .\n",
    "\\end{align*}\n",
    "$$"
   ]
  },
  {
   "cell_type": "markdown",
   "id": "d428a29a",
   "metadata": {
    "editable": true
   },
   "source": [
    "## Splitting into smaller components\n",
    "\n",
    "Suppose we want to perform the DFT of the vector $f$. Split the\n",
    "components of $f$ up into smaller vectors of size $N / 2$, $e$ and\n",
    "$o$. The coefficients of $e$ are the components of $f$ which are even\n",
    "and the coefficients of $o$ are the components of $f$ which are\n",
    "odd. The order of the coefficients is retained. Then it is easy to see\n",
    "that"
   ]
  },
  {
   "cell_type": "markdown",
   "id": "723e4b67",
   "metadata": {
    "editable": true
   },
   "source": [
    "$$\n",
    "\\begin{align*}\n",
    "\\tilde{f}_{j} & =\\frac{1}{\\sqrt{N}} \\sum_{i=0}^{N-1} \\omega^{-i j} f_{i}=\\frac{1}{\\sqrt{N}} \\sum_{i=0}^{N / 2-1} \\omega^{-2 i j} e_{i}+\\sum_{i=0}^{N / 2-1} \\omega^{-(2 i+1) j} o_{i} \\\\\n",
    "& =\\frac{1}{\\sqrt{N}}\\left(\\sum_{i=0}^{N / 2-1} \\omega_{N / 2}^{-i j} e_{i}+\\omega_{N}^{-j} \\sum_{i=0}^{N / 2-1} \\omega_{N / 2}^{-i j} o_{i}\\right) \n",
    "\\end{align*}\n",
    "$$"
   ]
  },
  {
   "cell_type": "markdown",
   "id": "2ec7ddb8",
   "metadata": {
    "editable": true
   },
   "source": [
    "where $\\omega_{N / 2}=\\exp \\left(\\frac{2 \\pi i}{N}\\right)$ and we have denoted $\\omega$ by $\\omega_{N}$ for clarity."
   ]
  },
  {
   "cell_type": "markdown",
   "id": "5c0c388b",
   "metadata": {
    "editable": true
   },
   "source": [
    "## Formula for DFT\n",
    "\n",
    "We have thus obtained the a formula for the DFT of $f$ in terms of the DFT of $e$ and $o$ :"
   ]
  },
  {
   "cell_type": "markdown",
   "id": "9dee50f4",
   "metadata": {
    "editable": true
   },
   "source": [
    "$$\n",
    "\\tilde{f}_{j}=\\tilde{e}_{j}+\\omega_{N}^{-j} \\tilde{o}_{j}\n",
    "$$"
   ]
  },
  {
   "cell_type": "markdown",
   "id": "5c4b48c2",
   "metadata": {
    "editable": true
   },
   "source": [
    "## Rearranging the sums\n",
    "\n",
    "Recall that $j$ runs from 0 to $N-1$ and the DFTs of $e$ and $f$ are periodic with period $N / 2$. Using this and the above symmetry we find that we can express our formula as"
   ]
  },
  {
   "cell_type": "markdown",
   "id": "bb5bbed5",
   "metadata": {
    "editable": true
   },
   "source": [
    "$$\n",
    "\\begin{array}{ll}\n",
    "\\sqrt{2} \\tilde{f}_{j}=\\tilde{e}_{j}+\\omega_{N}^{-j} \\tilde{o}_{j} & 0 \\leq j \\leq N / 2-1 \\\\\n",
    "\\sqrt{2} \\tilde{f}_{j}=\\tilde{e}_{j}-\\omega_{N}^{-j} \\tilde{o}_{j} & N / 2-2 \\leq j \\leq N-1 \n",
    "\\end{array}\n",
    "$$"
   ]
  },
  {
   "cell_type": "markdown",
   "id": "05d9800e",
   "metadata": {
    "editable": true
   },
   "source": [
    "## How many complex multiplications?\n",
    "\n",
    "Suppose that we first compute the DFT over $e$ and $o$ and then uses\n",
    "them in this formula to compute the full DFT of $f$. How many complex\n",
    "multiplications do we need to perform? Well to compute $e$ and $o$\n",
    "requires $2 \\frac{N}{2}^{2}=\\frac{N^{2}}{2}$ multiplications. We need\n",
    "another $N / 2$ to compute $\\omega_{N}^{-j} \\tilde{o}_{j}$. Forget\n",
    "about the square root of two, it can always be put in at the end as an\n",
    "extra $N$ multiplications. Thus we require\n",
    "$\\frac{N^{2}}{2}+\\frac{N}{2}$ complex multiplications to compute the\n",
    "DFT as opposed to $N^{2}$ in the the previous method. This is a\n",
    "reduction of about a factor of 2 for large $N$."
   ]
  },
  {
   "cell_type": "markdown",
   "id": "269f8d03",
   "metadata": {
    "editable": true
   },
   "source": [
    "## More details\n",
    "\n",
    "Further it is clear that for $N=2^{n}$ we can use the above trick all\n",
    "the way down to $N=2$. How many complex multiplications do we need to\n",
    "perform if we do this? Let $T_{n}$ denote the number of\n",
    "multiplications at the $N=2^{n}$ th level, such that $T_{1}=4$. Then"
   ]
  },
  {
   "cell_type": "markdown",
   "id": "37e74a62",
   "metadata": {
    "editable": true
   },
   "source": [
    "$$\n",
    "T_{n}=2 T_{n-1}+2^{n-1}.\n",
    "$$"
   ]
  },
  {
   "cell_type": "markdown",
   "id": "c8f54f65",
   "metadata": {
    "editable": true
   },
   "source": [
    "## Bounds\n",
    "\n",
    "The latter can be bounded by"
   ]
  },
  {
   "cell_type": "markdown",
   "id": "0fb0874f",
   "metadata": {
    "editable": true
   },
   "source": [
    "$$\n",
    "T_{n} \\leq 2 T_{n-1}+2^{n}\n",
    "$$"
   ]
  },
  {
   "cell_type": "markdown",
   "id": "a93c88de",
   "metadata": {
    "editable": true
   },
   "source": [
    "which has solution $T_{n} \\leq 2^{n} n$. In other words the running\n",
    "time is bounded by $N \\log N$. Thus we see that in the FFT we can\n",
    "compute the DFT in a complexity of $N \\log N$ operations. This is a\n",
    "nice little improvement. Of historical interest apparently Gauss knew\n",
    "the FFT algorithm."
   ]
  },
  {
   "cell_type": "markdown",
   "id": "1fbdac2c",
   "metadata": {
    "editable": true
   },
   "source": [
    "## Application of the FFT\n",
    "\n",
    "Suppose that you have two\n",
    "polynomials with complex coefficients: $f(x)=a_{0}+a_{1}\n",
    "x+\\cdots+a_{N-1} x^{N-1}$ and $g(x)=b_{0}+b_{1} x+\\cdots+b_{N-1}\n",
    "x^{N-1}$. If you multiply these two polynomials\\\\ together you get a\n",
    "new polynomial $f(x) g(x)=\\sum_{i, j=0}^{N-1} a_{i} b_{j}\n",
    "x^{i+j}=\\sum_{k=0}^{2(N-1)} c_{k} x^{k}$. The new coefficients for\n",
    "this polynomial are a function of the two polynomials:"
   ]
  },
  {
   "cell_type": "markdown",
   "id": "879a3525",
   "metadata": {
    "editable": true
   },
   "source": [
    "$$\n",
    "c_{k}=\\sum_{l=0}^{N-1} a_{l} b_{k-l},\n",
    "$$"
   ]
  },
  {
   "cell_type": "markdown",
   "id": "378d31e9",
   "metadata": {
    "editable": true
   },
   "source": [
    "where the sum is over all valid polynomial terms (i.e. when $k-l$ is negative, there is no term in the sum.) One sees that computing $c_{k}$ requires $N^{2}$ multiplications."
   ]
  },
  {
   "cell_type": "markdown",
   "id": "62703307",
   "metadata": {
    "editable": true
   },
   "source": [
    "## Convolution yet again\n",
    "\n",
    "The expression for $c_{k}$ looks a lot like convolution. Indeed\n",
    "suppose that we form a $2 N$ dimensional vector $a=\\left(a_{0},\n",
    "\\ldots, a_{N-1}, 0, \\ldots, 0\\right)$ and $b=\\left(b_{0}, \\ldots,\n",
    "b_{N-1}, 0, \\ldots, 0\\right)$ from our original data. The vector $c$\n",
    "which will represent the coefficients of the new polynomial are then\n",
    "given by"
   ]
  },
  {
   "cell_type": "markdown",
   "id": "b8495879",
   "metadata": {
    "editable": true
   },
   "source": [
    "$$\n",
    "c_{k}=\\sum_{l=0}^{2 N-1} a_{l} b_{k-l} \\bmod 2 N\n",
    "$$"
   ]
  },
  {
   "cell_type": "markdown",
   "id": "bb6dbdf3",
   "metadata": {
    "editable": true
   },
   "source": [
    "## More discussions\n",
    "\n",
    "Now we don't need to condition this sum on their being valid\n",
    "terms. Now this is explicitly convolution! Thus we can compute the\n",
    "coefficients $c_{k}$ by the following algorithm. Compute the DFT of\n",
    "the vectors $a$ and $b$. Pointwise multiply these two vectors. Then\n",
    "inverse DFT this new vector. The result will be $c_{k}$ by the\n",
    "convolution theorem. If we use the FFT algorithm for this procedure,\n",
    "then we will require $O(N \\log N)$ multiplications. This is pretty\n",
    "cool: by using the FFT we can multiply polynomials faster than our\n",
    "naive grade school method for multiplying polynomials. It is good to\n",
    "see that our grad school self can do things our grade school self\n",
    "cannot do. Some of you will even know that you can use the FFT to\n",
    "multiply integers $N$ integers with a cost of $O\\left(N \\log ^{2}\n",
    "N\\right)$ or used recursively: $O(N \\log N \\log \\log N \\log \\log \\log\n",
    "N \\cdots)$."
   ]
  },
  {
   "cell_type": "markdown",
   "id": "e0c2dc90",
   "metadata": {
    "editable": true
   },
   "source": [
    "## Quantum Fourier transform\n",
    "\n",
    "We now turn to the quantum Fourier transform. It is the same\n",
    "transformation as described above, however we define it in terms of\n",
    "the unitary operation"
   ]
  },
  {
   "cell_type": "markdown",
   "id": "96df4384",
   "metadata": {
    "editable": true
   },
   "source": [
    "$$\n",
    "\\vert \\psi'\\rangle \\leftarrow \\hat{F}\\vert \\psi\\rangle, \\quad \\hat{F}^\\dagger \\hat{F} = I\n",
    "$$"
   ]
  },
  {
   "cell_type": "markdown",
   "id": "30cd130c",
   "metadata": {
    "editable": true
   },
   "source": [
    "## Orthonormal basis\n",
    "\n",
    "In terms of an orthonormal basis $\\vert 0 \\rangle,\\vert 1\\rangle,\\dots,\\vert 0 \\rangle$ this linear operator has the following action"
   ]
  },
  {
   "cell_type": "markdown",
   "id": "a2576ce6",
   "metadata": {
    "editable": true
   },
   "source": [
    "$$\n",
    "\\vert j \\rangle \\rightarrow \\sum_{k=0}^{N-1} \\exp{i(2\\pi jk/N)}\\vert k\n",
    "$$"
   ]
  },
  {
   "cell_type": "markdown",
   "id": "3fcd9fb6",
   "metadata": {
    "editable": true
   },
   "source": [
    "or on an arbitrary state"
   ]
  },
  {
   "cell_type": "markdown",
   "id": "d221f261",
   "metadata": {
    "editable": true
   },
   "source": [
    "$$\n",
    "\\sum_{j=0}^{N-1} x_j \\vert j \\rangle \\rightarrow \\sum_{k=0}^{N-1} y_k\\vert k \\rangle\n",
    "$$"
   ]
  },
  {
   "cell_type": "markdown",
   "id": "a4d229bb",
   "metadata": {
    "editable": true
   },
   "source": [
    "equivalent to the equation for discrete Fourier transform on a set of complex numbers."
   ]
  },
  {
   "cell_type": "markdown",
   "id": "0ee79ad4",
   "metadata": {
    "editable": true
   },
   "source": [
    "## Using computational basis\n",
    "\n",
    "Next we assume an $n$-qubit system, where we take $N=s^n$ in the computational basis"
   ]
  },
  {
   "cell_type": "markdown",
   "id": "034dae17",
   "metadata": {
    "editable": true
   },
   "source": [
    "$$\n",
    "\\vert 0 \\rangle,\\dots,\\vert 2^n -1\\rangle.\n",
    "$$"
   ]
  },
  {
   "cell_type": "markdown",
   "id": "bbf31eb2",
   "metadata": {
    "editable": true
   },
   "source": [
    "We make use of the binary representation $j = j_1 2^{n-1} + j_2\n",
    "2^{n-2} + \\dots + j_n 2^0$ , and take note of the notation $0.j_l\n",
    "j_{l+1} \\dots j_m$ representing the binary fraction $\\frac{j_l}{2^1} +\n",
    "\\frac{j_{l+1}}{2^{2}} + \\dots + \\frac{j_m}{2^{m-l+1}}$. With this we\n",
    "define the product representation of the quantum Fourier transform"
   ]
  },
  {
   "cell_type": "markdown",
   "id": "2d0f70d0",
   "metadata": {
    "editable": true
   },
   "source": [
    "$$\n",
    "\\vert j_1,\\dots,j_n\\rangle  \\rightarrow \n",
    "\\frac{\n",
    "\\left(\\vert 0 \\rangle + \\exp{i(2\\pi 0.j_n)}\\right)\n",
    "\\left(\\vert 0 \\rangle + \\exp{i(2\\pi 0.j_{j-1}j_n)}\\right)\n",
    "\\dots\n",
    "\\left(\\vert 0 \\rangle + \\exp{i(2\\pi 0.j_1j_2\\dots j_n)}\\right)\n",
    "}{2^{n/2}}\n",
    "$$"
   ]
  },
  {
   "cell_type": "markdown",
   "id": "8fd6fc8b",
   "metadata": {
    "editable": true
   },
   "source": [
    "## Components\n",
    "\n",
    "From the product representation we can derive a circuit for the\n",
    "quantum Fourier transform. This will make use of the following two\n",
    "single-qubit gates"
   ]
  },
  {
   "cell_type": "markdown",
   "id": "d03a1dd5",
   "metadata": {
    "editable": true
   },
   "source": [
    "$$\n",
    "H = \\frac{1}{\\sqrt{2}}\n",
    "    \\begin{bmatrix}\n",
    "        1 & 1 \\\\\n",
    "        1 & -1\n",
    "    \\end{bmatrix}\n",
    "$$"
   ]
  },
  {
   "cell_type": "markdown",
   "id": "a2857682",
   "metadata": {
    "editable": true
   },
   "source": [
    "$$\n",
    "R_k =\n",
    "    \\begin{bmatrix}\n",
    "        1 & 0 \\\\\n",
    "        0 & e^{2\\pi i/2^{k}}\n",
    "    \\end{bmatrix}\n",
    "$$"
   ]
  },
  {
   "cell_type": "markdown",
   "id": "17083435",
   "metadata": {
    "editable": true
   },
   "source": [
    "## Using the Hadamard gate\n",
    "The Hadamard\n",
    "gate on a single qubit creates an equal superposition of its basis\n",
    "states, assuming it is not already in a superposition, such that"
   ]
  },
  {
   "cell_type": "markdown",
   "id": "d46fc900",
   "metadata": {
    "editable": true
   },
   "source": [
    "$$\n",
    "H\\vert 0 \\rangle = \\frac{1}{\\sqrt{2}} \\left(\\vert 0 \\rangle + \\vert 1\\rangle\\right), \\quad H\\vert 1\\rangle = \\frac{1}{\\sqrt{2}} \\left(\\vert 0 \\rangle - \\vert 1\\rangle\\right)\n",
    "$$"
   ]
  },
  {
   "cell_type": "markdown",
   "id": "611d8a89",
   "metadata": {
    "editable": true
   },
   "source": [
    "The $R_k$ gate simply adds a phase if the qubit it acts on is in the state $\\vert 1\\rangle$"
   ]
  },
  {
   "cell_type": "markdown",
   "id": "42c974e6",
   "metadata": {
    "editable": true
   },
   "source": [
    "$$\n",
    "R_k\\vert 0 \\rangle = \\vert 0 \\rangle, \\quad R_k\\vert 1\\rangle = e^{2\\pi i/2^{k}}\\vert 1\\rangle\n",
    "$$"
   ]
  },
  {
   "cell_type": "markdown",
   "id": "682b6ae9",
   "metadata": {
    "editable": true
   },
   "source": [
    "Since all this gates are unitary, the quantum Fourier transfrom is also unitary."
   ]
  },
  {
   "cell_type": "markdown",
   "id": "6eea88d3",
   "metadata": {
    "editable": true
   },
   "source": [
    "## Algorithm\n",
    "\n",
    "Assume we have a quantum register of $n$ qubits in the state $\\vert j_1 j_2 \\dots j_n\\rangle$.\n",
    "Applying the Hadamard gate to the first qubit\n",
    "produces the state"
   ]
  },
  {
   "cell_type": "markdown",
   "id": "cadc13cf",
   "metadata": {
    "editable": true
   },
   "source": [
    "$$\n",
    "H\\vert j_1 j_2 \\dots j_n\\rangle = \\frac{\\left(\\vert 0 \\rangle + e^{2\\pi i 0.j_1}\\vert 1\\rangle\\right)}{2^{1/2}} \\vert j_2 \\dots j_n\\rangle.\n",
    "$$"
   ]
  },
  {
   "cell_type": "markdown",
   "id": "125648f3",
   "metadata": {
    "editable": true
   },
   "source": [
    "## Binary fraction\n",
    "\n",
    "Here we have made use of the binary fraction to represent the action of the Hadamard gate"
   ]
  },
  {
   "cell_type": "markdown",
   "id": "9f70a31c",
   "metadata": {
    "editable": true
   },
   "source": [
    "$$\n",
    "\\exp{2\\pi i 0.j_1} = -1,\n",
    "$$"
   ]
  },
  {
   "cell_type": "markdown",
   "id": "4fbbd273",
   "metadata": {
    "editable": true
   },
   "source": [
    "if $j_1 = 1$ and $+1$ if $j_1 = 0$."
   ]
  },
  {
   "cell_type": "markdown",
   "id": "58d80550",
   "metadata": {
    "editable": true
   },
   "source": [
    "## Controlled rotation gate\n",
    "\n",
    "Furthermore we can apply the controlled-$R_k$ gate, with all the other qubits $j_k$ for $k>1$ as control qubits to produce the state"
   ]
  },
  {
   "cell_type": "markdown",
   "id": "a8d7ea0f",
   "metadata": {
    "editable": true
   },
   "source": [
    "$$\n",
    "\\frac{\\left(\\vert 0 \\rangle + e^{2\\pi i 0.j_1j_2\\dots j_n}\\vert 1\\rangle\\right)}{2^{1/2}} \\vert j_2 \\dots j_n\\rangle\n",
    "$$"
   ]
  },
  {
   "cell_type": "markdown",
   "id": "128d47a9",
   "metadata": {
    "editable": true
   },
   "source": [
    "Next we do the same procedure on qubit $2$ producing the state"
   ]
  },
  {
   "cell_type": "markdown",
   "id": "ea4a8072",
   "metadata": {
    "editable": true
   },
   "source": [
    "$$\n",
    "\\frac{\\left(\\vert 0 \\rangle + e^{2\\pi i 0.j_1j_2\\dots j_n}\\vert 1\\rangle\\right)\\left(\\vert 0 \\rangle + e^{2\\pi i 0.j_2\\dots j_n}\\vert 1\\rangle\\right)}{2^{2/2}} \\vert j_2 \\dots j_n\\rangle\n",
    "$$"
   ]
  },
  {
   "cell_type": "markdown",
   "id": "37b19d22",
   "metadata": {
    "editable": true
   },
   "source": [
    "## Applying to all qubits\n",
    "\n",
    "Doing this for all $n$ qubits yields state"
   ]
  },
  {
   "cell_type": "markdown",
   "id": "99d07f97",
   "metadata": {
    "editable": true
   },
   "source": [
    "$$\n",
    "\\frac{\\left(\\vert 0 \\rangle + e^{2\\pi i 0.j_1j_2\\dots j_n}\\vert 1\\rangle\\right)\\left(\\vert 0 \\rangle + e^{2\\pi i 0.j_2\\dots j_n}\\vert 1\\rangle\\right)\\dots \\left(\\vert 0 \\rangle + e^{2\\pi i 0.j_n}\\vert 1\\rangle\\right)}{2^{n/2}} \\vert j_2 \\dots j_n\\rangle\n",
    "$$"
   ]
  },
  {
   "cell_type": "markdown",
   "id": "0ca2c4c2",
   "metadata": {
    "editable": true
   },
   "source": [
    "At the end we use swap gates to reverse the order of the qubits"
   ]
  },
  {
   "cell_type": "markdown",
   "id": "6cd98aaa",
   "metadata": {
    "editable": true
   },
   "source": [
    "$$\n",
    "\\frac{\\left(\\vert 0 \\rangle + e^{2\\pi i 0.j_n}\\vert 1\\rangle\\right)\\left(\\vert 0 \\rangle + e^{2\\pi i 0.j_{n-1}j_n}\\vert 1\\rangle\\right)\\dots\\left(\\vert 0 \\rangle + e^{2\\pi i 0.j_1j_2\\dots j_n}\\vert 1\\rangle\\right) }{2^{n/2}} \\vert j_2 \\dots j_n\\rangle\n",
    "$$"
   ]
  },
  {
   "cell_type": "markdown",
   "id": "fc4f03d2",
   "metadata": {
    "editable": true
   },
   "source": [
    "This is just the product representation from earlier, obviously our desired output."
   ]
  },
  {
   "cell_type": "markdown",
   "id": "5c37859c",
   "metadata": {
    "editable": true
   },
   "source": [
    "## Quantum Fourier transform\n",
    "\n",
    "Now lets turn to the Quantum Fourier transform (QFT). We've already\n",
    "seen the QFT for $N=2$. It is the Hadamard transform:"
   ]
  },
  {
   "cell_type": "markdown",
   "id": "a7a323e7",
   "metadata": {
    "editable": true
   },
   "source": [
    "$$\n",
    "H=\\frac{1}{\\sqrt{2}}\\left[\\begin{array}{cc}\n",
    "1 & 1  \\\\\n",
    "1 & -1\n",
    "\\end{array}\\right]\n",
    "$$"
   ]
  },
  {
   "cell_type": "markdown",
   "id": "691a172e",
   "metadata": {
    "editable": true
   },
   "source": [
    "## QFT for $N=2$\n",
    "\n",
    "Why is this the QFT for $N=2$ ? Well suppose have the single qubit\n",
    "state $a_{0}|0\\rangle+a_{1}|1\\rangle$. If we apply the Hadamard\n",
    "operation to this state we obtain the new state"
   ]
  },
  {
   "cell_type": "markdown",
   "id": "94fa4aae",
   "metadata": {
    "editable": true
   },
   "source": [
    "$$\n",
    "\\frac{1}{\\sqrt{2}}\\left(a_{0}+a_{1}\\right)|0\\rangle+\\frac{1}{\\sqrt{2}}\\left(a_{0}-a_{1}\\right)|1\\rangle=\\tilde{a}_{0}|0\\rangle+\\tilde{a}_{1}|1\\rangle .\n",
    "$$"
   ]
  },
  {
   "cell_type": "markdown",
   "id": "3bf00158",
   "metadata": {
    "editable": true
   },
   "source": [
    "In other words the Hadamard gate performs the DFT for $N=2$ on the\n",
    "amplitudes of the state! Notice that this is very different that\n",
    "computing the DFT for $N=2$ : remember the amplitudes are not numbers\n",
    "which are accessible to us mere mortals, they just represent our\n",
    "description of the quantum system."
   ]
  },
  {
   "cell_type": "markdown",
   "id": "89a4a68a",
   "metadata": {
    "editable": true
   },
   "source": [
    "## Full QFT\n",
    "\n",
    "So what is the full quantum Fourier transform? It is the transform\n",
    "which takes the amplitudes of a $N$ dimensional state and computes the\n",
    "Fourier transform on these amplitudes (which are then the new\n",
    "amplitudes in the computational basis.) In other words, the QFT enacts\n",
    "the transform"
   ]
  },
  {
   "cell_type": "markdown",
   "id": "6f8c7031",
   "metadata": {
    "editable": true
   },
   "source": [
    "$$\n",
    "\\sum_{x=0}^{N-1} a_{x}|x\\rangle \\rightarrow \\sum_{x=0}^{N-1} \\tilde{a}_{x}|x\\rangle=\\sum_{x=0}^{N-1} \\frac{1}{\\sqrt{N}} \\sum_{y=0}^{N-1} \\omega_{N}^{-x y} a_{y}|x\\rangle\n",
    "$$"
   ]
  },
  {
   "cell_type": "markdown",
   "id": "957cbddd",
   "metadata": {
    "editable": true
   },
   "source": [
    "## Explicit transform\n",
    "It is easy to see that this implies that the QFT performs the following transform on basis states:"
   ]
  },
  {
   "cell_type": "markdown",
   "id": "81986f09",
   "metadata": {
    "editable": true
   },
   "source": [
    "$$\n",
    "|x\\rangle \\rightarrow \\frac{1}{\\sqrt{N}} \\sum_{y=0}^{N-1} \\omega_{N}^{-x y}|y\\rangle\n",
    "$$"
   ]
  },
  {
   "cell_type": "markdown",
   "id": "9c52befc",
   "metadata": {
    "editable": true
   },
   "source": [
    "Thus the QFT is given by the matrix"
   ]
  },
  {
   "cell_type": "markdown",
   "id": "a2d99df6",
   "metadata": {
    "editable": true
   },
   "source": [
    "$$\n",
    "U_{Q F T}=\\frac{1}{\\sqrt{N}} \\sum_{x=0}^{N-1} \\sum_{y=0}^{N-1} \\omega_{N}^{-y x}|y\\rangle\\langle x|\n",
    "$$"
   ]
  },
  {
   "cell_type": "markdown",
   "id": "651afdf1",
   "metadata": {
    "editable": true
   },
   "source": [
    "## Unitarity\n",
    "The last  matrix is unitary. Let's check this:"
   ]
  },
  {
   "cell_type": "markdown",
   "id": "6badb884",
   "metadata": {
    "editable": true
   },
   "source": [
    "$$\n",
    "\\begin{align*}\n",
    "U_{Q F T} U_{Q F T}^{\\dagger} & =\\frac{1}{N} \\sum_{x=0}^{N-1} \\sum_{y=0}^{N-1} \\omega_{N}^{y x}|x\\rangle\\left\\langle y\\left|\\sum_{x^{\\prime}=0}^{N-1} \\sum_{y^{\\prime}=0}^{N-1} \\omega_{N}^{-y^{\\prime} x^{\\prime}}\\right| y^{\\prime}\\right\\rangle\\left\\langle x^{\\prime}\\right| \\\\\n",
    "& =\\frac{1}{N} \\sum_{x, y, x^{\\prime}, y^{\\prime}=0}^{N-1} \\omega_{N}^{y x-y^{\\prime} x^{\\prime}} \\delta_{y, y^{\\prime}}|x\\rangle\\left\\langle x^{\\prime}\\left|=\\frac{1}{N} \\sum_{x, y, x^{\\prime}=0}^{N-1} \\omega_{N}^{y\\left(x-x^{\\prime}\\right)}\\right| x\\right\\rangle\\left\\langle x^{\\prime}\\right| \\\\\n",
    "& =\\sum_{x, x^{\\prime}=0}^{N-1} \\delta_{x, x^{\\prime}}|x\\rangle\\left\\langle x^{\\prime}\\right|=I \n",
    "\\end{align*}\n",
    "$$"
   ]
  },
  {
   "cell_type": "markdown",
   "id": "916fed7b",
   "metadata": {
    "editable": true
   },
   "source": [
    "## Importance of QFT\n",
    "\n",
    "The QFT is a very important transform in quantum computing. It can be\n",
    "used for all sorts of cool tasks, including, as we shall see in Shor's\n",
    "algorithm. But before we can use it for quantum computing tasks, we\n",
    "should try to see if we can efficiently implement the QFT with a\n",
    "quantum circuit. Indeed we can and the reason we can is intimately\n",
    "related to the fast Fourier transform."
   ]
  },
  {
   "cell_type": "markdown",
   "id": "00a74c10",
   "metadata": {
    "editable": true
   },
   "source": [
    "## Circuit QFT\n",
    "\n",
    "Let's derive a circuit for the QFT when $N=2^{n}$. The QFT performs the transform"
   ]
  },
  {
   "cell_type": "markdown",
   "id": "04b93fd2",
   "metadata": {
    "editable": true
   },
   "source": [
    "$$\n",
    "|x\\rangle \\rightarrow \\frac{1}{\\sqrt{2^{n}}} \\sum_{y=0}^{2^{n}-1} \\omega_{N}^{-x y}|y\\rangle\n",
    "$$"
   ]
  },
  {
   "cell_type": "markdown",
   "id": "1dc009b1",
   "metadata": {
    "editable": true
   },
   "source": [
    "Then we can expand out this sum"
   ]
  },
  {
   "cell_type": "markdown",
   "id": "8640b0b1",
   "metadata": {
    "editable": true
   },
   "source": [
    "$$\n",
    "|x\\rangle \\rightarrow \\frac{1}{\\sqrt{2^{n}}} \\sum_{y_{1}, y_{2}, \\ldots, y_{n} \\in\\{0,1\\}} \\omega_{N}^{-x \\sum_{k=1}^{n} 2^{n-k} y_{k}}\\left|y_{1}, y_{2}, \\ldots, y_{n}\\right\\rangle\n",
    "$$"
   ]
  },
  {
   "cell_type": "markdown",
   "id": "127881d3",
   "metadata": {
    "editable": true
   },
   "source": [
    "## Expanding the exponential\n",
    "\n",
    "Expanding the exponential of a sum to a product of exponentials and\n",
    "collecting these terms in from the appropriate terms we can express\n",
    "this as"
   ]
  },
  {
   "cell_type": "markdown",
   "id": "993bf781",
   "metadata": {
    "editable": true
   },
   "source": [
    "$$\n",
    "|x\\rangle \\rightarrow \\frac{1}{\\sqrt{2^{n}}} \\sum_{y_{1}, y_{2}, \\ldots, y_{n} \\in\\{0,1\\}} \\bigotimes_{k=1}^{n} \\omega_{N}^{-x 2^{n-k} y_{k}}\\left|y_{k}\\right\\rangle\n",
    "$$"
   ]
  },
  {
   "cell_type": "markdown",
   "id": "89295a07",
   "metadata": {
    "editable": true
   },
   "source": [
    "## Rearranging\n",
    "\n",
    "We can rearrange the sum and products as"
   ]
  },
  {
   "cell_type": "markdown",
   "id": "ec439869",
   "metadata": {
    "editable": true
   },
   "source": [
    "$$\n",
    "|x\\rangle \\rightarrow \\frac{1}{\\sqrt{2^{n}}} \\bigotimes_{k=1}^{n}\\left[\\sum_{y_{k} \\in\\{0,1\\}} \\omega_{N}^{-x 2^{n-k} y_{k}}\\left|y_{k}\\right\\rangle\\right]\n",
    "$$"
   ]
  },
  {
   "cell_type": "markdown",
   "id": "93e6b48d",
   "metadata": {
    "editable": true
   },
   "source": [
    "Expanding this sum yields"
   ]
  },
  {
   "cell_type": "markdown",
   "id": "a1995056",
   "metadata": {
    "editable": true
   },
   "source": [
    "$$\n",
    "|x\\rangle \\rightarrow \\frac{1}{\\sqrt{2^{n}}} \\bigotimes_{k=1}^{n}\\left[|0\\rangle+\\omega_{N}^{-x 2^{n-k}}|1\\rangle\\right]\n",
    "$$"
   ]
  },
  {
   "cell_type": "markdown",
   "id": "d7adeb75",
   "metadata": {
    "editable": true
   },
   "source": [
    "## Notation for binary fraction\n",
    "\n",
    "But now notice that $\\omega_{N}^{-x 2^{n-k}}$ is not dependent on the\n",
    "higer order bits of $x$. It is convenient to adopt the following\n",
    "expression for a binary fraction:"
   ]
  },
  {
   "cell_type": "markdown",
   "id": "2e597db3",
   "metadata": {
    "editable": true
   },
   "source": [
    "$$\n",
    "0 . x_{l} x_{l+1} \\ldots x_{n}=\\frac{x_{l}}{2}+\\frac{x_{l+1}}{4}+\\cdots+\\frac{x_{n}}{2^{n-l+1}}\n",
    "$$"
   ]
  },
  {
   "cell_type": "markdown",
   "id": "3ba4de86",
   "metadata": {
    "editable": true
   },
   "source": [
    "## More notations\n",
    "Then we can see that"
   ]
  },
  {
   "cell_type": "markdown",
   "id": "b9b00637",
   "metadata": {
    "editable": true
   },
   "source": [
    "$$\n",
    "|x\\rangle \\rightarrow \\frac{1}{\\sqrt{2^{n}}}\\left[|0\\rangle+e^{-2 \\pi i 0 . x_{n}}|1\\rangle\\right] \\otimes\\left[|0\\rangle+e^{-2 \\pi i 0 . x_{n-1} x_{n}}|1\\rangle\\right] \\otimes \\cdots \\otimes\\left[|0\\rangle+e^{-2 \\pi i 0 . x_{1} x_{2} \\cdots x_{n}}|1\\rangle\\right]\n",
    "$$"
   ]
  },
  {
   "cell_type": "markdown",
   "id": "47604f90",
   "metadata": {
    "editable": true
   },
   "source": [
    "This is a very useful form of the QFT for $N=2^{n}$. Why? Because we\n",
    "see that only the last qubit depends on the the values of all the\n",
    "other input qubits and each further bit depends less and less on the\n",
    "input qubits. Further we note that $e^{-2 \\pi i 0 . a}$ is either +1\n",
    "or -1 , which reminds us of the Hadamard transform."
   ]
  },
  {
   "cell_type": "markdown",
   "id": "c24b60f8",
   "metadata": {
    "editable": true
   },
   "source": [
    "## Deriving a circuit\n",
    "\n",
    "So how do we use this to derive a circuit for the QFT over $N=2^{n}$ ?\n",
    "\n",
    "Take the first qubit of $\\left|x_{1}, \\ldots, x_{n}\\right\\rangle$ and\n",
    "apply a Hadamard transform. This produces the transform"
   ]
  },
  {
   "cell_type": "markdown",
   "id": "3210f7e1",
   "metadata": {
    "editable": true
   },
   "source": [
    "$$\n",
    "|x\\rangle \\rightarrow \\frac{1}{\\sqrt{2}}\\left[|0\\rangle+e^{-2 \\pi i 0 \\cdot x_{1}}|1\\rangle\\right] \\otimes\\left|x_{2}, x_{3}, \\ldots, x_{n}\\right\\rangle\n",
    "$$"
   ]
  },
  {
   "cell_type": "markdown",
   "id": "2e140e35",
   "metadata": {
    "editable": true
   },
   "source": [
    "## Rotation gate\n",
    "Now define the rotation gate"
   ]
  },
  {
   "cell_type": "markdown",
   "id": "7c184231",
   "metadata": {
    "editable": true
   },
   "source": [
    "$$\n",
    "R_{k}=\\left[\\begin{array}{cc}\n",
    "1 & 0  \\tag{30}\\\\\n",
    "0 & \\exp \\left(\\frac{-2 \\pi i}{2^{k}}\\right)\n",
    "\\end{array}\\right]\n",
    "$$"
   ]
  },
  {
   "cell_type": "markdown",
   "id": "04b7665a",
   "metadata": {
    "editable": true
   },
   "source": [
    "If we now apply controlled $R_{2}, R_{3}$, etc. gates controlled on\n",
    "the appropriate bits this enacts the transform"
   ]
  },
  {
   "cell_type": "markdown",
   "id": "db6a9f9f",
   "metadata": {
    "editable": true
   },
   "source": [
    "$$\n",
    "|x\\rangle \\rightarrow \\frac{1}{\\sqrt{2}}\\left[|0\\rangle+e^{-2 \\pi i 0 . x_{1} x_{2} \\ldots x_{n}}|1\\rangle\\right] \\otimes\\left|x_{2}, x_{3}, \\ldots, x_{n}\\right\\rangle\n",
    "$$"
   ]
  },
  {
   "cell_type": "markdown",
   "id": "f3395a12",
   "metadata": {
    "editable": true
   },
   "source": [
    "## Proceeding\n",
    "\n",
    "Thus we have reproduced the last term in the QFTed state. Of course\n",
    "now we can proceed to the second qubit, perform a Hadamard, and the\n",
    "appropriate controlled $R_{k}$ gates and get the second to last\n",
    "qubit. Thus when we are finished we will have the transform"
   ]
  },
  {
   "cell_type": "markdown",
   "id": "41ea10ea",
   "metadata": {
    "editable": true
   },
   "source": [
    "$$\n",
    "|x\\rangle \\rightarrow \\frac{1}{\\sqrt{2^{n}}}\\left[|0\\rangle+e^{-2 \\pi i 0 . x_{1} x_{2} \\cdots x_{n}}|1\\rangle\\right] \\otimes\\left[|0\\rangle+e^{-2 \\pi i 0 . x_{1} x_{2} \\cdots x_{n-1}}|1\\rangle\\right] \\otimes \\cdots \\otimes\\left[|0\\rangle+e^{-2 \\pi i 0 . x_{n}}|1\\rangle\\right]\n",
    "$$"
   ]
  },
  {
   "cell_type": "markdown",
   "id": "4fe84360",
   "metadata": {
    "editable": true
   },
   "source": [
    "Reversing the order of these qubits will then produce the QFT!\n",
    "\n",
    "<!-- The circuit we have constructed on $n$ qubits is -->\n",
    "\n",
    "<!-- \\includegraphics[max width=\\textwidth]{2024_03_18_c1d427fa6b85efa365f1g-5} -->"
   ]
  },
  {
   "cell_type": "markdown",
   "id": "28bb000c",
   "metadata": {
    "editable": true
   },
   "source": [
    "## Plans for the week of April 1-5\n",
    "\n",
    "1. Finalize our discussion of QFTs\n",
    "\n",
    "2. Set up calculations of QFTs\n",
    "\n",
    "3. Implementing the phase estimation algorithm for finding eigenvalues"
   ]
  }
 ],
 "metadata": {},
 "nbformat": 4,
 "nbformat_minor": 5
}
