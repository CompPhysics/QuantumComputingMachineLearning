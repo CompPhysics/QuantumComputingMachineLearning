{
 "cells": [
  {
   "cell_type": "markdown",
   "id": "9f1d77b4",
   "metadata": {
    "editable": true
   },
   "source": [
    "<!-- HTML file automatically generated from DocOnce source (https://github.com/doconce/doconce/)\n",
    "doconce format html week10.do.txt --no_mako -->\n",
    "<!-- dom:TITLE: March 18-22, 2024: Quantum Computing, Quantum Machine Learning and Quantum Information Theories -->"
   ]
  },
  {
   "cell_type": "markdown",
   "id": "ca987dc7",
   "metadata": {
    "editable": true
   },
   "source": [
    "# March 18-22, 2024: Quantum Computing, Quantum Machine Learning and Quantum Information Theories\n",
    "**Morten Hjorth-Jensen**, Department of Physics, University of Oslo and Department of Physics and Astronomy and Facility for Rare Isotope Beams, Michigan State University\n",
    "\n",
    "Date: **Week of March 18-22**"
   ]
  },
  {
   "cell_type": "markdown",
   "id": "263b8e0b",
   "metadata": {
    "editable": true
   },
   "source": [
    "## Plans for the week of March 18-22, 2024\n",
    "\n",
    "1. Discussion of project 1 and possible paths for project 2\n",
    "\n",
    "2. Start discussion of Quantum Fourier transforms \n",
    "\n",
    "3. Reading recommendation Hundt, Quantum Computing for Programmers, sections 6.1-6.4 on QFT. See also\n",
    "\n",
    "<!-- to do: add material about continuous Fourier transform from standard course in math physics -->\n",
    "<!-- Then introduce the discrete Fourier tramsform, the FFT and finally the quantum equivalent -->"
   ]
  },
  {
   "cell_type": "markdown",
   "id": "cb11e74c",
   "metadata": {
    "editable": true
   },
   "source": [
    "## Overarching motivation\n",
    "\n",
    "After Simon's algorithm, the next big breakthrough in quantum\n",
    "algorithms occurred when Peter Shor discovered his algorithm for\n",
    "efficiently factoring numbers. This algorithm makes use of the quantum\n",
    "Fourier transform which is the topic of this sets of lectures.\n",
    "\n",
    "We will start with discrete Fourier transforms (DFT).  There are many\n",
    "motivations for the DFT. For those of you familiar with signal\n",
    "processing, harmonic oscillations, and many other areas of\n",
    "applications, Fourier transforms are almost standard kitchen\n",
    "items. For those of you who have studied quantum theory, you have\n",
    "probably met Fourier transforms when studying Heisenberg's uncertainty\n",
    "relation between momentum and position."
   ]
  },
  {
   "cell_type": "markdown",
   "id": "dc1da8d9",
   "metadata": {
    "editable": true
   },
   "source": [
    "## Continuous Fourier transforms and the principle of Superposition\n",
    "\n",
    "For problems with so-called harmonic oscillations, given by for example the following differential equation"
   ]
  },
  {
   "cell_type": "markdown",
   "id": "ca3fa668",
   "metadata": {
    "editable": true
   },
   "source": [
    "$$\n",
    "m\\frac{d^2x}{dt^2}+\\eta\\frac{dx}{dt}+x(t)=F(t),\n",
    "$$"
   ]
  },
  {
   "cell_type": "markdown",
   "id": "0e0252b8",
   "metadata": {
    "editable": true
   },
   "source": [
    "where $F(t)$ is an applied external force acting on the system (often\n",
    "called a driving force), one can use the theory of Fourier\n",
    "transformations to find the solutions of this type of equations."
   ]
  },
  {
   "cell_type": "markdown",
   "id": "befae4e0",
   "metadata": {
    "editable": true
   },
   "source": [
    "## Quantum Fourier Transform\n",
    "\n",
    "We turn now our attention to the quantum mechanical analogue of the discrete Fourier transform.\n",
    "Again, we will express the final mathemtical operations interms of specific linear and invertible operations.\n",
    "Furthermore, the quantum version  of the \n",
    "discrete Fourier transform requires only $O(n\\log{n})$ gates\n",
    "to be implemented, and is a part of many important quantum algorithms\n",
    "such as the phase estimation algorithm and Shor's algorithm.\n",
    "\n",
    "A useful way to solve problems in many fields of science, especially\n",
    "in physics and mathematics, is to transform it into some other (often\n",
    "simpler) problem for which a solution is known. The discrete fourier\n",
    "transform, which involves such a transformation, is one of a few known\n",
    "algorithms that can be computed much faster on a quantum computer than\n",
    "on a classical."
   ]
  },
  {
   "cell_type": "markdown",
   "id": "a88b1731",
   "metadata": {
    "editable": true
   },
   "source": [
    "## Fourier transform\n",
    "\n",
    "Assume a periodic function $f(x)$ in an interval\n",
    "$[ -\\frac{L}{2}, \\frac{L}{2} ]$. The Fourier series in exponential form can be written\n",
    "as"
   ]
  },
  {
   "cell_type": "markdown",
   "id": "8914ba20",
   "metadata": {
    "editable": true
   },
   "source": [
    "$$\n",
    "f(x) = \\sum_{-\\infty}^{\\infty} A_n \\exp{i(2\\pi nx/L)},\n",
    "$$"
   ]
  },
  {
   "cell_type": "markdown",
   "id": "3aa0fcc6",
   "metadata": {
    "editable": true
   },
   "source": [
    "where"
   ]
  },
  {
   "cell_type": "markdown",
   "id": "017251eb",
   "metadata": {
    "editable": true
   },
   "source": [
    "$$\n",
    "A_n = \\frac{1}{L} \\int_{-L/2}^{L/2} f(x)\\exp{-i(2\\pi nx/L)} dx.\n",
    "$$"
   ]
  },
  {
   "cell_type": "markdown",
   "id": "fa5f513b",
   "metadata": {
    "editable": true
   },
   "source": [
    "## Several driving forces\n",
    "If one has several driving forces, $F(t)=\\sum_n F_n(t)$, one can find\n",
    "the particular solution $x_{pn}(t)$ to the above differential equation for each $F_n$. The particular\n",
    "solution for the entire driving force is then given by a series like"
   ]
  },
  {
   "cell_type": "markdown",
   "id": "a2d62b21",
   "metadata": {
    "editable": true
   },
   "source": [
    "$$\n",
    "x_p(t)=\\sum_nx_{pn}(t).\n",
    "$$"
   ]
  },
  {
   "cell_type": "markdown",
   "id": "2441981a",
   "metadata": {
    "editable": true
   },
   "source": [
    "This is known as the principle of superposition. It only applies when\n",
    "the homogenous equation is linear. \n",
    "Superposition is especially useful when $F(t)$ can be written\n",
    "as a sum of sinusoidal terms, because the solutions for each\n",
    "sinusoidal (sine or cosine)  term is analytic."
   ]
  },
  {
   "cell_type": "markdown",
   "id": "e4097ec9",
   "metadata": {
    "editable": true
   },
   "source": [
    "## Periodicity\n",
    "\n",
    "Driving forces are often periodic, even when they are not\n",
    "sinusoidal. Periodicity implies that for some time $t$ our function repeats itself periodically after a period $\\tau$, that is"
   ]
  },
  {
   "cell_type": "markdown",
   "id": "93e7df70",
   "metadata": {
    "editable": true
   },
   "source": [
    "$$\n",
    "F(t+\\tau)=F(t).\n",
    "$$"
   ]
  },
  {
   "cell_type": "markdown",
   "id": "d73a2eb2",
   "metadata": {
    "editable": true
   },
   "source": [
    "One example of a non-sinusoidal periodic force is a square wave. Many\n",
    "components in electric circuits are non-linear, for example diodes. This \n",
    "makes many wave forms non-sinusoidal even when the circuits are being\n",
    "driven by purely sinusoidal sources."
   ]
  },
  {
   "cell_type": "markdown",
   "id": "4487c742",
   "metadata": {
    "editable": true
   },
   "source": [
    "## Simple Code Example\n",
    "\n",
    "The code here shows a typical example of such a square wave generated\n",
    "using the functionality included in the **scipy** Python package. We\n",
    "have used a period of $\\tau=0.2$."
   ]
  },
  {
   "cell_type": "code",
   "execution_count": 1,
   "id": "5036ad07",
   "metadata": {
    "collapsed": false,
    "editable": true
   },
   "outputs": [],
   "source": [
    "%matplotlib inline\n",
    "\n",
    "import numpy as np\n",
    "import math\n",
    "from scipy import signal\n",
    "import matplotlib.pyplot as plt\n",
    "\n",
    "# number of points                                                                                       \n",
    "n = 500\n",
    "# start and final times                                                                                  \n",
    "t0 = 0.0\n",
    "tn = 1.0\n",
    "# Period                                                                                                 \n",
    "t = np.linspace(t0, tn, n, endpoint=False)\n",
    "SqrSignal = np.zeros(n)\n",
    "SqrSignal = 1.0+signal.square(2*np.pi*5*t)\n",
    "plt.plot(t, SqrSignal)\n",
    "plt.ylim(-0.5, 2.5)\n",
    "plt.show()"
   ]
  },
  {
   "cell_type": "markdown",
   "id": "ca444f91",
   "metadata": {
    "editable": true
   },
   "source": [
    "## Sinusoidal example\n",
    "For the sinusoidal example the\n",
    "period is $\\tau=2\\pi/\\omega$. However, higher harmonics can also\n",
    "satisfy the periodicity requirement. In general, any force that\n",
    "satisfies the periodicity requirement can be expressed as a sum over\n",
    "harmonics,"
   ]
  },
  {
   "cell_type": "markdown",
   "id": "e611c9a6",
   "metadata": {
    "editable": true
   },
   "source": [
    "$$\n",
    "F(t)=\\frac{f_0}{2}+\\sum_{n>0} f_n\\cos(2n\\pi t/\\tau)+g_n\\sin(2n\\pi t/\\tau).\n",
    "$$"
   ]
  },
  {
   "cell_type": "markdown",
   "id": "7092f741",
   "metadata": {
    "editable": true
   },
   "source": [
    "## Final words on Fourier Transforms\n",
    "\n",
    "The code here uses the Fourier series applied to a \n",
    "square wave signal. The code here\n",
    "visualizes the various approximations given by Fourier series compared\n",
    "with a square wave with period $T=0.2$ (dimensionless time), width $0.1$ and max value of the force $F=2$. We\n",
    "see that when we increase the number of components in the Fourier\n",
    "series, the Fourier series approximation gets closer and closer to the\n",
    "square wave signal."
   ]
  },
  {
   "cell_type": "code",
   "execution_count": 2,
   "id": "bbb8f8c3",
   "metadata": {
    "collapsed": false,
    "editable": true
   },
   "outputs": [],
   "source": [
    "import numpy as np\n",
    "import math\n",
    "from scipy import signal\n",
    "import matplotlib.pyplot as plt\n",
    "\n",
    "# number of points                                                                                       \n",
    "n = 500\n",
    "# start and final times                                                                                  \n",
    "t0 = 0.0\n",
    "tn = 1.0\n",
    "# Period                                                                                                 \n",
    "T =0.2\n",
    "# Max value of square signal                                                                             \n",
    "Fmax= 2.0\n",
    "# Width of signal   \n",
    "Width = 0.1\n",
    "t = np.linspace(t0, tn, n, endpoint=False)\n",
    "SqrSignal = np.zeros(n)\n",
    "FourierSeriesSignal = np.zeros(n)\n",
    "SqrSignal = 1.0+signal.square(2*np.pi*5*t+np.pi*Width/T)\n",
    "a0 = Fmax*Width/T\n",
    "FourierSeriesSignal = a0\n",
    "Factor = 2.0*Fmax/np.pi\n",
    "for i in range(1,500):\n",
    "    FourierSeriesSignal += Factor/(i)*np.sin(np.pi*i*Width/T)*np.cos(i*t*2*np.pi/T)\n",
    "plt.plot(t, SqrSignal)\n",
    "plt.plot(t, FourierSeriesSignal)\n",
    "plt.ylim(-0.5, 2.5)\n",
    "plt.show()"
   ]
  },
  {
   "cell_type": "markdown",
   "id": "cf112d7d",
   "metadata": {
    "editable": true
   },
   "source": [
    "### Fourier transforms and convolution\n",
    "\n",
    "We can use Fourier transforms in our studies of convolution as\n",
    "well. To see this, assume we have two functions $f$ and $g$ and their\n",
    "corresponding Fourier transforms $\\hat{f}$ and $\\hat{g}$. We remind\n",
    "the reader that the Fourier transform reads (say for the function $f$)"
   ]
  },
  {
   "cell_type": "markdown",
   "id": "7730fe68",
   "metadata": {
    "editable": true
   },
   "source": [
    "$$\n",
    "\\hat{f}(y)=\\boldsymbol{F}[f(y)]=\\frac{1}{2\\pi}\\int_{-\\infty}^{\\infty} d\\omega \\exp{-i\\omega y} f(\\omega),\n",
    "$$"
   ]
  },
  {
   "cell_type": "markdown",
   "id": "11366cb4",
   "metadata": {
    "editable": true
   },
   "source": [
    "and similarly we have"
   ]
  },
  {
   "cell_type": "markdown",
   "id": "01c97373",
   "metadata": {
    "editable": true
   },
   "source": [
    "$$\n",
    "\\hat{g}(y)=\\boldsymbol{F}[g(y)]=\\frac{1}{2\\pi}\\int_{-\\infty}^{\\infty} d\\omega \\exp{-i\\omega y} g(\\omega).\n",
    "$$"
   ]
  },
  {
   "cell_type": "markdown",
   "id": "6d8c57ee",
   "metadata": {
    "editable": true
   },
   "source": [
    "## Inverse Fourier transform\n",
    "\n",
    "The inverse Fourier transform is given by"
   ]
  },
  {
   "cell_type": "markdown",
   "id": "9071f39d",
   "metadata": {
    "editable": true
   },
   "source": [
    "$$\n",
    "\\boldsymbol{F}^{-1}[g(y)]=\\frac{1}{2\\pi}\\int_{-\\infty}^{\\infty} d\\omega \\exp{i\\omega y} g(\\omega).\n",
    "$$"
   ]
  },
  {
   "cell_type": "markdown",
   "id": "d8d2db07",
   "metadata": {
    "editable": true
   },
   "source": [
    "The inverse Fourier transform of the product of the two functions $\\hat{f}\\hat{g}$ can be written as"
   ]
  },
  {
   "cell_type": "markdown",
   "id": "045bdfd9",
   "metadata": {
    "editable": true
   },
   "source": [
    "$$\n",
    "\\boldsymbol{F}^{-1}[(\\hat{f}\\hat{g})(x)]=\\frac{1}{2\\pi}\\int_{-\\infty}^{\\infty} d\\omega \\exp{i\\omega x} \\hat{f}(\\omega)\\hat{g}(\\omega).\n",
    "$$"
   ]
  },
  {
   "cell_type": "markdown",
   "id": "cf3a82b6",
   "metadata": {
    "editable": true
   },
   "source": [
    "## Rewriting\n",
    "We can rewrite the latter as"
   ]
  },
  {
   "cell_type": "markdown",
   "id": "ca6b12a7",
   "metadata": {
    "editable": true
   },
   "source": [
    "$$\n",
    "\\boldsymbol{F}^{-1}[(\\hat{f}\\hat{g})(x)]=\\int_{-\\infty}^{\\infty} d\\omega \\exp{i\\omega x} \\hat{f}(\\omega)\\left[\\frac{1}{2\\pi}\\int_{-\\infty}^{\\infty}g(y)dy \\exp{-i\\omega y}\\right]=\\frac{1}{2\\pi}\\int_{-\\infty}^{\\infty}dy g(y)\\int_{-\\infty}^{\\infty} d\\omega \\hat{f}(\\omega) \\exp{i\\omega(x- y)},\n",
    "$$"
   ]
  },
  {
   "cell_type": "markdown",
   "id": "f0f0ac3a",
   "metadata": {
    "editable": true
   },
   "source": [
    "which is simply"
   ]
  },
  {
   "cell_type": "markdown",
   "id": "f10479d2",
   "metadata": {
    "editable": true
   },
   "source": [
    "$$\n",
    "\\boldsymbol{F}^{-1}[(\\hat{f}\\hat{g})(x)]=\\int_{-\\infty}^{\\infty}dy g(y)f(x-y)=(f*g)(x),\n",
    "$$"
   ]
  },
  {
   "cell_type": "markdown",
   "id": "e9ccdb42",
   "metadata": {
    "editable": true
   },
   "source": [
    "the convolution of the functions $f$ and $g$."
   ]
  },
  {
   "cell_type": "markdown",
   "id": "53c7f60a",
   "metadata": {
    "editable": true
   },
   "source": [
    "## Transforming to discrete variables\n",
    "\n",
    "In the fourier transform $A_n$ is transformed from a dicrete variable\n",
    "to a continous one as $L \\rightarrow \\inf$. We then replace $A_n$ with\n",
    "$f(k)dk$ and let $n/L \\rightarrow k$, and the sum is changed to an\n",
    "integral. This gives"
   ]
  },
  {
   "cell_type": "markdown",
   "id": "c1f6d32d",
   "metadata": {
    "editable": true
   },
   "source": [
    "$$\n",
    "f(x) = \\int_{-\\infty}^{\\infty}dkF(k) \\exp{i(2\\pi kx)}\n",
    "$$"
   ]
  },
  {
   "cell_type": "markdown",
   "id": "db61940d",
   "metadata": {
    "editable": true
   },
   "source": [
    "and"
   ]
  },
  {
   "cell_type": "markdown",
   "id": "9958dcc1",
   "metadata": {
    "editable": true
   },
   "source": [
    "$$\n",
    "F(k) = \\int_{-\\infty}^{\\infty}dxf(x) \\exp{-i(2\\pi kx)}\n",
    "$$"
   ]
  },
  {
   "cell_type": "markdown",
   "id": "f81ede1e",
   "metadata": {
    "editable": true
   },
   "source": [
    "One way to interpret the Fourier transform is then as a transformation from one basis to another."
   ]
  },
  {
   "cell_type": "markdown",
   "id": "0aa04057",
   "metadata": {
    "editable": true
   },
   "source": [
    "## Discrete Fourier transform\n",
    "\n",
    "Next we make another generalization by having a discrete function,\n",
    "that is $f(x) \\rightarrow f(x_k)$ with $x_k = k\\Delta x$ for $k=0,\\dots, N-1$. This leads to the sums"
   ]
  },
  {
   "cell_type": "markdown",
   "id": "fd78e97c",
   "metadata": {
    "editable": true
   },
   "source": [
    "$$\n",
    "f_x = \\frac{1}{N} \\sum_{k=0}^{N-1}F_k e^{i(2\\pi kx)/N},\n",
    "$$"
   ]
  },
  {
   "cell_type": "markdown",
   "id": "d58b2220",
   "metadata": {
    "editable": true
   },
   "source": [
    "and"
   ]
  },
  {
   "cell_type": "markdown",
   "id": "376f8d64",
   "metadata": {
    "editable": true
   },
   "source": [
    "$$\n",
    "F_k = \\sum_{x=0}^{N-1}f_x e^{-i(2\\pi kx)/N}.\n",
    "$$"
   ]
  },
  {
   "cell_type": "markdown",
   "id": "16efac9f",
   "metadata": {
    "editable": true
   },
   "source": [
    "Although we have used functions here, this could also be a set of\n",
    "numbers."
   ]
  },
  {
   "cell_type": "markdown",
   "id": "0bd956c5",
   "metadata": {
    "editable": true
   },
   "source": [
    "## Simple example\n",
    "\n",
    "As an example we can have a set of complex numbers\n",
    "$\\{x_0,\\dots,x_{N-1}\\}$ with fixed length $N$, we can Fourier\n",
    "transform this as"
   ]
  },
  {
   "cell_type": "markdown",
   "id": "4c4f8a8f",
   "metadata": {
    "editable": true
   },
   "source": [
    "$$\n",
    "y_k = \\frac{1}{\\sqrt{N}} \\sum_{j=0}^{N-1} x_j \\exp{i(2\\pi jk)/N},\n",
    "$$"
   ]
  },
  {
   "cell_type": "markdown",
   "id": "f7f5dc83",
   "metadata": {
    "editable": true
   },
   "source": [
    "leading to a new set of complex numbers $\\{ y_0,\\dots,y_{N-1}\\}$."
   ]
  },
  {
   "cell_type": "markdown",
   "id": "e610f92c",
   "metadata": {
    "editable": true
   },
   "source": [
    "## Discrete Fourier Transformations\n",
    "\n",
    "Consider two sets of complex numbers $x_k$ and $y_k$ with\n",
    "$k=0,1,\\dots,n-1$ entries. The discrete Fourier transform is defined\n",
    "as"
   ]
  },
  {
   "cell_type": "markdown",
   "id": "3b9a18c1",
   "metadata": {
    "editable": true
   },
   "source": [
    "$$\n",
    "y_k = \\frac{1}{\\sqrt{n-1}} \\sum_{j=0}^{n-1} \\exp{(\\frac{2\\pi\\imath jk}{n})} x_j.\n",
    "$$"
   ]
  },
  {
   "cell_type": "markdown",
   "id": "af7f931b",
   "metadata": {
    "editable": true
   },
   "source": [
    "As an example, assume $x_0=1$ and $x_1=1$. We can then use the above expression to find $y_0$ and $y_1$.\n",
    "\n",
    "With the above formula we get then"
   ]
  },
  {
   "cell_type": "markdown",
   "id": "0d132f8e",
   "metadata": {
    "editable": true
   },
   "source": [
    "$$\n",
    "y_0 = \\frac{1}{\\sqrt{2}} \\left( \\exp{(\\frac{2\\pi\\imath 0\\times 1}{2})} \\times 1+\\exp{(\\frac{2\\pi\\imath 0\\times 1}{2})}\\times 2\\right)=\\frac{1}{\\sqrt{2}}(1+2)=\\frac{3}{\\sqrt{2}},\n",
    "$$"
   ]
  },
  {
   "cell_type": "markdown",
   "id": "5b0ea737",
   "metadata": {
    "editable": true
   },
   "source": [
    "and"
   ]
  },
  {
   "cell_type": "markdown",
   "id": "cef86fd2",
   "metadata": {
    "editable": true
   },
   "source": [
    "$$\n",
    "y_1 = \\frac{1}{\\sqrt{2}} \\left( \\exp{(\\frac{2\\pi\\imath 0\\times 1}{2})} \\times 1+\\exp{(\\frac{2\\pi\\imath 1\\times 1}{2})}\\times 2\\right)=\\frac{1}{\\sqrt{2}}(1+2\\exp{(\\pi\\imath)})=-\\frac{1}{\\sqrt{2}},\n",
    "$$"
   ]
  },
  {
   "cell_type": "markdown",
   "id": "fb174503",
   "metadata": {
    "editable": true
   },
   "source": [
    "We can rewrite this in terms of the following matrix-vector operation. More material to come here."
   ]
  },
  {
   "cell_type": "markdown",
   "id": "da9d8af2",
   "metadata": {
    "editable": true
   },
   "source": [
    "## Quantum Fourier transform\n",
    "\n",
    "We now turn to the quantum Fourier transform. It is the same\n",
    "transformation as described above, however we define it in terms of\n",
    "the unitary operation"
   ]
  },
  {
   "cell_type": "markdown",
   "id": "a86ea8a5",
   "metadata": {
    "editable": true
   },
   "source": [
    "$$\n",
    "\\vert \\psi'\\rangle \\leftarrow \\hat{F}\\vert \\psi\\rangle, \\quad \\hat{F}^\\dagger \\hat{F} = I\n",
    "$$"
   ]
  },
  {
   "cell_type": "markdown",
   "id": "2978e9de",
   "metadata": {
    "editable": true
   },
   "source": [
    "## Orthonormal basis\n",
    "\n",
    "In terms of an orthonormal basis $\\vert 0 \\rangle,\\vert 1\\rangle,\\dots,\\vert 0 \\rangle$ this linear operator has the following action"
   ]
  },
  {
   "cell_type": "markdown",
   "id": "9cbeae23",
   "metadata": {
    "editable": true
   },
   "source": [
    "$$\n",
    "\\vert j \\rangle \\rightarrow \\sum_{k=0}^{N-1} e^{i(2\\pi jk/N)}\\vert k\n",
    "$$"
   ]
  },
  {
   "cell_type": "markdown",
   "id": "a0c2ae71",
   "metadata": {
    "editable": true
   },
   "source": [
    "or on an arbitrary state"
   ]
  },
  {
   "cell_type": "markdown",
   "id": "5faced08",
   "metadata": {
    "editable": true
   },
   "source": [
    "$$\n",
    "\\sum_{j=0}^{N-1} x_j \\vert j \\rangle \\rightarrow \\sum_{k=0}^{N-1} y_k\\vert k \\rangle\n",
    "$$"
   ]
  },
  {
   "cell_type": "markdown",
   "id": "bb31110b",
   "metadata": {
    "editable": true
   },
   "source": [
    "equivalent to the equation for discrete Fourier transform on a set of complex numbers."
   ]
  },
  {
   "cell_type": "markdown",
   "id": "49c48abb",
   "metadata": {
    "editable": true
   },
   "source": [
    "## Using computational basis\n",
    "\n",
    "Next we assume an $n$-qubit system, where we take $N=s^n$ in the computational basis"
   ]
  },
  {
   "cell_type": "markdown",
   "id": "eb5f69b9",
   "metadata": {
    "editable": true
   },
   "source": [
    "$$\n",
    "\\vert 0 \\rangle,\\dots,\\vert 2^n -1\\rangle.\n",
    "$$"
   ]
  },
  {
   "cell_type": "markdown",
   "id": "77511ab1",
   "metadata": {
    "editable": true
   },
   "source": [
    "We make use of the binary representation $j = j_1 2^{n-1} + j_2\n",
    "2^{n-2} + \\dots + j_n 2^0$ , and take note of the notation $0.j_l\n",
    "j_{l+1} \\dots j_m$ representing the binary fraction $\\frac{j_l}{2^1} +\n",
    "\\frac{j_{l+1}}{2^{2}} + \\dots + \\frac{j_m}{2^{m-l+1}}$. With this we\n",
    "define the product representation of the quantum Fourier transform"
   ]
  },
  {
   "cell_type": "markdown",
   "id": "b4972975",
   "metadata": {
    "editable": true
   },
   "source": [
    "$$\n",
    "\\vert j_1,\\dots,j_n\\rangle  \\rightarrow \n",
    "\\frac{\n",
    "\\left(\\vert 0 \\rangle + \\exp{i(2\\pi 0.j_n)}\\right)\n",
    "\\left(\\vert 0 \\rangle + \\exp{i(2\\pi 0.j_{j-1}j_n)}\\right)\n",
    "\\dots\n",
    "\\left(\\vert 0 \\rangle + \\exp{i(2\\pi 0.j_1j_2\\dots j_n)}\\right)\n",
    "}{2^{n/2}}\n",
    "$$"
   ]
  },
  {
   "cell_type": "markdown",
   "id": "fda27536",
   "metadata": {
    "editable": true
   },
   "source": [
    "## Components\n",
    "\n",
    "From the product representation we can derive a circuit for the\n",
    "quantum Fourier transform. This will make use of the following two\n",
    "single-qubit gates"
   ]
  },
  {
   "cell_type": "markdown",
   "id": "c427d43c",
   "metadata": {
    "editable": true
   },
   "source": [
    "$$\n",
    "H = \\frac{1}{\\sqrt{2}}\n",
    "    \\begin{bmatrix}\n",
    "        1 & 1 \\\\\n",
    "        1 & -1\n",
    "    \\end{bmatrix}\n",
    "$$"
   ]
  },
  {
   "cell_type": "markdown",
   "id": "061c7b14",
   "metadata": {
    "editable": true
   },
   "source": [
    "$$\n",
    "R_k =\n",
    "    \\begin{bmatrix}\n",
    "        1 & 0 \\\\\n",
    "        0 & e^{2\\pi i/2^{k}}\n",
    "    \\end{bmatrix}\n",
    "$$"
   ]
  },
  {
   "cell_type": "markdown",
   "id": "4b42ef65",
   "metadata": {
    "editable": true
   },
   "source": [
    "## Using the Hadamard gate\n",
    "The Hadamard\n",
    "gate on a single qubit creates an equal superposition of its basis\n",
    "states, assuming it is not already in a superposition, such that"
   ]
  },
  {
   "cell_type": "markdown",
   "id": "20cdae2e",
   "metadata": {
    "editable": true
   },
   "source": [
    "$$\n",
    "H\\vert 0 \\rangle = \\frac{1}{\\sqrt{2}} \\left(\\vert 0 \\rangle + \\vert 1\\rangle\\right), \\quad H\\vert 1\\rangle = \\frac{1}{\\sqrt{2}} \\left(\\vert 0 \\rangle - \\vert 1\\rangle\\right)\n",
    "$$"
   ]
  },
  {
   "cell_type": "markdown",
   "id": "b91b92c7",
   "metadata": {
    "editable": true
   },
   "source": [
    "The $R_k$ gate simply adds a phase if the qubit it acts on is in the state $\\vert 1\\rangle$"
   ]
  },
  {
   "cell_type": "markdown",
   "id": "b61612ed",
   "metadata": {
    "editable": true
   },
   "source": [
    "$$\n",
    "R_k\\vert 0 \\rangle = \\vert 0 \\rangle, \\quad R_k\\vert 1\\rangle = e^{2\\pi i/2^{k}}\\vert 1\\rangle\n",
    "$$"
   ]
  },
  {
   "cell_type": "markdown",
   "id": "2641bf00",
   "metadata": {
    "editable": true
   },
   "source": [
    "Since all this gates are unitary, the quantum Fourier transfrom is also unitary."
   ]
  },
  {
   "cell_type": "markdown",
   "id": "fbaa570a",
   "metadata": {
    "editable": true
   },
   "source": [
    "## Algorithm\n",
    "\n",
    "Assume we have a quantum register of $n$ qubits in the state $\\vert j_1 j_2 \\dots j_n\\rangle$.\n",
    "Applying the Hadamard gate to the first qubit\n",
    "produces the state"
   ]
  },
  {
   "cell_type": "markdown",
   "id": "a3adb753",
   "metadata": {
    "editable": true
   },
   "source": [
    "$$\n",
    "H\\vert j_1 j_2 \\dots j_n\\rangle = \\frac{\\left(\\vert 0 \\rangle + e^{2\\pi i 0.j_1}\\vert 1\\rangle\\right)}{2^{1/2}} \\vert j_2 \\dots j_n\\rangle.\n",
    "$$"
   ]
  },
  {
   "cell_type": "markdown",
   "id": "d7701abb",
   "metadata": {
    "editable": true
   },
   "source": [
    "## Binary fraction\n",
    "\n",
    "Here we have made use of the binary fraction to represent the action of the Hadamard gate"
   ]
  },
  {
   "cell_type": "markdown",
   "id": "63a6be79",
   "metadata": {
    "editable": true
   },
   "source": [
    "$$\n",
    "\\exp{2\\pi i 0.j_1} = -1,\n",
    "$$"
   ]
  },
  {
   "cell_type": "markdown",
   "id": "2eb4dfcd",
   "metadata": {
    "editable": true
   },
   "source": [
    "if $j_1 = 1$ and $+1$ if $j_1 = 0$."
   ]
  },
  {
   "cell_type": "markdown",
   "id": "22d30933",
   "metadata": {
    "editable": true
   },
   "source": [
    "## Controllod rotation gate\n",
    "\n",
    "Furthermore we can apply the controlled-$R_k$ gate, with all the other qubits $j_k$ for $k>1$ as control qubits to produce the state"
   ]
  },
  {
   "cell_type": "markdown",
   "id": "97f30d72",
   "metadata": {
    "editable": true
   },
   "source": [
    "$$\n",
    "\\frac{\\left(\\vert 0 \\rangle + e^{2\\pi i 0.j_1j_2\\dots j_n}\\vert 1\\rangle\\right)}{2^{1/2}} \\vert j_2 \\dots j_n\\rangle\n",
    "$$"
   ]
  },
  {
   "cell_type": "markdown",
   "id": "2b884f0d",
   "metadata": {
    "editable": true
   },
   "source": [
    "Next we do the same procedure on qubit $2$ producing the state"
   ]
  },
  {
   "cell_type": "markdown",
   "id": "8cbe8736",
   "metadata": {
    "editable": true
   },
   "source": [
    "$$\n",
    "\\frac{\\left(\\vert 0 \\rangle + e^{2\\pi i 0.j_1j_2\\dots j_n}\\vert 1\\rangle\\right)\\left(\\vert 0 \\rangle + e^{2\\pi i 0.j_2\\dots j_n}\\vert 1\\rangle\\right)}{2^{2/2}} \\vert j_2 \\dots j_n\\rangle\n",
    "$$"
   ]
  },
  {
   "cell_type": "markdown",
   "id": "7afd9233",
   "metadata": {
    "editable": true
   },
   "source": [
    "## Applying to all qubits\n",
    "\n",
    "Doing this for all $n$ qubits yields state"
   ]
  },
  {
   "cell_type": "markdown",
   "id": "eb611303",
   "metadata": {
    "editable": true
   },
   "source": [
    "$$\n",
    "\\frac{\\left(\\vert 0 \\rangle + e^{2\\pi i 0.j_1j_2\\dots j_n}\\vert 1\\rangle\\right)\\left(\\vert 0 \\rangle + e^{2\\pi i 0.j_2\\dots j_n}\\vert 1\\rangle\\right)\\dots \\left(\\vert 0 \\rangle + e^{2\\pi i 0.j_n}\\vert 1\\rangle\\right)}{2^{n/2}} \\vert j_2 \\dots j_n\\rangle\n",
    "$$"
   ]
  },
  {
   "cell_type": "markdown",
   "id": "20de2b7c",
   "metadata": {
    "editable": true
   },
   "source": [
    "At the end we use swap gates to reverse the order of the qubits"
   ]
  },
  {
   "cell_type": "markdown",
   "id": "68d170c2",
   "metadata": {
    "editable": true
   },
   "source": [
    "$$\n",
    "\\frac{\\left(\\vert 0 \\rangle + e^{2\\pi i 0.j_n}\\vert 1\\rangle\\right)\\left(\\vert 0 \\rangle + e^{2\\pi i 0.j_{n-1}j_n}\\vert 1\\rangle\\right)\\dots\\left(\\vert 0 \\rangle + e^{2\\pi i 0.j_1j_2\\dots j_n}\\vert 1\\rangle\\right) }{2^{n/2}} \\vert j_2 \\dots j_n\\rangle\n",
    "$$"
   ]
  },
  {
   "cell_type": "markdown",
   "id": "17473015",
   "metadata": {
    "editable": true
   },
   "source": [
    "This is just the product representation from earlier, obviously our desired output."
   ]
  },
  {
   "cell_type": "markdown",
   "id": "7ef0a3c4",
   "metadata": {
    "editable": true
   },
   "source": [
    "## Code example"
   ]
  },
  {
   "cell_type": "markdown",
   "id": "5754953d",
   "metadata": {
    "editable": true
   },
   "source": [
    "## Discrete Fourier transforms\n",
    "\n",
    "Suppose that we have a vector $f$ of $N$ complex numbers, $f_{k}, k\n",
    "\\in\\{0,1, \\ldots, N-1\\}$. Then the discrete Fourier transform (DFT) is\n",
    "a map from these $N$ complex numbers to $N$ complex numbers, the\n",
    "Fourier transformed coefficients $\\tilde{f}_{j}$, given by"
   ]
  },
  {
   "cell_type": "markdown",
   "id": "d6afb6b1",
   "metadata": {
    "editable": true
   },
   "source": [
    "$$\n",
    "\\tilde{f}_{j}=\\frac{1}{\\sqrt{N}} \\sum_{k=0}^{N-1} \\omega^{-j k} f_{k}\n",
    "$$"
   ]
  },
  {
   "cell_type": "markdown",
   "id": "cdf56a70",
   "metadata": {
    "editable": true
   },
   "source": [
    "where $\\omega=\\exp \\left(\\frac{2 \\pi i}{N}\\right)$."
   ]
  },
  {
   "cell_type": "markdown",
   "id": "7b30a30b",
   "metadata": {
    "editable": true
   },
   "source": [
    "## Invert DFT\n",
    "The inverse DFT is given by"
   ]
  },
  {
   "cell_type": "markdown",
   "id": "1f2d941b",
   "metadata": {
    "editable": true
   },
   "source": [
    "$$\n",
    "f_{j}=\\frac{1}{\\sqrt{N}} \\sum_{k=0}^{N-1} \\omega^{j k} \\tilde{f}_{k}\n",
    "$$"
   ]
  },
  {
   "cell_type": "markdown",
   "id": "b11f388c",
   "metadata": {
    "editable": true
   },
   "source": [
    "To see this consider how the basis vectors transform. If $f_{k}^{l}=\\delta_{k, l}$, then"
   ]
  },
  {
   "cell_type": "markdown",
   "id": "18ea71fc",
   "metadata": {
    "editable": true
   },
   "source": [
    "$$\n",
    "\\tilde{f}_{j}^{l}=\\frac{1}{\\sqrt{N}} \\sum_{k=0}^{N-1} \\omega^{-j k} \\delta_{k, l}=\\frac{1}{\\sqrt{N}} \\omega^{-j l}\n",
    "$$"
   ]
  },
  {
   "cell_type": "markdown",
   "id": "5a14728e",
   "metadata": {
    "editable": true
   },
   "source": [
    "## Orthonormality\n",
    "These DFT vectors are orthonormal:"
   ]
  },
  {
   "cell_type": "markdown",
   "id": "095b55fa",
   "metadata": {
    "editable": true
   },
   "source": [
    "$$\n",
    "\\sum_{j=0}^{N-1} \\tilde{f}^{l}{ }_{j}^{*} \\tilde{f}_{j}^{m}=\\frac{1}{N} \\sum_{j=0}^{N-1} \\omega^{j l} \\omega^{-j m}=\\frac{1}{N} \\sum_{j=0}^{N-1} \\omega^{j(l-m)}\n",
    "$$"
   ]
  },
  {
   "cell_type": "markdown",
   "id": "43d4d1a8",
   "metadata": {
    "editable": true
   },
   "source": [
    "This last sum can be evaluated as a geometric series, but beware of the $(l-m)=0$ term, and yields"
   ]
  },
  {
   "cell_type": "markdown",
   "id": "80493ea5",
   "metadata": {
    "editable": true
   },
   "source": [
    "$$\n",
    "\\sum_{j=0}^{N-1} \\tilde{f}^{l}{ }_{j}^{*} \\tilde{f}_{j}^{m}=\\delta_{l, m}\n",
    "$$"
   ]
  },
  {
   "cell_type": "markdown",
   "id": "762683ef",
   "metadata": {
    "editable": true
   },
   "source": [
    "From this we can check that the inverse DFT does indeed perform the inverse transform:"
   ]
  },
  {
   "cell_type": "markdown",
   "id": "6c15ec7d",
   "metadata": {
    "editable": true
   },
   "source": [
    "$$\n",
    "f_{j}=\\frac{1}{\\sqrt{N}} \\sum_{k=0}^{N-1} \\omega^{j k} \\tilde{f}_{k}=\\frac{1}{\\sqrt{N}} \\sum_{k=0}^{N-1} \\omega^{j k} \\frac{1}{\\sqrt{N}} \\sum_{l=0}^{N-1} \\omega^{-l k} f_{l}=\\frac{1}{N} \\sum_{k, l=0}^{N-1} \\omega^{(j-l) k} f_{l}=\\sum_{l=0}^{N-1} \\delta_{j, l} f_{l}=f_{j}\n",
    "$$"
   ]
  },
  {
   "cell_type": "markdown",
   "id": "d866d69c",
   "metadata": {
    "editable": true
   },
   "source": [
    "## Convolution again\n",
    "\n",
    "An important property of the DFT is above mentioned convolution\n",
    "theorem. The circular convolution of two vectors $f$ and $g$ is given\n",
    "by"
   ]
  },
  {
   "cell_type": "markdown",
   "id": "6c48160d",
   "metadata": {
    "editable": true
   },
   "source": [
    "$$\n",
    "(f * g)_{i}=\\sum_{j=0}^{N-1} f_{j} g_{i-j}\n",
    "$$"
   ]
  },
  {
   "cell_type": "markdown",
   "id": "bff0adda",
   "metadata": {
    "editable": true
   },
   "source": [
    "where we define $g_{-m}=g_{N-m}$. The convolution theorem states that the DFT turns convolution into pointwise vector multiplication. In other words if the components of the DFT of $(f * g)$ are $\\tilde{c}_{k}$, then $\\tilde{c}_{k}=\\tilde{f}_{k} \\tilde{g}_{k}$. What use is the convolution theorem? Well this leads us nicely to our next topic, the fast Fourier transform."
   ]
  },
  {
   "cell_type": "markdown",
   "id": "8337d2da",
   "metadata": {
    "editable": true
   },
   "source": [
    "## Fast Fourier transform (FFT)\n",
    "\n",
    "Naively how many math operations do we have to do to perform a\n",
    "discrete Fourier transform? Well for each component of the new vector\n",
    "we will need to perform $N$ multiplications and then we will need to\n",
    "add these components. Since we need to do this for each of the $N$\n",
    "different component. Thus we see that $N^{2}$ complex multiplications\n",
    "and $N(N-1)$ complex additions are needed to compute the DFT. The goal\n",
    "of the fast Fourier transform is to perform the DFT using less basic\n",
    "math operations. There are may ways to do this. We will describe one\n",
    "particular method for $N=2^{n}$ and will put off discussion of the\n",
    "case where $N \\neq 2^{n}$ until later. So assume $N=2^{n}$ from here\n",
    "until I say otherwise."
   ]
  },
  {
   "cell_type": "markdown",
   "id": "fccf3d9a",
   "metadata": {
    "editable": true
   },
   "source": [
    "## FFT algorithm\n",
    "\n",
    "The Fast Fourier Transform (FFT) we will consider is based on\n",
    "observing the fact that the there are symmetries of the coefficients\n",
    "in the DFT,"
   ]
  },
  {
   "cell_type": "markdown",
   "id": "541b9929",
   "metadata": {
    "editable": true
   },
   "source": [
    "$$\n",
    "\\begin{align*}\n",
    "\\omega^{k+N / 2} & =-\\omega^{k} \\\\\n",
    "\\omega^{k+N} & =\\omega^{k} .\n",
    "\\end{align*}\n",
    "$$"
   ]
  },
  {
   "cell_type": "markdown",
   "id": "7e4696ac",
   "metadata": {
    "editable": true
   },
   "source": [
    "## Splitting into smaller components\n",
    "\n",
    "Suppose we want to perform the DFT of the vector $f$. Split the\n",
    "components of $f$ up into smaller vectors of size $N / 2$, $e$ and\n",
    "$o$. The coefficients of $e$ are the components of $f$ which are even\n",
    "and the coefficients of $o$ are the components of $f$ which are\n",
    "odd. The order of the coefficients is retained. Then it is easy to see\n",
    "that"
   ]
  },
  {
   "cell_type": "markdown",
   "id": "dea4a9c5",
   "metadata": {
    "editable": true
   },
   "source": [
    "$$\n",
    "\\begin{align*}\n",
    "\\tilde{f}_{j} & =\\frac{1}{\\sqrt{N}} \\sum_{i=0}^{N-1} \\omega^{-i j} f_{i}=\\frac{1}{\\sqrt{N}} \\sum_{i=0}^{N / 2-1} \\omega^{-2 i j} e_{i}+\\sum_{i=0}^{N / 2-1} \\omega^{-(2 i+1) j} o_{i} \\\\\n",
    "& =\\frac{1}{\\sqrt{N}}\\left(\\sum_{i=0}^{N / 2-1} \\omega_{N / 2}^{-i j} e_{i}+\\omega_{N}^{-j} \\sum_{i=0}^{N / 2-1} \\omega_{N / 2}^{-i j} o_{i}\\right) \n",
    "\\end{align*}\n",
    "$$"
   ]
  },
  {
   "cell_type": "markdown",
   "id": "491a7896",
   "metadata": {
    "editable": true
   },
   "source": [
    "where $\\omega_{N / 2}=\\exp \\left(\\frac{2 \\pi i}{N}\\right)$ and we have denoted $\\omega$ by $\\omega_{N}$ for clarity."
   ]
  },
  {
   "cell_type": "markdown",
   "id": "b63ded4e",
   "metadata": {
    "editable": true
   },
   "source": [
    "## Formula for DFT\n",
    "\n",
    "We have thus obtained the a formula for the DFT of $f$ in terms of the DFT of $e$ and $o$ :"
   ]
  },
  {
   "cell_type": "markdown",
   "id": "203d4acb",
   "metadata": {
    "editable": true
   },
   "source": [
    "$$\n",
    "\\tilde{f}_{j}=\\tilde{e}_{j}+\\omega_{N}^{-j} \\tilde{o}_{j}\n",
    "$$"
   ]
  },
  {
   "cell_type": "markdown",
   "id": "24b228cc",
   "metadata": {
    "editable": true
   },
   "source": [
    "Now recall that $j$ runs from 0 to $N-1$ and the DFTs of $e$ and $f$ are periodic with period $N / 2$. Using this and the above symmetry we find that we can express our formula as"
   ]
  },
  {
   "cell_type": "markdown",
   "id": "7f049680",
   "metadata": {
    "editable": true
   },
   "source": [
    "$$\n",
    "\\begin{array}{ll}\n",
    "\\sqrt{2} \\tilde{f}_{j}=\\tilde{e}_{j}+\\omega_{N}^{-j} \\tilde{o}_{j} & 0 \\leq j \\leq N / 2-1 \\\\\n",
    "\\sqrt{2} \\tilde{f}_{j}=\\tilde{e}_{j}-\\omega_{N}^{-j} \\tilde{o}_{j} & N / 2-2 \\leq j \\leq N-1 \n",
    "\\end{array}\n",
    "$$"
   ]
  },
  {
   "cell_type": "markdown",
   "id": "86ff785a",
   "metadata": {
    "editable": true
   },
   "source": [
    "## How many complex multiplications?\n",
    "\n",
    "Suppose that we first compute the DFT over $e$ and $o$ and then uses\n",
    "them in this formula to compute the full DFT of $f$. How many complex\n",
    "multiplications do we need to perform? Well to compute $e$ and $o$\n",
    "requires $2 \\frac{N}{2}^{2}=\\frac{N^{2}}{2}$ multiplications. We need\n",
    "another $N / 2$ to compute $\\omega_{N}^{-j} \\tilde{o}_{j}$. Forget\n",
    "about the square root of two, it can always be put in at the end as an\n",
    "extra $N$ multiplications. Thus we require\n",
    "$\\frac{N^{2}}{2}+\\frac{N}{2}$ complex multiplications to compute the\n",
    "DFT as opposed to $N^{2}$ in the the previous method. This is a\n",
    "reduction of about a factor of 2 for large $N$."
   ]
  },
  {
   "cell_type": "markdown",
   "id": "934bdbc0",
   "metadata": {
    "editable": true
   },
   "source": [
    "## More details\n",
    "\n",
    "Further it is clear that for $N=2^{n}$ we can use the above trick all\n",
    "the way down to $N=2$. How many complex multiplications do we need to\n",
    "perform if we do this? Let $T_{n}$ denote the number of\n",
    "multiplications at the $N=2^{n}$ th level, such that $T_{1}=4$. Then"
   ]
  },
  {
   "cell_type": "markdown",
   "id": "345e6118",
   "metadata": {
    "editable": true
   },
   "source": [
    "$$\n",
    "T_{n}=2 T_{n-1}+2^{n-1}\n",
    "$$"
   ]
  },
  {
   "cell_type": "markdown",
   "id": "917c541c",
   "metadata": {
    "editable": true
   },
   "source": [
    "which can be bounded by"
   ]
  },
  {
   "cell_type": "markdown",
   "id": "55794d85",
   "metadata": {
    "editable": true
   },
   "source": [
    "$$\n",
    "T_{n} \\leq 2 T_{n-1}+2^{n}\n",
    "$$"
   ]
  },
  {
   "cell_type": "markdown",
   "id": "04484593",
   "metadata": {
    "editable": true
   },
   "source": [
    "which has solution $T_{n} \\leq 2^{n} n$. In other words the running\n",
    "time is bounded by $N \\log N$. Thus we see that in the FFT we can\n",
    "compute the DFT in a complexity of $N \\log N$ operations. This is a\n",
    "nice little improvement. Of historical interest apparently Gauss knew\n",
    "the FFT algorithm."
   ]
  },
  {
   "cell_type": "markdown",
   "id": "a305f1e1",
   "metadata": {
    "editable": true
   },
   "source": [
    "## Application of the FFT\n",
    "\n",
    "Here is a very cool application of the FFT. Suppose that you have two\n",
    "polynomials with complex coefficients: $f(x)=a_{0}+a_{1}\n",
    "x+\\cdots+a_{N-1} x^{N-1}$ and $g(x)=b_{0}+b_{1} x+\\cdots+b_{N-1}\n",
    "x^{N-1}$. If you multiply these two polynomials\\\\ together you get a\n",
    "new polynomial $f(x) g(x)=\\sum_{i, j=0}^{N-1} a_{i} b_{j}\n",
    "x^{i+j}=\\sum_{k=0}^{2(N-1)} c_{k} x^{k}$. The new coefficients for\n",
    "this polynomial are a function of the two polynomials:"
   ]
  },
  {
   "cell_type": "markdown",
   "id": "081f696f",
   "metadata": {
    "editable": true
   },
   "source": [
    "$$\n",
    "c_{k}=\\sum_{l=0}^{N-1} a_{l} b_{k-l}\n",
    "$$"
   ]
  },
  {
   "cell_type": "markdown",
   "id": "e5e12d12",
   "metadata": {
    "editable": true
   },
   "source": [
    "where the sum is over all valid polynomial terms (i.e. when $k-l$ is negative, there is no term in the sum.) One sees that computing $c_{k}$ requires $N^{2}$ multiplications."
   ]
  },
  {
   "cell_type": "markdown",
   "id": "e343096a",
   "metadata": {
    "editable": true
   },
   "source": [
    "## Convolution yet again\n",
    "\n",
    "But wait, the expression for $c_{k}$ looks a lot like\n",
    "convolution. Indeed suppose that we form a $2 N$ dimensional vector\n",
    "$a=\\left(a_{0}, \\ldots, a_{N-1}, 0, \\ldots, 0\\right)$ and\n",
    "$b=\\left(b_{0}, \\ldots, b_{N-1}, 0, \\ldots, 0\\right)$ from our\n",
    "original data. The vector $c$ which will represent the coefficients of\n",
    "the new polynomial are then given by"
   ]
  },
  {
   "cell_type": "markdown",
   "id": "fe1d55fc",
   "metadata": {
    "editable": true
   },
   "source": [
    "$$\n",
    "c_{k}=\\sum_{l=0}^{2 N-1} a_{l} b_{k-l} \\bmod 2 N\n",
    "$$"
   ]
  },
  {
   "cell_type": "markdown",
   "id": "f9e70db5",
   "metadata": {
    "editable": true
   },
   "source": [
    "## More discussions\n",
    "Now we don't need to condition this sum on their being valid\n",
    "terms. Now this is explicitly convolution! Thus we can compute the\n",
    "coefficients $c_{k}$ by the following algorithm. Compute the DFT of\n",
    "the vectors $a$ and $b$. Pointwise multiply these two vectors. Then\n",
    "inverse DFT this new vector. The result will be $c_{k}$ by the\n",
    "convolution theorem. If we use the FFT algorithm for this procedure,\n",
    "then we will require $O(N \\log N)$ multiplications. This is pretty\n",
    "cool: by using the FFT we can multiply polynomials faster than our\n",
    "naive grade school method for multiplying polynomials. It is good to\n",
    "see that our grad school self can do things our grade school self\n",
    "cannot do. Some of you will even know that you can use the FFT to\n",
    "multiply integers $N$ integers with a cost of $O\\left(N \\log ^{2}\n",
    "N\\right)$ or used recursively: $O(N \\log N \\log \\log N \\log \\log \\log\n",
    "N \\cdots)$."
   ]
  },
  {
   "cell_type": "markdown",
   "id": "6245e0a4",
   "metadata": {
    "editable": true
   },
   "source": [
    "## Quantum Fourier transform\n",
    "\n",
    "Now lets turn to the Quantum Fourier transform (QFT). We've already\n",
    "seen the QFT for $N=2$. It is the Hadamard transform:"
   ]
  },
  {
   "cell_type": "markdown",
   "id": "847bd0d8",
   "metadata": {
    "editable": true
   },
   "source": [
    "$$\n",
    "H=\\frac{1}{\\sqrt{2}}\\left[\\begin{array}{cc}\n",
    "1 & 1  \\\\\n",
    "1 & -1\n",
    "\\end{array}\\right]\n",
    "$$"
   ]
  },
  {
   "cell_type": "markdown",
   "id": "8296ca00",
   "metadata": {
    "editable": true
   },
   "source": [
    "## QFT for $N=2$\n",
    "\n",
    "Why is this the QFT for $N=2$ ? Well suppose have the single qubit\n",
    "state $a_{0}|0\\rangle+a_{1}|1\\rangle$. If we apply the Hadamard\n",
    "operation to this state we obtain the new state"
   ]
  },
  {
   "cell_type": "markdown",
   "id": "0b2d9ce8",
   "metadata": {
    "editable": true
   },
   "source": [
    "$$\n",
    "\\frac{1}{\\sqrt{2}}\\left(a_{0}+a_{1}\\right)|0\\rangle+\\frac{1}{\\sqrt{2}}\\left(a_{0}-a_{1}\\right)|1\\rangle=\\tilde{a}_{0}|0\\rangle+\\tilde{a}_{1}|1\\rangle .\n",
    "$$"
   ]
  },
  {
   "cell_type": "markdown",
   "id": "c25bfd69",
   "metadata": {
    "editable": true
   },
   "source": [
    "In other words the Hadamard gate performs the DFT for $N=2$ on the\n",
    "amplitudes of the state! Notice that this is very different that\n",
    "computing the DFT for $N=2$ : remember the amplitudes are not numbers\n",
    "which are accessible to us mere mortals, they just represent our\n",
    "description of the quantum system."
   ]
  },
  {
   "cell_type": "markdown",
   "id": "14d9b8d4",
   "metadata": {
    "editable": true
   },
   "source": [
    "## Full QFT\n",
    "\n",
    "So what is the full quantum Fourier transform? It is the transform\n",
    "which takes the amplitudes of a $N$ dimensional state and computes the\n",
    "Fourier transform on these amplitudes (which are then the new\n",
    "amplitudes in the computational basis.) In other words, the QFT enacts\n",
    "the transform"
   ]
  },
  {
   "cell_type": "markdown",
   "id": "56d732c9",
   "metadata": {
    "editable": true
   },
   "source": [
    "$$\n",
    "\\sum_{x=0}^{N-1} a_{x}|x\\rangle \\rightarrow \\sum_{x=0}^{N-1} \\tilde{a}_{x}|x\\rangle=\\sum_{x=0}^{N-1} \\frac{1}{\\sqrt{N}} \\sum_{y=0}^{N-1} \\omega_{N}^{-x y} a_{y}|x\\rangle\n",
    "$$"
   ]
  },
  {
   "cell_type": "markdown",
   "id": "4c79dbd6",
   "metadata": {
    "editable": true
   },
   "source": [
    "## Explicit transform\n",
    "It is easy to see that this implies that the QFT performs the following transform on basis states:"
   ]
  },
  {
   "cell_type": "markdown",
   "id": "605ef7d9",
   "metadata": {
    "editable": true
   },
   "source": [
    "$$\n",
    "|x\\rangle \\rightarrow \\frac{1}{\\sqrt{N}} \\sum_{y=0}^{N-1} \\omega_{N}^{-x y}|y\\rangle\n",
    "$$"
   ]
  },
  {
   "cell_type": "markdown",
   "id": "35b48706",
   "metadata": {
    "editable": true
   },
   "source": [
    "Thus the QFT is given by the matrix"
   ]
  },
  {
   "cell_type": "markdown",
   "id": "acf1ff7d",
   "metadata": {
    "editable": true
   },
   "source": [
    "$$\n",
    "U_{Q F T}=\\frac{1}{\\sqrt{N}} \\sum_{x=0}^{N-1} \\sum_{y=0}^{N-1} \\omega_{N}^{-y x}|y\\rangle\\langle x|\n",
    "$$"
   ]
  },
  {
   "cell_type": "markdown",
   "id": "94cac9f3",
   "metadata": {
    "editable": true
   },
   "source": [
    "## Unitarity\n",
    "The last  matrix is unitary. Let's check this:"
   ]
  },
  {
   "cell_type": "markdown",
   "id": "ae536a9a",
   "metadata": {
    "editable": true
   },
   "source": [
    "$$\n",
    "\\begin{align*}\n",
    "U_{Q F T} U_{Q F T}^{\\dagger} & =\\frac{1}{N} \\sum_{x=0}^{N-1} \\sum_{y=0}^{N-1} \\omega_{N}^{y x}|x\\rangle\\left\\langle y\\left|\\sum_{x^{\\prime}=0}^{N-1} \\sum_{y^{\\prime}=0}^{N-1} \\omega_{N}^{-y^{\\prime} x^{\\prime}}\\right| y^{\\prime}\\right\\rangle\\left\\langle x^{\\prime}\\right| \\\\\n",
    "& =\\frac{1}{N} \\sum_{x, y, x^{\\prime}, y^{\\prime}=0}^{N-1} \\omega_{N}^{y x-y^{\\prime} x^{\\prime}} \\delta_{y, y^{\\prime}}|x\\rangle\\left\\langle x^{\\prime}\\left|=\\frac{1}{N} \\sum_{x, y, x^{\\prime}=0}^{N-1} \\omega_{N}^{y\\left(x-x^{\\prime}\\right)}\\right| x\\right\\rangle\\left\\langle x^{\\prime}\\right| \\\\\n",
    "& =\\sum_{x, x^{\\prime}=0}^{N-1} \\delta_{x, x^{\\prime}}|x\\rangle\\left\\langle x^{\\prime}\\right|=I \n",
    "\\end{align*}\n",
    "$$"
   ]
  },
  {
   "cell_type": "markdown",
   "id": "51d528ee",
   "metadata": {
    "editable": true
   },
   "source": [
    "## Importance of QFT\n",
    "\n",
    "The QFT is a very important transform in quantum computing. It can be\n",
    "used for all sorts of cool tasks, including, as we shall see in Shor's\n",
    "algorithm. But before we can use it for quantum computing tasks, we\n",
    "should try to see if we can efficiently implement the QFT with a\n",
    "quantum circuit. Indeed we can and the reason we can is intimately\n",
    "related to the fast Fourier transform."
   ]
  },
  {
   "cell_type": "markdown",
   "id": "7bc57389",
   "metadata": {
    "editable": true
   },
   "source": [
    "## Circuit QFT\n",
    "\n",
    "Let's derive a circuit for the QFT when $N=2^{n}$. The QFT performs the transform"
   ]
  },
  {
   "cell_type": "markdown",
   "id": "10b21daf",
   "metadata": {
    "editable": true
   },
   "source": [
    "$$\n",
    "|x\\rangle \\rightarrow \\frac{1}{\\sqrt{2^{n}}} \\sum_{y=0}^{2^{n}-1} \\omega_{N}^{-x y}|y\\rangle\n",
    "$$"
   ]
  },
  {
   "cell_type": "markdown",
   "id": "2f860427",
   "metadata": {
    "editable": true
   },
   "source": [
    "Then we can expand out this sum"
   ]
  },
  {
   "cell_type": "markdown",
   "id": "569bba47",
   "metadata": {
    "editable": true
   },
   "source": [
    "$$\n",
    "|x\\rangle \\rightarrow \\frac{1}{\\sqrt{2^{n}}} \\sum_{y_{1}, y_{2}, \\ldots, y_{n} \\in\\{0,1\\}} \\omega_{N}^{-x \\sum_{k=1}^{n} 2^{n-k} y_{k}}\\left|y_{1}, y_{2}, \\ldots, y_{n}\\right\\rangle\n",
    "$$"
   ]
  },
  {
   "cell_type": "markdown",
   "id": "451cb7a4",
   "metadata": {
    "editable": true
   },
   "source": [
    "## Expanding the exponential\n",
    "\n",
    "Expanding the exponential of a sum to a product of exponentials and\n",
    "collecting these terms in from the appropriate terms we can express\n",
    "this as"
   ]
  },
  {
   "cell_type": "markdown",
   "id": "eb34f335",
   "metadata": {
    "editable": true
   },
   "source": [
    "$$\n",
    "|x\\rangle \\rightarrow \\frac{1}{\\sqrt{2^{n}}} \\sum_{y_{1}, y_{2}, \\ldots, y_{n} \\in\\{0,1\\}} \\bigotimes_{k=1}^{n} \\omega_{N}^{-x 2^{n-k} y_{k}}\\left|y_{k}\\right\\rangle\n",
    "$$"
   ]
  },
  {
   "cell_type": "markdown",
   "id": "da23bf55",
   "metadata": {
    "editable": true
   },
   "source": [
    "## Rearranging\n",
    "\n",
    "We can rearrange the sum and products as"
   ]
  },
  {
   "cell_type": "markdown",
   "id": "b40ee17b",
   "metadata": {
    "editable": true
   },
   "source": [
    "$$\n",
    "|x\\rangle \\rightarrow \\frac{1}{\\sqrt{2^{n}}} \\bigotimes_{k=1}^{n}\\left[\\sum_{y_{k} \\in\\{0,1\\}} \\omega_{N}^{-x 2^{n-k} y_{k}}\\left|y_{k}\\right\\rangle\\right]\n",
    "$$"
   ]
  },
  {
   "cell_type": "markdown",
   "id": "36389c1a",
   "metadata": {
    "editable": true
   },
   "source": [
    "Expanding this sum yields"
   ]
  },
  {
   "cell_type": "markdown",
   "id": "aa725fd9",
   "metadata": {
    "editable": true
   },
   "source": [
    "$$\n",
    "|x\\rangle \\rightarrow \\frac{1}{\\sqrt{2^{n}}} \\bigotimes_{k=1}^{n}\\left[|0\\rangle+\\omega_{N}^{-x 2^{n-k}}|1\\rangle\\right]\n",
    "$$"
   ]
  },
  {
   "cell_type": "markdown",
   "id": "86ae8232",
   "metadata": {
    "editable": true
   },
   "source": [
    "## Notation for binary fraction\n",
    "\n",
    "But now notice that $\\omega_{N}^{-x 2^{n-k}}$ is not dependent on the\n",
    "higer order bits of $x$. It is convenient to adopt the following\n",
    "expression for a binary fraction:"
   ]
  },
  {
   "cell_type": "markdown",
   "id": "dcf558e3",
   "metadata": {
    "editable": true
   },
   "source": [
    "$$\n",
    "0 . x_{l} x_{l+1} \\ldots x_{n}=\\frac{x_{l}}{2}+\\frac{x_{l+1}}{4}+\\cdots+\\frac{x_{n}}{2^{n-l+1}}\n",
    "$$"
   ]
  },
  {
   "cell_type": "markdown",
   "id": "ac934d94",
   "metadata": {
    "editable": true
   },
   "source": [
    "## More notations\n",
    "Then we can see that"
   ]
  },
  {
   "cell_type": "markdown",
   "id": "2fdfb2cd",
   "metadata": {
    "editable": true
   },
   "source": [
    "$$\n",
    "|x\\rangle \\rightarrow \\frac{1}{\\sqrt{2^{n}}}\\left[|0\\rangle+e^{-2 \\pi i 0 . x_{n}}|1\\rangle\\right] \\otimes\\left[|0\\rangle+e^{-2 \\pi i 0 . x_{n-1} x_{n}}|1\\rangle\\right] \\otimes \\cdots \\otimes\\left[|0\\rangle+e^{-2 \\pi i 0 . x_{1} x_{2} \\cdots x_{n}}|1\\rangle\\right]\n",
    "$$"
   ]
  },
  {
   "cell_type": "markdown",
   "id": "ce3a2cf6",
   "metadata": {
    "editable": true
   },
   "source": [
    "This is a very useful form of the QFT for $N=2^{n}$. Why? Because we\n",
    "see that only the last qubit depends on the the values of all the\n",
    "other input qubits and each further bit depends less and less on the\n",
    "input qubits. Further we note that $e^{-2 \\pi i 0 . a}$ is either +1\n",
    "or -1 , which reminds us of the Hadamard transform."
   ]
  },
  {
   "cell_type": "markdown",
   "id": "06e4a682",
   "metadata": {
    "editable": true
   },
   "source": [
    "## Deriving a circuit\n",
    "\n",
    "So how do we use this to derive a circuit for the QFT over $N=2^{n}$ ?\n",
    "\n",
    "Take the first qubit of $\\left|x_{1}, \\ldots, x_{n}\\right\\rangle$ and\n",
    "apply a Hadamard transform. This produces the transform"
   ]
  },
  {
   "cell_type": "markdown",
   "id": "9567cb77",
   "metadata": {
    "editable": true
   },
   "source": [
    "$$\n",
    "|x\\rangle \\rightarrow \\frac{1}{\\sqrt{2}}\\left[|0\\rangle+e^{-2 \\pi i 0 \\cdot x_{1}}|1\\rangle\\right] \\otimes\\left|x_{2}, x_{3}, \\ldots, x_{n}\\right\\rangle\n",
    "$$"
   ]
  },
  {
   "cell_type": "markdown",
   "id": "7a31a034",
   "metadata": {
    "editable": true
   },
   "source": [
    "## Rotation gate\n",
    "Now define the rotation gate"
   ]
  },
  {
   "cell_type": "markdown",
   "id": "dc9c1d51",
   "metadata": {
    "editable": true
   },
   "source": [
    "$$\n",
    "R_{k}=\\left[\\begin{array}{cc}\n",
    "1 & 0  \\tag{30}\\\\\n",
    "0 & \\exp \\left(\\frac{-2 \\pi i}{2^{k}}\\right)\n",
    "\\end{array}\\right]\n",
    "$$"
   ]
  },
  {
   "cell_type": "markdown",
   "id": "bc7de426",
   "metadata": {
    "editable": true
   },
   "source": [
    "If we now apply controlled $R_{2}, R_{3}$, etc. gates controlled on\n",
    "the appropriate bits this enacts the transform"
   ]
  },
  {
   "cell_type": "markdown",
   "id": "2582936d",
   "metadata": {
    "editable": true
   },
   "source": [
    "$$\n",
    "|x\\rangle \\rightarrow \\frac{1}{\\sqrt{2}}\\left[|0\\rangle+e^{-2 \\pi i 0 . x_{1} x_{2} \\ldots x_{n}}|1\\rangle\\right] \\otimes\\left|x_{2}, x_{3}, \\ldots, x_{n}\\right\\rangle\n",
    "$$"
   ]
  },
  {
   "cell_type": "markdown",
   "id": "000fba2a",
   "metadata": {
    "editable": true
   },
   "source": [
    "## Proceeding\n",
    "\n",
    "Thus we have reproduced the last term in the QFTed state. Of course\n",
    "now we can proceed to the second qubit, perform a Hadamard, and the\n",
    "appropriate controlled $R_{k}$ gates and get the second to last\n",
    "qubit. Thus when we are finished we will have the transform"
   ]
  },
  {
   "cell_type": "markdown",
   "id": "6a2220a6",
   "metadata": {
    "editable": true
   },
   "source": [
    "$$\n",
    "|x\\rangle \\rightarrow \\frac{1}{\\sqrt{2^{n}}}\\left[|0\\rangle+e^{-2 \\pi i 0 . x_{1} x_{2} \\cdots x_{n}}|1\\rangle\\right] \\otimes\\left[|0\\rangle+e^{-2 \\pi i 0 . x_{1} x_{2} \\cdots x_{n-1}}|1\\rangle\\right] \\otimes \\cdots \\otimes\\left[|0\\rangle+e^{-2 \\pi i 0 . x_{n}}|1\\rangle\\right]\n",
    "$$"
   ]
  },
  {
   "cell_type": "markdown",
   "id": "59b10922",
   "metadata": {
    "editable": true
   },
   "source": [
    "Reversing the order of these qubits will then produce the QFT!\n",
    "\n",
    "The circuit we have constructed on $n$ qubits is\n",
    "\n",
    "<!-- \\includegraphics[max width=\\textwidth]{2024_03_18_c1d427fa6b85efa365f1g-5} -->"
   ]
  },
  {
   "cell_type": "markdown",
   "id": "c3b54b21",
   "metadata": {
    "editable": true
   },
   "source": [
    "## Polynomial size\n",
    "\n",
    "This circuit is polynomial size in $n$. Actually we can count the\n",
    "number of quantum gates in it: $\\sum_{i=1}^{n} i=\\frac{n(n+1)}{2}$\n",
    "Hadamards and controlled $R_{k}$ gates plus\n",
    "$\\left\\lfloor\\frac{n}{2}\\right\\rfloor$ swap gates. What was it that\n",
    "allowed us to construct an efficient circuit? Well if you look at the\n",
    "factorization we used, you will see that we have basically used the\n",
    "same trick that we used for the FFT! But now, since we are working on\n",
    "amplitudes and not operating on the the complex vectors themselves, we\n",
    "get an algorithm which scales nicely in the number of qubits. It is\n",
    "important to realize that the QFT cannot be used like the FFT on\n",
    "data. Thus there is a tendency to want to port quantum computers over\n",
    "to signal processing. Currently there are some preliminary ideas about\n",
    "how to do this, but the naive way you might expect this to work does\n",
    "not work."
   ]
  }
 ],
 "metadata": {},
 "nbformat": 4,
 "nbformat_minor": 5
}
