{
 "cells": [
  {
   "cell_type": "markdown",
   "id": "5d000c1b",
   "metadata": {
    "editable": true
   },
   "source": [
    "<!-- HTML file automatically generated from DocOnce source (https://github.com/doconce/doconce/)\n",
    "doconce format html week10.do.txt --no_mako -->\n",
    "<!-- dom:TITLE: March 18-22, 2024: Quantum Computing, Quantum Machine Learning and Quantum Information Theories -->"
   ]
  },
  {
   "cell_type": "markdown",
   "id": "43858559",
   "metadata": {
    "editable": true
   },
   "source": [
    "# March 18-22, 2024: Quantum Computing, Quantum Machine Learning and Quantum Information Theories\n",
    "**Morten Hjorth-Jensen**, Department of Physics, University of Oslo and Department of Physics and Astronomy and Facility for Rare Isotope Beams, Michigan State University\n",
    "\n",
    "Date: **Week of March 18-22**"
   ]
  },
  {
   "cell_type": "markdown",
   "id": "912362a2",
   "metadata": {
    "editable": true
   },
   "source": [
    "## Plans for the week of March 18-22, 2024\n",
    "\n",
    "1. Discussion of project 1 and possible paths for project 2\n",
    "\n",
    "2. Start discussion of Quantum Fourier transforms \n",
    "\n",
    "3. Reading recommendation Hundt, Quantum Computing for Programmers, sections 6.1-6.4 on QFT. See also"
   ]
  },
  {
   "cell_type": "markdown",
   "id": "a97af5de",
   "metadata": {
    "editable": true
   },
   "source": [
    "## Principle of Superposition and Fourier Transforms\n",
    "\n",
    "For problems with so-called harmonic oscillations, given by for example the following differential equation"
   ]
  },
  {
   "cell_type": "markdown",
   "id": "cf233168",
   "metadata": {
    "editable": true
   },
   "source": [
    "$$\n",
    "m\\frac{d^2x}{dt^2}+\\eta\\frac{dx}{dt}+x(t)=F(t),\n",
    "$$"
   ]
  },
  {
   "cell_type": "markdown",
   "id": "4bfd2170",
   "metadata": {
    "editable": true
   },
   "source": [
    "where $F(t)$ is an applied external force acting on the system (often\n",
    "called a driving force), one can use the theory of Fourier\n",
    "transformations to find the solutions of this type of equations."
   ]
  },
  {
   "cell_type": "markdown",
   "id": "45c264dd",
   "metadata": {
    "editable": true
   },
   "source": [
    "## Quantum Fourier Transform\n",
    "\n",
    "We turn now our attention to the quantum mechanical analogue of the discrete Fourier transform.\n",
    "Again, we will express the final mathemtical operations interms of specific linear and invertible operations.\n",
    "Furthermore, the quantum version  of the \n",
    "discrete Fourier transform requires only $O(n\\log{n})$ gates\n",
    "to be implemented, and is a part of many important quantum algorithms\n",
    "such as the phase estimation algorithm and Shor's algorithm.\n",
    "\n",
    "A useful way to solve problems in many fields of science, especially\n",
    "in physics and mathematics, is to transform it into some other (often\n",
    "simpler) problem for which a solution is known. The discrete fourier\n",
    "transform, which involves such a transformation, is one of a few known\n",
    "algorithms that can be computed much faster on a quantum computer than\n",
    "on a classical."
   ]
  },
  {
   "cell_type": "markdown",
   "id": "d352cddc",
   "metadata": {
    "editable": true
   },
   "source": [
    "## Fourier transform\n",
    "\n",
    "Assume a periodic function $f(x)$ in an interval\n",
    "$[ -\\frac{L}{2}, \\frac{L}{2} ]$. The Fourier series in exponential form can be written\n",
    "as"
   ]
  },
  {
   "cell_type": "markdown",
   "id": "3bf3089d",
   "metadata": {
    "editable": true
   },
   "source": [
    "$$\n",
    "f(x) = \\sum_{-\\infty}^{\\infty} A_n \\exp{i(2\\pi nx/L)},\n",
    "$$"
   ]
  },
  {
   "cell_type": "markdown",
   "id": "46f6564e",
   "metadata": {
    "editable": true
   },
   "source": [
    "where"
   ]
  },
  {
   "cell_type": "markdown",
   "id": "dfa70966",
   "metadata": {
    "editable": true
   },
   "source": [
    "$$\n",
    "A_n = \\frac{1}{L} \\int_{-L/2}^{L/2} f(x)\\exp{-i(2\\pi nx/L)} dx.\n",
    "$$"
   ]
  },
  {
   "cell_type": "markdown",
   "id": "bfc95759",
   "metadata": {
    "editable": true
   },
   "source": [
    "## Transforming to discrete variables\n",
    "\n",
    "In the fourier transform $A_n$ is transformed from a dicrete variable\n",
    "to a continous one as $L \\rightarrow \\inf$. We then replace $A_n$ with\n",
    "$f(k)dk$ and let $n/L \\rightarrow k$, and the sum is changed to an\n",
    "integral. This gives"
   ]
  },
  {
   "cell_type": "markdown",
   "id": "e68e000e",
   "metadata": {
    "editable": true
   },
   "source": [
    "$$\n",
    "f(x) = \\int_{-\\infty}^{\\infty}dkF(k) \\exp{i(2\\pi kx)}\n",
    "$$"
   ]
  },
  {
   "cell_type": "markdown",
   "id": "f23f7b52",
   "metadata": {
    "editable": true
   },
   "source": [
    "and"
   ]
  },
  {
   "cell_type": "markdown",
   "id": "1c9f1840",
   "metadata": {
    "editable": true
   },
   "source": [
    "$$\n",
    "F(k) = \\int_{-\\infty}^{\\infty}dxf(x) \\exp{-i(2\\pi kx)}\n",
    "$$"
   ]
  },
  {
   "cell_type": "markdown",
   "id": "b04baff2",
   "metadata": {
    "editable": true
   },
   "source": [
    "One way to interpret the Fourier transform is then as a transformation from one basis to another."
   ]
  },
  {
   "cell_type": "markdown",
   "id": "25fbabcc",
   "metadata": {
    "editable": true
   },
   "source": [
    "## Discrete Fourier transform\n",
    "\n",
    "Next we make another generalization by having a discrete function,\n",
    "that is $f(x) \\rightarrow f(x_k)$ with $x_k = k\\Delta x$ for $k=0,\\dots, N-1$. This leads to the sums"
   ]
  },
  {
   "cell_type": "markdown",
   "id": "9b19e7d6",
   "metadata": {
    "editable": true
   },
   "source": [
    "$$\n",
    "f_x = \\frac{1}{N} \\sum_{k=0}^{N-1}F_k e^{i(2\\pi kx)/N},\n",
    "$$"
   ]
  },
  {
   "cell_type": "markdown",
   "id": "6731a9ea",
   "metadata": {
    "editable": true
   },
   "source": [
    "and"
   ]
  },
  {
   "cell_type": "markdown",
   "id": "b7d8aa09",
   "metadata": {
    "editable": true
   },
   "source": [
    "$$\n",
    "F_k = \\sum_{x=0}^{N-1}f_x e^{-i(2\\pi kx)/N}.\n",
    "$$"
   ]
  },
  {
   "cell_type": "markdown",
   "id": "79eea592",
   "metadata": {
    "editable": true
   },
   "source": [
    "Although we have used functions here, this could also be a set of\n",
    "numbers."
   ]
  },
  {
   "cell_type": "markdown",
   "id": "bfbf7408",
   "metadata": {
    "editable": true
   },
   "source": [
    "## Simple example\n",
    "\n",
    "As an example we can have a set of complex numbers\n",
    "$\\{x_0,\\dots,x_{N-1}\\}$ with fixed length $N$, we can Fourier\n",
    "transform this as"
   ]
  },
  {
   "cell_type": "markdown",
   "id": "7029ff2d",
   "metadata": {
    "editable": true
   },
   "source": [
    "$$\n",
    "y_k = \\frac{1}{\\sqrt{N}} \\sum_{j=0}^{N-1} x_j \\exp{i(2\\pi jk)/N},\n",
    "$$"
   ]
  },
  {
   "cell_type": "markdown",
   "id": "94c2a7ce",
   "metadata": {
    "editable": true
   },
   "source": [
    "leading to a new set of complex numbers $\\{ y_0,\\dots,y_{N-1}\\}$."
   ]
  },
  {
   "cell_type": "markdown",
   "id": "360efee5",
   "metadata": {
    "editable": true
   },
   "source": [
    "## Several driving forces\n",
    "If one has several driving forces, $F(t)=\\sum_n F_n(t)$, one can find\n",
    "the particular solution $x_{pn}(t)$ to the above differential equation for each $F_n$. The particular\n",
    "solution for the entire driving force is then given by a series like"
   ]
  },
  {
   "cell_type": "markdown",
   "id": "50e272ba",
   "metadata": {
    "editable": true
   },
   "source": [
    "$$\n",
    "x_p(t)=\\sum_nx_{pn}(t).\n",
    "$$"
   ]
  },
  {
   "cell_type": "markdown",
   "id": "2ef95cad",
   "metadata": {
    "editable": true
   },
   "source": [
    "This is known as the principle of superposition. It only applies when\n",
    "the homogenous equation is linear. \n",
    "Superposition is especially useful when $F(t)$ can be written\n",
    "as a sum of sinusoidal terms, because the solutions for each\n",
    "sinusoidal (sine or cosine)  term is analytic."
   ]
  },
  {
   "cell_type": "markdown",
   "id": "b2922f6e",
   "metadata": {
    "editable": true
   },
   "source": [
    "## Periodicity\n",
    "\n",
    "Driving forces are often periodic, even when they are not\n",
    "sinusoidal. Periodicity implies that for some time $t$ our function repeats itself periodically after a period $\\tau$, that is"
   ]
  },
  {
   "cell_type": "markdown",
   "id": "0b609842",
   "metadata": {
    "editable": true
   },
   "source": [
    "$$\n",
    "F(t+\\tau)=F(t).\n",
    "$$"
   ]
  },
  {
   "cell_type": "markdown",
   "id": "7f99b706",
   "metadata": {
    "editable": true
   },
   "source": [
    "One example of a non-sinusoidal periodic force is a square wave. Many\n",
    "components in electric circuits are non-linear, for example diodes. This \n",
    "makes many wave forms non-sinusoidal even when the circuits are being\n",
    "driven by purely sinusoidal sources."
   ]
  },
  {
   "cell_type": "markdown",
   "id": "0fbdcd38",
   "metadata": {
    "editable": true
   },
   "source": [
    "## Simple Code Example\n",
    "\n",
    "The code here shows a typical example of such a square wave generated\n",
    "using the functionality included in the **scipy** Python package. We\n",
    "have used a period of $\\tau=0.2$."
   ]
  },
  {
   "cell_type": "code",
   "execution_count": 1,
   "id": "f9ca392b",
   "metadata": {
    "collapsed": false,
    "editable": true
   },
   "outputs": [],
   "source": [
    "%matplotlib inline\n",
    "\n",
    "import numpy as np\n",
    "import math\n",
    "from scipy import signal\n",
    "import matplotlib.pyplot as plt\n",
    "\n",
    "# number of points                                                                                       \n",
    "n = 500\n",
    "# start and final times                                                                                  \n",
    "t0 = 0.0\n",
    "tn = 1.0\n",
    "# Period                                                                                                 \n",
    "t = np.linspace(t0, tn, n, endpoint=False)\n",
    "SqrSignal = np.zeros(n)\n",
    "SqrSignal = 1.0+signal.square(2*np.pi*5*t)\n",
    "plt.plot(t, SqrSignal)\n",
    "plt.ylim(-0.5, 2.5)\n",
    "plt.show()"
   ]
  },
  {
   "cell_type": "markdown",
   "id": "a045c5df",
   "metadata": {
    "editable": true
   },
   "source": [
    "## Sinusoidal example\n",
    "For the sinusoidal example the\n",
    "period is $\\tau=2\\pi/\\omega$. However, higher harmonics can also\n",
    "satisfy the periodicity requirement. In general, any force that\n",
    "satisfies the periodicity requirement can be expressed as a sum over\n",
    "harmonics,"
   ]
  },
  {
   "cell_type": "markdown",
   "id": "e2bd4ca7",
   "metadata": {
    "editable": true
   },
   "source": [
    "$$\n",
    "F(t)=\\frac{f_0}{2}+\\sum_{n>0} f_n\\cos(2n\\pi t/\\tau)+g_n\\sin(2n\\pi t/\\tau).\n",
    "$$"
   ]
  },
  {
   "cell_type": "markdown",
   "id": "eb8e9124",
   "metadata": {
    "editable": true
   },
   "source": [
    "## Final words on Fourier Transforms\n",
    "\n",
    "The code here uses the Fourier series applied to a \n",
    "square wave signal. The code here\n",
    "visualizes the various approximations given by Fourier series compared\n",
    "with a square wave with period $T=0.2$ (dimensionless time), width $0.1$ and max value of the force $F=2$. We\n",
    "see that when we increase the number of components in the Fourier\n",
    "series, the Fourier series approximation gets closer and closer to the\n",
    "square wave signal."
   ]
  },
  {
   "cell_type": "code",
   "execution_count": 2,
   "id": "4349da81",
   "metadata": {
    "collapsed": false,
    "editable": true
   },
   "outputs": [],
   "source": [
    "import numpy as np\n",
    "import math\n",
    "from scipy import signal\n",
    "import matplotlib.pyplot as plt\n",
    "\n",
    "# number of points                                                                                       \n",
    "n = 500\n",
    "# start and final times                                                                                  \n",
    "t0 = 0.0\n",
    "tn = 1.0\n",
    "# Period                                                                                                 \n",
    "T =0.2\n",
    "# Max value of square signal                                                                             \n",
    "Fmax= 2.0\n",
    "# Width of signal   \n",
    "Width = 0.1\n",
    "t = np.linspace(t0, tn, n, endpoint=False)\n",
    "SqrSignal = np.zeros(n)\n",
    "FourierSeriesSignal = np.zeros(n)\n",
    "SqrSignal = 1.0+signal.square(2*np.pi*5*t+np.pi*Width/T)\n",
    "a0 = Fmax*Width/T\n",
    "FourierSeriesSignal = a0\n",
    "Factor = 2.0*Fmax/np.pi\n",
    "for i in range(1,500):\n",
    "    FourierSeriesSignal += Factor/(i)*np.sin(np.pi*i*Width/T)*np.cos(i*t*2*np.pi/T)\n",
    "plt.plot(t, SqrSignal)\n",
    "plt.plot(t, FourierSeriesSignal)\n",
    "plt.ylim(-0.5, 2.5)\n",
    "plt.show()"
   ]
  },
  {
   "cell_type": "markdown",
   "id": "0b7c9b68",
   "metadata": {
    "editable": true
   },
   "source": [
    "### Fourier transforms and convolution\n",
    "\n",
    "We can use Fourier transforms in our studies of convolution as\n",
    "well. To see this, assume we have two functions $f$ and $g$ and their\n",
    "corresponding Fourier transforms $\\hat{f}$ and $\\hat{g}$. We remind\n",
    "the reader that the Fourier transform reads (say for the function $f$)"
   ]
  },
  {
   "cell_type": "markdown",
   "id": "d4720228",
   "metadata": {
    "editable": true
   },
   "source": [
    "$$\n",
    "\\hat{f}(y)=\\boldsymbol{F}[f(y)]=\\frac{1}{2\\pi}\\int_{-\\infty}^{\\infty} d\\omega \\exp{-i\\omega y} f(\\omega),\n",
    "$$"
   ]
  },
  {
   "cell_type": "markdown",
   "id": "acd421eb",
   "metadata": {
    "editable": true
   },
   "source": [
    "and similarly we have"
   ]
  },
  {
   "cell_type": "markdown",
   "id": "8286f13f",
   "metadata": {
    "editable": true
   },
   "source": [
    "$$\n",
    "\\hat{g}(y)=\\boldsymbol{F}[g(y)]=\\frac{1}{2\\pi}\\int_{-\\infty}^{\\infty} d\\omega \\exp{-i\\omega y} g(\\omega).\n",
    "$$"
   ]
  },
  {
   "cell_type": "markdown",
   "id": "4b99c885",
   "metadata": {
    "editable": true
   },
   "source": [
    "## Inverse Fourier transform\n",
    "\n",
    "The inverse Fourier transform is given by"
   ]
  },
  {
   "cell_type": "markdown",
   "id": "acd254a0",
   "metadata": {
    "editable": true
   },
   "source": [
    "$$\n",
    "\\boldsymbol{F}^{-1}[g(y)]=\\frac{1}{2\\pi}\\int_{-\\infty}^{\\infty} d\\omega \\exp{i\\omega y} g(\\omega).\n",
    "$$"
   ]
  },
  {
   "cell_type": "markdown",
   "id": "d088cb24",
   "metadata": {
    "editable": true
   },
   "source": [
    "The inverse Fourier transform of the product of the two functions $\\hat{f}\\hat{g}$ can be written as"
   ]
  },
  {
   "cell_type": "markdown",
   "id": "3bbf8502",
   "metadata": {
    "editable": true
   },
   "source": [
    "$$\n",
    "\\boldsymbol{F}^{-1}[(\\hat{f}\\hat{g})(x)]=\\frac{1}{2\\pi}\\int_{-\\infty}^{\\infty} d\\omega \\exp{i\\omega x} \\hat{f}(\\omega)\\hat{g}(\\omega).\n",
    "$$"
   ]
  },
  {
   "cell_type": "markdown",
   "id": "de6b1c8b",
   "metadata": {
    "editable": true
   },
   "source": [
    "## Rewriting\n",
    "We can rewrite the latter as"
   ]
  },
  {
   "cell_type": "markdown",
   "id": "eb156949",
   "metadata": {
    "editable": true
   },
   "source": [
    "$$\n",
    "\\boldsymbol{F}^{-1}[(\\hat{f}\\hat{g})(x)]=\\int_{-\\infty}^{\\infty} d\\omega \\exp{i\\omega x} \\hat{f}(\\omega)\\left[\\frac{1}{2\\pi}\\int_{-\\infty}^{\\infty}g(y)dy \\exp{-i\\omega y}\\right]=\\frac{1}{2\\pi}\\int_{-\\infty}^{\\infty}dy g(y)\\int_{-\\infty}^{\\infty} d\\omega \\hat{f}(\\omega) \\exp{i\\omega(x- y)},\n",
    "$$"
   ]
  },
  {
   "cell_type": "markdown",
   "id": "99d26507",
   "metadata": {
    "editable": true
   },
   "source": [
    "which is simply"
   ]
  },
  {
   "cell_type": "markdown",
   "id": "e5a9740f",
   "metadata": {
    "editable": true
   },
   "source": [
    "$$\n",
    "\\boldsymbol{F}^{-1}[(\\hat{f}\\hat{g})(x)]=\\int_{-\\infty}^{\\infty}dy g(y)f(x-y)=(f*g)(x),\n",
    "$$"
   ]
  },
  {
   "cell_type": "markdown",
   "id": "0a85366d",
   "metadata": {
    "editable": true
   },
   "source": [
    "the convolution of the functions $f$ and $g$."
   ]
  },
  {
   "cell_type": "markdown",
   "id": "15cb4fe3",
   "metadata": {
    "editable": true
   },
   "source": [
    "## Discrete Fourier Transformations\n",
    "\n",
    "Consider two sets of complex numbers $x_k$ and $y_k$ with\n",
    "$k=0,1,\\dots,n-1$ entries. The discrete Fourier transform is defined\n",
    "as"
   ]
  },
  {
   "cell_type": "markdown",
   "id": "80d163b6",
   "metadata": {
    "editable": true
   },
   "source": [
    "$$\n",
    "y_k = \\frac{1}{\\sqrt{n-1}} \\sum_{j=0}^{n-1} \\exp{(\\frac{2\\pi\\imath jk}{n})} x_j.\n",
    "$$"
   ]
  },
  {
   "cell_type": "markdown",
   "id": "39a2feb2",
   "metadata": {
    "editable": true
   },
   "source": [
    "As an example, assume $x_0=1$ and $x_1=1$. We can then use the above expression to find $y_0$ and $y_1$.\n",
    "\n",
    "With the above formula we get then"
   ]
  },
  {
   "cell_type": "markdown",
   "id": "f4b4c5ae",
   "metadata": {
    "editable": true
   },
   "source": [
    "$$\n",
    "y_0 = \\frac{1}{\\sqrt{2}} \\left( \\exp{(\\frac{2\\pi\\imath 0\\times 1}{2})} \\times 1+\\exp{(\\frac{2\\pi\\imath 0\\times 1}{2})}\\times 2\\right)=\\frac{1}{\\sqrt{2}}(1+2)=\\frac{3}{\\sqrt{2}},\n",
    "$$"
   ]
  },
  {
   "cell_type": "markdown",
   "id": "0cd0956d",
   "metadata": {
    "editable": true
   },
   "source": [
    "and"
   ]
  },
  {
   "cell_type": "markdown",
   "id": "135d4597",
   "metadata": {
    "editable": true
   },
   "source": [
    "$$\n",
    "y_1 = \\frac{1}{\\sqrt{2}} \\left( \\exp{(\\frac{2\\pi\\imath 0\\times 1}{2})} \\times 1+\\exp{(\\frac{2\\pi\\imath 1\\times 1}{2})}\\times 2\\right)=\\frac{1}{\\sqrt{2}}(1+2\\exp{(\\pi\\imath)})=-\\frac{1}{\\sqrt{2}},\n",
    "$$"
   ]
  },
  {
   "cell_type": "markdown",
   "id": "a255d959",
   "metadata": {
    "editable": true
   },
   "source": [
    "We can rewrite this in terms of the following matrix-vector operation. More material to come here."
   ]
  },
  {
   "cell_type": "markdown",
   "id": "4a5cab9c",
   "metadata": {
    "editable": true
   },
   "source": [
    "## Quantum Fourier transform\n",
    "\n",
    "We now turn to the quantum Fourier transform. It is the same\n",
    "transformation as described above, however we define it in terms of\n",
    "the unitary operation"
   ]
  },
  {
   "cell_type": "markdown",
   "id": "9f2516c9",
   "metadata": {
    "editable": true
   },
   "source": [
    "$$\n",
    "\\vert \\psi'\\rangle \\leftarrow \\hat{F}\\vert \\psi\\rangle, \\quad \\hat{F}^\\dagger \\hat{F} = I\n",
    "$$"
   ]
  },
  {
   "cell_type": "markdown",
   "id": "d49c85fc",
   "metadata": {
    "editable": true
   },
   "source": [
    "## Orthonormal basis\n",
    "\n",
    "In terms of an orthonormal basis $\\vert 0 \\rangle,\\vert 1\\rangle,\\dots,\\vert 0 \\rangle$ this linear operator has the following action"
   ]
  },
  {
   "cell_type": "markdown",
   "id": "61c0b922",
   "metadata": {
    "editable": true
   },
   "source": [
    "$$\n",
    "\\vert j \\rangle \\rightarrow \\sum_{k=0}^{N-1} e^{i(2\\pi jk/N)}\\vert k\n",
    "$$"
   ]
  },
  {
   "cell_type": "markdown",
   "id": "2105b686",
   "metadata": {
    "editable": true
   },
   "source": [
    "or on an arbitrary state"
   ]
  },
  {
   "cell_type": "markdown",
   "id": "fd337b87",
   "metadata": {
    "editable": true
   },
   "source": [
    "$$\n",
    "\\sum_{j=0}^{N-1} x_j \\vert j \\rangle \\rightarrow \\sum_{k=0}^{N-1} y_k\\vert k \\rangle\n",
    "$$"
   ]
  },
  {
   "cell_type": "markdown",
   "id": "1ebcec57",
   "metadata": {
    "editable": true
   },
   "source": [
    "equivalent to the equation for discrete Fourier transform on a set of complex numbers."
   ]
  },
  {
   "cell_type": "markdown",
   "id": "9c60121b",
   "metadata": {
    "editable": true
   },
   "source": [
    "## Using computational basis\n",
    "\n",
    "Next we assume an $n$-qubit system, where we take $N=s^n$ in the computational basis"
   ]
  },
  {
   "cell_type": "markdown",
   "id": "83777c1e",
   "metadata": {
    "editable": true
   },
   "source": [
    "$$\n",
    "\\vert 0 \\rangle,\\dots,\\vert 2^n -1\\rangle.\n",
    "$$"
   ]
  },
  {
   "cell_type": "markdown",
   "id": "10d2d389",
   "metadata": {
    "editable": true
   },
   "source": [
    "We make use of the binary representation $j = j_1 2^{n-1} + j_2\n",
    "2^{n-2} + \\dots + j_n 2^0$ , and take note of the notation $0.j_l\n",
    "j_{l+1} \\dots j_m$ representing the binary fraction $\\frac{j_l}{2^1} +\n",
    "\\frac{j_{l+1}}{2^{2}} + \\dots + \\frac{j_m}{2^{m-l+1}}$. With this we\n",
    "define the product representation of the quantum Fourier transform"
   ]
  },
  {
   "cell_type": "markdown",
   "id": "05e02492",
   "metadata": {
    "editable": true
   },
   "source": [
    "$$\n",
    "\\vert j_1,\\dots,j_n\\rangle  \\rightarrow \n",
    "\\frac{\n",
    "\\left(\\vert 0 \\rangle + \\exp{i(2\\pi 0.j_n)}\\right)\n",
    "\\left(\\vert 0 \\rangle + \\exp{i(2\\pi 0.j_{j-1}j_n)}\\right)\n",
    "\\dots\n",
    "\\left(\\vert 0 \\rangle + \\exp{i(2\\pi 0.j_1j_2\\dots j_n)}\\right)\n",
    "}{2^{n/2}}\n",
    "$$"
   ]
  },
  {
   "cell_type": "markdown",
   "id": "c088e926",
   "metadata": {
    "editable": true
   },
   "source": [
    "## Components\n",
    "\n",
    "From the product representation we can derive a circuit for the\n",
    "quantum Fourier transform. This will make use of the following two\n",
    "single-qubit gates"
   ]
  },
  {
   "cell_type": "markdown",
   "id": "edf4a0f5",
   "metadata": {
    "editable": true
   },
   "source": [
    "$$\n",
    "H = \\frac{1}{\\sqrt{2}}\n",
    "    \\begin{bmatrix}\n",
    "        1 & 1 \\\\\n",
    "        1 & -1\n",
    "    \\end{bmatrix}\n",
    "$$"
   ]
  },
  {
   "cell_type": "markdown",
   "id": "55df8791",
   "metadata": {
    "editable": true
   },
   "source": [
    "$$\n",
    "R_k =\n",
    "    \\begin{bmatrix}\n",
    "        1 & 0 \\\\\n",
    "        0 & e^{2\\pi i/2^{k}}\n",
    "    \\end{bmatrix}\n",
    "$$"
   ]
  },
  {
   "cell_type": "markdown",
   "id": "05a55c20",
   "metadata": {
    "editable": true
   },
   "source": [
    "## Using the Hadamard gate\n",
    "The Hadamard\n",
    "gate on a single qubit creates an equal superposition of its basis\n",
    "states, assuming it is not already in a superposition, such that"
   ]
  },
  {
   "cell_type": "markdown",
   "id": "2af1d333",
   "metadata": {
    "editable": true
   },
   "source": [
    "$$\n",
    "H\\vert 0 \\rangle = \\frac{1}{\\sqrt{2}} \\left(\\vert 0 \\rangle + \\vert 1\\rangle\\right), \\quad H\\vert 1\\rangle = \\frac{1}{\\sqrt{2}} \\left(\\vert 0 \\rangle - \\vert 1\\rangle\\right)\n",
    "$$"
   ]
  },
  {
   "cell_type": "markdown",
   "id": "b415bd80",
   "metadata": {
    "editable": true
   },
   "source": [
    "The $R_k$ gate simply adds a phase if the qubit it acts on is in the state $\\vert 1\\rangle$"
   ]
  },
  {
   "cell_type": "markdown",
   "id": "6b38624c",
   "metadata": {
    "editable": true
   },
   "source": [
    "$$\n",
    "R_k\\vert 0 \\rangle = \\vert 0 \\rangle, \\quad R_k\\vert 1\\rangle = e^{2\\pi i/2^{k}}\\vert 1\\rangle\n",
    "$$"
   ]
  },
  {
   "cell_type": "markdown",
   "id": "d0937cec",
   "metadata": {
    "editable": true
   },
   "source": [
    "Since all this gates are unitary, the quantum Fourier transfrom is also unitary."
   ]
  },
  {
   "cell_type": "markdown",
   "id": "de878da4",
   "metadata": {
    "editable": true
   },
   "source": [
    "## Algorithm\n",
    "\n",
    "Assume we have a quantum register of $n$ qubits in the state $\\vert j_1 j_2 \\dots j_n\\rangle$.\n",
    "Applying the Hadamard gate to the first qubit\n",
    "produces the state"
   ]
  },
  {
   "cell_type": "markdown",
   "id": "52870d9f",
   "metadata": {
    "editable": true
   },
   "source": [
    "$$\n",
    "H\\vert j_1 j_2 \\dots j_n\\rangle = \\frac{\\left(\\vert 0 \\rangle + e^{2\\pi i 0.j_1}\\vert 1\\rangle\\right)}{2^{1/2}} \\vert j_2 \\dots j_n\\rangle.\n",
    "$$"
   ]
  },
  {
   "cell_type": "markdown",
   "id": "f6e428c4",
   "metadata": {
    "editable": true
   },
   "source": [
    "## Binary fraction\n",
    "\n",
    "Here we have made use of the binary fraction to represent the action of the Hadamard gate"
   ]
  },
  {
   "cell_type": "markdown",
   "id": "951568f6",
   "metadata": {
    "editable": true
   },
   "source": [
    "$$\n",
    "\\exp{2\\pi i 0.j_1} = -1,\n",
    "$$"
   ]
  },
  {
   "cell_type": "markdown",
   "id": "a5465f02",
   "metadata": {
    "editable": true
   },
   "source": [
    "if $j_1 = 1$ and $+1$ if $j_1 = 0$."
   ]
  },
  {
   "cell_type": "markdown",
   "id": "64afc066",
   "metadata": {
    "editable": true
   },
   "source": [
    "## Controllod rotation gate\n",
    "\n",
    "Furthermore we can apply the controlled-$R_k$ gate, with all the other qubits $j_k$ for $k>1$ as control qubits to produce the state"
   ]
  },
  {
   "cell_type": "markdown",
   "id": "3756f237",
   "metadata": {
    "editable": true
   },
   "source": [
    "$$\n",
    "\\frac{\\left(\\vert 0 \\rangle + e^{2\\pi i 0.j_1j_2\\dots j_n}\\vert 1\\rangle\\right)}{2^{1/2}} \\vert j_2 \\dots j_n\\rangle\n",
    "$$"
   ]
  },
  {
   "cell_type": "markdown",
   "id": "c8346baa",
   "metadata": {
    "editable": true
   },
   "source": [
    "Next we do the same procedure on qubit $2$ producing the state"
   ]
  },
  {
   "cell_type": "markdown",
   "id": "37f48d14",
   "metadata": {
    "editable": true
   },
   "source": [
    "$$\n",
    "\\frac{\\left(\\vert 0 \\rangle + e^{2\\pi i 0.j_1j_2\\dots j_n}\\vert 1\\rangle\\right)\\left(\\vert 0 \\rangle + e^{2\\pi i 0.j_2\\dots j_n}\\vert 1\\rangle\\right)}{2^{2/2}} \\vert j_2 \\dots j_n\\rangle\n",
    "$$"
   ]
  },
  {
   "cell_type": "markdown",
   "id": "05c8fcdf",
   "metadata": {
    "editable": true
   },
   "source": [
    "## Applying to all qubits\n",
    "\n",
    "Doing this for all $n$ qubits yields state"
   ]
  },
  {
   "cell_type": "markdown",
   "id": "262cfd89",
   "metadata": {
    "editable": true
   },
   "source": [
    "$$\n",
    "\\frac{\\left(\\vert 0 \\rangle + e^{2\\pi i 0.j_1j_2\\dots j_n}\\vert 1\\rangle\\right)\\left(\\vert 0 \\rangle + e^{2\\pi i 0.j_2\\dots j_n}\\vert 1\\rangle\\right)\\dots \\left(\\vert 0 \\rangle + e^{2\\pi i 0.j_n}\\vert 1\\rangle\\right)}{2^{n/2}} \\vert j_2 \\dots j_n\\rangle\n",
    "$$"
   ]
  },
  {
   "cell_type": "markdown",
   "id": "c10066fa",
   "metadata": {
    "editable": true
   },
   "source": [
    "At the end we use swap gates to reverse the order of the qubits"
   ]
  },
  {
   "cell_type": "markdown",
   "id": "bdbb9cf9",
   "metadata": {
    "editable": true
   },
   "source": [
    "$$\n",
    "\\frac{\\left(\\vert 0 \\rangle + e^{2\\pi i 0.j_n}\\vert 1\\rangle\\right)\\left(\\vert 0 \\rangle + e^{2\\pi i 0.j_{n-1}j_n}\\vert 1\\rangle\\right)\\dots\\left(\\vert 0 \\rangle + e^{2\\pi i 0.j_1j_2\\dots j_n}\\vert 1\\rangle\\right) }{2^{n/2}} \\vert j_2 \\dots j_n\\rangle\n",
    "$$"
   ]
  },
  {
   "cell_type": "markdown",
   "id": "055246b2",
   "metadata": {
    "editable": true
   },
   "source": [
    "This is just the product representation from earlier, obviously our desired output."
   ]
  },
  {
   "cell_type": "markdown",
   "id": "5e7e8ba3",
   "metadata": {
    "editable": true
   },
   "source": [
    "## Code example"
   ]
  },
  {
   "cell_type": "code",
   "execution_count": 3,
   "id": "d408f298",
   "metadata": {
    "collapsed": false,
    "editable": true
   },
   "outputs": [],
   "source": [
    "import qiskit as qk\n",
    "import numpy as np\n",
    "##qk.IBMQ.load_account()\n",
    "\n",
    "def QFT(Qcircuit, inverse=False):\n",
    "    \"\"\" _________________________\n",
    "    \n",
    "        Quantum Fourier Transform\n",
    "        _________________________\n",
    "        \n",
    "        Input: \n",
    "        \n",
    "            Qcircuit = [qc,qr,cr,n]\n",
    "                - qc -> Quantum circuit object\n",
    "                - qr -> Quantum register object\n",
    "                - cr -> Classical register object\n",
    "                - n  -> Number of qubits\n",
    "                \n",
    "            inverse:\n",
    "                True,False\n",
    "   \n",
    "        Output:\n",
    "        \n",
    "            Qcircuit\n",
    "    \"\"\"\n",
    "    \n",
    "    qc       =  Qcircuit[0]\n",
    "    qr       =  Qcircuit[1]\n",
    "    n_qubits =  Qcircuit[2]\n",
    "    \n",
    "    if not inverse:\n",
    "        for i in range(n_qubits):\n",
    "            qc.h(qr[i])\n",
    "            for j in range(i+1,n_qubits):\n",
    "                qc.cu1(np.pi/2**(j-i),qr[j],qr[i])\n",
    "\n",
    "        for i in range(int(n_qubits/2)):\n",
    "            qc.swap(qr[i],qr[-(i+1)])\n",
    "    else:\n",
    "        for i in range(int(n_qubits/2)):\n",
    "            qc.swap(qr[i],qr[-(i+1)])\n",
    "            \n",
    "        for i in range(n_qubits):\n",
    "            for j in range(i):\n",
    "                qc.cu1(-np.pi/2**(i-j),qr[j],qr[i])\n",
    "            qc.h(qr[i])    \n",
    "    \n",
    "    return [qc,qc,n_qubits] \n",
    "\n",
    "\n",
    "\n",
    "## Simple 3-qubit transform to confirm correct implementation\n",
    "n_qubits = 3\n",
    "qr1      = qk.QuantumRegister(n_qubits)\n",
    "qc1      = qk.QuantumCircuit(qr1)\n",
    "qr2      = qk.QuantumRegister(n_qubits)\n",
    "qc2      = qk.QuantumCircuit(qr2)\n",
    "Qcircuit1 = QFT([qc1,qr1,n_qubits])\n",
    "Qcircuit2 = QFT([qc2,qr2,n_qubits],inverse=True)\n",
    "\n",
    "Qcircuit1[0].draw()\n",
    "Qcircuit2[0].draw()"
   ]
  }
 ],
 "metadata": {},
 "nbformat": 4,
 "nbformat_minor": 5
}
