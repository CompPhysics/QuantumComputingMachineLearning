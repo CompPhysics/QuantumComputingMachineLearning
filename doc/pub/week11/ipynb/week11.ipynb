{
 "cells": [
  {
   "cell_type": "markdown",
   "id": "4bde316d",
   "metadata": {},
   "source": [
    "<!-- HTML file automatically generated from DocOnce source (https://github.com/doconce/doconce/)\n",
    "doconce format html week11.do.txt --no_mako -->\n",
    "<!-- dom:TITLE: April 17-21, 2023: Quantum Computing, Quantum Machine Learning and Quantum Information Theories -->"
   ]
  },
  {
   "cell_type": "markdown",
   "id": "33bad0e5",
   "metadata": {},
   "source": [
    "# April 17-21, 2023: Quantum Computing, Quantum Machine Learning and Quantum Information Theories\n",
    "**Morten Hjorth-Jensen**, Department of Physics, University of Oslo and Department of Physics and Astronomy and Facility for Rare Isotope Beams, Michigan State University\n",
    "\n",
    "Date: **Apr 24, 2023**\n",
    "\n",
    "Copyright 1999-2023, Morten Hjorth-Jensen. Released under CC Attribution-NonCommercial 4.0 license"
   ]
  },
  {
   "cell_type": "markdown",
   "id": "8c7cfce4",
   "metadata": {},
   "source": [
    "## Plans for the week of April 17-21\n",
    "\n",
    "1. Reminder on basics of the VQE method\n",
    "\n",
    "2. Simulating efficiently Hamiltonians on quantum computers with the VQE method\n",
    "\n",
    "3. Discussions of various gradient descent approaches\n",
    "\n",
    "4. [VQE review article](https://www.sciencedirect.com/science/article/pii/S0370157322003118?via%3Dihub)\n",
    "\n",
    "5. [Video of lecture](https://youtu.be/lTB5I1vkdlw)"
   ]
  },
  {
   "cell_type": "markdown",
   "id": "53924a0d",
   "metadata": {},
   "source": [
    "## VQE overview\n",
    "\n",
    "<!-- dom:FIGURE: [figures/vqe.png, width=700 frac=0.9] -->\n",
    "<!-- begin figure -->\n",
    "\n",
    "<img src=\"figures/vqe.png\" width=\"700\"><p style=\"font-size: 0.9em\"><i>Figure 1: </i></p>\n",
    "<!-- end figure -->"
   ]
  },
  {
   "cell_type": "markdown",
   "id": "7b00c52a",
   "metadata": {},
   "source": [
    "## VQE and efficient computations of gradients\n",
    "\n",
    "We start with a reminder on the VQE method with applications to the\n",
    "one-qubit system.  We discussed this to some detail during the week of\n",
    "March 27-31. Here we revisit the one-qubit system and develop a VQE\n",
    "code for studying this system using gradient descent as a method to\n",
    "optimize the variational ansatz. \n",
    "\n",
    "We start with a simple $2\\times 2$ Hamiltonian matrix expressed in\n",
    "terms of Pauli $X$ and $Z$ matrices, as discussed in the project text.\n",
    "\n",
    "We define a  symmetric matrix  $H\\in {\\mathbb{R}}^{2\\times 2}$"
   ]
  },
  {
   "cell_type": "markdown",
   "id": "1d7dad60",
   "metadata": {},
   "source": [
    "$$\n",
    "H = \\begin{bmatrix} H_{11} & H_{12} \\\\ H_{21} & H_{22}\n",
    "\\end{bmatrix},\n",
    "$$"
   ]
  },
  {
   "cell_type": "markdown",
   "id": "268cbfb2",
   "metadata": {},
   "source": [
    "We  let $H = H_0 + H_I$, where"
   ]
  },
  {
   "cell_type": "markdown",
   "id": "d3d967be",
   "metadata": {},
   "source": [
    "$$\n",
    "H_0= \\begin{bmatrix} E_1 & 0 \\\\ 0 & E_2\\end{bmatrix},\n",
    "$$"
   ]
  },
  {
   "cell_type": "markdown",
   "id": "28b628b0",
   "metadata": {},
   "source": [
    "is a diagonal matrix. Similarly,"
   ]
  },
  {
   "cell_type": "markdown",
   "id": "0068b51e",
   "metadata": {},
   "source": [
    "$$\n",
    "H_I= \\begin{bmatrix} V_{11} & V_{12} \\\\ V_{21} & V_{22}\\end{bmatrix},\n",
    "$$"
   ]
  },
  {
   "cell_type": "markdown",
   "id": "fd049b8e",
   "metadata": {},
   "source": [
    "where $V_{ij}$ represent various interaction matrix elements.\n",
    "We can view $H_0$ as the non-interacting solution"
   ]
  },
  {
   "cell_type": "markdown",
   "id": "b37d8ad8",
   "metadata": {},
   "source": [
    "<!-- Equation labels as ordinary links -->\n",
    "<div id=\"_auto1\"></div>\n",
    "\n",
    "$$\n",
    "\\begin{equation}\n",
    "       H_0\\vert 0 \\rangle =E_1\\vert 0 \\rangle,\n",
    "\\label{_auto1} \\tag{1}\n",
    "\\end{equation}\n",
    "$$"
   ]
  },
  {
   "cell_type": "markdown",
   "id": "2c22ae9c",
   "metadata": {},
   "source": [
    "and"
   ]
  },
  {
   "cell_type": "markdown",
   "id": "fd94902a",
   "metadata": {},
   "source": [
    "<!-- Equation labels as ordinary links -->\n",
    "<div id=\"_auto2\"></div>\n",
    "\n",
    "$$\n",
    "\\begin{equation}\n",
    "       H_0\\vert 1\\rangle =E_2\\vert 1\\rangle,\n",
    "\\label{_auto2} \\tag{2}\n",
    "\\end{equation}\n",
    "$$"
   ]
  },
  {
   "cell_type": "markdown",
   "id": "3a9687ea",
   "metadata": {},
   "source": [
    "where we have defined the orthogonal computational one-qubit basis states $\\vert 0\\rangle$ and $\\vert 1\\rangle$.\n",
    "\n",
    "We rewrite $H$ (and $H_0$ and $H_I$)  via Pauli matrices"
   ]
  },
  {
   "cell_type": "markdown",
   "id": "7f63bf5d",
   "metadata": {},
   "source": [
    "$$\n",
    "H_0 = \\mathcal{E} I + \\Omega \\sigma_z, \\quad \\mathcal{E} = \\frac{E_1\n",
    "  + E_2}{2}, \\; \\Omega = \\frac{E_1-E_2}{2},\n",
    "$$"
   ]
  },
  {
   "cell_type": "markdown",
   "id": "3a6f4941",
   "metadata": {},
   "source": [
    "and"
   ]
  },
  {
   "cell_type": "markdown",
   "id": "3a1ca0ef",
   "metadata": {},
   "source": [
    "$$\n",
    "H_I = c \\boldsymbol{I} +\\omega_z\\sigma_z + \\omega_x\\sigma_x,\n",
    "$$"
   ]
  },
  {
   "cell_type": "markdown",
   "id": "804eecf5",
   "metadata": {},
   "source": [
    "with $c = (V_{11}+V_{22})/2$, $\\omega_z = (V_{11}-V_{22})/2$ and $\\omega_x = V_{12}=V_{21}$.\n",
    "We let our Hamiltonian depend linearly on a strength parameter $\\lambda$"
   ]
  },
  {
   "cell_type": "markdown",
   "id": "4a95d0ca",
   "metadata": {},
   "source": [
    "$$\n",
    "H=H_0+\\lambda H_\\mathrm{I},\n",
    "$$"
   ]
  },
  {
   "cell_type": "markdown",
   "id": "11643dcb",
   "metadata": {},
   "source": [
    "with $\\lambda \\in [0,1]$, where the limits $\\lambda=0$ and $\\lambda=1$\n",
    "represent the non-interacting (or unperturbed) and fully interacting\n",
    "system, respectively.  The model is an eigenvalue problem with only\n",
    "two available states.\n",
    "\n",
    "Here we set the parameters $E_1=0$,\n",
    "$E_2=4$, $V_{11}=-V_{22}=3$ and $V_{12}=V_{21}=0.2$.\n",
    "\n",
    "The non-interacting solutions represent our computational basis.\n",
    "Pertinent to our choice of parameters, is that at $\\lambda\\geq 2/3$,\n",
    "the lowest eigenstate is dominated by $\\vert 1\\rangle$ while the upper\n",
    "is $\\vert 0 \\rangle$. At $\\lambda=1$ the $\\vert 0 \\rangle$ mixing of\n",
    "the lowest eigenvalue is $1\\%$ while for $\\lambda\\leq 2/3$ we have a\n",
    "$\\vert 0 \\rangle$ component of more than $90\\%$.  The character of the\n",
    "eigenvectors has therefore been interchanged when passing $z=2/3$. The\n",
    "value of the parameter $V_{12}$ represents the strength of the coupling\n",
    "between the two states."
   ]
  },
  {
   "cell_type": "markdown",
   "id": "acd6407e",
   "metadata": {},
   "source": [
    "## Setting up the matrix"
   ]
  },
  {
   "cell_type": "code",
   "execution_count": 1,
   "id": "c6013427",
   "metadata": {},
   "outputs": [],
   "source": [
    "%matplotlib inline\n",
    "\n",
    "from  matplotlib import pyplot as plt\n",
    "import numpy as np\n",
    "dim = 2\n",
    "Hamiltonian = np.zeros((dim,dim))\n",
    "e0 = 0.0\n",
    "e1 = 4.0\n",
    "Xnondiag = 0.20\n",
    "Xdiag = 3.0\n",
    "Eigenvalue = np.zeros(dim)\n",
    "# setting up the Hamiltonian\n",
    "Hamiltonian[0,0] = Xdiag+e0\n",
    "Hamiltonian[0,1] = Xnondiag\n",
    "Hamiltonian[1,0] = Hamiltonian[0,1]\n",
    "Hamiltonian[1,1] = e1-Xdiag\n",
    "# diagonalize and obtain eigenvalues, not necessarily sorted\n",
    "EigValues, EigVectors = np.linalg.eig(Hamiltonian)\n",
    "permute = EigValues.argsort()\n",
    "EigValues = EigValues[permute]\n",
    "# print only the lowest eigenvalue\n",
    "print(EigValues[0])"
   ]
  },
  {
   "cell_type": "markdown",
   "id": "8fa6ec43",
   "metadata": {},
   "source": [
    "Now rewrite it in terms of the identity matrix and the Pauli matrix X and Z"
   ]
  },
  {
   "cell_type": "code",
   "execution_count": 2,
   "id": "fbcf260b",
   "metadata": {},
   "outputs": [],
   "source": [
    "# Now rewrite it in terms of the identity matrix and the Pauli matrix X and Z\n",
    "X = np.array([[0,1],[1,0]])\n",
    "Y = np.array([[0,-1j],[1j,0]])\n",
    "Z = np.array([[1,0],[0,-1]])\n",
    "# identity matrix\n",
    "I = np.array([[1,0],[0,1]])\n",
    "\n",
    "epsilon = (e0+e1)*0.5; omega = (e0-e1)*0.5\n",
    "c = 0.0; omega_z=Xdiag; omega_x = Xnondiag\n",
    "Hamiltonian = (epsilon+c)*I+(omega_z+omega)*Z+omega_x*X\n",
    "EigValues, EigVectors = np.linalg.eig(Hamiltonian)\n",
    "permute = EigValues.argsort()\n",
    "EigValues = EigValues[permute]\n",
    "# print only the lowest eigenvalue\n",
    "print(EigValues[0])"
   ]
  },
  {
   "cell_type": "markdown",
   "id": "36ab6125",
   "metadata": {},
   "source": [
    "## Implementing the VQE\n",
    "\n",
    "For a one-qubit system we can reach every point on the Bloch sphere\n",
    "(as discussed earlier) with a rotation about the $x$-axis and the\n",
    "$y$-axis.\n",
    "\n",
    "We can express this mathematically through the following operations (see whiteboard for the drawing), giving us a new state $\\vert \\psi\\rangle$"
   ]
  },
  {
   "cell_type": "markdown",
   "id": "c9b6e1be",
   "metadata": {},
   "source": [
    "$$\n",
    "\\vert\\psi\\rangle = R_y(\\phi)R_x(\\theta)\\vert 0 \\rangle.\n",
    "$$"
   ]
  },
  {
   "cell_type": "markdown",
   "id": "3ab74107",
   "metadata": {},
   "source": [
    "We can produce multiple ansatzes for the new state in terms of the\n",
    "angles $\\theta$ and $\\phi$.  With these ansatzes we can in turn\n",
    "calculate the expectation value of the above Hamiltonian, now\n",
    "rewritten in terms of various Pauli matrices (and thereby gates), that is compute"
   ]
  },
  {
   "cell_type": "markdown",
   "id": "0bb08ea9",
   "metadata": {},
   "source": [
    "$$\n",
    "\\langle \\psi \\vert (c+\\mathcal{E})\\boldsymbol{I} + (\\Omega+\\omega_z)\\boldsymbol{\\sigma}_z + \\omega_x\\boldsymbol{\\sigma}_x\\vert \\psi \\rangle.\n",
    "$$"
   ]
  },
  {
   "cell_type": "markdown",
   "id": "c1e2bb33",
   "metadata": {},
   "source": [
    "We can now set up a series of ansatzes for $\\vert \\psi \\rangle$ as\n",
    "function of the angles $\\theta$ and $\\phi$ and find thereafter the\n",
    "variational minimum using for example a gradient descent method.\n",
    "\n",
    "To do so, we need to remind ourselves about the mathematical expressions for\n",
    "the rotational matrices/operators."
   ]
  },
  {
   "cell_type": "markdown",
   "id": "85583898",
   "metadata": {},
   "source": [
    "$$\n",
    "R_x(\\theta)=\\cos{\\frac{\\theta}{2}}\\boldsymbol{I}-\\imath \\sin{\\frac{\\theta}{2}}\\boldsymbol{\\sigma}_x,\n",
    "$$"
   ]
  },
  {
   "cell_type": "markdown",
   "id": "cfb9e511",
   "metadata": {},
   "source": [
    "and"
   ]
  },
  {
   "cell_type": "markdown",
   "id": "06779959",
   "metadata": {},
   "source": [
    "$$\n",
    "R_y(\\phi)=\\cos{\\frac{\\phi}{2}}\\boldsymbol{I}-\\imath \\sin{\\frac{\\phi}{2}}\\boldsymbol{\\sigma}_y.\n",
    "$$"
   ]
  },
  {
   "cell_type": "code",
   "execution_count": 3,
   "id": "683fe60f",
   "metadata": {},
   "outputs": [],
   "source": [
    "# define the rotation matrices\n",
    "# Define angles theta and phi\n",
    "theta = 0.5*np.pi; phi = 0.2*np.pi\n",
    "Rx = np.cos(theta*0.5)*I-1j*np.sin(theta*0.5)*X\n",
    "Ry = np.cos(phi*0.5)*I-1j*np.sin(phi*0.5)*Y\n",
    "#define basis states\n",
    "basis0 = np.array([1,0])\n",
    "basis1 = np.array([0,1])\n",
    "\n",
    "NewBasis = Ry @ Rx @ basis0\n",
    "print(NewBasis)\n",
    "# Compute the expectation value\n",
    "#Note hermitian conjugation\n",
    "Energy = NewBasis.conj().T @ Hamiltonian @ NewBasis\n",
    "print(Energy)"
   ]
  },
  {
   "cell_type": "markdown",
   "id": "c227ead5",
   "metadata": {},
   "source": [
    "Not an impressive results. We set up now a loop over many angles $\\theta$ and $\\phi$ and compute the energies"
   ]
  },
  {
   "cell_type": "code",
   "execution_count": 4,
   "id": "081ba555",
   "metadata": {},
   "outputs": [],
   "source": [
    "# define a number of angles\n",
    "n = 20\n",
    "angle = np.arange(0,180,10)\n",
    "n = np.size(angle)\n",
    "ExpectationValues = np.zeros((n,n))\n",
    "for i in range (n):\n",
    "    theta = np.pi*angle[i]/180.0\n",
    "    Rx = np.cos(theta*0.5)*I-1j*np.sin(theta*0.5)*X\n",
    "    for j in range (n):\n",
    "        phi = np.pi*angle[j]/180.0\n",
    "        Ry = np.cos(phi*0.5)*I-1j*np.sin(phi*0.5)*Y\n",
    "        NewBasis = Ry @ Rx @ basis0\n",
    "        Energy = NewBasis.conj().T @ Hamiltonian @ NewBasis\n",
    "        Edifference=abs(np.real(EigValues[0]-Energy))\n",
    "        ExpectationValues[i,j]=Edifference\n",
    "\n",
    "print(np.min(ExpectationValues))"
   ]
  },
  {
   "cell_type": "markdown",
   "id": "bc09912d",
   "metadata": {},
   "source": [
    "Clearly, this is not the best way of proceeding. Rather, here we\n",
    "could try to find the optimal values for the parameters $\\theta$ and\n",
    "$\\phi$ through computation of their respective gradients and thereby\n",
    "find the minimum as function of the optimal angles $\\hat{\\theta}$ and\n",
    "$\\hat{\\phi}$.\n",
    "\n",
    "Let us now implement a classical gradient descent algorithm to the computation of the energies. \n",
    "We will follow closely  <https://journals.aps.org/pra/abstract/10.1103/PhysRevA.99.032331> in order to calculate gradients of the Hamiltonian."
   ]
  },
  {
   "cell_type": "markdown",
   "id": "5b57dc31",
   "metadata": {},
   "source": [
    "## Gradient descent and calculations of gradients\n",
    "\n",
    "In order to optimize the VQE ansatz, we need to compute derivatives\n",
    "with respect to the variational parameters.  Here we develop first a\n",
    "simpler approach tailored to the one-qubit case. For this particular\n",
    "case, we have defined an ansatz in terms of the Pauli rotation\n",
    "matrices. These define an arbitrary one-qubit state on the Bloch\n",
    "sphere through the expression"
   ]
  },
  {
   "cell_type": "markdown",
   "id": "aa43451a",
   "metadata": {},
   "source": [
    "$$\n",
    "\\vert\\psi\\rangle = \\vert \\psi(\\theta,\\phi)\\rangle =R_y(\\phi)R_x(\\theta)\\vert 0 \\rangle.\n",
    "$$"
   ]
  },
  {
   "cell_type": "markdown",
   "id": "9c99cb49",
   "metadata": {},
   "source": [
    "Each of these rotation matrices can be written in a more general form as"
   ]
  },
  {
   "cell_type": "markdown",
   "id": "074f204e",
   "metadata": {},
   "source": [
    "$$\n",
    "R_{i}(\\gamma)=\\exp{-(\\imath\\frac{\\gamma}{2}\\sigma_i)}=\\cos{(\\frac{\\gamma}{2})}\\boldsymbol{I}-\\imath\\sin{(\\frac{\\gamma}{2})}\\boldsymbol{\\sigma}_i,\n",
    "$$"
   ]
  },
  {
   "cell_type": "markdown",
   "id": "79c17d56",
   "metadata": {},
   "source": [
    "where $\\sigma_i$ is one of the Pauli matrices $\\sigma_{x,y,z}$. \n",
    "\n",
    "It is easy to see that the derivative with respect to $\\gamma$ is"
   ]
  },
  {
   "cell_type": "markdown",
   "id": "ab39419d",
   "metadata": {},
   "source": [
    "$$\n",
    "\\frac{\\partial R_{i}(\\gamma)}{\\partial \\gamma}=-\\frac{\\gamma}{2}\\boldsymbol{\\sigma}_i R_{i}(\\gamma).\n",
    "$$"
   ]
  },
  {
   "cell_type": "markdown",
   "id": "28b17ce6",
   "metadata": {},
   "source": [
    "We can now calculate the derivative of the expectation value of the\n",
    "Hamiltonian in terms of the angles $\\theta$ and $\\phi$. We have two\n",
    "derivatives"
   ]
  },
  {
   "cell_type": "markdown",
   "id": "59b9a457",
   "metadata": {},
   "source": [
    "$$\n",
    "\\frac{\\partial}{\\partial \\theta}\\left[\\langle \\psi(\\theta,\\phi) \\vert \\boldsymbol{H}\\vert \\psi(\\theta,\\phi)\\rangle\\right]=\\frac{\\partial}{\\partial \\theta}\\left[\\langle\\boldsymbol{H}(\\theta,\\phi)\\rangle\\right]=\\langle \\psi(\\theta,\\phi) \\vert \\boldsymbol{H}(-\\frac{\\imath}{2}\\boldsymbol{\\sigma}_x\\vert \\psi(\\theta,\\phi)\\rangle+\\hspace{0.1cm}\\mathrm{h.c},\n",
    "$$"
   ]
  },
  {
   "cell_type": "markdown",
   "id": "51662f89",
   "metadata": {},
   "source": [
    "and"
   ]
  },
  {
   "cell_type": "markdown",
   "id": "4f829415",
   "metadata": {},
   "source": [
    "$$\n",
    "\\frac{\\partial }{\\partial \\phi}\\left[\\langle \\psi(\\theta,\\phi) \\vert \\boldsymbol{H}\\vert \\psi(\\theta,\\phi)\\rangle\\right]=\\frac{\\partial}{\\partial \\phi}\\left[\\langle\\boldsymbol{H}(\\theta,\\phi)\\rangle\\right]=\\langle \\psi(\\theta,\\phi) \\vert \\boldsymbol{H}(-\\frac{\\imath}{2}\\boldsymbol{\\sigma}_y\\vert \\psi(\\theta,\\phi)\\rangle+\\hspace{0.1cm}\\mathrm{h.c}.\n",
    "$$"
   ]
  },
  {
   "cell_type": "markdown",
   "id": "144b5d8d",
   "metadata": {},
   "source": [
    "This means that we have to calculate two additional expectation values\n",
    "in addition to the expectation value of the Hamiltonian itself.  If we\n",
    "stay with an ansatz for the single qubit states given by the above\n",
    "rotation operators, we can, following for example [the article by\n",
    "Maria Schuld et\n",
    "al](https://journals.aps.org/pra/abstract/10.1103/PhysRevA.99.032331),\n",
    "show that the derivative of the expectation value of the Hamiltonian\n",
    "can be written as (we focus only on a given angle $\\phi$)"
   ]
  },
  {
   "cell_type": "markdown",
   "id": "b2635409",
   "metadata": {},
   "source": [
    "$$\n",
    "\\frac{\\partial}{\\partial \\phi}\\left[\\langle\\boldsymbol{H}(\\phi)\\rangle\\right]=\\frac{1}{2}\\left[\\langle\\boldsymbol{H}(\\phi+\\frac{\\pi}{2})\\rangle-\\langle\\boldsymbol{H}(\\phi-\\frac{\\pi}{2})\\rangle\\right].\n",
    "$$"
   ]
  },
  {
   "cell_type": "markdown",
   "id": "90fa200c",
   "metadata": {},
   "source": [
    "To see this, consider again the definition of the rotation operators.\n",
    "We can write these operators as"
   ]
  },
  {
   "cell_type": "markdown",
   "id": "5d3d4ee6",
   "metadata": {},
   "source": [
    "$$\n",
    "R_i(\\phi)=\\exp{-\\imath(\\phi \\boldsymbol{\\sigma}_i)},\n",
    "$$"
   ]
  },
  {
   "cell_type": "markdown",
   "id": "e70b941a",
   "metadata": {},
   "source": [
    "with $\\boldsymbol{sigma}_i$, with $\\boldsymbol{\\sigma}_i$ being any of the Pauli\n",
    "matrices $X$, $Y$ and $Z$. The latter can be generalized to other\n",
    "unitary matrices as well.\n",
    "The derivative with respect to $\\phi$ gives"
   ]
  },
  {
   "cell_type": "markdown",
   "id": "e30eb18b",
   "metadata": {},
   "source": [
    "$$\n",
    "\\frac{\\partial R_i(\\phi)}{\\partial \\phi}=-\\frac{\\imath}{2} \\boldsymbol{\\sigma}_i\\exp{-\\imath(\\phi \\boldsymbol{\\sigma}_i)}=-\\frac{\\imath}{2} \\boldsymbol{\\sigma} R_i(\\phi).\n",
    "$$"
   ]
  },
  {
   "cell_type": "markdown",
   "id": "fa81fa0f",
   "metadata": {},
   "source": [
    "Our ansatz for a general one-qubit state on the Bloch sphere contains the product of a rotation around the $x$-axis and the $y$-axis. In the derivation here we focus only on one angle however. Our ansatz is then given by"
   ]
  },
  {
   "cell_type": "markdown",
   "id": "4fee2841",
   "metadata": {},
   "source": [
    "$$\n",
    "\\vert \\psi \\rangle = R_i(\\phi)\\vert 0 \\rangle,\n",
    "$$"
   ]
  },
  {
   "cell_type": "markdown",
   "id": "474c44d9",
   "metadata": {},
   "source": [
    "and the expectation value of our Hamiltonian is"
   ]
  },
  {
   "cell_type": "markdown",
   "id": "4d986f6c",
   "metadata": {},
   "source": [
    "$$\n",
    "\\langle \\psi \\vert \\hat{H}\\vert \\psi \\rangle = \\langle 0 \\vert R_i(\\phi)^{\\dagger} \\hat{H}R_i(\\phi)\\vert 0\\rangle.\n",
    "$$"
   ]
  },
  {
   "cell_type": "markdown",
   "id": "27ad0874",
   "metadata": {},
   "source": [
    "Our derivative with respect to the angle $\\phi$ has a similar structure, that is"
   ]
  },
  {
   "cell_type": "markdown",
   "id": "fa347452",
   "metadata": {},
   "source": [
    "$$\n",
    "\\frac{\\partial }{\\partial \\phi}\\left[\\langle \\psi(\\theta,\\phi) \\vert \\boldsymbol{H}\\vert \\psi(\\theta,\\phi)\\rangle\\right]=\\langle \\psi(\\theta,\\phi) \\vert \\boldsymbol{H}(-\\frac{\\imath}{2}\\boldsymbol{\\sigma}_y\\vert \\psi(\\theta,\\phi)\\rangle+\\hspace{0.1cm}\\mathrm{h.c}.\n",
    "$$"
   ]
  },
  {
   "cell_type": "markdown",
   "id": "514b5644",
   "metadata": {},
   "source": [
    "In order to rewrite the equation of the derivative,\n",
    "the following relation is useful"
   ]
  },
  {
   "cell_type": "markdown",
   "id": "66139f46",
   "metadata": {},
   "source": [
    "$$\n",
    "\\langle \\psi \\vert \\hat{A}^{\\dagger}\\hat{B}\\hat{C}\\vert \\psi \\rangle = \\frac{1}{2}\\left[\n",
    "\\langle \\psi \\vert (\\hat{A}+\\hat{C})^{\\dagger}\\hat{B}(\\boldsymbol{A}+\\hat{C})\\vert \\psi \\rangle-\\langle \\psi \\vert (\\hat{A}-\\hat{C})^{\\dagger}\\hat{B}(\\boldsymbol{A}-\\hat{C})\\vert \\psi \\rangle\\right],\n",
    "$$"
   ]
  },
  {
   "cell_type": "markdown",
   "id": "774a3ed0",
   "metadata": {},
   "source": [
    "where $\\hat{A}$, $\\hat{B}$ and $\\hat{C}$ are arbitrary hermitian\n",
    "operators.  If we identify these operators as $\\hat{A}=\\boldsymbol{I}$, with\n",
    "$\\boldsymbol{I}$ being the unit operator, $\\hat{B}=\\hat{H}$ our Hamiltonian,\n",
    "and $\\hat{C}=-\\imath \\boldsymbol{\\sigma}_i/2$, we obtain the following\n",
    "expression for the expectation value of the derivative (excluding the hermitian conjugate)"
   ]
  },
  {
   "cell_type": "markdown",
   "id": "ddeac43e",
   "metadata": {},
   "source": [
    "$$\n",
    "\\langle \\psi \\vert \\boldsymbol{I}^{\\dagger}\\hat{H}(-\\frac{\\imath}{2}\\boldsymbol{\\sigma}_i\\vert \\psi \\rangle = \\frac{1}{2}\\left[\n",
    "\\langle \\psi \\vert (\\boldsymbol{I}-\\frac{\\imath}{2} \\boldsymbol{\\sigma}_i)^{\\dagger}\\hat{H}(\\boldsymbol{I}-\\frac{\\imath}{2} \\boldsymbol{\\sigma}_i)\\vert \\psi \\rangle-\\langle \\psi \\vert (\\boldsymbol{I}+\\frac{\\imath}{2} \\boldsymbol{\\sigma}_i)^{\\dagger}\\hat{H}(\\boldsymbol{I}+\\frac{\\imath}{2} \\boldsymbol{\\sigma}_i)\\vert \\psi \\rangle\\right].\n",
    "$$"
   ]
  },
  {
   "cell_type": "markdown",
   "id": "063895b7",
   "metadata": {},
   "source": [
    "If we then use that the rotation matrices can be rewritten as"
   ]
  },
  {
   "cell_type": "markdown",
   "id": "f34c0d4b",
   "metadata": {},
   "source": [
    "$$\n",
    "R_{i}(\\phi)=\\exp{-(\\imath\\frac{\\phi}{2}\\sigma_i)}=\\cos{(\\frac{\\phi}{2})}\\boldsymbol{I}-\\imath\\sin{(\\frac{\\phi}{2})}\\boldsymbol{\\sigma}_i,\n",
    "$$"
   ]
  },
  {
   "cell_type": "markdown",
   "id": "799ab652",
   "metadata": {},
   "source": [
    "we see that if we set the angle to $\\phi=\\pi/2$, we have"
   ]
  },
  {
   "cell_type": "markdown",
   "id": "fa8cb8bc",
   "metadata": {},
   "source": [
    "$$\n",
    "R_{i}(\\frac{\\pi}{2})=\\cos{(\\frac{\\pi}{4})}\\boldsymbol{I}-\\imath\\sin{(\\frac{\\pi}{4})}\\boldsymbol{\\sigma}_i=\\frac{1}{\\sqrt{2}}\\left(\\boldsymbol{I}-\\frac{\\imath}{2} \\boldsymbol{\\sigma}_i\\right).\n",
    "$$"
   ]
  },
  {
   "cell_type": "markdown",
   "id": "341511b5",
   "metadata": {},
   "source": [
    "This means that we can write"
   ]
  },
  {
   "cell_type": "markdown",
   "id": "e99574d3",
   "metadata": {},
   "source": [
    "$$\n",
    "\\langle \\psi \\vert \\boldsymbol{I}^{\\dagger}\\hat{H}(-\\frac{\\imath}{2}\\boldsymbol{\\sigma}_i\\vert \\psi \\rangle = \\frac{1}{2}\\left[\n",
    "\\langle \\psi \\vert R_i(\\frac{\\pi}{2})^{\\dagger}\\hat{H}R_i(\\frac{\\pi}{2})\\vert \\psi \\rangle-\\langle \\psi \\vert R_i(-\\frac{\\pi}{2})^{\\dagger}\\hat{H}R_i(-\\frac{\\pi}{2})^{\\dagger}\\vert \\psi \\rangle\\right]=\\frac{1}{2}(\\langle\\hat{H}(\\phi+\\frac{\\pi}{2})\\rangle-\\langle\\hat{H}(\\phi-\\frac{\\pi}{2})\\rangle).\n",
    "$$"
   ]
  },
  {
   "cell_type": "markdown",
   "id": "92519534",
   "metadata": {},
   "source": [
    "## Basics of gradient descent and stochastic gradient descent\n",
    "\n",
    "In order to implement the above equations, we need to remind the\n",
    "reader about basic elements of various optimization approaches. Our\n",
    "main focus here will be various gradient descent approaches, with and\n",
    "without momentum and various approaches for approximating the second\n",
    "derivatives via adaptive methods.\n",
    "\n",
    "The material here is covered by the lectures from [FYS-STK4155 on gradient optimization](https://github.com/CompPhysics/MachineLearning/blob/master/doc/pub/week39/ipynb/week39.ipynb).\n",
    "\n",
    "We will repeat some of the basic ingredients from these lectures."
   ]
  },
  {
   "cell_type": "markdown",
   "id": "846e2592",
   "metadata": {},
   "source": [
    "## Brief reminder on Newton-Raphson's method\n",
    "\n",
    "Let us quickly remind ourselves how we derive the above method.\n",
    "\n",
    "Perhaps the most celebrated of all one-dimensional root-finding\n",
    "routines is Newton's method, also called the Newton-Raphson\n",
    "method. This method  requires the evaluation of both the\n",
    "function $f$ and its derivative $f'$ at arbitrary points. \n",
    "If you can only calculate the derivative\n",
    "numerically and/or your function is not of the smooth type, we\n",
    "normally discourage the use of this method."
   ]
  },
  {
   "cell_type": "markdown",
   "id": "212507b4",
   "metadata": {},
   "source": [
    "## The equations\n",
    "\n",
    "The Newton-Raphson formula consists geometrically of extending the\n",
    "tangent line at a current point until it crosses zero, then setting\n",
    "the next guess to the abscissa of that zero-crossing.  The mathematics\n",
    "behind this method is rather simple. Employing a Taylor expansion for\n",
    "$x$ sufficiently close to the solution $s$, we have"
   ]
  },
  {
   "cell_type": "markdown",
   "id": "07e75d82",
   "metadata": {},
   "source": [
    "<!-- Equation labels as ordinary links -->\n",
    "<div id=\"eq:taylornr\"></div>\n",
    "\n",
    "$$\n",
    "f(s)=0=f(x)+(s-x)f'(x)+\\frac{(s-x)^2}{2}f''(x) +\\dots.\n",
    "    \\label{eq:taylornr} \\tag{3}\n",
    "$$"
   ]
  },
  {
   "cell_type": "markdown",
   "id": "eab2b6ea",
   "metadata": {},
   "source": [
    "For small enough values of the function and for well-behaved\n",
    "functions, the terms beyond linear are unimportant, hence we obtain"
   ]
  },
  {
   "cell_type": "markdown",
   "id": "2291a434",
   "metadata": {},
   "source": [
    "$$\n",
    "f(x)+(s-x)f'(x)\\approx 0,\n",
    "$$"
   ]
  },
  {
   "cell_type": "markdown",
   "id": "bf17cb53",
   "metadata": {},
   "source": [
    "yielding"
   ]
  },
  {
   "cell_type": "markdown",
   "id": "56a0b02a",
   "metadata": {},
   "source": [
    "$$\n",
    "s\\approx x-\\frac{f(x)}{f'(x)}.\n",
    "$$"
   ]
  },
  {
   "cell_type": "markdown",
   "id": "d2d46c9f",
   "metadata": {},
   "source": [
    "Having in mind an iterative procedure, it is natural to start iterating with"
   ]
  },
  {
   "cell_type": "markdown",
   "id": "6ad149ce",
   "metadata": {},
   "source": [
    "$$\n",
    "x_{n+1}=x_n-\\frac{f(x_n)}{f'(x_n)}.\n",
    "$$"
   ]
  },
  {
   "cell_type": "markdown",
   "id": "80db7117",
   "metadata": {},
   "source": [
    "## Simple geometric interpretation\n",
    "\n",
    "The above is Newton-Raphson's method. It has a simple geometric\n",
    "interpretation, namely $x_{n+1}$ is the point where the tangent from\n",
    "$(x_n,f(x_n))$ crosses the $x$-axis.  Close to the solution,\n",
    "Newton-Raphson converges fast to the desired result. However, if we\n",
    "are far from a root, where the higher-order terms in the series are\n",
    "important, the Newton-Raphson formula can give grossly inaccurate\n",
    "results. For instance, the initial guess for the root might be so far\n",
    "from the true root as to let the search interval include a local\n",
    "maximum or minimum of the function.  If an iteration places a trial\n",
    "guess near such a local extremum, so that the first derivative nearly\n",
    "vanishes, then Newton-Raphson may fail totally"
   ]
  },
  {
   "cell_type": "markdown",
   "id": "7c84649c",
   "metadata": {},
   "source": [
    "## Extending to more than one variable\n",
    "\n",
    "Newton's method can be generalized to systems of several non-linear equations\n",
    "and variables. Consider the case with two equations"
   ]
  },
  {
   "cell_type": "markdown",
   "id": "75421560",
   "metadata": {},
   "source": [
    "$$\n",
    "\\begin{array}{cc} f_1(x_1,x_2) &=0\\\\\n",
    "                     f_2(x_1,x_2) &=0,\\end{array}\n",
    "$$"
   ]
  },
  {
   "cell_type": "markdown",
   "id": "06e5c56a",
   "metadata": {},
   "source": [
    "which we Taylor expand to obtain"
   ]
  },
  {
   "cell_type": "markdown",
   "id": "dfacec56",
   "metadata": {},
   "source": [
    "$$\n",
    "\\begin{array}{cc} 0=f_1(x_1+h_1,x_2+h_2)=&f_1(x_1,x_2)+h_1\n",
    "                     \\partial f_1/\\partial x_1+h_2\n",
    "                     \\partial f_1/\\partial x_2+\\dots\\\\\n",
    "                     0=f_2(x_1+h_1,x_2+h_2)=&f_2(x_1,x_2)+h_1\n",
    "                     \\partial f_2/\\partial x_1+h_2\n",
    "                     \\partial f_2/\\partial x_2+\\dots\n",
    "                       \\end{array}.\n",
    "$$"
   ]
  },
  {
   "cell_type": "markdown",
   "id": "149f9e04",
   "metadata": {},
   "source": [
    "Defining the Jacobian matrix ${\\bf \\boldsymbol{J}}$ we have"
   ]
  },
  {
   "cell_type": "markdown",
   "id": "d9b85926",
   "metadata": {},
   "source": [
    "$$\n",
    "{\\bf \\boldsymbol{J}}=\\left( \\begin{array}{cc}\n",
    "                         \\partial f_1/\\partial x_1  & \\partial f_1/\\partial x_2 \\\\\n",
    "                          \\partial f_2/\\partial x_1     &\\partial f_2/\\partial x_2\n",
    "             \\end{array} \\right),\n",
    "$$"
   ]
  },
  {
   "cell_type": "markdown",
   "id": "7d3f0160",
   "metadata": {},
   "source": [
    "we can rephrase Newton's method as"
   ]
  },
  {
   "cell_type": "markdown",
   "id": "5b100872",
   "metadata": {},
   "source": [
    "$$\n",
    "\\left(\\begin{array}{c} x_1^{n+1} \\\\ x_2^{n+1} \\end{array} \\right)=\n",
    "\\left(\\begin{array}{c} x_1^{n} \\\\ x_2^{n} \\end{array} \\right)+\n",
    "\\left(\\begin{array}{c} h_1^{n} \\\\ h_2^{n} \\end{array} \\right),\n",
    "$$"
   ]
  },
  {
   "cell_type": "markdown",
   "id": "47ef1eb0",
   "metadata": {},
   "source": [
    "where we have defined"
   ]
  },
  {
   "cell_type": "markdown",
   "id": "8ddc2176",
   "metadata": {},
   "source": [
    "$$\n",
    "\\left(\\begin{array}{c} h_1^{n} \\\\ h_2^{n} \\end{array} \\right)=\n",
    "   -{\\bf \\boldsymbol{J}}^{-1}\n",
    "   \\left(\\begin{array}{c} f_1(x_1^{n},x_2^{n}) \\\\ f_2(x_1^{n},x_2^{n}) \\end{array} \\right).\n",
    "$$"
   ]
  },
  {
   "cell_type": "markdown",
   "id": "045d96e0",
   "metadata": {},
   "source": [
    "We need thus to compute the inverse of the Jacobian matrix and it\n",
    "is to understand that difficulties  may\n",
    "arise in case ${\\bf \\boldsymbol{J}}$ is nearly singular.\n",
    "\n",
    "It is rather straightforward to extend the above scheme to systems of\n",
    "more than two non-linear equations. In our case, the Jacobian matrix is given by the Hessian that represents the second derivative of cost function."
   ]
  },
  {
   "cell_type": "markdown",
   "id": "6a43cd9c",
   "metadata": {},
   "source": [
    "## Steepest descent\n",
    "\n",
    "The basic idea of gradient descent is\n",
    "that a function $F(\\mathbf{x})$, \n",
    "$\\mathbf{x} \\equiv (x_1,\\cdots,x_n)$, decreases fastest if one goes from $\\bf {x}$ in the\n",
    "direction of the negative gradient $-\\nabla F(\\mathbf{x})$.\n",
    "\n",
    "It can be shown that if"
   ]
  },
  {
   "cell_type": "markdown",
   "id": "7f5ab866",
   "metadata": {},
   "source": [
    "$$\n",
    "\\mathbf{x}_{k+1} = \\mathbf{x}_k - \\gamma_k \\nabla F(\\mathbf{x}_k),\n",
    "$$"
   ]
  },
  {
   "cell_type": "markdown",
   "id": "3471f8fe",
   "metadata": {},
   "source": [
    "with $\\gamma_k > 0$.\n",
    "\n",
    "For $\\gamma_k$ small enough, then $F(\\mathbf{x}_{k+1}) \\leq\n",
    "F(\\mathbf{x}_k)$. This means that for a sufficiently small $\\gamma_k$\n",
    "we are always moving towards smaller function values, i.e a minimum."
   ]
  },
  {
   "cell_type": "markdown",
   "id": "a946262f",
   "metadata": {},
   "source": [
    "## More on Steepest descent\n",
    "\n",
    "The previous observation is the basis of the method of steepest\n",
    "descent, which is also referred to as just gradient descent (GD). One\n",
    "starts with an initial guess $\\mathbf{x}_0$ for a minimum of $F$ and\n",
    "computes new approximations according to"
   ]
  },
  {
   "cell_type": "markdown",
   "id": "79180041",
   "metadata": {},
   "source": [
    "$$\n",
    "\\mathbf{x}_{k+1} = \\mathbf{x}_k - \\gamma_k \\nabla F(\\mathbf{x}_k), \\ \\ k \\geq 0.\n",
    "$$"
   ]
  },
  {
   "cell_type": "markdown",
   "id": "bd36282d",
   "metadata": {},
   "source": [
    "The parameter $\\gamma_k$ is often referred to as the step length or\n",
    "the learning rate within the context of Machine Learning."
   ]
  },
  {
   "cell_type": "markdown",
   "id": "94072a90",
   "metadata": {},
   "source": [
    "## The ideal\n",
    "\n",
    "Ideally the sequence $\\{\\mathbf{x}_k \\}_{k=0}$ converges to a global\n",
    "minimum of the function $F$. In general we do not know if we are in a\n",
    "global or local minimum. In the special case when $F$ is a convex\n",
    "function, all local minima are also global minima, so in this case\n",
    "gradient descent can converge to the global solution. The advantage of\n",
    "this scheme is that it is conceptually simple and straightforward to\n",
    "implement. However the method in this form has some severe\n",
    "limitations:\n",
    "\n",
    "In machine learing we are often faced with non-convex high dimensional\n",
    "cost functions with many local minima. Since GD is deterministic we\n",
    "will get stuck in a local minimum, if the method converges, unless we\n",
    "have a very good intial guess. This also implies that the scheme is\n",
    "sensitive to the chosen initial condition.\n",
    "\n",
    "Note that the gradient is a function of $\\mathbf{x} =\n",
    "(x_1,\\cdots,x_n)$ which makes it expensive to compute numerically."
   ]
  },
  {
   "cell_type": "markdown",
   "id": "7c3792e4",
   "metadata": {},
   "source": [
    "## The sensitiveness of the gradient descent\n",
    "\n",
    "The gradient descent method \n",
    "is sensitive to the choice of learning rate $\\gamma_k$. This is due\n",
    "to the fact that we are only guaranteed that $F(\\mathbf{x}_{k+1}) \\leq\n",
    "F(\\mathbf{x}_k)$ for sufficiently small $\\gamma_k$. The problem is to\n",
    "determine an optimal learning rate. If the learning rate is chosen too\n",
    "small the method will take a long time to converge and if it is too\n",
    "large we can experience erratic behavior.\n",
    "\n",
    "Many of these shortcomings can be alleviated by introducing\n",
    "randomness. One such method is that of Stochastic Gradient Descent\n",
    "(SGD), see below."
   ]
  },
  {
   "cell_type": "markdown",
   "id": "569c7056",
   "metadata": {},
   "source": [
    "## Convex functions\n",
    "\n",
    "Ideally we want our cost/loss function to be convex(concave).\n",
    "\n",
    "First we give the definition of a convex set: A set $C$ in\n",
    "$\\mathbb{R}^n$ is said to be convex if, for all $x$ and $y$ in $C$ and\n",
    "all $t \\in (0,1)$ , the point $(1 − t)x + ty$ also belongs to\n",
    "C. Geometrically this means that every point on the line segment\n",
    "connecting $x$ and $y$ is in $C$ as discussed below.\n",
    "\n",
    "The convex subsets of $\\mathbb{R}$ are the intervals of\n",
    "$\\mathbb{R}$. Examples of convex sets of $\\mathbb{R}^2$ are the\n",
    "regular polygons (triangles, rectangles, pentagons, etc...)."
   ]
  },
  {
   "cell_type": "markdown",
   "id": "2b2f14ca",
   "metadata": {},
   "source": [
    "## Convex function\n",
    "\n",
    "**Convex function**: Let $X \\subset \\mathbb{R}^n$ be a convex set. Assume that the function $f: X \\rightarrow \\mathbb{R}$ is continuous, then $f$ is said to be convex if $$f(tx_1 + (1-t)x_2) \\leq tf(x_1) + (1-t)f(x_2) $$ for all $x_1, x_2 \\in X$ and for all $t \\in [0,1]$. If $\\leq$ is replaced with a strict inequaltiy in the definition, we demand $x_1 \\neq x_2$ and $t\\in(0,1)$ then $f$ is said to be strictly convex. For a single variable function, convexity means that if you draw a straight line connecting $f(x_1)$ and $f(x_2)$, the value of the function on the interval $[x_1,x_2]$ is always below the line as illustrated below."
   ]
  },
  {
   "cell_type": "markdown",
   "id": "360c3b9d",
   "metadata": {},
   "source": [
    "## Conditions on convex functions\n",
    "\n",
    "In the following we state first and second-order conditions which\n",
    "ensures convexity of a function $f$. We write $D_f$ to denote the\n",
    "domain of $f$, i.e the subset of $R^n$ where $f$ is defined. For more\n",
    "details and proofs we refer to: [S. Boyd and L. Vandenberghe. Convex Optimization. Cambridge University Press](http://stanford.edu/boyd/cvxbook/, 2004).\n",
    "\n",
    "**First order condition.**\n",
    "\n",
    "Suppose $f$ is differentiable (i.e $\\nabla f(x)$ is well defined for\n",
    "all $x$ in the domain of $f$). Then $f$ is convex if and only if $D_f$\n",
    "is a convex set and $$f(y) \\geq f(x) + \\nabla f(x)^T (y-x) $$ holds\n",
    "for all $x,y \\in D_f$. This condition means that for a convex function\n",
    "the first order Taylor expansion (right hand side above) at any point\n",
    "a global under estimator of the function. To convince yourself you can\n",
    "make a drawing of $f(x) = x^2+1$ and draw the tangent line to $f(x)$ and\n",
    "note that it is always below the graph.\n",
    "\n",
    "**Second order condition.**\n",
    "\n",
    "Assume that $f$ is twice\n",
    "differentiable, i.e the Hessian matrix exists at each point in\n",
    "$D_f$. Then $f$ is convex if and only if $D_f$ is a convex set and its\n",
    "Hessian is positive semi-definite for all $x\\in D_f$. For a\n",
    "single-variable function this reduces to $f''(x) \\geq 0$. Geometrically this means that $f$ has nonnegative curvature\n",
    "everywhere.\n",
    "\n",
    "This condition is particularly useful since it gives us an procedure for determining if the function under consideration is convex, apart from using the definition."
   ]
  },
  {
   "cell_type": "markdown",
   "id": "28fbc62b",
   "metadata": {},
   "source": [
    "## More on convex functions\n",
    "\n",
    "The next result is of great importance to us and the reason why we are\n",
    "going on about convex functions. In machine learning we frequently\n",
    "have to minimize a loss/cost function in order to find the best\n",
    "parameters for the model we are considering. \n",
    "\n",
    "Ideally we want the\n",
    "global minimum (for high-dimensional models it is hard to know\n",
    "if we have local or global minimum). However, if the cost/loss function\n",
    "is convex the following result provides invaluable information:\n",
    "\n",
    "**Any minimum is global for convex functions.**\n",
    "\n",
    "Consider the problem of finding $x \\in \\mathbb{R}^n$ such that $f(x)$\n",
    "is minimal, where $f$ is convex and differentiable. Then, any point\n",
    "$x^*$ that satisfies $\\nabla f(x^*) = 0$ is a global minimum.\n",
    "\n",
    "This result means that if we know that the cost/loss function is convex and we are able to find a minimum, we are guaranteed that it is a global minimum."
   ]
  },
  {
   "cell_type": "markdown",
   "id": "af54fadb",
   "metadata": {},
   "source": [
    "## Some simple problems\n",
    "\n",
    "1. Show that $f(x)=x^2$ is convex for $x \\in \\mathbb{R}$ using the definition of convexity. Hint: If you re-write the definition, $f$ is convex if the following holds for all $x,y \\in D_f$ and any $\\lambda \\in [0,1]$ $\\lambda f(x)+(1-\\lambda)f(y)-f(\\lambda x + (1-\\lambda) y ) \\geq 0$.\n",
    "\n",
    "2. Using the second order condition show that the following functions are convex on the specified domain.\n",
    "\n",
    " * $f(x) = e^x$ is convex for $x \\in \\mathbb{R}$.\n",
    "\n",
    " * $g(x) = -\\ln(x)$ is convex for $x \\in (0,\\infty)$.\n",
    "\n",
    "3. Let $f(x) = x^2$ and $g(x) = e^x$. Show that $f(g(x))$ and $g(f(x))$ is convex for $x \\in \\mathbb{R}$. Also show that if $f(x)$ is any convex function than $h(x) = e^{f(x)}$ is convex.\n",
    "\n",
    "4. A norm is any function that satisfy the following properties\n",
    "\n",
    " * $f(\\alpha x) = |\\alpha| f(x)$ for all $\\alpha \\in \\mathbb{R}$.\n",
    "\n",
    " * $f(x+y) \\leq f(x) + f(y)$\n",
    "\n",
    " * $f(x) \\leq 0$ for all $x \\in \\mathbb{R}^n$ with equality if and only if $x = 0$\n",
    "\n",
    "Using the definition of convexity, try to show that a function satisfying the properties above is convex (the third condition is not needed to show this)."
   ]
  },
  {
   "cell_type": "markdown",
   "id": "fea93911",
   "metadata": {},
   "source": [
    "## Gradient descent example\n",
    "\n",
    "Let $\\mathbf{y} = (y_1,\\cdots,y_n)^T$, $\\mathbf{\\boldsymbol{y}} = (\\boldsymbol{y}_1,\\cdots,\\boldsymbol{y}_n)^T$ and $\\beta = (\\beta_0, \\beta_1)^T$\n",
    "\n",
    "It is convenient to write $\\mathbf{\\boldsymbol{y}} = X\\beta$ where $X \\in \\mathbb{R}^{100 \\times 2} $ is the design matrix given by (we keep the intercept here)"
   ]
  },
  {
   "cell_type": "markdown",
   "id": "0bd4188e",
   "metadata": {},
   "source": [
    "$$\n",
    "X \\equiv \\begin{bmatrix}\n",
    "1 & x_1  \\\\\n",
    "\\vdots & \\vdots  \\\\\n",
    "1 & x_{100} &  \\\\\n",
    "\\end{bmatrix}.\n",
    "$$"
   ]
  },
  {
   "cell_type": "markdown",
   "id": "05511086",
   "metadata": {},
   "source": [
    "The cost/loss/risk function is given by ("
   ]
  },
  {
   "cell_type": "markdown",
   "id": "f1809c16",
   "metadata": {},
   "source": [
    "$$\n",
    "C(\\beta) = \\frac{1}{n}||X\\beta-\\mathbf{y}||_{2}^{2} = \\frac{1}{n}\\sum_{i=1}^{100}\\left[ (\\beta_0 + \\beta_1 x_i)^2 - 2 y_i (\\beta_0 + \\beta_1 x_i) + y_i^2\\right]\n",
    "$$"
   ]
  },
  {
   "cell_type": "markdown",
   "id": "2f131bed",
   "metadata": {},
   "source": [
    "and we want to find $\\beta$ such that $C(\\beta)$ is minimized."
   ]
  },
  {
   "cell_type": "markdown",
   "id": "fe196630",
   "metadata": {},
   "source": [
    "## The derivative of the cost/loss function\n",
    "\n",
    "Computing $\\partial C(\\beta) / \\partial \\beta_0$ and $\\partial C(\\beta) / \\partial \\beta_1$ we can show  that the gradient can be written as"
   ]
  },
  {
   "cell_type": "markdown",
   "id": "880ef738",
   "metadata": {},
   "source": [
    "$$\n",
    "\\nabla_{\\beta} C(\\beta) = \\frac{2}{n}\\begin{bmatrix} \\sum_{i=1}^{100} \\left(\\beta_0+\\beta_1x_i-y_i\\right) \\\\\n",
    "\\sum_{i=1}^{100}\\left( x_i (\\beta_0+\\beta_1x_i)-y_ix_i\\right) \\\\\n",
    "\\end{bmatrix} = \\frac{2}{n}X^T(X\\beta - \\mathbf{y}),\n",
    "$$"
   ]
  },
  {
   "cell_type": "markdown",
   "id": "0e9024fd",
   "metadata": {},
   "source": [
    "where $X$ is the design matrix defined above."
   ]
  },
  {
   "cell_type": "markdown",
   "id": "28a71b98",
   "metadata": {},
   "source": [
    "## The Hessian matrix\n",
    "The Hessian matrix of $C(\\beta)$ is given by"
   ]
  },
  {
   "cell_type": "markdown",
   "id": "c0f355e1",
   "metadata": {},
   "source": [
    "$$\n",
    "\\boldsymbol{H} \\equiv \\begin{bmatrix}\n",
    "\\frac{\\partial^2 C(\\beta)}{\\partial \\beta_0^2} & \\frac{\\partial^2 C(\\beta)}{\\partial \\beta_0 \\partial \\beta_1}  \\\\\n",
    "\\frac{\\partial^2 C(\\beta)}{\\partial \\beta_0 \\partial \\beta_1} & \\frac{\\partial^2 C(\\beta)}{\\partial \\beta_1^2} &  \\\\\n",
    "\\end{bmatrix} = \\frac{2}{n}X^T X.\n",
    "$$"
   ]
  },
  {
   "cell_type": "markdown",
   "id": "054a841f",
   "metadata": {},
   "source": [
    "This result implies that $C(\\beta)$ is a convex function since the matrix $X^T X$ always is positive semi-definite."
   ]
  },
  {
   "cell_type": "markdown",
   "id": "731aa3e4",
   "metadata": {},
   "source": [
    "## Simple program\n",
    "\n",
    "We can now write a program that minimizes $C(\\beta)$ using the gradient descent method with a constant learning rate $\\gamma$ according to"
   ]
  },
  {
   "cell_type": "markdown",
   "id": "4ef2528a",
   "metadata": {},
   "source": [
    "$$\n",
    "\\beta_{k+1} = \\beta_k - \\gamma \\nabla_\\beta C(\\beta_k), \\ k=0,1,\\cdots\n",
    "$$"
   ]
  },
  {
   "cell_type": "markdown",
   "id": "3e80858c",
   "metadata": {},
   "source": [
    "We can use the expression we computed for the gradient and let use a\n",
    "$\\beta_0$ be chosen randomly and let $\\gamma = 0.001$. Stop iterating\n",
    "when $||\\nabla_\\beta C(\\beta_k) || \\leq \\epsilon = 10^{-8}$. **Note that the code below does not include the latter stop criterion**.\n",
    "\n",
    "And finally we can compare our solution for $\\beta$ with the analytic result given by \n",
    "$\\beta= (X^TX)^{-1} X^T \\mathbf{y}$."
   ]
  },
  {
   "cell_type": "markdown",
   "id": "8170a9a5",
   "metadata": {},
   "source": [
    "## Gradient Descent Example\n",
    "\n",
    "Here our simple example"
   ]
  },
  {
   "cell_type": "code",
   "execution_count": 5,
   "id": "4397717b",
   "metadata": {},
   "outputs": [],
   "source": [
    "\n",
    "# Importing various packages\n",
    "from random import random, seed\n",
    "import numpy as np\n",
    "import matplotlib.pyplot as plt\n",
    "from mpl_toolkits.mplot3d import Axes3D\n",
    "from matplotlib import cm\n",
    "from matplotlib.ticker import LinearLocator, FormatStrFormatter\n",
    "import sys\n",
    "\n",
    "# the number of datapoints\n",
    "n = 100\n",
    "x = 2*np.random.rand(n,1)\n",
    "y = 4+3*x+np.random.randn(n,1)\n",
    "\n",
    "X = np.c_[np.ones((n,1)), x]\n",
    "# Hessian matrix\n",
    "H = (2.0/n)* X.T @ X\n",
    "# Get the eigenvalues\n",
    "EigValues, EigVectors = np.linalg.eig(H)\n",
    "print(f\"Eigenvalues of Hessian Matrix:{EigValues}\")\n",
    "\n",
    "beta_linreg = np.linalg.inv(X.T @ X) @ X.T @ y\n",
    "print(beta_linreg)\n",
    "beta = np.random.randn(2,1)\n",
    "\n",
    "eta = 1.0/np.max(EigValues)\n",
    "Niterations = 1000\n",
    "\n",
    "for iter in range(Niterations):\n",
    "    gradient = (2.0/n)*X.T @ (X @ beta-y)\n",
    "    beta -= eta*gradient\n",
    "\n",
    "print(beta)\n",
    "xnew = np.array([[0],[2]])\n",
    "xbnew = np.c_[np.ones((2,1)), xnew]\n",
    "ypredict = xbnew.dot(beta)\n",
    "ypredict2 = xbnew.dot(beta_linreg)\n",
    "plt.plot(xnew, ypredict, \"r-\")\n",
    "plt.plot(xnew, ypredict2, \"b-\")\n",
    "plt.plot(x, y ,'ro')\n",
    "plt.axis([0,2.0,0, 15.0])\n",
    "plt.xlabel(r'$x$')\n",
    "plt.ylabel(r'$y$')\n",
    "plt.title(r'Gradient descent example')\n",
    "plt.show()"
   ]
  },
  {
   "cell_type": "markdown",
   "id": "ebe2cc36",
   "metadata": {},
   "source": [
    "## Using gradient descent methods, limitations\n",
    "\n",
    "* **Gradient descent (GD) finds local minima of our function**. Since the GD algorithm is deterministic, if it converges, it will converge to a local minimum of our cost/loss/risk function. Because in ML we are often dealing with extremely rugged landscapes with many local minima, this can lead to poor performance.\n",
    "\n",
    "* **GD is sensitive to initial conditions**. One consequence of the local nature of GD is that initial conditions matter. Depending on where one starts, one will end up at a different local minima. Therefore, it is very important to think about how one initializes the training process. This is true for GD as well as more complicated variants of GD.\n",
    "\n",
    "* **Gradients are computationally expensive to calculate for large datasets**. In many cases in statistics and ML, the cost/loss/risk function is a sum of terms, with one term for each data point. For example, in linear regression, $E \\propto \\sum_{i=1}^n (y_i - \\mathbf{w}^T\\cdot\\mathbf{x}_i)^2$; for logistic regression, the square error is replaced by the cross entropy. To calculate the gradient we have to sum over *all* $n$ data points. Doing this at every GD step becomes extremely computationally expensive. An ingenious solution to this, is to calculate the gradients using small subsets of the data called \"mini batches\". This has the added benefit of introducing stochasticity into our algorithm.\n",
    "\n",
    "* **GD is very sensitive to choices of learning rates**. GD is extremely sensitive to the choice of learning rates. If the learning rate is very small, the training process take an extremely long time. For larger learning rates, GD can diverge and give poor results. Furthermore, depending on what the local landscape looks like, we have to modify the learning rates to ensure convergence. Ideally, we would *adaptively* choose the learning rates to match the landscape.\n",
    "\n",
    "* **GD treats all directions in parameter space uniformly.** Another major drawback of GD is that unlike Newton's method, the learning rate for GD is the same in all directions in parameter space. For this reason, the maximum learning rate is set by the behavior of the steepest direction and this can significantly slow down training. Ideally, we would like to take large steps in flat directions and small steps in steep directions. Since we are exploring rugged landscapes where curvatures change, this requires us to keep track of not only the gradient but second derivatives. The ideal scenario would be to calculate the Hessian but this proves to be too computationally expensive. \n",
    "\n",
    "* GD can take exponential time to escape saddle points, even with random initialization. As we mentioned, GD is extremely sensitive to initial condition since it determines the particular local minimum GD would eventually reach. However, even with a good initialization scheme, through the introduction of randomness, GD can still take exponential time to escape saddle points."
   ]
  },
  {
   "cell_type": "markdown",
   "id": "a83436ff",
   "metadata": {},
   "source": [
    "## Improving gradient descent with momentum\n",
    "\n",
    "We discuss here some simple examples where we introduce what is called 'memory'about previous steps, or what is normally called momentum gradient descent. The mathematics is explained below in connection with Stochastic gradient descent."
   ]
  },
  {
   "cell_type": "code",
   "execution_count": 6,
   "id": "2a5790a6",
   "metadata": {},
   "outputs": [],
   "source": [
    "from numpy import asarray\n",
    "from numpy import arange\n",
    "from numpy.random import rand\n",
    "from numpy.random import seed\n",
    "from matplotlib import pyplot\n",
    " \n",
    "# objective function\n",
    "def objective(x):\n",
    "\treturn x**2.0\n",
    " \n",
    "# derivative of objective function\n",
    "def derivative(x):\n",
    "\treturn x * 2.0\n",
    " \n",
    "# gradient descent algorithm\n",
    "def gradient_descent(objective, derivative, bounds, n_iter, step_size):\n",
    "\t# track all solutions\n",
    "\tsolutions, scores = list(), list()\n",
    "\t# generate an initial point\n",
    "\tsolution = bounds[:, 0] + rand(len(bounds)) * (bounds[:, 1] - bounds[:, 0])\n",
    "\t# run the gradient descent\n",
    "\tfor i in range(n_iter):\n",
    "\t\t# calculate gradient\n",
    "\t\tgradient = derivative(solution)\n",
    "\t\t# take a step\n",
    "\t\tsolution = solution - step_size * gradient\n",
    "\t\t# evaluate candidate point\n",
    "\t\tsolution_eval = objective(solution)\n",
    "\t\t# store solution\n",
    "\t\tsolutions.append(solution)\n",
    "\t\tscores.append(solution_eval)\n",
    "\t\t# report progress\n",
    "\t\tprint('>%d f(%s) = %.5f' % (i, solution, solution_eval))\n",
    "\treturn [solutions, scores]\n",
    " \n",
    "# seed the pseudo random number generator\n",
    "seed(4)\n",
    "# define range for input\n",
    "bounds = asarray([[-1.0, 1.0]])\n",
    "# define the total iterations\n",
    "n_iter = 30\n",
    "# define the step size\n",
    "step_size = 0.1\n",
    "# perform the gradient descent search\n",
    "solutions, scores = gradient_descent(objective, derivative, bounds, n_iter, step_size)\n",
    "# sample input range uniformly at 0.1 increments\n",
    "inputs = arange(bounds[0,0], bounds[0,1]+0.1, 0.1)\n",
    "# compute targets\n",
    "results = objective(inputs)\n",
    "# create a line plot of input vs result\n",
    "pyplot.plot(inputs, results)\n",
    "# plot the solutions found\n",
    "pyplot.plot(solutions, scores, '.-', color='red')\n",
    "# show the plot\n",
    "pyplot.show()"
   ]
  },
  {
   "cell_type": "markdown",
   "id": "17b324dc",
   "metadata": {},
   "source": [
    "## Same code but now with momentum gradient descent"
   ]
  },
  {
   "cell_type": "code",
   "execution_count": 7,
   "id": "e99eeeef",
   "metadata": {},
   "outputs": [],
   "source": [
    "from numpy import asarray\n",
    "from numpy import arange\n",
    "from numpy.random import rand\n",
    "from numpy.random import seed\n",
    "from matplotlib import pyplot\n",
    " \n",
    "# objective function\n",
    "def objective(x):\n",
    "\treturn x**2.0\n",
    " \n",
    "# derivative of objective function\n",
    "def derivative(x):\n",
    "\treturn x * 2.0\n",
    " \n",
    "# gradient descent algorithm\n",
    "def gradient_descent(objective, derivative, bounds, n_iter, step_size, momentum):\n",
    "\t# track all solutions\n",
    "\tsolutions, scores = list(), list()\n",
    "\t# generate an initial point\n",
    "\tsolution = bounds[:, 0] + rand(len(bounds)) * (bounds[:, 1] - bounds[:, 0])\n",
    "\t# keep track of the change\n",
    "\tchange = 0.0\n",
    "\t# run the gradient descent\n",
    "\tfor i in range(n_iter):\n",
    "\t\t# calculate gradient\n",
    "\t\tgradient = derivative(solution)\n",
    "\t\t# calculate update\n",
    "\t\tnew_change = step_size * gradient + momentum * change\n",
    "\t\t# take a step\n",
    "\t\tsolution = solution - new_change\n",
    "\t\t# save the change\n",
    "\t\tchange = new_change\n",
    "\t\t# evaluate candidate point\n",
    "\t\tsolution_eval = objective(solution)\n",
    "\t\t# store solution\n",
    "\t\tsolutions.append(solution)\n",
    "\t\tscores.append(solution_eval)\n",
    "\t\t# report progress\n",
    "\t\tprint('>%d f(%s) = %.5f' % (i, solution, solution_eval))\n",
    "\treturn [solutions, scores]\n",
    " \n",
    "# seed the pseudo random number generator\n",
    "seed(4)\n",
    "# define range for input\n",
    "bounds = asarray([[-1.0, 1.0]])\n",
    "# define the total iterations\n",
    "n_iter = 30\n",
    "# define the step size\n",
    "step_size = 0.1\n",
    "# define momentum\n",
    "momentum = 0.3\n",
    "# perform the gradient descent search with momentum\n",
    "solutions, scores = gradient_descent(objective, derivative, bounds, n_iter, step_size, momentum)\n",
    "# sample input range uniformly at 0.1 increments\n",
    "inputs = arange(bounds[0,0], bounds[0,1]+0.1, 0.1)\n",
    "# compute targets\n",
    "results = objective(inputs)\n",
    "# create a line plot of input vs result\n",
    "pyplot.plot(inputs, results)\n",
    "# plot the solutions found\n",
    "pyplot.plot(solutions, scores, '.-', color='red')\n",
    "# show the plot\n",
    "pyplot.show()"
   ]
  },
  {
   "cell_type": "markdown",
   "id": "aab2df14",
   "metadata": {},
   "source": [
    "## Momentum based GD\n",
    "\n",
    "The stochastic gradient descent (SGD) is almost always used with a\n",
    "*momentum* or inertia term that serves as a memory of the direction we\n",
    "are moving in parameter space.  This is typically implemented as\n",
    "follows"
   ]
  },
  {
   "cell_type": "markdown",
   "id": "79b5d315",
   "metadata": {},
   "source": [
    "$$\n",
    "\\mathbf{v}_{t}=\\gamma \\mathbf{v}_{t-1}+\\eta_{t}\\nabla_\\theta E(\\boldsymbol{\\theta}_t) \\nonumber\n",
    "$$"
   ]
  },
  {
   "cell_type": "markdown",
   "id": "90f44566",
   "metadata": {},
   "source": [
    "<!-- Equation labels as ordinary links -->\n",
    "<div id=\"_auto3\"></div>\n",
    "\n",
    "$$\n",
    "\\begin{equation} \n",
    "\\boldsymbol{\\theta}_{t+1}= \\boldsymbol{\\theta}_t -\\mathbf{v}_{t},\n",
    "\\label{_auto3} \\tag{4}\n",
    "\\end{equation}\n",
    "$$"
   ]
  },
  {
   "cell_type": "markdown",
   "id": "0f2da11e",
   "metadata": {},
   "source": [
    "where we have introduced a momentum parameter $\\gamma$, with\n",
    "$0\\le\\gamma\\le 1$, and for brevity we dropped the explicit notation to\n",
    "indicate the gradient is to be taken over a different mini-batch at\n",
    "each step. We call this algorithm gradient descent with momentum\n",
    "(GDM). From these equations, it is clear that $\\mathbf{v}_t$ is a\n",
    "running average of recently encountered gradients and\n",
    "$(1-\\gamma)^{-1}$ sets the characteristic time scale for the memory\n",
    "used in the averaging procedure. Consistent with this, when\n",
    "$\\gamma=0$, this just reduces down to ordinary SGD as discussed\n",
    "earlier. An equivalent way of writing the updates is"
   ]
  },
  {
   "cell_type": "markdown",
   "id": "907e9b40",
   "metadata": {},
   "source": [
    "$$\n",
    "\\Delta \\boldsymbol{\\theta}_{t+1} = \\gamma \\Delta \\boldsymbol{\\theta}_t -\\ \\eta_{t}\\nabla_\\theta E(\\boldsymbol{\\theta}_t),\n",
    "$$"
   ]
  },
  {
   "cell_type": "markdown",
   "id": "9a2a9be1",
   "metadata": {},
   "source": [
    "where we have defined $\\Delta \\boldsymbol{\\theta}_{t}= \\boldsymbol{\\theta}_t-\\boldsymbol{\\theta}_{t-1}$."
   ]
  },
  {
   "cell_type": "markdown",
   "id": "de30cc09",
   "metadata": {},
   "source": [
    "## More on momentum based approaches\n",
    "\n",
    "Let us try to get more intuition from these equations. It is helpful\n",
    "to consider a simple physical analogy with a particle of mass $m$\n",
    "moving in a viscous medium with drag coefficient $\\mu$ and potential\n",
    "$E(\\mathbf{w})$. If we denote the particle's position by $\\mathbf{w}$,\n",
    "then its motion is described by"
   ]
  },
  {
   "cell_type": "markdown",
   "id": "a24f025c",
   "metadata": {},
   "source": [
    "$$\n",
    "m {d^2 \\mathbf{w} \\over dt^2} + \\mu {d \\mathbf{w} \\over dt }= -\\nabla_w E(\\mathbf{w}).\n",
    "$$"
   ]
  },
  {
   "cell_type": "markdown",
   "id": "28b5fe48",
   "metadata": {},
   "source": [
    "We can discretize this equation in the usual way to get"
   ]
  },
  {
   "cell_type": "markdown",
   "id": "b7644884",
   "metadata": {},
   "source": [
    "$$\n",
    "m { \\mathbf{w}_{t+\\Delta t}-2 \\mathbf{w}_{t} +\\mathbf{w}_{t-\\Delta t} \\over (\\Delta t)^2}+\\mu {\\mathbf{w}_{t+\\Delta t}- \\mathbf{w}_{t} \\over \\Delta t} = -\\nabla_w E(\\mathbf{w}).\n",
    "$$"
   ]
  },
  {
   "cell_type": "markdown",
   "id": "9a37478f",
   "metadata": {},
   "source": [
    "Rearranging this equation, we can rewrite this as"
   ]
  },
  {
   "cell_type": "markdown",
   "id": "d7db64cc",
   "metadata": {},
   "source": [
    "$$\n",
    "\\Delta \\mathbf{w}_{t +\\Delta t}= - { (\\Delta t)^2 \\over m +\\mu \\Delta t} \\nabla_w E(\\mathbf{w})+ {m \\over m +\\mu \\Delta t} \\Delta \\mathbf{w}_t.\n",
    "$$"
   ]
  },
  {
   "cell_type": "markdown",
   "id": "527e492c",
   "metadata": {},
   "source": [
    "## Momentum parameter\n",
    "\n",
    "Notice that this equation is identical to previous one if we identify\n",
    "the position of the particle, $\\mathbf{w}$, with the parameters\n",
    "$\\boldsymbol{\\theta}$. This allows us to identify the momentum\n",
    "parameter and learning rate with the mass of the particle and the\n",
    "viscous drag as:"
   ]
  },
  {
   "cell_type": "markdown",
   "id": "6260a418",
   "metadata": {},
   "source": [
    "$$\n",
    "\\gamma= {m \\over m +\\mu \\Delta t }, \\qquad \\eta = {(\\Delta t)^2 \\over m +\\mu \\Delta t}.\n",
    "$$"
   ]
  },
  {
   "cell_type": "markdown",
   "id": "c5f987d9",
   "metadata": {},
   "source": [
    "Thus, as the name suggests, the momentum parameter is proportional to\n",
    "the mass of the particle and effectively provides inertia.\n",
    "Furthermore, in the large viscosity/small learning rate limit, our\n",
    "memory time scales as $(1-\\gamma)^{-1} \\approx m/(\\mu \\Delta t)$.\n",
    "\n",
    "Why is momentum useful? SGD momentum helps the gradient descent\n",
    "algorithm gain speed in directions with persistent but small gradients\n",
    "even in the presence of stochasticity, while suppressing oscillations\n",
    "in high-curvature directions. This becomes especially important in\n",
    "situations where the landscape is shallow and flat in some directions\n",
    "and narrow and steep in others. It has been argued that first-order\n",
    "methods (with appropriate initial conditions) can perform comparable\n",
    "to more expensive second order methods, especially in the context of\n",
    "complex deep learning models.\n",
    "\n",
    "These beneficial properties of momentum can sometimes become even more\n",
    "pronounced by using a slight modification of the classical momentum\n",
    "algorithm called Nesterov Accelerated Gradient (NAG).\n",
    "\n",
    "In the NAG algorithm, rather than calculating the gradient at the\n",
    "current parameters, $\\nabla_\\theta E(\\boldsymbol{\\theta}_t)$, one\n",
    "calculates the gradient at the expected value of the parameters given\n",
    "our current momentum, $\\nabla_\\theta E(\\boldsymbol{\\theta}_t +\\gamma\n",
    "\\mathbf{v}_{t-1})$. This yields the NAG update rule"
   ]
  },
  {
   "cell_type": "markdown",
   "id": "1196bbba",
   "metadata": {},
   "source": [
    "$$\n",
    "\\mathbf{v}_{t}=\\gamma \\mathbf{v}_{t-1}+\\eta_{t}\\nabla_\\theta E(\\boldsymbol{\\theta}_t +\\gamma \\mathbf{v}_{t-1}) \\nonumber\n",
    "$$"
   ]
  },
  {
   "cell_type": "markdown",
   "id": "b4a0310d",
   "metadata": {},
   "source": [
    "<!-- Equation labels as ordinary links -->\n",
    "<div id=\"_auto4\"></div>\n",
    "\n",
    "$$\n",
    "\\begin{equation} \n",
    "\\boldsymbol{\\theta}_{t+1}= \\boldsymbol{\\theta}_t -\\mathbf{v}_{t}.\n",
    "\\label{_auto4} \\tag{5}\n",
    "\\end{equation}\n",
    "$$"
   ]
  },
  {
   "cell_type": "markdown",
   "id": "26a371ab",
   "metadata": {},
   "source": [
    "One of the major advantages of NAG is that it allows for the use of a larger learning rate than GDM for the same choice of $\\gamma$."
   ]
  },
  {
   "cell_type": "markdown",
   "id": "5b835566",
   "metadata": {},
   "source": [
    "## Second moment of the gradient\n",
    "\n",
    "In stochastic gradient descent, with and without momentum, we still\n",
    "have to specify a schedule for tuning the learning rates $\\eta_t$\n",
    "as a function of time.  As discussed in the context of Newton's\n",
    "method, this presents a number of dilemmas. The learning rate is\n",
    "limited by the steepest direction which can change depending on the\n",
    "current position in the landscape. To circumvent this problem, ideally\n",
    "our algorithm would keep track of curvature and take large steps in\n",
    "shallow, flat directions and small steps in steep, narrow directions.\n",
    "Second-order methods accomplish this by calculating or approximating\n",
    "the Hessian and normalizing the learning rate by the\n",
    "curvature. However, this is very computationally expensive for\n",
    "extremely large models. Ideally, we would like to be able to\n",
    "adaptively change the step size to match the landscape without paying\n",
    "the steep computational price of calculating or approximating\n",
    "Hessians.\n",
    "\n",
    "Recently, a number of methods have been introduced that accomplish\n",
    "this by tracking not only the gradient, but also the second moment of\n",
    "the gradient. These methods include AdaGrad, AdaDelta, Root Mean Squared Propagation (RMS-Prop), and\n",
    "[ADAM](https://arxiv.org/abs/1412.6980)."
   ]
  },
  {
   "cell_type": "markdown",
   "id": "011595cb",
   "metadata": {},
   "source": [
    "## RMS prop\n",
    "\n",
    "In RMS prop, in addition to keeping a running average of the first\n",
    "moment of the gradient, we also keep track of the second moment\n",
    "denoted by $\\mathbf{s}_t=\\mathbb{E}[\\mathbf{g}_t^2]$. The update rule\n",
    "for RMS prop is given by"
   ]
  },
  {
   "cell_type": "markdown",
   "id": "dabaa428",
   "metadata": {},
   "source": [
    "<!-- Equation labels as ordinary links -->\n",
    "<div id=\"_auto5\"></div>\n",
    "\n",
    "$$\n",
    "\\begin{equation}\n",
    "\\mathbf{g}_t = \\nabla_\\theta E(\\boldsymbol{\\theta}) \n",
    "\\label{_auto5} \\tag{6}\n",
    "\\end{equation}\n",
    "$$"
   ]
  },
  {
   "cell_type": "markdown",
   "id": "d09f3e1c",
   "metadata": {},
   "source": [
    "$$\n",
    "\\mathbf{s}_t =\\beta \\mathbf{s}_{t-1} +(1-\\beta)\\mathbf{g}_t^2 \\nonumber\n",
    "$$"
   ]
  },
  {
   "cell_type": "markdown",
   "id": "06a45cfc",
   "metadata": {},
   "source": [
    "$$\n",
    "\\boldsymbol{\\theta}_{t+1}=\\boldsymbol{\\theta}_t - \\eta_t { \\mathbf{g}_t \\over \\sqrt{\\mathbf{s}_t +\\epsilon}}, \\nonumber\n",
    "$$"
   ]
  },
  {
   "cell_type": "markdown",
   "id": "f154fee2",
   "metadata": {},
   "source": [
    "where $\\beta$ controls the averaging time of the second moment and is\n",
    "typically taken to be about $\\beta=0.9$, $\\eta_t$ is a learning rate\n",
    "typically chosen to be $10^{-3}$, and $\\epsilon\\sim 10^{-8} $ is a\n",
    "small regularization constant to prevent divergences. Multiplication\n",
    "and division by vectors is understood as an element-wise operation. It\n",
    "is clear from this formula that the learning rate is reduced in\n",
    "directions where the norm of the gradient is consistently large. This\n",
    "greatly speeds up the convergence by allowing us to use a larger\n",
    "learning rate for flat directions."
   ]
  },
  {
   "cell_type": "markdown",
   "id": "4ae223b6",
   "metadata": {},
   "source": [
    "## [ADAM optimizer](https://arxiv.org/abs/1412.6980)\n",
    "\n",
    "A related algorithm is the ADAM optimizer. In\n",
    "[ADAM](https://arxiv.org/abs/1412.6980), we keep a running average of\n",
    "both the first and second moment of the gradient and use this\n",
    "information to adaptively change the learning rate for different\n",
    "parameters.  The method isefficient when working with large\n",
    "problems involving lots data and/or parameters.  It is a combination of the\n",
    "gradient descent with momentum algorithm and the RMSprop algorithm\n",
    "discussed above.\n",
    "\n",
    "In addition to keeping a running average of the first and\n",
    "second moments of the gradient\n",
    "(i.e. $\\mathbf{m}_t=\\mathbb{E}[\\mathbf{g}_t]$ and\n",
    "$\\mathbf{s}_t=\\mathbb{E}[\\mathbf{g}^2_t]$, respectively), ADAM\n",
    "performs an additional bias correction to account for the fact that we\n",
    "are estimating the first two moments of the gradient using a running\n",
    "average (denoted by the hats in the update rule below). The update\n",
    "rule for ADAM is given by (where multiplication and division are once\n",
    "again understood to be element-wise operations below)"
   ]
  },
  {
   "cell_type": "markdown",
   "id": "cf5cb1a7",
   "metadata": {},
   "source": [
    "<!-- Equation labels as ordinary links -->\n",
    "<div id=\"_auto6\"></div>\n",
    "\n",
    "$$\n",
    "\\begin{equation}\n",
    "\\mathbf{g}_t = \\nabla_\\theta E(\\boldsymbol{\\theta}) \n",
    "\\label{_auto6} \\tag{7}\n",
    "\\end{equation}\n",
    "$$"
   ]
  },
  {
   "cell_type": "markdown",
   "id": "f91724e4",
   "metadata": {},
   "source": [
    "$$\n",
    "\\mathbf{m}_t = \\beta_1 \\mathbf{m}_{t-1} + (1-\\beta_1) \\mathbf{g}_t \\nonumber\n",
    "$$"
   ]
  },
  {
   "cell_type": "markdown",
   "id": "bd078b83",
   "metadata": {},
   "source": [
    "$$\n",
    "\\mathbf{s}_t =\\beta_2 \\mathbf{s}_{t-1} +(1-\\beta_2)\\mathbf{g}_t^2 \\nonumber\n",
    "$$"
   ]
  },
  {
   "cell_type": "markdown",
   "id": "a00eefc7",
   "metadata": {},
   "source": [
    "$$\n",
    "\\boldsymbol{\\mathbf{m}}_t={\\mathbf{m}_t \\over 1-\\beta_1^t} \\nonumber\n",
    "$$"
   ]
  },
  {
   "cell_type": "markdown",
   "id": "5d3bcf49",
   "metadata": {},
   "source": [
    "$$\n",
    "\\boldsymbol{\\mathbf{s}}_t ={\\mathbf{s}_t \\over1-\\beta_2^t} \\nonumber\n",
    "$$"
   ]
  },
  {
   "cell_type": "markdown",
   "id": "28900dfa",
   "metadata": {},
   "source": [
    "$$\n",
    "\\boldsymbol{\\theta}_{t+1}=\\boldsymbol{\\theta}_t - \\eta_t { \\boldsymbol{\\mathbf{m}}_t \\over \\sqrt{\\boldsymbol{\\mathbf{s}}_t} +\\epsilon}, \\nonumber\n",
    "$$"
   ]
  },
  {
   "cell_type": "markdown",
   "id": "cf9b80fa",
   "metadata": {},
   "source": [
    "<!-- Equation labels as ordinary links -->\n",
    "<div id=\"_auto7\"></div>\n",
    "\n",
    "$$\n",
    "\\begin{equation} \n",
    "\\label{_auto7} \\tag{8}\n",
    "\\end{equation}\n",
    "$$"
   ]
  },
  {
   "cell_type": "markdown",
   "id": "60b34d02",
   "metadata": {},
   "source": [
    "where $\\beta_1$ and $\\beta_2$ set the memory lifetime of the first and\n",
    "second moment and are typically taken to be $0.9$ and $0.99$\n",
    "respectively, and $\\eta$ and $\\epsilon$ are identical to RMSprop.\n",
    "\n",
    "Like in RMSprop, the effective step size of a parameter depends on the\n",
    "magnitude of its gradient squared.  To understand this better, let us\n",
    "rewrite this expression in terms of the variance\n",
    "$\\boldsymbol{\\sigma}_t^2 = \\boldsymbol{\\mathbf{s}}_t -\n",
    "(\\boldsymbol{\\mathbf{m}}_t)^2$. Consider a single parameter $\\theta_t$. The\n",
    "update rule for this parameter is given by"
   ]
  },
  {
   "cell_type": "markdown",
   "id": "e8ed4afd",
   "metadata": {},
   "source": [
    "$$\n",
    "\\Delta \\theta_{t+1}= -\\eta_t { \\boldsymbol{m}_t \\over \\sqrt{\\sigma_t^2 +  m_t^2 }+\\epsilon}.\n",
    "$$"
   ]
  },
  {
   "cell_type": "markdown",
   "id": "bba49954",
   "metadata": {},
   "source": [
    "## Algorithms and codes for Adagrad, RMSprop and Adam\n",
    "\n",
    "The algorithms we have implemented are well described in the text by [Goodfellow, Bengio and Courville, chapter 8](https://www.deeplearningbook.org/contents/optimization.html).\n",
    "\n",
    "The codes which implement these algorithms are discussed after our presentation of automatic differentiation."
   ]
  },
  {
   "cell_type": "markdown",
   "id": "77d55fa2",
   "metadata": {},
   "source": [
    "## Practical tips\n",
    "\n",
    "* **Randomize the data when making mini-batches**. It is always important to randomly shuffle the data when forming mini-batches. Otherwise, the gradient descent method can fit spurious correlations resulting from the order in which data is presented.\n",
    "\n",
    "* **Transform your inputs**. Learning becomes difficult when our landscape has a mixture of steep and flat directions. One simple trick for minimizing these situations is to standardize the data by subtracting the mean and normalizing the variance of input variables. Whenever possible, also decorrelate the inputs. To understand why this is helpful, consider the case of linear regression. It is easy to show that for the squared error cost function, the Hessian of the cost function is just the correlation matrix between the inputs. Thus, by standardizing the inputs, we are ensuring that the landscape looks homogeneous in all directions in parameter space. Since most deep networks can be viewed as linear transformations followed by a non-linearity at each layer, we expect this intuition to hold beyond the linear case.\n",
    "\n",
    "* **Monitor the out-of-sample performance.** Always monitor the performance of your model on a validation set (a small portion of the training data that is held out of the training process to serve as a proxy for the test set. If the validation error starts increasing, then the model is beginning to overfit. Terminate the learning process. This *early stopping* significantly improves performance in many settings.\n",
    "\n",
    "* **Adaptive optimization methods don't always have good generalization.** Recent studies have shown that adaptive methods such as ADAM, RMSPorp, and AdaGrad tend to have poor generalization compared to SGD or SGD with momentum, particularly in the high-dimensional limit (i.e. the number of parameters exceeds the number of data points). Although it is not clear at this stage why these methods perform so well in training deep neural networks, simpler procedures like properly-tuned SGD may work as well or better in these applications."
   ]
  },
  {
   "cell_type": "markdown",
   "id": "20c449dd",
   "metadata": {},
   "source": [
    "## Using Autograd with OLS\n",
    "\n",
    "We conclude the part on optmization by showing how we can make codes\n",
    "for linear regression and logistic regression using **autograd**. The\n",
    "first example shows results with ordinary leats squares."
   ]
  },
  {
   "cell_type": "code",
   "execution_count": 8,
   "id": "fa2a5e7b",
   "metadata": {},
   "outputs": [],
   "source": [
    "# Using Autograd to calculate gradients for OLS\n",
    "from random import random, seed\n",
    "import numpy as np\n",
    "import autograd.numpy as np\n",
    "import matplotlib.pyplot as plt\n",
    "from autograd import grad\n",
    "\n",
    "def CostOLS(beta):\n",
    "    return (1.0/n)*np.sum((y-X @ beta)**2)\n",
    "\n",
    "n = 100\n",
    "x = 2*np.random.rand(n,1)\n",
    "y = 4+3*x+np.random.randn(n,1)\n",
    "\n",
    "X = np.c_[np.ones((n,1)), x]\n",
    "XT_X = X.T @ X\n",
    "theta_linreg = np.linalg.pinv(XT_X) @ (X.T @ y)\n",
    "print(\"Own inversion\")\n",
    "print(theta_linreg)\n",
    "# Hessian matrix\n",
    "H = (2.0/n)* XT_X\n",
    "EigValues, EigVectors = np.linalg.eig(H)\n",
    "print(f\"Eigenvalues of Hessian Matrix:{EigValues}\")\n",
    "\n",
    "theta = np.random.randn(2,1)\n",
    "eta = 1.0/np.max(EigValues)\n",
    "Niterations = 1000\n",
    "# define the gradient\n",
    "training_gradient = grad(CostOLS)\n",
    "\n",
    "for iter in range(Niterations):\n",
    "    gradients = training_gradient(theta)\n",
    "    theta -= eta*gradients\n",
    "print(\"theta from own gd\")\n",
    "print(theta)\n",
    "\n",
    "xnew = np.array([[0],[2]])\n",
    "Xnew = np.c_[np.ones((2,1)), xnew]\n",
    "ypredict = Xnew.dot(theta)\n",
    "ypredict2 = Xnew.dot(theta_linreg)\n",
    "\n",
    "plt.plot(xnew, ypredict, \"r-\")\n",
    "plt.plot(xnew, ypredict2, \"b-\")\n",
    "plt.plot(x, y ,'ro')\n",
    "plt.axis([0,2.0,0, 15.0])\n",
    "plt.xlabel(r'$x$')\n",
    "plt.ylabel(r'$y$')\n",
    "plt.title(r'Random numbers ')\n",
    "plt.show()"
   ]
  },
  {
   "cell_type": "markdown",
   "id": "c439842c",
   "metadata": {},
   "source": [
    "## Same code but now with momentum gradient descent"
   ]
  },
  {
   "cell_type": "code",
   "execution_count": 9,
   "id": "b49c6600",
   "metadata": {},
   "outputs": [],
   "source": [
    "# Using Autograd to calculate gradients for OLS\n",
    "from random import random, seed\n",
    "import numpy as np\n",
    "import autograd.numpy as np\n",
    "import matplotlib.pyplot as plt\n",
    "from autograd import grad\n",
    "\n",
    "def CostOLS(beta):\n",
    "    return (1.0/n)*np.sum((y-X @ beta)**2)\n",
    "\n",
    "n = 100\n",
    "x = 2*np.random.rand(n,1)\n",
    "y = 4+3*x#+np.random.randn(n,1)\n",
    "\n",
    "X = np.c_[np.ones((n,1)), x]\n",
    "XT_X = X.T @ X\n",
    "theta_linreg = np.linalg.pinv(XT_X) @ (X.T @ y)\n",
    "print(\"Own inversion\")\n",
    "print(theta_linreg)\n",
    "# Hessian matrix\n",
    "H = (2.0/n)* XT_X\n",
    "EigValues, EigVectors = np.linalg.eig(H)\n",
    "print(f\"Eigenvalues of Hessian Matrix:{EigValues}\")\n",
    "\n",
    "theta = np.random.randn(2,1)\n",
    "eta = 1.0/np.max(EigValues)\n",
    "Niterations = 30\n",
    "\n",
    "# define the gradient\n",
    "training_gradient = grad(CostOLS)\n",
    "\n",
    "for iter in range(Niterations):\n",
    "    gradients = training_gradient(theta)\n",
    "    theta -= eta*gradients\n",
    "    print(iter,gradients[0],gradients[1])\n",
    "print(\"theta from own gd\")\n",
    "print(theta)\n",
    "\n",
    "# Now improve with momentum gradient descent\n",
    "change = 0.0\n",
    "delta_momentum = 0.3\n",
    "for iter in range(Niterations):\n",
    "    # calculate gradient\n",
    "    gradients = training_gradient(theta)\n",
    "    # calculate update\n",
    "    new_change = eta*gradients+delta_momentum*change\n",
    "    # take a step\n",
    "    theta -= new_change\n",
    "    # save the change\n",
    "    change = new_change\n",
    "    print(iter,gradients[0],gradients[1])\n",
    "print(\"theta from own gd wth momentum\")\n",
    "print(theta)"
   ]
  },
  {
   "cell_type": "markdown",
   "id": "2a2f8e77",
   "metadata": {},
   "source": [
    "## But noen of these can compete with Newton's method"
   ]
  },
  {
   "cell_type": "code",
   "execution_count": 10,
   "id": "16b33f23",
   "metadata": {},
   "outputs": [],
   "source": [
    "# Using Newton's method\n",
    "from random import random, seed\n",
    "import numpy as np\n",
    "import autograd.numpy as np\n",
    "import matplotlib.pyplot as plt\n",
    "from autograd import grad\n",
    "\n",
    "def CostOLS(beta):\n",
    "    return (1.0/n)*np.sum((y-X @ beta)**2)\n",
    "\n",
    "n = 100\n",
    "x = 2*np.random.rand(n,1)\n",
    "y = 4+3*x+np.random.randn(n,1)\n",
    "\n",
    "X = np.c_[np.ones((n,1)), x]\n",
    "XT_X = X.T @ X\n",
    "beta_linreg = np.linalg.pinv(XT_X) @ (X.T @ y)\n",
    "print(\"Own inversion\")\n",
    "print(beta_linreg)\n",
    "# Hessian matrix\n",
    "H = (2.0/n)* XT_X\n",
    "# Note that here the Hessian does not depend on the parameters beta\n",
    "invH = np.linalg.pinv(H)\n",
    "EigValues, EigVectors = np.linalg.eig(H)\n",
    "print(f\"Eigenvalues of Hessian Matrix:{EigValues}\")\n",
    "\n",
    "beta = np.random.randn(2,1)\n",
    "Niterations = 5\n",
    "\n",
    "# define the gradient\n",
    "training_gradient = grad(CostOLS)\n",
    "\n",
    "for iter in range(Niterations):\n",
    "    gradients = training_gradient(beta)\n",
    "    beta -= invH @ gradients\n",
    "    print(iter,gradients[0],gradients[1])\n",
    "print(\"beta from own Newton code\")\n",
    "print(beta)"
   ]
  },
  {
   "cell_type": "markdown",
   "id": "ad3a5983",
   "metadata": {},
   "source": [
    "## Including Stochastic Gradient Descent with Autograd\n",
    "In this code we include the stochastic gradient descent approach discussed above. Note here that we specify which argument we are taking the derivative with respect to when using **autograd**."
   ]
  },
  {
   "cell_type": "code",
   "execution_count": 11,
   "id": "ca0797be",
   "metadata": {},
   "outputs": [],
   "source": [
    "# Using Autograd to calculate gradients using SGD\n",
    "# OLS example\n",
    "from random import random, seed\n",
    "import numpy as np\n",
    "import autograd.numpy as np\n",
    "import matplotlib.pyplot as plt\n",
    "from autograd import grad\n",
    "\n",
    "# Note change from previous example\n",
    "def CostOLS(y,X,theta):\n",
    "    return np.sum((y-X @ theta)**2)\n",
    "\n",
    "n = 100\n",
    "x = 2*np.random.rand(n,1)\n",
    "y = 4+3*x+np.random.randn(n,1)\n",
    "\n",
    "X = np.c_[np.ones((n,1)), x]\n",
    "XT_X = X.T @ X\n",
    "theta_linreg = np.linalg.pinv(XT_X) @ (X.T @ y)\n",
    "print(\"Own inversion\")\n",
    "print(theta_linreg)\n",
    "# Hessian matrix\n",
    "H = (2.0/n)* XT_X\n",
    "EigValues, EigVectors = np.linalg.eig(H)\n",
    "print(f\"Eigenvalues of Hessian Matrix:{EigValues}\")\n",
    "\n",
    "theta = np.random.randn(2,1)\n",
    "eta = 1.0/np.max(EigValues)\n",
    "Niterations = 1000\n",
    "\n",
    "# Note that we request the derivative wrt third argument (theta, 2 here)\n",
    "training_gradient = grad(CostOLS,2)\n",
    "\n",
    "for iter in range(Niterations):\n",
    "    gradients = (1.0/n)*training_gradient(y, X, theta)\n",
    "    theta -= eta*gradients\n",
    "print(\"theta from own gd\")\n",
    "print(theta)\n",
    "\n",
    "xnew = np.array([[0],[2]])\n",
    "Xnew = np.c_[np.ones((2,1)), xnew]\n",
    "ypredict = Xnew.dot(theta)\n",
    "ypredict2 = Xnew.dot(theta_linreg)\n",
    "\n",
    "plt.plot(xnew, ypredict, \"r-\")\n",
    "plt.plot(xnew, ypredict2, \"b-\")\n",
    "plt.plot(x, y ,'ro')\n",
    "plt.axis([0,2.0,0, 15.0])\n",
    "plt.xlabel(r'$x$')\n",
    "plt.ylabel(r'$y$')\n",
    "plt.title(r'Random numbers ')\n",
    "plt.show()\n",
    "\n",
    "n_epochs = 50\n",
    "M = 5   #size of each minibatch\n",
    "m = int(n/M) #number of minibatches\n",
    "t0, t1 = 5, 50\n",
    "def learning_schedule(t):\n",
    "    return t0/(t+t1)\n",
    "\n",
    "theta = np.random.randn(2,1)\n",
    "\n",
    "for epoch in range(n_epochs):\n",
    "# Can you figure out a better way of setting up the contributions to each batch?\n",
    "    for i in range(m):\n",
    "        random_index = M*np.random.randint(m)\n",
    "        xi = X[random_index:random_index+M]\n",
    "        yi = y[random_index:random_index+M]\n",
    "        gradients = (1.0/M)*training_gradient(yi, xi, theta)\n",
    "        eta = learning_schedule(epoch*m+i)\n",
    "        theta = theta - eta*gradients\n",
    "print(\"theta from own sdg\")\n",
    "print(theta)"
   ]
  },
  {
   "cell_type": "markdown",
   "id": "84208009",
   "metadata": {},
   "source": [
    "## Same code but now with momentum gradient descent"
   ]
  },
  {
   "cell_type": "code",
   "execution_count": 12,
   "id": "46a6ded1",
   "metadata": {},
   "outputs": [],
   "source": [
    "# Using Autograd to calculate gradients using SGD\n",
    "# OLS example\n",
    "from random import random, seed\n",
    "import numpy as np\n",
    "import autograd.numpy as np\n",
    "import matplotlib.pyplot as plt\n",
    "from autograd import grad\n",
    "\n",
    "# Note change from previous example\n",
    "def CostOLS(y,X,theta):\n",
    "    return np.sum((y-X @ theta)**2)\n",
    "\n",
    "n = 100\n",
    "x = 2*np.random.rand(n,1)\n",
    "y = 4+3*x+np.random.randn(n,1)\n",
    "\n",
    "X = np.c_[np.ones((n,1)), x]\n",
    "XT_X = X.T @ X\n",
    "theta_linreg = np.linalg.pinv(XT_X) @ (X.T @ y)\n",
    "print(\"Own inversion\")\n",
    "print(theta_linreg)\n",
    "# Hessian matrix\n",
    "H = (2.0/n)* XT_X\n",
    "EigValues, EigVectors = np.linalg.eig(H)\n",
    "print(f\"Eigenvalues of Hessian Matrix:{EigValues}\")\n",
    "\n",
    "theta = np.random.randn(2,1)\n",
    "eta = 1.0/np.max(EigValues)\n",
    "Niterations = 100\n",
    "\n",
    "# Note that we request the derivative wrt third argument (theta, 2 here)\n",
    "training_gradient = grad(CostOLS,2)\n",
    "\n",
    "for iter in range(Niterations):\n",
    "    gradients = (1.0/n)*training_gradient(y, X, theta)\n",
    "    theta -= eta*gradients\n",
    "print(\"theta from own gd\")\n",
    "print(theta)\n",
    "\n",
    "\n",
    "n_epochs = 50\n",
    "M = 5   #size of each minibatch\n",
    "m = int(n/M) #number of minibatches\n",
    "t0, t1 = 5, 50\n",
    "def learning_schedule(t):\n",
    "    return t0/(t+t1)\n",
    "\n",
    "theta = np.random.randn(2,1)\n",
    "\n",
    "change = 0.0\n",
    "delta_momentum = 0.3\n",
    "\n",
    "for epoch in range(n_epochs):\n",
    "    for i in range(m):\n",
    "        random_index = M*np.random.randint(m)\n",
    "        xi = X[random_index:random_index+M]\n",
    "        yi = y[random_index:random_index+M]\n",
    "        gradients = (1.0/M)*training_gradient(yi, xi, theta)\n",
    "        eta = learning_schedule(epoch*m+i)\n",
    "        # calculate update\n",
    "        new_change = eta*gradients+delta_momentum*change\n",
    "        # take a step\n",
    "        theta -= new_change\n",
    "        # save the change\n",
    "        change = new_change\n",
    "print(\"theta from own sdg with momentum\")\n",
    "print(theta)"
   ]
  },
  {
   "cell_type": "markdown",
   "id": "b5a427ea",
   "metadata": {},
   "source": [
    "## Similar (second order function now) problem but now with AdaGrad"
   ]
  },
  {
   "cell_type": "code",
   "execution_count": 13,
   "id": "c6c3c398",
   "metadata": {},
   "outputs": [],
   "source": [
    "# Using Autograd to calculate gradients using AdaGrad and Stochastic Gradient descent\n",
    "# OLS example\n",
    "from random import random, seed\n",
    "import numpy as np\n",
    "import autograd.numpy as np\n",
    "import matplotlib.pyplot as plt\n",
    "from autograd import grad\n",
    "\n",
    "# Note change from previous example\n",
    "def CostOLS(y,X,theta):\n",
    "    return np.sum((y-X @ theta)**2)\n",
    "\n",
    "n = 1000\n",
    "x = np.random.rand(n,1)\n",
    "y = 2.0+3*x +4*x*x\n",
    "\n",
    "X = np.c_[np.ones((n,1)), x, x*x]\n",
    "XT_X = X.T @ X\n",
    "theta_linreg = np.linalg.pinv(XT_X) @ (X.T @ y)\n",
    "print(\"Own inversion\")\n",
    "print(theta_linreg)\n",
    "\n",
    "\n",
    "# Note that we request the derivative wrt third argument (theta, 2 here)\n",
    "training_gradient = grad(CostOLS,2)\n",
    "# Define parameters for Stochastic Gradient Descent\n",
    "n_epochs = 50\n",
    "M = 5   #size of each minibatch\n",
    "m = int(n/M) #number of minibatches\n",
    "# Guess for unknown parameters theta\n",
    "theta = np.random.randn(3,1)\n",
    "\n",
    "# Value for learning rate\n",
    "eta = 0.01\n",
    "# Including AdaGrad parameter to avoid possible division by zero\n",
    "delta  = 1e-8\n",
    "for epoch in range(n_epochs):\n",
    "    Giter = 0.0\n",
    "    for i in range(m):\n",
    "        random_index = M*np.random.randint(m)\n",
    "        xi = X[random_index:random_index+M]\n",
    "        yi = y[random_index:random_index+M]\n",
    "        gradients = (1.0/M)*training_gradient(yi, xi, theta)\n",
    "        Giter += gradients*gradients\n",
    "        update = gradients*eta/(delta+np.sqrt(Giter))\n",
    "        theta -= update\n",
    "print(\"theta from own AdaGrad\")\n",
    "print(theta)"
   ]
  },
  {
   "cell_type": "markdown",
   "id": "b7dd0224",
   "metadata": {},
   "source": [
    "Running this code we note an almost perfect agreement with the results from matrix inversion."
   ]
  },
  {
   "cell_type": "markdown",
   "id": "989625b0",
   "metadata": {},
   "source": [
    "## RMSprop for adaptive learning rate with Stochastic Gradient Descent"
   ]
  },
  {
   "cell_type": "code",
   "execution_count": 14,
   "id": "8a51a58f",
   "metadata": {},
   "outputs": [],
   "source": [
    "# Using Autograd to calculate gradients using RMSprop  and Stochastic Gradient descent\n",
    "# OLS example\n",
    "from random import random, seed\n",
    "import numpy as np\n",
    "import autograd.numpy as np\n",
    "import matplotlib.pyplot as plt\n",
    "from autograd import grad\n",
    "\n",
    "# Note change from previous example\n",
    "def CostOLS(y,X,theta):\n",
    "    return np.sum((y-X @ theta)**2)\n",
    "\n",
    "n = 1000\n",
    "x = np.random.rand(n,1)\n",
    "y = 2.0+3*x +4*x*x# +np.random.randn(n,1)\n",
    "\n",
    "X = np.c_[np.ones((n,1)), x, x*x]\n",
    "XT_X = X.T @ X\n",
    "theta_linreg = np.linalg.pinv(XT_X) @ (X.T @ y)\n",
    "print(\"Own inversion\")\n",
    "print(theta_linreg)\n",
    "\n",
    "\n",
    "# Note that we request the derivative wrt third argument (theta, 2 here)\n",
    "training_gradient = grad(CostOLS,2)\n",
    "# Define parameters for Stochastic Gradient Descent\n",
    "n_epochs = 50\n",
    "M = 5   #size of each minibatch\n",
    "m = int(n/M) #number of minibatches\n",
    "# Guess for unknown parameters theta\n",
    "theta = np.random.randn(3,1)\n",
    "\n",
    "# Value for learning rate\n",
    "eta = 0.01\n",
    "# Value for parameter rho\n",
    "rho = 0.99\n",
    "# Including AdaGrad parameter to avoid possible division by zero\n",
    "delta  = 1e-8\n",
    "for epoch in range(n_epochs):\n",
    "    Giter = 0.0\n",
    "    for i in range(m):\n",
    "        random_index = M*np.random.randint(m)\n",
    "        xi = X[random_index:random_index+M]\n",
    "        yi = y[random_index:random_index+M]\n",
    "        gradients = (1.0/M)*training_gradient(yi, xi, theta)\n",
    "\t# Accumulated gradient\n",
    "\t# Scaling with rho the new and the previous results\n",
    "        Giter = (rho*Giter+(1-rho)*gradients*gradients)\n",
    "\t# Taking the diagonal only and inverting\n",
    "        update = gradients*eta/(delta+np.sqrt(Giter))\n",
    "\t# Hadamard product\n",
    "        theta -= update\n",
    "print(\"theta from own RMSprop\")\n",
    "print(theta)"
   ]
  },
  {
   "cell_type": "markdown",
   "id": "4f6ad532",
   "metadata": {},
   "source": [
    "## And finally [ADAM](https://arxiv.org/pdf/1412.6980.pdf)"
   ]
  },
  {
   "cell_type": "code",
   "execution_count": 15,
   "id": "764249e1",
   "metadata": {},
   "outputs": [],
   "source": [
    "# Using Autograd to calculate gradients using RMSprop  and Stochastic Gradient descent\n",
    "# OLS example\n",
    "from random import random, seed\n",
    "import numpy as np\n",
    "import autograd.numpy as np\n",
    "import matplotlib.pyplot as plt\n",
    "from autograd import grad\n",
    "\n",
    "# Note change from previous example\n",
    "def CostOLS(y,X,theta):\n",
    "    return np.sum((y-X @ theta)**2)\n",
    "\n",
    "n = 1000\n",
    "x = np.random.rand(n,1)\n",
    "y = 2.0+3*x +4*x*x# +np.random.randn(n,1)\n",
    "\n",
    "X = np.c_[np.ones((n,1)), x, x*x]\n",
    "XT_X = X.T @ X\n",
    "theta_linreg = np.linalg.pinv(XT_X) @ (X.T @ y)\n",
    "print(\"Own inversion\")\n",
    "print(theta_linreg)\n",
    "\n",
    "\n",
    "# Note that we request the derivative wrt third argument (theta, 2 here)\n",
    "training_gradient = grad(CostOLS,2)\n",
    "# Define parameters for Stochastic Gradient Descent\n",
    "n_epochs = 50\n",
    "M = 5   #size of each minibatch\n",
    "m = int(n/M) #number of minibatches\n",
    "# Guess for unknown parameters theta\n",
    "theta = np.random.randn(3,1)\n",
    "\n",
    "# Value for learning rate\n",
    "eta = 0.01\n",
    "# Value for parameters beta1 and beta2, see https://arxiv.org/abs/1412.6980\n",
    "beta1 = 0.9\n",
    "beta2 = 0.999\n",
    "# Including AdaGrad parameter to avoid possible division by zero\n",
    "delta  = 1e-7\n",
    "iter = 0\n",
    "for epoch in range(n_epochs):\n",
    "    first_moment = 0.0\n",
    "    second_moment = 0.0\n",
    "    iter += 1\n",
    "    for i in range(m):\n",
    "        random_index = M*np.random.randint(m)\n",
    "        xi = X[random_index:random_index+M]\n",
    "        yi = y[random_index:random_index+M]\n",
    "        gradients = (1.0/M)*training_gradient(yi, xi, theta)\n",
    "        # Computing moments first\n",
    "        first_moment = beta1*first_moment + (1-beta1)*gradients\n",
    "        second_moment = beta2*second_moment+(1-beta2)*gradients*gradients\n",
    "        first_term = first_moment/(1.0-beta1**iter)\n",
    "        second_term = second_moment/(1.0-beta2**iter)\n",
    "\t# Scaling with rho the new and the previous results\n",
    "        update = eta*first_term/(np.sqrt(second_term)+delta)\n",
    "        theta -= update\n",
    "print(\"theta from own ADAM\")\n",
    "print(theta)"
   ]
  },
  {
   "cell_type": "markdown",
   "id": "671ad331",
   "metadata": {},
   "source": [
    "## Introducing [JAX](https://jax.readthedocs.io/en/latest/)\n",
    "\n",
    "Presently, instead of using **autograd**, we recommend using [JAX](https://jax.readthedocs.io/en/latest/)\n",
    "\n",
    "**JAX** is Autograd and [XLA (Accelerated Linear Algebra))](https://www.tensorflow.org/xla),\n",
    "brought together for high-performance numerical computing and machine learning research.\n",
    "It provides composable transformations of Python+NumPy programs: differentiate, vectorize, parallelize, Just-In-Time compile to GPU/TPU, and more.\n",
    "\n",
    "Here's a simple example on how you can use **JAX** to compute the derivate of the logistic function."
   ]
  },
  {
   "cell_type": "code",
   "execution_count": 16,
   "id": "25017edc",
   "metadata": {},
   "outputs": [],
   "source": [
    "import jax.numpy as jnp\n",
    "from jax import grad, jit, vmap\n",
    "\n",
    "def sum_logistic(x):\n",
    "  return jnp.sum(1.0 / (1.0 + jnp.exp(-x)))\n",
    "\n",
    "x_small = jnp.arange(3.)\n",
    "derivative_fn = grad(sum_logistic)\n",
    "print(derivative_fn(x_small))"
   ]
  },
  {
   "cell_type": "markdown",
   "id": "f7c76cf1",
   "metadata": {},
   "source": [
    "## Computing quantum gradients\n",
    "\n",
    "After this overview over various gradient approachs, let us implement\n",
    "efficient implementations of gradient methods to the derivatives of\n",
    "the Hamiltonian expectation values."
   ]
  },
  {
   "cell_type": "code",
   "execution_count": 17,
   "id": "d12b21aa",
   "metadata": {},
   "outputs": [],
   "source": [
    "from  matplotlib import pyplot as plt\n",
    "import numpy as np\n",
    "from scipy.optimize import minimize\n",
    "dim = 2\n",
    "Hamiltonian = np.zeros((dim,dim))\n",
    "e0 = 0.0\n",
    "e1 = 4.0\n",
    "Xnondiag = 0.20\n",
    "Xdiag = 3.0\n",
    "Eigenvalue = np.zeros(dim)\n",
    "# setting up the Hamiltonian\n",
    "Hamiltonian[0,0] = Xdiag+e0\n",
    "Hamiltonian[0,1] = Xnondiag\n",
    "Hamiltonian[1,0] = Hamiltonian[0,1]\n",
    "Hamiltonian[1,1] = e1-Xdiag\n",
    "# diagonalize and obtain eigenvalues, not necessarily sorted\n",
    "EigValues, EigVectors = np.linalg.eig(Hamiltonian)\n",
    "permute = EigValues.argsort()\n",
    "EigValues = EigValues[permute]\n",
    "# print only the lowest eigenvalue\n",
    "print(EigValues[0])\n",
    "\n",
    "# Now rewrite it in terms of the identity matrix and the Pauli matrix X and Z\n",
    "X = np.array([[0,1],[1,0]])\n",
    "Y = np.array([[0,-1j],[1j,0]])\n",
    "Z = np.array([[1,0],[0,-1]])\n",
    "# identity matrix\n",
    "I = np.array([[1,0],[0,1]])\n",
    "\n",
    "epsilon = (e0+e1)*0.5; omega = (e0-e1)*0.5\n",
    "c = 0.0; omega_z=Xdiag; omega_x = Xnondiag\n",
    "Hamiltonian = (epsilon+c)*I+(omega_z+omega)*Z+omega_x*X\n",
    "EigValues, EigVectors = np.linalg.eig(Hamiltonian)\n",
    "permute = EigValues.argsort()\n",
    "EigValues = EigValues[permute]\n",
    "# print only the lowest eigenvalue\n",
    "print(EigValues[0])\n",
    "\n",
    "# define the rotation matrices\n",
    "\n",
    "def Rx(theta):\n",
    "    return np.cos(theta*0.5)*I-1j*np.sin(theta*0.5)*X\n",
    "def Ry(phi):\n",
    "    return np.cos(phi*0.5)*I-1j*np.sin(phi*0.5)*Y\n",
    "\n",
    "#define basis states\n",
    "basis0 = np.array([1,0])\n",
    "basis1 = np.array([0,1])\n",
    "\n",
    "# Computing the expectation value of the energy \n",
    "def Energy(theta,phi):\n",
    "    Basis = Ry(phi) @ Rx(theta) @ basis0\n",
    "    energy = Basis.conj().T @ Hamiltonian @ Basis\n",
    "    return energy\n",
    "\n",
    "\n",
    "# Set up iteration using gradient descent method\n",
    "eta = 0.1\n",
    "Niterations = 100\n",
    "# Random angles using uniform distribution\n",
    "theta = 2*np.pi*np.random.rand()\n",
    "phi = 2*np.pi*np.random.rand()\n",
    "pi2 = 0.5*np.pi\n",
    "for iter in range(Niterations):\n",
    "    thetagradient = 0.5*(Energy(theta+pi2,phi)-Energy(theta-pi2,phi))\n",
    "    phigradient = 0.5*(Energy(theta,phi+pi2)-Energy(theta,phi-pi2))\n",
    "    theta -= eta*thetagradient\n",
    "    phi -= eta*phigradient\n",
    "print(Energy(theta,phi))"
   ]
  },
  {
   "cell_type": "markdown",
   "id": "de54ce1b",
   "metadata": {},
   "source": [
    "## A smarter way of doing this\n",
    "\n",
    "The above approach means that we are setting up several matrix-matrix\n",
    "and matrix-vector multiplications. Although straight forward it is not\n",
    "the most efficient way of doing this, in particular in case the\n",
    "matrices become large (and sparse). But there are some more important\n",
    "issues.\n",
    "\n",
    "In a physical realization of these systems we cannot just multiply the\n",
    "state with the Hamiltonian. When performing a measurement we can only\n",
    "measure in one particular direction. For the computational basis\n",
    "states which we have, $\\vert 0\\rangle$ and $\\vert 1\\rangle$, we have\n",
    "to measure along the bases of the Pauli matrices and reconstruct the\n",
    "eigenvalues from these measurements.\n",
    "\n",
    "From our earlier discussions we know that the Pauli $Z$ matrix has the above basis states as eigen states through"
   ]
  },
  {
   "cell_type": "markdown",
   "id": "9745aaa8",
   "metadata": {},
   "source": [
    "$$\n",
    "\\boldsymbol{\\sigma}_z\\vert 0 \\rangle = \\boldsymbol{Z}\\vert 0 \\rangle=+1\\vert 0 \\rangle,\n",
    "$$"
   ]
  },
  {
   "cell_type": "markdown",
   "id": "baa3ab52",
   "metadata": {},
   "source": [
    "and"
   ]
  },
  {
   "cell_type": "markdown",
   "id": "dae5f4fd",
   "metadata": {},
   "source": [
    "$$\n",
    "\\boldsymbol{\\sigma}_z\\vert 1 \\rangle = \\boldsymbol{Z}\\vert 1 \\rangle=-1\\vert 1 \\rangle,\n",
    "$$"
   ]
  },
  {
   "cell_type": "markdown",
   "id": "778c50da",
   "metadata": {},
   "source": [
    "with eigenvalue $-1$.\n",
    "\n",
    "For the Pauli $X$ matrix on the other hand we have"
   ]
  },
  {
   "cell_type": "markdown",
   "id": "0843cef0",
   "metadata": {},
   "source": [
    "$$\n",
    "\\boldsymbol{\\sigma}_x\\vert 0 \\rangle = \\boldsymbol{X}\\vert 0 \\rangle=+1\\vert 1 \\rangle,\n",
    "$$"
   ]
  },
  {
   "cell_type": "markdown",
   "id": "81e414cd",
   "metadata": {},
   "source": [
    "and"
   ]
  },
  {
   "cell_type": "markdown",
   "id": "15921820",
   "metadata": {},
   "source": [
    "$$\n",
    "\\boldsymbol{\\sigma}_x\\vert 1 \\rangle = \\boldsymbol{X}\\vert 1 \\rangle=-1\\vert 0 \\rangle,\n",
    "$$"
   ]
  },
  {
   "cell_type": "markdown",
   "id": "3566ab4e",
   "metadata": {},
   "source": [
    "with eigenvalues $1$ in both cases. The latter two equations tell us\n",
    "that the computational basis we have chosen, and in which we will\n",
    "prepare our states, is not an eigenbasis of the $\\sigma_x$ matrix.\n",
    "\n",
    "We will thus try to rewrite the Pauli $X$ matrix in terms of a Pauli $Z$ matrix. Fortunately this can be done using the Hadamard matrix twice, that is"
   ]
  },
  {
   "cell_type": "markdown",
   "id": "60a3778e",
   "metadata": {},
   "source": [
    "$$\n",
    "\\boldsymbol{X}=\\boldsymbol{\\sigma}_x=\\boldsymbol{H}\\boldsymbol{Z}\\boldsymbol{H}.\n",
    "$$"
   ]
  },
  {
   "cell_type": "markdown",
   "id": "8011b24d",
   "metadata": {},
   "source": [
    "The Pauli $Y$ matrix can be written as"
   ]
  },
  {
   "cell_type": "markdown",
   "id": "52abb03f",
   "metadata": {},
   "source": [
    "$$\n",
    "\\boldsymbol{Y}=\\boldsymbol{\\sigma}_y=\\boldsymbol{H}\\boldsymbol{S}^{\\dagger}\\boldsymbol{Z}\\boldsymbol{H}\\boldsymbol{S},\n",
    "$$"
   ]
  },
  {
   "cell_type": "markdown",
   "id": "1f3d96c2",
   "metadata": {},
   "source": [
    "where $S$ is the phase matrix"
   ]
  },
  {
   "cell_type": "markdown",
   "id": "84871f73",
   "metadata": {},
   "source": [
    "$$\n",
    "S = \\begin{bmatrix} 1 & 0 \\\\ 0 & \\imath \\end{bmatrix}.\n",
    "$$"
   ]
  },
  {
   "cell_type": "markdown",
   "id": "5476b6ac",
   "metadata": {},
   "source": [
    "From here and on we will denote the Pauli matrices by $X$, $Y$ and $Z$ and we can write the expectation value of the Hamiltonian as"
   ]
  },
  {
   "cell_type": "markdown",
   "id": "6b1b1249",
   "metadata": {},
   "source": [
    "$$\n",
    "\\langle \\psi \\vert (c+\\mathcal{E})\\boldsymbol{I} + (\\Omega+\\omega_z)\\boldsymbol{Z} + \\omega_x\\boldsymbol{H}\\boldsymbol{Z}\\boldsymbol{H}\\vert \\psi \\rangle,\n",
    "$$"
   ]
  },
  {
   "cell_type": "markdown",
   "id": "51c72e51",
   "metadata": {},
   "source": [
    "which we can rewrite as"
   ]
  },
  {
   "cell_type": "markdown",
   "id": "1c0302eb",
   "metadata": {},
   "source": [
    "$$\n",
    "(c+\\mathcal{E})\\langle \\psi \\vert \\boldsymbol{I}\\vert \\psi \\rangle+(\\Omega+\\omega_z)\\langle \\psi \\vert \\boldsymbol{Z}\\vert \\psi \\rangle+\\omega_x\\langle \\psi \\boldsymbol{H}\\vert \\boldsymbol{Z}\\vert\\boldsymbol{H}\\psi \\rangle.\n",
    "$$"
   ]
  },
  {
   "cell_type": "markdown",
   "id": "2b49ea33",
   "metadata": {},
   "source": [
    "The first and second term are to easy to perform a measurement on since we we just need to compute\n",
    "$\\langle \\psi\\vert \\boldsymbol{I}\\vert \\psi\\rangle$ and $\\langle \\psi\\vert \\boldsymbol{Z}\\vert \\psi\\rangle$.\n",
    "For the final term we need just to add the action of the Hadamard matrix and we are done.\n",
    "\n",
    "**To do:** Set up codes for this using gradient descent and perform a series of measumerents"
   ]
  },
  {
   "cell_type": "markdown",
   "id": "e9f0d54c",
   "metadata": {},
   "source": [
    "## Two-qubit system and the VQE\n",
    "\n",
    "We extend now the system  to a two-qubit system with the following computational\n",
    "basis states and Hamiltonian matrix written out in terms of Pauli spin\n",
    "matrices.\n",
    "\n",
    "This system can be thought of as composed of two subsystems\n",
    "$A$ and $B$. Each subsystem has computational basis states"
   ]
  },
  {
   "cell_type": "markdown",
   "id": "0d876d85",
   "metadata": {},
   "source": [
    "$$\n",
    "\\vert 0\\rangle_{\\mathrm{A,B}}=\\begin{bmatrix} 1 & 0\\end{bmatrix}^T \\hspace{1cm} \\vert 1\\rangle_{\\mathrm{A,B}}=\\begin{bmatrix} 0 & 1\\end{bmatrix}^T.\n",
    "$$"
   ]
  },
  {
   "cell_type": "markdown",
   "id": "554414ad",
   "metadata": {},
   "source": [
    "The subsystems could represent single particles or composite many-particle systems of a given symmetry.\n",
    "This leads to the many-body computational basis states"
   ]
  },
  {
   "cell_type": "markdown",
   "id": "e6420141",
   "metadata": {},
   "source": [
    "$$\n",
    "\\vert 00\\rangle = \\vert 0\\rangle_{\\mathrm{A}}\\otimes \\vert 0\\rangle_{\\mathrm{B}}=\\begin{bmatrix} 1 & 0 & 0 &0\\end{bmatrix}^T,\n",
    "$$"
   ]
  },
  {
   "cell_type": "markdown",
   "id": "b3a11ba3",
   "metadata": {},
   "source": [
    "and"
   ]
  },
  {
   "cell_type": "markdown",
   "id": "4e454bcf",
   "metadata": {},
   "source": [
    "$$\n",
    "\\vert 01\\rangle = \\vert 0\\rangle_{\\mathrm{A}}\\otimes \\vert 1\\rangle_{\\mathrm{B}}=\\begin{bmatrix} 0 & 1 & 0 &0\\end{bmatrix}^T,\n",
    "$$"
   ]
  },
  {
   "cell_type": "markdown",
   "id": "dfd5ca25",
   "metadata": {},
   "source": [
    "and"
   ]
  },
  {
   "cell_type": "markdown",
   "id": "0ff230e2",
   "metadata": {},
   "source": [
    "$$\n",
    "\\vert 10\\rangle = \\vert 1\\rangle_{\\mathrm{A}}\\otimes \\vert 0\\rangle_{\\mathrm{B}}=\\begin{bmatrix} 0 & 0 & 1 &0\\end{bmatrix}^T,\n",
    "$$"
   ]
  },
  {
   "cell_type": "markdown",
   "id": "6d18756d",
   "metadata": {},
   "source": [
    "and finally"
   ]
  },
  {
   "cell_type": "markdown",
   "id": "590a2a3b",
   "metadata": {},
   "source": [
    "$$\n",
    "\\vert 11\\rangle = \\vert 1\\rangle_{\\mathrm{A}}\\otimes \\vert 1\\rangle_{\\mathrm{B}}=\\begin{bmatrix} 0 & 0 & 0 &1\\end{bmatrix}^T.\n",
    "$$"
   ]
  },
  {
   "cell_type": "markdown",
   "id": "c320c865",
   "metadata": {},
   "source": [
    "These computational basis states define also the eigenstates of the non-interacting  Hamiltonian"
   ]
  },
  {
   "cell_type": "markdown",
   "id": "6cf82eee",
   "metadata": {},
   "source": [
    "$$\n",
    "H_0\\vert 00 \\rangle = \\epsilon_{00}\\vert 00 \\rangle,\n",
    "$$"
   ]
  },
  {
   "cell_type": "markdown",
   "id": "15c3b132",
   "metadata": {},
   "source": [
    "$$\n",
    "H_0\\vert 10 \\rangle = \\epsilon_{10}\\vert 10 \\rangle,\n",
    "$$"
   ]
  },
  {
   "cell_type": "markdown",
   "id": "1947d33a",
   "metadata": {},
   "source": [
    "$$\n",
    "H_0\\vert 01 \\rangle = \\epsilon_{01}\\vert 01 \\rangle,\n",
    "$$"
   ]
  },
  {
   "cell_type": "markdown",
   "id": "4daf998a",
   "metadata": {},
   "source": [
    "and"
   ]
  },
  {
   "cell_type": "markdown",
   "id": "8d0cd8cc",
   "metadata": {},
   "source": [
    "$$\n",
    "H_0\\vert 11 \\rangle = \\epsilon_{11}\\vert 11 \\rangle.\n",
    "$$"
   ]
  },
  {
   "cell_type": "markdown",
   "id": "cee379c7",
   "metadata": {},
   "source": [
    "The interacting part of the Hamiltonian $H_{\\mathrm{I}}$ is given by the tensor product of two $\\sigma_x$ and $\\sigma_z$  matrices, respectively, that is"
   ]
  },
  {
   "cell_type": "markdown",
   "id": "c4c1d902",
   "metadata": {},
   "source": [
    "$$\n",
    "H_{\\mathrm{I}}=H_x\\sigma_x\\otimes\\sigma_x+H_z\\sigma_z\\otimes\\sigma_z,\n",
    "$$"
   ]
  },
  {
   "cell_type": "markdown",
   "id": "ad64376a",
   "metadata": {},
   "source": [
    "where $H_x$ and $H_z$ are interaction strength parameters. Our final Hamiltonian matrix is given by"
   ]
  },
  {
   "cell_type": "markdown",
   "id": "0df8eee6",
   "metadata": {},
   "source": [
    "$$\n",
    "\\boldsymbol{H}=\\begin{bmatrix} \\epsilon_{00}+H_z & 0 & 0 & H_x \\\\\n",
    "                       0  & \\epsilon_{10}-H_z & H_x & 0 \\\\\n",
    "\t\t       0 & H_x & \\epsilon_{01}-H_z & 0 \\\\\n",
    "\t\t       H_x & 0 & 0 & \\epsilon_{11} +H_z \\end{bmatrix}.\n",
    "$$"
   ]
  },
  {
   "cell_type": "markdown",
   "id": "742dee49",
   "metadata": {},
   "source": [
    "## Switching to Qiskit (notes developed by Stian Bilek)"
   ]
  },
  {
   "cell_type": "code",
   "execution_count": 18,
   "id": "f0d25dcf",
   "metadata": {},
   "outputs": [],
   "source": [
    "import numpy as np\n",
    "import qiskit as qk\n",
    "from scipy.optimize import minimize\n",
    "\n",
    "\n",
    "# Initialize registers and circuit\n",
    "n_qubits = 1 #Number of qubits\n",
    "n_cbits = 1 #Number of classical bits (the number of qubits you want to measure at the end of the circuit)\n",
    "qreg = qk.QuantumRegister(n_qubits) #Create a quantum register\n",
    "creg = qk.ClassicalRegister(n_cbits) #Create a classical register\n",
    "circuit = qk.QuantumCircuit(qreg,creg) #Create your quantum circuit\n",
    "circuit.draw() #Draw circuit. It is empty\n",
    "# Perform operations on qubit\n",
    "circuit.x(qreg[0]) #Applies a Pauli X gate to the first qubit in the quantum register\n",
    "circuit.draw()\n",
    "# Chose a qubit to measure and encode the results to a classical bit\n",
    "#Measure the first qubit in the quantum register\n",
    "#and encode the results to the first qubit in the classical register\n",
    "circuit.measure(qreg[0],creg[0])\n",
    "circuit.draw()\n",
    "# Execute circuit\n",
    "\n",
    "backend = qk.Aer.get_backend('qasm_simulator') \n",
    "#This is the device you want to use. It is an ideal simulation of a quantum device\n",
    "\n",
    "\n",
    "job = backend.run(circuit,shots=1000) #Run the circuit 1000 times\n",
    "result = job.result()\n",
    "counts = result.get_counts()\n",
    "print(counts)\n",
    "circuit.clear()\n",
    "circuit.draw()\n",
    "\n",
    "circuit.h(qreg[0]) #Apply a Hadamard gate to the first qubit of the quantum register\n",
    "circuit.measure(qreg,creg)\n",
    "print(circuit.draw())\n",
    "job = backend.run(circuit,shots=1000)\n",
    "result = job.result()\n",
    "counts = result.get_counts()\n",
    "print(counts)\n",
    "circuit.clear()"
   ]
  },
  {
   "cell_type": "markdown",
   "id": "50c9ac28",
   "metadata": {},
   "source": [
    "Create a two-qubit circuit and set up a Bell state"
   ]
  },
  {
   "cell_type": "code",
   "execution_count": 19,
   "id": "0beac4d1",
   "metadata": {},
   "outputs": [],
   "source": [
    "n_qubits = 2\n",
    "n_cbits = 2\n",
    "qreg = qk.QuantumRegister(n_qubits)\n",
    "creg = qk.ClassicalRegister(n_cbits)\n",
    "circuit = qk.QuantumCircuit(qreg,creg)\n",
    "circuit.draw()\n",
    "circuit.h(qreg[0])\n",
    "circuit.cx(qreg[0],qreg[1])"
   ]
  },
  {
   "cell_type": "markdown",
   "id": "7bd4f44d",
   "metadata": {},
   "source": [
    "This is a controlled operation. Apply a Pauli $X$ gate to the second qubit (qreg[1]) if the first qubit (qreg[0])\n",
    "is in the $|1\\rangle$ state. Else do nothing"
   ]
  },
  {
   "cell_type": "code",
   "execution_count": 20,
   "id": "344d7cb3",
   "metadata": {},
   "outputs": [],
   "source": [
    "circuit.draw()\n",
    "circuit.measure(qreg,creg)\n",
    "circuit.draw()\n",
    "job = backend.run(circuit,shots=1000)\n",
    "result = job.result()\n",
    "counts = result.get_counts()\n",
    "print(counts)\n",
    "circuit.clear()"
   ]
  },
  {
   "cell_type": "markdown",
   "id": "f5e6bd17",
   "metadata": {},
   "source": [
    "Apply rotation to qubit"
   ]
  },
  {
   "cell_type": "code",
   "execution_count": 21,
   "id": "3b2b2251",
   "metadata": {},
   "outputs": [],
   "source": [
    "theta = np.pi/3\n",
    "circuit.rx(theta, qreg[0]) #R_x(theta) rotation on the first qubit (qreg[0])\n",
    "circuit.measure(qreg,creg)\n",
    "print(circuit.draw())\n",
    "job = backend.run(circuit,shots=1000)\n",
    "result = job.result()\n",
    "counts = result.get_counts()\n",
    "circuit.clear()\n",
    "print(counts)"
   ]
  },
  {
   "cell_type": "markdown",
   "id": "e8e674b4",
   "metadata": {},
   "source": [
    "Find the lowest eigenvalue of $$ H = c_1 Z_0 + c_2 Z_1 + c_3 X_0 Y_1 $$ \n",
    "We will use $$<\\psi|H|\\psi> = c_1<\\psi|Z_0|\\psi> + c_2<\\psi|Z_1|\\psi> + c_3<\\psi|X_0Y_1|\\psi> $$"
   ]
  },
  {
   "cell_type": "code",
   "execution_count": 22,
   "id": "d33196bf",
   "metadata": {},
   "outputs": [],
   "source": [
    "I = np.eye(2)\n",
    "X = np.array([[0,1],[1,0]])\n",
    "Y = np.array([[0,-1j],[1j,0]])\n",
    "Z = np.array([[1,0],[0,-1]])\n",
    "H = np.kron(Z,I) + np.kron(I,Z) + np.kron(X,Y)\n",
    "eigvals,eigvecs = np.linalg.eigh(H)\n",
    "print(eigvals[0])\n",
    "\n",
    "c_1 = 1\n",
    "c_2 = 1\n",
    "c_3 = 1\n",
    "\n",
    "h_1 = [c_1,[0],['z']]\n",
    "h_2 = [c_2,[1],['z']]\n",
    "h_3 = [c_3,[0,1],['x','x']]\n",
    "H = [h_1,h_2,h_3]"
   ]
  },
  {
   "cell_type": "markdown",
   "id": "55f05b0e",
   "metadata": {},
   "source": [
    "Create ansatz"
   ]
  },
  {
   "cell_type": "code",
   "execution_count": 23,
   "id": "c25a349b",
   "metadata": {},
   "outputs": [],
   "source": [
    "def ansatz(theta,n_qubits):\n",
    "    qreg = qk.QuantumRegister(n_qubits)\n",
    "    circuit = qk.QuantumCircuit(qreg)\n",
    "    for i in range(n_qubits):\n",
    "        circuit.ry(theta[i],qreg[i])\n",
    "    for i in range(n_qubits-1):\n",
    "        circuit.cx(qreg[i],qreg[i+1])\n",
    "    return(circuit)\n",
    "qreg = qk.QuantumRegister(n_qubits)\n",
    "circuit = qk.QuantumCircuit(qreg)\n",
    "circuit.h(qreg[:2])\n",
    "print('Before ansatz')\n",
    "print(circuit.draw())\n",
    "theta = np.random.randn(2)\n",
    "n_qubits = 2\n",
    "circuit = circuit.compose(ansatz(theta,n_qubits))\n",
    "print('After ansatz')\n",
    "circuit.draw()"
   ]
  },
  {
   "cell_type": "markdown",
   "id": "57020b9c",
   "metadata": {},
   "source": [
    "Change measurement basis"
   ]
  },
  {
   "cell_type": "code",
   "execution_count": 24,
   "id": "21306592",
   "metadata": {},
   "outputs": [],
   "source": [
    "def basis_change(h_i,n_qubits):\n",
    "    qreg = qk.QuantumRegister(n_qubits)\n",
    "    circuit = qk.QuantumCircuit(qreg)\n",
    "    \n",
    "    for qubit,operator in zip(h_i[1],h_i[2]):\n",
    "        if operator == 'x':\n",
    "            circuit.h(qreg[qubit])\n",
    "        if operator == 'y':\n",
    "            circuit.sdg(qreg[qubit])\n",
    "            circuit.h(qreg[qubit])\n",
    "    return(circuit)\n",
    "n_qubits = 2\n",
    "qreg = qk.QuantumRegister(n_qubits)\n",
    "circuit = qk.QuantumCircuit(qreg)\n",
    "theta = np.random.randn(n_qubits)\n",
    "circuit = circuit.compose(ansatz(theta,n_qubits))\n",
    "print('Ansatz circuit')\n",
    "circuit.draw()\n",
    "circuit = circuit.compose(basis_change(H[2],n_qubits))\n",
    "print('After basis transformation:')\n",
    "print(circuit.draw())"
   ]
  },
  {
   "cell_type": "markdown",
   "id": "6b09be00",
   "metadata": {},
   "source": [
    "Get energy for given rotational parameters, theta"
   ]
  },
  {
   "cell_type": "code",
   "execution_count": 25,
   "id": "ef685848",
   "metadata": {},
   "outputs": [],
   "source": [
    "def get_energy(theta):\n",
    "    n_qubits = 2\n",
    "    qreg = qk.QuantumRegister(n_qubits)\n",
    "    circuit = qk.QuantumCircuit(qreg)\n",
    "    circuit = circuit.compose(ansatz(theta,n_qubits))\n",
    "    circuit_list = []\n",
    "    for idx,h_i in enumerate(H):\n",
    "        basis_change_circuit = basis_change(h_i,n_qubits)\n",
    "        new_circuit = circuit.compose(basis_change_circuit)\n",
    "        creg = qk.ClassicalRegister(len(h_i[1]))\n",
    "        new_circuit.add_register(creg)\n",
    "        new_circuit.measure(qreg[h_i[1]],creg)\n",
    "        circuit_list.append(new_circuit)\n",
    "    shots = 10000\n",
    "    job = backend.run(circuit_list,shots=shots)\n",
    "    E = np.zeros(len(circuit_list))\n",
    "    for i in range(len(circuit_list)):\n",
    "        result = job.result()\n",
    "        counts = result.get_counts(i)\n",
    "        for key,value in counts.items():\n",
    "            e = 1\n",
    "            for bit in key:\n",
    "                if bit == '0':\n",
    "                    e *= 1\n",
    "                if bit == '1':\n",
    "                    e *= -1\n",
    "            E[i] += e*value\n",
    "        E[i] *= H[i][0]\n",
    "    E /= shots\n",
    "    return(np.sum(E))\n",
    "\n",
    "theta = np.random.randn(2)\n",
    "get_energy(theta)"
   ]
  },
  {
   "cell_type": "markdown",
   "id": "5a36d241",
   "metadata": {},
   "source": [
    "Minimize energy with Scipy"
   ]
  },
  {
   "cell_type": "code",
   "execution_count": 26,
   "id": "fb67e73d",
   "metadata": {},
   "outputs": [],
   "source": [
    "theta = np.random.randn(2)\n",
    "res = minimize(get_energy, theta, method='Powell',tol=1e-12)\n",
    "get_energy(res.x)\n",
    "\n",
    "\n",
    "# ## We might need a more flexible ansatz\n",
    "\n",
    "def ansatz(theta,n_qubits):\n",
    "    qreg = qk.QuantumRegister(n_qubits)\n",
    "    circuit = qk.QuantumCircuit(qreg)\n",
    "    idx = 0\n",
    "    for i in range(n_qubits):\n",
    "        circuit.ry(theta[idx],qreg[i])\n",
    "        idx += 1\n",
    "    for i in range(n_qubits-1):\n",
    "        circuit.cx(qreg[i],qreg[i+1])\n",
    "    for i in range(n_qubits):\n",
    "        circuit.rx(theta[idx],qreg[i])\n",
    "        idx += 1\n",
    "    for i in range(n_qubits-1):\n",
    "        circuit.cx(qreg[i],qreg[i+1])\n",
    "    return(circuit)\n",
    "theta = np.random.randn(4)\n",
    "res = minimize(get_energy, theta, method='Powell',tol=1e-16)\n",
    "get_energy(res.x)"
   ]
  },
  {
   "cell_type": "markdown",
   "id": "ece05083",
   "metadata": {},
   "source": [
    "Then we minimize energy with gradient descent"
   ]
  },
  {
   "cell_type": "markdown",
   "id": "55bd1776",
   "metadata": {},
   "source": [
    "$$\n",
    "\\frac{\\partial E (\\theta_1,\\dots,\\theta_i,\\dots,\\theta_p)}{\\partial \\theta_i} = \\frac{E(\\theta_1,\\dots,\\theta_i + \\pi/2,\\dots, \\theta_p) - E(\\theta_1,\\dots, \\theta_i - \\pi/2,\\dots, \\theta_p}{2}.\n",
    "$$"
   ]
  },
  {
   "cell_type": "code",
   "execution_count": 27,
   "id": "271c0ce6",
   "metadata": {},
   "outputs": [],
   "source": [
    "epochs = 200\n",
    "theta = np.random.randn(4)\n",
    "for epoch in range(epochs):\n",
    "    print(epoch,get_energy(theta))\n",
    "    grad = np.zeros_like(theta)\n",
    "    for idx in range(theta.shape[0]):\n",
    "        theta_temp = theta.copy()\n",
    "        theta_temp[idx] += np.pi/2\n",
    "        E_plus = get_energy(theta_temp)\n",
    "        theta_temp[idx] -= np.pi\n",
    "        E_minus = get_energy(theta_temp)\n",
    "        grad[idx] = (E_plus - E_minus)/2\n",
    "    theta -= 0.1*grad"
   ]
  },
  {
   "cell_type": "markdown",
   "id": "9f86dcdd",
   "metadata": {},
   "source": [
    "## Moving to the Lipkin model\n",
    "\n",
    "To construct an efficient ansatz, we must determine the subspace\n",
    "within which the Hamiltonian lives. To begin, note that particles are\n",
    "only ever moved between energy levels in pairs. This implies that all\n",
    "possible states have a Hamming weight of constant parity (odd or\n",
    "even); this is the same as the signature $r$ being conserved. Further,\n",
    "note that the Hamiltonian's coefficients ($\\epsilon$ and $V$) are\n",
    "state independent (do not depend on the indices $n$ or $m$) as the\n",
    "states labeled by these indices are degenerate and thus have the same\n",
    "energy level. Thus, the Hamiltonian treats all states with the same\n",
    "number of excited particles (Hamming weight of the state) as the\n",
    "same. Therefore, the following ansatz forms exactly cover the subspace\n",
    "within which the $N$-degenerate Hamiltonian explores:"
   ]
  },
  {
   "cell_type": "markdown",
   "id": "c0b64ad1",
   "metadata": {},
   "source": [
    "<!-- Equation labels as ordinary links -->\n",
    "<div id=\"_auto8\"></div>\n",
    "\n",
    "$$\n",
    "\\begin{equation}\n",
    "\\vert \\psi_{\\text{even}}\\rangle=\\sum_{k=0}^{\\lfloor n/2 \\rfloor}c_{2k}\\vert D^n_{2k}\\rangle,\n",
    "\\label{_auto8} \\tag{9}\n",
    "\\end{equation}\n",
    "$$"
   ]
  },
  {
   "cell_type": "markdown",
   "id": "753a1ad8",
   "metadata": {},
   "source": [
    "<!-- Equation labels as ordinary links -->\n",
    "<div id=\"_auto9\"></div>\n",
    "\n",
    "$$\n",
    "\\begin{equation} \n",
    "\\vert \\psi_{\\text{odd}}\\rangle=\\sum_{k=0}^{\\lfloor n/2 \\rfloor}c_{2k+1}\\vert D^n_{2k+1}\\rangle.\n",
    "\\label{_auto9} \\tag{10}\n",
    "\\end{equation}\n",
    "$$"
   ]
  },
  {
   "cell_type": "markdown",
   "id": "53f1b442",
   "metadata": {},
   "source": [
    "Here $\\vert D^n_k\\rangle$ represents a Dicke state which is defined as equal superposition of all $n$-qubit states with Hamming weight $k$. That is"
   ]
  },
  {
   "cell_type": "markdown",
   "id": "e65411fb",
   "metadata": {},
   "source": [
    "<!-- Equation labels as ordinary links -->\n",
    "<div id=\"_auto10\"></div>\n",
    "\n",
    "$$\n",
    "\\begin{equation}\n",
    "\\vert D^n_k\\rangle= \\frac{1}{\\sqrt{{n \\choose k}}}\\sum_{x\\in h^n_k}\\vert x\\rangle,\n",
    "\\label{_auto10} \\tag{11}\n",
    "\\end{equation}\n",
    "$$"
   ]
  },
  {
   "cell_type": "markdown",
   "id": "b2d9b40e",
   "metadata": {},
   "source": [
    "where $h^n_k= \\{\\vert x\\rangle \\ | \\ \\text{l}(x) = n, \\ \\text{wt}(x) = k\\}$. There are two ways we can think of to prepare such ansatz: The first is to prepare them exactly as it is known how to deterministically prepare Dicke states with linear depth. The reference provides an algorithm for preparing a set of gates $U^n_k$ that prepares a Dicke state from a product state of Hamming weight $k$; that is"
   ]
  },
  {
   "cell_type": "markdown",
   "id": "62e877f2",
   "metadata": {},
   "source": [
    "<!-- Equation labels as ordinary links -->\n",
    "<div id=\"_auto11\"></div>\n",
    "\n",
    "$$\n",
    "\\begin{equation}\n",
    "U^n_k\\vert 1\\rangle^{\\otimes k}\\vert 0\\rangle^{\\otimes n-k}=\\vert D^n_k\\rangle.\n",
    "\\label{_auto11} \\tag{12}\n",
    "\\end{equation}\n",
    "$$"
   ]
  },
  {
   "cell_type": "markdown",
   "id": "2bb7a202",
   "metadata": {},
   "source": [
    "It then describes how to one can create an arbitrary superposition of\n",
    "Dicke states, which we modify here to restrict ourselves to a Hamming\n",
    "weight of constant parity. The circuit to construct such a state (for\n",
    "the $k=6$ case, as an example) is given below"
   ]
  },
  {
   "cell_type": "code",
   "execution_count": 28,
   "id": "ddd859ed",
   "metadata": {},
   "outputs": [],
   "source": [
    "import numpy as np\n",
    "import qiskit\n",
    "from qiskit.visualization import circuit_drawer\n",
    "from qiskit.quantum_info import Statevector\n",
    "from matplotlib.pyplot import figure\n",
    "from qiskit import QuantumRegister, QuantumCircuit, ClassicalRegister, Aer, assemble\n",
    "from qiskit.providers.aer.noise import NoiseModel\n",
    "import pylatexenc\n",
    "from qiskit.algorithms import VQE\n",
    "from qiskit.utils import QuantumInstance\n",
    "from qiskit.opflow import X, Z, I, Y\n",
    "from qiskit.circuit import Parameter\n",
    "from qiskit.algorithms.optimizers import ADAM\n",
    "from qiskit.opflow import AerPauliExpectation\n",
    "from qiskit import IBMQ\n",
    "import cmath\n",
    "import pandas as pd\n",
    "from scipy.sparse import diags\n",
    "import numpy.linalg as LA\n",
    "import matplotlib.pyplot as plt\n",
    "from IPython.display import Image\n",
    "import warnings\n",
    "warnings.filterwarnings('ignore')\n",
    "pi=np.pi"
   ]
  },
  {
   "cell_type": "code",
   "execution_count": 29,
   "id": "91b6443d",
   "metadata": {},
   "outputs": [],
   "source": [
    "#function that sorts eigenvalues with its eigenvectors in accending order\n",
    "def eigen(A):\n",
    "    eigenValues, eigenVectors = LA.eig(A)\n",
    "    idx = np.argsort(eigenValues)\n",
    "    eigenValues = eigenValues[idx]\n",
    "    eigenVectors = eigenVectors[:,idx]\n",
    "    return (eigenValues, eigenVectors) \n",
    "\n",
    "#one body expectation value\n",
    "def one_body(E,N):\n",
    "  k = N/2\n",
    "  m = np.arange(-k,k+1,1) # Since the collective space is Omega+1\n",
    "  return E*np.diag(m) #return a matrix where its diagonal elemens are epsilon*K_0\n",
    "\n",
    "#two body expectation value\n",
    "def two_body(V,N):\n",
    "  k = N/2\n",
    "  m = np.arange(-k,k+1,1)\n",
    "  left =np.zeros(len(m)-2,dtype=complex)\n",
    "  right = np.zeros(len(m)-2,dtype=complex)\n",
    "  diag = np.zeros(len(m),dtype=complex)\n",
    "  for i in range(len(left)):\n",
    "    CG = cmath.sqrt(k*(k+1)-(m[i]+2)*(m[i]+1))*cmath.sqrt(k*(k+1)-m[i]*(m[i]+1)) #calculate Clebsch-Gordan Coefficients \n",
    "    left[i] = CG\n",
    "    right[i] = CG\n",
    "  k = [left,diag,right]\n",
    "  offset = [-2,0,2]\n",
    "  return -0.5*V*diags(k,offset).toarray() #return a matrix where its off digonal elements are (1/2)V(K^2_+ + K^2_-)\n",
    "\n",
    "#full expectation value\n",
    "def quasi_spin(E,V,N):\n",
    "  ob = one_body(E,N)\n",
    "  tb = two_body(V,N)\n",
    "  H = ob+tb \n",
    "  e,v = eigen(H) # find the eigenvalues of the Hamiltonian\n",
    "  return e,H\n",
    "\n",
    "#converts chi to V\n",
    "def Vp(E,omega,chi):\n",
    "  return (chi*E)/(omega-1)"
   ]
  },
  {
   "cell_type": "code",
   "execution_count": 30,
   "id": "ce8d35b2",
   "metadata": {},
   "outputs": [],
   "source": [
    "#parameters\n",
    "E = 1\n",
    "chi = np.arange(0,2.1,0.1)\n",
    "omega = 2\n",
    "\n",
    "EV0 = []\n",
    "EV1 = []\n",
    "EV2 = []\n",
    "Ham = []\n",
    "for i in chi:\n",
    "  v = Vp(E,omega,i)\n",
    "  EigenV,H = quasi_spin(E,v,omega) #return eigenvalues and Hamiltonian\n",
    "  Ham.append(H)\n",
    "  EV0.append(EigenV[0])\n",
    "  EV1.append(EigenV[1])\n",
    "  EV2.append(EigenV[2])"
   ]
  },
  {
   "cell_type": "code",
   "execution_count": 31,
   "id": "84e72220",
   "metadata": {},
   "outputs": [],
   "source": [
    "matrix = pd.DataFrame(Ham[5].real)\n",
    "print('Hamiltonian matrix')\n",
    "matrix.head()"
   ]
  },
  {
   "cell_type": "code",
   "execution_count": 32,
   "id": "598d00b0",
   "metadata": {},
   "outputs": [],
   "source": [
    "plt.plot(chi,EV0)\n",
    "plt.plot(chi,EV1)\n",
    "plt.plot(chi,EV2)\n",
    "plt.xlabel('$\\chi$')\n",
    "plt.ylabel('Energy')\n",
    "plt.title('$\\Omega=2$ exact Lipkin Model')"
   ]
  },
  {
   "cell_type": "code",
   "execution_count": 33,
   "id": "2602c6f7",
   "metadata": {},
   "outputs": [],
   "source": [
    "def LM_circuit():\n",
    "    theta = Parameter('theta')\n",
    "    QC = QuantumCircuit(2)\n",
    "    QC.ry(2*(theta-np.pi/2),0)\n",
    "    QC.cnot(0,1)\n",
    "    return QC"
   ]
  },
  {
   "cell_type": "code",
   "execution_count": 34,
   "id": "82263317",
   "metadata": {},
   "outputs": [],
   "source": [
    "QC = LM_circuit()\n",
    "QC.draw(output='mpl')"
   ]
  },
  {
   "cell_type": "markdown",
   "id": "fcc1b814",
   "metadata": {},
   "source": [
    "### VQE method\n",
    "\n",
    "For this method, we will be using Qiskit's VQE function, where we specifiy \n",
    "* Quantum circuit\n",
    "\n",
    "a. Optimizer\n",
    "\n",
    "b. Quantum instance (i.e. which backend). Here we will be using the \"qasm_simulator\" \n",
    "\n",
    "c. Initial point (i.e. $\\theta$ search space)\n",
    "\n",
    "d. Hamiltonian/measurement basis\n",
    "\n",
    "To define the Hamiltonian, we will use the Qiskit Pauli operator functions\n",
    "I,Z,X,Y.  In this method, for a given $\\chi$, we will do a search over\n",
    "$\\theta$ from $-\\frac{\\pi}{2}$ to $\\frac{\\pi}{2}$ and picking out the\n",
    "minimum energy value"
   ]
  },
  {
   "cell_type": "code",
   "execution_count": 35,
   "id": "d78c09c2",
   "metadata": {},
   "outputs": [],
   "source": [
    "#sim1 min example\n",
    "sim = Aer.get_backend('qasm_simulator')\n",
    "adam =qiskit.algorithms.optimizers.ADAM(maxiter=10000) #optimizer for VQE\n",
    "epsilon = 1\n",
    "omega = 2\n",
    "chi2 = [0.5,1]\n",
    "\n",
    "t = np.arange(-pi/2,pi/2,0.05) #0.1 step size finishs pretty fast\n",
    "energy = []\n",
    "for x in chi2:\n",
    "    ev = []\n",
    "    v = Vp(epsilon,omega,x)\n",
    "    for i in range(len(t)):\n",
    "        H = 0.5 * epsilon * ( Z ^ I ) + 0.5 * epsilon * ( I ^ Z ) -0.5 * v * ( X ^ X ) +0.5 * v * ( Y ^ Y )\n",
    "        vqe = VQE(ansatz=LM_circuit(),optimizer=adam,initial_point=[t[i]],quantum_instance=sim,expectation=AerPauliExpectation())\n",
    "        result = vqe.compute_minimum_eigenvalue(H)\n",
    "        ev.append(result.eigenvalue)\n",
    "    energy.append(ev)\n",
    "\n",
    "\n",
    "plt.plot(t,energy[0],label='$\\chi=0.5$')\n",
    "plt.plot(t,energy[1],label='$\\chi=1$')\n",
    "plt.xlabel('$\\\\theta$')\n",
    "plt.ylabel('Ground State Energy')\n",
    "plt.title('$E_{g.s}$ vs. $\\\\theta$')\n",
    "plt.legend()"
   ]
  },
  {
   "cell_type": "code",
   "execution_count": 36,
   "id": "8dcbe68e",
   "metadata": {},
   "outputs": [],
   "source": [
    "epsilon = 1\n",
    "omega = 2\n",
    "chi3 = np.arange(0,2.1,0.1)\n",
    "t = np.arange(-pi/2,pi/2,0.1)\n",
    "adam =qiskit.algorithms.optimizers.ADAM(maxiter=10000)\n",
    "LM_sim = []\n",
    "for x in chi3:\n",
    "    v = Vp(epsilon,omega,x)\n",
    "    ev = []\n",
    "    for i in range(len(t)):\n",
    "        H = 0.5 * epsilon * ( Z ^ I ) +0.5 * epsilon * ( I ^ Z ) -0.5 * v * ( X ^ X ) +0.5 * v * ( Y ^ Y )\n",
    "        vqe = VQE(ansatz=LM_circuit(),optimizer=adam,initial_point=[t[i]],quantum_instance=sim,expectation=AerPauliExpectation())\n",
    "        result = vqe.compute_minimum_eigenvalue(H)\n",
    "\n",
    "        ev.append(result.eigenvalue)\n",
    "    LM_sim.append(min(ev))\n",
    "\n",
    "plt.plot(chi,np.array(exact),label='$E_{exact}$',color='b')\n",
    "plt.plot(chi,np.array(HF),label='$E_{HF}$',color='g')\n",
    "plt.scatter(chi3,LM_sim,label='QC sim',color='cyan')\n",
    "plt.axvline(1, color = 'k', linestyle='--')\n",
    "plt.ylabel('$E_{g.s}$')\n",
    "plt.xlabel('$\\chi$')\n",
    "plt.title(f'$\\Omega=2$')\n",
    "plt.legend()"
   ]
  },
  {
   "cell_type": "markdown",
   "id": "45b11dac",
   "metadata": {},
   "source": [
    "### VQE method using Qiskit\n",
    "\n",
    "For this method, we will be using Qiskit's VQE function, where we specifiy \n",
    "1. Quantum circuit\n",
    "\n",
    "2. Optimizer\n",
    "\n",
    "3. Quantum instance (i.e. which backend). Here we will be using the \"statevector_simulator\" \n",
    "\n",
    "4. Hamiltonian/measurement basis"
   ]
  },
  {
   "cell_type": "code",
   "execution_count": 37,
   "id": "ee4ccfef",
   "metadata": {},
   "outputs": [],
   "source": [
    "epsilon = 1\n",
    "omega = 2\n",
    "chi5 = np.arange(0,2.1,0.1)\n",
    "adam =qiskit.algorithms.optimizers.ADAM(maxiter=10000)\n",
    "LM_sim = []\n",
    "for x in chi5:\n",
    "    v = Vp(epsilon,omega,x)\n",
    "    H = 0.5 * epsilon * ( Z ^ I ) +0.5 * epsilon * ( I ^ Z )-0.5 * v * ( X ^ X ) + 0.5 * v * ( Y ^ Y )\n",
    "    vec = Aer.get_backend('statevector_simulator')\n",
    "    vqe = VQE(ansatz=LM_circuit(),optimizer=adam,quantum_instance=vec,expectation=AerPauliExpectation())\n",
    "    result = vqe.compute_minimum_eigenvalue(H)\n",
    "    LM_sim.append(result.eigenvalue)\n",
    "\n",
    "\n",
    "plt.plot(chi,np.array(exact),label='$E_{exact}$',color='b')\n",
    "plt.plot(chi,np.array(HF),label='$E_{HF}$',color='g')\n",
    "plt.scatter(chi5,LM_sim,label='QC state vec',color='cyan')\n",
    "plt.axvline(1, color = 'k', linestyle='--')\n",
    "plt.ylabel('$E_{g.s}$')\n",
    "plt.xlabel('$\\chi$')\n",
    "plt.title('$\\Omega=2$')\n",
    "plt.legend()"
   ]
  }
 ],
 "metadata": {
  "kernelspec": {
   "display_name": "Python 3 (ipykernel)",
   "language": "python",
   "name": "python3"
  },
  "language_info": {
   "codemirror_mode": {
    "name": "ipython",
    "version": 3
   },
   "file_extension": ".py",
   "mimetype": "text/x-python",
   "name": "python",
   "nbconvert_exporter": "python",
   "pygments_lexer": "ipython3",
   "version": "3.9.10"
  }
 },
 "nbformat": 4,
 "nbformat_minor": 5
}
