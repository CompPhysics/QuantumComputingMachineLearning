{
 "cells": [
  {
   "cell_type": "markdown",
   "id": "d38afef7",
   "metadata": {
    "editable": true
   },
   "source": [
    "<!-- HTML file automatically generated from DocOnce source (https://github.com/doconce/doconce/)\n",
    "doconce format html week11.do.txt --no_mako -->\n",
    "<!-- dom:TITLE: April 17-21, 2023: Quantum Computing, Quantum Machine Learning and Quantum Information Theories -->"
   ]
  },
  {
   "cell_type": "markdown",
   "id": "77e5a6c5",
   "metadata": {
    "editable": true
   },
   "source": [
    "# April 17-21, 2023: Quantum Computing, Quantum Machine Learning and Quantum Information Theories\n",
    "**Morten Hjorth-Jensen**, Department of Physics, University of Oslo and Department of Physics and Astronomy and Facility for Rare Isotope Beams, Michigan State University\n",
    "\n",
    "Date: **Apr 4, 2023**\n",
    "\n",
    "Copyright 1999-2023, Morten Hjorth-Jensen. Released under CC Attribution-NonCommercial 4.0 license"
   ]
  },
  {
   "cell_type": "markdown",
   "id": "f3770385",
   "metadata": {
    "editable": true
   },
   "source": [
    "## Plans for the week of April 17-21\n",
    "\n",
    "1. Reminder on basics of the VQE method\n",
    "\n",
    "2. Simulating efficiently Hamiltonians on quantum computers with the VQE method\n",
    "\n",
    "a. Discussions of various gradient descent approaches\n",
    "\n",
    "2. [VQE review article](https://www.sciencedirect.com/science/article/pii/S0370157322003118?via%3Dihub)\n",
    "\n",
    "3. [Video of lecture TBA](https://youtu.be/)"
   ]
  },
  {
   "cell_type": "markdown",
   "id": "16bc06d2",
   "metadata": {
    "editable": true
   },
   "source": [
    "## VQE and efficient computations of gradients\n",
    "\n",
    "We start with a reminder on the VQE method with applications to the one-qubit system.\n",
    "We discussed this to some detail during the week of March 27-31. Here we revisit the one-qubit system and develop a VQE code for studying this system using gradient descent as a method to optimie the variational ansatz.\n",
    "\n",
    "We start with a simple $2\\times 2$ Hamiltonian matrix expressed in\n",
    "terms of Pauli $X$ and $Z$ matrices, as discussed in the project text.\n",
    "\n",
    "We define a  symmetric matrix  $H\\in {\\mathbb{R}}^{2\\times 2}$"
   ]
  },
  {
   "cell_type": "markdown",
   "id": "617465e0",
   "metadata": {
    "editable": true
   },
   "source": [
    "$$\n",
    "H = \\begin{bmatrix} H_{11} & H_{12} \\\\ H_{21} & H_{22}\n",
    "\\end{bmatrix},\n",
    "$$"
   ]
  },
  {
   "cell_type": "markdown",
   "id": "162e3838",
   "metadata": {
    "editable": true
   },
   "source": [
    "We  let $H = H_0 + H_I$, where"
   ]
  },
  {
   "cell_type": "markdown",
   "id": "917a46b5",
   "metadata": {
    "editable": true
   },
   "source": [
    "$$\n",
    "H_0= \\begin{bmatrix} E_1 & 0 \\\\ 0 & E_2\\end{bmatrix},\n",
    "$$"
   ]
  },
  {
   "cell_type": "markdown",
   "id": "59cf64c4",
   "metadata": {
    "editable": true
   },
   "source": [
    "is a diagonal matrix. Similarly,"
   ]
  },
  {
   "cell_type": "markdown",
   "id": "29e6d837",
   "metadata": {
    "editable": true
   },
   "source": [
    "$$\n",
    "H_I= \\begin{bmatrix} V_{11} & V_{12} \\\\ V_{21} & V_{22}\\end{bmatrix},\n",
    "$$"
   ]
  },
  {
   "cell_type": "markdown",
   "id": "f370b66a",
   "metadata": {
    "editable": true
   },
   "source": [
    "where $V_{ij}$ represent various interaction matrix elements.\n",
    "We can view $H_0$ as the non-interacting solution"
   ]
  },
  {
   "cell_type": "markdown",
   "id": "329435f5",
   "metadata": {
    "editable": true
   },
   "source": [
    "<!-- Equation labels as ordinary links -->\n",
    "<div id=\"_auto1\"></div>\n",
    "\n",
    "$$\n",
    "\\begin{equation}\n",
    "       H_0\\vert 0 \\rangle =E_1\\vert 0 \\rangle,\n",
    "\\label{_auto1} \\tag{1}\n",
    "\\end{equation}\n",
    "$$"
   ]
  },
  {
   "cell_type": "markdown",
   "id": "78f9f290",
   "metadata": {
    "editable": true
   },
   "source": [
    "and"
   ]
  },
  {
   "cell_type": "markdown",
   "id": "d3634ad2",
   "metadata": {
    "editable": true
   },
   "source": [
    "<!-- Equation labels as ordinary links -->\n",
    "<div id=\"_auto2\"></div>\n",
    "\n",
    "$$\n",
    "\\begin{equation}\n",
    "       H_0\\vert 1\\rangle =E_2\\vert 1\\rangle,\n",
    "\\label{_auto2} \\tag{2}\n",
    "\\end{equation}\n",
    "$$"
   ]
  },
  {
   "cell_type": "markdown",
   "id": "17adc95a",
   "metadata": {
    "editable": true
   },
   "source": [
    "where we have defined the orthogonal computational one-qubit basis states $\\vert 0\\rangle$ and $\\vert 1\\rangle$.\n",
    "\n",
    "We rewrite $H$ (and $H_0$ and $H_I$)  via Pauli matrices"
   ]
  },
  {
   "cell_type": "markdown",
   "id": "eaa3cf84",
   "metadata": {
    "editable": true
   },
   "source": [
    "$$\n",
    "H_0 = \\mathcal{E} I + \\Omega \\sigma_z, \\quad \\mathcal{E} = \\frac{E_1\n",
    "  + E_2}{2}, \\; \\Omega = \\frac{E_1-E_2}{2},\n",
    "$$"
   ]
  },
  {
   "cell_type": "markdown",
   "id": "1dc67716",
   "metadata": {
    "editable": true
   },
   "source": [
    "and"
   ]
  },
  {
   "cell_type": "markdown",
   "id": "8a4bbdbc",
   "metadata": {
    "editable": true
   },
   "source": [
    "$$\n",
    "H_I = c \\boldsymbol{I} +\\omega_z\\sigma_z + \\omega_x\\sigma_x,\n",
    "$$"
   ]
  },
  {
   "cell_type": "markdown",
   "id": "4821a8ce",
   "metadata": {
    "editable": true
   },
   "source": [
    "with $c = (V_{11}+V_{22})/2$, $\\omega_z = (V_{11}-V_{22})/2$ and $\\omega_x = V_{12}=V_{21}$.\n",
    "We let our Hamiltonian depend linearly on a strength parameter $\\lambda$"
   ]
  },
  {
   "cell_type": "markdown",
   "id": "deed47b5",
   "metadata": {
    "editable": true
   },
   "source": [
    "$$\n",
    "H=H_0+\\lambda H_\\mathrm{I},\n",
    "$$"
   ]
  },
  {
   "cell_type": "markdown",
   "id": "f530b86b",
   "metadata": {
    "editable": true
   },
   "source": [
    "with $\\lambda \\in [0,1]$, where the limits $\\lambda=0$ and $\\lambda=1$\n",
    "represent the non-interacting (or unperturbed) and fully interacting\n",
    "system, respectively.  The model is an eigenvalue problem with only\n",
    "two available states.\n",
    "\n",
    "Here we set the parameters $E_1=0$,\n",
    "$E_2=4$, $V_{11}=-V_{22}=3$ and $V_{12}=V_{21}=0.2$.\n",
    "\n",
    "The non-interacting solutions represent our computational basis.\n",
    "Pertinent to our choice of parameters, is that at $\\lambda\\geq 2/3$,\n",
    "the lowest eigenstate is dominated by $\\vert 1\\rangle$ while the upper\n",
    "is $\\vert 0 \\rangle$. At $\\lambda=1$ the $\\vert 0 \\rangle$ mixing of\n",
    "the lowest eigenvalue is $1\\%$ while for $\\lambda\\leq 2/3$ we have a\n",
    "$\\vert 0 \\rangle$ component of more than $90\\%$.  The character of the\n",
    "eigenvectors has therefore been interchanged when passing $z=2/3$. The\n",
    "value of the parameter $V_{12}$ represents the strength of the coupling\n",
    "between the two states."
   ]
  },
  {
   "cell_type": "markdown",
   "id": "5a71bbc5",
   "metadata": {
    "editable": true
   },
   "source": [
    "## Setting up the matrix"
   ]
  },
  {
   "cell_type": "code",
   "execution_count": 1,
   "id": "94c34e0c",
   "metadata": {
    "collapsed": false,
    "editable": true
   },
   "outputs": [],
   "source": [
    "%matplotlib inline\n",
    "\n",
    "from  matplotlib import pyplot as plt\n",
    "import numpy as np\n",
    "dim = 2\n",
    "Hamiltonian = np.zeros((dim,dim))\n",
    "e0 = 0.0\n",
    "e1 = 4.0\n",
    "Xnondiag = 0.20\n",
    "Xdiag = 3.0\n",
    "Eigenvalue = np.zeros(dim)\n",
    "# setting up the Hamiltonian\n",
    "Hamiltonian[0,0] = Xdiag+e0\n",
    "Hamiltonian[0,1] = Xnondiag\n",
    "Hamiltonian[1,0] = Hamiltonian[0,1]\n",
    "Hamiltonian[1,1] = e1-Xdiag\n",
    "# diagonalize and obtain eigenvalues, not necessarily sorted\n",
    "EigValues, EigVectors = np.linalg.eig(Hamiltonian)\n",
    "permute = EigValues.argsort()\n",
    "EigValues = EigValues[permute]\n",
    "# print only the lowest eigenvalue\n",
    "print(EigValues[0])"
   ]
  },
  {
   "cell_type": "markdown",
   "id": "27f71502",
   "metadata": {
    "editable": true
   },
   "source": [
    "Now rewrite it in terms of the identity matrix and the Pauli matrix X and Z"
   ]
  },
  {
   "cell_type": "code",
   "execution_count": 2,
   "id": "3afd4750",
   "metadata": {
    "collapsed": false,
    "editable": true
   },
   "outputs": [],
   "source": [
    "# Now rewrite it in terms of the identity matrix and the Pauli matrix X and Z\n",
    "X = np.array([[0,1],[1,0]])\n",
    "Y = np.array([[0,-1j],[1j,0]])\n",
    "Z = np.array([[1,0],[0,-1]])\n",
    "# identity matrix\n",
    "I = np.array([[1,0],[0,1]])\n",
    "\n",
    "epsilon = (e0+e1)*0.5; omega = (e0-e1)*0.5\n",
    "c = 0.0; omega_z=Xdiag; omega_x = Xnondiag\n",
    "Hamiltonian = (epsilon+c)*I+(omega_z+omega)*Z+omega_x*X\n",
    "EigValues, EigVectors = np.linalg.eig(Hamiltonian)\n",
    "permute = EigValues.argsort()\n",
    "EigValues = EigValues[permute]\n",
    "# print only the lowest eigenvalue\n",
    "print(EigValues[0])"
   ]
  },
  {
   "cell_type": "markdown",
   "id": "ee365e5e",
   "metadata": {
    "editable": true
   },
   "source": [
    "## Implementing the VQE\n",
    "\n",
    "For a one-qubit system we can reach every point on the Bloch sphere\n",
    "(as discussed earlier) with a rotation about the $x$-axis and the\n",
    "$y$-axis.\n",
    "\n",
    "We can express this mathematically through the following operations (see whiteboard for the drawing), giving us a new state $\\vert \\psi\\rangle$"
   ]
  },
  {
   "cell_type": "markdown",
   "id": "9ab3bd3f",
   "metadata": {
    "editable": true
   },
   "source": [
    "$$\n",
    "\\vert\\psi\\rangle = R_y(\\phi)R_x(\\theta)\\vert 0 \\rangle.\n",
    "$$"
   ]
  },
  {
   "cell_type": "markdown",
   "id": "ecbd9bb8",
   "metadata": {
    "editable": true
   },
   "source": [
    "We can produce multiple ansatzes for the new state in terms of the\n",
    "angles $\\theta$ and $\\phi$.  With these ansatzes we can in turn\n",
    "calculate the expectation value of the above Hamiltonian, now\n",
    "rewritten in terms of various Pauli matrices (and thereby gates), that is compute"
   ]
  },
  {
   "cell_type": "markdown",
   "id": "6612f22e",
   "metadata": {
    "editable": true
   },
   "source": [
    "$$\n",
    "\\langle \\psi \\vert (c+\\mathcal{E})\\boldsymbol{I} + (\\Omega+\\omega_z)\\boldsymbol{\\sigma}_z + \\omega_x\\boldsymbol{\\sigma}_x\\vert \\psi \\rangle.\n",
    "$$"
   ]
  },
  {
   "cell_type": "markdown",
   "id": "b94bfbb3",
   "metadata": {
    "editable": true
   },
   "source": [
    "We can now set up a series of ansatzes for $\\vert \\psi \\rangle$ as\n",
    "function of the angles $\\theta$ and $\\phi$ and find thereafter the\n",
    "variational minimum using for example a gradient descent method.\n",
    "\n",
    "To do so, we need to remind ourselves about the mathematical expressions for\n",
    "the rotational matrices/operators."
   ]
  },
  {
   "cell_type": "markdown",
   "id": "99012e90",
   "metadata": {
    "editable": true
   },
   "source": [
    "$$\n",
    "R_x(\\theta)=\\cos{\\frac{\\theta}{2}}\\boldsymbol{I}-\\imath \\sin{\\frac{\\theta}{2}}\\boldsymbol{\\sigma}_x,\n",
    "$$"
   ]
  },
  {
   "cell_type": "markdown",
   "id": "d69053bf",
   "metadata": {
    "editable": true
   },
   "source": [
    "and"
   ]
  },
  {
   "cell_type": "markdown",
   "id": "0cc3cfb4",
   "metadata": {
    "editable": true
   },
   "source": [
    "$$\n",
    "R_y(\\phi)=\\cos{\\frac{\\phi}{2}}\\boldsymbol{I}-\\imath \\sin{\\frac{\\phi}{2}}\\boldsymbol{\\sigma}_y.\n",
    "$$"
   ]
  },
  {
   "cell_type": "code",
   "execution_count": 3,
   "id": "03e19364",
   "metadata": {
    "collapsed": false,
    "editable": true
   },
   "outputs": [],
   "source": [
    "# define the rotation matrices\n",
    "# Define angles theta and phi\n",
    "theta = 0.5*np.pi; phi = 0.2*np.pi\n",
    "Rx = np.cos(theta*0.5)*I-1j*np.sin(theta*0.5)*X\n",
    "Ry = np.cos(phi*0.5)*I-1j*np.sin(phi*0.5)*Y\n",
    "#define basis states\n",
    "basis0 = np.array([1,0])\n",
    "basis1 = np.array([0,1])\n",
    "\n",
    "NewBasis = Ry @ Rx @ basis0\n",
    "print(NewBasis)\n",
    "# Compute the expectation value\n",
    "#Note hermitian conjugation\n",
    "Energy = NewBasis.conj().T @ Hamiltonian @ NewBasis\n",
    "print(Energy)"
   ]
  },
  {
   "cell_type": "markdown",
   "id": "3d436331",
   "metadata": {
    "editable": true
   },
   "source": [
    "Not an impressive results. We set up now a loop over many angles $\\theta$ and $\\phi$ and compute the energies"
   ]
  },
  {
   "cell_type": "code",
   "execution_count": 4,
   "id": "21bd1370",
   "metadata": {
    "collapsed": false,
    "editable": true
   },
   "outputs": [],
   "source": [
    "# define a number of angles\n",
    "n = 20\n",
    "angle = np.arange(0,180,10)\n",
    "n = np.size(angle)\n",
    "ExpectationValues = np.zeros((n,n))\n",
    "for i in range (n):\n",
    "    theta = np.pi*angle[i]/180.0\n",
    "    Rx = np.cos(theta*0.5)*I-1j*np.sin(theta*0.5)*X\n",
    "    for j in range (n):\n",
    "        phi = np.pi*angle[j]/180.0\n",
    "        Ry = np.cos(phi*0.5)*I-1j*np.sin(phi*0.5)*Y\n",
    "        NewBasis = Ry @ Rx @ basis0\n",
    "        Energy = NewBasis.conj().T @ Hamiltonian @ NewBasis\n",
    "        Edifference=abs(np.real(EigValues[0]-Energy))\n",
    "        ExpectationValues[i,j]=Edifference\n",
    "\n",
    "print(np.min(ExpectationValues))"
   ]
  },
  {
   "cell_type": "markdown",
   "id": "a4020f1a",
   "metadata": {
    "editable": true
   },
   "source": [
    "Clearly, this is not the very best way of proceeding. Rather, here we\n",
    "could try to find the optimal values for the parameters $\\theta$ and $\\phi$ through computation of their respective  gradients and thereby find the minimum as function of\n",
    "the optimal angles $\\hat{\\theta}$ and $\\hat{\\phi}$. \n",
    "\n",
    "Let us now implement a classical gradient descent to the computation of the energies. \n",
    "We will follow closely  <https://journals.aps.org/pra/abstract/10.1103/PhysRevA.99.032331> in order to calculate gradients of the Hamiltonian."
   ]
  },
  {
   "cell_type": "markdown",
   "id": "f7405bcc",
   "metadata": {
    "editable": true
   },
   "source": [
    "## Gradient descent and calculations of gradients\n",
    "\n",
    "In order to optimize the VQE ansatz, we need to compute derivatives\n",
    "with respect to the variational parameters.  Here we develop first a\n",
    "simpler approach tailored to the one-qubit case. For this particular\n",
    "case, we have defined an ansatz in terms of the Pauli rotation\n",
    "matrices. These define an arbitrary one-qubit state on the Bloch\n",
    "sphere through the expression"
   ]
  },
  {
   "cell_type": "markdown",
   "id": "85a346f5",
   "metadata": {
    "editable": true
   },
   "source": [
    "$$\n",
    "\\vert\\psi\\rangle = \\vert \\psi(\\theta,\\phi)\\rangle =R_y(\\phi)R_x(\\theta)\\vert 0 \\rangle.\n",
    "$$"
   ]
  },
  {
   "cell_type": "markdown",
   "id": "392ccd4a",
   "metadata": {
    "editable": true
   },
   "source": [
    "Each of these rotation matrices can be written in a more general form as"
   ]
  },
  {
   "cell_type": "markdown",
   "id": "d18a115f",
   "metadata": {
    "editable": true
   },
   "source": [
    "$$\n",
    "R_{i}(\\gamma)=\\exp{-(\\imath\\frac{\\gamma}{2}\\sigma_i)}=\\cos{(\\frac{\\gamma}{2})}\\boldsymbol{I}-\\imath\\sin{(\\frac{\\gamma}{2})}\\boldsymbol{\\sigma}_i,\n",
    "$$"
   ]
  },
  {
   "cell_type": "markdown",
   "id": "45fee125",
   "metadata": {
    "editable": true
   },
   "source": [
    "where $\\sigma_i$ is one of the Pauli matrices $\\sigma_{x,y,z}$. \n",
    "\n",
    "It is easy to see that the derivative with respect to $\\gamma$ is"
   ]
  },
  {
   "cell_type": "markdown",
   "id": "e8901159",
   "metadata": {
    "editable": true
   },
   "source": [
    "$$\n",
    "\\frac{\\partial R_{i}(\\gamma)}{\\partial \\gamma}=-\\frac{\\gamma}{2}\\boldsymbol{\\sigma}_i R_{i}(\\gamma).\n",
    "$$"
   ]
  },
  {
   "cell_type": "markdown",
   "id": "0c28d23f",
   "metadata": {
    "editable": true
   },
   "source": [
    "We can now calculate the derivative of the expectation value of the\n",
    "Hamiltonian in terms of the angles $\\theta$ and $\\phi$. We have two\n",
    "derivatives"
   ]
  },
  {
   "cell_type": "markdown",
   "id": "5e256021",
   "metadata": {
    "editable": true
   },
   "source": [
    "$$\n",
    "\\frac{\\partial}{\\partial \\theta}\\left[\\langle \\psi(\\theta,\\phi) \\vert \\boldsymbol{H}\\vert \\psi(\\theta,\\phi)\\rangle\\right]=\\langle \\psi(\\theta,\\phi) \\vert \\boldsymbol{H}(-\\frac{\\imath}{2}\\boldsymbol{\\sigma}_x\\vert \\psi(\\theta,\\phi)\\rangle+\\hspace{0.1cm}\\mathrm{h.c},\n",
    "$$"
   ]
  },
  {
   "cell_type": "markdown",
   "id": "ccd255d4",
   "metadata": {
    "editable": true
   },
   "source": [
    "and"
   ]
  },
  {
   "cell_type": "markdown",
   "id": "7b4880fd",
   "metadata": {
    "editable": true
   },
   "source": [
    "$$\n",
    "\\frac{\\partial }{\\partial \\phi}\\left[\\langle \\psi(\\theta,\\phi) \\vert \\boldsymbol{H}\\vert \\psi(\\theta,\\phi)\\rangle\\right]=\\langle \\psi(\\theta,\\phi) \\vert \\boldsymbol{H}(-\\frac{\\imath}{2}\\boldsymbol{\\sigma}_y\\vert \\psi(\\theta,\\phi)\\rangle+\\hspace{0.1cm}\\mathrm{h.c}.\n",
    "$$"
   ]
  },
  {
   "cell_type": "markdown",
   "id": "ecec2f14",
   "metadata": {
    "editable": true
   },
   "source": [
    "This means that we have to calculate two additional expectation values\n",
    "in addition to the standard expectation value for the Hamiltonian.  In\n",
    "our first attempt, we will compute these expectation values\n",
    "in a brute force way, perforaming the various matrix-matrix and\n",
    "matrix-vector multiplications. Thereafter we will try to rewrite this in a smarter way."
   ]
  },
  {
   "cell_type": "markdown",
   "id": "68ec99da",
   "metadata": {
    "editable": true
   },
   "source": [
    "### Basics of gradient descent and stochastic gradient descent"
   ]
  },
  {
   "cell_type": "markdown",
   "id": "74badd01",
   "metadata": {
    "editable": true
   },
   "source": [
    "### Computing quantum gradients in a smarter way"
   ]
  },
  {
   "cell_type": "markdown",
   "id": "e8960b4a",
   "metadata": {
    "editable": true
   },
   "source": [
    "<!-- Equation labels as ordinary links -->\n",
    "<div id=\"_auto3\"></div>\n",
    "\n",
    "$$\n",
    "\\begin{equation}\n",
    "\\vc(\\theta) \\coloneqq \\expval{\\hat{B}} = \\bra{0} U^{\\dagger}(\\theta) \\hat{B} U(\\theta) \\ket{0}.\n",
    "\\label{_auto3} \\tag{3}\n",
    "\\end{equation}\n",
    "$$"
   ]
  },
  {
   "cell_type": "markdown",
   "id": "2991b5f6",
   "metadata": {
    "editable": true
   },
   "source": [
    "<!-- Equation labels as ordinary links -->\n",
    "<div id=\"_auto4\"></div>\n",
    "\n",
    "$$\n",
    "\\begin{equation}\n",
    "    \\quad \\qquad \\nabla \\func(x) \\approx (\\func(x +\\Delta x/2) -\\func(x -\\Delta x/2) )/\\Delta x,\n",
    "\\label{_auto4} \\tag{4}\n",
    "\\end{equation}\n",
    "$$"
   ]
  },
  {
   "cell_type": "markdown",
   "id": "15751fca",
   "metadata": {
    "editable": true
   },
   "source": [
    "<!-- Equation labels as ordinary links -->\n",
    "<div id=\"Eq:der_of_exp\"></div>\n",
    "\n",
    "$$\n",
    "\\begin{equation}\n",
    "  \\label{Eq:der_of_exp} \\tag{5}\n",
    "  \\partial_\\mu \\vc = \\partial_{\\mu} \\bra{\\psi} \\G^{\\dagger} \\hat{Q} \\G\\ket{\\psi}\n",
    "  = \\bra{\\psi} \\G^{\\dagger}  \\hat{Q}  (\\partial_{\\mu}\\G) \\ket{\\psi} +\\hc,\n",
    "\\end{equation}\n",
    "$$"
   ]
  },
  {
   "cell_type": "markdown",
   "id": "8a983a11",
   "metadata": {
    "editable": true
   },
   "source": [
    "<!-- Equation labels as ordinary links -->\n",
    "<div id=\"_auto5\"></div>\n",
    "\n",
    "$$\n",
    "\\begin{equation}\n",
    "  \\bra{\\psi}B^{\\dagger} \\hat{Q} C  \\ket{\\psi} +\\hc\\notag\n",
    "\\label{_auto5} \\tag{6}\n",
    "\\end{equation}\n",
    "$$"
   ]
  },
  {
   "cell_type": "markdown",
   "id": "f3600238",
   "metadata": {
    "editable": true
   },
   "source": [
    "<!-- Equation labels as ordinary links -->\n",
    "<div id=\"_auto6\"></div>\n",
    "\n",
    "$$\n",
    "\\begin{equation} \n",
    "  \\begin{split}\n",
    "    = \\frac{1}{2}\\big(\n",
    "    \\bra{\\psi} (B + C)^{\\dagger} \\hat{Q} (B + C) \\ket{\\psi}\n",
    "\\label{_auto6} \\tag{7}\n",
    "\\end{equation}\n",
    "$$"
   ]
  },
  {
   "cell_type": "markdown",
   "id": "aed02e6d",
   "metadata": {
    "editable": true
   },
   "source": [
    "<!-- Equation labels as ordinary links -->\n",
    "<div id=\"_auto7\"></div>\n",
    "\n",
    "$$\n",
    "\\begin{equation} \n",
    "    -\\bra{\\psi}(B - C)^{\\dagger}  \\hat{Q} (B - C) \\ket{\\psi}\n",
    "  \\big).\n",
    "\\end{split}\n",
    "\\label{_auto7} \\tag{8}\n",
    "\\end{equation}\n",
    "$$"
   ]
  },
  {
   "cell_type": "markdown",
   "id": "33036c0e",
   "metadata": {
    "editable": true
   },
   "source": [
    "<!-- Equation labels as ordinary links -->\n",
    "<div id=\"_auto8\"></div>\n",
    "\n",
    "$$\n",
    "\\begin{equation}\n",
    " \\partial_{\\mu} \\G = -i G \\e^{-i \\mu G}.\n",
    "\\label{_auto8} \\tag{9}\n",
    "\\end{equation}\n",
    "$$"
   ]
  },
  {
   "cell_type": "markdown",
   "id": "4b4a92e1",
   "metadata": {
    "editable": true
   },
   "source": [
    "<!-- Equation labels as ordinary links -->\n",
    "<div id=\"_auto9\"></div>\n",
    "\n",
    "$$\n",
    "\\begin{equation}\n",
    "  \\partial_{\\mu} \\vc\n",
    "%  = \\bra{\\psi} \\G^{\\dagger} \\, \\hat{Q} \\, (-iG) \\G \\ket{\\psi} +\\hc ,\n",
    "\\label{_auto9} \\tag{10}\n",
    "\\end{equation}\n",
    "$$"
   ]
  },
  {
   "cell_type": "markdown",
   "id": "8c0787e6",
   "metadata": {
    "editable": true
   },
   "source": [
    "<!-- Equation labels as ordinary links -->\n",
    "<div id=\"_auto10\"></div>\n",
    "\n",
    "$$\n",
    "\\begin{equation} \n",
    "%  = r \\bra{\\psi'}  \\hat{Q} \\, (-ir^{-1}G) \\ket{\\psi'} +\\hc\n",
    "   = \\bra{\\psi'}  \\hat{Q} \\, (-iG) \\ket{\\psi'} +\\hc ,\n",
    "\\label{_auto10} \\tag{11}\n",
    "\\end{equation}\n",
    "$$"
   ]
  },
  {
   "cell_type": "markdown",
   "id": "88258676",
   "metadata": {
    "editable": true
   },
   "source": [
    "<!-- Equation labels as ordinary links -->\n",
    "<div id=\"_auto11\"></div>\n",
    "\n",
    "$$\n",
    "\\begin{equation}\n",
    "  \\begin{split}\n",
    "    \\partial_{\\mu} \\vc = \\frac{r}{2}\\big(\n",
    "    &\\bra{\\psi'} (\\I -ir^{-1}G)^{\\dagger} \\hat{Q} (\\I -ir^{-1}G) \\ket{\\psi'}\\\\\n",
    "    -&\\bra{\\psi'}(\\I +ir^{-1}G)^{\\dagger}  \\hat{Q} (\\I +ir^{-1}G) \\ket{\\psi'}\n",
    "    \\big).\n",
    "  \\end{split}\n",
    "\\label{_auto11} \\tag{12}\n",
    "\\end{equation}\n",
    "$$"
   ]
  },
  {
   "cell_type": "markdown",
   "id": "3e24c5a6",
   "metadata": {
    "editable": true
   },
   "source": [
    "<!-- Equation labels as ordinary links -->\n",
    "<div id=\"_auto12\"></div>\n",
    "\n",
    "$$\n",
    "\\begin{equation}\n",
    "  \\G\\left(\\frac{\\pi}{4r}\\right) = \\frac{1}{\\sqrt{2}}(\\I - i r^{-1} G).\n",
    "\\label{_auto12} \\tag{13}\n",
    "\\end{equation}\n",
    "$$"
   ]
  },
  {
   "cell_type": "markdown",
   "id": "8881a7f4",
   "metadata": {
    "editable": true
   },
   "source": [
    "<!-- Equation labels as ordinary links -->\n",
    "<div id=\"_auto13\"></div>\n",
    "\n",
    "$$\n",
    "\\begin{equation}\n",
    "\\partial_{\\mu} \\vc\n",
    "=\n",
    "r \\big(\\bra{\\psi} \\G^\\dagger(\\mu +s) \\hat{Q} \\G(\\mu +s) \\ket{\\psi}\n",
    "\\label{_auto13} \\tag{14}\n",
    "\\end{equation}\n",
    "$$"
   ]
  },
  {
   "cell_type": "markdown",
   "id": "0497a448",
   "metadata": {
    "editable": true
   },
   "source": [
    "<!-- Equation labels as ordinary links -->\n",
    "<div id=\"_auto14\"></div>\n",
    "\n",
    "$$\n",
    "\\begin{equation} \n",
    "\\notag\n",
    " \\quad -\\bra{\\psi} \\G^{\\dagger}(\\mu -s) \\hat{Q}  \\G(\\mu -s) \\ket{\\psi}\\big)\n",
    "\\label{_auto14} \\tag{15}\n",
    "\\end{equation}\n",
    "$$"
   ]
  },
  {
   "cell_type": "markdown",
   "id": "6b0b523e",
   "metadata": {
    "editable": true
   },
   "source": [
    "<!-- Equation labels as ordinary links -->\n",
    "<div id=\"eq:parameter_shift_rule2\"></div>\n",
    "\n",
    "$$\n",
    "\\begin{equation} \n",
    "\\label{eq:parameter_shift_rule2} \\tag{16}\n",
    "= r \\left(f(\\mu+s) -f(\\mu-s)\\right).\n",
    "\\end{equation}\n",
    "$$"
   ]
  },
  {
   "cell_type": "markdown",
   "id": "fa7a47df",
   "metadata": {
    "editable": true
   },
   "source": [
    "$$\n",
    "\\begin{align*}\n",
    "  \\text{ExpW}(\\mu, \\delta) &= \\exp \\left(- i \\mu \\left( \\cos (\\delta) \\sigma_x + \\sin(\\delta)\\sigma_y\\right) \\right),\\\\\n",
    "  \\text{ExpZ}(\\mu) &= \\exp \\left(- i \\mu \\sigma_z \\right),\\\\\n",
    "  \\text{Exp11}(\\mu) &= \\exp \\left(- i \\mu \\ketbra{11}{11}  \\right) .\n",
    "\\end{align*}\n",
    "$$"
   ]
  },
  {
   "cell_type": "markdown",
   "id": "47e15292",
   "metadata": {
    "editable": true
   },
   "source": [
    "<!-- Equation labels as ordinary links -->\n",
    "<div id=\"_auto15\"></div>\n",
    "\n",
    "$$\n",
    "\\begin{equation}\n",
    "  \\partial_{\\mu}\\G = \\frac{\\alpha}{2} ((A_1 + A_1^{\\dagger})  + i(A_2 + A_2^{\\dagger}))\n",
    "\\label{_auto15} \\tag{17}\n",
    "\\end{equation}\n",
    "$$"
   ]
  },
  {
   "cell_type": "markdown",
   "id": "6d3f7387",
   "metadata": {
    "editable": true
   },
   "source": [
    "with real $\\alpha$.\\footnote{\n",
    "  If $\\alpha$ contains a renormalisation so that $|\\G| \\leq 1$, and\n",
    "  $\\G = \\G_{\\mathrm{re}} + i \\G_{\\mathrm{im}}$ we can set\n",
    "  $A_1 = \\G_{\\mathrm{re}} + i \\sqrt{\\I - \\G_{\\mathrm{re}}^2}$ and\n",
    "  $A_2 = \\G_{\\mathrm{im}} + i \\sqrt{\\I - \\G_{\\mathrm{im}}^2}$.}\n",
    "$A_1$ and $A_2$ in turn can be implemented as quantum circuits."
   ]
  },
  {
   "cell_type": "markdown",
   "id": "248b6bd1",
   "metadata": {
    "editable": true
   },
   "source": [
    "<!-- Equation labels as ordinary links -->\n",
    "<div id=\"_auto16\"></div>\n",
    "\n",
    "$$\n",
    "\\begin{equation}\n",
    "  \\partial_{\\mu}\\G = \\sum_{k=1}^K \\alpha_k A_k,\n",
    "\\label{_auto16} \\tag{18}\n",
    "\\end{equation}\n",
    "$$"
   ]
  },
  {
   "cell_type": "markdown",
   "id": "2d5a1f65",
   "metadata": {
    "editable": true
   },
   "source": [
    "for real $\\alpha_k$ and unitary $A_k$. The derivative becomes"
   ]
  },
  {
   "cell_type": "markdown",
   "id": "cbe616a0",
   "metadata": {
    "editable": true
   },
   "source": [
    "<!-- Equation labels as ordinary links -->\n",
    "<div id=\"_auto17\"></div>\n",
    "\n",
    "$$\n",
    "\\begin{equation}\n",
    "  \\partial_{\\mu} \\vc  = \\sum_{k=1}^K \\alpha_k  \\left( \\bra{\\psi}\\G^{\\dagger} \\hat{Q} A_k  \\ket{\\psi} +\\hc \\right).\n",
    "\\label{_auto17} \\tag{19}\n",
    "\\end{equation}\n",
    "$$"
   ]
  },
  {
   "cell_type": "markdown",
   "id": "3c5cf81c",
   "metadata": {
    "editable": true
   },
   "source": [
    "## A smarter way of doing this\n",
    "\n",
    "The above approach means that we are setting up several matrix-matrix\n",
    "amd matrix-vector multiplications. Although straight forward it is not\n",
    "the most efficient way of doing this, in particular in case the\n",
    "matrices become large (and sparse). But there are some more important\n",
    "issues.\n",
    "\n",
    "In a physical realization of these systems we cannot just multiply the\n",
    "state with the Hamiltonian. When performing a measurement we can only\n",
    "measure in one particular direction. For the computational basis\n",
    "states which we have, $\\vert 0\\rangle$ and $\\vert 1\\rangle$, we have\n",
    "to measure along the bases of the Pauli matrices and reconstruct the\n",
    "eigenvalues from these measurements.\n",
    "\n",
    "From our earlier discussions we know that the Pauli $Z$ matrix has the above basis states as eigen states through"
   ]
  },
  {
   "cell_type": "markdown",
   "id": "72c1f7bb",
   "metadata": {
    "editable": true
   },
   "source": [
    "$$\n",
    "\\boldsymbol{\\sigma}_z\\vert 0 \\rangle = \\boldsymbol{Z}\\vert 0 \\rangle=+1\\vert 0 \\rangle,\n",
    "$$"
   ]
  },
  {
   "cell_type": "markdown",
   "id": "9a055a8b",
   "metadata": {
    "editable": true
   },
   "source": [
    "and"
   ]
  },
  {
   "cell_type": "markdown",
   "id": "4550ab95",
   "metadata": {
    "editable": true
   },
   "source": [
    "$$\n",
    "\\boldsymbol{\\sigma}_z\\vert 1 \\rangle = \\boldsymbol{Z}\\vert 1 \\rangle=-1\\vert 1 \\rangle,\n",
    "$$"
   ]
  },
  {
   "cell_type": "markdown",
   "id": "d1e5a026",
   "metadata": {
    "editable": true
   },
   "source": [
    "with eigenvalue $-1$.\n",
    "\n",
    "For the Pauli $X$ matrix on the other hand we have"
   ]
  },
  {
   "cell_type": "markdown",
   "id": "43448e6d",
   "metadata": {
    "editable": true
   },
   "source": [
    "$$\n",
    "\\boldsymbol{\\sigma}_x\\vert 0 \\rangle = \\boldsymbol{X}\\vert 0 \\rangle=+1\\vert 1 \\rangle,\n",
    "$$"
   ]
  },
  {
   "cell_type": "markdown",
   "id": "de95e8b0",
   "metadata": {
    "editable": true
   },
   "source": [
    "and"
   ]
  },
  {
   "cell_type": "markdown",
   "id": "ef01c902",
   "metadata": {
    "editable": true
   },
   "source": [
    "$$\n",
    "\\boldsymbol{\\sigma}_x\\vert 1 \\rangle = \\boldsymbol{X}\\vert 1 \\rangle=-1\\vert 0 \\rangle,\n",
    "$$"
   ]
  },
  {
   "cell_type": "markdown",
   "id": "8c1d0ceb",
   "metadata": {
    "editable": true
   },
   "source": [
    "with eigenvalues $1$ in both cases. The latter two equations tell us\n",
    "that the computational basis we have chosen, and in which we will\n",
    "prepare our states, is not an eigenbasis of the $\\sigma_x$ matrix.\n",
    "\n",
    "We will thus try to rewrite the Pauli $X$ matrix in terms of a Pauli $Z$ matrix. Fortunately this can be done using the Hadamard matrix twice, that is"
   ]
  },
  {
   "cell_type": "markdown",
   "id": "ab898467",
   "metadata": {
    "editable": true
   },
   "source": [
    "$$\n",
    "\\boldsymbol{X}=\\boldsymbol{\\sigma}_x=\\boldsymbol{H}\\boldsymbol{Z}\\boldsymbol{H}.\n",
    "$$"
   ]
  },
  {
   "cell_type": "markdown",
   "id": "f7a1b8cc",
   "metadata": {
    "editable": true
   },
   "source": [
    "The Pauli $Y$ matrix can be written as"
   ]
  },
  {
   "cell_type": "markdown",
   "id": "447dea78",
   "metadata": {
    "editable": true
   },
   "source": [
    "$$\n",
    "\\boldsymbol{Y}=\\boldsymbol{\\sigma}_y=\\boldsymbol{H}\\boldsymbol{S}^{\\dagger}\\boldsymbol{Z}\\boldsymbol{H}\\boldsymbol{S},\n",
    "$$"
   ]
  },
  {
   "cell_type": "markdown",
   "id": "6d2168ec",
   "metadata": {
    "editable": true
   },
   "source": [
    "where $S$ is the phase matrix"
   ]
  },
  {
   "cell_type": "markdown",
   "id": "86dbc691",
   "metadata": {
    "editable": true
   },
   "source": [
    "$$\n",
    "S = \\begin{bmatrix} 1 & 0 \\\\ 0 & \\imath \\end{bmatrix}.\n",
    "$$"
   ]
  },
  {
   "cell_type": "markdown",
   "id": "648b8163",
   "metadata": {
    "editable": true
   },
   "source": [
    "From here and on we will denote the Pauli matrices by $X$, $Y$ and $Z$ and we can write the expectation value of the Hamiltonian as"
   ]
  },
  {
   "cell_type": "markdown",
   "id": "c20a39a8",
   "metadata": {
    "editable": true
   },
   "source": [
    "$$\n",
    "\\langle \\psi \\vert (c+\\mathcal{E})\\boldsymbol{I} + (\\Omega+\\omega_z)\\boldsymbol{Z} + \\omega_x\\boldsymbol{H}\\boldsymbol{Z}\\boldsymbol{H}\\vert \\psi \\rangle,\n",
    "$$"
   ]
  },
  {
   "cell_type": "markdown",
   "id": "f2ab73fd",
   "metadata": {
    "editable": true
   },
   "source": [
    "which we can rewrite as"
   ]
  },
  {
   "cell_type": "markdown",
   "id": "47b10d08",
   "metadata": {
    "editable": true
   },
   "source": [
    "$$\n",
    "(c+\\mathcal{E})\\langle \\psi \\vert \\boldsymbol{I}\\vert \\psi \\rangle+(\\Omega+\\omega_z)\\langle \\psi \\vert \\boldsymbol{Z}\\vert \\psi \\rangle+\\omega_x\\langle \\psi \\boldsymbol{H}\\vert \\boldsymbol{Z}\\vert\\boldsymbol{H}\\psi \\rangle.\n",
    "$$"
   ]
  },
  {
   "cell_type": "markdown",
   "id": "f0d27d7a",
   "metadata": {
    "editable": true
   },
   "source": [
    "The first and second term are to easy to perform a measurement on since we we just need to compute\n",
    "$\\langle \\psi\\vert \\boldsymbol{I}\\vert \\psi\\rangle$ and $\\langle \\psi\\vert \\boldsymbol{Z}\\vert \\psi\\rangle$.\n",
    "For the final term we need just to add the action of the Hadamard matrix and we are done.\n",
    "\n",
    "**To do:** Set up codes for this using gradient descent and perform a series of measumerents"
   ]
  },
  {
   "cell_type": "markdown",
   "id": "f2cb9cf6",
   "metadata": {
    "editable": true
   },
   "source": [
    "## Two-qubit system and the VQE\n",
    "\n",
    "We extend now the system  to a two-qubit system with the following computational\n",
    "basis states and Hamiltonian matrix written out in terms of Pauli spin\n",
    "matrices.\n",
    "\n",
    "This system can be thought of as composed of two subsystems\n",
    "$A$ and $B$. Each subsystem has computational basis states"
   ]
  },
  {
   "cell_type": "markdown",
   "id": "e5f61a23",
   "metadata": {
    "editable": true
   },
   "source": [
    "$$\n",
    "\\vert 0\\rangle_{\\mathrm{A,B}}=\\begin{bmatrix} 1 & 0\\end{bmatrix}^T \\hspace{1cm} \\vert 1\\rangle_{\\mathrm{A,B}}=\\begin{bmatrix} 0 & 1\\end{bmatrix}^T.\n",
    "$$"
   ]
  },
  {
   "cell_type": "markdown",
   "id": "7b87871a",
   "metadata": {
    "editable": true
   },
   "source": [
    "The subsystems could represent single particles or composite many-particle systems of a given symmetry.\n",
    "This leads to the many-body computational basis states"
   ]
  },
  {
   "cell_type": "markdown",
   "id": "6158a194",
   "metadata": {
    "editable": true
   },
   "source": [
    "$$\n",
    "\\vert 00\\rangle = \\vert 0\\rangle_{\\mathrm{A}}\\otimes \\vert 0\\rangle_{\\mathrm{B}}=\\begin{bmatrix} 1 & 0 & 0 &0\\end{bmatrix}^T,\n",
    "$$"
   ]
  },
  {
   "cell_type": "markdown",
   "id": "05b602db",
   "metadata": {
    "editable": true
   },
   "source": [
    "and"
   ]
  },
  {
   "cell_type": "markdown",
   "id": "9b7b18f6",
   "metadata": {
    "editable": true
   },
   "source": [
    "$$\n",
    "\\vert 01\\rangle = \\vert 0\\rangle_{\\mathrm{A}}\\otimes \\vert 1\\rangle_{\\mathrm{B}}=\\begin{bmatrix} 0 & 1 & 0 &0\\end{bmatrix}^T,\n",
    "$$"
   ]
  },
  {
   "cell_type": "markdown",
   "id": "e28341df",
   "metadata": {
    "editable": true
   },
   "source": [
    "and"
   ]
  },
  {
   "cell_type": "markdown",
   "id": "d555d25a",
   "metadata": {
    "editable": true
   },
   "source": [
    "$$\n",
    "\\vert 10\\rangle = \\vert 1\\rangle_{\\mathrm{A}}\\otimes \\vert 0\\rangle_{\\mathrm{B}}=\\begin{bmatrix} 0 & 0 & 1 &0\\end{bmatrix}^T,\n",
    "$$"
   ]
  },
  {
   "cell_type": "markdown",
   "id": "ee8ab0c3",
   "metadata": {
    "editable": true
   },
   "source": [
    "and finally"
   ]
  },
  {
   "cell_type": "markdown",
   "id": "c8849a4d",
   "metadata": {
    "editable": true
   },
   "source": [
    "$$\n",
    "\\vert 11\\rangle = \\vert 1\\rangle_{\\mathrm{A}}\\otimes \\vert 1\\rangle_{\\mathrm{B}}=\\begin{bmatrix} 0 & 0 & 0 &1\\end{bmatrix}^T.\n",
    "$$"
   ]
  },
  {
   "cell_type": "markdown",
   "id": "e091326b",
   "metadata": {
    "editable": true
   },
   "source": [
    "These computational basis states define also the eigenstates of the non-interacting  Hamiltonian"
   ]
  },
  {
   "cell_type": "markdown",
   "id": "45fc3a2f",
   "metadata": {
    "editable": true
   },
   "source": [
    "$$\n",
    "H_0\\vert 00 \\rangle = \\epsilon_{00}\\vert 00 \\rangle,\n",
    "$$"
   ]
  },
  {
   "cell_type": "markdown",
   "id": "4956ade7",
   "metadata": {
    "editable": true
   },
   "source": [
    "$$\n",
    "H_0\\vert 10 \\rangle = \\epsilon_{10}\\vert 10 \\rangle,\n",
    "$$"
   ]
  },
  {
   "cell_type": "markdown",
   "id": "94483a4a",
   "metadata": {
    "editable": true
   },
   "source": [
    "$$\n",
    "H_0\\vert 01 \\rangle = \\epsilon_{01}\\vert 01 \\rangle,\n",
    "$$"
   ]
  },
  {
   "cell_type": "markdown",
   "id": "6930cdf5",
   "metadata": {
    "editable": true
   },
   "source": [
    "and"
   ]
  },
  {
   "cell_type": "markdown",
   "id": "ad3cc0ee",
   "metadata": {
    "editable": true
   },
   "source": [
    "$$\n",
    "H_0\\vert 11 \\rangle = \\epsilon_{11}\\vert 11 \\rangle.\n",
    "$$"
   ]
  },
  {
   "cell_type": "markdown",
   "id": "a3b9173f",
   "metadata": {
    "editable": true
   },
   "source": [
    "The interacting part of the Hamiltonian $H_{\\mathrm{I}}$ is given by the tensor product of two $\\sigma_x$ and $\\sigma_z$  matrices, respectively, that is"
   ]
  },
  {
   "cell_type": "markdown",
   "id": "91e6c3f9",
   "metadata": {
    "editable": true
   },
   "source": [
    "$$\n",
    "H_{\\mathrm{I}}=H_x\\sigma_x\\otimes\\sigma_x+H_z\\sigma_z\\otimes\\sigma_z,\n",
    "$$"
   ]
  },
  {
   "cell_type": "markdown",
   "id": "7bc1b7d5",
   "metadata": {
    "editable": true
   },
   "source": [
    "where $H_x$ and $H_z$ are interaction strength parameters. Our final Hamiltonian matrix is given by"
   ]
  },
  {
   "cell_type": "markdown",
   "id": "1701af7b",
   "metadata": {
    "editable": true
   },
   "source": [
    "$$\n",
    "\\boldsymbol{H}=\\begin{bmatrix} \\epsilon_{00}+H_z & 0 & 0 & H_x \\\\\n",
    "                       0  & \\epsilon_{10}-H_z & H_x & 0 \\\\\n",
    "\t\t       0 & H_x & \\epsilon_{01}-H_z & 0 \\\\\n",
    "\t\t       H_x & 0 & 0 & \\epsilon_{11} +H_z \\end{bmatrix}.\n",
    "$$"
   ]
  },
  {
   "cell_type": "markdown",
   "id": "aa067d11",
   "metadata": {
    "editable": true
   },
   "source": [
    "The four eigenstates of the above Hamiltonian matrix can in turn be used to\n",
    "define density matrices. As an example, the density matrix of the\n",
    "first eigenstate (lowest energy $E_0$) $\\Psi_0$ is"
   ]
  },
  {
   "cell_type": "markdown",
   "id": "c4cde293",
   "metadata": {
    "editable": true
   },
   "source": [
    "$$\n",
    "\\rho_0=\\left(\\alpha_{00}\\vert 00 \\rangle\\langle 00\\vert+\\alpha_{10}\\vert 10 \\rangle\\langle 10\\vert+\\alpha_{01}\\vert 01 \\rangle\\langle 01\\vert+\\alpha_{11}\\vert 11 \\rangle\\langle 11\\vert\\right),\n",
    "$$"
   ]
  },
  {
   "cell_type": "markdown",
   "id": "52886f0b",
   "metadata": {
    "editable": true
   },
   "source": [
    "where the coefficients $\\alpha_{ij}$ are the eigenvector coefficients\n",
    "resulting from the solution of the above eigenvalue problem."
   ]
  }
 ],
 "metadata": {},
 "nbformat": 4,
 "nbformat_minor": 5
}
