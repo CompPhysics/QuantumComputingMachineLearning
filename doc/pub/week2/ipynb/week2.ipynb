{
 "cells": [
  {
   "cell_type": "markdown",
   "id": "ea70834a",
   "metadata": {
    "editable": true
   },
   "source": [
    "<!-- HTML file automatically generated from DocOnce source (https://github.com/doconce/doconce/)\n",
    "doconce format html week2.do.txt --no_mako -->\n",
    "<!-- dom:TITLE: January 30-February 3,2023: Quantum Computing, Quantum Machine Learning and Quantum Information Theories -->"
   ]
  },
  {
   "cell_type": "markdown",
   "id": "a4444950",
   "metadata": {
    "editable": true
   },
   "source": [
    "# January 30-February 3,2023: Quantum Computing, Quantum Machine Learning and Quantum Information Theories\n",
    "**Morten Hjorth-Jensen**, Department of Physics, University of Oslo, Norway and Department of Physics and Astronomy and Facility for Rare Isotope Beams, Michigan State University, USA\n",
    "\n",
    "Date: **Jan 29, 2023**\n",
    "\n",
    "Copyright 1999-2023, Morten Hjorth-Jensen. Released under CC Attribution-NonCommercial 4.0 license"
   ]
  },
  {
   "cell_type": "markdown",
   "id": "e43f8d64",
   "metadata": {
    "editable": true
   },
   "source": [
    "## Overview, Composite Systems and Tensor Products\n",
    "\n",
    "**Composite systems and Tensor products.**\n",
    "\n",
    "1. Tensor products of Hilbert Spaces and definition of Computational Basis, partly repetition from last week\n",
    "\n",
    "2. Quantum operations and special matrices\n",
    "\n",
    "3. Simple Hamiltonians and other operators\n",
    "\n",
    "4. First exercise set"
   ]
  },
  {
   "cell_type": "markdown",
   "id": "29a214e6",
   "metadata": {
    "editable": true
   },
   "source": [
    "## Summary from last week\n",
    "\n",
    "Last week we:\n",
    "1. defined the state vector and the associated notation\n",
    "\n",
    "2. introduced the inner product and showed how to calculate it in an orthonormal basis\n",
    "\n",
    "3. introduced outer products and projection operators\n",
    "\n",
    "4. introduced tensor products and showed how to contruct state vectors for multiple qubits\n",
    "\n",
    "We will repeat some of these topics today and discuss also \n",
    "1. quantum measurements are probabilistic\n",
    "\n",
    "2. the idea of wavefunction collapse as a result of measurement Next lecture we will:"
   ]
  },
  {
   "cell_type": "markdown",
   "id": "e1d4a55a",
   "metadata": {
    "editable": true
   },
   "source": [
    "## Definition of Computational basis states, repetition from last week\n",
    "\n",
    "<!-- to do: make figures with examples of basis states, hydrogen like systems, harmonic oscillator -->\n",
    "Assume we have a two-level system where the two states are represented\n",
    "by the state vectors $\\vert \\phi_0\\rangle$ and $\\vert \\phi_1\\rangle$,\n",
    "respectively. These states could represent selected or effective\n",
    "degrees of freedom for either a single particle (fermion or boson) or\n",
    "they could represent effective many-body degrees of freedon. In actual\n",
    "realizations of quantum computing we search often for candidate\n",
    "systems where we can use some low-lying states as computational basis\n",
    "states. But we are not limited to quantum computing. When doing\n",
    "many-body physics, due to the exploding degrees of freedom, we\n",
    "normally search after effective ways by which we can reduce the\n",
    "involved dimensionalities to a number of degrees of freedom we can\n",
    "handle by a given many-body method.\n",
    "\n",
    "<!-- to add === Examples: Hydrogen like states and the harmonic oscillator in one, two and three dimensions === -->\n",
    "\n",
    "We will now relabel the above two states as two orthogonal and normalized basis (ONB) states"
   ]
  },
  {
   "cell_type": "markdown",
   "id": "a9e5a03c",
   "metadata": {
    "editable": true
   },
   "source": [
    "$$\n",
    "\\vert \\phi_0 \\rangle = \\vert 0 \\rangle = \\begin{bmatrix} 1 \\\\ 0 \\end{bmatrix},\n",
    "$$"
   ]
  },
  {
   "cell_type": "markdown",
   "id": "f2f9a8c7",
   "metadata": {
    "editable": true
   },
   "source": [
    "and"
   ]
  },
  {
   "cell_type": "markdown",
   "id": "7f4cf05a",
   "metadata": {
    "editable": true
   },
   "source": [
    "$$\n",
    "\\vert \\phi_1 \\rangle = \\vert 1 \\rangle = \\begin{bmatrix} 0 \\\\ 1 \\end{bmatrix}.\n",
    "$$"
   ]
  },
  {
   "cell_type": "markdown",
   "id": "c946f148",
   "metadata": {
    "editable": true
   },
   "source": [
    "It is straight forward to see that $\\langle 1 \\vert 0\\rangle=0$. With these two states we can define the define the identity operator $\\boldsymbol{I}$ as the sum of the outer products of these two states, namely"
   ]
  },
  {
   "cell_type": "markdown",
   "id": "a3714f26",
   "metadata": {
    "editable": true
   },
   "source": [
    "$$\n",
    "\\boldsymbol{I} = \\sum_{i=0}^{i=1}\\vert i\\rangle \\langle i\\vert = \\begin{bmatrix} 1 & 0 \\\\ 0 & 0 \\end{bmatrix} +\\begin{bmatrix} 0 & 0 \\\\ 0 & 1 \\end{bmatrix}=\\begin{bmatrix} 1 & 0 \\\\ 0 & 1 \\end{bmatrix}.\n",
    "$$"
   ]
  },
  {
   "cell_type": "markdown",
   "id": "7c77ff90",
   "metadata": {
    "editable": true
   },
   "source": [
    "We can further define the projection operators"
   ]
  },
  {
   "cell_type": "markdown",
   "id": "5c114b37",
   "metadata": {
    "editable": true
   },
   "source": [
    "$$\n",
    "\\boldsymbol{P} = \\vert 0\\rangle \\langle 0\\vert = \\begin{bmatrix} 1 & 0 \\\\ 0 & 0 \\end{bmatrix},\n",
    "$$"
   ]
  },
  {
   "cell_type": "markdown",
   "id": "b85be828",
   "metadata": {
    "editable": true
   },
   "source": [
    "and"
   ]
  },
  {
   "cell_type": "markdown",
   "id": "00e0b1c7",
   "metadata": {
    "editable": true
   },
   "source": [
    "$$\n",
    "\\boldsymbol{Q} = \\vert 1\\rangle \\langle 1\\vert = \\begin{bmatrix} 0 & 0 \\\\ 0 & 1 \\end{bmatrix}.\n",
    "$$"
   ]
  },
  {
   "cell_type": "markdown",
   "id": "ddb33bd0",
   "metadata": {
    "editable": true
   },
   "source": [
    "We note that $P^2=P$, $Q^2=Q$ (the operators are idempotent) and that\n",
    "their determinants are zero, meaning in turn that we cannot use these\n",
    "operators for unitary/orthogonal transformations. However, they play\n",
    "important roles in defining effective Hilbert spaces for many-body\n",
    "studies. Finally, before proceeding we note also that the two matrices\n",
    "commute and we have $\\boldsymbol{P}\\boldsymbol{Q}=0$ and $\\left[ \\boldsymbol{P},\\boldsymbol{Q}\\right]=0$."
   ]
  },
  {
   "cell_type": "markdown",
   "id": "e461caeb",
   "metadata": {
    "editable": true
   },
   "source": [
    "### Superposition and more\n",
    "\n",
    "Using the properties of ONBs we can expand a new state in terms of the\n",
    "above states. These states could also form  a basis which is an\n",
    "eigenbasis of a selected Hamiltonian (more of this below).\n",
    "\n",
    "We define now a new state which is a linear expansion in terms of\n",
    "these computational basis states"
   ]
  },
  {
   "cell_type": "markdown",
   "id": "7f939d5b",
   "metadata": {
    "editable": true
   },
   "source": [
    "$$\n",
    "\\vert \\psi \\rangle = \\alpha \\vert 0 \\rangle + \\beta\\vert 1 \\rangle,\n",
    "$$"
   ]
  },
  {
   "cell_type": "markdown",
   "id": "5152f340",
   "metadata": {
    "editable": true
   },
   "source": [
    "where the coefficients $\\alpha = \\langle 0 \\vert \\psi \\rangle$ and\n",
    "$\\beta =\\langle 1 \\vert \\psi\\rangle$ reresent the overlaps between the\n",
    "computational basis states and the state $\\vert \\psi\\rangle$. In quantum speech, we say the state is in a superposition of the states $\\vert 0\\rangle$ and $\\vert 1\\rangle$.\n",
    "\n",
    "Computing the inner product of $\\vert \\psi \\rangle$ we obtain"
   ]
  },
  {
   "cell_type": "markdown",
   "id": "cedf3b93",
   "metadata": {
    "editable": true
   },
   "source": [
    "$$\n",
    "\\langle \\psi \\vert \\psi \\rangle = \\vert \\alpha \\vert ^2\\langle 0\\vert 0\\rangle + \\vert \\beta \\vert ^2\\langle 1\\vert 1\\rangle = \\vert \\alpha \\vert ^2 + \\vert \\beta \\vert ^2 = 1,\n",
    "$$"
   ]
  },
  {
   "cell_type": "markdown",
   "id": "18522e4a",
   "metadata": {
    "editable": true
   },
   "source": [
    "since the new basis, which is defined in terms of a a unitary/orthogonal\n",
    "transformation, preserves the orthogonality and norm of the original\n",
    "computational basis $\\vert 0\\rangle$ and $\\vert 1\\rangle$. To see\n",
    "this, consider the unitary transformation (show derivation of\n",
    "preserving orthogonality).\n",
    "\n",
    "If we now act with the projection operators $\\boldsymbol{P}$ and $\\boldsymbol{Q}$ on\n",
    "the state $\\vert \\psi\\rangle$ we get"
   ]
  },
  {
   "cell_type": "markdown",
   "id": "dd7f4fbb",
   "metadata": {
    "editable": true
   },
   "source": [
    "$$\n",
    "\\boldsymbol{P}\\vert \\psi \\rangle = \\vert 0 \\rangle\\langle 0\\vert (\\alpha \\vert 0 \\rangle + \\beta\\vert 1 \\rangle)=\\alpha \\vert 0\\rangle,\n",
    "$$"
   ]
  },
  {
   "cell_type": "markdown",
   "id": "c2979409",
   "metadata": {
    "editable": true
   },
   "source": [
    "that is we **project** out the $\\vert 0\\rangle$ component of the state\n",
    "$\\vert \\psi\\rangle$ with the coefficient $\\alpha$ while $\\boldsymbol{Q}$\n",
    "projects out the $\\vert 1\\rangle$ component with coefficient $\\beta$\n",
    "as seen from"
   ]
  },
  {
   "cell_type": "markdown",
   "id": "cc3a309e",
   "metadata": {
    "editable": true
   },
   "source": [
    "$$\n",
    "\\boldsymbol{Q}\\vert \\psi \\rangle = \\vert 1 \\rangle\\langle 1\\vert (\\alpha \\vert 0 \\rangle + \\beta\\vert 1 \\rangle)=\\beta \\vert 1\\rangle.\n",
    "$$"
   ]
  },
  {
   "cell_type": "markdown",
   "id": "c5c97f45",
   "metadata": {
    "editable": true
   },
   "source": [
    "The above results can easily be derived by multiplying the pertinent\n",
    "matrices with the vectors $\\vert 0\\rangle$ and $\\vert 1\\rangle$,\n",
    "respectively.\n",
    "\n",
    "Using the above linear expansion we can now define the density matrix of the state $\\vert \\psi\\rangle$ as the outer product"
   ]
  },
  {
   "cell_type": "markdown",
   "id": "d6743a70",
   "metadata": {
    "editable": true
   },
   "source": [
    "$$\n",
    "\\boldsymbol{\\rho}=\\vert \\psi \\rangle\\langle \\psi \\vert = \\alpha\\alpha^* \\vert 0 \\rangle\\langle 0\\vert+\\alpha\\beta^* \\vert 0 \\rangle\\langle 1\\vert+\\beta\\alpha^* \\vert 1 \\rangle\\langle 0\\vert+\\beta\\beta^* \\vert 1 \\rangle\\langle 1\\vert=\\begin{bmatrix} \\alpha\\alpha^* & \\alpha\\beta^*\\\\ \\beta\\alpha^* & \\beta\\beta^*\\end{bmatrix}.\n",
    "$$"
   ]
  },
  {
   "cell_type": "markdown",
   "id": "103be43f",
   "metadata": {
    "editable": true
   },
   "source": [
    "Finally, we note that the trace of the density matrix is simply given by unity"
   ]
  },
  {
   "cell_type": "markdown",
   "id": "dabf6feb",
   "metadata": {
    "editable": true
   },
   "source": [
    "$$\n",
    "\\mathrm{tr}\\boldsymbol{\\rho}=\\alpha\\alpha^* +\\beta\\beta^*=1.\n",
    "$$"
   ]
  },
  {
   "cell_type": "markdown",
   "id": "906dfe49",
   "metadata": {
    "editable": true
   },
   "source": [
    "## Tensor products\n",
    "\n",
    "Consider now two vectors with length $n=2$, with elements"
   ]
  },
  {
   "cell_type": "markdown",
   "id": "c5eff58e",
   "metadata": {
    "editable": true
   },
   "source": [
    "$$\n",
    "\\vert x \\rangle = \\begin{bmatrix} x_0 \\\\ x_1 \\end{bmatrix},\n",
    "$$"
   ]
  },
  {
   "cell_type": "markdown",
   "id": "8581bdda",
   "metadata": {
    "editable": true
   },
   "source": [
    "and"
   ]
  },
  {
   "cell_type": "markdown",
   "id": "b664eb79",
   "metadata": {
    "editable": true
   },
   "source": [
    "$$\n",
    "\\vert x \\rangle = \\begin{bmatrix} y_0 \\\\ y_1 \\end{bmatrix}.\n",
    "$$"
   ]
  },
  {
   "cell_type": "markdown",
   "id": "283fe28e",
   "metadata": {
    "editable": true
   },
   "source": [
    "The tensor product of these two vectors is defined as"
   ]
  },
  {
   "cell_type": "markdown",
   "id": "1bdc58ee",
   "metadata": {
    "editable": true
   },
   "source": [
    "$$\n",
    "\\vert x \\rangle \\otimes \\vert y \\rangle = \\vert xy \\rangle  = \\begin{bmatrix} x_0y_0 \\\\ x_0y_1 \\\\ x_1y_0 \\\\ x_1y_1 \\end{bmatrix},\n",
    "$$"
   ]
  },
  {
   "cell_type": "markdown",
   "id": "9ebf4362",
   "metadata": {
    "editable": true
   },
   "source": [
    "which is now a vector of length $4$.\n",
    "\n",
    "If we now go back to our original one-qubit basis states, we can form teh following tensor products"
   ]
  },
  {
   "cell_type": "markdown",
   "id": "a76c546a",
   "metadata": {
    "editable": true
   },
   "source": [
    "$$\n",
    "\\vert 0 \\rangle \\otimes \\vert 0 \\rangle = \\begin{bmatrix} 1 \\\\ 0\\end{bmatrix} \\otimes \\begin{bmatrix} 1 \\\\ 0\\end{bmatrix} =\\begin{bmatrix} 1 \\\\ 0 \\\\ 0 \\\\ 0 \\end{bmatrix}=\\vert 00 \\rangle,\n",
    "$$"
   ]
  },
  {
   "cell_type": "markdown",
   "id": "5d1ac0ee",
   "metadata": {
    "editable": true
   },
   "source": [
    "$$\n",
    "\\vert 0 \\rangle \\otimes \\vert 1 \\rangle = \\begin{bmatrix} 1 \\\\ 0\\end{bmatrix} \\otimes \\begin{bmatrix} 0 \\\\ 1\\end{bmatrix} =\\begin{bmatrix} 0 \\\\ 1 \\\\ 0 \\\\ 0 \\end{bmatrix}=\\vert 01 \\rangle,\n",
    "$$"
   ]
  },
  {
   "cell_type": "markdown",
   "id": "77bde7a4",
   "metadata": {
    "editable": true
   },
   "source": [
    "$$\n",
    "\\vert 1 \\rangle \\otimes \\vert 0 \\rangle = \\begin{bmatrix} 0 \\\\ 1\\end{bmatrix} \\otimes \\begin{bmatrix} 1 \\\\ 0\\end{bmatrix} =\\begin{bmatrix} 0 \\\\ 0 \\\\ 1 \\\\ 0 \\end{bmatrix}=\\vert 10 \\rangle,\n",
    "$$"
   ]
  },
  {
   "cell_type": "markdown",
   "id": "a9695942",
   "metadata": {
    "editable": true
   },
   "source": [
    "and finally"
   ]
  },
  {
   "cell_type": "markdown",
   "id": "e84e33ae",
   "metadata": {
    "editable": true
   },
   "source": [
    "$$\n",
    "\\vert 1 \\rangle \\otimes \\vert 1 \\rangle = \\begin{bmatrix} 0 \\\\ 1\\end{bmatrix} \\otimes \\begin{bmatrix} 0 \\\\ 1\\end{bmatrix} =\\begin{bmatrix} 0 \\\\ 0 \\\\ 0 \\\\ 1 \\end{bmatrix}=\\vert 11 \\rangle.\n",
    "$$"
   ]
  },
  {
   "cell_type": "markdown",
   "id": "d0503441",
   "metadata": {
    "editable": true
   },
   "source": [
    "We have now four different states and we could try to make a new list\n",
    "by relabeling the states as follows $\\vert 00 \\rangle =\\vert 0\n",
    "\\rangle$, $\\vert 01 \\rangle =\\vert 1 \\rangle$, $\\vert 10 \\rangle\n",
    "=\\vert 2 \\rangle$, $\\vert 11 \\rangle =\\vert 3 \\rangle$.\n",
    "\n",
    "In similar ways we can define the tensor product of three qubits (or single-particle states) as"
   ]
  },
  {
   "cell_type": "markdown",
   "id": "2fb0fbcc",
   "metadata": {
    "editable": true
   },
   "source": [
    "$$\n",
    "\\vert 0 \\rangle \\otimes \\vert 0 \\rangle \\otimes \\vert 0 \\rangle = \\begin{bmatrix} 1 \\\\ 0\\end{bmatrix} \\otimes \\begin{bmatrix} 1 \\\\ 0\\end{bmatrix} \\otimes \\begin{bmatrix} 1 \\\\ 0\\end{bmatrix}=\\begin{bmatrix} 1 \\\\ 0 \\\\ 0 \\\\ 0 \\\\ 0 \\\\0 \\\\ 0 \\\\ 0\\end{bmatrix}=\\vert 000 \\rangle,\n",
    "$$"
   ]
  },
  {
   "cell_type": "markdown",
   "id": "dee287aa",
   "metadata": {
    "editable": true
   },
   "source": [
    "which is a new vector of length eight. We note that with a single-particle basis given the states $\\vert 0\\rangle$ and $\\vert 1\\rangle$ we can, with $N$ particles construct $2^N$ different states.\n",
    "This is something we can generalize to\n",
    " * discuss ways of labeling states\n",
    "\n",
    " * how to write a code which does it\n",
    "\n",
    "The tensor product of two $2\\times 2$ matrices $\\boldsymbol{A}$ and $\\boldsymbol{B}$ is given by"
   ]
  },
  {
   "cell_type": "markdown",
   "id": "fdfaa5d2",
   "metadata": {
    "editable": true
   },
   "source": [
    "$$\n",
    "\\boldsymbol{A} \\times \\boldsymbol{B} = \\begin{bmatrix} a_{00} & a_{01} \\\\ a_{10} & a_{11} \\end{bmatrix} \\otimes \\begin{bmatrix} b_{00} & b_{01} \\\\ b_{10} & b_{11} \\end{bmatrix} =\n",
    "\\begin{bmatrix} a_{00} b_{00} &  a_{00}b_{01} & a_{01} b_{00} & a_{01}b_{01} \\\\\n",
    "                a_{00} b_{10} &  a_{00}b_{11} & a_{01} b_{10} & a_{01}b_{11} \\\\\n",
    "                a_{10} b_{00} &  a_{10}b_{01} & a_{11} b_{00} & a_{11}b_{01} \\\\\n",
    "                a_{10} b_{10} &  a_{10}b_{11} & a_{11} b_{10} & a_{11}b_{11} \\end{bmatrix}\n",
    "$$"
   ]
  },
  {
   "cell_type": "markdown",
   "id": "04fa9893",
   "metadata": {
    "editable": true
   },
   "source": [
    "## Measurements\n",
    "\n",
    "The probability of a measurement on a quantum system giving a certain\n",
    "result is determined by the weight of the relevant basis state in\n",
    "the state vector. After the measurement, the system is in the state\n",
    "corresponding to the result of the measurement. The operators and gates discussed below are examples of operations we can perform on specific states."
   ]
  },
  {
   "cell_type": "markdown",
   "id": "7165eb43",
   "metadata": {
    "editable": true
   },
   "source": [
    "## Possible measurement\n",
    "\n",
    "We can consider the state"
   ]
  },
  {
   "cell_type": "markdown",
   "id": "ac7a1e04",
   "metadata": {
    "editable": true
   },
   "source": [
    "$$\n",
    "\\vert \\psi\\rangle = \\alpha \\vert 0 \\rangle +\\beta \\vert 1 \\rangle\n",
    "$$"
   ]
  },
  {
   "cell_type": "markdown",
   "id": "4dfd8bcc",
   "metadata": {
    "editable": true
   },
   "source": [
    "1. A measurement can yield only one of the above states, either $\\vert 0\\rangle$ or $\\vert 1\\rangle$.\n",
    "\n",
    "2. The probability of a measurement resulting in $\\vert 0\\rangle$ is $\\alpha^*\\alpha = \\vert \\alpha \\vert^*$.\n",
    "\n",
    "3. The probability of a measurement resulting in $\\vert 1\\rangle$ is $\\beta^*\\beta = \\vert \\beta \\vert^*$.\n",
    "\n",
    "4. And we note that the sum of the outcomes gives $$\\alpha^*\\alpha+\\beta^*\\beta=1$ since the two states are normalized.\n",
    "\n",
    "After the measurement, the state of the system is the state associated with the result of the measurement.\n",
    "\n",
    "We have already encountered the projection operators $P$ and $Q$. Let us now look at other types of operations we can make\n",
    "on qubit states."
   ]
  },
  {
   "cell_type": "markdown",
   "id": "2978b0df",
   "metadata": {
    "editable": true
   },
   "source": [
    "## Different operators and gates\n",
    "\n",
    "In quantum computing, the so-called Pauli matrices, and other simple\n",
    "$2\\times 2$ matrices, play an important role, ranging from the setup\n",
    "of quantum gates to a rewrite of creation and annihilation operators\n",
    "and other quantum mechanical operators. Let us start with the familiar\n",
    "Pauli matrices and remind ourselves of some of their basic properties.\n",
    "\n",
    "The Pauli matrices are defined as"
   ]
  },
  {
   "cell_type": "markdown",
   "id": "1bfe1286",
   "metadata": {
    "editable": true
   },
   "source": [
    "$$\n",
    "\\sigma_x = \\begin{bmatrix} 0 & 1 \\\\ 1 & 0 \\end{bmatrix},\n",
    "$$"
   ]
  },
  {
   "cell_type": "markdown",
   "id": "f374063c",
   "metadata": {
    "editable": true
   },
   "source": [
    "$$\n",
    "\\sigma_y = \\begin{bmatrix} 0 & -\\imath \\\\ \\imath & 0 \\end{bmatrix},\n",
    "$$"
   ]
  },
  {
   "cell_type": "markdown",
   "id": "8f76e5b7",
   "metadata": {
    "editable": true
   },
   "source": [
    "and"
   ]
  },
  {
   "cell_type": "markdown",
   "id": "2f83088a",
   "metadata": {
    "editable": true
   },
   "source": [
    "$$\n",
    "\\sigma_z = \\begin{bmatrix} 1 & 0 \\\\ 0 & -1 \\end{bmatrix}.\n",
    "$$"
   ]
  },
  {
   "cell_type": "markdown",
   "id": "bcf22809",
   "metadata": {
    "editable": true
   },
   "source": [
    "It is easy to show that the matrices obey the properties (being involutory)"
   ]
  },
  {
   "cell_type": "markdown",
   "id": "5743d8bd",
   "metadata": {
    "editable": true
   },
   "source": [
    "$$\n",
    "\\sigma_x\\sigma_x = \\sigma_y\\sigma_y=\\sigma_z\\sigma_z = I=\\begin{bmatrix} 1 & 0 \\\\ 0 & 1\\end{bmatrix},\n",
    "$$"
   ]
  },
  {
   "cell_type": "markdown",
   "id": "cf537ce5",
   "metadata": {
    "editable": true
   },
   "source": [
    "that is their products with themselves result in the identity matrix\n",
    "$\\boldsymbol{I}$.  Furthermore, the Pauli matrices are unitary matrices\n",
    "meaning that their inverses are equal to their hermitian conjugated\n",
    "matrices. The determinants of the Pauli matrices are all equal to $-1$,\n",
    "as can be easily verified.\n",
    "\n",
    "The Pauli matrices obey also the following commutation rules"
   ]
  },
  {
   "cell_type": "markdown",
   "id": "cb95dbd0",
   "metadata": {
    "editable": true
   },
   "source": [
    "$$\n",
    "\\left[\\sigma_x,\\sigma_y\\right] = 2\\imath \\sigma_z.\n",
    "$$"
   ]
  },
  {
   "cell_type": "markdown",
   "id": "0ae7c316",
   "metadata": {
    "editable": true
   },
   "source": [
    "Before we proceed with other matrices and how they can be used to\n",
    "operate on various quantum mechanical states, let us try to define\n",
    "various basis sets and their pertinent notations. We will often refer\n",
    "to these basis states as our computational basis."
   ]
  },
  {
   "cell_type": "markdown",
   "id": "d9994117",
   "metadata": {
    "editable": true
   },
   "source": [
    "### Other important matrices\n",
    "\n",
    "We end with presenting other operators (as matrices) which play an important role in quantum computing, the so-called Hadamard matrix (or gate as we will use later)"
   ]
  },
  {
   "cell_type": "markdown",
   "id": "964f4bf2",
   "metadata": {
    "editable": true
   },
   "source": [
    "$$\n",
    "\\boldsymbol{H}=\\frac{1}{\\sqrt{2}}\\begin{bmatrix} 1 & 1 \\\\ 1 & -1\\end{bmatrix}.\n",
    "$$"
   ]
  },
  {
   "cell_type": "markdown",
   "id": "cb99f2de",
   "metadata": {
    "editable": true
   },
   "source": [
    "The action of the operator $\\boldsymbol{H}$ on a computational basis state like $\\vert 0\\rangle$ gives"
   ]
  },
  {
   "cell_type": "markdown",
   "id": "976d9819",
   "metadata": {
    "editable": true
   },
   "source": [
    "$$\n",
    "\\boldsymbol{H}\\vert 0 \\rangle = \\frac{1}{\\sqrt{2}}\\begin{bmatrix} 1 & 1 \\\\ 1 & -1\\end{bmatrix}\\begin{bmatrix} 1 \\\\ 0\\end{bmatrix}=\\frac{1}{\\sqrt{2}}(\\vert 0\\rangle + \\vert 1\\rangle),\n",
    "$$"
   ]
  },
  {
   "cell_type": "markdown",
   "id": "be70870f",
   "metadata": {
    "editable": true
   },
   "source": [
    "and"
   ]
  },
  {
   "cell_type": "markdown",
   "id": "708b1437",
   "metadata": {
    "editable": true
   },
   "source": [
    "$$\n",
    "\\boldsymbol{H}\\vert 1 \\rangle = \\frac{1}{\\sqrt{2}}\\begin{bmatrix} 1 & 1 \\\\ 1 & -1\\end{bmatrix}\\begin{bmatrix} 0 \\\\ 1\\end{bmatrix}=\\frac{1}{\\sqrt{2}}(\\vert 0\\rangle - \\vert 1\\rangle),\n",
    "$$"
   ]
  },
  {
   "cell_type": "markdown",
   "id": "34e948d6",
   "metadata": {
    "editable": true
   },
   "source": [
    "that is we create a superposition of the states $\\vert 0\\rangle$ and $\\vert 1\\rangle$.\n",
    "\n",
    "Another famous operation is the phase matrix given by"
   ]
  },
  {
   "cell_type": "markdown",
   "id": "2708389c",
   "metadata": {
    "editable": true
   },
   "source": [
    "$$\n",
    "\\boldsymbol{S} = \\begin{bmatrix} 1 & 0 \\\\ 0 & \\imath\\end{bmatrix}.\n",
    "$$"
   ]
  },
  {
   "cell_type": "markdown",
   "id": "24cf1b39",
   "metadata": {
    "editable": true
   },
   "source": [
    "### Representation of states and Hamiltonians\n",
    "\n",
    "Before we proceed we need several other definitions.  Throughout these\n",
    "lectures we will assume that the interacting part of the Hamiltonian\n",
    "can be approximated by a two-body interaction.  This means that our\n",
    "Hamiltonian can be written as the sum of a onebody part, which\n",
    "includes kinetic energy and an eventual external field, and a twobody\n",
    "interaction"
   ]
  },
  {
   "cell_type": "markdown",
   "id": "c1c01da7",
   "metadata": {
    "editable": true
   },
   "source": [
    "<!-- Equation labels as ordinary links -->\n",
    "<div id=\"_auto1\"></div>\n",
    "\n",
    "$$\n",
    "\\begin{equation}\n",
    "    \\hat{H} = \\hat{H}_0 + \\hat{H}_I \n",
    "    = \\sum_{i=1}^N \\hat{h}_0(x_i) + \\sum_{i < j}^N \\hat{v}(r_{ij}),\n",
    "\\label{_auto1} \\tag{1}\n",
    "\\end{equation}\n",
    "$$"
   ]
  },
  {
   "cell_type": "markdown",
   "id": "65cfa2de",
   "metadata": {
    "editable": true
   },
   "source": [
    "with"
   ]
  },
  {
   "cell_type": "markdown",
   "id": "f851e6cc",
   "metadata": {
    "editable": true
   },
   "source": [
    "<!-- Equation labels as ordinary links -->\n",
    "<div id=\"hinuclei\"></div>\n",
    "\n",
    "$$\n",
    "\\begin{equation}\n",
    "  H_0=\\sum_{i=1}^N \\hat{h}_0(x_i).\n",
    "\\label{hinuclei} \\tag{2}\n",
    "\\end{equation}\n",
    "$$"
   ]
  },
  {
   "cell_type": "markdown",
   "id": "a0c5200b",
   "metadata": {
    "editable": true
   },
   "source": [
    "The onebody part $u_{\\mathrm{ext}}(x_i)$ is normally approximated by a\n",
    "harmonic oscillator potential or the Coulomb interaction an electron\n",
    "feels from the nucleus. However, other potentials are fully possible,\n",
    "such as one derived from the self-consistent solution of the\n",
    "Hartree-Fock equations.\n",
    "\n",
    "Our Hamiltonian is invariant under the permutation (interchange) of\n",
    "two particles.  Since we deal with fermions however, the total wave\n",
    "function is antisymmetric.  Let $\\hat{P}$ be an operator which\n",
    "interchanges two particles.  Due to the symmetries we have ascribed to\n",
    "our Hamiltonian, this operator commutes with the total Hamiltonian,"
   ]
  },
  {
   "cell_type": "markdown",
   "id": "48292f4c",
   "metadata": {
    "editable": true
   },
   "source": [
    "$$\n",
    "[\\hat{H},\\hat{P}] = 0,\n",
    "$$"
   ]
  },
  {
   "cell_type": "markdown",
   "id": "b5b43985",
   "metadata": {
    "editable": true
   },
   "source": [
    "meaning that $\\Psi_{\\lambda}(x_1, x_2, \\dots , x_A)$ is an eigenfunction of \n",
    "$\\hat{P}$ as well, that is"
   ]
  },
  {
   "cell_type": "markdown",
   "id": "5ddf3eb0",
   "metadata": {
    "editable": true
   },
   "source": [
    "$$\n",
    "\\hat{P}_{ij}\\Psi_{\\lambda}(x_1, x_2, \\dots,x_i,\\dots,x_j,\\dots,x_A)=\n",
    "\\beta\\Psi_{\\lambda}(x_1, x_2, \\dots,x_i,\\dots,x_j,\\dots,x_A),\n",
    "$$"
   ]
  },
  {
   "cell_type": "markdown",
   "id": "e01f7af2",
   "metadata": {
    "editable": true
   },
   "source": [
    "where $\\beta$ is the eigenvalue of $\\hat{P}$. We have introduced the suffix $ij$ in order to indicate that we permute particles $i$ and $j$.\n",
    "The Pauli principle tells us that the total wave function for a system of fermions\n",
    "has to be antisymmetric, resulting in the eigenvalue $\\beta = -1$.   \n",
    "\n",
    "In our case we assume that  we can approximate the exact eigenfunction with a Slater determinant"
   ]
  },
  {
   "cell_type": "markdown",
   "id": "7a29ab41",
   "metadata": {
    "editable": true
   },
   "source": [
    "<!-- Equation labels as ordinary links -->\n",
    "<div id=\"eq:HartreeFockDet\"></div>\n",
    "\n",
    "$$\n",
    "\\begin{equation}\n",
    "   \\Phi(x_1, x_2,\\dots ,x_A,\\alpha,\\beta,\\dots, \\sigma)=\\frac{1}{\\sqrt{A!}}\n",
    "\\left| \\begin{array}{ccccc} \\psi_{\\alpha}(x_1)& \\psi_{\\alpha}(x_2)& \\dots & \\dots & \\psi_{\\alpha}(x_A)\\\\\n",
    "                            \\psi_{\\beta}(x_1)&\\psi_{\\beta}(x_2)& \\dots & \\dots & \\psi_{\\beta}(x_A)\\\\  \n",
    "                            \\dots & \\dots & \\dots & \\dots & \\dots \\\\\n",
    "                            \\dots & \\dots & \\dots & \\dots & \\dots \\\\\n",
    "                     \\psi_{\\sigma}(x_1)&\\psi_{\\sigma}(x_2)& \\dots & \\dots & \\psi_{\\sigma}(x_A)\\end{array} \\right|, \\label{eq:HartreeFockDet} \\tag{3}\n",
    "\\end{equation}\n",
    "$$"
   ]
  },
  {
   "cell_type": "markdown",
   "id": "18978f21",
   "metadata": {
    "editable": true
   },
   "source": [
    "where  $x_i$  stand for the coordinates and spin values of a particle $i$ and $\\alpha,\\beta,\\dots, \\gamma$ \n",
    "are quantum numbers needed to describe remaining quantum numbers.  \n",
    "\n",
    "If we deal with Fermions (identical and indistinguishable particles) we will \n",
    "form an ansatz for a given state in terms of so-called Slater determinants determined\n",
    "by a chosen basis of single-particle functions. \n",
    "\n",
    "For a given $n\\times n$ matrix $\\mathbf{A}$ we can write its determinant"
   ]
  },
  {
   "cell_type": "markdown",
   "id": "351fe9f4",
   "metadata": {
    "editable": true
   },
   "source": [
    "$$\n",
    "det(\\mathbf{A})=|\\mathbf{A}|=\n",
    "\\left| \\begin{array}{ccccc} a_{11}& a_{12}& \\dots & \\dots & a_{1n}\\\\\n",
    "                            a_{21}&a_{22}& \\dots & \\dots & a_{2n}\\\\  \n",
    "                            \\dots & \\dots & \\dots & \\dots & \\dots \\\\\n",
    "                            \\dots & \\dots & \\dots & \\dots & \\dots \\\\\n",
    "                            a_{n1}& a_{n2}& \\dots & \\dots & a_{nn}\\end{array} \\right|,\n",
    "$$"
   ]
  },
  {
   "cell_type": "markdown",
   "id": "edd2b4e0",
   "metadata": {
    "editable": true
   },
   "source": [
    "in a more compact form as"
   ]
  },
  {
   "cell_type": "markdown",
   "id": "1ae3dace",
   "metadata": {
    "editable": true
   },
   "source": [
    "$$\n",
    "|\\mathbf{A}|= \\sum_{i=1}^{n!}(-1)^{p_i}\\hat{P}_i a_{11}a_{22}\\dots a_{nn},\n",
    "$$"
   ]
  },
  {
   "cell_type": "markdown",
   "id": "994224d9",
   "metadata": {
    "editable": true
   },
   "source": [
    "where $\\hat{P}_i$ is a permutation operator which permutes the column indices $1,2,3,\\dots,n$\n",
    "and the sum runs over all $n!$ permutations.  The quantity $p_i$ represents the number of transpositions of column indices that are needed in order to bring a given permutation back to its initial ordering, in our case given by $a_{11}a_{22}\\dots a_{nn}$ here.\n",
    "\n",
    "A simple $2\\times 2$ determinant illustrates this. We have"
   ]
  },
  {
   "cell_type": "markdown",
   "id": "6c5d99b0",
   "metadata": {
    "editable": true
   },
   "source": [
    "$$\n",
    "det(\\mathbf{A})=\n",
    "\\left| \\begin{array}{cc} a_{11}& a_{12}\\\\\n",
    "                            a_{21}&a_{22}\\end{array} \\right|= (-1)^0a_{11}a_{22}+(-1)^1a_{12}a_{21},\n",
    "$$"
   ]
  },
  {
   "cell_type": "markdown",
   "id": "d314668f",
   "metadata": {
    "editable": true
   },
   "source": [
    "where in the last term we have interchanged the column indices $1$ and $2$. The natural ordering we have chosen is $a_{11}a_{22}$. \n",
    "\n",
    "The single-particle function $\\psi_{\\alpha}(x_i)$  are eigenfunctions of the onebody\n",
    "Hamiltonian $h_i$, that is"
   ]
  },
  {
   "cell_type": "markdown",
   "id": "3b7f2853",
   "metadata": {
    "editable": true
   },
   "source": [
    "$$\n",
    "\\hat{h}_0(x_i)=\\hat{t}(x_i) + \\hat{u}_{\\mathrm{ext}}(x_i),\n",
    "$$"
   ]
  },
  {
   "cell_type": "markdown",
   "id": "ba7904f3",
   "metadata": {
    "editable": true
   },
   "source": [
    "with eigenvalues"
   ]
  },
  {
   "cell_type": "markdown",
   "id": "5c6db95e",
   "metadata": {
    "editable": true
   },
   "source": [
    "$$\n",
    "\\hat{h}_0(x_i) \\psi_{\\alpha}(x_i)=\\left(\\hat{t}(x_i) + \\hat{u}_{\\mathrm{ext}}(x_i)\\right)\\psi_{\\alpha}(x_i)=\\varepsilon_{\\alpha}\\psi_{\\alpha}(x_i).\n",
    "$$"
   ]
  },
  {
   "cell_type": "markdown",
   "id": "bc319105",
   "metadata": {
    "editable": true
   },
   "source": [
    "The energies $\\varepsilon_{\\alpha}$ are the so-called non-interacting single-particle energies, or unperturbed energies. \n",
    "The total energy is in this case the sum over all  single-particle energies, if no two-body or more complicated\n",
    "many-body interactions are present.\n",
    "\n",
    "Let us denote the ground state energy by $E_0$. According to the\n",
    "variational principle we have"
   ]
  },
  {
   "cell_type": "markdown",
   "id": "f4d7bd3a",
   "metadata": {
    "editable": true
   },
   "source": [
    "$$\n",
    "E_0 \\le E[\\Phi] = \\int \\Phi^*\\hat{H}\\Phi d\\mathbf{\\tau}\n",
    "$$"
   ]
  },
  {
   "cell_type": "markdown",
   "id": "fef823ab",
   "metadata": {
    "editable": true
   },
   "source": [
    "where $\\Phi$ is a trial function which we assume to be normalized"
   ]
  },
  {
   "cell_type": "markdown",
   "id": "51f61099",
   "metadata": {
    "editable": true
   },
   "source": [
    "$$\n",
    "\\int \\Phi^*\\Phi d\\mathbf{\\tau} = 1,\n",
    "$$"
   ]
  },
  {
   "cell_type": "markdown",
   "id": "eb21b20e",
   "metadata": {
    "editable": true
   },
   "source": [
    "where we have used the shorthand $d\\mathbf{\\tau}=dx_1dr_2\\dots dr_A$.\n",
    "\n",
    "In the Hartree-Fock method the trial function is the Slater\n",
    "determinant of Eq. ([3](#eq:HartreeFockDet)) which can be rewritten as"
   ]
  },
  {
   "cell_type": "markdown",
   "id": "df3494e2",
   "metadata": {
    "editable": true
   },
   "source": [
    "$$\n",
    "\\Phi(x_1,x_2,\\dots,x_N,\\alpha,\\beta,\\dots,\\nu) = \\frac{1}{\\sqrt{A!}}\\sum_{P} (-)^P\\hat{P}\\psi_{\\alpha}(x_1)\n",
    "    \\psi_{\\beta}(x_2)\\dots\\psi_{\\nu}(x_N)=\\sqrt{N!}\\hat{A}\\Phi_H,\n",
    "$$"
   ]
  },
  {
   "cell_type": "markdown",
   "id": "a6add1d2",
   "metadata": {
    "editable": true
   },
   "source": [
    "where we have introduced the antisymmetrization operator $\\hat{A}$ defined by the \n",
    "summation over all possible permutations of two particles.\n",
    "\n",
    "It is defined as"
   ]
  },
  {
   "cell_type": "markdown",
   "id": "3efc4ab5",
   "metadata": {
    "editable": true
   },
   "source": [
    "<!-- Equation labels as ordinary links -->\n",
    "<div id=\"antiSymmetryOperator\"></div>\n",
    "\n",
    "$$\n",
    "\\begin{equation}\n",
    "  \\hat{A} = \\frac{1}{N!}\\sum_{p} (-)^p\\hat{P},\n",
    "\\label{antiSymmetryOperator} \\tag{4}\n",
    "\\end{equation}\n",
    "$$"
   ]
  },
  {
   "cell_type": "markdown",
   "id": "4f4966d3",
   "metadata": {
    "editable": true
   },
   "source": [
    "with $p$ standing for the number of permutations. We have introduced for later use the so-called\n",
    "Hartree-function, defined by the simple product of all possible single-particle functions"
   ]
  },
  {
   "cell_type": "markdown",
   "id": "a8aef832",
   "metadata": {
    "editable": true
   },
   "source": [
    "$$\n",
    "\\Phi_H(x_1,x_2,\\dots,x_A,\\alpha,\\beta,\\dots,\\nu) =\n",
    "  \\psi_{\\alpha}(x_1)\n",
    "    \\psi_{\\beta}(x_2)\\dots\\psi_{\\nu}(x_A).\n",
    "$$"
   ]
  },
  {
   "cell_type": "markdown",
   "id": "18a3f1d4",
   "metadata": {
    "editable": true
   },
   "source": [
    "Both $\\hat{H}_0$ and $\\hat{H}_I$ are invariant under all possible permutations of any two particles\n",
    "and hence commute with $\\hat{A}$"
   ]
  },
  {
   "cell_type": "markdown",
   "id": "53afa25d",
   "metadata": {
    "editable": true
   },
   "source": [
    "<!-- Equation labels as ordinary links -->\n",
    "<div id=\"commutionAntiSym\"></div>\n",
    "\n",
    "$$\n",
    "\\begin{equation}\n",
    "  [H_0,\\hat{A}] = [H_I,\\hat{A}] = 0. \\label{commutionAntiSym} \\tag{5}\n",
    "\\end{equation}\n",
    "$$"
   ]
  },
  {
   "cell_type": "markdown",
   "id": "80bacc4a",
   "metadata": {
    "editable": true
   },
   "source": [
    "Furthermore, $\\hat{A}$ satisfies"
   ]
  },
  {
   "cell_type": "markdown",
   "id": "1813af2a",
   "metadata": {
    "editable": true
   },
   "source": [
    "<!-- Equation labels as ordinary links -->\n",
    "<div id=\"AntiSymSquared\"></div>\n",
    "\n",
    "$$\n",
    "\\begin{equation}\n",
    "  \\hat{A}^2 = \\hat{A},  \\label{AntiSymSquared} \\tag{6}\n",
    "\\end{equation}\n",
    "$$"
   ]
  },
  {
   "cell_type": "markdown",
   "id": "17ad215e",
   "metadata": {
    "editable": true
   },
   "source": [
    "since every permutation of the Slater\n",
    "determinant reproduces it. \n",
    "\n",
    "The expectation value of $\\hat{H}_0$"
   ]
  },
  {
   "cell_type": "markdown",
   "id": "440c8a10",
   "metadata": {
    "editable": true
   },
   "source": [
    "$$\n",
    "\\int \\Phi^*\\hat{H}_0\\Phi d\\mathbf{\\tau} \n",
    "  = A! \\int \\Phi_H^*\\hat{A}\\hat{H}_0\\hat{A}\\Phi_H d\\mathbf{\\tau}\n",
    "$$"
   ]
  },
  {
   "cell_type": "markdown",
   "id": "289bc838",
   "metadata": {
    "editable": true
   },
   "source": [
    "is readily reduced to"
   ]
  },
  {
   "cell_type": "markdown",
   "id": "aa2b3a99",
   "metadata": {
    "editable": true
   },
   "source": [
    "$$\n",
    "\\int \\Phi^*\\hat{H}_0\\Phi d\\mathbf{\\tau} \n",
    "  = A! \\int \\Phi_H^*\\hat{H}_0\\hat{A}\\Phi_H d\\mathbf{\\tau},\n",
    "$$"
   ]
  },
  {
   "cell_type": "markdown",
   "id": "bf6b5522",
   "metadata": {
    "editable": true
   },
   "source": [
    "where we have used Eqs. ([5](#commutionAntiSym)) and\n",
    "([6](#AntiSymSquared)). The next step is to replace the antisymmetrization\n",
    "operator by its definition and to\n",
    "replace $\\hat{H}_0$ with the sum of one-body operators"
   ]
  },
  {
   "cell_type": "markdown",
   "id": "c6ef2e6a",
   "metadata": {
    "editable": true
   },
   "source": [
    "$$\n",
    "\\int \\Phi^*\\hat{H}_0\\Phi  d\\mathbf{\\tau}\n",
    "  = \\sum_{i=1}^N \\sum_{p} (-)^p\\int \n",
    "  \\Phi_H^*\\hat{h}_0\\hat{P}\\Phi_H d\\mathbf{\\tau}.\n",
    "$$"
   ]
  },
  {
   "cell_type": "markdown",
   "id": "c0397934",
   "metadata": {
    "editable": true
   },
   "source": [
    "The integral vanishes if two or more particles are permuted in only one\n",
    "of the Hartree-functions $\\Phi_H$ because the individual single-particle wave functions are\n",
    "orthogonal. We obtain then"
   ]
  },
  {
   "cell_type": "markdown",
   "id": "df82e79d",
   "metadata": {
    "editable": true
   },
   "source": [
    "$$\n",
    "\\int \\Phi^*\\hat{H}_0\\Phi  d\\mathbf{\\tau}= \\sum_{i=1}^N \\int \\Phi_H^*\\hat{h}_0\\Phi_H  d\\mathbf{\\tau}.\n",
    "$$"
   ]
  },
  {
   "cell_type": "markdown",
   "id": "ea779055",
   "metadata": {
    "editable": true
   },
   "source": [
    "Orthogonality of the single-particle functions allows us to further simplify the integral, and we\n",
    "arrive at the following expression for the expectation values of the\n",
    "sum of one-body Hamiltonians"
   ]
  },
  {
   "cell_type": "markdown",
   "id": "6689d770",
   "metadata": {
    "editable": true
   },
   "source": [
    "<!-- Equation labels as ordinary links -->\n",
    "<div id=\"H1Expectation\"></div>\n",
    "\n",
    "$$\n",
    "\\begin{equation}\n",
    "  \\int \\Phi^*\\hat{H}_0\\Phi  d\\mathbf{\\tau}\n",
    "  = \\sum_{\\mu=1}^N \\int \\psi_{\\mu}^*(x)\\hat{h}_0\\psi_{\\mu}(x)dx\n",
    "  d\\mathbf{r}.\n",
    "\\label{H1Expectation} \\tag{7}\n",
    "\\end{equation}\n",
    "$$"
   ]
  },
  {
   "cell_type": "markdown",
   "id": "15e293ba",
   "metadata": {
    "editable": true
   },
   "source": [
    "We introduce the following shorthand for the above integral"
   ]
  },
  {
   "cell_type": "markdown",
   "id": "33609f6a",
   "metadata": {
    "editable": true
   },
   "source": [
    "$$\n",
    "\\langle \\mu | \\hat{h}_0 | \\mu \\rangle = \\int \\psi_{\\mu}^*(x)\\hat{h}_0\\psi_{\\mu}(x)dx,\n",
    "$$"
   ]
  },
  {
   "cell_type": "markdown",
   "id": "75349d37",
   "metadata": {
    "editable": true
   },
   "source": [
    "and rewrite Eq. ([7](#H1Expectation)) as"
   ]
  },
  {
   "cell_type": "markdown",
   "id": "0c1fcedd",
   "metadata": {
    "editable": true
   },
   "source": [
    "<!-- Equation labels as ordinary links -->\n",
    "<div id=\"H1Expectation1\"></div>\n",
    "\n",
    "$$\n",
    "\\begin{equation}\n",
    "  \\int \\Phi^*\\hat{H}_0\\Phi  d\\tau\n",
    "  = \\sum_{\\mu=1}^N \\langle \\mu | \\hat{h}_0 | \\mu \\rangle.\n",
    "\\label{H1Expectation1} \\tag{8}\n",
    "\\end{equation}\n",
    "$$"
   ]
  },
  {
   "cell_type": "markdown",
   "id": "f544826d",
   "metadata": {
    "editable": true
   },
   "source": [
    "The expectation value of the two-body part of the Hamiltonian is obtained in a\n",
    "similar manner. We have"
   ]
  },
  {
   "cell_type": "markdown",
   "id": "e233153c",
   "metadata": {
    "editable": true
   },
   "source": [
    "$$\n",
    "\\int \\Phi^*\\hat{H}_I\\Phi d\\mathbf{\\tau} \n",
    "  = N! \\int \\Phi_H^*\\hat{A}\\hat{H}_I\\hat{A}\\Phi_H d\\mathbf{\\tau},\n",
    "$$"
   ]
  },
  {
   "cell_type": "markdown",
   "id": "22ab977b",
   "metadata": {
    "editable": true
   },
   "source": [
    "which reduces to"
   ]
  },
  {
   "cell_type": "markdown",
   "id": "26fc6436",
   "metadata": {
    "editable": true
   },
   "source": [
    "$$\n",
    "\\int \\Phi^*\\hat{H}_I\\Phi d\\mathbf{\\tau} \n",
    "  = \\sum_{i\\le j=1}^N \\sum_{p} (-)^p\\int \n",
    "  \\Phi_H^*\\hat{v}(r_{ij})\\hat{P}\\Phi_H d\\mathbf{\\tau},\n",
    "$$"
   ]
  },
  {
   "cell_type": "markdown",
   "id": "78ef54a9",
   "metadata": {
    "editable": true
   },
   "source": [
    "by following the same arguments as for the one-body\n",
    "Hamiltonian. \n",
    "\n",
    "Because of the dependence on the inter-particle distance $r_{ij}$,  permutations of\n",
    "any two particles no longer vanish, and we get"
   ]
  },
  {
   "cell_type": "markdown",
   "id": "278f3072",
   "metadata": {
    "editable": true
   },
   "source": [
    "$$\n",
    "\\int \\Phi^*\\hat{H}_I\\Phi d\\mathbf{\\tau} \n",
    "  = \\sum_{i < j=1}^N \\int  \n",
    "  \\Phi_H^*\\hat{v}(r_{ij})(1-P_{ij})\\Phi_H d\\mathbf{\\tau}.\n",
    "$$"
   ]
  },
  {
   "cell_type": "markdown",
   "id": "44d5610c",
   "metadata": {
    "editable": true
   },
   "source": [
    "where $P_{ij}$ is the permutation operator that interchanges\n",
    "particle $i$ and particle $j$. Again we use the assumption that the single-particle wave functions\n",
    "are orthogonal. \n",
    "\n",
    "We obtain"
   ]
  },
  {
   "cell_type": "markdown",
   "id": "df097dd9",
   "metadata": {
    "editable": true
   },
   "source": [
    "<!-- Equation labels as ordinary links -->\n",
    "<div id=\"_auto2\"></div>\n",
    "\n",
    "$$\n",
    "\\begin{equation}\n",
    "  \\int \\Phi^*\\hat{H}_I\\Phi d\\mathbf{\\tau} \n",
    "  = \\frac{1}{2}\\sum_{\\mu=1}^N\\sum_{\\nu=1}^N\n",
    "    \\left[ \\int \\psi_{\\mu}^*(x_i)\\psi_{\\nu}^*(x_j)\\hat{v}(r_{ij})\\psi_{\\mu}(x_i)\\psi_{\\nu}(x_j)\n",
    "    dx_idx_j \\right.\n",
    "\\label{_auto2} \\tag{9}\n",
    "\\end{equation}\n",
    "$$"
   ]
  },
  {
   "cell_type": "markdown",
   "id": "3c1b7612",
   "metadata": {
    "editable": true
   },
   "source": [
    "<!-- Equation labels as ordinary links -->\n",
    "<div id=\"H2Expectation\"></div>\n",
    "\n",
    "$$\n",
    "\\begin{equation} \n",
    "  \\left.\n",
    "  - \\int \\psi_{\\mu}^*(x_i)\\psi_{\\nu}^*(x_j)\n",
    "  \\hat{v}(r_{ij})\\psi_{\\nu}(x_i)\\psi_{\\mu}(x_j)\n",
    "  dx_idx_j\n",
    "  \\right]. \\label{H2Expectation} \\tag{10}\n",
    "\\end{equation}\n",
    "$$"
   ]
  },
  {
   "cell_type": "markdown",
   "id": "e4d33da6",
   "metadata": {
    "editable": true
   },
   "source": [
    "The first term is the so-called direct term. It is frequently also called the  Hartree term, \n",
    "while the second is due to the Pauli principle and is called\n",
    "the exchange term or just the Fock term.\n",
    "The factor  $1/2$ is introduced because we now run over\n",
    "all pairs twice. \n",
    "\n",
    "The last equation allows us to  introduce some further definitions.  \n",
    "The single-particle wave functions $\\psi_{\\mu}(x)$, defined by the quantum numbers $\\mu$ and $x$\n",
    "are defined as the overlap"
   ]
  },
  {
   "cell_type": "markdown",
   "id": "17fc1155",
   "metadata": {
    "editable": true
   },
   "source": [
    "$$\n",
    "\\psi_{\\alpha}(x)  = \\langle x | \\alpha \\rangle .\n",
    "$$"
   ]
  },
  {
   "cell_type": "markdown",
   "id": "2d7ef996",
   "metadata": {
    "editable": true
   },
   "source": [
    "We introduce the following shorthands for the above two integrals"
   ]
  },
  {
   "cell_type": "markdown",
   "id": "006739f6",
   "metadata": {
    "editable": true
   },
   "source": [
    "$$\n",
    "\\langle \\mu\\nu|\\hat{v}|\\mu\\nu\\rangle =  \\int \\psi_{\\mu}^*(x_i)\\psi_{\\nu}^*(x_j)\\hat{v}(r_{ij})\\psi_{\\mu}(x_i)\\psi_{\\nu}(x_j)\n",
    "    dx_idx_j,\n",
    "$$"
   ]
  },
  {
   "cell_type": "markdown",
   "id": "f629667a",
   "metadata": {
    "editable": true
   },
   "source": [
    "and"
   ]
  },
  {
   "cell_type": "markdown",
   "id": "29a7fb62",
   "metadata": {
    "editable": true
   },
   "source": [
    "$$\n",
    "\\langle \\mu\\nu|\\hat{v}|\\nu\\mu\\rangle = \\int \\psi_{\\mu}^*(x_i)\\psi_{\\nu}^*(x_j)\n",
    "  \\hat{v}(r_{ij})\\psi_{\\nu}(x_i)\\psi_{\\mu}(x_j)\n",
    "  dx_idx_j.\n",
    "$$"
   ]
  },
  {
   "cell_type": "markdown",
   "id": "8e75065f",
   "metadata": {
    "editable": true
   },
   "source": [
    "## Preparing for later studies: varying the coefficients of a wave function expansion and orthogonal transformations\n",
    "\n",
    "It is common to  expand the single-particle functions in a known basis  and vary the coefficients, \n",
    "that is, the new single-particle wave function is written as a linear expansion\n",
    "in terms of a fixed chosen orthogonal basis (for example the well-known harmonic oscillator functions or the hydrogen-like functions etc).\n",
    "We define our new single-particle basis (this is a normal approach for Hartree-Fock theory) by performing a unitary transformation \n",
    "on our previous basis (labelled with greek indices) as"
   ]
  },
  {
   "cell_type": "markdown",
   "id": "3136d29a",
   "metadata": {
    "editable": true
   },
   "source": [
    "<!-- Equation labels as ordinary links -->\n",
    "<div id=\"eq:newbasis\"></div>\n",
    "\n",
    "$$\n",
    "\\begin{equation}\n",
    "\\psi_p^{new}  = \\sum_{\\lambda} C_{p\\lambda}\\phi_{\\lambda}. \\label{eq:newbasis} \\tag{11}\n",
    "\\end{equation}\n",
    "$$"
   ]
  },
  {
   "cell_type": "markdown",
   "id": "40858b41",
   "metadata": {
    "editable": true
   },
   "source": [
    "In this case we vary the coefficients $C_{p\\lambda}$. If the basis has infinitely many solutions, we need\n",
    "to truncate the above sum.  We assume that the basis $\\phi_{\\lambda}$ is orthogonal.\n",
    "\n",
    "It is normal to choose a single-particle basis defined as the eigenfunctions\n",
    "of parts of the full Hamiltonian. The typical situation consists of the solutions of the one-body part of the Hamiltonian, that is we have"
   ]
  },
  {
   "cell_type": "markdown",
   "id": "bdf46298",
   "metadata": {
    "editable": true
   },
   "source": [
    "$$\n",
    "\\hat{h}_0\\phi_{\\lambda}=\\epsilon_{\\lambda}\\phi_{\\lambda}.\n",
    "$$"
   ]
  },
  {
   "cell_type": "markdown",
   "id": "31b2a31c",
   "metadata": {
    "editable": true
   },
   "source": [
    "The single-particle wave functions $\\phi_{\\lambda}(\\mathbf{r})$, defined by the quantum numbers $\\lambda$ and $\\mathbf{r}$\n",
    "are defined as the overlap"
   ]
  },
  {
   "cell_type": "markdown",
   "id": "90162d54",
   "metadata": {
    "editable": true
   },
   "source": [
    "$$\n",
    "\\phi_{\\lambda}(\\mathbf{r})  = \\langle \\mathbf{r} | \\lambda \\rangle .\n",
    "$$"
   ]
  },
  {
   "cell_type": "markdown",
   "id": "44115cf3",
   "metadata": {
    "editable": true
   },
   "source": [
    "In deriving the Hartree-Fock equations, we  will expand the single-particle functions in a known basis  and vary the coefficients, \n",
    "that is, the new single-particle wave function is written as a linear expansion\n",
    "in terms of a fixed chosen orthogonal basis (for example the well-known harmonic oscillator functions or the hydrogen-like functions etc).\n",
    "\n",
    "We stated that a unitary transformation keeps the orthogonality. To see this consider first a basis of vectors $\\mathbf{v}_i$,"
   ]
  },
  {
   "cell_type": "markdown",
   "id": "be3be69e",
   "metadata": {
    "editable": true
   },
   "source": [
    "$$\n",
    "\\mathbf{v}_i = \\begin{bmatrix} v_{i1} \\\\ \\dots \\\\ \\dots \\\\v_{in} \\end{bmatrix}\n",
    "$$"
   ]
  },
  {
   "cell_type": "markdown",
   "id": "f752b498",
   "metadata": {
    "editable": true
   },
   "source": [
    "We assume that the basis is orthogonal, that is"
   ]
  },
  {
   "cell_type": "markdown",
   "id": "21157cb9",
   "metadata": {
    "editable": true
   },
   "source": [
    "$$\n",
    "\\mathbf{v}_j^T\\mathbf{v}_i = \\delta_{ij}.\n",
    "$$"
   ]
  },
  {
   "cell_type": "markdown",
   "id": "5cc0ddf9",
   "metadata": {
    "editable": true
   },
   "source": [
    "An orthogonal or unitary transformation"
   ]
  },
  {
   "cell_type": "markdown",
   "id": "98598147",
   "metadata": {
    "editable": true
   },
   "source": [
    "$$\n",
    "\\mathbf{w}_i=\\mathbf{U}\\mathbf{v}_i,\n",
    "$$"
   ]
  },
  {
   "cell_type": "markdown",
   "id": "1bd7aade",
   "metadata": {
    "editable": true
   },
   "source": [
    "preserves the dot product and orthogonality since"
   ]
  },
  {
   "cell_type": "markdown",
   "id": "16d091a4",
   "metadata": {
    "editable": true
   },
   "source": [
    "$$\n",
    "\\mathbf{w}_j^T\\mathbf{w}_i=(\\mathbf{U}\\mathbf{v}_j)^T\\mathbf{U}\\mathbf{v}_i=\\mathbf{v}_j^T\\mathbf{U}^T\\mathbf{U}\\mathbf{v}_i= \\mathbf{v}_j^T\\mathbf{v}_i = \\delta_{ij}.\n",
    "$$"
   ]
  },
  {
   "cell_type": "markdown",
   "id": "49d39f63",
   "metadata": {
    "editable": true
   },
   "source": [
    "This means that if the coefficients $C_{p\\lambda}$ belong to a unitary or orthogonal trasformation (using the Dirac bra-ket notation)"
   ]
  },
  {
   "cell_type": "markdown",
   "id": "d18de8e6",
   "metadata": {
    "editable": true
   },
   "source": [
    "$$\n",
    "\\vert p\\rangle  = \\sum_{\\lambda} C_{p\\lambda}\\vert\\lambda\\rangle,\n",
    "$$"
   ]
  },
  {
   "cell_type": "markdown",
   "id": "82324ba2",
   "metadata": {
    "editable": true
   },
   "source": [
    "orthogonality is preserved, that is $\\langle \\alpha \\vert \\beta\\rangle = \\delta_{\\alpha\\beta}$\n",
    "and $\\langle p \\vert q\\rangle = \\delta_{pq}$. \n",
    "\n",
    "This propertry is extremely useful when we build up a basis of many-body Stater determinant based states. \n",
    "\n",
    "**Note also that although a basis $\\vert \\alpha\\rangle$ contains an infinity of states, for practical calculations we have always to make some truncations.** \n",
    "\n",
    "Before we develop for example the Hartree-Fock equations, there is another very useful property of determinants that we will use both in connection with Hartree-Fock calculations and later shell-model calculations.  \n",
    "\n",
    "Consider the following determinant"
   ]
  },
  {
   "cell_type": "markdown",
   "id": "ad6b6fa5",
   "metadata": {
    "editable": true
   },
   "source": [
    "$$\n",
    "\\left| \\begin{array}{cc} \\alpha_1b_{11}+\\alpha_2sb_{12}& a_{12}\\\\\n",
    "                         \\alpha_1b_{21}+\\alpha_2b_{22}&a_{22}\\end{array} \\right|=\\alpha_1\\left|\\begin{array}{cc} b_{11}& a_{12}\\\\\n",
    "                         b_{21}&a_{22}\\end{array} \\right|+\\alpha_2\\left| \\begin{array}{cc} b_{12}& a_{12}\\\\b_{22}&a_{22}\\end{array} \\right|\n",
    "$$"
   ]
  },
  {
   "cell_type": "markdown",
   "id": "b2bc398b",
   "metadata": {
    "editable": true
   },
   "source": [
    "We can generalize this to  an $n\\times n$ matrix and have"
   ]
  },
  {
   "cell_type": "markdown",
   "id": "0b7369e2",
   "metadata": {
    "editable": true
   },
   "source": [
    "$$\n",
    "\\left| \\begin{array}{cccccc} a_{11}& a_{12} & \\dots & \\sum_{k=1}^n c_k b_{1k} &\\dots & a_{1n}\\\\\n",
    "a_{21}& a_{22} & \\dots & \\sum_{k=1}^n c_k b_{2k} &\\dots & a_{2n}\\\\\n",
    "\\dots & \\dots & \\dots & \\dots & \\dots & \\dots \\\\\n",
    "\\dots & \\dots & \\dots & \\dots & \\dots & \\dots \\\\\n",
    "a_{n1}& a_{n2} & \\dots & \\sum_{k=1}^n c_k b_{nk} &\\dots & a_{nn}\\end{array} \\right|=\n",
    "\\sum_{k=1}^n c_k\\left| \\begin{array}{cccccc} a_{11}& a_{12} & \\dots &  b_{1k} &\\dots & a_{1n}\\\\\n",
    "a_{21}& a_{22} & \\dots &  b_{2k} &\\dots & a_{2n}\\\\\n",
    "\\dots & \\dots & \\dots & \\dots & \\dots & \\dots\\\\\n",
    "\\dots & \\dots & \\dots & \\dots & \\dots & \\dots\\\\\n",
    "a_{n1}& a_{n2} & \\dots &  b_{nk} &\\dots & a_{nn}\\end{array} \\right| .\n",
    "$$"
   ]
  },
  {
   "cell_type": "markdown",
   "id": "96bab220",
   "metadata": {
    "editable": true
   },
   "source": [
    "This is a property we will use in our Hartree-Fock discussions. \n",
    "\n",
    "We can generalize the previous results, now \n",
    "with all elements $a_{ij}$  being given as functions of \n",
    "linear combinations  of various coefficients $c$ and elements $b_{ij}$,"
   ]
  },
  {
   "cell_type": "markdown",
   "id": "773c4ae4",
   "metadata": {
    "editable": true
   },
   "source": [
    "$$\n",
    "\\left| \\begin{array}{cccccc} \\sum_{k=1}^n b_{1k}c_{k1}& \\sum_{k=1}^n b_{1k}c_{k2} & \\dots & \\sum_{k=1}^n b_{1k}c_{kj}  &\\dots & \\sum_{k=1}^n b_{1k}c_{kn}\\\\\n",
    "\\sum_{k=1}^n b_{2k}c_{k1}& \\sum_{k=1}^n b_{2k}c_{k2} & \\dots & \\sum_{k=1}^n b_{2k}c_{kj} &\\dots & \\sum_{k=1}^n b_{2k}c_{kn}\\\\\n",
    "\\dots & \\dots & \\dots & \\dots & \\dots & \\dots \\\\\n",
    "\\dots & \\dots & \\dots & \\dots & \\dots &\\dots \\\\\n",
    "\\sum_{k=1}^n b_{nk}c_{k1}& \\sum_{k=1}^n b_{nk}c_{k2} & \\dots & \\sum_{k=1}^n b_{nk}c_{kj} &\\dots & \\sum_{k=1}^n b_{nk}c_{kn}\\end{array} \\right|=det(\\mathbf{C})det(\\mathbf{B}),\n",
    "$$"
   ]
  },
  {
   "cell_type": "markdown",
   "id": "dbf56e9d",
   "metadata": {
    "editable": true
   },
   "source": [
    "where $det(\\mathbf{C})$ and $det(\\mathbf{B})$ are the determinants of $n\\times n$ matrices\n",
    "with elements $c_{ij}$ and $b_{ij}$ respectively.  \n",
    "This is a property we will use in our Hartree-Fock discussions. Convince yourself about the correctness of the above expression by setting $n=2$. \n",
    "\n",
    "With our definition of the new basis in terms of an orthogonal basis we have"
   ]
  },
  {
   "cell_type": "markdown",
   "id": "fd3cbf14",
   "metadata": {
    "editable": true
   },
   "source": [
    "$$\n",
    "\\psi_p(x)  = \\sum_{\\lambda} C_{p\\lambda}\\phi_{\\lambda}(x).\n",
    "$$"
   ]
  },
  {
   "cell_type": "markdown",
   "id": "2391e4fd",
   "metadata": {
    "editable": true
   },
   "source": [
    "If the coefficients $C_{p\\lambda}$ belong to an orthogonal or unitary matrix, the new basis\n",
    "is also orthogonal. \n",
    "Our Slater determinant in the new basis $\\psi_p(x)$ is written as"
   ]
  },
  {
   "cell_type": "markdown",
   "id": "fddf0baf",
   "metadata": {
    "editable": true
   },
   "source": [
    "$$\n",
    "\\frac{1}{\\sqrt{A!}}\n",
    "\\left| \\begin{array}{ccccc} \\psi_{p}(x_1)& \\psi_{p}(x_2)& \\dots & \\dots & \\psi_{p}(x_A)\\\\\n",
    "                            \\psi_{q}(x_1)&\\psi_{q}(x_2)& \\dots & \\dots & \\psi_{q}(x_A)\\\\  \n",
    "                            \\dots & \\dots & \\dots & \\dots & \\dots \\\\\n",
    "                            \\dots & \\dots & \\dots & \\dots & \\dots \\\\\n",
    "                     \\psi_{t}(x_1)&\\psi_{t}(x_2)& \\dots & \\dots & \\psi_{t}(x_A)\\end{array} \\right|=\\frac{1}{\\sqrt{A!}}\n",
    "\\left| \\begin{array}{ccccc} \\sum_{\\lambda} C_{p\\lambda}\\phi_{\\lambda}(x_1)& \\sum_{\\lambda} C_{p\\lambda}\\phi_{\\lambda}(x_2)& \\dots & \\dots & \\sum_{\\lambda} C_{p\\lambda}\\phi_{\\lambda}(x_A)\\\\\n",
    "                            \\sum_{\\lambda} C_{q\\lambda}\\phi_{\\lambda}(x_1)&\\sum_{\\lambda} C_{q\\lambda}\\phi_{\\lambda}(x_2)& \\dots & \\dots & \\sum_{\\lambda} C_{q\\lambda}\\phi_{\\lambda}(x_A)\\\\  \n",
    "                            \\dots & \\dots & \\dots & \\dots & \\dots \\\\\n",
    "                            \\dots & \\dots & \\dots & \\dots & \\dots \\\\\n",
    "                     \\sum_{\\lambda} C_{t\\lambda}\\phi_{\\lambda}(x_1)&\\sum_{\\lambda} C_{t\\lambda}\\phi_{\\lambda}(x_2)& \\dots & \\dots & \\sum_{\\lambda} C_{t\\lambda}\\phi_{\\lambda}(x_A)\\end{array} \\right|,\n",
    "$$"
   ]
  },
  {
   "cell_type": "markdown",
   "id": "a2a9303c",
   "metadata": {
    "editable": true
   },
   "source": [
    "which is nothing but $det(\\mathbf{C})det(\\Phi)$, with $det(\\Phi)$ being the determinant given by the basis functions $\\phi_{\\lambda}(x)$. \n",
    "\n",
    "In our discussions hereafter we will use our definitions of single-particle states above and below the Fermi ($F$) level given by the labels\n",
    "$ijkl\\dots \\le F$ for so-called single-hole states and $abcd\\dots > F$ for so-called particle states.\n",
    "For general single-particle states we employ the labels $pqrs\\dots$. \n",
    "\n",
    "The energy functional is"
   ]
  },
  {
   "cell_type": "markdown",
   "id": "e077d670",
   "metadata": {
    "editable": true
   },
   "source": [
    "$$\n",
    "E[\\Phi] \n",
    "  = \\sum_{\\mu=1}^N \\langle \\mu | h | \\mu \\rangle +\n",
    "  \\frac{1}{2}\\sum_{{\\mu}=1}^N\\sum_{{\\nu}=1}^N \\langle \\mu\\nu|\\hat{v}|\\mu\\nu\\rangle_{AS},\n",
    "$$"
   ]
  },
  {
   "cell_type": "markdown",
   "id": "f1a888fc",
   "metadata": {
    "editable": true
   },
   "source": [
    "we found the expression for the energy functional in terms of the basis function $\\phi_{\\lambda}(\\mathbf{r})$. We then  varied the above energy functional with respect to the basis functions $|\\mu \\rangle$. \n",
    "Now we are interested in defining a new basis defined in terms of\n",
    "a chosen basis as defined in Eq. ([11](#eq:newbasis)). We can then rewrite the energy functional as"
   ]
  },
  {
   "cell_type": "markdown",
   "id": "be8071af",
   "metadata": {
    "editable": true
   },
   "source": [
    "<!-- Equation labels as ordinary links -->\n",
    "<div id=\"FunctionalEPhi2\"></div>\n",
    "\n",
    "$$\n",
    "\\begin{equation}\n",
    "  E[\\Phi^{New}] \n",
    "  = \\sum_{i=1}^N \\langle i | h | i \\rangle +\n",
    "  \\frac{1}{2}\\sum_{ij=1}^N\\langle ij|\\hat{v}|ij\\rangle_{AS}, \\label{FunctionalEPhi2} \\tag{12}\n",
    "\\end{equation}\n",
    "$$"
   ]
  },
  {
   "cell_type": "markdown",
   "id": "deaff23b",
   "metadata": {
    "editable": true
   },
   "source": [
    "where $\\Phi^{New}$ is the new Slater determinant defined by the new basis of Eq. ([11](#eq:newbasis)). \n",
    "\n",
    "Using Eq. ([11](#eq:newbasis)) we can rewrite Eq. ([12](#FunctionalEPhi2)) as"
   ]
  },
  {
   "cell_type": "markdown",
   "id": "51f0a8f0",
   "metadata": {
    "editable": true
   },
   "source": [
    "<!-- Equation labels as ordinary links -->\n",
    "<div id=\"FunctionalEPhi3\"></div>\n",
    "\n",
    "$$\n",
    "\\begin{equation}\n",
    "  E[\\Psi] \n",
    "  = \\sum_{i=1}^N \\sum_{\\alpha\\beta} C^*_{i\\alpha}C_{i\\beta}\\langle \\alpha | h | \\beta \\rangle +\n",
    "  \\frac{1}{2}\\sum_{ij=1}^N\\sum_{{\\alpha\\beta\\gamma\\delta}} C^*_{i\\alpha}C^*_{j\\beta}C_{i\\gamma}C_{j\\delta}\\langle \\alpha\\beta|\\hat{v}|\\gamma\\delta\\rangle_{AS}. \\label{FunctionalEPhi3} \\tag{13}\n",
    "\\end{equation}\n",
    "$$"
   ]
  },
  {
   "cell_type": "markdown",
   "id": "8db2271f",
   "metadata": {
    "editable": true
   },
   "source": [
    "## Simple  Hamiltonian models\n",
    "\n",
    "In order to study get started with coding, we will study two simple Hamiltonian systems, one which we can use for a single qubit systems and one which has as basis functions a two-qubit system. These two simple Hamiltonians exhibit also something which is called level crossing, a feature which we will use in later studies of entanglement.\n",
    "\n",
    "We study first a simple two-level system. Thereafter we\n",
    "extend our model to a four-level system which can be\n",
    "interpreted as composed of two separate (not necesseraly identical)\n",
    "subsystems.\n",
    "\n",
    "We let our hamiltonian depend linearly on a strength parameter $z$"
   ]
  },
  {
   "cell_type": "markdown",
   "id": "8cf504dd",
   "metadata": {
    "editable": true
   },
   "source": [
    "$$\n",
    "H=H_0+\\lambda H_\\mathrm{I},\n",
    "$$"
   ]
  },
  {
   "cell_type": "markdown",
   "id": "86681814",
   "metadata": {
    "editable": true
   },
   "source": [
    "with $\\lambda \\in [0,1]$, where the limits $\\lambda=0$ and $\\lambda=1$\n",
    "represent the non-interacting (or unperturbed) and fully interacting\n",
    "system, respectively.  The model is an eigenvalue problem with only\n",
    "two available states, which we label $\\vert 0\\rangle$ and $\\vert\n",
    "1\\rangle$, respectively. Below we will let state $\\vert 0 \\rangle$\n",
    "represent the lowest state (often referred to as model-space state)\n",
    "with its pertinent eigenvalue and eigenvector whereas state $\\vert 1\\rangle$ represents the eigenvalue of\n",
    "the excluded space.  The non-interacting solutions to our problem are"
   ]
  },
  {
   "cell_type": "markdown",
   "id": "404293a6",
   "metadata": {
    "editable": true
   },
   "source": [
    "<!-- Equation labels as ordinary links -->\n",
    "<div id=\"_auto3\"></div>\n",
    "\n",
    "$$\n",
    "\\begin{equation}\n",
    "       H_0\\vert 0 \\rangle =\\epsilon_0\\vert 0 \\rangle,\n",
    "\\label{_auto3} \\tag{14}\n",
    "\\end{equation}\n",
    "$$"
   ]
  },
  {
   "cell_type": "markdown",
   "id": "4e89f12e",
   "metadata": {
    "editable": true
   },
   "source": [
    "and"
   ]
  },
  {
   "cell_type": "markdown",
   "id": "aa55f3b3",
   "metadata": {
    "editable": true
   },
   "source": [
    "<!-- Equation labels as ordinary links -->\n",
    "<div id=\"_auto4\"></div>\n",
    "\n",
    "$$\n",
    "\\begin{equation}\n",
    "       H_0\\vert 1\\rangle =\\epsilon_1\\vert 1\\rangle,\n",
    "\\label{_auto4} \\tag{15}\n",
    "\\end{equation}\n",
    "$$"
   ]
  },
  {
   "cell_type": "markdown",
   "id": "ba7afe21",
   "metadata": {
    "editable": true
   },
   "source": [
    "with $\\epsilon_0 < \\epsilon_1$. We label the off-diagonal matrix\n",
    "elements $X$, while $X_0=\\langle 0 \\vert H_I\\vert 0 \\rangle$ and\n",
    "$X_1=\\langle 1 \\vert H_1\\vert 1 \\rangle$.  The exact eigenvalue\n",
    "problem"
   ]
  },
  {
   "cell_type": "markdown",
   "id": "ed50a773",
   "metadata": {
    "editable": true
   },
   "source": [
    "<!-- Equation labels as ordinary links -->\n",
    "<div id=\"_auto5\"></div>\n",
    "\n",
    "$$\n",
    "\\begin{equation}\n",
    "\\left(\\begin{array}{cc}\\epsilon_0+\\lambda X_0 &\\lambda X \\\\\n",
    "zX &\\epsilon_1+\\lambda X_1 \\end{array}\\right)\n",
    "\\label{_auto5} \\tag{16}\n",
    "\\end{equation}\n",
    "$$"
   ]
  },
  {
   "cell_type": "markdown",
   "id": "aee27c55",
   "metadata": {
    "editable": true
   },
   "source": [
    "yields"
   ]
  },
  {
   "cell_type": "markdown",
   "id": "eb44061b",
   "metadata": {
    "editable": true
   },
   "source": [
    "<!-- Equation labels as ordinary links -->\n",
    "<div id=\"eq:exact\"></div>\n",
    "\n",
    "$$\n",
    "\\begin{eqnarray}\n",
    "\\label{eq:exact} \\tag{17}\n",
    "     E(\\lambda)=&\\frac{1}{2}\\left\\{\\epsilon_0 +\\epsilon_1 +\\lambda X_0\n",
    "     +\\lambda X_1 \\pm \\left(\n",
    "     \\epsilon_1 -\\epsilon_0 +\\lambda X_1-\\lambda X_0\\right) \\right. \\\\ \\nonumber\n",
    "     & \\left. \\times\\sqrt{1+\\frac{4\\lambda^2X^2}{\\left(\n",
    "     \\epsilon_1 -\\epsilon_0 +\\lambda X_1-\\lambda X_0\\right)^2}}\n",
    "     \\right\\}.\n",
    "\\end{eqnarray}\n",
    "$$"
   ]
  },
  {
   "cell_type": "markdown",
   "id": "c41dc220",
   "metadata": {
    "editable": true
   },
   "source": [
    "In the results below we set the parameters $\\epsilon_0=0$,\n",
    "$\\epsilon_1=4$, $X_0=-X_1=3$ and $X=0.2$.  This eigenvalue problem can\n",
    "easily be rewritten in terms of the standard Pauli matrices.  The\n",
    "non-interacting solutions represent our computational basis.\n",
    "Pertinent to our choice of parameters, is that at $\\lambda\\geq 2/3$,\n",
    "the lowest eigenstate is dominated by $\\vert 1\\rangle$ while the upper\n",
    "is $\\vert 0 \\rangle$. At $\\lambda=1$ the $\\vert 0 \\rangle$ mixing of\n",
    "the lowest eigenvalue is $1\\%$ while for $\\lambda\\leq 2/3$ we have a\n",
    "$\\vert 0 \\rangle$ component of more than $90\\%$.  The character of the\n",
    "eigenvectors has therefore been interchanged when passing $z=2/3$. The\n",
    "value of the parameter $X$ represents the strength of the coupling\n",
    "between the model space and the excluded space.  The following code\n",
    "computes and plots the eigenvalues."
   ]
  },
  {
   "cell_type": "code",
   "execution_count": 1,
   "id": "a6d5cc3f",
   "metadata": {
    "collapsed": false,
    "editable": true
   },
   "outputs": [],
   "source": [
    "%matplotlib inline\n",
    "\n",
    "%matplotlib inline\n",
    "\n",
    "from  matplotlib import pyplot as plt\n",
    "import numpy as np\n",
    "dim = 2\n",
    "#Setting up a tridiagonal matrix and finding eigenvectors and eigenvalues\n",
    "Hamiltonian = np.zeros((dim,dim))\n",
    "#number of lambda values\n",
    "n = 100\n",
    "lmbd = np.linspace(0.,1.0,n)\n",
    "e0 = 0.0\n",
    "e1 = 4.0\n",
    "X = 0.20\n",
    "Xp = 3.0\n",
    "Eigenvalue = np.zeros((dim,n))\n",
    "for i in range(n): \n",
    "    Hamiltonian[0,0] = lmbd[i]*Xp+e0\n",
    "    Hamiltonian[0,1] = lmbd[i]*X\n",
    "    Hamiltonian[1,0] = Hamiltonian[0,1]\n",
    "    Hamiltonian[1,1] = e1+lmbd[i]*(-Xp)\n",
    "    # diagonalize and obtain eigenvalues, not necessarily sorted\n",
    "    EigValues, EigVectors = np.linalg.eig(Hamiltonian)\n",
    "    # sort eigenvectors and eigenvalues\n",
    "    permute = EigValues.argsort()\n",
    "    EigValues = EigValues[permute]\n",
    "    EigVectors = EigVectors[:,permute]\n",
    "    Eigenvalue[0,i] = EigValues[0]\n",
    "    Eigenvalue[1,i] = EigValues[1]\n",
    "plt.plot(lmbd, Eigenvalue[0,:] ,'b-',lmbd, Eigenvalue[1,:],'g-',)\n",
    "plt.xlabel('$\\lambda$')\n",
    "plt.ylabel('Eigenvalues')\n",
    "plt.show()"
   ]
  },
  {
   "cell_type": "markdown",
   "id": "d9d0a089",
   "metadata": {
    "editable": true
   },
   "source": [
    "This model exhibits a simple level crossing where the\n",
    "composition of the final interacting states change character as we\n",
    "gradually switch on the interaction.\n",
    "\n",
    "We extend the simple two-level system to a four level\n",
    "system. This system can be thought of as composed of two subsystems\n",
    "$A$ and $B$. Each subsystem has computational basis states"
   ]
  },
  {
   "cell_type": "markdown",
   "id": "117b9582",
   "metadata": {
    "editable": true
   },
   "source": [
    "$$\n",
    "\\vert 0\\rangle_{\\mathrm{A,B}}=\\begin{bmatrix} 1 & 0\\end{bmatrix}^T \\hspace{1cm} \\vert 1\\rangle_{\\mathrm{A,B}}=\\begin{bmatrix} 0 & 1\\end{bmatrix}^T.\n",
    "$$"
   ]
  },
  {
   "cell_type": "markdown",
   "id": "f93359b8",
   "metadata": {
    "editable": true
   },
   "source": [
    "The subsystems could represent single particles or composite many-particle systems of a given symmetry.\n",
    "This leads to the many-body computational basis states"
   ]
  },
  {
   "cell_type": "markdown",
   "id": "0b0a4ce3",
   "metadata": {
    "editable": true
   },
   "source": [
    "$$\n",
    "\\vert 00\\rangle = \\vert 0\\rangle_{\\mathrm{A}}\\otimes \\vert 0\\rangle_{\\mathrm{B}}=\\begin{bmatrix} 1 & 0 & 0 &0\\end{bmatrix}^T,\n",
    "$$"
   ]
  },
  {
   "cell_type": "markdown",
   "id": "66b146d8",
   "metadata": {
    "editable": true
   },
   "source": [
    "and"
   ]
  },
  {
   "cell_type": "markdown",
   "id": "adfcc369",
   "metadata": {
    "editable": true
   },
   "source": [
    "$$\n",
    "\\vert 10\\rangle = \\vert 1\\rangle_{\\mathrm{A}}\\otimes \\vert 0\\rangle_{\\mathrm{B}}=\\begin{bmatrix} 0 & 1 & 0 &0\\end{bmatrix}^T,\n",
    "$$"
   ]
  },
  {
   "cell_type": "markdown",
   "id": "8946c256",
   "metadata": {
    "editable": true
   },
   "source": [
    "and"
   ]
  },
  {
   "cell_type": "markdown",
   "id": "86d0c75f",
   "metadata": {
    "editable": true
   },
   "source": [
    "$$\n",
    "\\vert 01\\rangle = \\vert 0\\rangle_{\\mathrm{A}}\\otimes \\vert 1\\rangle_{\\mathrm{B}}=\\begin{bmatrix} 0 & 0 & 1 &0\\end{bmatrix}^T,\n",
    "$$"
   ]
  },
  {
   "cell_type": "markdown",
   "id": "21a7778e",
   "metadata": {
    "editable": true
   },
   "source": [
    "and finally"
   ]
  },
  {
   "cell_type": "markdown",
   "id": "7ab19c44",
   "metadata": {
    "editable": true
   },
   "source": [
    "$$\n",
    "\\vert 11\\rangle = \\vert 1\\rangle_{\\mathrm{A}}\\otimes \\vert 1\\rangle_{\\mathrm{B}}=\\begin{bmatrix} 0 & 0 & 0 &1\\end{bmatrix}^T.\n",
    "$$"
   ]
  },
  {
   "cell_type": "markdown",
   "id": "c7ffcf99",
   "metadata": {
    "editable": true
   },
   "source": [
    "These computational basis states define also the eigenstates of the non-interacting  Hamiltonian"
   ]
  },
  {
   "cell_type": "markdown",
   "id": "3c31771f",
   "metadata": {
    "editable": true
   },
   "source": [
    "$$\n",
    "H_0\\vert 00 \\rangle = \\epsilon_{00}\\vert 00 \\rangle,\n",
    "$$"
   ]
  },
  {
   "cell_type": "markdown",
   "id": "05a8d836",
   "metadata": {
    "editable": true
   },
   "source": [
    "$$\n",
    "H_0\\vert 10 \\rangle = \\epsilon_{10}\\vert 10 \\rangle,\n",
    "$$"
   ]
  },
  {
   "cell_type": "markdown",
   "id": "e0d50678",
   "metadata": {
    "editable": true
   },
   "source": [
    "$$\n",
    "H_0\\vert 01 \\rangle = \\epsilon_{01}\\vert 01 \\rangle,\n",
    "$$"
   ]
  },
  {
   "cell_type": "markdown",
   "id": "38c37788",
   "metadata": {
    "editable": true
   },
   "source": [
    "and"
   ]
  },
  {
   "cell_type": "markdown",
   "id": "d5eb9062",
   "metadata": {
    "editable": true
   },
   "source": [
    "$$\n",
    "H_0\\vert 11 \\rangle = \\epsilon_{11}\\vert 11 \\rangle.\n",
    "$$"
   ]
  },
  {
   "cell_type": "markdown",
   "id": "962492a6",
   "metadata": {
    "editable": true
   },
   "source": [
    "The interacting part of the Hamiltonian $H_{\\mathrm{I}}$ is given by the tensor product of two $\\sigma_x$ and $\\sigma_z$  matrices, respectively, that is"
   ]
  },
  {
   "cell_type": "markdown",
   "id": "224eda2d",
   "metadata": {
    "editable": true
   },
   "source": [
    "$$\n",
    "H_{\\mathrm{I}}=H_x\\sigma_x\\otimes\\sigma_x+H_z\\sigma_z\\otimes\\sigma_z,\n",
    "$$"
   ]
  },
  {
   "cell_type": "markdown",
   "id": "0b56968a",
   "metadata": {
    "editable": true
   },
   "source": [
    "where $H_x$ and $H_z$ are interaction strength parameters. Our final Hamiltonian matrix is given by"
   ]
  },
  {
   "cell_type": "markdown",
   "id": "68a23685",
   "metadata": {
    "editable": true
   },
   "source": [
    "$$\n",
    "\\boldsymbol{H}=\\begin{bmatrix} \\epsilon_{00}+H_z & 0 & 0 & H_x \\\\\n",
    "                       0  & \\epsilon_{10}-H_z & H_x & 0 \\\\\n",
    "\t\t       0 & H_x & \\epsilon_{01}+H_z & 0 \\\\\n",
    "\t\t       H_x & 0 & 0 & \\epsilon_{11} -H_z \\end{bmatrix}.\n",
    "$$"
   ]
  },
  {
   "cell_type": "markdown",
   "id": "81b81404",
   "metadata": {
    "editable": true
   },
   "source": [
    "The four eigenstates of the above Hamiltonian matrix can in turn be used to\n",
    "define density matrices. As an example, the density matrix of the\n",
    "first eigenstate (lowest energy $E_0$) $\\Psi_0$ is"
   ]
  },
  {
   "cell_type": "markdown",
   "id": "d8ab8932",
   "metadata": {
    "editable": true
   },
   "source": [
    "$$\n",
    "\\rho_0=\\left(\\alpha_{00}\\vert 00 \\rangle\\langle 00\\vert+\\alpha_{10}\\vert 10 \\rangle\\langle 10\\vert+\\alpha_{01}\\vert 01 \\rangle\\langle 01\\vert+\\alpha_{11}\\vert 11 \\rangle\\langle 11\\vert\\right),\n",
    "$$"
   ]
  },
  {
   "cell_type": "markdown",
   "id": "ba60e521",
   "metadata": {
    "editable": true
   },
   "source": [
    "where the coefficients $\\alpha_{ij}$ are the eigenvector coefficients\n",
    "resulting from the solution of the above eigenvalue problem."
   ]
  },
  {
   "cell_type": "code",
   "execution_count": 2,
   "id": "1c61fe73",
   "metadata": {
    "collapsed": false,
    "editable": true
   },
   "outputs": [],
   "source": [
    "%matplotlib inline\n",
    "from  matplotlib import pyplot as plt\n",
    "import numpy as np\n",
    "from scipy.linalg import logm, expm\n",
    "def log2M(a): # base 2 matrix logarithm\n",
    "    return logm(a)/np.log(2.0)\n",
    "\n",
    "dim = 4\n",
    "Hamiltonian = np.zeros((dim,dim))\n",
    "#number of lambda values\n",
    "n = 40\n",
    "lmbd = np.linspace(0.0,1.0,n)\n",
    "Hx = 2.0\n",
    "Hz = 3.0\n",
    "# Non-diagonal part as sigma_x tensor product with sigma_x\n",
    "sx = np.matrix([[0,1],[1,0]])\n",
    "sx2 = Hx*np.kron(sx, sx)\n",
    "# Diagonal part as sigma_z tensor product with sigma_z\n",
    "sz = np.matrix([[1,0],[0,-1]])\n",
    "sz2 = Hz*np.kron(sz, sz)\n",
    "noninteracting = [0.0, 2.5, 6.5, 7.0]\n",
    "D = np.diag(noninteracting)\n",
    "Eigenvalue = np.zeros((dim,n))\n",
    "\n",
    "for i in range(n): \n",
    "    Hamiltonian = lmbd[i]*(sx2+sz2)+D\n",
    "    # diagonalize and obtain eigenvalues, not necessarily sorted\n",
    "    EigValues, EigVectors = np.linalg.eig(Hamiltonian)\n",
    "    # sort eigenvectors and eigenvalues\n",
    "    permute = EigValues.argsort()\n",
    "    EigValues = EigValues[permute]\n",
    "    EigVectors = EigVectors[:,permute]\n",
    "    # Compute density matrix for selected system state, here ground state\n",
    "    DensityMatrix = np.zeros((dim,dim))\n",
    "    DensityMatrix = np.outer(EigVectors[:,0],EigVectors[:,0])\n",
    "    # Plotting eigenvalues \n",
    "    Eigenvalue[0,i] = EigValues[0]\n",
    "    Eigenvalue[1,i] = EigValues[1]\n",
    "    Eigenvalue[2,i] = EigValues[2]\n",
    "    Eigenvalue[3,i] = EigValues[3]\n",
    "plt.plot(lmbd, Eigenvalue[0,:] ,'b-',lmbd, Eigenvalue[1,:],'g-',)\n",
    "plt.plot(lmbd, Eigenvalue[2,:] ,'r-',lmbd, Eigenvalue[3,:],'y-',)\n",
    "plt.xlabel('$\\lambda$')\n",
    "plt.ylabel('Eigenvalues')\n",
    "plt.show()"
   ]
  }
 ],
 "metadata": {},
 "nbformat": 4,
 "nbformat_minor": 5
}
