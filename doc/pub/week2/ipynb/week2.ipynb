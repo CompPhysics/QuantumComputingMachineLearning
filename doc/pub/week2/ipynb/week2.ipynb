{
 "cells": [
  {
   "cell_type": "markdown",
   "id": "d2fc7366",
   "metadata": {
    "editable": true
   },
   "source": [
    "<!-- HTML file automatically generated from DocOnce source (https://github.com/doconce/doconce/)\n",
    "doconce format html week2.do.txt --no_mako -->\n",
    "<!-- dom:TITLE: January 30-February 3,2023: Quantum Computing, Quantum Machine Learning and Quantum Information Theories -->"
   ]
  },
  {
   "cell_type": "markdown",
   "id": "feeace54",
   "metadata": {
    "editable": true
   },
   "source": [
    "# January 30-February 3,2023: Quantum Computing, Quantum Machine Learning and Quantum Information Theories\n",
    "**Morten Hjorth-Jensen**, Department of Physics, University of Oslo, Norway and Department of Physics and Astronomy and Facility for Rare Isotope Beams, Michigan State University, USA\n",
    "\n",
    "Date: **Jan 22, 2023**\n",
    "\n",
    "Copyright 1999-2023, Morten Hjorth-Jensen. Released under CC Attribution-NonCommercial 4.0 license"
   ]
  },
  {
   "cell_type": "markdown",
   "id": "12df5c92",
   "metadata": {
    "editable": true
   },
   "source": [
    "## Overview, Composite Systems and Tensor Products\n",
    "\n",
    "**Composite systems and Tensor products.**\n",
    "\n",
    "1. Tensor products of Hilbert Spaces and definition of Computational Basis\n",
    "\n",
    "2. Simple Hamiltonians and other operators\n",
    "\n",
    "3. States and Observables for Composite systems\n",
    "\n",
    "4. Quantum operations"
   ]
  }
 ],
 "metadata": {},
 "nbformat": 4,
 "nbformat_minor": 5
}
