{
 "cells": [
  {
   "cell_type": "markdown",
   "id": "f7f97ab6",
   "metadata": {},
   "source": [
    "<!-- HTML file automatically generated from DocOnce source (https://github.com/doconce/doconce/)\n",
    "doconce format html week2.do.txt --no_mako -->\n",
    "<!-- dom:TITLE: January 30-February 3,2023: Quantum Computing, Quantum Machine Learning and Quantum Information Theories -->"
   ]
  },
  {
   "cell_type": "markdown",
   "id": "369e9708",
   "metadata": {},
   "source": [
    "# January 30-February 3,2023: Quantum Computing, Quantum Machine Learning and Quantum Information Theories\n",
    "**Morten Hjorth-Jensen**, Department of Physics, University of Oslo, Norway and Department of Physics and Astronomy and Facility for Rare Isotope Beams, Michigan State University, USA\n",
    "\n",
    "Date: **Jan 29, 2023**\n",
    "\n",
    "Copyright 1999-2023, Morten Hjorth-Jensen. Released under CC Attribution-NonCommercial 4.0 license"
   ]
  },
  {
   "cell_type": "markdown",
   "id": "8d235360",
   "metadata": {},
   "source": [
    "## Overview, Composite Systems and Tensor Products\n",
    "\n",
    "**Composite systems and Tensor products.**\n",
    "\n",
    "1. Tensor products of Hilbert Spaces and definition of Computational Basis, partly repetition from last week\n",
    "\n",
    "2. Quantum operations and special matrices\n",
    "\n",
    "3. Simple Hamiltonians and other operators\n",
    "\n",
    "4. First exercise set"
   ]
  },
  {
   "cell_type": "markdown",
   "id": "40fe0b7e",
   "metadata": {},
   "source": [
    "## Summary from last week\n",
    "\n",
    "Last week we:\n",
    "1. defined the state vector and the associated notation\n",
    "\n",
    "2. introduced the inner product and showed how to calculate it in an orthonormal basis\n",
    "\n",
    "3. introduced outer products and projection operators\n",
    "\n",
    "4. introduced tensor products and showed how to contruct state vectors for multiple qubits\n",
    "\n",
    "We will repeat some of these topics today and discuss also \n",
    "1. quantum measurements are probabilistic\n",
    "\n",
    "2. the idea of wavefunction collapse as a result of measurement Next lecture we will:"
   ]
  },
  {
   "cell_type": "markdown",
   "id": "b4959596",
   "metadata": {},
   "source": [
    "## Definition of Computational basis states, repetition from last week\n",
    "\n",
    "<!-- to do: make figures with examples of basis states, hydrogen like systems, harmonic oscillator -->\n",
    "Assume we have a two-level system where the two states are represented\n",
    "by the state vectors $\\vert \\phi_0\\rangle$ and $\\vert \\phi_1\\rangle$,\n",
    "respectively. These states could represent selected or effective\n",
    "degrees of freedom for either a single particle (fermion or boson) or\n",
    "they could represent effective many-body degrees of freedon. In actual\n",
    "realizations of quantum computing we search often for candidate\n",
    "systems where we can use some low-lying states as computational basis\n",
    "states. But we are not limited to quantum computing. When doing\n",
    "many-body physics, due to the exploding degrees of freedom, we\n",
    "normally search after effective ways by which we can reduce the\n",
    "involved dimensionalities to a number of degrees of freedom we can\n",
    "handle by a given many-body method.\n",
    "\n",
    "<!-- to add === Examples: Hydrogen like states and the harmonic oscillator in one, two and three dimensions === -->\n",
    "\n",
    "We will now relabel the above two states as two orthogonal and normalized basis (ONB) states"
   ]
  },
  {
   "cell_type": "markdown",
   "id": "78930efe",
   "metadata": {},
   "source": [
    "$$\n",
    "\\vert \\phi_0 \\rangle = \\vert 0 \\rangle = \\begin{bmatrix} 1 \\\\ 0 \\end{bmatrix},\n",
    "$$"
   ]
  },
  {
   "cell_type": "markdown",
   "id": "91196269",
   "metadata": {},
   "source": [
    "and"
   ]
  },
  {
   "cell_type": "markdown",
   "id": "00e851b0",
   "metadata": {},
   "source": [
    "$$\n",
    "\\vert \\phi_1 \\rangle = \\vert 1 \\rangle = \\begin{bmatrix} 0 \\\\ 1 \\end{bmatrix}.\n",
    "$$"
   ]
  },
  {
   "cell_type": "markdown",
   "id": "2b115f29",
   "metadata": {},
   "source": [
    "It is straight forward to see that $\\langle 1 \\vert 0\\rangle=0$. With these two states we can define the define the identity operator $\\boldsymbol{I}$ as the sum of the outer products of these two states, namely"
   ]
  },
  {
   "cell_type": "markdown",
   "id": "6fad491f",
   "metadata": {},
   "source": [
    "$$\n",
    "\\boldsymbol{I} = \\sum_{i=0}^{i=1}\\vert i\\rangle \\langle i\\vert = \\begin{bmatrix} 1 & 0 \\\\ 0 & 0 \\end{bmatrix} +\\begin{bmatrix} 0 & 0 \\\\ 0 & 1 \\end{bmatrix}=\\begin{bmatrix} 1 & 0 \\\\ 0 & 1 \\end{bmatrix}.\n",
    "$$"
   ]
  },
  {
   "cell_type": "markdown",
   "id": "2fada9d6",
   "metadata": {},
   "source": [
    "We can further define the projection operators"
   ]
  },
  {
   "cell_type": "markdown",
   "id": "63f38053",
   "metadata": {},
   "source": [
    "$$\n",
    "\\boldsymbol{P} = \\vert 0\\rangle \\langle 0\\vert = \\begin{bmatrix} 1 & 0 \\\\ 0 & 0 \\end{bmatrix},\n",
    "$$"
   ]
  },
  {
   "cell_type": "markdown",
   "id": "ca742e63",
   "metadata": {},
   "source": [
    "and"
   ]
  },
  {
   "cell_type": "markdown",
   "id": "e19592b9",
   "metadata": {},
   "source": [
    "$$\n",
    "\\boldsymbol{Q} = \\vert 1\\rangle \\langle 1\\vert = \\begin{bmatrix} 0 & 0 \\\\ 0 & 1 \\end{bmatrix}.\n",
    "$$"
   ]
  },
  {
   "cell_type": "markdown",
   "id": "ac72b0c5",
   "metadata": {},
   "source": [
    "We note that $P^2=P$, $Q^2=Q$ (the operators are idempotent) and that\n",
    "their determinants are zero, meaning in turn that we cannot use these\n",
    "operators for unitary/orthogonal transformations. However, they play\n",
    "important roles in defining effective Hilbert spaces for many-body\n",
    "studies. Finally, before proceeding we note also that the two matrices\n",
    "commute and we have $\\boldsymbol{P}\\boldsymbol{Q}=0$ and $\\left[ \\boldsymbol{P},\\boldsymbol{Q}\\right]=0$."
   ]
  },
  {
   "cell_type": "markdown",
   "id": "0af20d7a",
   "metadata": {},
   "source": [
    "### Superposition and more\n",
    "\n",
    "Using the properties of ONBs we can expand a new state in terms of the\n",
    "above states. These states could also form  a basis which is an\n",
    "eigenbasis of a selected Hamiltonian (more of this below).\n",
    "\n",
    "We define now a new state which is a linear expansion in terms of\n",
    "these computational basis states"
   ]
  },
  {
   "cell_type": "markdown",
   "id": "83c50094",
   "metadata": {},
   "source": [
    "$$\n",
    "\\vert \\psi \\rangle = \\alpha \\vert 0 \\rangle + \\beta\\vert 1 \\rangle,\n",
    "$$"
   ]
  },
  {
   "cell_type": "markdown",
   "id": "d9a9db93",
   "metadata": {},
   "source": [
    "where the coefficients $\\alpha = \\langle 0 \\vert \\psi \\rangle$ and\n",
    "$\\beta =\\langle 1 \\vert \\psi\\rangle$ reresent the overlaps between the\n",
    "computational basis states and the state $\\vert \\psi\\rangle$. In quantum speech, we say the state is in a superposition of the states $\\vert 0\\rangle$ and $\\vert 1\\rangle$.\n",
    "\n",
    "Computing the inner product of $\\vert \\psi \\rangle$ we obtain"
   ]
  },
  {
   "cell_type": "markdown",
   "id": "bb9f760b",
   "metadata": {},
   "source": [
    "$$\n",
    "\\langle \\psi \\vert \\psi \\rangle = \\vert \\alpha \\vert ^2\\langle 0\\vert 0\\rangle + \\vert \\beta \\vert ^2\\langle 1\\vert 1\\rangle = \\vert \\alpha \\vert ^2 + \\vert \\beta \\vert ^2 = 1,\n",
    "$$"
   ]
  },
  {
   "cell_type": "markdown",
   "id": "ee0a5af8",
   "metadata": {},
   "source": [
    "since the new basis, which is defined in terms of a a unitary/orthogonal\n",
    "transformation, preserves the orthogonality and norm of the original\n",
    "computational basis $\\vert 0\\rangle$ and $\\vert 1\\rangle$. To see\n",
    "this, consider the unitary transformation (show derivation of\n",
    "preserving orthogonality).\n",
    "\n",
    "If we now act with the projection operators $\\boldsymbol{P}$ and $\\boldsymbol{Q}$ on\n",
    "the state $\\vert \\psi\\rangle$ we get"
   ]
  },
  {
   "cell_type": "markdown",
   "id": "5d2bbc42",
   "metadata": {},
   "source": [
    "$$\n",
    "\\boldsymbol{P}\\vert \\psi \\rangle = \\vert 0 \\rangle\\langle 0\\vert (\\alpha \\vert 0 \\rangle + \\beta\\vert 1 \\rangle)=\\alpha \\vert 0\\rangle,\n",
    "$$"
   ]
  },
  {
   "cell_type": "markdown",
   "id": "4bf7e604",
   "metadata": {},
   "source": [
    "that is we **project** out the $\\vert 0\\rangle$ component of the state\n",
    "$\\vert \\psi\\rangle$ with the coefficient $\\alpha$ while $\\boldsymbol{Q}$\n",
    "projects out the $\\vert 1\\rangle$ component with coefficient $\\beta$\n",
    "as seen from"
   ]
  },
  {
   "cell_type": "markdown",
   "id": "d6070cae",
   "metadata": {},
   "source": [
    "$$\n",
    "\\boldsymbol{Q}\\vert \\psi \\rangle = \\vert 1 \\rangle\\langle 1\\vert (\\alpha \\vert 0 \\rangle + \\beta\\vert 1 \\rangle)=\\beta \\vert 1\\rangle.\n",
    "$$"
   ]
  },
  {
   "cell_type": "markdown",
   "id": "cfd36c49",
   "metadata": {},
   "source": [
    "The above results can easily be derived by multiplying the pertinent\n",
    "matrices with the vectors $\\vert 0\\rangle$ and $\\vert 1\\rangle$,\n",
    "respectively.\n",
    "\n",
    "Using the above linear expansion we can now define the density matrix of the state $\\vert \\psi\\rangle$ as the outer product"
   ]
  },
  {
   "cell_type": "markdown",
   "id": "965e0367",
   "metadata": {},
   "source": [
    "$$\n",
    "\\boldsymbol{\\rho}=\\vert \\psi \\rangle\\langle \\psi \\vert = \\alpha\\alpha^* \\vert 0 \\rangle\\langle 0\\vert+\\alpha\\beta^* \\vert 0 \\rangle\\langle 1\\vert+\\beta\\alpha^* \\vert 1 \\rangle\\langle 0\\vert+\\beta\\beta^* \\vert 1 \\rangle\\langle 1\\vert=\\begin{bmatrix} \\alpha\\alpha^* & \\alpha\\beta^*\\\\ \\beta\\alpha^* & \\beta\\beta^*\\end{bmatrix}.\n",
    "$$"
   ]
  },
  {
   "cell_type": "markdown",
   "id": "433127f7",
   "metadata": {},
   "source": [
    "Finally, we note that the trace of the density matrix is simply given by unity"
   ]
  },
  {
   "cell_type": "markdown",
   "id": "b56b247c",
   "metadata": {},
   "source": [
    "$$\n",
    "\\mathrm{tr}\\boldsymbol{\\rho}=\\alpha\\alpha^* +\\beta\\beta^*=1.\n",
    "$$"
   ]
  },
  {
   "cell_type": "markdown",
   "id": "99f018f0",
   "metadata": {},
   "source": [
    "## Tensor products and Composite systems\n",
    "\n",
    "The state space of a composite physical system is the tensor product of the state spaces of the component systems.\n",
    "There are two parts to this:\n",
    "1. Determining the basis for the composite system\n",
    "\n",
    "2. Determining the components of the state vector\n",
    "\n",
    "Last week we introduced the $\\vert 0\\rangle$ and $\\vert 1\\rangle$ states as our basis states for a single qubit system.\n",
    "We will now extend this to a two-qubit system.\n",
    "\n",
    "Consider now two vectors with length $n=2$, with elements"
   ]
  },
  {
   "cell_type": "markdown",
   "id": "717fbf64",
   "metadata": {},
   "source": [
    "$$\n",
    "\\vert x \\rangle = \\begin{bmatrix} x_0 \\\\ x_1 \\end{bmatrix},\n",
    "$$"
   ]
  },
  {
   "cell_type": "markdown",
   "id": "6a04b2f7",
   "metadata": {},
   "source": [
    "and"
   ]
  },
  {
   "cell_type": "markdown",
   "id": "1a659f12",
   "metadata": {},
   "source": [
    "$$\n",
    "\\vert x \\rangle = \\begin{bmatrix} y_0 \\\\ y_1 \\end{bmatrix}.\n",
    "$$"
   ]
  },
  {
   "cell_type": "markdown",
   "id": "6f8db933",
   "metadata": {},
   "source": [
    "The tensor product of these two vectors is defined as"
   ]
  },
  {
   "cell_type": "markdown",
   "id": "ec3b569e",
   "metadata": {},
   "source": [
    "$$\n",
    "\\vert x \\rangle \\otimes \\vert y \\rangle = \\vert xy \\rangle  = \\begin{bmatrix} x_0y_0 \\\\ x_0y_1 \\\\ x_1y_0 \\\\ x_1y_1 \\end{bmatrix},\n",
    "$$"
   ]
  },
  {
   "cell_type": "markdown",
   "id": "d885d502",
   "metadata": {},
   "source": [
    "which is now a vector of length $4$.\n",
    "\n",
    "If we now go back to our original one-qubit basis states, we can form the following tensor products"
   ]
  },
  {
   "cell_type": "markdown",
   "id": "cb459e55",
   "metadata": {},
   "source": [
    "$$\n",
    "\\vert 0 \\rangle \\otimes \\vert 0 \\rangle = \\begin{bmatrix} 1 \\\\ 0\\end{bmatrix} \\otimes \\begin{bmatrix} 1 \\\\ 0\\end{bmatrix} =\\begin{bmatrix} 1 \\\\ 0 \\\\ 0 \\\\ 0 \\end{bmatrix}=\\vert 00 \\rangle,\n",
    "$$"
   ]
  },
  {
   "cell_type": "markdown",
   "id": "95f7887e",
   "metadata": {},
   "source": [
    "$$\n",
    "\\vert 0 \\rangle \\otimes \\vert 1 \\rangle = \\begin{bmatrix} 1 \\\\ 0\\end{bmatrix} \\otimes \\begin{bmatrix} 0 \\\\ 1\\end{bmatrix} =\\begin{bmatrix} 0 \\\\ 1 \\\\ 0 \\\\ 0 \\end{bmatrix}=\\vert 01 \\rangle,\n",
    "$$"
   ]
  },
  {
   "cell_type": "markdown",
   "id": "795c7579",
   "metadata": {},
   "source": [
    "$$\n",
    "\\vert 1 \\rangle \\otimes \\vert 0 \\rangle = \\begin{bmatrix} 0 \\\\ 1\\end{bmatrix} \\otimes \\begin{bmatrix} 1 \\\\ 0\\end{bmatrix} =\\begin{bmatrix} 0 \\\\ 0 \\\\ 1 \\\\ 0 \\end{bmatrix}=\\vert 10 \\rangle,\n",
    "$$"
   ]
  },
  {
   "cell_type": "markdown",
   "id": "f8c953ea",
   "metadata": {},
   "source": [
    "and finally"
   ]
  },
  {
   "cell_type": "markdown",
   "id": "69c11230",
   "metadata": {},
   "source": [
    "$$\n",
    "\\vert 1 \\rangle \\otimes \\vert 1 \\rangle = \\begin{bmatrix} 0 \\\\ 1\\end{bmatrix} \\otimes \\begin{bmatrix} 0 \\\\ 1\\end{bmatrix} =\\begin{bmatrix} 0 \\\\ 0 \\\\ 0 \\\\ 1 \\end{bmatrix}=\\vert 11 \\rangle.\n",
    "$$"
   ]
  },
  {
   "cell_type": "markdown",
   "id": "59671753",
   "metadata": {},
   "source": [
    "We have now four different states and we could try to make a new list\n",
    "by relabeling the states as follows $\\vert 00 \\rangle =\\vert 0\n",
    "\\rangle$, $\\vert 01 \\rangle =\\vert 1 \\rangle$, $\\vert 10 \\rangle\n",
    "=\\vert 2 \\rangle$, $\\vert 11 \\rangle =\\vert 3 \\rangle$.\n",
    "\n",
    "In similar ways we can define the tensor product of three qubits (or single-particle states) as"
   ]
  },
  {
   "cell_type": "markdown",
   "id": "3719f748",
   "metadata": {},
   "source": [
    "$$\n",
    "\\vert 0 \\rangle \\otimes \\vert 0 \\rangle \\otimes \\vert 0 \\rangle = \\begin{bmatrix} 1 \\\\ 0\\end{bmatrix} \\otimes \\begin{bmatrix} 1 \\\\ 0\\end{bmatrix} \\otimes \\begin{bmatrix} 1 \\\\ 0\\end{bmatrix}=\\begin{bmatrix} 1 \\\\ 0 \\\\ 0 \\\\ 0 \\\\ 0 \\\\0 \\\\ 0 \\\\ 0\\end{bmatrix}=\\vert 000 \\rangle,\n",
    "$$"
   ]
  },
  {
   "cell_type": "markdown",
   "id": "11846677",
   "metadata": {},
   "source": [
    "which is a new vector of length eight. We note that with a single-particle basis given the states $\\vert 0\\rangle$ and $\\vert 1\\rangle$ we can, with $N$ particles construct $2^N$ different states.\n",
    "This is something we can generalize to\n",
    " * discuss ways of labeling states\n",
    "\n",
    " * how to write a code which does it\n",
    "\n",
    "The tensor product of two $2\\times 2$ matrices $\\boldsymbol{A}$ and $\\boldsymbol{B}$ is given by"
   ]
  },
  {
   "cell_type": "markdown",
   "id": "abbdb998",
   "metadata": {},
   "source": [
    "$$\n",
    "\\boldsymbol{A} \\times \\boldsymbol{B} = \\begin{bmatrix} a_{00} & a_{01} \\\\ a_{10} & a_{11} \\end{bmatrix} \\otimes \\begin{bmatrix} b_{00} & b_{01} \\\\ b_{10} & b_{11} \\end{bmatrix} =\n",
    "\\begin{bmatrix} a_{00} b_{00} &  a_{00}b_{01} & a_{01} b_{00} & a_{01}b_{01} \\\\\n",
    "                a_{00} b_{10} &  a_{00}b_{11} & a_{01} b_{10} & a_{01}b_{11} \\\\\n",
    "                a_{10} b_{00} &  a_{10}b_{01} & a_{11} b_{00} & a_{11}b_{01} \\\\\n",
    "                a_{10} b_{10} &  a_{10}b_{11} & a_{11} b_{10} & a_{11}b_{11} \\end{bmatrix}\n",
    "$$"
   ]
  },
  {
   "cell_type": "markdown",
   "id": "5ebab014",
   "metadata": {},
   "source": [
    "## Measurements\n",
    "\n",
    "The probability of a measurement on a quantum system giving a certain\n",
    "result is determined by the weight of the relevant basis state in\n",
    "the state vector. After the measurement, the system is in the state\n",
    "corresponding to the result of the measurement. The operators and gates discussed below are examples of operations we can perform on specific states."
   ]
  },
  {
   "cell_type": "markdown",
   "id": "07fbd4c5",
   "metadata": {},
   "source": [
    "## Possible measurement\n",
    "\n",
    "We can consider the state"
   ]
  },
  {
   "cell_type": "markdown",
   "id": "538211c5",
   "metadata": {},
   "source": [
    "$$\n",
    "\\vert \\psi\\rangle = \\alpha \\vert 0 \\rangle +\\beta \\vert 1 \\rangle\n",
    "$$"
   ]
  },
  {
   "cell_type": "markdown",
   "id": "01f565e7",
   "metadata": {},
   "source": [
    "1. A measurement can yield only one of the above states, either $\\vert 0\\rangle$ or $\\vert 1\\rangle$.\n",
    "\n",
    "2. The probability of a measurement resulting in $\\vert 0\\rangle$ is $\\alpha^*\\alpha = \\vert \\alpha \\vert^*$.\n",
    "\n",
    "3. The probability of a measurement resulting in $\\vert 1\\rangle$ is $\\beta^*\\beta = \\vert \\beta \\vert^*$.\n",
    "\n",
    "4. And we note that the sum of the outcomes gives $$\\alpha^*\\alpha+\\beta^*\\beta=1$ since the two states are normalized.\n",
    "\n",
    "After the measurement, the state of the system is the state associated with the result of the measurement.\n",
    "\n",
    "We have already encountered the projection operators $P$ and $Q$. Let us now look at other types of operations we can make\n",
    "on qubit states."
   ]
  },
  {
   "cell_type": "markdown",
   "id": "7827761b",
   "metadata": {},
   "source": [
    "## Different operators and gates\n",
    "\n",
    "In quantum computing, the so-called Pauli matrices, and other simple\n",
    "$2\\times 2$ matrices, play an important role, ranging from the setup\n",
    "of quantum gates to a rewrite of creation and annihilation operators\n",
    "and other quantum mechanical operators. Let us start with the familiar\n",
    "Pauli matrices and remind ourselves of some of their basic properties.\n",
    "\n",
    "The Pauli matrices are defined as"
   ]
  },
  {
   "cell_type": "markdown",
   "id": "5232c2fd",
   "metadata": {},
   "source": [
    "$$\n",
    "\\sigma_x = \\begin{bmatrix} 0 & 1 \\\\ 1 & 0 \\end{bmatrix},\n",
    "$$"
   ]
  },
  {
   "cell_type": "markdown",
   "id": "7f998123",
   "metadata": {},
   "source": [
    "$$\n",
    "\\sigma_y = \\begin{bmatrix} 0 & -\\imath \\\\ \\imath & 0 \\end{bmatrix},\n",
    "$$"
   ]
  },
  {
   "cell_type": "markdown",
   "id": "586c1f8a",
   "metadata": {},
   "source": [
    "and"
   ]
  },
  {
   "cell_type": "markdown",
   "id": "2cdbbf6a",
   "metadata": {},
   "source": [
    "$$\n",
    "\\sigma_z = \\begin{bmatrix} 1 & 0 \\\\ 0 & -1 \\end{bmatrix}.\n",
    "$$"
   ]
  },
  {
   "cell_type": "markdown",
   "id": "d717dc40",
   "metadata": {},
   "source": [
    "It is easy to show that the matrices obey the properties (being involutory)"
   ]
  },
  {
   "cell_type": "markdown",
   "id": "19ce1d08",
   "metadata": {},
   "source": [
    "$$\n",
    "\\sigma_x\\sigma_x = \\sigma_y\\sigma_y=\\sigma_z\\sigma_z = I=\\begin{bmatrix} 1 & 0 \\\\ 0 & 1\\end{bmatrix},\n",
    "$$"
   ]
  },
  {
   "cell_type": "markdown",
   "id": "47f27b68",
   "metadata": {},
   "source": [
    "that is their products with themselves result in the identity matrix\n",
    "$\\boldsymbol{I}$.  Furthermore, the Pauli matrices are unitary matrices\n",
    "meaning that their inverses are equal to their hermitian conjugated\n",
    "matrices. The determinants of the Pauli matrices are all equal to $-1$,\n",
    "as can be easily verified.\n",
    "\n",
    "The Pauli matrices obey also the following commutation rules"
   ]
  },
  {
   "cell_type": "markdown",
   "id": "d2e3ab1f",
   "metadata": {},
   "source": [
    "$$\n",
    "\\left[\\sigma_x,\\sigma_y\\right] = 2\\imath \\sigma_z.\n",
    "$$"
   ]
  },
  {
   "cell_type": "markdown",
   "id": "eb9cb400",
   "metadata": {},
   "source": [
    "Before we proceed with other matrices and how they can be used to\n",
    "operate on various quantum mechanical states, let us try to define\n",
    "various basis sets and their pertinent notations. We will often refer\n",
    "to these basis states as our computational basis."
   ]
  },
  {
   "cell_type": "markdown",
   "id": "2d9a497a",
   "metadata": {},
   "source": [
    "### Other important matrices\n",
    "\n",
    "We end with presenting other operators (as matrices) which play an important role in quantum computing, the so-called Hadamard matrix (or gate as we will use later)"
   ]
  },
  {
   "cell_type": "markdown",
   "id": "901b7b0b",
   "metadata": {},
   "source": [
    "$$\n",
    "\\boldsymbol{H}=\\frac{1}{\\sqrt{2}}\\begin{bmatrix} 1 & 1 \\\\ 1 & -1\\end{bmatrix}.\n",
    "$$"
   ]
  },
  {
   "cell_type": "markdown",
   "id": "dffed989",
   "metadata": {},
   "source": [
    "The action of the operator $\\boldsymbol{H}$ on a computational basis state like $\\vert 0\\rangle$ gives"
   ]
  },
  {
   "cell_type": "markdown",
   "id": "1fb48e33",
   "metadata": {},
   "source": [
    "$$\n",
    "\\boldsymbol{H}\\vert 0 \\rangle = \\frac{1}{\\sqrt{2}}\\begin{bmatrix} 1 & 1 \\\\ 1 & -1\\end{bmatrix}\\begin{bmatrix} 1 \\\\ 0\\end{bmatrix}=\\frac{1}{\\sqrt{2}}(\\vert 0\\rangle + \\vert 1\\rangle),\n",
    "$$"
   ]
  },
  {
   "cell_type": "markdown",
   "id": "5da86241",
   "metadata": {},
   "source": [
    "and"
   ]
  },
  {
   "cell_type": "markdown",
   "id": "5d22c83b",
   "metadata": {},
   "source": [
    "$$\n",
    "\\boldsymbol{H}\\vert 1 \\rangle = \\frac{1}{\\sqrt{2}}\\begin{bmatrix} 1 & 1 \\\\ 1 & -1\\end{bmatrix}\\begin{bmatrix} 0 \\\\ 1\\end{bmatrix}=\\frac{1}{\\sqrt{2}}(\\vert 0\\rangle - \\vert 1\\rangle),\n",
    "$$"
   ]
  },
  {
   "cell_type": "markdown",
   "id": "7f1a4c89",
   "metadata": {},
   "source": [
    "that is we create a superposition of the states $\\vert 0\\rangle$ and $\\vert 1\\rangle$.\n",
    "\n",
    "Another famous operation is the phase matrix given by"
   ]
  },
  {
   "cell_type": "markdown",
   "id": "43263c79",
   "metadata": {},
   "source": [
    "$$\n",
    "\\boldsymbol{S} = \\begin{bmatrix} 1 & 0 \\\\ 0 & \\imath\\end{bmatrix}.\n",
    "$$"
   ]
  },
  {
   "cell_type": "markdown",
   "id": "c1d17ace",
   "metadata": {},
   "source": [
    "## Unitarity\n",
    "\n",
    "The matrices we introduced here are so-called unitary matrices. This\n",
    "is an important element in quantum mechanics since the evolution of a\n",
    "closed quantum system is described by operations involving unitary\n",
    "operations only.\n",
    "\n",
    "We have defined a new state $\\vert \\psi_p\\rangle$ as a linear expansion in terms of an orthogonal and normalized basis (our computational basis) $\\phi_{\\lambda}$"
   ]
  },
  {
   "cell_type": "markdown",
   "id": "83cb5749",
   "metadata": {},
   "source": [
    "<!-- Equation labels as ordinary links -->\n",
    "<div id=\"_auto1\"></div>\n",
    "\n",
    "$$\n",
    "\\begin{equation}\n",
    "\\vert \\psi_p\\rangle = \\sum_{\\lambda} u_{p\\lambda}\\vert \\phi_{\\lambda}\\rangle.\n",
    "\\label{_auto1} \\tag{1}\n",
    "\\end{equation}\n",
    "$$"
   ]
  },
  {
   "cell_type": "markdown",
   "id": "efd764d3",
   "metadata": {},
   "source": [
    "It is normal to choose a basis defined as the eigenfunctions\n",
    "of parts of the full Hamiltonian. The typical situation consists of the solutions of the one-body part of the Hamiltonian, that is we have"
   ]
  },
  {
   "cell_type": "markdown",
   "id": "ac1ef6e4",
   "metadata": {},
   "source": [
    "$$\n",
    "\\hat{h}_0\\vert \\phi_{\\lambda}\\rangle=\\epsilon_{\\lambda}\\vert \\phi_{\\lambda}\\rangle.\n",
    "$$"
   ]
  },
  {
   "cell_type": "markdown",
   "id": "f2ab931f",
   "metadata": {},
   "source": [
    "This is normally referred to as a single-particle basis $\\vert\\phi_{\\lambda}(\\mathbf{r})\\rangle$,\n",
    "defined by the quantum numbers $\\lambda$ and $\\mathbf{r}$.\n",
    "\n",
    "A unitary transformation is important since it keeps the orthogonality.\n",
    "To see this consider first a basis of vectors $\\mathbf{v}_i$,"
   ]
  },
  {
   "cell_type": "markdown",
   "id": "2ff7b496",
   "metadata": {},
   "source": [
    "$$\n",
    "\\mathbf{v}_i = \\begin{bmatrix} v_{i1} \\\\ \\dots \\\\ \\dots \\\\v_{in} \\end{bmatrix}\n",
    "$$"
   ]
  },
  {
   "cell_type": "markdown",
   "id": "ad15d952",
   "metadata": {},
   "source": [
    "We assume that the basis is orthogonal, that is"
   ]
  },
  {
   "cell_type": "markdown",
   "id": "b6cc15e1",
   "metadata": {},
   "source": [
    "$$\n",
    "\\mathbf{v}_j^T\\mathbf{v}_i = \\delta_{ij}.\n",
    "$$"
   ]
  },
  {
   "cell_type": "markdown",
   "id": "3b891082",
   "metadata": {},
   "source": [
    "An orthogonal or unitary transformation"
   ]
  },
  {
   "cell_type": "markdown",
   "id": "1ae14c52",
   "metadata": {},
   "source": [
    "$$\n",
    "\\mathbf{w}_i=\\mathbf{U}\\mathbf{v}_i,\n",
    "$$"
   ]
  },
  {
   "cell_type": "markdown",
   "id": "e95c31a6",
   "metadata": {},
   "source": [
    "preserves the dot product and orthogonality since"
   ]
  },
  {
   "cell_type": "markdown",
   "id": "cfaa925e",
   "metadata": {},
   "source": [
    "$$\n",
    "\\mathbf{w}_j^T\\mathbf{w}_i=(\\mathbf{U}\\mathbf{v}_j)^T\\mathbf{U}\\mathbf{v}_i=\\mathbf{v}_j^T\\mathbf{U}^T\\mathbf{U}\\mathbf{v}_i= \\mathbf{v}_j^T\\mathbf{v}_i = \\delta_{ij}.\n",
    "$$"
   ]
  },
  {
   "cell_type": "markdown",
   "id": "0465b406",
   "metadata": {},
   "source": [
    "This means that if the coefficients $u_{p\\lambda}$ belong to a unitary\n",
    "or orthogonal transformation (using the Dirac bra-ket notation)"
   ]
  },
  {
   "cell_type": "markdown",
   "id": "d1bce02b",
   "metadata": {},
   "source": [
    "$$\n",
    "\\vert \\psi_p\\rangle = \\sum_{\\lambda} u_{p\\lambda}\\vert \\phi_{\\lambda}\\rangle.\n",
    "$$"
   ]
  },
  {
   "cell_type": "markdown",
   "id": "cfe464a0",
   "metadata": {},
   "source": [
    "orthogonality is preserved.\n",
    "\n",
    "This propertry is extremely useful when we build up a basis of\n",
    "many-body determinant based states.\n",
    "\n",
    "**Note also that although a basis $\\vert \\alpha\\rangle$ contains an infinity of states, for practical calculations we have always to make some truncations.**"
   ]
  },
  {
   "cell_type": "markdown",
   "id": "47996fb8",
   "metadata": {},
   "source": [
    "### Example\n",
    "\n",
    "Assume we have two one-qubit states represented by"
   ]
  },
  {
   "cell_type": "markdown",
   "id": "bee9a270",
   "metadata": {},
   "source": [
    "$$\n",
    "\\vert \\psi \\rangle = \\alpha \\vert 0 \\rangle + \\beta \\vert 1\\rangle=\\begin{bmatrix}\\alpha \\\\ \\beta \\end{bmatrix},\n",
    "$$"
   ]
  },
  {
   "cell_type": "markdown",
   "id": "a43d6a7a",
   "metadata": {},
   "source": [
    "and"
   ]
  },
  {
   "cell_type": "markdown",
   "id": "6a1ae38f",
   "metadata": {},
   "source": [
    "$$\n",
    "\\vert \\phi \\rangle = \\gamma \\vert 0 \\rangle + \\delta \\vert 1\\rangle=\\begin{bmatrix}\\gamma \\\\ \\delta \\end{bmatrix}.\n",
    "$$"
   ]
  },
  {
   "cell_type": "markdown",
   "id": "d6ee340f",
   "metadata": {},
   "source": [
    "We assume that the state $\\vert \\phi \\rangle$ is obtained through a\n",
    "unitary transformation of $\\vert \\psi \\rangle$ through a matrix\n",
    "$\\boldsymbol{U}$ with its hermitian conjugate $\\boldsymbol{U}^{\\dagger}$ with matrix\n",
    "elements $u_{ij}^{\\dagger}=u_ji}^*$ and\n",
    "$\\boldsymbol{I}=\\boldsymbol{U}\\boldsymbol{U}^{\\dagger}=\\boldsymbol{U}^{\\dagger}\\boldsymbol{U}$.\n",
    "\n",
    "Note that this means that the hermitian conjugate of a unitary matrix\n",
    "is equal to its inverse. This has important consequences for what is\n",
    "called reversibility. We say quantum mechanics is a theory which is\n",
    "reversible with a probabilistic determinism. Classical mechanics on\n",
    "the other is reversible in a deterministic way, that is, knowing all\n",
    "initial conditions we can in principle determine the future motion of\n",
    "an object which obey the laws of motion of classical mechanics.\n",
    "\n",
    "We have then"
   ]
  },
  {
   "cell_type": "markdown",
   "id": "28802684",
   "metadata": {},
   "source": [
    "$$\n",
    "\\begin{bmatrix}\\gamma \\\\ \\delta \\end{bmatrix}=\\begin{bmatrix}u_{00} & u_{01} \\\\ u_{10} & u_{11} \\end{bmatrix}\\begin{bmatrix}\\alpha \\\\ \\beta \\end{bmatrix}.\n",
    "$$"
   ]
  },
  {
   "cell_type": "markdown",
   "id": "b59797c3",
   "metadata": {},
   "source": [
    "Since our original basis $\\vert \\psi\\rangle$ is orthogonal and normalized with $\\vert\\alpha\\vert^2+\\vert\\beta\\vert^2=1$, the new basis is also orthogonal and normalized."
   ]
  },
  {
   "cell_type": "markdown",
   "id": "b054314d",
   "metadata": {},
   "source": [
    "### Only unitary transformations are of interest\n",
    "\n",
    "Since the inverse of a hermitian matrix is equal to its hermitian\n",
    "conjugate/adjoint), unitary transformations are always reversible.\n",
    "\n",
    "Why are only unitary transformations allowed? The key lies in the way the inner product tranforms.\n",
    "\n",
    "To see this we rewrite the new basis from the previous example in its two components as"
   ]
  },
  {
   "cell_type": "markdown",
   "id": "167414a9",
   "metadata": {},
   "source": [
    "$$\n",
    "\\vert \\phi\\rangle_i=\\sum_{j}u_{ij}\\vert \\psi\\rangle_j,\n",
    "$$"
   ]
  },
  {
   "cell_type": "markdown",
   "id": "07b59993",
   "metadata": {},
   "source": [
    "or in terms of a matrix-vector notatio we have"
   ]
  },
  {
   "cell_type": "markdown",
   "id": "bead4f5d",
   "metadata": {},
   "source": [
    "$$\n",
    "\\vert \\phi\\rangle=\\boldsymbol{U}\\vert \\psi\\rangle,\n",
    "$$"
   ]
  },
  {
   "cell_type": "markdown",
   "id": "b4ce09db",
   "metadata": {},
   "source": [
    "We have already assumed that $\\langle \\psi \\vert \\psi \\rangle = \\vert\\alpha\\vert^2+\\vert\\beta\\vert^2=1$.\n",
    "\n",
    "We have that"
   ]
  },
  {
   "cell_type": "markdown",
   "id": "31f3703d",
   "metadata": {},
   "source": [
    "$$\n",
    "\\langle \\phi\\vert_i=\\sum_{j}u_{ij}^*\\langle \\psi\\vert_j,\n",
    "$$"
   ]
  },
  {
   "cell_type": "markdown",
   "id": "eb94fcd8",
   "metadata": {},
   "source": [
    "or in terms of a matrix-vector notation we have"
   ]
  },
  {
   "cell_type": "markdown",
   "id": "64a07e96",
   "metadata": {},
   "source": [
    "$$\n",
    "\\langle \\phi\\vert=\\langle \\psi\\vert\\boldsymbol{U}^{\\dagger}.\n",
    "$$"
   ]
  },
  {
   "cell_type": "markdown",
   "id": "0ac9a7d8",
   "metadata": {},
   "source": [
    "Note that the two vectors are row vectors now.\n",
    "\n",
    "If we stay with this notation we have"
   ]
  },
  {
   "cell_type": "markdown",
   "id": "a8f09702",
   "metadata": {},
   "source": [
    "$$\n",
    "\\langle \\phi\\vert\\phi\\rangle = \\langle psi \\boldsymbol{U}^{\\dagger}\\boldsymbol{U}\\vert \\psi\\rangle = \\langle \\psi\\vert \\psi\\vert..\n",
    "$$"
   ]
  },
  {
   "cell_type": "markdown",
   "id": "f63497bb",
   "metadata": {},
   "source": [
    "Unitary transforms are rotations in state space which preserve the\n",
    "length of the state vector (inner product)"
   ]
  },
  {
   "cell_type": "markdown",
   "id": "21887b33",
   "metadata": {},
   "source": [
    "## Representation of states and Hamiltonians\n",
    "\n",
    "Before we proceed we need several other definitions.  Throughout these\n",
    "lectures we will assume that the interacting part of the Hamiltonian\n",
    "can be approximated by a two-body interaction.  This means that our\n",
    "Hamiltonian can be written as the sum of a onebody part, which\n",
    "includes kinetic energy and an eventual external field, and a twobody\n",
    "interaction"
   ]
  },
  {
   "cell_type": "markdown",
   "id": "99417d13",
   "metadata": {},
   "source": [
    "<!-- Equation labels as ordinary links -->\n",
    "<div id=\"_auto2\"></div>\n",
    "\n",
    "$$\n",
    "\\begin{equation}\n",
    "    \\hat{H} = \\hat{H}_0 + \\hat{H}_I \n",
    "    = \\sum_{i=1}^N \\hat{h}_0(x_i) + \\sum_{i < j}^N \\hat{v}(r_{ij}),\n",
    "\\label{_auto2} \\tag{2}\n",
    "\\end{equation}\n",
    "$$"
   ]
  },
  {
   "cell_type": "markdown",
   "id": "177e8e33",
   "metadata": {},
   "source": [
    "with"
   ]
  },
  {
   "cell_type": "markdown",
   "id": "215e7b64",
   "metadata": {},
   "source": [
    "<!-- Equation labels as ordinary links -->\n",
    "<div id=\"hinuclei\"></div>\n",
    "\n",
    "$$\n",
    "\\begin{equation}\n",
    "  H_0=\\sum_{i=1}^N \\hat{h}_0(x_i).\n",
    "\\label{hinuclei} \\tag{3}\n",
    "\\end{equation}\n",
    "$$"
   ]
  },
  {
   "cell_type": "markdown",
   "id": "d8ca2adf",
   "metadata": {},
   "source": [
    "The onebody part $u_{\\mathrm{ext}}(x_i)$ is normally approximated by a\n",
    "harmonic oscillator potential or the Coulomb interaction an electron\n",
    "feels from the nucleus. However, other potentials are fully possible,\n",
    "such as one derived from the self-consistent solution of the\n",
    "Hartree-Fock equations.\n",
    "\n",
    "Our Hamiltonian is invariant under the permutation (interchange) of\n",
    "two particles.  Since we deal with fermions however, the total wave\n",
    "function is antisymmetric.  Let $\\hat{P}$ be an operator which\n",
    "interchanges two particles.  Due to the symmetries we have ascribed to\n",
    "our Hamiltonian, this operator commutes with the total Hamiltonian,"
   ]
  },
  {
   "cell_type": "markdown",
   "id": "a762fc7e",
   "metadata": {},
   "source": [
    "$$\n",
    "[\\hat{H},\\hat{P}] = 0,\n",
    "$$"
   ]
  },
  {
   "cell_type": "markdown",
   "id": "233deed8",
   "metadata": {},
   "source": [
    "meaning that $\\Psi_{\\lambda}(x_1, x_2, \\dots , x_A)$ is an eigenfunction of \n",
    "$\\hat{P}$ as well, that is"
   ]
  },
  {
   "cell_type": "markdown",
   "id": "0d834af7",
   "metadata": {},
   "source": [
    "$$\n",
    "\\hat{P}_{ij}\\Psi_{\\lambda}(x_1, x_2, \\dots,x_i,\\dots,x_j,\\dots,x_A)=\n",
    "\\beta\\Psi_{\\lambda}(x_1, x_2, \\dots,x_i,\\dots,x_j,\\dots,x_A),\n",
    "$$"
   ]
  },
  {
   "cell_type": "markdown",
   "id": "f05b4f44",
   "metadata": {},
   "source": [
    "where $\\beta$ is the eigenvalue of $\\hat{P}$. We have introduced the suffix $ij$ in order to indicate that we permute particles $i$ and $j$.\n",
    "The Pauli principle tells us that the total wave function for a system of fermions\n",
    "has to be antisymmetric, resulting in the eigenvalue $\\beta = -1$.   \n",
    "\n",
    "In our case we assume that  we can approximate the exact eigenfunction with a Slater determinant"
   ]
  },
  {
   "cell_type": "markdown",
   "id": "2fcbc812",
   "metadata": {},
   "source": [
    "<!-- Equation labels as ordinary links -->\n",
    "<div id=\"eq:HartreeFockDet\"></div>\n",
    "\n",
    "$$\n",
    "\\begin{equation}\n",
    "   \\Phi(x_1, x_2,\\dots ,x_A,\\alpha,\\beta,\\dots, \\sigma)=\\frac{1}{\\sqrt{A!}}\n",
    "\\left| \\begin{array}{ccccc} \\psi_{\\alpha}(x_1)& \\psi_{\\alpha}(x_2)& \\dots & \\dots & \\psi_{\\alpha}(x_A)\\\\\n",
    "                            \\psi_{\\beta}(x_1)&\\psi_{\\beta}(x_2)& \\dots & \\dots & \\psi_{\\beta}(x_A)\\\\  \n",
    "                            \\dots & \\dots & \\dots & \\dots & \\dots \\\\\n",
    "                            \\dots & \\dots & \\dots & \\dots & \\dots \\\\\n",
    "                     \\psi_{\\sigma}(x_1)&\\psi_{\\sigma}(x_2)& \\dots & \\dots & \\psi_{\\sigma}(x_A)\\end{array} \\right|, \\label{eq:HartreeFockDet} \\tag{4}\n",
    "\\end{equation}\n",
    "$$"
   ]
  },
  {
   "cell_type": "markdown",
   "id": "987bc880",
   "metadata": {},
   "source": [
    "where  $x_i$  stand for the coordinates and spin values of a particle $i$ and $\\alpha,\\beta,\\dots, \\gamma$ \n",
    "are quantum numbers needed to describe remaining quantum numbers.  \n",
    "\n",
    "If we deal with Fermions (identical and indistinguishable particles) we will \n",
    "form an ansatz for a given state in terms of so-called Slater determinants determined\n",
    "by a chosen basis of single-particle functions. \n",
    "\n",
    "For a given $n\\times n$ matrix $\\mathbf{A}$ we can write its determinant"
   ]
  },
  {
   "cell_type": "markdown",
   "id": "c9a07fa5",
   "metadata": {},
   "source": [
    "$$\n",
    "det(\\mathbf{A})=|\\mathbf{A}|=\n",
    "\\left| \\begin{array}{ccccc} a_{11}& a_{12}& \\dots & \\dots & a_{1n}\\\\\n",
    "                            a_{21}&a_{22}& \\dots & \\dots & a_{2n}\\\\  \n",
    "                            \\dots & \\dots & \\dots & \\dots & \\dots \\\\\n",
    "                            \\dots & \\dots & \\dots & \\dots & \\dots \\\\\n",
    "                            a_{n1}& a_{n2}& \\dots & \\dots & a_{nn}\\end{array} \\right|,\n",
    "$$"
   ]
  },
  {
   "cell_type": "markdown",
   "id": "6eba7b1a",
   "metadata": {},
   "source": [
    "in a more compact form as"
   ]
  },
  {
   "cell_type": "markdown",
   "id": "de9f5c58",
   "metadata": {},
   "source": [
    "$$\n",
    "|\\mathbf{A}|= \\sum_{i=1}^{n!}(-1)^{p_i}\\hat{P}_i a_{11}a_{22}\\dots a_{nn},\n",
    "$$"
   ]
  },
  {
   "cell_type": "markdown",
   "id": "ec4be4bd",
   "metadata": {},
   "source": [
    "where $\\hat{P}_i$ is a permutation operator which permutes the column indices $1,2,3,\\dots,n$\n",
    "and the sum runs over all $n!$ permutations.  The quantity $p_i$ represents the number of transpositions of column indices that are needed in order to bring a given permutation back to its initial ordering, in our case given by $a_{11}a_{22}\\dots a_{nn}$ here.\n",
    "\n",
    "A simple $2\\times 2$ determinant illustrates this. We have"
   ]
  },
  {
   "cell_type": "markdown",
   "id": "d5a6c5c1",
   "metadata": {},
   "source": [
    "$$\n",
    "det(\\mathbf{A})=\n",
    "\\left| \\begin{array}{cc} a_{11}& a_{12}\\\\\n",
    "                            a_{21}&a_{22}\\end{array} \\right|= (-1)^0a_{11}a_{22}+(-1)^1a_{12}a_{21},\n",
    "$$"
   ]
  },
  {
   "cell_type": "markdown",
   "id": "d7c30bbf",
   "metadata": {},
   "source": [
    "where in the last term we have interchanged the column indices $1$ and $2$. The natural ordering we have chosen is $a_{11}a_{22}$. \n",
    "\n",
    "The single-particle function $\\psi_{\\alpha}(x_i)$  are eigenfunctions of the onebody\n",
    "Hamiltonian $h_i$, that is"
   ]
  },
  {
   "cell_type": "markdown",
   "id": "847e3a39",
   "metadata": {},
   "source": [
    "$$\n",
    "\\hat{h}_0(x_i)=\\hat{t}(x_i) + \\hat{u}_{\\mathrm{ext}}(x_i),\n",
    "$$"
   ]
  },
  {
   "cell_type": "markdown",
   "id": "fe547459",
   "metadata": {},
   "source": [
    "with eigenvalues"
   ]
  },
  {
   "cell_type": "markdown",
   "id": "0fd0010e",
   "metadata": {},
   "source": [
    "$$\n",
    "\\hat{h}_0(x_i) \\psi_{\\alpha}(x_i)=\\left(\\hat{t}(x_i) + \\hat{u}_{\\mathrm{ext}}(x_i)\\right)\\psi_{\\alpha}(x_i)=\\varepsilon_{\\alpha}\\psi_{\\alpha}(x_i).\n",
    "$$"
   ]
  },
  {
   "cell_type": "markdown",
   "id": "bdc15b67",
   "metadata": {},
   "source": [
    "The energies $\\varepsilon_{\\alpha}$ are the so-called non-interacting single-particle energies, or unperturbed energies. \n",
    "The total energy is in this case the sum over all  single-particle energies, if no two-body or more complicated\n",
    "many-body interactions are present.\n",
    "\n",
    "Let us denote the ground state energy by $E_0$. According to the\n",
    "variational principle we have"
   ]
  },
  {
   "cell_type": "markdown",
   "id": "a297380a",
   "metadata": {},
   "source": [
    "$$\n",
    "E_0 \\le E[\\Phi] = \\int \\Phi^*\\hat{H}\\Phi d\\mathbf{\\tau}\n",
    "$$"
   ]
  },
  {
   "cell_type": "markdown",
   "id": "e697c781",
   "metadata": {},
   "source": [
    "where $\\Phi$ is a trial function which we assume to be normalized"
   ]
  },
  {
   "cell_type": "markdown",
   "id": "7a8f5e88",
   "metadata": {},
   "source": [
    "$$\n",
    "\\int \\Phi^*\\Phi d\\mathbf{\\tau} = 1,\n",
    "$$"
   ]
  },
  {
   "cell_type": "markdown",
   "id": "1e439de9",
   "metadata": {},
   "source": [
    "where we have used the shorthand $d\\mathbf{\\tau}=dx_1dr_2\\dots dr_A$.\n",
    "\n",
    "In the Hartree-Fock method the trial function is the Slater\n",
    "determinant of Eq. ([4](#eq:HartreeFockDet)) which can be rewritten as"
   ]
  },
  {
   "cell_type": "markdown",
   "id": "05e45298",
   "metadata": {},
   "source": [
    "$$\n",
    "\\Phi(x_1,x_2,\\dots,x_N,\\alpha,\\beta,\\dots,\\nu) = \\frac{1}{\\sqrt{A!}}\\sum_{P} (-)^P\\hat{P}\\psi_{\\alpha}(x_1)\n",
    "    \\psi_{\\beta}(x_2)\\dots\\psi_{\\nu}(x_N)=\\sqrt{N!}\\hat{A}\\Phi_H,\n",
    "$$"
   ]
  },
  {
   "cell_type": "markdown",
   "id": "2a047256",
   "metadata": {},
   "source": [
    "where we have introduced the antisymmetrization operator $\\hat{A}$ defined by the \n",
    "summation over all possible permutations of two particles.\n",
    "\n",
    "It is defined as"
   ]
  },
  {
   "cell_type": "markdown",
   "id": "2fdf58b6",
   "metadata": {},
   "source": [
    "<!-- Equation labels as ordinary links -->\n",
    "<div id=\"antiSymmetryOperator\"></div>\n",
    "\n",
    "$$\n",
    "\\begin{equation}\n",
    "  \\hat{A} = \\frac{1}{N!}\\sum_{p} (-)^p\\hat{P},\n",
    "\\label{antiSymmetryOperator} \\tag{5}\n",
    "\\end{equation}\n",
    "$$"
   ]
  },
  {
   "cell_type": "markdown",
   "id": "2b8d0dbe",
   "metadata": {},
   "source": [
    "with $p$ standing for the number of permutations. We have introduced for later use the so-called\n",
    "Hartree-function, defined by the simple product of all possible single-particle functions"
   ]
  },
  {
   "cell_type": "markdown",
   "id": "46a961f7",
   "metadata": {},
   "source": [
    "$$\n",
    "\\Phi_H(x_1,x_2,\\dots,x_A,\\alpha,\\beta,\\dots,\\nu) =\n",
    "  \\psi_{\\alpha}(x_1)\n",
    "    \\psi_{\\beta}(x_2)\\dots\\psi_{\\nu}(x_A).\n",
    "$$"
   ]
  },
  {
   "cell_type": "markdown",
   "id": "30dd0ebe",
   "metadata": {},
   "source": [
    "Both $\\hat{H}_0$ and $\\hat{H}_I$ are invariant under all possible permutations of any two particles\n",
    "and hence commute with $\\hat{A}$"
   ]
  },
  {
   "cell_type": "markdown",
   "id": "b69b9979",
   "metadata": {},
   "source": [
    "<!-- Equation labels as ordinary links -->\n",
    "<div id=\"commutionAntiSym\"></div>\n",
    "\n",
    "$$\n",
    "\\begin{equation}\n",
    "  [H_0,\\hat{A}] = [H_I,\\hat{A}] = 0. \\label{commutionAntiSym} \\tag{6}\n",
    "\\end{equation}\n",
    "$$"
   ]
  },
  {
   "cell_type": "markdown",
   "id": "68a6036b",
   "metadata": {},
   "source": [
    "Furthermore, $\\hat{A}$ satisfies"
   ]
  },
  {
   "cell_type": "markdown",
   "id": "2d3edaba",
   "metadata": {},
   "source": [
    "<!-- Equation labels as ordinary links -->\n",
    "<div id=\"AntiSymSquared\"></div>\n",
    "\n",
    "$$\n",
    "\\begin{equation}\n",
    "  \\hat{A}^2 = \\hat{A},  \\label{AntiSymSquared} \\tag{7}\n",
    "\\end{equation}\n",
    "$$"
   ]
  },
  {
   "cell_type": "markdown",
   "id": "107e5e5e",
   "metadata": {},
   "source": [
    "since every permutation of the Slater\n",
    "determinant reproduces it. \n",
    "\n",
    "The expectation value of $\\hat{H}_0$"
   ]
  },
  {
   "cell_type": "markdown",
   "id": "9e9cb802",
   "metadata": {},
   "source": [
    "$$\n",
    "\\int \\Phi^*\\hat{H}_0\\Phi d\\mathbf{\\tau} \n",
    "  = A! \\int \\Phi_H^*\\hat{A}\\hat{H}_0\\hat{A}\\Phi_H d\\mathbf{\\tau}\n",
    "$$"
   ]
  },
  {
   "cell_type": "markdown",
   "id": "a6e9881d",
   "metadata": {},
   "source": [
    "is readily reduced to"
   ]
  },
  {
   "cell_type": "markdown",
   "id": "4aac9d2f",
   "metadata": {},
   "source": [
    "$$\n",
    "\\int \\Phi^*\\hat{H}_0\\Phi d\\mathbf{\\tau} \n",
    "  = A! \\int \\Phi_H^*\\hat{H}_0\\hat{A}\\Phi_H d\\mathbf{\\tau},\n",
    "$$"
   ]
  },
  {
   "cell_type": "markdown",
   "id": "9ab65e74",
   "metadata": {},
   "source": [
    "where we have used Eqs. ([6](#commutionAntiSym)) and\n",
    "([7](#AntiSymSquared)). The next step is to replace the antisymmetrization\n",
    "operator by its definition and to\n",
    "replace $\\hat{H}_0$ with the sum of one-body operators"
   ]
  },
  {
   "cell_type": "markdown",
   "id": "8ff700d2",
   "metadata": {},
   "source": [
    "$$\n",
    "\\int \\Phi^*\\hat{H}_0\\Phi  d\\mathbf{\\tau}\n",
    "  = \\sum_{i=1}^N \\sum_{p} (-)^p\\int \n",
    "  \\Phi_H^*\\hat{h}_0\\hat{P}\\Phi_H d\\mathbf{\\tau}.\n",
    "$$"
   ]
  },
  {
   "cell_type": "markdown",
   "id": "d3999ab9",
   "metadata": {},
   "source": [
    "The integral vanishes if two or more particles are permuted in only one\n",
    "of the Hartree-functions $\\Phi_H$ because the individual single-particle wave functions are\n",
    "orthogonal. We obtain then"
   ]
  },
  {
   "cell_type": "markdown",
   "id": "e104833d",
   "metadata": {},
   "source": [
    "$$\n",
    "\\int \\Phi^*\\hat{H}_0\\Phi  d\\mathbf{\\tau}= \\sum_{i=1}^N \\int \\Phi_H^*\\hat{h}_0\\Phi_H  d\\mathbf{\\tau}.\n",
    "$$"
   ]
  },
  {
   "cell_type": "markdown",
   "id": "38ab4d7a",
   "metadata": {},
   "source": [
    "Orthogonality of the single-particle functions allows us to further simplify the integral, and we\n",
    "arrive at the following expression for the expectation values of the\n",
    "sum of one-body Hamiltonians"
   ]
  },
  {
   "cell_type": "markdown",
   "id": "7774a8a2",
   "metadata": {},
   "source": [
    "<!-- Equation labels as ordinary links -->\n",
    "<div id=\"H1Expectation\"></div>\n",
    "\n",
    "$$\n",
    "\\begin{equation}\n",
    "  \\int \\Phi^*\\hat{H}_0\\Phi  d\\mathbf{\\tau}\n",
    "  = \\sum_{\\mu=1}^N \\int \\psi_{\\mu}^*(x)\\hat{h}_0\\psi_{\\mu}(x)dx\n",
    "  d\\mathbf{r}.\n",
    "\\label{H1Expectation} \\tag{8}\n",
    "\\end{equation}\n",
    "$$"
   ]
  },
  {
   "cell_type": "markdown",
   "id": "8abac149",
   "metadata": {},
   "source": [
    "We introduce the following shorthand for the above integral"
   ]
  },
  {
   "cell_type": "markdown",
   "id": "2289df45",
   "metadata": {},
   "source": [
    "$$\n",
    "\\langle \\mu | \\hat{h}_0 | \\mu \\rangle = \\int \\psi_{\\mu}^*(x)\\hat{h}_0\\psi_{\\mu}(x)dx,\n",
    "$$"
   ]
  },
  {
   "cell_type": "markdown",
   "id": "ec9756d1",
   "metadata": {},
   "source": [
    "and rewrite Eq. ([8](#H1Expectation)) as"
   ]
  },
  {
   "cell_type": "markdown",
   "id": "47c093cc",
   "metadata": {},
   "source": [
    "<!-- Equation labels as ordinary links -->\n",
    "<div id=\"H1Expectation1\"></div>\n",
    "\n",
    "$$\n",
    "\\begin{equation}\n",
    "  \\int \\Phi^*\\hat{H}_0\\Phi  d\\tau\n",
    "  = \\sum_{\\mu=1}^N \\langle \\mu | \\hat{h}_0 | \\mu \\rangle.\n",
    "\\label{H1Expectation1} \\tag{9}\n",
    "\\end{equation}\n",
    "$$"
   ]
  },
  {
   "cell_type": "markdown",
   "id": "d006fb14",
   "metadata": {},
   "source": [
    "The expectation value of the two-body part of the Hamiltonian is obtained in a\n",
    "similar manner. We have"
   ]
  },
  {
   "cell_type": "markdown",
   "id": "83c8bde7",
   "metadata": {},
   "source": [
    "$$\n",
    "\\int \\Phi^*\\hat{H}_I\\Phi d\\mathbf{\\tau} \n",
    "  = N! \\int \\Phi_H^*\\hat{A}\\hat{H}_I\\hat{A}\\Phi_H d\\mathbf{\\tau},\n",
    "$$"
   ]
  },
  {
   "cell_type": "markdown",
   "id": "f2879538",
   "metadata": {},
   "source": [
    "which reduces to"
   ]
  },
  {
   "cell_type": "markdown",
   "id": "0a5a0772",
   "metadata": {},
   "source": [
    "$$\n",
    "\\int \\Phi^*\\hat{H}_I\\Phi d\\mathbf{\\tau} \n",
    "  = \\sum_{i\\le j=1}^N \\sum_{p} (-)^p\\int \n",
    "  \\Phi_H^*\\hat{v}(r_{ij})\\hat{P}\\Phi_H d\\mathbf{\\tau},\n",
    "$$"
   ]
  },
  {
   "cell_type": "markdown",
   "id": "46bc6356",
   "metadata": {},
   "source": [
    "by following the same arguments as for the one-body\n",
    "Hamiltonian. \n",
    "\n",
    "Because of the dependence on the inter-particle distance $r_{ij}$,  permutations of\n",
    "any two particles no longer vanish, and we get"
   ]
  },
  {
   "cell_type": "markdown",
   "id": "a932bf21",
   "metadata": {},
   "source": [
    "$$\n",
    "\\int \\Phi^*\\hat{H}_I\\Phi d\\mathbf{\\tau} \n",
    "  = \\sum_{i < j=1}^N \\int  \n",
    "  \\Phi_H^*\\hat{v}(r_{ij})(1-P_{ij})\\Phi_H d\\mathbf{\\tau}.\n",
    "$$"
   ]
  },
  {
   "cell_type": "markdown",
   "id": "5109268d",
   "metadata": {},
   "source": [
    "where $P_{ij}$ is the permutation operator that interchanges\n",
    "particle $i$ and particle $j$. Again we use the assumption that the single-particle wave functions\n",
    "are orthogonal. \n",
    "\n",
    "We obtain"
   ]
  },
  {
   "cell_type": "markdown",
   "id": "4b410f40",
   "metadata": {},
   "source": [
    "<!-- Equation labels as ordinary links -->\n",
    "<div id=\"_auto3\"></div>\n",
    "\n",
    "$$\n",
    "\\begin{equation}\n",
    "  \\int \\Phi^*\\hat{H}_I\\Phi d\\mathbf{\\tau} \n",
    "  = \\frac{1}{2}\\sum_{\\mu=1}^N\\sum_{\\nu=1}^N\n",
    "    \\left[ \\int \\psi_{\\mu}^*(x_i)\\psi_{\\nu}^*(x_j)\\hat{v}(r_{ij})\\psi_{\\mu}(x_i)\\psi_{\\nu}(x_j)\n",
    "    dx_idx_j \\right.\n",
    "\\label{_auto3} \\tag{10}\n",
    "\\end{equation}\n",
    "$$"
   ]
  },
  {
   "cell_type": "markdown",
   "id": "a922ebef",
   "metadata": {},
   "source": [
    "<!-- Equation labels as ordinary links -->\n",
    "<div id=\"H2Expectation\"></div>\n",
    "\n",
    "$$\n",
    "\\begin{equation} \n",
    "  \\left.\n",
    "  - \\int \\psi_{\\mu}^*(x_i)\\psi_{\\nu}^*(x_j)\n",
    "  \\hat{v}(r_{ij})\\psi_{\\nu}(x_i)\\psi_{\\mu}(x_j)\n",
    "  dx_idx_j\n",
    "  \\right]. \\label{H2Expectation} \\tag{11}\n",
    "\\end{equation}\n",
    "$$"
   ]
  },
  {
   "cell_type": "markdown",
   "id": "86515f93",
   "metadata": {},
   "source": [
    "The first term is the so-called direct term. It is frequently also called the  Hartree term, \n",
    "while the second is due to the Pauli principle and is called\n",
    "the exchange term or just the Fock term.\n",
    "The factor  $1/2$ is introduced because we now run over\n",
    "all pairs twice. \n",
    "\n",
    "The last equation allows us to  introduce some further definitions.  \n",
    "The single-particle wave functions $\\psi_{\\mu}(x)$, defined by the quantum numbers $\\mu$ and $x$\n",
    "are defined as the overlap"
   ]
  },
  {
   "cell_type": "markdown",
   "id": "113c88de",
   "metadata": {},
   "source": [
    "$$\n",
    "\\psi_{\\alpha}(x)  = \\langle x | \\alpha \\rangle .\n",
    "$$"
   ]
  },
  {
   "cell_type": "markdown",
   "id": "3932e7e5",
   "metadata": {},
   "source": [
    "We introduce the following shorthands for the above two integrals"
   ]
  },
  {
   "cell_type": "markdown",
   "id": "6e69b1c2",
   "metadata": {},
   "source": [
    "$$\n",
    "\\langle \\mu\\nu|\\hat{v}|\\mu\\nu\\rangle =  \\int \\psi_{\\mu}^*(x_i)\\psi_{\\nu}^*(x_j)\\hat{v}(r_{ij})\\psi_{\\mu}(x_i)\\psi_{\\nu}(x_j)\n",
    "    dx_idx_j,\n",
    "$$"
   ]
  },
  {
   "cell_type": "markdown",
   "id": "211c24ca",
   "metadata": {},
   "source": [
    "and"
   ]
  },
  {
   "cell_type": "markdown",
   "id": "d34d8108",
   "metadata": {},
   "source": [
    "$$\n",
    "\\langle \\mu\\nu|\\hat{v}|\\nu\\mu\\rangle = \\int \\psi_{\\mu}^*(x_i)\\psi_{\\nu}^*(x_j)\n",
    "  \\hat{v}(r_{ij})\\psi_{\\nu}(x_i)\\psi_{\\mu}(x_j)\n",
    "  dx_idx_j.\n",
    "$$"
   ]
  },
  {
   "cell_type": "markdown",
   "id": "8a06dab3",
   "metadata": {},
   "source": [
    "## Preparing for later studies: varying the coefficients of a wave function expansion and orthogonal transformations\n",
    "\n",
    "It is common to  expand the single-particle functions in a known basis  and vary the coefficients, \n",
    "that is, the new single-particle wave function is written as a linear expansion\n",
    "in terms of a fixed chosen orthogonal basis (for example the well-known harmonic oscillator functions or the hydrogen-like functions etc).\n",
    "We define our new single-particle basis (this is a normal approach for Hartree-Fock theory) by performing a unitary transformation \n",
    "on our previous basis (labelled with greek indices) as"
   ]
  },
  {
   "cell_type": "markdown",
   "id": "0717407b",
   "metadata": {},
   "source": [
    "<!-- Equation labels as ordinary links -->\n",
    "<div id=\"eq:newbasis\"></div>\n",
    "\n",
    "$$\n",
    "\\begin{equation}\n",
    "\\psi_p^{new}  = \\sum_{\\lambda} C_{p\\lambda}\\phi_{\\lambda}. \\label{eq:newbasis} \\tag{12}\n",
    "\\end{equation}\n",
    "$$"
   ]
  },
  {
   "cell_type": "markdown",
   "id": "9ef803a0",
   "metadata": {},
   "source": [
    "In this case we vary the coefficients $C_{p\\lambda}$. If the basis has infinitely many solutions, we need\n",
    "to truncate the above sum.  We assume that the basis $\\phi_{\\lambda}$ is orthogonal.\n",
    "\n",
    "It is normal to choose a single-particle basis defined as the eigenfunctions\n",
    "of parts of the full Hamiltonian. The typical situation consists of the solutions of the one-body part of the Hamiltonian, that is we have"
   ]
  },
  {
   "cell_type": "markdown",
   "id": "4aa137fe",
   "metadata": {},
   "source": [
    "$$\n",
    "\\hat{h}_0\\phi_{\\lambda}=\\epsilon_{\\lambda}\\phi_{\\lambda}.\n",
    "$$"
   ]
  },
  {
   "cell_type": "markdown",
   "id": "97480c7f",
   "metadata": {},
   "source": [
    "The single-particle wave functions $\\phi_{\\lambda}(\\mathbf{r})$, defined by the quantum numbers $\\lambda$ and $\\mathbf{r}$\n",
    "are defined as the overlap"
   ]
  },
  {
   "cell_type": "markdown",
   "id": "68c2abf9",
   "metadata": {},
   "source": [
    "$$\n",
    "\\phi_{\\lambda}(\\mathbf{r})  = \\langle \\mathbf{r} | \\lambda \\rangle .\n",
    "$$"
   ]
  },
  {
   "cell_type": "markdown",
   "id": "e2940a31",
   "metadata": {},
   "source": [
    "In deriving the Hartree-Fock equations, we  will expand the single-particle functions in a known basis  and vary the coefficients, \n",
    "that is, the new single-particle wave function is written as a linear expansion\n",
    "in terms of a fixed chosen orthogonal basis (for example the well-known harmonic oscillator functions or the hydrogen-like functions etc).\n",
    "\n",
    "We stated that a unitary transformation keeps the orthogonality. To see this consider first a basis of vectors $\\mathbf{v}_i$,"
   ]
  },
  {
   "cell_type": "markdown",
   "id": "58b5ddfa",
   "metadata": {},
   "source": [
    "$$\n",
    "\\mathbf{v}_i = \\begin{bmatrix} v_{i1} \\\\ \\dots \\\\ \\dots \\\\v_{in} \\end{bmatrix}\n",
    "$$"
   ]
  },
  {
   "cell_type": "markdown",
   "id": "907ebf04",
   "metadata": {},
   "source": [
    "We assume that the basis is orthogonal, that is"
   ]
  },
  {
   "cell_type": "markdown",
   "id": "abeffdae",
   "metadata": {},
   "source": [
    "$$\n",
    "\\mathbf{v}_j^T\\mathbf{v}_i = \\delta_{ij}.\n",
    "$$"
   ]
  },
  {
   "cell_type": "markdown",
   "id": "c8312871",
   "metadata": {},
   "source": [
    "An orthogonal or unitary transformation"
   ]
  },
  {
   "cell_type": "markdown",
   "id": "cd073805",
   "metadata": {},
   "source": [
    "$$\n",
    "\\mathbf{w}_i=\\mathbf{U}\\mathbf{v}_i,\n",
    "$$"
   ]
  },
  {
   "cell_type": "markdown",
   "id": "86987890",
   "metadata": {},
   "source": [
    "preserves the dot product and orthogonality since"
   ]
  },
  {
   "cell_type": "markdown",
   "id": "791b9900",
   "metadata": {},
   "source": [
    "$$\n",
    "\\mathbf{w}_j^T\\mathbf{w}_i=(\\mathbf{U}\\mathbf{v}_j)^T\\mathbf{U}\\mathbf{v}_i=\\mathbf{v}_j^T\\mathbf{U}^T\\mathbf{U}\\mathbf{v}_i= \\mathbf{v}_j^T\\mathbf{v}_i = \\delta_{ij}.\n",
    "$$"
   ]
  },
  {
   "cell_type": "markdown",
   "id": "3c6acf70",
   "metadata": {},
   "source": [
    "This means that if the coefficients $C_{p\\lambda}$ belong to a unitary or orthogonal trasformation (using the Dirac bra-ket notation)"
   ]
  },
  {
   "cell_type": "markdown",
   "id": "5d2aa170",
   "metadata": {},
   "source": [
    "$$\n",
    "\\vert p\\rangle  = \\sum_{\\lambda} C_{p\\lambda}\\vert\\lambda\\rangle,\n",
    "$$"
   ]
  },
  {
   "cell_type": "markdown",
   "id": "6eb0b742",
   "metadata": {},
   "source": [
    "orthogonality is preserved, that is $\\langle \\alpha \\vert \\beta\\rangle = \\delta_{\\alpha\\beta}$\n",
    "and $\\langle p \\vert q\\rangle = \\delta_{pq}$. \n",
    "\n",
    "This propertry is extremely useful when we build up a basis of many-body Stater determinant based states. \n",
    "\n",
    "**Note also that although a basis $\\vert \\alpha\\rangle$ contains an infinity of states, for practical calculations we have always to make some truncations.** \n",
    "\n",
    "Before we develop for example the Hartree-Fock equations, there is another very useful property of determinants that we will use both in connection with Hartree-Fock calculations and later shell-model calculations.  \n",
    "\n",
    "Consider the following determinant"
   ]
  },
  {
   "cell_type": "markdown",
   "id": "4b75952f",
   "metadata": {},
   "source": [
    "$$\n",
    "\\left| \\begin{array}{cc} \\alpha_1b_{11}+\\alpha_2sb_{12}& a_{12}\\\\\n",
    "                         \\alpha_1b_{21}+\\alpha_2b_{22}&a_{22}\\end{array} \\right|=\\alpha_1\\left|\\begin{array}{cc} b_{11}& a_{12}\\\\\n",
    "                         b_{21}&a_{22}\\end{array} \\right|+\\alpha_2\\left| \\begin{array}{cc} b_{12}& a_{12}\\\\b_{22}&a_{22}\\end{array} \\right|\n",
    "$$"
   ]
  },
  {
   "cell_type": "markdown",
   "id": "3906b136",
   "metadata": {},
   "source": [
    "We can generalize this to  an $n\\times n$ matrix and have"
   ]
  },
  {
   "cell_type": "markdown",
   "id": "bf0fe58f",
   "metadata": {},
   "source": [
    "$$\n",
    "\\left| \\begin{array}{cccccc} a_{11}& a_{12} & \\dots & \\sum_{k=1}^n c_k b_{1k} &\\dots & a_{1n}\\\\\n",
    "a_{21}& a_{22} & \\dots & \\sum_{k=1}^n c_k b_{2k} &\\dots & a_{2n}\\\\\n",
    "\\dots & \\dots & \\dots & \\dots & \\dots & \\dots \\\\\n",
    "\\dots & \\dots & \\dots & \\dots & \\dots & \\dots \\\\\n",
    "a_{n1}& a_{n2} & \\dots & \\sum_{k=1}^n c_k b_{nk} &\\dots & a_{nn}\\end{array} \\right|=\n",
    "\\sum_{k=1}^n c_k\\left| \\begin{array}{cccccc} a_{11}& a_{12} & \\dots &  b_{1k} &\\dots & a_{1n}\\\\\n",
    "a_{21}& a_{22} & \\dots &  b_{2k} &\\dots & a_{2n}\\\\\n",
    "\\dots & \\dots & \\dots & \\dots & \\dots & \\dots\\\\\n",
    "\\dots & \\dots & \\dots & \\dots & \\dots & \\dots\\\\\n",
    "a_{n1}& a_{n2} & \\dots &  b_{nk} &\\dots & a_{nn}\\end{array} \\right| .\n",
    "$$"
   ]
  },
  {
   "cell_type": "markdown",
   "id": "704ba247",
   "metadata": {},
   "source": [
    "This is a property we will use in our Hartree-Fock discussions. \n",
    "\n",
    "We can generalize the previous results, now \n",
    "with all elements $a_{ij}$  being given as functions of \n",
    "linear combinations  of various coefficients $c$ and elements $b_{ij}$,"
   ]
  },
  {
   "cell_type": "markdown",
   "id": "e9d7b7ca",
   "metadata": {},
   "source": [
    "$$\n",
    "\\left| \\begin{array}{cccccc} \\sum_{k=1}^n b_{1k}c_{k1}& \\sum_{k=1}^n b_{1k}c_{k2} & \\dots & \\sum_{k=1}^n b_{1k}c_{kj}  &\\dots & \\sum_{k=1}^n b_{1k}c_{kn}\\\\\n",
    "\\sum_{k=1}^n b_{2k}c_{k1}& \\sum_{k=1}^n b_{2k}c_{k2} & \\dots & \\sum_{k=1}^n b_{2k}c_{kj} &\\dots & \\sum_{k=1}^n b_{2k}c_{kn}\\\\\n",
    "\\dots & \\dots & \\dots & \\dots & \\dots & \\dots \\\\\n",
    "\\dots & \\dots & \\dots & \\dots & \\dots &\\dots \\\\\n",
    "\\sum_{k=1}^n b_{nk}c_{k1}& \\sum_{k=1}^n b_{nk}c_{k2} & \\dots & \\sum_{k=1}^n b_{nk}c_{kj} &\\dots & \\sum_{k=1}^n b_{nk}c_{kn}\\end{array} \\right|=det(\\mathbf{C})det(\\mathbf{B}),\n",
    "$$"
   ]
  },
  {
   "cell_type": "markdown",
   "id": "c1e53bbd",
   "metadata": {},
   "source": [
    "where $det(\\mathbf{C})$ and $det(\\mathbf{B})$ are the determinants of $n\\times n$ matrices\n",
    "with elements $c_{ij}$ and $b_{ij}$ respectively.  \n",
    "This is a property we will use in our Hartree-Fock discussions. Convince yourself about the correctness of the above expression by setting $n=2$. \n",
    "\n",
    "With our definition of the new basis in terms of an orthogonal basis we have"
   ]
  },
  {
   "cell_type": "markdown",
   "id": "2b9b63d9",
   "metadata": {},
   "source": [
    "$$\n",
    "\\psi_p(x)  = \\sum_{\\lambda} C_{p\\lambda}\\phi_{\\lambda}(x).\n",
    "$$"
   ]
  },
  {
   "cell_type": "markdown",
   "id": "356ac9a3",
   "metadata": {},
   "source": [
    "If the coefficients $C_{p\\lambda}$ belong to an orthogonal or unitary matrix, the new basis\n",
    "is also orthogonal. \n",
    "Our Slater determinant in the new basis $\\psi_p(x)$ is written as"
   ]
  },
  {
   "cell_type": "markdown",
   "id": "d74590b8",
   "metadata": {},
   "source": [
    "$$\n",
    "\\frac{1}{\\sqrt{A!}}\n",
    "\\left| \\begin{array}{ccccc} \\psi_{p}(x_1)& \\psi_{p}(x_2)& \\dots & \\dots & \\psi_{p}(x_A)\\\\\n",
    "                            \\psi_{q}(x_1)&\\psi_{q}(x_2)& \\dots & \\dots & \\psi_{q}(x_A)\\\\  \n",
    "                            \\dots & \\dots & \\dots & \\dots & \\dots \\\\\n",
    "                            \\dots & \\dots & \\dots & \\dots & \\dots \\\\\n",
    "                     \\psi_{t}(x_1)&\\psi_{t}(x_2)& \\dots & \\dots & \\psi_{t}(x_A)\\end{array} \\right|=\\frac{1}{\\sqrt{A!}}\n",
    "\\left| \\begin{array}{ccccc} \\sum_{\\lambda} C_{p\\lambda}\\phi_{\\lambda}(x_1)& \\sum_{\\lambda} C_{p\\lambda}\\phi_{\\lambda}(x_2)& \\dots & \\dots & \\sum_{\\lambda} C_{p\\lambda}\\phi_{\\lambda}(x_A)\\\\\n",
    "                            \\sum_{\\lambda} C_{q\\lambda}\\phi_{\\lambda}(x_1)&\\sum_{\\lambda} C_{q\\lambda}\\phi_{\\lambda}(x_2)& \\dots & \\dots & \\sum_{\\lambda} C_{q\\lambda}\\phi_{\\lambda}(x_A)\\\\  \n",
    "                            \\dots & \\dots & \\dots & \\dots & \\dots \\\\\n",
    "                            \\dots & \\dots & \\dots & \\dots & \\dots \\\\\n",
    "                     \\sum_{\\lambda} C_{t\\lambda}\\phi_{\\lambda}(x_1)&\\sum_{\\lambda} C_{t\\lambda}\\phi_{\\lambda}(x_2)& \\dots & \\dots & \\sum_{\\lambda} C_{t\\lambda}\\phi_{\\lambda}(x_A)\\end{array} \\right|,\n",
    "$$"
   ]
  },
  {
   "cell_type": "markdown",
   "id": "ecf5354b",
   "metadata": {},
   "source": [
    "which is nothing but $det(\\mathbf{C})det(\\Phi)$, with $det(\\Phi)$ being the determinant given by the basis functions $\\phi_{\\lambda}(x)$. \n",
    "\n",
    "In our discussions hereafter we will use our definitions of single-particle states above and below the Fermi ($F$) level given by the labels\n",
    "$ijkl\\dots \\le F$ for so-called single-hole states and $abcd\\dots > F$ for so-called particle states.\n",
    "For general single-particle states we employ the labels $pqrs\\dots$. \n",
    "\n",
    "The energy functional is"
   ]
  },
  {
   "cell_type": "markdown",
   "id": "525071da",
   "metadata": {},
   "source": [
    "$$\n",
    "E[\\Phi] \n",
    "  = \\sum_{\\mu=1}^N \\langle \\mu | h | \\mu \\rangle +\n",
    "  \\frac{1}{2}\\sum_{{\\mu}=1}^N\\sum_{{\\nu}=1}^N \\langle \\mu\\nu|\\hat{v}|\\mu\\nu\\rangle_{AS},\n",
    "$$"
   ]
  },
  {
   "cell_type": "markdown",
   "id": "7f15758e",
   "metadata": {},
   "source": [
    "we found the expression for the energy functional in terms of the basis function $\\phi_{\\lambda}(\\mathbf{r})$. We then  varied the above energy functional with respect to the basis functions $|\\mu \\rangle$. \n",
    "Now we are interested in defining a new basis defined in terms of\n",
    "a chosen basis as defined in Eq. ([12](#eq:newbasis)). We can then rewrite the energy functional as"
   ]
  },
  {
   "cell_type": "markdown",
   "id": "bae04607",
   "metadata": {},
   "source": [
    "<!-- Equation labels as ordinary links -->\n",
    "<div id=\"FunctionalEPhi2\"></div>\n",
    "\n",
    "$$\n",
    "\\begin{equation}\n",
    "  E[\\Phi^{New}] \n",
    "  = \\sum_{i=1}^N \\langle i | h | i \\rangle +\n",
    "  \\frac{1}{2}\\sum_{ij=1}^N\\langle ij|\\hat{v}|ij\\rangle_{AS}, \\label{FunctionalEPhi2} \\tag{13}\n",
    "\\end{equation}\n",
    "$$"
   ]
  },
  {
   "cell_type": "markdown",
   "id": "71eb3e38",
   "metadata": {},
   "source": [
    "where $\\Phi^{New}$ is the new Slater determinant defined by the new basis of Eq. ([12](#eq:newbasis)). \n",
    "\n",
    "Using Eq. ([12](#eq:newbasis)) we can rewrite Eq. ([13](#FunctionalEPhi2)) as"
   ]
  },
  {
   "cell_type": "markdown",
   "id": "0adb6642",
   "metadata": {},
   "source": [
    "<!-- Equation labels as ordinary links -->\n",
    "<div id=\"FunctionalEPhi3\"></div>\n",
    "\n",
    "$$\n",
    "\\begin{equation}\n",
    "  E[\\Psi] \n",
    "  = \\sum_{i=1}^N \\sum_{\\alpha\\beta} C^*_{i\\alpha}C_{i\\beta}\\langle \\alpha | h | \\beta \\rangle +\n",
    "  \\frac{1}{2}\\sum_{ij=1}^N\\sum_{{\\alpha\\beta\\gamma\\delta}} C^*_{i\\alpha}C^*_{j\\beta}C_{i\\gamma}C_{j\\delta}\\langle \\alpha\\beta|\\hat{v}|\\gamma\\delta\\rangle_{AS}. \\label{FunctionalEPhi3} \\tag{14}\n",
    "\\end{equation}\n",
    "$$"
   ]
  },
  {
   "cell_type": "markdown",
   "id": "eb1714e0",
   "metadata": {},
   "source": [
    "## Simple  Hamiltonian models\n",
    "\n",
    "In order to study get started with coding, we will study two simple Hamiltonian systems, one which we can use for a single qubit systems and one which has as basis functions a two-qubit system. These two simple Hamiltonians exhibit also something which is called level crossing, a feature which we will use in later studies of entanglement.\n",
    "\n",
    "We study first a simple two-level system. Thereafter we\n",
    "extend our model to a four-level system which can be\n",
    "interpreted as composed of two separate (not necesseraly identical)\n",
    "subsystems.\n",
    "\n",
    "We let our hamiltonian depend linearly on a strength parameter $z$"
   ]
  },
  {
   "cell_type": "markdown",
   "id": "dba16406",
   "metadata": {},
   "source": [
    "$$\n",
    "H=H_0+\\lambda H_\\mathrm{I},\n",
    "$$"
   ]
  },
  {
   "cell_type": "markdown",
   "id": "086d3a8a",
   "metadata": {},
   "source": [
    "with $\\lambda \\in [0,1]$, where the limits $\\lambda=0$ and $\\lambda=1$\n",
    "represent the non-interacting (or unperturbed) and fully interacting\n",
    "system, respectively.  The model is an eigenvalue problem with only\n",
    "two available states, which we label $\\vert 0\\rangle$ and $\\vert\n",
    "1\\rangle$, respectively. Below we will let state $\\vert 0 \\rangle$\n",
    "represent the lowest state (often referred to as model-space state)\n",
    "with its pertinent eigenvalue and eigenvector whereas state $\\vert 1\\rangle$ represents the eigenvalue of\n",
    "the excluded space.  The non-interacting solutions to our problem are"
   ]
  },
  {
   "cell_type": "markdown",
   "id": "c3847226",
   "metadata": {},
   "source": [
    "<!-- Equation labels as ordinary links -->\n",
    "<div id=\"_auto4\"></div>\n",
    "\n",
    "$$\n",
    "\\begin{equation}\n",
    "       H_0\\vert 0 \\rangle =\\epsilon_0\\vert 0 \\rangle,\n",
    "\\label{_auto4} \\tag{15}\n",
    "\\end{equation}\n",
    "$$"
   ]
  },
  {
   "cell_type": "markdown",
   "id": "9ef5d455",
   "metadata": {},
   "source": [
    "and"
   ]
  },
  {
   "cell_type": "markdown",
   "id": "195a031e",
   "metadata": {},
   "source": [
    "<!-- Equation labels as ordinary links -->\n",
    "<div id=\"_auto5\"></div>\n",
    "\n",
    "$$\n",
    "\\begin{equation}\n",
    "       H_0\\vert 1\\rangle =\\epsilon_1\\vert 1\\rangle,\n",
    "\\label{_auto5} \\tag{16}\n",
    "\\end{equation}\n",
    "$$"
   ]
  },
  {
   "cell_type": "markdown",
   "id": "c86782bf",
   "metadata": {},
   "source": [
    "with $\\epsilon_0 < \\epsilon_1$. We label the off-diagonal matrix\n",
    "elements $X$, while $X_0=\\langle 0 \\vert H_I\\vert 0 \\rangle$ and\n",
    "$X_1=\\langle 1 \\vert H_1\\vert 1 \\rangle$.  The exact eigenvalue\n",
    "problem"
   ]
  },
  {
   "cell_type": "markdown",
   "id": "d83274ce",
   "metadata": {},
   "source": [
    "<!-- Equation labels as ordinary links -->\n",
    "<div id=\"_auto6\"></div>\n",
    "\n",
    "$$\n",
    "\\begin{equation}\n",
    "\\left(\\begin{array}{cc}\\epsilon_0+\\lambda X_0 &\\lambda X \\\\\n",
    "zX &\\epsilon_1+\\lambda X_1 \\end{array}\\right)\n",
    "\\label{_auto6} \\tag{17}\n",
    "\\end{equation}\n",
    "$$"
   ]
  },
  {
   "cell_type": "markdown",
   "id": "a67a83bb",
   "metadata": {},
   "source": [
    "yields"
   ]
  },
  {
   "cell_type": "markdown",
   "id": "d28ed06d",
   "metadata": {},
   "source": [
    "<!-- Equation labels as ordinary links -->\n",
    "<div id=\"eq:exact\"></div>\n",
    "\n",
    "$$\n",
    "\\begin{eqnarray}\n",
    "\\label{eq:exact} \\tag{18}\n",
    "     E(\\lambda)=&\\frac{1}{2}\\left\\{\\epsilon_0 +\\epsilon_1 +\\lambda X_0\n",
    "     +\\lambda X_1 \\pm \\left(\n",
    "     \\epsilon_1 -\\epsilon_0 +\\lambda X_1-\\lambda X_0\\right) \\right. \\\\ \\nonumber\n",
    "     & \\left. \\times\\sqrt{1+\\frac{4\\lambda^2X^2}{\\left(\n",
    "     \\epsilon_1 -\\epsilon_0 +\\lambda X_1-\\lambda X_0\\right)^2}}\n",
    "     \\right\\}.\n",
    "\\end{eqnarray}\n",
    "$$"
   ]
  },
  {
   "cell_type": "markdown",
   "id": "74f50569",
   "metadata": {},
   "source": [
    "In the results below we set the parameters $\\epsilon_0=0$,\n",
    "$\\epsilon_1=4$, $X_0=-X_1=3$ and $X=0.2$.  This eigenvalue problem can\n",
    "easily be rewritten in terms of the standard Pauli matrices.  The\n",
    "non-interacting solutions represent our computational basis.\n",
    "Pertinent to our choice of parameters, is that at $\\lambda\\geq 2/3$,\n",
    "the lowest eigenstate is dominated by $\\vert 1\\rangle$ while the upper\n",
    "is $\\vert 0 \\rangle$. At $\\lambda=1$ the $\\vert 0 \\rangle$ mixing of\n",
    "the lowest eigenvalue is $1\\%$ while for $\\lambda\\leq 2/3$ we have a\n",
    "$\\vert 0 \\rangle$ component of more than $90\\%$.  The character of the\n",
    "eigenvectors has therefore been interchanged when passing $z=2/3$. The\n",
    "value of the parameter $X$ represents the strength of the coupling\n",
    "between the model space and the excluded space.  The following code\n",
    "computes and plots the eigenvalues."
   ]
  },
  {
   "cell_type": "code",
   "execution_count": 1,
   "id": "825cbd50",
   "metadata": {},
   "outputs": [],
   "source": [
    "%matplotlib inline\n",
    "\n",
    "%matplotlib inline\n",
    "\n",
    "from  matplotlib import pyplot as plt\n",
    "import numpy as np\n",
    "dim = 2\n",
    "#Setting up a tridiagonal matrix and finding eigenvectors and eigenvalues\n",
    "Hamiltonian = np.zeros((dim,dim))\n",
    "#number of lambda values\n",
    "n = 100\n",
    "lmbd = np.linspace(0.,1.0,n)\n",
    "e0 = 0.0\n",
    "e1 = 4.0\n",
    "X = 0.20\n",
    "Xp = 3.0\n",
    "Eigenvalue = np.zeros((dim,n))\n",
    "for i in range(n): \n",
    "    Hamiltonian[0,0] = lmbd[i]*Xp+e0\n",
    "    Hamiltonian[0,1] = lmbd[i]*X\n",
    "    Hamiltonian[1,0] = Hamiltonian[0,1]\n",
    "    Hamiltonian[1,1] = e1+lmbd[i]*(-Xp)\n",
    "    # diagonalize and obtain eigenvalues, not necessarily sorted\n",
    "    EigValues, EigVectors = np.linalg.eig(Hamiltonian)\n",
    "    # sort eigenvectors and eigenvalues\n",
    "    permute = EigValues.argsort()\n",
    "    EigValues = EigValues[permute]\n",
    "    EigVectors = EigVectors[:,permute]\n",
    "    Eigenvalue[0,i] = EigValues[0]\n",
    "    Eigenvalue[1,i] = EigValues[1]\n",
    "plt.plot(lmbd, Eigenvalue[0,:] ,'b-',lmbd, Eigenvalue[1,:],'g-',)\n",
    "plt.xlabel('$\\lambda$')\n",
    "plt.ylabel('Eigenvalues')\n",
    "plt.show()"
   ]
  },
  {
   "cell_type": "markdown",
   "id": "547b01a3",
   "metadata": {},
   "source": [
    "This model exhibits a simple level crossing where the\n",
    "composition of the final interacting states change character as we\n",
    "gradually switch on the interaction.\n",
    "\n",
    "We extend the simple two-level system to a four level\n",
    "system. This system can be thought of as composed of two subsystems\n",
    "$A$ and $B$. Each subsystem has computational basis states"
   ]
  },
  {
   "cell_type": "markdown",
   "id": "06432001",
   "metadata": {},
   "source": [
    "$$\n",
    "\\vert 0\\rangle_{\\mathrm{A,B}}=\\begin{bmatrix} 1 & 0\\end{bmatrix}^T \\hspace{1cm} \\vert 1\\rangle_{\\mathrm{A,B}}=\\begin{bmatrix} 0 & 1\\end{bmatrix}^T.\n",
    "$$"
   ]
  },
  {
   "cell_type": "markdown",
   "id": "e321df89",
   "metadata": {},
   "source": [
    "The subsystems could represent single particles or composite many-particle systems of a given symmetry.\n",
    "This leads to the many-body computational basis states"
   ]
  },
  {
   "cell_type": "markdown",
   "id": "90e2d9cb",
   "metadata": {},
   "source": [
    "$$\n",
    "\\vert 00\\rangle = \\vert 0\\rangle_{\\mathrm{A}}\\otimes \\vert 0\\rangle_{\\mathrm{B}}=\\begin{bmatrix} 1 & 0 & 0 &0\\end{bmatrix}^T,\n",
    "$$"
   ]
  },
  {
   "cell_type": "markdown",
   "id": "2532e0bd",
   "metadata": {},
   "source": [
    "and"
   ]
  },
  {
   "cell_type": "markdown",
   "id": "ae699ff1",
   "metadata": {},
   "source": [
    "$$\n",
    "\\vert 10\\rangle = \\vert 1\\rangle_{\\mathrm{A}}\\otimes \\vert 0\\rangle_{\\mathrm{B}}=\\begin{bmatrix} 0 & 1 & 0 &0\\end{bmatrix}^T,\n",
    "$$"
   ]
  },
  {
   "cell_type": "markdown",
   "id": "91f8916d",
   "metadata": {},
   "source": [
    "and"
   ]
  },
  {
   "cell_type": "markdown",
   "id": "bc5921e4",
   "metadata": {},
   "source": [
    "$$\n",
    "\\vert 01\\rangle = \\vert 0\\rangle_{\\mathrm{A}}\\otimes \\vert 1\\rangle_{\\mathrm{B}}=\\begin{bmatrix} 0 & 0 & 1 &0\\end{bmatrix}^T,\n",
    "$$"
   ]
  },
  {
   "cell_type": "markdown",
   "id": "fa4485fc",
   "metadata": {},
   "source": [
    "and finally"
   ]
  },
  {
   "cell_type": "markdown",
   "id": "ea28550e",
   "metadata": {},
   "source": [
    "$$\n",
    "\\vert 11\\rangle = \\vert 1\\rangle_{\\mathrm{A}}\\otimes \\vert 1\\rangle_{\\mathrm{B}}=\\begin{bmatrix} 0 & 0 & 0 &1\\end{bmatrix}^T.\n",
    "$$"
   ]
  },
  {
   "cell_type": "markdown",
   "id": "63425cfc",
   "metadata": {},
   "source": [
    "These computational basis states define also the eigenstates of the non-interacting  Hamiltonian"
   ]
  },
  {
   "cell_type": "markdown",
   "id": "bdb11b48",
   "metadata": {},
   "source": [
    "$$\n",
    "H_0\\vert 00 \\rangle = \\epsilon_{00}\\vert 00 \\rangle,\n",
    "$$"
   ]
  },
  {
   "cell_type": "markdown",
   "id": "c97f34af",
   "metadata": {},
   "source": [
    "$$\n",
    "H_0\\vert 10 \\rangle = \\epsilon_{10}\\vert 10 \\rangle,\n",
    "$$"
   ]
  },
  {
   "cell_type": "markdown",
   "id": "f776106c",
   "metadata": {},
   "source": [
    "$$\n",
    "H_0\\vert 01 \\rangle = \\epsilon_{01}\\vert 01 \\rangle,\n",
    "$$"
   ]
  },
  {
   "cell_type": "markdown",
   "id": "5a9641f0",
   "metadata": {},
   "source": [
    "and"
   ]
  },
  {
   "cell_type": "markdown",
   "id": "7715d719",
   "metadata": {},
   "source": [
    "$$\n",
    "H_0\\vert 11 \\rangle = \\epsilon_{11}\\vert 11 \\rangle.\n",
    "$$"
   ]
  },
  {
   "cell_type": "markdown",
   "id": "635bbdbb",
   "metadata": {},
   "source": [
    "The interacting part of the Hamiltonian $H_{\\mathrm{I}}$ is given by the tensor product of two $\\sigma_x$ and $\\sigma_z$  matrices, respectively, that is"
   ]
  },
  {
   "cell_type": "markdown",
   "id": "4f6dc3a0",
   "metadata": {},
   "source": [
    "$$\n",
    "H_{\\mathrm{I}}=H_x\\sigma_x\\otimes\\sigma_x+H_z\\sigma_z\\otimes\\sigma_z,\n",
    "$$"
   ]
  },
  {
   "cell_type": "markdown",
   "id": "dc678892",
   "metadata": {},
   "source": [
    "where $H_x$ and $H_z$ are interaction strength parameters. Our final Hamiltonian matrix is given by"
   ]
  },
  {
   "cell_type": "markdown",
   "id": "e9f6ed3d",
   "metadata": {},
   "source": [
    "$$\n",
    "\\boldsymbol{H}=\\begin{bmatrix} \\epsilon_{00}+H_z & 0 & 0 & H_x \\\\\n",
    "                       0  & \\epsilon_{10}-H_z & H_x & 0 \\\\\n",
    "\t\t       0 & H_x & \\epsilon_{01}+H_z & 0 \\\\\n",
    "\t\t       H_x & 0 & 0 & \\epsilon_{11} -H_z \\end{bmatrix}.\n",
    "$$"
   ]
  },
  {
   "cell_type": "markdown",
   "id": "d14f9124",
   "metadata": {},
   "source": [
    "The four eigenstates of the above Hamiltonian matrix can in turn be used to\n",
    "define density matrices. As an example, the density matrix of the\n",
    "first eigenstate (lowest energy $E_0$) $\\Psi_0$ is"
   ]
  },
  {
   "cell_type": "markdown",
   "id": "f1c659be",
   "metadata": {},
   "source": [
    "$$\n",
    "\\rho_0=\\left(\\alpha_{00}\\vert 00 \\rangle\\langle 00\\vert+\\alpha_{10}\\vert 10 \\rangle\\langle 10\\vert+\\alpha_{01}\\vert 01 \\rangle\\langle 01\\vert+\\alpha_{11}\\vert 11 \\rangle\\langle 11\\vert\\right),\n",
    "$$"
   ]
  },
  {
   "cell_type": "markdown",
   "id": "14d2d1a5",
   "metadata": {},
   "source": [
    "where the coefficients $\\alpha_{ij}$ are the eigenvector coefficients\n",
    "resulting from the solution of the above eigenvalue problem."
   ]
  },
  {
   "cell_type": "code",
   "execution_count": 2,
   "id": "9d0fea8b",
   "metadata": {},
   "outputs": [],
   "source": [
    "%matplotlib inline\n",
    "from  matplotlib import pyplot as plt\n",
    "import numpy as np\n",
    "from scipy.linalg import logm, expm\n",
    "def log2M(a): # base 2 matrix logarithm\n",
    "    return logm(a)/np.log(2.0)\n",
    "\n",
    "dim = 4\n",
    "Hamiltonian = np.zeros((dim,dim))\n",
    "#number of lambda values\n",
    "n = 40\n",
    "lmbd = np.linspace(0.0,1.0,n)\n",
    "Hx = 2.0\n",
    "Hz = 3.0\n",
    "# Non-diagonal part as sigma_x tensor product with sigma_x\n",
    "sx = np.matrix([[0,1],[1,0]])\n",
    "sx2 = Hx*np.kron(sx, sx)\n",
    "# Diagonal part as sigma_z tensor product with sigma_z\n",
    "sz = np.matrix([[1,0],[0,-1]])\n",
    "sz2 = Hz*np.kron(sz, sz)\n",
    "noninteracting = [0.0, 2.5, 6.5, 7.0]\n",
    "D = np.diag(noninteracting)\n",
    "Eigenvalue = np.zeros((dim,n))\n",
    "\n",
    "for i in range(n): \n",
    "    Hamiltonian = lmbd[i]*(sx2+sz2)+D\n",
    "    # diagonalize and obtain eigenvalues, not necessarily sorted\n",
    "    EigValues, EigVectors = np.linalg.eig(Hamiltonian)\n",
    "    # sort eigenvectors and eigenvalues\n",
    "    permute = EigValues.argsort()\n",
    "    EigValues = EigValues[permute]\n",
    "    EigVectors = EigVectors[:,permute]\n",
    "    # Compute density matrix for selected system state, here ground state\n",
    "    DensityMatrix = np.zeros((dim,dim))\n",
    "    DensityMatrix = np.outer(EigVectors[:,0],EigVectors[:,0])\n",
    "    # Plotting eigenvalues \n",
    "    Eigenvalue[0,i] = EigValues[0]\n",
    "    Eigenvalue[1,i] = EigValues[1]\n",
    "    Eigenvalue[2,i] = EigValues[2]\n",
    "    Eigenvalue[3,i] = EigValues[3]\n",
    "plt.plot(lmbd, Eigenvalue[0,:] ,'b-',lmbd, Eigenvalue[1,:],'g-',)\n",
    "plt.plot(lmbd, Eigenvalue[2,:] ,'r-',lmbd, Eigenvalue[3,:],'y-',)\n",
    "plt.xlabel('$\\lambda$')\n",
    "plt.ylabel('Eigenvalues')\n",
    "plt.show()"
   ]
  }
 ],
 "metadata": {
  "kernelspec": {
   "display_name": "Python 3 (ipykernel)",
   "language": "python",
   "name": "python3"
  },
  "language_info": {
   "codemirror_mode": {
    "name": "ipython",
    "version": 3
   },
   "file_extension": ".py",
   "mimetype": "text/x-python",
   "name": "python",
   "nbconvert_exporter": "python",
   "pygments_lexer": "ipython3",
   "version": "3.9.10"
  }
 },
 "nbformat": 4,
 "nbformat_minor": 5
}
