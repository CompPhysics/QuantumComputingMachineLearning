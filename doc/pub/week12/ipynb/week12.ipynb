{
 "cells": [
  {
   "cell_type": "markdown",
   "id": "119e68ef",
   "metadata": {
    "editable": true
   },
   "source": [
    "<!-- HTML file automatically generated from DocOnce source (https://github.com/doconce/doconce/)\n",
    "doconce format html week12.do.txt --no_mako -->\n",
    "<!-- dom:TITLE: April 24-28, 2023: Quantum Computing, Quantum Machine Learning and Quantum Information Theories -->"
   ]
  },
  {
   "cell_type": "markdown",
   "id": "95ef8347",
   "metadata": {
    "editable": true
   },
   "source": [
    "# April 24-28, 2023: Quantum Computing, Quantum Machine Learning and Quantum Information Theories\n",
    "**Morten Hjorth-Jensen**, Department of Physics, University of Oslo and Department of Physics and Astronomy and Facility for Rare Isotope Beams, Michigan State University\n",
    "\n",
    "Date: **May 14, 2023**\n",
    "\n",
    "Copyright 1999-2023, Morten Hjorth-Jensen. Released under CC Attribution-NonCommercial 4.0 license"
   ]
  },
  {
   "cell_type": "markdown",
   "id": "e51b6bdd",
   "metadata": {
    "editable": true
   },
   "source": [
    "## Quantum Fourier Transform\n",
    "\n",
    "1. Summary of VQE with code examples for one-qubit and two-qubit systems, see also lectures from last week\n",
    "\n",
    "2. Quantum Fourier transforms (QFT) and quantum phase estimation algorithm (QPE)\n",
    "\n",
    "3. [Whiteboard notes](https://github.com/CompPhysics/QuantumComputingMachineLearning/blob/gh-pages/doc/HandWrittenNotes/2023/NotesApril24.pdf)\n",
    "\n",
    "4. [Video of lecture](https://youtu.be/5bgNXjaP8y4)\n",
    "\n",
    "**Reading suggestion:** Hundt sections 6.2-6.4 on QFT and QPE"
   ]
  },
  {
   "cell_type": "markdown",
   "id": "6b03cd0f",
   "metadata": {
    "editable": true
   },
   "source": [
    "## VQE code for the one-qubit case"
   ]
  },
  {
   "cell_type": "code",
   "execution_count": 1,
   "id": "0bd0f884",
   "metadata": {
    "collapsed": false,
    "editable": true
   },
   "outputs": [],
   "source": [
    "%matplotlib inline\n",
    "\n",
    "from  matplotlib import pyplot as plt\n",
    "import numpy as np\n",
    "from scipy.optimize import minimize\n",
    "dim = 2\n",
    "Hamiltonian = np.zeros((dim,dim))\n",
    "e0 = 0.0\n",
    "e1 = 4.0\n",
    "Xnondiag = 0.20\n",
    "Xdiag = 3.0\n",
    "Eigenvalue = np.zeros(dim)\n",
    "# setting up the Hamiltonian\n",
    "Hamiltonian[0,0] = Xdiag+e0\n",
    "Hamiltonian[0,1] = Xnondiag\n",
    "Hamiltonian[1,0] = Hamiltonian[0,1]\n",
    "Hamiltonian[1,1] = e1-Xdiag\n",
    "# diagonalize and obtain eigenvalues, not necessarily sorted\n",
    "EigValues, EigVectors = np.linalg.eig(Hamiltonian)\n",
    "permute = EigValues.argsort()\n",
    "EigValues = EigValues[permute]\n",
    "# print only the lowest eigenvalue\n",
    "print(EigValues[0])\n",
    "\n",
    "# Now rewrite it in terms of the identity matrix and the Pauli matrix X and Z\n",
    "X = np.array([[0,1],[1,0]])\n",
    "Y = np.array([[0,-1j],[1j,0]])\n",
    "Z = np.array([[1,0],[0,-1]])\n",
    "# identity matrix\n",
    "I = np.array([[1,0],[0,1]])\n",
    "\n",
    "epsilon = (e0+e1)*0.5; omega = (e0-e1)*0.5\n",
    "c = 0.0; omega_z=Xdiag; omega_x = Xnondiag\n",
    "Hamiltonian = (epsilon+c)*I+(omega_z+omega)*Z+omega_x*X\n",
    "EigValues, EigVectors = np.linalg.eig(Hamiltonian)\n",
    "permute = EigValues.argsort()\n",
    "EigValues = EigValues[permute]\n",
    "# print only the lowest eigenvalue\n",
    "print(EigValues[0])\n",
    "\n",
    "# define the rotation matrices\n",
    "\n",
    "def Rx(theta):\n",
    "    return np.cos(theta*0.5)*I-1j*np.sin(theta*0.5)*X\n",
    "def Ry(phi):\n",
    "    return np.cos(phi*0.5)*I-1j*np.sin(phi*0.5)*Y\n",
    "\n",
    "#define basis states\n",
    "basis0 = np.array([1,0])\n",
    "basis1 = np.array([0,1])\n",
    "\n",
    "# Computing the expectation value of the energy \n",
    "def Energy(theta,phi):\n",
    "    Basis = Ry(phi) @ Rx(theta) @ basis0\n",
    "    energy = Basis.conj().T @ Hamiltonian @ Basis\n",
    "    return energy\n",
    "\n",
    "\n",
    "# Set up iteration using gradient descent method\n",
    "eta = 0.1\n",
    "Niterations = 100\n",
    "# Random angles using uniform distribution\n",
    "theta = np.pi*np.random.rand()\n",
    "phi = np.pi*np.random.rand()\n",
    "pi2 = 0.5*np.pi\n",
    "for iter in range(Niterations):\n",
    "    thetagradient = 0.5*(Energy(theta+pi2,phi)-Energy(theta-pi2,phi))\n",
    "    phigradient = 0.5*(Energy(theta,phi+pi2)-Energy(theta,phi-pi2))\n",
    "    theta -= eta*thetagradient\n",
    "    phi -= eta*phigradient\n",
    "print(Energy(theta,phi))"
   ]
  },
  {
   "cell_type": "markdown",
   "id": "eccee98b",
   "metadata": {
    "editable": true
   },
   "source": [
    "We see that we get the exact energy. However, this approach relies on\n",
    "tuning the so-called learning rate. This example can easily be\n",
    "extended to more than one qubit. For each qubit we add we get two\n",
    "additional variational parameters (our angles). In our project we stay\n",
    "with this simpler approach."
   ]
  },
  {
   "cell_type": "markdown",
   "id": "11ad873a",
   "metadata": {
    "editable": true
   },
   "source": [
    "## Principle of Superposition and Periodic Forces and Fourier Transforms\n",
    "\n",
    "The Fourier Transform (FT) is one of the most useful mathematical\n",
    "tools in modern science and engineering. It is used in a variety of\n",
    "applications, spanning from the solution of ordinary and partial\n",
    "differential equations to quantum computing.\n",
    "\n",
    "We revisit first some basic mathematical properties of Fourier transforms.\n",
    "\n",
    "Driving forces are often periodic, even when they are not\n",
    "sinusoidal. Periodicity implies that for some time $\\tau$"
   ]
  },
  {
   "cell_type": "markdown",
   "id": "86ebd2e6",
   "metadata": {
    "editable": true
   },
   "source": [
    "$$\n",
    "F(t+\\tau)=F(t).\n",
    "$$"
   ]
  },
  {
   "cell_type": "markdown",
   "id": "4925911b",
   "metadata": {
    "editable": true
   },
   "source": [
    "One example of a non-sinusoidal periodic force is a square wave. Many\n",
    "components in electric circuits are non-linear, e.g. diodes, which\n",
    "makes many wave forms non-sinusoidal even when the circuits are being\n",
    "driven by purely sinusoidal sources.\n",
    "\n",
    "The code here shows a typical example of such a square wave generated\n",
    "using the functionality included in the **scipy** Python package. We\n",
    "have used a period of $\\tau=0.2$."
   ]
  },
  {
   "cell_type": "code",
   "execution_count": 2,
   "id": "75be2d9d",
   "metadata": {
    "collapsed": false,
    "editable": true
   },
   "outputs": [],
   "source": [
    "import numpy as np\n",
    "import math\n",
    "from scipy import signal\n",
    "import matplotlib.pyplot as plt\n",
    "\n",
    "# number of points                                                                                       \n",
    "n = 500\n",
    "# start and final times                                                                                  \n",
    "t0 = 0.0\n",
    "tn = 1.0\n",
    "# Period                                                                                                 \n",
    "t = np.linspace(t0, tn, n, endpoint=False)\n",
    "SqrSignal = np.zeros(n)\n",
    "SqrSignal = 1.0+signal.square(2*np.pi*5*t)\n",
    "plt.plot(t, SqrSignal)\n",
    "plt.ylim(-0.5, 2.5)\n",
    "plt.show()"
   ]
  },
  {
   "cell_type": "markdown",
   "id": "3f07de59",
   "metadata": {
    "editable": true
   },
   "source": [
    "For the sinusoidal example the period is $\\tau=2\\pi/\\omega$. However,\n",
    "higher harmonics can also satisfy the periodicity requirement. In\n",
    "general, any force that satisfies the periodicity requirement can be\n",
    "expressed as a sum over harmonics,"
   ]
  },
  {
   "cell_type": "markdown",
   "id": "3c324c08",
   "metadata": {
    "editable": true
   },
   "source": [
    "<!-- Equation labels as ordinary links -->\n",
    "<div id=\"_auto1\"></div>\n",
    "\n",
    "$$\n",
    "\\begin{equation}\n",
    "F(t)=\\frac{f_0}{2}+\\sum_{n>0} f_n\\cos(2n\\pi t/\\tau)+g_n\\sin(2n\\pi t/\\tau).\n",
    "\\label{_auto1} \\tag{1}\n",
    "\\end{equation}\n",
    "$$"
   ]
  },
  {
   "cell_type": "markdown",
   "id": "75772d28",
   "metadata": {
    "editable": true
   },
   "source": [
    "We can write down the answer for\n",
    "$x_{pn}(t)$, by substituting $f_n/m$ or $g_n/m$ for $F_0/m$. By\n",
    "writing each factor $2n\\pi t/\\tau$ as $n\\omega t$, with $\\omega\\equiv\n",
    "2\\pi/\\tau$,"
   ]
  },
  {
   "cell_type": "markdown",
   "id": "bf154b60",
   "metadata": {
    "editable": true
   },
   "source": [
    "<!-- Equation labels as ordinary links -->\n",
    "<div id=\"eq:fourierdef1\"></div>\n",
    "\n",
    "$$\n",
    "\\begin{equation}\n",
    "\\label{eq:fourierdef1} \\tag{2}\n",
    "F(t)=\\frac{f_0}{2}+\\sum_{n>0}f_n\\cos(n\\omega t)+g_n\\sin(n\\omega t).\n",
    "\\end{equation}\n",
    "$$"
   ]
  },
  {
   "cell_type": "markdown",
   "id": "96a195db",
   "metadata": {
    "editable": true
   },
   "source": [
    "The solutions for $x(t)$ then come from replacing $\\omega$ with\n",
    "$n\\omega$ for each term in the particular solution,"
   ]
  },
  {
   "cell_type": "markdown",
   "id": "bfe0df83",
   "metadata": {
    "editable": true
   },
   "source": [
    "$$\n",
    "\\begin{eqnarray}\n",
    "x_p(t)&=&\\frac{f_0}{2k}+\\sum_{n>0} \\alpha_n\\cos(n\\omega t-\\delta_n)+\\beta_n\\sin(n\\omega t-\\delta_n),\\\\\n",
    "\\nonumber\n",
    "\\alpha_n&=&\\frac{f_n/m}{\\sqrt{((n\\omega)^2-\\omega_0^2)+4\\beta^2n^2\\omega^2}},\\\\\n",
    "\\nonumber\n",
    "\\beta_n&=&\\frac{g_n/m}{\\sqrt{((n\\omega)^2-\\omega_0^2)+4\\beta^2n^2\\omega^2}},\\\\\n",
    "\\nonumber\n",
    "\\delta_n&=&\\tan^{-1}\\left(\\frac{2\\beta n\\omega}{\\omega_0^2-n^2\\omega^2}\\right).\n",
    "\\end{eqnarray}\n",
    "$$"
   ]
  },
  {
   "cell_type": "markdown",
   "id": "0e307ef7",
   "metadata": {
    "editable": true
   },
   "source": [
    "## Finding the Coefficients\n",
    "\n",
    "Because the forces have been applied for a long time, any non-zero\n",
    "damping eliminates the homogenous parts of the solution, so one need\n",
    "only consider the particular solution for each $n$.\n",
    "\n",
    "The problem is considered solved if one can find expressions for the\n",
    "coefficients $f_n$ and $g_n$, even though the solutions are expressed\n",
    "as an infinite sum. The coefficients can be extracted from the\n",
    "function $F(t)$ by"
   ]
  },
  {
   "cell_type": "markdown",
   "id": "2adbdd07",
   "metadata": {
    "editable": true
   },
   "source": [
    "<!-- Equation labels as ordinary links -->\n",
    "<div id=\"eq:fourierdef2\"></div>\n",
    "\n",
    "$$\n",
    "\\begin{eqnarray}\n",
    "\\label{eq:fourierdef2} \\tag{3}\n",
    "f_n&=&\\frac{2}{\\tau}\\int_{-\\tau/2}^{\\tau/2} dt~F(t)\\cos(2n\\pi t/\\tau),\\\\\n",
    "\\nonumber\n",
    "g_n&=&\\frac{2}{\\tau}\\int_{-\\tau/2}^{\\tau/2} dt~F(t)\\sin(2n\\pi t/\\tau).\n",
    "\\end{eqnarray}\n",
    "$$"
   ]
  },
  {
   "cell_type": "markdown",
   "id": "5d1f20b9",
   "metadata": {
    "editable": true
   },
   "source": [
    "To check the consistency of these expressions and to verify\n",
    "Eq. ([3](#eq:fourierdef2)), one can insert the expansion of $F(t)$ in\n",
    "Eq. ([2](#eq:fourierdef1)) into the expression for the coefficients in\n",
    "Eq. ([3](#eq:fourierdef2)) and see whether"
   ]
  },
  {
   "cell_type": "markdown",
   "id": "fdb444ba",
   "metadata": {
    "editable": true
   },
   "source": [
    "$$\n",
    "\\begin{eqnarray}\n",
    "f_n&=?&\\frac{2}{\\tau}\\int_{-\\tau/2}^{\\tau/2} dt~\\left\\{\n",
    "\\frac{f_0}{2}+\\sum_{m>0}f_m\\cos(m\\omega t)+g_m\\sin(m\\omega t)\n",
    "\\right\\}\\cos(n\\omega t).\n",
    "\\end{eqnarray}\n",
    "$$"
   ]
  },
  {
   "cell_type": "markdown",
   "id": "b8cd7bb0",
   "metadata": {
    "editable": true
   },
   "source": [
    "Immediately, one can throw away all the terms with $g_m$ because they\n",
    "convolute an even and an odd function. The term with $f_0/2$\n",
    "disappears because $\\cos(n\\omega t)$ is equally positive and negative\n",
    "over the interval and will integrate to zero. For all the terms\n",
    "$f_m\\cos(m\\omega t)$ appearing in the sum, one can use angle addition\n",
    "formulas to see that $\\cos(m\\omega t)\\cos(n\\omega\n",
    "t)=(1/2)(\\cos[(m+n)\\omega t]+\\cos[(m-n)\\omega t]$. This will integrate\n",
    "to zero unless $m=n$. In that case the $m=n$ term gives"
   ]
  },
  {
   "cell_type": "markdown",
   "id": "0dbc2f29",
   "metadata": {
    "editable": true
   },
   "source": [
    "<!-- Equation labels as ordinary links -->\n",
    "<div id=\"_auto2\"></div>\n",
    "\n",
    "$$\n",
    "\\begin{equation}\n",
    "\\int_{-\\tau/2}^{\\tau/2}dt~\\cos^2(m\\omega t)=\\frac{\\tau}{2},\n",
    "\\label{_auto2} \\tag{4}\n",
    "\\end{equation}\n",
    "$$"
   ]
  },
  {
   "cell_type": "markdown",
   "id": "711053ae",
   "metadata": {
    "editable": true
   },
   "source": [
    "and"
   ]
  },
  {
   "cell_type": "markdown",
   "id": "4f325938",
   "metadata": {
    "editable": true
   },
   "source": [
    "$$\n",
    "\\begin{eqnarray}\n",
    "f_n&=?&\\frac{2}{\\tau}\\int_{-\\tau/2}^{\\tau/2} dt~f_n/2\\\\\n",
    "\\nonumber\n",
    "&=&f_n~\\checkmark.\n",
    "\\end{eqnarray}\n",
    "$$"
   ]
  },
  {
   "cell_type": "markdown",
   "id": "d7972731",
   "metadata": {
    "editable": true
   },
   "source": [
    "The same method can be used to check for the consistency of $g_n$."
   ]
  },
  {
   "cell_type": "markdown",
   "id": "988ed1c9",
   "metadata": {
    "editable": true
   },
   "source": [
    "## Final words on Fourier Transforms\n",
    "\n",
    "The code here uses the Fourier series applied to a \n",
    "square wave signal. The code here\n",
    "visualizes the various approximations given by Fourier series compared\n",
    "with a square wave with period $T=0.2$ (dimensionless time), width $0.1$ and max value of the force $F=2$. We\n",
    "see that when we increase the number of components in the Fourier\n",
    "series, the Fourier series approximation gets closer and closer to the\n",
    "square wave signal."
   ]
  },
  {
   "cell_type": "code",
   "execution_count": 3,
   "id": "de2b9d33",
   "metadata": {
    "collapsed": false,
    "editable": true
   },
   "outputs": [],
   "source": [
    "import numpy as np\n",
    "import math\n",
    "from scipy import signal\n",
    "import matplotlib.pyplot as plt\n",
    "\n",
    "# number of points                                                                                       \n",
    "n = 500\n",
    "# start and final times                                                                                  \n",
    "t0 = 0.0\n",
    "tn = 1.0\n",
    "# Period                                                                                                 \n",
    "T =0.2\n",
    "# Max value of square signal                                                                             \n",
    "Fmax= 2.0\n",
    "# Width of signal   \n",
    "Width = 0.1\n",
    "t = np.linspace(t0, tn, n, endpoint=False)\n",
    "SqrSignal = np.zeros(n)\n",
    "FourierSeriesSignal = np.zeros(n)\n",
    "SqrSignal = 1.0+signal.square(2*np.pi*5*t+np.pi*Width/T)\n",
    "a0 = Fmax*Width/T\n",
    "FourierSeriesSignal = a0\n",
    "Factor = 2.0*Fmax/np.pi\n",
    "for i in range(1,500):\n",
    "    FourierSeriesSignal += Factor/(i)*np.sin(np.pi*i*Width/T)*np.cos(i*t*2*np.pi/T)\n",
    "plt.plot(t, SqrSignal)\n",
    "plt.plot(t, FourierSeriesSignal)\n",
    "plt.ylim(-0.5, 2.5)\n",
    "plt.show()"
   ]
  },
  {
   "cell_type": "markdown",
   "id": "409e0f72",
   "metadata": {
    "editable": true
   },
   "source": [
    "### Discrete Fourier Transformations\n",
    "\n",
    "Consider two sets of complex numbers $x_k$ and $y_k$ with\n",
    "$k=0,1,\\dots,n-1$ entries. The discrete Fourier transform is defined\n",
    "as"
   ]
  },
  {
   "cell_type": "markdown",
   "id": "866ebf8b",
   "metadata": {
    "editable": true
   },
   "source": [
    "$$\n",
    "y_k = \\frac{1}{\\sqrt{n-1}} \\sum_{j=0}^{n-1} \\exp{(\\frac{2\\pi\\imath jk}{n})} x_j.\n",
    "$$"
   ]
  },
  {
   "cell_type": "markdown",
   "id": "f7911182",
   "metadata": {
    "editable": true
   },
   "source": [
    "As an example, assume $x_0=1$ and $x_1=1$. We can then use the above expression to find $y_0$ and $y_1$.\n",
    "\n",
    "With the above formula we get then"
   ]
  },
  {
   "cell_type": "markdown",
   "id": "8bf6cdca",
   "metadata": {
    "editable": true
   },
   "source": [
    "$$\n",
    "y_0 = \\frac{1}{\\sqrt{2}} \\left( \\exp{(\\frac{2\\pi\\imath 0\\times 1}{2})} \\times 1+\\exp{(\\frac{2\\pi\\imath 0\\times 1}{2})}\\times 2\\right)=\\frac{1}{\\sqrt{2}}(1+2)=\\frac{3}{\\sqrt{2}},\n",
    "$$"
   ]
  },
  {
   "cell_type": "markdown",
   "id": "88995db2",
   "metadata": {
    "editable": true
   },
   "source": [
    "and"
   ]
  },
  {
   "cell_type": "markdown",
   "id": "7a593e0c",
   "metadata": {
    "editable": true
   },
   "source": [
    "$$\n",
    "y_1 = \\frac{1}{\\sqrt{2}} \\left( \\exp{(\\frac{2\\pi\\imath 0\\times 1}{2})} \\times 1+\\exp{(\\frac{2\\pi\\imath 1\\times 1}{2})}\\times 2\\right)=\\frac{1}{\\sqrt{2}}(1+2\\exp{(\\pi\\imath)})=-\\frac{1}{\\sqrt{2}},\n",
    "$$"
   ]
  },
  {
   "cell_type": "markdown",
   "id": "94c8ed3e",
   "metadata": {
    "editable": true
   },
   "source": [
    "We can rewrite this in terms of the following matrix-vector operation"
   ]
  },
  {
   "cell_type": "markdown",
   "id": "d9a06cb5",
   "metadata": {
    "editable": true
   },
   "source": [
    "## Quantum Fourier Transforms\n",
    "\n",
    "[See notes from April 24](https://github.com/CompPhysics/QuantumComputingMachineLearning/blob/gh-pages/doc/HandWrittenNotes/2023/NotesApril24.pdf)"
   ]
  },
  {
   "cell_type": "markdown",
   "id": "d171ebe8",
   "metadata": {
    "editable": true
   },
   "source": [
    "## Plans for the week of May 8-12\n",
    "\n",
    "1. Quantum Fourier transforms\n",
    "\n",
    "2. Quantum Phase Estimation algorithm\n",
    "\n",
    "3. Reading suggestion: Hundt section 6.2-6.4"
   ]
  }
 ],
 "metadata": {},
 "nbformat": 4,
 "nbformat_minor": 5
}
