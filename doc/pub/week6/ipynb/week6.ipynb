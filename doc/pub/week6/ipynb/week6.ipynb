{
 "cells": [
  {
   "cell_type": "markdown",
   "id": "850a6c88",
   "metadata": {
    "editable": true
   },
   "source": [
    "<!-- HTML file automatically generated from DocOnce source (https://github.com/doconce/doconce/)\n",
    "doconce format html week6.do.txt --no_mako -->\n",
    "<!-- dom:TITLE: February 27-March 3, 2023: Quantum Computing, Quantum Machine Learning and Quantum Information Theories -->"
   ]
  },
  {
   "cell_type": "markdown",
   "id": "055a408e",
   "metadata": {
    "editable": true
   },
   "source": [
    "# February 27-March 3, 2023: Quantum Computing, Quantum Machine Learning and Quantum Information Theories\n",
    "**Morten Hjorth-Jensen**, Department of Physics, University of Oslo and Department of Physics and Astronomy and Facility for Rare Isotope Beams, Michigan State University\n",
    "\n",
    "Date: **February 27-March 3**"
   ]
  },
  {
   "cell_type": "markdown",
   "id": "5e113759",
   "metadata": {
    "editable": true
   },
   "source": [
    "## Quantum gates and circuits and quantum Fourier transforms\n",
    "\n",
    "1. Review of density matrices and entropies from last week, see jupyter-notebook at <https://github.com/CompPhysics/QuantumComputingMachineLearning/blob/gh-pages/doc/pub/week5/ipynb/week5.ipynb> and [whiteboard notes](https://github.com/CompPhysics/QuantumComputingMachineLearning/tree/gh-pages/doc/HandWrittenNotes/2023/NotesFebruary20.pdf)\n",
    "\n",
    "2. Quantum gates and operations and simple quantum algorithms\n",
    "\n",
    "3. Quantum Fourier Transforms\n",
    "\n",
    "* [Video of lecture](https://youtu.be/IkD0fiBhxd0)"
   ]
  },
  {
   "cell_type": "markdown",
   "id": "37ca3eb5",
   "metadata": {
    "editable": true
   },
   "source": [
    "## Entropies and density matrices\n",
    "\n",
    "[See whiteboard notes](https://github.com/CompPhysics/QuantumComputingMachineLearning/tree/gh-pages/doc/HandWrittenNotes/2023/NotesFebruary20.pdf)"
   ]
  },
  {
   "cell_type": "markdown",
   "id": "02a34e64",
   "metadata": {
    "editable": true
   },
   "source": [
    "### Shannon information entropy\n",
    "\n",
    "We define a set of random variables $X=\\{x_0,x_1,\\dots,x_{n-1}\\}$ with\n",
    "probability for an outcome $x\\in X$ given by $p_X(x)$, the information\n",
    "entropy is defined as"
   ]
  },
  {
   "cell_type": "markdown",
   "id": "72c12947",
   "metadata": {
    "editable": true
   },
   "source": [
    "$$\n",
    "S=-\\sum_{x\\in X}p_X(x)\\log_2{p_X(x)}.\n",
    "$$"
   ]
  },
  {
   "cell_type": "markdown",
   "id": "b4d07076",
   "metadata": {
    "editable": true
   },
   "source": [
    "### Von Neumann entropy"
   ]
  },
  {
   "cell_type": "markdown",
   "id": "c396185c",
   "metadata": {
    "editable": true
   },
   "source": [
    "$$\n",
    "S=-\\mathrm{Tr}[\\rho\\log_2{\\rho}].\n",
    "$$"
   ]
  },
  {
   "cell_type": "markdown",
   "id": "3b4da702",
   "metadata": {
    "editable": true
   },
   "source": [
    "### Two-qubit system and definition of density matrices\n",
    "\n",
    "This system can be thought of as composed of two subsystems\n",
    "$A$ and $B$. Each subsystem has computational basis states"
   ]
  },
  {
   "cell_type": "markdown",
   "id": "230ccce1",
   "metadata": {
    "editable": true
   },
   "source": [
    "$$\n",
    "\\vert 0\\rangle_{\\mathrm{A,B}}=\\begin{bmatrix} 1 & 0\\end{bmatrix}^T \\hspace{1cm} \\vert 1\\rangle_{\\mathrm{A,B}}=\\begin{bmatrix} 0 & 1\\end{bmatrix}^T.\n",
    "$$"
   ]
  },
  {
   "cell_type": "markdown",
   "id": "716db08e",
   "metadata": {
    "editable": true
   },
   "source": [
    "The subsystems could represent single particles or composite many-particle systems of a given symmetry.\n",
    "This leads to the many-body computational basis states"
   ]
  },
  {
   "cell_type": "markdown",
   "id": "9bf426b0",
   "metadata": {
    "editable": true
   },
   "source": [
    "$$\n",
    "\\vert 00\\rangle = \\vert 0\\rangle_{\\mathrm{A}}\\otimes \\vert 0\\rangle_{\\mathrm{B}}=\\begin{bmatrix} 1 & 0 & 0 &0\\end{bmatrix}^T,\n",
    "$$"
   ]
  },
  {
   "cell_type": "markdown",
   "id": "6e640d9d",
   "metadata": {
    "editable": true
   },
   "source": [
    "and"
   ]
  },
  {
   "cell_type": "markdown",
   "id": "775e6b33",
   "metadata": {
    "editable": true
   },
   "source": [
    "$$\n",
    "\\vert 01\\rangle = \\vert 0\\rangle_{\\mathrm{A}}\\otimes \\vert 1\\rangle_{\\mathrm{B}}=\\begin{bmatrix} 0 & 1 & 0 &0\\end{bmatrix}^T,\n",
    "$$"
   ]
  },
  {
   "cell_type": "markdown",
   "id": "3c900654",
   "metadata": {
    "editable": true
   },
   "source": [
    "and"
   ]
  },
  {
   "cell_type": "markdown",
   "id": "b7fa7a0d",
   "metadata": {
    "editable": true
   },
   "source": [
    "$$\n",
    "\\vert 10\\rangle = \\vert 1\\rangle_{\\mathrm{A}}\\otimes \\vert 0\\rangle_{\\mathrm{B}}=\\begin{bmatrix} 0 & 0 & 1 &0\\end{bmatrix}^T,\n",
    "$$"
   ]
  },
  {
   "cell_type": "markdown",
   "id": "fe903ab5",
   "metadata": {
    "editable": true
   },
   "source": [
    "and finally"
   ]
  },
  {
   "cell_type": "markdown",
   "id": "dab4150d",
   "metadata": {
    "editable": true
   },
   "source": [
    "$$\n",
    "\\vert 11\\rangle = \\vert 1\\rangle_{\\mathrm{A}}\\otimes \\vert 1\\rangle_{\\mathrm{B}}=\\begin{bmatrix} 0 & 0 & 0 &1\\end{bmatrix}^T.\n",
    "$$"
   ]
  },
  {
   "cell_type": "markdown",
   "id": "667b338e",
   "metadata": {
    "editable": true
   },
   "source": [
    "These computational basis states define also the eigenstates of the non-interacting  Hamiltonian"
   ]
  },
  {
   "cell_type": "markdown",
   "id": "2beae62a",
   "metadata": {
    "editable": true
   },
   "source": [
    "$$\n",
    "H_0\\vert 00 \\rangle = \\epsilon_{00}\\vert 00 \\rangle,\n",
    "$$"
   ]
  },
  {
   "cell_type": "markdown",
   "id": "bd4155f7",
   "metadata": {
    "editable": true
   },
   "source": [
    "$$\n",
    "H_0\\vert 10 \\rangle = \\epsilon_{10}\\vert 10 \\rangle,\n",
    "$$"
   ]
  },
  {
   "cell_type": "markdown",
   "id": "ffbef43b",
   "metadata": {
    "editable": true
   },
   "source": [
    "$$\n",
    "H_0\\vert 01 \\rangle = \\epsilon_{01}\\vert 01 \\rangle,\n",
    "$$"
   ]
  },
  {
   "cell_type": "markdown",
   "id": "b596c8b3",
   "metadata": {
    "editable": true
   },
   "source": [
    "and"
   ]
  },
  {
   "cell_type": "markdown",
   "id": "ec17d5c9",
   "metadata": {
    "editable": true
   },
   "source": [
    "$$\n",
    "H_0\\vert 11 \\rangle = \\epsilon_{11}\\vert 11 \\rangle.\n",
    "$$"
   ]
  },
  {
   "cell_type": "markdown",
   "id": "b474370d",
   "metadata": {
    "editable": true
   },
   "source": [
    "The interacting part of the Hamiltonian $H_{\\mathrm{I}}$ is given by the tensor product of two $\\sigma_x$ and $\\sigma_z$  matrices, respectively, that is"
   ]
  },
  {
   "cell_type": "markdown",
   "id": "586e272c",
   "metadata": {
    "editable": true
   },
   "source": [
    "$$\n",
    "H_{\\mathrm{I}}=H_x\\sigma_x\\otimes\\sigma_x+H_z\\sigma_z\\otimes\\sigma_z,\n",
    "$$"
   ]
  },
  {
   "cell_type": "markdown",
   "id": "532dd9eb",
   "metadata": {
    "editable": true
   },
   "source": [
    "where $H_x$ and $H_z$ are interaction strength parameters. Our final Hamiltonian matrix is given by"
   ]
  },
  {
   "cell_type": "markdown",
   "id": "b39a1da0",
   "metadata": {
    "editable": true
   },
   "source": [
    "$$\n",
    "\\boldsymbol{H}=\\begin{bmatrix} \\epsilon_{00}+H_z & 0 & 0 & H_x \\\\\n",
    "                       0  & \\epsilon_{10}-H_z & H_x & 0 \\\\\n",
    "\t\t       0 & H_x & \\epsilon_{01}-H_z & 0 \\\\\n",
    "\t\t       H_x & 0 & 0 & \\epsilon_{11} +H_z \\end{bmatrix}.\n",
    "$$"
   ]
  },
  {
   "cell_type": "markdown",
   "id": "99ffea09",
   "metadata": {
    "editable": true
   },
   "source": [
    "The four eigenstates of the above Hamiltonian matrix can in turn be used to\n",
    "define density matrices. As an example, the density matrix of the\n",
    "first eigenstate (lowest energy $E_0$) $\\Psi_0$ is"
   ]
  },
  {
   "cell_type": "markdown",
   "id": "8a465500",
   "metadata": {
    "editable": true
   },
   "source": [
    "$$\n",
    "\\rho_0=\\left(\\alpha_{00}\\vert 00 \\rangle\\langle 00\\vert+\\alpha_{10}\\vert 10 \\rangle\\langle 10\\vert+\\alpha_{01}\\vert 01 \\rangle\\langle 01\\vert+\\alpha_{11}\\vert 11 \\rangle\\langle 11\\vert\\right),\n",
    "$$"
   ]
  },
  {
   "cell_type": "markdown",
   "id": "fc160117",
   "metadata": {
    "editable": true
   },
   "source": [
    "where the coefficients $\\alpha_{ij}$ are the eigenvector coefficients\n",
    "resulting from the solution of the above eigenvalue problem.\n",
    "\n",
    "We can\n",
    "then in turn define the density matrix for the subsets $A$ or $B$ as"
   ]
  },
  {
   "cell_type": "markdown",
   "id": "ae6aa838",
   "metadata": {
    "editable": true
   },
   "source": [
    "$$\n",
    "\\rho_A=\\mathrm{Tr}_B(\\rho_{0})=\\langle 0 \\vert \\rho_{0} \\vert 0\\rangle_{B}+\\langle 1 \\vert \\rho_{0} \\vert 1\\rangle_{B},\n",
    "$$"
   ]
  },
  {
   "cell_type": "markdown",
   "id": "69c47d21",
   "metadata": {
    "editable": true
   },
   "source": [
    "or"
   ]
  },
  {
   "cell_type": "markdown",
   "id": "8d69e8f5",
   "metadata": {
    "editable": true
   },
   "source": [
    "$$\n",
    "\\rho_B=\\mathrm{Tr}_A(\\rho_0)=\\langle 0 \\vert \\rho_{0} \\vert 0\\rangle_{A}+\\langle 1 \\vert \\rho_{0} \\vert 1\\rangle_{A}.\n",
    "$$"
   ]
  },
  {
   "cell_type": "markdown",
   "id": "2560bd50",
   "metadata": {
    "editable": true
   },
   "source": [
    "The density matrices for these subsets can be used to compute the\n",
    "so-called von Neumann entropy, which is one of the possible measures\n",
    "of entanglement. A pure state has entropy equal zero while entangled\n",
    "state have an entropy larger than zero. The von-Neumann entropy is\n",
    "defined as"
   ]
  },
  {
   "cell_type": "markdown",
   "id": "93f76743",
   "metadata": {
    "editable": true
   },
   "source": [
    "$$\n",
    "S(A,B)=-\\mathrm{Tr}\\left(\\rho_{A,B}\\log_2 (\\rho_{A,B})\\right).\n",
    "$$"
   ]
  },
  {
   "cell_type": "markdown",
   "id": "505d7b23",
   "metadata": {
    "editable": true
   },
   "source": [
    "The example here shows the above von Neumann entropy based on the\n",
    "density matrix for the lowest many-body state. We see clearly a jump\n",
    "in the entropy around the point where we have a level crossing. At\n",
    "interaction strenght $\\lambda=0$ we have many-body states purely\n",
    "defined by their computational basis states. As we switch on the\n",
    "interaction strength, we obtain an increased degree of mixing and the\n",
    "entropy increases till we reach the level crossing point where we see\n",
    "an additional and sudden increase in entropy. Similar behaviors are\n",
    "observed for the other states. The most important result from this\n",
    "example is that entanglement is driven by the Hamiltonian itself and\n",
    "the strength of the interaction matrix elements and the\n",
    "non-interacting energies."
   ]
  },
  {
   "cell_type": "code",
   "execution_count": 1,
   "id": "13a3a817",
   "metadata": {
    "collapsed": false,
    "editable": true
   },
   "outputs": [],
   "source": [
    "%matplotlib inline\n",
    "\n",
    "%matplotlib inline\n",
    "from  matplotlib import pyplot as plt\n",
    "import numpy as np\n",
    "from scipy.linalg import logm, expm\n",
    "def log2M(a): # base 2 matrix logarithm\n",
    "    return logm(a)/np.log(2.0)\n",
    "\n",
    "dim = 4\n",
    "Hamiltonian = np.zeros((dim,dim))\n",
    "#number of lambda values\n",
    "n = 40\n",
    "lmbd = np.linspace(0.0,1.0,n)\n",
    "Hx = 2.0\n",
    "Hz = 3.0\n",
    "# Non-diagonal part as sigma_x tensor product with sigma_x\n",
    "sx = np.matrix([[0,1],[1,0]])\n",
    "sx2 = Hx*np.kron(sx, sx)\n",
    "# Diagonal part as sigma_z tensor product with sigma_z\n",
    "sz = np.matrix([[1,0],[0,-1]])\n",
    "sz2 = Hz*np.kron(sz, sz)\n",
    "noninteracting = [0.0, 2.5, 6.5, 7.0]\n",
    "D = np.diag(noninteracting)\n",
    "Eigenvalue = np.zeros((dim,n))\n",
    "Entropy = np.zeros(n)\n",
    "\n",
    "for i in range(n): \n",
    "    Hamiltonian = lmbd[i]*(sx2+sz2)+D\n",
    "    # diagonalize and obtain eigenvalues, not necessarily sorted\n",
    "    EigValues, EigVectors = np.linalg.eig(Hamiltonian)\n",
    "    # sort eigenvectors and eigenvalues\n",
    "    permute = EigValues.argsort()\n",
    "    EigValues = EigValues[permute]\n",
    "    EigVectors = EigVectors[:,permute]\n",
    "    # Compute density matrix for selected system state, here ground state\n",
    "    DensityMatrix = np.zeros((dim,dim))\n",
    "    DensityMatrix = np.outer(EigVectors[:,0],EigVectors[:,0])\n",
    "    # Project down on substates and find density matrix for subsystem\n",
    "    d = np.matrix([[1,0],[0,1]])\n",
    "    v1 = [1.0,0.0]\n",
    "    proj1 = np.kron(v1,d)\n",
    "    x1 = proj1 @ DensityMatrix @ proj1.T\n",
    "    v2 = [0.0,1.0]\n",
    "    proj2 = np.kron(v2,d)\n",
    "    x2 = proj2 @ DensityMatrix @ proj2.T\n",
    "    # Total density matrix for subsystem\n",
    "    total = x1+x2\n",
    "    # von Neumann Entropy for subsystem \n",
    "    Entropy[i] = -np.matrix.trace(total @ log2M(total))\n",
    "    # Plotting eigenvalues and entropy as functions of interaction strengths\n",
    "    Eigenvalue[0,i] = EigValues[0]\n",
    "    Eigenvalue[1,i] = EigValues[1]\n",
    "    Eigenvalue[2,i] = EigValues[2]\n",
    "    Eigenvalue[3,i] = EigValues[3]\n",
    "plt.plot(lmbd, Eigenvalue[0,:] ,'b-',lmbd, Eigenvalue[1,:],'g-',)\n",
    "plt.plot(lmbd, Eigenvalue[2,:] ,'r-',lmbd, Eigenvalue[3,:],'y-',)\n",
    "plt.xlabel('$\\lambda$')\n",
    "plt.ylabel('Eigenvalues')\n",
    "plt.show()\n",
    "plt.plot(lmbd, Entropy)\n",
    "plt.xlabel('$\\lambda$')\n",
    "plt.ylabel('Entropy')          \n",
    "plt.show"
   ]
  },
  {
   "cell_type": "markdown",
   "id": "5d8fa8c9",
   "metadata": {
    "editable": true
   },
   "source": [
    "## Quantum gates, circuits and simple algorithms\n",
    "\n",
    "Quantum gates are physical actions that are applied to the physical\n",
    "system representing the qubits. Mathematically, they are\n",
    "complex-valued, unitary matrices which act on the complex-values\n",
    "normalized vectors that represent qubits. As the quantum analog of\n",
    "classical logic gates (such as AND and OR), there is a corresponding\n",
    "quantum gate for every classical gate; however, there are quantum\n",
    "gates that have no classical counter-part. They act on a set of qubits\n",
    "and, changing their state. That is, if $U$ is a quantum gate and\n",
    "$\\ket{q}$ is a qubit, then acting the gate $U$ on the qubit $\\ket{q}$\n",
    "transforms the qubit as follows:"
   ]
  },
  {
   "cell_type": "markdown",
   "id": "42ec9cb9",
   "metadata": {
    "editable": true
   },
   "source": [
    "<!-- Equation labels as ordinary links -->\n",
    "<div id=\"_auto1\"></div>\n",
    "\n",
    "$$\n",
    "\\begin{equation}\n",
    "\\ket{q}\\overset{U}{\\to}U\\ket{q}\n",
    ". \\label{_auto1} \\tag{1}\n",
    "\\end{equation}\n",
    "$$"
   ]
  },
  {
   "cell_type": "markdown",
   "id": "eae2092a",
   "metadata": {
    "editable": true
   },
   "source": [
    "This action would be represented as the following quantum circuit"
   ]
  },
  {
   "cell_type": "markdown",
   "id": "b95901c8",
   "metadata": {
    "editable": true
   },
   "source": [
    "<!-- Equation labels as ordinary links -->\n",
    "<div id=\"simple_qc\"></div>\n",
    "\n",
    "$$\n",
    "\\begin{equation}\n",
    "\\label{simple_qc} \\tag{2}\n",
    "\\Qcircuit\n",
    "{\n",
    "\\lstick{\\ket{q}}  \\gate{U}  \\rstick{U\\ket{q}} \\qw \n",
    "}\n",
    "\\end{equation}\n",
    "$$"
   ]
  },
  {
   "cell_type": "markdown",
   "id": "d594843f",
   "metadata": {
    "editable": true
   },
   "source": [
    "Quantum circuits are diagrammatic representations of quantum\n",
    "algorithms. The horizontal dimension corresponds to time; moving left\n",
    "to right corresponds to forward motion in time. They consist of a set\n",
    "of qubits $\\ket{q_n}$ which are stacked vertically on the left-hand\n",
    "side of the diagram. Lines, called quantum wires, extend horizontally\n",
    "to the right from each qubit, representing its state moving forward in\n",
    "time. Additionally, they contain a set of quantum gates that are\n",
    "applied to the quantum wires. Gates are applied chronologically, left\n",
    "to right. With this, we can see that the quantum circuit above\n",
    "([2](#simple_qc)) implies that the quantum gate $U$ is being applied\n",
    "to the qubit in state $\\ket{q}$.\n",
    "\n",
    "To explain what quantum circuits represent mathematically, consider the following circuit"
   ]
  },
  {
   "cell_type": "markdown",
   "id": "4afcdc0d",
   "metadata": {
    "editable": true
   },
   "source": [
    "<!-- Equation labels as ordinary links -->\n",
    "<div id=\"simple_qce\"></div>\n",
    "\n",
    "$$\n",
    "\\begin{equation}\n",
    "\\label{simple_qce} \\tag{3}\n",
    "\\Qcircuit @C=1em @R=1em\n",
    "{\n",
    "\\lstick{\\ket{q_0}}  \\gate{A}  \\gate{B}  \\qw \n",
    "\\end{equation}\n",
    "$$"
   ]
  },
  {
   "cell_type": "markdown",
   "id": "dffe341f",
   "metadata": {
    "editable": true
   },
   "source": [
    "<!-- Equation labels as ordinary links -->\n",
    "<div id=\"_auto2\"></div>\n",
    "\n",
    "$$\n",
    "\\begin{equation} \n",
    "\\lstick{\\ket{q_1}}  \\gate{C}  \\gate{D}  \\qw \n",
    "}\n",
    "\\label{_auto2} \\tag{4}\n",
    "\\end{equation}\n",
    "$$"
   ]
  },
  {
   "cell_type": "markdown",
   "id": "e819de6c",
   "metadata": {
    "editable": true
   },
   "source": [
    "This circuit implies the following mathematical statement"
   ]
  },
  {
   "cell_type": "markdown",
   "id": "c4afe9ff",
   "metadata": {
    "editable": true
   },
   "source": [
    "<!-- Equation labels as ordinary links -->\n",
    "<div id=\"_auto3\"></div>\n",
    "\n",
    "$$\n",
    "\\begin{equation}\n",
    "\\ket{q_0q_1}\n",
    "\\to\n",
    "(B\\otimes D)(A\\otimes C)\\ket{q_0q_1}\n",
    "\\label{_auto3} \\tag{5}\n",
    "\\end{equation}\n",
    "$$"
   ]
  },
  {
   "cell_type": "markdown",
   "id": "8ce0cb89",
   "metadata": {
    "editable": true
   },
   "source": [
    "<!-- Equation labels as ordinary links -->\n",
    "<div id=\"_auto4\"></div>\n",
    "\n",
    "$$\n",
    "\\begin{equation} \n",
    "\\to\n",
    "(BA)\\otimes(DC)\\ket{q_0q_1}\n",
    "\\label{_auto4} \\tag{6}\n",
    "\\end{equation}\n",
    "$$"
   ]
  },
  {
   "cell_type": "markdown",
   "id": "47d2690f",
   "metadata": {
    "editable": true
   },
   "source": [
    "<!-- Equation labels as ordinary links -->\n",
    "<div id=\"_auto5\"></div>\n",
    "\n",
    "$$\n",
    "\\begin{equation} \n",
    "\\to \n",
    "BA\\ket{q_0}DC\\ket{q_1}\n",
    ". \\label{_auto5} \\tag{7}\n",
    "\\end{equation}\n",
    "$$"
   ]
  },
  {
   "cell_type": "markdown",
   "id": "1242fcfa",
   "metadata": {
    "editable": true
   },
   "source": [
    "Note that the mathematical form is in reverse order from circuit form\n",
    "($AB\\leftrightarrow BA$). This is because the operator closest to the\n",
    "state (furthest to the right) acts first. Additionally, we are able to\n",
    "write the actions of the top two gates and the bottom two as acting\n",
    "separately on each qubit as every gate here is a single-qubit gate\n",
    "(acting on only one qubit). The same would not be true for certain\n",
    "two-qubit gates which would entangle the states of the two qubits, not\n",
    "allowing their state to be written in a separable form. Finally, we\n",
    "define the depth of a quantum circuit as the number of columns of\n",
    "gates. The circuit above thus has a depth of 2 because it contains two\n",
    "columns of gates, namely $A\\otimes C$ and $B\\otimes D$."
   ]
  },
  {
   "cell_type": "markdown",
   "id": "9ab21dfe",
   "metadata": {
    "editable": true
   },
   "source": [
    "### Single-Qubit Gates\n",
    "\n",
    "A single-qubit gate is a physical action that is applied to one qubit. It can be represented by a matrix $U$ from the group SU(2). Any single-qubit gate can be parameterized by three angles: $\\theta$, $\\phi$, and $\\lambda$ as follows"
   ]
  },
  {
   "cell_type": "markdown",
   "id": "bf765389",
   "metadata": {
    "editable": true
   },
   "source": [
    "<!-- Equation labels as ordinary links -->\n",
    "<div id=\"U\"></div>\n",
    "\n",
    "$$\n",
    "\\begin{equation}\n",
    "\\label{U} \\tag{8}\n",
    "U(\\theta,\\phi,\\lambda)\n",
    "=\n",
    "\\begin{pmatrix}\n",
    "\\cos\\frac{\\theta}{2} & -e^{i\\lambda}\\sin\\frac{\\theta}{2}\n",
    "\\\\\n",
    "e^{i\\phi}\\sin\\frac{\\theta}{2} & e^{i(\\phi+\\lambda)}\\cos\\frac{\\theta}{2}\n",
    "\\end{pmatrix}\n",
    ".\\end{equation}\n",
    "$$"
   ]
  },
  {
   "cell_type": "markdown",
   "id": "a081c5d3",
   "metadata": {
    "editable": true
   },
   "source": [
    "There are several widely used quantum gates, include the following:\n",
    "The Pauli gates correspond to the Pauli matrices"
   ]
  },
  {
   "cell_type": "markdown",
   "id": "5cef7033",
   "metadata": {
    "editable": true
   },
   "source": [
    "<!-- Equation labels as ordinary links -->\n",
    "<div id=\"_auto6\"></div>\n",
    "\n",
    "$$\n",
    "\\begin{equation}\n",
    "I\n",
    "=\n",
    "\\begin{pmatrix}\n",
    "1 & 0 \\\\\n",
    "0 & 1\n",
    "\\end{pmatrix}\n",
    "\\label{_auto6} \\tag{9}\n",
    "\\end{equation}\n",
    "$$"
   ]
  },
  {
   "cell_type": "markdown",
   "id": "67e3f131",
   "metadata": {
    "editable": true
   },
   "source": [
    "<!-- Equation labels as ordinary links -->\n",
    "<div id=\"_auto7\"></div>\n",
    "\n",
    "$$\n",
    "\\begin{equation} \n",
    "X\n",
    "=\n",
    "\\begin{pmatrix}\n",
    "0 & 1 \\\\\n",
    "1 & 0\n",
    "\\end{pmatrix}\n",
    "\\label{_auto7} \\tag{10}\n",
    "\\end{equation}\n",
    "$$"
   ]
  },
  {
   "cell_type": "markdown",
   "id": "f0beb217",
   "metadata": {
    "editable": true
   },
   "source": [
    "<!-- Equation labels as ordinary links -->\n",
    "<div id=\"_auto8\"></div>\n",
    "\n",
    "$$\n",
    "\\begin{equation} \n",
    "Y\n",
    "=\n",
    "\\begin{pmatrix}\n",
    "0 & -i \\\\\n",
    "i & 0\n",
    "\\end{pmatrix}\n",
    "\\label{_auto8} \\tag{11}\n",
    "\\end{equation}\n",
    "$$"
   ]
  },
  {
   "cell_type": "markdown",
   "id": "e7285f63",
   "metadata": {
    "editable": true
   },
   "source": [
    "<!-- Equation labels as ordinary links -->\n",
    "<div id=\"_auto9\"></div>\n",
    "\n",
    "$$\n",
    "\\begin{equation} \n",
    "Z\n",
    "=\n",
    "\\begin{pmatrix}\n",
    "1 & 0 \\\\\n",
    "0 & -1\n",
    "\\end{pmatrix}\n",
    ", \\label{_auto9} \\tag{12}\n",
    "\\end{equation}\n",
    "$$"
   ]
  },
  {
   "cell_type": "markdown",
   "id": "0474a559",
   "metadata": {
    "editable": true
   },
   "source": [
    "which satisfy the relation"
   ]
  },
  {
   "cell_type": "markdown",
   "id": "d59c8c7e",
   "metadata": {
    "editable": true
   },
   "source": [
    "<!-- Equation labels as ordinary links -->\n",
    "<div id=\"_auto10\"></div>\n",
    "\n",
    "$$\n",
    "\\begin{equation}\n",
    "\\comm{\\sigma}{\\tau}=i\\epsilon_{\\sigma\\tau\\upsilon}\\upsilon\n",
    ", \\label{_auto10} \\tag{13}\n",
    "\\end{equation}\n",
    "$$"
   ]
  },
  {
   "cell_type": "markdown",
   "id": "0f7be240",
   "metadata": {
    "editable": true
   },
   "source": [
    "for $\\sigma,\\tau,\\upsilon\\in\\{X,Y,Z\\}$. These gates form a basis for\n",
    "the algebra $\\mathfrak{su}(2)$. Exponentiating them will thus give us\n",
    "a basis for SU(2), the group within which all single-qubit gates\n",
    "live. These exponentiated Pauli gates are called rotation gates\n",
    "$R_{\\sigma}(\\theta)$ because they rotate the quantum state around the\n",
    "axis $\\sigma=X,Y,Z$ of the Bloch sphere by an angle $\\theta$. They are\n",
    "defined as"
   ]
  },
  {
   "cell_type": "markdown",
   "id": "ab461025",
   "metadata": {
    "editable": true
   },
   "source": [
    "<!-- Equation labels as ordinary links -->\n",
    "<div id=\"_auto11\"></div>\n",
    "\n",
    "$$\n",
    "\\begin{equation}\n",
    "R_X(\\theta)\n",
    "=\n",
    "e^{-i\\frac{\\theta}{2}X}\n",
    "=\n",
    "\\begin{pmatrix}\n",
    "\\cos\\frac{\\theta}{2} & -i\\sin\\frac{\\theta}{2} \\\\\n",
    "-i\\sin\\frac{\\theta}{2} & \\cos\\frac{\\theta}{2} \n",
    "\\end{pmatrix},\n",
    "\\label{_auto11} \\tag{14}\n",
    "\\end{equation}\n",
    "$$"
   ]
  },
  {
   "cell_type": "markdown",
   "id": "df25dc86",
   "metadata": {
    "editable": true
   },
   "source": [
    "<!-- Equation labels as ordinary links -->\n",
    "<div id=\"_auto12\"></div>\n",
    "\n",
    "$$\n",
    "\\begin{equation} \n",
    "R_Y(\\theta)\n",
    "=\n",
    "e^{-i\\frac{\\theta}{2}Y}\n",
    "=\n",
    "\\begin{pmatrix}\n",
    "\\cos\\frac{\\theta}{2} & -\\sin\\frac{\\theta}{2} \\\\\n",
    "\\sin\\frac{\\theta}{2} & \\cos\\frac{\\theta}{2} \n",
    "\\end{pmatrix},\n",
    "\\label{_auto12} \\tag{15}\n",
    "\\end{equation}\n",
    "$$"
   ]
  },
  {
   "cell_type": "markdown",
   "id": "08ad48ee",
   "metadata": {
    "editable": true
   },
   "source": [
    "<!-- Equation labels as ordinary links -->\n",
    "<div id=\"_auto13\"></div>\n",
    "\n",
    "$$\n",
    "\\begin{equation} \n",
    "R_Z(\\theta)\n",
    "=\n",
    "e^{-i\\frac{\\theta}{2}Z}\n",
    "=\n",
    "\\begin{pmatrix}\n",
    "e^{-i\\theta/2} & 0 \\\\\n",
    "0 & e^{i\\theta/2}\n",
    "\\end{pmatrix}\n",
    ". \\label{_auto13} \\tag{16}\n",
    "\\end{equation}\n",
    "$$"
   ]
  },
  {
   "cell_type": "markdown",
   "id": "3e6ae5b6",
   "metadata": {
    "editable": true
   },
   "source": [
    "Because they form a basis for $\\text{SU}(2)$, any single-qubit gate can be decomposed into three rotation gates. Indeed"
   ]
  },
  {
   "cell_type": "markdown",
   "id": "4bd0b34d",
   "metadata": {
    "editable": true
   },
   "source": [
    "<!-- Equation labels as ordinary links -->\n",
    "<div id=\"_auto14\"></div>\n",
    "\n",
    "$$\n",
    "\\begin{equation}\n",
    "R_z(\\phi)R_y(\\theta)R_z(\\lambda)\n",
    "=\n",
    "\\begin{pmatrix}\n",
    "e^{-i\\phi/2} & 0 \\\\\n",
    "0 & e^{i\\phi/2}\n",
    "\\end{pmatrix}\n",
    "\\begin{pmatrix}\n",
    "\\cos\\frac{\\theta}{2} & -\\sin\\frac{\\theta}{2} \\\\\n",
    "\\sin\\frac{\\theta}{2} & \\cos\\frac{\\theta}{2} \n",
    "\\end{pmatrix}\n",
    "\\begin{pmatrix}\n",
    "e^{-i\\lambda/2} & 0 \\\\\n",
    "0 & e^{i\\lambda/2}\n",
    "\\end{pmatrix}\n",
    "\\label{_auto14} \\tag{17}\n",
    "\\end{equation}\n",
    "$$"
   ]
  },
  {
   "cell_type": "markdown",
   "id": "746f836a",
   "metadata": {
    "editable": true
   },
   "source": [
    "<!-- Equation labels as ordinary links -->\n",
    "<div id=\"_auto15\"></div>\n",
    "\n",
    "$$\n",
    "\\begin{equation} \n",
    "=\n",
    "e^{-i(\\phi+\\lambda)/2}\n",
    "\\begin{pmatrix}\n",
    "\\cos\\frac{\\theta}{2} & -e^{i\\lambda}\\sin\\frac{\\theta}{2}\n",
    "\\\\\n",
    "e^{i\\phi}\\sin\\frac{\\theta}{2} & e^{i(\\phi+\\lambda)}\\cos\\frac{\\theta}{2}\n",
    "\\end{pmatrix}\n",
    ", \\label{_auto15} \\tag{18}\n",
    "\\end{equation}\n",
    "$$"
   ]
  },
  {
   "cell_type": "markdown",
   "id": "6ac47939",
   "metadata": {
    "editable": true
   },
   "source": [
    "which is, up to a global phase, equal to the expression for an arbitrary single-qubit gate ([8](#U))."
   ]
  },
  {
   "cell_type": "markdown",
   "id": "978fbd74",
   "metadata": {
    "editable": true
   },
   "source": [
    "### Two-Qubit Gates\n",
    "\n",
    "A two-qubit gate is a physical action that is applied to two\n",
    "qubits. It can be represented by a matrix $U$ from the group\n",
    "SU(4). One important type of two-qubit gates are controlled gates,\n",
    "which work as follows: Suppose $U$ is a single-qubit gate. A\n",
    "controlled-$U$ gate ($CU$) acts on two qubits: a control qubit\n",
    "$\\ket{x}$ and a target qubit $\\ket{y}$. The controlled-$U$ gate\n",
    "applies the identity $I$ or the single-qubit gate $U$ to the target\n",
    "qubit if the control gate is in the zero state $\\ket{0}$ or the one\n",
    "state $\\ket{1}$, respectively. The control qubit is not acted\n",
    "upon. This can be represented as follows:"
   ]
  },
  {
   "cell_type": "markdown",
   "id": "22ed6868",
   "metadata": {
    "editable": true
   },
   "source": [
    "<!-- Equation labels as ordinary links -->\n",
    "<div id=\"_auto16\"></div>\n",
    "\n",
    "$$\n",
    "\\begin{equation}\n",
    "CU\\ket{xy}=\n",
    "\\begin{cases}\n",
    "\\ket{xy}  \\text{if} \\ \\ket{x}=\\ket{0}\n",
    "\\label{_auto16} \\tag{19}\n",
    "\\end{equation}\n",
    "$$"
   ]
  },
  {
   "cell_type": "markdown",
   "id": "4fd8484f",
   "metadata": {
    "editable": true
   },
   "source": [
    "<!-- Equation labels as ordinary links -->\n",
    "<div id=\"_auto17\"></div>\n",
    "\n",
    "$$\n",
    "\\begin{equation} \n",
    "\\ket{x}U\\ket{y}  \\text{if} \\ \\ket{x}=\\ket{1}\n",
    "\\end{cases}\n",
    ". \\label{_auto17} \\tag{20}\n",
    "\\end{equation}\n",
    "$$"
   ]
  },
  {
   "cell_type": "markdown",
   "id": "4a437c56",
   "metadata": {
    "editable": true
   },
   "source": [
    "The action of a controlled-$U$ gate $CU$ can be represented in a quantum circuit as follows"
   ]
  },
  {
   "cell_type": "markdown",
   "id": "45f38fea",
   "metadata": {
    "editable": true
   },
   "source": [
    "<!-- Equation labels as ordinary links -->\n",
    "<div id=\"_auto18\"></div>\n",
    "\n",
    "$$\n",
    "\\begin{equation}\n",
    "\\Qcircuit @C=1em @R=3em \n",
    "{\n",
    "\\lstick{\\ket{x}}  \\ctrl{1}  \\rstick{\\ket{x}} \\qw\n",
    "\\label{_auto18} \\tag{21}\n",
    "\\end{equation}\n",
    "$$"
   ]
  },
  {
   "cell_type": "markdown",
   "id": "e13f6626",
   "metadata": {
    "editable": true
   },
   "source": [
    "<!-- Equation labels as ordinary links -->\n",
    "<div id=\"_auto19\"></div>\n",
    "\n",
    "$$\n",
    "\\begin{equation} \n",
    "\\lstick{\\ket{y}}  \\gate{U}  \\rstick{\\begin{cases}\\ket{y},  \\ket{x}=\\ket{0} \n",
    "\\label{_auto19} \\tag{22}\n",
    "\\end{equation}\n",
    "$$"
   ]
  },
  {
   "cell_type": "markdown",
   "id": "bab7e423",
   "metadata": {
    "editable": true
   },
   "source": [
    "<!-- Equation labels as ordinary links -->\n",
    "<div id=\"_auto20\"></div>\n",
    "\n",
    "$$\n",
    "\\begin{equation}  U\\ket{y},  \\ket{a}=\\ket{x}\\end{cases}} \\qw\n",
    "}\n",
    "\\label{_auto20} \\tag{23}\n",
    "\\end{equation}\n",
    "$$"
   ]
  },
  {
   "cell_type": "markdown",
   "id": "740593fb",
   "metadata": {
    "editable": true
   },
   "source": [
    "$$\n",
    "\\nonumber\n",
    "$$"
   ]
  },
  {
   "cell_type": "markdown",
   "id": "bf3918fd",
   "metadata": {
    "editable": true
   },
   "source": [
    "It can be written in matrix form by writing it as a superposition of\n",
    "the two possible cases, each written as a simple tensor product"
   ]
  },
  {
   "cell_type": "markdown",
   "id": "507d9e6c",
   "metadata": {
    "editable": true
   },
   "source": [
    "<!-- Equation labels as ordinary links -->\n",
    "<div id=\"_auto21\"></div>\n",
    "\n",
    "$$\n",
    "\\begin{equation}\n",
    "CU \n",
    "= \\ket{0}\\bra{0}\\otimes I + \\ket{1}\\bra{1}\\otimes U\n",
    "\\label{_auto21} \\tag{24}\n",
    "\\end{equation}\n",
    "$$"
   ]
  },
  {
   "cell_type": "markdown",
   "id": "18f8ae02",
   "metadata": {
    "editable": true
   },
   "source": [
    "<!-- Equation labels as ordinary links -->\n",
    "<div id=\"_auto22\"></div>\n",
    "\n",
    "$$\n",
    "\\begin{equation} \n",
    "&=\\begin{pmatrix}\n",
    "1 & 0 & 0 & 0 \\\\\n",
    "0 & 1 & 0 & 0 \\\\\n",
    "0 & 0 & u_{00} & u_{01} \\\\\n",
    "0 & 0 & u_{10} & u_{11}\n",
    "\\end{pmatrix}\n",
    ". \\label{_auto22} \\tag{25}\n",
    "\\end{equation}\n",
    "$$"
   ]
  },
  {
   "cell_type": "markdown",
   "id": "65861953",
   "metadata": {
    "editable": true
   },
   "source": [
    "One of the most fundamental controlled gates is the CNOT gate. It is\n",
    "defined as the controlled-$X$ gate $CX$ and thus flips the state of\n",
    "the target qubit if the control qubit is in the zero state\n",
    "$\\ket{0}$. It can be written in matrix form as follows:"
   ]
  },
  {
   "cell_type": "markdown",
   "id": "85e4ed51",
   "metadata": {
    "editable": true
   },
   "source": [
    "<!-- Equation labels as ordinary links -->\n",
    "<div id=\"_auto23\"></div>\n",
    "\n",
    "$$\n",
    "\\begin{equation}\n",
    "\\text{CNOT}\n",
    "=\\begin{pmatrix}\n",
    "1 & 0 & 0 & 0 \\\\\n",
    "0 & 1 & 0 & 0 \\\\\n",
    "0 & 0 & 0 & 1 \\\\\n",
    "0 & 0 & 1 & 0\n",
    "\\end{pmatrix}\n",
    ". \\label{_auto23} \\tag{26}\n",
    "\\end{equation}\n",
    "$$"
   ]
  },
  {
   "cell_type": "markdown",
   "id": "360f34ea",
   "metadata": {
    "editable": true
   },
   "source": [
    "A widely used two-qubit gate that goes beyond the simple controlled function is the SWAP gate. It swaps the states of the two qubits it acts upon"
   ]
  },
  {
   "cell_type": "markdown",
   "id": "b06468cc",
   "metadata": {
    "editable": true
   },
   "source": [
    "<!-- Equation labels as ordinary links -->\n",
    "<div id=\"swap_def\"></div>\n",
    "\n",
    "$$\n",
    "\\begin{equation}\n",
    "\\text{SWAP}\\ket{xy}=\\ket{yx}\n",
    ",\\end{equation}\n",
    "as depicted in the quantum circuit below\n",
    "\\begin{equation}\n",
    "\\label{swap_def} \\tag{27}\n",
    "\\Qcircuit\n",
    "{\n",
    "\\lstick{\\ket{x}}  \\qswap       \\rstick{\\ket{y}} \\qw\n",
    "\\end{equation}\n",
    "$$"
   ]
  },
  {
   "cell_type": "markdown",
   "id": "cff85919",
   "metadata": {
    "editable": true
   },
   "source": [
    "<!-- Equation labels as ordinary links -->\n",
    "<div id=\"_auto24\"></div>\n",
    "\n",
    "$$\n",
    "\\begin{equation} \n",
    "\\lstick{\\ket{y}}  \\qswap \\qwx  \\rstick{\\ket{x}} \\qw\n",
    "}\n",
    ", \\label{_auto24} \\tag{28}\n",
    "\\end{equation}\n",
    "$$"
   ]
  },
  {
   "cell_type": "markdown",
   "id": "67889b1b",
   "metadata": {
    "editable": true
   },
   "source": [
    "and has the following matrix form"
   ]
  },
  {
   "cell_type": "markdown",
   "id": "8984928f",
   "metadata": {
    "editable": true
   },
   "source": [
    "<!-- Equation labels as ordinary links -->\n",
    "<div id=\"_auto25\"></div>\n",
    "\n",
    "$$\n",
    "\\begin{equation}\n",
    "\\text{SWAP}\n",
    "=\\begin{pmatrix}\n",
    "1 & 0 & 0 & 0 \\\\\n",
    "0 & 0 & 1 & 0 \\\\\n",
    "0 & 1 & 0 & 0 \\\\\n",
    "0 & 0 & 0 & 1\n",
    "\\end{pmatrix}\n",
    ". \\label{_auto25} \\tag{29}\n",
    "\\end{equation}\n",
    "$$"
   ]
  },
  {
   "cell_type": "markdown",
   "id": "81d64dab",
   "metadata": {
    "editable": true
   },
   "source": [
    "It can be decomposed into a series of three CNOTs, each of which has its directionality flipped from the previous"
   ]
  },
  {
   "cell_type": "markdown",
   "id": "0469319a",
   "metadata": {
    "editable": true
   },
   "source": [
    "<!-- Equation labels as ordinary links -->\n",
    "<div id=\"_auto26\"></div>\n",
    "\n",
    "$$\n",
    "\\begin{equation}\n",
    "\\Qcircuit\n",
    "{\n",
    "\\lstick{\\ket{x}}  \\ctrl{1}  \\targ      \\ctrl{1}  \\rstick{\\ket{y}} \\qw\n",
    "\\label{_auto26} \\tag{30}\n",
    "\\end{equation}\n",
    "$$"
   ]
  },
  {
   "cell_type": "markdown",
   "id": "96b3385a",
   "metadata": {
    "editable": true
   },
   "source": [
    "<!-- Equation labels as ordinary links -->\n",
    "<div id=\"_auto27\"></div>\n",
    "\n",
    "$$\n",
    "\\begin{equation} \n",
    "\\lstick{\\ket{y}}  \\targ     \\ctrl{-1}  \\targ     \\rstick{\\ket{x}} \\qw\n",
    "}\n",
    "\\label{_auto27} \\tag{31}\n",
    "\\end{equation}\n",
    "$$"
   ]
  },
  {
   "cell_type": "markdown",
   "id": "ee900476",
   "metadata": {
    "editable": true
   },
   "source": [
    "As for arbitrary two-qubit gates $U\\in\\text{SU(4)}$, they can be\n",
    "optimally decomposed (up to a global phase) into the following\n",
    "sequence \\[[ref:kak]](#ref:kak) involving three parameters, fifteen elementary\n",
    "one-qubit gates and three CNOT gates"
   ]
  },
  {
   "cell_type": "markdown",
   "id": "af1d62ab",
   "metadata": {
    "editable": true
   },
   "source": [
    "<!-- Equation labels as ordinary links -->\n",
    "<div id=\"_auto28\"></div>\n",
    "\n",
    "$$\n",
    "\\begin{equation}\n",
    "\\Qcircuit\n",
    "{\n",
    "\\qw  \\gate{U_1}  \\ctrl{1}  \\gate{R_y(\\theta_1)}  \\targ       \\gate{R_y(\\theta_2)}  \\ctrl{1}  \\gate{U_3}  \\qw\n",
    "\\label{_auto28} \\tag{32}\n",
    "\\end{equation}\n",
    "$$"
   ]
  },
  {
   "cell_type": "markdown",
   "id": "277aa767",
   "metadata": {
    "editable": true
   },
   "source": [
    "<!-- Equation labels as ordinary links -->\n",
    "<div id=\"_auto29\"></div>\n",
    "\n",
    "$$\n",
    "\\begin{equation} \n",
    "\\qw  \\gate{U_2}  \\targ     \\gate{R_z(\\theta_3)}  \\ctrl{-1}  \\qw                   \\targ      \\gate{U_4}  \\qw\n",
    "}\n",
    "\\label{_auto29} \\tag{33}\n",
    "\\end{equation}\n",
    "$$"
   ]
  },
  {
   "cell_type": "markdown",
   "id": "5438c3bb",
   "metadata": {
    "editable": true
   },
   "source": [
    "where $U_1,U_2,U_3,U_4$ are single-qubit gates, each of which can be\n",
    "decomposed into three elementary one-qubit gates (rotation\n",
    "gates). Additionally, $\\theta_1,\\theta_2,\\theta_3$ are parameters to\n",
    "be determined by the arbitrary two-qubit gate to be\n",
    "decomposed. Two-qubit gates that are restricted to $U\\in\\text{SO(4)}$\n",
    "can be decomposed into a shorter depth circuit consisting of just\n",
    "twelve elementary single-qubit gates and two CNOT gates"
   ]
  },
  {
   "cell_type": "markdown",
   "id": "64aa78e7",
   "metadata": {
    "editable": true
   },
   "source": [
    "<!-- Equation labels as ordinary links -->\n",
    "<div id=\"_auto30\"></div>\n",
    "\n",
    "$$\n",
    "\\begin{equation}\n",
    "\\Qcircuit\n",
    "{\n",
    "\\qw  \\gate{R_z(\\pi/2)}  \\gate{R_y(\\pi/2)}  \\ctrl{1}  \\gate{U_1}  \\ctrl{1}  \\gate{R^*_y(\\pi/2)}  \\gate{R^*_z(\\pi/2)}  \\qw\n",
    "\\label{_auto30} \\tag{34}\n",
    "\\end{equation}\n",
    "$$"
   ]
  },
  {
   "cell_type": "markdown",
   "id": "c062fdcd",
   "metadata": {
    "editable": true
   },
   "source": [
    "<!-- Equation labels as ordinary links -->\n",
    "<div id=\"_auto31\"></div>\n",
    "\n",
    "$$\n",
    "\\begin{equation} \n",
    "\\qw  \\gate{R_z(\\pi/2)}  \\qw                \\targ     \\gate{U_2}  \\targ     \\qw                  \\gate{R^*_z(\\pi/2)}  \\qw\n",
    "}\n",
    "\\label{_auto31} \\tag{35}\n",
    "\\end{equation}\n",
    "$$"
   ]
  },
  {
   "cell_type": "markdown",
   "id": "c02abb70",
   "metadata": {
    "editable": true
   },
   "source": [
    "**Lecture next week we discuss algorithms for solving quantum mechanical problems, quantum gates and circuits.**\n",
    "\n",
    "1. Introduction to [Qiskit](https://qiskit.org/)\n",
    "\n",
    "2. Defining one-, two-\tand three-qubit\tgates\n",
    "\n",
    "3. Setting up quantum circuits\tand simple algorithms\n",
    "\n",
    "4. VQE, Variational Quantum Eigensolver\n",
    "\n",
    "5. Introduction of Hamiltonians to study, the Lipkin model"
   ]
  }
 ],
 "metadata": {},
 "nbformat": 4,
 "nbformat_minor": 5
}
