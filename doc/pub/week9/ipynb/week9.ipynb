{
 "cells": [
  {
   "cell_type": "markdown",
   "id": "170650fb",
   "metadata": {
    "editable": true
   },
   "source": [
    "<!-- HTML file automatically generated from DocOnce source (https://github.com/doconce/doconce/)\n",
    "doconce format html week9.do.txt --no_mako -->\n",
    "<!-- dom:TITLE: Quantum Computing, Quantum Machine Learning and Quantum Information Theories -->"
   ]
  },
  {
   "cell_type": "markdown",
   "id": "16061c82",
   "metadata": {
    "editable": true
   },
   "source": [
    "# Quantum Computing, Quantum Machine Learning and Quantum Information Theories\n",
    "**Morten Hjorth-Jensen**, Department of Physics, University of Oslo and Department of Physics and Astronomy and Facility for Rare Isotope Beams, Michigan State University\n",
    "\n",
    "Date: **March 13**"
   ]
  },
  {
   "cell_type": "markdown",
   "id": "5a574f08",
   "metadata": {
    "editable": true
   },
   "source": [
    "## Plans for the week of March 11-15, 2024\n",
    "1. Lipkin model for  VQE quantum computing\n",
    "\n",
    "2. Discussion and work on  project 1\n",
    "\n",
    "Reading recommendation: Hundt's chapter 3 and 4 contain many useful\n",
    "hints for computing properties of Pauli matrices. Similarly, section\n",
    "6.11 has many details of relevance for project 1."
   ]
  },
  {
   "cell_type": "markdown",
   "id": "3533be43",
   "metadata": {
    "editable": true
   },
   "source": [
    "## More background material\n",
    "\n",
    "For the Lipkin model, we recommend strongly the work of LaRose and collaborators, see\n",
    "<https://journals.aps.org/prc/abstract/10.1103/PhysRevC.106.024319>, the article is also available at <https://github.com/CompPhysics/QuantumComputingMachineLearning/blob/gh-pages/doc/articles/PhysRevC.106.024319.pdf>. See in particular section 3.\n",
    "\n",
    "For codes, feel free to be inspired and/or reuse the codes at <https://github.com/CompPhysics/QuantumComputingMachineLearning/tree/gh-pages/doc/Programs/LipkinModel>."
   ]
  },
  {
   "cell_type": "markdown",
   "id": "94e5fadc",
   "metadata": {
    "editable": true
   },
   "source": [
    "## Hamiltonians and project 1\n",
    "\n",
    "As an initial test, we consider a simply $2\\times 2$ real\n",
    "Hamiltonian consistend of a diagonal part $H_0$ and off-diagonal part\n",
    "$H_I$, playing the roles of a non-interactive one-body and interactive\n",
    "two-body part respectively. Defined through their matrix elements, we\n",
    "express them in the Pauli basis $\\vert 0\\rangle$ and $\\vert 1 \\rangle$"
   ]
  },
  {
   "cell_type": "markdown",
   "id": "c778330b",
   "metadata": {
    "editable": true
   },
   "source": [
    "$$\n",
    "\\begin{align*}\n",
    "    \\begin{split} \n",
    "        H &= H_0 + H_I \\\\\n",
    "        H_0 = \\begin{bmatrix}\n",
    "            E_1 & 0 \\\\\n",
    "            0 & E_2\n",
    "        \\end{bmatrix}&, \\hspace{20px}\n",
    "        H_I = \\lambda \\begin{bmatrix}\n",
    "            V_{11} & V_{12} \\\\\n",
    "            V_{21} & V_{22}\n",
    "        \\end{bmatrix}\n",
    "    \\end{split}\n",
    "\\end{align*}\n",
    "$$"
   ]
  },
  {
   "cell_type": "markdown",
   "id": "553c7dd5",
   "metadata": {
    "editable": true
   },
   "source": [
    "Where $\\lambda \\in [0,1]$ is a coupling constant parameterizing the strength of the interaction."
   ]
  },
  {
   "cell_type": "markdown",
   "id": "39ee2f64",
   "metadata": {
    "editable": true
   },
   "source": [
    "## Rewriting in terms of Pauli matrices\n",
    "\n",
    "Defining"
   ]
  },
  {
   "cell_type": "markdown",
   "id": "94b71749",
   "metadata": {
    "editable": true
   },
   "source": [
    "$$\n",
    "E_+ = \\frac{E_1 + E_2}{2},\\hspace{20px} E_- = \\frac{E_1 - E_2}{2}\n",
    "$$"
   ]
  },
  {
   "cell_type": "markdown",
   "id": "c1cfc400",
   "metadata": {
    "editable": true
   },
   "source": [
    "we see that by combining the identity and $Z$ Pauli matrix, this can be expressed as"
   ]
  },
  {
   "cell_type": "markdown",
   "id": "b52645cb",
   "metadata": {
    "editable": true
   },
   "source": [
    "$$\n",
    "H_0 = E_+ I + E_- Z\n",
    "$$"
   ]
  },
  {
   "cell_type": "markdown",
   "id": "1ac55393",
   "metadata": {
    "editable": true
   },
   "source": [
    "For $H_1$ we use the same trick to fill the diagonal, defining $V_+ = (V_{11} + V_{22})/2, V_- = (V_{11} - V_{22})/2$. From the hermiticity requirements of $H$, we note that $V_{12} = V_{21} \\equiv V_o$, which simplifies the problem to a simple $X$. This gives"
   ]
  },
  {
   "cell_type": "markdown",
   "id": "d3e87d00",
   "metadata": {
    "editable": true
   },
   "source": [
    "$$\n",
    "H_I = V_+ I + V_- Z + V_o X\n",
    "$$"
   ]
  },
  {
   "cell_type": "markdown",
   "id": "166d9753",
   "metadata": {
    "editable": true
   },
   "source": [
    "## Measurement basis\n",
    "\n",
    "For this system we note that the Pauli $X$ matrix can be rewritten in terms of the Hadamard matrices and the Pauli $Z$ matrix, that is"
   ]
  },
  {
   "cell_type": "markdown",
   "id": "65909ba6",
   "metadata": {
    "editable": true
   },
   "source": [
    "$$\n",
    "X=HZH.\n",
    "$$"
   ]
  },
  {
   "cell_type": "markdown",
   "id": "2672a6a6",
   "metadata": {
    "editable": true
   },
   "source": [
    "## Second Hamiltonian matrix problems\n",
    "\n",
    "The second case is defined as a $4 \\times 4$ real Hamiltonian.\n",
    "This can be viewed as two  composite systems where each system is a two-level system. In the product basis $\\vert 00\\rangle$, $\\vert 01\\rangle$, $\\vert 10\\rangle$ and $\\vert 11\\rangle$\n",
    "we define the one-body part as"
   ]
  },
  {
   "cell_type": "markdown",
   "id": "d69b8b28",
   "metadata": {
    "editable": true
   },
   "source": [
    "$$\n",
    "H_0 \\vert ij \\rangle = \\epsilon_{ij}\\vert ij\\rangle,\n",
    "$$"
   ]
  },
  {
   "cell_type": "markdown",
   "id": "a432cec9",
   "metadata": {
    "editable": true
   },
   "source": [
    "with a two-body interaction defined as"
   ]
  },
  {
   "cell_type": "markdown",
   "id": "b3c4e667",
   "metadata": {
    "editable": true
   },
   "source": [
    "$$\n",
    "\\begin{align*}\n",
    "    \\begin{split} \n",
    "        H_I &= H_x X \\otimes X + H_z Z \\otimes Z \\\\\n",
    "        &= \\begin{bmatrix}\n",
    "            H_z & 0 & 0 & H_z \\\\\n",
    "            0 & - H_z & H_x & 0 \\\\\n",
    "            0 & H_x & - H_z & 0 \\\\\n",
    "            H_x & 0 & 0 & H_z\n",
    "        \\end{bmatrix}.\n",
    "    \\end{split}\n",
    "\\end{align*}\n",
    "$$"
   ]
  },
  {
   "cell_type": "markdown",
   "id": "a29d431d",
   "metadata": {
    "editable": true
   },
   "source": [
    "Here $H_x$ and $H_z$ are coupling constants."
   ]
  },
  {
   "cell_type": "markdown",
   "id": "1bee66f1",
   "metadata": {
    "editable": true
   },
   "source": [
    "## Rewriting\n",
    "\n",
    "For the $4 \\times 4$ case, the interacting part of the\n",
    "Hamiltonian is already\n",
    "written in terms of Pauli matrices. On the other hand, we need to be rewrite the diagonal term.\n",
    "We define"
   ]
  },
  {
   "cell_type": "markdown",
   "id": "6e60d685",
   "metadata": {
    "editable": true
   },
   "source": [
    "$$\n",
    "\\begin{align*}\n",
    "    \\epsilon_{\\pm 0} = \\frac{\\epsilon_{00}\\pm\\epsilon_{01}}{2},\\hspace{20px}\\epsilon_{\\pm 1} = \\frac{\\epsilon_{10}\\pm\\epsilon_{11}}{2}.\n",
    "\\end{align*}\n",
    "$$"
   ]
  },
  {
   "cell_type": "markdown",
   "id": "d0db1d98",
   "metadata": {
    "editable": true
   },
   "source": [
    "We note that the energies $\\epsilon_{00}$ and $\\epsilon_{01}$ can be repeated on the diagonal. This is also the case for $\\epsilon_{10}$ and $\\epsilon_{11}$"
   ]
  },
  {
   "cell_type": "markdown",
   "id": "2bb29036",
   "metadata": {
    "editable": true
   },
   "source": [
    "$$\n",
    "\\begin{align*}\n",
    "    D_{0} &= \\epsilon_{+0} I\\otimes I + \\epsilon_{-0} I\\otimes Z, \\\\\n",
    "    D_{1} &= \\epsilon_{+0} I\\otimes I + \\epsilon_{-1} I\\otimes Z.\n",
    "\\end{align*}\n",
    "$$"
   ]
  },
  {
   "cell_type": "markdown",
   "id": "a1f49ca2",
   "metadata": {
    "editable": true
   },
   "source": [
    "## Further manipulations\n",
    "\n",
    "Using the Pauli $Z$ matrix and the identity matrix $I$ we define"
   ]
  },
  {
   "cell_type": "markdown",
   "id": "c0d6a68d",
   "metadata": {
    "editable": true
   },
   "source": [
    "$$\n",
    "\\begin{align*}\n",
    "    P_{\\pm} = \\frac{1}{2}(I \\pm Z),\n",
    "\\end{align*}\n",
    "$$"
   ]
  },
  {
   "cell_type": "markdown",
   "id": "003b83c4",
   "metadata": {
    "editable": true
   },
   "source": [
    "which we use to project out the first and last to two elements the of $4\\times 4$ matrix"
   ]
  },
  {
   "cell_type": "markdown",
   "id": "aa8008d6",
   "metadata": {
    "editable": true
   },
   "source": [
    "$$\n",
    "P_0 = P_+ \\otimes I,\\hspace{20px}P_0 = P_- \\otimes I.\n",
    "$$"
   ]
  },
  {
   "cell_type": "markdown",
   "id": "bf3f284f",
   "metadata": {
    "editable": true
   },
   "source": [
    "Adding $D_0$ and $D_1$, we get"
   ]
  },
  {
   "cell_type": "markdown",
   "id": "39a57b01",
   "metadata": {
    "editable": true
   },
   "source": [
    "$$\n",
    "H_0 = P_0 D_0 + P_1 D_1= \\alpha_+ I \\otimes I + \\alpha_- Z \\otimes I + \\beta_+ I \\otimes Z + \\beta_- Z \\otimes Z,\n",
    "$$"
   ]
  },
  {
   "cell_type": "markdown",
   "id": "b9631831",
   "metadata": {
    "editable": true
   },
   "source": [
    "where we have defined"
   ]
  },
  {
   "cell_type": "markdown",
   "id": "736d9e6b",
   "metadata": {
    "editable": true
   },
   "source": [
    "$$\n",
    "\\alpha_\\pm = \\frac{\\epsilon_{+0}\\pm\\epsilon_{+1}}{2}, \\hspace{10px} \\beta_\\pm = \\frac{\\epsilon_{-0}\\pm\\epsilon_{+1}}{2}\n",
    "$$"
   ]
  },
  {
   "cell_type": "markdown",
   "id": "0cfcdb6c",
   "metadata": {
    "editable": true
   },
   "source": [
    "## The Lipkin model\n",
    "\n",
    "Last week we introduced the Lipkin model which could be rewritten in terms of the quasipin operators as"
   ]
  },
  {
   "cell_type": "markdown",
   "id": "aab46766",
   "metadata": {
    "editable": true
   },
   "source": [
    "$$\n",
    "\\begin{align*}\n",
    "    \\begin{split}\n",
    "        H_0 &= \\epsilon J_z, \\\\\n",
    "        H_1 &= \\frac{1}{2}V (J_+^2 + J_-^2), \\\\\n",
    "        H_2 & = \\frac{1}{2}W ( J_+J_- +J_{-}J_+ - N ),\n",
    "    \\end{split}\n",
    "\\end{align*}\n",
    "$$"
   ]
  },
  {
   "cell_type": "markdown",
   "id": "7d9e8937",
   "metadata": {
    "editable": true
   },
   "source": [
    "## Quasispin operators\n",
    "\n",
    "These quasi spin operators obey the normal spin commutator relations"
   ]
  },
  {
   "cell_type": "markdown",
   "id": "d28202af",
   "metadata": {
    "editable": true
   },
   "source": [
    "$$\n",
    "\\begin{align*}\n",
    "    &[J_z,J_{\\pm}] = \\pm J_\\pm, \n",
    "    &[J_+,J_-] = 2 J_z, \\\\\n",
    "    &[J^2,J_{\\pm}] = 0,\n",
    "    &[J^2,J_z] = 0,\n",
    "\\end{align*}\n",
    "$$"
   ]
  },
  {
   "cell_type": "markdown",
   "id": "9a89d302",
   "metadata": {
    "editable": true
   },
   "source": [
    "in addition to commuting with the number operator"
   ]
  },
  {
   "cell_type": "markdown",
   "id": "02992ce9",
   "metadata": {
    "editable": true
   },
   "source": [
    "$$\n",
    "\\begin{align*}\n",
    "    [N,J_z] = [N,J_{\\pm}] = [N,J^2] = 0.\n",
    "\\end{align*}\n",
    "$$"
   ]
  },
  {
   "cell_type": "markdown",
   "id": "16db4be2",
   "metadata": {
    "editable": true
   },
   "source": [
    "Using these relations we can show that the Hamiltonian (a product of\n",
    "quasi spin operators and the number operator) also commutes with\n",
    "$J^2$, that is $[H,J^2]=0$. This means that $H$ and $J^2$ have a shared\n",
    "eigenbasis, with $J$ being a so-called **good** quantum number."
   ]
  },
  {
   "cell_type": "markdown",
   "id": "4ed1b9de",
   "metadata": {
    "editable": true
   },
   "source": [
    "## System to diagonalize by traditional methods\n",
    "\n",
    "Using spin-eigenstates as the Hamiltonian basis, we define states\n",
    "through the normal approach $\\vert J,J_z\\rangle$ with $J$ and $ J_z$ as spin\n",
    "and spin-projections, respectively. The states $J_z = \\pm J$ are the\n",
    "easiest to construct, corresponding to a single level being completely\n",
    "filled. States in between can then be found using the quasi-spin\n",
    "ladder operators following"
   ]
  },
  {
   "cell_type": "markdown",
   "id": "efe3aa6d",
   "metadata": {
    "editable": true
   },
   "source": [
    "$$\n",
    "J_\\pm \\vert J,J_z\\rangle = \\sqrt{J(J+1)-J_z (J_z \\pm 1)} \\vert J,J_z \\pm 1\\rangle.\n",
    "$$"
   ]
  },
  {
   "cell_type": "markdown",
   "id": "565ad03b",
   "metadata": {
    "editable": true
   },
   "source": [
    "Using this basis for the quasi-spin Hamiltonian, we can rewrite the explicit matrix $H_{J_z,J'_z} = \\langle J,J_z\\vert  H \\vert J,J_z'\\rangle$ can be constructed."
   ]
  },
  {
   "cell_type": "markdown",
   "id": "39ae0f71",
   "metadata": {
    "editable": true
   },
   "source": [
    "## The $J=1$ case\n",
    "\n",
    "For $N=2$ particles, we have the triplet $J=1$, with three possible projection $J_z = 0, \\pm 1$. This gives the following matrix"
   ]
  },
  {
   "cell_type": "markdown",
   "id": "20950702",
   "metadata": {
    "editable": true
   },
   "source": [
    "$$\n",
    "H = \\begin{bmatrix}\n",
    "        -\\epsilon & 0 & V \\\\\n",
    "        0 & W & 0 \\\\\n",
    "        V & 0 & \\epsilon\n",
    "    \\end{bmatrix}.\n",
    "$$"
   ]
  },
  {
   "cell_type": "markdown",
   "id": "bc68c4f8",
   "metadata": {
    "editable": true
   },
   "source": [
    "By solving the eigenvalue problem, the ground state energy can be exactly found."
   ]
  },
  {
   "cell_type": "markdown",
   "id": "d7f0aec5",
   "metadata": {
    "editable": true
   },
   "source": [
    "## The $J=2$ case\n",
    "\n",
    "Similarly, for the $N=4$ particles case we have $J = 2$ with five possible projections $J_z = 0,\\pm1,\\pm2$. This gives us the Hamiltonian matrix"
   ]
  },
  {
   "cell_type": "markdown",
   "id": "259714c8",
   "metadata": {
    "editable": true
   },
   "source": [
    "$$\n",
    "H = \\begin{bmatrix}\n",
    "        -2\\epsilon & 0  & \\sqrt{6}V &0 &0 \\\\\n",
    "        0 & -\\epsilon + 3W & 0 & 3V & 0 \\\\\n",
    "        \\sqrt{6}V & 0 & 4W & 0 & \\sqrt{6}V \\\\\n",
    "        0 & 3V & 0 & \\epsilon + 3W & 0 \\\\\n",
    "        0 & 0 & \\sqrt{6}V & 0 & 2\\epsilon\n",
    "    \\end{bmatrix}.\n",
    "$$"
   ]
  },
  {
   "cell_type": "markdown",
   "id": "61430102",
   "metadata": {
    "editable": true
   },
   "source": [
    "## More rewriting\n",
    "\n",
    "Following the work of LaRose and collaborators, see\n",
    "<https://journals.aps.org/prc/abstract/10.1103/PhysRevC.106.024319>,\n",
    "we can rewrite the Lipkin Hamiltonian for efficient adaptations to\n",
    "quantum computing.\n",
    "\n",
    "We have"
   ]
  },
  {
   "cell_type": "markdown",
   "id": "e38b587e",
   "metadata": {
    "editable": true
   },
   "source": [
    "$$\n",
    "J_z = \\sum_{i}^{N} j_{z}^{i} \\hspace{20px} J_\\pm = \\sum_i^N j_{\\pm}^{i} = \\sum_i^N (j_{x}^{i}\\pm ij_{y}^{i}),\n",
    "$$"
   ]
  },
  {
   "cell_type": "markdown",
   "id": "8a9c0ca3",
   "metadata": {
    "editable": true
   },
   "source": [
    "with $N$ being the number of particles. Additionally, since we have spin-$1/2$ fermions, the mapping to Pauli matrices follow"
   ]
  },
  {
   "cell_type": "markdown",
   "id": "f5c2b4ff",
   "metadata": {
    "editable": true
   },
   "source": [
    "$$\n",
    "j_{x}^{i} = \\frac{1}{2}X_i,\\hspace{20px}j_{y}^{i} = \\frac{1}{2}Y_i,\\hspace{20px}j_{z}^{i} = \\frac{1}{2}Z_i.\n",
    "$$"
   ]
  },
  {
   "cell_type": "markdown",
   "id": "adb4dc27",
   "metadata": {
    "editable": true
   },
   "source": [
    "This means that we require $N$ qubits to calculate properties of a $N$ particle system, if no more symmetry reductions are considred."
   ]
  },
  {
   "cell_type": "markdown",
   "id": "bd38b8a4",
   "metadata": {
    "editable": true
   },
   "source": [
    "## Lipkin Hamiltonian for quantum computing\n",
    "\n",
    "We rewrote our Hamiltonian as"
   ]
  },
  {
   "cell_type": "markdown",
   "id": "71763989",
   "metadata": {
    "editable": true
   },
   "source": [
    "$$\n",
    "\\begin{align*}\n",
    "    \\begin{split}\n",
    "        H_0 &= \\frac{\\epsilon}{2}\\sum_{p}Z_p,  \\\\\n",
    "        H_1 &= \\frac{1}{2}V \\sum_{p < q}( X_p X_q - Y_p Y_q), \\\\\n",
    "        H_2 &= \\frac{1}{2}W \\sum_{p < q} \\left( X_p X_q + Y_p Y_q \\right). \n",
    "    \\end{split}\n",
    "\\end{align*}\n",
    "$$"
   ]
  },
  {
   "cell_type": "markdown",
   "id": "d21e8909",
   "metadata": {
    "editable": true
   },
   "source": [
    "For two particles coupling to spin $J=1$ we have"
   ]
  },
  {
   "cell_type": "markdown",
   "id": "f2b09eae",
   "metadata": {
    "editable": true
   },
   "source": [
    "$$\n",
    "H^{N=2} = \\frac{\\epsilon}{2}\\left(Z_1 + Z_2\\right) + \\frac{W+V}{2} X_1 X_2 - \\frac{W-V}{2} Y_1 Y_2.\n",
    "$$"
   ]
  },
  {
   "cell_type": "markdown",
   "id": "349fdc60",
   "metadata": {
    "editable": true
   },
   "source": [
    "## For four fermions\n",
    "Our Hamiltonian for $N=4$ is"
   ]
  },
  {
   "cell_type": "markdown",
   "id": "4944fe8a",
   "metadata": {
    "editable": true
   },
   "source": [
    "$$\n",
    "\\begin{align*}\n",
    "    \\begin{split}\n",
    "        H^{N=4} =& \\frac{\\epsilon}{2}\\left(Z_1 + Z_2 + Z_3 + Z_4\\right) + \\frac{W-V}{2}\\Big( X_1 X_2 +\\\\ \n",
    "        & X_1 X_3 + X_1 X_4 + X_2 X_3 + X_3 X_4 + X_3 X_4\n",
    "        \\Big) \\\\\n",
    "        &+ \\frac{W+V}{2}\\Big( Y_1 Y_2 + Y_1 Y_3 + Y_1 Y_4 + Y_2 Y_3 \\\\\n",
    "        & + Y_3 Y_4 + Y_3 Y_4\\Big).\n",
    "    \\end{split}\n",
    "\\end{align*}\n",
    "$$"
   ]
  },
  {
   "cell_type": "markdown",
   "id": "1ea9d984",
   "metadata": {
    "editable": true
   },
   "source": [
    "Note that well that a term like $Z_1$ reads $Z_1\\otimes I_2 \\otimes I_3 \\otimes I_4$ where the subscript points to qubit $i$ and all matrices are $2\\times 2$ matrices."
   ]
  },
  {
   "cell_type": "markdown",
   "id": "fb7958e9",
   "metadata": {
    "editable": true
   },
   "source": [
    "## Leaving out the $W$ term\n",
    "\n",
    "If we set $W = 0$ we can simplify the Hamiltonian. For this we  note that if we only include the $H_0$ and $H_1$ terms,  spins differing by $\\pm2$ are the only possible non-diagonal couplings. Since $H_0$ is diagonal and single particle energies are degenerate, it does not break any symmetry.\n",
    "Instead of the $2J+1$ spin projections, we simply have $J+1$ relevant states. From <https://journals.aps.org/prc/abstract/10.1103/PhysRevC.106.024319>,\n",
    "the two-qubit Hamiltonian for $N=4$ can be written as"
   ]
  },
  {
   "cell_type": "markdown",
   "id": "1f67cd8d",
   "metadata": {
    "editable": true
   },
   "source": [
    "$$\n",
    "H_{W=0}^{N=4} = \\epsilon(Z_1 + Z_2) + \\frac{\\sqrt{6}}{2}V (X_1 + X_2 + Z_1 X_0 - X_1 Z_0).\n",
    "$$"
   ]
  },
  {
   "cell_type": "markdown",
   "id": "0d73bbf9",
   "metadata": {
    "editable": true
   },
   "source": [
    "This is computationally more efficient since we only need half of the qubits."
   ]
  },
  {
   "cell_type": "markdown",
   "id": "01c6e351",
   "metadata": {
    "editable": true
   },
   "source": [
    "## More details\n",
    "\n",
    "Here we give some additional details behind the rewriting of the Lipkin Hamiltonian in term of Pauli matrices and the identity matrix.\n",
    "For the one-body term we have"
   ]
  },
  {
   "cell_type": "markdown",
   "id": "58dbdfbc",
   "metadata": {
    "editable": true
   },
   "source": [
    "$$\n",
    "\\begin{align*}\n",
    "    H_0 = \\epsilon J_z = \\epsilon \\sum_{p} j_{z}^{p} = \\frac{\\epsilon}{2} \\sum_p Z_p \n",
    "\\end{align*}\n",
    "$$"
   ]
  },
  {
   "cell_type": "markdown",
   "id": "c50e3c1b",
   "metadata": {
    "editable": true
   },
   "source": [
    "Moving on to the $H_1$ term, we need to expand the square of the $J_\\pm$ operators. Starting with $J_+$ we find"
   ]
  },
  {
   "cell_type": "markdown",
   "id": "db23b07e",
   "metadata": {
    "editable": true
   },
   "source": [
    "$$\n",
    "\\begin{align*}\n",
    "    J_+^2 &= (\\sum_p j_{x}^{p} + \\imath j_{y}^{p})^2 = \\sum_{pq}(j_{x}^{p} + \\imath j_{y}^{p})(j_{x}^{q} + \\imath j_{y}^{q}) \\\\\n",
    "    &= \\sum_{pq} \\left(j_{x}^{p}j_{x}^{q} - j_{y}^{p}j_{y}^{q} + \\imath j_{y}^{p}j_{x}^{q} + \\imath j_{x}^{p}j_{y}^{q}\\right).\n",
    "\\end{align*}\n",
    "$$"
   ]
  },
  {
   "cell_type": "markdown",
   "id": "93d37aa4",
   "metadata": {
    "editable": true
   },
   "source": [
    "## Other manipulations\n",
    "\n",
    "Similarly, the $J_-^2$ term yields"
   ]
  },
  {
   "cell_type": "markdown",
   "id": "9c1fff65",
   "metadata": {
    "editable": true
   },
   "source": [
    "$$\n",
    "\\begin{align*}\n",
    "    J_-^2 = \\sum_{pq} (j_{x}^{p}j_{x}^{q} - j_{y}^{p}j_{y}^{q} - \\imath j_{y}^{p}j_{x}^{q} - \\imath j_{x}^{p}j_{y}^{q}).\n",
    "\\end{align*}\n",
    "$$"
   ]
  },
  {
   "cell_type": "markdown",
   "id": "0c58c32b",
   "metadata": {
    "editable": true
   },
   "source": [
    "Rewriting we get"
   ]
  },
  {
   "cell_type": "markdown",
   "id": "0600d70b",
   "metadata": {
    "editable": true
   },
   "source": [
    "$$\n",
    "\\begin{align*}\n",
    "    J_+^2 + J_-^2 &= 2\\sum_{pq} j_{x}^{p}j_{x}^{q} - j_{z}^{p}j_{z}^{q} \\\\\n",
    "    &= 2 \\sum_p (j_{x}^{p})^2 - (j_{y}^{p})^2 + 4\\sum_{p > q}( j_{x}^{p}j_{x}^{q} - j_{y}^{p}j_{y}^{q}) \\\\\n",
    "    &= \\frac{1}{2} \\sum_p (X_p^2 - Y_p^2) + \\sum_{p > q} (X_p X_q - Y_p Y_q)\n",
    "\\end{align*}\n",
    "$$"
   ]
  },
  {
   "cell_type": "markdown",
   "id": "898fd0cb",
   "metadata": {
    "editable": true
   },
   "source": [
    "## Final expression for $H_1$ and $H_2$\n",
    "\n",
    "The diagonal term will cancel out, since the Pauli matrices are involutory, resulting in"
   ]
  },
  {
   "cell_type": "markdown",
   "id": "deae6cdb",
   "metadata": {
    "editable": true
   },
   "source": [
    "$$\n",
    "H_1 = \\frac{1}{2}V \\sum_{p > q}( X_p X_q - Y_p Y_q).\n",
    "$$"
   ]
  },
  {
   "cell_type": "markdown",
   "id": "ac6c8614",
   "metadata": {
    "editable": true
   },
   "source": [
    "Following the same procedure as above, we have finally"
   ]
  },
  {
   "cell_type": "markdown",
   "id": "ed789ea3",
   "metadata": {
    "editable": true
   },
   "source": [
    "$$\n",
    "H_2 = \\frac{1}{2}W \\sum_{p < q} (X_p X_q + Y_p Y_q).\n",
    "$$"
   ]
  },
  {
   "cell_type": "markdown",
   "id": "68944b17",
   "metadata": {
    "editable": true
   },
   "source": [
    "## Background material on VQE and transformations into a computational basis\n",
    "\n",
    "The review of Tilly et al., see <https://discovery.ucl.ac.uk/id/eprint/10157639/1/1-s2.0-S0370157322003118-main.pdf> (Physics Reports **986**, 1 (2022)), gives examples on how to arrive at the equations (see section 5.2) listed in the tables here. The article gives also an excellent overview of the VQE method.\n",
    "\n",
    "See also Hundt section 6.11."
   ]
  },
  {
   "cell_type": "markdown",
   "id": "7dc242bf",
   "metadata": {
    "editable": true
   },
   "source": [
    "## Transforming Pauli and identity matrices\n",
    "\n",
    "<!-- dom:FIGURE: [figures/table1.png, width=700 frac=1.0] -->\n",
    "<!-- begin figure -->\n",
    "\n",
    "<img src=\"figures/table1.png\" width=\"700\"><p style=\"font-size: 0.9em\"><i>Figure 1: </i></p>\n",
    "<!-- end figure -->"
   ]
  },
  {
   "cell_type": "markdown",
   "id": "9f972148",
   "metadata": {
    "editable": true
   },
   "source": [
    "## Transforming Pauli and identity matrices, four particle case\n",
    "\n",
    "<!-- dom:FIGURE: [figures/table2.png, width=700 frac=0.8] -->\n",
    "<!-- begin figure -->\n",
    "\n",
    "<img src=\"figures/table2.png\" width=\"700\"><p style=\"font-size: 0.9em\"><i>Figure 1: </i></p>\n",
    "<!-- end figure -->"
   ]
  },
  {
   "cell_type": "markdown",
   "id": "fbbaa7a6",
   "metadata": {
    "editable": true
   },
   "source": [
    "## Plans for the week March 18-22\n",
    "\n",
    "1. Discussion of project 1 and possible paths for project 2\n",
    "\n",
    "2. Introduction to Quantum Fourier transforms"
   ]
  }
 ],
 "metadata": {},
 "nbformat": 4,
 "nbformat_minor": 5
}
