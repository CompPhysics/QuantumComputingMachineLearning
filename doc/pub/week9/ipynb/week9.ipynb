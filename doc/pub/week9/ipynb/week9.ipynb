{
 "cells": [
  {
   "cell_type": "markdown",
   "id": "8e217b0c",
   "metadata": {
    "editable": true
   },
   "source": [
    "<!-- HTML file automatically generated from DocOnce source (https://github.com/doconce/doconce/)\n",
    "doconce format html week9.do.txt --no_mako -->\n",
    "<!-- dom:TITLE: March 20-24, 2023: Quantum Computing, Quantum Machine Learning and Quantum Information Theories -->"
   ]
  },
  {
   "cell_type": "markdown",
   "id": "2436c543",
   "metadata": {
    "editable": true
   },
   "source": [
    "# March 20-24, 2023: Quantum Computing, Quantum Machine Learning and Quantum Information Theories\n",
    "**Morten Hjorth-Jensen**, Department of Physics, University of Oslo and Department of Physics and Astronomy and Facility for Rare Isotope Beams, Michigan State University\n",
    "\n",
    "Date: **Jan 19, 2023**\n",
    "\n",
    "Copyright 1999-2023, Morten Hjorth-Jensen. Released under CC Attribution-NonCommercial 4.0 license"
   ]
  },
  {
   "cell_type": "markdown",
   "id": "4b29726c",
   "metadata": {
    "editable": true
   },
   "source": [
    "## Second quantization and Hamiltonians for quantum computing\n",
    "\n",
    "1. Second quantization\n",
    "\n",
    "2. Jordan-Wigner transformation\n",
    "\n",
    "3. Suzuki-Trotter approximation"
   ]
  }
 ],
 "metadata": {},
 "nbformat": 4,
 "nbformat_minor": 5
}
