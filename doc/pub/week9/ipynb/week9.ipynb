{
 "cells": [
  {
   "cell_type": "markdown",
   "id": "35ec8310",
   "metadata": {},
   "source": [
    "<!-- HTML file automatically generated from DocOnce source (https://github.com/doconce/doconce/)\n",
    "doconce format html week9.do.txt --no_mako -->\n",
    "<!-- dom:TITLE: March 20-24, 2023: Quantum Computing, Quantum Machine Learning and Quantum Information Theories -->"
   ]
  },
  {
   "cell_type": "markdown",
   "id": "7e95e0bd",
   "metadata": {},
   "source": [
    "# March 20-24, 2023: Quantum Computing, Quantum Machine Learning and Quantum Information Theories\n",
    "**Morten Hjorth-Jensen**, Department of Physics, University of Oslo and Department of Physics and Astronomy and Facility for Rare Isotope Beams, Michigan State University\n",
    "\n",
    "Date: **March 20-24**\n",
    "\n",
    "1. Preparing the Lipkin model for  VQE quantum computing\n",
    "\n",
    "2. [Discussion of the project](https://github.com/CompPhysics/QuantumComputingMachineLearning/tree/gh-pages/doc/Projects/2023/Project1)\n",
    "\n",
    "3. [Video of lecture](https://youtu.be/ZKv8pEy3Y_4)"
   ]
  },
  {
   "cell_type": "markdown",
   "id": "ad417a82",
   "metadata": {},
   "source": [
    "## Reminder on the Lipkin model and Variational Quantum Eigensolver (VQE)\n",
    "\n",
    "See lecture notes (jupyter-notebook)\n",
    "from the week of March 13-17 at <https://github.com/CompPhysics/QuantumComputingMachineLearning/blob/gh-pages/doc/pub/week8/ipynb/week8.ipynb>."
   ]
  },
  {
   "cell_type": "markdown",
   "id": "5b572c29",
   "metadata": {},
   "source": [
    "## Quantum computing and solving  the eigenvalue problem for the Lipkin model\n",
    "\n",
    "We turn now to a simpler variant of the Lipkin model without the $W$-term and a total spin of $J=1$ only as maximum value of the spin.\n",
    "This corresponds to a system with $N=2$ particles (fermions in our case).\n",
    "Our Hamiltonian is given by the quasispin operators (see below)"
   ]
  },
  {
   "cell_type": "markdown",
   "id": "c1d4af88",
   "metadata": {},
   "source": [
    "$$\n",
    "\\hat{H} = \\epsilon\\hat{J}_z -\\frac{1}{2}V(\\hat{J}_+\\hat{J}_++\\hat{J}_-\\hat{J}_-).\n",
    "$$"
   ]
  },
  {
   "cell_type": "markdown",
   "id": "8b0b6a90",
   "metadata": {},
   "source": [
    "[As discussed\n",
    "previously](https://github.com/CompPhysics/QuantumComputingMachineLearning/blob/gh-pages/doc/pub/week8/ipynb/week8.ipynb),\n",
    "the quasispin operators act like lowering and raising angular momentum\n",
    "operators.\n",
    "\n",
    "With these properties we can calculate the Hamiltonian\n",
    "matrix for the Lipkin model by computing the various matrix elements"
   ]
  },
  {
   "cell_type": "markdown",
   "id": "d273989e",
   "metadata": {},
   "source": [
    "<!-- Equation labels as ordinary links -->\n",
    "<div id=\"_auto1\"></div>\n",
    "\n",
    "$$\n",
    "\\begin{equation}\n",
    "\\langle JJ_z|H|JJ_z'\\rangle,\n",
    "\\label{_auto1} \\tag{1}\n",
    "\\end{equation}\n",
    "$$"
   ]
  },
  {
   "cell_type": "markdown",
   "id": "05429ffa",
   "metadata": {},
   "source": [
    "where the non-zero elements are given by"
   ]
  },
  {
   "cell_type": "markdown",
   "id": "a2e31054",
   "metadata": {},
   "source": [
    "$$\n",
    "\\begin{split}\n",
    "\\langle JJ_z|H|JJ_z'\\rangle & = \\epsilon J_z\\\\\n",
    "\\langle JJ_z|H|JJ_z'\\pm 2\\rangle & = \\langle JJ_z\\pm 2|H|JJ_z'\\rangle \\\\ &= -\\frac{1}{2}VC,\n",
    "\\end{split}\n",
    "$$"
   ]
  },
  {
   "cell_type": "markdown",
   "id": "689cb94c",
   "metadata": {},
   "source": [
    "where $C$ is the Clebsch-Gordan coefficients (from the raising and lowering operators) one gets when\n",
    "$J_{\\pm}^2$ operates on the state $|JJ_z\\rangle$.  Using the above\n",
    "definitions we can calculate the exact solution to the Lipkin model.\n",
    "\n",
    "With the $V$-interaction terms, we obtain the following Hamiltonian matrix"
   ]
  },
  {
   "cell_type": "markdown",
   "id": "c1a1b6aa",
   "metadata": {},
   "source": [
    "<!-- Equation labels as ordinary links -->\n",
    "<div id=\"_auto2\"></div>\n",
    "\n",
    "$$\n",
    "\\begin{equation}\n",
    "\\begin{pmatrix}-\\epsilon & 0 & -V\\\\\n",
    " 0&0&0\\\\\n",
    " -V&0&\\epsilon\n",
    "\\end{pmatrix}\n",
    "\\label{_auto2} \\tag{2}\n",
    "\\end{equation}\n",
    "$$"
   ]
  },
  {
   "cell_type": "markdown",
   "id": "ee61b5fd",
   "metadata": {},
   "source": [
    "The following **python** code sets up the above matrix and finds the pertinent eigenvalues."
   ]
  },
  {
   "cell_type": "code",
   "execution_count": 1,
   "id": "ce1296b7",
   "metadata": {},
   "outputs": [],
   "source": [
    "%matplotlib inline\n",
    "\n",
    "import numpy as np\n",
    "import qiskit\n",
    "from qiskit.visualization import circuit_drawer\n",
    "from qiskit.quantum_info import Statevector\n",
    "from matplotlib.pyplot import figure\n",
    "from qiskit import QuantumRegister, QuantumCircuit, ClassicalRegister, Aer, assemble\n",
    "from qiskit.providers.aer.noise import NoiseModel\n",
    "import pylatexenc\n",
    "from qiskit.algorithms import VQE\n",
    "from qiskit.utils import QuantumInstance\n",
    "from qiskit.opflow import X, Z, I, Y\n",
    "from qiskit.circuit import Parameter\n",
    "from qiskit.algorithms.optimizers import ADAM\n",
    "from qiskit.opflow import AerPauliExpectation\n",
    "from qiskit import IBMQ\n",
    "import cmath\n",
    "import pandas as pd\n",
    "from scipy.sparse import diags\n",
    "import numpy.linalg as LA\n",
    "import matplotlib.pyplot as plt\n",
    "from IPython.display import Image\n",
    "import warnings\n",
    "warnings.filterwarnings('ignore')\n",
    "pi=np.pi"
   ]
  },
  {
   "cell_type": "code",
   "execution_count": 2,
   "id": "fc223a61",
   "metadata": {},
   "outputs": [],
   "source": [
    "#function that sorts eigenvalues with its eigenvectors in accending order\n",
    "def eigen(A):\n",
    "    eigenValues, eigenVectors = LA.eig(A)\n",
    "    idx = np.argsort(eigenValues)\n",
    "    eigenValues = eigenValues[idx]\n",
    "    eigenVectors = eigenVectors[:,idx]\n",
    "    return (eigenValues, eigenVectors) \n",
    "\n",
    "#one body expectation value\n",
    "def one_body(E,N):\n",
    "  k = N/2\n",
    "  m = np.arange(-k,k+1,1) # Since the collective space is Omega+1\n",
    "  return E*np.diag(m) #return a matrix where its diagonal elemens are epsilon*K_0\n",
    "\n",
    "#two body expectation value\n",
    "def two_body(V,N):\n",
    "  k = N/2\n",
    "  m = np.arange(-k,k+1,1)\n",
    "  left =np.zeros(len(m)-2,dtype=complex)\n",
    "  right = np.zeros(len(m)-2,dtype=complex)\n",
    "  diag = np.zeros(len(m),dtype=complex)\n",
    "  for i in range(len(left)):\n",
    "    CG = cmath.sqrt(k*(k+1)-(m[i]+2)*(m[i]+1))*cmath.sqrt(k*(k+1)-m[i]*(m[i]+1)) #calculate Clebsch-Gordan Coefficients \n",
    "    left[i] = CG\n",
    "    right[i] = CG\n",
    "  k = [left,diag,right]\n",
    "  offset = [-2,0,2]\n",
    "  return -0.5*V*diags(k,offset).toarray() #return a matrix where its off digonal elements are (1/2)V(K^2_+ + K^2_-)\n",
    "\n",
    "#full expectation value\n",
    "def quasi_spin(E,V,N):\n",
    "  ob = one_body(E,N)\n",
    "  tb = two_body(V,N)\n",
    "  H = ob+tb \n",
    "  e,v = eigen(H) # find the eigenvalues of the Hamiltonian\n",
    "  return e,H\n",
    "\n",
    "#converts chi to V\n",
    "def Vp(E,omega,chi):\n",
    "  return (chi*E)/(omega-1)"
   ]
  },
  {
   "cell_type": "code",
   "execution_count": 3,
   "id": "89af7d09",
   "metadata": {},
   "outputs": [],
   "source": [
    "#parameters\n",
    "E = 1\n",
    "chi = np.arange(0,2.1,0.1)\n",
    "omega = 2\n",
    "\n",
    "EV0 = []\n",
    "EV1 = []\n",
    "EV2 = []\n",
    "Ham = []\n",
    "for i in chi:\n",
    "  v = Vp(E,omega,i)\n",
    "  EigenV,H = quasi_spin(E,v,omega) #return eigenvalues and Hamiltonian\n",
    "  Ham.append(H)\n",
    "  EV0.append(EigenV[0])\n",
    "  EV1.append(EigenV[1])\n",
    "  EV2.append(EigenV[2])"
   ]
  },
  {
   "cell_type": "code",
   "execution_count": 4,
   "id": "375dda79",
   "metadata": {},
   "outputs": [],
   "source": [
    "matrix = pd.DataFrame(Ham[5].real)\n",
    "print('Hamiltonian matrix')\n",
    "matrix.head()"
   ]
  },
  {
   "cell_type": "code",
   "execution_count": 5,
   "id": "de1abe33",
   "metadata": {},
   "outputs": [],
   "source": [
    "plt.plot(chi,EV0)\n",
    "plt.plot(chi,EV1)\n",
    "plt.plot(chi,EV2)\n",
    "plt.xlabel('$\\chi$')\n",
    "plt.ylabel('Energy')\n",
    "plt.title('$\\Omega=2$ exact Lipkin Model')"
   ]
  },
  {
   "cell_type": "markdown",
   "id": "59c8bc13",
   "metadata": {},
   "source": [
    "### Quantum Circuit, rewriting the Lipkin model in terms of Pauli matrices\n",
    "\n",
    "To solve the Lipkin model on a quantum computer we have to solve\n",
    "Schrodinger's equation. To achieve this, we will use the Variational\n",
    "Quantum Eigensolver (VQE) [discussed\n",
    "earlier](https://github.com/CompPhysics/QuantumComputingMachineLearning/blob/gh-pages/doc/pub/week8/ipynb/week8.ipynb).\n",
    "\n",
    "Before we proceed however, we need to rewrite the quasispin operators in terms of Pauli spin matrices/operators.\n",
    "\n",
    "We take the liberty here of reminding you of some of the derivations done previously.\n",
    "We defined the number operator as"
   ]
  },
  {
   "cell_type": "markdown",
   "id": "29668790",
   "metadata": {},
   "source": [
    "$$\n",
    "N=\\sum_{n\\sigma}a^\\dagger_{n\\sigma}a_{n\\sigma},\n",
    "$$"
   ]
  },
  {
   "cell_type": "markdown",
   "id": "5c93a61b",
   "metadata": {},
   "source": [
    "which commutes with the Lipkin Hamiltonian. This can be seen by\n",
    "examining the Lipkin model Hamiltonian and noticing that the one-body\n",
    "part simply counts particles while the two-body term moves particles\n",
    "in pairs. Thus, the Hamiltonian conserves particle number. To find\n",
    "more symmetries we rewrote the Lipkin Hamiltonian in terms of $SU(2)$ quasispin\n",
    "operators"
   ]
  },
  {
   "cell_type": "markdown",
   "id": "845492e6",
   "metadata": {},
   "source": [
    "<!-- Equation labels as ordinary links -->\n",
    "<div id=\"_auto3\"></div>\n",
    "\n",
    "$$\n",
    "\\begin{equation}\n",
    "H = \\epsilon J_z + \\frac{1}{2}V(J^2_++J^2_-),\n",
    "\\label{_auto3} \\tag{3}\n",
    "\\end{equation}\n",
    "$$"
   ]
  },
  {
   "cell_type": "markdown",
   "id": "318925e4",
   "metadata": {},
   "source": [
    "via the mappings"
   ]
  },
  {
   "cell_type": "markdown",
   "id": "8af15d9a",
   "metadata": {},
   "source": [
    "$$\n",
    "J_z=\\sum_{n}j_z^{(n)},\n",
    "$$"
   ]
  },
  {
   "cell_type": "markdown",
   "id": "2b9a9cdc",
   "metadata": {},
   "source": [
    "and"
   ]
  },
  {
   "cell_type": "markdown",
   "id": "ae38fcbb",
   "metadata": {},
   "source": [
    "$$\n",
    "J_\\pm=\\sum_nj^{(n)}_{\\pm},\n",
    "$$"
   ]
  },
  {
   "cell_type": "markdown",
   "id": "5e5a35e3",
   "metadata": {},
   "source": [
    "where we have the onebody operators"
   ]
  },
  {
   "cell_type": "markdown",
   "id": "071273a4",
   "metadata": {},
   "source": [
    "$$\n",
    "j_z^{(n)}=\\frac{1}{2}\\sum_{\\sigma}\\sigma a^\\dagger_{n\\sigma}a_{n\\sigma},\n",
    "$$"
   ]
  },
  {
   "cell_type": "markdown",
   "id": "6f9ece4f",
   "metadata": {},
   "source": [
    "and"
   ]
  },
  {
   "cell_type": "markdown",
   "id": "26aabc0d",
   "metadata": {},
   "source": [
    "$$\n",
    "j^{(n)}_{\\pm}=a^\\dagger_{n\\pm}a_{n\\mp}.\n",
    "$$"
   ]
  },
  {
   "cell_type": "markdown",
   "id": "04477e36",
   "metadata": {},
   "source": [
    "These operators obey the $SU(2)$ commutation relations"
   ]
  },
  {
   "cell_type": "markdown",
   "id": "e7d13a28",
   "metadata": {},
   "source": [
    "$$\n",
    "[J_+,J_-]=2J_z,\n",
    "$$"
   ]
  },
  {
   "cell_type": "markdown",
   "id": "912f9507",
   "metadata": {},
   "source": [
    "and"
   ]
  },
  {
   "cell_type": "markdown",
   "id": "0884ec3b",
   "metadata": {},
   "source": [
    "$$\n",
    "[J_z,J_\\pm]=\\pm J_\\pm.\n",
    "$$"
   ]
  },
  {
   "cell_type": "markdown",
   "id": "28d958cd",
   "metadata": {},
   "source": [
    "Here the ladder operators are defined as $J_{\\pm}= J_x\\pm iJ_y$. With this rewriting, we can see that the total spin operator $J^2$, which is defined as"
   ]
  },
  {
   "cell_type": "markdown",
   "id": "155f2d62",
   "metadata": {},
   "source": [
    "$$\n",
    "J^2= J^2_x+J^2_y+J^2_z =\n",
    "\\frac{1}{2}\\{J_+,J_-\\}+J_z^2,\n",
    "$$"
   ]
  },
  {
   "cell_type": "markdown",
   "id": "af71cfb5",
   "metadata": {},
   "source": [
    "commutes with the Hamiltonian since the Hamiltonian.\n",
    "We note also that the rotation operator"
   ]
  },
  {
   "cell_type": "markdown",
   "id": "5a738c60",
   "metadata": {},
   "source": [
    "$$\n",
    "R=e^{i\\phi J_z},\n",
    "$$"
   ]
  },
  {
   "cell_type": "markdown",
   "id": "83798529",
   "metadata": {},
   "source": [
    "commutes with the Hamiltonian, which can be explained as follows. Writing $J_z$ as"
   ]
  },
  {
   "cell_type": "markdown",
   "id": "64371598",
   "metadata": {},
   "source": [
    "$$\n",
    "J_z=\\frac{1}{2}(N_+-N_-),\n",
    "$$"
   ]
  },
  {
   "cell_type": "markdown",
   "id": "31c18aed",
   "metadata": {},
   "source": [
    "where $N_\\pm=\\sum_{n\\pm}a^\\dagger_{n\\pm}a_{n\\pm}$, allows us to see that it measures half the difference between the number of particles in the upper and lower levels. Thus, the possible eigenvalues $r$ of the signature operator are"
   ]
  },
  {
   "cell_type": "markdown",
   "id": "4d6624b0",
   "metadata": {},
   "source": [
    "<!-- Equation labels as ordinary links -->\n",
    "<div id=\"_auto4\"></div>\n",
    "\n",
    "$$\n",
    "\\begin{equation}\n",
    "r=+1,  j_z=2n \n",
    "\\label{_auto4} \\tag{4}\n",
    "\\end{equation}\n",
    "$$"
   ]
  },
  {
   "cell_type": "markdown",
   "id": "26327d7f",
   "metadata": {},
   "source": [
    "<!-- Equation labels as ordinary links -->\n",
    "<div id=\"_auto5\"></div>\n",
    "\n",
    "$$\n",
    "\\begin{equation} \n",
    "r=+i,  j_z=2n+\\frac{1}{2} \n",
    "\\label{_auto5} \\tag{5}\n",
    "\\end{equation}\n",
    "$$"
   ]
  },
  {
   "cell_type": "markdown",
   "id": "019d354d",
   "metadata": {},
   "source": [
    "<!-- Equation labels as ordinary links -->\n",
    "<div id=\"_auto6\"></div>\n",
    "\n",
    "$$\n",
    "\\begin{equation} \n",
    "r=-1,  j_z=2n+1 \n",
    "\\label{_auto6} \\tag{6}\n",
    "\\end{equation}\n",
    "$$"
   ]
  },
  {
   "cell_type": "markdown",
   "id": "365be3d7",
   "metadata": {},
   "source": [
    "<!-- Equation labels as ordinary links -->\n",
    "<div id=\"_auto7\"></div>\n",
    "\n",
    "$$\n",
    "\\begin{equation} \n",
    "r=-i,  j_z=2n+\\frac{3}{2} \n",
    "\\label{_auto7} \\tag{7}\n",
    "\\end{equation}\n",
    "$$"
   ]
  },
  {
   "cell_type": "markdown",
   "id": "8ad9cfe2",
   "metadata": {},
   "source": [
    "<!-- Equation labels as ordinary links -->\n",
    "<div id=\"_auto8\"></div>\n",
    "\n",
    "$$\n",
    "\\begin{equation} \n",
    "\\label{_auto8} \\tag{8}\n",
    "\\end{equation}\n",
    "$$"
   ]
  },
  {
   "cell_type": "markdown",
   "id": "3bdfa2c2",
   "metadata": {},
   "source": [
    "for $n\\in\\mathbb{Z}$. Note that $r$ is real or imaginary if the number\n",
    "of particles $N$ is even or odd, respectively. Since, as discussed\n",
    "above, the Lipkin Hamiltonian conserves $N$, $r$ cannot jump between\n",
    "being real and imaginary. Additionally, because particles must be\n",
    "moved in pairs, and $J_z$ measures half the difference between\n",
    "particles in the upper and lower levels, $j_z$ can only change by as"
   ]
  },
  {
   "cell_type": "markdown",
   "id": "0db3c2d4",
   "metadata": {},
   "source": [
    "$$\n",
    "j_z\\rightarrow \\frac{1}{2}[(N_+\\pm 2n)-(N_-\\mp 2n)]\n",
    "$$"
   ]
  },
  {
   "cell_type": "markdown",
   "id": "5f51371b",
   "metadata": {},
   "source": [
    "or $j_z\\rightarrow J_z\\pm2n$.\n",
    "\n",
    "To solve the Lipkin model with a quantum computer, the first step is\n",
    "to map the system to a set of qubits. We will restrict ourselves here\n",
    "to the half-filled case where the number of particles $N$ equals the\n",
    "degeneracy of the states $\\Omega$. One could assign each possible\n",
    "state $(n,\\sigma)$ a qubit such that the qubit being in the state\n",
    "$\\vert 1\\rangle$ or $\\vert 0\\rangle$ would imply that the state\n",
    "$(n,\\sigma)$ is occupied or unoccupied, respectively. This mapping\n",
    "scheme (which we will call occupation mapping) requires 2$\\Omega$\n",
    "qubits.\n",
    "\n",
    "However, because there are only two energy levels in the Lipkin model,\n",
    "any other natural mapping is possible. In this mapping scheme (which\n",
    "we will call level mapping) each doublet ($(n,+1)$, $(n,-1)$) would be\n",
    "assigned a qubit such that the qubit being in the state $\\vert 0\\rangle$ or\n",
    "$\\vert 1\\rangle$ would imply that the particle is in the $(n,+1)$ or $(n,-1)$\n",
    "state, respectively. Note that these are the only two possible\n",
    "configurations of the doublet as we are restricting ourselves to the\n",
    "half-filled case and the Lipkin Hamiltonian only moves particles\n",
    "between energy levels, not degenerate states. Thus the level mapping\n",
    "only requires $\\Omega$ qubits which is half that of the occupation\n",
    "mapping. Additionally, any ansatz that would restrict the minimization\n",
    "search to the correct subspace of constant Hamming weight $N$ requires\n",
    "at most, only two qubit gates. This is because moving a pair of\n",
    "particles in this scheme only changes the state of two doublets (and\n",
    "therefore qubits). That is, it only takes a two-qubit gate to change\n",
    "between the states $\\vert 00\\rangle$ and $\\vert 11\\rangle$, for example. As an\n",
    "efficient decomposition two-qubit gates is known, the ansatz for this\n",
    "mapping would be shorter (and thus less noisy) than that of the\n",
    "previous mapping.\n",
    "\n",
    "One could imagine a third mapping scheme which would require even less\n",
    "qubits in which each of the possible states in the spin basis\n",
    "$\\vert JJ_z\\rangle$ is mapped to a single qubit. In this spin mapping, there\n",
    "are only $2J+1$ possible states (since $J_z=-J,-J+1,...,J-1,J$) for\n",
    "each value of $J$. And, since the Hamiltonian is block diagonal (with\n",
    "a different block for each $J$) the eigenvalues of the Hamiltonian are\n",
    "simply the eigenvalues of each block, which may be calculated\n",
    "separately. Since the maximum value of $J$ is $J_{\\text{max}}=N/2$,\n",
    "the largest number of qubits would be\n",
    "$2J_{\\text{max}}+1=N+1$. However, $\\left\\lfloor N/2 \\right\\rfloor$\n",
    "different circuit would need to be used for minimization for all\n",
    "possible values of $J$, to explore the entire Hilbert space. (The\n",
    "minimum of the set of minimum energies that each circuit finds would\n",
    "be the ground state energy of the entire system.) This increases,\n",
    "linearly, the amount of time required to find the ground state energy.\n",
    "\n",
    "After reviewing the three possible mappings, it is our view that the\n",
    "level mapping is the best suited for NISQ era\n",
    "devices given its low qubit count and ability to search the entire\n",
    "relevant Hilbert space with one circuit (which reduces time to\n",
    "solution) and the fact that at most, only two-qubit gates are required\n",
    "of the ansatz, leading to shorter depth (and thus less noisy)\n",
    "circuits.\n",
    "\n",
    "The Hamiltonian takes the form"
   ]
  },
  {
   "cell_type": "markdown",
   "id": "b725ba0a",
   "metadata": {},
   "source": [
    "<!-- Equation labels as ordinary links -->\n",
    "<div id=\"_auto9\"></div>\n",
    "\n",
    "$$\n",
    "\\begin{equation}\n",
    "H=\\epsilon J_z + \\frac{1}{2}V(J^2_++J^2_-).\n",
    "\\label{_auto9} \\tag{9}\n",
    "\\end{equation}\n",
    "$$"
   ]
  },
  {
   "cell_type": "markdown",
   "id": "4b129483",
   "metadata": {},
   "source": [
    "Plugging the mapping from the total $J$ operators to the individual one-body $j$ operators yields"
   ]
  },
  {
   "cell_type": "markdown",
   "id": "0cb60a99",
   "metadata": {},
   "source": [
    "<!-- Equation labels as ordinary links -->\n",
    "<div id=\"_auto10\"></div>\n",
    "\n",
    "$$\n",
    "\\begin{equation}\n",
    "H = \\epsilon\\sum_{n}j_z^{(n)} + \\frac{1}{2}V\\left[\\left(\\sum_nj^{(n)}_{+}\\right)^2+\\left(\\sum_nj^{(n)}_{-}\\right)^2\\right]\n",
    "\\label{_auto10} \\tag{10}\n",
    "\\end{equation}\n",
    "$$"
   ]
  },
  {
   "cell_type": "markdown",
   "id": "ad82c260",
   "metadata": {},
   "source": [
    "<!-- Equation labels as ordinary links -->\n",
    "<div id=\"_auto11\"></div>\n",
    "\n",
    "$$\n",
    "\\begin{equation} \n",
    "= \\epsilon\\sum_{n}j_z^{(n)} + \\frac{1}{2}V\\sum_{n,m}\\left(j^{(n)}_+j^{(m)}_++j^{(n)}_-j^{(m)}_-\\right)\n",
    "\\label{_auto11} \\tag{11}\n",
    "\\end{equation}\n",
    "$$"
   ]
  },
  {
   "cell_type": "markdown",
   "id": "571c7c21",
   "metadata": {},
   "source": [
    "<!-- Equation labels as ordinary links -->\n",
    "<div id=\"_auto12\"></div>\n",
    "\n",
    "$$\n",
    "\\begin{equation} \n",
    "= \\epsilon\\sum_{n}j_z^{(n)} + 2V\\sum_{n<m}\\left(j^{(n)}_xj^{(m)}_x-j^{(n)}_yj^{(m)}_y\\right),\n",
    "\\label{_auto12} \\tag{12}\n",
    "\\end{equation}\n",
    "$$"
   ]
  },
  {
   "cell_type": "markdown",
   "id": "6f9fe967",
   "metadata": {},
   "source": [
    "where we have used the definitions"
   ]
  },
  {
   "cell_type": "markdown",
   "id": "4e4529cc",
   "metadata": {},
   "source": [
    "$$\n",
    "j_{\\pm}^{(n)}=j_x^{(n)}\\pm ij_y^{(n)}.\n",
    "$$"
   ]
  },
  {
   "cell_type": "markdown",
   "id": "b8d1abfd",
   "metadata": {},
   "source": [
    "To convert to Pauli matrices, we make the transformations"
   ]
  },
  {
   "cell_type": "markdown",
   "id": "0c0f1382",
   "metadata": {},
   "source": [
    "$$\n",
    "j_x^{(n)} \\rightarrow X_n/2,\n",
    "$$"
   ]
  },
  {
   "cell_type": "markdown",
   "id": "b529c068",
   "metadata": {},
   "source": [
    "and"
   ]
  },
  {
   "cell_type": "markdown",
   "id": "9082d43a",
   "metadata": {},
   "source": [
    "$$\n",
    "j_y^{(n)} \\rightarrow Y_n/2,\n",
    "$$"
   ]
  },
  {
   "cell_type": "markdown",
   "id": "190c44bf",
   "metadata": {},
   "source": [
    "and finally"
   ]
  },
  {
   "cell_type": "markdown",
   "id": "677c1e06",
   "metadata": {},
   "source": [
    "$$\n",
    "j_z^{(n)} \\rightarrow Z_n/2,\n",
    "$$"
   ]
  },
  {
   "cell_type": "markdown",
   "id": "8355db1a",
   "metadata": {},
   "source": [
    "which preserve the above $SU(2)$  commutation relations.\n",
    "The factor of $1/2$\n",
    "is due to the eigenvalues of the Pauli matrices being $\\pm 1$\n",
    "while we are dealing with spin $1/2$ particles.\n",
    "\n",
    "This transforms our Hamiltonian into"
   ]
  },
  {
   "cell_type": "markdown",
   "id": "30427917",
   "metadata": {},
   "source": [
    "$$\n",
    "H=\\frac{1}{2}\\epsilon\\sum_{k=1}^nZ_k+\\frac{1}{2}V\\sum_{n\\neq j=1}^N(X_kX_j-Y_kY_j).\n",
    "$$"
   ]
  },
  {
   "cell_type": "markdown",
   "id": "86709bd0",
   "metadata": {},
   "source": [
    "With this form, we can clearly see that the first (one-body) term in\n",
    "the Hamiltonian returns the energy $-\\epsilon/2$ or $+\\epsilon/2$ if\n",
    "the qubit representing the particle of a doublet is in the ground\n",
    "($\\vert 1\\rangle$) or excited ($\\vert 0\\rangle$) state,\n",
    "respectively. The action of the second (two-body) term in the\n",
    "Hamiltonian can be determined by noting that"
   ]
  },
  {
   "cell_type": "markdown",
   "id": "b99fdcfe",
   "metadata": {},
   "source": [
    "<!-- Equation labels as ordinary links -->\n",
    "<div id=\"_auto13\"></div>\n",
    "\n",
    "$$\n",
    "\\begin{equation}\n",
    "\\frac{1}{2}(XX-YY)\\vert 00\\rangle = \\vert 11\\rangle,\n",
    "\\label{_auto13} \\tag{13}\n",
    "\\end{equation}\n",
    "$$"
   ]
  },
  {
   "cell_type": "markdown",
   "id": "a345a5be",
   "metadata": {},
   "source": [
    "<!-- Equation labels as ordinary links -->\n",
    "<div id=\"_auto14\"></div>\n",
    "\n",
    "$$\n",
    "\\begin{equation} \n",
    "\\frac{1}{2}(XX-YY)\\vert 01\\rangle = 0,\n",
    "\\label{_auto14} \\tag{14}\n",
    "\\end{equation}\n",
    "$$"
   ]
  },
  {
   "cell_type": "markdown",
   "id": "83cc802f",
   "metadata": {},
   "source": [
    "<!-- Equation labels as ordinary links -->\n",
    "<div id=\"_auto15\"></div>\n",
    "\n",
    "$$\n",
    "\\begin{equation} \n",
    "\\frac{1}{2}(XX-YY)\\vert 10\\rangle = 0,\n",
    "\\label{_auto15} \\tag{15}\n",
    "\\end{equation}\n",
    "$$"
   ]
  },
  {
   "cell_type": "markdown",
   "id": "8dead012",
   "metadata": {},
   "source": [
    "<!-- Equation labels as ordinary links -->\n",
    "<div id=\"_auto16\"></div>\n",
    "\n",
    "$$\n",
    "\\begin{equation} \n",
    "\\frac{1}{2}(XX-YY)\\vert 11\\rangle = \\vert 00\\rangle.\n",
    "\\label{_auto16} \\tag{16}\n",
    "\\end{equation}\n",
    "$$"
   ]
  },
  {
   "cell_type": "markdown",
   "id": "e1a25f0b",
   "metadata": {},
   "source": [
    "That is, the two-body term moves a pair of particles between the\n",
    "ground states $\\vert 00\\rangle$ and the excited states $\\vert\n",
    "11\\rangle$ of their respective doublets.\n",
    "\n",
    "To construct an efficient ansatz, we must determine the subspace\n",
    "within which the Hamiltonian lives. To begin, note that particles are\n",
    "only ever moved between energy levels in pairs.\n",
    "Further,\n",
    "note that the Hamiltonian's coefficients ($\\epsilon$ and $V$) are\n",
    "state independent (do not depend on the indices $n$ or $m$) as the\n",
    "states labeled by these indices are degenerate and thus have the same\n",
    "energy level. Thus, the Hamiltonian treats all states with the same\n",
    "number of excited particles (Hamming weight of the state) as the\n",
    "same. Therefore, the following ansatz forms exactly cover the subspace\n",
    "within which the $N$-degenerate Hamiltonian explores:"
   ]
  },
  {
   "cell_type": "markdown",
   "id": "b6b42803",
   "metadata": {},
   "source": [
    "<!-- Equation labels as ordinary links -->\n",
    "<div id=\"_auto17\"></div>\n",
    "\n",
    "$$\n",
    "\\begin{equation}\n",
    "\\vert \\psi_{\\text{even}}\\rangle=\\sum_{k=0}^{\\lfloor n/2 \\rfloor}c_{2k}\\vert D^n_{2k}\\rangle,\n",
    "\\label{_auto17} \\tag{17}\n",
    "\\end{equation}\n",
    "$$"
   ]
  },
  {
   "cell_type": "markdown",
   "id": "dafee044",
   "metadata": {},
   "source": [
    "<!-- Equation labels as ordinary links -->\n",
    "<div id=\"_auto18\"></div>\n",
    "\n",
    "$$\n",
    "\\begin{equation} \n",
    "\\vert \\psi_{\\text{odd}}\\rangle=\\sum_{k=0}^{\\lfloor n/2 \\rfloor}c_{2k+1}\\vert D^n_{2k+1}\\rangle.\n",
    "\\label{_auto18} \\tag{18}\n",
    "\\end{equation}\n",
    "$$"
   ]
  },
  {
   "cell_type": "markdown",
   "id": "e54e4129",
   "metadata": {},
   "source": [
    "Here $\\vert D^n_k\\rangle$ represents a Dicke state which is defined as equal superposition of all $n$-qubit states with Hamming weight $k$. That is"
   ]
  },
  {
   "cell_type": "markdown",
   "id": "3dbb63d2",
   "metadata": {},
   "source": [
    "<!-- Equation labels as ordinary links -->\n",
    "<div id=\"_auto19\"></div>\n",
    "\n",
    "$$\n",
    "\\begin{equation}\n",
    "\\vert D^n_k\\rangle= \\frac{1}{\\sqrt{{n \\choose k}}}\\sum_{x\\in h^n_k}\\vert x\\rangle,\n",
    "\\label{_auto19} \\tag{19}\n",
    "\\end{equation}\n",
    "$$"
   ]
  },
  {
   "cell_type": "markdown",
   "id": "150da627",
   "metadata": {},
   "source": [
    "where $h^n_k= \\{\\vert x\\rangle \\ | \\ \\text{l}(x) = n, \\ \\text{wt}(x) = k\\}$. There are two ways we can think of to prepare such ansatz: The first is to prepare them exactly as it is known how to deterministically prepare Dicke states with linear depth. The reference provides an algorithm for preparing a set of gates $U^n_k$ that prepares a Dicke state from a product state of Hamming weight $k$; that is"
   ]
  },
  {
   "cell_type": "markdown",
   "id": "65fe51f6",
   "metadata": {},
   "source": [
    "<!-- Equation labels as ordinary links -->\n",
    "<div id=\"_auto20\"></div>\n",
    "\n",
    "$$\n",
    "\\begin{equation}\n",
    "U^n_k\\vert 1\\rangle^{\\otimes k}\\vert 0\\rangle^{\\otimes n-k}=\\vert D^n_k\\rangle.\n",
    "\\label{_auto20} \\tag{20}\n",
    "\\end{equation}\n",
    "$$"
   ]
  },
  {
   "cell_type": "markdown",
   "id": "37030b9f",
   "metadata": {},
   "source": [
    "It then describes how to one can create an arbitrary superposition of Dicke states, which we modify here to restrict ourselves to a Hamming weight of constant parity. The circuit to construct such a state (for the $k=6$ case, as an example) is discussed next week.\n",
    "\n",
    "**Plans for the week March 27-31.**\n",
    "\n",
    "1. Discussion of the project and how to implement the VQE for the simpler matrix problems\n",
    "\n",
    "2. Solving the Lipkin model with VQE"
   ]
  }
 ],
 "metadata": {
  "kernelspec": {
   "display_name": "Python 3 (ipykernel)",
   "language": "python",
   "name": "python3"
  },
  "language_info": {
   "codemirror_mode": {
    "name": "ipython",
    "version": 3
   },
   "file_extension": ".py",
   "mimetype": "text/x-python",
   "name": "python",
   "nbconvert_exporter": "python",
   "pygments_lexer": "ipython3",
   "version": "3.9.10"
  }
 },
 "nbformat": 4,
 "nbformat_minor": 5
}
