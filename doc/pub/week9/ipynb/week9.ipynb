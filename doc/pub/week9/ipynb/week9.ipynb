{
 "cells": [
  {
   "cell_type": "markdown",
   "id": "825177eb",
   "metadata": {
    "editable": true
   },
   "source": [
    "<!-- HTML file automatically generated from DocOnce source (https://github.com/doconce/doconce/)\n",
    "doconce format html week9.do.txt --no_mako -->\n",
    "<!-- dom:TITLE: Quantum Computing, Quantum Machine Learning and Quantum Information Theories -->"
   ]
  },
  {
   "cell_type": "markdown",
   "id": "093b73aa",
   "metadata": {
    "editable": true
   },
   "source": [
    "# Quantum Computing, Quantum Machine Learning and Quantum Information Theories\n",
    "**Morten Hjorth-Jensen**, Department of Physics, University of Oslo and Department of Physics and Astronomy and Facility for Rare Isotope Beams, Michigan State University\n",
    "\n",
    "Date: **March 13**"
   ]
  },
  {
   "cell_type": "markdown",
   "id": "95ef7304",
   "metadata": {
    "editable": true
   },
   "source": [
    "## Plans for the week of March 11-15, 2024\n",
    "1. Lipkin model for  VQE quantum computing\n",
    "\n",
    "2. Discussion and work on  project 1\n",
    "\n",
    "Reading recommendation: Hundt's chapter 3 and 4 contain many useful hints for computing properties of Pauli matrices.\n",
    "For the Lipkin model, we recommend strongly the work of LaRose and collaborators, see\n",
    "<https://journals.aps.org/prc/abstract/10.1103/PhysRevC.106.024319>,"
   ]
  },
  {
   "cell_type": "markdown",
   "id": "7e4c4692",
   "metadata": {
    "editable": true
   },
   "source": [
    "## Hamiltonians and project 1\n",
    "\n",
    "As an initial test, we consider a simply $2\\times 2$ real\n",
    "Hamiltonian consistend of a diagonal part $H_0$ and off-diagonal part\n",
    "$H_I$, playing the roles of a non-interactive one-body and interactive\n",
    "two-body part respectively. Defined through their matrix elements, we\n",
    "express them in the Pauli basis $\\vert 0\\rangle$ and $\\vert 1 \\rangle$"
   ]
  },
  {
   "cell_type": "markdown",
   "id": "2920eaa9",
   "metadata": {
    "editable": true
   },
   "source": [
    "$$\n",
    "\\begin{align*}\n",
    "    \\begin{split} \n",
    "        H &= H_0 + H_I \\\\\n",
    "        H_0 = \\begin{bmatrix}\n",
    "            E_1 & 0 \\\\\n",
    "            0 & E_2\n",
    "        \\end{bmatrix}&, \\hspace{20px}\n",
    "        H_I = \\lambda \\begin{bmatrix}\n",
    "            V_{11} & V_{12} \\\\\n",
    "            V_{21} & V_{22}\n",
    "        \\end{bmatrix}\n",
    "    \\end{split}\n",
    "\\end{align*}\n",
    "$$"
   ]
  },
  {
   "cell_type": "markdown",
   "id": "ce0db923",
   "metadata": {
    "editable": true
   },
   "source": [
    "Where $\\lambda \\in [0,1]$ is a coupling constant parameterizing the strength of the interaction."
   ]
  },
  {
   "cell_type": "markdown",
   "id": "6b13fd14",
   "metadata": {
    "editable": true
   },
   "source": [
    "## Rewriting in terms of Pauli matrices\n",
    "\n",
    "Defining"
   ]
  },
  {
   "cell_type": "markdown",
   "id": "50f1f296",
   "metadata": {
    "editable": true
   },
   "source": [
    "$$\n",
    "E_+ = \\frac{E_1 + E_2}{2},\\hspace{20px} E_- = \\frac{E_1 - E_2}{2}\n",
    "$$"
   ]
  },
  {
   "cell_type": "markdown",
   "id": "8bf5f3a8",
   "metadata": {
    "editable": true
   },
   "source": [
    "we see that by combining the identity and $Z$ Pauli matrix, this can be expressed as"
   ]
  },
  {
   "cell_type": "markdown",
   "id": "eaca5463",
   "metadata": {
    "editable": true
   },
   "source": [
    "$$\n",
    "H_0 = E_+ I + E_- Z\n",
    "$$"
   ]
  },
  {
   "cell_type": "markdown",
   "id": "87d9d48f",
   "metadata": {
    "editable": true
   },
   "source": [
    "For $H_1$ we use the same trick to fill the diagonal, defining $V_+ = (V_{11} + V_{22})/2, V_- = (V_{11} - V_{22})/2$. From the hermiticity requirements of $H$, we note that $V_{12} = V_{21} \\equiv V_o$, which simplifies the problem to a simple $X$. This gives"
   ]
  },
  {
   "cell_type": "markdown",
   "id": "3ce6aef6",
   "metadata": {
    "editable": true
   },
   "source": [
    "$$\n",
    "H_I = V_+ I + V_- Z + V_o X\n",
    "$$"
   ]
  },
  {
   "cell_type": "markdown",
   "id": "3b5ba899",
   "metadata": {
    "editable": true
   },
   "source": [
    "## Measurement basis\n",
    "\n",
    "For this system we note that the Pauli $X$ matrix can be rewritten in terms of the Hadamard matrices and the Pauli $Z$ matrix, that is"
   ]
  },
  {
   "cell_type": "markdown",
   "id": "0eadb747",
   "metadata": {
    "editable": true
   },
   "source": [
    "$$\n",
    "X=HZH.\n",
    "$$"
   ]
  },
  {
   "cell_type": "markdown",
   "id": "6b1bc802",
   "metadata": {
    "editable": true
   },
   "source": [
    "## Second Hamiltonian matrix problems\n",
    "\n",
    "The second case is defined as a $4 \\times 4$ real Hamiltonian.\n",
    "This can be viewed as two  composite systems where each system is a two-level system. In the product basis $\\vert 00\\rangle$, $\\vert 01\\rangle$, $\\vert 10\\rangle$ and $\\vert 11\\rangle$\n",
    "we define the one-body part as"
   ]
  },
  {
   "cell_type": "markdown",
   "id": "600a9564",
   "metadata": {
    "editable": true
   },
   "source": [
    "$$\n",
    "H_0 \\vert ij \\rangle = \\epsilon_{ij}\\vert ij\\rangle,\n",
    "$$"
   ]
  },
  {
   "cell_type": "markdown",
   "id": "a46ad131",
   "metadata": {
    "editable": true
   },
   "source": [
    "with a two-body interaction defined as"
   ]
  },
  {
   "cell_type": "markdown",
   "id": "1b7c1214",
   "metadata": {
    "editable": true
   },
   "source": [
    "$$\n",
    "\\begin{align*}\n",
    "    \\begin{split} \n",
    "        H_I &= H_x X \\otimes X + H_z Z \\otimes Z \\\\\n",
    "        &= \\begin{bmatrix}\n",
    "            H_z & 0 & 0 & H_z \\\\\n",
    "            0 & - H_z & H_x & 0 \\\\\n",
    "            0 & H_x & - H_z & 0 \\\\\n",
    "            H_x & 0 & 0 & H_z\n",
    "        \\end{bmatrix}.\n",
    "    \\end{split}\n",
    "\\end{align*}\n",
    "$$"
   ]
  },
  {
   "cell_type": "markdown",
   "id": "83e93cf5",
   "metadata": {
    "editable": true
   },
   "source": [
    "Here $H_x$ and $H_z$ are coupling constants."
   ]
  },
  {
   "cell_type": "markdown",
   "id": "5d3d264d",
   "metadata": {
    "editable": true
   },
   "source": [
    "## Rewriting\n",
    "\n",
    "For the $4 \\times 4$ case, the interacting part of the\n",
    "Hamiltonian is already\n",
    "written in terms of Pauli matrices. On the other hand, we need to be rewrite the diagonal term.\n",
    "We define"
   ]
  },
  {
   "cell_type": "markdown",
   "id": "8c6143d0",
   "metadata": {
    "editable": true
   },
   "source": [
    "$$\n",
    "\\begin{align*}\n",
    "    \\epsilon_{\\pm 0} = \\frac{\\epsilon_{00}\\pm\\epsilon_{01}}{2},\\hspace{20px}\\epsilon_{\\pm 1} = \\frac{\\epsilon_{10}\\pm\\epsilon_{11}}{2}.\n",
    "\\end{align*}\n",
    "$$"
   ]
  },
  {
   "cell_type": "markdown",
   "id": "c4baf304",
   "metadata": {
    "editable": true
   },
   "source": [
    "We note that the energies $\\epsilon_{00}$ and $\\epsilon_{01}$ can be repeated on the diagonal. This is also the case for $\\epsilon_{10}$ and $\\epsilon_{11}$"
   ]
  },
  {
   "cell_type": "markdown",
   "id": "89079f66",
   "metadata": {
    "editable": true
   },
   "source": [
    "$$\n",
    "\\begin{align*}\n",
    "    D_{0} &= \\epsilon_{+0} I\\otimes I + \\epsilon_{-0} I\\otimes Z, \\\\\n",
    "    D_{1} &= \\epsilon_{+0} I\\otimes I + \\epsilon_{-1} I\\otimes Z.\n",
    "\\end{align*}\n",
    "$$"
   ]
  },
  {
   "cell_type": "markdown",
   "id": "4377989c",
   "metadata": {
    "editable": true
   },
   "source": [
    "## Further manipulations\n",
    "\n",
    "Using the Pauli $Z$ matrix and the identity matrix $I$ we define"
   ]
  },
  {
   "cell_type": "markdown",
   "id": "de1013e1",
   "metadata": {
    "editable": true
   },
   "source": [
    "$$\n",
    "\\begin{align*}\n",
    "    P_{\\pm} = \\frac{1}{2}(I \\pm Z),\n",
    "\\end{align*}\n",
    "$$"
   ]
  },
  {
   "cell_type": "markdown",
   "id": "17cd75bb",
   "metadata": {
    "editable": true
   },
   "source": [
    "which we use to project out the first and last to two elements the of $4\\times 4$ matrix"
   ]
  },
  {
   "cell_type": "markdown",
   "id": "97cd86c3",
   "metadata": {
    "editable": true
   },
   "source": [
    "$$\n",
    "P_0 = P_+ \\otimes I,\\hspace{20px}P_0 = P_- \\otimes I.\n",
    "$$"
   ]
  },
  {
   "cell_type": "markdown",
   "id": "40315cc2",
   "metadata": {
    "editable": true
   },
   "source": [
    "Adding $D_0$ and $D_1$, we get"
   ]
  },
  {
   "cell_type": "markdown",
   "id": "69f77c45",
   "metadata": {
    "editable": true
   },
   "source": [
    "$$\n",
    "H_0 = P_0 D_0 + P_1 D_1= \\alpha_+ I \\otimes I + \\alpha_- Z \\otimes I + \\beta_+ I \\otimes Z + \\beta_- Z \\otimes Z,\n",
    "$$"
   ]
  },
  {
   "cell_type": "markdown",
   "id": "0f408525",
   "metadata": {
    "editable": true
   },
   "source": [
    "where we have defined"
   ]
  },
  {
   "cell_type": "markdown",
   "id": "64071abf",
   "metadata": {
    "editable": true
   },
   "source": [
    "$$\n",
    "\\alpha_\\pm = \\frac{\\epsilon_{+0}\\pm\\epsilon_{+1}}{2}, \\hspace{10px} \\beta_\\pm = \\frac{\\epsilon_{-0}\\pm\\epsilon_{+1}}{2}\n",
    "$$"
   ]
  },
  {
   "cell_type": "markdown",
   "id": "1f29d7d6",
   "metadata": {
    "editable": true
   },
   "source": [
    "## The Lipkin model\n",
    "\n",
    "Last week we introduced the Lipkin model which could be rewritten in terms of the quasipin operators as"
   ]
  },
  {
   "cell_type": "markdown",
   "id": "b68bbf19",
   "metadata": {
    "editable": true
   },
   "source": [
    "$$\n",
    "\\begin{align*}\n",
    "    \\begin{split}\n",
    "        H_0 &= \\epsilon J_z, \\\\\n",
    "        H_1 &= \\frac{1}{2}V (J_+^2 + J_-^2), \\\\\n",
    "        H_2 & = \\frac{1}{2}W ( J_+J_- +J_{-}J_+ - N ),\n",
    "    \\end{split}\n",
    "\\end{align*}\n",
    "$$"
   ]
  },
  {
   "cell_type": "markdown",
   "id": "239e4673",
   "metadata": {
    "editable": true
   },
   "source": [
    "## Quasispin operators\n",
    "\n",
    "These quasi spin operators obey the normal spin commutator relations"
   ]
  },
  {
   "cell_type": "markdown",
   "id": "88b1e2f5",
   "metadata": {
    "editable": true
   },
   "source": [
    "$$\n",
    "\\begin{align*}\n",
    "    &[J_z,J_{\\pm}] = \\pm J_\\pm, \n",
    "    &[J_+,J_-] = 2 J_z, \\\\\n",
    "    &[J^2,J_{\\pm}] = 0,\n",
    "    &[J^2,J_z] = 0,\n",
    "\\end{align*}\n",
    "$$"
   ]
  },
  {
   "cell_type": "markdown",
   "id": "1cba78e8",
   "metadata": {
    "editable": true
   },
   "source": [
    "in addition to commuting with the number operator"
   ]
  },
  {
   "cell_type": "markdown",
   "id": "8888132b",
   "metadata": {
    "editable": true
   },
   "source": [
    "$$\n",
    "\\begin{align*}\n",
    "    [N,J_z] = [N,J_{\\pm}] = [N,J^2] = 0.\n",
    "\\end{align*}\n",
    "$$"
   ]
  },
  {
   "cell_type": "markdown",
   "id": "41cfda4f",
   "metadata": {
    "editable": true
   },
   "source": [
    "Using these relations we can show that the Hamiltonian (a product of\n",
    "quasi spin operators and the number operator) also commutes with\n",
    "$J^2$, that is $[H,J^2]=0$. This means that $H$ and $J^2$ have a shared\n",
    "eigenbasis, with $J$ being a so-called **good** quantum number."
   ]
  },
  {
   "cell_type": "markdown",
   "id": "e179f162",
   "metadata": {
    "editable": true
   },
   "source": [
    "## System to diagonalize by traditional methods\n",
    "\n",
    "Using spin-eigenstates as the Hamiltonian basis, we define states\n",
    "through the normal approach $\\vert J,J_z\\rangle$ with $J$ and $ J_z$ as spin\n",
    "and spin-projections, respectively. The states $J_z = \\pm J$ are the\n",
    "easiest to construct, corresponding to a single level being completely\n",
    "filled. States in between can then be found using the quasi-spin\n",
    "ladder operators following"
   ]
  },
  {
   "cell_type": "markdown",
   "id": "2bfdd812",
   "metadata": {
    "editable": true
   },
   "source": [
    "$$\n",
    "J_\\pm \\vert J,J_z\\rangle = \\sqrt{J(J+1)-J_z (J_z \\pm 1)} \\vert J,J_z \\pm 1\\rangle.\n",
    "$$"
   ]
  },
  {
   "cell_type": "markdown",
   "id": "90875f83",
   "metadata": {
    "editable": true
   },
   "source": [
    "Using this basis for the quasi-spin Hamiltonian, we can rewrite the explicit matrix $H_{J_z,J'_z} = \\langle J,J_z\\vert  H \\vert J,J_z'\\rangle$ can be constructed."
   ]
  },
  {
   "cell_type": "markdown",
   "id": "8b1adc27",
   "metadata": {
    "editable": true
   },
   "source": [
    "## The $J=1$ case\n",
    "\n",
    "For $N=2$ particles, we have the triplet $J=1$, with three possible projection $J_z = 0, \\pm 1$. This gives the following matrix"
   ]
  },
  {
   "cell_type": "markdown",
   "id": "7d5f7c54",
   "metadata": {
    "editable": true
   },
   "source": [
    "$$\n",
    "H = \\begin{bmatrix}\n",
    "        -\\epsilon & 0 & V \\\\\n",
    "        0 & W & 0 \\\\\n",
    "        V & 0 & \\epsilon\n",
    "    \\end{bmatrix}.\n",
    "$$"
   ]
  },
  {
   "cell_type": "markdown",
   "id": "dd083df0",
   "metadata": {
    "editable": true
   },
   "source": [
    "By solving the eigenvalue problem, the ground state energy can be exactly found."
   ]
  },
  {
   "cell_type": "markdown",
   "id": "6e1212e6",
   "metadata": {
    "editable": true
   },
   "source": [
    "## The $J=2$ case\n",
    "\n",
    "Similarly, for the $N=4$ particles case we have $J = 2$ with five possible projections $J_z = 0,\\pm1,\\pm2$. This gives us the Hamiltonian matrix"
   ]
  },
  {
   "cell_type": "markdown",
   "id": "ed7354e7",
   "metadata": {
    "editable": true
   },
   "source": [
    "$$\n",
    "H = \\begin{bmatrix}\n",
    "        -2\\epsilon & 0  & \\sqrt{6}V &0 &0 \\\\\n",
    "        0 & -\\epsilon + 3W & 0 & 3V & 0 \\\\\n",
    "        \\sqrt{6}V & 0 & 4W & 0 & \\sqrt{6}V \\\\\n",
    "        0 & 3V & 0 & \\epsilon + 3W & 0 \\\\\n",
    "        0 & 0 & \\sqrt{6}V & 0 & 2\\epsilon\n",
    "    \\end{bmatrix}.\n",
    "$$"
   ]
  },
  {
   "cell_type": "markdown",
   "id": "78235671",
   "metadata": {
    "editable": true
   },
   "source": [
    "## More rewriting\n",
    "\n",
    "Following the work of LaRose and collaborators, see\n",
    "<https://journals.aps.org/prc/abstract/10.1103/PhysRevC.106.024319>,\n",
    "we can rewrite the Lipkin Hamiltonian for efficient adaptations to\n",
    "quantum computing.\n",
    "\n",
    "We have"
   ]
  },
  {
   "cell_type": "markdown",
   "id": "f6566f09",
   "metadata": {
    "editable": true
   },
   "source": [
    "$$\n",
    "J_z = \\sum_{i}^{N} j_{z}^{i} \\hspace{20px} J_\\pm = \\sum_i^N j_{\\pm}^{i} = \\sum_i^N (j_{x}^{i}\\pm ij_{y}^{i}),\n",
    "$$"
   ]
  },
  {
   "cell_type": "markdown",
   "id": "ede4f07e",
   "metadata": {
    "editable": true
   },
   "source": [
    "with $N$ being the number of particles. Additionally, since we have spin-$1/2$ fermions, the mapping to Pauli matrices follow"
   ]
  },
  {
   "cell_type": "markdown",
   "id": "c5500d8a",
   "metadata": {
    "editable": true
   },
   "source": [
    "$$\n",
    "j_{x}^{i} = \\frac{1}{2}X_i,\\hspace{20px}j_{y}^{i} = \\frac{1}{2}Y_i,\\hspace{20px}j_{z}^{i} = \\frac{1}{2}Z_i.\n",
    "$$"
   ]
  },
  {
   "cell_type": "markdown",
   "id": "1703312e",
   "metadata": {
    "editable": true
   },
   "source": [
    "This means that we require $N$ qubits to calculate properties of a $N$ particle system, if no more symmetry reductions are considred."
   ]
  },
  {
   "cell_type": "markdown",
   "id": "cb6c2353",
   "metadata": {
    "editable": true
   },
   "source": [
    "## Lipkin Hamiltonian for quantum computing\n",
    "\n",
    "We rewrote our Hamiltonian as"
   ]
  },
  {
   "cell_type": "markdown",
   "id": "03bc0626",
   "metadata": {
    "editable": true
   },
   "source": [
    "$$\n",
    "\\begin{align*}\n",
    "    \\begin{split}\\label[eq]{eq:met:lipkin_pauli_hamiltonian} \n",
    "        H_0 &= \\frac{\\epsilon}{2}\\sum_{p}Z_p,  \\\\\n",
    "        H_1 &= \\frac{1}{2}V \\sum_{p < q} X_p X_q - Y_p Y_q, \\\\\n",
    "        H_2 &= \\frac{1}{2}W \\sum_{p < q} \\left( X_p X_q + Y_p Y_q \\right). \n",
    "    \\end{split}\n",
    "\\end{align*}\n",
    "$$"
   ]
  },
  {
   "cell_type": "markdown",
   "id": "5e7ec204",
   "metadata": {
    "editable": true
   },
   "source": [
    "For two particles coupling to spin $J=1$ we have"
   ]
  },
  {
   "cell_type": "markdown",
   "id": "d67b1eb0",
   "metadata": {
    "editable": true
   },
   "source": [
    "$$\n",
    "H^{N=2} = \\frac{\\epsilon}{2}\\left(Z_1 + Z_2\\right) + \\frac{W+V}{2} X_1 X_2 - \\frac{W-V}{2} Y_1 Y_2.\n",
    "$$"
   ]
  },
  {
   "cell_type": "markdown",
   "id": "f47ce8e2",
   "metadata": {
    "editable": true
   },
   "source": [
    "## For four fermions\n",
    "Our Hamiltonian for $N=4$ is"
   ]
  },
  {
   "cell_type": "markdown",
   "id": "79336f58",
   "metadata": {
    "editable": true
   },
   "source": [
    "$$\n",
    "\\begin{align*}\n",
    "    \\begin{split}\n",
    "        H^{N=4} =& \\frac{\\epsilon}{2}\\left(Z_1 + Z_2 + Z_3 + Z_4\\right) + \\frac{W-V}{2}\\Big( X_1 X_2 +\\\\ \n",
    "        & X_1 X_3 + X_1 X_4 + X_2 X_3 + X_3 X_4 + X_3 X_4\n",
    "        \\Big) \\\\\n",
    "        &+ \\frac{W+V}{2}\\Big( Y_1 Y_2 + Y_1 Y_3 + Y_1 Y_4 + Y_2 Y_3 \\\\\n",
    "        & + Y_3 Y_4 + Y_3 Y_4\\Big).\n",
    "    \\end{split}\n",
    "\\end{align*}\n",
    "$$"
   ]
  },
  {
   "cell_type": "markdown",
   "id": "edf594ce",
   "metadata": {
    "editable": true
   },
   "source": [
    "## Leaving out the $W$ term\n",
    "\n",
    "If we set $W = 0$ we can simplify the Hamiltonian. For this we  note that if we only include the $H_0$ and $H_1$ terms,  spins differing by $\\pm2$ are the only possible non-diagonal couplings. Since $H_0$ is diagonal and single particle energies are degenerate, it does not break any symmetry.\n",
    "Instead of the $2J+1$ spin projections, we simply have $J+1$ relevant states. From <https://journals.aps.org/prc/abstract/10.1103/PhysRevC.106.024319>,\n",
    "the two-qubit Hamiltonian for $N=4$ can be written as"
   ]
  },
  {
   "cell_type": "markdown",
   "id": "92f6f772",
   "metadata": {
    "editable": true
   },
   "source": [
    "$$\n",
    "H_{W=0}^{N=4} = \\epsilon(Z_1 + Z_2) + \\frac{\\sqrt{6}}{2}V (X_1 + X_2 + Z_1 X_0 - X_1 Z_0).\n",
    "$$"
   ]
  },
  {
   "cell_type": "markdown",
   "id": "51462b3c",
   "metadata": {
    "editable": true
   },
   "source": [
    "This is be more computationally efficient due to requiring only half the qubits."
   ]
  },
  {
   "cell_type": "markdown",
   "id": "20c7decf",
   "metadata": {
    "editable": true
   },
   "source": [
    "## Quantum computing and solving  the eigenvalue problem for the Lipkin model\n",
    "\n",
    "**Plans for the week March 18-22.**\n",
    "\n",
    "1. Discussion of project 1 and possible paths for project 2\n",
    "\n",
    "2. Introduction to Quantum Fourier transforms"
   ]
  }
 ],
 "metadata": {},
 "nbformat": 4,
 "nbformat_minor": 5
}
