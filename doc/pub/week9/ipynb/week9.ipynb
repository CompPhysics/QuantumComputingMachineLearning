{
 "cells": [
  {
   "cell_type": "markdown",
   "id": "442cca89",
   "metadata": {},
   "source": [
    "<!-- HTML file automatically generated from DocOnce source (https://github.com/doconce/doconce/)\n",
    "doconce format html week9.do.txt --no_mako -->\n",
    "<!-- dom:TITLE: March 20-24, 2023: Quantum Computing, Quantum Machine Learning and Quantum Information Theories -->"
   ]
  },
  {
   "cell_type": "markdown",
   "id": "1221f82d",
   "metadata": {},
   "source": [
    "# March 20-24, 2023: Quantum Computing, Quantum Machine Learning and Quantum Information Theories\n",
    "**Morten Hjorth-Jensen**, Department of Physics, University of Oslo and Department of Physics and Astronomy and Facility for Rare Isotope Beams, Michigan State University\n",
    "\n",
    "Date: **March 20-24**\n",
    "\n",
    "1. Finalize the discussion of the VQE and the Lipkin model\n",
    "\n",
    "2. [Discussion of the project](https://github.com/CompPhysics/QuantumComputingMachineLearning/tree/gh-pages/doc/Projects/2023/Project1)"
   ]
  },
  {
   "cell_type": "markdown",
   "id": "c73253ec",
   "metadata": {},
   "source": [
    "## Reminder on the Lipkin model and Variational Quantum Eigensolver (VQE)\n",
    "\n",
    "[See whiteboard notes from week of March 13-17](https://github.com/CompPhysics/QuantumComputingMachineLearning/blob/gh-pages/doc/HandWrittenNotes/2023/NotesMarch13.pdf) and lecture notes (jupyter-notebook)\n",
    "from the previous week at <https://github.com/CompPhysics/QuantumComputingMachineLearning/blob/gh-pages/doc/pub/week8/ipynb/week8.ipynb>"
   ]
  },
  {
   "cell_type": "markdown",
   "id": "567eb297",
   "metadata": {},
   "source": [
    "## Quantum computing and solving  the eigenvalue problem for the Lipkin model"
   ]
  },
  {
   "cell_type": "code",
   "execution_count": 1,
   "id": "190726f1",
   "metadata": {},
   "outputs": [],
   "source": [
    "%matplotlib inline\n",
    "\n",
    "import numpy as np\n",
    "import qiskit\n",
    "from qiskit.visualization import circuit_drawer\n",
    "from qiskit.quantum_info import Statevector\n",
    "from matplotlib.pyplot import figure\n",
    "from qiskit import QuantumRegister, QuantumCircuit, ClassicalRegister, Aer, assemble\n",
    "from qiskit.providers.aer.noise import NoiseModel\n",
    "import pylatexenc\n",
    "from qiskit.algorithms import VQE\n",
    "from qiskit.utils import QuantumInstance\n",
    "from qiskit.opflow import X, Z, I, Y\n",
    "from qiskit.circuit import Parameter\n",
    "from qiskit.algorithms.optimizers import ADAM\n",
    "from qiskit.opflow import AerPauliExpectation\n",
    "from qiskit import IBMQ\n",
    "import cmath\n",
    "import pandas as pd\n",
    "from scipy.sparse import diags\n",
    "import numpy.linalg as LA\n",
    "import matplotlib.pyplot as plt\n",
    "from IPython.display import Image\n",
    "import warnings\n",
    "warnings.filterwarnings('ignore')\n",
    "pi=np.pi"
   ]
  },
  {
   "cell_type": "markdown",
   "id": "f3c2d962",
   "metadata": {},
   "source": [
    "We turn now to a simpler Lipkin model without the $W$-term and a total spin of $J=1$ as maximum value of the spin, with a Hamiltonian"
   ]
  },
  {
   "cell_type": "markdown",
   "id": "24858434",
   "metadata": {},
   "source": [
    "<!-- Equation labels as ordinary links -->\n",
    "<div id=\"_auto1\"></div>\n",
    "\n",
    "$$\n",
    "\\begin{equation}\n",
    "     \\hat{H}_{LM} = \\epsilon\\hat{J}_z -\\frac{1}{2}V(\\hat{J}_+\\hat{J}_++\\hat{J}_-\\hat{J}_-).\n",
    "\\label{_auto1} \\tag{1}\n",
    "\\end{equation}\n",
    "$$"
   ]
  },
  {
   "cell_type": "markdown",
   "id": "4d87f8a0",
   "metadata": {},
   "source": [
    "The quasi-spin operators act like lowering and raising angular momentum operators, as discussed earlier.\n",
    "With these properties we can calculate the LM Hamiltonian matrix"
   ]
  },
  {
   "cell_type": "markdown",
   "id": "e22ab1a9",
   "metadata": {},
   "source": [
    "<!-- Equation labels as ordinary links -->\n",
    "<div id=\"_auto2\"></div>\n",
    "\n",
    "$$\n",
    "\\begin{equation}\n",
    "\\langle JJ_z|H_{LM}|JJ_z'\\rangle,\n",
    "\\label{_auto2} \\tag{2}\n",
    "\\end{equation}\n",
    "$$"
   ]
  },
  {
   "cell_type": "markdown",
   "id": "8d39d657",
   "metadata": {},
   "source": [
    "where the non-zero elements are given by"
   ]
  },
  {
   "cell_type": "markdown",
   "id": "c22e04c1",
   "metadata": {},
   "source": [
    "<!-- Equation labels as ordinary links -->\n",
    "<div id=\"_auto3\"></div>\n",
    "\n",
    "$$\n",
    "\\begin{equation}\n",
    "\\begin{split}\n",
    "    \\langle JJ_z|H_{LM}|JJ_z'\\rangle & = \\epsilon J_z\\\\\n",
    "     \\langle JJ_z|H_{LM}|JJ_z'\\pm 2\\rangle & = \\langle JJ_z\\pm 2|H_{LM}|JJ_z'\\rangle \\\\\n",
    "     &= -\\frac{1}{2}VC,\n",
    "\\end{split}\n",
    "\\label{_auto3} \\tag{3}\n",
    "\\end{equation}\n",
    "$$"
   ]
  },
  {
   "cell_type": "markdown",
   "id": "783bd7a2",
   "metadata": {},
   "source": [
    "where $C$ is the Clebsch-Gordan coefficients one gets when $J_{\\pm}^2$ operates on the state $|JJ_z\\rangle$.\n",
    "Using the above definitions  we can calculate the exact solution to the Lipkin model.\n",
    "\n",
    "The Hamiltonian is given by"
   ]
  },
  {
   "cell_type": "markdown",
   "id": "122950c3",
   "metadata": {},
   "source": [
    "<!-- Equation labels as ordinary links -->\n",
    "<div id=\"_auto4\"></div>\n",
    "\n",
    "$$\n",
    "\\begin{equation}\n",
    "\\begin{pmatrix}-\\epsilon & 0 & -V\\\\\n",
    " 0&0&0\\\\\n",
    " -V&0&\\epsilon\n",
    "\\end{pmatrix}\n",
    "\\label{_auto4} \\tag{4}\n",
    "\\end{equation}\n",
    "$$"
   ]
  },
  {
   "cell_type": "code",
   "execution_count": 2,
   "id": "1fdbd1bf",
   "metadata": {},
   "outputs": [],
   "source": [
    "#function that sorts eigenvalues with its eigenvectors in accending order\n",
    "def eigen(A):\n",
    "    eigenValues, eigenVectors = LA.eig(A)\n",
    "    idx = np.argsort(eigenValues)\n",
    "    eigenValues = eigenValues[idx]\n",
    "    eigenVectors = eigenVectors[:,idx]\n",
    "    return (eigenValues, eigenVectors) \n",
    "\n",
    "#one body expectation value\n",
    "def one_body(E,N):\n",
    "  k = N/2\n",
    "  m = np.arange(-k,k+1,1) # Since the collective space is Omega+1\n",
    "  return E*np.diag(m) #return a matrix where its diagonal elemens are epsilon*K_0\n",
    "\n",
    "#two body expectation value\n",
    "def two_body(V,N):\n",
    "  k = N/2\n",
    "  m = np.arange(-k,k+1,1)\n",
    "  left =np.zeros(len(m)-2,dtype=complex)\n",
    "  right = np.zeros(len(m)-2,dtype=complex)\n",
    "  diag = np.zeros(len(m),dtype=complex)\n",
    "  for i in range(len(left)):\n",
    "    CG = cmath.sqrt(k*(k+1)-(m[i]+2)*(m[i]+1))*cmath.sqrt(k*(k+1)-m[i]*(m[i]+1)) #calculate Clebsch-Gordan Coefficients \n",
    "    left[i] = CG\n",
    "    right[i] = CG\n",
    "  k = [left,diag,right]\n",
    "  offset = [-2,0,2]\n",
    "  return -0.5*V*diags(k,offset).toarray() #return a matrix where its off digonal elements are (1/2)V(K^2_+ + K^2_-)\n",
    "\n",
    "#full expectation value\n",
    "def quasi_spin(E,V,N):\n",
    "  ob = one_body(E,N)\n",
    "  tb = two_body(V,N)\n",
    "  H = ob+tb \n",
    "  e,v = eigen(H) # find the eigenvalues of the Hamiltonian\n",
    "  return e,H\n",
    "\n",
    "#converts chi to V\n",
    "def Vp(E,omega,chi):\n",
    "  return (chi*E)/(omega-1)"
   ]
  },
  {
   "cell_type": "code",
   "execution_count": 3,
   "id": "1f5fce84",
   "metadata": {},
   "outputs": [],
   "source": [
    "#parameters\n",
    "E = 1\n",
    "chi = np.arange(0,2.1,0.1)\n",
    "omega = 2\n",
    "\n",
    "EV0 = []\n",
    "EV1 = []\n",
    "EV2 = []\n",
    "Ham = []\n",
    "for i in chi:\n",
    "  v = Vp(E,omega,i)\n",
    "  EigenV,H = quasi_spin(E,v,omega) #return eigenvalues and Hamiltonian\n",
    "  Ham.append(H)\n",
    "  EV0.append(EigenV[0])\n",
    "  EV1.append(EigenV[1])\n",
    "  EV2.append(EigenV[2])"
   ]
  },
  {
   "cell_type": "code",
   "execution_count": 4,
   "id": "37752925",
   "metadata": {},
   "outputs": [
    {
     "name": "stdout",
     "output_type": "stream",
     "text": [
      "Hamiltonian matrix\n"
     ]
    },
    {
     "data": {
      "text/html": [
       "<div>\n",
       "<style scoped>\n",
       "    .dataframe tbody tr th:only-of-type {\n",
       "        vertical-align: middle;\n",
       "    }\n",
       "\n",
       "    .dataframe tbody tr th {\n",
       "        vertical-align: top;\n",
       "    }\n",
       "\n",
       "    .dataframe thead th {\n",
       "        text-align: right;\n",
       "    }\n",
       "</style>\n",
       "<table border=\"1\" class=\"dataframe\">\n",
       "  <thead>\n",
       "    <tr style=\"text-align: right;\">\n",
       "      <th></th>\n",
       "      <th>0</th>\n",
       "      <th>1</th>\n",
       "      <th>2</th>\n",
       "    </tr>\n",
       "  </thead>\n",
       "  <tbody>\n",
       "    <tr>\n",
       "      <th>0</th>\n",
       "      <td>-1.0</td>\n",
       "      <td>0.0</td>\n",
       "      <td>-0.5</td>\n",
       "    </tr>\n",
       "    <tr>\n",
       "      <th>1</th>\n",
       "      <td>0.0</td>\n",
       "      <td>0.0</td>\n",
       "      <td>0.0</td>\n",
       "    </tr>\n",
       "    <tr>\n",
       "      <th>2</th>\n",
       "      <td>-0.5</td>\n",
       "      <td>0.0</td>\n",
       "      <td>1.0</td>\n",
       "    </tr>\n",
       "  </tbody>\n",
       "</table>\n",
       "</div>"
      ],
      "text/plain": [
       "     0    1    2\n",
       "0 -1.0  0.0 -0.5\n",
       "1  0.0  0.0  0.0\n",
       "2 -0.5  0.0  1.0"
      ]
     },
     "execution_count": 4,
     "metadata": {},
     "output_type": "execute_result"
    }
   ],
   "source": [
    "matrix = pd.DataFrame(Ham[5].real)\n",
    "print('Hamiltonian matrix')\n",
    "matrix.head()"
   ]
  },
  {
   "cell_type": "code",
   "execution_count": 5,
   "id": "a2affc6c",
   "metadata": {},
   "outputs": [
    {
     "data": {
      "text/plain": [
       "Text(0.5, 1.0, '$\\\\Omega=2$ exact Lipkin Model')"
      ]
     },
     "execution_count": 5,
     "metadata": {},
     "output_type": "execute_result"
    },
    {
     "data": {
      "image/png": "[encoded data removed]",
      "text/plain": [
       "<Figure size 640x480 with 1 Axes>"
      ]
     },
     "metadata": {},
     "output_type": "display_data"
    }
   ],
   "source": [
    "plt.plot(chi,EV0)\n",
    "plt.plot(chi,EV1)\n",
    "plt.plot(chi,EV2)\n",
    "plt.xlabel('$\\chi$')\n",
    "plt.ylabel('Energy')\n",
    "plt.title('$\\Omega=2$ exact Lipkin Model')"
   ]
  },
  {
   "cell_type": "markdown",
   "id": "530e53d9",
   "metadata": {},
   "source": [
    "### Hartree Fock\n",
    "\n",
    "A variational method in quantum mechanics, starts with the Schrodinger equation where one minimizes the energy for a given trail wave function $|\\psi\\rangle$."
   ]
  },
  {
   "cell_type": "markdown",
   "id": "02e49e1a",
   "metadata": {},
   "source": [
    "<!-- Equation labels as ordinary links -->\n",
    "<div id=\"_auto5\"></div>\n",
    "\n",
    "$$\n",
    "\\begin{equation}\n",
    "\\delta\\frac{\\langle\\psi |\\hat{H}|\\psi\\rangle}{\\langle\\psi|\\psi\\rangle}=0\n",
    "\\label{_auto5} \\tag{5}\n",
    "\\end{equation}\n",
    "$$"
   ]
  },
  {
   "cell_type": "markdown",
   "id": "a5eda73e",
   "metadata": {},
   "source": [
    "The Hartree Fock (HF) method is a variational method that assumes that\n",
    "the exact N-body wavefunction of the system can be approimated by a\n",
    "single Slater determinant, where energy of the system is minimized and\n",
    "the trial wave function is the particle number conserving coherent\n",
    "product state. The SU(2) coherent states map a two-dimensional sphere\n",
    "known as the bloch sphere onto the complex plane,"
   ]
  },
  {
   "cell_type": "markdown",
   "id": "ab5d4f97",
   "metadata": {},
   "source": [
    "<!-- Equation labels as ordinary links -->\n",
    "<div id=\"_auto6\"></div>\n",
    "\n",
    "$$\n",
    "\\begin{equation}\n",
    "\\tau = tan\\frac{\\theta}{2}e^{-i\\phi}\n",
    "\\label{_auto6} \\tag{6}\n",
    "\\end{equation}\n",
    "$$"
   ]
  },
  {
   "cell_type": "markdown",
   "id": "ead9f2d7",
   "metadata": {},
   "source": [
    "where the normalized coherent SU(2) state can be written in the language of LM:"
   ]
  },
  {
   "cell_type": "markdown",
   "id": "aaf347a5",
   "metadata": {},
   "source": [
    "<!-- Equation labels as ordinary links -->\n",
    "<div id=\"_auto7\"></div>\n",
    "\n",
    "$$\n",
    "\\begin{equation}\n",
    "|\\tau\\rangle = \\frac{1}{(1+|\\tau|^2)^{\\Omega/2}}e^{\\tau\\hat{K}_+}|\\frac{\\Omega}{2},-\\frac{\\Omega}{2}\\rangle,\n",
    "\\label{_auto7} \\tag{7}\n",
    "\\end{equation}\n",
    "$$"
   ]
  },
  {
   "cell_type": "markdown",
   "id": "dbca8937",
   "metadata": {},
   "source": [
    "The $E_{g.s}$ of the LM given HF coherent states is:"
   ]
  },
  {
   "cell_type": "markdown",
   "id": "33c093b9",
   "metadata": {},
   "source": [
    "<!-- Equation labels as ordinary links -->\n",
    "<div id=\"_auto8\"></div>\n",
    "\n",
    "$$\n",
    "\\begin{equation}\n",
    "E(\\tau) = \\langle \\tau|\\hat{H}_{LM}|\\tau\\rangle.\n",
    "\\label{_auto8} \\tag{8}\n",
    "\\end{equation}\n",
    "$$"
   ]
  },
  {
   "cell_type": "markdown",
   "id": "bd8d92b3",
   "metadata": {},
   "source": [
    "To calculate equation the last euation, we use generating functions for:"
   ]
  },
  {
   "cell_type": "markdown",
   "id": "f0c698c2",
   "metadata": {},
   "source": [
    "<!-- Equation labels as ordinary links -->\n",
    "<div id=\"_auto9\"></div>\n",
    "\n",
    "$$\n",
    "\\begin{equation}\n",
    "\\begin{split}\n",
    "\\langle \\tau|\\hat{J}_{z}|\\tau\\rangle &= \\frac{1}{2}\\Omega\\frac{|\\tau|^2-1}{\\tau|^2+1}\\\\\n",
    "\\langle \\tau|\\hat{J}_{\\pm}^2|\\tau\\rangle &= \\Omega\\frac{\\tau^*}{|\\tau|^2+1}\n",
    "\\end{split}\n",
    "\\label{_auto9} \\tag{9}\n",
    "\\end{equation}\n",
    "$$"
   ]
  },
  {
   "cell_type": "markdown",
   "id": "8063ebb2",
   "metadata": {},
   "source": [
    "Then using the definition of $\\tau$ in equation (10) we can write down the energy:"
   ]
  },
  {
   "cell_type": "markdown",
   "id": "81ba3d45",
   "metadata": {},
   "source": [
    "<!-- Equation labels as ordinary links -->\n",
    "<div id=\"_auto10\"></div>\n",
    "\n",
    "$$\n",
    "\\begin{equation}\n",
    "E(\\tau) = -\\frac{\\epsilon}{2}\\Omega(cos\\theta+\\frac{\\chi}{2}sin^2\\theta cos2\\phi),\n",
    "\\label{_auto10} \\tag{10}\n",
    "\\end{equation}\n",
    "$$"
   ]
  },
  {
   "cell_type": "markdown",
   "id": "8a3c34f0",
   "metadata": {},
   "source": [
    "where $\\chi=\\frac{V}{\\epsilon}(\\Omega-1)$. Minimizing $E(\\tau)$ with respect to $\\theta,\\phi$, we obtain the ground state Hartree Fock energy"
   ]
  },
  {
   "cell_type": "markdown",
   "id": "75ba9342",
   "metadata": {},
   "source": [
    "<!-- Equation labels as ordinary links -->\n",
    "<div id=\"_auto11\"></div>\n",
    "\n",
    "$$\n",
    "\\begin{equation}\n",
    "\\begin{split}\n",
    "E_{HF}  = -\\frac{\\Omega}{2}\\epsilon &\\hspace{1cm} \\chi<1\\\\\n",
    "E_{HF}  = -\\frac{\\Omega}{4}\\epsilon(\\chi+\\frac{1}{\\chi}) &\\hspace{1cm} \\chi\\ge 1\n",
    "\\end{split}\n",
    "\\label{_auto11} \\tag{11}\n",
    "\\end{equation}\n",
    "$$"
   ]
  },
  {
   "cell_type": "code",
   "execution_count": 6,
   "id": "13faabff",
   "metadata": {},
   "outputs": [],
   "source": [
    "def E_HF(x,E,omega):\n",
    "  if x < 1:\n",
    "    EHF = -(omega/2)*E\n",
    "  elif x >= 1:\n",
    "    EHF = -(omega/4)*E*(x+(1/x))\n",
    "  return EHF"
   ]
  },
  {
   "cell_type": "code",
   "execution_count": 7,
   "id": "0f4ac9dd",
   "metadata": {},
   "outputs": [],
   "source": [
    "epsilon = 1\n",
    "Omega = 2\n",
    "\n",
    "HF = []\n",
    "exact = []\n",
    "for x in chi:\n",
    "    HF.append(E_HF(x,epsilon,omega).real)\n",
    "    v = Vp(epsilon,omega,x)\n",
    "    e,h = quasi_spin(epsilon,v,omega)\n",
    "    exact.append(e[0].real)"
   ]
  },
  {
   "cell_type": "code",
   "execution_count": 8,
   "id": "6e495b7e",
   "metadata": {},
   "outputs": [],
   "source": [
    "plt.plot(chi,HF,label='HF')\n",
    "plt.plot(chi,exact,label='exact')\n",
    "plt.xlabel('$\\chi$')\n",
    "plt.ylabel('Energy')\n",
    "plt.axvline(1, color = 'k', linestyle='--')\n",
    "plt.title('$\\Omega=2$ exact Lipkin Model')\n",
    "plt.legend(bbox_to_anchor=(1.05, 1))"
   ]
  },
  {
   "cell_type": "markdown",
   "id": "fb19f5de",
   "metadata": {},
   "source": [
    "### Quantum Circuit\n",
    "\n",
    "To solve the Lipkin model on a quantum computer we have to solve Schrodinger's equation."
   ]
  },
  {
   "cell_type": "markdown",
   "id": "9cbd7793",
   "metadata": {},
   "source": [
    "<!-- Equation labels as ordinary links -->\n",
    "<div id=\"_auto12\"></div>\n",
    "\n",
    "$$\n",
    "\\begin{equation}\n",
    "H|\\psi(\\tilde{\\theta})\\rangle = E|\\psi(\\tilde{\\theta})\\rangle\\\\\n",
    "\\label{_auto12} \\tag{12}\n",
    "\\end{equation}\n",
    "$$"
   ]
  },
  {
   "cell_type": "markdown",
   "id": "459b419f",
   "metadata": {},
   "source": [
    "We map the creation and annihilation operators to Pauli spin matrices/operators Z, X, Y (show this). The Hamiltonian then takes the form of"
   ]
  },
  {
   "cell_type": "markdown",
   "id": "41a31ec9",
   "metadata": {},
   "source": [
    "<!-- Equation labels as ordinary links -->\n",
    "<div id=\"_auto13\"></div>\n",
    "\n",
    "$$\n",
    "\\begin{equation}\n",
    "H = \\frac{\\epsilon}{2}(Z_0\\otimes \\boldsymbol{I}_1+Z_1\\otimes \\boldsymbol{I}_0) - \\frac{V}{2}(X_0\\otimes X_1 + Y_0\\otimes Y_1),\n",
    "\\label{_auto13} \\tag{13}\n",
    "\\end{equation}\n",
    "$$"
   ]
  },
  {
   "cell_type": "markdown",
   "id": "178899d3",
   "metadata": {},
   "source": [
    "where the Pauli operators are the measurement basis which the quantum\n",
    "circuit is measured in. The subscripts refer to quibits $0$ and $1$ respectively. Since we have two particles in this case, we end up with a two qubit state, as indicated\n",
    "in the ansatz for the initial state here.\n",
    "The Hamiltonian can thus we rewritten as a $4\\times 4$ matrix acting on a two-qubit state. \n",
    "\n",
    "However, before measuring, we first have to\n",
    "prepare the initial state $\\vert\\psi(\\tilde{\\theta})\\rangle$ for\n",
    "$\\Omega=2$ of the LM circuit"
   ]
  },
  {
   "cell_type": "markdown",
   "id": "c4a99e23",
   "metadata": {},
   "source": [
    "<!-- Equation labels as ordinary links -->\n",
    "<div id=\"_auto14\"></div>\n",
    "\n",
    "$$\n",
    "\\begin{equation}\n",
    "\\vert\\psi(\\tilde{\\theta})\\rangle = \\cos{ (\\tilde{\\theta})}\\vert 00\\rangle+\\sin{(\\tilde{\\theta})}\\vert 11\\rangle,\n",
    "\\label{_auto14} \\tag{14}\n",
    "\\end{equation}\n",
    "$$"
   ]
  },
  {
   "cell_type": "markdown",
   "id": "f6b4b87d",
   "metadata": {},
   "source": [
    "where $|00\\rangle =|\\uparrow\\uparrow\\rangle$, $|11\\rangle=|\\downarrow\\downarrow\\rangle$, and $\\tilde{\\theta}=\\theta-\\frac{\\pi}{2}$. \n",
    "\n",
    "This type of problem resides in the pantheon of variational methods\n",
    "where we minimize $\\tilde{\\theta}$. This problem was coded using IBM's\n",
    "python library Qiskit. Since this is a variational problem, the use of\n",
    "Qiskit's Variational Quantum Eigensolver (VQE) was used to find the\n",
    "optimal $\\tilde{\\theta}$ that minimizes\n",
    "$\\langle\\psi(\\tilde{\\theta})|H|\\psi(\\tilde{\\theta})\\rangle$."
   ]
  },
  {
   "cell_type": "code",
   "execution_count": 6,
   "id": "d525a46f",
   "metadata": {},
   "outputs": [],
   "source": [
    "def LM_circuit():\n",
    "    theta = Parameter('theta')\n",
    "    QC = QuantumCircuit(2)\n",
    "    QC.ry(2*(theta-np.pi/2),0)\n",
    "    QC.cnot(0,1)\n",
    "    return QC"
   ]
  },
  {
   "cell_type": "code",
   "execution_count": 7,
   "id": "910864b2",
   "metadata": {},
   "outputs": [
    {
     "data": {
      "image/png": "[encoded data removed]",
      "text/plain": [
       "<Figure size 370.906x200.667 with 1 Axes>"
      ]
     },
     "execution_count": 7,
     "metadata": {},
     "output_type": "execute_result"
    }
   ],
   "source": [
    "QC = LM_circuit()\n",
    "QC.draw(output='mpl')"
   ]
  },
  {
   "cell_type": "markdown",
   "id": "83e1cf97",
   "metadata": {},
   "source": [
    "### VQE method\n",
    "\n",
    "For this method, we will be using Qiskit's VQE function, where we specifiy \n",
    "* Quantum circuit\n",
    "\n",
    "a. Optimizer\n",
    "\n",
    "b. Quantum instance (i.e. which backend). Here we will be using the \"qasm_simulator\" \n",
    "\n",
    "c. Initial point (i.e. $\\theta$ search space)\n",
    "\n",
    "d. Hamiltonian/measurement basis\n",
    "\n",
    "To define the Hamiltonian, we will use the Qiskit Pauli operator functions\n",
    "I,Z,X,Y.  In this method, for a given $\\chi$, we will do a search over\n",
    "$\\theta$ from $-\\frac{\\pi}{2}$ to $\\frac{\\pi}{2}$ and picking out the\n",
    "minimum energy value"
   ]
  },
  {
   "cell_type": "code",
   "execution_count": 11,
   "id": "d7d3928d",
   "metadata": {},
   "outputs": [],
   "source": [
    "#sim1 min example\n",
    "sim = Aer.get_backend('qasm_simulator')\n",
    "adam =qiskit.algorithms.optimizers.ADAM(maxiter=10000) #optimizer for VQE\n",
    "epsilon = 1\n",
    "omega = 2\n",
    "chi2 = [0.5,1]\n",
    "\n",
    "t = np.arange(-pi/2,pi/2,0.05) #0.1 step size finishs pretty fast\n",
    "energy = []\n",
    "for x in chi2:\n",
    "    ev = []\n",
    "    v = Vp(epsilon,omega,x)\n",
    "    for i in range(len(t)):\n",
    "        H = 0.5 * epsilon * ( Z ^ I ) + 0.5 * epsilon * ( I ^ Z ) -0.5 * v * ( X ^ X ) +0.5 * v * ( Y ^ Y )\n",
    "        vqe = VQE(ansatz=LM_circuit(),optimizer=adam,initial_point=[t[i]],quantum_instance=sim,expectation=AerPauliExpectation())\n",
    "        result = vqe.compute_minimum_eigenvalue(H)\n",
    "        ev.append(result.eigenvalue)\n",
    "    energy.append(ev)\n",
    "\n",
    "\n",
    "plt.plot(t,energy[0],label='$\\chi=0.5$')\n",
    "plt.plot(t,energy[1],label='$\\chi=1$')\n",
    "plt.xlabel('$\\\\theta$')\n",
    "plt.ylabel('Ground State Energy')\n",
    "plt.title('$E_{g.s}$ vs. $\\\\theta$')\n",
    "plt.legend()"
   ]
  },
  {
   "cell_type": "code",
   "execution_count": 12,
   "id": "57938713",
   "metadata": {},
   "outputs": [],
   "source": [
    "epsilon = 1\n",
    "omega = 2\n",
    "chi3 = np.arange(0,2.1,0.1)\n",
    "t = np.arange(-pi/2,pi/2,0.1)\n",
    "adam =qiskit.algorithms.optimizers.ADAM(maxiter=10000)\n",
    "LM_sim = []\n",
    "for x in chi3:\n",
    "    v = Vp(epsilon,omega,x)\n",
    "    ev = []\n",
    "    for i in range(len(t)):\n",
    "        H = 0.5 * epsilon * ( Z ^ I ) +0.5 * epsilon * ( I ^ Z ) -0.5 * v * ( X ^ X ) +0.5 * v * ( Y ^ Y )\n",
    "        vqe = VQE(ansatz=LM_circuit(),optimizer=adam,initial_point=[t[i]],quantum_instance=sim,expectation=AerPauliExpectation())\n",
    "        result = vqe.compute_minimum_eigenvalue(H)\n",
    "\n",
    "        ev.append(result.eigenvalue)\n",
    "    LM_sim.append(min(ev))\n",
    "\n",
    "plt.plot(chi,np.array(exact),label='$E_{exact}$',color='b')\n",
    "plt.plot(chi,np.array(HF),label='$E_{HF}$',color='g')\n",
    "plt.scatter(chi3,LM_sim,label='QC sim',color='cyan')\n",
    "plt.axvline(1, color = 'k', linestyle='--')\n",
    "plt.ylabel('$E_{g.s}$')\n",
    "plt.xlabel('$\\chi$')\n",
    "plt.title(f'$\\Omega=2$')\n",
    "plt.legend()"
   ]
  },
  {
   "cell_type": "markdown",
   "id": "00c9d83d",
   "metadata": {},
   "source": [
    "### VQE method using Qiskit\n",
    "\n",
    "For this method, we will be using Qiskit's VQE function, where we specifiy \n",
    "1. Quantum circuit\n",
    "\n",
    "2. Optimizer\n",
    "\n",
    "3. Quantum instance (i.e. which backend). Here we will be using the \"statevector_simulator\" \n",
    "\n",
    "4. Hamiltonian/measurement basis"
   ]
  },
  {
   "cell_type": "code",
   "execution_count": 13,
   "id": "7cc44e3d",
   "metadata": {},
   "outputs": [],
   "source": [
    "epsilon = 1\n",
    "omega = 2\n",
    "chi5 = np.arange(0,2.1,0.1)\n",
    "adam =qiskit.algorithms.optimizers.ADAM(maxiter=10000)\n",
    "LM_sim = []\n",
    "for x in chi5:\n",
    "    v = Vp(epsilon,omega,x)\n",
    "    H = 0.5 * epsilon * ( Z ^ I ) +0.5 * epsilon * ( I ^ Z )-0.5 * v * ( X ^ X ) + 0.5 * v * ( Y ^ Y )\n",
    "    vec = Aer.get_backend('statevector_simulator')\n",
    "    vqe = VQE(ansatz=LM_circuit(),optimizer=adam,quantum_instance=vec,expectation=AerPauliExpectation())\n",
    "    result = vqe.compute_minimum_eigenvalue(H)\n",
    "    LM_sim.append(result.eigenvalue)\n",
    "\n",
    "\n",
    "plt.plot(chi,np.array(exact),label='$E_{exact}$',color='b')\n",
    "plt.plot(chi,np.array(HF),label='$E_{HF}$',color='g')\n",
    "plt.scatter(chi5,LM_sim,label='QC state vec',color='cyan')\n",
    "plt.axvline(1, color = 'k', linestyle='--')\n",
    "plt.ylabel('$E_{g.s}$')\n",
    "plt.xlabel('$\\chi$')\n",
    "plt.title('$\\Omega=2$')\n",
    "plt.legend()"
   ]
  },
  {
   "cell_type": "markdown",
   "id": "423bb892",
   "metadata": {},
   "source": [
    "Typically, running with Qiskit's own VQE is faster."
   ]
  }
 ],
 "metadata": {
  "kernelspec": {
   "display_name": "Python 3 (ipykernel)",
   "language": "python",
   "name": "python3"
  },
  "language_info": {
   "codemirror_mode": {
    "name": "ipython",
    "version": 3
   },
   "file_extension": ".py",
   "mimetype": "text/x-python",
   "name": "python",
   "nbconvert_exporter": "python",
   "pygments_lexer": "ipython3",
   "version": "3.9.10"
  }
 },
 "nbformat": 4,
 "nbformat_minor": 5
}
