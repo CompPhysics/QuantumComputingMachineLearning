{
 "cells": [
  {
   "cell_type": "code",
   "execution_count": 1,
   "id": "bfa098fa",
   "metadata": {},
   "outputs": [],
   "source": [
    "import numpy as np\n",
    "import qiskit as qk\n",
    "from scipy.optimize import minimize"
   ]
  },
  {
   "cell_type": "markdown",
   "id": "cc8e9565",
   "metadata": {},
   "source": [
    "# Initialize registers and circuit"
   ]
  },
  {
   "cell_type": "code",
   "execution_count": 2,
   "id": "ef153d31",
   "metadata": {},
   "outputs": [],
   "source": [
    "n_qubits = 1 #Number of qubits\n",
    "n_cbits = 1 #Number of classical bits (the number of qubits you want to measure at the end of the circuit)\n",
    "qreg = qk.QuantumRegister(n_qubits) #Create a quantum register\n",
    "creg = qk.ClassicalRegister(n_cbits) #Create a classical register\n",
    "circuit = qk.QuantumCircuit(qreg,creg) #Create your quantum circuit"
   ]
  },
  {
   "cell_type": "code",
   "execution_count": 3,
   "id": "7bc06e10",
   "metadata": {},
   "outputs": [
    {
     "data": {
      "text/html": [
       "<pre style=\"word-wrap: normal;white-space: pre;background: #fff0;line-height: 1.1;font-family: &quot;Courier New&quot;,Courier,monospace\">      \n",
       "  q0: \n",
       "      \n",
       "c0: 1/\n",
       "      </pre>"
      ],
      "text/plain": [
       "      \n",
       "  q0: \n",
       "      \n",
       "c0: 1/\n",
       "      "
      ]
     },
     "execution_count": 3,
     "metadata": {},
     "output_type": "execute_result"
    }
   ],
   "source": [
    "circuit.draw() #Draw circuit. It is empty"
   ]
  },
  {
   "cell_type": "markdown",
   "id": "457f650a",
   "metadata": {},
   "source": [
    "# Perform operations on qubit"
   ]
  },
  {
   "cell_type": "code",
   "execution_count": 4,
   "id": "e4c84888",
   "metadata": {},
   "outputs": [
    {
     "data": {
      "text/html": [
       "<pre style=\"word-wrap: normal;white-space: pre;background: #fff0;line-height: 1.1;font-family: &quot;Courier New&quot;,Courier,monospace\">      ┌───┐\n",
       "  q0: ┤ X ├\n",
       "      └───┘\n",
       "c0: 1/═════\n",
       "           </pre>"
      ],
      "text/plain": [
       "      ┌───┐\n",
       "  q0: ┤ X ├\n",
       "      └───┘\n",
       "c0: 1/═════\n",
       "           "
      ]
     },
     "execution_count": 4,
     "metadata": {},
     "output_type": "execute_result"
    }
   ],
   "source": [
    "circuit.x(qreg[0]) #Applies a Pauli X gate to the first qubit in the quantum register\n",
    "circuit.draw()"
   ]
  },
  {
   "cell_type": "markdown",
   "id": "c365dedc",
   "metadata": {},
   "source": [
    "# Chose a qubit to measure and encode the results to a classical bit"
   ]
  },
  {
   "cell_type": "code",
   "execution_count": 5,
   "id": "f97e2841",
   "metadata": {},
   "outputs": [
    {
     "data": {
      "text/html": [
       "<pre style=\"word-wrap: normal;white-space: pre;background: #fff0;line-height: 1.1;font-family: &quot;Courier New&quot;,Courier,monospace\">      ┌───┐┌─┐\n",
       "  q0: ┤ X ├┤M├\n",
       "      └───┘└╥┘\n",
       "c0: 1/══════╩═\n",
       "            0 </pre>"
      ],
      "text/plain": [
       "      ┌───┐┌─┐\n",
       "  q0: ┤ X ├┤M├\n",
       "      └───┘└╥┘\n",
       "c0: 1/══════╩═\n",
       "            0 "
      ]
     },
     "execution_count": 5,
     "metadata": {},
     "output_type": "execute_result"
    }
   ],
   "source": [
    "#Measure the first qubit in the quantum register\n",
    "#and encode the results to the first qubit in the classical register\n",
    "circuit.measure(qreg[0],creg[0])\n",
    "circuit.draw()"
   ]
  },
  {
   "cell_type": "markdown",
   "id": "349520e4",
   "metadata": {},
   "source": [
    "# Execute circuit"
   ]
  },
  {
   "cell_type": "code",
   "execution_count": 6,
   "id": "573be2bb",
   "metadata": {},
   "outputs": [
    {
     "name": "stdout",
     "output_type": "stream",
     "text": [
      "{'1': 1000}\n"
     ]
    },
    {
     "data": {
      "text/html": [
       "<pre style=\"word-wrap: normal;white-space: pre;background: #fff0;line-height: 1.1;font-family: &quot;Courier New&quot;,Courier,monospace\">      \n",
       "  q0: \n",
       "      \n",
       "c0: 1/\n",
       "      </pre>"
      ],
      "text/plain": [
       "      \n",
       "  q0: \n",
       "      \n",
       "c0: 1/\n",
       "      "
      ]
     },
     "execution_count": 6,
     "metadata": {},
     "output_type": "execute_result"
    }
   ],
   "source": [
    "backend = qk.Aer.get_backend('qasm_simulator') \n",
    "#This is the device you want to use. It is an ideal simulation of a quantum device\n",
    "\n",
    "\n",
    "job = backend.run(circuit,shots=1000) #Run the circuit 1000 times\n",
    "result = job.result()\n",
    "counts = result.get_counts()\n",
    "print(counts)\n",
    "circuit.clear()\n",
    "circuit.draw()"
   ]
  },
  {
   "cell_type": "code",
   "execution_count": 7,
   "id": "52eefaaf",
   "metadata": {},
   "outputs": [
    {
     "name": "stdout",
     "output_type": "stream",
     "text": [
      "      ┌───┐┌─┐\n",
      "  q0: ┤ H ├┤M├\n",
      "      └───┘└╥┘\n",
      "c0: 1/══════╩═\n",
      "            0 \n"
     ]
    }
   ],
   "source": [
    "circuit.h(qreg[0]) #Apply a Hadamard gate to the first qubit of the quantum register\n",
    "circuit.measure(qreg,creg)\n",
    "print(circuit.draw())"
   ]
  },
  {
   "cell_type": "code",
   "execution_count": 8,
   "id": "7a947fc1",
   "metadata": {},
   "outputs": [
    {
     "name": "stdout",
     "output_type": "stream",
     "text": [
      "{'0': 499, '1': 501}\n"
     ]
    }
   ],
   "source": [
    "job = backend.run(circuit,shots=1000)\n",
    "result = job.result()\n",
    "counts = result.get_counts()\n",
    "print(counts)\n",
    "circuit.clear()"
   ]
  },
  {
   "cell_type": "markdown",
   "id": "7f2ef947",
   "metadata": {},
   "source": [
    "# Create a two-qubit circuit and set up a Bell state"
   ]
  },
  {
   "cell_type": "code",
   "execution_count": 9,
   "id": "c8a92c72",
   "metadata": {},
   "outputs": [
    {
     "data": {
      "text/html": [
       "<pre style=\"word-wrap: normal;white-space: pre;background: #fff0;line-height: 1.1;font-family: &quot;Courier New&quot;,Courier,monospace\">      \n",
       "q1_0: \n",
       "      \n",
       "q1_1: \n",
       "      \n",
       "c1: 2/\n",
       "      </pre>"
      ],
      "text/plain": [
       "      \n",
       "q1_0: \n",
       "      \n",
       "q1_1: \n",
       "      \n",
       "c1: 2/\n",
       "      "
      ]
     },
     "execution_count": 9,
     "metadata": {},
     "output_type": "execute_result"
    }
   ],
   "source": [
    "n_qubits = 2\n",
    "n_cbits = 2\n",
    "qreg = qk.QuantumRegister(n_qubits)\n",
    "creg = qk.ClassicalRegister(n_cbits)\n",
    "circuit = qk.QuantumCircuit(qreg,creg)\n",
    "circuit.draw()"
   ]
  },
  {
   "cell_type": "code",
   "execution_count": 10,
   "id": "0b0e6109",
   "metadata": {},
   "outputs": [
    {
     "data": {
      "text/html": [
       "<pre style=\"word-wrap: normal;white-space: pre;background: #fff0;line-height: 1.1;font-family: &quot;Courier New&quot;,Courier,monospace\">      ┌───┐     \n",
       "q1_0: ┤ H ├──■──\n",
       "      └───┘┌─┴─┐\n",
       "q1_1: ─────┤ X ├\n",
       "           └───┘\n",
       "c1: 2/══════════\n",
       "                </pre>"
      ],
      "text/plain": [
       "      ┌───┐     \n",
       "q1_0: ┤ H ├──■──\n",
       "      └───┘┌─┴─┐\n",
       "q1_1: ─────┤ X ├\n",
       "           └───┘\n",
       "c1: 2/══════════\n",
       "                "
      ]
     },
     "execution_count": 10,
     "metadata": {},
     "output_type": "execute_result"
    }
   ],
   "source": [
    "circuit.h(qreg[0])\n",
    "circuit.cx(qreg[0],qreg[1]) \n",
    "#This is a controlled operation. Apply a Pauli X gate to the second qubit (qreg[1]) if the first qubit (qreg[0])\n",
    "#is in the |1> state. Else do nothing\n",
    "\n",
    "circuit.draw()"
   ]
  },
  {
   "cell_type": "code",
   "execution_count": 11,
   "id": "205e995e",
   "metadata": {},
   "outputs": [
    {
     "data": {
      "text/html": [
       "<pre style=\"word-wrap: normal;white-space: pre;background: #fff0;line-height: 1.1;font-family: &quot;Courier New&quot;,Courier,monospace\">      ┌───┐     ┌─┐   \n",
       "q1_0: ┤ H ├──■──┤M├───\n",
       "      └───┘┌─┴─┐└╥┘┌─┐\n",
       "q1_1: ─────┤ X ├─╫─┤M├\n",
       "           └───┘ ║ └╥┘\n",
       "c1: 2/═══════════╩══╩═\n",
       "                 0  1 </pre>"
      ],
      "text/plain": [
       "      ┌───┐     ┌─┐   \n",
       "q1_0: ┤ H ├──■──┤M├───\n",
       "      └───┘┌─┴─┐└╥┘┌─┐\n",
       "q1_1: ─────┤ X ├─╫─┤M├\n",
       "           └───┘ ║ └╥┘\n",
       "c1: 2/═══════════╩══╩═\n",
       "                 0  1 "
      ]
     },
     "execution_count": 11,
     "metadata": {},
     "output_type": "execute_result"
    }
   ],
   "source": [
    "circuit.measure(qreg,creg)\n",
    "circuit.draw()"
   ]
  },
  {
   "cell_type": "code",
   "execution_count": 12,
   "id": "20fc8637",
   "metadata": {},
   "outputs": [
    {
     "name": "stdout",
     "output_type": "stream",
     "text": [
      "{'11': 487, '00': 513}\n"
     ]
    }
   ],
   "source": [
    "job = backend.run(circuit,shots=1000)\n",
    "result = job.result()\n",
    "counts = result.get_counts()\n",
    "print(counts)\n",
    "circuit.clear()"
   ]
  },
  {
   "cell_type": "markdown",
   "id": "536bb1c0",
   "metadata": {},
   "source": [
    "# Apply rotation to qubit"
   ]
  },
  {
   "cell_type": "code",
   "execution_count": 13,
   "id": "98d6dfd6",
   "metadata": {},
   "outputs": [
    {
     "name": "stdout",
     "output_type": "stream",
     "text": [
      "      ┌─────────┐┌─┐\n",
      "q1_0: ┤ Rx(π/3) ├┤M├\n",
      "      └───┬─┬───┘└╥┘\n",
      "q1_1: ────┤M├─────╫─\n",
      "          └╥┘     ║ \n",
      "c1: 2/═════╩══════╩═\n",
      "           1      0 \n",
      "{'00': 752, '01': 248}\n"
     ]
    }
   ],
   "source": [
    "theta = np.pi/3\n",
    "circuit.rx(theta, qreg[0]) #R_x(theta) rotation on the first qubit (qreg[0])\n",
    "circuit.measure(qreg,creg)\n",
    "print(circuit.draw())\n",
    "job = backend.run(circuit,shots=1000)\n",
    "result = job.result()\n",
    "counts = result.get_counts()\n",
    "circuit.clear()\n",
    "print(counts)"
   ]
  },
  {
   "cell_type": "markdown",
   "id": "fda0b492",
   "metadata": {},
   "source": [
    "# Find the lowest eigenvalue of $$ H = c_1 Z_0 + c_2 Z_1 + c_3 X_0 Y_1 $$ \n",
    "# We will use $$<\\psi|H|\\psi> = c_1<\\psi|Z_0|\\psi> + c_2<\\psi|Z_1|\\psi> + c_3<\\psi|X_0Y_1|\\psi> $$"
   ]
  },
  {
   "cell_type": "code",
   "execution_count": 14,
   "id": "33217150",
   "metadata": {},
   "outputs": [
    {
     "name": "stdout",
     "output_type": "stream",
     "text": [
      "-2.23606797749979\n"
     ]
    }
   ],
   "source": [
    "I = np.eye(2)\n",
    "X = np.array([[0,1],[1,0]])\n",
    "Y = np.array([[0,-1j],[1j,0]])\n",
    "Z = np.array([[1,0],[0,-1]])\n",
    "H = np.kron(Z,I) + np.kron(I,Z) + np.kron(X,Y)\n",
    "eigvals,eigvecs = np.linalg.eigh(H)\n",
    "print(eigvals[0])"
   ]
  },
  {
   "cell_type": "code",
   "execution_count": 15,
   "id": "8c137a9e",
   "metadata": {},
   "outputs": [
    {
     "data": {
      "text/plain": [
       "[[1, [0], ['z']], [1, [1], ['z']], [1, [0, 1], ['x', 'y']]]"
      ]
     },
     "execution_count": 15,
     "metadata": {},
     "output_type": "execute_result"
    }
   ],
   "source": [
    "c_1 = 1\n",
    "c_2 = 1\n",
    "c_3 = 1\n",
    "\n",
    "h_1 = [c_1,[0],['z']]\n",
    "h_2 = [c_2,[1],['z']]\n",
    "h_3 = [c_3,[0,1],['x','y']]\n",
    "H = [h_1,h_2,h_3]\n",
    "H"
   ]
  },
  {
   "cell_type": "code",
   "execution_count": 16,
   "id": "fa5984c0",
   "metadata": {},
   "outputs": [
    {
     "data": {
      "text/plain": [
       "[1, [0], ['z']]"
      ]
     },
     "execution_count": 16,
     "metadata": {},
     "output_type": "execute_result"
    }
   ],
   "source": [
    "H[0]"
   ]
  },
  {
   "cell_type": "markdown",
   "id": "e6cf5eb5",
   "metadata": {},
   "source": [
    "# Create ansatz"
   ]
  },
  {
   "cell_type": "code",
   "execution_count": 17,
   "id": "d16e4447",
   "metadata": {},
   "outputs": [
    {
     "name": "stdout",
     "output_type": "stream",
     "text": [
      "Before ansatz\n",
      "      ┌───┐\n",
      "q2_0: ┤ H ├\n",
      "      ├───┤\n",
      "q2_1: ┤ H ├\n",
      "      └───┘\n",
      "After ansatz\n"
     ]
    },
    {
     "data": {
      "text/html": [
       "<pre style=\"word-wrap: normal;white-space: pre;background: #fff0;line-height: 1.1;font-family: &quot;Courier New&quot;,Courier,monospace\">      ┌───┐ ┌──────────────┐     \n",
       "q2_0: ┤ H ├─┤ Ry(-0.71851) ├──■──\n",
       "      ├───┤┌┴──────────────┤┌─┴─┐\n",
       "q2_1: ┤ H ├┤ Ry(-0.085771) ├┤ X ├\n",
       "      └───┘└───────────────┘└───┘</pre>"
      ],
      "text/plain": [
       "      ┌───┐ ┌──────────────┐     \n",
       "q2_0: ┤ H ├─┤ Ry(-0.71851) ├──■──\n",
       "      ├───┤┌┴──────────────┤┌─┴─┐\n",
       "q2_1: ┤ H ├┤ Ry(-0.085771) ├┤ X ├\n",
       "      └───┘└───────────────┘└───┘"
      ]
     },
     "execution_count": 17,
     "metadata": {},
     "output_type": "execute_result"
    }
   ],
   "source": [
    "def ansatz(theta,n_qubits):\n",
    "    qreg = qk.QuantumRegister(n_qubits)\n",
    "    circuit = qk.QuantumCircuit(qreg)\n",
    "    for i in range(n_qubits):\n",
    "        circuit.ry(theta[i],qreg[i])\n",
    "    for i in range(n_qubits-1):\n",
    "        circuit.cx(qreg[i],qreg[i+1])\n",
    "    return(circuit)\n",
    "qreg = qk.QuantumRegister(n_qubits)\n",
    "circuit = qk.QuantumCircuit(qreg)\n",
    "circuit.h(qreg[:2])\n",
    "print('Before ansatz')\n",
    "print(circuit.draw())\n",
    "theta = np.random.randn(2)\n",
    "n_qubits = 2\n",
    "circuit = circuit.compose(ansatz(theta,n_qubits))\n",
    "print('After ansatz')\n",
    "circuit.draw()"
   ]
  },
  {
   "cell_type": "markdown",
   "id": "a1d6985d",
   "metadata": {},
   "source": [
    "# Change measurement basis"
   ]
  },
  {
   "cell_type": "code",
   "execution_count": 18,
   "id": "0dcfbe61",
   "metadata": {},
   "outputs": [
    {
     "name": "stdout",
     "output_type": "stream",
     "text": [
      "Ansatz circuit\n",
      "After basis transformation:\n",
      "      ┌─────────────┐      ┌───┐      \n",
      "q4_0: ┤ Ry(0.44789) ├──■───┤ H ├──────\n",
      "      └┬────────────┤┌─┴─┐┌┴───┴┐┌───┐\n",
      "q4_1: ─┤ Ry(1.3088) ├┤ X ├┤ Sdg ├┤ H ├\n",
      "       └────────────┘└───┘└─────┘└───┘\n"
     ]
    }
   ],
   "source": [
    "def basis_change(h_i,n_qubits):\n",
    "    qreg = qk.QuantumRegister(n_qubits)\n",
    "    circuit = qk.QuantumCircuit(qreg)\n",
    "    \n",
    "    for qubit,operator in zip(h_i[1],h_i[2]):\n",
    "        if operator == 'x':\n",
    "            circuit.h(qreg[qubit])\n",
    "        if operator == 'y':\n",
    "            circuit.sdg(qreg[qubit])\n",
    "            circuit.h(qreg[qubit])\n",
    "    return(circuit)\n",
    "n_qubits = 2\n",
    "qreg = qk.QuantumRegister(n_qubits)\n",
    "circuit = qk.QuantumCircuit(qreg)\n",
    "theta = np.random.randn(n_qubits)\n",
    "circuit = circuit.compose(ansatz(theta,n_qubits))\n",
    "print('Ansatz circuit')\n",
    "circuit.draw()\n",
    "circuit = circuit.compose(basis_change(H[2],n_qubits))\n",
    "print('After basis transformation:')\n",
    "print(circuit.draw())\n",
    "\n",
    "        "
   ]
  },
  {
   "cell_type": "markdown",
   "id": "e8880e24",
   "metadata": {},
   "source": [
    "# Get energy for given rotational parameters, theta"
   ]
  },
  {
   "cell_type": "code",
   "execution_count": 19,
   "id": "db6edb79",
   "metadata": {},
   "outputs": [
    {
     "data": {
      "text/plain": [
       "1.8104"
      ]
     },
     "execution_count": 19,
     "metadata": {},
     "output_type": "execute_result"
    }
   ],
   "source": [
    "def get_energy(theta):\n",
    "    n_qubits = 2\n",
    "    qreg = qk.QuantumRegister(n_qubits)\n",
    "    circuit = qk.QuantumCircuit(qreg)\n",
    "    circuit = circuit.compose(ansatz(theta,n_qubits))\n",
    "    circuit_list = []\n",
    "    for idx,h_i in enumerate(H):\n",
    "        basis_change_circuit = basis_change(h_i,n_qubits)\n",
    "        new_circuit = circuit.compose(basis_change_circuit)\n",
    "        creg = qk.ClassicalRegister(len(h_i[1]))\n",
    "        new_circuit.add_register(creg)\n",
    "        new_circuit.measure(qreg[h_i[1]],creg)\n",
    "        circuit_list.append(new_circuit)\n",
    "    shots = 10000\n",
    "    job = backend.run(circuit_list,shots=shots)\n",
    "    E = np.zeros(len(circuit_list))\n",
    "    for i in range(len(circuit_list)):\n",
    "        result = job.result()\n",
    "        counts = result.get_counts(i)\n",
    "        for key,value in counts.items():\n",
    "            e = 1\n",
    "            for bit in key:\n",
    "                if bit == '0':\n",
    "                    e *= 1\n",
    "                if bit == '1':\n",
    "                    e *= -1\n",
    "            E[i] += e*value\n",
    "        E[i] *= H[i][0]\n",
    "    E /= shots\n",
    "    return(np.sum(E))\n",
    "\n",
    "theta = np.random.randn(2)\n",
    "get_energy(theta)\n",
    "    "
   ]
  },
  {
   "cell_type": "markdown",
   "id": "53f16008",
   "metadata": {},
   "source": [
    "# Minimize energy with Scipy"
   ]
  },
  {
   "cell_type": "code",
   "execution_count": 20,
   "id": "febaf78c",
   "metadata": {},
   "outputs": [
    {
     "data": {
      "text/plain": [
       "-2.0092"
      ]
     },
     "execution_count": 20,
     "metadata": {},
     "output_type": "execute_result"
    }
   ],
   "source": [
    "theta = np.random.randn(2)\n",
    "res = minimize(get_energy, theta, method='Powell',tol=1e-12)\n",
    "get_energy(res.x)"
   ]
  },
  {
   "cell_type": "markdown",
   "id": "37c3126c",
   "metadata": {},
   "source": [
    "## We might need a more flexible ansatz"
   ]
  },
  {
   "cell_type": "code",
   "execution_count": 22,
   "id": "f59ac84c",
   "metadata": {},
   "outputs": [
    {
     "data": {
      "text/plain": [
       "-2.2328"
      ]
     },
     "execution_count": 22,
     "metadata": {},
     "output_type": "execute_result"
    }
   ],
   "source": [
    "def ansatz(theta,n_qubits):\n",
    "    qreg = qk.QuantumRegister(n_qubits)\n",
    "    circuit = qk.QuantumCircuit(qreg)\n",
    "    idx = 0\n",
    "    for i in range(n_qubits):\n",
    "        circuit.ry(theta[idx],qreg[i])\n",
    "        idx += 1\n",
    "    for i in range(n_qubits-1):\n",
    "        circuit.cx(qreg[i],qreg[i+1])\n",
    "    for i in range(n_qubits):\n",
    "        circuit.rx(theta[idx],qreg[i])\n",
    "        idx += 1\n",
    "    for i in range(n_qubits-1):\n",
    "        circuit.cx(qreg[i],qreg[i+1])\n",
    "    return(circuit)\n",
    "theta = np.random.randn(4)\n",
    "res = minimize(get_energy, theta, method='Powell',tol=1e-16)\n",
    "get_energy(res.x)"
   ]
  },
  {
   "cell_type": "markdown",
   "id": "5f4d1087",
   "metadata": {},
   "source": [
    "# Minimize energy with gradient descent\n",
    "# $$ \\frac{\\partial E (\\theta_1,\\dots,\\theta_i,\\dots,\\theta_p)}{\\partial \\theta_i} = \\frac{E(\\theta_1,\\dots,\\theta_i + \\pi/2,\\dots, \\theta_p) - E(\\theta_1,\\dots, \\theta_i - \\pi/2,\\dots, \\theta_p}{2} $$"
   ]
  },
  {
   "cell_type": "code",
   "execution_count": 23,
   "id": "f1272e76",
   "metadata": {},
   "outputs": [
    {
     "name": "stdout",
     "output_type": "stream",
     "text": [
      "0 0.8799999999999999\n",
      "1 0.6517999999999999\n",
      "2 0.4418\n",
      "3 0.20120000000000002\n",
      "4 -0.07899999999999999\n",
      "5 -0.3356\n",
      "6 -0.5612\n",
      "7 -0.7516\n",
      "8 -0.9148000000000001\n",
      "9 -1.0142\n",
      "10 -1.1074\n",
      "11 -1.1798\n",
      "12 -1.2292\n",
      "13 -1.2802000000000002\n",
      "14 -1.3214000000000001\n",
      "15 -1.3288000000000002\n",
      "16 -1.3772000000000002\n",
      "17 -1.3756\n",
      "18 -1.4127999999999998\n",
      "19 -1.3752\n",
      "20 -1.4008\n",
      "21 -1.403\n",
      "22 -1.3942\n",
      "23 -1.4087999999999998\n",
      "24 -1.4123999999999999\n",
      "25 -1.422\n",
      "26 -1.4284\n",
      "27 -1.4252\n",
      "28 -1.4214\n",
      "29 -1.4394\n",
      "30 -1.4392\n",
      "31 -1.4274\n",
      "32 -1.4228\n",
      "33 -1.4302\n",
      "34 -1.4506000000000001\n",
      "35 -1.4569999999999999\n",
      "36 -1.4329999999999998\n",
      "37 -1.4726\n",
      "38 -1.4808\n",
      "39 -1.4508\n",
      "40 -1.4748\n",
      "41 -1.4634\n",
      "42 -1.4558\n",
      "43 -1.4933999999999998\n",
      "44 -1.5214\n",
      "45 -1.5198\n",
      "46 -1.5424\n",
      "47 -1.5368\n",
      "48 -1.5572\n",
      "49 -1.5822\n",
      "50 -1.6272000000000002\n",
      "51 -1.6400000000000001\n",
      "52 -1.6345999999999998\n",
      "53 -1.681\n",
      "54 -1.7276\n",
      "55 -1.7574\n",
      "56 -1.8152\n",
      "57 -1.8328000000000002\n",
      "58 -1.8804000000000003\n",
      "59 -1.9422\n",
      "60 -1.9771999999999998\n",
      "61 -2.0306\n",
      "62 -2.0465999999999998\n",
      "63 -2.0778\n",
      "64 -2.0844\n",
      "65 -2.1430000000000002\n",
      "66 -2.1418\n",
      "67 -2.1892\n",
      "68 -2.1914\n",
      "69 -2.2072000000000003\n",
      "70 -2.1976\n",
      "71 -2.2098\n",
      "72 -2.2106\n",
      "73 -2.2138\n",
      "74 -2.2285999999999997\n",
      "75 -2.2342\n",
      "76 -2.2304\n",
      "77 -2.2134\n",
      "78 -2.2414\n",
      "79 -2.2211999999999996\n",
      "80 -2.2281999999999997\n",
      "81 -2.2314\n",
      "82 -2.2324\n",
      "83 -2.2368\n",
      "84 -2.2251999999999996\n",
      "85 -2.236\n",
      "86 -2.2156\n",
      "87 -2.253\n",
      "88 -2.2466\n",
      "89 -2.227\n",
      "90 -2.2438\n",
      "91 -2.229\n",
      "92 -2.2262\n",
      "93 -2.2447999999999997\n",
      "94 -2.2344\n",
      "95 -2.2518\n",
      "96 -2.2332\n",
      "97 -2.2448\n",
      "98 -2.2468\n",
      "99 -2.234\n",
      "100 -2.2561999999999998\n",
      "101 -2.2474\n",
      "102 -2.2352\n",
      "103 -2.235\n",
      "104 -2.2462\n",
      "105 -2.2308\n",
      "106 -2.2242\n",
      "107 -2.2327999999999997\n",
      "108 -2.23\n",
      "109 -2.2542\n",
      "110 -2.2222\n",
      "111 -2.2124\n",
      "112 -2.2464\n",
      "113 -2.2466\n",
      "114 -2.2504\n",
      "115 -2.2253999999999996\n",
      "116 -2.2447999999999997\n",
      "117 -2.2268\n",
      "118 -2.248\n",
      "119 -2.2498\n",
      "120 -2.2258\n",
      "121 -2.2279999999999998\n",
      "122 -2.2375999999999996\n",
      "123 -2.2306\n",
      "124 -2.2312000000000003\n",
      "125 -2.2298\n",
      "126 -2.252\n",
      "127 -2.2242\n",
      "128 -2.2398000000000002\n",
      "129 -2.2432\n",
      "130 -2.2289999999999996\n",
      "131 -2.2252\n",
      "132 -2.2348\n",
      "133 -2.2132\n",
      "134 -2.232\n",
      "135 -2.2386\n",
      "136 -2.2093999999999996\n",
      "137 -2.2496\n",
      "138 -2.2382\n",
      "139 -2.2206\n",
      "140 -2.245\n",
      "141 -2.2356000000000003\n",
      "142 -2.2488\n",
      "143 -2.2426\n",
      "144 -2.2372\n",
      "145 -2.2256\n",
      "146 -2.2218\n",
      "147 -2.2408\n",
      "148 -2.231\n",
      "149 -2.2508\n",
      "150 -2.2372\n",
      "151 -2.2346\n",
      "152 -2.2234000000000003\n",
      "153 -2.2336\n",
      "154 -2.2416\n",
      "155 -2.2318\n",
      "156 -2.254\n",
      "157 -2.2114\n",
      "158 -2.2304\n",
      "159 -2.222\n",
      "160 -2.241\n",
      "161 -2.2354\n",
      "162 -2.2538\n",
      "163 -2.2068\n",
      "164 -2.2344\n",
      "165 -2.2302\n",
      "166 -2.2374\n",
      "167 -2.2476000000000003\n",
      "168 -2.2416\n",
      "169 -2.2489999999999997\n",
      "170 -2.2166\n",
      "171 -2.2562\n",
      "172 -2.2322\n",
      "173 -2.2328\n",
      "174 -2.2396000000000003\n",
      "175 -2.2238\n",
      "176 -2.2526\n",
      "177 -2.2396000000000003\n",
      "178 -2.2384\n",
      "179 -2.2096\n",
      "180 -2.218\n",
      "181 -2.2190000000000003\n",
      "182 -2.224\n",
      "183 -2.2328\n",
      "184 -2.2292\n",
      "185 -2.2418\n",
      "186 -2.2334\n",
      "187 -2.2314\n",
      "188 -2.238\n",
      "189 -2.2184\n",
      "190 -2.2428\n",
      "191 -2.2472\n",
      "192 -2.227\n",
      "193 -2.2344\n",
      "194 -2.2332\n",
      "195 -2.2422\n",
      "196 -2.2521999999999998\n",
      "197 -2.2434000000000003\n",
      "198 -2.227\n",
      "199 -2.2321999999999997\n"
     ]
    }
   ],
   "source": [
    "epochs = 200\n",
    "theta = np.random.randn(4)\n",
    "for epoch in range(epochs):\n",
    "    print(epoch,get_energy(theta))\n",
    "    grad = np.zeros_like(theta)\n",
    "    for idx in range(theta.shape[0]):\n",
    "        theta_temp = theta.copy()\n",
    "        theta_temp[idx] += np.pi/2\n",
    "        E_plus = get_energy(theta_temp)\n",
    "        theta_temp[idx] -= np.pi\n",
    "        E_minus = get_energy(theta_temp)\n",
    "        grad[idx] = (E_plus - E_minus)/2\n",
    "    theta -= 0.1*grad"
   ]
  },
  {
   "cell_type": "code",
   "execution_count": null,
   "id": "43c626f1",
   "metadata": {},
   "outputs": [],
   "source": []
  }
 ],
 "metadata": {
  "kernelspec": {
   "display_name": "Python 3 (ipykernel)",
   "language": "python",
   "name": "python3"
  },
  "language_info": {
   "codemirror_mode": {
    "name": "ipython",
    "version": 3
   },
   "file_extension": ".py",
   "mimetype": "text/x-python",
   "name": "python",
   "nbconvert_exporter": "python",
   "pygments_lexer": "ipython3",
   "version": "3.9.10"
  }
 },
 "nbformat": 4,
 "nbformat_minor": 5
}
