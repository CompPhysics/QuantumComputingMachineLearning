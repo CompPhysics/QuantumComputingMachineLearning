{
 "cells": [
  {
   "cell_type": "markdown",
   "metadata": {},
   "source": [
    "### Simulating a Quantum Computer with Python\n",
    "\n",
    "Date: 24-01-2024"
   ]
  },
  {
   "cell_type": "markdown",
   "metadata": {},
   "source": [
    "#### The structure\n",
    "\n",
    "A few questions to get started:\n",
    "- Where is the information of the system stored?\n",
    "- How do we interact with the quantum computer? i.e. Change the system"
   ]
  },
  {
   "cell_type": "markdown",
   "metadata": {},
   "source": [
    "#### The states"
   ]
  },
  {
   "cell_type": "code",
   "execution_count": 152,
   "metadata": {},
   "outputs": [],
   "source": [
    "import numpy as np\n",
    "\n",
    "# for a one qubit system, the state is a vector of length 2 We could initialise the system to be in the state |0> by setting the state vector to be [1,0].\n",
    "state = np.array([1,0], dtype=np.complex128)\n"
   ]
  },
  {
   "cell_type": "markdown",
   "metadata": {},
   "source": [
    "#### The gates"
   ]
  },
  {
   "cell_type": "code",
   "execution_count": 153,
   "metadata": {},
   "outputs": [],
   "source": [
    "I = np.array(np.eye(2))\n",
    "H = 1/np.sqrt(2) * np.array([[1, 1], [1, -1]])\n",
    "X = np.array([[0, 1], [1, 0]])\n",
    "Y = np.array([[0, -1j], [1j, 0]])\n",
    "Z = np.array([[1, 0], [0, -1]])\n",
    "S = np.array([[1, 0], [0, 1j]])\n",
    "\n",
    "operators = {'I':I, 'H':H, 'X':X, 'Y':Y, 'Z':Z, 'S':S}\n"
   ]
  },
  {
   "cell_type": "markdown",
   "metadata": {},
   "source": [
    "Check if they are Hermitian and unitary!"
   ]
  },
  {
   "cell_type": "code",
   "execution_count": 154,
   "metadata": {},
   "outputs": [],
   "source": [
    "def is_hermitian(operator, rtol=1e-05, atol=1e-08):\n",
    "    op_mat = np.matrix(operator)\n",
    "    ''' atol: absolute tolerance; \n",
    "        rtol: relative tolerance.'''\n",
    "    return np.allclose(op_mat, op_mat.getH(), rtol=rtol, atol=atol)\n",
    "\n",
    "def is_unitary(operator, rtol=1e-05, atol=1e-08):\n",
    "    op_mat = np.matrix(operator)\n",
    "    ''' atol: absolute tolerance; \n",
    "        rtol: relative tolerance.'''\n",
    "    return np.allclose(op_mat @ op_mat.getH(), I, rtol=rtol, atol=atol)\n",
    "\n"
   ]
  },
  {
   "cell_type": "code",
   "execution_count": 155,
   "metadata": {},
   "outputs": [
    {
     "name": "stdout",
     "output_type": "stream",
     "text": [
      "I\n",
      "is hermitian\n",
      "is unitary\n",
      "H\n",
      "is hermitian\n",
      "is unitary\n",
      "X\n",
      "is hermitian\n",
      "is unitary\n",
      "Y\n",
      "is hermitian\n",
      "is unitary\n",
      "Z\n",
      "is hermitian\n",
      "is unitary\n",
      "S\n",
      "is unitary\n"
     ]
    }
   ],
   "source": [
    "for operator in operators.keys():\n",
    "    print(operator)\n",
    "    if is_hermitian(operators[operator]):\n",
    "        print('is hermitian')\n",
    "    if is_unitary(operators[operator]):\n",
    "        print('is unitary')\n"
   ]
  },
  {
   "cell_type": "markdown",
   "metadata": {},
   "source": [
    "Notice how the Phase gate S is not Hermitian? Why?"
   ]
  },
  {
   "cell_type": "markdown",
   "metadata": {},
   "source": [
    "#### The Operations"
   ]
  },
  {
   "cell_type": "code",
   "execution_count": 156,
   "metadata": {},
   "outputs": [],
   "source": [
    "state = np.array([1,0], dtype=np.complex128)\n",
    "H_state = operators['H'] @ state\n",
    "S_state = operators['S'] @ state"
   ]
  },
  {
   "cell_type": "markdown",
   "metadata": {},
   "source": [
    "#### Some simple visualisation"
   ]
  },
  {
   "cell_type": "code",
   "execution_count": 157,
   "metadata": {},
   "outputs": [],
   "source": [
    "def to_braket(state):\n",
    "    # Find the indices of the states with non-zero amplitudes\n",
    "    \n",
    "    n_qubits = int(np.sqrt(len(state))) # calculate the number of qubits\n",
    "    non_zero_indices = np.where(np.abs(state) > 0)[0]\n",
    "    # Convert each non-zero index to binary representation, along with the corresponding coefficient\n",
    "    computational_str = \"\"\n",
    "    np.zeros(2**n_qubits, dtype=np.complex_)\n",
    "    for idx in non_zero_indices:\n",
    "        binary_str = format(idx, f\"0{n_qubits}b\")\n",
    "        amplitude = state[idx]\n",
    "        computational_str += f\"{amplitude:.2f}|{binary_str}⟩ + \"\n",
    "\n",
    "    computational_str = computational_str.rstrip(\"+ \")\n",
    "\n",
    "    return computational_str\n"
   ]
  },
  {
   "cell_type": "code",
   "execution_count": 158,
   "metadata": {},
   "outputs": [
    {
     "data": {
      "text/plain": [
       "'1.00+0.00j|0⟩'"
      ]
     },
     "execution_count": 158,
     "metadata": {},
     "output_type": "execute_result"
    }
   ],
   "source": [
    "to_braket(state)\n",
    "to_braket(H_state)\n",
    "to_braket(S_state)"
   ]
  },
  {
   "cell_type": "markdown",
   "metadata": {},
   "source": [
    "#### The measurement\n"
   ]
  },
  {
   "cell_type": "code",
   "execution_count": 162,
   "metadata": {},
   "outputs": [
    {
     "name": "stdout",
     "output_type": "stream",
     "text": [
      "Counter({0: 1000})\n",
      "Counter({0: 518, 1: 482})\n"
     ]
    },
    {
     "data": {
      "text/plain": [
       "array([[518, '0'],\n",
       "       [482, '1']], dtype=object)"
      ]
     },
     "execution_count": 162,
     "metadata": {},
     "output_type": "execute_result"
    }
   ],
   "source": [
    "from collections import Counter\n",
    "\n",
    "def measure(state, n_shots=1):\n",
    "\n",
    "    probability = np.abs(state**2)\n",
    "    n_qubits = int(np.sqrt(len(state))) \n",
    "    allowed_outcomes = np.arange(len(state))\n",
    "        # print(state)\n",
    "    outcomes = np.random.choice(allowed_outcomes, p=probability, size = n_shots)\n",
    "    \n",
    "    state = np.zeros_like(state)\n",
    "    state[outcomes[-1]] = 1\n",
    "    counts = Counter(outcomes)\n",
    "    print(counts)\n",
    "    outcomes_count = np.zeros((len(state),2),dtype=object) # 2: state and count\n",
    "    for i in range(len(state)):\n",
    "        if i in counts:\n",
    "            outcomes_count[i] = counts[i], format(i, f\"0{n_qubits}b\")\n",
    "        else:\n",
    "            outcomes_count[i] = 0,format(i, f\"0{n_qubits}b\")\n",
    "                \n",
    "    return outcomes_count\n",
    "\n",
    "measure(state, n_shots=1000)\n",
    "measure(H_state, n_shots=1000)"
   ]
  },
  {
   "cell_type": "markdown",
   "metadata": {},
   "source": [
    "When writing your own code for two or more qubits, consider:\n",
    "- How does the statevector change as the system grows?\n",
    "- How do the operators change?\n",
    "\n",
    "Hint: $\\otimes$\n"
   ]
  },
  {
   "cell_type": "markdown",
   "metadata": {},
   "source": [
    "### The Simple Hamiltonian"
   ]
  },
  {
   "cell_type": "markdown",
   "metadata": {},
   "source": [
    "Show that the Pauli matrices and the identity matrix form a basis for the $M_{2\\times 2}(\\mathbb{C})$ matrices, mathematically.\n",
    "\n",
    "$$ M = \n",
    "\\begin{bmatrix}\n",
    "    a & b \\\\\n",
    "    c & d\n",
    "\\end{bmatrix}\n",
    "$$\n",
    "and\n",
    "$$ M = \\alpha I + \\beta X + \\gamma Y + \\delta Z $$"
   ]
  },
  {
   "cell_type": "code",
   "execution_count": null,
   "metadata": {},
   "outputs": [],
   "source": []
  },
  {
   "cell_type": "markdown",
   "metadata": {},
   "source": []
  }
 ],
 "metadata": {
  "kernelspec": {
   "display_name": "Python 3",
   "language": "python",
   "name": "python3"
  },
  "language_info": {
   "codemirror_mode": {
    "name": "ipython",
    "version": 3
   },
   "file_extension": ".py",
   "mimetype": "text/x-python",
   "name": "python",
   "nbconvert_exporter": "python",
   "pygments_lexer": "ipython3",
   "version": "3.10.13"
  }
 },
 "nbformat": 4,
 "nbformat_minor": 2
}
