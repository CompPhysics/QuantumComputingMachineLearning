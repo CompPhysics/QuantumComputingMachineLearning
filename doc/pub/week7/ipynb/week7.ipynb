{
 "cells": [
  {
   "cell_type": "markdown",
   "id": "e4fbcb1d",
   "metadata": {
    "editable": true
   },
   "source": [
    "<!-- HTML file automatically generated from DocOnce source (https://github.com/doconce/doconce/)\n",
    "doconce format html week7.do.txt --no_mako -->\n",
    "<!-- dom:TITLE: March 6-10, 2023: Quantum Computing, Quantum Machine Learning and Quantum Information Theories -->"
   ]
  },
  {
   "cell_type": "markdown",
   "id": "33dd2139",
   "metadata": {
    "editable": true
   },
   "source": [
    "# March 6-10, 2023: Quantum Computing, Quantum Machine Learning and Quantum Information Theories\n",
    "**Morten Hjorth-Jensen**, Department of Physics, University of Oslo and Department of Physics and Astronomy and Facility for Rare Isotope Beams, Michigan State University\n",
    "\n",
    "Date: **March 6-10**"
   ]
  },
  {
   "cell_type": "markdown",
   "id": "2799dedc",
   "metadata": {
    "editable": true
   },
   "source": [
    "## Algorithms for solving quantum mechanical problems, quantum gates and circuits\n",
    "\n",
    "1. Introduction to [Qiskit](https://qiskit.org/)\n",
    "\n",
    "2. Defining one-, two- and three-qubit gates\n",
    "\n",
    "3. Setting up quantum circuits and simple algorithms\n",
    "\n",
    "4. VQE, Variational Quantum Eigensolver, continues next week\n",
    "\n",
    "5. Selected Hamiltonians, continues next week"
   ]
  },
  {
   "cell_type": "markdown",
   "id": "ad3f884d",
   "metadata": {
    "editable": true
   },
   "source": [
    "## Quantum gates, reminder from last week"
   ]
  },
  {
   "cell_type": "markdown",
   "id": "019359f8",
   "metadata": {
    "editable": true
   },
   "source": [
    "## Introduction to [Qiskit](https://qiskit.org/)"
   ]
  },
  {
   "cell_type": "code",
   "execution_count": 1,
   "id": "a8aad701",
   "metadata": {
    "collapsed": false,
    "editable": true
   },
   "outputs": [],
   "source": [
    "#!/usr/bin/env python\n",
    "# coding: utf-8\n",
    "import numpy as np\n",
    "import qiskit as qk\n",
    "from scipy.optimize import minimize\n",
    "\n",
    "\n",
    "# # Initialize registers and circuit\n",
    "\n",
    "n_qubits = 1 #Number of qubits\n",
    "n_cbits = 1 #Number of classical bits (the number of qubits you want to measure at the end of the circuit)\n",
    "qreg = qk.QuantumRegister(n_qubits) #Create a quantum register\n",
    "creg = qk.ClassicalRegister(n_cbits) #Create a classical register\n",
    "circuit = qk.QuantumCircuit(qreg,creg) #Create your quantum circuit\n",
    "\n",
    "\n",
    "circuit.draw() #Draw circuit. It is empty"
   ]
  },
  {
   "cell_type": "markdown",
   "id": "344872fe",
   "metadata": {
    "editable": true
   },
   "source": [
    "Thereafter we perform operations on qubit"
   ]
  },
  {
   "cell_type": "code",
   "execution_count": 2,
   "id": "0cb3d7d6",
   "metadata": {
    "collapsed": false,
    "editable": true
   },
   "outputs": [],
   "source": [
    "circuit.x(qreg[0]) #Applies a Pauli X gate to the first qubit in the quantum register\n",
    "circuit.draw()"
   ]
  },
  {
   "cell_type": "markdown",
   "id": "f319d73d",
   "metadata": {
    "editable": true
   },
   "source": [
    "and select  a qubit to measure and encode the results to a classical bit"
   ]
  },
  {
   "cell_type": "code",
   "execution_count": 3,
   "id": "794be823",
   "metadata": {
    "collapsed": false,
    "editable": true
   },
   "outputs": [],
   "source": [
    "#Measure the first qubit in the quantum register\n",
    "#and encode the results to the first qubit in the classical register\n",
    "circuit.measure(qreg[0],creg[0])\n",
    "circuit.draw()"
   ]
  },
  {
   "cell_type": "markdown",
   "id": "d5f43418",
   "metadata": {
    "editable": true
   },
   "source": [
    "Thereafter we execute the circuit"
   ]
  },
  {
   "cell_type": "code",
   "execution_count": 4,
   "id": "70e217f8",
   "metadata": {
    "collapsed": false,
    "editable": true
   },
   "outputs": [],
   "source": [
    "backend = qk.Aer.get_backend('qasm_simulator') \n",
    "#This is the device you want to use. It is an ideal simulation of a quantum device\n",
    "\n",
    "\n",
    "job = backend.run(circuit,shots=1000) #Run the circuit 1000 times\n",
    "result = job.result()\n",
    "counts = result.get_counts()\n",
    "print(counts)\n",
    "circuit.clear()\n",
    "circuit.draw()\n",
    "\n",
    "\n",
    "circuit.h(qreg[0]) #Apply a Hadamard gate to the first qubit of the quantum register\n",
    "circuit.measure(qreg,creg)\n",
    "print(circuit.draw())\n",
    "\n",
    "\n",
    "job = backend.run(circuit,shots=1000)\n",
    "result = job.result()\n",
    "counts = result.get_counts()\n",
    "print(counts)\n",
    "circuit.clear()"
   ]
  },
  {
   "cell_type": "markdown",
   "id": "c4c0d9c3",
   "metadata": {
    "editable": true
   },
   "source": [
    "Now we create a two-qubit circuit and set up a Bell state"
   ]
  },
  {
   "cell_type": "code",
   "execution_count": 5,
   "id": "94369d55",
   "metadata": {
    "collapsed": false,
    "editable": true
   },
   "outputs": [],
   "source": [
    "n_qubits = 2\n",
    "n_cbits = 2\n",
    "qreg = qk.QuantumRegister(n_qubits)\n",
    "creg = qk.ClassicalRegister(n_cbits)\n",
    "circuit = qk.QuantumCircuit(qreg,creg)\n",
    "circuit.draw()\n",
    "\n",
    "\n",
    "\n",
    "circuit.h(qreg[0])\n",
    "circuit.cx(qreg[0],qreg[1]) \n",
    "#This is a controlled operation. Apply a Pauli X gate to the second qubit (qreg[1]) if the first qubit (qreg[0])\n",
    "#is in the |1> state. Else do nothing\n",
    "\n",
    "circuit.draw()\n",
    "\n",
    "circuit.measure(qreg,creg)\n",
    "circuit.draw()"
   ]
  },
  {
   "cell_type": "code",
   "execution_count": 6,
   "id": "eb0e0f55",
   "metadata": {
    "collapsed": false,
    "editable": true
   },
   "outputs": [],
   "source": [
    "job = backend.run(circuit,shots=1000)\n",
    "result = job.result()\n",
    "counts = result.get_counts()\n",
    "print(counts)\n",
    "circuit.clear()"
   ]
  },
  {
   "cell_type": "markdown",
   "id": "897cd866",
   "metadata": {
    "editable": true
   },
   "source": [
    "We apply a rotation to a qubit"
   ]
  },
  {
   "cell_type": "code",
   "execution_count": 7,
   "id": "c3d9884a",
   "metadata": {
    "collapsed": false,
    "editable": true
   },
   "outputs": [],
   "source": [
    "theta = np.pi/3\n",
    "circuit.rx(theta, qreg[0]) #R_x(theta) rotation on the first qubit (qreg[0])\n",
    "circuit.measure(qreg,creg)\n",
    "print(circuit.draw())\n",
    "job = backend.run(circuit,shots=1000)\n",
    "result = job.result()\n",
    "counts = result.get_counts()\n",
    "circuit.clear()\n",
    "print(counts)"
   ]
  },
  {
   "cell_type": "markdown",
   "id": "759f88e2",
   "metadata": {
    "editable": true
   },
   "source": [
    "Now we want to find the lowest eigenvalue of $$ H = c_1 Z_0 + c_2 Z_1 + c_3 X_0 Y_1 $$ \n",
    "We will use $$<\\psi|H|\\psi> = c_1<\\psi|Z_0|\\psi> + c_2<\\psi|Z_1|\\psi> + c_3<\\psi|X_0Y_1|\\psi> $$"
   ]
  },
  {
   "cell_type": "code",
   "execution_count": 8,
   "id": "2379f52b",
   "metadata": {
    "collapsed": false,
    "editable": true
   },
   "outputs": [],
   "source": [
    "I = np.eye(2)\n",
    "X = np.array([[0,1],[1,0]])\n",
    "Y = np.array([[0,-1j],[1j,0]])\n",
    "Z = np.array([[1,0],[0,-1]])\n",
    "H = np.kron(Z,I) + np.kron(I,Z) + np.kron(X,Y)\n",
    "eigvals,eigvecs = np.linalg.eigh(H)\n",
    "print(eigvals[0])\n",
    "\n",
    "\n",
    "\n",
    "c_1 = 1\n",
    "c_2 = 1\n",
    "c_3 = 1\n",
    "\n",
    "h_1 = [c_1,[0],['z']]\n",
    "h_2 = [c_2,[1],['z']]\n",
    "h_3 = [c_3,[0,1],['x','y']]\n",
    "H = [h_1,h_2,h_3]\n",
    "H\n",
    "\n",
    "\n",
    "\n",
    "H[0]"
   ]
  },
  {
   "cell_type": "markdown",
   "id": "6f49a1fe",
   "metadata": {
    "editable": true
   },
   "source": [
    "We create the ansatz"
   ]
  },
  {
   "cell_type": "code",
   "execution_count": 9,
   "id": "7174f674",
   "metadata": {
    "collapsed": false,
    "editable": true
   },
   "outputs": [],
   "source": [
    "def ansatz(theta,n_qubits):\n",
    "    qreg = qk.QuantumRegister(n_qubits)\n",
    "    circuit = qk.QuantumCircuit(qreg)\n",
    "    for i in range(n_qubits):\n",
    "        circuit.ry(theta[i],qreg[i])\n",
    "    for i in range(n_qubits-1):\n",
    "        circuit.cx(qreg[i],qreg[i+1])\n",
    "    return(circuit)\n",
    "qreg = qk.QuantumRegister(n_qubits)\n",
    "circuit = qk.QuantumCircuit(qreg)\n",
    "circuit.h(qreg[:2])\n",
    "print('Before ansatz')\n",
    "print(circuit.draw())\n",
    "theta = np.random.randn(2)\n",
    "n_qubits = 2\n",
    "circuit = circuit.compose(ansatz(theta,n_qubits))\n",
    "print('After ansatz')\n",
    "circuit.draw()"
   ]
  },
  {
   "cell_type": "markdown",
   "id": "e7ba0972",
   "metadata": {
    "editable": true
   },
   "source": [
    "Now we change measurement basis"
   ]
  },
  {
   "cell_type": "code",
   "execution_count": 10,
   "id": "400d9441",
   "metadata": {
    "collapsed": false,
    "editable": true
   },
   "outputs": [],
   "source": [
    "def basis_change(h_i,n_qubits):\n",
    "    qreg = qk.QuantumRegister(n_qubits)\n",
    "    circuit = qk.QuantumCircuit(qreg)\n",
    "    \n",
    "    for qubit,operator in zip(h_i[1],h_i[2]):\n",
    "        if operator == 'x':\n",
    "            circuit.h(qreg[qubit])\n",
    "        if operator == 'y':\n",
    "            circuit.sdg(qreg[qubit])\n",
    "            circuit.h(qreg[qubit])\n",
    "    return(circuit)\n",
    "n_qubits = 2\n",
    "qreg = qk.QuantumRegister(n_qubits)\n",
    "circuit = qk.QuantumCircuit(qreg)\n",
    "theta = np.random.randn(n_qubits)\n",
    "circuit = circuit.compose(ansatz(theta,n_qubits))\n",
    "print('Ansatz circuit')\n",
    "circuit.draw()\n",
    "circuit = circuit.compose(basis_change(H[2],n_qubits))\n",
    "print('After basis transformation:')\n",
    "print(circuit.draw())"
   ]
  },
  {
   "cell_type": "markdown",
   "id": "81de41a4",
   "metadata": {
    "editable": true
   },
   "source": [
    "Get energy for given rotational parameters $theta$"
   ]
  },
  {
   "cell_type": "code",
   "execution_count": 11,
   "id": "5d74a13f",
   "metadata": {
    "collapsed": false,
    "editable": true
   },
   "outputs": [],
   "source": [
    "def get_energy(theta):\n",
    "    n_qubits = 2\n",
    "    qreg = qk.QuantumRegister(n_qubits)\n",
    "    circuit = qk.QuantumCircuit(qreg)\n",
    "    circuit = circuit.compose(ansatz(theta,n_qubits))\n",
    "    circuit_list = []\n",
    "    for idx,h_i in enumerate(H):\n",
    "        basis_change_circuit = basis_change(h_i,n_qubits)\n",
    "        new_circuit = circuit.compose(basis_change_circuit)\n",
    "        creg = qk.ClassicalRegister(len(h_i[1]))\n",
    "        new_circuit.add_register(creg)\n",
    "        new_circuit.measure(qreg[h_i[1]],creg)\n",
    "        circuit_list.append(new_circuit)\n",
    "    shots = 10000\n",
    "    job = backend.run(circuit_list,shots=shots)\n",
    "    E = np.zeros(len(circuit_list))\n",
    "    for i in range(len(circuit_list)):\n",
    "        result = job.result()\n",
    "        counts = result.get_counts(i)\n",
    "        for key,value in counts.items():\n",
    "            e = 1\n",
    "            for bit in key:\n",
    "                if bit == '0':\n",
    "                    e *= 1\n",
    "                if bit == '1':\n",
    "                    e *= -1\n",
    "            E[i] += e*value\n",
    "        E[i] *= H[i][0]\n",
    "    E /= shots\n",
    "    return(np.sum(E))\n",
    "\n",
    "theta = np.random.randn(2)\n",
    "get_energy(theta)"
   ]
  },
  {
   "cell_type": "markdown",
   "id": "342a93c8",
   "metadata": {
    "editable": true
   },
   "source": [
    "Minimize energy with Scipy"
   ]
  },
  {
   "cell_type": "code",
   "execution_count": 12,
   "id": "fd3faffb",
   "metadata": {
    "collapsed": false,
    "editable": true
   },
   "outputs": [],
   "source": [
    "theta = np.random.randn(2)\n",
    "res = minimize(get_energy, theta, method='Powell',tol=1e-12)\n",
    "get_energy(res.x)"
   ]
  },
  {
   "cell_type": "markdown",
   "id": "4256a39b",
   "metadata": {
    "editable": true
   },
   "source": [
    "We define  a more flexible ansatz"
   ]
  },
  {
   "cell_type": "code",
   "execution_count": 13,
   "id": "f9001410",
   "metadata": {
    "collapsed": false,
    "editable": true
   },
   "outputs": [],
   "source": [
    "def ansatz(theta,n_qubits):\n",
    "    qreg = qk.QuantumRegister(n_qubits)\n",
    "    circuit = qk.QuantumCircuit(qreg)\n",
    "    idx = 0\n",
    "    for i in range(n_qubits):\n",
    "        circuit.ry(theta[idx],qreg[i])\n",
    "        idx += 1\n",
    "    for i in range(n_qubits-1):\n",
    "        circuit.cx(qreg[i],qreg[i+1])\n",
    "    for i in range(n_qubits):\n",
    "        circuit.rx(theta[idx],qreg[i])\n",
    "        idx += 1\n",
    "    for i in range(n_qubits-1):\n",
    "        circuit.cx(qreg[i],qreg[i+1])\n",
    "    return(circuit)\n",
    "theta = np.random.randn(4)\n",
    "res = minimize(get_energy, theta, method='Powell',tol=1e-16)\n",
    "get_energy(res.x)"
   ]
  },
  {
   "cell_type": "markdown",
   "id": "b2f6aaa7",
   "metadata": {
    "editable": true
   },
   "source": [
    "Minimize energy with gradient descent $$ \\frac{\\partial E (\\theta_1,\\dots,\\theta_i,\\dots,\\theta_p)}{\\partial \\theta_i} = \\frac{E(\\theta_1,\\dots,\\theta_i + \\pi/2,\\dots, \\theta_p) - E(\\theta_1,\\dots, \\theta_i - \\pi/2,\\dots, \\theta_p}{2} $$"
   ]
  },
  {
   "cell_type": "code",
   "execution_count": 14,
   "id": "0147a232",
   "metadata": {
    "collapsed": false,
    "editable": true
   },
   "outputs": [],
   "source": [
    "epochs = 200\n",
    "theta = np.random.randn(4)\n",
    "for epoch in range(epochs):\n",
    "    print(epoch,get_energy(theta))\n",
    "    grad = np.zeros_like(theta)\n",
    "    for idx in range(theta.shape[0]):\n",
    "        theta_temp = theta.copy()\n",
    "        theta_temp[idx] += np.pi/2\n",
    "        E_plus = get_energy(theta_temp)\n",
    "        theta_temp[idx] -= np.pi\n",
    "        E_minus = get_energy(theta_temp)\n",
    "        grad[idx] = (E_plus - E_minus)/2\n",
    "    theta -= 0.1*grad"
   ]
  },
  {
   "cell_type": "markdown",
   "id": "45eefcbf",
   "metadata": {
    "editable": true
   },
   "source": [
    "## Lipkin model"
   ]
  },
  {
   "cell_type": "code",
   "execution_count": 15,
   "id": "39460c01",
   "metadata": {
    "collapsed": false,
    "editable": true
   },
   "outputs": [],
   "source": [
    "%matplotlib inline\n",
    "\n",
    "import numpy as np\n",
    "import qiskit\n",
    "from qiskit.visualization import circuit_drawer\n",
    "from qiskit.quantum_info import Statevector\n",
    "from matplotlib.pyplot import figure\n",
    "from qiskit import QuantumRegister, QuantumCircuit, ClassicalRegister, Aer, assemble\n",
    "from qiskit.providers.aer.noise import NoiseModel\n",
    "import pylatexenc\n",
    "from qiskit.algorithms import VQE\n",
    "from qiskit.utils import QuantumInstance\n",
    "from qiskit.opflow import X, Z, I, Y\n",
    "from qiskit.circuit import Parameter\n",
    "from qiskit.algorithms.optimizers import ADAM\n",
    "from qiskit.opflow import AerPauliExpectation\n",
    "from qiskit import IBMQ\n",
    "import cmath\n",
    "import pandas as pd\n",
    "from scipy.sparse import diags\n",
    "import numpy.linalg as LA\n",
    "import matplotlib.pyplot as plt\n",
    "from IPython.display import Image\n",
    "import warnings\n",
    "warnings.filterwarnings('ignore')\n",
    "pi=np.pi"
   ]
  },
  {
   "cell_type": "markdown",
   "id": "3ed785d4",
   "metadata": {
    "editable": true
   },
   "source": [
    "### Lipkin Model\n",
    "\n",
    "The Lipkin Model (LM) was introduced by H. Lipkin, N. Meshkov, and A. Glick in 1965. The model considers two levels above and bellow the fermi level to which they are assigned an index of $\\sigma_{\\pm}$ each with degeneracy $\\Omega$ over which fermions are distributed. Using the language of second quantunization representation, the LM"
   ]
  },
  {
   "cell_type": "markdown",
   "id": "8f6c49a0",
   "metadata": {
    "editable": true
   },
   "source": [
    "<!-- Equation labels as ordinary links -->\n",
    "<div id=\"_auto1\"></div>\n",
    "\n",
    "$$\n",
    "\\begin{equation}\n",
    "     \\hat{H}_{LM} = \\frac{1}{2}\\epsilon\\sum_{m\\sigma}a^{\\dagger}_{m\\sigma}a_{m\\sigma} -\\frac{1}{2}V\\sum_{mm'\\sigma}a^{\\dagger}_{m\\sigma}a^{\\dagger}_{m'\\sigma}a_{m'-\\sigma}a_{m-\\sigma},\n",
    "\\label{_auto1} \\tag{1}\n",
    "\\end{equation}\n",
    "$$"
   ]
  },
  {
   "cell_type": "markdown",
   "id": "962a6c7c",
   "metadata": {
    "editable": true
   },
   "source": [
    "where $\\epsilon$ is the energy of the level, $V$ is the interaction\n",
    "strength, and $m=1,\\cdots,\\Omega$. The first term is a one-body\n",
    "interaction which counts the number of nucleons in the level. Where\n",
    "the second term is a two-body interaction that destroys and created\n",
    "nucleons up and down a level. One can introduce the quasi-spin\n",
    "operators defined as"
   ]
  },
  {
   "cell_type": "markdown",
   "id": "b0edc5bb",
   "metadata": {
    "editable": true
   },
   "source": [
    "<!-- Equation labels as ordinary links -->\n",
    "<div id=\"_auto2\"></div>\n",
    "\n",
    "$$\n",
    "\\begin{equation}\n",
    "     \\begin{split}\n",
    "         \\hat{K}_0 &= \\frac{1}{2}\\sum_{m=1}^{\\Omega}(a^{\\dagger}_{m+}a_{m+}-a^{\\dagger}_{m-}a_{m-})\\\\ \n",
    "         \\hat{K}_+ & = \\sum_{m=1}^{\\Omega}a^{\\dagger}_{m+}a_{m-}\\\\\n",
    "         \\hat{K}_- & = (\\hat{K}_+)^\\dagger.\n",
    "     \\end{split}\n",
    "\\label{_auto2} \\tag{2}\n",
    "\\end{equation}\n",
    "$$"
   ]
  },
  {
   "cell_type": "markdown",
   "id": "8d7801f7",
   "metadata": {
    "editable": true
   },
   "source": [
    "These operators have the following SU(2) angular momentum commutation relation"
   ]
  },
  {
   "cell_type": "markdown",
   "id": "8a7f3ed7",
   "metadata": {
    "editable": true
   },
   "source": [
    "<!-- Equation labels as ordinary links -->\n",
    "<div id=\"_auto3\"></div>\n",
    "\n",
    "$$\n",
    "\\begin{equation}\n",
    "     [\\hat{K}_+,\\hat{K}_-] =2\\hat{K}_0, \\hspace{1cm} [\\hat{K}_0,\\hat{K}_{\\pm}]=\\pm\\hat{K}_{\\pm}.\n",
    "\\label{_auto3} \\tag{3}\n",
    "\\end{equation}\n",
    "$$"
   ]
  },
  {
   "cell_type": "markdown",
   "id": "55ebe2d4",
   "metadata": {
    "editable": true
   },
   "source": [
    "The LM Hammiltonian can be written using the quasi-spin operators as such"
   ]
  },
  {
   "cell_type": "markdown",
   "id": "7e0a29cc",
   "metadata": {
    "editable": true
   },
   "source": [
    "<!-- Equation labels as ordinary links -->\n",
    "<div id=\"_auto4\"></div>\n",
    "\n",
    "$$\n",
    "\\begin{equation}\n",
    "     \\hat{H}_{LM} = \\epsilon\\hat{K}_0 -\\frac{1}{2}V(\\hat{K}_+\\hat{K}_++\\hat{K}_-\\hat{K}_-).\n",
    "\\label{_auto4} \\tag{4}\n",
    "\\end{equation}\n",
    "$$"
   ]
  },
  {
   "cell_type": "markdown",
   "id": "3ee4802d",
   "metadata": {
    "editable": true
   },
   "source": [
    "The quasi-spin operators act like lowering and raising angular momentum operators, as such they have these given properties"
   ]
  },
  {
   "cell_type": "markdown",
   "id": "77c8168f",
   "metadata": {
    "editable": true
   },
   "source": [
    "<!-- Equation labels as ordinary links -->\n",
    "<div id=\"_auto5\"></div>\n",
    "\n",
    "$$\n",
    "\\begin{equation}\n",
    "\\hat{K}_0|KK_0\\rangle = K_0|KK_0\\rangle\n",
    "\\label{_auto5} \\tag{5}\n",
    "\\end{equation}\n",
    "$$"
   ]
  },
  {
   "cell_type": "markdown",
   "id": "1d3c498b",
   "metadata": {
    "editable": true
   },
   "source": [
    "<!-- Equation labels as ordinary links -->\n",
    "<div id=\"_auto6\"></div>\n",
    "\n",
    "$$\n",
    "\\begin{equation}\n",
    "    \\hat{K}_{\\pm}|KK_0\\rangle =\\sqrt{K(K+1)-K_0(K_0\\pm 1)}|KK_0+1\\rangle,\n",
    "\\label{_auto6} \\tag{6}\n",
    "\\end{equation}\n",
    "$$"
   ]
  },
  {
   "cell_type": "markdown",
   "id": "b0edf95e",
   "metadata": {
    "editable": true
   },
   "source": [
    "With these properties we can calculate the LM Hamiltonian matrix"
   ]
  },
  {
   "cell_type": "markdown",
   "id": "945fc1c3",
   "metadata": {
    "editable": true
   },
   "source": [
    "<!-- Equation labels as ordinary links -->\n",
    "<div id=\"_auto7\"></div>\n",
    "\n",
    "$$\n",
    "\\begin{equation}\n",
    "\\langle KK_0|H_{LM}|KK_0'\\rangle,\n",
    "\\label{_auto7} \\tag{7}\n",
    "\\end{equation}\n",
    "$$"
   ]
  },
  {
   "cell_type": "markdown",
   "id": "6a78bc72",
   "metadata": {
    "editable": true
   },
   "source": [
    "where the non-zero elements are given by"
   ]
  },
  {
   "cell_type": "markdown",
   "id": "d5df5b3e",
   "metadata": {
    "editable": true
   },
   "source": [
    "<!-- Equation labels as ordinary links -->\n",
    "<div id=\"_auto8\"></div>\n",
    "\n",
    "$$\n",
    "\\begin{equation}\n",
    "\\begin{split}\n",
    "    \\langle KK_0|H_{LM}|KK_0'\\rangle & = \\epsilon K_0\\\\\n",
    "     \\langle KK_0|H_{LM}|KK_0'\\pm 2\\rangle & = \\langle KK_0\\pm 2|H_{LM}|KK_0'\\rangle \\\\\n",
    "     &= -\\frac{1}{2}VC,\n",
    "\\end{split}\n",
    "\\label{_auto8} \\tag{8}\n",
    "\\end{equation}\n",
    "$$"
   ]
  },
  {
   "cell_type": "markdown",
   "id": "1953a6bf",
   "metadata": {
    "editable": true
   },
   "source": [
    "where C is the Clebsch-Gordan Coefficients one gets when $K_{\\pm}^2$ operates on the state $|KK_0\\rangle$.\n",
    "Using equation (8) one can calculate the exact solution to the Lipkin Model for any $\\Omega$.\n",
    "\n",
    "The collective space of the Hamiltonian is $\\Omega+1=3$, and is given by"
   ]
  },
  {
   "cell_type": "markdown",
   "id": "61628830",
   "metadata": {
    "editable": true
   },
   "source": [
    "<!-- Equation labels as ordinary links -->\n",
    "<div id=\"_auto9\"></div>\n",
    "\n",
    "$$\n",
    "\\begin{equation}\n",
    "\\begin{pmatrix}-\\epsilon & 0 & -V\\\\\n",
    " 0&0&0\\\\\n",
    " -V&0&\\epsilon\n",
    "\\end{pmatrix}\n",
    "\\label{_auto9} \\tag{9}\n",
    "\\end{equation}\n",
    "$$"
   ]
  },
  {
   "cell_type": "code",
   "execution_count": 16,
   "id": "c8b17495",
   "metadata": {
    "collapsed": false,
    "editable": true
   },
   "outputs": [],
   "source": [
    "#function that sorts eigenvalues with its eigenvectors in accending order\n",
    "def eigen(A):\n",
    "    eigenValues, eigenVectors = LA.eig(A)\n",
    "    idx = np.argsort(eigenValues)\n",
    "    eigenValues = eigenValues[idx]\n",
    "    eigenVectors = eigenVectors[:,idx]\n",
    "    return (eigenValues, eigenVectors) \n",
    "\n",
    "#one body expectation value\n",
    "def one_body(E,N):\n",
    "  k = N/2\n",
    "  m = np.arange(-k,k+1,1) # Since the collective space is Omega+1\n",
    "  return E*np.diag(m) #return a matrix where its diagonal elemens are epsilon*K_0\n",
    "\n",
    "#two body expectation value\n",
    "def two_body(V,N):\n",
    "  k = N/2\n",
    "  m = np.arange(-k,k+1,1)\n",
    "  left =np.zeros(len(m)-2,dtype=complex)\n",
    "  right = np.zeros(len(m)-2,dtype=complex)\n",
    "  diag = np.zeros(len(m),dtype=complex)\n",
    "  for i in range(len(left)):\n",
    "    CG = cmath.sqrt(k*(k+1)-(m[i]+2)*(m[i]+1))*cmath.sqrt(k*(k+1)-m[i]*(m[i]+1)) #calculate Clebsch-Gordan Coefficients \n",
    "    left[i] = CG\n",
    "    right[i] = CG\n",
    "  k = [left,diag,right]\n",
    "  offset = [-2,0,2]\n",
    "  return -0.5*V*diags(k,offset).toarray() #return a matrix where its off digonal elements are (1/2)V(K^2_+ + K^2_-)\n",
    "\n",
    "#full expectation value\n",
    "def quasi_spin(E,V,N):\n",
    "  ob = one_body(E,N)\n",
    "  tb = two_body(V,N)\n",
    "  H = ob+tb \n",
    "  e,v = eigen(H) # find the eigenvalues of the Hamiltonian\n",
    "  return e,H\n",
    "\n",
    "#converts chi to V\n",
    "def Vp(E,omega,chi):\n",
    "  return (chi*E)/(omega-1)"
   ]
  },
  {
   "cell_type": "code",
   "execution_count": 17,
   "id": "05bb9f1f",
   "metadata": {
    "collapsed": false,
    "editable": true
   },
   "outputs": [],
   "source": [
    "#parameters\n",
    "E = 1\n",
    "chi = np.arange(0,2.1,0.1)\n",
    "omega = 2\n",
    "\n",
    "EV0 = []\n",
    "EV1 = []\n",
    "EV2 = []\n",
    "Ham = []\n",
    "for i in chi:\n",
    "  v = Vp(E,omega,i)\n",
    "  EigenV,H = quasi_spin(E,v,omega) #return eigenvalues and Hamiltonian\n",
    "  Ham.append(H)\n",
    "  EV0.append(EigenV[0])\n",
    "  EV1.append(EigenV[1])\n",
    "  EV2.append(EigenV[2])"
   ]
  },
  {
   "cell_type": "code",
   "execution_count": 18,
   "id": "a3e8e567",
   "metadata": {
    "collapsed": false,
    "editable": true
   },
   "outputs": [],
   "source": [
    "matrix = pd.DataFrame(Ham[5].real)\n",
    "print('Hamiltonian matrix')\n",
    "matrix.head()"
   ]
  },
  {
   "cell_type": "code",
   "execution_count": 19,
   "id": "9e23c137",
   "metadata": {
    "collapsed": false,
    "editable": true
   },
   "outputs": [],
   "source": [
    "plt.plot(chi,EV0)\n",
    "plt.plot(chi,EV1)\n",
    "plt.plot(chi,EV2)\n",
    "plt.xlabel('$\\chi$')\n",
    "plt.ylabel('Energy')\n",
    "plt.title('$\\Omega=2$ exact Lipkin Model')"
   ]
  },
  {
   "cell_type": "markdown",
   "id": "d3a3cb9a",
   "metadata": {
    "editable": true
   },
   "source": [
    "### Hartree Fock\n",
    "\n",
    "A variational method in quantum mechanics, starts with the Schrodinger equation where one minimizes the energy for a given trail wave function $|\\psi\\rangle$."
   ]
  },
  {
   "cell_type": "markdown",
   "id": "d0fa092a",
   "metadata": {
    "editable": true
   },
   "source": [
    "<!-- Equation labels as ordinary links -->\n",
    "<div id=\"_auto10\"></div>\n",
    "\n",
    "$$\n",
    "\\begin{equation}\n",
    "\\delta\\frac{\\langle\\psi |\\hat{H}|\\psi\\rangle}{\\langle\\psi|\\psi\\rangle}=0\n",
    "\\label{_auto10} \\tag{10}\n",
    "\\end{equation}\n",
    "$$"
   ]
  },
  {
   "cell_type": "markdown",
   "id": "38d728aa",
   "metadata": {
    "editable": true
   },
   "source": [
    "The Hartree Fock (HF) method is a variational method that assumes that\n",
    "the exact N-body wavefunction of the system can be approimated by a\n",
    "single Slater determinant, where energy of the system is minimized and\n",
    "the trial wave function is the particle number conserving coherent\n",
    "product state. The SU(2) coherent states map a two-dimensional sphere\n",
    "known as the bloch sphere onto the complex plane,"
   ]
  },
  {
   "cell_type": "markdown",
   "id": "0134027a",
   "metadata": {
    "editable": true
   },
   "source": [
    "<!-- Equation labels as ordinary links -->\n",
    "<div id=\"_auto11\"></div>\n",
    "\n",
    "$$\n",
    "\\begin{equation}\n",
    "\\tau = tan\\frac{\\theta}{2}e^{-i\\phi}\n",
    "\\label{_auto11} \\tag{11}\n",
    "\\end{equation}\n",
    "$$"
   ]
  },
  {
   "cell_type": "markdown",
   "id": "c1233139",
   "metadata": {
    "editable": true
   },
   "source": [
    "where the normalized coherent SU(2) state can be written in the language of LM:"
   ]
  },
  {
   "cell_type": "markdown",
   "id": "c2c2c1aa",
   "metadata": {
    "editable": true
   },
   "source": [
    "<!-- Equation labels as ordinary links -->\n",
    "<div id=\"_auto12\"></div>\n",
    "\n",
    "$$\n",
    "\\begin{equation}\n",
    "|\\tau\\rangle = \\frac{1}{(1+|\\tau|^2)^{\\Omega/2}}e^{\\tau\\hat{K}_+}|\\frac{\\Omega}{2},-\\frac{\\Omega}{2}\\rangle,\n",
    "\\label{_auto12} \\tag{12}\n",
    "\\end{equation}\n",
    "$$"
   ]
  },
  {
   "cell_type": "markdown",
   "id": "18c06a61",
   "metadata": {
    "editable": true
   },
   "source": [
    "The $E_{g.s}$ of the LM given HF coherent states is:"
   ]
  },
  {
   "cell_type": "markdown",
   "id": "d5d33437",
   "metadata": {
    "editable": true
   },
   "source": [
    "<!-- Equation labels as ordinary links -->\n",
    "<div id=\"_auto13\"></div>\n",
    "\n",
    "$$\n",
    "\\begin{equation}\n",
    "E(\\tau) = \\langle \\tau|\\hat{H}_{LM}|\\tau\\rangle.\n",
    "\\label{_auto13} \\tag{13}\n",
    "\\end{equation}\n",
    "$$"
   ]
  },
  {
   "cell_type": "markdown",
   "id": "dfbe20e9",
   "metadata": {
    "editable": true
   },
   "source": [
    "To calculate equation the last euation, we use generating functions for:"
   ]
  },
  {
   "cell_type": "markdown",
   "id": "48f4cc9d",
   "metadata": {
    "editable": true
   },
   "source": [
    "<!-- Equation labels as ordinary links -->\n",
    "<div id=\"_auto14\"></div>\n",
    "\n",
    "$$\n",
    "\\begin{equation}\n",
    "\\begin{split}\n",
    "\\langle \\tau|\\hat{K}_{0}|\\tau\\rangle &= \\frac{1}{2}\\Omega\\frac{|\\tau|^2-1}{\\tau|^2+1}\\\\\n",
    "\\langle \\tau|\\hat{K}_{\\pm}^2|\\tau\\rangle &= \\Omega\\frac{\\tau^*}{|\\tau|^2+1}\n",
    "\\end{split}\n",
    "\\label{_auto14} \\tag{14}\n",
    "\\end{equation}\n",
    "$$"
   ]
  },
  {
   "cell_type": "markdown",
   "id": "bfdb71ca",
   "metadata": {
    "editable": true
   },
   "source": [
    "Then using the definition of $\\tau$ in equation (10) we can write down the energy:"
   ]
  },
  {
   "cell_type": "markdown",
   "id": "1ef5b6b1",
   "metadata": {
    "editable": true
   },
   "source": [
    "<!-- Equation labels as ordinary links -->\n",
    "<div id=\"_auto15\"></div>\n",
    "\n",
    "$$\n",
    "\\begin{equation}\n",
    "E(\\tau) = -\\frac{\\epsilon}{2}\\Omega(cos\\theta+\\frac{\\chi}{2}sin^2\\theta cos2\\phi),\n",
    "\\label{_auto15} \\tag{15}\n",
    "\\end{equation}\n",
    "$$"
   ]
  },
  {
   "cell_type": "markdown",
   "id": "52d2d5de",
   "metadata": {
    "editable": true
   },
   "source": [
    "where $\\chi=\\frac{V}{\\epsilon}(\\Omega-1)$. Minimizing $E(\\tau)$ with respect to $\\theta,\\phi$, we obtain the ground state Hartree Fock energy"
   ]
  },
  {
   "cell_type": "markdown",
   "id": "2928df13",
   "metadata": {
    "editable": true
   },
   "source": [
    "<!-- Equation labels as ordinary links -->\n",
    "<div id=\"_auto16\"></div>\n",
    "\n",
    "$$\n",
    "\\begin{equation}\n",
    "\\begin{split}\n",
    "E_{HF}  = -\\frac{\\Omega}{2}\\epsilon &\\hspace{1cm} \\chi<1\\\\\n",
    "E_{HF}  = -\\frac{\\Omega}{4}\\epsilon(\\chi+\\frac{1}{\\chi}) &\\hspace{1cm} \\chi\\ge 1\n",
    "\\end{split}\n",
    "\\label{_auto16} \\tag{16}\n",
    "\\end{equation}\n",
    "$$"
   ]
  },
  {
   "cell_type": "code",
   "execution_count": 20,
   "id": "43f0c6d6",
   "metadata": {
    "collapsed": false,
    "editable": true
   },
   "outputs": [],
   "source": [
    "def E_HF(x,E,omega):\n",
    "  if x < 1:\n",
    "    EHF = -(omega/2)*E\n",
    "  elif x >= 1:\n",
    "    EHF = -(omega/4)*E*(x+(1/x))\n",
    "  return EHF"
   ]
  },
  {
   "cell_type": "code",
   "execution_count": 21,
   "id": "ca8b31b6",
   "metadata": {
    "collapsed": false,
    "editable": true
   },
   "outputs": [],
   "source": [
    "epsilon = 1\n",
    "Omega = 2\n",
    "\n",
    "HF = []\n",
    "exact = []\n",
    "for x in chi:\n",
    "    HF.append(E_HF(x,epsilon,omega).real)\n",
    "    v = Vp(epsilon,omega,x)\n",
    "    e,h = quasi_spin(epsilon,v,omega)\n",
    "    exact.append(e[0].real)"
   ]
  },
  {
   "cell_type": "code",
   "execution_count": 22,
   "id": "fe6aafc2",
   "metadata": {
    "collapsed": false,
    "editable": true
   },
   "outputs": [],
   "source": [
    "plt.plot(chi,HF,label='HF')\n",
    "plt.plot(chi,exact,label='exact')\n",
    "plt.xlabel('$\\chi$')\n",
    "plt.ylabel('Energy')\n",
    "plt.axvline(1, color = 'k', linestyle='--')\n",
    "plt.title('$\\Omega=2$ exact Lipkin Model')\n",
    "plt.legend(bbox_to_anchor=(1.05, 1))"
   ]
  },
  {
   "cell_type": "markdown",
   "id": "858464a4",
   "metadata": {
    "editable": true
   },
   "source": [
    "### Quantum Circuit\n",
    "\n",
    "To solve the LM on a quantum computer we have to solve Schrodinger's equation."
   ]
  },
  {
   "cell_type": "markdown",
   "id": "49254deb",
   "metadata": {
    "editable": true
   },
   "source": [
    "<!-- Equation labels as ordinary links -->\n",
    "<div id=\"_auto17\"></div>\n",
    "\n",
    "$$\n",
    "\\begin{equation}\n",
    "H|\\psi(\\tilde{\\theta})\\rangle = E|\\psi(\\tilde{\\theta})\\rangle\\\\\n",
    "\\label{_auto17} \\tag{17}\n",
    "\\end{equation}\n",
    "$$"
   ]
  },
  {
   "cell_type": "markdown",
   "id": "bdbcaa74",
   "metadata": {
    "editable": true
   },
   "source": [
    "We map the creation and annihilation operators to Pauli operators Z, X, Y using the Jordan-Wigner transformation. The Hamiltonian then takes the form of"
   ]
  },
  {
   "cell_type": "markdown",
   "id": "17629cb8",
   "metadata": {
    "editable": true
   },
   "source": [
    "<!-- Equation labels as ordinary links -->\n",
    "<div id=\"_auto18\"></div>\n",
    "\n",
    "$$\n",
    "\\begin{equation}\n",
    "H = \\frac{\\epsilon}{2}(Z_1+Z_1) - \\frac{V}{2}(X_1X_2 - Y_1Y_2),\n",
    "\\label{_auto18} \\tag{18}\n",
    "\\end{equation}\n",
    "$$"
   ]
  },
  {
   "cell_type": "markdown",
   "id": "896d5e9e",
   "metadata": {
    "editable": true
   },
   "source": [
    "where the Pauli operators are the measurement basis which the quantum\n",
    "circuit is measured in. However, before measuring, we first have to\n",
    "prepare the initial state $|\\psi(\\tilde{\\theta})\\rangle$ for\n",
    "$\\Omega=2$ of the LM circuit"
   ]
  },
  {
   "cell_type": "markdown",
   "id": "8c19c4cf",
   "metadata": {
    "editable": true
   },
   "source": [
    "$$\n",
    "\\begin{equation}\n",
    "|\\psi(\\tilde{\\theta})\\rangle = cos(\\tilde{\\theta})|00\\rangle+sin(\\tilde{\\theta})|11\\rangle,\n",
    "end{equation}\n",
    "$$"
   ]
  },
  {
   "cell_type": "markdown",
   "id": "b215fd5d",
   "metadata": {
    "editable": true
   },
   "source": [
    "where $|00\\rangle =|\\uparrow\\uparrow\\rangle$, $|11\\rangle=|\\downarrow\\downarrow\\rangle$, and $\\tilde{\\theta}=\\theta-\\frac{\\pi}{2}$. \n",
    "\n",
    "This type of problem resides in the pantheon of variational methods\n",
    "where we minimize $\\tilde{\\theta}$. This problem was coded using IBM's\n",
    "python library Qiskit. Since this is a variational problem, the use of\n",
    "Qiskit's Variational Quantum Eigensolver (VQE) was used to find the\n",
    "optimal $\\tilde{\\theta}$ that minimizes\n",
    "$\\langle\\psi(\\tilde{\\theta})|H|\\psi(\\tilde{\\theta})\\rangle$."
   ]
  },
  {
   "cell_type": "code",
   "execution_count": 23,
   "id": "98fdd61d",
   "metadata": {
    "collapsed": false,
    "editable": true
   },
   "outputs": [],
   "source": [
    "def LM_circuit():\n",
    "    theta = Parameter('theta')\n",
    "    QC = QuantumCircuit(2)\n",
    "    QC.ry(2*(theta-np.pi/2),0)\n",
    "    QC.cnot(0,1)\n",
    "    return QC"
   ]
  },
  {
   "cell_type": "code",
   "execution_count": 24,
   "id": "45bd04b0",
   "metadata": {
    "collapsed": false,
    "editable": true
   },
   "outputs": [],
   "source": [
    "QC = LM_circuit()\n",
    "QC.draw(output='mpl')"
   ]
  },
  {
   "cell_type": "markdown",
   "id": "d8af79bf",
   "metadata": {
    "editable": true
   },
   "source": [
    "### VQE method 1\n",
    "\n",
    "For this method, we will be using Qiskit's VQE function, where we specifiy \n",
    "* Quantum circuit\n",
    "\n",
    "a. Optimizer\n",
    "\n",
    "b. Quantum instance (i.e. which backend). Here we will be using the \"qasm_simulator\" \n",
    "\n",
    "c. Initial point (i.e. $\\theta$ search space)\n",
    "\n",
    "d. Hamiltonian/measurement basis\n",
    "\n",
    "To define the Hamiltonian, we will use qiskit Pauli operator functions\n",
    "I,Z,X,Y.  In this method, for a given $\\chi$, we will do a search over\n",
    "$\\theta$ from $-\\frac{\\pi}{2}$ to $\\frac{\\pi}{2}$ and picking out the\n",
    "minimum energy value"
   ]
  },
  {
   "cell_type": "code",
   "execution_count": 25,
   "id": "4931c05f",
   "metadata": {
    "collapsed": false,
    "editable": true
   },
   "outputs": [],
   "source": [
    "#sim1 min example\n",
    "sim = Aer.get_backend('qasm_simulator')\n",
    "adam =qiskit.algorithms.optimizers.ADAM(maxiter=10000) #optimizer for VQE\n",
    "epsilon = 1\n",
    "omega = 2\n",
    "chi2 = [0.5,1]\n",
    "\n",
    "t = np.arange(-pi/2,pi/2,0.05) #0.1 step size finishs pretty fast\n",
    "energy = []\n",
    "for x in chi2:\n",
    "    ev = []\n",
    "    v = Vp(epsilon,omega,x)\n",
    "    for i in range(len(t)):\n",
    "        H = 0.5 * epsilon * ( Z ^ I ) +             0.5 * epsilon * ( I ^ Z ) -             0.5 * v * ( X ^ X ) +             0.5 * v * ( Y ^ Y )\n",
    "\n",
    "        vqe = VQE(ansatz=LM_circuit(),optimizer=adam,initial_point=[t[i]],quantum_instance=sim,expectation=AerPauliExpectation())\n",
    "        result = vqe.compute_minimum_eigenvalue(H)\n",
    "        ev.append(result.eigenvalue)\n",
    "    energy.append(ev)\n",
    "\n",
    "\n",
    "plt.plot(t,energy[0],label='$\\chi=0.5$')\n",
    "plt.plot(t,energy[1],label='$\\chi=1$')\n",
    "\n",
    "plt.xlabel('$\\\\theta$')\n",
    "plt.ylabel('Ground State Energy')\n",
    "plt.title('$E_{g.s}$ vs. $\\\\theta$')\n",
    "plt.legend()"
   ]
  },
  {
   "cell_type": "code",
   "execution_count": 26,
   "id": "4b663169",
   "metadata": {
    "collapsed": false,
    "editable": true
   },
   "outputs": [],
   "source": [
    "epsilon = 1\n",
    "omega = 2\n",
    "chi3 = np.arange(0,2.1,0.1)\n",
    "t = np.arange(-pi/2,pi/2,0.1)\n",
    "adam =qiskit.algorithms.optimizers.ADAM(maxiter=10000)\n",
    "LM_sim = []\n",
    "for x in chi3:\n",
    "    v = Vp(epsilon,omega,x)\n",
    "    ev = []\n",
    "    for i in range(len(t)):\n",
    "        H = 0.5 * epsilon * ( Z ^ I ) +            0.5 * epsilon * ( I ^ Z ) -            0.5 * v * ( X ^ X ) +            0.5 * v * ( Y ^ Y )\n",
    "    \n",
    "        vqe = VQE(ansatz=LM_circuit(),optimizer=adam,initial_point=[t[i]],quantum_instance=sim,expectation=AerPauliExpectation())\n",
    "        result = vqe.compute_minimum_eigenvalue(H)\n",
    "\n",
    "        ev.append(result.eigenvalue)\n",
    "    LM_sim.append(min(ev))\n",
    "\n",
    "plt.plot(chi,np.array(exact),label='$E_{exact}$',color='b')\n",
    "plt.plot(chi,np.array(HF),label='$E_{HF}$',color='g')\n",
    "plt.scatter(chi3,LM_sim,label='QC sim',color='cyan')\n",
    "plt.axvline(1, color = 'k', linestyle='--')\n",
    "plt.ylabel('$E_{g.s}$')\n",
    "plt.xlabel('$\\chi$')\n",
    "plt.title(f'$\\Omega=2$')\n",
    "plt.legend()"
   ]
  },
  {
   "cell_type": "markdown",
   "id": "8762c578",
   "metadata": {
    "editable": true
   },
   "source": [
    "Here we will be running the same code, but with a noise model of IBM Quantum Computer Manila.\n",
    "Note this code takes a lot longer to run, so maybe reduce range of $\\chi$ and $t$ i.e. $\\theta$."
   ]
  },
  {
   "cell_type": "code",
   "execution_count": 27,
   "id": "e888c5cf",
   "metadata": {
    "collapsed": false,
    "editable": true
   },
   "outputs": [],
   "source": [
    "IBMQ.load_account()\n",
    "provider = IBMQ.get_provider()\n",
    "IBMQC=provider.get_backend('ibmq_manila')\n",
    "noise_model = NoiseModel.from_backend(IBMQC)\n",
    "qi = QuantumInstance(backend=sim, noise_model=noise_model)\n",
    "\n",
    "epsilon = 1\n",
    "omega = 2\n",
    "chi4 = np.arange(0,2.1,0.1)\n",
    "t = np.arange(-pi/2,pi/2,0.1)\n",
    "adam =qiskit.algorithms.optimizers.ADAM(maxiter=10000)\n",
    "LM_sim_noise = []\n",
    "for x in chi3:\n",
    "    v = Vp(epsilon,omega,x)\n",
    "    ev = []\n",
    "    for i in range(len(t)):\n",
    "        H = 0.5 * epsilon * ( Z ^ I ) +            0.5 * epsilon * ( I ^ Z ) -            0.5 * v * ( X ^ X ) +            0.5 * v * ( Y ^ Y )\n",
    "    \n",
    "        vqe = VQE(ansatz=LM_circuit(),optimizer=adam,initial_point=[t[i]],quantum_instance=qi,expectation=AerPauliExpectation())\n",
    "        result = vqe.compute_minimum_eigenvalue(H)\n",
    "\n",
    "        ev.append(result.eigenvalue)\n",
    "    LM_sim_noise.append(min(ev))\n",
    "\n",
    "\n",
    "plt.plot(chi,np.array(exact),label='$E_{exact}$',color='b')\n",
    "plt.plot(chi,np.array(HF),label='$E_{HF}$',color='g')\n",
    "plt.scatter(chi3,LM_sim,label='QC sim',color='cyan')\n",
    "plt.scatter(chi4,LM_sim_noise,label='QC sim with noise',color='r')\n",
    "plt.axvline(1, color = 'k', linestyle='--')\n",
    "plt.ylabel('$E_{g.s}$')\n",
    "plt.xlabel('$\\chi$')\n",
    "plt.title(f'$\\Omega=2$')\n",
    "plt.legend()"
   ]
  },
  {
   "cell_type": "markdown",
   "id": "3c23ff8f",
   "metadata": {
    "editable": true
   },
   "source": [
    "### VQE method 2\n",
    "\n",
    "For this method, we will be using Qiskit's VQE function, where we specifiy \n",
    "1. Quantum circuit\n",
    "\n",
    "2. Optimizer\n",
    "\n",
    "3. Quantum instance (i.e. which backend). Here we will be using the \"statevector_simulator\" \n",
    "\n",
    "4. Hamiltonian/measurement basis"
   ]
  },
  {
   "cell_type": "code",
   "execution_count": 28,
   "id": "5567ef21",
   "metadata": {
    "collapsed": false,
    "editable": true
   },
   "outputs": [],
   "source": [
    "epsilon = 1\n",
    "omega = 2\n",
    "chi5 = np.arange(0,2.1,0.1)\n",
    "adam =qiskit.algorithms.optimizers.ADAM(maxiter=10000)\n",
    "LM_sim = []\n",
    "for x in chi5:\n",
    "    v = Vp(epsilon,omega,x)\n",
    "    \n",
    "    H = 0.5 * epsilon * ( Z ^ I ) +        0.5 * epsilon * ( I ^ Z ) -        0.5 * v * ( X ^ X ) +        0.5 * v * ( Y ^ Y )\n",
    "    \n",
    "    vqe = VQE(ansatz=LM_circuit(),optimizer=adam,quantum_instance=vec,expectation=AerPauliExpectation())\n",
    "    result = vqe.compute_minimum_eigenvalue(H)\n",
    "    LM_sim.append(result.eigenvalue)\n",
    "\n",
    "\n",
    "plt.plot(chi,np.array(exact),label='$E_{exact}$',color='b')\n",
    "plt.plot(chi,np.array(HF),label='$E_{HF}$',color='g')\n",
    "plt.scatter(chi5,LM_sim,label='QC state vec',color='cyan')\n",
    "plt.axvline(1, color = 'k', linestyle='--')\n",
    "plt.ylabel('$E_{g.s}$')\n",
    "plt.xlabel('$\\chi$')\n",
    "plt.title('$\\Omega=2$')\n",
    "plt.legend()"
   ]
  },
  {
   "cell_type": "markdown",
   "id": "2a116b74",
   "metadata": {
    "editable": true
   },
   "source": [
    "One thing to note is that method 2 only works for simulation. Where\n",
    "method 1 can work using IBM quantum computers. However, method 2 does\n",
    "run faster then method 1."
   ]
  }
 ],
 "metadata": {},
 "nbformat": 4,
 "nbformat_minor": 5
}
