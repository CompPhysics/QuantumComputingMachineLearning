{
 "cells": [
  {
   "cell_type": "markdown",
   "id": "19dc3d4a",
   "metadata": {
    "editable": true
   },
   "source": [
    "<!-- HTML file automatically generated from DocOnce source (https://github.com/doconce/doconce/)\n",
    "doconce format html week7.do.txt --no_mako -->\n",
    "<!-- dom:TITLE: March 6-10, 2023: Quantum Computing, Quantum Machine Learning and Quantum Information Theories -->"
   ]
  },
  {
   "cell_type": "markdown",
   "id": "a9b4fe99",
   "metadata": {
    "editable": true
   },
   "source": [
    "# March 6-10, 2023: Quantum Computing, Quantum Machine Learning and Quantum Information Theories\n",
    "**Morten Hjorth-Jensen**, Department of Physics, University of Oslo and Department of Physics and Astronomy and National Superconducting Cyclotron Laboratory, Michigan State University\n",
    "\n",
    "Date: **Jan 19, 2023**\n",
    "\n",
    "Copyright 1999-2023, Morten Hjorth-Jensen. Released under CC Attribution-NonCommercial 4.0 license"
   ]
  },
  {
   "cell_type": "markdown",
   "id": "cf73f125",
   "metadata": {
    "editable": true
   },
   "source": [
    "## Algorithms for solving quantum mechanical problems\n",
    "\n",
    "1. Phase estimation algorithm\n",
    "\n",
    "2. VQE, Variational Quantum Eigensolver\n",
    "\n",
    "3. Selected Hamiltonians"
   ]
  }
 ],
 "metadata": {},
 "nbformat": 4,
 "nbformat_minor": 5
}
