{
 "cells": [
  {
   "cell_type": "markdown",
   "id": "5f30c4fb",
   "metadata": {
    "editable": true
   },
   "source": [
    "<!-- HTML file automatically generated from DocOnce source (https://github.com/doconce/doconce/)\n",
    "doconce format html week7.do.txt --no_mako -->\n",
    "<!-- dom:TITLE: March 6-10, 2023: Quantum Computing, Quantum Machine Learning and Quantum Information Theories -->"
   ]
  },
  {
   "cell_type": "markdown",
   "id": "4fcbf7f6",
   "metadata": {
    "editable": true
   },
   "source": [
    "# March 6-10, 2023: Quantum Computing, Quantum Machine Learning and Quantum Information Theories\n",
    "**Morten Hjorth-Jensen**, Department of Physics, University of Oslo and Department of Physics and Astronomy and Facility for Rare Isotope Beams, Michigan State University\n",
    "\n",
    "Date: **March 6-10**"
   ]
  },
  {
   "cell_type": "markdown",
   "id": "1529a4b5",
   "metadata": {
    "editable": true
   },
   "source": [
    "## Algorithms for solving quantum mechanical problems, quantum gates and circuits\n",
    "\n",
    "1. Introduction to [Qiskit](https://qiskit.org/)\n",
    "\n",
    "2. Defining one-, two- and three-qubit gates\n",
    "\n",
    "3. Setting up quantum circuits and simple algorithms\n",
    "\n",
    "4. VQE, Variational Quantum Eigensolver\n",
    "\n",
    "5. Selected Hamiltonians"
   ]
  }
 ],
 "metadata": {},
 "nbformat": 4,
 "nbformat_minor": 5
}
