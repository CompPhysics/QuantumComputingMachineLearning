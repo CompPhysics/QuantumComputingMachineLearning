{
 "cells": [
  {
   "cell_type": "markdown",
   "id": "40539593",
   "metadata": {
    "editable": true
   },
   "source": [
    "<!-- HTML file automatically generated from DocOnce source (https://github.com/doconce/doconce/)\n",
    "doconce format html week7.do.txt --no_mako -->\n",
    "<!-- dom:TITLE: March 6-10, 2023: Quantum Computing, Quantum Machine Learning and Quantum Information Theories -->"
   ]
  },
  {
   "cell_type": "markdown",
   "id": "69c48d90",
   "metadata": {
    "editable": true
   },
   "source": [
    "# March 6-10, 2023: Quantum Computing, Quantum Machine Learning and Quantum Information Theories\n",
    "**Morten Hjorth-Jensen**, Department of Physics, University of Oslo and Department of Physics and Astronomy and Facility for Rare Isotope Beams, Michigan State University\n",
    "\n",
    "Date: **March 6-10**"
   ]
  },
  {
   "cell_type": "markdown",
   "id": "3e5c2c38",
   "metadata": {
    "editable": true
   },
   "source": [
    "## Algorithms for solving quantum mechanical problems, quantum gates and circuits\n",
    "\n",
    "1. Introduction to [Qiskit](https://qiskit.org/)\n",
    "\n",
    "2. Defining one-, two- and three-qubit gates\n",
    "\n",
    "3. Setting up quantum circuits and simple algorithms\n",
    "\n",
    "* [Video of lecture](https://youtu.be/uf9xwcl2IEE)"
   ]
  },
  {
   "cell_type": "markdown",
   "id": "bb65b3d4",
   "metadata": {
    "editable": true
   },
   "source": [
    "## Quantum gates, reminder from last week"
   ]
  },
  {
   "cell_type": "markdown",
   "id": "81cc623f",
   "metadata": {
    "editable": true
   },
   "source": [
    "## Introduction to [Qiskit](https://qiskit.org/)"
   ]
  },
  {
   "cell_type": "code",
   "execution_count": 1,
   "id": "afe39de7",
   "metadata": {
    "collapsed": false,
    "editable": true
   },
   "outputs": [],
   "source": [
    "#!/usr/bin/env python\n",
    "# coding: utf-8\n",
    "import numpy as np\n",
    "import qiskit as qk\n",
    "from scipy.optimize import minimize\n",
    "\n",
    "\n",
    "# # Initialize registers and circuit\n",
    "\n",
    "n_qubits = 1 #Number of qubits\n",
    "n_cbits = 1 #Number of classical bits (the number of qubits you want to measure at the end of the circuit)\n",
    "qreg = qk.QuantumRegister(n_qubits) #Create a quantum register\n",
    "creg = qk.ClassicalRegister(n_cbits) #Create a classical register\n",
    "circuit = qk.QuantumCircuit(qreg,creg) #Create your quantum circuit\n",
    "\n",
    "\n",
    "circuit.draw() #Draw circuit. It is empty"
   ]
  },
  {
   "cell_type": "markdown",
   "id": "37e242e9",
   "metadata": {
    "editable": true
   },
   "source": [
    "Thereafter we perform operations on qubit"
   ]
  },
  {
   "cell_type": "code",
   "execution_count": 2,
   "id": "7f191fbb",
   "metadata": {
    "collapsed": false,
    "editable": true
   },
   "outputs": [],
   "source": [
    "circuit.x(qreg[0]) #Applies a Pauli X gate to the first qubit in the quantum register\n",
    "circuit.draw()"
   ]
  },
  {
   "cell_type": "markdown",
   "id": "f3851e19",
   "metadata": {
    "editable": true
   },
   "source": [
    "and select  a qubit to measure and encode the results to a classical bit"
   ]
  },
  {
   "cell_type": "code",
   "execution_count": 3,
   "id": "793e908b",
   "metadata": {
    "collapsed": false,
    "editable": true
   },
   "outputs": [],
   "source": [
    "#Measure the first qubit in the quantum register\n",
    "#and encode the results to the first qubit in the classical register\n",
    "circuit.measure(qreg[0],creg[0])\n",
    "circuit.draw()"
   ]
  },
  {
   "cell_type": "markdown",
   "id": "95b1bae7",
   "metadata": {
    "editable": true
   },
   "source": [
    "Thereafter we execute the circuit"
   ]
  },
  {
   "cell_type": "code",
   "execution_count": 4,
   "id": "bb353aa3",
   "metadata": {
    "collapsed": false,
    "editable": true
   },
   "outputs": [],
   "source": [
    "backend = qk.Aer.get_backend('qasm_simulator') \n",
    "#This is the device you want to use. It is an ideal simulation of a quantum device\n",
    "\n",
    "\n",
    "job = backend.run(circuit,shots=1000) #Run the circuit 1000 times\n",
    "result = job.result()\n",
    "counts = result.get_counts()\n",
    "print(counts)\n",
    "circuit.clear()\n",
    "circuit.draw()\n",
    "\n",
    "\n",
    "circuit.h(qreg[0]) #Apply a Hadamard gate to the first qubit of the quantum register\n",
    "circuit.measure(qreg,creg)\n",
    "print(circuit.draw())\n",
    "\n",
    "\n",
    "job = backend.run(circuit,shots=1000)\n",
    "result = job.result()\n",
    "counts = result.get_counts()\n",
    "print(counts)\n",
    "circuit.clear()"
   ]
  },
  {
   "cell_type": "markdown",
   "id": "47f1d1b1",
   "metadata": {
    "editable": true
   },
   "source": [
    "Now we create a two-qubit circuit and set up a Bell state"
   ]
  },
  {
   "cell_type": "code",
   "execution_count": 5,
   "id": "1bff0f02",
   "metadata": {
    "collapsed": false,
    "editable": true
   },
   "outputs": [],
   "source": [
    "n_qubits = 2\n",
    "n_cbits = 2\n",
    "qreg = qk.QuantumRegister(n_qubits)\n",
    "creg = qk.ClassicalRegister(n_cbits)\n",
    "circuit = qk.QuantumCircuit(qreg,creg)\n",
    "circuit.draw()\n",
    "\n",
    "\n",
    "\n",
    "circuit.h(qreg[0])\n",
    "circuit.cx(qreg[0],qreg[1]) \n",
    "#This is a controlled operation. Apply a Pauli X gate to the second qubit (qreg[1]) if the first qubit (qreg[0])\n",
    "#is in the |1> state. Else do nothing\n",
    "\n",
    "circuit.draw()\n",
    "\n",
    "circuit.measure(qreg,creg)\n",
    "circuit.draw()"
   ]
  },
  {
   "cell_type": "code",
   "execution_count": 6,
   "id": "0fb1fd5b",
   "metadata": {
    "collapsed": false,
    "editable": true
   },
   "outputs": [],
   "source": [
    "job = backend.run(circuit,shots=1000)\n",
    "result = job.result()\n",
    "counts = result.get_counts()\n",
    "print(counts)\n",
    "circuit.clear()"
   ]
  },
  {
   "cell_type": "markdown",
   "id": "5c69d94d",
   "metadata": {
    "editable": true
   },
   "source": [
    "We apply a rotation to a qubit"
   ]
  },
  {
   "cell_type": "code",
   "execution_count": 7,
   "id": "41fc5596",
   "metadata": {
    "collapsed": false,
    "editable": true
   },
   "outputs": [],
   "source": [
    "theta = np.pi/3\n",
    "circuit.rx(theta, qreg[0]) #R_x(theta) rotation on the first qubit (qreg[0])\n",
    "circuit.measure(qreg,creg)\n",
    "print(circuit.draw())\n",
    "job = backend.run(circuit,shots=1000)\n",
    "result = job.result()\n",
    "counts = result.get_counts()\n",
    "circuit.clear()\n",
    "print(counts)"
   ]
  },
  {
   "cell_type": "markdown",
   "id": "e4491455",
   "metadata": {
    "editable": true
   },
   "source": [
    "Now we want to find the lowest eigenvalue of $$ H = c_1 Z_0 + c_2 Z_1 + c_3 X_0 Y_1 $$ \n",
    "We will use $$<\\psi|H|\\psi> = c_1<\\psi|Z_0|\\psi> + c_2<\\psi|Z_1|\\psi> + c_3<\\psi|X_0Y_1|\\psi> $$"
   ]
  },
  {
   "cell_type": "code",
   "execution_count": 8,
   "id": "d8ceadcc",
   "metadata": {
    "collapsed": false,
    "editable": true
   },
   "outputs": [],
   "source": [
    "I = np.eye(2)\n",
    "X = np.array([[0,1],[1,0]])\n",
    "Y = np.array([[0,-1j],[1j,0]])\n",
    "Z = np.array([[1,0],[0,-1]])\n",
    "H = np.kron(Z,I) + np.kron(I,Z) + np.kron(X,Y)\n",
    "eigvals,eigvecs = np.linalg.eigh(H)\n",
    "print(eigvals[0])\n",
    "\n",
    "\n",
    "\n",
    "c_1 = 1\n",
    "c_2 = 1\n",
    "c_3 = 1\n",
    "\n",
    "h_1 = [c_1,[0],['z']]\n",
    "h_2 = [c_2,[1],['z']]\n",
    "h_3 = [c_3,[0,1],['x','y']]\n",
    "H = [h_1,h_2,h_3]\n",
    "H\n",
    "\n",
    "\n",
    "\n",
    "H[0]"
   ]
  },
  {
   "cell_type": "markdown",
   "id": "30550c7d",
   "metadata": {
    "editable": true
   },
   "source": [
    "We create the ansatz"
   ]
  },
  {
   "cell_type": "code",
   "execution_count": 9,
   "id": "1d61a8fa",
   "metadata": {
    "collapsed": false,
    "editable": true
   },
   "outputs": [],
   "source": [
    "def ansatz(theta,n_qubits):\n",
    "    qreg = qk.QuantumRegister(n_qubits)\n",
    "    circuit = qk.QuantumCircuit(qreg)\n",
    "    for i in range(n_qubits):\n",
    "        circuit.ry(theta[i],qreg[i])\n",
    "    for i in range(n_qubits-1):\n",
    "        circuit.cx(qreg[i],qreg[i+1])\n",
    "    return(circuit)\n",
    "qreg = qk.QuantumRegister(n_qubits)\n",
    "circuit = qk.QuantumCircuit(qreg)\n",
    "circuit.h(qreg[:2])\n",
    "print('Before ansatz')\n",
    "print(circuit.draw())\n",
    "theta = np.random.randn(2)\n",
    "n_qubits = 2\n",
    "circuit = circuit.compose(ansatz(theta,n_qubits))\n",
    "print('After ansatz')\n",
    "circuit.draw()"
   ]
  },
  {
   "cell_type": "markdown",
   "id": "21bd41bb",
   "metadata": {
    "editable": true
   },
   "source": [
    "Now we change measurement basis"
   ]
  },
  {
   "cell_type": "code",
   "execution_count": 10,
   "id": "7812f147",
   "metadata": {
    "collapsed": false,
    "editable": true
   },
   "outputs": [],
   "source": [
    "def basis_change(h_i,n_qubits):\n",
    "    qreg = qk.QuantumRegister(n_qubits)\n",
    "    circuit = qk.QuantumCircuit(qreg)\n",
    "    \n",
    "    for qubit,operator in zip(h_i[1],h_i[2]):\n",
    "        if operator == 'x':\n",
    "            circuit.h(qreg[qubit])\n",
    "        if operator == 'y':\n",
    "            circuit.sdg(qreg[qubit])\n",
    "            circuit.h(qreg[qubit])\n",
    "    return(circuit)\n",
    "n_qubits = 2\n",
    "qreg = qk.QuantumRegister(n_qubits)\n",
    "circuit = qk.QuantumCircuit(qreg)\n",
    "theta = np.random.randn(n_qubits)\n",
    "circuit = circuit.compose(ansatz(theta,n_qubits))\n",
    "print('Ansatz circuit')\n",
    "circuit.draw()\n",
    "circuit = circuit.compose(basis_change(H[2],n_qubits))\n",
    "print('After basis transformation:')\n",
    "print(circuit.draw())"
   ]
  },
  {
   "cell_type": "markdown",
   "id": "bc32c08d",
   "metadata": {
    "editable": true
   },
   "source": [
    "Get energy for given rotational parameters $theta$"
   ]
  },
  {
   "cell_type": "code",
   "execution_count": 11,
   "id": "992870b3",
   "metadata": {
    "collapsed": false,
    "editable": true
   },
   "outputs": [],
   "source": [
    "def get_energy(theta):\n",
    "    n_qubits = 2\n",
    "    qreg = qk.QuantumRegister(n_qubits)\n",
    "    circuit = qk.QuantumCircuit(qreg)\n",
    "    circuit = circuit.compose(ansatz(theta,n_qubits))\n",
    "    circuit_list = []\n",
    "    for idx,h_i in enumerate(H):\n",
    "        basis_change_circuit = basis_change(h_i,n_qubits)\n",
    "        new_circuit = circuit.compose(basis_change_circuit)\n",
    "        creg = qk.ClassicalRegister(len(h_i[1]))\n",
    "        new_circuit.add_register(creg)\n",
    "        new_circuit.measure(qreg[h_i[1]],creg)\n",
    "        circuit_list.append(new_circuit)\n",
    "    shots = 10000\n",
    "    job = backend.run(circuit_list,shots=shots)\n",
    "    E = np.zeros(len(circuit_list))\n",
    "    for i in range(len(circuit_list)):\n",
    "        result = job.result()\n",
    "        counts = result.get_counts(i)\n",
    "        for key,value in counts.items():\n",
    "            e = 1\n",
    "            for bit in key:\n",
    "                if bit == '0':\n",
    "                    e *= 1\n",
    "                if bit == '1':\n",
    "                    e *= -1\n",
    "            E[i] += e*value\n",
    "        E[i] *= H[i][0]\n",
    "    E /= shots\n",
    "    return(np.sum(E))\n",
    "\n",
    "theta = np.random.randn(2)\n",
    "get_energy(theta)"
   ]
  },
  {
   "cell_type": "markdown",
   "id": "41d3c350",
   "metadata": {
    "editable": true
   },
   "source": [
    "Minimize energy with Scipy"
   ]
  },
  {
   "cell_type": "code",
   "execution_count": 12,
   "id": "33751659",
   "metadata": {
    "collapsed": false,
    "editable": true
   },
   "outputs": [],
   "source": [
    "theta = np.random.randn(2)\n",
    "res = minimize(get_energy, theta, method='Powell',tol=1e-12)\n",
    "get_energy(res.x)"
   ]
  },
  {
   "cell_type": "markdown",
   "id": "72d4c4a1",
   "metadata": {
    "editable": true
   },
   "source": [
    "We define  a more flexible ansatz"
   ]
  },
  {
   "cell_type": "code",
   "execution_count": 13,
   "id": "1384753a",
   "metadata": {
    "collapsed": false,
    "editable": true
   },
   "outputs": [],
   "source": [
    "def ansatz(theta,n_qubits):\n",
    "    qreg = qk.QuantumRegister(n_qubits)\n",
    "    circuit = qk.QuantumCircuit(qreg)\n",
    "    idx = 0\n",
    "    for i in range(n_qubits):\n",
    "        circuit.ry(theta[idx],qreg[i])\n",
    "        idx += 1\n",
    "    for i in range(n_qubits-1):\n",
    "        circuit.cx(qreg[i],qreg[i+1])\n",
    "    for i in range(n_qubits):\n",
    "        circuit.rx(theta[idx],qreg[i])\n",
    "        idx += 1\n",
    "    for i in range(n_qubits-1):\n",
    "        circuit.cx(qreg[i],qreg[i+1])\n",
    "    return(circuit)\n",
    "theta = np.random.randn(4)\n",
    "res = minimize(get_energy, theta, method='Powell',tol=1e-16)\n",
    "get_energy(res.x)"
   ]
  },
  {
   "cell_type": "markdown",
   "id": "acc3bedb",
   "metadata": {
    "editable": true
   },
   "source": [
    "Minimize energy with gradient descent $$ \\frac{\\partial E (\\theta_1,\\dots,\\theta_i,\\dots,\\theta_p)}{\\partial \\theta_i} = \\frac{E(\\theta_1,\\dots,\\theta_i + \\pi/2,\\dots, \\theta_p) - E(\\theta_1,\\dots, \\theta_i - \\pi/2,\\dots, \\theta_p}{2} $$"
   ]
  },
  {
   "cell_type": "code",
   "execution_count": 14,
   "id": "587d2d02",
   "metadata": {
    "collapsed": false,
    "editable": true
   },
   "outputs": [],
   "source": [
    "epochs = 200\n",
    "theta = np.random.randn(4)\n",
    "for epoch in range(epochs):\n",
    "    print(epoch,get_energy(theta))\n",
    "    grad = np.zeros_like(theta)\n",
    "    for idx in range(theta.shape[0]):\n",
    "        theta_temp = theta.copy()\n",
    "        theta_temp[idx] += np.pi/2\n",
    "        E_plus = get_energy(theta_temp)\n",
    "        theta_temp[idx] -= np.pi\n",
    "        E_minus = get_energy(theta_temp)\n",
    "        grad[idx] = (E_plus - E_minus)/2\n",
    "    theta -= 0.1*grad"
   ]
  }
 ],
 "metadata": {},
 "nbformat": 4,
 "nbformat_minor": 5
}
