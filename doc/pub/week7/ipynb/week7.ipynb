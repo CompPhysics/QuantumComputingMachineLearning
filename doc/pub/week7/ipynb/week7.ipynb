{
 "cells": [
  {
   "cell_type": "markdown",
   "id": "e0f20009",
   "metadata": {
    "editable": true
   },
   "source": [
    "<!-- HTML file automatically generated from DocOnce source (https://github.com/doconce/doconce/)\n",
    "doconce format html week7.do.txt --no_mako -->\n",
    "<!-- dom:TITLE: February 26-March, 2024: Quantum Computing, Quantum Machine Learning and Quantum Information Theories -->"
   ]
  },
  {
   "cell_type": "markdown",
   "id": "e33086f0",
   "metadata": {
    "editable": true
   },
   "source": [
    "# February 26-March, 2024: Quantum Computing, Quantum Machine Learning and Quantum Information Theories\n",
    "**Morten Hjorth-Jensen**, Department of Physics, University of Oslo and Department of Physics and Astronomy and Facility for Rare Isotope Beams, Michigan State University\n",
    "\n",
    "Date: **February 28**"
   ]
  },
  {
   "cell_type": "markdown",
   "id": "4156cd72",
   "metadata": {
    "editable": true
   },
   "source": [
    "## Plans for the week of February 26-March 1\n",
    "\n",
    "1. Reminder on basics of the VQE method and how to perform measurements for the simpler one- and two-qubit Hamiltonians\n",
    "\n",
    "2. Simulating efficiently Hamiltonians on quantum computers with the VQE method and gradient descent to optimize the state function ansatz\n",
    "\n",
    "3. Work on project 1\n",
    "\n",
    "4. [Reading suggestion, VQE review article](https://www.sciencedirect.com/science/article/pii/S0370157322003118?via%3Dihub)"
   ]
  },
  {
   "cell_type": "markdown",
   "id": "895fb353",
   "metadata": {
    "editable": true
   },
   "source": [
    "## Meet the VQE\n",
    "\n",
    "The Variational quantum eigensolver (VQE) is a hybrid quantum-classical\n",
    "algorithm that finds the smallest eigenvalue (and corresponding\n",
    "eigenvector) of a given Hamiltonian. One of the main applications of\n",
    "the algorithm is finding ground state energy of quantum mechanical systems.\n",
    "It has a\n",
    "big advantage over the quantum phase estimation (QPE) algorithms, that also can be used\n",
    "for finding the ground state energy of a molecule."
   ]
  },
  {
   "cell_type": "markdown",
   "id": "4ff874f0",
   "metadata": {
    "editable": true
   },
   "source": [
    "## Main advantage\n",
    "The main advantage\n",
    "is that VQE uses much smaller circuit depths (or gates) than\n",
    "QPE, what is very important for NISQ (Noisy Intermediate-Scale\n",
    "Quantum) era quantum computation. In the NISQ era (now!) we are\n",
    "working with qubits that are very noisy because they are not isolated\n",
    "from the environment well enough. Thus, there is small and finite time\n",
    "to work with qubits until they will be *spoiled*, because of the\n",
    "environment, imperfect gates and etc. This restriction gives a big\n",
    "advantage to those algorithms (like VQE) that are using small depth\n",
    "circuits."
   ]
  },
  {
   "cell_type": "markdown",
   "id": "1c2590b4",
   "metadata": {
    "editable": true
   },
   "source": [
    "## Basic idea\n",
    "\n",
    "The idea of the VQE algorithm is as follows. We have a Hamiltonian that can be expressed by the sum of tensor products of Pauli operators (Pauli terms):"
   ]
  },
  {
   "cell_type": "markdown",
   "id": "04a3d277",
   "metadata": {
    "editable": true
   },
   "source": [
    "$$\n",
    "H = 0.4 \\cdot IX + 0.6 \\cdot IZ + 0.8 \\cdot XY.\n",
    "$$"
   ]
  },
  {
   "cell_type": "markdown",
   "id": "023e7c27",
   "metadata": {
    "editable": true
   },
   "source": [
    "For a given $\\left| \\psi \\right\\rangle$ we want to measure the expectation value of the Hamiltonian:"
   ]
  },
  {
   "cell_type": "markdown",
   "id": "a9d48d60",
   "metadata": {
    "editable": true
   },
   "source": [
    "$$\n",
    "\\left\\langle H \\right\\rangle = \\left\\langle \\psi \\right| H \\left| \\psi \\right\\rangle = 0.4 \\cdot \\left\\langle \\psi \\right| IX \\left| \\psi \\right\\rangle + 0.6 \\cdot \\left\\langle \\psi \\right| IZ \\left| \\psi \\right\\rangle + 0.8 \\cdot \\left\\langle \\psi \\right| XY \\left| \\psi \\right\\rangle.\n",
    "$$"
   ]
  },
  {
   "cell_type": "markdown",
   "id": "08fdbf10",
   "metadata": {
    "editable": true
   },
   "source": [
    "## VQE and quantum circuits\n",
    "\n",
    "How one can see the $\\left\\langle H \\right\\rangle$ expectation value\n",
    "could be computed by adding the expectation values of its parts (Pauli\n",
    "terms). The algorithm does exactly that. It constructs a quantum\n",
    "circuit for each Pauli term and computes the expectation value of the\n",
    "corresponding Pauli term. Then, the algorithm sums all calculated\n",
    "expectation values of Pauli terms and obtains the expectation value of\n",
    "$H$. In this algorithm, we will do this routine of estimating the\n",
    "expectation value of $H$ over and over again for different trial\n",
    "wavefunctions (ansatz states) $\\left| \\psi \\right\\rangle$."
   ]
  },
  {
   "cell_type": "markdown",
   "id": "a0b72731",
   "metadata": {
    "editable": true
   },
   "source": [
    "## Varying paramters\n",
    "\n",
    "It is known that the eigenvector $\\left| \\psi_g \\right\\rangle$ that\n",
    "minimizes the expectation value $\\left\\langle H \\right\\rangle$\n",
    "corresponds to the eigenvector of $H$ that has the smallest\n",
    "eigenvalue. So, basically we can try all possible trial wavefunctions\n",
    "$\\left| \\psi \\right\\rangle$s to find the $\\left| \\psi_g \\right\\rangle$\n",
    "that has the smallest expectation value. Here the question is how we\n",
    "create those trial states?"
   ]
  },
  {
   "cell_type": "markdown",
   "id": "401b5afb",
   "metadata": {
    "editable": true
   },
   "source": [
    "## Constructing trial states\n",
    "\n",
    "In the algorithm, the trial states are\n",
    "created from a parametrized circuit. By changing the parameters one\n",
    "obtains different wavefunctions (ansatz states). If your circuit\n",
    "with its parameters is good enough you will have access to the\n",
    "subspace of the states that includes the $\\left| \\psi_g\n",
    "\\right\\rangle$. Otherwise, if the circuit will not have a possibility\n",
    "to generate our desired $\\left| \\psi_g \\right\\rangle$ it will be\n",
    "impossible to find the right solution."
   ]
  },
  {
   "cell_type": "markdown",
   "id": "2ec611ec",
   "metadata": {
    "editable": true
   },
   "source": [
    "## Hybrid opeations\n",
    "\n",
    "The parameters of the state preparation circuit are controlled by a\n",
    "classical computer. At each step, the classical computer will change\n",
    "the parameters by using some optimization method in order to create an\n",
    "ansatz state that will have a smaller expectation value then previous\n",
    "ansatz states had. This way the classical computer and the quantum\n",
    "computer are working together to archive the goal of the algorithm (to\n",
    "find the ground state energy). That's way, VQE is a quantum-classical\n",
    "hybrid algorithm."
   ]
  },
  {
   "cell_type": "markdown",
   "id": "f50eee63",
   "metadata": {
    "editable": true
   },
   "source": [
    "## Reminder on technicalities\n",
    "\n",
    "From our earlier discussions we know that the Pauli $Z$ matrix has the\n",
    "above basis states as eigen states through"
   ]
  },
  {
   "cell_type": "markdown",
   "id": "7894912e",
   "metadata": {
    "editable": true
   },
   "source": [
    "$$\n",
    "\\boldsymbol{Z}\\vert 0 \\rangle=+1\\vert 0 \\rangle,\n",
    "$$"
   ]
  },
  {
   "cell_type": "markdown",
   "id": "79275e82",
   "metadata": {
    "editable": true
   },
   "source": [
    "and"
   ]
  },
  {
   "cell_type": "markdown",
   "id": "596014e6",
   "metadata": {
    "editable": true
   },
   "source": [
    "$$\n",
    "\\boldsymbol{Z}\\vert 1 \\rangle=-1\\vert 1 \\rangle,\n",
    "$$"
   ]
  },
  {
   "cell_type": "markdown",
   "id": "b578ccb6",
   "metadata": {
    "editable": true
   },
   "source": [
    "with eigenvalue $-1$."
   ]
  },
  {
   "cell_type": "markdown",
   "id": "3ad756b7",
   "metadata": {
    "editable": true
   },
   "source": [
    "## Pauli $X$ reminder\n",
    "\n",
    "For the Pauli $X$ matrix on the other hand we have"
   ]
  },
  {
   "cell_type": "markdown",
   "id": "923ba9dc",
   "metadata": {
    "editable": true
   },
   "source": [
    "$$\n",
    "\\boldsymbol{X}\\vert 0 \\rangle=+1\\vert 1 \\rangle,\n",
    "$$"
   ]
  },
  {
   "cell_type": "markdown",
   "id": "ab47afb6",
   "metadata": {
    "editable": true
   },
   "source": [
    "and"
   ]
  },
  {
   "cell_type": "markdown",
   "id": "a0f15190",
   "metadata": {
    "editable": true
   },
   "source": [
    "$$\n",
    "\\boldsymbol{X}\\vert 1 \\rangle=-1\\vert 0 \\rangle,\n",
    "$$"
   ]
  },
  {
   "cell_type": "markdown",
   "id": "b718f0f8",
   "metadata": {
    "editable": true
   },
   "source": [
    "with eigenvalues $1$ in both cases. The latter two equations tell us\n",
    "that the computational basis we have chosen, and in which we will\n",
    "prepare our states, is not an eigenbasis of the $\\boldsymbol{X}$ matrix."
   ]
  },
  {
   "cell_type": "markdown",
   "id": "28405330",
   "metadata": {
    "editable": true
   },
   "source": [
    "## Rewriting the Pauli $X$ matrix\n",
    "\n",
    "We rewrite the Pauli $X$ matrix in terms of a Pauli\n",
    "$Z$ matrix using the Hadamard matrix\n",
    "twice, that is"
   ]
  },
  {
   "cell_type": "markdown",
   "id": "505ced5b",
   "metadata": {
    "editable": true
   },
   "source": [
    "$$\n",
    "\\boldsymbol{X}=\\boldsymbol{H}\\boldsymbol{Z}\\boldsymbol{H}.\n",
    "$$"
   ]
  },
  {
   "cell_type": "markdown",
   "id": "4ec4a721",
   "metadata": {
    "editable": true
   },
   "source": [
    "## The Pauli $Y$ matrix\n",
    "\n",
    "The Pauli $Y$ matrix can be written as"
   ]
  },
  {
   "cell_type": "markdown",
   "id": "39c399a8",
   "metadata": {
    "editable": true
   },
   "source": [
    "$$\n",
    "\\boldsymbol{Y}=\\boldsymbol{H}\\boldsymbol{S}^{\\dagger}\\boldsymbol{Z}\\boldsymbol{H}\\boldsymbol{S},\n",
    "$$"
   ]
  },
  {
   "cell_type": "markdown",
   "id": "f4529ffa",
   "metadata": {
    "editable": true
   },
   "source": [
    "where $S$ is the phase matrix"
   ]
  },
  {
   "cell_type": "markdown",
   "id": "a110e13e",
   "metadata": {
    "editable": true
   },
   "source": [
    "$$\n",
    "S = \\begin{bmatrix} 1 & 0 \\\\ 0 & \\imath \\end{bmatrix}.\n",
    "$$"
   ]
  },
  {
   "cell_type": "markdown",
   "id": "95ce418e",
   "metadata": {
    "editable": true
   },
   "source": [
    "## Rotations\n",
    "\n",
    "Another important set of gates are the **rotation operators** $R_x, R_y$ and $R_z$.\n",
    "By application to a qubit, we can reach any point on the Bloch sphere by usage of all three once. They are expressed as"
   ]
  },
  {
   "cell_type": "markdown",
   "id": "bd70a93d",
   "metadata": {
    "editable": true
   },
   "source": [
    "$$\n",
    "\\begin{align*}\n",
    "    \\begin{split}\n",
    "        R_x(\\theta) &= \\exp{-iX\\theta/2} = \\begin{bmatrix}\n",
    "            \\cos(\\theta/2) & -i\\sin(\\theta/2) \\\\\n",
    "            -i\\sin(\\theta/2) & \\cos(\\theta/2)\n",
    "        \\end{bmatrix}, \\\\\n",
    "        R_y(\\theta) &= \\exp{-iY\\theta/2} = \\begin{bmatrix}\n",
    "            \\cos(\\theta/2) & -\\sin(\\theta/2) \\\\\n",
    "            -\\sin(\\theta/2) & \\cos(\\theta/2)\n",
    "        \\end{bmatrix}, \\\\\n",
    "        R_z(\\theta) &= \\exp{-iZ\\theta/2} = \\begin{bmatrix}\n",
    "            \\exp{-i\\theta/2} & 0 \\\\\n",
    "            0 & \\exp{i\\theta/2}\n",
    "        \\end{bmatrix}\n",
    "    \\end{split}\n",
    "\\end{align*}\n",
    "$$"
   ]
  },
  {
   "cell_type": "markdown",
   "id": "c65c8a10",
   "metadata": {
    "editable": true
   },
   "source": [
    "with all having a period of $4\\pi$."
   ]
  },
  {
   "cell_type": "markdown",
   "id": "6bc4ef3b",
   "metadata": {
    "editable": true
   },
   "source": [
    "## Rayleigh-Ritz variational principle\n",
    "\n",
    "The Rayleigh-Ritz variational principle states that for a given\n",
    "Hamiltonian $H$, the expectation value of a trial state or\n",
    "just ansatz $\\vert \\psi \\rangle$ puts a lower bound on the ground state\n",
    "energy $E_0$."
   ]
  },
  {
   "cell_type": "markdown",
   "id": "ae97e4f4",
   "metadata": {
    "editable": true
   },
   "source": [
    "$$\n",
    "\\frac{\\langle \\psi \\vert H\\vert \\psi \\rangle}{\\langle \\psi \\vert \\psi \\rangle} \\geq E_0.\n",
    "$$"
   ]
  },
  {
   "cell_type": "markdown",
   "id": "65e24d0e",
   "metadata": {
    "editable": true
   },
   "source": [
    "## The ansatz\n",
    "\n",
    "The ansatz is typically chosen to be a parameterized superposition of\n",
    "basis states that can be varied to improve the energy estimate,\n",
    "$\\vert \\psi\\rangle \\equiv \\vert psi(\\boldsymbol{\\theta})\\rangle$ where\n",
    "$\\boldsymbol{\\theta} = (\\theta_1, \\ldots, \\theta_M)$ are the $M$\n",
    "optimization parameters."
   ]
  },
  {
   "cell_type": "markdown",
   "id": "2644da4b",
   "metadata": {
    "editable": true
   },
   "source": [
    "## Rotations again\n",
    "\n",
    "To have any flexibility in the\n",
    "ansatz $\\vert \\psi\\rangle$, we need to allow for parametrization. The most\n",
    "common approach is the so-called $R_y$ ansatz, where we apply chained\n",
    "operations of rotating around the $y$-axis by $\\boldsymbol{\\theta} =\n",
    "(\\theta_1,\\ldots,\\theta_Q)$ of the Bloch sphere and CNOT operations.\n",
    "\n",
    "Applications of $y$ rotations\n",
    "specifically ensures that our coefficients always remain real, which\n",
    "often is satisfactory when dealing with many-body systems."
   ]
  },
  {
   "cell_type": "markdown",
   "id": "5f2af038",
   "metadata": {
    "editable": true
   },
   "source": [
    "## Measurements and more\n",
    "\n",
    "After the ansatz has been constructed, the Hamiltonian must\n",
    "be applied. As discussed, the Hamiltonian must be written in terms of\n",
    "Pauli strings.\n",
    "\n",
    "To obtain the expectation value\n",
    "of the ground state energy, one can measure the expectation value of\n",
    "each Pauli string,"
   ]
  },
  {
   "cell_type": "markdown",
   "id": "b6300afb",
   "metadata": {
    "editable": true
   },
   "source": [
    "$$\n",
    "\\begin{align*}\n",
    "    E(\\boldsymbol{\\theta}) = \\sum_i w_i\\langle \\psi(\\boldsymbol{\\theta})\\vert P_i \\vert \\psi(\\boldsymbol{\\theta})\\rangle \\equiv \\sum_i w_i f_i,\n",
    "\\end{align*}\n",
    "$$"
   ]
  },
  {
   "cell_type": "markdown",
   "id": "307ffd97",
   "metadata": {
    "editable": true
   },
   "source": [
    "where $f_i$ is the expectation value of the Pauli string $i$."
   ]
  },
  {
   "cell_type": "markdown",
   "id": "b2e7671a",
   "metadata": {
    "editable": true
   },
   "source": [
    "## Collecting data\n",
    "\n",
    "This is estimated statistically by considering measurements in the\n",
    "appropriate basis of the operator in the Pauli string.\n",
    "\n",
    "With $N_0$ and $N_1$ as the number of $0$ and $1$ measurements respectively, we can estimate $f_i$ since"
   ]
  },
  {
   "cell_type": "markdown",
   "id": "ff305388",
   "metadata": {
    "editable": true
   },
   "source": [
    "$$\n",
    "\\begin{align*}\n",
    "    f_i = \\lim_{N \\to \\infty} \\frac{N_0 - N_1}{N},\n",
    "\\end{align*}\n",
    "$$"
   ]
  },
  {
   "cell_type": "markdown",
   "id": "d4133394",
   "metadata": {
    "editable": true
   },
   "source": [
    "where $N$ as the number of shots (measurements).\n",
    "\n",
    "Each Pauli string requires it own circuit, where multiple measurements\n",
    "of each string is required. Adding the results together with the\n",
    "corresponding weights, the ground state energy can be estimated. To\n",
    "optimize with respect to  $\\boldsymbol{\\theta}$, a classical optimizer is often\n",
    "applied."
   ]
  },
  {
   "cell_type": "markdown",
   "id": "6715d743",
   "metadata": {
    "editable": true
   },
   "source": [
    "## The VQE algoritm\n",
    "\n",
    "The VQE algorithm consists of several steps, partially done on a classical computer:\n",
    "1. A parameterized ansatz for the quantum state is implemented on a quantum computer.\n",
    "\n",
    "2. The ansatz is measured in a given measurement basis.\n",
    "\n",
    "3. Postprocessing on a classical computer converts the measurement outcomes to an expectation value.\n",
    "\n",
    "4. Classical minimization algorithms are used to up- date the variational parameters.\n",
    "\n",
    "The updated variational parameters are then sent back to the quantum\n",
    "computer, and the process is repeated until the optimal variational\n",
    "parameters are found."
   ]
  },
  {
   "cell_type": "markdown",
   "id": "f68a113e",
   "metadata": {
    "editable": true
   },
   "source": [
    "## VQE overview\n",
    "\n",
    "<!-- dom:FIGURE: [figures/vqe.png, width=700 frac=0.9] -->\n",
    "<!-- begin figure -->\n",
    "\n",
    "<img src=\"figures/vqe.png\" width=\"700\"><p style=\"font-size: 0.9em\"><i>Figure 1: </i></p>\n",
    "<!-- end figure -->"
   ]
  },
  {
   "cell_type": "markdown",
   "id": "fcd82ea8",
   "metadata": {
    "editable": true
   },
   "source": [
    "## Ansatzes\n",
    "\n",
    "Every possible qubit wavefunction $\\left| \\psi \\right\\rangle$ can be presented as a vector:"
   ]
  },
  {
   "cell_type": "markdown",
   "id": "6dfcb647",
   "metadata": {
    "editable": true
   },
   "source": [
    "$$\n",
    "\\left| \\psi \\right\\rangle = \\begin{pmatrix}\n",
    "\\cos{\\left( \\theta/2 \\right)}\\\\\n",
    "e^{i \\varphi} \\cdot \\sin{\\left( \\theta/2 \\right)}\n",
    "\\end{pmatrix},\n",
    "$$"
   ]
  },
  {
   "cell_type": "markdown",
   "id": "86fb522b",
   "metadata": {
    "editable": true
   },
   "source": [
    "where the numbers $\\theta$ and $\\varphi$ define a point on the unit\n",
    "three-dimensional sphere, the so-called  Bloch sphere.\n",
    "\n",
    "For a random one qubit Hamiltonian, a *good* quantum state preparation\n",
    "circuit should be able to generate all possible states in the Bloch\n",
    "sphere."
   ]
  },
  {
   "cell_type": "markdown",
   "id": "d8cfaa67",
   "metadata": {
    "editable": true
   },
   "source": [
    "## Preparing the states\n",
    "\n",
    "Before quantum state preparation, our qubit is in the $\\vert 0\\rangle$ state.\n",
    "This corresponds to the vertical position of\n",
    "the vector in the Bloch sphere. In order to generate any possible\n",
    "$\\left| \\psi \\right\\rangle$ we will apply $R_x(t_1)$ and $R_y(t_2)$\n",
    "gates on the $\\left| 0 \\right\\rangle$ initial state"
   ]
  },
  {
   "cell_type": "markdown",
   "id": "00882dfd",
   "metadata": {
    "editable": true
   },
   "source": [
    "$$\n",
    "R_y(\\phi)R_x(\\theta) \\left| 0 \\right\\rangle = \\left| \\psi\\right\\rangle.\n",
    "$$"
   ]
  },
  {
   "cell_type": "markdown",
   "id": "04c12562",
   "metadata": {
    "editable": true
   },
   "source": [
    "The rotation $R_x(\\theta)$\n",
    "corresponds to the rotation in the Bloch\n",
    "sphere around the $x$-axis and $R_y(\\phi)$ the rotation around the $y$-axis."
   ]
  },
  {
   "cell_type": "markdown",
   "id": "815deb24",
   "metadata": {
    "editable": true
   },
   "source": [
    "## Rotations used\n",
    "\n",
    "These two gates with there parameters ($\\theta$ and $\\phi$) will generate\n",
    "for us the trial (ansatz) wavefunctions. The two parameters will be in\n",
    "control of the Classical Computer and its optimization model."
   ]
  },
  {
   "cell_type": "markdown",
   "id": "b924c6e1",
   "metadata": {
    "editable": true
   },
   "source": [
    "## Implementing using qiskit"
   ]
  },
  {
   "cell_type": "code",
   "execution_count": 1,
   "id": "522d81dd",
   "metadata": {
    "collapsed": false,
    "editable": true
   },
   "outputs": [],
   "source": [
    "import numpy as np\n",
    "from random import random\n",
    "from qiskit import *\n",
    "def quantum_state_preparation(circuit, parameters):\n",
    "    q = circuit.qregs[0] # q is the quantum register where the info about qubits is stored\n",
    "    circuit.rx(parameters[0], q[0]) # q[0] is our one and only qubit XD\n",
    "    circuit.ry(parameters[1], q[0])\n",
    "    return circuit"
   ]
  },
  {
   "cell_type": "markdown",
   "id": "7f20774c",
   "metadata": {
    "editable": true
   },
   "source": [
    "## VQE and efficient computations of gradients\n",
    "\n",
    "We start with a reminder on the VQE method with applications to the\n",
    "one-qubit system discussed last week.\n",
    "\n",
    "Here we revisit the one-qubit system and develop a VQE\n",
    "code for studying this system using gradient descent as a method to\n",
    "optimize the variational ansatz. \n",
    "\n",
    "We start with a simple $2\\times 2$ Hamiltonian matrix expressed in\n",
    "terms of Pauli $X$ and $Z$ matrices, as discussed in the project text."
   ]
  },
  {
   "cell_type": "markdown",
   "id": "0f029a4f",
   "metadata": {
    "editable": true
   },
   "source": [
    "## Symmetric matrix\n",
    "\n",
    "We define a  symmetric matrix  $H\\in {\\mathbb{R}}^{2\\times 2}$"
   ]
  },
  {
   "cell_type": "markdown",
   "id": "29eba647",
   "metadata": {
    "editable": true
   },
   "source": [
    "$$\n",
    "H = \\begin{bmatrix} H_{11} & H_{12} \\\\ H_{21} & H_{22}\n",
    "\\end{bmatrix},\n",
    "$$"
   ]
  },
  {
   "cell_type": "markdown",
   "id": "74b59c1f",
   "metadata": {
    "editable": true
   },
   "source": [
    "We  let $H = H_0 + H_I$, where"
   ]
  },
  {
   "cell_type": "markdown",
   "id": "6c693119",
   "metadata": {
    "editable": true
   },
   "source": [
    "$$\n",
    "H_0= \\begin{bmatrix} E_1 & 0 \\\\ 0 & E_2\\end{bmatrix},\n",
    "$$"
   ]
  },
  {
   "cell_type": "markdown",
   "id": "93bd70fa",
   "metadata": {
    "editable": true
   },
   "source": [
    "is a diagonal matrix. Similarly,"
   ]
  },
  {
   "cell_type": "markdown",
   "id": "dc93219f",
   "metadata": {
    "editable": true
   },
   "source": [
    "$$\n",
    "H_I= \\begin{bmatrix} V_{11} & V_{12} \\\\ V_{21} & V_{22}\\end{bmatrix},\n",
    "$$"
   ]
  },
  {
   "cell_type": "markdown",
   "id": "7ebefb4e",
   "metadata": {
    "editable": true
   },
   "source": [
    "where $V_{ij}$ represent various interaction matrix elements."
   ]
  },
  {
   "cell_type": "markdown",
   "id": "e6beb948",
   "metadata": {
    "editable": true
   },
   "source": [
    "## Non-interacting solution\n",
    "\n",
    "We can view $H_0$ as the non-interacting solution"
   ]
  },
  {
   "cell_type": "markdown",
   "id": "7481dd30",
   "metadata": {
    "editable": true
   },
   "source": [
    "<!-- Equation labels as ordinary links -->\n",
    "<div id=\"_auto1\"></div>\n",
    "\n",
    "$$\n",
    "\\begin{equation}\n",
    "       H_0\\vert 0 \\rangle =E_1\\vert 0 \\rangle,\n",
    "\\label{_auto1} \\tag{1}\n",
    "\\end{equation}\n",
    "$$"
   ]
  },
  {
   "cell_type": "markdown",
   "id": "4f9d854b",
   "metadata": {
    "editable": true
   },
   "source": [
    "and"
   ]
  },
  {
   "cell_type": "markdown",
   "id": "d6bf5306",
   "metadata": {
    "editable": true
   },
   "source": [
    "<!-- Equation labels as ordinary links -->\n",
    "<div id=\"_auto2\"></div>\n",
    "\n",
    "$$\n",
    "\\begin{equation}\n",
    "       H_0\\vert 1\\rangle =E_2\\vert 1\\rangle,\n",
    "\\label{_auto2} \\tag{2}\n",
    "\\end{equation}\n",
    "$$"
   ]
  },
  {
   "cell_type": "markdown",
   "id": "492cb519",
   "metadata": {
    "editable": true
   },
   "source": [
    "where we have defined the orthogonal computational one-qubit basis states $\\vert 0\\rangle$ and $\\vert 1\\rangle$."
   ]
  },
  {
   "cell_type": "markdown",
   "id": "4e620d74",
   "metadata": {
    "editable": true
   },
   "source": [
    "## Rewriting with Pauli matrices\n",
    "We rewrite $H$ (and $H_0$ and $H_I$)  via Pauli matrices"
   ]
  },
  {
   "cell_type": "markdown",
   "id": "d54ed38e",
   "metadata": {
    "editable": true
   },
   "source": [
    "$$\n",
    "H_0 = \\mathcal{E} I + \\Omega \\sigma_z, \\quad \\mathcal{E} = \\frac{E_1\n",
    "  + E_2}{2}, \\; \\Omega = \\frac{E_1-E_2}{2},\n",
    "$$"
   ]
  },
  {
   "cell_type": "markdown",
   "id": "b6f65c55",
   "metadata": {
    "editable": true
   },
   "source": [
    "and"
   ]
  },
  {
   "cell_type": "markdown",
   "id": "fff0c0dd",
   "metadata": {
    "editable": true
   },
   "source": [
    "$$\n",
    "H_I = c \\boldsymbol{I} +\\omega_z\\sigma_z + \\omega_x\\sigma_x,\n",
    "$$"
   ]
  },
  {
   "cell_type": "markdown",
   "id": "e115b1b2",
   "metadata": {
    "editable": true
   },
   "source": [
    "with $c = (V_{11}+V_{22})/2$, $\\omega_z = (V_{11}-V_{22})/2$ and $\\omega_x = V_{12}=V_{21}$.\n",
    "We let our Hamiltonian depend linearly on a strength parameter $\\lambda$"
   ]
  },
  {
   "cell_type": "markdown",
   "id": "b7e3d094",
   "metadata": {
    "editable": true
   },
   "source": [
    "$$\n",
    "H=H_0+\\lambda H_\\mathrm{I},\n",
    "$$"
   ]
  },
  {
   "cell_type": "markdown",
   "id": "12895730",
   "metadata": {
    "editable": true
   },
   "source": [
    "with $\\lambda \\in [0,1]$, where the limits $\\lambda=0$ and $\\lambda=1$\n",
    "represent the non-interacting (or unperturbed) and fully interacting\n",
    "system, respectively."
   ]
  },
  {
   "cell_type": "markdown",
   "id": "372651d6",
   "metadata": {
    "editable": true
   },
   "source": [
    "## Selecting parameters\n",
    "\n",
    "The model is an eigenvalue problem with only\n",
    "two available states.\n",
    "\n",
    "Here we set the parameters $E_1=0$,\n",
    "$E_2=4$, $V_{11}=-V_{22}=3$ and $V_{12}=V_{21}=0.2$.\n",
    "\n",
    "The non-interacting solutions represent our computational basis.\n",
    "Pertinent to our choice of parameters, is that at $\\lambda\\geq 2/3$,\n",
    "the lowest eigenstate is dominated by $\\vert 1\\rangle$ while the upper\n",
    "is $\\vert 0 \\rangle$. At $\\lambda=1$ the $\\vert 0 \\rangle$ mixing of\n",
    "the lowest eigenvalue is $1\\%$ while for $\\lambda\\leq 2/3$ we have a\n",
    "$\\vert 0 \\rangle$ component of more than $90\\%$.  The character of the\n",
    "eigenvectors has therefore been interchanged when passing $z=2/3$. The\n",
    "value of the parameter $V_{12}$ represents the strength of the coupling\n",
    "between the two states."
   ]
  },
  {
   "cell_type": "markdown",
   "id": "230bf834",
   "metadata": {
    "editable": true
   },
   "source": [
    "## Setting up the matrix\n",
    "This part is best seen using the jupyter-notebook"
   ]
  },
  {
   "cell_type": "code",
   "execution_count": 2,
   "id": "27422066",
   "metadata": {
    "collapsed": false,
    "editable": true
   },
   "outputs": [],
   "source": [
    "%matplotlib inline\n",
    "\n",
    "from  matplotlib import pyplot as plt\n",
    "import numpy as np\n",
    "dim = 2\n",
    "Hamiltonian = np.zeros((dim,dim))\n",
    "e0 = 0.0\n",
    "e1 = 4.0\n",
    "Xnondiag = 0.20\n",
    "Xdiag = 3.0\n",
    "Eigenvalue = np.zeros(dim)\n",
    "# setting up the Hamiltonian\n",
    "Hamiltonian[0,0] = Xdiag+e0\n",
    "Hamiltonian[0,1] = Xnondiag\n",
    "Hamiltonian[1,0] = Hamiltonian[0,1]\n",
    "Hamiltonian[1,1] = e1-Xdiag\n",
    "# diagonalize and obtain eigenvalues, not necessarily sorted\n",
    "EigValues, EigVectors = np.linalg.eig(Hamiltonian)\n",
    "permute = EigValues.argsort()\n",
    "EigValues = EigValues[permute]\n",
    "# print only the lowest eigenvalue\n",
    "print(EigValues[0])"
   ]
  },
  {
   "cell_type": "markdown",
   "id": "676f639f",
   "metadata": {
    "editable": true
   },
   "source": [
    "Now rewrite it in terms of the identity matrix and the Pauli matrix X and Z"
   ]
  },
  {
   "cell_type": "code",
   "execution_count": 3,
   "id": "007e937d",
   "metadata": {
    "collapsed": false,
    "editable": true
   },
   "outputs": [],
   "source": [
    "# Now rewrite it in terms of the identity matrix and the Pauli matrix X and Z\n",
    "X = np.array([[0,1],[1,0]])\n",
    "Y = np.array([[0,-1j],[1j,0]])\n",
    "Z = np.array([[1,0],[0,-1]])\n",
    "# identity matrix\n",
    "I = np.array([[1,0],[0,1]])\n",
    "\n",
    "epsilon = (e0+e1)*0.5; omega = (e0-e1)*0.5\n",
    "c = 0.0; omega_z=Xdiag; omega_x = Xnondiag\n",
    "Hamiltonian = (epsilon+c)*I+(omega_z+omega)*Z+omega_x*X\n",
    "EigValues, EigVectors = np.linalg.eig(Hamiltonian)\n",
    "permute = EigValues.argsort()\n",
    "EigValues = EigValues[permute]\n",
    "# print only the lowest eigenvalue\n",
    "print(EigValues[0])"
   ]
  },
  {
   "cell_type": "markdown",
   "id": "312c5f37",
   "metadata": {
    "editable": true
   },
   "source": [
    "## Measurements and computational basis\n",
    "\n",
    "We have seen how to rewrite the above $2\\times 2$ eiegenvalue problem in terms of a Hamiltonian defined by Pauli $\\boldsymbol{X}$ and $\\boldsymbol{Z}$ matrices,\n",
    "and the identity matrix $\\boldsymbol{I}$. Let us make this Hamiltonian that involves only one qubit somewhat more general"
   ]
  },
  {
   "cell_type": "markdown",
   "id": "a5b19b0a",
   "metadata": {
    "editable": true
   },
   "source": [
    "$$\n",
    "\\left\\langle H \\right\\rangle = \\left\\langle \\psi \\right| H \\left| \\psi \\right\\rangle = a \\cdot \\left\\langle \\psi \\right| I \\left| \\psi \\right\\rangle + b \\cdot \\left\\langle \\psi \\right| Z \\left| \\psi \\right\\rangle + c \\cdot \\left\\langle \\psi \\right| X \\left| \\psi \\right\\rangle + d \\cdot \\left\\langle \\psi \\right| Y \\left| \\psi \\right\\rangle.\n",
    "$$"
   ]
  },
  {
   "cell_type": "markdown",
   "id": "9bfa934d",
   "metadata": {
    "editable": true
   },
   "source": [
    "## Expectation value of $\\boldsymbol{I}$\n",
    "\n",
    "For the $I$ operator the expectation value is always unity:"
   ]
  },
  {
   "cell_type": "markdown",
   "id": "5c56f7ff",
   "metadata": {
    "editable": true
   },
   "source": [
    "$$\n",
    "\\left\\langle \\psi \\right| \\boldsymbol{I} \\left| \\psi \\right\\rangle = \\left\\langle \\psi \\right|\\left| \\psi \\right\\rangle = 1.\n",
    "$$"
   ]
  },
  {
   "cell_type": "markdown",
   "id": "0a15f302",
   "metadata": {
    "editable": true
   },
   "source": [
    "Its contribution to the overall expectaction value is thus given by the constant $a$."
   ]
  },
  {
   "cell_type": "markdown",
   "id": "b570d34a",
   "metadata": {
    "editable": true
   },
   "source": [
    "## The Pauli matrices\n",
    "\n",
    "For rest of the Pauli operators, we should make the following remark:\n",
    "every one qubit quantum state $\\left| \\psi \\right\\rangle$ can be\n",
    "represented via different sets of basis vectors:"
   ]
  },
  {
   "cell_type": "markdown",
   "id": "46e33df3",
   "metadata": {
    "editable": true
   },
   "source": [
    "$$\n",
    "\\left| \\psi \\right\\rangle = c_1^z \\cdot \\left| 0 \\right\\rangle + c_2^z \\cdot \\left| 1 \\right\\rangle = c_1^x \\cdot \\left| + \\right\\rangle + c_2^x \\cdot \\left| - \\right\\rangle = c_1^y \\cdot \\left| +i \\right\\rangle + c_2^y \\cdot \\left| -i \\right\\rangle.\n",
    "$$"
   ]
  },
  {
   "cell_type": "markdown",
   "id": "068da3b7",
   "metadata": {
    "editable": true
   },
   "source": [
    "## In more detail\n",
    "We have"
   ]
  },
  {
   "cell_type": "markdown",
   "id": "5b2c3f0d",
   "metadata": {
    "editable": true
   },
   "source": [
    "$$\n",
    "\\begin{align*}\n",
    "&\\text{Z eigenvectors} \\qquad\n",
    "\\left| 0 \\right\\rangle = \\begin{pmatrix}\n",
    "1\\\\\n",
    "0\n",
    "\\end{pmatrix},\n",
    "&&\\left| 1 \\right\\rangle = \\begin{pmatrix}\n",
    "0\\\\\n",
    "1\n",
    "\\end{pmatrix},\n",
    "\\end{align*}\n",
    "$$"
   ]
  },
  {
   "cell_type": "markdown",
   "id": "37eade70",
   "metadata": {
    "editable": true
   },
   "source": [
    "## For the other two matrices"
   ]
  },
  {
   "cell_type": "markdown",
   "id": "b56b54a8",
   "metadata": {
    "editable": true
   },
   "source": [
    "$$\n",
    "\\begin{align*}\n",
    "&\\text{X eigenvectors} \\qquad\n",
    "\\left| + \\right\\rangle = \\frac{1}{\\sqrt{2}} \\begin{pmatrix}\n",
    "1\\\\\n",
    "1\n",
    "\\end{pmatrix},\n",
    "&&\\left| - \\right\\rangle = \\frac{1}{\\sqrt{2}} \\begin{pmatrix}\n",
    "1\\\\\n",
    "-1\n",
    "\\end{pmatrix},\n",
    "\\\\\n",
    "&\\text{Y eigenvectors} \\qquad\n",
    "\\left| +i \\right\\rangle = \\frac{1}{\\sqrt{2}} \\begin{pmatrix}\n",
    "1\\\\\n",
    "i\n",
    "\\end{pmatrix}, \n",
    "&&\\left| -i \\right\\rangle = \\frac{1}{\\sqrt{2}} \\begin{pmatrix}\n",
    "1\\\\\n",
    "-i\n",
    "\\end{pmatrix}.\n",
    "\\end{align*}\n",
    "$$"
   ]
  },
  {
   "cell_type": "markdown",
   "id": "1a0a3e27",
   "metadata": {
    "editable": true
   },
   "source": [
    "## Analyzing these equations\n",
    "\n",
    "The first presented eigenvectors for each Pauli has an eigenvalue equal to $+1$: $Z \\left| 0 \\right\\rangle = +1\\left| 0 \\right\\rangle$, $X \\left| + \\right\\rangle = +1\\left| + \\right\\rangle$, $Y \\left| +i \\right\\rangle = +1\\left| +i \\right\\rangle$. And the second presented eigenvectors for each Pauli has an eigenvalue equal to $-1$: $Z \\left| 1 \\right\\rangle = -1\\left| 1 \\right\\rangle$, $X \\left| - \\right\\rangle = -1\\left| - \\right\\rangle$, $Y \\left| -i \\right\\rangle = -1\\left| -i \\right\\rangle$. Now, let's calculate the expectation values of these Pauli operators:"
   ]
  },
  {
   "cell_type": "markdown",
   "id": "1d0fa6cb",
   "metadata": {
    "editable": true
   },
   "source": [
    "$$\n",
    "\\begin{align*}\n",
    "\\left\\langle \\psi \\right| Z \\left| \\psi \\right\\rangle &= \\left( {c_1^z}^* \\cdot \\left\\langle 0 \\right| + {c_2^z}^* \\cdot \\left\\langle 1 \\right| \\right) Z \\left( c_1^z \\cdot \\left| 0 \\right\\rangle + c_2^z \\cdot \\left| 1 \\right\\rangle \\right) = {\\left| c_1^z \\right|}^2 - {\\left| c_2^z \\right|}^2,\n",
    "\\\\\n",
    "\\left\\langle \\psi \\right| X \\left| \\psi \\right\\rangle &= \\left( {c_1^x}^* \\cdot \\left\\langle + \\right| + {c_2^x}^* \\cdot \\left\\langle - \\right| \\right) X \\left( c_1^x \\cdot \\left| + \\right\\rangle + c_2^x \\cdot \\left| - \\right\\rangle \\right) = {\\left| c_1^x \\right|}^2 - {\\left| c_2^x \\right|}^2,\n",
    "\\\\\n",
    "\\left\\langle \\psi \\right| Y \\left| \\psi \\right\\rangle &= \\left( {c_1^y}^* \\cdot \\left\\langle +i \\right| + {c_2^y}^* \\cdot \\left\\langle -i \\right| \\right) Y \\left( c_1^y \\cdot \\left| +i \\right\\rangle + c_2^y \\cdot \\left| -i \\right\\rangle \\right) = {\\left| c_1^y \\right|}^2 - {\\left| c_2^y \\right|}^2.\n",
    "\\end{align*}\n",
    "$$"
   ]
  },
  {
   "cell_type": "markdown",
   "id": "a1934f7d",
   "metadata": {
    "editable": true
   },
   "source": [
    "## Using the inner products\n",
    "Here we have taken into account that the inner product of orthonormal vectors is 0 (e.g. $\\left\\langle 0 \\right| \\left| 1 \\right\\rangle = 0$, $\\left\\langle + \\right| \\left| - \\right\\rangle = 0$, $\\left\\langle +i \\right| \\left| -i \\right\\rangle = 0$).\n",
    "\n",
    "But what are these $\\left| c \\right|^2$s? The ${\\left| c_1^z\n",
    "\\right|}^2$ and ${\\left| c_2^z \\right|}^2$ are by definition the\n",
    "probabilities that after Z basis measurement (measuring is it $\\left|\n",
    "0 \\right\\rangle$ or is it $\\left| 1 \\right\\rangle$) the quantum state\n",
    "$\\left| \\psi \\right\\rangle$ will become $\\left| 0 \\right\\rangle$ or\n",
    "$\\left| 1 \\right\\rangle$ respectively."
   ]
  },
  {
   "cell_type": "markdown",
   "id": "af002b8e",
   "metadata": {
    "editable": true
   },
   "source": [
    "## Rethinking the basis\n",
    "\n",
    "In order to find that value, we should run our program with our trial\n",
    "$\\left| \\psi \\right\\rangle$ wavefunction and do $Z$ measurement on the\n",
    "qubit $N$ times (it is  named *shots* in the code).\n",
    "\n",
    "The probability\n",
    "of finding the qubit after measurment in $\\left| 0 \\right\\rangle$\n",
    "state will be equal to ${\\left| c_1^z \\right|}^2 = \\frac{n_0}{N}$,\n",
    "where $n_0$ is the number of the $\\left| 0 \\right\\rangle$ state\n",
    "measurments. Similarly, ${\\left| c_2^z \\right|}^2 = \\frac{n_1}{N}$,\n",
    "where $n_1$ is the number of the $\\left| 1 \\right\\rangle$ state\n",
    "measurments.\n",
    "\n",
    "Thus, the final expectation value will be $\\left\\langle Z\\right\\rangle = \\frac{n_0 - n_1}{N}$."
   ]
  },
  {
   "cell_type": "markdown",
   "id": "597de088",
   "metadata": {
    "editable": true
   },
   "source": [
    "## Measurements\n",
    "\n",
    "For $\\left\\langle X \\right\\rangle = \\frac{n_+ - n_-}{N}$ and\n",
    "$\\left\\langle Y \\right\\rangle = \\frac{n_{+i} - n_{-i}}{N}$ the\n",
    "expectation value estimation procedure stays the same.\n",
    "\n",
    "Here $n_+$ and $n_-$ are numbers of measurements in X basis that\n",
    "corresponds to $\\left| + \\right\\rangle$ or $\\left| - \\right\\rangle$\n",
    "outcomes respectively. And $n_{+i}$ and $n_{-i}$ are numbers of\n",
    "measurements in $Y$ basis that corresponds to $\\left| +i\n",
    "\\right\\rangle$ or $\\left| -i \\right\\rangle$ outcomes respectively."
   ]
  },
  {
   "cell_type": "markdown",
   "id": "54f52234",
   "metadata": {
    "editable": true
   },
   "source": [
    "## Computational basis\n",
    "\n",
    "The difficulty comes from the fact that one may have the possibility\n",
    "to measure only in the $Z$ basis. To solve this difficulty we still do\n",
    "a $Z$ basis measurement, but, before that, we apply specific operators\n",
    "to the $\\left| \\psi \\right\\rangle$ state.\n",
    "\n",
    "We try to apply such an\n",
    "operator that after measuring the probability of $\\left| 0\n",
    "\\right\\rangle$ outcome will be equal to the probability of $\\left| +\n",
    "\\right\\rangle$ $\\left( \\left| +i \\right\\rangle \\right)$ outcome.\n",
    "\n",
    "And the probability of $\\left| 1 \\right\\rangle$ outcome will be equal to\n",
    "the probability of $\\left| - \\right\\rangle$ $\\left( \\left| -i \\right\\rangle \\right)$ outcome."
   ]
  },
  {
   "cell_type": "markdown",
   "id": "e2df2c2b",
   "metadata": {
    "editable": true
   },
   "source": [
    "## Unitary transformation of $\\boldsymbol{X}$\n",
    "\n",
    "If we use the Hadamard gate"
   ]
  },
  {
   "cell_type": "markdown",
   "id": "a6ed678e",
   "metadata": {
    "editable": true
   },
   "source": [
    "$$\n",
    "\\boldsymbol{H} = \\frac{1}{\\sqrt{2}}\\begin{pmatrix}\n",
    "1 & 1\\\\\n",
    "1 & -1\n",
    "\\end{pmatrix},\n",
    "$$"
   ]
  },
  {
   "cell_type": "markdown",
   "id": "c9b8a43b",
   "metadata": {
    "editable": true
   },
   "source": [
    "we can rewrite"
   ]
  },
  {
   "cell_type": "markdown",
   "id": "c2c84fee",
   "metadata": {
    "editable": true
   },
   "source": [
    "$$\n",
    "\\boldsymbol{X}=\\boldsymbol{H}\\boldsymbol{Z}\\boldsymbol{H}.\n",
    "$$"
   ]
  },
  {
   "cell_type": "markdown",
   "id": "8fc88ccf",
   "metadata": {
    "editable": true
   },
   "source": [
    "The Hadamard gate/matrix is a unitary matrix with the property that $\\boldsymbol{H}^2=\\boldsymbol{I}$."
   ]
  },
  {
   "cell_type": "markdown",
   "id": "22190520",
   "metadata": {
    "editable": true
   },
   "source": [
    "## Generalizing\n",
    "\n",
    "For the one-qubit Hamiltonian we have toyed with till now, we can thus\n",
    "rewrite in an easy way the Hamiltonian so that we can perform\n",
    "measurements using our favorite computational basis.\n",
    "\n",
    "The transformation of the Pauli $\\boldsymbol{X}$ matrix can be generalized, as\n",
    "we will see in more detail next week for the two-qubit Hamiltonian and\n",
    "the Lipkin model, to the following expression"
   ]
  },
  {
   "cell_type": "markdown",
   "id": "d167996b",
   "metadata": {
    "editable": true
   },
   "source": [
    "$$\n",
    "{\\cal P}=\\boldsymbol{U}^{\\dagger}\\boldsymbol{M}\\boldsymbol{U},\n",
    "$$"
   ]
  },
  {
   "cell_type": "markdown",
   "id": "686630ba",
   "metadata": {
    "editable": true
   },
   "source": [
    "where ${\\cal P}$ represents some combination of the Pauli matrices and\n",
    "the identity matrix, $\\boldsymbol{U}$ is a unitary matrix and $\\boldsymbol{M}$\n",
    "represents the gate/matrix which performs the measurements, often\n",
    "represented by a Pauli $\\boldsymbol{Z}$ gate/matrix."
   ]
  },
  {
   "cell_type": "markdown",
   "id": "0cd7deec",
   "metadata": {
    "editable": true
   },
   "source": [
    "## Implementing the VQE\n",
    "\n",
    "For a one-qubit system we can reach every point on the Bloch sphere\n",
    "(as discussed earlier) with a rotation about the $x$-axis and the\n",
    "$y$-axis.\n",
    "\n",
    "We can express this mathematically through the following operations (see whiteboard for the drawing), giving us a new state $\\vert \\psi\\rangle$"
   ]
  },
  {
   "cell_type": "markdown",
   "id": "4ad3c763",
   "metadata": {
    "editable": true
   },
   "source": [
    "$$\n",
    "\\vert\\psi\\rangle = R_y(\\phi)R_x(\\theta)\\vert 0 \\rangle.\n",
    "$$"
   ]
  },
  {
   "cell_type": "markdown",
   "id": "a9a03e63",
   "metadata": {
    "editable": true
   },
   "source": [
    "## Multiple ansatzes\n",
    "\n",
    "We can produce multiple ansatzes for the new state in terms of the\n",
    "angles $\\theta$ and $\\phi$.  With these ansatzes we can in turn\n",
    "calculate the expectation value of the above Hamiltonian, now\n",
    "rewritten in terms of various Pauli matrices (and thereby gates), that is compute"
   ]
  },
  {
   "cell_type": "markdown",
   "id": "bff11a56",
   "metadata": {
    "editable": true
   },
   "source": [
    "$$\n",
    "\\langle \\psi \\vert (c+\\mathcal{E})\\boldsymbol{I} + (\\Omega+\\omega_z)\\boldsymbol{\\sigma}_z + \\omega_x\\boldsymbol{\\sigma}_x\\vert \\psi \\rangle.\n",
    "$$"
   ]
  },
  {
   "cell_type": "markdown",
   "id": "afb19af3",
   "metadata": {
    "editable": true
   },
   "source": [
    "## Rotations again\n",
    "\n",
    "We can now set up a series of ansatzes for $\\vert \\psi \\rangle$ as\n",
    "function of the angles $\\theta$ and $\\phi$ and find thereafter the\n",
    "variational minimum using for example a gradient descent method.\n",
    "\n",
    "To do so, we need to remind ourselves about the mathematical expressions for\n",
    "the rotational matrices/operators."
   ]
  },
  {
   "cell_type": "markdown",
   "id": "82bf875c",
   "metadata": {
    "editable": true
   },
   "source": [
    "$$\n",
    "R_x(\\theta)=\\cos{\\frac{\\theta}{2}}\\boldsymbol{I}-\\imath \\sin{\\frac{\\theta}{2}}\\boldsymbol{\\sigma}_x,\n",
    "$$"
   ]
  },
  {
   "cell_type": "markdown",
   "id": "c475d861",
   "metadata": {
    "editable": true
   },
   "source": [
    "and"
   ]
  },
  {
   "cell_type": "markdown",
   "id": "bba8af40",
   "metadata": {
    "editable": true
   },
   "source": [
    "$$\n",
    "R_y(\\phi)=\\cos{\\frac{\\phi}{2}}\\boldsymbol{I}-\\imath \\sin{\\frac{\\phi}{2}}\\boldsymbol{\\sigma}_y.\n",
    "$$"
   ]
  },
  {
   "cell_type": "markdown",
   "id": "abc727b8",
   "metadata": {
    "editable": true
   },
   "source": [
    "## Simple code"
   ]
  },
  {
   "cell_type": "code",
   "execution_count": 4,
   "id": "d90c306b",
   "metadata": {
    "collapsed": false,
    "editable": true
   },
   "outputs": [],
   "source": [
    "# define the rotation matrices\n",
    "# Define angles theta and phi\n",
    "theta = 0.5*np.pi; phi = 0.2*np.pi\n",
    "Rx = np.cos(theta*0.5)*I-1j*np.sin(theta*0.5)*X\n",
    "Ry = np.cos(phi*0.5)*I-1j*np.sin(phi*0.5)*Y\n",
    "#define basis states\n",
    "basis0 = np.array([1,0])\n",
    "basis1 = np.array([0,1])\n",
    "\n",
    "NewBasis = Ry @ Rx @ basis0\n",
    "print(NewBasis)\n",
    "# Compute the expectation value\n",
    "#Note hermitian conjugation\n",
    "Energy = NewBasis.conj().T @ Hamiltonian @ NewBasis\n",
    "print(Energy)"
   ]
  },
  {
   "cell_type": "markdown",
   "id": "61d4ad2e",
   "metadata": {
    "editable": true
   },
   "source": [
    "Not an impressive results. We set up now a loop over many angles $\\theta$ and $\\phi$ and compute the energies"
   ]
  },
  {
   "cell_type": "code",
   "execution_count": 5,
   "id": "73f53c46",
   "metadata": {
    "collapsed": false,
    "editable": true
   },
   "outputs": [],
   "source": [
    "# define a number of angles\n",
    "n = 20\n",
    "angle = np.arange(0,180,10)\n",
    "n = np.size(angle)\n",
    "ExpectationValues = np.zeros((n,n))\n",
    "for i in range (n):\n",
    "    theta = np.pi*angle[i]/180.0\n",
    "    Rx = np.cos(theta*0.5)*I-1j*np.sin(theta*0.5)*X\n",
    "    for j in range (n):\n",
    "        phi = np.pi*angle[j]/180.0\n",
    "        Ry = np.cos(phi*0.5)*I-1j*np.sin(phi*0.5)*Y\n",
    "        NewBasis = Ry @ Rx @ basis0\n",
    "        Energy = NewBasis.conj().T @ Hamiltonian @ NewBasis\n",
    "        Edifference=abs(np.real(EigValues[0]-Energy))\n",
    "        ExpectationValues[i,j]=Edifference\n",
    "\n",
    "print(np.min(ExpectationValues))"
   ]
  },
  {
   "cell_type": "markdown",
   "id": "8f26a977",
   "metadata": {
    "editable": true
   },
   "source": [
    "Clearly, this is not the best way of proceeding. Rather, here we\n",
    "could try to find the optimal values for the parameters $\\theta$ and\n",
    "$\\phi$ through computation of their respective gradients and thereby\n",
    "find the minimum as function of the optimal angles $\\hat{\\theta}$ and\n",
    "$\\hat{\\phi}$.\n",
    "\n",
    "Let us now implement a classical gradient descent algorithm to the computation of the energies. \n",
    "We will follow closely  <https://journals.aps.org/pra/abstract/10.1103/PhysRevA.99.032331> in order to calculate gradients of the Hamiltonian."
   ]
  },
  {
   "cell_type": "markdown",
   "id": "863fcbf8",
   "metadata": {
    "editable": true
   },
   "source": [
    "## Gradient descent and calculations of gradients\n",
    "\n",
    "In order to optimize the VQE ansatz, we need to compute derivatives\n",
    "with respect to the variational parameters.  Here we develop first a\n",
    "simpler approach tailored to the one-qubit case. For this particular\n",
    "case, we have defined an ansatz in terms of the Pauli rotation\n",
    "matrices."
   ]
  },
  {
   "cell_type": "markdown",
   "id": "e2bbdaec",
   "metadata": {
    "editable": true
   },
   "source": [
    "## Setting up gradients\n",
    "\n",
    "These define an arbitrary one-qubit state on the Bloch\n",
    "sphere through the expression"
   ]
  },
  {
   "cell_type": "markdown",
   "id": "718f2151",
   "metadata": {
    "editable": true
   },
   "source": [
    "$$\n",
    "\\vert\\psi\\rangle = \\vert \\psi(\\theta,\\phi)\\rangle =R_y(\\phi)R_x(\\theta)\\vert 0 \\rangle.\n",
    "$$"
   ]
  },
  {
   "cell_type": "markdown",
   "id": "af680545",
   "metadata": {
    "editable": true
   },
   "source": [
    "Each of these rotation matrices can be written in a more general form as"
   ]
  },
  {
   "cell_type": "markdown",
   "id": "8a2acf5d",
   "metadata": {
    "editable": true
   },
   "source": [
    "$$\n",
    "R_{i}(\\gamma)=\\exp{-(\\imath\\frac{\\gamma}{2}\\sigma_i)}=\\cos{(\\frac{\\gamma}{2})}\\boldsymbol{I}-\\imath\\sin{(\\frac{\\gamma}{2})}\\boldsymbol{\\sigma}_i,\n",
    "$$"
   ]
  },
  {
   "cell_type": "markdown",
   "id": "e5d569e9",
   "metadata": {
    "editable": true
   },
   "source": [
    "where $\\sigma_i$ is one of the Pauli matrices $\\sigma_{x,y,z}$."
   ]
  },
  {
   "cell_type": "markdown",
   "id": "3c40c08d",
   "metadata": {
    "editable": true
   },
   "source": [
    "## Derivatives\n",
    "\n",
    "It is easy to see that the derivative with respect to $\\gamma$ is"
   ]
  },
  {
   "cell_type": "markdown",
   "id": "571a6051",
   "metadata": {
    "editable": true
   },
   "source": [
    "$$\n",
    "\\frac{\\partial R_{i}(\\gamma)}{\\partial \\gamma}=-\\frac{\\gamma}{2}\\boldsymbol{\\sigma}_i R_{i}(\\gamma).\n",
    "$$"
   ]
  },
  {
   "cell_type": "markdown",
   "id": "0606cdb0",
   "metadata": {
    "editable": true
   },
   "source": [
    "## Derivatives of the expectation value of the Hamiltonian\n",
    "\n",
    "We can now calculate the derivative of the expectation value of the\n",
    "Hamiltonian in terms of the angles $\\theta$ and $\\phi$. We have two\n",
    "derivatives"
   ]
  },
  {
   "cell_type": "markdown",
   "id": "874c6c29",
   "metadata": {
    "editable": true
   },
   "source": [
    "$$\n",
    "\\frac{\\partial}{\\partial \\theta}\\left[\\langle \\psi(\\theta,\\phi) \\vert \\boldsymbol{H}\\vert \\psi(\\theta,\\phi)\\rangle\\right]=\\frac{\\partial}{\\partial \\theta}\\left[\\langle\\boldsymbol{H}(\\theta,\\phi)\\rangle\\right]=\\langle \\psi(\\theta,\\phi) \\vert \\boldsymbol{H}(-\\frac{\\imath}{2}\\boldsymbol{\\sigma}_x\\vert \\psi(\\theta,\\phi)\\rangle+\\hspace{0.1cm}\\mathrm{h.c},\n",
    "$$"
   ]
  },
  {
   "cell_type": "markdown",
   "id": "6c67713a",
   "metadata": {
    "editable": true
   },
   "source": [
    "and"
   ]
  },
  {
   "cell_type": "markdown",
   "id": "b37834f8",
   "metadata": {
    "editable": true
   },
   "source": [
    "$$\n",
    "\\frac{\\partial }{\\partial \\phi}\\left[\\langle \\psi(\\theta,\\phi) \\vert \\boldsymbol{H}\\vert \\psi(\\theta,\\phi)\\rangle\\right]=\\frac{\\partial}{\\partial \\phi}\\left[\\langle\\boldsymbol{H}(\\theta,\\phi)\\rangle\\right]=\\langle \\psi(\\theta,\\phi) \\vert \\boldsymbol{H}(-\\frac{\\imath}{2}\\boldsymbol{\\sigma}_y\\vert \\psi(\\theta,\\phi)\\rangle+\\hspace{0.1cm}\\mathrm{h.c}.\n",
    "$$"
   ]
  },
  {
   "cell_type": "markdown",
   "id": "99cf39f3",
   "metadata": {
    "editable": true
   },
   "source": [
    "## Two addtional expectation values\n",
    "\n",
    "This means that we have to calculate two additional expectation values\n",
    "in addition to the expectation value of the Hamiltonian itself.  If we\n",
    "stay with an ansatz for the single qubit states given by the above\n",
    "rotation operators, we can, following for example [the article by\n",
    "Maria Schuld et\n",
    "al](https://journals.aps.org/pra/abstract/10.1103/PhysRevA.99.032331),\n",
    "show that the derivative of the expectation value of the Hamiltonian\n",
    "can be written as (we focus only on a given angle $\\phi$)"
   ]
  },
  {
   "cell_type": "markdown",
   "id": "4ee09376",
   "metadata": {
    "editable": true
   },
   "source": [
    "$$\n",
    "\\frac{\\partial}{\\partial \\phi}\\left[\\langle\\boldsymbol{H}(\\phi)\\rangle\\right]=\\frac{1}{2}\\left[\\langle\\boldsymbol{H}(\\phi+\\frac{\\pi}{2})\\rangle-\\langle\\boldsymbol{H}(\\phi-\\frac{\\pi}{2})\\rangle\\right].\n",
    "$$"
   ]
  },
  {
   "cell_type": "markdown",
   "id": "51e271b7",
   "metadata": {
    "editable": true
   },
   "source": [
    "## Rotations again and again\n",
    "To see this, consider again the definition of the rotation operators.\n",
    "We can write these operators as"
   ]
  },
  {
   "cell_type": "markdown",
   "id": "50d5e010",
   "metadata": {
    "editable": true
   },
   "source": [
    "$$\n",
    "R_i(\\phi)=\\exp{-\\imath(\\phi \\boldsymbol{\\sigma}_i)},\n",
    "$$"
   ]
  },
  {
   "cell_type": "markdown",
   "id": "e1c7ec43",
   "metadata": {
    "editable": true
   },
   "source": [
    "with $\\boldsymbol{sigma}_i$, with $\\boldsymbol{\\sigma}_i$ being any of the Pauli\n",
    "matrices $X$, $Y$ and $Z$. The latter can be generalized to other\n",
    "unitary matrices as well.\n",
    "The derivative with respect to $\\phi$ gives"
   ]
  },
  {
   "cell_type": "markdown",
   "id": "755f0c44",
   "metadata": {
    "editable": true
   },
   "source": [
    "$$\n",
    "\\frac{\\partial R_i(\\phi)}{\\partial \\phi}=-\\frac{\\imath}{2} \\boldsymbol{\\sigma}_i\\exp{-\\imath(\\phi \\boldsymbol{\\sigma}_i)}=-\\frac{\\imath}{2} \\boldsymbol{\\sigma} R_i(\\phi).\n",
    "$$"
   ]
  },
  {
   "cell_type": "markdown",
   "id": "c8f46cc1",
   "metadata": {
    "editable": true
   },
   "source": [
    "## Bloch sphere math\n",
    "\n",
    "Our ansatz for a general one-qubit state on the Bloch sphere contains the product of a rotation around the $x$-axis and the $y$-axis. In the derivation here we focus only on one angle however. Our ansatz is then given by"
   ]
  },
  {
   "cell_type": "markdown",
   "id": "cba5e2ed",
   "metadata": {
    "editable": true
   },
   "source": [
    "$$\n",
    "\\vert \\psi \\rangle = R_i(\\phi)\\vert 0 \\rangle,\n",
    "$$"
   ]
  },
  {
   "cell_type": "markdown",
   "id": "b8c564d4",
   "metadata": {
    "editable": true
   },
   "source": [
    "and the expectation value of our Hamiltonian is"
   ]
  },
  {
   "cell_type": "markdown",
   "id": "3e4f82d3",
   "metadata": {
    "editable": true
   },
   "source": [
    "$$\n",
    "\\langle \\psi \\vert \\hat{H}\\vert \\psi \\rangle = \\langle 0 \\vert R_i(\\phi)^{\\dagger} \\hat{H}R_i(\\phi)\\vert 0\\rangle.\n",
    "$$"
   ]
  },
  {
   "cell_type": "markdown",
   "id": "cc641abe",
   "metadata": {
    "editable": true
   },
   "source": [
    "## Derivatives\n",
    "\n",
    "Our derivative with respect to the angle $\\phi$ has a similar structure, that is"
   ]
  },
  {
   "cell_type": "markdown",
   "id": "a425631b",
   "metadata": {
    "editable": true
   },
   "source": [
    "$$\n",
    "\\frac{\\partial }{\\partial \\phi}\\left[\\langle \\psi(\\theta,\\phi) \\vert \\boldsymbol{H}\\vert \\psi(\\theta,\\phi)\\rangle\\right]=\\langle \\psi(\\theta,\\phi) \\vert \\boldsymbol{H}(-\\frac{\\imath}{2}\\boldsymbol{\\sigma}_y\\vert \\psi(\\theta,\\phi)\\rangle+\\hspace{0.1cm}\\mathrm{h.c}.\n",
    "$$"
   ]
  },
  {
   "cell_type": "markdown",
   "id": "f7a59d3c",
   "metadata": {
    "editable": true
   },
   "source": [
    "## Rewriting\n",
    "\n",
    "In order to rewrite the equation of the derivative,\n",
    "the following relation is useful"
   ]
  },
  {
   "cell_type": "markdown",
   "id": "01ef44c3",
   "metadata": {
    "editable": true
   },
   "source": [
    "$$\n",
    "\\langle \\psi \\vert \\hat{A}^{\\dagger}\\hat{B}\\hat{C}\\vert \\psi \\rangle = \\frac{1}{2}\\left[\n",
    "\\langle \\psi \\vert (\\hat{A}+\\hat{C})^{\\dagger}\\hat{B}(\\boldsymbol{A}+\\hat{C})\\vert \\psi \\rangle-\\langle \\psi \\vert (\\hat{A}-\\hat{C})^{\\dagger}\\hat{B}(\\boldsymbol{A}-\\hat{C})\\vert \\psi \\rangle\\right],\n",
    "$$"
   ]
  },
  {
   "cell_type": "markdown",
   "id": "5df94ab0",
   "metadata": {
    "editable": true
   },
   "source": [
    "where $\\hat{A}$, $\\hat{B}$ and $\\hat{C}$ are arbitrary hermitian\n",
    "operators."
   ]
  },
  {
   "cell_type": "markdown",
   "id": "07787fee",
   "metadata": {
    "editable": true
   },
   "source": [
    "## Final manipulations\n",
    "\n",
    "If we identify these operators as $\\hat{A}=\\boldsymbol{I}$, with\n",
    "$\\boldsymbol{I}$ being the unit operator, $\\hat{B}=\\hat{H}$ our Hamiltonian,\n",
    "and $\\hat{C}=-\\imath \\boldsymbol{\\sigma}_i/2$, we obtain the following\n",
    "expression for the expectation value of the derivative (excluding the hermitian conjugate)"
   ]
  },
  {
   "cell_type": "markdown",
   "id": "f4597b97",
   "metadata": {
    "editable": true
   },
   "source": [
    "$$\n",
    "\\langle \\psi \\vert \\boldsymbol{I}^{\\dagger}\\hat{H}(-\\frac{\\imath}{2}\\boldsymbol{\\sigma}_i\\vert \\psi \\rangle = \\frac{1}{2}\\left[\n",
    "\\langle \\psi \\vert (\\boldsymbol{I}-\\frac{\\imath}{2} \\boldsymbol{\\sigma}_i)^{\\dagger}\\hat{H}(\\boldsymbol{I}-\\frac{\\imath}{2} \\boldsymbol{\\sigma}_i)\\vert \\psi \\rangle-\\langle \\psi \\vert (\\boldsymbol{I}+\\frac{\\imath}{2} \\boldsymbol{\\sigma}_i)^{\\dagger}\\hat{H}(\\boldsymbol{I}+\\frac{\\imath}{2} \\boldsymbol{\\sigma}_i)\\vert \\psi \\rangle\\right].\n",
    "$$"
   ]
  },
  {
   "cell_type": "markdown",
   "id": "0727befe",
   "metadata": {
    "editable": true
   },
   "source": [
    "## The expressions to implement\n",
    "\n",
    "If we then use that the rotation matrices can be rewritten as"
   ]
  },
  {
   "cell_type": "markdown",
   "id": "2346635e",
   "metadata": {
    "editable": true
   },
   "source": [
    "$$\n",
    "R_{i}(\\phi)=\\exp{-(\\imath\\frac{\\phi}{2}\\sigma_i)}=\\cos{(\\frac{\\phi}{2})}\\boldsymbol{I}-\\imath\\sin{(\\frac{\\phi}{2})}\\boldsymbol{\\sigma}_i,\n",
    "$$"
   ]
  },
  {
   "cell_type": "markdown",
   "id": "ceac7336",
   "metadata": {
    "editable": true
   },
   "source": [
    "we see that if we set the angle to $\\phi=\\pi/2$, we have"
   ]
  },
  {
   "cell_type": "markdown",
   "id": "0683ef3e",
   "metadata": {
    "editable": true
   },
   "source": [
    "$$\n",
    "R_{i}(\\frac{\\pi}{2})=\\cos{(\\frac{\\pi}{4})}\\boldsymbol{I}-\\imath\\sin{(\\frac{\\pi}{4})}\\boldsymbol{\\sigma}_i=\\frac{1}{\\sqrt{2}}\\left(\\boldsymbol{I}-\\frac{\\imath}{2} \\boldsymbol{\\sigma}_i\\right).\n",
    "$$"
   ]
  },
  {
   "cell_type": "markdown",
   "id": "4ba8594d",
   "metadata": {
    "editable": true
   },
   "source": [
    "## Final expression\n",
    "\n",
    "This means that we can write"
   ]
  },
  {
   "cell_type": "markdown",
   "id": "b24983dd",
   "metadata": {
    "editable": true
   },
   "source": [
    "$$\n",
    "\\langle \\psi \\vert \\boldsymbol{I}^{\\dagger}\\hat{H}(-\\frac{\\imath}{2}\\boldsymbol{\\sigma}_i\\vert \\psi \\rangle = \\frac{1}{2}\\left[\n",
    "\\langle \\psi \\vert R_i(\\frac{\\pi}{2})^{\\dagger}\\hat{H}R_i(\\frac{\\pi}{2})\\vert \\psi \\rangle-\\langle \\psi \\vert R_i(-\\frac{\\pi}{2})^{\\dagger}\\hat{H}R_i(-\\frac{\\pi}{2})^{\\dagger}\\vert \\psi \\rangle\\right]=\\frac{1}{2}(\\langle\\hat{H}(\\phi+\\frac{\\pi}{2})\\rangle-\\langle\\hat{H}(\\phi-\\frac{\\pi}{2})\\rangle).\n",
    "$$"
   ]
  },
  {
   "cell_type": "markdown",
   "id": "92940883",
   "metadata": {
    "editable": true
   },
   "source": [
    "## Basics of gradient descent and stochastic gradient descent\n",
    "\n",
    "In order to implement the above equations, we need to remind the\n",
    "reader about basic elements of various optimization approaches. Our\n",
    "main focus here will be various gradient descent approaches and quasi-Newton methods like Broyden's algorithm and variations thereof.\n",
    "\n",
    "This material is covered by the lectures from [FYS4411 on gradient optimization](https://github.com/CompPhysics/ComputationalPhysics2/blob/gh-pages/doc/pub/week6/ipynb/week6.ipynb)"
   ]
  },
  {
   "cell_type": "markdown",
   "id": "9c5d3df5",
   "metadata": {
    "editable": true
   },
   "source": [
    "## Computing quantum gradients\n",
    "\n",
    "Let us implement\n",
    "efficient implementations of gradient methods to the derivatives of\n",
    "the Hamiltonian expectation values."
   ]
  },
  {
   "cell_type": "code",
   "execution_count": 6,
   "id": "d5d3076c",
   "metadata": {
    "collapsed": false,
    "editable": true
   },
   "outputs": [],
   "source": [
    "from  matplotlib import pyplot as plt\n",
    "import numpy as np\n",
    "from scipy.optimize import minimize\n",
    "dim = 2\n",
    "Hamiltonian = np.zeros((dim,dim))\n",
    "e0 = 0.0\n",
    "e1 = 4.0\n",
    "Xnondiag = 0.20\n",
    "Xdiag = 3.0\n",
    "Eigenvalue = np.zeros(dim)\n",
    "# setting up the Hamiltonian\n",
    "Hamiltonian[0,0] = Xdiag+e0\n",
    "Hamiltonian[0,1] = Xnondiag\n",
    "Hamiltonian[1,0] = Hamiltonian[0,1]\n",
    "Hamiltonian[1,1] = e1-Xdiag\n",
    "# diagonalize and obtain eigenvalues, not necessarily sorted\n",
    "EigValues, EigVectors = np.linalg.eig(Hamiltonian)\n",
    "permute = EigValues.argsort()\n",
    "EigValues = EigValues[permute]\n",
    "# print only the lowest eigenvalue\n",
    "print(EigValues[0])\n",
    "\n",
    "# Now rewrite it in terms of the identity matrix and the Pauli matrix X and Z\n",
    "X = np.array([[0,1],[1,0]])\n",
    "Y = np.array([[0,-1j],[1j,0]])\n",
    "Z = np.array([[1,0],[0,-1]])\n",
    "# identity matrix\n",
    "I = np.array([[1,0],[0,1]])\n",
    "\n",
    "epsilon = (e0+e1)*0.5; omega = (e0-e1)*0.5\n",
    "c = 0.0; omega_z=Xdiag; omega_x = Xnondiag\n",
    "Hamiltonian = (epsilon+c)*I+(omega_z+omega)*Z+omega_x*X\n",
    "EigValues, EigVectors = np.linalg.eig(Hamiltonian)\n",
    "permute = EigValues.argsort()\n",
    "EigValues = EigValues[permute]\n",
    "# print only the lowest eigenvalue\n",
    "print(EigValues[0])\n",
    "\n",
    "# define the rotation matrices\n",
    "\n",
    "def Rx(theta):\n",
    "    return np.cos(theta*0.5)*I-1j*np.sin(theta*0.5)*X\n",
    "def Ry(phi):\n",
    "    return np.cos(phi*0.5)*I-1j*np.sin(phi*0.5)*Y\n",
    "\n",
    "#define basis states\n",
    "basis0 = np.array([1,0])\n",
    "basis1 = np.array([0,1])\n",
    "\n",
    "# Computing the expectation value of the energy \n",
    "def Energy(theta,phi):\n",
    "    Basis = Ry(phi) @ Rx(theta) @ basis0\n",
    "    energy = Basis.conj().T @ Hamiltonian @ Basis\n",
    "    return energy\n",
    "\n",
    "\n",
    "# Set up iteration using gradient descent method\n",
    "eta = 0.1\n",
    "Niterations = 100\n",
    "# Random angles using uniform distribution\n",
    "theta = 2*np.pi*np.random.rand()\n",
    "phi = 2*np.pi*np.random.rand()\n",
    "pi2 = 0.5*np.pi\n",
    "for iter in range(Niterations):\n",
    "    thetagradient = 0.5*(Energy(theta+pi2,phi)-Energy(theta-pi2,phi))\n",
    "    phigradient = 0.5*(Energy(theta,phi+pi2)-Energy(theta,phi-pi2))\n",
    "    theta -= eta*thetagradient\n",
    "    phi -= eta*phigradient\n",
    "print(Energy(theta,phi))"
   ]
  },
  {
   "cell_type": "markdown",
   "id": "e5e1ba17",
   "metadata": {
    "editable": true
   },
   "source": [
    "## A smarter way of doing this\n",
    "\n",
    "The above approach means that we are setting up several matrix-matrix\n",
    "and matrix-vector multiplications. Although straight forward it is not\n",
    "the most efficient way of doing this, in particular in case the\n",
    "matrices become large (and sparse). But there are some more important\n",
    "issues.\n",
    "\n",
    "In a physical realization of these systems we cannot just multiply the\n",
    "state with the Hamiltonian. When performing a measurement we can only\n",
    "measure in one particular direction. For the computational basis\n",
    "states which we have, $\\vert 0\\rangle$ and $\\vert 1\\rangle$, we have\n",
    "to measure along the bases of the Pauli matrices and reconstruct the\n",
    "eigenvalues from these measurements."
   ]
  },
  {
   "cell_type": "markdown",
   "id": "1e0a4a41",
   "metadata": {
    "editable": true
   },
   "source": [
    "## The code for the one qubit case (code developed by August Gude, 2023)"
   ]
  },
  {
   "cell_type": "code",
   "execution_count": 7,
   "id": "ccd20da7",
   "metadata": {
    "collapsed": false,
    "editable": true
   },
   "outputs": [],
   "source": [
    "import numpy as np\n",
    "import matplotlib.pyplot as plt\n",
    "import seaborn as sns; sns.set_theme(font_scale=1.5)\n",
    "from tqdm import tqdm\n",
    "\n",
    "sigma_x = np.array([[0, 1], [1, 0]])\n",
    "sigma_y = np.array([[0, -1j], [1j, 0]])\n",
    "sigma_z = np.array([[1, 0], [0, -1]])\n",
    "I = np.eye(2)\n",
    "\n",
    "def Hamiltonian(lmb):\n",
    "    E1 = 0\n",
    "    E2 = 4\n",
    "    V11 = 3\n",
    "    V22 = -3\n",
    "    V12 = 0.2\n",
    "    V21 = 0.2\n",
    "\n",
    "    eps = (E1 + E2) / 2\n",
    "    omega = (E1 - E2) / 2\n",
    "    c = (V11 + V22) / 2\n",
    "    omega_z = (V11 - V22) / 2\n",
    "    omega_x = V12\n",
    "\n",
    "    H0 = eps * I + omega * sigma_z\n",
    "    H1 = c * I + omega_z * sigma_z + omega_x * sigma_x\n",
    "    return H0 + lmb * H1\n",
    "    \n",
    "lmbvalues_ana = np.arange(0, 1, 0.01)\n",
    "eigvals_ana = np.zeros((len(lmbvalues_ana), 2))\n",
    "for index, lmb in enumerate(lmbvalues_ana):\n",
    "    H = Hamiltonian(lmb)\n",
    "    eigen, eigvecs = np.linalg.eig(H)\n",
    "    permute = eigen.argsort()\n",
    "    eigvals_ana[index] = eigen[permute]\n",
    "    eigvecs = eigvecs[:,permute]\n",
    "\n",
    "\n",
    "fig, axs = plt.subplots(1, 1, figsize=(10, 10))\n",
    "for i in range(2):\n",
    "    axs.plot(lmbvalues_ana, eigvals_ana[:,i], label=f'$E_{i+1}$')\n",
    "axs.set_xlabel(r'$\\lambda$')\n",
    "axs.set_ylabel('Energy')\n",
    "axs.legend()\n",
    "plt.show()"
   ]
  },
  {
   "cell_type": "markdown",
   "id": "ff8cb723",
   "metadata": {
    "editable": true
   },
   "source": [
    "This was the standard eigenvalue problem. Let us now switch to our own implementation of the VQE."
   ]
  },
  {
   "cell_type": "code",
   "execution_count": 8,
   "id": "a31ecd2f",
   "metadata": {
    "collapsed": false,
    "editable": true
   },
   "outputs": [],
   "source": [
    "from src.qc import *\n",
    "\n",
    "def prepare_state(theta, phi, target = None):\n",
    "    I = np.eye(2)\n",
    "    sigma_x = np.array([[0, 1], [1, 0]])\n",
    "    sigma_y = np.array([[0, -1j], [1j, 0]])\n",
    "    state = np.array([1, 0])\n",
    "    Rx = np.cos(theta/2) * I - 1j * np.sin(theta/2) * sigma_x\n",
    "    Ry = np.cos(phi/2) * I - 1j * np.sin(phi/2) * sigma_y\n",
    "    state = Ry @ Rx @ state\n",
    "    if target is not None:\n",
    "        state = target\n",
    "    return state\n",
    "\n",
    "def get_energy(angles, lmb, number_shots, target = None):\n",
    "    theta, phi = angles[0], angles[1]\n",
    "    # print(f'Theta = {theta}, Phi = {phi}')\n",
    "    E1 = 0; E2 = 4; V11 = 3; V22 = -3; V12 = 0.2; V21 = 0.2\n",
    "\n",
    "    eps = (E1 + E2) / 2; omega = (E1 - E2) / 2; c = (V11 + V22) / 2; omega_z = (V11 - V22) / 2; omega_x = V12\n",
    "\n",
    "    init_state = prepare_state(theta, phi, target)\n",
    "    qubit = One_qubit()\n",
    "    qubit.set_state(init_state)\n",
    "    measure_z = qubit.measure(number_shots)\n",
    "\n",
    "    qubit.set_state(init_state)\n",
    "    qubit.apply_hadamard()\n",
    "    measure_x = qubit.measure(number_shots)\n",
    "    \n",
    "    # expected value of Z = (number of 0 measurements - number of 1 measurements)/ number of shots\n",
    "    # number of 1 measurements = sum(measure_z)\n",
    "    exp_val_z = (omega + lmb*omega_z)*(number_shots - 2*np.sum(measure_z)) / number_shots\n",
    "    exp_val_x = lmb*omega_x*(number_shots - 2*np.sum(measure_x)) / number_shots\n",
    "    exp_val_i = (eps + c*lmb) \n",
    "    exp_val = (exp_val_z + exp_val_x + exp_val_i)\n",
    "    return exp_val"
   ]
  },
  {
   "cell_type": "code",
   "execution_count": 9,
   "id": "c145b7b0",
   "metadata": {
    "collapsed": false,
    "editable": true
   },
   "outputs": [],
   "source": [
    "def minimize_energy(lmb, number_shots, angles_0, learning_rate, max_epochs):\n",
    "    # angles = np.random.uniform(low = 0, high = np.pi, size = 2)\n",
    "    angles = angles_0 #lmb*np.array([np.pi, np.pi])\n",
    "    epoch = 0\n",
    "    delta_energy = 1\n",
    "    energy = get_energy(angles, lmb, number_shots)\n",
    "    while (epoch < max_epochs) and (delta_energy > 1e-4):\n",
    "        grad = np.zeros_like(angles)\n",
    "        for idx in range(angles.shape[0]):\n",
    "            angles_temp = angles.copy()\n",
    "            angles_temp[idx] += np.pi/2 \n",
    "            E_plus = get_energy(angles_temp, lmb, number_shots)\n",
    "            angles_temp[idx] -= np.pi \n",
    "            E_minus = get_energy(angles_temp, lmb, number_shots)\n",
    "            grad[idx] = (E_plus - E_minus)/2 \n",
    "        angles -= learning_rate*grad \n",
    "        new_energy = get_energy(angles, lmb, number_shots)\n",
    "        delta_energy = np.abs(new_energy - energy)\n",
    "        energy = new_energy\n",
    "        epoch += 1\n",
    "    return angles, epoch, (epoch < max_epochs), energy, delta_energy"
   ]
  },
  {
   "cell_type": "code",
   "execution_count": 10,
   "id": "7905d16f",
   "metadata": {
    "collapsed": false,
    "editable": true
   },
   "outputs": [],
   "source": [
    "number_shots_search = 10_000\n",
    "number_shots = 10_000\n",
    "learning_rate = 0.3\n",
    "max_epochs = 400\n",
    "lmbvalues = np.linspace(0.0, 1.0, 30)\n",
    "min_energy = np.zeros(len(lmbvalues))\n",
    "epochs = np.zeros(len(lmbvalues))\n",
    "for index, lmb in enumerate(tqdm(lmbvalues)):\n",
    "    memory = 0\n",
    "    angles_0 = np.random.uniform(low = 0, high = np.pi, size = 2)\n",
    "    angles, epochs[index], converged, energy, delta_energy = minimize_energy(lmb, number_shots_search, angles_0, learning_rate, max_epochs)\n",
    "    if epochs[index] < (epochs[index-1] - 5):\n",
    "        angles_0 = np.random.uniform(low = 0, high = np.pi, size = 2)\n",
    "        angles, epochs[index], converged, energy, delta_energy = minimize_energy(lmb, number_shots_search, angles_0, learning_rate, max_epochs)\n",
    "    min_energy[index] = get_energy(angles, lmb, number_shots)"
   ]
  },
  {
   "cell_type": "code",
   "execution_count": 11,
   "id": "3ca8dabf",
   "metadata": {
    "collapsed": false,
    "editable": true
   },
   "outputs": [],
   "source": [
    "from scipy.optimize import minimize\n",
    "number_shots = 10_000\n",
    "lmbvalues_scipy = np.linspace(0.0, 1.0, 50)\n",
    "min_energy_scipy = np.zeros(len(lmbvalues_scipy))\n",
    "for index, lmb in enumerate(tqdm(lmbvalues_scipy)):\n",
    "    angles_start = np.random.uniform(low = 0, high = np.pi, size = 4)\n",
    "    res = minimize(get_energy, angles_start, args = (lmb, number_shots), method = 'Powell', options = {'maxiter': 1000}, tol = 1e-5)\n",
    "    min_energy_scipy[index] = res.fun"
   ]
  },
  {
   "cell_type": "code",
   "execution_count": 12,
   "id": "df383077",
   "metadata": {
    "collapsed": false,
    "editable": true
   },
   "outputs": [],
   "source": [
    "fig, axs = plt.subplots(1, 1, figsize=(10, 10))\n",
    "for i in range(2):\n",
    "    axs.plot(lmbvalues_ana, eigvals_ana[:,i], label=f'$E_{i+1}$', color = '#4c72b0')\n",
    "axs.scatter(lmbvalues, min_energy, label = 'VQE eigenvalues', color = '#dd8452')\n",
    "axs.scatter(lmbvalues_scipy, min_energy_scipy, label = 'VQE Scipy', color = '#55a868')\n",
    "axs.set_xlabel(r'$\\lambda$')\n",
    "axs.set_ylabel('Energy')\n",
    "plt.legend()\n",
    "plt.show()"
   ]
  },
  {
   "cell_type": "markdown",
   "id": "448e0998",
   "metadata": {
    "editable": true
   },
   "source": [
    "## Plans for next week\n",
    "1. Introducing the Lipkin model\n",
    "\n",
    "2. Solving problems with more than one qubit and discussion of project 1"
   ]
  }
 ],
 "metadata": {},
 "nbformat": 4,
 "nbformat_minor": 5
}
