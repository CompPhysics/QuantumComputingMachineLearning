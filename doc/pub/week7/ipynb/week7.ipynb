{
 "cells": [
  {
   "cell_type": "markdown",
   "id": "81c8f98a",
   "metadata": {
    "editable": true
   },
   "source": [
    "<!-- HTML file automatically generated from DocOnce source (https://github.com/doconce/doconce/)\n",
    "doconce format html week7.do.txt --no_mako -->\n",
    "<!-- dom:TITLE: February 26-March, 2024: Quantum Computing, Quantum Machine Learning and Quantum Information Theories -->"
   ]
  },
  {
   "cell_type": "markdown",
   "id": "f51e88cd",
   "metadata": {
    "editable": true
   },
   "source": [
    "# February 26-March, 2024: Quantum Computing, Quantum Machine Learning and Quantum Information Theories\n",
    "**Morten Hjorth-Jensen**, Department of Physics, University of Oslo and Department of Physics and Astronomy and Facility for Rare Isotope Beams, Michigan State University\n",
    "\n",
    "Date: **February 28**"
   ]
  },
  {
   "cell_type": "markdown",
   "id": "dbae8083",
   "metadata": {
    "editable": true
   },
   "source": [
    "## Plans for the week of February 26-March 1\n",
    "\n",
    "1. Reminder on basics of the VQE method and how to perform measurements for the simpler one- and two-qubit Hamiltonians\n",
    "\n",
    "2. Simulating efficiently Hamiltonians on quantum computers with the VQE method and gradient descent to optimize the state function ansatz\n",
    "\n",
    "3. Work on project 1\n",
    "\n",
    "4. [Reading suggestion, VQE review article](https://www.sciencedirect.com/science/article/pii/S0370157322003118?via%3Dihub)"
   ]
  },
  {
   "cell_type": "markdown",
   "id": "aeb1ed9e",
   "metadata": {
    "editable": true
   },
   "source": [
    "## Meet the VQE\n",
    "\n",
    "The Variational quantum eigensolver (VQE) is a hybrid quantum-classical\n",
    "algorithm that finds the smallest eigenvalue (and corresponding\n",
    "eigenvector) of a given Hamiltonian. One of the main applications of\n",
    "the algorithm is finding ground state energy of quantum mechanical systems.\n",
    "It has a\n",
    "big advantage over the quantum phase estimation (QPE) algorithms, that also can be used\n",
    "for finding the ground state energy of a molecule. The main advantage\n",
    "is that VQE uses much smaller circuit depths (or gates) than\n",
    "QPE, what is very important for NISQ (Noisy Intermediate-Scale\n",
    "Quantum) era quantum computation. In the NISQ era (now!) we are\n",
    "working with qubits that are very noisy because they are not isolated\n",
    "from the environment well enough. Thus, there is small and finite time\n",
    "to work with qubits until they will be *spoiled*, because of the\n",
    "environment, imperfect gates and etc. This restriction gives a big\n",
    "advantage to those algorithms (like VQE) that are using small depth\n",
    "circuits."
   ]
  },
  {
   "cell_type": "markdown",
   "id": "36c049b4",
   "metadata": {
    "editable": true
   },
   "source": [
    "## Basic idea\n",
    "\n",
    "The idea of the VQE algorithm is as follows. We have a Hamiltonian that can be expressed by the sum of tensor products of Pauli operators (Pauli terms):"
   ]
  },
  {
   "cell_type": "markdown",
   "id": "07d64c5d",
   "metadata": {
    "editable": true
   },
   "source": [
    "$$\n",
    "H = 0.4 \\cdot IX + 0.6 \\cdot IZ + 0.8 \\cdot XY.\n",
    "$$"
   ]
  },
  {
   "cell_type": "markdown",
   "id": "5c7e3da7",
   "metadata": {
    "editable": true
   },
   "source": [
    "For a given $\\left| \\psi \\right\\rangle$ we want to measure the expectation value of the Hamiltonian:"
   ]
  },
  {
   "cell_type": "markdown",
   "id": "b7be6f9f",
   "metadata": {
    "editable": true
   },
   "source": [
    "$$\n",
    "\\left\\langle H \\right\\rangle = \\left\\langle \\psi \\right| H \\left| \\psi \\right\\rangle = 0.4 \\cdot \\left\\langle \\psi \\right| IX \\left| \\psi \\right\\rangle + 0.6 \\cdot \\left\\langle \\psi \\right| IZ \\left| \\psi \\right\\rangle + 0.8 \\cdot \\left\\langle \\psi \\right| XY \\left| \\psi \\right\\rangle.\n",
    "$$"
   ]
  },
  {
   "cell_type": "markdown",
   "id": "07bffff4",
   "metadata": {
    "editable": true
   },
   "source": [
    "## VQE and quantum circuits\n",
    "\n",
    "How one can see the $\\left\\langle H \\right\\rangle$ expectation value\n",
    "could be computed by adding the expectation values of its parts (Pauli\n",
    "terms). The algorithm does exactly that. It constructs a quantum\n",
    "circuit for each Pauli term and computes the expectation value of the\n",
    "corresponding Pauli term. Then, the algorithm sums all calculated\n",
    "expectation values of Pauli terms and obtains the expectation value of\n",
    "$H$. In this algorithm, we will do this routine of estimating the\n",
    "expectation value of $H$ over and over again for different trial\n",
    "wavefunctions (ansatz states) $\\left| \\psi \\right\\rangle$."
   ]
  },
  {
   "cell_type": "markdown",
   "id": "b813305c",
   "metadata": {
    "editable": true
   },
   "source": [
    "## Varying paramters\n",
    "\n",
    "It is known that the eigenvector $\\left| \\psi_g \\right\\rangle$ that\n",
    "minimizes the expectation value $\\left\\langle H \\right\\rangle$\n",
    "corresponds to the eigenvector of $H$ that has the smallest\n",
    "eigenvalue. So, basically we can try all possible trial wavefunctions\n",
    "$\\left| \\psi \\right\\rangle$s to find the $\\left| \\psi_g \\right\\rangle$\n",
    "that has the smallest expectation value. Here the question is how we\n",
    "create those trial states?"
   ]
  },
  {
   "cell_type": "markdown",
   "id": "686fdcb7",
   "metadata": {
    "editable": true
   },
   "source": [
    "## Constructing trial states\n",
    "\n",
    "In the algorithm, the trial states are\n",
    "created from a parametrized circuit. By changing the parameters one\n",
    "obtains different wavefunctions (ansatz states). If your circuit\n",
    "with its parameters is good enough you will have access to the\n",
    "subspace of the states that includes the $\\left| \\psi_g\n",
    "\\right\\rangle$. Otherwise, if the circuit will not have a possibility\n",
    "to generate our desired $\\left| \\psi_g \\right\\rangle$ it will be\n",
    "impossible to find the right solution."
   ]
  },
  {
   "cell_type": "markdown",
   "id": "1adebb22",
   "metadata": {
    "editable": true
   },
   "source": [
    "## Hybrid opeations\n",
    "\n",
    "The parameters of the state preparation circuit are controlled by a\n",
    "classical computer. At each step, the classical computer will change\n",
    "the parameters by using some optimization method in order to create an\n",
    "ansatz state that will have a smaller expectation value then previous\n",
    "ansatz states had. This way the classical computer and the quantum\n",
    "computer are working together to archive the goal of the algorithm (to\n",
    "find the ground state energy). That's way, VQE is a quantum-classical\n",
    "hybrid algorithm."
   ]
  },
  {
   "cell_type": "markdown",
   "id": "db443698",
   "metadata": {
    "editable": true
   },
   "source": [
    "## Reminder on technicalities\n",
    "\n",
    "From our earlier discussions we know that the Pauli $Z$ matrix has the\n",
    "above basis states as eigen states through"
   ]
  },
  {
   "cell_type": "markdown",
   "id": "402f89c7",
   "metadata": {
    "editable": true
   },
   "source": [
    "$$\n",
    "Z\\vert 0 \\rangle = \\boldsymbol{Z}\\vert 0 \\rangle=+1\\vert 0 \\rangle,\n",
    "$$"
   ]
  },
  {
   "cell_type": "markdown",
   "id": "cca21b95",
   "metadata": {
    "editable": true
   },
   "source": [
    "and"
   ]
  },
  {
   "cell_type": "markdown",
   "id": "085b8344",
   "metadata": {
    "editable": true
   },
   "source": [
    "$$\n",
    "Z\\vert 1 \\rangle = \\boldsymbol{Z}\\vert 1 \\rangle=-1\\vert 1 \\rangle,\n",
    "$$"
   ]
  },
  {
   "cell_type": "markdown",
   "id": "3063b76e",
   "metadata": {
    "editable": true
   },
   "source": [
    "with eigenvalue $-1$."
   ]
  },
  {
   "cell_type": "markdown",
   "id": "40cd589d",
   "metadata": {
    "editable": true
   },
   "source": [
    "## Pauli $X$ reminder\n",
    "\n",
    "For the Pauli $X$ matrix on the other hand we have"
   ]
  },
  {
   "cell_type": "markdown",
   "id": "92fca38c",
   "metadata": {
    "editable": true
   },
   "source": [
    "$$\n",
    "\\boldsymbol{\\sigma}_x\\vert 0 \\rangle = \\boldsymbol{X}\\vert 0 \\rangle=+1\\vert 1 \\rangle,\n",
    "$$"
   ]
  },
  {
   "cell_type": "markdown",
   "id": "a04fdf56",
   "metadata": {
    "editable": true
   },
   "source": [
    "and"
   ]
  },
  {
   "cell_type": "markdown",
   "id": "5a582974",
   "metadata": {
    "editable": true
   },
   "source": [
    "$$\n",
    "\\boldsymbol{\\sigma}_x\\vert 1 \\rangle = \\boldsymbol{X}\\vert 1 \\rangle=-1\\vert 0 \\rangle,\n",
    "$$"
   ]
  },
  {
   "cell_type": "markdown",
   "id": "a12816b5",
   "metadata": {
    "editable": true
   },
   "source": [
    "with eigenvalues $1$ in both cases. The latter two equations tell us\n",
    "that the computational basis we have chosen, and in which we will\n",
    "prepare our states, is not an eigenbasis of the $\\sigma_x$ matrix."
   ]
  },
  {
   "cell_type": "markdown",
   "id": "0cd1d546",
   "metadata": {
    "editable": true
   },
   "source": [
    "## Rewriting the Pauli $X$ matrix\n",
    "\n",
    "We rewrite the Pauli $X$ matrix in terms of a Pauli\n",
    "$Z$ matrixcusing the Hadamard matrix\n",
    "twice, that is"
   ]
  },
  {
   "cell_type": "markdown",
   "id": "30ef8845",
   "metadata": {
    "editable": true
   },
   "source": [
    "$$\n",
    "\\boldsymbol{X}=\\boldsymbol{\\sigma}_x=\\boldsymbol{H}\\boldsymbol{Z}\\boldsymbol{H}.\n",
    "$$"
   ]
  },
  {
   "cell_type": "markdown",
   "id": "32410c4d",
   "metadata": {
    "editable": true
   },
   "source": [
    "## The Pauli $Y$ matrix\n",
    "\n",
    "The Pauli $Y$ matrix can be written as"
   ]
  },
  {
   "cell_type": "markdown",
   "id": "0be26110",
   "metadata": {
    "editable": true
   },
   "source": [
    "$$\n",
    "\\boldsymbol{Y}=\\boldsymbol{\\sigma}_y=\\boldsymbol{H}\\boldsymbol{S}^{\\dagger}\\boldsymbol{Z}\\boldsymbol{H}\\boldsymbol{S},\n",
    "$$"
   ]
  },
  {
   "cell_type": "markdown",
   "id": "01ff7be4",
   "metadata": {
    "editable": true
   },
   "source": [
    "where $S$ is the phase matrix"
   ]
  },
  {
   "cell_type": "markdown",
   "id": "01a5d12f",
   "metadata": {
    "editable": true
   },
   "source": [
    "$$\n",
    "S = \\begin{bmatrix} 1 & 0 \\\\ 0 & \\imath \\end{bmatrix}.\n",
    "$$"
   ]
  },
  {
   "cell_type": "markdown",
   "id": "11840f52",
   "metadata": {
    "editable": true
   },
   "source": [
    "## Rotations\n",
    "\n",
    "Another important set of gates are the **rotation operators** $R_x, R_y$ and $R_z$.\n",
    "By application to a qubit, we can reach any point on the Bloch sphere by usage of all three once. They are expressed as"
   ]
  },
  {
   "cell_type": "markdown",
   "id": "fc293acd",
   "metadata": {
    "editable": true
   },
   "source": [
    "$$\n",
    "\\begin{align*}\n",
    "    \\begin{split}\n",
    "        R_x(\\theta) &= \\exp{-iX\\theta/2} = \\begin{bmatrix}\n",
    "            \\cos(\\theta/2) & -i\\sin(\\theta/2) \\\\\n",
    "            -i\\sin(\\theta/2) & \\cos(\\theta/2)\n",
    "        \\end{bmatrix}, \\\\\n",
    "        R_y(\\theta) &= \\exp{-iY\\theta/2} = \\begin{bmatrix}\n",
    "            \\cos(\\theta/2) & -\\sin(\\theta/2) \\\\\n",
    "            -\\sin(\\theta/2) & \\cos(\\theta/2)\n",
    "        \\end{bmatrix}, \\\\\n",
    "        R_z(\\theta) &= \\exp{-iZ\\theta/2} = \\begin{bmatrix}\n",
    "            \\exp{-i\\theta/2} & 0 \\\\\n",
    "            0 & \\exp{i\\theta/2}\n",
    "        \\end{bmatrix}\n",
    "    \\end{split}\n",
    "\\end{align*}\n",
    "$$"
   ]
  },
  {
   "cell_type": "markdown",
   "id": "226b3809",
   "metadata": {
    "editable": true
   },
   "source": [
    "with all having a period of $4\\pi$."
   ]
  },
  {
   "cell_type": "markdown",
   "id": "cfcdd9e4",
   "metadata": {
    "editable": true
   },
   "source": [
    "## Rayleigh-Ritz variational principle\n",
    "\n",
    "The Rayleigh-Ritz variational principle states that for a given\n",
    "Hamiltonian $H$, the expectation value of a trial state or\n",
    "just ansatz $\\vert \\psi \\rangle$ puts a lower bound on the ground state\n",
    "energy $E_0$."
   ]
  },
  {
   "cell_type": "markdown",
   "id": "e4854d01",
   "metadata": {
    "editable": true
   },
   "source": [
    "$$\n",
    "\\frac{\\langle \\psi \\vert H\\vert \\psi \\rangle}{\\langle \\psi \\vert \\psi \\rangle} \\geq E_0.\n",
    "$$"
   ]
  },
  {
   "cell_type": "markdown",
   "id": "f76aa33c",
   "metadata": {
    "editable": true
   },
   "source": [
    "## The ansatz\n",
    "\n",
    "The ansatz is typically chosen to be a parameterized superposition of\n",
    "basis states that can be varied to improve the energy estimate,\n",
    "$\\vert \\psi\\rangle \\equiv \\vert psi(\\boldsymbol{\\theta})\\rangle$ where\n",
    "$\\boldsymbol{\\theta} = (\\theta_1, \\ldots, \\theta_M)$ are the $M$\n",
    "optimization parameters."
   ]
  },
  {
   "cell_type": "markdown",
   "id": "dfdc1fa8",
   "metadata": {
    "editable": true
   },
   "source": [
    "## Rotations again\n",
    "\n",
    "To have any flexibility in the\n",
    "ansatz $\\vert \\psi\\rangle$, we need to allow for parametrization. The most\n",
    "common approach is the so-called $R_y$ ansatz, where we apply chained\n",
    "operations of rotating around the $y$-axis by $\\boldsymbol{\\theta} =\n",
    "(\\theta_1,\\ldots,\\theta_Q)$ of the Bloch sphere and CNOT operations.\n",
    "\n",
    "Applications of $y$ rotations\n",
    "specifically ensures that our coefficients always remain real, which\n",
    "often is satisfactory when dealing with many-body systems."
   ]
  },
  {
   "cell_type": "markdown",
   "id": "9780584e",
   "metadata": {
    "editable": true
   },
   "source": [
    "## Measurements and more\n",
    "\n",
    "After the ansatz has been constructed, the Hamiltonian must\n",
    "be applied. As discussed, the Hamiltonian must be written in terms of\n",
    "Pauli strings.\n",
    "\n",
    "To obtain the expectation value\n",
    "of the ground state energy, one can measure the expectation value of\n",
    "each Pauli string,"
   ]
  },
  {
   "cell_type": "markdown",
   "id": "229f92e1",
   "metadata": {
    "editable": true
   },
   "source": [
    "$$\n",
    "\\begin{align*}\n",
    "    E(\\boldsymbol{\\theta}) = \\sum_i w_i\\langle \\psi(\\boldsymbol{\\theta})\\vert P_i \\vert \\psi(\\boldsymbol{\\theta})\\rangle \\equiv \\sum_i w_i f_i,\n",
    "\\end{align*}\n",
    "$$"
   ]
  },
  {
   "cell_type": "markdown",
   "id": "93ff53de",
   "metadata": {
    "editable": true
   },
   "source": [
    "where $f_i$ is the expectation value of the Pauli string $i$."
   ]
  },
  {
   "cell_type": "markdown",
   "id": "65de8fab",
   "metadata": {
    "editable": true
   },
   "source": [
    "## Collecting data\n",
    "\n",
    "This is estimated statistically by considering measurements in the\n",
    "appropriate basis of the operator in the Pauli string.\n",
    "\n",
    "With $N_0$ and $N_1$ as the number of $0$ and $1$ measurements respectively, we can estimate $f_i$ since"
   ]
  },
  {
   "cell_type": "markdown",
   "id": "8683ff42",
   "metadata": {
    "editable": true
   },
   "source": [
    "$$\n",
    "\\begin{align*}\n",
    "    f_i = \\lim_{N \\to \\infty} \\frac{N_0 - N_1}{N},\n",
    "\\end{align*}\n",
    "$$"
   ]
  },
  {
   "cell_type": "markdown",
   "id": "b589adbe",
   "metadata": {
    "editable": true
   },
   "source": [
    "where $N$ as the number of shots (measurements).\n",
    "\n",
    "Each Pauli string requires it own circuit, where multiple measurements\n",
    "of each string is required. Adding the results together with the\n",
    "corresponding weights, the ground state energy can be estimated. To\n",
    "optimize with respect to  $\\boldsymbol{\\theta}$, a classical optimizer is often\n",
    "applied."
   ]
  },
  {
   "cell_type": "markdown",
   "id": "2ff6ea1d",
   "metadata": {
    "editable": true
   },
   "source": [
    "## The VQE algoritm\n",
    "\n",
    "The VQE algorithm consists of several steps, partially done on a classical computer:\n",
    "1. A parameterized ansatz for the quantum state is implemented on a quantum computer.\n",
    "\n",
    "2. The ansatz is measured in a given measurement basis.\n",
    "\n",
    "3. Postprocessing on a classical computer converts the measurement outcomes to an expectation value.\n",
    "\n",
    "4. Classical minimization algorithms are used to up- date the variational parameters.\n",
    "\n",
    "The updated variational parameters are then sent back to the quantum\n",
    "computer, and the process is repeated until the optimal variational\n",
    "parameters are found."
   ]
  },
  {
   "cell_type": "markdown",
   "id": "cbebd457",
   "metadata": {
    "editable": true
   },
   "source": [
    "## VQE overview\n",
    "\n",
    "<!-- dom:FIGURE: [figures/vqe.png, width=700 frac=0.9] -->\n",
    "<!-- begin figure -->\n",
    "\n",
    "<img src=\"figures/vqe.png\" width=\"700\"><p style=\"font-size: 0.9em\"><i>Figure 1: </i></p>\n",
    "<!-- end figure -->"
   ]
  },
  {
   "cell_type": "markdown",
   "id": "28f6cfbb",
   "metadata": {
    "editable": true
   },
   "source": [
    "## Ansatzes\n",
    "\n",
    "Every possible qubit wavefunction $\\left| \\psi \\right\\rangle$ can be presented as a vector:"
   ]
  },
  {
   "cell_type": "markdown",
   "id": "41d83ac4",
   "metadata": {
    "editable": true
   },
   "source": [
    "$$\n",
    "\\left| \\psi \\right\\rangle = \\begin{pmatrix}\n",
    "\\cos{\\left( \\theta/2 \\right)}\\\\\n",
    "e^{i \\varphi} \\cdot \\sin{\\left( \\theta/2 \\right)}\n",
    "\\end{pmatrix},\n",
    "$$"
   ]
  },
  {
   "cell_type": "markdown",
   "id": "71c59192",
   "metadata": {
    "editable": true
   },
   "source": [
    "where the numbers $\\theta$ and $\\varphi$ define a point on the unit\n",
    "three-dimensional sphere, the so-called  Bloch sphere.\n",
    "\n",
    "For a random one qubit Hamiltonian, a *good* quantum state preparation\n",
    "circuit should be able to generate all possible states in the Bloch\n",
    "sphere."
   ]
  },
  {
   "cell_type": "markdown",
   "id": "3c57565f",
   "metadata": {
    "editable": true
   },
   "source": [
    "## Preparing the states\n",
    "\n",
    "Before quantum state preparation, our qubit is in the $\\vert 0\\rangle$ state.\n",
    "This corresponds to the vertical position of\n",
    "the vector in the Bloch sphere. In order to generate any possible\n",
    "$\\left| \\psi \\right\\rangle$ we will apply $R_x(t_1)$ and $R_y(t_2)$\n",
    "gates on the $\\left| 0 \\right\\rangle$ initial state"
   ]
  },
  {
   "cell_type": "markdown",
   "id": "9e9974cb",
   "metadata": {
    "editable": true
   },
   "source": [
    "$$\n",
    "R_y(t_2)R_x(t_1) \\left| 0 \\right\\rangle = \\left| \\psi\\right\\rangle.\n",
    "$$"
   ]
  },
  {
   "cell_type": "markdown",
   "id": "831fbb5a",
   "metadata": {
    "editable": true
   },
   "source": [
    "The rotation $R_x(t_1)$\n",
    "corresponds to the rotation in the Bloch\n",
    "sphere around the $x$-axis and $R_y(t_2)$ the rotation around the $y$-axis."
   ]
  },
  {
   "cell_type": "markdown",
   "id": "a7ba89c4",
   "metadata": {
    "editable": true
   },
   "source": [
    "## Rotations used\n",
    "\n",
    "With these two rotations, one can have access to any point in\n",
    "the Bloch sphere. Here we show the matrix forms of $R_x(t_1)$ and\n",
    "$R_y(t_2)$ gates:"
   ]
  },
  {
   "cell_type": "markdown",
   "id": "bcde48fa",
   "metadata": {
    "editable": true
   },
   "source": [
    "$$\n",
    "R_x(t_1) = \\begin{pmatrix}\n",
    "cos(\\frac{t_1}{2}) & -i \\cdot sin(\\frac{t_1}{2})\\\\\n",
    "-i \\cdot sin(\\frac{t_1}{2}) & cos(\\frac{t_1}{2})\n",
    "\\end{pmatrix},\n",
    "\\qquad\n",
    "R_y(t_2) = \\begin{pmatrix}\n",
    "cos(\\frac{t_2}{2}) & -sin(\\frac{t_2}{2})\\\\\n",
    "sin(\\frac{t_2}{2}) & cos(\\frac{t_2}{2})\n",
    "\\end{pmatrix}.\n",
    "$$"
   ]
  },
  {
   "cell_type": "markdown",
   "id": "668cddd7",
   "metadata": {
    "editable": true
   },
   "source": [
    "These two gates with there parameters ($t_1$ and $t_2$) will generate\n",
    "for us the trial (ansatz) wavefunctions. The two parameters will be in\n",
    "control of the Classical Computer and its optimization model."
   ]
  },
  {
   "cell_type": "markdown",
   "id": "cbf140d8",
   "metadata": {
    "editable": true
   },
   "source": [
    "## Implementing using qiskit"
   ]
  },
  {
   "cell_type": "code",
   "execution_count": 1,
   "id": "80177a4f",
   "metadata": {
    "collapsed": false,
    "editable": true
   },
   "outputs": [],
   "source": [
    "import numpy as np\n",
    "from random import random\n",
    "from qiskit import *\n",
    "def quantum_state_preparation(circuit, parameters):\n",
    "    q = circuit.qregs[0] # q is the quantum register where the info about qubits is stored\n",
    "    circuit.rx(parameters[0], q[0]) # q[0] is our one and only qubit XD\n",
    "    circuit.ry(parameters[1], q[0])\n",
    "    return circuit"
   ]
  },
  {
   "cell_type": "markdown",
   "id": "2c6de73c",
   "metadata": {
    "editable": true
   },
   "source": [
    "## VQE and efficient computations of gradients\n",
    "\n",
    "We start with a reminder on the VQE method with applications to the\n",
    "one-qubit system discussed last week.\n",
    "\n",
    "Here we revisit the one-qubit system and develop a VQE\n",
    "code for studying this system using gradient descent as a method to\n",
    "optimize the variational ansatz. \n",
    "\n",
    "We start with a simple $2\\times 2$ Hamiltonian matrix expressed in\n",
    "terms of Pauli $X$ and $Z$ matrices, as discussed in the project text."
   ]
  },
  {
   "cell_type": "markdown",
   "id": "5b39e25e",
   "metadata": {
    "editable": true
   },
   "source": [
    "## Symmetric matrix\n",
    "\n",
    "We define a  symmetric matrix  $H\\in {\\mathbb{R}}^{2\\times 2}$"
   ]
  },
  {
   "cell_type": "markdown",
   "id": "1c8479cd",
   "metadata": {
    "editable": true
   },
   "source": [
    "$$\n",
    "H = \\begin{bmatrix} H_{11} & H_{12} \\\\ H_{21} & H_{22}\n",
    "\\end{bmatrix},\n",
    "$$"
   ]
  },
  {
   "cell_type": "markdown",
   "id": "9b8ca1da",
   "metadata": {
    "editable": true
   },
   "source": [
    "We  let $H = H_0 + H_I$, where"
   ]
  },
  {
   "cell_type": "markdown",
   "id": "0b0cd534",
   "metadata": {
    "editable": true
   },
   "source": [
    "$$\n",
    "H_0= \\begin{bmatrix} E_1 & 0 \\\\ 0 & E_2\\end{bmatrix},\n",
    "$$"
   ]
  },
  {
   "cell_type": "markdown",
   "id": "0f6b8a6c",
   "metadata": {
    "editable": true
   },
   "source": [
    "is a diagonal matrix. Similarly,"
   ]
  },
  {
   "cell_type": "markdown",
   "id": "402f6d25",
   "metadata": {
    "editable": true
   },
   "source": [
    "$$\n",
    "H_I= \\begin{bmatrix} V_{11} & V_{12} \\\\ V_{21} & V_{22}\\end{bmatrix},\n",
    "$$"
   ]
  },
  {
   "cell_type": "markdown",
   "id": "a336cc8d",
   "metadata": {
    "editable": true
   },
   "source": [
    "where $V_{ij}$ represent various interaction matrix elements."
   ]
  },
  {
   "cell_type": "markdown",
   "id": "efe5ae60",
   "metadata": {
    "editable": true
   },
   "source": [
    "## Non-interacting solution\n",
    "\n",
    "We can view $H_0$ as the non-interacting solution"
   ]
  },
  {
   "cell_type": "markdown",
   "id": "326c6176",
   "metadata": {
    "editable": true
   },
   "source": [
    "<!-- Equation labels as ordinary links -->\n",
    "<div id=\"_auto1\"></div>\n",
    "\n",
    "$$\n",
    "\\begin{equation}\n",
    "       H_0\\vert 0 \\rangle =E_1\\vert 0 \\rangle,\n",
    "\\label{_auto1} \\tag{1}\n",
    "\\end{equation}\n",
    "$$"
   ]
  },
  {
   "cell_type": "markdown",
   "id": "5cdad4ef",
   "metadata": {
    "editable": true
   },
   "source": [
    "and"
   ]
  },
  {
   "cell_type": "markdown",
   "id": "b00f2bba",
   "metadata": {
    "editable": true
   },
   "source": [
    "<!-- Equation labels as ordinary links -->\n",
    "<div id=\"_auto2\"></div>\n",
    "\n",
    "$$\n",
    "\\begin{equation}\n",
    "       H_0\\vert 1\\rangle =E_2\\vert 1\\rangle,\n",
    "\\label{_auto2} \\tag{2}\n",
    "\\end{equation}\n",
    "$$"
   ]
  },
  {
   "cell_type": "markdown",
   "id": "23779ad7",
   "metadata": {
    "editable": true
   },
   "source": [
    "where we have defined the orthogonal computational one-qubit basis states $\\vert 0\\rangle$ and $\\vert 1\\rangle$."
   ]
  },
  {
   "cell_type": "markdown",
   "id": "96056f57",
   "metadata": {
    "editable": true
   },
   "source": [
    "## Rewriting with Pauli matrices\n",
    "We rewrite $H$ (and $H_0$ and $H_I$)  via Pauli matrices"
   ]
  },
  {
   "cell_type": "markdown",
   "id": "f4e725a8",
   "metadata": {
    "editable": true
   },
   "source": [
    "$$\n",
    "H_0 = \\mathcal{E} I + \\Omega \\sigma_z, \\quad \\mathcal{E} = \\frac{E_1\n",
    "  + E_2}{2}, \\; \\Omega = \\frac{E_1-E_2}{2},\n",
    "$$"
   ]
  },
  {
   "cell_type": "markdown",
   "id": "1f40fa8f",
   "metadata": {
    "editable": true
   },
   "source": [
    "and"
   ]
  },
  {
   "cell_type": "markdown",
   "id": "53eb3d07",
   "metadata": {
    "editable": true
   },
   "source": [
    "$$\n",
    "H_I = c \\boldsymbol{I} +\\omega_z\\sigma_z + \\omega_x\\sigma_x,\n",
    "$$"
   ]
  },
  {
   "cell_type": "markdown",
   "id": "8fba4cf5",
   "metadata": {
    "editable": true
   },
   "source": [
    "with $c = (V_{11}+V_{22})/2$, $\\omega_z = (V_{11}-V_{22})/2$ and $\\omega_x = V_{12}=V_{21}$.\n",
    "We let our Hamiltonian depend linearly on a strength parameter $\\lambda$"
   ]
  },
  {
   "cell_type": "markdown",
   "id": "7875687d",
   "metadata": {
    "editable": true
   },
   "source": [
    "$$\n",
    "H=H_0+\\lambda H_\\mathrm{I},\n",
    "$$"
   ]
  },
  {
   "cell_type": "markdown",
   "id": "6d61d536",
   "metadata": {
    "editable": true
   },
   "source": [
    "with $\\lambda \\in [0,1]$, where the limits $\\lambda=0$ and $\\lambda=1$\n",
    "represent the non-interacting (or unperturbed) and fully interacting\n",
    "system, respectively."
   ]
  },
  {
   "cell_type": "markdown",
   "id": "3c524c45",
   "metadata": {
    "editable": true
   },
   "source": [
    "## Selecting parameters\n",
    "\n",
    "The model is an eigenvalue problem with only\n",
    "two available states.\n",
    "\n",
    "Here we set the parameters $E_1=0$,\n",
    "$E_2=4$, $V_{11}=-V_{22}=3$ and $V_{12}=V_{21}=0.2$.\n",
    "\n",
    "The non-interacting solutions represent our computational basis.\n",
    "Pertinent to our choice of parameters, is that at $\\lambda\\geq 2/3$,\n",
    "the lowest eigenstate is dominated by $\\vert 1\\rangle$ while the upper\n",
    "is $\\vert 0 \\rangle$. At $\\lambda=1$ the $\\vert 0 \\rangle$ mixing of\n",
    "the lowest eigenvalue is $1\\%$ while for $\\lambda\\leq 2/3$ we have a\n",
    "$\\vert 0 \\rangle$ component of more than $90\\%$.  The character of the\n",
    "eigenvectors has therefore been interchanged when passing $z=2/3$. The\n",
    "value of the parameter $V_{12}$ represents the strength of the coupling\n",
    "between the two states."
   ]
  },
  {
   "cell_type": "markdown",
   "id": "1d454954",
   "metadata": {
    "editable": true
   },
   "source": [
    "## Setting up the matrix\n",
    "This part is best seen using the jupyter-notebook"
   ]
  },
  {
   "cell_type": "code",
   "execution_count": 2,
   "id": "99c30522",
   "metadata": {
    "collapsed": false,
    "editable": true
   },
   "outputs": [],
   "source": [
    "%matplotlib inline\n",
    "\n",
    "from  matplotlib import pyplot as plt\n",
    "import numpy as np\n",
    "dim = 2\n",
    "Hamiltonian = np.zeros((dim,dim))\n",
    "e0 = 0.0\n",
    "e1 = 4.0\n",
    "Xnondiag = 0.20\n",
    "Xdiag = 3.0\n",
    "Eigenvalue = np.zeros(dim)\n",
    "# setting up the Hamiltonian\n",
    "Hamiltonian[0,0] = Xdiag+e0\n",
    "Hamiltonian[0,1] = Xnondiag\n",
    "Hamiltonian[1,0] = Hamiltonian[0,1]\n",
    "Hamiltonian[1,1] = e1-Xdiag\n",
    "# diagonalize and obtain eigenvalues, not necessarily sorted\n",
    "EigValues, EigVectors = np.linalg.eig(Hamiltonian)\n",
    "permute = EigValues.argsort()\n",
    "EigValues = EigValues[permute]\n",
    "# print only the lowest eigenvalue\n",
    "print(EigValues[0])"
   ]
  },
  {
   "cell_type": "markdown",
   "id": "682f689a",
   "metadata": {
    "editable": true
   },
   "source": [
    "Now rewrite it in terms of the identity matrix and the Pauli matrix X and Z"
   ]
  },
  {
   "cell_type": "code",
   "execution_count": 3,
   "id": "42fc89a2",
   "metadata": {
    "collapsed": false,
    "editable": true
   },
   "outputs": [],
   "source": [
    "# Now rewrite it in terms of the identity matrix and the Pauli matrix X and Z\n",
    "X = np.array([[0,1],[1,0]])\n",
    "Y = np.array([[0,-1j],[1j,0]])\n",
    "Z = np.array([[1,0],[0,-1]])\n",
    "# identity matrix\n",
    "I = np.array([[1,0],[0,1]])\n",
    "\n",
    "epsilon = (e0+e1)*0.5; omega = (e0-e1)*0.5\n",
    "c = 0.0; omega_z=Xdiag; omega_x = Xnondiag\n",
    "Hamiltonian = (epsilon+c)*I+(omega_z+omega)*Z+omega_x*X\n",
    "EigValues, EigVectors = np.linalg.eig(Hamiltonian)\n",
    "permute = EigValues.argsort()\n",
    "EigValues = EigValues[permute]\n",
    "# print only the lowest eigenvalue\n",
    "print(EigValues[0])"
   ]
  },
  {
   "cell_type": "markdown",
   "id": "49e8607c",
   "metadata": {
    "editable": true
   },
   "source": [
    "## Implementing the VQE\n",
    "\n",
    "For a one-qubit system we can reach every point on the Bloch sphere\n",
    "(as discussed earlier) with a rotation about the $x$-axis and the\n",
    "$y$-axis.\n",
    "\n",
    "We can express this mathematically through the following operations (see whiteboard for the drawing), giving us a new state $\\vert \\psi\\rangle$"
   ]
  },
  {
   "cell_type": "markdown",
   "id": "21369ef0",
   "metadata": {
    "editable": true
   },
   "source": [
    "$$\n",
    "\\vert\\psi\\rangle = R_y(\\phi)R_x(\\theta)\\vert 0 \\rangle.\n",
    "$$"
   ]
  },
  {
   "cell_type": "markdown",
   "id": "911ac1c2",
   "metadata": {
    "editable": true
   },
   "source": [
    "## Multiple ansatzes\n",
    "\n",
    "We can produce multiple ansatzes for the new state in terms of the\n",
    "angles $\\theta$ and $\\phi$.  With these ansatzes we can in turn\n",
    "calculate the expectation value of the above Hamiltonian, now\n",
    "rewritten in terms of various Pauli matrices (and thereby gates), that is compute"
   ]
  },
  {
   "cell_type": "markdown",
   "id": "bb6ba59f",
   "metadata": {
    "editable": true
   },
   "source": [
    "$$\n",
    "\\langle \\psi \\vert (c+\\mathcal{E})\\boldsymbol{I} + (\\Omega+\\omega_z)\\boldsymbol{\\sigma}_z + \\omega_x\\boldsymbol{\\sigma}_x\\vert \\psi \\rangle.\n",
    "$$"
   ]
  },
  {
   "cell_type": "markdown",
   "id": "6642093b",
   "metadata": {
    "editable": true
   },
   "source": [
    "## Rotations again\n",
    "\n",
    "We can now set up a series of ansatzes for $\\vert \\psi \\rangle$ as\n",
    "function of the angles $\\theta$ and $\\phi$ and find thereafter the\n",
    "variational minimum using for example a gradient descent method.\n",
    "\n",
    "To do so, we need to remind ourselves about the mathematical expressions for\n",
    "the rotational matrices/operators."
   ]
  },
  {
   "cell_type": "markdown",
   "id": "14603d70",
   "metadata": {
    "editable": true
   },
   "source": [
    "$$\n",
    "R_x(\\theta)=\\cos{\\frac{\\theta}{2}}\\boldsymbol{I}-\\imath \\sin{\\frac{\\theta}{2}}\\boldsymbol{\\sigma}_x,\n",
    "$$"
   ]
  },
  {
   "cell_type": "markdown",
   "id": "69d52518",
   "metadata": {
    "editable": true
   },
   "source": [
    "and"
   ]
  },
  {
   "cell_type": "markdown",
   "id": "118c157b",
   "metadata": {
    "editable": true
   },
   "source": [
    "$$\n",
    "R_y(\\phi)=\\cos{\\frac{\\phi}{2}}\\boldsymbol{I}-\\imath \\sin{\\frac{\\phi}{2}}\\boldsymbol{\\sigma}_y.\n",
    "$$"
   ]
  },
  {
   "cell_type": "markdown",
   "id": "716b8ef1",
   "metadata": {
    "editable": true
   },
   "source": [
    "## Simple code"
   ]
  },
  {
   "cell_type": "code",
   "execution_count": 4,
   "id": "d73ae6de",
   "metadata": {
    "collapsed": false,
    "editable": true
   },
   "outputs": [],
   "source": [
    "# define the rotation matrices\n",
    "# Define angles theta and phi\n",
    "theta = 0.5*np.pi; phi = 0.2*np.pi\n",
    "Rx = np.cos(theta*0.5)*I-1j*np.sin(theta*0.5)*X\n",
    "Ry = np.cos(phi*0.5)*I-1j*np.sin(phi*0.5)*Y\n",
    "#define basis states\n",
    "basis0 = np.array([1,0])\n",
    "basis1 = np.array([0,1])\n",
    "\n",
    "NewBasis = Ry @ Rx @ basis0\n",
    "print(NewBasis)\n",
    "# Compute the expectation value\n",
    "#Note hermitian conjugation\n",
    "Energy = NewBasis.conj().T @ Hamiltonian @ NewBasis\n",
    "print(Energy)"
   ]
  },
  {
   "cell_type": "markdown",
   "id": "af9cc445",
   "metadata": {
    "editable": true
   },
   "source": [
    "Not an impressive results. We set up now a loop over many angles $\\theta$ and $\\phi$ and compute the energies"
   ]
  },
  {
   "cell_type": "code",
   "execution_count": 5,
   "id": "288ba143",
   "metadata": {
    "collapsed": false,
    "editable": true
   },
   "outputs": [],
   "source": [
    "# define a number of angles\n",
    "n = 20\n",
    "angle = np.arange(0,180,10)\n",
    "n = np.size(angle)\n",
    "ExpectationValues = np.zeros((n,n))\n",
    "for i in range (n):\n",
    "    theta = np.pi*angle[i]/180.0\n",
    "    Rx = np.cos(theta*0.5)*I-1j*np.sin(theta*0.5)*X\n",
    "    for j in range (n):\n",
    "        phi = np.pi*angle[j]/180.0\n",
    "        Ry = np.cos(phi*0.5)*I-1j*np.sin(phi*0.5)*Y\n",
    "        NewBasis = Ry @ Rx @ basis0\n",
    "        Energy = NewBasis.conj().T @ Hamiltonian @ NewBasis\n",
    "        Edifference=abs(np.real(EigValues[0]-Energy))\n",
    "        ExpectationValues[i,j]=Edifference\n",
    "\n",
    "print(np.min(ExpectationValues))"
   ]
  },
  {
   "cell_type": "markdown",
   "id": "63d7b536",
   "metadata": {
    "editable": true
   },
   "source": [
    "Clearly, this is not the best way of proceeding. Rather, here we\n",
    "could try to find the optimal values for the parameters $\\theta$ and\n",
    "$\\phi$ through computation of their respective gradients and thereby\n",
    "find the minimum as function of the optimal angles $\\hat{\\theta}$ and\n",
    "$\\hat{\\phi}$.\n",
    "\n",
    "Let us now implement a classical gradient descent algorithm to the computation of the energies. \n",
    "We will follow closely  <https://journals.aps.org/pra/abstract/10.1103/PhysRevA.99.032331> in order to calculate gradients of the Hamiltonian."
   ]
  },
  {
   "cell_type": "markdown",
   "id": "ed444619",
   "metadata": {
    "editable": true
   },
   "source": [
    "## Gradient descent and calculations of gradients\n",
    "\n",
    "In order to optimize the VQE ansatz, we need to compute derivatives\n",
    "with respect to the variational parameters.  Here we develop first a\n",
    "simpler approach tailored to the one-qubit case. For this particular\n",
    "case, we have defined an ansatz in terms of the Pauli rotation\n",
    "matrices."
   ]
  },
  {
   "cell_type": "markdown",
   "id": "32a40938",
   "metadata": {
    "editable": true
   },
   "source": [
    "## Setting up gradients\n",
    "\n",
    "These define an arbitrary one-qubit state on the Bloch\n",
    "sphere through the expression"
   ]
  },
  {
   "cell_type": "markdown",
   "id": "abf4753b",
   "metadata": {
    "editable": true
   },
   "source": [
    "$$\n",
    "\\vert\\psi\\rangle = \\vert \\psi(\\theta,\\phi)\\rangle =R_y(\\phi)R_x(\\theta)\\vert 0 \\rangle.\n",
    "$$"
   ]
  },
  {
   "cell_type": "markdown",
   "id": "37a34270",
   "metadata": {
    "editable": true
   },
   "source": [
    "Each of these rotation matrices can be written in a more general form as"
   ]
  },
  {
   "cell_type": "markdown",
   "id": "eebcad30",
   "metadata": {
    "editable": true
   },
   "source": [
    "$$\n",
    "R_{i}(\\gamma)=\\exp{-(\\imath\\frac{\\gamma}{2}\\sigma_i)}=\\cos{(\\frac{\\gamma}{2})}\\boldsymbol{I}-\\imath\\sin{(\\frac{\\gamma}{2})}\\boldsymbol{\\sigma}_i,\n",
    "$$"
   ]
  },
  {
   "cell_type": "markdown",
   "id": "0e072017",
   "metadata": {
    "editable": true
   },
   "source": [
    "where $\\sigma_i$ is one of the Pauli matrices $\\sigma_{x,y,z}$."
   ]
  },
  {
   "cell_type": "markdown",
   "id": "7b555df7",
   "metadata": {
    "editable": true
   },
   "source": [
    "## Derivatives\n",
    "\n",
    "It is easy to see that the derivative with respect to $\\gamma$ is"
   ]
  },
  {
   "cell_type": "markdown",
   "id": "32f771cb",
   "metadata": {
    "editable": true
   },
   "source": [
    "$$\n",
    "\\frac{\\partial R_{i}(\\gamma)}{\\partial \\gamma}=-\\frac{\\gamma}{2}\\boldsymbol{\\sigma}_i R_{i}(\\gamma).\n",
    "$$"
   ]
  },
  {
   "cell_type": "markdown",
   "id": "9a672592",
   "metadata": {
    "editable": true
   },
   "source": [
    "## Derivatives of the expectation value of the Hamiltonian\n",
    "\n",
    "We can now calculate the derivative of the expectation value of the\n",
    "Hamiltonian in terms of the angles $\\theta$ and $\\phi$. We have two\n",
    "derivatives"
   ]
  },
  {
   "cell_type": "markdown",
   "id": "0d6ac409",
   "metadata": {
    "editable": true
   },
   "source": [
    "$$\n",
    "\\frac{\\partial}{\\partial \\theta}\\left[\\langle \\psi(\\theta,\\phi) \\vert \\boldsymbol{H}\\vert \\psi(\\theta,\\phi)\\rangle\\right]=\\frac{\\partial}{\\partial \\theta}\\left[\\langle\\boldsymbol{H}(\\theta,\\phi)\\rangle\\right]=\\langle \\psi(\\theta,\\phi) \\vert \\boldsymbol{H}(-\\frac{\\imath}{2}\\boldsymbol{\\sigma}_x\\vert \\psi(\\theta,\\phi)\\rangle+\\hspace{0.1cm}\\mathrm{h.c},\n",
    "$$"
   ]
  },
  {
   "cell_type": "markdown",
   "id": "c487acda",
   "metadata": {
    "editable": true
   },
   "source": [
    "and"
   ]
  },
  {
   "cell_type": "markdown",
   "id": "f7bdeea8",
   "metadata": {
    "editable": true
   },
   "source": [
    "$$\n",
    "\\frac{\\partial }{\\partial \\phi}\\left[\\langle \\psi(\\theta,\\phi) \\vert \\boldsymbol{H}\\vert \\psi(\\theta,\\phi)\\rangle\\right]=\\frac{\\partial}{\\partial \\phi}\\left[\\langle\\boldsymbol{H}(\\theta,\\phi)\\rangle\\right]=\\langle \\psi(\\theta,\\phi) \\vert \\boldsymbol{H}(-\\frac{\\imath}{2}\\boldsymbol{\\sigma}_y\\vert \\psi(\\theta,\\phi)\\rangle+\\hspace{0.1cm}\\mathrm{h.c}.\n",
    "$$"
   ]
  },
  {
   "cell_type": "markdown",
   "id": "c13a982b",
   "metadata": {
    "editable": true
   },
   "source": [
    "## Two addtional expectation values\n",
    "\n",
    "This means that we have to calculate two additional expectation values\n",
    "in addition to the expectation value of the Hamiltonian itself.  If we\n",
    "stay with an ansatz for the single qubit states given by the above\n",
    "rotation operators, we can, following for example [the article by\n",
    "Maria Schuld et\n",
    "al](https://journals.aps.org/pra/abstract/10.1103/PhysRevA.99.032331),\n",
    "show that the derivative of the expectation value of the Hamiltonian\n",
    "can be written as (we focus only on a given angle $\\phi$)"
   ]
  },
  {
   "cell_type": "markdown",
   "id": "8d876ea8",
   "metadata": {
    "editable": true
   },
   "source": [
    "$$\n",
    "\\frac{\\partial}{\\partial \\phi}\\left[\\langle\\boldsymbol{H}(\\phi)\\rangle\\right]=\\frac{1}{2}\\left[\\langle\\boldsymbol{H}(\\phi+\\frac{\\pi}{2})\\rangle-\\langle\\boldsymbol{H}(\\phi-\\frac{\\pi}{2})\\rangle\\right].\n",
    "$$"
   ]
  },
  {
   "cell_type": "markdown",
   "id": "ac343e4d",
   "metadata": {
    "editable": true
   },
   "source": [
    "## Rotations again and again\n",
    "To see this, consider again the definition of the rotation operators.\n",
    "We can write these operators as"
   ]
  },
  {
   "cell_type": "markdown",
   "id": "0fdf22df",
   "metadata": {
    "editable": true
   },
   "source": [
    "$$\n",
    "R_i(\\phi)=\\exp{-\\imath(\\phi \\boldsymbol{\\sigma}_i)},\n",
    "$$"
   ]
  },
  {
   "cell_type": "markdown",
   "id": "30d144e4",
   "metadata": {
    "editable": true
   },
   "source": [
    "with $\\boldsymbol{sigma}_i$, with $\\boldsymbol{\\sigma}_i$ being any of the Pauli\n",
    "matrices $X$, $Y$ and $Z$. The latter can be generalized to other\n",
    "unitary matrices as well.\n",
    "The derivative with respect to $\\phi$ gives"
   ]
  },
  {
   "cell_type": "markdown",
   "id": "1c5a2eb2",
   "metadata": {
    "editable": true
   },
   "source": [
    "$$\n",
    "\\frac{\\partial R_i(\\phi)}{\\partial \\phi}=-\\frac{\\imath}{2} \\boldsymbol{\\sigma}_i\\exp{-\\imath(\\phi \\boldsymbol{\\sigma}_i)}=-\\frac{\\imath}{2} \\boldsymbol{\\sigma} R_i(\\phi).\n",
    "$$"
   ]
  },
  {
   "cell_type": "markdown",
   "id": "0071a958",
   "metadata": {
    "editable": true
   },
   "source": [
    "## Bloch sphere math\n",
    "\n",
    "Our ansatz for a general one-qubit state on the Bloch sphere contains the product of a rotation around the $x$-axis and the $y$-axis. In the derivation here we focus only on one angle however. Our ansatz is then given by"
   ]
  },
  {
   "cell_type": "markdown",
   "id": "cc7bc094",
   "metadata": {
    "editable": true
   },
   "source": [
    "$$\n",
    "\\vert \\psi \\rangle = R_i(\\phi)\\vert 0 \\rangle,\n",
    "$$"
   ]
  },
  {
   "cell_type": "markdown",
   "id": "05683ad0",
   "metadata": {
    "editable": true
   },
   "source": [
    "and the expectation value of our Hamiltonian is"
   ]
  },
  {
   "cell_type": "markdown",
   "id": "bf1db666",
   "metadata": {
    "editable": true
   },
   "source": [
    "$$\n",
    "\\langle \\psi \\vert \\hat{H}\\vert \\psi \\rangle = \\langle 0 \\vert R_i(\\phi)^{\\dagger} \\hat{H}R_i(\\phi)\\vert 0\\rangle.\n",
    "$$"
   ]
  },
  {
   "cell_type": "markdown",
   "id": "54043b54",
   "metadata": {
    "editable": true
   },
   "source": [
    "## Derivatives\n",
    "\n",
    "Our derivative with respect to the angle $\\phi$ has a similar structure, that is"
   ]
  },
  {
   "cell_type": "markdown",
   "id": "b366b9eb",
   "metadata": {
    "editable": true
   },
   "source": [
    "$$\n",
    "\\frac{\\partial }{\\partial \\phi}\\left[\\langle \\psi(\\theta,\\phi) \\vert \\boldsymbol{H}\\vert \\psi(\\theta,\\phi)\\rangle\\right]=\\langle \\psi(\\theta,\\phi) \\vert \\boldsymbol{H}(-\\frac{\\imath}{2}\\boldsymbol{\\sigma}_y\\vert \\psi(\\theta,\\phi)\\rangle+\\hspace{0.1cm}\\mathrm{h.c}.\n",
    "$$"
   ]
  },
  {
   "cell_type": "markdown",
   "id": "c1d2cb22",
   "metadata": {
    "editable": true
   },
   "source": [
    "## Rewriting\n",
    "\n",
    "In order to rewrite the equation of the derivative,\n",
    "the following relation is useful"
   ]
  },
  {
   "cell_type": "markdown",
   "id": "619b18b2",
   "metadata": {
    "editable": true
   },
   "source": [
    "$$\n",
    "\\langle \\psi \\vert \\hat{A}^{\\dagger}\\hat{B}\\hat{C}\\vert \\psi \\rangle = \\frac{1}{2}\\left[\n",
    "\\langle \\psi \\vert (\\hat{A}+\\hat{C})^{\\dagger}\\hat{B}(\\boldsymbol{A}+\\hat{C})\\vert \\psi \\rangle-\\langle \\psi \\vert (\\hat{A}-\\hat{C})^{\\dagger}\\hat{B}(\\boldsymbol{A}-\\hat{C})\\vert \\psi \\rangle\\right],\n",
    "$$"
   ]
  },
  {
   "cell_type": "markdown",
   "id": "6da55c47",
   "metadata": {
    "editable": true
   },
   "source": [
    "where $\\hat{A}$, $\\hat{B}$ and $\\hat{C}$ are arbitrary hermitian\n",
    "operators."
   ]
  },
  {
   "cell_type": "markdown",
   "id": "88624612",
   "metadata": {
    "editable": true
   },
   "source": [
    "## Final manipulations\n",
    "\n",
    "If we identify these operators as $\\hat{A}=\\boldsymbol{I}$, with\n",
    "$\\boldsymbol{I}$ being the unit operator, $\\hat{B}=\\hat{H}$ our Hamiltonian,\n",
    "and $\\hat{C}=-\\imath \\boldsymbol{\\sigma}_i/2$, we obtain the following\n",
    "expression for the expectation value of the derivative (excluding the hermitian conjugate)"
   ]
  },
  {
   "cell_type": "markdown",
   "id": "757ec226",
   "metadata": {
    "editable": true
   },
   "source": [
    "$$\n",
    "\\langle \\psi \\vert \\boldsymbol{I}^{\\dagger}\\hat{H}(-\\frac{\\imath}{2}\\boldsymbol{\\sigma}_i\\vert \\psi \\rangle = \\frac{1}{2}\\left[\n",
    "\\langle \\psi \\vert (\\boldsymbol{I}-\\frac{\\imath}{2} \\boldsymbol{\\sigma}_i)^{\\dagger}\\hat{H}(\\boldsymbol{I}-\\frac{\\imath}{2} \\boldsymbol{\\sigma}_i)\\vert \\psi \\rangle-\\langle \\psi \\vert (\\boldsymbol{I}+\\frac{\\imath}{2} \\boldsymbol{\\sigma}_i)^{\\dagger}\\hat{H}(\\boldsymbol{I}+\\frac{\\imath}{2} \\boldsymbol{\\sigma}_i)\\vert \\psi \\rangle\\right].\n",
    "$$"
   ]
  },
  {
   "cell_type": "markdown",
   "id": "2f734a60",
   "metadata": {
    "editable": true
   },
   "source": [
    "## The expressions to implement\n",
    "\n",
    "If we then use that the rotation matrices can be rewritten as"
   ]
  },
  {
   "cell_type": "markdown",
   "id": "89948a34",
   "metadata": {
    "editable": true
   },
   "source": [
    "$$\n",
    "R_{i}(\\phi)=\\exp{-(\\imath\\frac{\\phi}{2}\\sigma_i)}=\\cos{(\\frac{\\phi}{2})}\\boldsymbol{I}-\\imath\\sin{(\\frac{\\phi}{2})}\\boldsymbol{\\sigma}_i,\n",
    "$$"
   ]
  },
  {
   "cell_type": "markdown",
   "id": "c38a6824",
   "metadata": {
    "editable": true
   },
   "source": [
    "we see that if we set the angle to $\\phi=\\pi/2$, we have"
   ]
  },
  {
   "cell_type": "markdown",
   "id": "07353cec",
   "metadata": {
    "editable": true
   },
   "source": [
    "$$\n",
    "R_{i}(\\frac{\\pi}{2})=\\cos{(\\frac{\\pi}{4})}\\boldsymbol{I}-\\imath\\sin{(\\frac{\\pi}{4})}\\boldsymbol{\\sigma}_i=\\frac{1}{\\sqrt{2}}\\left(\\boldsymbol{I}-\\frac{\\imath}{2} \\boldsymbol{\\sigma}_i\\right).\n",
    "$$"
   ]
  },
  {
   "cell_type": "markdown",
   "id": "9604692d",
   "metadata": {
    "editable": true
   },
   "source": [
    "## Final expression\n",
    "\n",
    "This means that we can write"
   ]
  },
  {
   "cell_type": "markdown",
   "id": "f820a378",
   "metadata": {
    "editable": true
   },
   "source": [
    "$$\n",
    "\\langle \\psi \\vert \\boldsymbol{I}^{\\dagger}\\hat{H}(-\\frac{\\imath}{2}\\boldsymbol{\\sigma}_i\\vert \\psi \\rangle = \\frac{1}{2}\\left[\n",
    "\\langle \\psi \\vert R_i(\\frac{\\pi}{2})^{\\dagger}\\hat{H}R_i(\\frac{\\pi}{2})\\vert \\psi \\rangle-\\langle \\psi \\vert R_i(-\\frac{\\pi}{2})^{\\dagger}\\hat{H}R_i(-\\frac{\\pi}{2})^{\\dagger}\\vert \\psi \\rangle\\right]=\\frac{1}{2}(\\langle\\hat{H}(\\phi+\\frac{\\pi}{2})\\rangle-\\langle\\hat{H}(\\phi-\\frac{\\pi}{2})\\rangle).\n",
    "$$"
   ]
  },
  {
   "cell_type": "markdown",
   "id": "943eb54f",
   "metadata": {
    "editable": true
   },
   "source": [
    "## Basics of gradient descent and stochastic gradient descent\n",
    "\n",
    "In order to implement the above equations, we need to remind the\n",
    "reader about basic elements of various optimization approaches. Our\n",
    "main focus here will be various gradient descent approaches and quasi-Newton methods like Broyden's algorithm and variations thereof.\n",
    "\n",
    "This material is covered by the lectures from [FYS4411 on gradient optimization](https://github.com/CompPhysics/ComputationalPhysics2/blob/gh-pages/doc/pub/week6/ipynb/week6.ipynb)"
   ]
  },
  {
   "cell_type": "markdown",
   "id": "126fab38",
   "metadata": {
    "editable": true
   },
   "source": [
    "## Computing quantum gradients\n",
    "\n",
    "Let us implement\n",
    "efficient implementations of gradient methods to the derivatives of\n",
    "the Hamiltonian expectation values."
   ]
  },
  {
   "cell_type": "code",
   "execution_count": 6,
   "id": "694af61c",
   "metadata": {
    "collapsed": false,
    "editable": true
   },
   "outputs": [],
   "source": [
    "from  matplotlib import pyplot as plt\n",
    "import numpy as np\n",
    "from scipy.optimize import minimize\n",
    "dim = 2\n",
    "Hamiltonian = np.zeros((dim,dim))\n",
    "e0 = 0.0\n",
    "e1 = 4.0\n",
    "Xnondiag = 0.20\n",
    "Xdiag = 3.0\n",
    "Eigenvalue = np.zeros(dim)\n",
    "# setting up the Hamiltonian\n",
    "Hamiltonian[0,0] = Xdiag+e0\n",
    "Hamiltonian[0,1] = Xnondiag\n",
    "Hamiltonian[1,0] = Hamiltonian[0,1]\n",
    "Hamiltonian[1,1] = e1-Xdiag\n",
    "# diagonalize and obtain eigenvalues, not necessarily sorted\n",
    "EigValues, EigVectors = np.linalg.eig(Hamiltonian)\n",
    "permute = EigValues.argsort()\n",
    "EigValues = EigValues[permute]\n",
    "# print only the lowest eigenvalue\n",
    "print(EigValues[0])\n",
    "\n",
    "# Now rewrite it in terms of the identity matrix and the Pauli matrix X and Z\n",
    "X = np.array([[0,1],[1,0]])\n",
    "Y = np.array([[0,-1j],[1j,0]])\n",
    "Z = np.array([[1,0],[0,-1]])\n",
    "# identity matrix\n",
    "I = np.array([[1,0],[0,1]])\n",
    "\n",
    "epsilon = (e0+e1)*0.5; omega = (e0-e1)*0.5\n",
    "c = 0.0; omega_z=Xdiag; omega_x = Xnondiag\n",
    "Hamiltonian = (epsilon+c)*I+(omega_z+omega)*Z+omega_x*X\n",
    "EigValues, EigVectors = np.linalg.eig(Hamiltonian)\n",
    "permute = EigValues.argsort()\n",
    "EigValues = EigValues[permute]\n",
    "# print only the lowest eigenvalue\n",
    "print(EigValues[0])\n",
    "\n",
    "# define the rotation matrices\n",
    "\n",
    "def Rx(theta):\n",
    "    return np.cos(theta*0.5)*I-1j*np.sin(theta*0.5)*X\n",
    "def Ry(phi):\n",
    "    return np.cos(phi*0.5)*I-1j*np.sin(phi*0.5)*Y\n",
    "\n",
    "#define basis states\n",
    "basis0 = np.array([1,0])\n",
    "basis1 = np.array([0,1])\n",
    "\n",
    "# Computing the expectation value of the energy \n",
    "def Energy(theta,phi):\n",
    "    Basis = Ry(phi) @ Rx(theta) @ basis0\n",
    "    energy = Basis.conj().T @ Hamiltonian @ Basis\n",
    "    return energy\n",
    "\n",
    "\n",
    "# Set up iteration using gradient descent method\n",
    "eta = 0.1\n",
    "Niterations = 100\n",
    "# Random angles using uniform distribution\n",
    "theta = 2*np.pi*np.random.rand()\n",
    "phi = 2*np.pi*np.random.rand()\n",
    "pi2 = 0.5*np.pi\n",
    "for iter in range(Niterations):\n",
    "    thetagradient = 0.5*(Energy(theta+pi2,phi)-Energy(theta-pi2,phi))\n",
    "    phigradient = 0.5*(Energy(theta,phi+pi2)-Energy(theta,phi-pi2))\n",
    "    theta -= eta*thetagradient\n",
    "    phi -= eta*phigradient\n",
    "print(Energy(theta,phi))"
   ]
  },
  {
   "cell_type": "markdown",
   "id": "d0b35b63",
   "metadata": {
    "editable": true
   },
   "source": [
    "## A smarter way of doing this\n",
    "\n",
    "The above approach means that we are setting up several matrix-matrix\n",
    "and matrix-vector multiplications. Although straight forward it is not\n",
    "the most efficient way of doing this, in particular in case the\n",
    "matrices become large (and sparse). But there are some more important\n",
    "issues.\n",
    "\n",
    "In a physical realization of these systems we cannot just multiply the\n",
    "state with the Hamiltonian. When performing a measurement we can only\n",
    "measure in one particular direction. For the computational basis\n",
    "states which we have, $\\vert 0\\rangle$ and $\\vert 1\\rangle$, we have\n",
    "to measure along the bases of the Pauli matrices and reconstruct the\n",
    "eigenvalues from these measurements."
   ]
  },
  {
   "cell_type": "markdown",
   "id": "6443c0db",
   "metadata": {
    "editable": true
   },
   "source": [
    "## The code for the one qubit case (code developed by August Gude, 2023)"
   ]
  },
  {
   "cell_type": "code",
   "execution_count": 7,
   "id": "28ab2da7",
   "metadata": {
    "collapsed": false,
    "editable": true
   },
   "outputs": [],
   "source": [
    "import numpy as np\n",
    "import matplotlib.pyplot as plt\n",
    "import seaborn as sns; sns.set_theme(font_scale=1.5)\n",
    "from tqdm import tqdm\n",
    "\n",
    "sigma_x = np.array([[0, 1], [1, 0]])\n",
    "sigma_y = np.array([[0, -1j], [1j, 0]])\n",
    "sigma_z = np.array([[1, 0], [0, -1]])\n",
    "I = np.eye(2)\n",
    "\n",
    "def Hamiltonian(lmb):\n",
    "    E1 = 0\n",
    "    E2 = 4\n",
    "    V11 = 3\n",
    "    V22 = -3\n",
    "    V12 = 0.2\n",
    "    V21 = 0.2\n",
    "\n",
    "    eps = (E1 + E2) / 2\n",
    "    omega = (E1 - E2) / 2\n",
    "    c = (V11 + V22) / 2\n",
    "    omega_z = (V11 - V22) / 2\n",
    "    omega_x = V12\n",
    "\n",
    "    H0 = eps * I + omega * sigma_z\n",
    "    H1 = c * I + omega_z * sigma_z + omega_x * sigma_x\n",
    "    return H0 + lmb * H1\n",
    "    \n",
    "lmbvalues_ana = np.arange(0, 1, 0.01)\n",
    "eigvals_ana = np.zeros((len(lmbvalues_ana), 2))\n",
    "for index, lmb in enumerate(lmbvalues_ana):\n",
    "    H = Hamiltonian(lmb)\n",
    "    eigen, eigvecs = np.linalg.eig(H)\n",
    "    permute = eigen.argsort()\n",
    "    eigvals_ana[index] = eigen[permute]\n",
    "    eigvecs = eigvecs[:,permute]\n",
    "\n",
    "\n",
    "fig, axs = plt.subplots(1, 1, figsize=(10, 10))\n",
    "for i in range(2):\n",
    "    axs.plot(lmbvalues_ana, eigvals_ana[:,i], label=f'$E_{i+1}$')\n",
    "axs.set_xlabel(r'$\\lambda$')\n",
    "axs.set_ylabel('Energy')\n",
    "axs.legend()\n",
    "plt.show()"
   ]
  },
  {
   "cell_type": "markdown",
   "id": "0b56a627",
   "metadata": {
    "editable": true
   },
   "source": [
    "This was the standard eigenvalue problem. Let us now switch to our own implementation of the VQE."
   ]
  },
  {
   "cell_type": "code",
   "execution_count": 8,
   "id": "926f7218",
   "metadata": {
    "collapsed": false,
    "editable": true
   },
   "outputs": [],
   "source": [
    "from src.qc import *\n",
    "\n",
    "def prepare_state(theta, phi, target = None):\n",
    "    I = np.eye(2)\n",
    "    sigma_x = np.array([[0, 1], [1, 0]])\n",
    "    sigma_y = np.array([[0, -1j], [1j, 0]])\n",
    "    state = np.array([1, 0])\n",
    "    Rx = np.cos(theta/2) * I - 1j * np.sin(theta/2) * sigma_x\n",
    "    Ry = np.cos(phi/2) * I - 1j * np.sin(phi/2) * sigma_y\n",
    "    state = Ry @ Rx @ state\n",
    "    if target is not None:\n",
    "        state = target\n",
    "    return state\n",
    "\n",
    "def get_energy(angles, lmb, number_shots, target = None):\n",
    "    theta, phi = angles[0], angles[1]\n",
    "    # print(f'Theta = {theta}, Phi = {phi}')\n",
    "    E1 = 0; E2 = 4; V11 = 3; V22 = -3; V12 = 0.2; V21 = 0.2\n",
    "\n",
    "    eps = (E1 + E2) / 2; omega = (E1 - E2) / 2; c = (V11 + V22) / 2; omega_z = (V11 - V22) / 2; omega_x = V12\n",
    "\n",
    "    init_state = prepare_state(theta, phi, target)\n",
    "    qubit = One_qubit()\n",
    "    qubit.set_state(init_state)\n",
    "    measure_z = qubit.measure(number_shots)\n",
    "\n",
    "    qubit.set_state(init_state)\n",
    "    qubit.apply_hadamard()\n",
    "    measure_x = qubit.measure(number_shots)\n",
    "    \n",
    "    # expected value of Z = (number of 0 measurements - number of 1 measurements)/ number of shots\n",
    "    # number of 1 measurements = sum(measure_z)\n",
    "    exp_val_z = (omega + lmb*omega_z)*(number_shots - 2*np.sum(measure_z)) / number_shots\n",
    "    exp_val_x = lmb*omega_x*(number_shots - 2*np.sum(measure_x)) / number_shots\n",
    "    exp_val_i = (eps + c*lmb) \n",
    "    exp_val = (exp_val_z + exp_val_x + exp_val_i)\n",
    "    return exp_val"
   ]
  },
  {
   "cell_type": "code",
   "execution_count": 9,
   "id": "8ef6cb3a",
   "metadata": {
    "collapsed": false,
    "editable": true
   },
   "outputs": [],
   "source": [
    "def minimize_energy(lmb, number_shots, angles_0, learning_rate, max_epochs):\n",
    "    # angles = np.random.uniform(low = 0, high = np.pi, size = 2)\n",
    "    angles = angles_0 #lmb*np.array([np.pi, np.pi])\n",
    "    epoch = 0\n",
    "    delta_energy = 1\n",
    "    energy = get_energy(angles, lmb, number_shots)\n",
    "    while (epoch < max_epochs) and (delta_energy > 1e-4):\n",
    "        grad = np.zeros_like(angles)\n",
    "        for idx in range(angles.shape[0]):\n",
    "            angles_temp = angles.copy()\n",
    "            angles_temp[idx] += np.pi/2 \n",
    "            E_plus = get_energy(angles_temp, lmb, number_shots)\n",
    "            angles_temp[idx] -= np.pi \n",
    "            E_minus = get_energy(angles_temp, lmb, number_shots)\n",
    "            grad[idx] = (E_plus - E_minus)/2 \n",
    "        angles -= learning_rate*grad \n",
    "        new_energy = get_energy(angles, lmb, number_shots)\n",
    "        delta_energy = np.abs(new_energy - energy)\n",
    "        energy = new_energy\n",
    "        epoch += 1\n",
    "    return angles, epoch, (epoch < max_epochs), energy, delta_energy"
   ]
  },
  {
   "cell_type": "code",
   "execution_count": 10,
   "id": "7c217909",
   "metadata": {
    "collapsed": false,
    "editable": true
   },
   "outputs": [],
   "source": [
    "number_shots_search = 10_000\n",
    "number_shots = 10_000\n",
    "learning_rate = 0.3\n",
    "max_epochs = 400\n",
    "lmbvalues = np.linspace(0.0, 1.0, 30)\n",
    "min_energy = np.zeros(len(lmbvalues))\n",
    "epochs = np.zeros(len(lmbvalues))\n",
    "for index, lmb in enumerate(tqdm(lmbvalues)):\n",
    "    memory = 0\n",
    "    angles_0 = np.random.uniform(low = 0, high = np.pi, size = 2)\n",
    "    angles, epochs[index], converged, energy, delta_energy = minimize_energy(lmb, number_shots_search, angles_0, learning_rate, max_epochs)\n",
    "    if epochs[index] < (epochs[index-1] - 5):\n",
    "        angles_0 = np.random.uniform(low = 0, high = np.pi, size = 2)\n",
    "        angles, epochs[index], converged, energy, delta_energy = minimize_energy(lmb, number_shots_search, angles_0, learning_rate, max_epochs)\n",
    "    min_energy[index] = get_energy(angles, lmb, number_shots)"
   ]
  },
  {
   "cell_type": "code",
   "execution_count": 11,
   "id": "d67339ae",
   "metadata": {
    "collapsed": false,
    "editable": true
   },
   "outputs": [],
   "source": [
    "from scipy.optimize import minimize\n",
    "number_shots = 10_000\n",
    "lmbvalues_scipy = np.linspace(0.0, 1.0, 50)\n",
    "min_energy_scipy = np.zeros(len(lmbvalues_scipy))\n",
    "for index, lmb in enumerate(tqdm(lmbvalues_scipy)):\n",
    "    angles_start = np.random.uniform(low = 0, high = np.pi, size = 4)\n",
    "    res = minimize(get_energy, angles_start, args = (lmb, number_shots), method = 'Powell', options = {'maxiter': 1000}, tol = 1e-5)\n",
    "    min_energy_scipy[index] = res.fun"
   ]
  },
  {
   "cell_type": "code",
   "execution_count": 12,
   "id": "8b9759ee",
   "metadata": {
    "collapsed": false,
    "editable": true
   },
   "outputs": [],
   "source": [
    "fig, axs = plt.subplots(1, 1, figsize=(10, 10))\n",
    "for i in range(2):\n",
    "    axs.plot(lmbvalues_ana, eigvals_ana[:,i], label=f'$E_{i+1}$', color = '#4c72b0')\n",
    "axs.scatter(lmbvalues, min_energy, label = 'VQE eigenvalues', color = '#dd8452')\n",
    "axs.scatter(lmbvalues_scipy, min_energy_scipy, label = 'VQE Scipy', color = '#55a868')\n",
    "axs.set_xlabel(r'$\\lambda$')\n",
    "axs.set_ylabel('Energy')\n",
    "plt.legend()\n",
    "plt.show()"
   ]
  },
  {
   "cell_type": "markdown",
   "id": "0cbe410d",
   "metadata": {
    "editable": true
   },
   "source": [
    "## Plans for next week\n",
    "1. Introducing the Lipkin model\n",
    "\n",
    "2. Solving problems with more than one qubit and discussion of project 1"
   ]
  }
 ],
 "metadata": {},
 "nbformat": 4,
 "nbformat_minor": 5
}
