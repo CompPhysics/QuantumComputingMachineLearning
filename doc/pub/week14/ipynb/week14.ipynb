{
 "cells": [
  {
   "cell_type": "markdown",
   "id": "43262b24",
   "metadata": {
    "editable": true
   },
   "source": [
    "<!-- HTML file automatically generated from DocOnce source (https://github.com/doconce/doconce/)\n",
    "doconce format html week14.do.txt --no_mako -->\n",
    "<!-- dom:TITLE: May 15-19, 2023: Quantum Computing, Quantum Machine Learning and Quantum Information Theories -->"
   ]
  },
  {
   "cell_type": "markdown",
   "id": "619b99a3",
   "metadata": {
    "editable": true
   },
   "source": [
    "# May 15-19, 2023: Quantum Computing, Quantum Machine Learning and Quantum Information Theories\n",
    "**Morten Hjorth-Jensen**, Department of Physics, University of Oslo and Department of Physics and Astronomy and Facility for Rare Isotope Beams, Michigan State University\n",
    "\n",
    "Date: **May 15, 2023**\n",
    "\n",
    "Copyright 1999-2023, Morten Hjorth-Jensen. Released under CC Attribution-NonCommercial 4.0 license"
   ]
  },
  {
   "cell_type": "markdown",
   "id": "9b5ee348",
   "metadata": {
    "editable": true
   },
   "source": [
    "## Plans for the week of May 15-19\n",
    "\n",
    "1. Summary of course and discussions of the project"
   ]
  }
 ],
 "metadata": {},
 "nbformat": 4,
 "nbformat_minor": 5
}
