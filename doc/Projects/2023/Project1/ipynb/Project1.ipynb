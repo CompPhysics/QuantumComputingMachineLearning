{
 "cells": [
  {
   "cell_type": "markdown",
   "id": "47043454",
   "metadata": {
    "editable": true
   },
   "source": [
    "<!-- HTML file automatically generated from DocOnce source (https://github.com/doconce/doconce/)\n",
    "doconce format html Project1.do.txt  -->\n",
    "<!-- dom:TITLE: Getting started with project 1  -->"
   ]
  },
  {
   "cell_type": "markdown",
   "id": "21997472",
   "metadata": {
    "editable": true
   },
   "source": [
    "# Getting started with project 1 \n",
    "**[FYS5429/9429](https://www.uio.no/studier/emner/matnat/fys/FYS5429/index-eng.html), Advanced machine learning and data analysis for the physical sciences, University of Oslo, Norway**\n",
    "\n",
    "Date: **Spring semester 2023**"
   ]
  },
  {
   "cell_type": "markdown",
   "id": "94ce06f1",
   "metadata": {
    "editable": true
   },
   "source": [
    "# Possible paths for project 1\n",
    "\n",
    "We discuss here several paths as well as data sets for the first project (or as parts of a larger project)"
   ]
  },
  {
   "cell_type": "markdown",
   "id": "eaf380ac",
   "metadata": {
    "editable": true
   },
   "source": [
    "## Paths for the projects\n",
    "\n",
    "1. The computational path: Here we propose a path where you develop your own code for a convolutional or eventually recurrent neural network and apply this to data selects of your own selection. The code should be object oriented and flexible allowing for eventual extensions by including different Loss/Cost functions and other functionalities. Feel free to select data sets from those suggested below here. This code can also be extended upon by adding for example autoencoders. You can compare your own codes with implementations using TensorFlow(Keras)/PyTorch or other libraries.\n",
    "\n",
    "2. The differential equation path: Here we propose a set of differential equations (ordinary and/or partial) to be solved first using neural networks (using either your own code or TensorFlow/Pytorch or similar libraries). Thereafter we plan to extend the set of methods for solving these equations to recurrent neural networks and autoencoders (AE) and/or Generalized Adversarial Networks (GANs). All these approaches can be expanded into one large project. This project can also be extended into including [Physics informed machine learning](https://github.com/maziarraissi/PINNs). Here we can discuss neural networks that are trained to solve supervised learning tasks while respecting any given law of physics described by general nonlinear partial differential equations. \n",
    "\n",
    "3. The application path: Here you can use the most relevant method(s) (say convolutional neural networks for images) and apply this(these) to data sets relevant for your own research.\n",
    "\n",
    "4. The Gaussian processes/Bayesian statistics path: [Kernel regression (Gaussian processes) and Bayesian statistics](https://jenfb.github.io/bkmr/overview.html) are  popular tools in the machine learning literature. The main idea behind these approaches is to flexibly model the relationship between a large number of variables and a particular outcome (dependent variable). This can form a second part of a project where for example standard Kernel regression methods are used on a specific data set. Alternatively, participants can opt to work on a large project relevant for their own research using gaussian processes and/or Bayesian machine Learning."
   ]
  },
  {
   "cell_type": "markdown",
   "id": "c29f84b9",
   "metadata": {
    "editable": true
   },
   "source": [
    "## Defining the data sets to analyze yourself\n",
    "\n",
    "You can propose own data sets that relate to your research interests or just use existing data sets from say\n",
    "1. [Kaggle](https://www.kaggle.com/datasets) \n",
    "\n",
    "2. The [University of California at Irvine (UCI) with its  machine learning repository](https://archive.ics.uci.edu/ml/index.php).\n",
    "\n",
    "3. For the differential equation problems, you can generate your own datasets, as described below.\n",
    "\n",
    "4. If possible, you should link the data sets with existing research and analyses thereof. Scientific articles which have used Machine Learning algorithms to analyze the data are highly welcome. Perhaps you can improve previous analyses and even publish a new article? \n",
    "\n",
    "5. A critical assessment of the methods with ditto perspectives and recommendations is also something you need to include. For those of you familiar with report writing, the layouts discussed in for example [FYS-STK4155](https://github.com/CompPhysics/MachineLearning/blob/master/doc/Projects/EvaluationGrading/EvaluationForm.md)."
   ]
  },
  {
   "cell_type": "markdown",
   "id": "74fa9b2c",
   "metadata": {
    "editable": true
   },
   "source": [
    "## The basic structure of your project\n",
    "\n",
    "Here follows a set up on how to structure your report and analyze the data you have opted for."
   ]
  },
  {
   "cell_type": "markdown",
   "id": "1076c141",
   "metadata": {
    "editable": true
   },
   "source": [
    "### Part a)\n",
    "\n",
    "The first part deals with structuring and reading the data, much along the same lines as done in projects 1 and 2.  Explain how the data are produced and place them in a proper context."
   ]
  },
  {
   "cell_type": "markdown",
   "id": "e4e5c06f",
   "metadata": {
    "editable": true
   },
   "source": [
    "### Part b)\n",
    "\n",
    "You need to include at least two central algorithms, or as an alternative explore methods from decisions tree to bagging, random forests and boosting. Explain the basics of the methods you have chosen to work with. This would be your theory part."
   ]
  },
  {
   "cell_type": "markdown",
   "id": "0dfb7752",
   "metadata": {
    "editable": true
   },
   "source": [
    "### Part c)\n",
    "\n",
    "Then describe your algorithm and its implementation and tests you have performed."
   ]
  },
  {
   "cell_type": "markdown",
   "id": "4d1ba7f0",
   "metadata": {
    "editable": true
   },
   "source": [
    "### Part d)\n",
    "\n",
    "Then presents your results and findings, link with existing literature and more."
   ]
  },
  {
   "cell_type": "markdown",
   "id": "679a4c88",
   "metadata": {
    "editable": true
   },
   "source": [
    "### Part e)\n",
    "\n",
    "Finally, here you should present a critical assessment of the methods you have studied and link your results with the existing literature."
   ]
  },
  {
   "cell_type": "markdown",
   "id": "8ea6ff06",
   "metadata": {
    "editable": true
   },
   "source": [
    "## Solving  differential equations with neural networks\n",
    "\n",
    "Here we describe the possible differential equations we can study\n",
    "first with neural networks and thereafter with recurrent neural\n",
    "networks and/or AE and/or GANs.\n",
    "\n",
    "The differential equations are given by the so-called [Lorenz attractor model](https://encyclopediaofmath.org/index.php?title=Lorenz_attractor), and read"
   ]
  },
  {
   "cell_type": "markdown",
   "id": "d303d61a",
   "metadata": {
    "editable": true
   },
   "source": [
    "$$\n",
    "\\frac{dx}{dt}=\\sigma\\left(y-x\\right),\n",
    "$$"
   ]
  },
  {
   "cell_type": "markdown",
   "id": "ffaeca8a",
   "metadata": {
    "editable": true
   },
   "source": [
    "where $\\sigma =10$ is a constant"
   ]
  },
  {
   "cell_type": "markdown",
   "id": "1552d9f3",
   "metadata": {
    "editable": true
   },
   "source": [
    "$$\n",
    "\\frac{dy}{dt}= x\\left(\\rho-z\\right)-y,\n",
    "$$"
   ]
  },
  {
   "cell_type": "markdown",
   "id": "84ce9b21",
   "metadata": {
    "editable": true
   },
   "source": [
    "with $\\rho=28$ and"
   ]
  },
  {
   "cell_type": "markdown",
   "id": "b1b0b0f5",
   "metadata": {
    "editable": true
   },
   "source": [
    "$$\n",
    "\\frac{dz}{dt}=xy-\\beta z\n",
    "$$"
   ]
  },
  {
   "cell_type": "markdown",
   "id": "99af0a23",
   "metadata": {
    "editable": true
   },
   "source": [
    "with $\\beta=8/3$ as our final constant.\n",
    "\n",
    "The following function is a\n",
    "simple function which sets up the solution using the ordinary\n",
    "differential library which follows **NumPy**. Here we have fixed the\n",
    "time sted $\\Delta t=0.01$ and the final time $t_f=8$.\n",
    "\n",
    "The program sets $100$ random initial values and produces inputs and outputs for a neural network calculations.\n",
    "The inputs are given by the values of the array $\\boldsymbol{x}$ (which contains $x,y,z$ as functions of time) for the time step $\\boldsymbol{x}_t$.\n",
    "The other array defined by $\\boldsymbol{x}_{t+1}$ contains the outputs (or targets) which we want the neural network to reproduce."
   ]
  },
  {
   "cell_type": "code",
   "execution_count": 1,
   "id": "5eb6fe61",
   "metadata": {
    "collapsed": false,
    "editable": true
   },
   "outputs": [],
   "source": [
    "%matplotlib inline\n",
    "\n",
    "# Common imports\n",
    "import numpy as np\n",
    "from scipy.integrate import odeint\n",
    "import matplotlib.pyplot as plt\n",
    "import os\n",
    "\n",
    "# Where to save the figures and data files\n",
    "PROJECT_ROOT_DIR = \"Results\"\n",
    "FIGURE_ID = \"Results/FigureFiles\"\n",
    "DATA_ID = \"DataFiles/\"\n",
    "\n",
    "if not os.path.exists(PROJECT_ROOT_DIR):\n",
    "    os.mkdir(PROJECT_ROOT_DIR)\n",
    "\n",
    "if not os.path.exists(FIGURE_ID):\n",
    "    os.makedirs(FIGURE_ID)\n",
    "\n",
    "if not os.path.exists(DATA_ID):\n",
    "    os.makedirs(DATA_ID)\n",
    "\n",
    "def image_path(fig_id):\n",
    "    return os.path.join(FIGURE_ID, fig_id)\n",
    "\n",
    "def data_path(dat_id):\n",
    "    return os.path.join(DATA_ID, dat_id)\n",
    "\n",
    "def save_fig(fig_id):\n",
    "    plt.savefig(image_path(fig_id) + \".png\", format='png')\n",
    "\n",
    "\n",
    "# Selection of parameter values and setting array for time\n",
    "dt =0.01; tfinal = 8\n",
    "t = np.arange(0,tfinal+dt, dt)\n",
    "beta =8.0/3.0; rho = 28.0; sigma = 10.0\n",
    "\n",
    "# define the inputs and outputs for the neural networks\n",
    "nninput = np.zeros((100*len(t)-1,3))\n",
    "nnoutput = np.zeros((100*len(t)-1,3))\n",
    "# Define the equations to integrate\n",
    "def lorenz_derivative(xyz, t0, sigma=sigma,beta=beta,rho=rho):\n",
    "    x, y, z = xyz\n",
    "    return [sigma*(x-y), x*(rho-z)-y, x*y-beta*z]\n",
    "\n",
    "# generate 100 random initial values\n",
    "x0 = -15.0+30.0*np.random.random((100,3))\n",
    "\n",
    "# Use odeint functionality by sending in derivative function\n",
    "# Feel free to change the choice of integrator\n",
    "x_t = np.asarray([odeint(lorenz_derivative, x0_j, t) \n",
    "                  for x0_j in x0])\n",
    "\n",
    "# define the inputs and outputs for the neural networks\n",
    "for j in range(100):\n",
    "    nninput[j*(len(t)-1):(j+1)*(len(t)-1),:] = x_t[j,:-1,:]\n",
    "    nnoutput[j*(len(t)-1):(j+1)*(len(t)-1),:] = x_t[j,1:,:]"
   ]
  },
  {
   "cell_type": "markdown",
   "id": "814cf8b4",
   "metadata": {
    "editable": true
   },
   "source": [
    "The input and output variables are those we will start trying our\n",
    "network with. Your first taks is to set up a neural code (either using\n",
    "your own code or TensorFlow/PyTorch or similar libraries)) and use the\n",
    "above data to a prediction for the time evolution of Lorenz system for\n",
    "various values of the randomly chosen initial values.  Study the\n",
    "dependence of the fit as function of the architecture of the network\n",
    "(number of nodes, hidden layers and types of activation functions) and\n",
    "various regularization schemes and optimization methods like standard\n",
    "gradient descent with momentum, stochastic gradient descent with\n",
    "batches and with and without momentum and various schedulers for the\n",
    "learning rate.\n",
    "\n",
    "Feel free to change the above differential equations. As an example,\n",
    "consider the following harmonic oscillator equations solved with the\n",
    "Runge-Kutta to fourth order method. This is a one-dimensional problem\n",
    "and it produces a position $x_t$ and velocity $v_t$. You could now try\n",
    "to fit both the velocities and positions using much of the same recipe\n",
    "as for Lorenz attractor.  You will find it convenient to analyze one\n",
    "set of initial conditions first. The code is included here.\n",
    "\n",
    "This code is an example code that solves Newton's equations of motion\n",
    "with a given force and produces an output which in turn can be used to\n",
    "train a neural network"
   ]
  },
  {
   "cell_type": "code",
   "execution_count": 2,
   "id": "8d0d4086",
   "metadata": {
    "collapsed": false,
    "editable": true
   },
   "outputs": [],
   "source": [
    "# Common imports\n",
    "import numpy as np\n",
    "import pandas as pd\n",
    "from math import *\n",
    "import matplotlib.pyplot as plt\n",
    "import os\n",
    "\n",
    "# Where to save the figures and data files\n",
    "PROJECT_ROOT_DIR = \"Results\"\n",
    "FIGURE_ID = \"Results/FigureFiles\"\n",
    "DATA_ID = \"DataFiles/\"\n",
    "\n",
    "if not os.path.exists(PROJECT_ROOT_DIR):\n",
    "    os.mkdir(PROJECT_ROOT_DIR)\n",
    "\n",
    "if not os.path.exists(FIGURE_ID):\n",
    "    os.makedirs(FIGURE_ID)\n",
    "\n",
    "if not os.path.exists(DATA_ID):\n",
    "    os.makedirs(DATA_ID)\n",
    "\n",
    "def image_path(fig_id):\n",
    "    return os.path.join(FIGURE_ID, fig_id)\n",
    "\n",
    "def data_path(dat_id):\n",
    "    return os.path.join(DATA_ID, dat_id)\n",
    "\n",
    "def save_fig(fig_id):\n",
    "    plt.savefig(image_path(fig_id) + \".png\", format='png')\n",
    "\n",
    "\n",
    "def SpringForce(v,x,t):\n",
    "#   note here that we have divided by mass and we return the acceleration\n",
    "    return  -2*gamma*v-x+Ftilde*cos(t*Omegatilde)\n",
    "\n",
    "\n",
    "def RK4(v,x,t,n,Force):\n",
    "    for i in range(n-1):\n",
    "# Setting up k1\n",
    "        k1x = DeltaT*v[i]\n",
    "        k1v = DeltaT*Force(v[i],x[i],t[i])\n",
    "# Setting up k2\n",
    "        vv = v[i]+k1v*0.5\n",
    "        xx = x[i]+k1x*0.5\n",
    "        k2x = DeltaT*vv\n",
    "        k2v = DeltaT*Force(vv,xx,t[i]+DeltaT*0.5)\n",
    "# Setting up k3\n",
    "        vv = v[i]+k2v*0.5\n",
    "        xx = x[i]+k2x*0.5\n",
    "        k3x = DeltaT*vv\n",
    "        k3v = DeltaT*Force(vv,xx,t[i]+DeltaT*0.5)\n",
    "# Setting up k4\n",
    "        vv = v[i]+k3v\n",
    "        xx = x[i]+k3x\n",
    "        k4x = DeltaT*vv\n",
    "        k4v = DeltaT*Force(vv,xx,t[i]+DeltaT)\n",
    "# Final result\n",
    "        x[i+1] = x[i]+(k1x+2*k2x+2*k3x+k4x)/6.\n",
    "        v[i+1] = v[i]+(k1v+2*k2v+2*k3v+k4v)/6.\n",
    "        t[i+1] = t[i] + DeltaT\n",
    "\n",
    "\n",
    "# Main part begins here\n",
    "\n",
    "DeltaT = 0.001\n",
    "#set up arrays \n",
    "tfinal = 20 # in dimensionless time\n",
    "n = ceil(tfinal/DeltaT)\n",
    "# set up arrays for t, v, and x\n",
    "t = np.zeros(n)\n",
    "v = np.zeros(n)\n",
    "x = np.zeros(n)\n",
    "# Initial conditions (can change to more than one dim)\n",
    "x0 =  1.0 \n",
    "v0 = 0.0\n",
    "x[0] = x0\n",
    "v[0] = v0\n",
    "gamma = 0.2\n",
    "Omegatilde = 0.5\n",
    "Ftilde = 1.0\n",
    "# Start integrating using Euler's method\n",
    "# Note that we define the force function as a SpringForce\n",
    "RK4(v,x,t,n,SpringForce)\n",
    "\n",
    "# Plot position as function of time    \n",
    "fig, ax = plt.subplots()\n",
    "ax.set_ylabel('x[m]')\n",
    "ax.set_xlabel('t[s]')\n",
    "ax.plot(t, x)\n",
    "fig.tight_layout()\n",
    "save_fig(\"ForcedBlockRK4\")\n",
    "plt.show()"
   ]
  },
  {
   "cell_type": "markdown",
   "id": "f32139d5",
   "metadata": {
    "editable": true
   },
   "source": [
    "The next step is to include recurrent neural networks. These will be discussed in connection with coming lectures."
   ]
  },
  {
   "cell_type": "markdown",
   "id": "7fc5a238",
   "metadata": {
    "editable": true
   },
   "source": [
    "## Introduction to numerical projects\n",
    "\n",
    "Here follows a brief recipe and recommendation on how to write a report for each\n",
    "project.\n",
    "\n",
    "  * Give a short description of the nature of the problem and the eventual  numerical methods you have used.\n",
    "\n",
    "  * Describe the algorithm you have used and/or developed. Here you may find it convenient to use pseudocoding. In many cases you can describe the algorithm in the program itself.\n",
    "\n",
    "  * Include the source code of your program. Comment your program properly.\n",
    "\n",
    "  * If possible, try to find analytic solutions, or known limits in order to test your program when developing the code.\n",
    "\n",
    "  * Include your results either in figure form or in a table. Remember to        label your results. All tables and figures should have relevant captions        and labels on the axes.\n",
    "\n",
    "  * Try to evaluate the reliabilty and numerical stability/precision of your results. If possible, include a qualitative and/or quantitative discussion of the numerical stability, eventual loss of precision etc.\n",
    "\n",
    "  * Try to give an interpretation of you results in your answers to  the problems.\n",
    "\n",
    "  * Critique: if possible include your comments and reflections about the  exercise, whether you felt you learnt something, ideas for improvements and  other thoughts you've made when solving the exercise. We wish to keep this course at the interactive level and your comments can help us improve it.\n",
    "\n",
    "  * Try to establish a practice where you log your work at the  computerlab. You may find such a logbook very handy at later stages in your work, especially when you don't properly remember  what a previous test version  of your program did. Here you could also record  the time spent on solving the exercise, various algorithms you may have tested or other topics which you feel worthy of mentioning."
   ]
  },
  {
   "cell_type": "markdown",
   "id": "0a6d51e0",
   "metadata": {
    "editable": true
   },
   "source": [
    "## Format for electronic delivery of report and programs\n",
    "\n",
    "The preferred format for the report is a PDF file. You can also use DOC or postscript formats or as an ipython notebook file.  As programming language we prefer that you choose between C/C++, Fortran2008 or Python. The following prescription should be followed when preparing the report:\n",
    "\n",
    "  * Send us an email in order  to hand in your projects with a link to your GitHub/Gitlab repository.\n",
    "\n",
    "  * In your GitHub/GitLab or similar repository, please include a folder which contains selected results. These can be in the form of output from your code for a selected set of runs and input parameters.\n",
    "\n",
    "Finally, \n",
    "we encourage you to collaborate. Optimal working groups consist of \n",
    "2-3 students. You can then hand in a common report."
   ]
  }
 ],
 "metadata": {},
 "nbformat": 4,
 "nbformat_minor": 5
}
