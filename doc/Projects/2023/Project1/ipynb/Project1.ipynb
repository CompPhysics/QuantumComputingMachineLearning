{
 "cells": [
  {
   "cell_type": "markdown",
   "id": "3e5f5ffb",
   "metadata": {
    "editable": true
   },
   "source": [
    "<!-- HTML file automatically generated from DocOnce source (https://github.com/doconce/doconce/)\n",
    "doconce format html Project1.do.txt  -->\n",
    "<!-- dom:TITLE: Quantum Computing and many-body problems -->"
   ]
  },
  {
   "cell_type": "markdown",
   "id": "8b046543",
   "metadata": {
    "editable": true
   },
   "source": [
    "# Quantum Computing and many-body problems\n",
    "**[FYS5419/9419](https://www.uio.no/studier/emner/matnat/fys/FYS5419/index-eng.html), Quantum computing and quantum machine learning, University of Oslo, Norway**\n",
    "\n",
    "Date: **Spring semester 2023**"
   ]
  },
  {
   "cell_type": "markdown",
   "id": "3db282a8",
   "metadata": {
    "editable": true
   },
   "source": [
    "# Project suggestion\n",
    "\n",
    "The aim of this project is to study the so-called Lipkin model (which is a simplified Hamiltonian) using the VQE algorithm.\n",
    "We will follow closely the article at <https://journals.aps.org/prc/pdf/10.1103/PhysRevC.106.024319>."
   ]
  },
  {
   "cell_type": "markdown",
   "id": "1ee88e45",
   "metadata": {
    "editable": true
   },
   "source": [
    "## Part a)\n",
    "\n",
    "Write a function which sets up a one-qubit basis and apply the various\n",
    "Pauli matrices to these basis states.  Apply the Hadamard and Phase\n",
    "gates to the same one-qubit basis states and study their actions on\n",
    "these states. Define also Bell states and write a code where you\n",
    "implement a Hadamard gate and thereafter a **CNOT** gate on one of the Bell\n",
    "states of your choice. Perform thereafter a measurement on the first qubit and\n",
    "thereafter on the second qubit. The measurements should be performed \n",
    "several times and it is the average results of these measurements\n",
    "which should be discussed and presented.\n",
    "\n",
    "Compare your code with the results obtained using **Qiskit**, see the\n",
    "example at\n",
    "<https://quantum-computing.ibm.com/composer/docs/iqx/first-circuit>."
   ]
  },
  {
   "cell_type": "markdown",
   "id": "3a157104",
   "metadata": {
    "editable": true
   },
   "source": [
    "## Part b)\n",
    "\n",
    "We define a  symmetric matrix  $H\\in {\\mathbb{R}}^{2\\times 2}$"
   ]
  },
  {
   "cell_type": "markdown",
   "id": "27ca40f1",
   "metadata": {
    "editable": true
   },
   "source": [
    "$$\n",
    "H = \\begin{bmatrix} H_{11} & H_{12} \\\\ H_{21} & H_{22}\n",
    "\\end{bmatrix},\n",
    "$$"
   ]
  },
  {
   "cell_type": "markdown",
   "id": "73365979",
   "metadata": {
    "editable": true
   },
   "source": [
    "We  let $H = H_0 + H_I$, where"
   ]
  },
  {
   "cell_type": "markdown",
   "id": "9a811fdb",
   "metadata": {
    "editable": true
   },
   "source": [
    "$$\n",
    "H_0= \\begin{bmatrix} E_1 & 0 \\\\ 0 & E_2\\end{bmatrix},\n",
    "$$"
   ]
  },
  {
   "cell_type": "markdown",
   "id": "2f1b9989",
   "metadata": {
    "editable": true
   },
   "source": [
    "is a diagonal matrix. Similarly,"
   ]
  },
  {
   "cell_type": "markdown",
   "id": "bf18d218",
   "metadata": {
    "editable": true
   },
   "source": [
    "$$\n",
    "H_I= \\begin{bmatrix} V_{11} & V_{12} \\\\ V_{21} & V_{22}\\end{bmatrix},\n",
    "$$"
   ]
  },
  {
   "cell_type": "markdown",
   "id": "c78159de",
   "metadata": {
    "editable": true
   },
   "source": [
    "where $V_{ij}$ represent various interaction matrix elements.\n",
    "We can view $H_0$ as the non-interacting solution"
   ]
  },
  {
   "cell_type": "markdown",
   "id": "ea2a5187",
   "metadata": {
    "editable": true
   },
   "source": [
    "<!-- Equation labels as ordinary links -->\n",
    "<div id=\"_auto1\"></div>\n",
    "\n",
    "$$\n",
    "\\begin{equation}\n",
    "       H_0\\vert 0 \\rangle =E_1\\vert 0 \\rangle,\n",
    "\\label{_auto1} \\tag{1}\n",
    "\\end{equation}\n",
    "$$"
   ]
  },
  {
   "cell_type": "markdown",
   "id": "6cdb554f",
   "metadata": {
    "editable": true
   },
   "source": [
    "and"
   ]
  },
  {
   "cell_type": "markdown",
   "id": "1234124f",
   "metadata": {
    "editable": true
   },
   "source": [
    "<!-- Equation labels as ordinary links -->\n",
    "<div id=\"_auto2\"></div>\n",
    "\n",
    "$$\n",
    "\\begin{equation}\n",
    "       H_0\\vert 1\\rangle =E_2\\vert 1\\rangle,\n",
    "\\label{_auto2} \\tag{2}\n",
    "\\end{equation}\n",
    "$$"
   ]
  },
  {
   "cell_type": "markdown",
   "id": "fb86e9fd",
   "metadata": {
    "editable": true
   },
   "source": [
    "where we have defined the orthogonal computational one-qubit basis states $\\vert 0\\rangle$ and $\\vert 1\\rangle$.\n",
    "\n",
    "We rewrite $H$ (and $H_0$ and $H_I$)  via Pauli matrices"
   ]
  },
  {
   "cell_type": "markdown",
   "id": "7f3c427e",
   "metadata": {
    "editable": true
   },
   "source": [
    "$$\n",
    "H_0 = \\mathcal{E} I + \\Omega \\sigma_z, \\quad \\mathcal{E} = \\frac{E_1\n",
    "  + E_2}{2}, \\; \\Omega = \\frac{E_1-E_2}{2},\n",
    "$$"
   ]
  },
  {
   "cell_type": "markdown",
   "id": "3852ee01",
   "metadata": {
    "editable": true
   },
   "source": [
    "and"
   ]
  },
  {
   "cell_type": "markdown",
   "id": "e55eec40",
   "metadata": {
    "editable": true
   },
   "source": [
    "$$\n",
    "H_I = c \\boldsymbol{I} +\\omega_z\\sigma_z + \\omega_x\\sigma_x,\n",
    "$$"
   ]
  },
  {
   "cell_type": "markdown",
   "id": "375b6a6c",
   "metadata": {
    "editable": true
   },
   "source": [
    "with $c = (V_{11}+V_{22})/2$, $\\omega_z = (V_{11}-V_{22})/2$ and $\\omega_x = V_{12}=V_{21}$.\n",
    "We let our Hamiltonian depend linearly on a strength parameter $\\lambda$"
   ]
  },
  {
   "cell_type": "markdown",
   "id": "bdcc6e35",
   "metadata": {
    "editable": true
   },
   "source": [
    "$$\n",
    "H=H_0+\\lambda H_\\mathrm{I},\n",
    "$$"
   ]
  },
  {
   "cell_type": "markdown",
   "id": "8c626c46",
   "metadata": {
    "editable": true
   },
   "source": [
    "with $\\lambda \\in [0,1]$, where the limits $\\lambda=0$ and $\\lambda=1$\n",
    "represent the non-interacting (or unperturbed) and fully interacting\n",
    "system, respectively.  The model is an eigenvalue problem with only\n",
    "two available states.\n",
    "\n",
    "Here we set the parameters $E_1=0$,\n",
    "$E_2=4$, $V_{11}=-V_{22}=3$ and $V_{12}=V_{21}=0.2$.\n",
    "\n",
    "The non-interacting solutions represent our computational basis.\n",
    "Pertinent to our choice of parameters, is that at $\\lambda\\geq 2/3$,\n",
    "the lowest eigenstate is dominated by $\\vert 1\\rangle$ while the upper\n",
    "is $\\vert 0 \\rangle$. At $\\lambda=1$ the $\\vert 0 \\rangle$ mixing of\n",
    "the lowest eigenvalue is $1\\%$ while for $\\lambda\\leq 2/3$ we have a\n",
    "$\\vert 0 \\rangle$ component of more than $90\\%$.  The character of the\n",
    "eigenvectors has therefore been interchanged when passing $z=2/3$. The\n",
    "value of the parameter $V_{12}$ represents the strength of the coupling\n",
    "between the two states..\n",
    "\n",
    "Solve **by standard eigenvalue solvers** (either numerically or analytically) the above eigenvalue problem.\n",
    "Find the two eigenvalues as function of the interaction strength $\\lambda$.\n",
    "Study the behavior of these eigenstates as functions of the interaction strength $\\lambda$.\n",
    "Comment your results."
   ]
  },
  {
   "cell_type": "markdown",
   "id": "8d6f9801",
   "metadata": {
    "editable": true
   },
   "source": [
    "## Part c)\n",
    "\n",
    "Implement now the variational quantum eigensolver (VQE) for the above\n",
    "Hamiltonian and set up the circuit(s) which is(are) needed in order to find\n",
    "the eigenvalues of this system. Discuss the results and compare these\n",
    "with those from part b). Feel free to use either **Qiskit** or your own\n",
    "code (based on the setup from part a)) or both approaches. Discuss\n",
    "your results."
   ]
  },
  {
   "cell_type": "markdown",
   "id": "65e18af5",
   "metadata": {
    "editable": true
   },
   "source": [
    "## Part d)\n",
    "\n",
    "Extend part c) to a two-qubit system with the following computational\n",
    "basis states and Hamiltonian matrix written out in terms of Pauli spin\n",
    "matrices.\n",
    "\n",
    "This system can be thought of as composed of two subsystems\n",
    "$A$ and $B$. Each subsystem has computational basis states"
   ]
  },
  {
   "cell_type": "markdown",
   "id": "7eae2f35",
   "metadata": {
    "editable": true
   },
   "source": [
    "$$\n",
    "\\vert 0\\rangle_{\\mathrm{A,B}}=\\begin{bmatrix} 1 & 0\\end{bmatrix}^T \\hspace{1cm} \\vert 1\\rangle_{\\mathrm{A,B}}=\\begin{bmatrix} 0 & 1\\end{bmatrix}^T.\n",
    "$$"
   ]
  },
  {
   "cell_type": "markdown",
   "id": "44b56f62",
   "metadata": {
    "editable": true
   },
   "source": [
    "The subsystems could represent single particles or composite many-particle systems of a given symmetry.\n",
    "This leads to the many-body computational basis states"
   ]
  },
  {
   "cell_type": "markdown",
   "id": "376a7e66",
   "metadata": {
    "editable": true
   },
   "source": [
    "$$\n",
    "\\vert 00\\rangle = \\vert 0\\rangle_{\\mathrm{A}}\\otimes \\vert 0\\rangle_{\\mathrm{B}}=\\begin{bmatrix} 1 & 0 & 0 &0\\end{bmatrix}^T,\n",
    "$$"
   ]
  },
  {
   "cell_type": "markdown",
   "id": "b2332e8a",
   "metadata": {
    "editable": true
   },
   "source": [
    "and"
   ]
  },
  {
   "cell_type": "markdown",
   "id": "e00cf780",
   "metadata": {
    "editable": true
   },
   "source": [
    "$$\n",
    "\\vert 01\\rangle = \\vert 0\\rangle_{\\mathrm{A}}\\otimes \\vert 1\\rangle_{\\mathrm{B}}=\\begin{bmatrix} 0 & 1 & 0 &0\\end{bmatrix}^T,\n",
    "$$"
   ]
  },
  {
   "cell_type": "markdown",
   "id": "866a985c",
   "metadata": {
    "editable": true
   },
   "source": [
    "and"
   ]
  },
  {
   "cell_type": "markdown",
   "id": "883145ef",
   "metadata": {
    "editable": true
   },
   "source": [
    "$$\n",
    "\\vert 10\\rangle = \\vert 1\\rangle_{\\mathrm{A}}\\otimes \\vert 0\\rangle_{\\mathrm{B}}=\\begin{bmatrix} 0 & 0 & 1 &0\\end{bmatrix}^T,\n",
    "$$"
   ]
  },
  {
   "cell_type": "markdown",
   "id": "af48ed3e",
   "metadata": {
    "editable": true
   },
   "source": [
    "and finally"
   ]
  },
  {
   "cell_type": "markdown",
   "id": "849111a0",
   "metadata": {
    "editable": true
   },
   "source": [
    "$$\n",
    "\\vert 11\\rangle = \\vert 1\\rangle_{\\mathrm{A}}\\otimes \\vert 1\\rangle_{\\mathrm{B}}=\\begin{bmatrix} 0 & 0 & 0 &1\\end{bmatrix}^T.\n",
    "$$"
   ]
  },
  {
   "cell_type": "markdown",
   "id": "9b3993a9",
   "metadata": {
    "editable": true
   },
   "source": [
    "These computational basis states define also the eigenstates of the non-interacting  Hamiltonian"
   ]
  },
  {
   "cell_type": "markdown",
   "id": "977b6842",
   "metadata": {
    "editable": true
   },
   "source": [
    "$$\n",
    "H_0\\vert 00 \\rangle = \\epsilon_{00}\\vert 00 \\rangle,\n",
    "$$"
   ]
  },
  {
   "cell_type": "markdown",
   "id": "0f1ecc0a",
   "metadata": {
    "editable": true
   },
   "source": [
    "$$\n",
    "H_0\\vert 10 \\rangle = \\epsilon_{10}\\vert 10 \\rangle,\n",
    "$$"
   ]
  },
  {
   "cell_type": "markdown",
   "id": "13195d9e",
   "metadata": {
    "editable": true
   },
   "source": [
    "$$\n",
    "H_0\\vert 01 \\rangle = \\epsilon_{01}\\vert 01 \\rangle,\n",
    "$$"
   ]
  },
  {
   "cell_type": "markdown",
   "id": "2d36523e",
   "metadata": {
    "editable": true
   },
   "source": [
    "and"
   ]
  },
  {
   "cell_type": "markdown",
   "id": "26ff3dc3",
   "metadata": {
    "editable": true
   },
   "source": [
    "$$\n",
    "H_0\\vert 11 \\rangle = \\epsilon_{11}\\vert 11 \\rangle.\n",
    "$$"
   ]
  },
  {
   "cell_type": "markdown",
   "id": "6f792702",
   "metadata": {
    "editable": true
   },
   "source": [
    "The interacting part of the Hamiltonian $H_{\\mathrm{I}}$ is given by the tensor product of two $\\sigma_x$ and $\\sigma_z$  matrices, respectively, that is"
   ]
  },
  {
   "cell_type": "markdown",
   "id": "439ed9d2",
   "metadata": {
    "editable": true
   },
   "source": [
    "$$\n",
    "H_{\\mathrm{I}}=H_x\\sigma_x\\otimes\\sigma_x+H_z\\sigma_z\\otimes\\sigma_z,\n",
    "$$"
   ]
  },
  {
   "cell_type": "markdown",
   "id": "9db59604",
   "metadata": {
    "editable": true
   },
   "source": [
    "where $H_x$ and $H_z$ are interaction strength parameters. Our final Hamiltonian matrix is given by"
   ]
  },
  {
   "cell_type": "markdown",
   "id": "b9cb04ea",
   "metadata": {
    "editable": true
   },
   "source": [
    "$$\n",
    "\\boldsymbol{H}=\\begin{bmatrix} \\epsilon_{00}+H_z & 0 & 0 & H_x \\\\\n",
    "                       0  & \\epsilon_{10}-H_z & H_x & 0 \\\\\n",
    "\t\t       0 & H_x & \\epsilon_{01}-H_z & 0 \\\\\n",
    "\t\t       H_x & 0 & 0 & \\epsilon_{11} +H_z \\end{bmatrix}.\n",
    "$$"
   ]
  },
  {
   "cell_type": "markdown",
   "id": "20486727",
   "metadata": {
    "editable": true
   },
   "source": [
    "The four eigenstates of the above Hamiltonian matrix can in turn be used to\n",
    "define density matrices. As an example, the density matrix of the\n",
    "first eigenstate (lowest energy $E_0$) $\\Psi_0$ is"
   ]
  },
  {
   "cell_type": "markdown",
   "id": "e82e0ad3",
   "metadata": {
    "editable": true
   },
   "source": [
    "$$\n",
    "\\rho_0=\\left(\\alpha_{00}\\vert 00 \\rangle\\langle 00\\vert+\\alpha_{10}\\vert 10 \\rangle\\langle 10\\vert+\\alpha_{01}\\vert 01 \\rangle\\langle 01\\vert+\\alpha_{11}\\vert 11 \\rangle\\langle 11\\vert\\right),\n",
    "$$"
   ]
  },
  {
   "cell_type": "markdown",
   "id": "15ad5f4f",
   "metadata": {
    "editable": true
   },
   "source": [
    "where the coefficients $\\alpha_{ij}$ are the eigenvector coefficients\n",
    "resulting from the solution of the above eigenvalue problem.\n",
    "\n",
    "We can\n",
    "then in turn define the density matrix for the subsets $A$ or $B$ as"
   ]
  },
  {
   "cell_type": "markdown",
   "id": "7828d099",
   "metadata": {
    "editable": true
   },
   "source": [
    "$$\n",
    "\\rho_A=\\mathrm{Tr}_B(\\rho_{0})=\\langle 0 \\vert \\rho_{0} \\vert 0\\rangle_{B}+\\langle 1 \\vert \\rho_{0} \\vert 1\\rangle_{B},\n",
    "$$"
   ]
  },
  {
   "cell_type": "markdown",
   "id": "05ec31c4",
   "metadata": {
    "editable": true
   },
   "source": [
    "or"
   ]
  },
  {
   "cell_type": "markdown",
   "id": "ad849e63",
   "metadata": {
    "editable": true
   },
   "source": [
    "$$\n",
    "\\rho_B=\\mathrm{Tr}_A(\\rho_0)=\\langle 0 \\vert \\rho_{0} \\vert 0\\rangle_{A}+\\langle 1 \\vert \\rho_{0} \\vert 1\\rangle_{A}.\n",
    "$$"
   ]
  },
  {
   "cell_type": "markdown",
   "id": "69eb7a09",
   "metadata": {
    "editable": true
   },
   "source": [
    "The density matrices for these subsets can be used to compute the\n",
    "so-called von Neumann entropy, which is one of the possible measures\n",
    "of entanglement. A pure state has entropy equal zero while entangled\n",
    "state have an entropy larger than zero. The von-Neumann entropy is\n",
    "defined as"
   ]
  },
  {
   "cell_type": "markdown",
   "id": "8a82734a",
   "metadata": {
    "editable": true
   },
   "source": [
    "$$\n",
    "S(A,B)=-\\mathrm{Tr}\\left(\\rho_{A,B}\\log_2 (\\rho_{A,B})\\right).\n",
    "$$"
   ]
  },
  {
   "cell_type": "markdown",
   "id": "f3110bfc",
   "metadata": {
    "editable": true
   },
   "source": [
    "You can select parameter values (or other of your choice)"
   ]
  },
  {
   "cell_type": "code",
   "execution_count": 1,
   "id": "43ab3a47",
   "metadata": {
    "collapsed": false,
    "editable": true
   },
   "outputs": [],
   "source": [
    "Hx = 2.0\n",
    "Hz = 3.0\n",
    "# H_0\n",
    "Energiesnoninteracting = [0.0, 2.5, 6.5, 7.0]"
   ]
  },
  {
   "cell_type": "markdown",
   "id": "bca3412d",
   "metadata": {
    "editable": true
   },
   "source": [
    "Compute the eigenvalues **using standard eigenvalue solvers** as functions of\n",
    "the interaction strength $\\lambda$ and study the role of entanglement.\n",
    "Compute thereafter the Von Neumann entropy for one of the subsystems using the denisty matrix  of the lowest\n",
    "two-body state . Comment your results.\n",
    "\n",
    "The example here shows the above von Neumann entropy based on the\n",
    "density matrix for the lowest many-body state. We see clearly a jump\n",
    "in the entropy around the point where we have a level crossing. At\n",
    "interaction strenght $\\lambda=0$ we have many-body states purely\n",
    "defined by their computational basis states. As we switch on the\n",
    "interaction strength, we obtain an increased degree of mixing and the\n",
    "entropy increases till we reach the level crossing point where we see\n",
    "an additional and sudden increase in entropy. Similar behaviors are\n",
    "observed for the other states. The most important result from this\n",
    "example is that entanglement is driven by the Hamiltonian itself and\n",
    "the strength of the interaction matrix elements and the\n",
    "non-interacting energies."
   ]
  },
  {
   "cell_type": "markdown",
   "id": "75ad7e33",
   "metadata": {
    "editable": true
   },
   "source": [
    "## Part e)\n",
    "\n",
    "Compute now the eigenvalues of this system using the VQE method and\n",
    "set up the circuits needed to find the lowest state. Compare these\n",
    "results with those from the previous part. Feel free again to either\n",
    "use your own code for the circuit and your VQE code or use the\n",
    "functionality of [Qiskit](https://qiskit.org/), or both."
   ]
  },
  {
   "cell_type": "markdown",
   "id": "b8f8f34a",
   "metadata": {
    "editable": true
   },
   "source": [
    "## Part f)\n",
    "\n",
    "We introduce now the Lipkin Hamiltonian and study this for the\n",
    "$3\\times 3$ matrix case with total spin $J=1$ and the $5\\times 5$\n",
    "matrix for the $J=2$ case.\n",
    "We will follow closely the article in the Physical Review C, volume 106, see <https://journals.aps.org/prc/pdf/10.1103/PhysRevC.106.024319>.\n",
    "\n",
    "The Hamiltonian in second quantization is given by"
   ]
  },
  {
   "cell_type": "markdown",
   "id": "783fd21c",
   "metadata": {
    "editable": true
   },
   "source": [
    "$$\n",
    "H = H_0 + H_1 +H_2,\n",
    "$$"
   ]
  },
  {
   "cell_type": "markdown",
   "id": "aa9822ba",
   "metadata": {
    "editable": true
   },
   "source": [
    "with"
   ]
  },
  {
   "cell_type": "markdown",
   "id": "50fd633c",
   "metadata": {
    "editable": true
   },
   "source": [
    "$$\n",
    "H_0 = \\frac{1}{2} \\varepsilon \\sum_{p\\sigma}\\sigma a_{p\\sigma}^{\\dagger}a_{p\\sigma},\n",
    "$$"
   ]
  },
  {
   "cell_type": "markdown",
   "id": "4b837806",
   "metadata": {
    "editable": true
   },
   "source": [
    "and"
   ]
  },
  {
   "cell_type": "markdown",
   "id": "2736d375",
   "metadata": {
    "editable": true
   },
   "source": [
    "$$\n",
    "H_1 = \\frac{1}{2} V \\sum_{p,p',\\sigma} a_{p\\sigma}^\\dagger a_{p'\\sigma}^\\dagger a_{p'-\\sigma} a_{p-\\sigma},\n",
    "$$"
   ]
  },
  {
   "cell_type": "markdown",
   "id": "ee39fcb7",
   "metadata": {
    "editable": true
   },
   "source": [
    "and"
   ]
  },
  {
   "cell_type": "markdown",
   "id": "fdd360a6",
   "metadata": {
    "editable": true
   },
   "source": [
    "$$\n",
    "H_{2} = \\frac{1}{2} W \\sum_{p,p',\\sigma}a_{p\\sigma}^\\dagger a_{p'-\\sigma}^\\dagger a_{p'\\sigma}a_{p-\\sigma}.\n",
    "$$"
   ]
  },
  {
   "cell_type": "markdown",
   "id": "778ced08",
   "metadata": {
    "editable": true
   },
   "source": [
    "We can rewrite this Hamiltonian in terms of the so-called quasispin operators leading to"
   ]
  },
  {
   "cell_type": "markdown",
   "id": "8f66a20f",
   "metadata": {
    "editable": true
   },
   "source": [
    "<!-- Equation labels as ordinary links -->\n",
    "<div id=\"_auto3\"></div>\n",
    "\n",
    "$$\n",
    "\\begin{equation}\n",
    "H_0 = \\varepsilon J_z,\n",
    "\\label{_auto3} \\tag{3}\n",
    "\\end{equation}\n",
    "$$"
   ]
  },
  {
   "cell_type": "markdown",
   "id": "1500dcb7",
   "metadata": {
    "editable": true
   },
   "source": [
    "and"
   ]
  },
  {
   "cell_type": "markdown",
   "id": "3f0909d6",
   "metadata": {
    "editable": true
   },
   "source": [
    "<!-- Equation labels as ordinary links -->\n",
    "<div id=\"_auto4\"></div>\n",
    "\n",
    "$$\n",
    "\\begin{equation}\n",
    "H_1 = \\frac{1}{2} V \\left( J_+^2 + J_-^2 \\right).\n",
    "\\label{_auto4} \\tag{4}\n",
    "\\end{equation}\n",
    "$$"
   ]
  },
  {
   "cell_type": "markdown",
   "id": "5f0d14a6",
   "metadata": {
    "editable": true
   },
   "source": [
    "<!-- Equation labels as ordinary links -->\n",
    "<div id=\"_auto5\"></div>\n",
    "\n",
    "$$\n",
    "\\begin{equation}\n",
    "H_2 = \\frac{1}{2} W \\left( -N + J_+ J_- + J_- J_+ \\right).\n",
    "\\label{_auto5} \\tag{5}\n",
    "\\end{equation}\n",
    "$$"
   ]
  },
  {
   "cell_type": "markdown",
   "id": "7e5ac20e",
   "metadata": {
    "editable": true
   },
   "source": [
    "We start here with a simpler case, namely the $J=1$ case and we set $W=0$. Show that Hamiltonian matrix is then given by"
   ]
  },
  {
   "cell_type": "markdown",
   "id": "26287ed2",
   "metadata": {
    "editable": true
   },
   "source": [
    "<!-- Equation labels as ordinary links -->\n",
    "<div id=\"_auto6\"></div>\n",
    "\n",
    "$$\n",
    "\\begin{equation}\n",
    "H_{J = 1} =\n",
    "\\begin{pmatrix}-\\epsilon & 0 & -V\\\\\n",
    " 0&0&0\\\\\n",
    " -V&0&\\epsilon\n",
    "\\end{pmatrix}\n",
    "\\label{_auto6} \\tag{6}\n",
    "\\end{equation}\n",
    "$$"
   ]
  },
  {
   "cell_type": "markdown",
   "id": "5ea15aed",
   "metadata": {
    "editable": true
   },
   "source": [
    "To solve the above hamiltonian problem on a quantum computer we need\n",
    "to rewrite the Hamiltonian in terms of the Pauli spin\n",
    "matrices. Rewrite the above $J=1$ Hamiltonian (with $N=2$ particles)\n",
    "in terms of the Pauli matrices and the identity matrix.\n",
    "\n",
    "For $J=2$ we have a $5\\times 5$ matrix given by"
   ]
  },
  {
   "cell_type": "markdown",
   "id": "8f79d98b",
   "metadata": {
    "editable": true
   },
   "source": [
    "<!-- Equation labels as ordinary links -->\n",
    "<div id=\"_auto7\"></div>\n",
    "\n",
    "$$\n",
    "\\begin{equation}\n",
    "H_{J = 2} =\n",
    "\\begin{pmatrix}\n",
    "-2\\varepsilon & 0 & \\sqrt{6}V & 0 & 0 \\\\\n",
    "0 & -\\varepsilon + 3W & 0 & 3V & 0 \\\\\n",
    "\\sqrt{6}V & 0 & 4W & 0 & \\sqrt{6}V \\\\\n",
    "0 & 3V & 0 & \\varepsilon + 3W & 0 \\\\\n",
    "0 & 0 & \\sqrt{6}V & 0 & 2\\varepsilon\n",
    "\\end{pmatrix}\n",
    "\\label{_auto7} \\tag{7}\n",
    "\\end{equation}\n",
    "$$"
   ]
  },
  {
   "cell_type": "markdown",
   "id": "43e8c4c8",
   "metadata": {
    "editable": true
   },
   "source": [
    "Find also the $J=2$ Hamiltonian ($N=4$ particles) in terms of the same matrices (still with $W=0$).\n",
    "\n",
    "**Challenge:** Set up the Hamiltonian with the $W$ term as well in terms of the Pauli spin matrices.\n",
    "\n",
    "Diagonalize thereafter, using classical methods, the above Hamiltonian matrices and find the\n",
    "eigenvalues as functions of the strength of the interaction $V$ while\n",
    "keeping the single-particle energies fixed. Comment your results. Feel\n",
    "free to add the Hartree-Fock results as discussed in the lectures."
   ]
  },
  {
   "cell_type": "markdown",
   "id": "f777ca21",
   "metadata": {
    "editable": true
   },
   "source": [
    "## Part g)\n",
    "\n",
    "Use now the VQE method to find the same eigenvalues as in part f) and\n",
    "set up the circuits and simulations which are needed. Compare your\n",
    "results with those from part f) and comment your results."
   ]
  },
  {
   "cell_type": "markdown",
   "id": "44932287",
   "metadata": {
    "editable": true
   },
   "source": [
    "## Part h)\n",
    "\n",
    "Try to write your report as a scientific article. You can use the article in the Physical Review C, volume 106, see <https://journals.aps.org/prc/pdf/10.1103/PhysRevC.106.024319> as a template for your report."
   ]
  },
  {
   "cell_type": "markdown",
   "id": "75de4ee3",
   "metadata": {
    "editable": true
   },
   "source": [
    "## Introduction to numerical projects\n",
    "\n",
    "Here follows a brief recipe and recommendation on how to write a report for each\n",
    "project.\n",
    "\n",
    "  * Give a short description of the nature of the problem and the eventual  numerical methods you have used.\n",
    "\n",
    "  * Describe the algorithm you have used and/or developed. Here you may find it convenient to use pseudocoding. In many cases you can describe the algorithm in the program itself.\n",
    "\n",
    "  * Include the source code of your program. Comment your program properly.\n",
    "\n",
    "  * If possible, try to find analytic solutions, or known limits in order to test your program when developing the code.\n",
    "\n",
    "  * Include your results either in figure form or in a table. Remember to        label your results. All tables and figures should have relevant captions        and labels on the axes.\n",
    "\n",
    "  * Try to evaluate the reliabilty and numerical stability/precision of your results. If possible, include a qualitative and/or quantitative discussion of the numerical stability, eventual loss of precision etc.\n",
    "\n",
    "  * Try to give an interpretation of you results in your answers to  the problems.\n",
    "\n",
    "  * Critique: if possible include your comments and reflections about the  exercise, whether you felt you learnt something, ideas for improvements and  other thoughts you've made when solving the exercise. We wish to keep this course at the interactive level and your comments can help us improve it.\n",
    "\n",
    "  * Try to establish a practice where you log your work at the  computerlab. You may find such a logbook very handy at later stages in your work, especially when you don't properly remember  what a previous test version  of your program did. Here you could also record  the time spent on solving the exercise, various algorithms you may have tested or other topics which you feel worthy of mentioning."
   ]
  },
  {
   "cell_type": "markdown",
   "id": "1e27fc76",
   "metadata": {
    "editable": true
   },
   "source": [
    "## Format for electronic delivery of report and programs\n",
    "\n",
    "The preferred format for the report is a PDF file. You can also use DOC or postscript formats or as an ipython notebook file.  As programming language we prefer that you choose between C/C++, Fortran2008 or Python. The following prescription should be followed when preparing the report:\n",
    "\n",
    "  * Send us an email in order  to hand in your projects with a link to your GitHub/Gitlab repository.\n",
    "\n",
    "  * In your GitHub/GitLab or similar repository, please include a folder which contains selected results. These can be in the form of output from your code for a selected set of runs and input parameters.\n",
    "\n",
    "Finally, \n",
    "we encourage you to collaborate. Optimal working groups consist of \n",
    "2-3 students. You can then hand in a common report."
   ]
  }
 ],
 "metadata": {},
 "nbformat": 4,
 "nbformat_minor": 5
}
