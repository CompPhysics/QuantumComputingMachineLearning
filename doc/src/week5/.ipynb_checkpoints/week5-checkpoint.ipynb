{
 "cells": [
  {
   "cell_type": "markdown",
   "id": "05581264",
   "metadata": {},
   "source": [
    "<!-- HTML file automatically generated from DocOnce source (https://github.com/doconce/doconce/)\n",
    "doconce format html week5.do.txt --no_mako -->\n",
    "<!-- dom:TITLE: February 12-16,2024: Quantum Computing, Quantum Machine Learning and Quantum Information Theories -->"
   ]
  },
  {
   "cell_type": "markdown",
   "id": "40b30ba4",
   "metadata": {},
   "source": [
    "# February 12-16,2024: Quantum Computing, Quantum Machine Learning and Quantum Information Theories\n",
    "**Morten Hjorth-Jensen**, Department of Physics, University of Oslo and Department of Physics and Astronomy and National Superconducting Cyclotron Laboratory, Michigan State University\n",
    "\n",
    "Date: **Feb 13, 2024**\n",
    "\n",
    "Copyright 1999-2024, Morten Hjorth-Jensen. Released under CC Attribution-NonCommercial 4.0 license"
   ]
  },
  {
   "cell_type": "markdown",
   "id": "299473f7",
   "metadata": {},
   "source": [
    "## Plans for the week of February 12-16\n",
    "1. Quantum circuits and operations (one-, two- and three-qubit gates\n",
    "\n",
    "2. Hands-on exercises, see end of these slides\n",
    "\n",
    "3. Discussion of the first iteration of project 1"
   ]
  },
  {
   "cell_type": "markdown",
   "id": "fd825af9",
   "metadata": {},
   "source": [
    "## Running on the IBM machines\n",
    "\n",
    "For the projects and exercises, using for example Qiskit, we can run (as of now) on IBM's 127 qubit machine (Osaka).\n",
    "The Bell-state simulations below here perform this. To get started with the IBM machines, you need an account. Here's the recipe you need to follow\n",
    "1. Go to <quantum.ibm.com> and create an account and follow the instructions.\n",
    "\n",
    "2. After you have set up your account, go to the account icon and find the token. You need this to identify your self.\n",
    "\n",
    "3. Clicking on the **jobs** link you can see which machines are availbale and where your job is, whether it is an queue or whether it is pending.\n",
    "\n",
    "The example at the end of this week's slides shows how you can run on IBM-Osaka, the 127 qubit machine is which available presently.\n",
    "Make sure you copy in our own token,  as that is your unique identifier."
   ]
  },
  {
   "cell_type": "markdown",
   "id": "4d7023b6",
   "metadata": {},
   "source": [
    "## Explicit instructions"
   ]
  },
  {
   "cell_type": "code",
   "execution_count": 1,
   "id": "28e7f88b",
   "metadata": {},
   "outputs": [],
   "source": [
    "# Install qiskit and various packages\n",
    "pip install -q qiskit\n",
    "pip install -q qiskit-aer\n",
    "pip install -q qiskit-ibmq-provider"
   ]
  },
  {
   "cell_type": "markdown",
   "id": "4173df5d",
   "metadata": {},
   "source": [
    "## Setting up your IBM run"
   ]
  },
  {
   "cell_type": "code",
   "execution_count": 2,
   "id": "4563b67d",
   "metadata": {},
   "outputs": [],
   "source": [
    "# Provide your IBM Quantum Experience API token here\n",
    "# Paste in this from your IBM account\n",
    "api_token = 'your_api_token'\n",
    "# Load your IBM Quantum account\n",
    "IBMQ.save_account(api_token, overwrite=True)  # This stores your credentials locally\n",
    "IBMQ.load_account()\n",
    "# Get the least busy backend\n",
    "provider = IBMQ.get_provider(hub='ibm-q', group ='open', project='main')\n",
    "# Run on the 127-qubit machine IBM-Osaka\n",
    "backend = provider.get_backend('ibm_osaka')\n",
    "# Create a quantum circuit with two qubits\n",
    "bell_circuit = QuantumCircuit(2, 2)"
   ]
  },
  {
   "cell_type": "markdown",
   "id": "ae0a7668",
   "metadata": {},
   "source": [
    "## Quantum gates, circuits and simple algorithms\n",
    "\n",
    "Quantum gates are physical actions that are applied to the physical\n",
    "system representing the qubits. Mathematically, they are\n",
    "complex-valued, unitary matrices which act on the complex-values\n",
    "normalized vectors that represent qubits. As the quantum analog of\n",
    "classical logic gates (such as AND and OR), there is a corresponding\n",
    "quantum gate for every classical gate; however, there are quantum\n",
    "gates that have no classical counter-part. They act on a set of qubits\n",
    "and, changing their state. That is, if $U$ is a quantum gate and\n",
    "$\\vert q \\rangle $ is a qubit, then acting the gate $U$ on the qubit $\\vert q \\rangle $\n",
    "transforms the qubit as follows:"
   ]
  },
  {
   "cell_type": "markdown",
   "id": "bfbbf000",
   "metadata": {},
   "source": [
    "<!-- Equation labels as ordinary links -->\n",
    "<div id=\"_auto1\"></div>\n",
    "\n",
    "$$\n",
    "\\begin{equation}\n",
    "\\vert q \\rangle \\overset{U}{\\to}U\\vert q \\rangle \n",
    ". \\label{_auto1} \\tag{1}\n",
    "\\end{equation}\n",
    "$$"
   ]
  },
  {
   "cell_type": "markdown",
   "id": "91878dfd",
   "metadata": {},
   "source": [
    "## Quantum circuits\n",
    "\n",
    "Quantum circuits are diagrammatic representations of quantum\n",
    "algorithms. The horizontal dimension corresponds to time; moving left\n",
    "to right corresponds to forward motion in time. They consist of a set\n",
    "of qubits $\\vert q_n\\rangle$ which are stacked vertically on the left-hand\n",
    "side of the diagram. Lines, called quantum wires, extend horizontally\n",
    "to the right from each qubit, representing its state moving forward in\n",
    "time. Additionally, they contain a set of quantum gates that are\n",
    "applied to the quantum wires. Gates are applied chronologically, left\n",
    "to right."
   ]
  },
  {
   "cell_type": "markdown",
   "id": "0548ea6f",
   "metadata": {},
   "source": [
    "## Single-Qubit Gates\n",
    "\n",
    "A single-qubit gate is a physical action that is applied to one\n",
    "qubit. It can be represented by a matrix $U$ from the group SU(2). Any\n",
    "single-qubit gate can be parameterized by three angles: $\\theta$,\n",
    "$\\phi$, and $\\lambda$ as follows"
   ]
  },
  {
   "cell_type": "markdown",
   "id": "026b74b0",
   "metadata": {},
   "source": [
    "$$\n",
    "U(\\theta,\\phi,\\lambda)=\\begin{bmatrix}\n",
    "\\cos\\frac{\\theta}{2} & -e^{i\\lambda}\\sin\\frac{\\theta}{2}\n",
    "\\\\\n",
    "e^{i\\phi}\\sin\\frac{\\theta}{2} & e^{i(\\phi+\\lambda)}\\cos\\frac{\\theta}{2}\n",
    "\\end{bmatrix}.\n",
    "$$"
   ]
  },
  {
   "cell_type": "markdown",
   "id": "431b5483",
   "metadata": {},
   "source": [
    "## Widely used gates\n",
    "\n",
    "There are several widely used quantum gates. Perhaps the most famous are \n",
    "the Pauli gates correspond to the Pauli matrices"
   ]
  },
  {
   "cell_type": "markdown",
   "id": "7c3fb88c",
   "metadata": {},
   "source": [
    "$$\n",
    "I=\\begin{bmatrix} 1 & 0 \\\\ 0 & 1 \\end{bmatrix},\n",
    "$$"
   ]
  },
  {
   "cell_type": "markdown",
   "id": "97a7e893",
   "metadata": {},
   "source": [
    "$$\n",
    "X =\\begin{bmatrix} 0 & 1 \\\\ 1 & 0\\end{bmatrix},\n",
    "$$"
   ]
  },
  {
   "cell_type": "markdown",
   "id": "31bc8cf4",
   "metadata": {},
   "source": [
    "$$\n",
    "Y=\\begin{bmatrix}0 & -i \\\\i & 0\\end{bmatrix},\n",
    "$$"
   ]
  },
  {
   "cell_type": "markdown",
   "id": "60334ac2",
   "metadata": {},
   "source": [
    "$$\n",
    "Z=\\begin{bmatrix} 1 & 0 \\\\ 0 & -1\\end{bmatrix}.\n",
    "$$"
   ]
  },
  {
   "cell_type": "markdown",
   "id": "ec1b90f4",
   "metadata": {},
   "source": [
    "## Algebra basis\n",
    "\n",
    "These gates form a basis for\n",
    "the algebra $\\mathfrak{su}(2)$. Exponentiating them will thus give us\n",
    "a basis for SU(2), the group within which all single-qubit gates\n",
    "live."
   ]
  },
  {
   "cell_type": "markdown",
   "id": "7ff7fd75",
   "metadata": {},
   "source": [
    "## Exponentiated Pauli gates\n",
    "\n",
    "These exponentiated Pauli gates are called rotation gates\n",
    "$R_{\\sigma}(\\theta)$ because they rotate the quantum state around the\n",
    "axis $\\sigma=X,Y,Z$ of the Bloch sphere by an angle $\\theta$. They are\n",
    "defined as"
   ]
  },
  {
   "cell_type": "markdown",
   "id": "b84d9375",
   "metadata": {},
   "source": [
    "$$\n",
    "R_X(\\theta)=e^{-i\\frac{\\theta}{2}X}=\n",
    "\\begin{bmatrix}\n",
    "\\cos\\frac{\\theta}{2} & -i\\sin\\frac{\\theta}{2} \\\\\n",
    "-i\\sin\\frac{\\theta}{2} & \\cos\\frac{\\theta}{2} \n",
    "\\end{bmatrix},\n",
    "$$"
   ]
  },
  {
   "cell_type": "markdown",
   "id": "0fb368ec",
   "metadata": {},
   "source": [
    "$$\n",
    "R_Y(\\theta)=e^{-i\\frac{\\theta}{2}Y}=\n",
    "\\begin{bmatrix}\n",
    "\\cos\\frac{\\theta}{2} & -\\sin\\frac{\\theta}{2} \\\\\n",
    "\\sin\\frac{\\theta}{2} & \\cos\\frac{\\theta}{2} \n",
    "\\end{bmatrix},\n",
    "$$"
   ]
  },
  {
   "cell_type": "markdown",
   "id": "9aba6265",
   "metadata": {},
   "source": [
    "$$\n",
    "R_Z(\\theta)=e^{-i\\frac{\\theta}{2}Z}=\\begin{bmatrix}\n",
    "e^{-i\\theta/2} & 0 \\\\\n",
    "0 & e^{i\\theta/2}\\end{bmatrix}.\n",
    "$$"
   ]
  },
  {
   "cell_type": "markdown",
   "id": "18e0ce38",
   "metadata": {},
   "source": [
    "## Basis for $\\mathrm{SU}(2)$\n",
    "\n",
    "Because they form a basis for $\\mathrm{SU}(2)$, any single-qubit gate\n",
    "can be decomposed into three rotation gates. Indeed"
   ]
  },
  {
   "cell_type": "markdown",
   "id": "3f0f4af2",
   "metadata": {},
   "source": [
    "$$\n",
    "R_z(\\phi)R_y(\\theta)R_z(\\lambda)=\n",
    "\\begin{bmatrix}\n",
    "e^{-i\\phi/2} & 0 \\\\\n",
    "0 & e^{i\\phi/2}\n",
    "\\end{bmatrix}\n",
    "\\begin{bmatrix}\n",
    "\\cos\\frac{\\theta}{2} & -\\sin\\frac{\\theta}{2} \\\\\n",
    "\\sin\\frac{\\theta}{2} & \\cos\\frac{\\theta}{2} \n",
    "\\end{bmatrix}\n",
    "\\begin{bmatrix}\n",
    "e^{-i\\lambda/2} & 0 \\\\\n",
    "0 & e^{i\\lambda/2}\n",
    "\\end{bmatrix}\n",
    "$$"
   ]
  },
  {
   "cell_type": "markdown",
   "id": "76cc653a",
   "metadata": {},
   "source": [
    "which we can rewite as"
   ]
  },
  {
   "cell_type": "markdown",
   "id": "0359ac18",
   "metadata": {},
   "source": [
    "$$\n",
    "e^{-i(\\phi+\\lambda)/2}\n",
    "\\begin{bmatrix}\n",
    "\\cos\\frac{\\theta}{2} & -e^{i\\lambda}\\sin\\frac{\\theta}{2}\\\\\n",
    "e^{i\\phi}\\sin\\frac{\\theta}{2} & e^{i(\\phi+\\lambda)}\\cos\\frac{\\theta}{2}\n",
    "\\end{bmatrix},\n",
    "$$"
   ]
  },
  {
   "cell_type": "markdown",
   "id": "fc6f63b4",
   "metadata": {},
   "source": [
    "which is, up to a global phase, equal to the expression for an arbitrary single-qubit gate."
   ]
  },
  {
   "cell_type": "markdown",
   "id": "9069d2ab",
   "metadata": {},
   "source": [
    "## Two-Qubit Gates\n",
    "\n",
    "A two-qubit gate is a physical action that is applied to two\n",
    "qubits. It can be represented by a matrix $U$ from the group\n",
    "SU(4). One important type of two-qubit gates are controlled gates,\n",
    "which work as follows: Suppose $U$ is a single-qubit gate. A\n",
    "controlled-$U$ gate ($CU$) acts on two qubits: a control qubit\n",
    "$\\vert x \\rangle $ and a target qubit $\\vert y \\rangle $. The controlled-$U$ gate\n",
    "applies the identity $I$ or the single-qubit gate $U$ to the target\n",
    "qubit if the control gate is in the zero state $\\vert 0\\rangle$ or the one\n",
    "state $\\vert 1\\rangle$, respectively."
   ]
  },
  {
   "cell_type": "markdown",
   "id": "9d0289d1",
   "metadata": {},
   "source": [
    "## Control qubit\n",
    "The control qubit is not acted\n",
    "upon. This can be represented as follows if"
   ]
  },
  {
   "cell_type": "markdown",
   "id": "bb2d6d17",
   "metadata": {},
   "source": [
    "$$\n",
    "CU\\vert xy\\rangle=\n",
    "\\vert xy\\rangle \\hspace{0.1cm} \\mathrm{if} \\hspace{0.1cm}  \\vert x \\rangle =\\vert 0\\rangle.\n",
    "$$"
   ]
  },
  {
   "cell_type": "markdown",
   "id": "7e89eb08",
   "metadata": {},
   "source": [
    "## In matrix form\n",
    "\n",
    "It is easier to see in a matrix form.\n",
    "It can be written in matrix form by writing it as a superposition of\n",
    "the two possible cases, each written as a simple tensor product"
   ]
  },
  {
   "cell_type": "markdown",
   "id": "84216be4",
   "metadata": {},
   "source": [
    "$$\n",
    "CU = \\vert 0\\rangle\\langle 0\\vert\\otimes I + \\vert 1\\rangle\\langle 1 \\vert \\otimes U=\\begin{bmatrix}\n",
    "1 & 0 & 0 & 0 \\\\\n",
    "0 & 1 & 0 & 0 \\\\\n",
    "0 & 0 & u_{00} & u_{01} \\\\\n",
    "0 & 0 & u_{10} & u_{11}\n",
    "\\end{bmatrix}.\n",
    "$$"
   ]
  },
  {
   "cell_type": "markdown",
   "id": "777652ec",
   "metadata": {},
   "source": [
    "## CNOT gate\n",
    "\n",
    "One of the most fundamental controlled gates is the CNOT gate. It is\n",
    "defined as the controlled-$X$ gate $CX$ and thus flips the state of\n",
    "the target qubit if the control qubit is in the zero state\n",
    "$\\vert 0\\rangle$. It can be written in matrix form as follows:"
   ]
  },
  {
   "cell_type": "markdown",
   "id": "8a9fc907",
   "metadata": {},
   "source": [
    "$$\n",
    "\\mathrm{CNOT}=\\begin{bmatrix}\n",
    "1 & 0 & 0 & 0 \\\\\n",
    "0 & 1 & 0 & 0 \\\\\n",
    "0 & 0 & 0 & 1 \\\\\n",
    "0 & 0 & 1 & 0\n",
    "\\end{bmatrix}.\n",
    "$$"
   ]
  },
  {
   "cell_type": "markdown",
   "id": "268a26de",
   "metadata": {},
   "source": [
    "## Swap gate\n",
    "\n",
    "A widely used two-qubit gate that goes beyond the simple controlled function is the SWAP gate. It swaps the states of the two qubits it acts upon"
   ]
  },
  {
   "cell_type": "markdown",
   "id": "a51c122f",
   "metadata": {},
   "source": [
    "$$\n",
    "\\mathrm{SWAP}\\vert xy\\rangle=\\vert yx\\rangle.\n",
    "$$"
   ]
  },
  {
   "cell_type": "markdown",
   "id": "f57f7c9e",
   "metadata": {},
   "source": [
    "and has the following matrix form"
   ]
  },
  {
   "cell_type": "markdown",
   "id": "ed3f7e60",
   "metadata": {},
   "source": [
    "$$\n",
    "\\mathrm{SWAP}\n",
    "=\\begin{bmatrix}\n",
    "1 & 0 & 0 & 0 \\\\\n",
    "0 & 0 & 1 & 0 \\\\\n",
    "0 & 1 & 0 & 0 \\\\\n",
    "0 & 0 & 0 & 1\n",
    "\\end{bmatrix}.\n",
    "$$"
   ]
  },
  {
   "cell_type": "markdown",
   "id": "f85d3d7d",
   "metadata": {},
   "source": [
    "## Introduction to [Qiskit](https://qiskit.org/)\n",
    "\n",
    "This part is best seen using the jupyter-notebook.\n",
    "\n",
    "For the installation"
   ]
  },
  {
   "cell_type": "code",
   "execution_count": 3,
   "id": "887fd2fe",
   "metadata": {},
   "outputs": [],
   "source": [
    "pip install qiskit\n",
    "pip install qiskit-ibm-runtime"
   ]
  },
  {
   "cell_type": "markdown",
   "id": "2fb5f93d",
   "metadata": {},
   "source": [
    "Documentation can be found at <https://docs.quantum.ibm.com/api/qiskit >"
   ]
  },
  {
   "cell_type": "markdown",
   "id": "d682cf41",
   "metadata": {},
   "source": [
    "## Simple code"
   ]
  },
  {
   "cell_type": "code",
   "execution_count": 4,
   "id": "450f07bc",
   "metadata": {},
   "outputs": [],
   "source": [
    "#!/usr/bin/env python\n",
    "# coding: utf-8\n",
    "import numpy as np\n",
    "import qiskit as qk\n",
    "from scipy.optimize import minimize\n",
    "\n",
    "\n",
    "# # Initialize registers and circuit\n",
    "\n",
    "n_qubits = 1 #Number of qubits\n",
    "n_cbits = 1 #Number of classical bits (the number of qubits you want to measure at the end of the circuit)\n",
    "qreg = qk.QuantumRegister(n_qubits) #Create a quantum register\n",
    "creg = qk.ClassicalRegister(n_cbits) #Create a classical register\n",
    "circuit = qk.QuantumCircuit(qreg,creg) #Create your quantum circuit\n",
    "\n",
    "\n",
    "circuit.draw() #Draw circuit. It is empty"
   ]
  },
  {
   "cell_type": "markdown",
   "id": "25cfd4ae",
   "metadata": {},
   "source": [
    "Thereafter we perform operations on qubit"
   ]
  },
  {
   "cell_type": "code",
   "execution_count": 5,
   "id": "0e72ae22",
   "metadata": {},
   "outputs": [],
   "source": [
    "circuit.x(qreg[0]) #Applies a Pauli X gate to the first qubit in the quantum register\n",
    "circuit.draw()"
   ]
  },
  {
   "cell_type": "markdown",
   "id": "24f12db5",
   "metadata": {},
   "source": [
    "and select  a qubit to measure and encode the results to a classical bit"
   ]
  },
  {
   "cell_type": "code",
   "execution_count": 6,
   "id": "27dca7bc",
   "metadata": {},
   "outputs": [],
   "source": [
    "#Measure the first qubit in the quantum register\n",
    "#and encode the results to the first qubit in the classical register\n",
    "circuit.measure(qreg[0],creg[0])\n",
    "circuit.draw()"
   ]
  },
  {
   "cell_type": "markdown",
   "id": "8965b804",
   "metadata": {},
   "source": [
    "Thereafter we execute the circuit"
   ]
  },
  {
   "cell_type": "code",
   "execution_count": 7,
   "id": "7c0eea56",
   "metadata": {},
   "outputs": [],
   "source": [
    "backend = qk.Aer.get_backend('qasm_simulator') \n",
    "#This is the device you want to use. It is an ideal simulation of a quantum device\n",
    "\n",
    "\n",
    "job = backend.run(circuit,shots=1000) #Run the circuit 1000 times\n",
    "result = job.result()\n",
    "counts = result.get_counts()\n",
    "print(counts)\n",
    "circuit.clear()\n",
    "circuit.draw()\n",
    "\n",
    "\n",
    "circuit.h(qreg[0]) #Apply a Hadamard gate to the first qubit of the quantum register\n",
    "circuit.measure(qreg,creg)\n",
    "print(circuit.draw())\n",
    "\n",
    "\n",
    "job = backend.run(circuit,shots=1000)\n",
    "result = job.result()\n",
    "counts = result.get_counts()\n",
    "print(counts)\n",
    "circuit.clear()"
   ]
  },
  {
   "cell_type": "markdown",
   "id": "d5ab4fbd",
   "metadata": {},
   "source": [
    "Now we create a two-qubit circuit and set up a Bell state"
   ]
  },
  {
   "cell_type": "code",
   "execution_count": 8,
   "id": "3a1b4414",
   "metadata": {},
   "outputs": [],
   "source": [
    "n_qubits = 2\n",
    "n_cbits = 2\n",
    "qreg = qk.QuantumRegister(n_qubits)\n",
    "creg = qk.ClassicalRegister(n_cbits)\n",
    "circuit = qk.QuantumCircuit(qreg,creg)\n",
    "circuit.draw()\n",
    "\n",
    "\n",
    "\n",
    "circuit.h(qreg[0])\n",
    "circuit.cx(qreg[0],qreg[1]) \n",
    "#This is a controlled operation. Apply a Pauli X gate to the second qubit (qreg[1]) if the first qubit (qreg[0])\n",
    "#is in the |1> state. Else do nothing\n",
    "\n",
    "circuit.draw()\n",
    "\n",
    "circuit.measure(qreg,creg)\n",
    "circuit.draw()"
   ]
  },
  {
   "cell_type": "code",
   "execution_count": 9,
   "id": "fb5b14bd",
   "metadata": {},
   "outputs": [],
   "source": [
    "job = backend.run(circuit,shots=1000)\n",
    "result = job.result()\n",
    "counts = result.get_counts()\n",
    "print(counts)\n",
    "circuit.clear()"
   ]
  },
  {
   "cell_type": "markdown",
   "id": "bfe51a9a",
   "metadata": {},
   "source": [
    "We apply a rotation to a qubit"
   ]
  },
  {
   "cell_type": "code",
   "execution_count": 10,
   "id": "381f0b70",
   "metadata": {},
   "outputs": [],
   "source": [
    "theta = np.pi/3\n",
    "circuit.rx(theta, qreg[0]) #R_x(theta) rotation on the first qubit (qreg[0])\n",
    "circuit.measure(qreg,creg)\n",
    "print(circuit.draw())\n",
    "job = backend.run(circuit,shots=1000)\n",
    "result = job.result()\n",
    "counts = result.get_counts()\n",
    "circuit.clear()\n",
    "print(counts)"
   ]
  },
  {
   "cell_type": "markdown",
   "id": "1b69f1b2",
   "metadata": {},
   "source": [
    "## Exercises for next week and Bell states, developed by Keran"
   ]
  },
  {
   "cell_type": "code",
   "execution_count": 11,
   "id": "c79f5035",
   "metadata": {},
   "outputs": [],
   "source": [
    "%matplotlib inline\n",
    "\n",
    "import qiskit as qk\n",
    "from qiskit import QuantumRegister, ClassicalRegister, QuantumCircuit\n",
    "from qiskit.visualization import plot_histogram\n",
    "from qiskit_aer import AerSimulator\n",
    "import matplotlib.pyplot as plt"
   ]
  },
  {
   "cell_type": "markdown",
   "id": "1921988e",
   "metadata": {},
   "source": [
    "Setting up a circuit"
   ]
  },
  {
   "cell_type": "code",
   "execution_count": 12,
   "id": "746ba806",
   "metadata": {},
   "outputs": [],
   "source": [
    "qreg_q = QuantumRegister(2) # 2 qubits\n",
    "creg_c = ClassicalRegister(2) # 2 classical bits\n",
    "\n",
    "qc = QuantumCircuit(qreg_q, creg_c) # alternatively, circuit = QuantumCircuit(2, 2)\n",
    "\n",
    "qc.h(qreg_q[0]) # apply the hadamard gate to the first qubit (to the right)\n",
    "\n",
    "# apply the CNOT gate with the first qubit being the control qubit and the second qubit being the target qubit\n",
    "qc.cx(qreg_q[0], qreg_q[1]) \n",
    "\n",
    "\n",
    "# measure the qubits, specify which qubit you want to measure\n",
    "qc.measure(qreg_q[0], creg_c[0])\n",
    "qc.measure(qreg_q[1], creg_c[1])"
   ]
  },
  {
   "cell_type": "markdown",
   "id": "42b62929",
   "metadata": {},
   "source": [
    "Next we will use an ideal(noiseless) simulator (AerSimulator) to run\n",
    "our circuit. We will use the qasm$\\_$simulator backend. This simulator\n",
    "returns a result object which contains the counts, or number of times\n",
    "each qubit was measured in the zero state and the one state. We can\n",
    "then use the plot$\\_$histogram function to see the result of our circuit."
   ]
  },
  {
   "cell_type": "code",
   "execution_count": 13,
   "id": "79da3653",
   "metadata": {},
   "outputs": [],
   "source": [
    "# Initialize a simulator\n",
    "simulator = AerSimulator()\n",
    "\n",
    "job = qk.execute(qc, simulator, shots=1000) # shots are the number of times the circuit is executed\n",
    "results = job.result().get_counts(qc) # Done! check out the results!\n",
    "print(results)"
   ]
  },
  {
   "cell_type": "markdown",
   "id": "70315b31",
   "metadata": {},
   "source": [
    "Is this what you expected? Visualise it!"
   ]
  },
  {
   "cell_type": "code",
   "execution_count": 14,
   "id": "a16fd1ef",
   "metadata": {},
   "outputs": [],
   "source": [
    "plot_histogram(results)"
   ]
  },
  {
   "cell_type": "markdown",
   "id": "5a70483d",
   "metadata": {},
   "source": [
    "Now it's your turn to make create the other three bell states, which are\n",
    "\n",
    "$$ \\vert \\Phi_+\\rangle = \\frac{|00\\rangle + |11\\rangle}{\\sqrt{2}} $$\n",
    "$$ \\vert \\Phi_-\\rangle = \\frac{|00\\rangle - |11\\rangle}{\\sqrt{2}} $$\n",
    "$$ \\vert \\Psi_+\\rangle = \\frac{|01\\rangle + |10\\rangle}{\\sqrt{2}} $$\n",
    "$$ \\vert \\Psi_-\\rangle = \\frac{|01\\rangle - |10\\rangle}{\\sqrt{2}} $$"
   ]
  },
  {
   "cell_type": "code",
   "execution_count": 15,
   "id": "23d30fca",
   "metadata": {},
   "outputs": [],
   "source": [
    "# SOLUTIONS\n",
    "\n",
    "phi_plus = QuantumCircuit(2,2)\n",
    "phi_plus.h(0)\n",
    "phi_plus.cx(0,1)\n",
    "phi_plus.measure([0,1],[0,1])\n",
    "\n",
    "\n",
    "phi_minus = QuantumCircuit(2,2)\n",
    "phi_minus.h(0)\n",
    "phi_minus.cx(0,1)\n",
    "phi_minus.z(0) # you can flip 1 in this case too, but not both obviously\n",
    "phi_minus.measure([0,1],[0,1])\n",
    "\n",
    "\n",
    "psi_plus = QuantumCircuit(2,2)\n",
    "psi_plus.h(0)\n",
    "psi_plus.cx(0,1)\n",
    "psi_plus.x(0) \n",
    "psi_plus.measure([0,1],[0,1])\n",
    "\n",
    "\n",
    "psi_minus = QuantumCircuit(2,2)\n",
    "psi_minus.h(0)\n",
    "psi_minus.cx(0,1)\n",
    "psi_minus.x(0)\n",
    "psi_minus.z(0)\n",
    "psi_minus.measure([0,1],[0,1])\n",
    "\n",
    "\n",
    "bell_states = [phi_plus, phi_minus, psi_plus, psi_minus]"
   ]
  },
  {
   "cell_type": "markdown",
   "id": "eacb53bb",
   "metadata": {},
   "source": [
    "Have a look at them side by side"
   ]
  },
  {
   "cell_type": "code",
   "execution_count": 16,
   "id": "3657b473",
   "metadata": {},
   "outputs": [],
   "source": [
    "all_results = []\n",
    "\n",
    "fig, axes = plt.subplots(2, 2, figsize=(10, 10))\n",
    "for i,state in enumerate(bell_states):\n",
    "    print(results)\n",
    "    job = qk.execute(state, simulator, shots=1000)\n",
    "    all_results.append(job.result().get_counts(state))\n",
    "    plot_histogram(all_results[-1], ax=axes[int(i/2),i%2])"
   ]
  },
  {
   "cell_type": "markdown",
   "id": "bf513ae5",
   "metadata": {},
   "source": [
    "How can you distinguish $|\\Phi_+\\rangle$ and $|\\Phi_-\\rangle$? (and\n",
    "similarly $|\\Psi_+\\rangle$ and $|\\Psi_-\\rangle$)\n",
    "\n",
    "You can play around with the gates at <https://quantum.ibm.com/composer>.\n",
    "We'll look at the example with $|\\Phi_+\\rangle$ and $|\\Phi_-\\rangle$."
   ]
  },
  {
   "cell_type": "code",
   "execution_count": 17,
   "id": "ccb6ff0d",
   "metadata": {},
   "outputs": [],
   "source": [
    "# Solution: change basis\n",
    "\n",
    "phi_plus = QuantumCircuit(2,2)\n",
    "phi_plus.h(0)\n",
    "phi_plus.cx(0,1)\n",
    "phi_plus.h(0)\n",
    "phi_plus.h(1)\n",
    "phi_plus.measure([0,1],[0,1])\n",
    "\n",
    "\n",
    "phi_minus = QuantumCircuit(2,2)\n",
    "phi_minus.h(0)\n",
    "phi_minus.cx(0,1)\n",
    "phi_minus.z(0) # you can flip 1 in this case too, but not both obviously\n",
    "phi_minus.h(0)\n",
    "phi_minus.h(1)\n",
    "phi_minus.measure([0,1],[0,1])\n",
    "\n",
    "for state in [phi_plus, phi_minus]:\n",
    "    job = qk.execute(state, simulator, shots=1000)\n",
    "    print(job.result().get_counts(state))\n",
    "    plot_histogram(job.result().get_counts(state))"
   ]
  },
  {
   "cell_type": "markdown",
   "id": "0a436406",
   "metadata": {},
   "source": [
    "## Testing the Bell states"
   ]
  },
  {
   "cell_type": "code",
   "execution_count": 1,
   "id": "18eb0089",
   "metadata": {},
   "outputs": [
    {
     "name": "stdout",
     "output_type": "stream",
     "text": [
      "Quantum Circuit:\n",
      "     ┌───┐     ┌─┐   \n",
      "q_0: ┤ H ├──■──┤M├───\n",
      "     └───┘┌─┴─┐└╥┘┌─┐\n",
      "q_1: ─────┤ X ├─╫─┤M├\n",
      "          └───┘ ║ └╥┘\n",
      "c: 2/═══════════╩══╩═\n",
      "                0  1 \n"
     ]
    }
   ],
   "source": [
    "from qiskit import QuantumCircuit, transpile, assemble, IBMQ\n",
    "from qiskit.visualization import circuit_drawer\n",
    "import qiskit_aer\n",
    "import matplotlib.pyplot as plt\n",
    "\n",
    "# Create a quantum circuit with two qubits\n",
    "bell_circuit = QuantumCircuit(2, 2)\n",
    "\n",
    "# Apply Hadamard gate to the first qubit\n",
    "bell_circuit.h(0)\n",
    "\n",
    "# Apply a CNOT gate with the first qubit as the control and the second qubit as the target\n",
    "bell_circuit.cx(0, 1)\n",
    "\n",
    "# Add measurements to the circuit\n",
    "bell_circuit.measure([0, 1], [0, 1])\n",
    "\n",
    "# Visualize the circuit\n",
    "print(\"Quantum Circuit:\")\n",
    "print(bell_circuit)"
   ]
  },
  {
   "cell_type": "markdown",
   "id": "027acdbf",
   "metadata": {},
   "source": [
    "## Running the calculations"
   ]
  },
  {
   "cell_type": "code",
   "execution_count": 2,
   "id": "45ef4aee",
   "metadata": {},
   "outputs": [
    {
     "name": "stdout",
     "output_type": "stream",
     "text": [
      "\n",
      "Measurement Results:\n",
      "{'11': 4912, '00': 5088}\n"
     ]
    }
   ],
   "source": [
    "# Number of shots\n",
    "num_shots = 10000\n",
    "\n",
    "# Simulate the circuit using the Aer simulator\n",
    "simulator = qiskit_aer.Aer.get_backend('qasm_simulator')\n",
    "\n",
    "# Transpile the circuit for the simulator\n",
    "transpiled_circuit = transpile(bell_circuit, simulator)\n",
    "\n",
    "# Execute the transpiled circuit on the simulator with the specified number of shots\n",
    "result = simulator.run(transpiled_circuit, shots=num_shots).result()\n",
    "\n",
    "# Get measurement counts\n",
    "counts = result.get_counts(bell_circuit)\n",
    "\n",
    "# Get and print the measurement results\n",
    "counts = result.get_counts(bell_circuit)\n",
    "print(\"\\nMeasurement Results:\")\n",
    "print(counts)"
   ]
  },
  {
   "cell_type": "markdown",
   "id": "7733903c",
   "metadata": {},
   "source": [
    "## Then plotting the histogram over counts"
   ]
  },
  {
   "cell_type": "code",
   "execution_count": 3,
   "id": "2fa07062",
   "metadata": {},
   "outputs": [
    {
     "data": {
      "image/png": "[encoded data removed]",
      "text/plain": [
       "<Figure size 640x480 with 1 Axes>"
      ]
     },
     "metadata": {},
     "output_type": "display_data"
    }
   ],
   "source": [
    "# Plot the histogram using Matplotlib\n",
    "plt.bar(counts.keys(), counts.values())\n",
    "plt.title('Bell State Measurement Results')\n",
    "plt.ylabel('Counts')\n",
    "plt.show()"
   ]
  },
  {
   "cell_type": "markdown",
   "id": "9740de24",
   "metadata": {},
   "source": [
    "## Getting serious, Quantum Simulator with Hardware noise model"
   ]
  },
  {
   "cell_type": "code",
   "execution_count": 4,
   "id": "d8fc1e4c",
   "metadata": {},
   "outputs": [
    {
     "name": "stderr",
     "output_type": "stream",
     "text": [
      "/var/folders/td/3yk470mj5p931p9dtkk0y6jw0000gn/T/ipykernel_64885/2177805398.py:3: DeprecationWarning: Importing from 'qiskit.providers.aer' is deprecated. Import from 'qiskit_aer' instead, which should work identically.\n",
      "  from qiskit.providers.aer.noise import NoiseModel\n",
      "/var/folders/td/3yk470mj5p931p9dtkk0y6jw0000gn/T/ipykernel_64885/2177805398.py:8: DeprecationWarning: The qiskit.IBMQ entrypoint and the qiskit-ibmq-provider package (accessible from 'qiskit.providers.ibmq`) are deprecated and will be removed in a future release. Instead you should use the qiskit-ibm-provider package which is accessible from 'qiskit_ibm_provider'. You can install it with 'pip install qiskit_ibm_provider'. Just replace 'qiskit.IBMQ' with 'qiskit_ibm_provider.IBMProvider'\n",
      "  IBMQ.save_account(api_token, overwrite=True)  # This stores your credentials locally\n",
      "/var/folders/td/3yk470mj5p931p9dtkk0y6jw0000gn/T/ipykernel_64885/2177805398.py:8: DeprecationWarning: The package qiskit.providers.ibmq is being deprecated. Please see https://ibm.biz/provider_migration_guide to get instructions on how to migrate to qiskit-ibm-provider (https://github.com/Qiskit/qiskit-ibm-provider) and qiskit-ibm-runtime (https://github.com/Qiskit/qiskit-ibm-runtime).\n",
      "  IBMQ.save_account(api_token, overwrite=True)  # This stores your credentials locally\n"
     ]
    },
    {
     "name": "stdout",
     "output_type": "stream",
     "text": [
      "Quantum Circuit:\n",
      "     ┌───┐     ┌─┐   \n",
      "q_0: ┤ H ├──■──┤M├───\n",
      "     └───┘┌─┴─┐└╥┘┌─┐\n",
      "q_1: ─────┤ X ├─╫─┤M├\n",
      "          └───┘ ║ └╥┘\n",
      "c: 2/═══════════╩══╩═\n",
      "                0  1 \n"
     ]
    }
   ],
   "source": [
    "from qiskit import QuantumCircuit, transpile, assemble, Aer, IBMQ\n",
    "from qiskit.visualization import plot_histogram\n",
    "from qiskit.providers.aer.noise import NoiseModel\n",
    "\n",
    "#api_token = 'your_api_token'\n",
    "api_token = '646dcf6780bfe49f17c567df5adcf43663845c2844611165c5b3fffa7ffa45c8243ff7a6dbaf6771b69e46ba45a94bc37da1584ccc6be3983fbede31d58360a7'\n",
    "# Load your IBM Quantum account\n",
    "IBMQ.save_account(api_token, overwrite=True)  # This stores your credentials locally\n",
    "IBMQ.load_account()\n",
    "# Get the least busy backend\n",
    "provider = IBMQ.get_provider(hub='ibm-q', group ='open', project='main')\n",
    "#backend = provider.get_backend('your_preferred_backend')\n",
    "backend = provider.get_backend('ibm_osaka')\n",
    "\n",
    "# Get the noise model for the selected backend\n",
    "noise_model = NoiseModel.from_backend(backend)\n",
    "\n",
    "# Create a quantum circuit with two qubits\n",
    "bell_circuit = QuantumCircuit(2, 2)\n",
    "\n",
    "# Apply Hadamard gate to the first qubit\n",
    "bell_circuit.h(0)\n",
    "\n",
    "# Apply a CNOT gate with the first qubit as the control and the second qubit as the target\n",
    "bell_circuit.cx(0, 1)\n",
    "\n",
    "# Add measurements to the circuit\n",
    "bell_circuit.measure([0, 1], [0, 1])\n",
    "\n",
    "# Visualize the circuit\n",
    "print(\"Quantum Circuit:\")\n",
    "print(bell_circuit)"
   ]
  },
  {
   "cell_type": "markdown",
   "id": "b36f203c",
   "metadata": {},
   "source": [
    "## Then run and visualize it"
   ]
  },
  {
   "cell_type": "code",
   "execution_count": 5,
   "id": "79173a86",
   "metadata": {},
   "outputs": [
    {
     "name": "stderr",
     "output_type": "stream",
     "text": [
      "/var/folders/td/3yk470mj5p931p9dtkk0y6jw0000gn/T/ipykernel_64885/3760700965.py:5: DeprecationWarning: The 'qiskit.Aer' entry point is deprecated and will be removed in Qiskit 1.0. You should use 'qiskit_aer.Aer' directly instead.\n",
      "  simulator = Aer.get_backend('qasm_simulator')\n"
     ]
    },
    {
     "name": "stdout",
     "output_type": "stream",
     "text": [
      "\n",
      "Measurement Results:\n",
      "{'01': 216, '00': 4734, '11': 4849, '10': 201}\n"
     ]
    },
    {
     "data": {
      "image/png": "[encoded data removed]",
      "text/plain": [
       "<Figure size 700x500 with 1 Axes>"
      ]
     },
     "execution_count": 5,
     "metadata": {},
     "output_type": "execute_result"
    }
   ],
   "source": [
    "# Number of shots\n",
    "num_shots = 10000\n",
    "\n",
    "# Simulate the circuit using the Aer simulator with the noise model\n",
    "simulator = Aer.get_backend('qasm_simulator')\n",
    "noisy_transpiled_circuit = transpile(bell_circuit, simulator, optimization_level=0)\n",
    "noisy_circuit = assemble(noisy_transpiled_circuit, shots=num_shots, noise_model=noise_model)\n",
    "\n",
    "# Execute the noisy circuit on the simulator\n",
    "result = simulator.run(noisy_circuit).result()\n",
    "\n",
    "# Get and print the measurement results\n",
    "counts = result.get_counts(bell_circuit)\n",
    "print(\"\\nMeasurement Results:\")\n",
    "print(counts)\n",
    "# Plot the histogram using Matplotlib\n",
    "plot_histogram(counts, title='Bell State Measurement Results')"
   ]
  },
  {
   "cell_type": "markdown",
   "id": "968aa8eb",
   "metadata": {},
   "source": [
    "## And without the noise model"
   ]
  },
  {
   "cell_type": "code",
   "execution_count": null,
   "id": "63910d7b",
   "metadata": {},
   "outputs": [
    {
     "name": "stderr",
     "output_type": "stream",
     "text": [
      "ibmqfactory.load_account:WARNING:2024-02-13 14:13:15,771: Credentials are already in use. The existing account in the session will be replaced.\n",
      "/var/folders/td/3yk470mj5p931p9dtkk0y6jw0000gn/T/ipykernel_64885/1779620580.py:31: DeprecationWarning: Passing a Qobj to Backend.run is deprecated and will be removed in a future release. Please pass in circuits or pulse schedules instead.\n",
      "  result = backend.run(qobj).result()\n"
     ]
    }
   ],
   "source": [
    "# Provide your IBM Quantum Experience API token here\n",
    "#api_token = 'your_api_token'\n",
    "api_token = '646dcf6780bfe49f17c567df5adcf43663845c2844611165c5b3fffa7ffa45c8243ff7a6dbaf6771b69e46ba45a94bc37da1584ccc6be3983fbede31d58360a7'\n",
    "# Load your IBM Quantum account\n",
    "IBMQ.save_account(api_token, overwrite=True)  # This stores your credentials locally\n",
    "IBMQ.load_account()\n",
    "\n",
    "# Get the least busy backend\n",
    "#provider = IBMQ.get_provider(hub='your_hub', group='your_group', project='your_project')\n",
    "provider = IBMQ.get_provider(hub='ibm-q', group ='open', project='main')\n",
    "#backend = provider.get_backend('your_preferred_backend')\n",
    "backend = provider.get_backend('ibm_osaka')\n",
    "\n",
    "# Create a quantum circuit with two qubits\n",
    "bell_circuit = QuantumCircuit(2, 2)\n",
    "\n",
    "# Apply Hadamard gate to the first qubit\n",
    "bell_circuit.h(0)\n",
    "\n",
    "# Apply a CNOT gate with the first qubit as the control and the second qubit as the target\n",
    "bell_circuit.cx(0, 1)\n",
    "\n",
    "# Add measurements to the circuit\n",
    "bell_circuit.measure([0, 1], [0, 1])\n",
    "\n",
    "# Transpile the circuit for the chosen backend\n",
    "transpiled_circuit = transpile(bell_circuit, backend)\n",
    "\n",
    "# Execute the transpiled circuit on the IBM Quantum computer\n",
    "qobj = assemble(transpiled_circuit, shots=1024)  # You can adjust the number of shots\n",
    "result = backend.run(qobj).result()\n",
    "\n",
    "# Get measurement counts\n",
    "counts = result.get_counts(bell_circuit)\n",
    "print(\"\\nMeasurement Results:\")\n",
    "print(counts)\n",
    "\n",
    "# Plot the histogram using Matplotlib\n",
    "plt.bar(counts.keys(), counts.values())\n",
    "plt.title('Bell State Measurement Results')\n",
    "plt.ylabel('Counts')\n",
    "plt.show()"
   ]
  },
  {
   "cell_type": "code",
   "execution_count": null,
   "id": "7dd7bbb3",
   "metadata": {},
   "outputs": [],
   "source": []
  }
 ],
 "metadata": {
  "kernelspec": {
   "display_name": "Python 3 (ipykernel)",
   "language": "python",
   "name": "python3"
  },
  "language_info": {
   "codemirror_mode": {
    "name": "ipython",
    "version": 3
   },
   "file_extension": ".py",
   "mimetype": "text/x-python",
   "name": "python",
   "nbconvert_exporter": "python",
   "pygments_lexer": "ipython3",
   "version": "3.9.18"
  }
 },
 "nbformat": 4,
 "nbformat_minor": 5
}
