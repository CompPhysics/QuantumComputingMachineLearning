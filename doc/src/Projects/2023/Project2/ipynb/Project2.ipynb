{
 "cells": [
  {
   "cell_type": "markdown",
   "id": "011f06a6",
   "metadata": {
    "editable": true
   },
   "source": [
    "<!-- HTML file automatically generated from DocOnce source (https://github.com/doconce/doconce/)\n",
    "doconce format html Project2.do.txt  -->\n",
    "<!-- dom:TITLE: Quantum Computing and Quantum Machine Learning -->"
   ]
  },
  {
   "cell_type": "markdown",
   "id": "d250d4c3",
   "metadata": {
    "editable": true
   },
   "source": [
    "# Quantum Computing and Quantum Machine Learning\n",
    "**[FYS5419/9419](https://www.uio.no/studier/emner/matnat/fys/FYS5419/index-eng.html), Quantum computing and quantum machine learning, University of Oslo, Norway**\n",
    "\n",
    "Date: **Spring semester 2024, deaadline June 1**"
   ]
  },
  {
   "cell_type": "markdown",
   "id": "17972e5c",
   "metadata": {
    "editable": true
   },
   "source": [
    "# Project suggestion\n",
    "\n",
    "The aim of this project is to study **more text will be added here**"
   ]
  },
  {
   "cell_type": "markdown",
   "id": "5c1cf38c",
   "metadata": {
    "editable": true
   },
   "source": [
    "## Part a)"
   ]
  },
  {
   "cell_type": "markdown",
   "id": "19d266da",
   "metadata": {
    "editable": true
   },
   "source": [
    "## Part b)"
   ]
  },
  {
   "cell_type": "markdown",
   "id": "159cb29d",
   "metadata": {
    "editable": true
   },
   "source": [
    "## Part c)"
   ]
  },
  {
   "cell_type": "markdown",
   "id": "3e314885",
   "metadata": {
    "editable": true
   },
   "source": [
    "## Part d)"
   ]
  },
  {
   "cell_type": "markdown",
   "id": "91a929e5",
   "metadata": {
    "editable": true
   },
   "source": [
    "## Part e)"
   ]
  },
  {
   "cell_type": "markdown",
   "id": "dbd99737",
   "metadata": {
    "editable": true
   },
   "source": [
    "## Part f)\n",
    "\n",
    "Try to write your report as a scientific article. You can use the article in the Physical Review C, volume 106, see <https://journals.aps.org/prc/pdf/10.1103/PhysRevC.106.024319> as a template for your report."
   ]
  },
  {
   "cell_type": "markdown",
   "id": "ae276341",
   "metadata": {
    "editable": true
   },
   "source": [
    "## Introduction to numerical projects\n",
    "\n",
    "Here follows a brief recipe and recommendation on how to write a report for each\n",
    "project.\n",
    "\n",
    "  * Give a short description of the nature of the problem and the eventual  numerical methods you have used.\n",
    "\n",
    "  * Describe the algorithm you have used and/or developed. Here you may find it convenient to use pseudocoding. In many cases you can describe the algorithm in the program itself.\n",
    "\n",
    "  * Include the source code of your program. Comment your program properly.\n",
    "\n",
    "  * If possible, try to find analytic solutions, or known limits in order to test your program when developing the code.\n",
    "\n",
    "  * Include your results either in figure form or in a table. Remember to        label your results. All tables and figures should have relevant captions        and labels on the axes.\n",
    "\n",
    "  * Try to evaluate the reliabilty and numerical stability/precision of your results. If possible, include a qualitative and/or quantitative discussion of the numerical stability, eventual loss of precision etc.\n",
    "\n",
    "  * Try to give an interpretation of you results in your answers to  the problems.\n",
    "\n",
    "  * Critique: if possible include your comments and reflections about the  exercise, whether you felt you learnt something, ideas for improvements and  other thoughts you've made when solving the exercise. We wish to keep this course at the interactive level and your comments can help us improve it.\n",
    "\n",
    "  * Try to establish a practice where you log your work at the  computerlab. You may find such a logbook very handy at later stages in your work, especially when you don't properly remember  what a previous test version  of your program did. Here you could also record  the time spent on solving the exercise, various algorithms you may have tested or other topics which you feel worthy of mentioning."
   ]
  },
  {
   "cell_type": "markdown",
   "id": "beea9be9",
   "metadata": {
    "editable": true
   },
   "source": [
    "## Format for electronic delivery of report and programs\n",
    "\n",
    "The preferred format for the report is a PDF file. You can also use DOC or postscript formats or as an ipython notebook file.  As programming language we prefer that you choose between C/C++, Fortran2008 or Python. The following prescription should be followed when preparing the report:\n",
    "\n",
    "  * Send us an email in order  to hand in your projects with a link to your GitHub/Gitlab repository.\n",
    "\n",
    "  * In your GitHub/GitLab or similar repository, please include a folder which contains selected results. These can be in the form of output from your code for a selected set of runs and input parameters.\n",
    "\n",
    "Finally, \n",
    "we encourage you to collaborate. Optimal working groups consist of \n",
    "2-3 students. You can then hand in a common report."
   ]
  }
 ],
 "metadata": {},
 "nbformat": 4,
 "nbformat_minor": 5
}
