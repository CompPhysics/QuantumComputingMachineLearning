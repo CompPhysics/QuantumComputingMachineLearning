{
 "cells": [
  {
   "cell_type": "markdown",
   "id": "026f70cb",
   "metadata": {
    "editable": true
   },
   "source": [
    "<!-- HTML file automatically generated from DocOnce source (https://github.com/doconce/doconce/)\n",
    "doconce format html week10.do.txt --no_mako -->\n",
    "<!-- dom:TITLE: March 18-22, 2024: Quantum Computing, Quantum Machine Learning and Quantum Information Theories -->"
   ]
  },
  {
   "cell_type": "markdown",
   "id": "54962aa3",
   "metadata": {
    "editable": true
   },
   "source": [
    "# March 18-22, 2024: Quantum Computing, Quantum Machine Learning and Quantum Information Theories\n",
    "**Morten Hjorth-Jensen**, Department of Physics, University of Oslo and Department of Physics and Astronomy and Facility for Rare Isotope Beams, Michigan State University\n",
    "\n",
    "Date: **Week of March 18-22**"
   ]
  },
  {
   "cell_type": "markdown",
   "id": "73814de9",
   "metadata": {
    "editable": true
   },
   "source": [
    "## Plans for the week of March 18-22, 2024\n",
    "\n",
    "1. Discussion of project 1 and possible paths for project 2\n",
    "\n",
    "2. Start discussion of Quantum Fourier transforms (notes to be added).\n",
    "\n",
    "3. Reading recommendation Hundt, Quantum Computing for Programmers, add info here."
   ]
  }
 ],
 "metadata": {},
 "nbformat": 4,
 "nbformat_minor": 5
}
