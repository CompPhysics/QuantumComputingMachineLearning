{
 "cells": [
  {
   "cell_type": "markdown",
   "id": "8271c3f0",
   "metadata": {},
   "source": [
    "<!-- HTML file automatically generated from DocOnce source (https://github.com/doconce/doconce/)\n",
    "doconce format html week10.do.txt --no_mako -->\n",
    "<!-- dom:TITLE: March 18-22, 2024: Quantum Computing, Quantum Machine Learning and Quantum Information Theories -->"
   ]
  },
  {
   "cell_type": "markdown",
   "id": "6061bda9",
   "metadata": {},
   "source": [
    "# March 18-22, 2024: Quantum Computing, Quantum Machine Learning and Quantum Information Theories\n",
    "**Morten Hjorth-Jensen**, Department of Physics, University of Oslo and Department of Physics and Astronomy and Facility for Rare Isotope Beams, Michigan State University\n",
    "\n",
    "Date: **Week of March 18-22**"
   ]
  },
  {
   "cell_type": "markdown",
   "id": "d95b6f5a",
   "metadata": {},
   "source": [
    "## Plans for the week of March 18-22, 2024\n",
    "\n",
    "1. Discussion of project 1 and possible paths for project 2\n",
    "\n",
    "2. Start discussion of Quantum Fourier transforms (notes to be added).\n",
    "\n",
    "3. Reading recommendation Hundt, Quantum Computing for Programmers, add info here."
   ]
  },
  {
   "cell_type": "markdown",
   "id": "aa081db4",
   "metadata": {},
   "source": [
    "## Quantum Fourier Transform\n",
    "\n",
    "1. Quantum Fourier transforms (QFT) and quantum phase estimation algorithm (QPE)\n",
    "\n",
    "**Reading suggestion:** Hundt sections 6.2-6.4 on QFT"
   ]
  },
  {
   "cell_type": "markdown",
   "id": "bc2406c1",
   "metadata": {},
   "source": [
    "## Principle of Superposition and Periodic Forces and Fourier Transforms\n",
    "\n",
    "The Fourier Transform (FT) is one of the most useful mathematical\n",
    "tools in modern science and engineering. It is used in a variety of\n",
    "applications, spanning from the solution of ordinary and partial\n",
    "differential equations to quantum computing.\n",
    "\n",
    "We revisit first some basic mathematical properties of Fourier transforms.\n",
    "\n",
    "Driving forces are often periodic, even when they are not\n",
    "sinusoidal. Periodicity implies that for some time $\\tau$"
   ]
  },
  {
   "cell_type": "markdown",
   "id": "6257b488",
   "metadata": {},
   "source": [
    "$$\n",
    "F(t+\\tau)=F(t).\n",
    "$$"
   ]
  },
  {
   "cell_type": "markdown",
   "id": "b8a74b60",
   "metadata": {},
   "source": [
    "One example of a non-sinusoidal periodic force is a square wave. Many\n",
    "components in electric circuits are non-linear, e.g. diodes, which\n",
    "makes many wave forms non-sinusoidal even when the circuits are being\n",
    "driven by purely sinusoidal sources.\n",
    "\n",
    "The code here shows a typical example of such a square wave generated\n",
    "using the functionality included in the **scipy** Python package. We\n",
    "have used a period of $\\tau=0.2$."
   ]
  },
  {
   "cell_type": "code",
   "execution_count": null,
   "id": "e1008105",
   "metadata": {},
   "outputs": [],
   "source": [
    "%matplotlib inline\n",
    "\n",
    "import numpy as np\n",
    "import math\n",
    "from scipy import signal\n",
    "import matplotlib.pyplot as plt\n",
    "\n",
    "# number of points                                                                                       \n",
    "n = 500\n",
    "# start and final times                                                                                  \n",
    "t0 = 0.0\n",
    "tn = 1.0\n",
    "# Period                                                                                                 \n",
    "t = np.linspace(t0, tn, n, endpoint=False)\n",
    "SqrSignal = np.zeros(n)\n",
    "SqrSignal = 1.0+signal.square(2*np.pi*5*t)\n",
    "plt.plot(t, SqrSignal)\n",
    "plt.ylim(-0.5, 2.5)\n",
    "plt.show()"
   ]
  },
  {
   "cell_type": "markdown",
   "id": "4806aa4e",
   "metadata": {},
   "source": [
    "For the sinusoidal example the period is $\\tau=2\\pi/\\omega$. However,\n",
    "higher harmonics can also satisfy the periodicity requirement. In\n",
    "general, any force that satisfies the periodicity requirement can be\n",
    "expressed as a sum over harmonics,"
   ]
  },
  {
   "cell_type": "markdown",
   "id": "54857b55",
   "metadata": {},
   "source": [
    "<!-- Equation labels as ordinary links -->\n",
    "<div id=\"_auto1\"></div>\n",
    "\n",
    "$$\n",
    "\\begin{equation}\n",
    "F(t)=\\frac{f_0}{2}+\\sum_{n>0} f_n\\cos(2n\\pi t/\\tau)+g_n\\sin(2n\\pi t/\\tau).\n",
    "\\label{_auto1} \\tag{1}\n",
    "\\end{equation}\n",
    "$$"
   ]
  },
  {
   "cell_type": "markdown",
   "id": "3b778d83",
   "metadata": {},
   "source": [
    "We can write down the answer for\n",
    "$x_{pn}(t)$, by substituting $f_n/m$ or $g_n/m$ for $F_0/m$. By\n",
    "writing each factor $2n\\pi t/\\tau$ as $n\\omega t$, with $\\omega\\equiv\n",
    "2\\pi/\\tau$,"
   ]
  },
  {
   "cell_type": "markdown",
   "id": "289d6500",
   "metadata": {},
   "source": [
    "<!-- Equation labels as ordinary links -->\n",
    "<div id=\"eq:fourierdef1\"></div>\n",
    "\n",
    "$$\n",
    "\\begin{equation}\n",
    "\\label{eq:fourierdef1} \\tag{2}\n",
    "F(t)=\\frac{f_0}{2}+\\sum_{n>0}f_n\\cos(n\\omega t)+g_n\\sin(n\\omega t).\n",
    "\\end{equation}\n",
    "$$"
   ]
  },
  {
   "cell_type": "markdown",
   "id": "ff8fdc3d",
   "metadata": {},
   "source": [
    "The solutions for $x(t)$ then come from replacing $\\omega$ with\n",
    "$n\\omega$ for each term in the particular solution,"
   ]
  },
  {
   "cell_type": "markdown",
   "id": "8fb0cdd3",
   "metadata": {},
   "source": [
    "$$\n",
    "\\begin{eqnarray}\n",
    "x_p(t)&=&\\frac{f_0}{2k}+\\sum_{n>0} \\alpha_n\\cos(n\\omega t-\\delta_n)+\\beta_n\\sin(n\\omega t-\\delta_n),\\\\\n",
    "\\nonumber\n",
    "\\alpha_n&=&\\frac{f_n/m}{\\sqrt{((n\\omega)^2-\\omega_0^2)+4\\beta^2n^2\\omega^2}},\\\\\n",
    "\\nonumber\n",
    "\\beta_n&=&\\frac{g_n/m}{\\sqrt{((n\\omega)^2-\\omega_0^2)+4\\beta^2n^2\\omega^2}},\\\\\n",
    "\\nonumber\n",
    "\\delta_n&=&\\tan^{-1}\\left(\\frac{2\\beta n\\omega}{\\omega_0^2-n^2\\omega^2}\\right).\n",
    "\\end{eqnarray}\n",
    "$$"
   ]
  },
  {
   "cell_type": "markdown",
   "id": "64930592",
   "metadata": {},
   "source": [
    "## Finding the Coefficients\n",
    "\n",
    "Because the forces have been applied for a long time, any non-zero\n",
    "damping eliminates the homogenous parts of the solution, so one need\n",
    "only consider the particular solution for each $n$.\n",
    "\n",
    "The problem is considered solved if one can find expressions for the\n",
    "coefficients $f_n$ and $g_n$, even though the solutions are expressed\n",
    "as an infinite sum. The coefficients can be extracted from the\n",
    "function $F(t)$ by"
   ]
  },
  {
   "cell_type": "markdown",
   "id": "b66196c2",
   "metadata": {},
   "source": [
    "<!-- Equation labels as ordinary links -->\n",
    "<div id=\"eq:fourierdef2\"></div>\n",
    "\n",
    "$$\n",
    "\\begin{eqnarray}\n",
    "\\label{eq:fourierdef2} \\tag{3}\n",
    "f_n&=&\\frac{2}{\\tau}\\int_{-\\tau/2}^{\\tau/2} dt~F(t)\\cos(2n\\pi t/\\tau),\\\\\n",
    "\\nonumber\n",
    "g_n&=&\\frac{2}{\\tau}\\int_{-\\tau/2}^{\\tau/2} dt~F(t)\\sin(2n\\pi t/\\tau).\n",
    "\\end{eqnarray}\n",
    "$$"
   ]
  },
  {
   "cell_type": "markdown",
   "id": "7fafbd99",
   "metadata": {},
   "source": [
    "To check the consistency of these expressions and to verify\n",
    "Eq. ([3](#eq:fourierdef2)), one can insert the expansion of $F(t)$ in\n",
    "Eq. ([2](#eq:fourierdef1)) into the expression for the coefficients in\n",
    "Eq. ([3](#eq:fourierdef2)) and see whether"
   ]
  },
  {
   "cell_type": "markdown",
   "id": "e855dee3",
   "metadata": {},
   "source": [
    "$$\n",
    "\\begin{eqnarray}\n",
    "f_n&=?&\\frac{2}{\\tau}\\int_{-\\tau/2}^{\\tau/2} dt~\\left\\{\n",
    "\\frac{f_0}{2}+\\sum_{m>0}f_m\\cos(m\\omega t)+g_m\\sin(m\\omega t)\n",
    "\\right\\}\\cos(n\\omega t).\n",
    "\\end{eqnarray}\n",
    "$$"
   ]
  },
  {
   "cell_type": "markdown",
   "id": "3e81dd49",
   "metadata": {},
   "source": [
    "Immediately, one can throw away all the terms with $g_m$ because they\n",
    "convolute an even and an odd function. The term with $f_0/2$\n",
    "disappears because $\\cos(n\\omega t)$ is equally positive and negative\n",
    "over the interval and will integrate to zero. For all the terms\n",
    "$f_m\\cos(m\\omega t)$ appearing in the sum, one can use angle addition\n",
    "formulas to see that $\\cos(m\\omega t)\\cos(n\\omega\n",
    "t)=(1/2)(\\cos[(m+n)\\omega t]+\\cos[(m-n)\\omega t]$. This will integrate\n",
    "to zero unless $m=n$. In that case the $m=n$ term gives"
   ]
  },
  {
   "cell_type": "markdown",
   "id": "98a89e01",
   "metadata": {},
   "source": [
    "<!-- Equation labels as ordinary links -->\n",
    "<div id=\"_auto2\"></div>\n",
    "\n",
    "$$\n",
    "\\begin{equation}\n",
    "\\int_{-\\tau/2}^{\\tau/2}dt~\\cos^2(m\\omega t)=\\frac{\\tau}{2},\n",
    "\\label{_auto2} \\tag{4}\n",
    "\\end{equation}\n",
    "$$"
   ]
  },
  {
   "cell_type": "markdown",
   "id": "0f72f976",
   "metadata": {},
   "source": [
    "and"
   ]
  },
  {
   "cell_type": "markdown",
   "id": "f10d78de",
   "metadata": {},
   "source": [
    "$$\n",
    "\\begin{eqnarray}\n",
    "f_n&=?&\\frac{2}{\\tau}\\int_{-\\tau/2}^{\\tau/2} dt~f_n/2\\\\\n",
    "\\nonumber\n",
    "&=&f_n~\\checkmark.\n",
    "\\end{eqnarray}\n",
    "$$"
   ]
  },
  {
   "cell_type": "markdown",
   "id": "ee8d183e",
   "metadata": {},
   "source": [
    "The same method can be used to check for the consistency of $g_n$."
   ]
  },
  {
   "cell_type": "markdown",
   "id": "f9fcb8a6",
   "metadata": {},
   "source": [
    "## Final words on Fourier Transforms\n",
    "\n",
    "The code here uses the Fourier series applied to a \n",
    "square wave signal. The code here\n",
    "visualizes the various approximations given by Fourier series compared\n",
    "with a square wave with period $T=0.2$ (dimensionless time), width $0.1$ and max value of the force $F=2$. We\n",
    "see that when we increase the number of components in the Fourier\n",
    "series, the Fourier series approximation gets closer and closer to the\n",
    "square wave signal."
   ]
  },
  {
   "cell_type": "code",
   "execution_count": 2,
   "id": "fb9109ee",
   "metadata": {},
   "outputs": [],
   "source": [
    "import numpy as np\n",
    "import math\n",
    "from scipy import signal\n",
    "import matplotlib.pyplot as plt\n",
    "\n",
    "# number of points                                                                                       \n",
    "n = 500\n",
    "# start and final times                                                                                  \n",
    "t0 = 0.0\n",
    "tn = 1.0\n",
    "# Period                                                                                                 \n",
    "T =0.2\n",
    "# Max value of square signal                                                                             \n",
    "Fmax= 2.0\n",
    "# Width of signal   \n",
    "Width = 0.1\n",
    "t = np.linspace(t0, tn, n, endpoint=False)\n",
    "SqrSignal = np.zeros(n)\n",
    "FourierSeriesSignal = np.zeros(n)\n",
    "SqrSignal = 1.0+signal.square(2*np.pi*5*t+np.pi*Width/T)\n",
    "a0 = Fmax*Width/T\n",
    "FourierSeriesSignal = a0\n",
    "Factor = 2.0*Fmax/np.pi\n",
    "for i in range(1,500):\n",
    "    FourierSeriesSignal += Factor/(i)*np.sin(np.pi*i*Width/T)*np.cos(i*t*2*np.pi/T)\n",
    "plt.plot(t, SqrSignal)\n",
    "plt.plot(t, FourierSeriesSignal)\n",
    "plt.ylim(-0.5, 2.5)\n",
    "plt.show()"
   ]
  },
  {
   "cell_type": "markdown",
   "id": "f4eabeb6",
   "metadata": {},
   "source": [
    "## Discrete Fourier Transformations\n",
    "\n",
    "Consider two sets of complex numbers $x_k$ and $y_k$ with\n",
    "$k=0,1,\\dots,n-1$ entries. The discrete Fourier transform is defined\n",
    "as"
   ]
  },
  {
   "cell_type": "markdown",
   "id": "6d6185c0",
   "metadata": {},
   "source": [
    "$$\n",
    "y_k = \\frac{1}{\\sqrt{n-1}} \\sum_{j=0}^{n-1} \\exp{(\\frac{2\\pi\\imath jk}{n})} x_j.\n",
    "$$"
   ]
  },
  {
   "cell_type": "markdown",
   "id": "d62092d3",
   "metadata": {},
   "source": [
    "As an example, assume $x_0=1$ and $x_1=1$. We can then use the above expression to find $y_0$ and $y_1$.\n",
    "\n",
    "With the above formula we get then"
   ]
  },
  {
   "cell_type": "markdown",
   "id": "bc547349",
   "metadata": {},
   "source": [
    "$$\n",
    "y_0 = \\frac{1}{\\sqrt{2}} \\left( \\exp{(\\frac{2\\pi\\imath 0\\times 1}{2})} \\times 1+\\exp{(\\frac{2\\pi\\imath 0\\times 1}{2})}\\times 2\\right)=\\frac{1}{\\sqrt{2}}(1+2)=\\frac{3}{\\sqrt{2}},\n",
    "$$"
   ]
  },
  {
   "cell_type": "markdown",
   "id": "6a48d265",
   "metadata": {},
   "source": [
    "and"
   ]
  },
  {
   "cell_type": "markdown",
   "id": "57af8efb",
   "metadata": {},
   "source": [
    "$$\n",
    "y_1 = \\frac{1}{\\sqrt{2}} \\left( \\exp{(\\frac{2\\pi\\imath 0\\times 1}{2})} \\times 1+\\exp{(\\frac{2\\pi\\imath 1\\times 1}{2})}\\times 2\\right)=\\frac{1}{\\sqrt{2}}(1+2\\exp{(\\pi\\imath)})=-\\frac{1}{\\sqrt{2}},\n",
    "$$"
   ]
  },
  {
   "cell_type": "markdown",
   "id": "63dbaa71",
   "metadata": {},
   "source": [
    "<!-- We can rewrite this in terms of the following matrix-vector operation. -->"
   ]
  },
  {
   "cell_type": "markdown",
   "id": "8b223443",
   "metadata": {},
   "source": [
    "## Quantum Fourier Transform\n",
    "\n",
    "Linear, invertible transformation on qubits. The quantum analouge of\n",
    "discrete Fourier transform. Requires only $\\mathcal{O}(nlog\\ n)$ gates\n",
    "to be implemented, and is a part of many important quantum algorithms\n",
    "such as phase estimation.\n",
    "\n",
    "A useful way to solve problems in many fields of science, especially\n",
    "in physics and mathematics, is to transform it into some other (often\n",
    "simpler) problem for which a solution is known. The discrete fourier\n",
    "transform, which involves such a transformation, is one of a few known\n",
    "algorithms that can be computed much faster on a quantum computer than\n",
    "on a classical."
   ]
  },
  {
   "cell_type": "markdown",
   "id": "f7b2ef73",
   "metadata": {},
   "source": [
    "## Fourier transform\n",
    "\n",
    "Assume a periodic function $f(x)$ in an interval $[ -\\frac{L}{2},\n",
    "\\frac{L}{2} ]$. The fourier series in exponential form can be written\n",
    "as"
   ]
  },
  {
   "cell_type": "markdown",
   "id": "618e508b",
   "metadata": {},
   "source": [
    "$$\n",
    "f(x) = \\sum_{-\\inf}^\\inf A_n e^{i(2\\pi nx/L)}\n",
    "$$"
   ]
  },
  {
   "cell_type": "markdown",
   "id": "87aa2e52",
   "metadata": {},
   "source": [
    "where"
   ]
  },
  {
   "cell_type": "markdown",
   "id": "c8383f65",
   "metadata": {},
   "source": [
    "$$\n",
    "A_n = \\frac{1}{L} \\int_{-L/2}^{L/2} f(x)e^{-i(2\\pi nx/L)} dx\n",
    "$$"
   ]
  },
  {
   "cell_type": "markdown",
   "id": "680849fe",
   "metadata": {},
   "source": [
    "In the fourier transform $A_n$ is transformed from a dicrete variable\n",
    "to a continous one as $L \\rightarrow \\inf$. We then replace $A_n$ with\n",
    "$f(k)dk$ and let $n/L \\rightarrow k$, and the sum is changed to an\n",
    "integral. This gives"
   ]
  },
  {
   "cell_type": "markdown",
   "id": "ec073716",
   "metadata": {},
   "source": [
    "$$\n",
    "f(x) = \\int_{-\\inf}^{\\inf}dkF(k) e^{i(2\\pi kx)}\n",
    "$$"
   ]
  },
  {
   "cell_type": "markdown",
   "id": "abcf153f",
   "metadata": {},
   "source": [
    "$$\n",
    "F(k) = \\int_{-\\inf}^{\\inf}dxf(x) e^{-i(2\\pi kx)}\n",
    "$$"
   ]
  },
  {
   "cell_type": "markdown",
   "id": "c5e0a60e",
   "metadata": {},
   "source": [
    "One way to interperet the Fourier transform is then as a transformation from one basis to another."
   ]
  },
  {
   "cell_type": "markdown",
   "id": "bdb12471",
   "metadata": {},
   "source": [
    "## Discrete Fourier transform\n",
    "\n",
    "Next we make another generalization by having a discrete function,\n",
    "that is $f(x) \\rightarrow f(x_k)$ with $x_k = k\\Delta x$ for $k=0,\\dots, N-1$. This leads to the sums"
   ]
  },
  {
   "cell_type": "markdown",
   "id": "3b85afb4",
   "metadata": {},
   "source": [
    "$$\n",
    "f_x = \\frac{1}{N} \\sum_{k=0}^{N-1}F_k e^{i(2\\pi kx)/N},\n",
    "$$"
   ]
  },
  {
   "cell_type": "markdown",
   "id": "c6e2da57",
   "metadata": {},
   "source": [
    "and"
   ]
  },
  {
   "cell_type": "markdown",
   "id": "3bdd4d46",
   "metadata": {},
   "source": [
    "$$\n",
    "F_k = \\sum_{x=0}^{N-1}f_x e^{-i(2\\pi kx)/N}.\n",
    "$$"
   ]
  },
  {
   "cell_type": "markdown",
   "id": "e8888cf7",
   "metadata": {},
   "source": [
    "Although we have used functions here, this could also be a set of\n",
    "numbers. As an example we can have a set of complex numbers $\\{x_0,\\dots,x_{N-1}\\}$ with fixed length $N$, we can Fourier transform\n",
    "this as"
   ]
  },
  {
   "cell_type": "markdown",
   "id": "f1f0526c",
   "metadata": {},
   "source": [
    "$$\n",
    "y_k = \\frac{1}{\\sqrt{N}} \\sum_{j=0}^{N-1} x_j e^{i(2\\pi jk)/N}\n",
    "$$"
   ]
  },
  {
   "cell_type": "markdown",
   "id": "620fdf30",
   "metadata": {},
   "source": [
    "leading to a new set of complex numbers $\\{ y_0,\\dots,y_{N-1}\\}$."
   ]
  },
  {
   "cell_type": "markdown",
   "id": "caeb50fc",
   "metadata": {},
   "source": [
    "## Quantum Fourier transform\n",
    "\n",
    "We now turn to the quantum Fourier transform. It is the same\n",
    "transformation as described above, however we define it in terms of\n",
    "the unitary operation"
   ]
  },
  {
   "cell_type": "markdown",
   "id": "24c0251e",
   "metadata": {},
   "source": [
    "$$\n",
    "\\ket{\\psi'} \\leftarrow \\hat{F}\\ket{\\psi}, \\quad \\hat{F}^\\dagger \\hat{F} = I\n",
    "$$"
   ]
  },
  {
   "cell_type": "markdown",
   "id": "ac11051b",
   "metadata": {},
   "source": [
    "In terms of an orthonormal basis $\\ket{0},\\ket{1},\\dots,\\ket{0}$ this linear operator has the following action"
   ]
  },
  {
   "cell_type": "markdown",
   "id": "b8ba2d4a",
   "metadata": {},
   "source": [
    "$$\n",
    "\\ket{j} \\rightarrow \\sum_{k=0}^{N-1} e^{i(2\\pi jk/N)}\\ket{k}\n",
    "$$"
   ]
  },
  {
   "cell_type": "markdown",
   "id": "4a82c200",
   "metadata": {},
   "source": [
    "or on an arbitrary state"
   ]
  },
  {
   "cell_type": "markdown",
   "id": "ebd2b431",
   "metadata": {},
   "source": [
    "$$\n",
    "\\sum_{j=0}^{N-1} x_j \\ket{j} \\rightarrow \\sum_{k=0}^{N-1} y_k\\ket{k}\n",
    "$$"
   ]
  },
  {
   "cell_type": "markdown",
   "id": "95b46bc9",
   "metadata": {},
   "source": [
    "equivalent to the equation for discrete Fourier transform on a set of complex numbers.\n",
    "\n",
    "Next we assume an $n$-qubit system, where we take $N=s^n$ in the computational basis"
   ]
  },
  {
   "cell_type": "markdown",
   "id": "f6ad597c",
   "metadata": {},
   "source": [
    "$$\n",
    "\\ket{0},\\dots,\\ket{2^n -1}\n",
    "$$"
   ]
  },
  {
   "cell_type": "markdown",
   "id": "120ef03b",
   "metadata": {},
   "source": [
    "We make use of the binary representation $j = j_1 2^{n-1} + j_2\n",
    "2^{n-2} + \\dots + j_n 2^0$ , and take note of the notation $0.j_l\n",
    "j_{l+1} \\dots j_m$ representing the binary fraction $\\frac{j_l}{2^1} +\n",
    "\\frac{j_{l+1}}{2^{2}} + \\dots + \\frac{j_m}{2^{m-l+1}}$. With this we\n",
    "define the product representation of the quantum Fourier transform"
   ]
  },
  {
   "cell_type": "markdown",
   "id": "552bdfdb",
   "metadata": {},
   "source": [
    "$$\n",
    "\\ket{j_1,\\dots,j_n} \\rightarrow \n",
    "\\frac{\n",
    "\\left(\\ket{0} + e^{i(2\\pi 0.j_n)}\\right)\n",
    "\\left(\\ket{0} + e^{i(2\\pi 0.j_{j-1}j_n)}\\right)\n",
    "\\dots\n",
    "\\left(\\ket{0} + e^{i(2\\pi 0.j_1j_2\\dots j_n)}\\right)\n",
    "}{2^{n/2}}\n",
    "$$"
   ]
  },
  {
   "cell_type": "markdown",
   "id": "02bd933c",
   "metadata": {},
   "source": [
    "## Components\n",
    "\n",
    "From the product representation we can derive a circuit for the\n",
    "quantum Fourier transform. This will make use of the following two\n",
    "single-qubit gates"
   ]
  },
  {
   "cell_type": "markdown",
   "id": "bdd2b959",
   "metadata": {},
   "source": [
    "$$\n",
    "H = \\frac{1}{\\sqrt{2}}\n",
    "    \\begin{bmatrix}\n",
    "        1 & 1 \\\\\n",
    "        1 & -1\n",
    "    \\end{bmatrix}\n",
    "$$"
   ]
  },
  {
   "cell_type": "markdown",
   "id": "d8788df0",
   "metadata": {},
   "source": [
    "$$\n",
    "R_k =\n",
    "    \\begin{bmatrix}\n",
    "        1 & 0 \\\\\n",
    "        0 & e^{2\\pi i/2^{k}}\n",
    "    \\end{bmatrix}\n",
    "$$"
   ]
  },
  {
   "cell_type": "markdown",
   "id": "4c8ecd59",
   "metadata": {},
   "source": [
    "First we refresh our memory of the action of these gates. The hadamard\n",
    "gate on a single qubit creates an equal superposition of its basis\n",
    "states, assuming it is not already in a superposition, such that"
   ]
  },
  {
   "cell_type": "markdown",
   "id": "745deb2b",
   "metadata": {},
   "source": [
    "$$\n",
    "H\\ket{0} = \\frac{1}{\\sqrt{2}} \\left(\\ket{0} + \\ket{1}\\right), \\quad H\\ket{1} = \\frac{1}{\\sqrt{2}} \\left(\\ket{0} - \\ket{1}\\right)\n",
    "$$"
   ]
  },
  {
   "cell_type": "markdown",
   "id": "a6bd4567",
   "metadata": {},
   "source": [
    "The $R_k$ gate simply adds a phase if the qubit it acts on is in the state $\\ket{1}$"
   ]
  },
  {
   "cell_type": "markdown",
   "id": "b9369c75",
   "metadata": {},
   "source": [
    "$$\n",
    "R_k\\ket{0} = \\ket{0}, \\quad R_k\\ket{1} = e^{2\\pi i/2^{k}}\\ket{1}\n",
    "$$"
   ]
  },
  {
   "cell_type": "markdown",
   "id": "0654de13",
   "metadata": {},
   "source": [
    "Since all this gates are unitary, the quantum Fourier transfrom is also unitary."
   ]
  },
  {
   "cell_type": "markdown",
   "id": "43be1617",
   "metadata": {},
   "source": [
    "## Algorithm\n",
    "\n",
    "Assume we have a quantum register of $n$ qubits in the state $\\ket{j_1\n",
    "j_2 \\dots j_n}$. Applying the hadamard gate to the first qubit\n",
    "produces the state"
   ]
  },
  {
   "cell_type": "markdown",
   "id": "3bb1c248",
   "metadata": {},
   "source": [
    "$$\n",
    "H\\ket{j_1 j_2 \\dots j_n} = \\frac{\\left(\\ket{0} + e^{2\\pi i 0.j_1}\\ket{1}\\right)}{2^{1/2}} \\ket{j_2 \\dots j_n}\n",
    "$$"
   ]
  },
  {
   "cell_type": "markdown",
   "id": "bf9d3669",
   "metadata": {},
   "source": [
    "where we have made use of the binary fraction to represent the action of the hadamard gate"
   ]
  },
  {
   "cell_type": "markdown",
   "id": "0ff27f1e",
   "metadata": {},
   "source": [
    "<!-- Equation labels as ordinary links -->\n",
    "<div id=\"_auto3\"></div>\n",
    "\n",
    "$$\n",
    "\\begin{equation}\n",
    "e^{2\\pi i 0.j_1} = \n",
    "\\begin{cases}\n",
    "-1, & \\quad \\text{if $j_1 = 1$} \\\\\n",
    "+1, & \\quad \\text{if $j_1 = 0$}\n",
    "\\end{cases}\n",
    "\\label{_auto3} \\tag{5}\n",
    "\\end{equation}\n",
    "$$"
   ]
  },
  {
   "cell_type": "markdown",
   "id": "5474d9d5",
   "metadata": {},
   "source": [
    "Furthermore we can apply the controlled-$R_k$ gate, with all the other qubits $j_k$ for $k>1$ as control qubits to produce the state"
   ]
  },
  {
   "cell_type": "markdown",
   "id": "74147bb5",
   "metadata": {},
   "source": [
    "$$\n",
    "\\frac{\\left(\\ket{0} + e^{2\\pi i 0.j_1j_2\\dots j_n}\\ket{1}\\right)}{2^{1/2}} \\ket{j_2 \\dots j_n}\n",
    "$$"
   ]
  },
  {
   "cell_type": "markdown",
   "id": "7bc165e1",
   "metadata": {},
   "source": [
    "Next we do the same procedure on qubit $2$ producing the state"
   ]
  },
  {
   "cell_type": "markdown",
   "id": "872e6ff4",
   "metadata": {},
   "source": [
    "$$\n",
    "\\frac{\\left(\\ket{0} + e^{2\\pi i 0.j_1j_2\\dots j_n}\\ket{1}\\right)\\left(\\ket{0} + e^{2\\pi i 0.j_2\\dots j_n}\\ket{1}\\right)}{2^{2/2}} \\ket{j_2 \\dots j_n}\n",
    "$$"
   ]
  },
  {
   "cell_type": "markdown",
   "id": "282eb595",
   "metadata": {},
   "source": [
    "Doing this for all $n$ qubits yields state"
   ]
  },
  {
   "cell_type": "markdown",
   "id": "5bbfe5d6",
   "metadata": {},
   "source": [
    "$$\n",
    "\\frac{\\left(\\ket{0} + e^{2\\pi i 0.j_1j_2\\dots j_n}\\ket{1}\\right)\\left(\\ket{0} + e^{2\\pi i 0.j_2\\dots j_n}\\ket{1}\\right)\\dots \\left(\\ket{0} + e^{2\\pi i 0.j_n}\\ket{1}\\right)}{2^{n/2}} \\ket{j_2 \\dots j_n}\n",
    "$$"
   ]
  },
  {
   "cell_type": "markdown",
   "id": "16f2854d",
   "metadata": {},
   "source": [
    "At the end we use swap gates to reverse the order of the qubits"
   ]
  },
  {
   "cell_type": "markdown",
   "id": "46147d92",
   "metadata": {},
   "source": [
    "$$\n",
    "\\frac{\\left(\\ket{0} + e^{2\\pi i 0.j_n}\\ket{1}\\right)\\left(\\ket{0} + e^{2\\pi i 0.j_{n-1}j_n}\\ket{1}\\right)\\dots\\left(\\ket{0} + e^{2\\pi i 0.j_1j_2\\dots j_n}\\ket{1}\\right) }{2^{n/2}} \\ket{j_2 \\dots j_n}\n",
    "$$"
   ]
  },
  {
   "cell_type": "markdown",
   "id": "02534f6a",
   "metadata": {},
   "source": [
    "This is just the product representation from earlier, obviously our desired output."
   ]
  },
  {
   "cell_type": "code",
   "execution_count": 3,
   "id": "990af302",
   "metadata": {},
   "outputs": [],
   "source": [
    "import qiskit as qk\n",
    "import numpy as np\n",
    "##qk.IBMQ.load_account()\n",
    "\n",
    "def QFT(Qcircuit, inverse=False):\n",
    "    \"\"\" _________________________\n",
    "    \n",
    "        Quantum Fourier Transform\n",
    "        _________________________\n",
    "        \n",
    "        Input: \n",
    "        \n",
    "            Qcircuit = [qc,qr,cr,n]\n",
    "                - qc -> Quantum circuit object\n",
    "                - qr -> Quantum register object\n",
    "                - cr -> Classical register object\n",
    "                - n  -> Number of qubits\n",
    "                \n",
    "            inverse:\n",
    "                True,False\n",
    "   \n",
    "        Output:\n",
    "        \n",
    "            Qcircuit\n",
    "    \"\"\"\n",
    "    \n",
    "    qc       =  Qcircuit[0]\n",
    "    qr       =  Qcircuit[1]\n",
    "    n_qubits =  Qcircuit[2]\n",
    "    \n",
    "    if not inverse:\n",
    "        for i in range(n_qubits):\n",
    "            qc.h(qr[i])\n",
    "            for j in range(i+1,n_qubits):\n",
    "                qc.cu1(np.pi/2**(j-i),qr[j],qr[i])\n",
    "\n",
    "        for i in range(int(n_qubits/2)):\n",
    "            qc.swap(qr[i],qr[-(i+1)])\n",
    "    else:\n",
    "        for i in range(int(n_qubits/2)):\n",
    "            qc.swap(qr[i],qr[-(i+1)])\n",
    "            \n",
    "        for i in range(n_qubits):\n",
    "            for j in range(i):\n",
    "                qc.cu1(-np.pi/2**(i-j),qr[j],qr[i])\n",
    "            qc.h(qr[i])    \n",
    "    \n",
    "    return [qc,qc,n_qubits] \n",
    "\n",
    "\n",
    "\n",
    "## Simple 3-qubit transform to confirm correct implementation\n",
    "n_qubits = 3\n",
    "qr1      = qk.QuantumRegister(n_qubits)\n",
    "qc1      = qk.QuantumCircuit(qr1)\n",
    "qr2      = qk.QuantumRegister(n_qubits)\n",
    "qc2      = qk.QuantumCircuit(qr2)\n",
    "Qcircuit1 = QFT([qc1,qr1,n_qubits])\n",
    "Qcircuit2 = QFT([qc2,qr2,n_qubits],inverse=True)\n",
    "\n",
    "Qcircuit1[0].draw()\n",
    "Qcircuit2[0].draw()"
   ]
  }
 ],
 "metadata": {
  "kernelspec": {
   "display_name": "Python 3 (ipykernel)",
   "language": "python",
   "name": "python3"
  }
 },
 "nbformat": 4,
 "nbformat_minor": 5
}
