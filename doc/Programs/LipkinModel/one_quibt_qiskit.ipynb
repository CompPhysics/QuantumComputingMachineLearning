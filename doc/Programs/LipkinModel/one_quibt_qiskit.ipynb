{
 "cells": [
  {
   "cell_type": "code",
   "execution_count": 1,
   "metadata": {},
   "outputs": [],
   "source": [
    "import numpy as np\n",
    "import matplotlib.pyplot as plt\n",
    "import seaborn as sns\n",
    "sns.set_theme(font_scale=1.5)\n",
    "from tqdm import tqdm\n",
    "\n",
    "from qiskit import QuantumCircuit, Aer\n",
    "from qiskit.algorithms import VQE\n",
    "from qiskit.opflow import X, Z, I, Y, AerPauliExpectation, PauliSumOp\n",
    "from qiskit.circuit import Parameter\n",
    "from qiskit.algorithms.optimizers import ADAM\n",
    "\n",
    "from src.utils import write_to_csv\n",
    "from qiskit_ibm_runtime import QiskitRuntimeService\n",
    "from qiskit.providers.ibmq import least_busy\n",
    "from qiskit.utils import QuantumInstance\n"
   ]
  },
  {
   "cell_type": "code",
   "execution_count": 2,
   "metadata": {},
   "outputs": [],
   "source": [
    "def prepare_state():\n",
    "    theta = Parameter('theta')\n",
    "    phi = Parameter('phi')\n",
    "    QC = QuantumCircuit(1)\n",
    "    QC.rx(2*(theta-np.pi/2),0)\n",
    "    QC.ry(2*(phi-np.pi/2),0)\n",
    "    return QC\n",
    "\n",
    "def Hamiltonian(lmb):\n",
    "    E1 = 0\n",
    "    E2 = 4\n",
    "    V11 = 3\n",
    "    V22 = -3\n",
    "    V12 = 0.2\n",
    "    V21 = 0.2\n",
    "\n",
    "    eps = (E1 + E2) / 2\n",
    "    omega = (E1 - E2) / 2\n",
    "    c = (V11 + V22) / 2\n",
    "    omega_z = (V11 - V22) / 2\n",
    "    omega_x = V12\n",
    "\n",
    "    # H = eps * I + omega * Z + lmb * (c * I + omega_z * Z + omega_x * X)    \n",
    "    H = PauliSumOp.from_list([('I', eps + lmb*c), ('Z', omega + lmb*omega_z), \n",
    "                              ('X', lmb*omega_x)])\n",
    "\n",
    "    return H"
   ]
  },
  {
   "cell_type": "code",
   "execution_count": 17,
   "metadata": {},
   "outputs": [],
   "source": [
    "from qiskit import IBMQ\n",
    "IBMQ.save_account('cf601c2a41f6b0f0fe8030c8a8c30fd4d5d9d3a4c04f3d4bb070ff7fa4a02de73998a1c22b3db1e211d536e8a02158464d27e78082220cf557267830887dcb07')\n",
    "# IBMQ.load_account()\n",
    "provider = QiskitRuntimeService(channel='ibm_quantum')"
   ]
  },
  {
   "cell_type": "code",
   "execution_count": 18,
   "metadata": {},
   "outputs": [],
   "source": [
    "provider = IBMQ.load_account()"
   ]
  },
  {
   "cell_type": "code",
   "execution_count": 31,
   "metadata": {},
   "outputs": [
    {
     "name": "stdout",
     "output_type": "stream",
     "text": [
      "[<IBMQSimulator('ibmq_qasm_simulator') from IBMQ(hub='ibm-q', group='open', project='main')>, <IBMQBackend('ibmq_lima') from IBMQ(hub='ibm-q', group='open', project='main')>, <IBMQBackend('ibmq_belem') from IBMQ(hub='ibm-q', group='open', project='main')>, <IBMQBackend('ibmq_quito') from IBMQ(hub='ibm-q', group='open', project='main')>, <IBMQSimulator('simulator_statevector') from IBMQ(hub='ibm-q', group='open', project='main')>, <IBMQSimulator('simulator_mps') from IBMQ(hub='ibm-q', group='open', project='main')>, <IBMQSimulator('simulator_extended_stabilizer') from IBMQ(hub='ibm-q', group='open', project='main')>, <IBMQSimulator('simulator_stabilizer') from IBMQ(hub='ibm-q', group='open', project='main')>, <IBMQBackend('ibmq_jakarta') from IBMQ(hub='ibm-q', group='open', project='main')>, <IBMQBackend('ibmq_manila') from IBMQ(hub='ibm-q', group='open', project='main')>, <IBMQBackend('ibm_lagos') from IBMQ(hub='ibm-q', group='open', project='main')>, <IBMQBackend('ibm_nairobi') from IBMQ(hub='ibm-q', group='open', project='main')>, <IBMQBackend('ibm_perth') from IBMQ(hub='ibm-q', group='open', project='main')>, <IBMQBackend('ibm_oslo') from IBMQ(hub='ibm-q', group='open', project='main')>]\n"
     ]
    }
   ],
   "source": [
    "print(provider.backends())"
   ]
  },
  {
   "cell_type": "code",
   "execution_count": 40,
   "metadata": {},
   "outputs": [
    {
     "name": "stdout",
     "output_type": "stream",
     "text": [
      "Running on ibmq_qasm_simulator\n"
     ]
    },
    {
     "name": "stderr",
     "output_type": "stream",
     "text": [
      "C:\\Users\\augus\\AppData\\Local\\Temp\\ipykernel_9028\\2667878923.py:125: DeprecationWarning: The 'instance' keyword arguments are deprecated as of qiskit-ibm-runtime 0.7 and will be removed no sooner than 3 months after the release date. Please specify \"instance\" inside \"options\".\n",
      "  job = service.run(\n"
     ]
    },
    {
     "name": "stdout",
     "output_type": "stream",
     "text": [
      "<bound method JobV1.job_id of <RuntimeJob('ch55v9o5ngm0qhf1v2g0', 'vqe')>>\n",
      "JobStatus.RUNNING\n"
     ]
    }
   ],
   "source": [
    "from qiskit_ibm_runtime import QiskitRuntimeService\n",
    "from qiskit import QuantumCircuit, Aer\n",
    "from qiskit.algorithms import VQE\n",
    "from qiskit.opflow import X, Z, I, Y, AerPauliExpectation, PauliSumOp\n",
    "from qiskit.circuit import Parameter\n",
    "from qiskit.algorithms.optimizers import ADAM\n",
    "\n",
    "from src.utils import write_to_csv\n",
    "from qiskit_ibm_runtime import QiskitRuntimeService\n",
    "from qiskit.providers.ibmq import least_busy\n",
    "from qiskit.utils import QuantumInstance\n",
    "\n",
    "\n",
    "def prepare_state():\n",
    "    theta = Parameter('theta')\n",
    "    phi = Parameter('phi')\n",
    "    QC = QuantumCircuit(1)\n",
    "    QC.rx(2*(theta-np.pi/2),0)\n",
    "    QC.ry(2*(phi-np.pi/2),0)\n",
    "    return QC\n",
    "\n",
    "def Hamiltonian(lmb):\n",
    "    E1 = 0\n",
    "    E2 = 4\n",
    "    V11 = 3\n",
    "    V22 = -3\n",
    "    V12 = 0.2\n",
    "    V21 = 0.2\n",
    "\n",
    "    eps = (E1 + E2) / 2\n",
    "    omega = (E1 - E2) / 2\n",
    "    c = (V11 + V22) / 2\n",
    "    omega_z = (V11 - V22) / 2\n",
    "    omega_x = V12\n",
    "\n",
    "    # H = eps * I + omega * Z + lmb * (c * I + omega_z * Z + omega_x * X)    \n",
    "    H = PauliSumOp.from_list([('I', eps + lmb*c), ('Z', omega + lmb*omega_z), \n",
    "                              ('X', lmb*omega_x)])\n",
    "\n",
    "    return H\n",
    "\n",
    "# backend = least_busy(provider.backends(filters=lambda x: x.configuration().n_qubits >= 4 and \n",
    "#                                                      not x.configuration().simulator and x.status().operational==True))\n",
    "\n",
    "adam = ADAM(maxiter=10_000)\n",
    "\n",
    "# options = {\n",
    "# \t'backend_name': backend.name(), # string (required)\n",
    "# }\n",
    "options = {\n",
    "\t'backend_name': 'ibmq_qasm_simulator'\n",
    "}\n",
    "\n",
    "print(f\"Running on {options['backend_name']}\")\n",
    "\n",
    "for index, lmb in enumerate(np.arange(0, 1, 0.1)):\n",
    "\tH = Hamiltonian(lmb)\n",
    "\truntime_inputs = {\n",
    "\t\t# A parameterized quantum circuit preparing\n",
    "\t\t# the ansatz wavefunction for the\n",
    "\t\t# VQE. It is assumed that\n",
    "\t\t# all qubits are initially in\n",
    "\t\t# the 0 state.\n",
    "\t\t'ansatz': prepare_state(), # object (required)\n",
    "\n",
    "\t\t# Initial parameters of the ansatz.\n",
    "\t\t# Can be an array or\n",
    "\t\t# the string ``'random'`` to choose\n",
    "\t\t# random initial parameters.\n",
    "\t\t'initial_parameters': 'random', # [array,string] (required)\n",
    "\n",
    "\t\t# The Hamiltonian whose smallest eigenvalue\n",
    "\t\t# we're trying to find. Should\n",
    "\t\t# be PauliSumOp\n",
    "\t\t'operator': H, # object (required)\n",
    "\n",
    "\t\t# The classical optimizer used in\n",
    "\t\t# to update the parameters in\n",
    "\t\t# each iteration. Can be either\n",
    "\t\t# any of Qiskit's Optimizer classes.\n",
    "\t\t# If a dictionary, only SPSA\n",
    "\t\t# and QN-SPSA are supported and\n",
    "\t\t# the dictionary must specify the\n",
    "\t\t# name and options of the\n",
    "\t\t# optimizer, e.g. ``{'name': 'SPSA', 'maxiter':\n",
    "\t\t# 100}``.\n",
    "\t\t'optimizer': adam, # object (required)\n",
    "\n",
    "\t\t# A list or dict (with\n",
    "\t\t# strings as keys) of operators\n",
    "\t\t# of type PauliSumOp to be\n",
    "\t\t# evaluated at the final, optimized\n",
    "\t\t# state.\n",
    "\t\t'aux_operators': None, # array\n",
    "\n",
    "\t\t# Initial position of virtual qubits\n",
    "\t\t# on the physical qubits of\n",
    "\t\t# the quantum device. Default is\n",
    "\t\t# None.\n",
    "\t\t'initial_layout': None, # [null,array,object]\n",
    "\n",
    "\t\t# The maximum number of parameter\n",
    "\t\t# sets that can be evaluated\n",
    "\t\t# at once. Defaults to the\n",
    "\t\t# minimum of 2 times the\n",
    "\t\t# number of parameters, or 1000.\n",
    "\t\t# 'max_evals_grouped': None, # integer\n",
    "\n",
    "\t\t# Whether to apply measurement error\n",
    "\t\t# mitigation in form of a\n",
    "\t\t# complete measurement fitter to the\n",
    "\t\t# measurements. Defaults to False.\n",
    "\t\t# 'measurement_error_mitigation': False, # boolean\n",
    "\n",
    "\t\t# The number of shots used\n",
    "\t\t# for each circuit evaluation. Defaults\n",
    "\t\t# to 1024.\n",
    "\t\t'shots': 1024 # integer\n",
    "\t}\n",
    "\n",
    "\tservice = QiskitRuntimeService(\n",
    "\t\tchannel='ibm_quantum'\n",
    "\t)\n",
    "\n",
    "\tjob = service.run(\n",
    "\t\tprogram_id='vqe',\n",
    "\t\toptions=options,\n",
    "\t\tinputs=runtime_inputs,\n",
    "\t\tinstance='ibm-q/open/main'\n",
    "\t)\n",
    "\n",
    "\t# Job id\n",
    "\tprint(job.job_id)\n",
    "\t# See job status\n",
    "\tprint(job.status())\n",
    "\n",
    "\n",
    "\t# Get results\n",
    "\tresult = job.result()\n",
    "\tprint(lmb, result['optimal_value'])"
   ]
  },
  {
   "cell_type": "code",
   "execution_count": 36,
   "metadata": {},
   "outputs": [],
   "source": [
    "def get_energy_qiskit(experiment, n_points):\n",
    "    if experiment == 'simulate':\n",
    "        instance = Aer.get_backend('qasm_simulator')\n",
    "        filename = 'data/simulate'\n",
    "        expecation = AerPauliExpectation()\n",
    "    elif experiment == 'real':\n",
    "        backend = least_busy(provider.backends(filters=lambda x: x.configuration().n_qubits >= 4 and \n",
    "                                                     not x.configuration().simulator and x.status().operational==True))\n",
    "        # backend = provider.get_backend('ibm_oslo')\n",
    "        shots = 1024\n",
    "        instance = QuantumInstance(backend, shots=shots)\n",
    "        filename = f'data/real_{backend.name}'\n",
    "        expecation = None\n",
    "        print(f'Running on backend: {backend.name}')\n",
    "    else:\n",
    "        raise ValueError('experiment must be either \"simulate\" or \"real\"')\n",
    "\n",
    "    adam = ADAM(maxiter=1000) #optimizer for VQE\n",
    "    lmbvalues_qk = range(n_points)\n",
    "    min_energy_qk = np.zeros(n_points)\n",
    "    init_point = np.random.uniform(low = 0, high = np.pi, size = 2)\n",
    "    vqe = VQE(ansatz=prepare_state(), optimizer=adam, initial_point=init_point, \n",
    "                    quantum_instance=instance, expectation=expecation)    \n",
    "    for index, lmb in enumerate(tqdm(lmbvalues_qk)):\n",
    "        lmb = lmb/n_points\n",
    "        H = Hamiltonian(lmb)\n",
    "        result = vqe.compute_minimum_eigenvalue(H)\n",
    "        min_energy_qk[index] = result.eigenvalue.real\n",
    "        print(f'lambda: {lmb}, energy: {min_energy_qk[index]}')\n",
    "    lmbvalues_qk = np.linspace(0, 1 - 1/n_points, n_points)\n",
    "    write_to_csv(lmbvalues_qk, min_energy_qk, filename=filename, header='lmb,energy')"
   ]
  },
  {
   "cell_type": "code",
   "execution_count": 37,
   "metadata": {},
   "outputs": [
    {
     "name": "stderr",
     "output_type": "stream",
     "text": [
      " 10%|█         | 1/10 [00:09<01:26,  9.59s/it]"
     ]
    },
    {
     "name": "stdout",
     "output_type": "stream",
     "text": [
      "lambda: 0.0, energy: 0.2814738664007064\n"
     ]
    },
    {
     "name": "stderr",
     "output_type": "stream",
     "text": [
      " 20%|██        | 2/10 [00:20<01:20, 10.11s/it]"
     ]
    },
    {
     "name": "stdout",
     "output_type": "stream",
     "text": [
      "lambda: 0.1, energy: 0.529671931741206\n"
     ]
    },
    {
     "name": "stderr",
     "output_type": "stream",
     "text": [
      " 30%|███       | 3/10 [00:30<01:10, 10.11s/it]"
     ]
    },
    {
     "name": "stdout",
     "output_type": "stream",
     "text": [
      "lambda: 0.2, energy: 0.7783703965940102\n"
     ]
    },
    {
     "name": "stderr",
     "output_type": "stream",
     "text": [
      " 40%|████      | 4/10 [00:39<00:58,  9.70s/it]"
     ]
    },
    {
     "name": "stdout",
     "output_type": "stream",
     "text": [
      "lambda: 0.3, energy: 1.027779699887063\n"
     ]
    },
    {
     "name": "stderr",
     "output_type": "stream",
     "text": [
      " 50%|█████     | 5/10 [00:49<00:49,  9.95s/it]"
     ]
    },
    {
     "name": "stdout",
     "output_type": "stream",
     "text": [
      "lambda: 0.4, energy: 1.278037957813518\n"
     ]
    },
    {
     "name": "stderr",
     "output_type": "stream",
     "text": [
      " 60%|██████    | 6/10 [00:59<00:40, 10.02s/it]"
     ]
    },
    {
     "name": "stdout",
     "output_type": "stream",
     "text": [
      "lambda: 0.5, energy: 1.5281954494568468\n"
     ]
    },
    {
     "name": "stderr",
     "output_type": "stream",
     "text": [
      " 70%|███████   | 7/10 [01:09<00:29,  9.90s/it]"
     ]
    },
    {
     "name": "stdout",
     "output_type": "stream",
     "text": [
      "lambda: 0.6, energy: 1.7705915536164682\n"
     ]
    },
    {
     "name": "stderr",
     "output_type": "stream",
     "text": [
      " 80%|████████  | 8/10 [01:13<00:15,  7.93s/it]"
     ]
    },
    {
     "name": "stdout",
     "output_type": "stream",
     "text": [
      "lambda: 0.7, energy: 1.8279534946599796\n"
     ]
    },
    {
     "name": "stderr",
     "output_type": "stream",
     "text": [
      " 90%|█████████ | 9/10 [01:16<00:06,  6.43s/it]"
     ]
    },
    {
     "name": "stdout",
     "output_type": "stream",
     "text": [
      "lambda: 0.8, energy: 1.569186815588405\n"
     ]
    },
    {
     "name": "stderr",
     "output_type": "stream",
     "text": [
      "100%|██████████| 10/10 [01:20<00:00,  8.05s/it]"
     ]
    },
    {
     "name": "stdout",
     "output_type": "stream",
     "text": [
      "lambda: 0.9, energy: 1.277227560020167\n"
     ]
    },
    {
     "name": "stderr",
     "output_type": "stream",
     "text": [
      "\n"
     ]
    }
   ],
   "source": [
    "get_energy_qiskit('simulate', n_points = 10)"
   ]
  },
  {
   "cell_type": "code",
   "execution_count": 10,
   "metadata": {},
   "outputs": [
    {
     "name": "stdout",
     "output_type": "stream",
     "text": [
      "job id: ch4inl85ngm0qheh7olg\n",
      "Hello, World!\n"
     ]
    }
   ],
   "source": [
    "from qiskit_ibm_runtime import QiskitRuntimeService\n",
    "\n",
    "service = QiskitRuntimeService()\n",
    "program_inputs = {'iterations': 1}\n",
    "options = {\"backend_name\": \"ibm_oslo\"}\n",
    "job = service.run(program_id=\"hello-world\",\n",
    "                options=options,\n",
    "                inputs=program_inputs\n",
    "                )\n",
    "print(f\"job id: {job.job_id()}\")\n",
    "result = job.result()\n",
    "print(result)"
   ]
  },
  {
   "cell_type": "code",
   "execution_count": 38,
   "metadata": {},
   "outputs": [
    {
     "data": {
      "image/png": "[encoded data removed]",
      "text/plain": [
       "<Figure size 720x432 with 1 Axes>"
      ]
     },
     "metadata": {},
     "output_type": "display_data"
    }
   ],
   "source": [
    "import pandas as pd\n",
    "\n",
    "df = pd.read_csv('data/simulate.csv')\n",
    "#rename the columns \n",
    "df.columns = ['lmb', 'energy']\n",
    "fig, axs = plt.subplots(1, 1, figsize=(10, 6))\n",
    "axs.plot(df['lmb'], df['energy'], label='Qiskit', marker = 'o')\n",
    "axs.set_xlabel(r'$\\lambda$')\n",
    "axs.set_ylabel('Energy')\n",
    "axs.legend()\n",
    "plt.show()"
   ]
  },
  {
   "cell_type": "code",
   "execution_count": 13,
   "metadata": {},
   "outputs": [
    {
     "name": "stdout",
     "output_type": "stream",
     "text": [
      "<IBMBackend('ibmq_lima')>\n"
     ]
    }
   ],
   "source": [
    "\n",
    "# # Save an IBM Quantum account.\n",
    "# from qiskit import *\n",
    "\n",
    "from qiskit import IBMQ\n",
    "# QiskitRuntimeService.save_account(channel='ibm_quantum', token='cf601c2a41f6b0f0fe8030c8a8c30fd4d5d9d3a4c04f3d4bb070ff7fa4a02de73998a1c22b3db1e211d536e8a02158464d27e78082220cf557267830887dcb07')\n",
    "\n",
    "# print the least busy backend\n",
    "print(backend)"
   ]
  },
  {
   "cell_type": "code",
   "execution_count": 39,
   "metadata": {},
   "outputs": [
    {
     "data": {
      "text/html": [
       "<div>\n",
       "<style scoped>\n",
       "    .dataframe tbody tr th:only-of-type {\n",
       "        vertical-align: middle;\n",
       "    }\n",
       "\n",
       "    .dataframe tbody tr th {\n",
       "        vertical-align: top;\n",
       "    }\n",
       "\n",
       "    .dataframe thead th {\n",
       "        text-align: right;\n",
       "    }\n",
       "</style>\n",
       "<table border=\"1\" class=\"dataframe\">\n",
       "  <thead>\n",
       "    <tr style=\"text-align: right;\">\n",
       "      <th></th>\n",
       "      <th>x</th>\n",
       "      <th>y</th>\n",
       "    </tr>\n",
       "  </thead>\n",
       "  <tbody>\n",
       "    <tr>\n",
       "      <th>0</th>\n",
       "      <td>0.000000</td>\n",
       "      <td>0.000000</td>\n",
       "    </tr>\n",
       "    <tr>\n",
       "      <th>1</th>\n",
       "      <td>0.111111</td>\n",
       "      <td>0.111111</td>\n",
       "    </tr>\n",
       "    <tr>\n",
       "      <th>2</th>\n",
       "      <td>0.222222</td>\n",
       "      <td>0.222222</td>\n",
       "    </tr>\n",
       "    <tr>\n",
       "      <th>3</th>\n",
       "      <td>0.333333</td>\n",
       "      <td>0.333333</td>\n",
       "    </tr>\n",
       "    <tr>\n",
       "      <th>4</th>\n",
       "      <td>0.444444</td>\n",
       "      <td>0.444444</td>\n",
       "    </tr>\n",
       "    <tr>\n",
       "      <th>5</th>\n",
       "      <td>0.555556</td>\n",
       "      <td>0.555556</td>\n",
       "    </tr>\n",
       "    <tr>\n",
       "      <th>6</th>\n",
       "      <td>0.666667</td>\n",
       "      <td>0.666667</td>\n",
       "    </tr>\n",
       "    <tr>\n",
       "      <th>7</th>\n",
       "      <td>0.777778</td>\n",
       "      <td>0.777778</td>\n",
       "    </tr>\n",
       "    <tr>\n",
       "      <th>8</th>\n",
       "      <td>0.888889</td>\n",
       "      <td>0.888889</td>\n",
       "    </tr>\n",
       "    <tr>\n",
       "      <th>9</th>\n",
       "      <td>1.000000</td>\n",
       "      <td>1.000000</td>\n",
       "    </tr>\n",
       "  </tbody>\n",
       "</table>\n",
       "</div>"
      ],
      "text/plain": [
       "          x         y\n",
       "0  0.000000  0.000000\n",
       "1  0.111111  0.111111\n",
       "2  0.222222  0.222222\n",
       "3  0.333333  0.333333\n",
       "4  0.444444  0.444444\n",
       "5  0.555556  0.555556\n",
       "6  0.666667  0.666667\n",
       "7  0.777778  0.777778\n",
       "8  0.888889  0.888889\n",
       "9  1.000000  1.000000"
      ]
     },
     "execution_count": 39,
     "metadata": {},
     "output_type": "execute_result"
    }
   ],
   "source": [
    "# write a program that saves two numpy arrays to a csv file\n",
    "def write_to_csv(x, y, filename='data.csv', header='x,y'):\n",
    "    df = pd.DataFrame({'x': x, 'y': y})\n",
    "    # df.to_csv(filename, header=header, index=False)\n",
    "    return df\n",
    "\n",
    "df = write_to_csv(np.linspace(0, 1, 10), np.linspace(0, 1, 10))\n",
    "df"
   ]
  },
  {
   "cell_type": "code",
   "execution_count": null,
   "metadata": {},
   "outputs": [],
   "source": []
  }
 ],
 "metadata": {
  "kernelspec": {
   "display_name": "base",
   "language": "python",
   "name": "python3"
  },
  "language_info": {
   "codemirror_mode": {
    "name": "ipython",
    "version": 3
   },
   "file_extension": ".py",
   "mimetype": "text/x-python",
   "name": "python",
   "nbconvert_exporter": "python",
   "pygments_lexer": "ipython3",
   "version": "3.9.7"
  },
  "orig_nbformat": 4
 },
 "nbformat": 4,
 "nbformat_minor": 2
}
