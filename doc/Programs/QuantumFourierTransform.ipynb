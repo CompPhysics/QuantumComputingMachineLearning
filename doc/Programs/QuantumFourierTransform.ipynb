{
 "cells": [
  {
   "cell_type": "markdown",
   "metadata": {},
   "source": [
    "$$ \\newcommand{\\ket}[1]{\\left|{#1}\\right\\rangle} $$\n",
    "$$ \\newcommand{\\bra}[1]{\\left\\langle{#1}\\right|} $$"
   ]
  },
  {
   "cell_type": "markdown",
   "metadata": {},
   "source": [
    "# Quantum Fourier Transform\n",
    "\n",
    "Linear, invertible transformation on qubits. The quantum analouge of discrete Fourier transform. Requires only $\\mathcal{O}(nlog\\ n)$ gates to be implemented, and is a part of many important quantum algorithms such as phase estimation.\n",
    "\n",
    "### Motivation\n",
    "A useful way to solve problems in many fields of science, especially in physics and mathematics, is to transform  it into some other (often simpler) problem for which a solution is known. The discrete fourier transform, which involves such a transformation, is one of a few known algorithms that can be computed much faster on a quantum computer than on a classical. "
   ]
  },
  {
   "cell_type": "markdown",
   "metadata": {},
   "source": [
    "## Fourier transform\n",
    "Assume a periodic function $f(x)$ in an interval $[ -\\frac{L}{2}, \\frac{L}{2} ]$. The fourier series in exponential form can be written as \n",
    "$$\n",
    "f(x) = \\sum_{-\\inf}^\\inf A_n e^{i(2\\pi nx/L)}\n",
    "$$\n",
    "where\n",
    "$$\n",
    "A_n = \\frac{1}{L} \\int_{-L/2}^{L/2} f(x)e^{-i(2\\pi nx/L)} dx\n",
    "$$\n",
    "\n",
    "In the fourier transform $A_n$ is transformed from a dicrete variable to a continous one as $L \\rightarrow \\inf$. We then replace $A_n$ with $f(k)dk$ and let $n/L \\rightarrow k$, and the sum is changed to an integral. This gives\n",
    "\n",
    "$$\n",
    "f(x) = \\int_{-\\inf}^{\\inf}dkF(k) e^{i(2\\pi kx)}\n",
    "$$\n",
    "\n",
    "$$\n",
    "F(k) = \\int_{-\\inf}^{\\inf}dxf(x) e^{-i(2\\pi kx)}\n",
    "$$\n",
    "\n",
    "One way to interperet the Fourier transform is then as a transformation from one basis to another. "
   ]
  },
  {
   "cell_type": "markdown",
   "metadata": {},
   "source": [
    "## Discrete Fourier transform\n",
    "Next we make another generalization by having a discrete function, that is $f(x) \\rightarrow f(x_k)$ with $x_k = k\\Delta x$ for $k=0, \\dots, N-1$. This leads to the sums\n",
    "\n",
    "$$\n",
    "f_x = \\frac{1}{N} \\sum_{k=0}^{N-1}F_k e^{i(2\\pi kx)/N}\n",
    "$$\n",
    "\n",
    "$$\n",
    "F_k = \\sum_{x=0}^{N-1}f_x e^{-i(2\\pi kx)/N}\n",
    "$$\n",
    "\n",
    "Although we have used functions here, this could also be a set of numbers. As an example we can have a set of complex numbers $\\{ x_0,\\dots,x_{N-1}\\}$ with fixed length $N$, we can Fourier transform this as\n",
    "\\begin{equation}\n",
    "y_k = \\frac{1}{\\sqrt{N}} \\sum_{j=0}^{N-1} x_j e^{i(2\\pi jk)/N}\n",
    "\\end{equation}\n",
    "leading to a new set of complex numbers $\\{ y_0,\\dots,y_{N-1}\\}$. "
   ]
  },
  {
   "cell_type": "markdown",
   "metadata": {},
   "source": [
    "## Quantum Fourier transform\n",
    "We now turn to the quantum Fourier transform. It is the same transformation as described above, however we define it in terms of the unitary operation\n",
    "\n",
    "$$\n",
    "    \\ket{\\psi'} \\leftarrow \\hat{F}\\ket{\\psi}, \\quad \\hat{F}^\\dagger \\hat{F} = I\n",
    "$$\n",
    "\n",
    "In terms of an orthonormal basis $\\ket{0},\\ket{1},\\dots,\\ket{0}$ this linear operator has the following action\n",
    "\n",
    "$$\n",
    "\\ket{j} \\rightarrow \\sum_{k=0}^{N-1} e^{i(2\\pi jk/N)}\\ket{k}\n",
    "$$\n",
    "\n",
    "or on an arbitrary state\n",
    "\n",
    "$$\n",
    "\\sum_{j=0}^{N-1} x_j \\ket{j} \\rightarrow \\sum_{k=0}^{N-1} y_k\\ket{k}\n",
    "\n",
    "$$\n",
    "\n",
    "equivalent to the equation for discrete Fourier transform on a set of complex numbers.\n",
    "\n",
    "Next we assume an $n$-qubit system, where we take $N=s^n$ in the computational basis \n",
    "$\n",
    "\\ket{0},\\dots,\\ket{2^n -1}\n",
    "$\n",
    "We make use of the binary representation $j = j_1 2^{n-1} + j_2 2^{n-2} + \\dots + j_n 2^0$ , and take note of the notation $0.j_l j_{l+1} \\dots j_m$ representing the binary fraction $\\frac{j_l}{2^1} + \\frac{j_{l+1}}{2^{2}} + \\dots + \\frac{j_m}{2^{m-l+1}}$. With this we define the product representation of the quantum Fourier transform\n",
    "\n",
    "$$\n",
    "\\ket{j_1,\\dots,j_n} \\rightarrow \n",
    "\\frac{\n",
    "\\left(\\ket{0} + e^{i(2\\pi 0.j_n)}\\right)\n",
    "\\left(\\ket{0} + e^{i(2\\pi 0.j_{j-1}j_n)}\\right)\n",
    "\\dots\n",
    "\\left(\\ket{0} + e^{i(2\\pi 0.j_1j_2\\dots j_n)}\\right)\n",
    "}{2^{n/2}}\n",
    "$$\n",
    "\n",
    "### Components\n",
    "From the product representation we can derive a circuit for the quantum Fourier transform. This will make use of the following two single-qubit gates\n",
    "\n",
    "\\begin{equation}\n",
    "    H = \\frac{1}{\\sqrt{2}}\n",
    "    \\begin{bmatrix}\n",
    "        1 & 1 \\\\\n",
    "        1 & -1\n",
    "    \\end{bmatrix}\n",
    "\\end{equation}\n",
    "\n",
    "\\begin{equation}\n",
    "    R_k =\n",
    "    \\begin{bmatrix}\n",
    "        1 & 0 \\\\\n",
    "        0 & e^{2\\pi i/2^{k}}\n",
    "    \\end{bmatrix}\n",
    "\\end{equation}\n",
    "\n",
    "First we refresh our memory of the action of these gates. The hadamard gate on a single qubit creates an equal superposition of its basis states, assuming it is not already in a superposition, such that\n",
    "\n",
    "$$\n",
    "    H\\ket{0} = \\frac{1}{\\sqrt{2}} \\left(\\ket{0} + \\ket{1}\\right), \\quad H\\ket{1} = \\frac{1}{\\sqrt{2}} \\left(\\ket{0} - \\ket{1}\\right)\n",
    "$$\n",
    "\n",
    "The $R_k$ gate simply adds a phase if the qubit it acts on is in the state $\\ket{1}$\n",
    "\n",
    "$$\n",
    "    R_k\\ket{0} = \\ket{0}, \\quad R_k\\ket{1} = e^{2\\pi i/2^{k}}\\ket{1}\n",
    "$$\n",
    "\n",
    "Since all this gates are unitary, the quantum Fourier transfrom is also unitary.\n",
    "\n",
    "### Algorithm\n",
    "Assume we have a quantum register of $n$ qubits in the state $\\ket{j_1 j_2 \\dots j_n}$. Applying the hadamard gate to the first qubit produces the state\n",
    "\n",
    "$$\n",
    "\\\\\n",
    "H\\ket{j_1 j_2 \\dots j_n} = \\frac{\\left(\\ket{0} + e^{2\\pi i 0.j_1}\\ket{1}\\right)}{2^{1/2}} \\ket{j_2 \\dots j_n}\n",
    "\\\\\n",
    "$$\n",
    "\n",
    "where we have made use of the binary fraction to represent the action of the hadamard gate \n",
    "\n",
    "$$\n",
    "\\begin{equation}\n",
    "e^{2\\pi i 0.j_1} = \n",
    "\\begin{cases}\n",
    "-1, & \\quad \\text{if $j_1 = 1$} \\\\\n",
    "+1, & \\quad \\text{if $j_1 = 0$}\n",
    "\\end{cases}\n",
    "\\end{equation}\n",
    "$$\n",
    "\n",
    "Furthermore we can apply the controlled-$R_k$ gate, with all the other qubits $j_k$ for $k>1$ as control qubits to produce the state\n",
    "\n",
    "$$\n",
    "\\\\\n",
    "\\frac{\\left(\\ket{0} + e^{2\\pi i 0.j_1j_2\\dots j_n}\\ket{1}\\right)}{2^{1/2}} \\ket{j_2 \\dots j_n}\n",
    "\\\\\n",
    "$$\n",
    "\n",
    "Next we do the same procedure on qubit $2$ producing the state\n",
    "\n",
    "$$\n",
    "\\\\\n",
    "\\frac{\\left(\\ket{0} + e^{2\\pi i 0.j_1j_2\\dots j_n}\\ket{1}\\right)\\left(\\ket{0} + e^{2\\pi i 0.j_2\\dots j_n}\\ket{1}\\right)}{2^{2/2}} \\ket{j_2 \\dots j_n}\n",
    "\\\\\n",
    "$$\n",
    "\n",
    "Doing this for all $n$ qubits yields state\n",
    "\n",
    "$$\n",
    "\\\\\n",
    "\\frac{\\left(\\ket{0} + e^{2\\pi i 0.j_1j_2\\dots j_n}\\ket{1}\\right)\\left(\\ket{0} + e^{2\\pi i 0.j_2\\dots j_n}\\ket{1}\\right)\\dots \\left(\\ket{0} + e^{2\\pi i 0.j_n}\\ket{1}\\right)}{2^{n/2}} \\ket{j_2 \\dots j_n}\n",
    "\\\\\n",
    "$$\n",
    "\n",
    "At the end we use swap gates to reverse the order of the qubits\n",
    "\n",
    "$$\n",
    "\\\\\n",
    "\\frac{\\left(\\ket{0} + e^{2\\pi i 0.j_n}\\ket{1}\\right)\\left(\\ket{0} + e^{2\\pi i 0.j_{n-1}j_n}\\ket{1}\\right)\\dots\\left(\\ket{0} + e^{2\\pi i 0.j_1j_2\\dots j_n}\\ket{1}\\right) }{2^{n/2}} \\ket{j_2 \\dots j_n}\n",
    "\\\\\n",
    "$$\n",
    "\n",
    "This is just the product representation from earlier, obviously our desired output."
   ]
  },
  {
   "cell_type": "code",
   "execution_count": 27,
   "metadata": {},
   "outputs": [],
   "source": [
    "import qiskit as qk\n",
    "import numpy as np\n",
    "qk.IBMQ.load_account()\n",
    "\n",
    "def QFT(Qcircuit, inverse=False):\n",
    "    \"\"\" _________________________\n",
    "    \n",
    "        Quantum Fourier Transform\n",
    "        _________________________\n",
    "        \n",
    "        Input: \n",
    "        \n",
    "            Qcircuit = [qc,qr,cr,n]\n",
    "                - qc -> Quantum circuit object\n",
    "                - qr -> Quantum register object\n",
    "                - cr -> Classical register object\n",
    "                - n  -> Number of qubits\n",
    "                \n",
    "            inverse:\n",
    "                True,False\n",
    "   \n",
    "        Output:\n",
    "        \n",
    "            Qcircuit\n",
    "    \"\"\"\n",
    "    \n",
    "    qc       =  Qcircuit[0]\n",
    "    qr       =  Qcircuit[1]\n",
    "    n_qubits =  Qcircuit[2]\n",
    "    \n",
    "    if not inverse:\n",
    "        for i in range(n_qubits):\n",
    "            qc.h(qr[i])\n",
    "            for j in range(i+1,n_qubits):\n",
    "                qc.cu1(np.pi/2**(j-i),qr[j],qr[i])\n",
    "\n",
    "        for i in range(int(n_qubits/2)):\n",
    "            qc.swap(qr[i],qr[-(i+1)])\n",
    "    else:\n",
    "        for i in range(int(n_qubits/2)):\n",
    "            qc.swap(qr[i],qr[-(i+1)])\n",
    "            \n",
    "        for i in range(n_qubits):\n",
    "            for j in range(i):\n",
    "                qc.cu1(-np.pi/2**(i-j),qr[j],qr[i])\n",
    "            qc.h(qr[i])    \n",
    "    \n",
    "    return [qc,qc,n_qubits] "
   ]
  },
  {
   "cell_type": "code",
   "execution_count": 28,
   "metadata": {},
   "outputs": [],
   "source": [
    "### Simple 3-qubit transform to confirm correct implementation\n",
    "n_qubits = 3\n",
    "qr1      = qk.QuantumRegister(n_qubits)\n",
    "qc1      = qk.QuantumCircuit(qr1)\n",
    "qr2      = qk.QuantumRegister(n_qubits)\n",
    "qc2      = qk.QuantumCircuit(qr2)\n",
    "Qcircuit1 = QFT([qc1,qr1,n_qubits])\n",
    "Qcircuit2 = QFT([qc2,qr2,n_qubits],inverse=True)"
   ]
  },
  {
   "cell_type": "code",
   "execution_count": 29,
   "metadata": {},
   "outputs": [
    {
     "data": {
      "text/html": [
       "<pre style=\"word-wrap: normal;white-space: pre;background: #fff0;line-height: 1.1;font-family: &quot;Courier New&quot;,Courier,monospace\">          ┌───┐                                  \n",
       "q19_0: |0>┤ H ├─■──────■───────────────────────X─\n",
       "          └───┘ │pi/2  │     ┌───┐             │ \n",
       "q19_1: |0>──────■──────┼─────┤ H ├─■───────────┼─\n",
       "                       │pi/4 └───┘ │pi/2 ┌───┐ │ \n",
       "q19_2: |0>─────────────■───────────■─────┤ H ├─X─\n",
       "                                         └───┘   </pre>"
      ],
      "text/plain": [
       "<qiskit.visualization.text.TextDrawing at 0x7f75c8e65fd0>"
      ]
     },
     "execution_count": 29,
     "metadata": {},
     "output_type": "execute_result"
    }
   ],
   "source": [
    "Qcircuit1[0].draw()"
   ]
  },
  {
   "cell_type": "code",
   "execution_count": 30,
   "metadata": {},
   "outputs": [
    {
     "data": {
      "text/html": [
       "<pre style=\"word-wrap: normal;white-space: pre;background: #fff0;line-height: 1.1;font-family: &quot;Courier New&quot;,Courier,monospace\">             ┌───┐                                  \n",
       "q20_0: |0>─X─┤ H ├─■───────■────────────────────────\n",
       "           │ └───┘ │-pi/2  │      ┌───┐             \n",
       "q20_1: |0>─┼───────■───────┼──────┤ H ├─■───────────\n",
       "           │               │-pi/4 └───┘ │-pi/2 ┌───┐\n",
       "q20_2: |0>─X───────────────■────────────■──────┤ H ├\n",
       "                                               └───┘</pre>"
      ],
      "text/plain": [
       "<qiskit.visualization.text.TextDrawing at 0x7f75c7b27c18>"
      ]
     },
     "execution_count": 30,
     "metadata": {},
     "output_type": "execute_result"
    }
   ],
   "source": [
    "Qcircuit2[0].draw()"
   ]
  },
  {
   "cell_type": "code",
   "execution_count": null,
   "metadata": {},
   "outputs": [],
   "source": []
  },
  {
   "cell_type": "code",
   "execution_count": null,
   "metadata": {},
   "outputs": [],
   "source": []
  }
 ],
 "metadata": {
  "kernelspec": {
   "display_name": "Python 3",
   "language": "python",
   "name": "python3"
  },
  "language_info": {
   "codemirror_mode": {
    "name": "ipython",
    "version": 3
   },
   "file_extension": ".py",
   "mimetype": "text/x-python",
   "name": "python",
   "nbconvert_exporter": "python",
   "pygments_lexer": "ipython3",
   "version": "3.6.8"
  }
 },
 "nbformat": 4,
 "nbformat_minor": 2
}
