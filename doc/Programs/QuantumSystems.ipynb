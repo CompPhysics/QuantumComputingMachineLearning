{
 "cells": [
  {
   "cell_type": "code",
   "execution_count": 1,
   "metadata": {},
   "outputs": [],
   "source": [
    "class QuantumSystem:\n",
    "    \n",
    "    def __init__(self,particles,basis_states):\n",
    "        self.N_p = particles\n",
    "        self.N_b = basis_states\n",
    "        self.parameters = {}\n",
    "        \n",
    "    def set_parameters(self,parameters):\n",
    "        \"\"\" Input a dictionary \"\"\"\n",
    "        for name,value in parameters.items():\n",
    "            self.parameters[name] = value\n",
    "    \n",
    "    def get_parameter(self,name):\n",
    "        return self.parameters[name]\n",
    "        \n",
    "    def CreateCircuit(algorithm,t=0):\n",
    "        if algorithm == 'phase estimation':\n",
    "            self.n_work = t\n",
    "            self.n_simulation = self.N_p\n",
    "            self.n_qubits = self.n_work + self.n_simulation\n",
    "            return self.circuit\n",
    "            \n",
    "        if algorithm == 'vqe':\n",
    "            self.n_qubits = self.N_p + 1\n",
    "            return self.circuit\n",
    "        \n",
    "            \n",
    "        \n"
   ]
  },
  {
   "cell_type": "code",
   "execution_count": 3,
   "metadata": {},
   "outputs": [
    {
     "data": {
      "text/plain": [
       "1.0"
      ]
     },
     "execution_count": 3,
     "metadata": {},
     "output_type": "execute_result"
    }
   ],
   "source": [
    "Q = QuantumSystem(2,4)\n",
    "dict1 = {'delta':1.0, 'g':0.5}\n",
    "Q.set_parameters(dict1)\n",
    "Q.get_parameter('g')\n",
    "Q.get_parameter('delta')"
   ]
  },
  {
   "cell_type": "code",
   "execution_count": null,
   "metadata": {},
   "outputs": [],
   "source": []
  },
  {
   "cell_type": "code",
   "execution_count": null,
   "metadata": {},
   "outputs": [],
   "source": []
  }
 ],
 "metadata": {
  "kernelspec": {
   "display_name": "Python 3",
   "language": "python",
   "name": "python3"
  },
  "language_info": {
   "codemirror_mode": {
    "name": "ipython",
    "version": 3
   },
   "file_extension": ".py",
   "mimetype": "text/x-python",
   "name": "python",
   "nbconvert_exporter": "python",
   "pygments_lexer": "ipython3",
   "version": "3.6.8"
  }
 },
 "nbformat": 4,
 "nbformat_minor": 2
}
