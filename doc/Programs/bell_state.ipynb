{
 "cells": [
  {
   "cell_type": "code",
   "execution_count": 2,
   "metadata": {
    "colab": {
     "base_uri": "https://localhost:8080/"
    },
    "id": "wKjGuba11vvX",
    "outputId": "a2a7e931-1a22-4f25-b34e-a21ffe4c1d99"
   },
   "outputs": [
    {
     "name": "stdout",
     "output_type": "stream",
     "text": [
      "\u001b[2K     \u001b[90m━━━━━━━━━━━━━━━━━━━━━━━━━━━━━━━━━━━━━━━━\u001b[0m \u001b[32m6.3/6.3 MB\u001b[0m \u001b[31m22.7 MB/s\u001b[0m eta \u001b[36m0:00:00\u001b[0m\n",
      "\u001b[2K     \u001b[90m━━━━━━━━━━━━━━━━━━━━━━━━━━━━━━━━━━━━━━━━\u001b[0m \u001b[32m2.2/2.2 MB\u001b[0m \u001b[31m71.4 MB/s\u001b[0m eta \u001b[36m0:00:00\u001b[0m\n",
      "\u001b[2K     \u001b[90m━━━━━━━━━━━━━━━━━━━━━━━━━━━━━━━━━━━━━━━━\u001b[0m \u001b[32m49.6/49.6 kB\u001b[0m \u001b[31m4.7 MB/s\u001b[0m eta \u001b[36m0:00:00\u001b[0m\n",
      "\u001b[2K     \u001b[90m━━━━━━━━━━━━━━━━━━━━━━━━━━━━━━━━━━━━━━━━\u001b[0m \u001b[32m116.3/116.3 kB\u001b[0m \u001b[31m11.1 MB/s\u001b[0m eta \u001b[36m0:00:00\u001b[0m\n",
      "\u001b[2K     \u001b[90m━━━━━━━━━━━━━━━━━━━━━━━━━━━━━━━━━━━━━━━━\u001b[0m \u001b[32m49.6/49.6 kB\u001b[0m \u001b[31m5.6 MB/s\u001b[0m eta \u001b[36m0:00:00\u001b[0m\n",
      "\u001b[2K     \u001b[90m━━━━━━━━━━━━━━━━━━━━━━━━━━━━━━━━━━━━━━━━\u001b[0m \u001b[32m39.4/39.4 MB\u001b[0m \u001b[31m12.5 MB/s\u001b[0m eta \u001b[36m0:00:00\u001b[0m\n",
      "\u001b[2K     \u001b[90m━━━━━━━━━━━━━━━━━━━━━━━━━━━━━━━━━━━━━━━━\u001b[0m \u001b[32m107.5/107.5 kB\u001b[0m \u001b[31m11.0 MB/s\u001b[0m eta \u001b[36m0:00:00\u001b[0m\n",
      "\u001b[?25h"
     ]
    }
   ],
   "source": [
    "pip install -q qiskit"
   ]
  },
  {
   "cell_type": "code",
   "execution_count": 6,
   "metadata": {
    "colab": {
     "base_uri": "https://localhost:8080/"
    },
    "id": "Bh4KxCJy2Vxm",
    "outputId": "556eb97a-4b8a-4f61-d287-39ae709c63d0"
   },
   "outputs": [
    {
     "name": "stdout",
     "output_type": "stream",
     "text": [
      "\u001b[2K     \u001b[90m━━━━━━━━━━━━━━━━━━━━━━━━━━━━━━━━━━━━━━━━\u001b[0m \u001b[32m12.3/12.3 MB\u001b[0m \u001b[31m45.7 MB/s\u001b[0m eta \u001b[36m0:00:00\u001b[0m\n",
      "\u001b[?25h"
     ]
    }
   ],
   "source": [
    "pip install -q qiskit-aer"
   ]
  },
  {
   "cell_type": "code",
   "execution_count": 56,
   "metadata": {
    "colab": {
     "base_uri": "https://localhost:8080/"
    },
    "id": "YRSnMncK6bUV",
    "outputId": "803b9e23-64dc-4153-d156-f371ebb864a1"
   },
   "outputs": [
    {
     "name": "stdout",
     "output_type": "stream",
     "text": [
      "\u001b[2K     \u001b[90m━━━━━━━━━━━━━━━━━━━━━━━━━━━━━━━━━━━━━━━━\u001b[0m \u001b[32m241.5/241.5 kB\u001b[0m \u001b[31m2.1 MB/s\u001b[0m eta \u001b[36m0:00:00\u001b[0m\n",
      "\u001b[2K     \u001b[90m━━━━━━━━━━━━━━━━━━━━━━━━━━━━━━━━━━━━━━━━\u001b[0m \u001b[32m130.2/130.2 kB\u001b[0m \u001b[31m10.5 MB/s\u001b[0m eta \u001b[36m0:00:00\u001b[0m\n",
      "\u001b[?25h"
     ]
    }
   ],
   "source": [
    "pip install -q qiskit-ibmq-provider"
   ]
  },
  {
   "cell_type": "code",
   "execution_count": 1,
   "metadata": {
    "colab": {
     "base_uri": "https://localhost:8080/"
    },
    "id": "799VXEbR1qf8",
    "outputId": "ac0ac303-a718-4a76-aecd-4b197aadd025"
   },
   "outputs": [
    {
     "name": "stdout",
     "output_type": "stream",
     "text": [
      "Quantum Circuit:\n",
      "     ┌───┐     ┌─┐   \n",
      "q_0: ┤ H ├──■──┤M├───\n",
      "     └───┘┌─┴─┐└╥┘┌─┐\n",
      "q_1: ─────┤ X ├─╫─┤M├\n",
      "          └───┘ ║ └╥┘\n",
      "c: 2/═══════════╩══╩═\n",
      "                0  1 \n"
     ]
    }
   ],
   "source": [
    "from qiskit import QuantumCircuit, transpile, assemble, IBMQ\n",
    "from qiskit.visualization import circuit_drawer\n",
    "import qiskit_aer\n",
    "import matplotlib.pyplot as plt\n",
    "\n",
    "# Create a quantum circuit with two qubits\n",
    "bell_circuit = QuantumCircuit(2, 2)\n",
    "\n",
    "# Apply Hadamard gate to the first qubit\n",
    "bell_circuit.h(0)\n",
    "\n",
    "# Apply a CNOT gate with the first qubit as the control and the second qubit as the target\n",
    "bell_circuit.cx(0, 1)\n",
    "\n",
    "# Add measurements to the circuit\n",
    "bell_circuit.measure([0, 1], [0, 1])\n",
    "\n",
    "# Visualize the circuit\n",
    "print(\"Quantum Circuit:\")\n",
    "print(bell_circuit)"
   ]
  },
  {
   "cell_type": "code",
   "execution_count": 2,
   "metadata": {
    "colab": {
     "base_uri": "https://localhost:8080/"
    },
    "id": "vGXOSMio1toC",
    "outputId": "ef26c7e5-1fe9-4cf5-89aa-02fb9b83256c"
   },
   "outputs": [
    {
     "name": "stdout",
     "output_type": "stream",
     "text": [
      "\n",
      "Measurement Results:\n",
      "{'00': 4888, '11': 5112}\n"
     ]
    }
   ],
   "source": [
    "# Number of shots\n",
    "num_shots = 10000\n",
    "\n",
    "# Simulate the circuit using the Aer simulator\n",
    "simulator = qiskit_aer.Aer.get_backend('qasm_simulator')\n",
    "\n",
    "# Transpile the circuit for the simulator\n",
    "transpiled_circuit = transpile(bell_circuit, simulator)\n",
    "\n",
    "# Execute the transpiled circuit on the simulator with the specified number of shots\n",
    "result = simulator.run(transpiled_circuit, shots=num_shots).result()\n",
    "\n",
    "# Get measurement counts\n",
    "counts = result.get_counts(bell_circuit)\n",
    "\n",
    "# Get and print the measurement results\n",
    "counts = result.get_counts(bell_circuit)\n",
    "print(\"\\nMeasurement Results:\")\n",
    "print(counts)"
   ]
  },
  {
   "cell_type": "code",
   "execution_count": 54,
   "metadata": {
    "colab": {
     "base_uri": "https://localhost:8080/",
     "height": 452
    },
    "id": "zjwbgUpr2G2H",
    "outputId": "4178cb42-0868-4690-9c58-6e52b1487485"
   },
   "outputs": [
    {
     "data": {
      "image/png": "[encoded data removed]",
      "text/plain": [
       "<Figure size 640x480 with 1 Axes>"
      ]
     },
     "metadata": {},
     "output_type": "display_data"
    }
   ],
   "source": [
    "# Plot the histogram using Matplotlib\n",
    "plt.bar(counts.keys(), counts.values())\n",
    "plt.title('Bell State Measurement Results')\n",
    "plt.ylabel('Counts')\n",
    "plt.show()"
   ]
  },
  {
   "cell_type": "code",
   "execution_count": 3,
   "metadata": {
    "colab": {
     "base_uri": "https://localhost:8080/"
    },
    "id": "AqAu0iUB2mg1",
    "outputId": "75607b24-7cca-47cb-8431-8e402188cc79"
   },
   "outputs": [
    {
     "name": "stderr",
     "output_type": "stream",
     "text": [
      "/var/folders/td/3yk470mj5p931p9dtkk0y6jw0000gn/T/ipykernel_88673/2276178003.py:5: DeprecationWarning: The package qiskit.providers.ibmq is being deprecated. Please see https://ibm.biz/provider_migration_guide to get instructions on how to migrate to qiskit-ibm-provider (https://github.com/Qiskit/qiskit-ibm-provider) and qiskit-ibm-runtime (https://github.com/Qiskit/qiskit-ibm-runtime).\n",
      "  IBMQ.save_account(api_token, overwrite=True)  # This stores your credentials locally\n",
      "/var/folders/td/3yk470mj5p931p9dtkk0y6jw0000gn/T/ipykernel_88673/2276178003.py:5: DeprecationWarning: The qiskit.IBMQ entrypoint and the qiskit-ibmq-provider package (accessible from 'qiskit.providers.ibmq`) are deprecated and will be removed in a future release. Instead you should use the qiskit-ibm-provider package which is accessible from 'qiskit_ibm_provider'. You can install it with 'pip install qiskit_ibm_provider'. Just replace 'qiskit.IBMQ' with 'qiskit_ibm_provider.IBMProvider'\n",
      "  IBMQ.save_account(api_token, overwrite=True)  # This stores your credentials locally\n",
      "/var/folders/td/3yk470mj5p931p9dtkk0y6jw0000gn/T/ipykernel_88673/2276178003.py:31: DeprecationWarning: Passing a Qobj to Backend.run is deprecated and will be removed in a future release. Please pass in circuits or pulse schedules instead.\n",
      "  result = backend.run(qobj).result()\n"
     ]
    },
    {
     "name": "stdout",
     "output_type": "stream",
     "text": [
      "\n",
      "Measurement Results:\n",
      "{'00': 486, '10': 30, '11': 490, '01': 18}\n"
     ]
    }
   ],
   "source": [
    "# Provide your IBM Quantum Experience API token here\n",
    "#api_token = 'your_api_token'\n",
    "api_token = '4155b71f22eb3c7c385dcceb3b445f95a6f7b517d67336eac6b6bdce842c869e3fca7a5bca1d97a2331e689d3af55083ebc25b8451a028e28901936b3c5ea527'\n",
    "# Load your IBM Quantum account\n",
    "IBMQ.save_account(api_token, overwrite=True)  # This stores your credentials locally\n",
    "IBMQ.load_account()\n",
    "\n",
    "# Get the least busy backend\n",
    "#provider = IBMQ.get_provider(hub='your_hub', group='your_group', project='your_project')\n",
    "provider = IBMQ.get_provider(hub='ibm-q', group ='open', project='main')\n",
    "#backend = provider.get_backend('your_preferred_backend')\n",
    "backend = provider.get_backend('ibm_osaka')\n",
    "\n",
    "# Create a quantum circuit with two qubits\n",
    "bell_circuit = QuantumCircuit(2, 2)\n",
    "\n",
    "# Apply Hadamard gate to the first qubit\n",
    "bell_circuit.h(0)\n",
    "\n",
    "# Apply a CNOT gate with the first qubit as the control and the second qubit as the target\n",
    "bell_circuit.cx(0, 1)\n",
    "\n",
    "# Add measurements to the circuit\n",
    "bell_circuit.measure([0, 1], [0, 1])\n",
    "\n",
    "# Transpile the circuit for the chosen backend\n",
    "transpiled_circuit = transpile(bell_circuit, backend)\n",
    "\n",
    "# Execute the transpiled circuit on the IBM Quantum computer\n",
    "qobj = assemble(transpiled_circuit, shots=1024)  # You can adjust the number of shots\n",
    "result = backend.run(qobj).result()\n",
    "\n",
    "# Get measurement counts\n",
    "counts = result.get_counts(bell_circuit)\n",
    "print(\"\\nMeasurement Results:\")\n",
    "print(counts)"
   ]
  },
  {
   "cell_type": "code",
   "execution_count": 4,
   "metadata": {
    "id": "eLUiqn4_5-Mf"
   },
   "outputs": [
    {
     "data": {
      "image/png": "[encoded data removed]",
      "text/plain": [
       "<Figure size 640x480 with 1 Axes>"
      ]
     },
     "metadata": {},
     "output_type": "display_data"
    }
   ],
   "source": [
    "# Plot the histogram using Matplotlib\n",
    "plt.bar(counts.keys(), counts.values())\n",
    "plt.title('Bell State Measurement Results')\n",
    "plt.ylabel('Counts')\n",
    "plt.show()"
   ]
  },
  {
   "cell_type": "code",
   "execution_count": null,
   "metadata": {},
   "outputs": [],
   "source": []
  }
 ],
 "metadata": {
  "colab": {
   "provenance": []
  },
  "kernelspec": {
   "display_name": "Python 3 (ipykernel)",
   "language": "python",
   "name": "python3"
  },
  "language_info": {
   "codemirror_mode": {
    "name": "ipython",
    "version": 3
   },
   "file_extension": ".py",
   "mimetype": "text/x-python",
   "name": "python",
   "nbconvert_exporter": "python",
   "pygments_lexer": "ipython3",
   "version": "3.9.10"
  }
 },
 "nbformat": 4,
 "nbformat_minor": 1
}
