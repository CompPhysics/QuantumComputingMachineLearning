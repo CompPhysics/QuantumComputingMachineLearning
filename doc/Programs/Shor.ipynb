{
 "cells": [
  {
   "cell_type": "markdown",
   "metadata": {},
   "source": [
    "# Shors's algorithm\n",
    "\n",
    "For factoring number in order $\\mathcal{O}(log(N)k)$.\n",
    "\n",
    "### Motivation\n",
    "Modern encryption is based on factoring large prime numbers, something no classical algorithm is known to be able to perform as $N \\rightarrow \\inf$. \n",
    "\n",
    "### Algorithm\n",
    "Reduces the problem of factoring numbers to order-finding problem. Achieves polynomial time with the Quantum Forier transform."
   ]
  },
  {
   "cell_type": "markdown",
   "metadata": {},
   "source": [
    "## Order-finding\n",
    "the least possible interger $r$ such that $x^r =1(mod N)$. "
   ]
  },
  {
   "cell_type": "code",
   "execution_count": 5,
   "metadata": {},
   "outputs": [],
   "source": [
    "def orderFinder(x,N,keep_track=False):\n",
    "    mod = 0\n",
    "    r = 0\n",
    "    while mod != 1:\n",
    "        r += 1\n",
    "        mod = x**(r)%N\n",
    "        if keep_track:\n",
    "            print('r =',r,':','x**r % N =',mod) \n",
    "    return r"
   ]
  },
  {
   "cell_type": "code",
   "execution_count": 7,
   "metadata": {},
   "outputs": [
    {
     "name": "stdout",
     "output_type": "stream",
     "text": [
      "r = 1 : x**r % N = 5\n",
      "r = 2 : x**r % N = 4\n",
      "r = 3 : x**r % N = 20\n",
      "r = 4 : x**r % N = 16\n",
      "r = 5 : x**r % N = 17\n",
      "r = 6 : x**r % N = 1\n"
     ]
    },
    {
     "data": {
      "text/plain": [
       "6"
      ]
     },
     "execution_count": 7,
     "metadata": {},
     "output_type": "execute_result"
    }
   ],
   "source": [
    "orderFinder(5,21,True)"
   ]
  },
  {
   "cell_type": "code",
   "execution_count": null,
   "metadata": {},
   "outputs": [],
   "source": []
  }
 ],
 "metadata": {
  "kernelspec": {
   "display_name": "Python 3",
   "language": "python",
   "name": "python3"
  },
  "language_info": {
   "codemirror_mode": {
    "name": "ipython",
    "version": 3
   },
   "file_extension": ".py",
   "mimetype": "text/x-python",
   "name": "python",
   "nbconvert_exporter": "python",
   "pygments_lexer": "ipython3",
   "version": "3.6.8"
  }
 },
 "nbformat": 4,
 "nbformat_minor": 2
}
